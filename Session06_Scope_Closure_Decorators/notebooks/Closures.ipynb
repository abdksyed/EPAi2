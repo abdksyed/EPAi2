{
  "nbformat": 4,
  "nbformat_minor": 0,
  "metadata": {
    "orig_nbformat": 2,
    "deepnote_notebook_id": "2d2fc06d-a8dd-4226-9872-4bd8f9b3631a",
    "deepnote": {},
    "deepnote_execution_queue": [],
    "colab": {
      "name": "Closures.ipynb",
      "provenance": [],
      "include_colab_link": true
    }
  },
  "cells": [
    {
      "cell_type": "markdown",
      "metadata": {
        "id": "view-in-github",
        "colab_type": "text"
      },
      "source": [
        "<a href=\"https://colab.research.google.com/github/abdksyed/EPAi2/blob/main/Session06_Scope_Closure_Decorators/notebooks/Closures.ipynb\" target=\"_parent\"><img src=\"https://colab.research.google.com/assets/colab-badge.svg\" alt=\"Open In Colab\"/></a>"
      ]
    },
    {
      "cell_type": "markdown",
      "metadata": {
        "tags": [],
        "cell_id": "00002-5c6765c7-ffc2-4843-a3e3-f521010b18f7",
        "deepnote_cell_type": "markdown",
        "id": "zvgFDzOIqQ5N"
      },
      "source": [
        "# Scopes"
      ]
    },
    {
      "cell_type": "code",
      "metadata": {
        "tags": [],
        "cell_id": "00002-393f0668-351d-4223-b4f2-809f462567c0",
        "deepnote_to_be_reexecuted": false,
        "source_hash": "c16d8ddd",
        "execution_start": 1613783467866,
        "execution_millis": 0,
        "deepnote_cell_type": "code",
        "id": "3I1Iy8KYqQ5a"
      },
      "source": [
        "a = 10"
      ],
      "execution_count": null,
      "outputs": []
    },
    {
      "cell_type": "code",
      "metadata": {
        "tags": [],
        "cell_id": "00002-6ec2b066-f4f4-478f-8b25-1a262909102a",
        "deepnote_to_be_reexecuted": false,
        "source_hash": "6803137d",
        "execution_start": 1613783478929,
        "execution_millis": 0,
        "deepnote_cell_type": "code",
        "id": "RzjWLF8eqQ5i"
      },
      "source": [
        "def my_func(n):\n",
        "    c = n ** 2\n",
        "    return c"
      ],
      "execution_count": null,
      "outputs": []
    },
    {
      "cell_type": "code",
      "metadata": {
        "tags": [],
        "cell_id": "00003-cf476546-a33c-4b32-bba7-faade8fb997f",
        "deepnote_to_be_reexecuted": false,
        "source_hash": "96ef2b69",
        "execution_start": 1613783567242,
        "execution_millis": 1,
        "deepnote_cell_type": "code",
        "id": "V4k2G11gqQ5j"
      },
      "source": [
        "def my_func(n):\n",
        "    print('global: ', a)\n",
        "    c = a ** n\n",
        "    return c"
      ],
      "execution_count": null,
      "outputs": []
    },
    {
      "cell_type": "code",
      "metadata": {
        "tags": [],
        "cell_id": "00004-8837771e-8ccc-48ea-99f8-cd55ff9ed286",
        "deepnote_to_be_reexecuted": false,
        "source_hash": "82bb942b",
        "execution_start": 1613783578077,
        "execution_millis": 4,
        "deepnote_cell_type": "code",
        "id": "xSAavNOeqQ5j",
        "outputId": "e9490325-a9ce-4ceb-db6a-678e70c4490a"
      },
      "source": [
        "my_func(2)"
      ],
      "execution_count": null,
      "outputs": [
        {
          "output_type": "stream",
          "text": [
            "global:  10\n"
          ],
          "name": "stdout"
        },
        {
          "output_type": "execute_result",
          "data": {
            "text/plain": [
              "100"
            ]
          },
          "metadata": {
            "tags": []
          },
          "execution_count": 6
        }
      ]
    },
    {
      "cell_type": "code",
      "metadata": {
        "tags": [],
        "cell_id": "00005-5da69e2f-41e4-4348-b31a-530256d52da3",
        "deepnote_to_be_reexecuted": false,
        "source_hash": "12985f76",
        "execution_millis": 6,
        "execution_start": 1613783679751,
        "deepnote_cell_type": "code",
        "id": "5BPFGmJlqQ5m",
        "outputId": "186bbda6-0a9c-460c-a344-26550a3a9daa"
      },
      "source": [
        "a = 10\n",
        "def my_func(n):\n",
        "    a = 2\n",
        "    c = a ** n\n",
        "    return c\n",
        "\n",
        "print(my_func(2)), print(a)"
      ],
      "execution_count": null,
      "outputs": [
        {
          "output_type": "stream",
          "text": [
            "4\n",
            "10\n"
          ],
          "name": "stdout"
        },
        {
          "output_type": "execute_result",
          "data": {
            "text/plain": [
              "(None, None)"
            ]
          },
          "metadata": {
            "tags": []
          },
          "execution_count": 11
        }
      ]
    },
    {
      "cell_type": "code",
      "metadata": {
        "tags": [],
        "cell_id": "00006-46413109-99fd-4b61-b6e9-2d650ff56482",
        "deepnote_to_be_reexecuted": false,
        "source_hash": "85128322",
        "execution_millis": 5,
        "execution_start": 1613783771185,
        "deepnote_cell_type": "code",
        "id": "8EAa4j1GqQ5n",
        "outputId": "fa97d422-5bb7-4f54-c299-5bae7ced6ddc"
      },
      "source": [
        "a = 10\n",
        "def my_func(n):\n",
        "    global a\n",
        "    a = 2\n",
        "    c = a ** 2\n",
        "    return c\n",
        "\n",
        "print(my_func(2)), print(a)"
      ],
      "execution_count": null,
      "outputs": [
        {
          "output_type": "stream",
          "text": [
            "4\n",
            "2\n"
          ],
          "name": "stdout"
        },
        {
          "output_type": "execute_result",
          "data": {
            "text/plain": [
              "(None, None)"
            ]
          },
          "metadata": {
            "tags": []
          },
          "execution_count": 16
        }
      ]
    },
    {
      "cell_type": "code",
      "metadata": {
        "tags": [],
        "cell_id": "00007-153e7a4f-ecea-48f8-b0ad-55e8b250a569",
        "deepnote_to_be_reexecuted": false,
        "source_hash": "b688b885",
        "execution_millis": 9,
        "execution_start": 1613783888027,
        "deepnote_cell_type": "code",
        "id": "UaSxE94EqQ5o",
        "outputId": "804bb221-84dc-486e-f18e-efbda7489b91"
      },
      "source": [
        "def my_func(n):\n",
        "    global var\n",
        "    var = 'hello world'\n",
        "    return n ** 2\n",
        "\n",
        "my_func(2)\n",
        "print(var)"
      ],
      "execution_count": null,
      "outputs": [
        {
          "output_type": "stream",
          "text": [
            "hello world\n"
          ],
          "name": "stdout"
        }
      ]
    },
    {
      "cell_type": "code",
      "metadata": {
        "tags": [],
        "cell_id": "00008-63e34bee-e293-46f7-9231-6f4fb8c394b3",
        "deepnote_to_be_reexecuted": false,
        "source_hash": "4a650bf4",
        "execution_start": 1613783954365,
        "execution_millis": 1,
        "deepnote_cell_type": "code",
        "id": "l9-Dx16uqQ5o"
      },
      "source": [
        "a = 10\n",
        "b = 100"
      ],
      "execution_count": null,
      "outputs": []
    },
    {
      "cell_type": "code",
      "metadata": {
        "tags": [],
        "cell_id": "00009-0f927ca0-e4c5-4c74-9dbb-baf5e79c4fce",
        "deepnote_to_be_reexecuted": false,
        "source_hash": "91b9c79",
        "execution_start": 1613783965584,
        "execution_millis": 2,
        "deepnote_cell_type": "code",
        "id": "___r6wK3qQ5r"
      },
      "source": [
        "def my_func():\n",
        "    print(a)\n",
        "    print(b)"
      ],
      "execution_count": null,
      "outputs": []
    },
    {
      "cell_type": "code",
      "metadata": {
        "tags": [],
        "cell_id": "00010-f9a125d4-b41e-4ccc-824c-75b40435a6ab",
        "deepnote_to_be_reexecuted": false,
        "source_hash": "416ffdb4",
        "execution_start": 1613783970149,
        "execution_millis": 11,
        "deepnote_cell_type": "code",
        "id": "7sMYI_x5qQ5r",
        "outputId": "82f5b80f-df54-4c9b-a0fb-fd6c8229667b"
      },
      "source": [
        "my_func()"
      ],
      "execution_count": null,
      "outputs": [
        {
          "output_type": "stream",
          "text": [
            "10\n",
            "100\n"
          ],
          "name": "stdout"
        }
      ]
    },
    {
      "cell_type": "code",
      "metadata": {
        "tags": [],
        "cell_id": "00011-01eb1f05-9435-4789-bbb8-6bd1b4baacf9",
        "deepnote_to_be_reexecuted": false,
        "source_hash": "b9bb250c",
        "execution_millis": 1,
        "execution_start": 1613784056688,
        "deepnote_cell_type": "code",
        "id": "y8i4rey1qQ5s"
      },
      "source": [
        "a = 10\n",
        "b = 100\n",
        "def my_func():\n",
        "    print(a)\n",
        "    print(b)\n",
        "    b = 1000"
      ],
      "execution_count": null,
      "outputs": []
    },
    {
      "cell_type": "code",
      "metadata": {
        "tags": [],
        "cell_id": "00012-564f73f0-ef0f-472a-bac7-ff6de7dcd0ae",
        "deepnote_to_be_reexecuted": false,
        "source_hash": "416ffdb4",
        "execution_millis": 5,
        "execution_start": 1613784057730,
        "deepnote_cell_type": "code",
        "id": "qwQq0ZZGqQ5t",
        "outputId": "5dac372a-0474-4d08-96e7-5978b96b2cb5"
      },
      "source": [
        "my_func()"
      ],
      "execution_count": null,
      "outputs": [
        {
          "output_type": "stream",
          "text": [
            "10\n",
            "100\n"
          ],
          "name": "stdout"
        }
      ]
    },
    {
      "cell_type": "code",
      "metadata": {
        "tags": [],
        "cell_id": "00013-d4ffc0f8-9783-48b7-9433-34b68da5866c",
        "deepnote_to_be_reexecuted": false,
        "source_hash": "6bf19643",
        "execution_millis": 5,
        "execution_start": 1613784134821,
        "deepnote_cell_type": "code",
        "id": "L9Ok-1TdqQ5u",
        "outputId": "82e8ca3a-c32c-4be9-da62-e79974c04cce"
      },
      "source": [
        "print = lambda x: 'hello {0}!'.format(x)\n",
        "\n",
        "def my_func(name):\n",
        "    return print(name)\n",
        "\n",
        "my_func('world')"
      ],
      "execution_count": null,
      "outputs": [
        {
          "output_type": "execute_result",
          "data": {
            "text/plain": [
              "'hello world!'"
            ]
          },
          "metadata": {
            "tags": []
          },
          "execution_count": 31
        }
      ]
    },
    {
      "cell_type": "code",
      "metadata": {
        "tags": [],
        "cell_id": "00014-7d47be24-427b-498f-9deb-154a35e6e3f7",
        "deepnote_to_be_reexecuted": false,
        "source_hash": "8ca53c58",
        "execution_start": 1613784150228,
        "execution_millis": 5,
        "deepnote_cell_type": "code",
        "id": "hd4RJztPqQ5v",
        "outputId": "8ebbc17d-bc2e-48b4-dcb7-efb87db38b4c"
      },
      "source": [
        "print('red')"
      ],
      "execution_count": null,
      "outputs": [
        {
          "output_type": "execute_result",
          "data": {
            "text/plain": [
              "'hello red!'"
            ]
          },
          "metadata": {
            "tags": []
          },
          "execution_count": 32
        }
      ]
    },
    {
      "cell_type": "code",
      "metadata": {
        "tags": [],
        "cell_id": "00015-4f089dff-f233-4401-b44c-d3ee96dbcc32",
        "deepnote_to_be_reexecuted": false,
        "source_hash": "c9efce7f",
        "execution_start": 1613784178981,
        "execution_millis": 0,
        "deepnote_cell_type": "code",
        "id": "0zuJYLARqQ5w"
      },
      "source": [
        "del print"
      ],
      "execution_count": null,
      "outputs": []
    },
    {
      "cell_type": "code",
      "metadata": {
        "tags": [],
        "cell_id": "00016-47de9401-5390-40c6-a84c-4aeb75165202",
        "deepnote_to_be_reexecuted": false,
        "source_hash": "8ca53c58",
        "execution_start": 1613784186440,
        "execution_millis": 7,
        "deepnote_cell_type": "code",
        "id": "O4amgdUWqQ5w",
        "outputId": "257fab94-4eca-4157-8421-a4bf7d7938e2"
      },
      "source": [
        "print('red')"
      ],
      "execution_count": null,
      "outputs": [
        {
          "output_type": "stream",
          "text": [
            "red\n"
          ],
          "name": "stdout"
        }
      ]
    },
    {
      "cell_type": "code",
      "metadata": {
        "tags": [],
        "cell_id": "00017-20acb057-308c-47c7-ac51-6ff1bdcaa6a4",
        "deepnote_to_be_reexecuted": false,
        "source_hash": "73e7a97f",
        "execution_start": 1613784248793,
        "execution_millis": 7,
        "deepnote_cell_type": "code",
        "id": "l1J8bjJkqQ5x",
        "outputId": "13db1af6-4739-4316-e4db-6e3744ed9b58"
      },
      "source": [
        "# for (int i = 0; i < 100 ; i++)\n",
        "# {\n",
        "    # int x;\n",
        "    # x = 2 * i;\n",
        "# }\n",
        "# cout<< x; \n",
        "\n",
        "for i in range(10):\n",
        "    x = 2 * i\n",
        "\n",
        "print(x)"
      ],
      "execution_count": null,
      "outputs": [
        {
          "output_type": "stream",
          "text": [
            "18\n"
          ],
          "name": "stdout"
        }
      ]
    },
    {
      "cell_type": "markdown",
      "metadata": {
        "tags": [],
        "cell_id": "00018-3abed3e4-7bff-4a09-ac0f-27518ec12810",
        "deepnote_cell_type": "markdown",
        "id": "ZAIMfA-qqQ5x"
      },
      "source": [
        "# Nonlocal Scope"
      ]
    },
    {
      "cell_type": "code",
      "metadata": {
        "tags": [],
        "cell_id": "00018-d8bd66c8-de0b-4e53-b94e-10bf36c04154",
        "deepnote_to_be_reexecuted": false,
        "source_hash": "47d1770f",
        "execution_start": 1613784446691,
        "execution_millis": 0,
        "deepnote_cell_type": "code",
        "id": "kIGv9_QxqQ5x"
      },
      "source": [
        "def out_func():\n",
        "    x = 'hello'\n",
        "    def inner_func():\n",
        "        print(x)\n",
        "    inner_func()"
      ],
      "execution_count": null,
      "outputs": []
    },
    {
      "cell_type": "code",
      "metadata": {
        "tags": [],
        "cell_id": "00020-445e767c-bd79-461b-9d38-8a90826975ab",
        "deepnote_to_be_reexecuted": false,
        "source_hash": "f6bcc52",
        "execution_start": 1613784449226,
        "execution_millis": 8,
        "deepnote_cell_type": "code",
        "id": "3KiV0323qQ5y",
        "outputId": "f268d25c-7fc5-4a01-846e-b330c5191f34"
      },
      "source": [
        "out_func()"
      ],
      "execution_count": null,
      "outputs": [
        {
          "output_type": "stream",
          "text": [
            "hello\n"
          ],
          "name": "stdout"
        }
      ]
    },
    {
      "cell_type": "code",
      "metadata": {
        "tags": [],
        "cell_id": "00021-f90ea04c-30b3-4c3e-9d8d-3053cda46b35",
        "deepnote_to_be_reexecuted": false,
        "source_hash": "80ac1866",
        "execution_millis": 6,
        "execution_start": 1613784549062,
        "deepnote_cell_type": "code",
        "id": "Tvc2OrIHqQ5y",
        "outputId": "f45560e6-c60a-43a0-99b3-b8cbca3cd1a4"
      },
      "source": [
        "def out_func():\n",
        "    x = 'hello'\n",
        "    def inner1():\n",
        "        def inner2():\n",
        "            print(x)\n",
        "        inner2()\n",
        "    inner1()\n",
        "\n",
        "out_func()"
      ],
      "execution_count": null,
      "outputs": [
        {
          "output_type": "stream",
          "text": [
            "hello\n"
          ],
          "name": "stdout"
        }
      ]
    },
    {
      "cell_type": "code",
      "metadata": {
        "tags": [],
        "cell_id": "00022-09bf86ae-fa1e-4fa8-891f-f50be8cec037",
        "deepnote_to_be_reexecuted": false,
        "source_hash": "6ad835b4",
        "execution_millis": 6,
        "execution_start": 1613784811728,
        "deepnote_cell_type": "code",
        "id": "6r5eq-2cqQ5y",
        "outputId": "ebf372a9-58d4-42a5-a3d0-e97398f444f7"
      },
      "source": [
        "x = 100\n",
        "def out_func():\n",
        "    x = 'hello'\n",
        "    def inner_func():\n",
        "        nonlocal x\n",
        "        x = 'python'\n",
        "    inner_func()\n",
        "    print(x)\n",
        "\n",
        "out_func()\n",
        "print(x)"
      ],
      "execution_count": null,
      "outputs": [
        {
          "output_type": "stream",
          "text": [
            "python\n",
            "100\n"
          ],
          "name": "stdout"
        }
      ]
    },
    {
      "cell_type": "code",
      "metadata": {
        "tags": [],
        "cell_id": "00023-28bbe865-c5ee-434b-8bfb-a2b12f2fd2f1",
        "deepnote_to_be_reexecuted": false,
        "source_hash": "df8fa97f",
        "execution_start": 1613784673996,
        "execution_millis": 8,
        "deepnote_cell_type": "code",
        "id": "NvuKCW0AqQ5z",
        "outputId": "b1153d47-705c-4061-f0ec-c295a4931477"
      },
      "source": [
        "a = 10\n",
        "def func():\n",
        "    a = 100\n",
        "    print(a)\n",
        "print(a)\n",
        "\n",
        "func()"
      ],
      "execution_count": null,
      "outputs": [
        {
          "output_type": "stream",
          "text": [
            "10\n",
            "100\n"
          ],
          "name": "stdout"
        }
      ]
    },
    {
      "cell_type": "code",
      "metadata": {
        "tags": [],
        "cell_id": "00024-df16ba8e-15c9-4ab4-9a60-1161ed069709",
        "deepnote_to_be_reexecuted": false,
        "source_hash": "cb0a419e",
        "execution_start": 1613784861057,
        "execution_millis": 8,
        "deepnote_cell_type": "code",
        "id": "YrWclURVqQ5z",
        "outputId": "147df11e-1a13-4566-b0db-0c2ced807bef"
      },
      "source": [
        "def outer():\n",
        "    x = 'hello'\n",
        "    \n",
        "    def inner1():\n",
        "        def inner2():\n",
        "            nonlocal x\n",
        "            x = 'python'\n",
        "        inner2()\n",
        "    inner1()\n",
        "    print(x)\n",
        "\n",
        "outer()"
      ],
      "execution_count": null,
      "outputs": [
        {
          "output_type": "stream",
          "text": [
            "python\n"
          ],
          "name": "stdout"
        }
      ]
    },
    {
      "cell_type": "code",
      "metadata": {
        "tags": [],
        "cell_id": "00025-22fcc9f6-cbf6-4488-bc09-40911d285e44",
        "deepnote_to_be_reexecuted": false,
        "source_hash": "4212df3a",
        "execution_start": 1613784933581,
        "execution_millis": 5,
        "deepnote_cell_type": "code",
        "id": "D5N7EMjiqQ50",
        "outputId": "1a461a05-9bae-4317-f6e6-1922efbff7a2"
      },
      "source": [
        "def outer():\n",
        "    x = 'hello'\n",
        "    def inner1():\n",
        "        x = 'python'\n",
        "        def inner2():\n",
        "            nonlocal x\n",
        "            x = 'monty'\n",
        "        print('inner1 (before):', x)\n",
        "        inner2()\n",
        "        print('inner1 (after):', x)\n",
        "    inner1()\n",
        "    print('outer:', x)\n",
        "\n",
        "outer()"
      ],
      "execution_count": null,
      "outputs": [
        {
          "output_type": "stream",
          "text": [
            "inner1 (before): python\n",
            "inner1 (after): monty\n",
            "outer: hello\n"
          ],
          "name": "stdout"
        }
      ]
    },
    {
      "cell_type": "code",
      "metadata": {
        "tags": [],
        "cell_id": "00026-d7f25e77-7a26-46d8-9524-8974ca5f1e9f",
        "deepnote_to_be_reexecuted": false,
        "source_hash": "9d57f094",
        "execution_start": 1613785057977,
        "execution_millis": 6,
        "deepnote_cell_type": "code",
        "id": "arflM2MUqQ50",
        "outputId": "104940ff-f61b-4255-efac-975f251a03c4"
      },
      "source": [
        "def outer():\n",
        "    x = 'hello'\n",
        "    def inner1():\n",
        "        nonlocal x\n",
        "        x = 'python'\n",
        "        def inner2():\n",
        "            nonlocal x\n",
        "            x = 'monty'\n",
        "        print('inner1 (before):', x)\n",
        "        inner2()\n",
        "        print('inner1 (after):', x)\n",
        "    inner1()\n",
        "    print('outer:', x)\n",
        "\n",
        "outer()"
      ],
      "execution_count": null,
      "outputs": [
        {
          "output_type": "stream",
          "text": [
            "inner1 (before): python\n",
            "inner1 (after): monty\n",
            "outer: monty\n"
          ],
          "name": "stdout"
        }
      ]
    },
    {
      "cell_type": "code",
      "metadata": {
        "tags": [],
        "cell_id": "00027-d0b5852b-ad87-45fe-8396-0180708cdd08",
        "deepnote_to_be_reexecuted": false,
        "source_hash": "d82a947c",
        "execution_millis": 13,
        "execution_start": 1613785247545,
        "deepnote_cell_type": "code",
        "id": "gs5gB-_8qQ50",
        "outputId": "acc75f18-a871-4c72-d5b3-b256dd144b45"
      },
      "source": [
        "x = 100\n",
        "def outer():\n",
        "    x = 'python'  # masks global x\n",
        "    def inner1():\n",
        "        nonlocal x  # refers to x in outer\n",
        "        x = 'monty' # changed x in outer scope\n",
        "        def inner2():\n",
        "            global x  # refers to x in global scope\n",
        "            x = 'hello'\n",
        "            print('inner1 (before):', x)\n",
        "        inner2()\n",
        "        print('inner1 (after):', x)\n",
        "    inner1()\n",
        "    print('outer', x)   \n",
        "\n",
        "outer() \n",
        "print(x)"
      ],
      "execution_count": null,
      "outputs": [
        {
          "output_type": "stream",
          "text": [
            "inner1 (before): hello\n",
            "inner1 (after): monty\n",
            "outer monty\n",
            "hello\n"
          ],
          "name": "stdout"
        }
      ]
    },
    {
      "cell_type": "markdown",
      "metadata": {
        "tags": [],
        "cell_id": "00028-51e53538-7231-4e93-9ddf-cbade0d99b66",
        "deepnote_cell_type": "markdown",
        "id": "BtZ0-7aHqQ51"
      },
      "source": [
        "# Closures"
      ]
    },
    {
      "cell_type": "code",
      "metadata": {
        "tags": [],
        "cell_id": "00028-f80c9a96-6074-4f2a-a40e-97e50375f404",
        "deepnote_to_be_reexecuted": false,
        "source_hash": "2addec38",
        "execution_start": 1613785396309,
        "execution_millis": 0,
        "deepnote_cell_type": "code",
        "id": "KjIK3KRBqQ51"
      },
      "source": [
        "def outer():\n",
        "    x = 'python'\n",
        "    def inner():\n",
        "        print(x)\n",
        "    return inner\n",
        "\n",
        "fn = outer()"
      ],
      "execution_count": null,
      "outputs": []
    },
    {
      "cell_type": "code",
      "metadata": {
        "tags": [],
        "cell_id": "00030-4ca66d02-9d22-4f43-863e-18f85a3c9741",
        "deepnote_to_be_reexecuted": false,
        "source_hash": "f1c5e27a",
        "execution_start": 1613785442257,
        "execution_millis": 7,
        "deepnote_cell_type": "code",
        "id": "F8Oq4boGqQ51",
        "outputId": "07448fb6-ae1a-4a08-b1cb-952ef3264e84"
      },
      "source": [
        "fn.__code__.co_freevars"
      ],
      "execution_count": null,
      "outputs": [
        {
          "output_type": "execute_result",
          "data": {
            "text/plain": [
              "('x',)"
            ]
          },
          "metadata": {
            "tags": []
          },
          "execution_count": 55
        }
      ]
    },
    {
      "cell_type": "code",
      "metadata": {
        "tags": [],
        "cell_id": "00031-02586fc3-7430-4bfd-9c0a-6245526c0810",
        "deepnote_to_be_reexecuted": false,
        "source_hash": "26d91c0b",
        "execution_start": 1613785464541,
        "execution_millis": 7,
        "deepnote_cell_type": "code",
        "id": "ek2pGMvjqQ52",
        "outputId": "f2aa788e-a4eb-4c6b-a058-ef9844edbbfb"
      },
      "source": [
        "fn.__closure__"
      ],
      "execution_count": null,
      "outputs": [
        {
          "output_type": "execute_result",
          "data": {
            "text/plain": [
              "(<cell at 0x7fb39ed79090: str object at 0x7fb3e19a23f0>,)"
            ]
          },
          "metadata": {
            "tags": []
          },
          "execution_count": 56
        }
      ]
    },
    {
      "cell_type": "code",
      "metadata": {
        "tags": [],
        "cell_id": "00032-76a327a1-3d8e-48a9-a252-aa5dfd923df5",
        "deepnote_to_be_reexecuted": false,
        "source_hash": "e04455ba",
        "execution_start": 1613785540601,
        "execution_millis": 30,
        "deepnote_cell_type": "code",
        "id": "7DatnDH0qQ52",
        "outputId": "d848c8c4-cc33-4247-9736-a0bda9ae06ac"
      },
      "source": [
        "def outer():\n",
        "    x = [1, 2, 3]\n",
        "    print('outer:', hex(id(x)))\n",
        "    def inner():\n",
        "        print('inner:', hex(id(x)))\n",
        "        print(x)\n",
        "    return inner\n",
        "\n",
        "fn = outer()"
      ],
      "execution_count": null,
      "outputs": [
        {
          "output_type": "stream",
          "text": [
            "outer: 0x7fb39e95caf0\n"
          ],
          "name": "stdout"
        }
      ]
    },
    {
      "cell_type": "code",
      "metadata": {
        "tags": [],
        "cell_id": "00033-6d49c2cc-082b-4f07-afb8-b273fe398146",
        "deepnote_to_be_reexecuted": false,
        "source_hash": "26d91c0b",
        "execution_start": 1613785553111,
        "execution_millis": 8,
        "deepnote_cell_type": "code",
        "id": "uenOBWt6qQ52",
        "outputId": "e7511da7-a572-4158-ca4c-6d17a46e6485"
      },
      "source": [
        "fn.__closure__"
      ],
      "execution_count": null,
      "outputs": [
        {
          "output_type": "execute_result",
          "data": {
            "text/plain": [
              "(<cell at 0x7fb39e9ae090: list object at 0x7fb39e95caf0>,)"
            ]
          },
          "metadata": {
            "tags": []
          },
          "execution_count": 58
        }
      ]
    },
    {
      "cell_type": "code",
      "metadata": {
        "tags": [],
        "cell_id": "00034-35e26c0e-59c1-4f60-9dd4-2e2d5ad8b4f9",
        "deepnote_to_be_reexecuted": false,
        "source_hash": "157e0e01",
        "execution_start": 1613785558873,
        "execution_millis": 5,
        "deepnote_cell_type": "code",
        "id": "EOI6UMngqQ53",
        "outputId": "78b51ae8-79fd-45ec-fa74-277b76a67962"
      },
      "source": [
        "fn()"
      ],
      "execution_count": null,
      "outputs": [
        {
          "output_type": "stream",
          "text": [
            "inner: 0x7fb39e95caf0\n",
            "[1, 2, 3]\n"
          ],
          "name": "stdout"
        }
      ]
    },
    {
      "cell_type": "code",
      "metadata": {
        "tags": [],
        "cell_id": "00035-7f1af106-f370-43b9-97dd-1b90f9753b05",
        "deepnote_to_be_reexecuted": false,
        "source_hash": "4523dd5c",
        "execution_start": 1613785699197,
        "execution_millis": 1,
        "deepnote_cell_type": "code",
        "id": "JTZS0Ic3qQ53"
      },
      "source": [
        "def counter():\n",
        "    count = 0 # local variable\n",
        "    def inc():\n",
        "        nonlocal count # this is the count variable\n",
        "        count += 1\n",
        "        return count\n",
        "    return inc\n",
        "\n",
        "c = counter()"
      ],
      "execution_count": null,
      "outputs": []
    },
    {
      "cell_type": "code",
      "metadata": {
        "tags": [],
        "cell_id": "00036-a3ff2ad8-928f-4626-bf94-50526d2b5411",
        "deepnote_to_be_reexecuted": false,
        "source_hash": "f604492c",
        "execution_start": 1613785703495,
        "execution_millis": 9,
        "deepnote_cell_type": "code",
        "id": "53fwqt3OqQ53",
        "outputId": "266b6706-419b-4c53-cdd7-601eb93b30d1"
      },
      "source": [
        "c()"
      ],
      "execution_count": null,
      "outputs": [
        {
          "output_type": "execute_result",
          "data": {
            "text/plain": [
              "1"
            ]
          },
          "metadata": {
            "tags": []
          },
          "execution_count": 61
        }
      ]
    },
    {
      "cell_type": "code",
      "metadata": {
        "tags": [],
        "cell_id": "00037-6e7cff7a-6657-4281-925c-477d23916739",
        "deepnote_to_be_reexecuted": false,
        "source_hash": "f604492c",
        "execution_start": 1613785707009,
        "execution_millis": 6,
        "deepnote_cell_type": "code",
        "id": "dFDS89v8qQ53",
        "outputId": "529f6213-26f9-428f-d4f5-c23a8fdb1895"
      },
      "source": [
        "c()"
      ],
      "execution_count": null,
      "outputs": [
        {
          "output_type": "execute_result",
          "data": {
            "text/plain": [
              "2"
            ]
          },
          "metadata": {
            "tags": []
          },
          "execution_count": 62
        }
      ]
    },
    {
      "cell_type": "code",
      "metadata": {
        "tags": [],
        "cell_id": "00038-c7a140bc-f26e-4289-8d26-d96f5f8805ac",
        "deepnote_to_be_reexecuted": false,
        "source_hash": "f604492c",
        "execution_start": 1613785709549,
        "execution_millis": 7,
        "deepnote_cell_type": "code",
        "id": "FsiDzEq2qQ54",
        "outputId": "62fd4c02-4b3c-4219-a351-ced04a8552fd"
      },
      "source": [
        "c()"
      ],
      "execution_count": null,
      "outputs": [
        {
          "output_type": "execute_result",
          "data": {
            "text/plain": [
              "3"
            ]
          },
          "metadata": {
            "tags": []
          },
          "execution_count": 63
        }
      ]
    },
    {
      "cell_type": "code",
      "metadata": {
        "tags": [],
        "cell_id": "00039-d5fa1315-bdd8-4b5c-822b-e1e4b4b1a4e8",
        "deepnote_to_be_reexecuted": false,
        "source_hash": "91e00692",
        "execution_millis": 19,
        "execution_start": 1613785724543,
        "deepnote_cell_type": "code",
        "id": "4H5DVwT-qQ54",
        "outputId": "26214d13-4c6f-4ca4-b2a7-8e38e376b660"
      },
      "source": [
        "for k in range(10):\n",
        "    print(c())"
      ],
      "execution_count": null,
      "outputs": [
        {
          "output_type": "stream",
          "text": [
            "14\n",
            "15\n",
            "16\n",
            "17\n",
            "18\n",
            "19\n",
            "20\n",
            "21\n",
            "22\n",
            "23\n"
          ],
          "name": "stdout"
        }
      ]
    },
    {
      "cell_type": "code",
      "metadata": {
        "tags": [],
        "cell_id": "00040-0d898934-0b94-4243-b9f6-acf195f57b44",
        "deepnote_to_be_reexecuted": false,
        "source_hash": "ff5978da",
        "execution_start": 1613785831089,
        "execution_millis": 7,
        "deepnote_cell_type": "code",
        "id": "Qzv3lyUYqQ54",
        "outputId": "3ec60cb9-a961-4fef-c022-243b0dd3e596"
      },
      "source": [
        "cc = counter()\n",
        "cc()"
      ],
      "execution_count": null,
      "outputs": [
        {
          "output_type": "execute_result",
          "data": {
            "text/plain": [
              "1"
            ]
          },
          "metadata": {
            "tags": []
          },
          "execution_count": 66
        }
      ]
    },
    {
      "cell_type": "code",
      "metadata": {
        "tags": [],
        "cell_id": "00041-afd88674-3b6d-4e5a-81b8-8f485bb747da",
        "deepnote_to_be_reexecuted": false,
        "source_hash": "f604492c",
        "execution_start": 1613785834691,
        "execution_millis": 11,
        "deepnote_cell_type": "code",
        "id": "XntVa84uqQ55",
        "outputId": "e2d9f209-afc1-4541-8022-7ac26de6be61"
      },
      "source": [
        "c()"
      ],
      "execution_count": null,
      "outputs": [
        {
          "output_type": "execute_result",
          "data": {
            "text/plain": [
              "24"
            ]
          },
          "metadata": {
            "tags": []
          },
          "execution_count": 67
        }
      ]
    },
    {
      "cell_type": "code",
      "metadata": {
        "tags": [],
        "cell_id": "00042-b2e8585d-8368-4301-879f-1cb0ce08b2c1",
        "deepnote_to_be_reexecuted": false,
        "source_hash": "f96103a",
        "execution_start": 1613785907199,
        "execution_millis": 0,
        "deepnote_cell_type": "code",
        "id": "vE9nT91cqQ55"
      },
      "source": [
        "def outer():\n",
        "    count = 0\n",
        "\n",
        "    def inc1():\n",
        "        nonlocal count\n",
        "        count += 1\n",
        "        return count\n",
        "\n",
        "    def inc2():\n",
        "        nonlocal count\n",
        "        count += 1\n",
        "        return count \n",
        "\n",
        "    return inc1, inc2\n",
        "\n",
        "fn1, fn2 = outer()"
      ],
      "execution_count": null,
      "outputs": []
    },
    {
      "cell_type": "code",
      "metadata": {
        "tags": [],
        "cell_id": "00043-ae081959-c314-496b-aaa6-037b1c05ba81",
        "deepnote_to_be_reexecuted": false,
        "source_hash": "dd435ff7",
        "execution_start": 1613785911308,
        "execution_millis": 6,
        "deepnote_cell_type": "code",
        "id": "N0YY_lwRqQ55",
        "outputId": "a155ee7c-3856-41c3-b98c-61241c9bf2dd"
      },
      "source": [
        "fn1.__closure__, fn2.__closure__"
      ],
      "execution_count": null,
      "outputs": [
        {
          "output_type": "execute_result",
          "data": {
            "text/plain": [
              "((<cell at 0x7fb39e726c10: int object at 0x7fb3e2fa1420>,),\n",
              " (<cell at 0x7fb39e726c10: int object at 0x7fb3e2fa1420>,))"
            ]
          },
          "metadata": {
            "tags": []
          },
          "execution_count": 69
        }
      ]
    },
    {
      "cell_type": "code",
      "metadata": {
        "tags": [],
        "cell_id": "00044-8fb48ef0-7a8b-41cc-94cd-f6a01b38cb71",
        "deepnote_to_be_reexecuted": false,
        "source_hash": "54e0e44a",
        "execution_start": 1613785930697,
        "execution_millis": 8,
        "deepnote_cell_type": "code",
        "id": "4JgH8EHkqQ56",
        "outputId": "06261fa7-4aac-4d16-a2b0-65412e675e93"
      },
      "source": [
        "fn1()"
      ],
      "execution_count": null,
      "outputs": [
        {
          "output_type": "execute_result",
          "data": {
            "text/plain": [
              "1"
            ]
          },
          "metadata": {
            "tags": []
          },
          "execution_count": 70
        }
      ]
    },
    {
      "cell_type": "code",
      "metadata": {
        "tags": [],
        "cell_id": "00045-f3d40d50-60e8-467f-a84a-7b0fe83b26da",
        "deepnote_to_be_reexecuted": false,
        "source_hash": "a147bf85",
        "execution_start": 1613785935143,
        "execution_millis": 6,
        "deepnote_cell_type": "code",
        "id": "5yclO5MHqQ56",
        "outputId": "b31e43f7-1ec2-447d-d4a0-722d6a1a0886"
      },
      "source": [
        "fn2()"
      ],
      "execution_count": null,
      "outputs": [
        {
          "output_type": "execute_result",
          "data": {
            "text/plain": [
              "2"
            ]
          },
          "metadata": {
            "tags": []
          },
          "execution_count": 71
        }
      ]
    },
    {
      "cell_type": "code",
      "metadata": {
        "tags": [],
        "cell_id": "00046-1da1de1d-b22f-4b1f-81b6-b1d6de7e5b33",
        "deepnote_to_be_reexecuted": false,
        "source_hash": "54e0e44a",
        "execution_start": 1613785943696,
        "execution_millis": 9,
        "deepnote_cell_type": "code",
        "id": "Oq-1SR7mqQ56",
        "outputId": "bb97c85c-7e45-4c2e-dff7-837f10977391"
      },
      "source": [
        "fn1()"
      ],
      "execution_count": null,
      "outputs": [
        {
          "output_type": "execute_result",
          "data": {
            "text/plain": [
              "3"
            ]
          },
          "metadata": {
            "tags": []
          },
          "execution_count": 72
        }
      ]
    },
    {
      "cell_type": "code",
      "metadata": {
        "tags": [],
        "cell_id": "00047-bfb1df77-9cec-4fc1-830b-e3d7415717c9",
        "deepnote_to_be_reexecuted": false,
        "source_hash": "6b26f041",
        "execution_start": 1613785992593,
        "execution_millis": 7,
        "deepnote_cell_type": "code",
        "id": "jSuODtS5qQ57",
        "outputId": "12a39854-401d-45bd-dbae-f61753631944"
      },
      "source": [
        "from time import perf_counter\n",
        "\n",
        "def func():\n",
        "    x = perf_counter()\n",
        "    print(x, id(x))\n",
        "\n",
        "func()"
      ],
      "execution_count": null,
      "outputs": [
        {
          "output_type": "stream",
          "text": [
            "124150.011938176 140409441662544\n"
          ],
          "name": "stdout"
        }
      ]
    },
    {
      "cell_type": "code",
      "metadata": {
        "tags": [],
        "cell_id": "00048-2cb39869-a41a-470d-8599-13f89f5510d3",
        "deepnote_to_be_reexecuted": false,
        "source_hash": "738485f1",
        "execution_start": 1613786006207,
        "execution_millis": 4,
        "deepnote_cell_type": "code",
        "id": "_OHoY_TQqQ57",
        "outputId": "83a7f8e0-fa25-4916-cc68-15fa71ce4c0c"
      },
      "source": [
        "func()"
      ],
      "execution_count": null,
      "outputs": [
        {
          "output_type": "stream",
          "text": [
            "124163.666191794 140409435566192\n"
          ],
          "name": "stdout"
        }
      ]
    },
    {
      "cell_type": "code",
      "metadata": {
        "tags": [],
        "cell_id": "00049-69b77b12-6a96-49d9-9d3e-3661ebbac092",
        "deepnote_to_be_reexecuted": false,
        "source_hash": "43e0cbf8",
        "execution_start": 1613786090845,
        "execution_millis": 1,
        "deepnote_cell_type": "code",
        "id": "uvUl7U-4qQ58"
      },
      "source": [
        "def pow(n):\n",
        "    # n is local to pow\n",
        "\n",
        "    def inner(x):\n",
        "        # x is local to inner\n",
        "        return x ** n\n",
        "    return inner"
      ],
      "execution_count": null,
      "outputs": []
    },
    {
      "cell_type": "code",
      "metadata": {
        "tags": [],
        "cell_id": "00050-b04ab3df-0311-4207-a262-4f399a7c2768",
        "deepnote_to_be_reexecuted": false,
        "source_hash": "bb009823",
        "execution_millis": 6,
        "execution_start": 1613786105699,
        "deepnote_cell_type": "code",
        "id": "ND6RDlXKqQ58",
        "outputId": "e1925a31-9f5a-4ae6-d64c-2e4739f6b85b"
      },
      "source": [
        "square = pow(2)\n",
        "square(5)"
      ],
      "execution_count": null,
      "outputs": [
        {
          "output_type": "execute_result",
          "data": {
            "text/plain": [
              "25"
            ]
          },
          "metadata": {
            "tags": []
          },
          "execution_count": 77
        }
      ]
    },
    {
      "cell_type": "code",
      "metadata": {
        "tags": [],
        "cell_id": "00051-70787c62-c543-4f6e-b96f-87838afd87bc",
        "deepnote_to_be_reexecuted": false,
        "source_hash": "637b1dd9",
        "execution_start": 1613786116445,
        "execution_millis": 7,
        "deepnote_cell_type": "code",
        "id": "MbkHq8_cqQ59",
        "outputId": "941bf7da-97e6-4a6a-dd41-0e68e2db1d3b"
      },
      "source": [
        "cube = pow(3)\n",
        "cube(5)"
      ],
      "execution_count": null,
      "outputs": [
        {
          "output_type": "execute_result",
          "data": {
            "text/plain": [
              "125"
            ]
          },
          "metadata": {
            "tags": []
          },
          "execution_count": 78
        }
      ]
    },
    {
      "cell_type": "code",
      "metadata": {
        "tags": [],
        "cell_id": "00052-d12139d9-4734-402a-9bc4-e328b66d5a94",
        "deepnote_to_be_reexecuted": false,
        "source_hash": "6877ef06",
        "execution_start": 1613786145665,
        "execution_millis": 5,
        "deepnote_cell_type": "code",
        "id": "7jndFRkGqQ5-",
        "outputId": "9cf1e349-e6c2-4202-81d1-74e1c12910b3"
      },
      "source": [
        "square.__closure__"
      ],
      "execution_count": null,
      "outputs": [
        {
          "output_type": "execute_result",
          "data": {
            "text/plain": [
              "(<cell at 0x7fb39e869bd0: int object at 0x7fb3e2fa1460>,)"
            ]
          },
          "metadata": {
            "tags": []
          },
          "execution_count": 79
        }
      ]
    },
    {
      "cell_type": "code",
      "metadata": {
        "tags": [],
        "cell_id": "00053-2b5ba46d-d54a-46a0-b447-abf955bf591b",
        "deepnote_to_be_reexecuted": false,
        "source_hash": "eef55b21",
        "execution_start": 1613786152812,
        "execution_millis": 6,
        "deepnote_cell_type": "code",
        "id": "3Cq24fQjqQ5-",
        "outputId": "9d63679d-28ab-4e62-eb79-cc09f587277b"
      },
      "source": [
        "cube.__closure__"
      ],
      "execution_count": null,
      "outputs": [
        {
          "output_type": "execute_result",
          "data": {
            "text/plain": [
              "(<cell at 0x7fb39ed7dad0: int object at 0x7fb3e2fa1480>,)"
            ]
          },
          "metadata": {
            "tags": []
          },
          "execution_count": 80
        }
      ]
    },
    {
      "cell_type": "code",
      "metadata": {
        "tags": [],
        "cell_id": "00054-7d7e3f47-414d-4309-bb50-47b18d68d239",
        "deepnote_to_be_reexecuted": false,
        "source_hash": "900dc6b9",
        "execution_millis": 8,
        "execution_start": 1613786180806,
        "deepnote_cell_type": "code",
        "id": "F3M30dANqQ5_",
        "outputId": "ca22345f-ceb6-4a89-84cb-0fe0c198048e"
      },
      "source": [
        "id(square), id(cube)"
      ],
      "execution_count": null,
      "outputs": [
        {
          "output_type": "execute_result",
          "data": {
            "text/plain": [
              "(140409440776848, 140409440777136)"
            ]
          },
          "metadata": {
            "tags": []
          },
          "execution_count": 82
        }
      ]
    },
    {
      "cell_type": "code",
      "metadata": {
        "tags": [],
        "cell_id": "00055-e828d2ba-9d3b-4415-9551-eac593325754",
        "deepnote_to_be_reexecuted": false,
        "source_hash": "c2bbf66",
        "execution_millis": 0,
        "execution_start": 1613786325255,
        "deepnote_cell_type": "code",
        "id": "RNfRA39uqQ6A"
      },
      "source": [
        "def outer():\n",
        "    x = 0\n",
        "    def inner():\n",
        "        y = 10\n",
        "        return y / x\n",
        "    return inner\n",
        "    \n",
        "fn = outer()"
      ],
      "execution_count": null,
      "outputs": []
    },
    {
      "cell_type": "code",
      "metadata": {
        "tags": [],
        "cell_id": "00056-56e319e8-c751-49ea-b1dd-e078421831ca",
        "deepnote_to_be_reexecuted": false,
        "source_hash": "26d91c0b",
        "execution_start": 1613786341272,
        "execution_millis": 7,
        "deepnote_cell_type": "code",
        "id": "28AaRlmdqQ6A",
        "outputId": "ad932440-448f-4a96-8196-ad5008888d10"
      },
      "source": [
        "fn.__closure__"
      ],
      "execution_count": null,
      "outputs": [
        {
          "output_type": "execute_result",
          "data": {
            "text/plain": [
              "(<cell at 0x7fb39efcc690: int object at 0x7fb3e2fa1420>,)"
            ]
          },
          "metadata": {
            "tags": []
          },
          "execution_count": 85
        }
      ]
    },
    {
      "cell_type": "code",
      "metadata": {
        "tags": [],
        "cell_id": "00057-7c78c2e3-c860-4327-b8da-b5afc3833937",
        "deepnote_to_be_reexecuted": false,
        "source_hash": "157e0e01",
        "execution_start": 1613786346355,
        "execution_millis": 57,
        "deepnote_cell_type": "code",
        "id": "sP3qcA8oqQ6B",
        "outputId": "c68d5fa9-b48e-4778-efb2-9fa64475c827"
      },
      "source": [
        "fn()"
      ],
      "execution_count": null,
      "outputs": [
        {
          "output_type": "error",
          "ename": "ZeroDivisionError",
          "evalue": "division by zero",
          "traceback": [
            "\u001b[0;31m---------------------------------------------------------------------------\u001b[0m",
            "\u001b[0;31mZeroDivisionError\u001b[0m                         Traceback (most recent call last)",
            "\u001b[0;32m<ipython-input-86-e1d0f67027b9>\u001b[0m in \u001b[0;36m<module>\u001b[0;34m\u001b[0m\n\u001b[0;32m----> 1\u001b[0;31m \u001b[0mfn\u001b[0m\u001b[0;34m(\u001b[0m\u001b[0;34m)\u001b[0m\u001b[0;34m\u001b[0m\u001b[0;34m\u001b[0m\u001b[0m\n\u001b[0m",
            "\u001b[0;32m<ipython-input-84-745d1c51704b>\u001b[0m in \u001b[0;36minner\u001b[0;34m()\u001b[0m\n\u001b[1;32m      3\u001b[0m     \u001b[0;32mdef\u001b[0m \u001b[0minner\u001b[0m\u001b[0;34m(\u001b[0m\u001b[0;34m)\u001b[0m\u001b[0;34m:\u001b[0m\u001b[0;34m\u001b[0m\u001b[0;34m\u001b[0m\u001b[0m\n\u001b[1;32m      4\u001b[0m         \u001b[0my\u001b[0m \u001b[0;34m=\u001b[0m \u001b[0;36m10\u001b[0m\u001b[0;34m\u001b[0m\u001b[0;34m\u001b[0m\u001b[0m\n\u001b[0;32m----> 5\u001b[0;31m         \u001b[0;32mreturn\u001b[0m \u001b[0my\u001b[0m \u001b[0;34m/\u001b[0m \u001b[0mx\u001b[0m\u001b[0;34m\u001b[0m\u001b[0;34m\u001b[0m\u001b[0m\n\u001b[0m\u001b[1;32m      6\u001b[0m     \u001b[0;32mreturn\u001b[0m \u001b[0minner\u001b[0m\u001b[0;34m\u001b[0m\u001b[0;34m\u001b[0m\u001b[0m\n\u001b[1;32m      7\u001b[0m \u001b[0;34m\u001b[0m\u001b[0m\n",
            "\u001b[0;31mZeroDivisionError\u001b[0m: division by zero"
          ]
        }
      ]
    },
    {
      "cell_type": "code",
      "metadata": {
        "tags": [],
        "cell_id": "00058-5d1b0d0e-8637-4a16-a8ba-a0f75da72d8a",
        "deepnote_to_be_reexecuted": false,
        "source_hash": "4b22ad00",
        "execution_start": 1613786391787,
        "execution_millis": 2,
        "deepnote_cell_type": "code",
        "id": "UvQOZKPgqQ6C"
      },
      "source": [
        "def adder(n):\n",
        "    def inner(x):\n",
        "        return x + n\n",
        "    return inner\n",
        "\n"
      ],
      "execution_count": null,
      "outputs": []
    },
    {
      "cell_type": "code",
      "metadata": {
        "tags": [],
        "cell_id": "00059-f6ceb392-5d95-49f0-aa77-7f018c1665c2",
        "deepnote_to_be_reexecuted": false,
        "source_hash": "141871bc",
        "execution_start": 1613786397308,
        "execution_millis": 0,
        "deepnote_cell_type": "code",
        "id": "0C8jY4SnqQ6C"
      },
      "source": [
        "add_1 = adder(1)\n",
        "add_2 = adder(2)\n",
        "add_3 = adder(3)\n",
        "add_4 = adder(4)"
      ],
      "execution_count": null,
      "outputs": []
    },
    {
      "cell_type": "code",
      "metadata": {
        "tags": [],
        "cell_id": "00060-d21b2f91-d14d-408a-ae0f-266c3648e614",
        "deepnote_to_be_reexecuted": false,
        "source_hash": "40b56fd1",
        "execution_start": 1613786426513,
        "execution_millis": 6,
        "deepnote_cell_type": "code",
        "id": "B0KaEwflqQ6C",
        "outputId": "88a4aa3d-dbd2-42a2-9c2e-ab225e1b9a00"
      },
      "source": [
        "add_1(10), add_2(10), add_3(10), add_4(10)"
      ],
      "execution_count": null,
      "outputs": [
        {
          "output_type": "execute_result",
          "data": {
            "text/plain": [
              "(11, 12, 13, 14)"
            ]
          },
          "metadata": {
            "tags": []
          },
          "execution_count": 89
        }
      ]
    },
    {
      "cell_type": "code",
      "metadata": {
        "tags": [],
        "cell_id": "00061-d12028c0-ee96-4b36-b7fd-8939087b2772",
        "deepnote_to_be_reexecuted": false,
        "source_hash": "8f6293c9",
        "execution_start": 1613786473899,
        "execution_millis": 9,
        "deepnote_cell_type": "code",
        "id": "arxFweY3qQ6C",
        "outputId": "2086512b-ea4f-4abf-93ce-c5ff020bae2b"
      },
      "source": [
        "def create_adders():\n",
        "    adders = []\n",
        "    for n in range(1, 5):\n",
        "        adders.append(lambda x: x + n)\n",
        "    return adders\n",
        "\n",
        "adders = create_adders()\n",
        "\n",
        "adders"
      ],
      "execution_count": null,
      "outputs": [
        {
          "output_type": "execute_result",
          "data": {
            "text/plain": [
              "[<function __main__.create_adders.<locals>.<lambda>(x)>,\n",
              " <function __main__.create_adders.<locals>.<lambda>(x)>,\n",
              " <function __main__.create_adders.<locals>.<lambda>(x)>,\n",
              " <function __main__.create_adders.<locals>.<lambda>(x)>]"
            ]
          },
          "metadata": {
            "tags": []
          },
          "execution_count": 90
        }
      ]
    },
    {
      "cell_type": "code",
      "metadata": {
        "tags": [],
        "cell_id": "00062-ace0c458-f047-41cc-87b4-036e37a2cc6f",
        "deepnote_to_be_reexecuted": false,
        "source_hash": "c639570b",
        "execution_start": 1613786480890,
        "execution_millis": 8,
        "deepnote_cell_type": "code",
        "id": "kYcffewOqQ6D",
        "outputId": "d1eef03f-b5e8-471d-c8d4-05f2d796b497"
      },
      "source": [
        "adders[3](10)"
      ],
      "execution_count": null,
      "outputs": [
        {
          "output_type": "execute_result",
          "data": {
            "text/plain": [
              "14"
            ]
          },
          "metadata": {
            "tags": []
          },
          "execution_count": 91
        }
      ]
    },
    {
      "cell_type": "code",
      "metadata": {
        "tags": [],
        "cell_id": "00063-35792c82-91f5-4e86-afa6-9d63bddb61f7",
        "deepnote_to_be_reexecuted": false,
        "source_hash": "1ab0a92f",
        "execution_millis": 10,
        "execution_start": 1613786589043,
        "deepnote_cell_type": "code",
        "id": "klJv7lf1qQ6D",
        "outputId": "3be191f6-103b-4664-b69d-613ef584b935"
      },
      "source": [
        "adders[0](10), adders[1](10), adders[2](10),adders[3](10)"
      ],
      "execution_count": null,
      "outputs": [
        {
          "output_type": "execute_result",
          "data": {
            "text/plain": [
              "(14, 14, 14, 14)"
            ]
          },
          "metadata": {
            "tags": []
          },
          "execution_count": 93
        }
      ]
    },
    {
      "cell_type": "code",
      "metadata": {
        "tags": [],
        "cell_id": "00064-2ab5f6b7-f3f2-4f60-b2a9-6116b49f0d73",
        "deepnote_to_be_reexecuted": false,
        "source_hash": "c4840b13",
        "execution_start": 1613786701809,
        "execution_millis": 12,
        "deepnote_cell_type": "code",
        "id": "0r68yQAKqQ6D",
        "outputId": "f5046195-3324-4ced-8d0a-fbc3ae14509b"
      },
      "source": [
        "adders[0].__closure__"
      ],
      "execution_count": null,
      "outputs": [
        {
          "output_type": "execute_result",
          "data": {
            "text/plain": [
              "(<cell at 0x7fb39e862150: int object at 0x7fb3e2fa14a0>,)"
            ]
          },
          "metadata": {
            "tags": []
          },
          "execution_count": 94
        }
      ]
    },
    {
      "cell_type": "code",
      "metadata": {
        "tags": [],
        "cell_id": "00065-26c3f3f7-60b8-4cd9-a5a9-372963206e02",
        "deepnote_to_be_reexecuted": false,
        "source_hash": "c4ddd0e6",
        "execution_start": 1613786707908,
        "execution_millis": 8,
        "deepnote_cell_type": "code",
        "id": "iDsWGdAKqQ6E",
        "outputId": "d570a26e-353a-4c89-fb03-90253b24e7ed"
      },
      "source": [
        "adders[1].__closure__"
      ],
      "execution_count": null,
      "outputs": [
        {
          "output_type": "execute_result",
          "data": {
            "text/plain": [
              "(<cell at 0x7fb39e862150: int object at 0x7fb3e2fa14a0>,)"
            ]
          },
          "metadata": {
            "tags": []
          },
          "execution_count": 95
        }
      ]
    },
    {
      "cell_type": "code",
      "metadata": {
        "tags": [],
        "cell_id": "00066-0f26b366-8eb8-4ce9-83cc-18f369a9d0cd",
        "deepnote_to_be_reexecuted": false,
        "source_hash": "5a7bbca1",
        "execution_start": 1613787604322,
        "execution_millis": 11,
        "deepnote_cell_type": "code",
        "id": "iFAkmyUCqQ6E",
        "outputId": "d1c2f25d-254d-4313-cc32-85d9c458ff9c"
      },
      "source": [
        "def incrementer(n):\n",
        "    def inner(start):\n",
        "        current = start\n",
        "        def inc():\n",
        "            a = 10\n",
        "            nonlocal current\n",
        "            current += n\n",
        "            return current\n",
        "        return inc \n",
        "    return inner\n",
        "\n",
        "fn = incrementer(2)\n",
        "fn, fn.__code__.co_freevars, fn.__closure__"
      ],
      "execution_count": null,
      "outputs": [
        {
          "output_type": "execute_result",
          "data": {
            "text/plain": [
              "(<function __main__.incrementer.<locals>.inner(start)>,\n",
              " ('n',),\n",
              " (<cell at 0x7fb39ed6a410: int object at 0x7fb3e2fa1460>,))"
            ]
          },
          "metadata": {
            "tags": []
          },
          "execution_count": 96
        }
      ]
    },
    {
      "cell_type": "code",
      "metadata": {
        "tags": [],
        "cell_id": "00067-433f310e-0f1e-4e40-a2cf-67a8d8257f72",
        "deepnote_to_be_reexecuted": false,
        "source_hash": "59b9960e",
        "execution_start": 1613787665449,
        "execution_millis": 5,
        "deepnote_cell_type": "code",
        "id": "hRS5yKeBqQ6E",
        "outputId": "5ca71a77-7dee-454b-f385-e3fcce86477d"
      },
      "source": [
        "inc_2 = fn(100)\n",
        "\n",
        "inc_2"
      ],
      "execution_count": null,
      "outputs": [
        {
          "output_type": "execute_result",
          "data": {
            "text/plain": [
              "<function __main__.incrementer.<locals>.inner.<locals>.inc()>"
            ]
          },
          "metadata": {
            "tags": []
          },
          "execution_count": 97
        }
      ]
    },
    {
      "cell_type": "code",
      "metadata": {
        "tags": [],
        "cell_id": "00068-30e8a51b-46cf-406a-8792-33aa2140fd95",
        "deepnote_to_be_reexecuted": false,
        "source_hash": "cbc30b88",
        "execution_start": 1613787675505,
        "execution_millis": 8,
        "deepnote_cell_type": "code",
        "id": "mcLyX_PqqQ6F",
        "outputId": "3e2ea0d3-02ba-4723-8cc5-1551f61032b7"
      },
      "source": [
        "inc_2.__code__.co_freevars"
      ],
      "execution_count": null,
      "outputs": [
        {
          "output_type": "execute_result",
          "data": {
            "text/plain": [
              "('current', 'n')"
            ]
          },
          "metadata": {
            "tags": []
          },
          "execution_count": 98
        }
      ]
    },
    {
      "cell_type": "code",
      "metadata": {
        "tags": [],
        "cell_id": "00069-1c811846-448d-46e8-b7b7-ea16db47baa3",
        "deepnote_to_be_reexecuted": false,
        "source_hash": "acd45e7f",
        "execution_start": 1613787683388,
        "execution_millis": 7,
        "deepnote_cell_type": "code",
        "id": "C0ao5Ae6qQ6F",
        "outputId": "e650fa36-eb99-4096-fb3f-a4c8ed0bdf30"
      },
      "source": [
        "inc_2.__closure__"
      ],
      "execution_count": null,
      "outputs": [
        {
          "output_type": "execute_result",
          "data": {
            "text/plain": [
              "(<cell at 0x7fb39ea47650: int object at 0x7fb3e2fa20a0>,\n",
              " <cell at 0x7fb39ed6a410: int object at 0x7fb3e2fa1460>)"
            ]
          },
          "metadata": {
            "tags": []
          },
          "execution_count": 99
        }
      ]
    },
    {
      "cell_type": "code",
      "metadata": {
        "tags": [],
        "cell_id": "00070-b2d4a45f-9ad1-451b-873e-678cc0ff39d5",
        "deepnote_to_be_reexecuted": false,
        "source_hash": "733afdf1",
        "execution_start": 1613787715265,
        "execution_millis": 6,
        "deepnote_cell_type": "code",
        "id": "QigvQyhkqQ6F",
        "outputId": "af95da49-3bc5-43c2-98bf-9533666cfdef"
      },
      "source": [
        "inc_2()"
      ],
      "execution_count": null,
      "outputs": [
        {
          "output_type": "execute_result",
          "data": {
            "text/plain": [
              "102"
            ]
          },
          "metadata": {
            "tags": []
          },
          "execution_count": 100
        }
      ]
    },
    {
      "cell_type": "code",
      "metadata": {
        "tags": [],
        "cell_id": "00071-562f98a1-9793-471a-a3fe-2d934ea2428a",
        "deepnote_to_be_reexecuted": false,
        "source_hash": "733afdf1",
        "execution_start": 1613787721310,
        "execution_millis": 10,
        "deepnote_cell_type": "code",
        "id": "tq2POfFjqQ6G",
        "outputId": "79f726c9-31dc-4054-de4b-a5263149f352"
      },
      "source": [
        "inc_2()"
      ],
      "execution_count": null,
      "outputs": [
        {
          "output_type": "execute_result",
          "data": {
            "text/plain": [
              "104"
            ]
          },
          "metadata": {
            "tags": []
          },
          "execution_count": 101
        }
      ]
    },
    {
      "cell_type": "code",
      "metadata": {
        "tags": [],
        "cell_id": "00072-d4be194f-da9d-4e6f-a4fd-8143f7d3e7fe",
        "deepnote_to_be_reexecuted": false,
        "source_hash": "8e5d7ffb",
        "execution_start": 1613787775622,
        "execution_millis": 17,
        "deepnote_cell_type": "code",
        "id": "DrEeHLkZqQ6G",
        "outputId": "495eb5db-9d01-4661-ed72-24818742a8ed"
      },
      "source": [
        "fn = incrementer(20)\n",
        "inc_20 = fn(100)\n",
        "inc_20()"
      ],
      "execution_count": null,
      "outputs": [
        {
          "output_type": "execute_result",
          "data": {
            "text/plain": [
              "120"
            ]
          },
          "metadata": {
            "tags": []
          },
          "execution_count": 102
        }
      ]
    },
    {
      "cell_type": "code",
      "metadata": {
        "tags": [],
        "cell_id": "00073-897bed35-b091-4d86-b1de-ddb2e73fe271",
        "deepnote_to_be_reexecuted": false,
        "source_hash": "9e6ddd70",
        "execution_start": 1613787782381,
        "execution_millis": 13,
        "deepnote_cell_type": "code",
        "id": "uoHn362sqQ6G",
        "outputId": "d2aa8666-c039-4d5c-fab1-fa718bdc4ef6"
      },
      "source": [
        "inc_20()"
      ],
      "execution_count": null,
      "outputs": [
        {
          "output_type": "execute_result",
          "data": {
            "text/plain": [
              "140"
            ]
          },
          "metadata": {
            "tags": []
          },
          "execution_count": 103
        }
      ]
    },
    {
      "cell_type": "code",
      "metadata": {
        "tags": [],
        "cell_id": "00074-61b6ce71-84a0-44e7-8ef9-2df3d1c599e8",
        "deepnote_to_be_reexecuted": false,
        "source_hash": "a14418c7",
        "execution_start": 1613787818725,
        "execution_millis": 9,
        "deepnote_cell_type": "code",
        "id": "LI9XfbymqQ6G",
        "outputId": "007d5393-76ee-495d-8854-a558c535b93f"
      },
      "source": [
        "inc_3 = incrementer(3)(200)\n",
        "inc_3()"
      ],
      "execution_count": null,
      "outputs": [
        {
          "output_type": "execute_result",
          "data": {
            "text/plain": [
              "203"
            ]
          },
          "metadata": {
            "tags": []
          },
          "execution_count": 104
        }
      ]
    },
    {
      "cell_type": "code",
      "metadata": {
        "tags": [],
        "cell_id": "00075-bc2d120e-b02b-4bdd-8411-5026c17d0101",
        "deepnote_to_be_reexecuted": false,
        "source_hash": "bf71f713",
        "execution_start": 1613787834471,
        "execution_millis": 9,
        "deepnote_cell_type": "code",
        "id": "eolUkiu-qQ6H",
        "outputId": "0ad096b1-4aa3-4673-d7fe-8f6e80aff9d4"
      },
      "source": [
        "incrementer(4)(200)()"
      ],
      "execution_count": null,
      "outputs": [
        {
          "output_type": "execute_result",
          "data": {
            "text/plain": [
              "204"
            ]
          },
          "metadata": {
            "tags": []
          },
          "execution_count": 105
        }
      ]
    },
    {
      "cell_type": "code",
      "metadata": {
        "tags": [],
        "cell_id": "00076-8a34a858-da4a-4b32-9104-f7e844eaa40a",
        "deepnote_to_be_reexecuted": false,
        "source_hash": "ddd3bf49",
        "execution_start": 1613788026050,
        "execution_millis": 9,
        "deepnote_cell_type": "code",
        "id": "nJ4xKDrKqQ6H",
        "outputId": "f3c79519-57ed-4171-cde7-a98d007e13cb"
      },
      "source": [
        "class Averager:\n",
        "    def __init__(self):\n",
        "        self.numbers = []\n",
        "\n",
        "    def add(self, number):\n",
        "        self.numbers.append(number)\n",
        "        total = sum(self.numbers)\n",
        "        count = len(self.numbers)\n",
        "        return total/count\n",
        "\n",
        "a = Averager()\n",
        "\n",
        "a.add(10)"
      ],
      "execution_count": null,
      "outputs": [
        {
          "output_type": "execute_result",
          "data": {
            "text/plain": [
              "10.0"
            ]
          },
          "metadata": {
            "tags": []
          },
          "execution_count": 106
        }
      ]
    },
    {
      "cell_type": "code",
      "metadata": {
        "tags": [],
        "cell_id": "00077-602248ec-499f-4059-8f83-417104688b6f",
        "deepnote_to_be_reexecuted": false,
        "source_hash": "5aa2b711",
        "execution_start": 1613788033169,
        "execution_millis": 6,
        "deepnote_cell_type": "code",
        "id": "1vhHZgdlqQ6H",
        "outputId": "a01ff7ae-1279-40a7-c417-36d4a6d75169"
      },
      "source": [
        "a.add(20)"
      ],
      "execution_count": null,
      "outputs": [
        {
          "output_type": "execute_result",
          "data": {
            "text/plain": [
              "15.0"
            ]
          },
          "metadata": {
            "tags": []
          },
          "execution_count": 107
        }
      ]
    },
    {
      "cell_type": "code",
      "metadata": {
        "tags": [],
        "cell_id": "00078-7ab5b940-5c8c-47e0-9a0f-cd85ebde0302",
        "deepnote_to_be_reexecuted": false,
        "source_hash": "52f11866",
        "execution_start": 1613788039688,
        "execution_millis": 8,
        "deepnote_cell_type": "code",
        "id": "JE7QIkliqQ6I",
        "outputId": "52199fda-08a4-4af1-c8bc-fd6ff72e49b0"
      },
      "source": [
        "a.add(30)"
      ],
      "execution_count": null,
      "outputs": [
        {
          "output_type": "execute_result",
          "data": {
            "text/plain": [
              "20.0"
            ]
          },
          "metadata": {
            "tags": []
          },
          "execution_count": 108
        }
      ]
    },
    {
      "cell_type": "code",
      "metadata": {
        "tags": [],
        "cell_id": "00079-5d73a852-8ed3-4bee-9787-8d46723a5d93",
        "deepnote_to_be_reexecuted": false,
        "source_hash": "79fbc63e",
        "execution_millis": 7,
        "execution_start": 1613788146411,
        "deepnote_cell_type": "code",
        "id": "CJdSGubgqQ6I",
        "outputId": "1017d8ca-acc8-4d6a-cc04-bf6171b3c2fe"
      },
      "source": [
        "class Averager:\n",
        "    def __init__(self):\n",
        "        self.numbers = []\n",
        "\n",
        "    def add(self, number):\n",
        "        self.numbers.append(number)\n",
        "        total = sum(self.numbers)\n",
        "        count = len(self.numbers)\n",
        "        return total/count\n",
        "\n",
        "\n",
        "def averager():\n",
        "    numbers = []\n",
        "    def add(number):\n",
        "        numbers.append(number)\n",
        "        total = sum(numbers)\n",
        "        count = len(numbers)\n",
        "        return total/count\n",
        "    return add\n",
        "\n",
        "\n",
        "a = averager()\n",
        "\n",
        "a(10)"
      ],
      "execution_count": null,
      "outputs": [
        {
          "output_type": "execute_result",
          "data": {
            "text/plain": [
              "10.0"
            ]
          },
          "metadata": {
            "tags": []
          },
          "execution_count": 110
        }
      ]
    },
    {
      "cell_type": "code",
      "metadata": {
        "tags": [],
        "cell_id": "00080-e3e9f65a-13fb-4c68-b39b-6b97d0879efe",
        "deepnote_to_be_reexecuted": false,
        "source_hash": "67bf1052",
        "execution_start": 1613788151565,
        "execution_millis": 5,
        "deepnote_cell_type": "code",
        "id": "ndMpnI-EqQ6I",
        "outputId": "cf60a713-e89a-489a-8f63-d9a407cb4a86"
      },
      "source": [
        "a(20)"
      ],
      "execution_count": null,
      "outputs": [
        {
          "output_type": "execute_result",
          "data": {
            "text/plain": [
              "15.0"
            ]
          },
          "metadata": {
            "tags": []
          },
          "execution_count": 111
        }
      ]
    },
    {
      "cell_type": "code",
      "metadata": {
        "tags": [],
        "cell_id": "00081-26f6649d-7bff-49ad-8446-3bef9ea8289a",
        "deepnote_to_be_reexecuted": false,
        "source_hash": "a23a152",
        "execution_start": 1613788155419,
        "execution_millis": 6,
        "deepnote_cell_type": "code",
        "id": "wSCAZsMcqQ6J",
        "outputId": "7bbc52e3-b4b3-4ba6-932e-e2da10ba3f41"
      },
      "source": [
        "a(30)"
      ],
      "execution_count": null,
      "outputs": [
        {
          "output_type": "execute_result",
          "data": {
            "text/plain": [
              "20.0"
            ]
          },
          "metadata": {
            "tags": []
          },
          "execution_count": 112
        }
      ]
    },
    {
      "cell_type": "code",
      "metadata": {
        "tags": [],
        "cell_id": "00082-b3220623-f8db-48d3-b919-99b98050dcdc",
        "deepnote_to_be_reexecuted": false,
        "source_hash": "a01930bf",
        "execution_start": 1613788271713,
        "execution_millis": 6,
        "deepnote_cell_type": "code",
        "id": "a6021r7JqQ6K",
        "outputId": "54e1325a-2359-4b8a-fa76-a451e6c4791a"
      },
      "source": [
        "class Average:\n",
        "    def __init__(self):\n",
        "        self._count = 0\n",
        "        self._total = 0\n",
        "\n",
        "    def add(self, value):\n",
        "        self._total += value\n",
        "        self._count += 1\n",
        "        return self._total/self._count\n",
        "\n",
        "a = Averager()\n",
        "a.add(10)"
      ],
      "execution_count": null,
      "outputs": [
        {
          "output_type": "execute_result",
          "data": {
            "text/plain": [
              "10.0"
            ]
          },
          "metadata": {
            "tags": []
          },
          "execution_count": 113
        }
      ]
    },
    {
      "cell_type": "code",
      "metadata": {
        "tags": [],
        "cell_id": "00083-15e4127b-25d1-4c38-a80a-f5fcdec1cf80",
        "deepnote_to_be_reexecuted": false,
        "source_hash": "5aa2b711",
        "execution_start": 1613788275145,
        "execution_millis": 9,
        "deepnote_cell_type": "code",
        "id": "0EdSARjKqQ6K",
        "outputId": "4dbfbeb8-6728-4998-ab70-de4d16736230"
      },
      "source": [
        "a.add(20)"
      ],
      "execution_count": null,
      "outputs": [
        {
          "output_type": "execute_result",
          "data": {
            "text/plain": [
              "15.0"
            ]
          },
          "metadata": {
            "tags": []
          },
          "execution_count": 114
        }
      ]
    },
    {
      "cell_type": "code",
      "metadata": {
        "tags": [],
        "cell_id": "00084-a4747281-300a-48ad-9224-d7ad73455a0f",
        "deepnote_to_be_reexecuted": false,
        "source_hash": "52f11866",
        "execution_start": 1613788278647,
        "execution_millis": 10,
        "deepnote_cell_type": "code",
        "id": "3T9vtj1jqQ6K",
        "outputId": "fa5e01f0-a9a0-49ff-f99c-4c90e05b3d0f"
      },
      "source": [
        "a.add(30)"
      ],
      "execution_count": null,
      "outputs": [
        {
          "output_type": "execute_result",
          "data": {
            "text/plain": [
              "20.0"
            ]
          },
          "metadata": {
            "tags": []
          },
          "execution_count": 115
        }
      ]
    },
    {
      "cell_type": "code",
      "metadata": {
        "tags": [],
        "cell_id": "00085-0674c58f-8135-4692-90f6-5881c9d8ccda",
        "deepnote_to_be_reexecuted": false,
        "source_hash": "608f3216",
        "execution_millis": 49,
        "execution_start": 1613788375330,
        "deepnote_cell_type": "code",
        "id": "xB9aSRCCqQ6L",
        "outputId": "4abc386e-1c0c-4ae3-ae18-f48bdfbfaaf0"
      },
      "source": [
        "def averager():\n",
        "    count = 0\n",
        "    total = 0\n",
        "\n",
        "    def add(value):\n",
        "        nonlocal total, count\n",
        "        total += value\n",
        "        count += 1\n",
        "        return 0 if count == 0 else total/count\n",
        "    \n",
        "    return add\n",
        "\n",
        "a = averager()\n",
        "a(10)"
      ],
      "execution_count": null,
      "outputs": [
        {
          "output_type": "execute_result",
          "data": {
            "text/plain": [
              "10.0"
            ]
          },
          "metadata": {
            "tags": []
          },
          "execution_count": 118
        }
      ]
    },
    {
      "cell_type": "code",
      "metadata": {
        "tags": [],
        "cell_id": "00086-90810259-3584-4f58-80a6-e10ea999950c",
        "deepnote_to_be_reexecuted": false,
        "source_hash": "67bf1052",
        "execution_start": 1613788380667,
        "execution_millis": 9,
        "deepnote_cell_type": "code",
        "id": "5VwUtcJYqQ6L",
        "outputId": "0997dd9a-f8f6-47a6-decc-cad66af231f2"
      },
      "source": [
        "a(20)"
      ],
      "execution_count": null,
      "outputs": [
        {
          "output_type": "execute_result",
          "data": {
            "text/plain": [
              "15.0"
            ]
          },
          "metadata": {
            "tags": []
          },
          "execution_count": 119
        }
      ]
    },
    {
      "cell_type": "code",
      "metadata": {
        "tags": [],
        "cell_id": "00087-371a5d4e-dae8-4fa7-9136-437c14fef161",
        "deepnote_to_be_reexecuted": false,
        "source_hash": "a23a152",
        "execution_start": 1613788384367,
        "execution_millis": 10,
        "deepnote_cell_type": "code",
        "id": "KbOp_HZIqQ6M",
        "outputId": "966691c5-8a34-4a66-cd0f-4b412983cc0d"
      },
      "source": [
        "a(30)"
      ],
      "execution_count": null,
      "outputs": [
        {
          "output_type": "execute_result",
          "data": {
            "text/plain": [
              "20.0"
            ]
          },
          "metadata": {
            "tags": []
          },
          "execution_count": 120
        }
      ]
    },
    {
      "cell_type": "code",
      "metadata": {
        "tags": [],
        "cell_id": "00088-212ddc32-57af-4768-839b-7e417e2dddc9",
        "deepnote_to_be_reexecuted": false,
        "source_hash": "4093275e",
        "execution_millis": 1,
        "execution_start": 1613788534964,
        "deepnote_cell_type": "code",
        "id": "emKvmCKIqQ6M"
      },
      "source": [
        "from time import perf_counter\n",
        "\n",
        "class Timer:\n",
        "    def __init__(self):\n",
        "        self._start = perf_counter()\n",
        "\n",
        "    def __call__(self):\n",
        "        return (perf_counter() - self._start)"
      ],
      "execution_count": null,
      "outputs": []
    },
    {
      "cell_type": "code",
      "metadata": {
        "tags": [],
        "cell_id": "00089-625e5417-e35f-4f41-867b-6a39cb1b5a03",
        "deepnote_to_be_reexecuted": false,
        "source_hash": "1071b739",
        "execution_millis": 2,
        "execution_start": 1613788535133,
        "deepnote_cell_type": "code",
        "id": "luvxgtIDqQ6Q"
      },
      "source": [
        "a = Timer()"
      ],
      "execution_count": null,
      "outputs": []
    },
    {
      "cell_type": "code",
      "metadata": {
        "tags": [],
        "cell_id": "00090-c99bf3ee-0e23-45c3-a819-08fb31816975",
        "deepnote_to_be_reexecuted": false,
        "source_hash": "4de1246a",
        "execution_millis": 7,
        "execution_start": 1613788535570,
        "deepnote_cell_type": "code",
        "id": "giFImCTkqQ6Q",
        "outputId": "bab381b2-2944-4af2-f796-5c1b212356b0"
      },
      "source": [
        "a()"
      ],
      "execution_count": null,
      "outputs": [
        {
          "output_type": "execute_result",
          "data": {
            "text/plain": [
              "0.4360451540123904"
            ]
          },
          "metadata": {
            "tags": []
          },
          "execution_count": 126
        }
      ]
    },
    {
      "cell_type": "code",
      "metadata": {
        "tags": [],
        "cell_id": "00091-46da0c22-3d94-414d-b4d7-57549baf573f",
        "deepnote_to_be_reexecuted": false,
        "source_hash": "4de1246a",
        "execution_start": 1613788550293,
        "execution_millis": 6,
        "deepnote_cell_type": "code",
        "id": "sQ-WUcdGqQ6R",
        "outputId": "7e266e4b-4856-4100-fe72-d6bc5c2f34c2"
      },
      "source": [
        "a()"
      ],
      "execution_count": null,
      "outputs": [
        {
          "output_type": "execute_result",
          "data": {
            "text/plain": [
              "15.119054698006948"
            ]
          },
          "metadata": {
            "tags": []
          },
          "execution_count": 127
        }
      ]
    },
    {
      "cell_type": "code",
      "metadata": {
        "tags": [],
        "cell_id": "00092-d266f3ea-c42a-4ab4-b59d-e4ddf8fe95f7",
        "deepnote_to_be_reexecuted": false,
        "source_hash": "351d2341",
        "execution_start": 1613788566958,
        "execution_millis": 11,
        "deepnote_cell_type": "code",
        "id": "iWPv0gesqQ6T",
        "outputId": "5ceb0a7a-140d-4d66-a74f-e74b602e943e"
      },
      "source": [
        "b = Timer()\n",
        "\n",
        "print(a())\n",
        "print(b())"
      ],
      "execution_count": null,
      "outputs": [
        {
          "output_type": "stream",
          "text": [
            "31.825754819001304\n",
            "0.00012528100342024118\n"
          ],
          "name": "stdout"
        }
      ]
    },
    {
      "cell_type": "code",
      "metadata": {
        "tags": [],
        "cell_id": "00093-5dbcc51f-945f-48aa-b751-c061b95da115",
        "deepnote_to_be_reexecuted": false,
        "source_hash": "81398f37",
        "execution_millis": 0,
        "execution_start": 1613788640965,
        "deepnote_cell_type": "code",
        "id": "Jx5kUQhDqQ6T"
      },
      "source": [
        "def timer():\n",
        "    start = perf_counter()\n",
        "\n",
        "    def elapsed():\n",
        "        return perf_counter() - start\n",
        "    \n",
        "    return elapsed\n",
        "\n",
        "x = timer()"
      ],
      "execution_count": null,
      "outputs": []
    },
    {
      "cell_type": "code",
      "metadata": {
        "tags": [],
        "cell_id": "00094-91ea0f63-05b5-4f04-975d-d5f926604f96",
        "deepnote_to_be_reexecuted": false,
        "source_hash": "295dd8b4",
        "execution_millis": 8,
        "execution_start": 1613788641153,
        "deepnote_cell_type": "code",
        "id": "7U0shGH7qQ6T",
        "outputId": "78288d74-633a-4c4f-fb83-9ec0d898bc2a"
      },
      "source": [
        "x()"
      ],
      "execution_count": null,
      "outputs": [
        {
          "output_type": "execute_result",
          "data": {
            "text/plain": [
              "0.19053056499978993"
            ]
          },
          "metadata": {
            "tags": []
          },
          "execution_count": 132
        }
      ]
    },
    {
      "cell_type": "code",
      "metadata": {
        "tags": [],
        "cell_id": "00095-69162020-b60c-4aba-9059-763e3c5a8e11",
        "deepnote_to_be_reexecuted": false,
        "source_hash": "295dd8b4",
        "execution_start": 1613788646380,
        "execution_millis": 18,
        "deepnote_cell_type": "code",
        "id": "pZv1KgvTqQ6U",
        "outputId": "e290c539-0aec-48e9-f400-da954441585f"
      },
      "source": [
        "x()"
      ],
      "execution_count": null,
      "outputs": [
        {
          "output_type": "execute_result",
          "data": {
            "text/plain": [
              "5.420020032004686"
            ]
          },
          "metadata": {
            "tags": []
          },
          "execution_count": 133
        }
      ]
    },
    {
      "cell_type": "code",
      "metadata": {
        "tags": [],
        "cell_id": "00096-491c1d12-5d9f-492c-bb33-b3064394791e",
        "deepnote_to_be_reexecuted": false,
        "source_hash": "8e3a4fac",
        "execution_start": 1613788770168,
        "execution_millis": 0,
        "deepnote_cell_type": "code",
        "id": "JG73h5vNqQ6U"
      },
      "source": [
        "def counter(initial_value):\n",
        "\n",
        "    def inc(increment = 1):\n",
        "        nonlocal initial_value\n",
        "        initial_value += increment\n",
        "        return initial_value\n",
        "    return inc"
      ],
      "execution_count": null,
      "outputs": []
    },
    {
      "cell_type": "code",
      "metadata": {
        "tags": [],
        "cell_id": "00097-cec5919a-15fa-4fa2-934d-e1b232c56674",
        "deepnote_to_be_reexecuted": false,
        "source_hash": "f29d5c8",
        "execution_start": 1613788779869,
        "execution_millis": 0,
        "deepnote_cell_type": "code",
        "id": "LClqlLW6qQ6U"
      },
      "source": [
        "counter1 = counter(0)"
      ],
      "execution_count": null,
      "outputs": []
    },
    {
      "cell_type": "code",
      "metadata": {
        "tags": [],
        "cell_id": "00098-2acda743-c20c-4b53-8356-f18ee4e627fd",
        "deepnote_to_be_reexecuted": false,
        "source_hash": "c015c999",
        "execution_start": 1613788783906,
        "execution_millis": 9,
        "deepnote_cell_type": "code",
        "id": "yGbajsN9qQ6V",
        "outputId": "04eaa6e9-45ba-40e4-947d-c456c54df233"
      },
      "source": [
        "print(counter1(0))"
      ],
      "execution_count": null,
      "outputs": [
        {
          "output_type": "stream",
          "text": [
            "0\n"
          ],
          "name": "stdout"
        }
      ]
    },
    {
      "cell_type": "code",
      "metadata": {
        "tags": [],
        "cell_id": "00099-6ea944f5-b53a-4361-8770-a5a674e988f1",
        "deepnote_to_be_reexecuted": false,
        "source_hash": "e8e9d48",
        "execution_start": 1613788788869,
        "execution_millis": 50,
        "deepnote_cell_type": "code",
        "id": "2kkRRC5eqQ6V",
        "outputId": "f1969579-8236-4341-b718-074f86d0dbce"
      },
      "source": [
        "print(counter1())"
      ],
      "execution_count": null,
      "outputs": [
        {
          "output_type": "stream",
          "text": [
            "1\n"
          ],
          "name": "stdout"
        }
      ]
    },
    {
      "cell_type": "code",
      "metadata": {
        "tags": [],
        "cell_id": "00100-6a715e62-3823-4268-8edd-9bb5a7699b12",
        "deepnote_to_be_reexecuted": false,
        "source_hash": "e8e9d48",
        "execution_start": 1613788793814,
        "execution_millis": 12,
        "deepnote_cell_type": "code",
        "id": "y8-d7F6QqQ6V",
        "outputId": "0ade2791-7f82-41a8-e74b-88ce46f8ba7c"
      },
      "source": [
        "print(counter1())"
      ],
      "execution_count": null,
      "outputs": [
        {
          "output_type": "stream",
          "text": [
            "2\n"
          ],
          "name": "stdout"
        }
      ]
    },
    {
      "cell_type": "code",
      "metadata": {
        "tags": [],
        "cell_id": "00101-0f691364-c7e2-4db7-8892-086081a075f7",
        "deepnote_to_be_reexecuted": false,
        "source_hash": "e8e9d48",
        "execution_start": 1613788796058,
        "execution_millis": 9,
        "deepnote_cell_type": "code",
        "id": "nNn81z-jqQ6V",
        "outputId": "a69aec58-5931-41ad-8b28-33e036219b2f"
      },
      "source": [
        "print(counter1())"
      ],
      "execution_count": null,
      "outputs": [
        {
          "output_type": "stream",
          "text": [
            "3\n"
          ],
          "name": "stdout"
        }
      ]
    },
    {
      "cell_type": "code",
      "metadata": {
        "tags": [],
        "cell_id": "00102-cd90d6b3-45b0-4195-a145-131ab8812896",
        "deepnote_to_be_reexecuted": false,
        "source_hash": "e8e9d48",
        "execution_start": 1613788798678,
        "execution_millis": 7,
        "deepnote_cell_type": "code",
        "id": "zvBg4jEQqQ6W",
        "outputId": "977c5535-7170-495c-ec01-115c669a896a"
      },
      "source": [
        "print(counter1())"
      ],
      "execution_count": null,
      "outputs": [
        {
          "output_type": "stream",
          "text": [
            "4\n"
          ],
          "name": "stdout"
        }
      ]
    },
    {
      "cell_type": "code",
      "metadata": {
        "tags": [],
        "cell_id": "00103-4be28697-6bab-43fa-b6b7-0445fe6cc6b8",
        "deepnote_to_be_reexecuted": false,
        "source_hash": "2e600c29",
        "execution_start": 1613788804137,
        "execution_millis": 13,
        "deepnote_cell_type": "code",
        "id": "f-GU-eUcqQ6W",
        "outputId": "aa82712c-fdda-434e-d32d-a4a3e1dd0ea0"
      },
      "source": [
        "print(counter1(8))"
      ],
      "execution_count": null,
      "outputs": [
        {
          "output_type": "stream",
          "text": [
            "12\n"
          ],
          "name": "stdout"
        }
      ]
    },
    {
      "cell_type": "code",
      "metadata": {
        "tags": [],
        "cell_id": "00104-fb21b6e4-24cc-4e53-8d19-b09d738a7058",
        "deepnote_to_be_reexecuted": false,
        "source_hash": "e8e9d48",
        "execution_start": 1613788842632,
        "execution_millis": 11,
        "deepnote_cell_type": "code",
        "id": "EDadN2kiqQ6W",
        "outputId": "c483c42c-60ef-4300-d93c-2960c7fe74cc"
      },
      "source": [
        "print(counter1())"
      ],
      "execution_count": null,
      "outputs": [
        {
          "output_type": "stream",
          "text": [
            "13\n"
          ],
          "name": "stdout"
        }
      ]
    },
    {
      "cell_type": "code",
      "metadata": {
        "tags": [],
        "cell_id": "00105-626a0ad3-5058-4ca8-a9a5-11ac673a5af6",
        "deepnote_to_be_reexecuted": false,
        "source_hash": "2e600c29",
        "execution_start": 1613788851800,
        "execution_millis": 7,
        "deepnote_cell_type": "code",
        "id": "qlMaD5e9qQ6X",
        "outputId": "bc051a2b-2888-48d9-8d5b-8b72a53d9e31"
      },
      "source": [
        "print(counter1(8))"
      ],
      "execution_count": null,
      "outputs": [
        {
          "output_type": "stream",
          "text": [
            "21\n"
          ],
          "name": "stdout"
        }
      ]
    },
    {
      "cell_type": "code",
      "metadata": {
        "tags": [],
        "cell_id": "00106-633ea7d5-7692-4760-a0fa-dc00ff6ae853",
        "deepnote_to_be_reexecuted": false,
        "source_hash": "23f8a80c",
        "execution_start": 1613788964980,
        "execution_millis": 0,
        "deepnote_cell_type": "code",
        "id": "Hwhle8TwqQ6X"
      },
      "source": [
        "def counter(fn):\n",
        "    cnt = 0\n",
        "\n",
        "    def inner(*args, **kwargs):\n",
        "        nonlocal cnt\n",
        "        cnt = cnt + 1\n",
        "        print(f'{fn.__name__} has been called {cnt} times')\n",
        "        return fn(*args, **kwargs)\n",
        "        \n",
        "    return inner"
      ],
      "execution_count": null,
      "outputs": []
    },
    {
      "cell_type": "code",
      "metadata": {
        "tags": [],
        "cell_id": "00107-bbecc379-a91c-4d0f-8218-9116d13e416c",
        "deepnote_to_be_reexecuted": false,
        "source_hash": "47d4b05e",
        "execution_start": 1613788976372,
        "execution_millis": 3,
        "deepnote_cell_type": "code",
        "id": "nrT_4E6FqQ6X"
      },
      "source": [
        "def add(a, b):\n",
        "    return a + b"
      ],
      "execution_count": null,
      "outputs": []
    },
    {
      "cell_type": "code",
      "metadata": {
        "tags": [],
        "cell_id": "00108-75550ba0-1c2f-46b8-9acd-493c4024b79b",
        "deepnote_to_be_reexecuted": false,
        "source_hash": "c4fb13a7",
        "execution_start": 1613789039341,
        "execution_millis": 7,
        "deepnote_cell_type": "code",
        "id": "fixyCkslqQ6X",
        "outputId": "95bb4068-d29f-45a0-f7f2-97457a187ad4"
      },
      "source": [
        "counted_add = counter(add)\n",
        "\n",
        "counted_add.__code__.co_freevars"
      ],
      "execution_count": null,
      "outputs": [
        {
          "output_type": "execute_result",
          "data": {
            "text/plain": [
              "('cnt', 'fn')"
            ]
          },
          "metadata": {
            "tags": []
          },
          "execution_count": 146
        }
      ]
    },
    {
      "cell_type": "code",
      "metadata": {
        "tags": [],
        "cell_id": "00109-ea3ef938-d97e-4f12-8d36-c1d6ae91b39b",
        "deepnote_to_be_reexecuted": false,
        "source_hash": "da7e7b04",
        "execution_start": 1613789046753,
        "execution_millis": 6,
        "deepnote_cell_type": "code",
        "id": "fA5VtvCxqQ6Y",
        "outputId": "3b5e35d0-a053-4628-8434-5dd086f58a39"
      },
      "source": [
        "counted_add(1, 2)"
      ],
      "execution_count": null,
      "outputs": [
        {
          "output_type": "stream",
          "text": [
            "add has been called 1 times\n"
          ],
          "name": "stdout"
        },
        {
          "output_type": "execute_result",
          "data": {
            "text/plain": [
              "3"
            ]
          },
          "metadata": {
            "tags": []
          },
          "execution_count": 147
        }
      ]
    },
    {
      "cell_type": "code",
      "metadata": {
        "tags": [],
        "cell_id": "00110-43580e08-07f2-48dc-b35a-7841bc82ae0b",
        "deepnote_to_be_reexecuted": false,
        "source_hash": "da7e7b04",
        "execution_start": 1613789050877,
        "execution_millis": 9,
        "deepnote_cell_type": "code",
        "id": "GIr6AoLXqQ6Y",
        "outputId": "36b0c433-09f9-4345-a7ab-3348664354ab"
      },
      "source": [
        "counted_add(1, 2)"
      ],
      "execution_count": null,
      "outputs": [
        {
          "output_type": "stream",
          "text": [
            "add has been called 2 times\n"
          ],
          "name": "stdout"
        },
        {
          "output_type": "execute_result",
          "data": {
            "text/plain": [
              "3"
            ]
          },
          "metadata": {
            "tags": []
          },
          "execution_count": 148
        }
      ]
    },
    {
      "cell_type": "code",
      "metadata": {
        "tags": [],
        "cell_id": "00111-3c227483-71c7-46b3-acb1-68ea9d01aa94",
        "deepnote_to_be_reexecuted": false,
        "source_hash": "da7e7b04",
        "execution_start": 1613789053741,
        "execution_millis": 9,
        "deepnote_cell_type": "code",
        "id": "Ka0eCdJIqQ6Y",
        "outputId": "9de25dea-43d7-4af3-865c-d433c68ed7e1"
      },
      "source": [
        "counted_add(1, 2)"
      ],
      "execution_count": null,
      "outputs": [
        {
          "output_type": "stream",
          "text": [
            "add has been called 3 times\n"
          ],
          "name": "stdout"
        },
        {
          "output_type": "execute_result",
          "data": {
            "text/plain": [
              "3"
            ]
          },
          "metadata": {
            "tags": []
          },
          "execution_count": 149
        }
      ]
    },
    {
      "cell_type": "code",
      "metadata": {
        "tags": [],
        "cell_id": "00112-63bf328b-e9b5-46d2-96f1-71f5ca852f29",
        "deepnote_to_be_reexecuted": false,
        "source_hash": "fd0ec49d",
        "execution_start": 1613789079589,
        "execution_millis": 10,
        "deepnote_cell_type": "code",
        "id": "zqRhjxBOqQ6Y",
        "outputId": "73adc90f-fd03-4f64-dcba-5b2a5e4f2fc4"
      },
      "source": [
        "def mult(a,b, c):\n",
        "    return a*b*c\n",
        "\n",
        "counted_mult = counter(mult)\n",
        "counted_mult(1, 2, 3)\n",
        "counted_mult(1, 2, 3)\n",
        "counted_mult(1, 2, 3)\n",
        "counted_mult(1, 2, 3)"
      ],
      "execution_count": null,
      "outputs": [
        {
          "output_type": "stream",
          "text": [
            "mult has been called 1 times\n",
            "mult has been called 2 times\n",
            "mult has been called 3 times\n",
            "mult has been called 4 times\n"
          ],
          "name": "stdout"
        },
        {
          "output_type": "execute_result",
          "data": {
            "text/plain": [
              "6"
            ]
          },
          "metadata": {
            "tags": []
          },
          "execution_count": 150
        }
      ]
    },
    {
      "cell_type": "code",
      "metadata": {
        "tags": [],
        "cell_id": "00113-2e89133b-7429-4d38-980c-398b941df79d",
        "deepnote_to_be_reexecuted": false,
        "source_hash": "e2eb0205",
        "execution_start": 1613789199521,
        "execution_millis": 1,
        "deepnote_cell_type": "code",
        "id": "XghGVkbxqQ6Z"
      },
      "source": [
        "counters = dict()\n",
        "\n",
        "def counter(fn):\n",
        "    cnt = 0  # initially fn has been run zero times\n",
        "    \n",
        "    def inner(*args, **kwargs):\n",
        "        nonlocal cnt\n",
        "        cnt = cnt + 1\n",
        "        counters[fn.__name__] = cnt  # counters is global\n",
        "        return fn(*args, **kwargs)\n",
        "    \n",
        "    return inner"
      ],
      "execution_count": null,
      "outputs": []
    },
    {
      "cell_type": "code",
      "metadata": {
        "tags": [],
        "cell_id": "00114-6e77bbea-be17-4b4f-838a-feb88585d960",
        "deepnote_to_be_reexecuted": false,
        "source_hash": "9803230d",
        "execution_start": 1613789207025,
        "execution_millis": 1,
        "deepnote_cell_type": "code",
        "id": "vvTRgrNcqQ6Z"
      },
      "source": [
        "counted_add = counter(add)\n",
        "counted_mult = counter(mult)"
      ],
      "execution_count": null,
      "outputs": []
    },
    {
      "cell_type": "code",
      "metadata": {
        "tags": [],
        "cell_id": "00115-cc739150-4b3f-41da-84f3-663dcc0e76bb",
        "deepnote_to_be_reexecuted": false,
        "source_hash": "7ef572b8",
        "execution_start": 1613789211190,
        "execution_millis": 7,
        "deepnote_cell_type": "code",
        "id": "km16JX6TqQ6Z",
        "outputId": "1ae1d65f-c135-431d-f8c0-86a16f40482c"
      },
      "source": [
        "counted_add.__code__.co_freevars"
      ],
      "execution_count": null,
      "outputs": [
        {
          "output_type": "execute_result",
          "data": {
            "text/plain": [
              "('cnt', 'fn')"
            ]
          },
          "metadata": {
            "tags": []
          },
          "execution_count": 153
        }
      ]
    },
    {
      "cell_type": "code",
      "metadata": {
        "tags": [],
        "cell_id": "00116-da7eed22-ddb3-453d-8ee0-8e720b1a9496",
        "deepnote_to_be_reexecuted": false,
        "source_hash": "ee64ddf6",
        "execution_start": 1613789217868,
        "execution_millis": 12,
        "deepnote_cell_type": "code",
        "id": "jgTDtJXzqQ6a",
        "outputId": "4ab257ea-7d35-4b5c-bdce-1ca9d2589f23"
      },
      "source": [
        "counted_mult.__code__.co_freevars"
      ],
      "execution_count": null,
      "outputs": [
        {
          "output_type": "execute_result",
          "data": {
            "text/plain": [
              "('cnt', 'fn')"
            ]
          },
          "metadata": {
            "tags": []
          },
          "execution_count": 154
        }
      ]
    },
    {
      "cell_type": "code",
      "metadata": {
        "tags": [],
        "cell_id": "00117-1e0c0147-ced2-4399-afe2-f4ff70e0b299",
        "deepnote_to_be_reexecuted": false,
        "source_hash": "da7e7b04",
        "execution_start": 1613789221709,
        "execution_millis": 13,
        "deepnote_cell_type": "code",
        "id": "vcg5WnGsqQ6a",
        "outputId": "d460819e-da0e-4b19-8f92-ab4a6d2a7e5a"
      },
      "source": [
        "counted_add(1, 2)"
      ],
      "execution_count": null,
      "outputs": [
        {
          "output_type": "execute_result",
          "data": {
            "text/plain": [
              "3"
            ]
          },
          "metadata": {
            "tags": []
          },
          "execution_count": 155
        }
      ]
    },
    {
      "cell_type": "code",
      "metadata": {
        "tags": [],
        "cell_id": "00118-a0f96b16-7eac-4d17-848c-df084bb6caee",
        "deepnote_to_be_reexecuted": false,
        "source_hash": "23d402f4",
        "execution_start": 1613789226335,
        "execution_millis": 8,
        "deepnote_cell_type": "code",
        "id": "qe_fhFbIqQ6a",
        "outputId": "6ae6bcdb-51a0-45e4-8b26-34e2c7c1b918"
      },
      "source": [
        "counted_add(2, 3)"
      ],
      "execution_count": null,
      "outputs": [
        {
          "output_type": "execute_result",
          "data": {
            "text/plain": [
              "5"
            ]
          },
          "metadata": {
            "tags": []
          },
          "execution_count": 156
        }
      ]
    },
    {
      "cell_type": "code",
      "metadata": {
        "tags": [],
        "cell_id": "00119-aa926e41-559e-40d1-8390-f55581df568d",
        "deepnote_to_be_reexecuted": false,
        "source_hash": "f0bc845a",
        "execution_start": 1613789231681,
        "execution_millis": 9,
        "deepnote_cell_type": "code",
        "id": "XbIFRCZnqQ6a",
        "outputId": "85d54b9c-b923-4245-b983-d4c90595aea9"
      },
      "source": [
        "counted_mult(1, 2, 'a')"
      ],
      "execution_count": null,
      "outputs": [
        {
          "output_type": "execute_result",
          "data": {
            "text/plain": [
              "'aa'"
            ]
          },
          "metadata": {
            "tags": []
          },
          "execution_count": 157
        }
      ]
    },
    {
      "cell_type": "code",
      "metadata": {
        "tags": [],
        "cell_id": "00120-3ad8bdb3-99ad-4bc6-bfc9-9f9ede850827",
        "deepnote_to_be_reexecuted": false,
        "source_hash": "30098a45",
        "execution_start": 1613789239844,
        "execution_millis": 6,
        "deepnote_cell_type": "code",
        "id": "PB7ac6ahqQ6b",
        "outputId": "67ed0c70-36dd-484e-9370-e09079b7764d"
      },
      "source": [
        "counted_mult(1, 1, 'abc')\n",
        "counted_mult(1, 1, 'abc')\n",
        "counted_mult(1, 1, 'abc')"
      ],
      "execution_count": null,
      "outputs": [
        {
          "output_type": "execute_result",
          "data": {
            "text/plain": [
              "'abc'"
            ]
          },
          "metadata": {
            "tags": []
          },
          "execution_count": 158
        }
      ]
    },
    {
      "cell_type": "code",
      "metadata": {
        "tags": [],
        "cell_id": "00121-7a0379ca-09ba-4b95-beac-98648afc71a4",
        "deepnote_to_be_reexecuted": false,
        "source_hash": "a8e085dd",
        "execution_start": 1613789248830,
        "execution_millis": 11,
        "deepnote_cell_type": "code",
        "id": "NtbSwKzqqQ6b",
        "outputId": "81f3f872-6f97-4e10-e2a3-bb362e39a486"
      },
      "source": [
        "print(counters)"
      ],
      "execution_count": null,
      "outputs": [
        {
          "output_type": "stream",
          "text": [
            "{'add': 2, 'mult': 4}\n"
          ],
          "name": "stdout"
        }
      ]
    },
    {
      "cell_type": "code",
      "metadata": {
        "tags": [],
        "cell_id": "00122-d46687be-201f-4c80-b864-ae11a13450bf",
        "deepnote_to_be_reexecuted": false,
        "source_hash": "468b69ca",
        "execution_millis": 1,
        "execution_start": 1613789376152,
        "deepnote_cell_type": "code",
        "id": "-V9_hTueqQ6c"
      },
      "source": [
        "def counter(fn, counters):\n",
        "    cnt = 0  # initially fn has been run zero times\n",
        "    \n",
        "    def inner(*args, **kwargs):\n",
        "        nonlocal cnt\n",
        "        cnt = cnt + 1\n",
        "        counters[fn.__name__] = cnt  # counters is nonlocal\n",
        "        return fn(*args, **kwargs)\n",
        "    \n",
        "    return inner"
      ],
      "execution_count": null,
      "outputs": []
    },
    {
      "cell_type": "code",
      "metadata": {
        "tags": [],
        "cell_id": "00123-da4e0942-9a43-426c-8ae2-a0ba4d12f4da",
        "deepnote_to_be_reexecuted": false,
        "source_hash": "23fe6a5f",
        "execution_millis": 0,
        "execution_start": 1613789377669,
        "deepnote_cell_type": "code",
        "id": "HakvQI4UqQ6c"
      },
      "source": [
        "func_counters = dict()\n",
        "counted_add = counter(add, func_counters)\n",
        "counted_mult = counter(mult, func_counters)"
      ],
      "execution_count": null,
      "outputs": []
    },
    {
      "cell_type": "code",
      "metadata": {
        "tags": [],
        "cell_id": "00124-62828091-1356-4089-8c49-bc5094bd3b8f",
        "deepnote_to_be_reexecuted": false,
        "source_hash": "7ef572b8",
        "execution_start": 1613789320286,
        "execution_millis": 9,
        "deepnote_cell_type": "code",
        "id": "tRe-I0FpqQ6c",
        "outputId": "476520fa-3ee6-4346-c7f9-0c94d2f70581"
      },
      "source": [
        "counted_add.__code__.co_freevars"
      ],
      "execution_count": null,
      "outputs": [
        {
          "output_type": "execute_result",
          "data": {
            "text/plain": [
              "('cnt', 'counters', 'fn')"
            ]
          },
          "metadata": {
            "tags": []
          },
          "execution_count": 162
        }
      ]
    },
    {
      "cell_type": "code",
      "metadata": {
        "tags": [],
        "cell_id": "00125-8a1fae0e-b0a0-4ed5-822c-e2dad12431df",
        "deepnote_to_be_reexecuted": false,
        "source_hash": "b24ceb93",
        "execution_millis": 1,
        "execution_start": 1613789382813,
        "deepnote_cell_type": "code",
        "id": "ZmCdz3XuqQ6c"
      },
      "source": [
        "for i in range(5):\n",
        "    counted_add(i, i)\n",
        "\n",
        "for i in range(10):\n",
        "    counted_mult(i, i, i)"
      ],
      "execution_count": null,
      "outputs": []
    },
    {
      "cell_type": "code",
      "metadata": {
        "tags": [],
        "cell_id": "00126-2763711b-599b-4d59-b797-e9edf9100caf",
        "deepnote_to_be_reexecuted": false,
        "source_hash": "2029ffff",
        "execution_start": 1613789388797,
        "execution_millis": 10,
        "deepnote_cell_type": "code",
        "id": "htgi4tuUqQ6d",
        "outputId": "87f44b16-d061-4129-82f1-f23d7902df40"
      },
      "source": [
        "print(func_counters)"
      ],
      "execution_count": null,
      "outputs": [
        {
          "output_type": "stream",
          "text": [
            "{'add': 5, 'mult': 10}\n"
          ],
          "name": "stdout"
        }
      ]
    },
    {
      "cell_type": "code",
      "metadata": {
        "tags": [],
        "cell_id": "00127-6dde065f-de62-4b9b-9981-054824e02b8f",
        "deepnote_to_be_reexecuted": false,
        "source_hash": "a8007762",
        "execution_millis": 2,
        "execution_start": 1613789498953,
        "deepnote_cell_type": "code",
        "id": "_6-BlP8eqQ6d"
      },
      "source": [
        "def fact(n):\n",
        "    product = 1\n",
        "    for i in range(2, n+1):\n",
        "        product *= i\n",
        "\n",
        "    return product\n",
        "\n",
        "fact = counter(fact, func_counters)"
      ],
      "execution_count": null,
      "outputs": []
    },
    {
      "cell_type": "code",
      "metadata": {
        "tags": [],
        "cell_id": "00128-cf4039c0-a693-44fb-9974-21ffaba8d5a4",
        "deepnote_to_be_reexecuted": false,
        "source_hash": "44f1c99",
        "execution_start": 1613789508176,
        "execution_millis": 8,
        "deepnote_cell_type": "code",
        "id": "vyZFTH6tqQ6e",
        "outputId": "f81fc102-1174-4375-9aed-f7873a33fc97"
      },
      "source": [
        "fact(0)"
      ],
      "execution_count": null,
      "outputs": [
        {
          "output_type": "execute_result",
          "data": {
            "text/plain": [
              "1"
            ]
          },
          "metadata": {
            "tags": []
          },
          "execution_count": 170
        }
      ]
    },
    {
      "cell_type": "code",
      "metadata": {
        "tags": [],
        "cell_id": "00129-0a0132b4-483f-436f-977a-163842973c38",
        "deepnote_to_be_reexecuted": false,
        "source_hash": "bea80670",
        "execution_start": 1613789513285,
        "execution_millis": 13,
        "deepnote_cell_type": "code",
        "id": "D0MBgaMBqQ6e",
        "outputId": "39906f20-23f5-46f0-f92a-08b4b00b1611"
      },
      "source": [
        "fact(3)"
      ],
      "execution_count": null,
      "outputs": [
        {
          "output_type": "execute_result",
          "data": {
            "text/plain": [
              "6"
            ]
          },
          "metadata": {
            "tags": []
          },
          "execution_count": 171
        }
      ]
    },
    {
      "cell_type": "code",
      "metadata": {
        "tags": [],
        "cell_id": "00130-6a94540f-9393-4f73-99d2-8e955f3f52cd",
        "deepnote_to_be_reexecuted": false,
        "source_hash": "a7adf3ea",
        "execution_start": 1613789522031,
        "execution_millis": 8,
        "deepnote_cell_type": "code",
        "id": "-XgG6CFzqQ6f",
        "outputId": "736d7268-286f-420a-9d80-b5852f134535"
      },
      "source": [
        "fact(4)\n",
        "\n",
        "print(func_counters)"
      ],
      "execution_count": null,
      "outputs": [
        {
          "output_type": "stream",
          "text": [
            "{'add': 5, 'mult': 10, 'fact': 3}\n"
          ],
          "name": "stdout"
        }
      ]
    },
    {
      "cell_type": "code",
      "metadata": {
        "tags": [],
        "cell_id": "00131-8bc98f9b-0a7a-4b44-9dff-3c3a8935b357",
        "deepnote_cell_type": "code",
        "id": "-N97WZbQqQ6f"
      },
      "source": [
        ""
      ],
      "execution_count": null,
      "outputs": []
    },
    {
      "cell_type": "markdown",
      "metadata": {
        "tags": [],
        "created_in_deepnote_cell": true,
        "deepnote_cell_type": "markdown",
        "id": "fyD4DUDpqQ6f"
      },
      "source": [
        "<a style='text-decoration:none;line-height:16px;display:flex;color:#5B5B62;padding:10px;justify-content:end;' href='https://deepnote.com?utm_source=created-in-deepnote-cell&projectId=d12d8d6f-83dc-4873-bf00-aaff2a39293d' target=\"_blank\">\n",
        "<img style='display:inline;max-height:16px;margin:0px;margin-right:7.5px;' src='data:image/svg+xml;base64,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' > </img>\n",
        "Created in <span style='font-weight:600;margin-left:4px;'>Deepnote</span></a>"
      ]
    }
  ]
}