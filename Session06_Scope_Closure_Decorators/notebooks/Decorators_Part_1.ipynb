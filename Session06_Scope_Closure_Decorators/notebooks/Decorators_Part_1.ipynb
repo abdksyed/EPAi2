{
  "nbformat": 4,
  "nbformat_minor": 0,
  "metadata": {
    "orig_nbformat": 2,
    "deepnote_notebook_id": "dd221451-2111-4f51-be7f-b6ea8e42f533",
    "deepnote": {},
    "deepnote_execution_queue": [],
    "colab": {
      "name": "Decorators_Part_1.ipynb",
      "provenance": [],
      "include_colab_link": true
    }
  },
  "cells": [
    {
      "cell_type": "markdown",
      "metadata": {
        "id": "view-in-github",
        "colab_type": "text"
      },
      "source": [
        "<a href=\"https://colab.research.google.com/github/abdksyed/EPAi2/blob/main/Session06_Scope_Closure_Decorators/notebooks/Decorators_Part_1.ipynb\" target=\"_parent\"><img src=\"https://colab.research.google.com/assets/colab-badge.svg\" alt=\"Open In Colab\"/></a>"
      ]
    },
    {
      "cell_type": "code",
      "metadata": {
        "tags": [],
        "cell_id": "00000-f61b03bd-dd46-4e03-bb1b-06292ef66615",
        "deepnote_to_be_reexecuted": false,
        "source_hash": "41d33ae3",
        "execution_start": 1613790087777,
        "execution_millis": 0,
        "deepnote_cell_type": "code",
        "id": "-4ltsoKWqiph"
      },
      "source": [
        "def counter(fn):\n",
        "    count = 0\n",
        "    \n",
        "    def inner(*args, **kwargs):\n",
        "        nonlocal count\n",
        "        count += 1\n",
        "        print('Function {0} was called {1} times'.format(fn.__name__, count))\n",
        "        return fn(*args, **kwargs)\n",
        "    return inner"
      ],
      "execution_count": null,
      "outputs": []
    },
    {
      "cell_type": "code",
      "metadata": {
        "tags": [],
        "cell_id": "00001-b543818f-5ca5-4a6e-a91e-13560c2735e5",
        "deepnote_to_be_reexecuted": false,
        "source_hash": "ca36985c",
        "execution_start": 1613790109520,
        "execution_millis": 0,
        "deepnote_cell_type": "code",
        "id": "R6xOF7H_qip1"
      },
      "source": [
        "def add(a, b=0):\n",
        "    \"\"\"\n",
        "    returns the sum of a and b\n",
        "    \"\"\"\n",
        "    return a + b"
      ],
      "execution_count": null,
      "outputs": []
    },
    {
      "cell_type": "code",
      "metadata": {
        "tags": [],
        "cell_id": "00002-b66bb7c8-6095-46e5-84c3-41a0ff98298d",
        "deepnote_to_be_reexecuted": false,
        "source_hash": "2fd13b78",
        "execution_start": 1613790134501,
        "execution_millis": 4,
        "deepnote_cell_type": "code",
        "id": "8S7lOHNwqiqI",
        "outputId": "50742d2f-d083-449b-bc5e-849c9c7eec1c"
      },
      "source": [
        "id(add)"
      ],
      "execution_count": null,
      "outputs": [
        {
          "output_type": "execute_result",
          "data": {
            "text/plain": [
              "140649813566240"
            ]
          },
          "metadata": {
            "tags": []
          },
          "execution_count": 3
        }
      ]
    },
    {
      "cell_type": "code",
      "metadata": {
        "tags": [],
        "cell_id": "00003-cc6ae874-9b8a-4d75-ab9a-50e993ebe701",
        "deepnote_to_be_reexecuted": false,
        "source_hash": "397e603a",
        "execution_start": 1613790157427,
        "execution_millis": 2,
        "deepnote_cell_type": "code",
        "id": "IF0hN9P9qiqT"
      },
      "source": [
        "add = counter(add)"
      ],
      "execution_count": null,
      "outputs": []
    },
    {
      "cell_type": "code",
      "metadata": {
        "tags": [],
        "cell_id": "00004-d29ae49e-fe03-43ea-8d8c-11eaf167ce64",
        "deepnote_to_be_reexecuted": false,
        "source_hash": "2fd13b78",
        "execution_start": 1613790163137,
        "execution_millis": 4,
        "deepnote_cell_type": "code",
        "id": "qj4vGOyaqiqT",
        "outputId": "930a7a45-76ad-4471-a79f-843acc12e2a8"
      },
      "source": [
        "id(add)"
      ],
      "execution_count": null,
      "outputs": [
        {
          "output_type": "execute_result",
          "data": {
            "text/plain": [
              "140649813565952"
            ]
          },
          "metadata": {
            "tags": []
          },
          "execution_count": 5
        }
      ]
    },
    {
      "cell_type": "code",
      "metadata": {
        "tags": [],
        "cell_id": "00005-f6a542df-a427-4e28-bb6a-b33ca5c019c7",
        "deepnote_to_be_reexecuted": false,
        "source_hash": "af19736c",
        "execution_start": 1613790169525,
        "execution_millis": 6,
        "deepnote_cell_type": "code",
        "id": "NHxVRZs7qiqV",
        "outputId": "00b8adf1-face-4482-b2be-9c20a2f14b00"
      },
      "source": [
        "add(1, 2)"
      ],
      "execution_count": null,
      "outputs": [
        {
          "output_type": "stream",
          "text": [
            "Function add was called 1 times\n"
          ],
          "name": "stdout"
        },
        {
          "output_type": "execute_result",
          "data": {
            "text/plain": [
              "3"
            ]
          },
          "metadata": {
            "tags": []
          },
          "execution_count": 6
        }
      ]
    },
    {
      "cell_type": "code",
      "metadata": {
        "tags": [],
        "cell_id": "00006-024c35b4-c95b-4249-a6e8-05db79c2ddbd",
        "deepnote_to_be_reexecuted": false,
        "source_hash": "7419a895",
        "execution_start": 1613790174578,
        "execution_millis": 53,
        "deepnote_cell_type": "code",
        "id": "SZjE8KZdqiqW",
        "outputId": "0215d584-3205-40ba-b0b8-45b1d675deff"
      },
      "source": [
        "add(2, 2)"
      ],
      "execution_count": null,
      "outputs": [
        {
          "output_type": "stream",
          "text": [
            "Function add was called 2 times\n"
          ],
          "name": "stdout"
        },
        {
          "output_type": "execute_result",
          "data": {
            "text/plain": [
              "4"
            ]
          },
          "metadata": {
            "tags": []
          },
          "execution_count": 7
        }
      ]
    },
    {
      "cell_type": "code",
      "metadata": {
        "tags": [],
        "cell_id": "00007-23e4a7d4-abcd-4dcc-93c5-92c9c206c581",
        "deepnote_to_be_reexecuted": false,
        "source_hash": "41d33ae3",
        "execution_start": 1613790244029,
        "execution_millis": 1,
        "deepnote_cell_type": "code",
        "id": "brdNp3WhqiqY"
      },
      "source": [
        "def counter(fn):\n",
        "    count = 0\n",
        "    \n",
        "    def inner(*args, **kwargs):\n",
        "        nonlocal count\n",
        "        count += 1\n",
        "        print('Function {0} was called {1} times'.format(fn.__name__, count))\n",
        "        return fn(*args, **kwargs)\n",
        "    return inner"
      ],
      "execution_count": null,
      "outputs": []
    },
    {
      "cell_type": "code",
      "metadata": {
        "tags": [],
        "cell_id": "00008-aec50944-6a95-4243-9d52-31a20d09b94a",
        "deepnote_to_be_reexecuted": false,
        "source_hash": "13a104f0",
        "execution_start": 1613790257721,
        "execution_millis": 1,
        "deepnote_cell_type": "code",
        "id": "s7zSTCjkqiqZ"
      },
      "source": [
        "\n",
        "def mult(a: float, b: float=1, c: float=1) -> float:\n",
        "    \"\"\"\n",
        "    returns the product of a, b, and c\n",
        "    \"\"\"\n",
        "    return a * b * c"
      ],
      "execution_count": null,
      "outputs": []
    },
    {
      "cell_type": "code",
      "metadata": {
        "tags": [],
        "cell_id": "00009-6257c6e0-cfd4-4e78-945f-0ffbc1fb54f7",
        "deepnote_to_be_reexecuted": false,
        "source_hash": "c72e4e76",
        "execution_millis": 7,
        "execution_start": 1613790278858,
        "deepnote_cell_type": "code",
        "id": "bBB_BwdQqiqc",
        "outputId": "15e42f41-4544-425b-f561-b2e873ef35d9"
      },
      "source": [
        "mult = counter(mult)\n",
        "mult(1,2, 3)"
      ],
      "execution_count": null,
      "outputs": [
        {
          "output_type": "stream",
          "text": [
            "Function mult was called 1 times\n"
          ],
          "name": "stdout"
        },
        {
          "output_type": "execute_result",
          "data": {
            "text/plain": [
              "6"
            ]
          },
          "metadata": {
            "tags": []
          },
          "execution_count": 11
        }
      ]
    },
    {
      "cell_type": "code",
      "metadata": {
        "tags": [],
        "cell_id": "00010-e6e85a0d-1b36-483e-bbed-4736068e573e",
        "deepnote_to_be_reexecuted": false,
        "source_hash": "ca351d2",
        "execution_start": 1613790311344,
        "execution_millis": 6,
        "deepnote_cell_type": "code",
        "id": "RNiDCJhEqiqd",
        "outputId": "495d7d8e-4d55-4cab-ae92-33e6716d991a"
      },
      "source": [
        "def counter(fn):\n",
        "    count = 0\n",
        "    \n",
        "    def inner(*args, **kwargs):\n",
        "        nonlocal count\n",
        "        count += 1\n",
        "        print('Function {0} was called {1} times'.format(fn.__name__, count))\n",
        "        return fn(*args, **kwargs)\n",
        "    return inner\n",
        "\n",
        "@counter # ====> mult = counter(mult)\n",
        "def mult(a: float, b: float=1, c: float=1) -> float:\n",
        "    \"\"\"\n",
        "    returns the product of a, b, and c\n",
        "    \"\"\"\n",
        "    return a * b * c\n",
        "\n",
        "mult(1,2, 3)"
      ],
      "execution_count": null,
      "outputs": [
        {
          "output_type": "stream",
          "text": [
            "Function mult was called 1 times\n"
          ],
          "name": "stdout"
        },
        {
          "output_type": "execute_result",
          "data": {
            "text/plain": [
              "6"
            ]
          },
          "metadata": {
            "tags": []
          },
          "execution_count": 12
        }
      ]
    },
    {
      "cell_type": "code",
      "metadata": {
        "tags": [],
        "cell_id": "00011-03542bc3-ce53-418a-b65c-4bd7e6efdf53",
        "deepnote_to_be_reexecuted": false,
        "source_hash": "b146025e",
        "execution_start": 1613790377619,
        "execution_millis": 5,
        "deepnote_cell_type": "code",
        "id": "9eZeICgEqiqf",
        "outputId": "3bc4863b-336e-43ed-c9c2-b617ab27a981"
      },
      "source": [
        "mult.__name__"
      ],
      "execution_count": null,
      "outputs": [
        {
          "output_type": "execute_result",
          "data": {
            "text/plain": [
              "'inner'"
            ]
          },
          "metadata": {
            "tags": []
          },
          "execution_count": 13
        }
      ]
    },
    {
      "cell_type": "code",
      "metadata": {
        "tags": [],
        "cell_id": "00012-f563395c-0a17-40da-99e0-2868a96d7c20",
        "deepnote_to_be_reexecuted": false,
        "source_hash": "d599ab50",
        "execution_start": 1613790410211,
        "execution_millis": 9,
        "deepnote_cell_type": "code",
        "id": "qWH8lgELqiqg",
        "outputId": "cbb68a95-09fb-499f-bf58-1c95bf757791"
      },
      "source": [
        "help(mult)"
      ],
      "execution_count": null,
      "outputs": [
        {
          "output_type": "stream",
          "text": [
            "Help on function inner in module __main__:\n",
            "\n",
            "inner(*args, **kwargs)\n",
            "\n"
          ],
          "name": "stdout"
        }
      ]
    },
    {
      "cell_type": "code",
      "metadata": {
        "tags": [],
        "cell_id": "00013-38be1a00-30c8-4c8b-896b-2a18a81d3b71",
        "deepnote_to_be_reexecuted": false,
        "source_hash": "e0eee1c8",
        "execution_start": 1613790437694,
        "execution_millis": 8,
        "deepnote_cell_type": "code",
        "id": "Gz1K2Hmgqiqh",
        "outputId": "f5b2c28f-a816-448a-be54-3dc942ac63df"
      },
      "source": [
        "import inspect\n",
        "\n",
        "inspect.getsource(mult)"
      ],
      "execution_count": null,
      "outputs": [
        {
          "output_type": "execute_result",
          "data": {
            "text/plain": [
              "\"    def inner(*args, **kwargs):\\n        nonlocal count\\n        count += 1\\n        print('Function {0} was called {1} times'.format(fn.__name__, count))\\n        return fn(*args, **kwargs)\\n\""
            ]
          },
          "metadata": {
            "tags": []
          },
          "execution_count": 15
        }
      ]
    },
    {
      "cell_type": "code",
      "metadata": {
        "tags": [],
        "cell_id": "00014-e95d7089-30f1-40d1-aec0-917d054c34df",
        "deepnote_to_be_reexecuted": false,
        "source_hash": "4b914a62",
        "execution_start": 1613790449742,
        "execution_millis": 45,
        "deepnote_cell_type": "code",
        "id": "omIAhUDpqiqi",
        "outputId": "50420217-e0d0-4a74-8800-5171c3c29f66"
      },
      "source": [
        "inspect.signature(mult)"
      ],
      "execution_count": null,
      "outputs": [
        {
          "output_type": "execute_result",
          "data": {
            "text/plain": [
              "<Signature (*args, **kwargs)>"
            ]
          },
          "metadata": {
            "tags": []
          },
          "execution_count": 16
        }
      ]
    },
    {
      "cell_type": "code",
      "metadata": {
        "tags": [],
        "cell_id": "00015-195f349e-cb26-4e33-8f83-943e08aaf966",
        "deepnote_to_be_reexecuted": false,
        "source_hash": "3a310d54",
        "execution_start": 1613790466042,
        "execution_millis": 5,
        "deepnote_cell_type": "code",
        "id": "VKIPk8qpqiqj",
        "outputId": "fb6e649c-feaa-4711-f1b8-5afadf79fe14"
      },
      "source": [
        "inspect.signature(mult).parameters"
      ],
      "execution_count": null,
      "outputs": [
        {
          "output_type": "execute_result",
          "data": {
            "text/plain": [
              "mappingproxy({'args': <Parameter \"*args\">, 'kwargs': <Parameter \"**kwargs\">})"
            ]
          },
          "metadata": {
            "tags": []
          },
          "execution_count": 17
        }
      ]
    },
    {
      "cell_type": "code",
      "metadata": {
        "tags": [],
        "cell_id": "00016-9dc86ac1-29e4-4799-8c84-41098b21ae99",
        "deepnote_to_be_reexecuted": false,
        "source_hash": "1180c3d8",
        "execution_start": 1613790504757,
        "execution_millis": 1,
        "deepnote_cell_type": "code",
        "id": "mX9h10j6qiqk"
      },
      "source": [
        "def counter(fn):\n",
        "    count = 0\n",
        "    def inner(*args, **kwargs):\n",
        "        nonlocal count\n",
        "        count += 1\n",
        "        print(\"{0} was called {1} times\".format(fn.__name__, count))\n",
        "    inner.__name__ = fn.__name__\n",
        "    inner.__doc__ = fn.__doc__\n",
        "    return inner\n",
        "\n",
        "@counter\n",
        "def add(a: int, b: int=10) -> int:\n",
        "    \"\"\"\n",
        "    returns sum of two integers\n",
        "    \"\"\"\n",
        "    return a + b"
      ],
      "execution_count": null,
      "outputs": []
    },
    {
      "cell_type": "code",
      "metadata": {
        "tags": [],
        "cell_id": "00017-b246429e-5366-4288-b3a5-bd8e33daad39",
        "deepnote_to_be_reexecuted": false,
        "source_hash": "2ea7dcbc",
        "execution_start": 1613790509931,
        "execution_millis": 6,
        "deepnote_cell_type": "code",
        "id": "VExUdcQOqiqk",
        "outputId": "30cf80a3-b068-49a4-d6a7-73742e868e03"
      },
      "source": [
        "help(add)"
      ],
      "execution_count": null,
      "outputs": [
        {
          "output_type": "stream",
          "text": [
            "Help on function add in module __main__:\n",
            "\n",
            "add(*args, **kwargs)\n",
            "    returns sum of two integers\n",
            "\n"
          ],
          "name": "stdout"
        }
      ]
    },
    {
      "cell_type": "code",
      "metadata": {
        "tags": [],
        "cell_id": "00018-ee70fcba-1453-471d-a97c-a76410a5a324",
        "deepnote_to_be_reexecuted": false,
        "source_hash": "d47ab081",
        "execution_start": 1613790515797,
        "execution_millis": 6,
        "deepnote_cell_type": "code",
        "id": "EMySRUGfqiql",
        "outputId": "14d0f145-1a9a-4641-c739-d0fd81b604ed"
      },
      "source": [
        "add.__name__"
      ],
      "execution_count": null,
      "outputs": [
        {
          "output_type": "execute_result",
          "data": {
            "text/plain": [
              "'add'"
            ]
          },
          "metadata": {
            "tags": []
          },
          "execution_count": 20
        }
      ]
    },
    {
      "cell_type": "code",
      "metadata": {
        "tags": [],
        "cell_id": "00019-925b8fa2-c978-4770-bea4-ed95b2e18154",
        "deepnote_to_be_reexecuted": false,
        "source_hash": "fae43a0f",
        "execution_millis": 3,
        "execution_start": 1613790653446,
        "deepnote_cell_type": "code",
        "id": "qwL2Jj2Fqiqm"
      },
      "source": [
        "from functools import wraps\n",
        "\n",
        "def counter(fn):\n",
        "    count = 0\n",
        "\n",
        "    @wraps(fn)\n",
        "    def inner(*args, **kwargs):\n",
        "        nonlocal count\n",
        "        count += 1\n",
        "        print(\"{0} was called {1} times\".format(fn.__name__, count))\n",
        "    return inner"
      ],
      "execution_count": null,
      "outputs": []
    },
    {
      "cell_type": "code",
      "metadata": {
        "tags": [],
        "cell_id": "00020-7f10a122-8cab-4235-9bbd-d3a34ce31b6a",
        "deepnote_to_be_reexecuted": false,
        "source_hash": "6a480514",
        "execution_millis": 1,
        "execution_start": 1613790654262,
        "deepnote_cell_type": "code",
        "id": "m4lHsxFaqiqm"
      },
      "source": [
        "@counter\n",
        "def add(a: int, b: int=10) -> int:\n",
        "    \"\"\"\n",
        "    returns sum of two integers\n",
        "    \"\"\"\n",
        "    return a + b"
      ],
      "execution_count": null,
      "outputs": []
    },
    {
      "cell_type": "code",
      "metadata": {
        "tags": [],
        "cell_id": "00021-22b16b2b-895c-4a5b-985f-f9643b4fb69f",
        "deepnote_to_be_reexecuted": false,
        "source_hash": "2ea7dcbc",
        "execution_millis": 7,
        "execution_start": 1613790654694,
        "deepnote_cell_type": "code",
        "id": "5Nq04CzEqiqn",
        "outputId": "051f916e-4238-4bfd-8e06-3f977e84fc9a"
      },
      "source": [
        "help(add)"
      ],
      "execution_count": null,
      "outputs": [
        {
          "output_type": "stream",
          "text": [
            "Help on function add in module __main__:\n",
            "\n",
            "add(a: int, b: int = 10) -> int\n",
            "    returns sum of two integers\n",
            "\n"
          ],
          "name": "stdout"
        }
      ]
    },
    {
      "cell_type": "code",
      "metadata": {
        "tags": [],
        "cell_id": "00022-e103dda5-c850-4360-87e0-de4cc801d2a3",
        "deepnote_to_be_reexecuted": false,
        "source_hash": "c9262932",
        "execution_start": 1613790671405,
        "execution_millis": 6,
        "deepnote_cell_type": "code",
        "id": "mVOx8wCYqiqo",
        "outputId": "14e799e2-99b9-4412-ce75-98ec44bd1728"
      },
      "source": [
        "inspect.getsource(add)"
      ],
      "execution_count": null,
      "outputs": [
        {
          "output_type": "execute_result",
          "data": {
            "text/plain": [
              "'@counter\\ndef add(a: int, b: int=10) -> int:\\n    \"\"\"\\n    returns sum of two integers\\n    \"\"\"\\n    return a + b\\n'"
            ]
          },
          "metadata": {
            "tags": []
          },
          "execution_count": 27
        }
      ]
    },
    {
      "cell_type": "code",
      "metadata": {
        "tags": [],
        "cell_id": "00023-681b2f32-fdcf-4a71-bbc8-2b763168c042",
        "deepnote_to_be_reexecuted": false,
        "source_hash": "cbffba22",
        "execution_start": 1613790676600,
        "execution_millis": 5,
        "deepnote_cell_type": "code",
        "id": "Q63dtw-Bqiqo",
        "outputId": "e58a6407-9e17-4abd-bbab-44e9f6a5db8a"
      },
      "source": [
        "inspect.signature(add)"
      ],
      "execution_count": null,
      "outputs": [
        {
          "output_type": "execute_result",
          "data": {
            "text/plain": [
              "<Signature (a: int, b: int = 10) -> int>"
            ]
          },
          "metadata": {
            "tags": []
          },
          "execution_count": 28
        }
      ]
    },
    {
      "cell_type": "code",
      "metadata": {
        "tags": [],
        "cell_id": "00024-0c2f91fc-b3a5-47c2-b89d-fb8708304271",
        "deepnote_to_be_reexecuted": false,
        "source_hash": "5e6de67a",
        "execution_start": 1613790680010,
        "execution_millis": 6,
        "deepnote_cell_type": "code",
        "id": "es1YUGXsqiqp",
        "outputId": "f3f2867d-65ee-4152-cfaa-5fbe4486112c"
      },
      "source": [
        "inspect.signature(add).parameters"
      ],
      "execution_count": null,
      "outputs": [
        {
          "output_type": "execute_result",
          "data": {
            "text/plain": [
              "mappingproxy({'a': <Parameter \"a: int\">, 'b': <Parameter \"b: int = 10\">})"
            ]
          },
          "metadata": {
            "tags": []
          },
          "execution_count": 29
        }
      ]
    },
    {
      "cell_type": "code",
      "metadata": {
        "tags": [],
        "cell_id": "00025-ba4c20bf-6c49-4385-9d91-68c9db3d149b",
        "deepnote_to_be_reexecuted": false,
        "source_hash": "f894df50",
        "execution_start": 1613790875701,
        "execution_millis": 2,
        "deepnote_cell_type": "code",
        "id": "F59KWhtrqiqq"
      },
      "source": [
        "def timed(fn):\n",
        "    from time import perf_counter\n",
        "    from functools import wraps\n",
        "    \n",
        "    @wraps(fn)\n",
        "    def inner(*args, **kwargs):\n",
        "        start = perf_counter()\n",
        "        result = fn(*args, **kwargs)\n",
        "        end = perf_counter()\n",
        "        elapsed = end - start\n",
        "        \n",
        "        args_ = [str(a) for a in args]\n",
        "        kwargs_ = ['{0}={1}'.format(k, v) for (k, v) in kwargs.items()]\n",
        "        all_args = args_ + kwargs_\n",
        "        args_str = ','.join(all_args)\n",
        "        print('{0}({1}) took {2:.6f}s to run.'.format(fn.__name__, \n",
        "                                                         args_str,\n",
        "                                                         elapsed))\n",
        "        return result\n",
        "    \n",
        "    return inner"
      ],
      "execution_count": null,
      "outputs": []
    },
    {
      "cell_type": "code",
      "metadata": {
        "tags": [],
        "cell_id": "00026-dcf4baad-dc78-46d5-8d79-0d463b8ffb7c",
        "deepnote_to_be_reexecuted": false,
        "source_hash": "2fbd1d59",
        "execution_millis": 3,
        "execution_start": 1613790949074,
        "deepnote_cell_type": "code",
        "id": "LSkDooIGqiqs"
      },
      "source": [
        "# 1 , 1, 2, 3, 5, 8, 13.. \n",
        "\n",
        "def calc_recursive_fib(n):\n",
        "    if n <= 2:\n",
        "        return 1\n",
        "    else:\n",
        "        return calc_recursive_fib(n - 1) + calc_recursive_fib(n - 2)"
      ],
      "execution_count": null,
      "outputs": []
    },
    {
      "cell_type": "code",
      "metadata": {
        "tags": [],
        "cell_id": "00027-5bbe59e5-2700-497b-ac07-c2446af4ec3d",
        "deepnote_to_be_reexecuted": false,
        "source_hash": "7f40a7a1",
        "execution_millis": 9,
        "execution_start": 1613790949356,
        "deepnote_cell_type": "code",
        "id": "pGC18S4rqiqy",
        "outputId": "70f66a0f-e179-466f-9b9f-a51e67b5cc6d"
      },
      "source": [
        "calc_recursive_fib(3)"
      ],
      "execution_count": null,
      "outputs": [
        {
          "output_type": "execute_result",
          "data": {
            "text/plain": [
              "2"
            ]
          },
          "metadata": {
            "tags": []
          },
          "execution_count": 35
        }
      ]
    },
    {
      "cell_type": "code",
      "metadata": {
        "tags": [],
        "cell_id": "00028-da7bb49e-6cf7-460d-8525-377a850994b3",
        "deepnote_to_be_reexecuted": false,
        "source_hash": "ba41c72f",
        "execution_start": 1613790959962,
        "execution_millis": 5,
        "deepnote_cell_type": "code",
        "id": "5pzq2onhqiqz",
        "outputId": "a12a68f0-2ff7-4ccd-ec3c-1125e33787c4"
      },
      "source": [
        "calc_recursive_fib(6)"
      ],
      "execution_count": null,
      "outputs": [
        {
          "output_type": "execute_result",
          "data": {
            "text/plain": [
              "8"
            ]
          },
          "metadata": {
            "tags": []
          },
          "execution_count": 36
        }
      ]
    },
    {
      "cell_type": "code",
      "metadata": {
        "tags": [],
        "cell_id": "00029-a3b10ff1-c908-469a-8396-653d4f238d1c",
        "deepnote_to_be_reexecuted": false,
        "source_hash": "ad0ce40f",
        "execution_start": 1613791012204,
        "execution_millis": 703,
        "deepnote_cell_type": "code",
        "id": "Ro2j6alkqiq1",
        "outputId": "89140c87-79cd-4ec4-bf15-97881814da07"
      },
      "source": [
        "@timed\n",
        "def fib_recursed(n):\n",
        "    return calc_recursive_fib(n)\n",
        "\n",
        "fib_recursed(33)"
      ],
      "execution_count": null,
      "outputs": [
        {
          "output_type": "stream",
          "text": [
            "fib_recursed(33) took 0.730352s to run.\n"
          ],
          "name": "stdout"
        },
        {
          "output_type": "execute_result",
          "data": {
            "text/plain": [
              "3524578"
            ]
          },
          "metadata": {
            "tags": []
          },
          "execution_count": 37
        }
      ]
    },
    {
      "cell_type": "code",
      "metadata": {
        "tags": [],
        "cell_id": "00030-5c46dbef-9133-489a-bc29-3427c04941d2",
        "deepnote_to_be_reexecuted": false,
        "source_hash": "bcde4597",
        "execution_start": 1613791020341,
        "execution_millis": 1114,
        "deepnote_cell_type": "code",
        "id": "9nPjM5T8qiq2",
        "outputId": "33c4d879-dfe8-492e-d4da-935e3393a57f"
      },
      "source": [
        "fib_recursed(34)"
      ],
      "execution_count": null,
      "outputs": [
        {
          "output_type": "stream",
          "text": [
            "fib_recursed(34) took 1.145739s to run.\n"
          ],
          "name": "stdout"
        },
        {
          "output_type": "execute_result",
          "data": {
            "text/plain": [
              "5702887"
            ]
          },
          "metadata": {
            "tags": []
          },
          "execution_count": 38
        }
      ]
    },
    {
      "cell_type": "code",
      "metadata": {
        "tags": [],
        "cell_id": "00031-0be7ebd3-5792-43e3-bacf-ae1d94794906",
        "deepnote_to_be_reexecuted": false,
        "source_hash": "7b2c058f",
        "execution_start": 1613791028496,
        "execution_millis": 1770,
        "deepnote_cell_type": "code",
        "id": "aVnsIVzwqiq3",
        "outputId": "dfbf655f-86a5-4e39-a7f5-75e8c22e66b3"
      },
      "source": [
        "fib_recursed(35)"
      ],
      "execution_count": null,
      "outputs": [
        {
          "output_type": "stream",
          "text": [
            "fib_recursed(35) took 1.817417s to run.\n"
          ],
          "name": "stdout"
        },
        {
          "output_type": "execute_result",
          "data": {
            "text/plain": [
              "9227465"
            ]
          },
          "metadata": {
            "tags": []
          },
          "execution_count": 39
        }
      ]
    },
    {
      "cell_type": "code",
      "metadata": {
        "tags": [],
        "cell_id": "00032-63c5528b-e69c-448b-8019-585f7fb2aef5",
        "deepnote_to_be_reexecuted": false,
        "source_hash": "e73334c",
        "execution_millis": 43,
        "execution_start": 1613791061526,
        "deepnote_cell_type": "code",
        "id": "U7ESFdhQqiq4"
      },
      "source": [
        "@timed\n",
        "def calc_recursive_fib(n):\n",
        "    if n <= 2:\n",
        "        return 1\n",
        "    else:\n",
        "        return calc_recursive_fib(n - 1) + calc_recursive_fib(n - 2)"
      ],
      "execution_count": null,
      "outputs": []
    },
    {
      "cell_type": "code",
      "metadata": {
        "tags": [],
        "cell_id": "00033-1669f867-4eb3-4431-b205-f136ed77485d",
        "deepnote_to_be_reexecuted": false,
        "source_hash": "19f9543e",
        "execution_start": 1613791067804,
        "execution_millis": 20,
        "deepnote_cell_type": "code",
        "id": "bfD4qR5Mqiq4",
        "outputId": "32788d98-613e-4ebc-843b-99b10b4cd883"
      },
      "source": [
        "calc_recursive_fib(10)"
      ],
      "execution_count": null,
      "outputs": [
        {
          "output_type": "stream",
          "text": [
            "calc_recursive_fib(2) took 0.000001s to run.\n",
            "calc_recursive_fib(1) took 0.000001s to run.\n",
            "calc_recursive_fib(3) took 0.000671s to run.\n",
            "calc_recursive_fib(2) took 0.000000s to run.\n",
            "calc_recursive_fib(4) took 0.000734s to run.\n",
            "calc_recursive_fib(2) took 0.000000s to run.\n",
            "calc_recursive_fib(1) took 0.000001s to run.\n",
            "calc_recursive_fib(3) took 0.000174s to run.\n",
            "calc_recursive_fib(5) took 0.000980s to run.\n",
            "calc_recursive_fib(2) took 0.000000s to run.\n",
            "calc_recursive_fib(1) took 0.000000s to run.\n",
            "calc_recursive_fib(3) took 0.000072s to run.\n",
            "calc_recursive_fib(2) took 0.000000s to run.\n",
            "calc_recursive_fib(4) took 0.000140s to run.\n",
            "calc_recursive_fib(6) took 0.001183s to run.\n",
            "calc_recursive_fib(2) took 0.000000s to run.\n",
            "calc_recursive_fib(1) took 0.000000s to run.\n",
            "calc_recursive_fib(3) took 0.000076s to run.\n",
            "calc_recursive_fib(2) took 0.000000s to run.\n",
            "calc_recursive_fib(4) took 0.000156s to run.\n",
            "calc_recursive_fib(2) took 0.000000s to run.\n",
            "calc_recursive_fib(1) took 0.000000s to run.\n",
            "calc_recursive_fib(3) took 0.000072s to run.\n",
            "calc_recursive_fib(5) took 0.000299s to run.\n",
            "calc_recursive_fib(7) took 0.001547s to run.\n",
            "calc_recursive_fib(2) took 0.000000s to run.\n",
            "calc_recursive_fib(1) took 0.000000s to run.\n",
            "calc_recursive_fib(3) took 0.000084s to run.\n",
            "calc_recursive_fib(2) took 0.000001s to run.\n",
            "calc_recursive_fib(4) took 0.000158s to run.\n",
            "calc_recursive_fib(2) took 0.000000s to run.\n",
            "calc_recursive_fib(1) took 0.000000s to run.\n",
            "calc_recursive_fib(3) took 0.000060s to run.\n",
            "calc_recursive_fib(5) took 0.000291s to run.\n",
            "calc_recursive_fib(2) took 0.000000s to run.\n",
            "calc_recursive_fib(1) took 0.000000s to run.\n",
            "calc_recursive_fib(3) took 0.000062s to run.\n",
            "calc_recursive_fib(2) took 0.000001s to run.\n",
            "calc_recursive_fib(4) took 0.003546s to run.\n",
            "calc_recursive_fib(6) took 0.003919s to run.\n",
            "calc_recursive_fib(8) took 0.005539s to run.\n",
            "calc_recursive_fib(2) took 0.000000s to run.\n",
            "calc_recursive_fib(1) took 0.000000s to run.\n",
            "calc_recursive_fib(3) took 0.000067s to run.\n",
            "calc_recursive_fib(2) took 0.000001s to run.\n",
            "calc_recursive_fib(4) took 0.000131s to run.\n",
            "calc_recursive_fib(2) took 0.000000s to run.\n",
            "calc_recursive_fib(1) took 0.000000s to run.\n",
            "calc_recursive_fib(3) took 0.000067s to run.\n",
            "calc_recursive_fib(5) took 0.000258s to run.\n",
            "calc_recursive_fib(2) took 0.000000s to run.\n",
            "calc_recursive_fib(1) took 0.000001s to run.\n",
            "calc_recursive_fib(3) took 0.000068s to run.\n",
            "calc_recursive_fib(2) took 0.000000s to run.\n",
            "calc_recursive_fib(4) took 0.000130s to run.\n",
            "calc_recursive_fib(6) took 0.000452s to run.\n",
            "calc_recursive_fib(2) took 0.000000s to run.\n",
            "calc_recursive_fib(1) took 0.000000s to run.\n",
            "calc_recursive_fib(3) took 0.000065s to run.\n",
            "calc_recursive_fib(2) took 0.000000s to run.\n",
            "calc_recursive_fib(4) took 0.000131s to run.\n",
            "calc_recursive_fib(2) took 0.000000s to run.\n",
            "calc_recursive_fib(1) took 0.000000s to run.\n",
            "calc_recursive_fib(3) took 0.000064s to run.\n",
            "calc_recursive_fib(5) took 0.000260s to run.\n",
            "calc_recursive_fib(7) took 0.000780s to run.\n",
            "calc_recursive_fib(9) took 0.006383s to run.\n",
            "calc_recursive_fib(2) took 0.000000s to run.\n",
            "calc_recursive_fib(1) took 0.000000s to run.\n",
            "calc_recursive_fib(3) took 0.000069s to run.\n",
            "calc_recursive_fib(2) took 0.000000s to run.\n",
            "calc_recursive_fib(4) took 0.000137s to run.\n",
            "calc_recursive_fib(2) took 0.000000s to run.\n",
            "calc_recursive_fib(1) took 0.000000s to run.\n",
            "calc_recursive_fib(3) took 0.000120s to run.\n",
            "calc_recursive_fib(5) took 0.000332s to run.\n",
            "calc_recursive_fib(2) took 0.000000s to run.\n",
            "calc_recursive_fib(1) took 0.000001s to run.\n",
            "calc_recursive_fib(3) took 0.000075s to run.\n",
            "calc_recursive_fib(2) took 0.000000s to run.\n",
            "calc_recursive_fib(4) took 0.000141s to run.\n",
            "calc_recursive_fib(6) took 0.000540s to run.\n",
            "calc_recursive_fib(2) took 0.000000s to run.\n",
            "calc_recursive_fib(1) took 0.000000s to run.\n",
            "calc_recursive_fib(3) took 0.000065s to run.\n",
            "calc_recursive_fib(2) took 0.000000s to run.\n",
            "calc_recursive_fib(4) took 0.000130s to run.\n",
            "calc_recursive_fib(2) took 0.000000s to run.\n",
            "calc_recursive_fib(1) took 0.000000s to run.\n",
            "calc_recursive_fib(3) took 0.000062s to run.\n",
            "calc_recursive_fib(5) took 0.000261s to run.\n",
            "calc_recursive_fib(7) took 0.000870s to run.\n",
            "calc_recursive_fib(2) took 0.000000s to run.\n",
            "calc_recursive_fib(1) took 0.000001s to run.\n",
            "calc_recursive_fib(3) took 0.000075s to run.\n",
            "calc_recursive_fib(2) took 0.000000s to run.\n",
            "calc_recursive_fib(4) took 0.000139s to run.\n",
            "calc_recursive_fib(2) took 0.000000s to run.\n",
            "calc_recursive_fib(1) took 0.000000s to run.\n",
            "calc_recursive_fib(3) took 0.000068s to run.\n",
            "calc_recursive_fib(5) took 0.000271s to run.\n",
            "calc_recursive_fib(2) took 0.000000s to run.\n",
            "calc_recursive_fib(1) took 0.000000s to run.\n",
            "calc_recursive_fib(3) took 0.000064s to run.\n",
            "calc_recursive_fib(2) took 0.000000s to run.\n",
            "calc_recursive_fib(4) took 0.000123s to run.\n",
            "calc_recursive_fib(6) took 0.000461s to run.\n",
            "calc_recursive_fib(8) took 0.001397s to run.\n",
            "calc_recursive_fib(10) took 0.007860s to run.\n"
          ],
          "name": "stdout"
        },
        {
          "output_type": "execute_result",
          "data": {
            "text/plain": [
              "55"
            ]
          },
          "metadata": {
            "tags": []
          },
          "execution_count": 42
        }
      ]
    },
    {
      "cell_type": "code",
      "metadata": {
        "tags": [],
        "cell_id": "00034-891c3afa-8183-4932-ac73-fb40a0c164ad",
        "deepnote_to_be_reexecuted": false,
        "source_hash": "f7c618f5",
        "execution_start": 1613791153847,
        "execution_millis": 1,
        "deepnote_cell_type": "code",
        "id": "Q1EcihC2qiq7"
      },
      "source": [
        "@timed\n",
        "def fib_loop(n):\n",
        "    fib_1 = 1\n",
        "    fib_2 = 1\n",
        "    for i in range(3, n+1):\n",
        "        fib_1, fib_2 = fib_2, fib_1 + fib_2\n",
        "    return fib_2"
      ],
      "execution_count": null,
      "outputs": []
    },
    {
      "cell_type": "code",
      "metadata": {
        "tags": [],
        "cell_id": "00035-047dc76c-8016-46c1-b3c2-860d51fcfcd0",
        "deepnote_to_be_reexecuted": false,
        "source_hash": "2d8086bd",
        "execution_start": 1613791158562,
        "execution_millis": 9,
        "deepnote_cell_type": "code",
        "id": "gEMrxCpsqiq-",
        "outputId": "50c73d3a-b97c-480c-b787-d08aa2d46ced"
      },
      "source": [
        "fib_loop(3)"
      ],
      "execution_count": null,
      "outputs": [
        {
          "output_type": "stream",
          "text": [
            "fib_loop(3) took 0.000002s to run.\n"
          ],
          "name": "stdout"
        },
        {
          "output_type": "execute_result",
          "data": {
            "text/plain": [
              "2"
            ]
          },
          "metadata": {
            "tags": []
          },
          "execution_count": 44
        }
      ]
    },
    {
      "cell_type": "code",
      "metadata": {
        "tags": [],
        "cell_id": "00036-d0455803-6b41-4d2f-85b1-424fa00ba264",
        "deepnote_to_be_reexecuted": false,
        "source_hash": "d0b8b4d0",
        "execution_start": 1613791163105,
        "execution_millis": 10,
        "deepnote_cell_type": "code",
        "id": "MhLH2yiqqirB",
        "outputId": "0f72aef6-49a6-4c4f-bb79-6d46bf360d71"
      },
      "source": [
        "fib_loop(6)"
      ],
      "execution_count": null,
      "outputs": [
        {
          "output_type": "stream",
          "text": [
            "fib_loop(6) took 0.000003s to run.\n"
          ],
          "name": "stdout"
        },
        {
          "output_type": "execute_result",
          "data": {
            "text/plain": [
              "8"
            ]
          },
          "metadata": {
            "tags": []
          },
          "execution_count": 45
        }
      ]
    },
    {
      "cell_type": "code",
      "metadata": {
        "tags": [],
        "cell_id": "00037-fb086e83-207f-48dd-beb5-d035e9db6049",
        "deepnote_to_be_reexecuted": false,
        "source_hash": "2af10e50",
        "execution_start": 1613791178027,
        "execution_millis": 8,
        "deepnote_cell_type": "code",
        "id": "N3pDr1gdqirC",
        "outputId": "470f4c9b-bf3d-422b-ebf0-3b21eeaf4b97"
      },
      "source": [
        "fib_loop(35)"
      ],
      "execution_count": null,
      "outputs": [
        {
          "output_type": "stream",
          "text": [
            "fib_loop(35) took 0.000004s to run.\n"
          ],
          "name": "stdout"
        },
        {
          "output_type": "execute_result",
          "data": {
            "text/plain": [
              "9227465"
            ]
          },
          "metadata": {
            "tags": []
          },
          "execution_count": 46
        }
      ]
    },
    {
      "cell_type": "code",
      "metadata": {
        "tags": [],
        "cell_id": "00038-d6c3cf04-48b8-4f36-b6f8-aa2c9db86c0e",
        "deepnote_to_be_reexecuted": false,
        "source_hash": "61d547f8",
        "execution_millis": 1,
        "execution_start": 1613791268646,
        "deepnote_cell_type": "code",
        "id": "gjyUhcBlqirC"
      },
      "source": [
        "from functools import reduce\n",
        "\n",
        "@timed\n",
        "def fib_reduce(n):\n",
        "    initial = (1, 0)\n",
        "    dummy = range(n)\n",
        "    fib_n = reduce(lambda prev, n: (prev[0] + prev[1], prev[0]), \n",
        "                   dummy, \n",
        "                   initial)\n",
        "    return fib_n[0]                  "
      ],
      "execution_count": null,
      "outputs": []
    },
    {
      "cell_type": "code",
      "metadata": {
        "tags": [],
        "cell_id": "00039-1ba81dd3-cd7c-42c2-9e49-7a873c510706",
        "deepnote_to_be_reexecuted": false,
        "source_hash": "236e75c3",
        "execution_start": 1613791273281,
        "execution_millis": 5,
        "deepnote_cell_type": "code",
        "id": "iSoH0ctVqirD",
        "outputId": "a32a7e35-e467-4f9c-8a57-acba7bc80da3"
      },
      "source": [
        "fib_reduce(3)"
      ],
      "execution_count": null,
      "outputs": [
        {
          "output_type": "stream",
          "text": [
            "fib_reduce(3) took 0.000004s to run.\n"
          ],
          "name": "stdout"
        },
        {
          "output_type": "execute_result",
          "data": {
            "text/plain": [
              "3"
            ]
          },
          "metadata": {
            "tags": []
          },
          "execution_count": 49
        }
      ]
    },
    {
      "cell_type": "code",
      "metadata": {
        "tags": [],
        "cell_id": "00040-7cf2e591-8be5-4389-bc96-7958556491f9",
        "deepnote_to_be_reexecuted": false,
        "source_hash": "514d50d3",
        "execution_start": 1613791279705,
        "execution_millis": 8,
        "deepnote_cell_type": "code",
        "id": "DTkakxPyqirF",
        "outputId": "4b4a6c3b-60cf-472a-8e71-6b16a96da6d6"
      },
      "source": [
        "fib_reduce(35)"
      ],
      "execution_count": null,
      "outputs": [
        {
          "output_type": "stream",
          "text": [
            "fib_reduce(35) took 0.000010s to run.\n"
          ],
          "name": "stdout"
        },
        {
          "output_type": "execute_result",
          "data": {
            "text/plain": [
              "14930352"
            ]
          },
          "metadata": {
            "tags": []
          },
          "execution_count": 50
        }
      ]
    },
    {
      "cell_type": "code",
      "metadata": {
        "tags": [],
        "cell_id": "00041-32a46280-4c17-4c8d-b8cf-ce09d4a086e3",
        "deepnote_to_be_reexecuted": false,
        "source_hash": "26385aab",
        "execution_millis": 8,
        "execution_start": 1613791341311,
        "deepnote_cell_type": "code",
        "id": "_f0mEvnrqirI",
        "outputId": "08f7ffc9-bba0-4877-c51d-f7abde1c8590"
      },
      "source": [
        "# fib_recursed(35)\n",
        "fib_loop(35)\n",
        "fib_reduce(35)"
      ],
      "execution_count": null,
      "outputs": [
        {
          "output_type": "stream",
          "text": [
            "fib_loop(35) took 0.000005s to run.\n",
            "fib_reduce(35) took 0.000009s to run.\n"
          ],
          "name": "stdout"
        },
        {
          "output_type": "execute_result",
          "data": {
            "text/plain": [
              "14930352"
            ]
          },
          "metadata": {
            "tags": []
          },
          "execution_count": 52
        }
      ]
    },
    {
      "cell_type": "code",
      "metadata": {
        "tags": [],
        "cell_id": "00042-6e5ac7f1-839e-40a6-a81b-6c3679cacbb5",
        "deepnote_to_be_reexecuted": false,
        "source_hash": "d1cd400d",
        "execution_start": 1613791402041,
        "execution_millis": 1,
        "deepnote_cell_type": "code",
        "id": "Q7MBNyllqirK"
      },
      "source": [
        "def logged(fn):\n",
        "    from functools import wraps\n",
        "    from datetime import datetime, timezone\n",
        "    \n",
        "    @wraps(fn)\n",
        "    def inner(*args, **kwargs):\n",
        "        run_dt = datetime.now(timezone.utc)\n",
        "        result = fn(*args, **kwargs)\n",
        "        print('{0}: called {1}'.format(fn.__name__, run_dt))\n",
        "        return result\n",
        "        \n",
        "    return inner"
      ],
      "execution_count": null,
      "outputs": []
    },
    {
      "cell_type": "code",
      "metadata": {
        "tags": [],
        "cell_id": "00043-bef3b51a-95dd-484c-8a9f-7d10f0aabcec",
        "deepnote_to_be_reexecuted": false,
        "source_hash": "3d5e1c0b",
        "execution_start": 1613791409997,
        "execution_millis": 4,
        "deepnote_cell_type": "code",
        "id": "5HUGVnz4qirL"
      },
      "source": [
        "@logged\n",
        "def func_1():\n",
        "    pass\n",
        "\n",
        "@logged\n",
        "def func_2():\n",
        "    pass"
      ],
      "execution_count": null,
      "outputs": []
    },
    {
      "cell_type": "code",
      "metadata": {
        "tags": [],
        "cell_id": "00044-0baef28f-6e89-40d3-bc76-593ebcc707e8",
        "deepnote_to_be_reexecuted": false,
        "source_hash": "cd1e7382",
        "execution_start": 1613791415284,
        "execution_millis": 6,
        "deepnote_cell_type": "code",
        "id": "U_MaNWoOqirM",
        "outputId": "b3a7fef3-d578-459f-b826-889824ab7a51"
      },
      "source": [
        "func_1()"
      ],
      "execution_count": null,
      "outputs": [
        {
          "output_type": "stream",
          "text": [
            "func_1: called 2021-02-20 03:23:35.280754+00:00\n"
          ],
          "name": "stdout"
        }
      ]
    },
    {
      "cell_type": "code",
      "metadata": {
        "tags": [],
        "cell_id": "00045-cfa683dd-7dd0-461f-916e-edbab8253513",
        "deepnote_to_be_reexecuted": false,
        "source_hash": "68a8567e",
        "execution_start": 1613791420836,
        "execution_millis": 6,
        "deepnote_cell_type": "code",
        "id": "FjGGXCvXqirN",
        "outputId": "51213cc1-e3e6-4a24-ecd8-58fe82a246a0"
      },
      "source": [
        "func_2()"
      ],
      "execution_count": null,
      "outputs": [
        {
          "output_type": "stream",
          "text": [
            "func_2: called 2021-02-20 03:23:40.833573+00:00\n"
          ],
          "name": "stdout"
        }
      ]
    },
    {
      "cell_type": "code",
      "metadata": {
        "tags": [],
        "cell_id": "00046-be8a42d7-522a-4558-9ce9-27ab2ccba713",
        "deepnote_to_be_reexecuted": false,
        "source_hash": "f578b0e8",
        "execution_start": 1613791444824,
        "execution_millis": 0,
        "deepnote_cell_type": "code",
        "id": "pL36hE2uqirQ"
      },
      "source": [
        "def timed(fn):\n",
        "    from functools import wraps\n",
        "    from time import perf_counter\n",
        "    \n",
        "    @wraps(fn)\n",
        "    def inner(*args, **kwargs):\n",
        "        start = perf_counter()\n",
        "        result = fn(*args, **kwargs)\n",
        "        end = perf_counter()\n",
        "        print('{0} ran for {1:.6f}s'.format(fn.__name__, end-start))\n",
        "        return result\n",
        "    \n",
        "    return inner"
      ],
      "execution_count": null,
      "outputs": []
    },
    {
      "cell_type": "code",
      "metadata": {
        "tags": [],
        "cell_id": "00047-5e47e7a1-d894-422f-841e-9d7faa1132b1",
        "deepnote_to_be_reexecuted": false,
        "source_hash": "6fd40195",
        "execution_millis": 2,
        "execution_start": 1613791491550,
        "deepnote_cell_type": "code",
        "id": "kElMfjJcqirR"
      },
      "source": [
        "@timed\n",
        "@logged\n",
        "def factorial(n):\n",
        "    from operator import mul\n",
        "    from functools import reduce\n",
        "    return reduce(mul, range(1, n+1))"
      ],
      "execution_count": null,
      "outputs": []
    },
    {
      "cell_type": "code",
      "metadata": {
        "tags": [],
        "cell_id": "00048-a8bbed56-6acb-4940-97ef-8655d3c274dd",
        "deepnote_to_be_reexecuted": false,
        "source_hash": "28a3322c",
        "execution_millis": 11,
        "execution_start": 1613791492625,
        "deepnote_cell_type": "code",
        "id": "tymvNNLmqirS",
        "outputId": "85a52803-ce4d-49e0-e8c3-9785215d73b0"
      },
      "source": [
        "factorial(10)"
      ],
      "execution_count": null,
      "outputs": [
        {
          "output_type": "stream",
          "text": [
            "factorial: called 2021-02-20 03:24:52.623024+00:00\n",
            "factorial ran for 0.000086s\n"
          ],
          "name": "stdout"
        },
        {
          "output_type": "execute_result",
          "data": {
            "text/plain": [
              "3628800"
            ]
          },
          "metadata": {
            "tags": []
          },
          "execution_count": 61
        }
      ]
    },
    {
      "cell_type": "code",
      "metadata": {
        "tags": [],
        "cell_id": "00049-de559d18-51b7-41ab-9b4b-8fcca4da149e",
        "deepnote_to_be_reexecuted": false,
        "source_hash": "b75f7e54",
        "execution_start": 1613791644239,
        "execution_millis": 3,
        "deepnote_cell_type": "code",
        "id": "cweZj45-qirU"
      },
      "source": [
        "def authenticated(fn, auth):\n",
        "    @wraps(fn)\n",
        "    def inner(*args, **kwargs):\n",
        "        if auth:\n",
        "            return fn(*args, **kwargs)\n",
        "        else:\n",
        "            print('Not logged in')\n",
        "            return fn()\n",
        "    \n",
        "    return inner"
      ],
      "execution_count": null,
      "outputs": []
    },
    {
      "cell_type": "code",
      "metadata": {
        "tags": [],
        "cell_id": "00050-f0f847ad-8af7-4cca-8e9a-3959118ff21c",
        "deepnote_to_be_reexecuted": false,
        "source_hash": "93c53624",
        "execution_start": 1613791693801,
        "execution_millis": 1,
        "deepnote_cell_type": "code",
        "id": "11cViCF4qirU"
      },
      "source": [
        "# Memoization"
      ],
      "execution_count": null,
      "outputs": []
    },
    {
      "cell_type": "code",
      "metadata": {
        "tags": [],
        "cell_id": "00051-119708e0-e549-4ea8-984d-c4c8037e1935",
        "deepnote_to_be_reexecuted": false,
        "source_hash": "4e6e6867",
        "execution_start": 1613791701826,
        "execution_millis": 0,
        "deepnote_cell_type": "code",
        "id": "tSsrkLRlqirV"
      },
      "source": [
        "def fib(n):\n",
        "    print ('Calculating fib({0})'.format(n))\n",
        "    return 1 if n < 3 else fib(n-1) + fib(n-2)"
      ],
      "execution_count": null,
      "outputs": []
    },
    {
      "cell_type": "code",
      "metadata": {
        "tags": [],
        "cell_id": "00052-7142d37a-1adb-4ac3-b0b5-7cea0b8235a6",
        "deepnote_to_be_reexecuted": false,
        "source_hash": "84553b",
        "execution_start": 1613791706513,
        "execution_millis": 10,
        "deepnote_cell_type": "code",
        "id": "52O0t-0ZqirW",
        "outputId": "ff57fd5f-3e03-4f1c-d673-fa2f1daa118a"
      },
      "source": [
        "fib(class)"
      ],
      "execution_count": null,
      "outputs": [
        {
          "output_type": "stream",
          "text": [
            "Calculating fib(6)\n",
            "Calculating fib(5)\n",
            "Calculating fib(4)\n",
            "Calculating fib(3)\n",
            "Calculating fib(2)\n",
            "Calculating fib(1)\n",
            "Calculating fib(2)\n",
            "Calculating fib(3)\n",
            "Calculating fib(2)\n",
            "Calculating fib(1)\n",
            "Calculating fib(4)\n",
            "Calculating fib(3)\n",
            "Calculating fib(2)\n",
            "Calculating fib(1)\n",
            "Calculating fib(2)\n"
          ],
          "name": "stdout"
        },
        {
          "output_type": "execute_result",
          "data": {
            "text/plain": [
              "8"
            ]
          },
          "metadata": {
            "tags": []
          },
          "execution_count": 65
        }
      ]
    },
    {
      "cell_type": "code",
      "metadata": {
        "tags": [],
        "cell_id": "00053-795f48d1-f460-4d78-9901-c7ac0f14e761",
        "deepnote_to_be_reexecuted": false,
        "source_hash": "14cda80c",
        "execution_start": 1613791810820,
        "execution_millis": 4,
        "deepnote_cell_type": "code",
        "id": "raC73CfgqirX"
      },
      "source": [
        "class Fib:\n",
        "    def __init__(self):\n",
        "        self.cache = {1: 1, 2: 1}\n",
        "    \n",
        "    def fib(self, n):\n",
        "        if n not in self.cache:\n",
        "            print('Calculating fib({0})'.format(n))\n",
        "            self.cache[n] = self.fib(n-1) + self.fib(n-2)\n",
        "        return self.cache[n]"
      ],
      "execution_count": null,
      "outputs": []
    },
    {
      "cell_type": "code",
      "metadata": {
        "tags": [],
        "cell_id": "00054-556cae4b-aa23-4080-b5f5-2f867d3fb048",
        "deepnote_to_be_reexecuted": false,
        "source_hash": "22d564e8",
        "execution_start": 1613791819931,
        "execution_millis": 7,
        "deepnote_cell_type": "code",
        "id": "Z-RnvKMuqirX",
        "outputId": "ecffd460-2fbb-4ff9-d48a-d01354f47168"
      },
      "source": [
        "f = Fib()\n",
        "\n",
        "f.fib(1)"
      ],
      "execution_count": null,
      "outputs": [
        {
          "output_type": "execute_result",
          "data": {
            "text/plain": [
              "1"
            ]
          },
          "metadata": {
            "tags": []
          },
          "execution_count": 67
        }
      ]
    },
    {
      "cell_type": "code",
      "metadata": {
        "tags": [],
        "cell_id": "00055-d40aafd9-adfa-4e9a-b269-34eaeadf472a",
        "deepnote_to_be_reexecuted": false,
        "source_hash": "5b009c78",
        "execution_start": 1613791826031,
        "execution_millis": 10,
        "deepnote_cell_type": "code",
        "id": "PTBacGhbqirZ",
        "outputId": "0a20deae-dbd0-40cb-c23b-e6da025de154"
      },
      "source": [
        "f.fib(6)"
      ],
      "execution_count": null,
      "outputs": [
        {
          "output_type": "stream",
          "text": [
            "Calculating fib(6)\n",
            "Calculating fib(5)\n",
            "Calculating fib(4)\n",
            "Calculating fib(3)\n"
          ],
          "name": "stdout"
        },
        {
          "output_type": "execute_result",
          "data": {
            "text/plain": [
              "8"
            ]
          },
          "metadata": {
            "tags": []
          },
          "execution_count": 68
        }
      ]
    },
    {
      "cell_type": "code",
      "metadata": {
        "tags": [],
        "cell_id": "00056-dacb418b-d730-4563-80c8-361bb6f53750",
        "deepnote_to_be_reexecuted": false,
        "source_hash": "882c7e9a",
        "execution_start": 1613791834853,
        "execution_millis": 11,
        "deepnote_cell_type": "code",
        "id": "EtszyGReqira",
        "outputId": "b1eebb22-bac2-4205-a315-94d9331716f2"
      },
      "source": [
        "f.fib(7)"
      ],
      "execution_count": null,
      "outputs": [
        {
          "output_type": "stream",
          "text": [
            "Calculating fib(7)\n"
          ],
          "name": "stdout"
        },
        {
          "output_type": "execute_result",
          "data": {
            "text/plain": [
              "13"
            ]
          },
          "metadata": {
            "tags": []
          },
          "execution_count": 69
        }
      ]
    },
    {
      "cell_type": "code",
      "metadata": {
        "tags": [],
        "cell_id": "00057-34a5a5bc-f7b0-4116-a701-8abdebf08fa8",
        "deepnote_to_be_reexecuted": false,
        "source_hash": "b26fe64e",
        "execution_start": 1613791888787,
        "execution_millis": 42,
        "deepnote_cell_type": "code",
        "id": "I3oDvVpsqirf"
      },
      "source": [
        "def fib():\n",
        "    cache = {1: 1, 2: 1}\n",
        "    \n",
        "    def calc_fib(n):\n",
        "        if n not in cache:\n",
        "            print('Calculating fib({0})'.format(n))\n",
        "            cache[n] = calc_fib(n-1) + calc_fib(n-2)\n",
        "        return cache[n]\n",
        "    return calc_fib"
      ],
      "execution_count": null,
      "outputs": []
    },
    {
      "cell_type": "code",
      "metadata": {
        "tags": [],
        "cell_id": "00058-9e90ceee-989e-4da0-b43b-88b70b9bff74",
        "deepnote_to_be_reexecuted": false,
        "source_hash": "b2c2a864",
        "execution_start": 1613791893232,
        "execution_millis": 5,
        "deepnote_cell_type": "code",
        "id": "XpraLec6qirn"
      },
      "source": [
        "f = fib()"
      ],
      "execution_count": null,
      "outputs": []
    },
    {
      "cell_type": "code",
      "metadata": {
        "tags": [],
        "cell_id": "00059-20930d28-228e-4f32-a291-ede303a167de",
        "deepnote_to_be_reexecuted": false,
        "source_hash": "8ad7afe6",
        "execution_start": 1613791896697,
        "execution_millis": 7,
        "deepnote_cell_type": "code",
        "id": "33XRoGpVqiro",
        "outputId": "5c2abfcd-47d3-48b1-9379-2f075842a96a"
      },
      "source": [
        "f(10)"
      ],
      "execution_count": null,
      "outputs": [
        {
          "output_type": "stream",
          "text": [
            "Calculating fib(10)\n",
            "Calculating fib(9)\n",
            "Calculating fib(8)\n",
            "Calculating fib(7)\n",
            "Calculating fib(6)\n",
            "Calculating fib(5)\n",
            "Calculating fib(4)\n",
            "Calculating fib(3)\n"
          ],
          "name": "stdout"
        },
        {
          "output_type": "execute_result",
          "data": {
            "text/plain": [
              "55"
            ]
          },
          "metadata": {
            "tags": []
          },
          "execution_count": 72
        }
      ]
    },
    {
      "cell_type": "code",
      "metadata": {
        "tags": [],
        "cell_id": "00060-3a1f3dbc-853f-47c4-9c27-c3b490262017",
        "deepnote_to_be_reexecuted": false,
        "source_hash": "53ea14a6",
        "execution_start": 1613792020725,
        "execution_millis": 0,
        "deepnote_cell_type": "code",
        "id": "i4elc_5Vqirq"
      },
      "source": [
        "from functools import wraps\n",
        "\n",
        "def memoize_fib(fn):\n",
        "    cache = dict()\n",
        "\n",
        "    @wraps(fn)\n",
        "    def inner(n):\n",
        "        if n not in cache:\n",
        "            cache[n] = fn(n)\n",
        "        return cache[n]\n",
        "\n",
        "    return inner"
      ],
      "execution_count": null,
      "outputs": []
    },
    {
      "cell_type": "code",
      "metadata": {
        "tags": [],
        "cell_id": "00061-c5a3cadb-d93b-4750-bd4d-2d513ddff0d3",
        "deepnote_to_be_reexecuted": false,
        "source_hash": "60cee28d",
        "execution_start": 1613792031549,
        "execution_millis": 1,
        "deepnote_cell_type": "code",
        "id": "9NfH33ffqirq"
      },
      "source": [
        "@memoize_fib\n",
        "def fib(n):\n",
        "    print ('Calculating fib({0})'.format(n))\n",
        "    return 1 if n < 3 else fib(n-1) + fib(n-2)"
      ],
      "execution_count": null,
      "outputs": []
    },
    {
      "cell_type": "code",
      "metadata": {
        "tags": [],
        "cell_id": "00062-6a8b642a-1587-4a58-8371-db74348608ed",
        "deepnote_to_be_reexecuted": false,
        "source_hash": "8c3f32b5",
        "execution_start": 1613792047851,
        "execution_millis": 10,
        "deepnote_cell_type": "code",
        "id": "1qE-3VH-qirr",
        "outputId": "1b71345c-4b6b-42a3-caff-b4b699f1affc"
      },
      "source": [
        "fib(3)"
      ],
      "execution_count": null,
      "outputs": [
        {
          "output_type": "stream",
          "text": [
            "Calculating fib(3)\n",
            "Calculating fib(2)\n",
            "Calculating fib(1)\n"
          ],
          "name": "stdout"
        },
        {
          "output_type": "execute_result",
          "data": {
            "text/plain": [
              "2"
            ]
          },
          "metadata": {
            "tags": []
          },
          "execution_count": 75
        }
      ]
    },
    {
      "cell_type": "code",
      "metadata": {
        "tags": [],
        "cell_id": "00063-d611b343-c332-4a30-8d2b-0098d89cce3b",
        "deepnote_to_be_reexecuted": false,
        "source_hash": "8c3f32b5",
        "execution_start": 1613792050218,
        "execution_millis": 11,
        "deepnote_cell_type": "code",
        "id": "84r7xU27qirr",
        "outputId": "69d28aa7-6ec2-4070-c917-429f36b1c10f"
      },
      "source": [
        "fib(3)"
      ],
      "execution_count": null,
      "outputs": [
        {
          "output_type": "execute_result",
          "data": {
            "text/plain": [
              "2"
            ]
          },
          "metadata": {
            "tags": []
          },
          "execution_count": 76
        }
      ]
    },
    {
      "cell_type": "code",
      "metadata": {
        "tags": [],
        "cell_id": "00064-a30d0788-a7af-4f8c-846c-e067f1fa63a7",
        "deepnote_to_be_reexecuted": false,
        "source_hash": "a08c9b66",
        "execution_start": 1613792056381,
        "execution_millis": 6,
        "deepnote_cell_type": "code",
        "id": "DtRETCfjqirx",
        "outputId": "31cd9990-6c1b-4fea-8c88-8ead255a0c29"
      },
      "source": [
        "fib(10)"
      ],
      "execution_count": null,
      "outputs": [
        {
          "output_type": "stream",
          "text": [
            "Calculating fib(10)\n",
            "Calculating fib(9)\n",
            "Calculating fib(8)\n",
            "Calculating fib(7)\n",
            "Calculating fib(6)\n",
            "Calculating fib(5)\n",
            "Calculating fib(4)\n"
          ],
          "name": "stdout"
        },
        {
          "output_type": "execute_result",
          "data": {
            "text/plain": [
              "55"
            ]
          },
          "metadata": {
            "tags": []
          },
          "execution_count": 77
        }
      ]
    },
    {
      "cell_type": "code",
      "metadata": {
        "tags": [],
        "cell_id": "00065-ecb134fd-4433-40bf-af82-3430ba9b2bc9",
        "deepnote_to_be_reexecuted": false,
        "source_hash": "a08c9b66",
        "execution_start": 1613792065955,
        "execution_millis": 12,
        "deepnote_cell_type": "code",
        "id": "vKX0MQVbqiry",
        "outputId": "eb88339a-423f-4c8d-ede3-684888af8c8f"
      },
      "source": [
        "fib(10)"
      ],
      "execution_count": null,
      "outputs": [
        {
          "output_type": "execute_result",
          "data": {
            "text/plain": [
              "55"
            ]
          },
          "metadata": {
            "tags": []
          },
          "execution_count": 78
        }
      ]
    },
    {
      "cell_type": "code",
      "metadata": {
        "tags": [],
        "cell_id": "00066-95e6a8b3-752c-4107-a6fc-a793224dc8e0",
        "deepnote_to_be_reexecuted": false,
        "source_hash": "84553b",
        "execution_start": 1613792071740,
        "execution_millis": 7,
        "deepnote_cell_type": "code",
        "id": "VAoB73Isqirz",
        "outputId": "aa52a253-2259-4f8a-e3ad-be2fa9d0b390"
      },
      "source": [
        "fib(6)"
      ],
      "execution_count": null,
      "outputs": [
        {
          "output_type": "execute_result",
          "data": {
            "text/plain": [
              "8"
            ]
          },
          "metadata": {
            "tags": []
          },
          "execution_count": 79
        }
      ]
    },
    {
      "cell_type": "code",
      "metadata": {
        "tags": [],
        "cell_id": "00067-a2f25db6-6fac-4f14-9555-184a960aed83",
        "deepnote_to_be_reexecuted": false,
        "source_hash": "d8e18754",
        "execution_start": 1613792108161,
        "execution_millis": 0,
        "deepnote_cell_type": "code",
        "id": "RcWIW1Drqir0"
      },
      "source": [
        "def memoize(fn):\n",
        "    cache = dict()\n",
        "    \n",
        "    @wraps(fn)\n",
        "    def inner(*args):\n",
        "        if args not in cache:\n",
        "            cache[args] = fn(*args)\n",
        "        return cache[args]\n",
        "    \n",
        "    return inner\n",
        "\n",
        "@memoize\n",
        "def fib(n):\n",
        "    print ('Calculating fib({0})'.format(n))\n",
        "    return 1 if n < 3 else fib(n-1) + fib(n-2)"
      ],
      "execution_count": null,
      "outputs": []
    },
    {
      "cell_type": "code",
      "metadata": {
        "tags": [],
        "cell_id": "00068-128c467a-bf91-4066-bf9c-f3dd5926fab2",
        "deepnote_to_be_reexecuted": false,
        "source_hash": "84553b",
        "execution_start": 1613792114885,
        "execution_millis": 6,
        "deepnote_cell_type": "code",
        "id": "v9t1TsScqir0",
        "outputId": "9278db24-a957-460c-9cad-9622c74544c5"
      },
      "source": [
        "fib(6)"
      ],
      "execution_count": null,
      "outputs": [
        {
          "output_type": "stream",
          "text": [
            "Calculating fib(6)\n",
            "Calculating fib(5)\n",
            "Calculating fib(4)\n",
            "Calculating fib(3)\n",
            "Calculating fib(2)\n",
            "Calculating fib(1)\n"
          ],
          "name": "stdout"
        },
        {
          "output_type": "execute_result",
          "data": {
            "text/plain": [
              "8"
            ]
          },
          "metadata": {
            "tags": []
          },
          "execution_count": 81
        }
      ]
    },
    {
      "cell_type": "code",
      "metadata": {
        "tags": [],
        "cell_id": "00069-98a0d1e3-6d86-49f6-87c4-aefd1ad54969",
        "deepnote_to_be_reexecuted": false,
        "source_hash": "f4322192",
        "execution_start": 1613792120139,
        "execution_millis": 7,
        "deepnote_cell_type": "code",
        "id": "D7a1SW-Jqir1",
        "outputId": "5a22f2bd-a63b-4389-d211-71c8a1e8501b"
      },
      "source": [
        "fib(7)"
      ],
      "execution_count": null,
      "outputs": [
        {
          "output_type": "stream",
          "text": [
            "Calculating fib(7)\n"
          ],
          "name": "stdout"
        },
        {
          "output_type": "execute_result",
          "data": {
            "text/plain": [
              "13"
            ]
          },
          "metadata": {
            "tags": []
          },
          "execution_count": 82
        }
      ]
    },
    {
      "cell_type": "code",
      "metadata": {
        "tags": [],
        "cell_id": "00070-7861860e-9256-439f-a5ef-d2a9ac97d737",
        "deepnote_to_be_reexecuted": false,
        "source_hash": "8c318aa7",
        "execution_start": 1613792141845,
        "execution_millis": 0,
        "deepnote_cell_type": "code",
        "id": "kJ9QhDkbqir1"
      },
      "source": [
        "def fact(n):\n",
        "    print('Calculating {0}!'.format(n))\n",
        "    return 1 if n < 2 else n * fact(n-1)"
      ],
      "execution_count": null,
      "outputs": []
    },
    {
      "cell_type": "code",
      "metadata": {
        "tags": [],
        "cell_id": "00071-eeab492f-1288-40c0-98e2-f0c5a6458890",
        "deepnote_to_be_reexecuted": false,
        "source_hash": "a964cfaf",
        "execution_start": 1613792145705,
        "execution_millis": 7,
        "deepnote_cell_type": "code",
        "id": "Y9f90eFNqir1",
        "outputId": "ee6e217f-2d69-43f6-b62a-789ff9f37516"
      },
      "source": [
        "fact(5)"
      ],
      "execution_count": null,
      "outputs": [
        {
          "output_type": "stream",
          "text": [
            "Calculating 5!\n",
            "Calculating 4!\n",
            "Calculating 3!\n",
            "Calculating 2!\n",
            "Calculating 1!\n"
          ],
          "name": "stdout"
        },
        {
          "output_type": "execute_result",
          "data": {
            "text/plain": [
              "120"
            ]
          },
          "metadata": {
            "tags": []
          },
          "execution_count": 84
        }
      ]
    },
    {
      "cell_type": "code",
      "metadata": {
        "tags": [],
        "cell_id": "00072-db5677a7-21bf-4d5f-993f-c36139615665",
        "deepnote_to_be_reexecuted": false,
        "source_hash": "a964cfaf",
        "execution_start": 1613792151203,
        "execution_millis": 8,
        "deepnote_cell_type": "code",
        "id": "FvPxCsEYqir2",
        "outputId": "228d8a4d-dfc5-4a8d-9d13-7ecdf4a9c595"
      },
      "source": [
        "fact(5)"
      ],
      "execution_count": null,
      "outputs": [
        {
          "output_type": "stream",
          "text": [
            "Calculating 5!\n",
            "Calculating 4!\n",
            "Calculating 3!\n",
            "Calculating 2!\n",
            "Calculating 1!\n"
          ],
          "name": "stdout"
        },
        {
          "output_type": "execute_result",
          "data": {
            "text/plain": [
              "120"
            ]
          },
          "metadata": {
            "tags": []
          },
          "execution_count": 85
        }
      ]
    },
    {
      "cell_type": "code",
      "metadata": {
        "tags": [],
        "cell_id": "00073-8cbbf979-3491-4348-9e93-1fdeb8e1c5a2",
        "deepnote_to_be_reexecuted": false,
        "source_hash": "e5958620",
        "execution_start": 1613792156200,
        "execution_millis": 4,
        "deepnote_cell_type": "code",
        "id": "QF1Cotmyqir2"
      },
      "source": [
        "@memoize\n",
        "def fact(n):\n",
        "    print('Calculating {0}!'.format(n))\n",
        "    return 1 if n < 2 else n * fact(n-1)"
      ],
      "execution_count": null,
      "outputs": []
    },
    {
      "cell_type": "code",
      "metadata": {
        "tags": [],
        "cell_id": "00074-c2293c53-daff-4384-8eb9-b2dab0092cb0",
        "deepnote_to_be_reexecuted": false,
        "source_hash": "68a2246",
        "execution_start": 1613792161372,
        "execution_millis": 11,
        "deepnote_cell_type": "code",
        "id": "IxNUiXn4qir2",
        "outputId": "eb5eecc6-2f4c-4fb0-ca95-56add9c1c4d6"
      },
      "source": [
        "fact(6)"
      ],
      "execution_count": null,
      "outputs": [
        {
          "output_type": "stream",
          "text": [
            "Calculating 6!\n",
            "Calculating 5!\n",
            "Calculating 4!\n",
            "Calculating 3!\n",
            "Calculating 2!\n",
            "Calculating 1!\n"
          ],
          "name": "stdout"
        },
        {
          "output_type": "execute_result",
          "data": {
            "text/plain": [
              "720"
            ]
          },
          "metadata": {
            "tags": []
          },
          "execution_count": 87
        }
      ]
    },
    {
      "cell_type": "code",
      "metadata": {
        "tags": [],
        "cell_id": "00075-af3ce6c7-8cf8-4c78-ba5f-396192430965",
        "deepnote_to_be_reexecuted": false,
        "source_hash": "68a2246",
        "execution_start": 1613792164654,
        "execution_millis": 7,
        "deepnote_cell_type": "code",
        "id": "W9FuKWHDqir3",
        "outputId": "6e8ec753-9420-48d0-8ae6-d57b59b00d57"
      },
      "source": [
        "fact(6)"
      ],
      "execution_count": null,
      "outputs": [
        {
          "output_type": "execute_result",
          "data": {
            "text/plain": [
              "720"
            ]
          },
          "metadata": {
            "tags": []
          },
          "execution_count": 88
        }
      ]
    },
    {
      "cell_type": "code",
      "metadata": {
        "tags": [],
        "cell_id": "00076-dd8eb083-946a-4b61-b009-108e96830e13",
        "deepnote_to_be_reexecuted": false,
        "source_hash": "473fade",
        "execution_millis": 0,
        "execution_start": 1613792425287,
        "deepnote_cell_type": "code",
        "id": "CnEQRixuqir3"
      },
      "source": [
        "from functools import lru_cache\n",
        "\n",
        "\n",
        "@lru_cache()\n",
        "def print_my_name(n):\n",
        "    print(\"I was executed\")\n",
        "    if (n == 'rohan'):\n",
        "        return 4\n",
        "    else:\n",
        "        return 5"
      ],
      "execution_count": null,
      "outputs": []
    },
    {
      "cell_type": "code",
      "metadata": {
        "tags": [],
        "cell_id": "00077-9e6557a0-93b4-4a9c-baa6-6601dd650121",
        "deepnote_to_be_reexecuted": false,
        "source_hash": "441db108",
        "execution_millis": 42,
        "execution_start": 1613792425288,
        "deepnote_cell_type": "code",
        "id": "-zNoT1udqir4",
        "outputId": "e0ef0333-f9aa-4d34-9117-08aa1b1878cd"
      },
      "source": [
        "print_my_name('rohan')"
      ],
      "execution_count": null,
      "outputs": [
        {
          "output_type": "stream",
          "text": [
            "I was executed\n"
          ],
          "name": "stdout"
        },
        {
          "output_type": "execute_result",
          "data": {
            "text/plain": [
              "4"
            ]
          },
          "metadata": {
            "tags": []
          },
          "execution_count": 101
        }
      ]
    },
    {
      "cell_type": "code",
      "metadata": {
        "tags": [],
        "cell_id": "00078-4195f251-4418-401c-a5c1-13fbf28f7c15",
        "deepnote_to_be_reexecuted": false,
        "source_hash": "441db108",
        "execution_millis": 8,
        "execution_start": 1613792430595,
        "deepnote_cell_type": "code",
        "id": "DB9EcuAxqir4",
        "outputId": "66bf3ef6-b4a8-47fa-a44d-0473b9173693"
      },
      "source": [
        "print_my_name('rohan')"
      ],
      "execution_count": null,
      "outputs": [
        {
          "output_type": "execute_result",
          "data": {
            "text/plain": [
              "4"
            ]
          },
          "metadata": {
            "tags": []
          },
          "execution_count": 102
        }
      ]
    },
    {
      "cell_type": "code",
      "metadata": {
        "tags": [],
        "cell_id": "00079-687b8753-321c-4737-8998-f9c594c8dd82",
        "deepnote_to_be_reexecuted": false,
        "source_hash": "ce00508f",
        "execution_millis": 8,
        "execution_start": 1613792431191,
        "deepnote_cell_type": "code",
        "id": "iUw4N9R7qir6",
        "outputId": "83fac604-3072-41e1-df61-bc83bd233b12"
      },
      "source": [
        "print_my_name('MOHAN')"
      ],
      "execution_count": null,
      "outputs": [
        {
          "output_type": "stream",
          "text": [
            "I was executed\n"
          ],
          "name": "stdout"
        },
        {
          "output_type": "execute_result",
          "data": {
            "text/plain": [
              "5"
            ]
          },
          "metadata": {
            "tags": []
          },
          "execution_count": 103
        }
      ]
    },
    {
      "cell_type": "code",
      "metadata": {
        "tags": [],
        "cell_id": "00080-3781d505-773c-4080-8d6c-469269ead41f",
        "deepnote_to_be_reexecuted": false,
        "source_hash": "ce00508f",
        "execution_start": 1613792435220,
        "execution_millis": 8,
        "deepnote_cell_type": "code",
        "id": "TIrofDaCqir7",
        "outputId": "6344291e-0fc7-410d-adb4-9e90929764f6"
      },
      "source": [
        "print_my_name('MOHAN')"
      ],
      "execution_count": null,
      "outputs": [
        {
          "output_type": "execute_result",
          "data": {
            "text/plain": [
              "5"
            ]
          },
          "metadata": {
            "tags": []
          },
          "execution_count": 104
        }
      ]
    },
    {
      "cell_type": "code",
      "metadata": {
        "tags": [],
        "cell_id": "00081-a6ff392f-3b0d-4109-8278-180088d8b509",
        "deepnote_to_be_reexecuted": false,
        "source_hash": "79677089",
        "execution_start": 1613792481969,
        "execution_millis": 1,
        "deepnote_cell_type": "code",
        "id": "MPoG1NORqir7"
      },
      "source": [
        "from time import perf_counter"
      ],
      "execution_count": null,
      "outputs": []
    },
    {
      "cell_type": "code",
      "metadata": {
        "tags": [],
        "cell_id": "00082-025611ea-1556-44f9-b6ce-1ad1d5fea02d",
        "deepnote_to_be_reexecuted": false,
        "source_hash": "e5f1795c",
        "execution_start": 1613792486816,
        "execution_millis": 1,
        "deepnote_cell_type": "code",
        "id": "rXg2fIR1qir8"
      },
      "source": [
        "def fib_no_memo(n):\n",
        "    return 1 if n < 3 else fib_no_memo(n-1) + fib_no_memo(n-2)"
      ],
      "execution_count": null,
      "outputs": []
    },
    {
      "cell_type": "code",
      "metadata": {
        "tags": [],
        "cell_id": "00083-991b1a5a-355d-4f41-9b1e-18139de82d75",
        "deepnote_to_be_reexecuted": false,
        "source_hash": "cd5bece3",
        "execution_start": 1613792491925,
        "execution_millis": 1787,
        "deepnote_cell_type": "code",
        "id": "q-3myuLLqir8",
        "outputId": "01f2dfe2-cc88-4617-e2dc-6683625f9fb9"
      },
      "source": [
        "start = perf_counter()\n",
        "result = fib_no_memo(35)\n",
        "print(\"result={0}, elapsed: {1}s\".format(result, perf_counter() - start))"
      ],
      "execution_count": null,
      "outputs": [
        {
          "output_type": "stream",
          "text": [
            "result=9227465, elapsed: 1.8059894180041738s\n"
          ],
          "name": "stdout"
        }
      ]
    },
    {
      "cell_type": "code",
      "metadata": {
        "tags": [],
        "cell_id": "00084-c89ae7c9-b7cc-4938-bb47-326057f80600",
        "deepnote_to_be_reexecuted": false,
        "source_hash": "a7c27b08",
        "execution_start": 1613792500798,
        "execution_millis": 3,
        "deepnote_cell_type": "code",
        "id": "UMM5j4Gkqir9"
      },
      "source": [
        "@lru_cache()\n",
        "def fib_memo(n):\n",
        "    return 1 if n < 3 else fib_memo(n-1) + fib_memo(n-2)"
      ],
      "execution_count": null,
      "outputs": []
    },
    {
      "cell_type": "code",
      "metadata": {
        "tags": [],
        "cell_id": "00085-9a4e6297-c2a6-4d3b-bd97-149ddd030555",
        "deepnote_to_be_reexecuted": false,
        "source_hash": "634127f",
        "execution_start": 1613792507285,
        "execution_millis": 6,
        "deepnote_cell_type": "code",
        "id": "0yHeLvclqisD",
        "outputId": "5a2b63d5-9da2-4776-af85-6a3791fe851b"
      },
      "source": [
        "start = perf_counter()\n",
        "result = fib_memo(35)\n",
        "print(\"result={0}, elapsed: {1}s\".format(result, perf_counter() - start))"
      ],
      "execution_count": null,
      "outputs": [
        {
          "output_type": "stream",
          "text": [
            "result=9227465, elapsed: 0.00011537899263203144s\n"
          ],
          "name": "stdout"
        }
      ]
    },
    {
      "cell_type": "code",
      "metadata": {
        "tags": [],
        "cell_id": "00086-d9e3b491-a4ea-4b01-b685-8a8710874bb2",
        "deepnote_to_be_reexecuted": false,
        "source_hash": "cd5bece3",
        "execution_start": 1613792517337,
        "execution_millis": 1734,
        "deepnote_cell_type": "code",
        "id": "D7-CycWdqisE",
        "outputId": "e686b26e-071f-4f39-f09c-b9fc35a54f0c"
      },
      "source": [
        "start = perf_counter()\n",
        "result = fib_no_memo(35)\n",
        "print(\"result={0}, elapsed: {1}s\".format(result, perf_counter() - start))"
      ],
      "execution_count": null,
      "outputs": [
        {
          "output_type": "stream",
          "text": [
            "result=9227465, elapsed: 1.7512653150042752s\n"
          ],
          "name": "stdout"
        }
      ]
    },
    {
      "cell_type": "code",
      "metadata": {
        "tags": [],
        "cell_id": "00087-ca920317-45ba-4a7f-b0d9-fd283db79a38",
        "deepnote_to_be_reexecuted": false,
        "source_hash": "634127f",
        "execution_start": 1613792528192,
        "execution_millis": 8,
        "deepnote_cell_type": "code",
        "id": "kTRpLySIqisF",
        "outputId": "7d213c70-f78e-4006-df06-361da47715dc"
      },
      "source": [
        "start = perf_counter()\n",
        "result = fib_memo(35)\n",
        "print(\"result={0}, elapsed: {1}s\".format(result, perf_counter() - start))"
      ],
      "execution_count": null,
      "outputs": [
        {
          "output_type": "stream",
          "text": [
            "result=9227465, elapsed: 7.381298928521574e-05s\n"
          ],
          "name": "stdout"
        }
      ]
    },
    {
      "cell_type": "code",
      "metadata": {
        "tags": [],
        "cell_id": "00088-9730637e-b48e-44db-8959-2862ecea6b2e",
        "deepnote_to_be_reexecuted": false,
        "source_hash": "fa002c7b",
        "execution_start": 1613792578785,
        "execution_millis": 0,
        "deepnote_cell_type": "code",
        "id": "WLKNfgdkqisF"
      },
      "source": [
        "@lru_cache(maxsize=8)\n",
        "def fib(n):\n",
        "    print(\"Calculating fib({0})\".format(n))\n",
        "    return 1 if n < 3 else fib(n-1) + fib(n-2)"
      ],
      "execution_count": null,
      "outputs": []
    },
    {
      "cell_type": "code",
      "metadata": {
        "tags": [],
        "cell_id": "00089-90afcd9b-d800-4af2-bda0-fd6b329d55ae",
        "deepnote_to_be_reexecuted": false,
        "source_hash": "a08c9b66",
        "execution_start": 1613792583703,
        "execution_millis": 10,
        "deepnote_cell_type": "code",
        "id": "bvKBmYatqisG",
        "outputId": "1d956b86-e762-48e2-b771-490e6491916e"
      },
      "source": [
        "fib(10)"
      ],
      "execution_count": null,
      "outputs": [
        {
          "output_type": "stream",
          "text": [
            "Calculating fib(10)\n",
            "Calculating fib(9)\n",
            "Calculating fib(8)\n",
            "Calculating fib(7)\n",
            "Calculating fib(6)\n",
            "Calculating fib(5)\n",
            "Calculating fib(4)\n",
            "Calculating fib(3)\n",
            "Calculating fib(2)\n",
            "Calculating fib(1)\n"
          ],
          "name": "stdout"
        },
        {
          "output_type": "execute_result",
          "data": {
            "text/plain": [
              "55"
            ]
          },
          "metadata": {
            "tags": []
          },
          "execution_count": 113
        }
      ]
    },
    {
      "cell_type": "code",
      "metadata": {
        "tags": [],
        "cell_id": "00090-31b6eab6-8d2d-4a8d-9a20-0aaf98d76945",
        "deepnote_to_be_reexecuted": false,
        "source_hash": "14efb514",
        "execution_start": 1613792591165,
        "execution_millis": 13,
        "deepnote_cell_type": "code",
        "id": "yFlgaEv_qisG",
        "outputId": "9d277074-94f0-456c-e375-618641c972ef"
      },
      "source": [
        "fib(20)"
      ],
      "execution_count": null,
      "outputs": [
        {
          "output_type": "stream",
          "text": [
            "Calculating fib(20)\n",
            "Calculating fib(19)\n",
            "Calculating fib(18)\n",
            "Calculating fib(17)\n",
            "Calculating fib(16)\n",
            "Calculating fib(15)\n",
            "Calculating fib(14)\n",
            "Calculating fib(13)\n",
            "Calculating fib(12)\n",
            "Calculating fib(11)\n"
          ],
          "name": "stdout"
        },
        {
          "output_type": "execute_result",
          "data": {
            "text/plain": [
              "6765"
            ]
          },
          "metadata": {
            "tags": []
          },
          "execution_count": 114
        }
      ]
    },
    {
      "cell_type": "code",
      "metadata": {
        "tags": [],
        "cell_id": "00091-a5dcde98-9b65-4257-a851-9ab13bf2d8b5",
        "deepnote_to_be_reexecuted": false,
        "source_hash": "a08c9b66",
        "execution_start": 1613792601630,
        "execution_millis": 14,
        "deepnote_cell_type": "code",
        "id": "xOD3zB6NqisH",
        "outputId": "5bdfbd37-0117-4777-ff23-19f2f385dba4"
      },
      "source": [
        "fib(10)"
      ],
      "execution_count": null,
      "outputs": [
        {
          "output_type": "stream",
          "text": [
            "Calculating fib(10)\n",
            "Calculating fib(9)\n",
            "Calculating fib(8)\n",
            "Calculating fib(7)\n",
            "Calculating fib(6)\n",
            "Calculating fib(5)\n",
            "Calculating fib(4)\n",
            "Calculating fib(3)\n",
            "Calculating fib(2)\n",
            "Calculating fib(1)\n"
          ],
          "name": "stdout"
        },
        {
          "output_type": "execute_result",
          "data": {
            "text/plain": [
              "55"
            ]
          },
          "metadata": {
            "tags": []
          },
          "execution_count": 115
        }
      ]
    },
    {
      "cell_type": "code",
      "metadata": {
        "tags": [],
        "cell_id": "00092-3f464e97-17da-4eb9-a13a-e5167d67a906",
        "deepnote_to_be_reexecuted": false,
        "source_hash": "8320788b",
        "execution_start": 1613792642765,
        "execution_millis": 1,
        "deepnote_cell_type": "code",
        "id": "-_lZbhxpqisI"
      },
      "source": [
        "# wraps, lru_cache"
      ],
      "execution_count": null,
      "outputs": []
    },
    {
      "cell_type": "code",
      "metadata": {
        "tags": [],
        "cell_id": "00093-5b1f9b87-d40b-477b-822f-900ca5e01320",
        "deepnote_to_be_reexecuted": false,
        "source_hash": "5cddaad0",
        "execution_millis": 10,
        "execution_start": 1613792742353,
        "deepnote_cell_type": "code",
        "id": "PpNMdMFpqisI",
        "outputId": "16f6ddf7-b1c3-4e96-d144-78bb223f27ba"
      },
      "source": [
        "fib.cache_info"
      ],
      "execution_count": null,
      "outputs": [
        {
          "output_type": "execute_result",
          "data": {
            "text/plain": [
              "<function _lru_cache_wrapper.cache_info>"
            ]
          },
          "metadata": {
            "tags": []
          },
          "execution_count": 119
        }
      ]
    },
    {
      "cell_type": "code",
      "metadata": {
        "tags": [],
        "cell_id": "00094-605d8eb9-de7d-41d5-8269-50b4ad7fdd51",
        "deepnote_to_be_reexecuted": false,
        "source_hash": "3527afa9",
        "execution_start": 1613792757681,
        "execution_millis": 3,
        "deepnote_cell_type": "code",
        "id": "PnRrUrGsqisJ"
      },
      "source": [
        "def timed(fn):\n",
        "    from time import perf_counter\n",
        "    \n",
        "    def inner(*args, **kwargs):\n",
        "        start = perf_counter()\n",
        "        result = fn(*args, **kwargs)\n",
        "        end = perf_counter()\n",
        "        elapsed = end - start\n",
        "        print('Run time: {0:.6f}s'.format(elapsed))\n",
        "        return result\n",
        "    \n",
        "    return inner"
      ],
      "execution_count": null,
      "outputs": []
    },
    {
      "cell_type": "code",
      "metadata": {
        "tags": [],
        "cell_id": "00095-403cf1f2-c1af-4be8-ad3c-bca5bdb48fb7",
        "deepnote_to_be_reexecuted": false,
        "source_hash": "dc5cc11a",
        "execution_start": 1613792760369,
        "execution_millis": 2,
        "deepnote_cell_type": "code",
        "id": "Zs4EsEktqisJ"
      },
      "source": [
        "def calc_fib_recurse(n):\n",
        "    return 1 if n < 3 else calc_fib_recurse(n-1) + calc_fib_recurse(n-2)\n",
        "\n",
        "def fib(n):\n",
        "    return calc_fib_recurse(n)"
      ],
      "execution_count": null,
      "outputs": []
    },
    {
      "cell_type": "code",
      "metadata": {
        "tags": [],
        "cell_id": "00096-d041bf4e-e0a9-462b-8161-cd9db1de08eb",
        "deepnote_to_be_reexecuted": false,
        "source_hash": "eda64778",
        "execution_start": 1613792765415,
        "execution_millis": 0,
        "deepnote_cell_type": "code",
        "id": "agTjZMb6qisK"
      },
      "source": [
        "fib = timed(fib)"
      ],
      "execution_count": null,
      "outputs": []
    },
    {
      "cell_type": "code",
      "metadata": {
        "tags": [],
        "cell_id": "00097-aa84709b-46e3-4ec0-a470-fb4e4c7566a1",
        "deepnote_to_be_reexecuted": false,
        "source_hash": "9e52ef33",
        "execution_start": 1613792770318,
        "execution_millis": 132,
        "deepnote_cell_type": "code",
        "id": "lz0-_HXnqisK",
        "outputId": "443b793e-4162-45b3-8acf-1d9110f9a76a"
      },
      "source": [
        "fib(30)"
      ],
      "execution_count": null,
      "outputs": [
        {
          "output_type": "stream",
          "text": [
            "Run time: 0.166415s\n"
          ],
          "name": "stdout"
        },
        {
          "output_type": "execute_result",
          "data": {
            "text/plain": [
              "832040"
            ]
          },
          "metadata": {
            "tags": []
          },
          "execution_count": 123
        }
      ]
    },
    {
      "cell_type": "code",
      "metadata": {
        "tags": [],
        "cell_id": "00098-ee1d782d-c447-450a-a57c-a9a2d876dda6",
        "deepnote_to_be_reexecuted": false,
        "source_hash": "f7132ae",
        "execution_start": 1613792807109,
        "execution_millis": 0,
        "deepnote_cell_type": "code",
        "id": "JW9kR2FGqisL"
      },
      "source": [
        "def timed(fn):\n",
        "    from time import perf_counter\n",
        "\n",
        "    def inner(*args, **kwargs):\n",
        "        total_elapsed = 0\n",
        "        for i in range(10):\n",
        "            start = perf_counter()\n",
        "            result = fn(*args, **kwargs)\n",
        "            end = perf_counter()\n",
        "            total_elapsed += (perf_counter() - start)\n",
        "        avg_elapsed = total_elapsed / 10\n",
        "        print('Avg Run time: {0:.6f}s'.format(avg_elapsed))\n",
        "        return result\n",
        "    \n",
        "    return inner"
      ],
      "execution_count": null,
      "outputs": []
    },
    {
      "cell_type": "code",
      "metadata": {
        "tags": [],
        "cell_id": "00099-aec1860b-4449-47f2-a8f9-7ed3acf6b327",
        "deepnote_to_be_reexecuted": false,
        "source_hash": "52a11d15",
        "execution_start": 1613792811413,
        "execution_millis": 2,
        "deepnote_cell_type": "code",
        "id": "CG4SEa8iqisL"
      },
      "source": [
        "def fib(n):\n",
        "    return calc_fib_recurse(n)\n",
        "\n",
        "fib = timed(fib)"
      ],
      "execution_count": null,
      "outputs": []
    },
    {
      "cell_type": "code",
      "metadata": {
        "tags": [],
        "cell_id": "00100-e7d52021-2cac-4823-92e5-7b40e0f2b7de",
        "deepnote_to_be_reexecuted": false,
        "source_hash": "c2d4f338",
        "execution_start": 1613792817351,
        "execution_millis": 611,
        "deepnote_cell_type": "code",
        "id": "mI4ZkYxjqisM",
        "outputId": "e4142560-42f2-4beb-bc03-482325dbeeae"
      },
      "source": [
        "fib(28)"
      ],
      "execution_count": null,
      "outputs": [
        {
          "output_type": "stream",
          "text": [
            "Avg Run time: 0.063880s\n"
          ],
          "name": "stdout"
        },
        {
          "output_type": "execute_result",
          "data": {
            "text/plain": [
              "317811"
            ]
          },
          "metadata": {
            "tags": []
          },
          "execution_count": 126
        }
      ]
    },
    {
      "cell_type": "code",
      "metadata": {
        "tags": [],
        "cell_id": "00101-76b7b720-1c8f-4574-81a1-c1196bb569d3",
        "deepnote_to_be_reexecuted": false,
        "source_hash": "3e258fc9",
        "execution_millis": 4,
        "execution_start": 1613792873218,
        "deepnote_cell_type": "code",
        "id": "5tIklgqNqisN"
      },
      "source": [
        "def timed(fn, num_reps):\n",
        "    from time import perf_counter\n",
        "    \n",
        "    def inner(*args, **kwargs):\n",
        "        total_elapsed = 0\n",
        "        for i in range(num_reps):\n",
        "            start = perf_counter()\n",
        "            result = fn(*args, **kwargs)\n",
        "            end = perf_counter()\n",
        "            total_elapsed += (perf_counter() - start)\n",
        "        avg_elapsed = total_elapsed / num_reps\n",
        "        print('Avg Run time: {0:.6f}s ({1} reps)'.format(avg_elapsed,\n",
        "                                                        num_reps))\n",
        "        return result\n",
        "    \n",
        "    return inner"
      ],
      "execution_count": null,
      "outputs": []
    },
    {
      "cell_type": "code",
      "metadata": {
        "tags": [],
        "cell_id": "00102-1c81f3ee-e468-42ba-9937-f0d5e6bb0e28",
        "deepnote_to_be_reexecuted": false,
        "source_hash": "41d47bef",
        "execution_millis": 4,
        "execution_start": 1613792873575,
        "deepnote_cell_type": "code",
        "id": "ImS6Rrt0qisO"
      },
      "source": [
        "def fib(n):\n",
        "    return calc_fib_recurse(n)\n",
        "\n",
        "fib = timed(fib, 5)"
      ],
      "execution_count": null,
      "outputs": []
    },
    {
      "cell_type": "code",
      "metadata": {
        "tags": [],
        "cell_id": "00103-f0201b7d-2e08-4c52-9007-e3982e83b39e",
        "deepnote_to_be_reexecuted": false,
        "source_hash": "c2d4f338",
        "execution_start": 1613792881833,
        "execution_millis": 425,
        "deepnote_cell_type": "code",
        "id": "lKsFzAh4qisU",
        "outputId": "ddad62fb-3330-4890-ccbd-3e8e1a79030e"
      },
      "source": [
        "fib(28)"
      ],
      "execution_count": null,
      "outputs": [
        {
          "output_type": "stream",
          "text": [
            "Avg Run time: 0.087841s (5 reps)\n"
          ],
          "name": "stdout"
        },
        {
          "output_type": "execute_result",
          "data": {
            "text/plain": [
              "317811"
            ]
          },
          "metadata": {
            "tags": []
          },
          "execution_count": 132
        }
      ]
    },
    {
      "cell_type": "code",
      "metadata": {
        "tags": [],
        "cell_id": "00104-6525242e-7c76-4f59-85f5-651e4f745d1a",
        "deepnote_cell_type": "code",
        "id": "v9vd2ucsqisV"
      },
      "source": [
        "# @dec\n",
        "# def my_func(): \n",
        "#     pass\n",
        "\n",
        "# my_func = dec(my_func)"
      ],
      "execution_count": null,
      "outputs": []
    },
    {
      "cell_type": "code",
      "metadata": {
        "tags": [],
        "cell_id": "00105-f7bedc94-4c46-4b02-8822-f753209f999a",
        "deepnote_to_be_reexecuted": false,
        "source_hash": "64633507",
        "execution_start": 1613793027677,
        "execution_millis": 10,
        "deepnote_cell_type": "code",
        "id": "n51Fas04qisa",
        "outputId": "4d86e010-4b45-4397-8a6c-2442cb167dff"
      },
      "source": [
        "def dec(fn):\n",
        "    print (\"running dec\")\n",
        "    \n",
        "    def inner(*args, **kwargs):\n",
        "        print(\"running inner\")\n",
        "        return fn(*args, **kwargs)\n",
        "              \n",
        "    return inner\n",
        "\n",
        "@dec\n",
        "def my_func():\n",
        "    print('running my_func')"
      ],
      "execution_count": null,
      "outputs": [
        {
          "output_type": "stream",
          "text": [
            "running dec\n"
          ],
          "name": "stdout"
        }
      ]
    },
    {
      "cell_type": "code",
      "metadata": {
        "tags": [],
        "cell_id": "00106-20c21627-a053-48c7-add1-33305d59f739",
        "deepnote_to_be_reexecuted": false,
        "source_hash": "416ffdb4",
        "execution_start": 1613793048225,
        "execution_millis": 8,
        "deepnote_cell_type": "code",
        "id": "bwJ3I8Fbqisb",
        "outputId": "d62318b7-304c-48d3-ab03-d5b8f8533c33"
      },
      "source": [
        "my_func()"
      ],
      "execution_count": null,
      "outputs": [
        {
          "output_type": "stream",
          "text": [
            "running inner\n",
            "running my_func\n"
          ],
          "name": "stdout"
        }
      ]
    },
    {
      "cell_type": "code",
      "metadata": {
        "tags": [],
        "cell_id": "00107-f85c8e91-39db-4c70-8356-81b878c59e90",
        "deepnote_to_be_reexecuted": false,
        "source_hash": "bb710702",
        "execution_start": 1613793137140,
        "execution_millis": 4,
        "deepnote_cell_type": "code",
        "id": "_MhjVsLUqisc"
      },
      "source": [
        "def dec_factory():\n",
        "    print(\"running dec_factory\")\n",
        "    def dec(fn):\n",
        "        print(\"running a dec\")\n",
        "        def inner(*args, **kwargs):\n",
        "            print(\"running inner\")\n",
        "            return fn(*args, **kwargs)\n",
        "        return inner\n",
        "    return dec"
      ],
      "execution_count": null,
      "outputs": []
    },
    {
      "cell_type": "code",
      "metadata": {
        "tags": [],
        "cell_id": "00108-5b298387-c662-4edf-b8d7-758f350723c8",
        "deepnote_to_be_reexecuted": false,
        "source_hash": "15e76412",
        "execution_start": 1613793178660,
        "execution_millis": 14,
        "deepnote_cell_type": "code",
        "id": "QiIxFK8Qqisc",
        "outputId": "b92cdc1f-2cc4-41e7-a46c-9bf9bca504f9"
      },
      "source": [
        "@dec_factory()\n",
        "def my_func(a, b):\n",
        "    print(a, b)\n",
        "\n"
      ],
      "execution_count": null,
      "outputs": [
        {
          "output_type": "stream",
          "text": [
            "running dec_factory\n",
            "running a dec\n"
          ],
          "name": "stdout"
        }
      ]
    },
    {
      "cell_type": "code",
      "metadata": {
        "tags": [],
        "cell_id": "00109-5e54b73e-9836-478e-9dff-4784f85eec19",
        "deepnote_to_be_reexecuted": false,
        "source_hash": "bd3a27d1",
        "execution_start": 1613793193853,
        "execution_millis": 6,
        "deepnote_cell_type": "code",
        "id": "6zqSLgL5qisd",
        "outputId": "a90d5bad-a97c-4d51-d03b-4f0106a1f0ff"
      },
      "source": [
        "my_func(10, 20)"
      ],
      "execution_count": null,
      "outputs": [
        {
          "output_type": "stream",
          "text": [
            "running inner\n",
            "10 20\n"
          ],
          "name": "stdout"
        }
      ]
    },
    {
      "cell_type": "code",
      "metadata": {
        "tags": [],
        "cell_id": "00110-9b524ae4-a2fd-45bb-827a-5946411a5dc7",
        "deepnote_to_be_reexecuted": false,
        "source_hash": "52c5493c",
        "execution_start": 1613793234813,
        "execution_millis": 1,
        "deepnote_cell_type": "code",
        "id": "c1yOPk0wqise"
      },
      "source": [
        "def dec_factory():\n",
        "    def dec(fn):\n",
        "        def inner(*args, **kwargs):\n",
        "            print('running decorator inner')\n",
        "            return fn(*args, **kwargs)\n",
        "        return inner\n",
        "    return dec"
      ],
      "execution_count": null,
      "outputs": []
    },
    {
      "cell_type": "code",
      "metadata": {
        "tags": [],
        "cell_id": "00111-edfab41a-53be-4c29-b8f9-9f3177e7bdd3",
        "deepnote_to_be_reexecuted": false,
        "source_hash": "347ee66a",
        "execution_start": 1613793239186,
        "execution_millis": 1,
        "deepnote_cell_type": "code",
        "id": "bYBsyaCKqise"
      },
      "source": [
        "@dec_factory()\n",
        "def my_func(a, b):\n",
        "    return a + b"
      ],
      "execution_count": null,
      "outputs": []
    },
    {
      "cell_type": "code",
      "metadata": {
        "tags": [],
        "cell_id": "00112-6a2d0297-957a-4958-a778-424bf676221b",
        "deepnote_to_be_reexecuted": false,
        "source_hash": "bd3a27d1",
        "execution_start": 1613793243911,
        "execution_millis": 10,
        "deepnote_cell_type": "code",
        "id": "y_joLchlqisf",
        "outputId": "d359c95d-c0af-49c3-f010-5d2618f01dd6"
      },
      "source": [
        "my_func(10, 20)"
      ],
      "execution_count": null,
      "outputs": [
        {
          "output_type": "stream",
          "text": [
            "running decorator inner\n"
          ],
          "name": "stdout"
        },
        {
          "output_type": "execute_result",
          "data": {
            "text/plain": [
              "30"
            ]
          },
          "metadata": {
            "tags": []
          },
          "execution_count": 140
        }
      ]
    },
    {
      "cell_type": "code",
      "metadata": {
        "tags": [],
        "cell_id": "00113-5117405a-4e77-4883-9f1e-d115070e4844",
        "deepnote_to_be_reexecuted": false,
        "source_hash": "d79bfc49",
        "execution_start": 1613793289837,
        "execution_millis": 8,
        "deepnote_cell_type": "code",
        "id": "7MGuHp5sqisg",
        "outputId": "76bee5ab-1b1e-4843-f1f2-7bc76e697544"
      },
      "source": [
        "def dec_factory(a, b):\n",
        "    def dec(fn):\n",
        "        def inner(*args, **kwargs):\n",
        "            print('running decorator inner')\n",
        "            print('free vars: ', a, b)  # a and b are free variables!\n",
        "            return fn(*args, **kwargs)\n",
        "        return inner\n",
        "    return dec\n",
        "\n",
        "@dec_factory(10, 20)\n",
        "def my_func():\n",
        "    print('python rocks')\n",
        "\n",
        "my_func()"
      ],
      "execution_count": null,
      "outputs": [
        {
          "output_type": "stream",
          "text": [
            "running decorator inner\n",
            "free vars:  10 20\n",
            "python rocks\n"
          ],
          "name": "stdout"
        }
      ]
    },
    {
      "cell_type": "code",
      "metadata": {
        "tags": [],
        "cell_id": "00114-1f9efd75-de30-49cc-ae21-1eeee928c2ad",
        "deepnote_to_be_reexecuted": false,
        "source_hash": "b839a172",
        "execution_millis": 14,
        "execution_start": 1613793452125,
        "deepnote_cell_type": "code",
        "id": "0P80sE6Pqish",
        "outputId": "81a028df-d8cf-4469-a82b-d547b6e77eab"
      },
      "source": [
        "def authenticatedOrNot(auth):\n",
        "    def dec(fn):\n",
        "        def inner(*args, **kwargs):\n",
        "            print('running decorator inner')\n",
        "            print('free vars: ', a, b)  # a and b are free variables!\n",
        "            return fn(*args, **kwargs)\n",
        "        return inner\n",
        "    if (auth):\n",
        "        return dec\n",
        "    else:\n",
        "        print(\"You are not authenticated\")\n",
        "\n",
        "@authenticatedOrNot(False)\n",
        "@timed\n",
        "@logged\n",
        "def factorial(n):\n",
        "    from operator import mul\n",
        "    from functools import reduce\n",
        "    return reduce(mul, range(1, n+1))\n",
        "\n",
        "factorial(4)"
      ],
      "execution_count": null,
      "outputs": [
        {
          "output_type": "stream",
          "text": [
            "You are not authenticated\n"
          ],
          "name": "stdout"
        },
        {
          "output_type": "error",
          "ename": "TypeError",
          "evalue": "timed() missing 1 required positional argument: 'fn'",
          "traceback": [
            "\u001b[0;31m---------------------------------------------------------------------------\u001b[0m",
            "\u001b[0;31mTypeError\u001b[0m                                 Traceback (most recent call last)",
            "\u001b[0;32m<ipython-input-145-010650a9a151>\u001b[0m in \u001b[0;36m<module>\u001b[0;34m\u001b[0m\n\u001b[1;32m     12\u001b[0m \u001b[0;34m\u001b[0m\u001b[0m\n\u001b[1;32m     13\u001b[0m \u001b[0;34m@\u001b[0m\u001b[0mauthenticatedOrNot\u001b[0m\u001b[0;34m(\u001b[0m\u001b[0;32mFalse\u001b[0m\u001b[0;34m)\u001b[0m\u001b[0;34m\u001b[0m\u001b[0;34m\u001b[0m\u001b[0m\n\u001b[0;32m---> 14\u001b[0;31m \u001b[0;34m@\u001b[0m\u001b[0mtimed\u001b[0m\u001b[0;34m(\u001b[0m\u001b[0mnum_reps\u001b[0m \u001b[0;34m=\u001b[0m \u001b[0;36m5\u001b[0m\u001b[0;34m)\u001b[0m\u001b[0;34m\u001b[0m\u001b[0;34m\u001b[0m\u001b[0m\n\u001b[0m\u001b[1;32m     15\u001b[0m \u001b[0;34m@\u001b[0m\u001b[0mlogged\u001b[0m\u001b[0;34m\u001b[0m\u001b[0;34m\u001b[0m\u001b[0m\n\u001b[1;32m     16\u001b[0m \u001b[0;32mdef\u001b[0m \u001b[0mfactorial\u001b[0m\u001b[0;34m(\u001b[0m\u001b[0mn\u001b[0m\u001b[0;34m)\u001b[0m\u001b[0;34m:\u001b[0m\u001b[0;34m\u001b[0m\u001b[0;34m\u001b[0m\u001b[0m\n",
            "\u001b[0;31mTypeError\u001b[0m: timed() missing 1 required positional argument: 'fn'"
          ]
        }
      ]
    },
    {
      "cell_type": "code",
      "metadata": {
        "tags": [],
        "cell_id": "00115-24df53d7-5c34-43b1-bf85-abffc890e24f",
        "deepnote_to_be_reexecuted": false,
        "source_hash": "ec4408e3",
        "execution_start": 1613793503313,
        "execution_millis": 0,
        "deepnote_cell_type": "code",
        "id": "yv_qg3IWqisj"
      },
      "source": [
        "def my_dec(a, b):\n",
        "    def dec(fn):\n",
        "        def inner(*args, **kwargs):\n",
        "            print('decorated function called: a={0}, b={1}'.format(a, b))\n",
        "            return fn(*args, **kwargs)\n",
        "        return inner\n",
        "    return dec"
      ],
      "execution_count": null,
      "outputs": []
    },
    {
      "cell_type": "code",
      "metadata": {
        "tags": [],
        "cell_id": "00116-35c20351-73cf-40a3-a3f1-8d39a1539988",
        "deepnote_to_be_reexecuted": false,
        "source_hash": "3c66ff66",
        "execution_start": 1613793510843,
        "execution_millis": 5,
        "deepnote_cell_type": "code",
        "id": "LXfMUhvrqisk"
      },
      "source": [
        "@my_dec(10, 20)\n",
        "def my_func(s):\n",
        "    print('hello {0}'.format(s))"
      ],
      "execution_count": null,
      "outputs": []
    },
    {
      "cell_type": "code",
      "metadata": {
        "tags": [],
        "cell_id": "00117-ce372dd6-f878-4f36-9b25-cbae0dd74a14",
        "deepnote_to_be_reexecuted": false,
        "source_hash": "43ad98dc",
        "execution_start": 1613793516238,
        "execution_millis": 9,
        "deepnote_cell_type": "code",
        "id": "Ui8rsx_1qisl",
        "outputId": "d0a8d6f6-5bd3-40e0-d606-23606b45911f"
      },
      "source": [
        "my_func('world')"
      ],
      "execution_count": null,
      "outputs": [
        {
          "output_type": "stream",
          "text": [
            "decorated function called: a=10, b=20\n",
            "hello world\n"
          ],
          "name": "stdout"
        }
      ]
    },
    {
      "cell_type": "code",
      "metadata": {
        "tags": [],
        "cell_id": "00118-6318e285-085c-4aeb-bba4-59eaebb18a72",
        "deepnote_to_be_reexecuted": false,
        "source_hash": "dc4fa6f8",
        "execution_start": 1613793538481,
        "execution_millis": 1,
        "deepnote_cell_type": "code",
        "id": "BfRomHP3qisl"
      },
      "source": [
        "class MyClass:\n",
        "    def __init__(self, a, b):\n",
        "        self.a = a\n",
        "        self.b = b\n",
        "        \n",
        "    def __call__(self):\n",
        "        print('MyClass instance called: a={0}, b={1}'.format(self.a, self.b))"
      ],
      "execution_count": null,
      "outputs": []
    },
    {
      "cell_type": "code",
      "metadata": {
        "tags": [],
        "cell_id": "00119-7f9eff76-4c7b-420c-9a09-bd994132d14a",
        "deepnote_to_be_reexecuted": false,
        "source_hash": "17181e4",
        "execution_start": 1613793543661,
        "execution_millis": 2,
        "deepnote_cell_type": "code",
        "id": "Ffhck0tTqism"
      },
      "source": [
        "my_class = MyClass(10, 20)"
      ],
      "execution_count": null,
      "outputs": []
    },
    {
      "cell_type": "code",
      "metadata": {
        "tags": [],
        "cell_id": "00120-cf3ad07d-48a3-4adb-8c2e-017471c9f192",
        "deepnote_to_be_reexecuted": false,
        "source_hash": "b8f242a7",
        "execution_start": 1613793549481,
        "execution_millis": 13,
        "deepnote_cell_type": "code",
        "id": "Ay4qZJoHqism",
        "outputId": "ad2ee7a5-981a-4a90-f15c-9924f5cef8b1"
      },
      "source": [
        "my_class()"
      ],
      "execution_count": null,
      "outputs": [
        {
          "output_type": "stream",
          "text": [
            "MyClass instance called: a=10, b=20\n"
          ],
          "name": "stdout"
        }
      ]
    },
    {
      "cell_type": "code",
      "metadata": {
        "tags": [],
        "cell_id": "00121-00e92265-f426-4f1f-b55c-a777c6824959",
        "deepnote_to_be_reexecuted": false,
        "source_hash": "a80d5651",
        "execution_start": 1613793573097,
        "execution_millis": 1,
        "deepnote_cell_type": "code",
        "id": "3CBGUhabqisn"
      },
      "source": [
        "class MyClass:\n",
        "    def __init__(self, a, b):\n",
        "        self.a = a\n",
        "        self.b = b\n",
        "        \n",
        "    def __call__(self, fn):\n",
        "        def inner(*args, **kwargs):\n",
        "            print('MyClass instance called: a={0}, b={1}'.format(self.a, self.b))\n",
        "            return fn(*args, **kwargs)\n",
        "        return inner"
      ],
      "execution_count": null,
      "outputs": []
    },
    {
      "cell_type": "code",
      "metadata": {
        "tags": [],
        "cell_id": "00122-b1c0acd2-a7b0-45e3-afe5-75e47cb87d9b",
        "deepnote_to_be_reexecuted": false,
        "source_hash": "f3ae5cd2",
        "execution_start": 1613793618681,
        "execution_millis": 1,
        "deepnote_cell_type": "code",
        "id": "CICj3IB4qisn"
      },
      "source": [
        "@MyClass(10, 20)\n",
        "def my_func(s):\n",
        "    print('Hello {0}!'.format(s))"
      ],
      "execution_count": null,
      "outputs": []
    },
    {
      "cell_type": "code",
      "metadata": {
        "tags": [],
        "cell_id": "00123-d3494e29-e87f-4c9d-bd6b-b3a6142d2714",
        "deepnote_to_be_reexecuted": false,
        "source_hash": "875a608c",
        "execution_start": 1613793655629,
        "execution_millis": 6,
        "deepnote_cell_type": "code",
        "id": "IT2eqp6kqisn",
        "outputId": "524483d3-438e-4826-ced6-a0bf4804f300"
      },
      "source": [
        "my_func('Python')"
      ],
      "execution_count": null,
      "outputs": [
        {
          "output_type": "stream",
          "text": [
            "MyClass instance called: a=10, b=20\n",
            "Hello Python!\n"
          ],
          "name": "stdout"
        }
      ]
    },
    {
      "cell_type": "code",
      "metadata": {
        "tags": [],
        "cell_id": "00124-b18e9c4d-46ac-49c5-bb3f-3f6287baaf84",
        "deepnote_to_be_reexecuted": false,
        "source_hash": "9b715527",
        "execution_start": 1613793677621,
        "execution_millis": 1,
        "deepnote_cell_type": "code",
        "id": "9txX44Zvqiso"
      },
      "source": [
        "from fractions import Fraction"
      ],
      "execution_count": null,
      "outputs": []
    },
    {
      "cell_type": "code",
      "metadata": {
        "tags": [],
        "cell_id": "00125-1b4b5c94-cf7b-453f-84f2-7da9358718b7",
        "deepnote_to_be_reexecuted": false,
        "source_hash": "3568a520",
        "execution_millis": 0,
        "execution_start": 1613793695218,
        "deepnote_cell_type": "code",
        "id": "S8_PDD9kqisp"
      },
      "source": [
        "Fraction.speak = lambda self: 'This is a late parrot.'"
      ],
      "execution_count": null,
      "outputs": []
    },
    {
      "cell_type": "code",
      "metadata": {
        "tags": [],
        "cell_id": "00126-ce9f0a65-aa24-49b4-9779-151c9fba0978",
        "deepnote_to_be_reexecuted": false,
        "source_hash": "97af2a6a",
        "execution_start": 1613793702361,
        "execution_millis": 1,
        "deepnote_cell_type": "code",
        "id": "6VM5afMJqisp"
      },
      "source": [
        "f = Fraction(2, 3)"
      ],
      "execution_count": null,
      "outputs": []
    },
    {
      "cell_type": "code",
      "metadata": {
        "tags": [],
        "cell_id": "00127-a26103fb-a65b-4a36-a980-f7ba0fe8da3c",
        "deepnote_to_be_reexecuted": false,
        "source_hash": "a78cb6f8",
        "execution_start": 1613793706049,
        "execution_millis": 9,
        "deepnote_cell_type": "code",
        "id": "fH3GWxTvqisq",
        "outputId": "a7557dd2-f770-4c10-e456-c7caea5bd2fa"
      },
      "source": [
        "f.speak()"
      ],
      "execution_count": null,
      "outputs": [
        {
          "output_type": "execute_result",
          "data": {
            "text/plain": [
              "'This is a late parrot.'"
            ]
          },
          "metadata": {
            "tags": []
          },
          "execution_count": 159
        }
      ]
    },
    {
      "cell_type": "code",
      "metadata": {
        "tags": [],
        "cell_id": "00128-642a3639-93e5-411a-97ca-2fdade9cfbac",
        "deepnote_to_be_reexecuted": false,
        "source_hash": "a23b2d95",
        "execution_start": 1613793734189,
        "execution_millis": 1,
        "deepnote_cell_type": "code",
        "id": "bLypb4UWqisq"
      },
      "source": [
        "Fraction.is_integral = lambda self: self.denominator == 1"
      ],
      "execution_count": null,
      "outputs": []
    },
    {
      "cell_type": "code",
      "metadata": {
        "tags": [],
        "cell_id": "00129-4102cfec-9a96-4a7e-afda-ea2db20a431a",
        "deepnote_to_be_reexecuted": false,
        "source_hash": "ebd4c595",
        "execution_start": 1613793737774,
        "execution_millis": 0,
        "deepnote_cell_type": "code",
        "id": "u0paomdIqisq"
      },
      "source": [
        "f1 = Fraction(1, 2)\n",
        "f2 = Fraction(10, 5)"
      ],
      "execution_count": null,
      "outputs": []
    },
    {
      "cell_type": "code",
      "metadata": {
        "tags": [],
        "cell_id": "00130-9666c048-5b01-4877-8248-f5f0ca7998d8",
        "deepnote_to_be_reexecuted": false,
        "source_hash": "d0b7faf9",
        "execution_start": 1613793741632,
        "execution_millis": 13,
        "deepnote_cell_type": "code",
        "id": "DUI2yqqDqisr",
        "outputId": "31b719cc-0d77-4926-9913-5ea6e1161755"
      },
      "source": [
        "f2.is_integral()"
      ],
      "execution_count": null,
      "outputs": [
        {
          "output_type": "execute_result",
          "data": {
            "text/plain": [
              "True"
            ]
          },
          "metadata": {
            "tags": []
          },
          "execution_count": 162
        }
      ]
    },
    {
      "cell_type": "code",
      "metadata": {
        "tags": [],
        "cell_id": "00131-dd759c38-78dc-4c97-b640-27a53762687a",
        "deepnote_to_be_reexecuted": false,
        "source_hash": "cdb0c9bc",
        "execution_start": 1613793746988,
        "execution_millis": 9,
        "deepnote_cell_type": "code",
        "id": "m3MxxBVfqiss",
        "outputId": "9bc4db1c-3e7b-4999-f6f8-c16779479ef7"
      },
      "source": [
        "f1.is_integral()"
      ],
      "execution_count": null,
      "outputs": [
        {
          "output_type": "execute_result",
          "data": {
            "text/plain": [
              "False"
            ]
          },
          "metadata": {
            "tags": []
          },
          "execution_count": 163
        }
      ]
    },
    {
      "cell_type": "code",
      "metadata": {
        "tags": [],
        "cell_id": "00132-2ad27270-7c32-496a-b2e5-f440e8924f84",
        "deepnote_to_be_reexecuted": false,
        "source_hash": "f5008440",
        "execution_start": 1613793767265,
        "execution_millis": 0,
        "deepnote_cell_type": "code",
        "id": "pi5ENyMZqiss"
      },
      "source": [
        "def dec_speak(cls):\n",
        "    cls.speak = lambda self: 'This is a very late parrot.'\n",
        "    return cls"
      ],
      "execution_count": null,
      "outputs": []
    },
    {
      "cell_type": "code",
      "metadata": {
        "tags": [],
        "cell_id": "00133-658d0c57-cc1b-4a74-87ea-6694b3477125",
        "deepnote_to_be_reexecuted": false,
        "source_hash": "c829ff86",
        "execution_start": 1613793772053,
        "execution_millis": 0,
        "deepnote_cell_type": "code",
        "id": "cymQOpk4qist"
      },
      "source": [
        "Fraction = dec_speak(Fraction)"
      ],
      "execution_count": null,
      "outputs": []
    },
    {
      "cell_type": "code",
      "metadata": {
        "tags": [],
        "cell_id": "00134-a8f8432f-af2e-4eb7-9830-e87dbaeb079d",
        "deepnote_to_be_reexecuted": false,
        "source_hash": "fdef066b",
        "execution_start": 1613793779327,
        "execution_millis": 11,
        "deepnote_cell_type": "code",
        "id": "5qN1f36Cqist",
        "outputId": "bda0970b-0478-44f2-a12c-feb8911cba6e"
      },
      "source": [
        "f = Fraction(10, 2)\n",
        "f.speak()"
      ],
      "execution_count": null,
      "outputs": [
        {
          "output_type": "execute_result",
          "data": {
            "text/plain": [
              "'This is a very late parrot.'"
            ]
          },
          "metadata": {
            "tags": []
          },
          "execution_count": 166
        }
      ]
    },
    {
      "cell_type": "code",
      "metadata": {
        "tags": [],
        "cell_id": "00135-d67dc1d3-c056-4fc5-9b7a-8e63e7fd9fb6",
        "deepnote_to_be_reexecuted": false,
        "source_hash": "aada82f5",
        "execution_start": 1613793787340,
        "execution_millis": 6,
        "deepnote_cell_type": "code",
        "id": "05FyFvcTqisu"
      },
      "source": [
        "@dec_speak\n",
        "class Parrot:\n",
        "    def __init__(self):\n",
        "        self.state = 'late'"
      ],
      "execution_count": null,
      "outputs": []
    },
    {
      "cell_type": "code",
      "metadata": {
        "tags": [],
        "cell_id": "00136-cbe0ffaf-635a-4313-8793-3a79b705c198",
        "deepnote_to_be_reexecuted": false,
        "source_hash": "b13ae7f6",
        "execution_start": 1613793802605,
        "execution_millis": 7,
        "deepnote_cell_type": "code",
        "id": "LYThZ_pTqisu",
        "outputId": "3f8dd374-445b-4932-b1d0-adb7941ec6cb"
      },
      "source": [
        "polly = Parrot()\n",
        "polly.speak()"
      ],
      "execution_count": null,
      "outputs": [
        {
          "output_type": "execute_result",
          "data": {
            "text/plain": [
              "'This is a very late parrot.'"
            ]
          },
          "metadata": {
            "tags": []
          },
          "execution_count": 168
        }
      ]
    },
    {
      "cell_type": "code",
      "metadata": {
        "tags": [],
        "cell_id": "00137-2aa9a038-121b-40fb-8e2d-2e70a59fcfb1",
        "deepnote_to_be_reexecuted": false,
        "source_hash": "f4ee42f9",
        "execution_start": 1613793827454,
        "execution_millis": 0,
        "deepnote_cell_type": "code",
        "id": "gtzeiqS_qisv"
      },
      "source": [
        "Fraction.recip = lambda self: Fraction(self.denominator, self.numerator)"
      ],
      "execution_count": null,
      "outputs": []
    },
    {
      "cell_type": "code",
      "metadata": {
        "tags": [],
        "cell_id": "00138-75a48813-ec85-496d-9349-211d8b9f2fc9",
        "deepnote_to_be_reexecuted": false,
        "source_hash": "53f90f0e",
        "execution_millis": 18,
        "execution_start": 1613793837776,
        "deepnote_cell_type": "code",
        "id": "BNs4XMNjqisw",
        "outputId": "9b752612-5032-43af-bdbf-b8d28e69b132"
      },
      "source": [
        "f = Fraction(2,3)\n",
        "f"
      ],
      "execution_count": null,
      "outputs": [
        {
          "output_type": "execute_result",
          "data": {
            "text/plain": [
              "Fraction(2, 3)"
            ]
          },
          "metadata": {
            "tags": []
          },
          "execution_count": 172
        }
      ]
    },
    {
      "cell_type": "code",
      "metadata": {
        "tags": [],
        "cell_id": "00139-77dc026c-9a2a-44ce-a862-3b1da532274b",
        "deepnote_to_be_reexecuted": false,
        "source_hash": "262bb89f",
        "execution_millis": 15,
        "execution_start": 1613793839905,
        "deepnote_cell_type": "code",
        "id": "0q1PFsBzqisy",
        "outputId": "b721ae8e-0e9f-4ec8-af28-5f69ff027b23"
      },
      "source": [
        "f.recip()"
      ],
      "execution_count": null,
      "outputs": [
        {
          "output_type": "execute_result",
          "data": {
            "text/plain": [
              "Fraction(3, 2)"
            ]
          },
          "metadata": {
            "tags": []
          },
          "execution_count": 173
        }
      ]
    },
    {
      "cell_type": "code",
      "metadata": {
        "tags": [],
        "cell_id": "00140-02eded5d-e7d0-407b-ac55-4a13748f40cc",
        "deepnote_to_be_reexecuted": false,
        "source_hash": "e0002e99",
        "execution_start": 1613793868077,
        "execution_millis": 0,
        "deepnote_cell_type": "code",
        "id": "eU5fk8xEqis0"
      },
      "source": [
        "from datetime import datetime, timezone"
      ],
      "execution_count": null,
      "outputs": []
    },
    {
      "cell_type": "code",
      "metadata": {
        "tags": [],
        "cell_id": "00141-38566b65-c0e5-4c78-bb1e-12bc19d203eb",
        "deepnote_to_be_reexecuted": false,
        "source_hash": "48e77020",
        "execution_start": 1613793898453,
        "execution_millis": 1,
        "deepnote_cell_type": "code",
        "id": "TzmpYHnnqis2"
      },
      "source": [
        "def debug_info(cls):\n",
        "    def info(self):\n",
        "        results = []\n",
        "        results.append('time: {0}'.format(datetime.now(timezone.utc)))\n",
        "        results.append('class: {0}'.format(self.__class__.__name__))\n",
        "        results.append('id: {0}'.format(hex(id(self))))\n",
        "        \n",
        "        if vars(self):\n",
        "            for k, v in vars(self).items():\n",
        "                results.append('{0}: {1}'.format(k, v))\n",
        "        \n",
        "        # we have not covered lists, the extend method and generators,\n",
        "        # but note that a more Pythonic way to do this would be:\n",
        "        #if vars(self):\n",
        "        #    results.extend('{0}: {1}'.format(k, v) \n",
        "        #                   for k, v in vars(self).items())\n",
        "        \n",
        "        return results\n",
        "    \n",
        "    cls.debug = info\n",
        "    \n",
        "    return cls"
      ],
      "execution_count": null,
      "outputs": []
    },
    {
      "cell_type": "code",
      "metadata": {
        "tags": [],
        "cell_id": "00142-24d8f6c4-6f4a-4fbc-9e61-dbad9f208ec0",
        "deepnote_to_be_reexecuted": false,
        "source_hash": "7705efb0",
        "execution_millis": 1,
        "execution_start": 1613793928093,
        "deepnote_cell_type": "code",
        "id": "t_hpksTiqis3"
      },
      "source": [
        "@debug_info\n",
        "class Person:\n",
        "    def __init__(self, name, birth_year):\n",
        "        self.name = name\n",
        "        self.birth_year = birth_year\n",
        "        \n",
        "    def say_hi():\n",
        "        return 'Hello there!'"
      ],
      "execution_count": null,
      "outputs": []
    },
    {
      "cell_type": "code",
      "metadata": {
        "tags": [],
        "cell_id": "00143-987bc268-0253-4f3d-9afb-b31c7b9e157f",
        "deepnote_to_be_reexecuted": false,
        "source_hash": "d9cca89d",
        "execution_start": 1613793936765,
        "execution_millis": 3,
        "deepnote_cell_type": "code",
        "id": "gaPe6tOhqis3"
      },
      "source": [
        "p1 = Person('John', 1939)"
      ],
      "execution_count": null,
      "outputs": []
    },
    {
      "cell_type": "code",
      "metadata": {
        "tags": [],
        "cell_id": "00144-5729b6a9-8fa8-4f2e-b377-f03405638df5",
        "deepnote_to_be_reexecuted": false,
        "source_hash": "cd3d9c82",
        "execution_start": 1613793940930,
        "execution_millis": 10,
        "deepnote_cell_type": "code",
        "id": "CHQTaxfkqis4",
        "outputId": "380aaf4e-fa2e-457d-d5d4-89959be8bdbc"
      },
      "source": [
        "p1.debug()"
      ],
      "execution_count": null,
      "outputs": [
        {
          "output_type": "execute_result",
          "data": {
            "text/plain": [
              "['time: 2021-02-20 04:05:40.926424+00:00',\n",
              " 'class: Person',\n",
              " 'id: 0x7feb943ece50',\n",
              " 'name: John',\n",
              " 'birth_year: 1939']"
            ]
          },
          "metadata": {
            "tags": []
          },
          "execution_count": 179
        }
      ]
    },
    {
      "cell_type": "code",
      "metadata": {
        "tags": [],
        "cell_id": "00145-7358cea1-eec4-4a37-91ed-637750e1e1f4",
        "deepnote_to_be_reexecuted": false,
        "source_hash": "fe2cacd",
        "execution_start": 1613793964793,
        "execution_millis": 0,
        "deepnote_cell_type": "code",
        "id": "A0QR-yJ1qis5"
      },
      "source": [
        "@debug_info\n",
        "class Automobile:\n",
        "    def __init__(self, make, model, year, top_speed_mph):\n",
        "        self.make = make\n",
        "        self.model = model\n",
        "        self.year = year\n",
        "        self.top_speed_mph = top_speed_mph\n",
        "        self.current_speed = 0\n",
        "    \n",
        "    @property\n",
        "    def speed(self):\n",
        "        return self.current_speed\n",
        "    \n",
        "    @speed.setter\n",
        "    def speed(self, new_speed):\n",
        "        self.current_speed = new_speed"
      ],
      "execution_count": null,
      "outputs": []
    },
    {
      "cell_type": "code",
      "metadata": {
        "tags": [],
        "cell_id": "00146-5ab15ff2-7536-4c20-856a-de112d7be635",
        "deepnote_to_be_reexecuted": false,
        "source_hash": "8315e5d5",
        "execution_start": 1613793968596,
        "execution_millis": 3,
        "deepnote_cell_type": "code",
        "id": "AUOIX-VPqis6"
      },
      "source": [
        "s = Automobile('Ford', 'Model T', 1908, 45)"
      ],
      "execution_count": null,
      "outputs": []
    },
    {
      "cell_type": "code",
      "metadata": {
        "tags": [],
        "cell_id": "00147-7fa89ba0-f383-4b3f-9548-d1da1ad25d3e",
        "deepnote_to_be_reexecuted": false,
        "source_hash": "63f2d5ec",
        "execution_start": 1613793973833,
        "execution_millis": 8,
        "deepnote_cell_type": "code",
        "id": "5jwUDmrTqis6",
        "outputId": "f39165ad-1167-4572-a888-3f94e35178bb"
      },
      "source": [
        "s.debug()"
      ],
      "execution_count": null,
      "outputs": [
        {
          "output_type": "execute_result",
          "data": {
            "text/plain": [
              "['time: 2021-02-20 04:06:13.789692+00:00',\n",
              " 'class: Automobile',\n",
              " 'id: 0x7feb921ebe50',\n",
              " 'make: Ford',\n",
              " 'model: Model T',\n",
              " 'year: 1908',\n",
              " 'top_speed_mph: 45',\n",
              " 'current_speed: 0']"
            ]
          },
          "metadata": {
            "tags": []
          },
          "execution_count": 182
        }
      ]
    },
    {
      "cell_type": "code",
      "metadata": {
        "tags": [],
        "cell_id": "00148-3d640969-6faa-4503-928f-e170fb7aae39",
        "deepnote_to_be_reexecuted": false,
        "source_hash": "96785dd2",
        "execution_start": 1613793985482,
        "execution_millis": 1,
        "deepnote_cell_type": "code",
        "id": "uQDPIHIjqis7"
      },
      "source": [
        "s.speed = 20"
      ],
      "execution_count": null,
      "outputs": []
    },
    {
      "cell_type": "code",
      "metadata": {
        "tags": [],
        "cell_id": "00149-6d1c1f6a-90eb-4972-8f5d-11b319b98509",
        "deepnote_to_be_reexecuted": false,
        "source_hash": "63f2d5ec",
        "execution_start": 1613793991128,
        "execution_millis": 10,
        "deepnote_cell_type": "code",
        "id": "Dd3YGdvoqis8",
        "outputId": "9a33e597-287d-4995-8b01-603fbcca8adc"
      },
      "source": [
        "s.debug()"
      ],
      "execution_count": null,
      "outputs": [
        {
          "output_type": "execute_result",
          "data": {
            "text/plain": [
              "['time: 2021-02-20 04:06:31.123907+00:00',\n",
              " 'class: Automobile',\n",
              " 'id: 0x7feb921ebe50',\n",
              " 'make: Ford',\n",
              " 'model: Model T',\n",
              " 'year: 1908',\n",
              " 'top_speed_mph: 45',\n",
              " 'current_speed: 20']"
            ]
          },
          "metadata": {
            "tags": []
          },
          "execution_count": 184
        }
      ]
    },
    {
      "cell_type": "code",
      "metadata": {
        "tags": [],
        "cell_id": "00150-d541633b-8e84-45bb-8bfa-d939ee06ccab",
        "deepnote_to_be_reexecuted": false,
        "source_hash": "39e11279",
        "execution_start": 1613794007029,
        "execution_millis": 0,
        "deepnote_cell_type": "code",
        "id": "FbL1-GaYqis8"
      },
      "source": [
        "from math import sqrt"
      ],
      "execution_count": null,
      "outputs": []
    },
    {
      "cell_type": "code",
      "metadata": {
        "tags": [],
        "cell_id": "00151-2ca5faf2-92f1-4330-be29-e70755bde6b7",
        "deepnote_to_be_reexecuted": false,
        "source_hash": "e08caedd",
        "execution_start": 1613794009647,
        "execution_millis": 1,
        "deepnote_cell_type": "code",
        "id": "maOJdY9Rqis9"
      },
      "source": [
        "class Point:\n",
        "    def __init__(self, x, y):\n",
        "        self.x = x\n",
        "        self.y = y\n",
        "        \n",
        "    def __abs__(self):\n",
        "        return sqrt(self.x**2 + self.y**2)\n",
        "    \n",
        "    def __repr__(self):\n",
        "        return 'Point({0},{1})'.format(self.x, self.y)"
      ],
      "execution_count": null,
      "outputs": []
    },
    {
      "cell_type": "code",
      "metadata": {
        "tags": [],
        "cell_id": "00152-fdec4026-32a8-4e6c-a199-01eff1caa5d0",
        "deepnote_to_be_reexecuted": false,
        "source_hash": "dcb86f63",
        "execution_start": 1613794027342,
        "deepnote_cell_type": "code",
        "id": "zkWAhnXuqis9"
      },
      "source": [
        "p1, p2, p3 = Point(2, 3), Point(2, 3), Point(0,0)"
      ],
      "execution_count": null,
      "outputs": []
    },
    {
      "cell_type": "code",
      "metadata": {
        "tags": [],
        "cell_id": "00153-ec5280e7-cfed-447a-9ac5-3f37938acc2d",
        "deepnote_to_be_reexecuted": false,
        "source_hash": "2ebdce97",
        "execution_start": 1613794027345,
        "execution_millis": 3,
        "deepnote_cell_type": "code",
        "id": "5cHDaBWyqis-",
        "outputId": "cb97e28f-5972-444b-f43f-4562d083dfa9"
      },
      "source": [
        "abs(p1)"
      ],
      "execution_count": null,
      "outputs": [
        {
          "output_type": "execute_result",
          "data": {
            "text/plain": [
              "3.605551275463989"
            ]
          },
          "metadata": {
            "tags": []
          },
          "execution_count": 188
        }
      ]
    },
    {
      "cell_type": "code",
      "metadata": {
        "tags": [],
        "cell_id": "00154-d755e87e-d44a-4802-8558-730f581e05e6",
        "deepnote_to_be_reexecuted": false,
        "source_hash": "4b2ab283",
        "execution_start": 1613794027351,
        "execution_millis": 4,
        "deepnote_cell_type": "code",
        "id": "181SGtwlqis-",
        "outputId": "4bce910d-93c2-4157-dab9-7990a64ce24c"
      },
      "source": [
        "p1, p2"
      ],
      "execution_count": null,
      "outputs": [
        {
          "output_type": "execute_result",
          "data": {
            "text/plain": [
              "(Point(2,3), Point(2,3))"
            ]
          },
          "metadata": {
            "tags": []
          },
          "execution_count": 189
        }
      ]
    },
    {
      "cell_type": "code",
      "metadata": {
        "tags": [],
        "cell_id": "00155-adb27328-5dba-4ddc-98ce-2a5dd20e208e",
        "deepnote_to_be_reexecuted": false,
        "source_hash": "416c92aa",
        "execution_start": 1613794033265,
        "execution_millis": 8,
        "deepnote_cell_type": "code",
        "id": "zZcmTG1sqis-",
        "outputId": "1b78f344-cea1-423e-fb35-d6471691ce5e"
      },
      "source": [
        "p1 == p2"
      ],
      "execution_count": null,
      "outputs": [
        {
          "output_type": "execute_result",
          "data": {
            "text/plain": [
              "False"
            ]
          },
          "metadata": {
            "tags": []
          },
          "execution_count": 190
        }
      ]
    },
    {
      "cell_type": "code",
      "metadata": {
        "tags": [],
        "cell_id": "00156-cf9fbfbd-34d7-4ad1-8859-23215efe7859",
        "deepnote_to_be_reexecuted": false,
        "source_hash": "46a976c2",
        "execution_start": 1613794043253,
        "execution_millis": 16,
        "deepnote_cell_type": "code",
        "id": "lcI8OUsCqis_",
        "outputId": "8567f95b-7225-4b61-ad42-69fbc18c0dbc"
      },
      "source": [
        "p2 > p3"
      ],
      "execution_count": null,
      "outputs": [
        {
          "output_type": "error",
          "ename": "TypeError",
          "evalue": "'>' not supported between instances of 'Point' and 'Point'",
          "traceback": [
            "\u001b[0;31m---------------------------------------------------------------------------\u001b[0m",
            "\u001b[0;31mTypeError\u001b[0m                                 Traceback (most recent call last)",
            "\u001b[0;32m<ipython-input-191-f8bae365a84f>\u001b[0m in \u001b[0;36m<module>\u001b[0;34m\u001b[0m\n\u001b[0;32m----> 1\u001b[0;31m \u001b[0mp2\u001b[0m \u001b[0;34m>\u001b[0m \u001b[0mp3\u001b[0m\u001b[0;34m\u001b[0m\u001b[0;34m\u001b[0m\u001b[0m\n\u001b[0m",
            "\u001b[0;31mTypeError\u001b[0m: '>' not supported between instances of 'Point' and 'Point'"
          ]
        }
      ]
    },
    {
      "cell_type": "code",
      "metadata": {
        "tags": [],
        "cell_id": "00157-767659ab-1501-49ba-8299-522562c6f932",
        "deepnote_to_be_reexecuted": false,
        "source_hash": "15462010",
        "execution_start": 1613794061797,
        "execution_millis": 0,
        "deepnote_cell_type": "code",
        "id": "gBLW4qemqis_"
      },
      "source": [
        "del Point\n",
        "\n",
        "class Point:\n",
        "    def __init__(self, x, y):\n",
        "        self.x = x\n",
        "        self.y = y\n",
        "        \n",
        "    def __abs__(self):\n",
        "        return sqrt(self.x**2 + self.y**2)\n",
        "    \n",
        "    def __eq__(self, other):\n",
        "        if isinstance(other, Point):\n",
        "            return self.x == other.x and self.y == other.y\n",
        "        else:\n",
        "            return NotImplemented\n",
        "            \n",
        "    def __lt__(self, other):\n",
        "        if isinstance(other, Point):\n",
        "            return abs(self) < abs(other)\n",
        "        else:\n",
        "            return NotImplemented\n",
        "        \n",
        "    def __repr__(self):\n",
        "        return '{0}({1},{2})'.format(self.__class__.__name__, self.x, self.y)"
      ],
      "execution_count": null,
      "outputs": []
    },
    {
      "cell_type": "code",
      "metadata": {
        "tags": [],
        "cell_id": "00158-7c2bf3d2-367c-4e11-88ae-6a56f128178e",
        "deepnote_to_be_reexecuted": false,
        "source_hash": "dcb86f63",
        "execution_start": 1613794068536,
        "execution_millis": 0,
        "deepnote_cell_type": "code",
        "id": "p_fANjDRqis_"
      },
      "source": [
        "p1, p2, p3 = Point(2, 3), Point(2, 3), Point(0,0)"
      ],
      "execution_count": null,
      "outputs": []
    },
    {
      "cell_type": "code",
      "metadata": {
        "tags": [],
        "cell_id": "00159-a392aae6-8273-482d-a584-68a9533ae711",
        "deepnote_to_be_reexecuted": false,
        "source_hash": "428cf9ad",
        "execution_start": 1613794071303,
        "execution_millis": 8,
        "deepnote_cell_type": "code",
        "id": "rU-vO-xvqis_",
        "outputId": "2c05b3eb-6756-4046-b065-4a7a04f16384"
      },
      "source": [
        "p1, p2, p1==p2"
      ],
      "execution_count": null,
      "outputs": [
        {
          "output_type": "execute_result",
          "data": {
            "text/plain": [
              "(Point(2,3), Point(2,3), True)"
            ]
          },
          "metadata": {
            "tags": []
          },
          "execution_count": 194
        }
      ]
    },
    {
      "cell_type": "code",
      "metadata": {
        "tags": [],
        "cell_id": "00160-b6d03279-d2df-4618-94b9-5cdcb14e4f9a",
        "deepnote_to_be_reexecuted": false,
        "source_hash": "cfe442",
        "execution_start": 1613794075299,
        "execution_millis": 12,
        "deepnote_cell_type": "code",
        "id": "ejV607MJqitA",
        "outputId": "b7bfc73d-17fd-4383-b229-ef5b6cad4812"
      },
      "source": [
        "p2, p3, p2==p3"
      ],
      "execution_count": null,
      "outputs": [
        {
          "output_type": "execute_result",
          "data": {
            "text/plain": [
              "(Point(2,3), Point(0,0), False)"
            ]
          },
          "metadata": {
            "tags": []
          },
          "execution_count": 195
        }
      ]
    },
    {
      "cell_type": "code",
      "metadata": {
        "tags": [],
        "cell_id": "00161-d134b670-e5db-4c29-af94-a28c1f14e383",
        "deepnote_to_be_reexecuted": false,
        "source_hash": "2f6d77a",
        "execution_millis": 8,
        "execution_start": 1613794102110,
        "deepnote_cell_type": "code",
        "id": "UiTbbhcoqitB",
        "outputId": "73e83804-fa79-41d2-ca0f-62dcff50f816"
      },
      "source": [
        "abs(p1), abs(p3), p1 < p3"
      ],
      "execution_count": null,
      "outputs": [
        {
          "output_type": "execute_result",
          "data": {
            "text/plain": [
              "(3.605551275463989, 0.0, False)"
            ]
          },
          "metadata": {
            "tags": []
          },
          "execution_count": 198
        }
      ]
    },
    {
      "cell_type": "code",
      "metadata": {
        "tags": [],
        "cell_id": "00162-af645513-8228-421b-9696-ade9c85c962a",
        "deepnote_to_be_reexecuted": false,
        "source_hash": "b7c76b5f",
        "execution_start": 1613794193971,
        "execution_millis": 1,
        "deepnote_cell_type": "code",
        "id": "tPTGmE68qitC"
      },
      "source": [
        "from html import escape\n",
        "\n",
        "def html_escape(arg):\n",
        "    return escape(str(arg))\n",
        "                      \n",
        "def html_int(a):\n",
        "    return '{0}(<i>{1}</i)'.format(a, str(hex(a)))\n",
        "\n",
        "def html_real(a):\n",
        "    return '{0:.2f}'.format(round(a, 2))\n",
        "                                  \n",
        "def html_str(s):\n",
        "    return html_escape(s).replace('\\n', '<br/>\\n')\n",
        "                                  \n",
        "def html_list(l):\n",
        "    items = ('<li>{0}</li>'.format(html_escape(item)) \n",
        "             for item in l)\n",
        "    return '<ul>\\n' + '\\n'.join(items) + '\\n</ul>'\n",
        "                                  \n",
        "def html_dict(d):\n",
        "    items = ('<li>{0}={1}</li>'.format(html_escape(k), html_escape(v)) \n",
        "             for k, v in d.items())    \n",
        "    return '<ul>\\n' + '\\n'.join(items) + '\\n</ul>'"
      ],
      "execution_count": null,
      "outputs": []
    },
    {
      "cell_type": "code",
      "metadata": {
        "tags": [],
        "cell_id": "00163-9a3c7c97-c813-400a-b193-3b71f40ae86b",
        "deepnote_to_be_reexecuted": false,
        "source_hash": "82ae9eb6",
        "execution_start": 1613794193972,
        "execution_millis": 36,
        "deepnote_cell_type": "code",
        "id": "5mznyTCpqitC",
        "outputId": "7484836e-b590-447a-83dc-bb357286d57e"
      },
      "source": [
        "print(html_str(\"\"\"this is \n",
        "a multi line string\n",
        "with special characters: 10 < 100\"\"\"))"
      ],
      "execution_count": null,
      "outputs": [
        {
          "output_type": "stream",
          "text": [
            "this is <br/>\n",
            "a multi line string<br/>\n",
            "with special characters: 10 &lt; 100\n"
          ],
          "name": "stdout"
        }
      ]
    },
    {
      "cell_type": "code",
      "metadata": {
        "tags": [],
        "cell_id": "00164-4ad3de2a-51e6-4f2d-8903-d5d993e2aae7",
        "deepnote_cell_type": "code",
        "id": "_0TG6FYJqitE"
      },
      "source": [
        ""
      ],
      "execution_count": null,
      "outputs": []
    },
    {
      "cell_type": "markdown",
      "metadata": {
        "tags": [],
        "created_in_deepnote_cell": true,
        "deepnote_cell_type": "markdown",
        "id": "tppMFcsiqitF"
      },
      "source": [
        "<a style='text-decoration:none;line-height:16px;display:flex;color:#5B5B62;padding:10px;justify-content:end;' href='https://deepnote.com?utm_source=created-in-deepnote-cell&projectId=d12d8d6f-83dc-4873-bf00-aaff2a39293d' target=\"_blank\">\n",
        "<img style='display:inline;max-height:16px;margin:0px;margin-right:7.5px;' src='data:image/svg+xml;base64,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' > </img>\n",
        "Created in <span style='font-weight:600;margin-left:4px;'>Deepnote</span></a>"
      ]
    }
  ]
}