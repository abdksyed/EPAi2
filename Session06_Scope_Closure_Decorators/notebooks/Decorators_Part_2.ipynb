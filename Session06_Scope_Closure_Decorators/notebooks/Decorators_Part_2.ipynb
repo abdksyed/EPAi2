{
  "nbformat": 4,
  "nbformat_minor": 0,
  "metadata": {
    "orig_nbformat": 2,
    "deepnote_notebook_id": "108ce303-0ac4-431b-8b24-f80c5c0f3761",
    "deepnote": {},
    "deepnote_execution_queue": [],
    "colab": {
      "name": "Decorators_Part_2.ipynb",
      "provenance": [],
      "include_colab_link": true
    }
  },
  "cells": [
    {
      "cell_type": "markdown",
      "metadata": {
        "id": "view-in-github",
        "colab_type": "text"
      },
      "source": [
        "<a href=\"https://colab.research.google.com/github/abdksyed/EPAi2/blob/main/Session06_Scope_Closure_Decorators/notebooks/Decorators_Part_2.ipynb\" target=\"_parent\"><img src=\"https://colab.research.google.com/assets/colab-badge.svg\" alt=\"Open In Colab\"/></a>"
      ]
    },
    {
      "cell_type": "code",
      "metadata": {
        "tags": [],
        "cell_id": "00000-ab6d2413-5ab9-4fba-b91a-c99be0d4af56",
        "deepnote_to_be_reexecuted": false,
        "source_hash": "b7c76b5f",
        "execution_millis": 2,
        "execution_start": 1613794209943,
        "deepnote_cell_type": "code",
        "id": "7ptZsbDNqjjz"
      },
      "source": [
        "from html import escape\n",
        "\n",
        "def html_escape(arg):\n",
        "    return escape(str(arg))\n",
        "                      \n",
        "def html_int(a):\n",
        "    return '{0}(<i>{1}</i)'.format(a, str(hex(a)))\n",
        "\n",
        "def html_real(a):\n",
        "    return '{0:.2f}'.format(round(a, 2))\n",
        "                                  \n",
        "def html_str(s):\n",
        "    return html_escape(s).replace('\\n', '<br/>\\n')\n",
        "                                  \n",
        "def html_list(l):\n",
        "    items = ('<li>{0}</li>'.format(html_escape(item)) \n",
        "             for item in l)\n",
        "    return '<ul>\\n' + '\\n'.join(items) + '\\n</ul>'\n",
        "                                  \n",
        "def html_dict(d):\n",
        "    items = ('<li>{0}={1}</li>'.format(html_escape(k), html_escape(v)) \n",
        "             for k, v in d.items())    \n",
        "    return '<ul>\\n' + '\\n'.join(items) + '\\n</ul>'"
      ],
      "execution_count": null,
      "outputs": []
    },
    {
      "cell_type": "code",
      "metadata": {
        "tags": [],
        "cell_id": "00001-53243b6b-b8a8-4d23-81a2-f36fbc32fda9",
        "deepnote_to_be_reexecuted": false,
        "source_hash": "82ae9eb6",
        "execution_millis": 5,
        "execution_start": 1613794210575,
        "deepnote_cell_type": "code",
        "id": "pUMqWpmnqjj-",
        "outputId": "56207d9e-aa78-4b64-c389-3e26bc1cfbe7"
      },
      "source": [
        "print(html_str(\"\"\"this is \n",
        "a multi line string\n",
        "with special characters: 10 < 100\"\"\"))"
      ],
      "execution_count": null,
      "outputs": [
        {
          "output_type": "stream",
          "text": [
            "this is <br/>\n",
            "a multi line string<br/>\n",
            "with special characters: 10 &lt; 100\n"
          ],
          "name": "stdout"
        }
      ]
    },
    {
      "cell_type": "code",
      "metadata": {
        "tags": [],
        "cell_id": "00002-1b36ba55-14ee-439f-bb22-6fd8f9bb2c31",
        "deepnote_to_be_reexecuted": false,
        "source_hash": "1be99fa2",
        "execution_start": 1613794226905,
        "execution_millis": 4,
        "deepnote_cell_type": "code",
        "id": "asAogUwzqjkL",
        "outputId": "9c3d010d-7286-4b25-8207-631432ea9d05"
      },
      "source": [
        "print(html_int(255))"
      ],
      "execution_count": null,
      "outputs": [
        {
          "output_type": "stream",
          "text": [
            "255(<i>0xff</i)\n"
          ],
          "name": "stdout"
        }
      ]
    },
    {
      "cell_type": "code",
      "metadata": {
        "tags": [],
        "cell_id": "00003-2b8495ad-db64-4a63-9559-0c144e02b116",
        "deepnote_to_be_reexecuted": false,
        "source_hash": "efca6022",
        "execution_start": 1613794232573,
        "execution_millis": 3,
        "deepnote_cell_type": "code",
        "id": "JTMv2RZLqjkM",
        "outputId": "372cf2e2-f275-4180-8309-9f80f3464549"
      },
      "source": [
        "print(html_escape(3+10j))"
      ],
      "execution_count": null,
      "outputs": [
        {
          "output_type": "stream",
          "text": [
            "(3+10j)\n"
          ],
          "name": "stdout"
        }
      ]
    },
    {
      "cell_type": "code",
      "metadata": {
        "tags": [],
        "cell_id": "00004-e1e78721-7496-43bd-93a1-ea2fdfa726cc",
        "deepnote_to_be_reexecuted": false,
        "source_hash": "38d9d5e7",
        "execution_start": 1613794261817,
        "execution_millis": 1,
        "deepnote_cell_type": "code",
        "id": "Zd_hKuC_qjkM"
      },
      "source": [
        "from decimal import Decimal\n",
        "\n",
        "def htmlize(arg):\n",
        "    if isinstance(arg, int):\n",
        "        return html_int(arg)\n",
        "    elif isinstance(arg, float) or isinstance(arg, Decimal):\n",
        "        return html_real(arg)\n",
        "    elif isinstance(arg, str):\n",
        "        return html_str(arg)\n",
        "    elif isinstance(arg, list) or isinstance(arg, tuple):\n",
        "        return html_list(arg)\n",
        "    elif isinstance(arg, dict):\n",
        "        return html_dict(arg)\n",
        "    else:\n",
        "        # default behavior - just html escape string representation\n",
        "        return html_escape(str(arg))"
      ],
      "execution_count": null,
      "outputs": []
    },
    {
      "cell_type": "code",
      "metadata": {
        "tags": [],
        "cell_id": "00005-4c684252-a7c8-4126-88c4-0b957c6650b9",
        "deepnote_to_be_reexecuted": false,
        "source_hash": "edc3367a",
        "execution_start": 1613794265313,
        "execution_millis": 5,
        "deepnote_cell_type": "code",
        "id": "pGsL9FRpqjkN",
        "outputId": "493a3b84-da24-40b4-8892-581062a2d560"
      },
      "source": [
        "print(htmlize([1, 2, 3]))"
      ],
      "execution_count": null,
      "outputs": [
        {
          "output_type": "stream",
          "text": [
            "<ul>\n",
            "<li>1</li>\n",
            "<li>2</li>\n",
            "<li>3</li>\n",
            "</ul>\n"
          ],
          "name": "stdout"
        }
      ]
    },
    {
      "cell_type": "code",
      "metadata": {
        "tags": [],
        "cell_id": "00006-ffd42bb9-3702-438b-a05a-a9b09e516838",
        "deepnote_to_be_reexecuted": false,
        "source_hash": "3d830a0c",
        "execution_start": 1613794270705,
        "execution_millis": 6,
        "deepnote_cell_type": "code",
        "id": "qwb_jqTqqjkP",
        "outputId": "2dbd8442-df1f-43a4-ee22-a09576efa0f7"
      },
      "source": [
        "print(htmlize(dict(key1=1, key2=2)))"
      ],
      "execution_count": null,
      "outputs": [
        {
          "output_type": "stream",
          "text": [
            "<ul>\n",
            "<li>key1=1</li>\n",
            "<li>key2=2</li>\n",
            "</ul>\n"
          ],
          "name": "stdout"
        }
      ]
    },
    {
      "cell_type": "code",
      "metadata": {
        "tags": [],
        "cell_id": "00007-2e626043-c095-4dc3-8b9b-afd1d0ba3364",
        "deepnote_to_be_reexecuted": false,
        "source_hash": "51f88ad6",
        "execution_start": 1613794276300,
        "execution_millis": 13,
        "deepnote_cell_type": "code",
        "id": "af5CgKdZqjkQ",
        "outputId": "b7df5be5-31f9-4fab-919f-b79cc28f3eee"
      },
      "source": [
        "print(htmlize(255))"
      ],
      "execution_count": null,
      "outputs": [
        {
          "output_type": "stream",
          "text": [
            "255(<i>0xff</i)\n"
          ],
          "name": "stdout"
        }
      ]
    },
    {
      "cell_type": "code",
      "metadata": {
        "tags": [],
        "cell_id": "00008-6ae64828-7b30-47fa-8026-820908906329",
        "deepnote_to_be_reexecuted": false,
        "source_hash": "11962450",
        "execution_start": 1613794285748,
        "execution_millis": 6,
        "deepnote_cell_type": "code",
        "id": "HS2YAkh9qjkR",
        "outputId": "647288a9-fe1f-43cd-9fc6-c4f1600a9dc5"
      },
      "source": [
        "print(htmlize([\"\"\"first element is \n",
        "a multi-line string\"\"\", (1, 2, 3)]))"
      ],
      "execution_count": null,
      "outputs": [
        {
          "output_type": "stream",
          "text": [
            "<ul>\n",
            "<li>first element is \n",
            "a multi-line string</li>\n",
            "<li>(1, 2, 3)</li>\n",
            "</ul>\n"
          ],
          "name": "stdout"
        }
      ]
    },
    {
      "cell_type": "code",
      "metadata": {
        "tags": [],
        "cell_id": "00009-e4e3fc1e-517a-4ca5-860d-10198712b85b",
        "deepnote_to_be_reexecuted": false,
        "source_hash": "77bc0157",
        "execution_start": 1613794305521,
        "execution_millis": 0,
        "deepnote_cell_type": "code",
        "id": "tWwf2Tk7qjkR"
      },
      "source": [
        "def html_list(l):\n",
        "    items = ['<li>{0}</li>'.format(htmlize(item)) for item in l]\n",
        "    return '<ul>\\n' + '\\n'.join(items) + '\\n</ul>'"
      ],
      "execution_count": null,
      "outputs": []
    },
    {
      "cell_type": "code",
      "metadata": {
        "tags": [],
        "cell_id": "00010-72b1f806-4b17-4fab-938d-94ce2a181dff",
        "deepnote_to_be_reexecuted": false,
        "source_hash": "66a7038d",
        "execution_start": 1613794311245,
        "execution_millis": 3,
        "deepnote_cell_type": "code",
        "id": "EtCGpR3WqjkS"
      },
      "source": [
        "def html_dict(d):\n",
        "    items = ['<li>{0}={1}</li>'.format(html_escape(k), htmlize(v)) for k, v in d.items()]\n",
        "    return '<ul>\\n' + '\\n'.join(items) + '\\n</ul>'"
      ],
      "execution_count": null,
      "outputs": []
    },
    {
      "cell_type": "code",
      "metadata": {
        "tags": [],
        "cell_id": "00011-b3c8dc14-75f6-4e6c-89b3-62a37c265bb9",
        "deepnote_to_be_reexecuted": false,
        "source_hash": "11962450",
        "execution_start": 1613794314843,
        "execution_millis": 10,
        "deepnote_cell_type": "code",
        "id": "SOB8GTVIqjkS",
        "outputId": "1aeadcb7-692d-470d-a4cb-d2b5a32fedf6"
      },
      "source": [
        "print(htmlize([\"\"\"first element is \n",
        "a multi-line string\"\"\", (1, 2, 3)]))"
      ],
      "execution_count": null,
      "outputs": [
        {
          "output_type": "stream",
          "text": [
            "<ul>\n",
            "<li>first element is <br/>\n",
            "a multi-line string</li>\n",
            "<li><ul>\n",
            "<li>1(<i>0x1</i)</li>\n",
            "<li>2(<i>0x2</i)</li>\n",
            "<li>3(<i>0x3</i)</li>\n",
            "</ul></li>\n",
            "</ul>\n"
          ],
          "name": "stdout"
        }
      ]
    },
    {
      "cell_type": "code",
      "metadata": {
        "tags": [],
        "cell_id": "00012-0bca17e2-cfc2-4ddf-9f31-7f0510a11d82",
        "deepnote_to_be_reexecuted": false,
        "source_hash": "b163558e",
        "execution_start": 1613794361185,
        "execution_millis": 1,
        "deepnote_cell_type": "code",
        "id": "12jMMp85qjkT"
      },
      "source": [
        "def html_escape(arg):\n",
        "    return escape(str(arg))\n",
        "                      \n",
        "def html_int(a):\n",
        "    return '{0}(<i>{1}</i)'.format(a, str(hex(a)))\n",
        "\n",
        "def html_real(a):\n",
        "    return '{0:.2f}'.format(round(a, 2))\n",
        "                                  \n",
        "def html_str(s):\n",
        "    return html_escape(s).replace('\\n', '<br/>\\n')\n",
        "                                  \n",
        "def html_list(l):\n",
        "    items = ['<li>{0}</li>'.format(htmlize(item)) for item in l]\n",
        "    return '<ul>\\n' + '\\n'.join(items) + '\\n</ul>'\n",
        "                                  \n",
        "def html_dict(d):\n",
        "    items = ['<li>{0}={1}</li>'.format(html_escape(k), htmlize(v)) for k, v in d.items()]\n",
        "    return '<ul>\\n' + '\\n'.join(items) + '\\n</ul>'"
      ],
      "execution_count": null,
      "outputs": []
    },
    {
      "cell_type": "code",
      "metadata": {
        "tags": [],
        "cell_id": "00013-64700a96-803d-4171-9564-74e812e2f953",
        "deepnote_to_be_reexecuted": false,
        "source_hash": "11962450",
        "execution_start": 1613794365600,
        "execution_millis": 8,
        "deepnote_cell_type": "code",
        "id": "06Sefc3RqjkT",
        "outputId": "7feb49cf-a65a-4681-a5e5-1a4b3d00a873"
      },
      "source": [
        "print(htmlize([\"\"\"first element is \n",
        "a multi-line string\"\"\", (1, 2, 3)]))"
      ],
      "execution_count": null,
      "outputs": [
        {
          "output_type": "stream",
          "text": [
            "<ul>\n",
            "<li>first element is <br/>\n",
            "a multi-line string</li>\n",
            "<li><ul>\n",
            "<li>1(<i>0x1</i)</li>\n",
            "<li>2(<i>0x2</i)</li>\n",
            "<li>3(<i>0x3</i)</li>\n",
            "</ul></li>\n",
            "</ul>\n"
          ],
          "name": "stdout"
        }
      ]
    },
    {
      "cell_type": "code",
      "metadata": {
        "tags": [],
        "cell_id": "00014-de96e909-5413-440e-abb2-0a0d325a8f06",
        "deepnote_to_be_reexecuted": false,
        "source_hash": "a4fdb779",
        "execution_start": 1613794454237,
        "execution_millis": 0,
        "deepnote_cell_type": "code",
        "id": "HiRJqW9XqjkV"
      },
      "source": [
        "def singledispatch(fn):\n",
        "    registry = dict()\n",
        "    registry[object] = fn\n",
        "    \n",
        "    def inner(arg):\n",
        "        return registry[object](arg)\n",
        "\n",
        "    return inner"
      ],
      "execution_count": null,
      "outputs": []
    },
    {
      "cell_type": "code",
      "metadata": {
        "tags": [],
        "cell_id": "00015-7a7c21dc-0723-497c-9477-da444d5cf55b",
        "deepnote_to_be_reexecuted": false,
        "source_hash": "f04f7cf5",
        "execution_start": 1613794461701,
        "execution_millis": 0,
        "deepnote_cell_type": "code",
        "id": "rHc7ZyNVqjkW"
      },
      "source": [
        "@singledispatch\n",
        "def htmlizer(arg):\n",
        "    return escape(str(arg))"
      ],
      "execution_count": null,
      "outputs": []
    },
    {
      "cell_type": "code",
      "metadata": {
        "tags": [],
        "cell_id": "00016-341c172a-595d-4f5d-bf4d-3356a470d601",
        "deepnote_to_be_reexecuted": false,
        "source_hash": "aced4d15",
        "execution_start": 1613794464544,
        "execution_millis": 5,
        "deepnote_cell_type": "code",
        "id": "8lJnG2eIqjkW",
        "outputId": "4837036c-dc94-40bf-adcb-02d9d61b5f5b"
      },
      "source": [
        "htmlizer('a < 10')"
      ],
      "execution_count": null,
      "outputs": [
        {
          "output_type": "execute_result",
          "data": {
            "text/plain": [
              "'a &lt; 10'"
            ]
          },
          "metadata": {
            "tags": []
          },
          "execution_count": 18
        }
      ]
    },
    {
      "cell_type": "code",
      "metadata": {
        "tags": [],
        "cell_id": "00017-b401d1a1-6db2-401e-92e8-15414aca40b1",
        "deepnote_to_be_reexecuted": false,
        "source_hash": "2028f3de",
        "execution_start": 1613794497253,
        "execution_millis": 1,
        "deepnote_cell_type": "code",
        "id": "C0U3RaQIqjkW"
      },
      "source": [
        "def singledispatch(fn):\n",
        "    registry = dict()\n",
        "    \n",
        "    registry[object] = fn\n",
        "    registry[int] = lambda arg: '{0}(<i>{1}</i)'.format(arg, str(hex(arg)))\n",
        "    registry[float] = lambda arg: '{0:.2f}'.format(round(arg, 2))\n",
        "    \n",
        "    def inner(arg):\n",
        "        fn = registry.get(type(arg), registry[object])\n",
        "        return fn(arg)\n",
        "    return inner"
      ],
      "execution_count": null,
      "outputs": []
    },
    {
      "cell_type": "code",
      "metadata": {
        "tags": [],
        "cell_id": "00018-8cfc3447-8d7b-46db-b18e-576765107e40",
        "deepnote_to_be_reexecuted": false,
        "source_hash": "55cc5f7f",
        "execution_start": 1613794501833,
        "execution_millis": 1,
        "deepnote_cell_type": "code",
        "id": "3_5TTYT7qjkX"
      },
      "source": [
        "@singledispatch\n",
        "def htmlize(a):\n",
        "    return escape(str(a))"
      ],
      "execution_count": null,
      "outputs": []
    },
    {
      "cell_type": "code",
      "metadata": {
        "tags": [],
        "cell_id": "00019-37cc8f4c-cffa-4b54-b865-a518094a23c0",
        "deepnote_to_be_reexecuted": false,
        "source_hash": "90c7eaa2",
        "execution_start": 1613794504435,
        "execution_millis": 6,
        "deepnote_cell_type": "code",
        "id": "djVjOpdzqjkX",
        "outputId": "7e6d29e5-402e-4584-b266-9f13e44faaa1"
      },
      "source": [
        "htmlize(10)"
      ],
      "execution_count": null,
      "outputs": [
        {
          "output_type": "execute_result",
          "data": {
            "text/plain": [
              "'10(<i>0xa</i)'"
            ]
          },
          "metadata": {
            "tags": []
          },
          "execution_count": 21
        }
      ]
    },
    {
      "cell_type": "code",
      "metadata": {
        "tags": [],
        "cell_id": "00020-3494fa23-4869-4909-aa58-3cebbea2e43b",
        "deepnote_to_be_reexecuted": false,
        "source_hash": "1de16f30",
        "execution_start": 1613794513667,
        "execution_millis": 5,
        "deepnote_cell_type": "code",
        "id": "UhNv0DQCqjkY",
        "outputId": "4c8d43e8-d98d-4955-94de-11ca720101c9"
      },
      "source": [
        "htmlize(3.1415)"
      ],
      "execution_count": null,
      "outputs": [
        {
          "output_type": "execute_result",
          "data": {
            "text/plain": [
              "'3.14'"
            ]
          },
          "metadata": {
            "tags": []
          },
          "execution_count": 22
        }
      ]
    },
    {
      "cell_type": "code",
      "metadata": {
        "tags": [],
        "cell_id": "00021-581f4093-e161-48cd-961c-82dec923343e",
        "deepnote_cell_type": "code",
        "id": "QXEMirDkqjkY"
      },
      "source": [
        ""
      ],
      "execution_count": null,
      "outputs": []
    },
    {
      "cell_type": "markdown",
      "metadata": {
        "tags": [],
        "created_in_deepnote_cell": true,
        "deepnote_cell_type": "markdown",
        "id": "iJ7mrxmCqjkY"
      },
      "source": [
        "<a style='text-decoration:none;line-height:16px;display:flex;color:#5B5B62;padding:10px;justify-content:end;' href='https://deepnote.com?utm_source=created-in-deepnote-cell&projectId=d12d8d6f-83dc-4873-bf00-aaff2a39293d' target=\"_blank\">\n",
        "<img style='display:inline;max-height:16px;margin:0px;margin-right:7.5px;' src='data:image/svg+xml;base64,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' > </img>\n",
        "Created in <span style='font-weight:600;margin-left:4px;'>Deepnote</span></a>"
      ]
    }
  ]
}