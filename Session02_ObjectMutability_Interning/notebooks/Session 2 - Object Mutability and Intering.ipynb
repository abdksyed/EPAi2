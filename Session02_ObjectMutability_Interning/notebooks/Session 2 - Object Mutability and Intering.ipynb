{
  "nbformat": 4,
  "nbformat_minor": 0,
  "metadata": {
    "orig_nbformat": 2,
    "deepnote_notebook_id": "da6024cb-6181-45f3-8179-bdd41a75c32c",
    "deepnote_execution_queue": [],
    "colab": {
      "name": "Session 2 - Object Mutability and Intering .ipynb",
      "provenance": [],
      "include_colab_link": true
    }
  },
  "cells": [
    {
      "cell_type": "markdown",
      "metadata": {
        "id": "view-in-github",
        "colab_type": "text"
      },
      "source": [
        "<a href=\"https://colab.research.google.com/github/abdksyed/EPAi2/blob/main/Session02_ObjectMutability_Interning/notebooks/Session%202%20-%20Object%20Mutability%20and%20Intering.ipynb\" target=\"_parent\"><img src=\"https://colab.research.google.com/assets/colab-badge.svg\" alt=\"Open In Colab\"/></a>"
      ]
    },
    {
      "cell_type": "markdown",
      "metadata": {
        "tags": [],
        "cell_id": "00000-6a6ae987-ea3f-4068-b604-c960fc2005a2",
        "deepnote_cell_type": "markdown",
        "id": "ibn20uoQrjd9"
      },
      "source": [
        "# Object Mutability and Interning\n",
        "\n",
        "Today's Topics\n",
        "\n",
        "* Variables and Memory References\n",
        "* Reference Counting\n",
        "* Garbage Collection\n",
        "* Dynamic vs Static Typing\n",
        "* Variable Re-Assignment\n",
        "* Object Mutability\n",
        "* Function Arguments & Mutability\n",
        "* Shared References & Mutability\n",
        "* Variable Equality\n",
        "* Everything is an Object\n",
        "* Python Optimizations: Interning\n",
        "* Python Optimizations: String Interning\n",
        "* Python Optimizations: Peephole"
      ]
    },
    {
      "cell_type": "markdown",
      "metadata": {
        "tags": [],
        "cell_id": "00002-3f985226-23c1-4a1c-8e37-fa018967a267",
        "deepnote_cell_type": "markdown",
        "id": "kuPvYD-Orjed"
      },
      "source": [
        "# Variables and Memory References"
      ]
    },
    {
      "cell_type": "code",
      "metadata": {
        "tags": [],
        "cell_id": "00003-79f1344b-ff79-44b3-81af-877d3912142f",
        "deepnote_to_be_reexecuted": false,
        "source_hash": "d946eeb1",
        "execution_millis": 0,
        "execution_start": 1610759332047,
        "deepnote_cell_type": "code",
        "id": "Xec7S4kprjet",
        "outputId": "18b4053b-c786-40cf-b7cf-e3018d3e7281"
      },
      "source": [
        "my_var = 10 \n",
        "print(f'my_var = {my_var}')\n",
        "print(f'memory of the my_var (decimal) = {id(my_var)}')\n",
        "print(f'memory of the my_var (hex) = {hex(id(my_var))}')"
      ],
      "execution_count": null,
      "outputs": [
        {
          "output_type": "stream",
          "text": [
            "my_var = 10\n",
            "memory of the my_var (decimal) = 139674772743520\n",
            "memory of the my_var (hex) = 0x7f089136a560\n"
          ],
          "name": "stdout"
        }
      ]
    },
    {
      "cell_type": "code",
      "metadata": {
        "tags": [],
        "cell_id": "00003-8b1cb6d4-b52e-40ea-bf8c-5fbadb0d521e",
        "deepnote_to_be_reexecuted": false,
        "source_hash": "91ca6bd3",
        "execution_start": 1610759360467,
        "execution_millis": 1,
        "deepnote_cell_type": "code",
        "id": "MoUNqjeBrje5",
        "outputId": "b7229f52-c1bc-4f8b-b055-1ced3ee2ef16"
      },
      "source": [
        "a = 10\n",
        "print(f'memory of the my_var (hex) = {hex(id(a))}')"
      ],
      "execution_count": null,
      "outputs": [
        {
          "output_type": "stream",
          "text": [
            "memory of the my_var (hex) = 0x7f089136a560\n"
          ],
          "name": "stdout"
        }
      ]
    },
    {
      "cell_type": "code",
      "metadata": {
        "tags": [],
        "cell_id": "00004-d4ff02b4-127e-439a-a031-13ed4d1c2c93",
        "deepnote_to_be_reexecuted": false,
        "source_hash": "5100d165",
        "execution_start": 1610759377479,
        "execution_millis": 1,
        "deepnote_cell_type": "code",
        "id": "faroRcjvrje8",
        "outputId": "cf07115d-627a-4516-e655-79d5b8ae048a"
      },
      "source": [
        "a = 10000\n",
        "print(f'memory of the my_var (hex) = {hex(id(a))}')\n",
        "b = 10000\n",
        "print(f'memory of the my_var (hex) = {hex(id(b))}')"
      ],
      "execution_count": null,
      "outputs": [
        {
          "output_type": "stream",
          "text": [
            "memory of the my_var (hex) = 0x7f085f8b9bf0\n",
            "memory of the my_var (hex) = 0x7f085f8b99d0\n"
          ],
          "name": "stdout"
        }
      ]
    },
    {
      "cell_type": "code",
      "metadata": {
        "tags": [],
        "cell_id": "00005-d34286dc-77c2-4fa2-b3a5-7eb7ce9d906e",
        "deepnote_to_be_reexecuted": false,
        "source_hash": "f20169aa",
        "execution_start": 1610759449007,
        "execution_millis": 1,
        "deepnote_cell_type": "code",
        "id": "tkjgSCZYrje_",
        "outputId": "5a9653ef-1584-4c1c-fa48-6f1023f5f6ca"
      },
      "source": [
        "greeting = 'Hello' \n",
        "print(f'greeting = {greeting}')\n",
        "print(f'memory of the greeting (decimal) = {id(greeting)}')\n",
        "print(f'memory of the greeting (hex) = {hex(id(greeting))}')"
      ],
      "execution_count": null,
      "outputs": [
        {
          "output_type": "stream",
          "text": [
            "greeting = Hello\n",
            "memory of the greeting (decimal) = 139673939778736\n",
            "memory of the greeting (hex) = 0x7f085f909cb0\n"
          ],
          "name": "stdout"
        }
      ]
    },
    {
      "cell_type": "markdown",
      "metadata": {
        "tags": [],
        "cell_id": "00006-ddb24908-37a7-48b9-bdf5-407bc28dcd9f",
        "deepnote_cell_type": "markdown",
        "id": "VvlmeBdJrjfC"
      },
      "source": [
        "### Reference Counting"
      ]
    },
    {
      "cell_type": "code",
      "metadata": {
        "tags": [],
        "cell_id": "00006-4118745f-8546-47e2-83b2-aa0f4dca995a",
        "deepnote_to_be_reexecuted": false,
        "source_hash": "c77becae",
        "execution_millis": 4,
        "execution_start": 1610759993444,
        "deepnote_cell_type": "code",
        "id": "SaNO48JjrjfE"
      },
      "source": [
        "import ctypes\n",
        "\n",
        "def ref_count(address):\n",
        "    return ctypes.c_long.from_address(address).value"
      ],
      "execution_count": null,
      "outputs": []
    },
    {
      "cell_type": "code",
      "metadata": {
        "tags": [],
        "cell_id": "00008-d26a65e8-78c6-4bc8-b0bc-7c564cfd6ccc",
        "deepnote_to_be_reexecuted": false,
        "source_hash": "290f1700",
        "execution_millis": 2,
        "execution_start": 1610759993604,
        "deepnote_cell_type": "code",
        "id": "iKKIHVUkrjfJ",
        "outputId": "baabc3d4-426e-447c-af37-34f173c7a44d"
      },
      "source": [
        "my_var = [1, 2, 3, 4]\n",
        "ref_count(id(my_var))"
      ],
      "execution_count": null,
      "outputs": [
        {
          "output_type": "execute_result",
          "data": {
            "text/plain": [
              "1"
            ]
          },
          "metadata": {
            "tags": []
          },
          "execution_count": 27
        }
      ]
    },
    {
      "cell_type": "code",
      "metadata": {
        "tags": [],
        "cell_id": "00009-cf1225ce-51e3-4a28-b544-b19ae1fdb1ac",
        "deepnote_to_be_reexecuted": false,
        "source_hash": "dacba021",
        "execution_millis": 2,
        "execution_start": 1610759993760,
        "deepnote_cell_type": "code",
        "id": "55utoMIhrjfT",
        "outputId": "9264036f-7eab-46ba-fbf2-e86d04f28725"
      },
      "source": [
        "import sys\n",
        "\n",
        "sys.getrefcount(my_var)"
      ],
      "execution_count": null,
      "outputs": [
        {
          "output_type": "execute_result",
          "data": {
            "text/plain": [
              "2"
            ]
          },
          "metadata": {
            "tags": []
          },
          "execution_count": 28
        }
      ]
    },
    {
      "cell_type": "code",
      "metadata": {
        "tags": [],
        "cell_id": "00010-7130bf50-c9bc-46b5-bf19-896c5aabaf17",
        "deepnote_to_be_reexecuted": false,
        "source_hash": "d53fd9ca",
        "execution_millis": 2,
        "execution_start": 1610759993990,
        "deepnote_cell_type": "code",
        "id": "OZKcn54wrjfY"
      },
      "source": [
        "other_var = my_var"
      ],
      "execution_count": null,
      "outputs": []
    },
    {
      "cell_type": "code",
      "metadata": {
        "tags": [],
        "cell_id": "00011-ac1647b2-9ec2-4ebf-891c-771b1599465f",
        "deepnote_to_be_reexecuted": false,
        "source_hash": "85caa964",
        "execution_millis": 3,
        "execution_start": 1610759994147,
        "deepnote_cell_type": "code",
        "id": "JfkMY27vrjfZ",
        "outputId": "a2a37293-fb16-4e4e-d948-4e762d8eca21"
      },
      "source": [
        "print(hex(id(my_var))), print(hex(id(other_var)))"
      ],
      "execution_count": null,
      "outputs": [
        {
          "output_type": "stream",
          "text": [
            "0x7f085eee0640\n",
            "0x7f085eee0640\n"
          ],
          "name": "stdout"
        },
        {
          "output_type": "execute_result",
          "data": {
            "text/plain": [
              "(None, None)"
            ]
          },
          "metadata": {
            "tags": []
          },
          "execution_count": 30
        }
      ]
    },
    {
      "cell_type": "code",
      "metadata": {
        "tags": [],
        "cell_id": "00012-bba9ff10-9d7d-421d-a0b5-4ee180267cd1",
        "deepnote_to_be_reexecuted": false,
        "source_hash": "7f92853c",
        "execution_millis": 3,
        "execution_start": 1610759994308,
        "deepnote_cell_type": "code",
        "id": "Em2-MJBHrjfb",
        "outputId": "65b8492b-24fe-4399-9f4a-5faa917fe8f1"
      },
      "source": [
        "ref_count(id(my_var))"
      ],
      "execution_count": null,
      "outputs": [
        {
          "output_type": "execute_result",
          "data": {
            "text/plain": [
              "2"
            ]
          },
          "metadata": {
            "tags": []
          },
          "execution_count": 31
        }
      ]
    },
    {
      "cell_type": "code",
      "metadata": {
        "tags": [],
        "cell_id": "00013-f36767cd-453d-422a-acbb-994163d1f987",
        "deepnote_to_be_reexecuted": false,
        "source_hash": "73d0f639",
        "execution_millis": 6,
        "execution_start": 1610759994479,
        "deepnote_cell_type": "code",
        "id": "M0GRkmEhrjfd",
        "outputId": "b0ac4971-fc05-416e-86d3-7abc2b9cb55a"
      },
      "source": [
        "sys.getrefcount(my_var)"
      ],
      "execution_count": null,
      "outputs": [
        {
          "output_type": "execute_result",
          "data": {
            "text/plain": [
              "3"
            ]
          },
          "metadata": {
            "tags": []
          },
          "execution_count": 32
        }
      ]
    },
    {
      "cell_type": "code",
      "metadata": {
        "tags": [],
        "cell_id": "00014-16e0fa86-7236-4871-8a0b-b041338fe7e8",
        "deepnote_to_be_reexecuted": false,
        "source_hash": "ab4aed1b",
        "execution_millis": 1,
        "execution_start": 1610759994639,
        "deepnote_cell_type": "code",
        "id": "GUx5o5YErjfe"
      },
      "source": [
        "other_var = None"
      ],
      "execution_count": null,
      "outputs": []
    },
    {
      "cell_type": "code",
      "metadata": {
        "tags": [],
        "cell_id": "00015-b13fdc8c-f960-45e7-8900-1e728de9f9b0",
        "deepnote_to_be_reexecuted": false,
        "source_hash": "7f92853c",
        "execution_millis": 3,
        "execution_start": 1610759994839,
        "deepnote_cell_type": "code",
        "id": "fZm3OW3hrjff",
        "outputId": "ae68bc1b-8f14-41d4-a50c-e0378b249da3"
      },
      "source": [
        "ref_count(id(my_var))"
      ],
      "execution_count": null,
      "outputs": [
        {
          "output_type": "execute_result",
          "data": {
            "text/plain": [
              "1"
            ]
          },
          "metadata": {
            "tags": []
          },
          "execution_count": 34
        }
      ]
    },
    {
      "cell_type": "code",
      "metadata": {
        "tags": [],
        "cell_id": "00016-be3e4c7e-3059-4fbb-bc14-88eb4bb86ef2",
        "deepnote_to_be_reexecuted": false,
        "source_hash": "73d0f639",
        "execution_millis": 1,
        "execution_start": 1610760006699,
        "deepnote_cell_type": "code",
        "id": "mzQ_1lJ9rjfh",
        "outputId": "b5e3fcc7-6daa-4ffd-b580-aac0f0e2a03d"
      },
      "source": [
        "sys.getrefcount(my_var)"
      ],
      "execution_count": null,
      "outputs": [
        {
          "output_type": "execute_result",
          "data": {
            "text/plain": [
              "2"
            ]
          },
          "metadata": {
            "tags": []
          },
          "execution_count": 35
        }
      ]
    },
    {
      "cell_type": "code",
      "metadata": {
        "tags": [],
        "cell_id": "00017-8fe2bf6b-9ed3-4f10-a88e-efc88455341d",
        "deepnote_to_be_reexecuted": false,
        "source_hash": "a84a600b",
        "execution_start": 1610760088111,
        "execution_millis": 1,
        "deepnote_cell_type": "code",
        "id": "MAu3Zj-zrjfi",
        "outputId": "7ffb3145-4bd3-4fc5-ab14-3b00395b9e92"
      },
      "source": [
        "my_var = None\n",
        "ref_count(id(my_var))"
      ],
      "execution_count": null,
      "outputs": [
        {
          "output_type": "execute_result",
          "data": {
            "text/plain": [
              "47553"
            ]
          },
          "metadata": {
            "tags": []
          },
          "execution_count": 36
        }
      ]
    },
    {
      "cell_type": "code",
      "metadata": {
        "tags": [],
        "cell_id": "00018-efd2d368-a37d-417d-9b01-92238d43051c",
        "deepnote_to_be_reexecuted": false,
        "source_hash": "eca5a5e5",
        "execution_start": 1610760099527,
        "execution_millis": 4,
        "deepnote_cell_type": "code",
        "id": "HYvnlMlrrjfj",
        "outputId": "e36ec68c-ab96-423d-db97-a606f17fa3b0"
      },
      "source": [
        "id(None)"
      ],
      "execution_count": null,
      "outputs": [
        {
          "output_type": "execute_result",
          "data": {
            "text/plain": [
              "139674772416240"
            ]
          },
          "metadata": {
            "tags": []
          },
          "execution_count": 37
        }
      ]
    },
    {
      "cell_type": "code",
      "metadata": {
        "tags": [],
        "cell_id": "00019-b505e5f9-80b9-45d9-8a50-8f5fbe10a16a",
        "deepnote_to_be_reexecuted": false,
        "source_hash": "a46b4469",
        "execution_start": 1610760105516,
        "execution_millis": 2,
        "deepnote_cell_type": "code",
        "id": "oBS81aLFrjfk",
        "outputId": "5a7f181b-55fd-4fcc-855c-36ef8da45d4d"
      },
      "source": [
        "id(my_var)"
      ],
      "execution_count": null,
      "outputs": [
        {
          "output_type": "execute_result",
          "data": {
            "text/plain": [
              "139674772416240"
            ]
          },
          "metadata": {
            "tags": []
          },
          "execution_count": 38
        }
      ]
    },
    {
      "cell_type": "markdown",
      "metadata": {
        "tags": [],
        "cell_id": "00020-6c22c76f-9ca8-47af-a973-8ec382e7f712",
        "deepnote_cell_type": "markdown",
        "id": "9hY9tQPqrjfo"
      },
      "source": [
        "### Garbage Collection"
      ]
    },
    {
      "cell_type": "code",
      "metadata": {
        "tags": [],
        "cell_id": "00020-834d9aae-151c-46cf-8767-070e9fc567ea",
        "deepnote_to_be_reexecuted": false,
        "source_hash": "f1347269",
        "execution_start": 1610760472986,
        "execution_millis": 2,
        "deepnote_cell_type": "code",
        "id": "-z8s5qORrjfq"
      },
      "source": [
        "import ctypes\n",
        "import gc"
      ],
      "execution_count": null,
      "outputs": []
    },
    {
      "cell_type": "code",
      "metadata": {
        "tags": [],
        "cell_id": "00022-2917cb6d-0f16-4ead-a034-6fb6a731717c",
        "deepnote_to_be_reexecuted": false,
        "source_hash": "d5fa6b43",
        "execution_start": 1610760487619,
        "execution_millis": 0,
        "deepnote_cell_type": "code",
        "id": "djry8qvHrjfs"
      },
      "source": [
        "def ref_count(address):\n",
        "    return ctypes.c_long.from_address(address).value"
      ],
      "execution_count": null,
      "outputs": []
    },
    {
      "cell_type": "code",
      "metadata": {
        "tags": [],
        "cell_id": "00023-f1584a75-fee3-43a3-9216-c380ff832028",
        "deepnote_to_be_reexecuted": false,
        "source_hash": "b546dff6",
        "execution_millis": 2,
        "execution_start": 1610760552464,
        "deepnote_cell_type": "code",
        "id": "z-x_x4yArjft"
      },
      "source": [
        "def object_by_id(object_id):\n",
        "    for obj in gc.get_objects():\n",
        "        if id(obj) == object_id:\n",
        "            return \"Object exists\"\n",
        "    return \"Not found\""
      ],
      "execution_count": null,
      "outputs": []
    },
    {
      "cell_type": "code",
      "metadata": {
        "tags": [],
        "cell_id": "00024-93f8ea0e-b921-41b9-994e-f6e27fa53606",
        "deepnote_to_be_reexecuted": false,
        "source_hash": "93c7bf7c",
        "execution_millis": 2,
        "execution_start": 1610761881757,
        "deepnote_cell_type": "code",
        "id": "OJ7hD3Verjfu"
      },
      "source": [
        "class A:\n",
        "    def __init__(self): # 650\n",
        "        self.b = B(self) # B(650) == 610\n",
        "        print(f'A: self: {hex(id(self)), hex(id(self.b))}')\n",
        "\n",
        "class B:\n",
        "    def __init__(self, a): # a = 650 self = 610\n",
        "        self.a = a # self.a = 650\n",
        "        print(f'B: self: {hex(id(self)), hex(id(self.a))}') # self = 610"
      ],
      "execution_count": null,
      "outputs": []
    },
    {
      "cell_type": "code",
      "metadata": {
        "tags": [],
        "cell_id": "00025-235fcb56-a3f5-4e8e-bee0-a55ff28b2094",
        "deepnote_to_be_reexecuted": false,
        "source_hash": "256311dc",
        "execution_millis": 3,
        "execution_start": 1610761881981,
        "deepnote_cell_type": "code",
        "id": "R4bR8iVHrjfx"
      },
      "source": [
        "gc.disable()"
      ],
      "execution_count": null,
      "outputs": []
    },
    {
      "cell_type": "code",
      "metadata": {
        "tags": [],
        "cell_id": "00026-8dec2467-9b7a-46a8-8774-9f112c313b07",
        "deepnote_to_be_reexecuted": false,
        "source_hash": "5e687bda",
        "execution_millis": 2,
        "execution_start": 1610761882162,
        "deepnote_cell_type": "code",
        "id": "kbz-oOHbrjfy",
        "outputId": "283b2223-acc5-4f70-f97d-c995c8ed87e4"
      },
      "source": [
        "my_var = A()"
      ],
      "execution_count": null,
      "outputs": [
        {
          "output_type": "stream",
          "text": [
            "B: self: ('0x7f085e416d90', '0x7f085e416cd0')\n",
            "A: self: ('0x7f085e416cd0', '0x7f085e416d90')\n"
          ],
          "name": "stdout"
        }
      ]
    },
    {
      "cell_type": "code",
      "metadata": {
        "tags": [],
        "cell_id": "00027-de754346-e7f3-4b59-abfe-cd4d3aeadf86",
        "deepnote_to_be_reexecuted": false,
        "source_hash": "3128abee",
        "execution_millis": 3,
        "execution_start": 1610761882360,
        "deepnote_cell_type": "code",
        "id": "qguxSI34rjfz",
        "outputId": "af1a57b7-ef18-40c9-d64d-608c9a3a0ed9"
      },
      "source": [
        "hex(id(my_var))"
      ],
      "execution_count": null,
      "outputs": [
        {
          "output_type": "execute_result",
          "data": {
            "text/plain": [
              "'0x7f085e416cd0'"
            ]
          },
          "metadata": {
            "tags": []
          },
          "execution_count": 80
        }
      ]
    },
    {
      "cell_type": "code",
      "metadata": {
        "tags": [],
        "cell_id": "00028-153c1368-a244-4170-93ae-f6ed1e72445d",
        "deepnote_to_be_reexecuted": false,
        "source_hash": "15e9ae0a",
        "execution_millis": 4,
        "execution_start": 1610761882471,
        "deepnote_cell_type": "code",
        "id": "l3gOPfzwrjf0",
        "outputId": "094e3311-6d94-4711-a006-892556873582"
      },
      "source": [
        "print(f'my_var: {hex(id(my_var))}') # 1\n",
        "print(f'my_var.b: {hex(id(my_var.b))}') # 2\n",
        "print(f'my_var.b.a: {hex(id(my_var.b.a))}') # 3"
      ],
      "execution_count": null,
      "outputs": [
        {
          "output_type": "stream",
          "text": [
            "my_var: 0x7f085e416cd0\n",
            "my_var.b: 0x7f085e416d90\n",
            "my_var.b.a: 0x7f085e416cd0\n"
          ],
          "name": "stdout"
        }
      ]
    },
    {
      "cell_type": "code",
      "metadata": {
        "tags": [],
        "cell_id": "00029-caf77a36-3f1c-4f80-a3fc-848dd8f026ee",
        "deepnote_to_be_reexecuted": false,
        "source_hash": "5292e118",
        "execution_millis": 3,
        "execution_start": 1610761882592,
        "deepnote_cell_type": "code",
        "id": "_azbMDTprjf1"
      },
      "source": [
        "a_id = id(my_var)\n",
        "b_id = id(my_var.b)"
      ],
      "execution_count": null,
      "outputs": []
    },
    {
      "cell_type": "code",
      "metadata": {
        "tags": [],
        "cell_id": "00030-bc6c5b57-6335-4710-af1d-50543081d6a1",
        "deepnote_to_be_reexecuted": false,
        "source_hash": "6a646d7b",
        "execution_millis": 3,
        "execution_start": 1610761882785,
        "deepnote_cell_type": "code",
        "id": "HJ3Pc8I5rjf2",
        "outputId": "6ee69a3d-5e3b-4a4a-e004-d65a58f23ee2"
      },
      "source": [
        "print(f'refcount(a) = {ref_count(a_id)}')\n",
        "print(f'refcount(b) = {ref_count(b_id)}')\n",
        "print(f'a: {object_by_id(a_id)}')\n",
        "print(f'b: {object_by_id(b_id)}')"
      ],
      "execution_count": null,
      "outputs": [
        {
          "output_type": "stream",
          "text": [
            "refcount(a) = 2\n",
            "refcount(b) = 1\n",
            "a: Object exists\n",
            "b: Object exists\n"
          ],
          "name": "stdout"
        }
      ]
    },
    {
      "cell_type": "code",
      "metadata": {
        "tags": [],
        "cell_id": "00031-74a9dfe8-742e-4b32-bbf3-fa448a8ea065",
        "deepnote_to_be_reexecuted": false,
        "source_hash": "9caab62f",
        "execution_millis": 2,
        "execution_start": 1610761882896,
        "deepnote_cell_type": "code",
        "id": "l5jQVrrCrjf4"
      },
      "source": [
        "my_var = None"
      ],
      "execution_count": null,
      "outputs": []
    },
    {
      "cell_type": "code",
      "metadata": {
        "tags": [],
        "cell_id": "00032-c0388cb3-3f73-461b-96e8-5efb95b4a4b9",
        "deepnote_to_be_reexecuted": false,
        "source_hash": "6a646d7b",
        "execution_millis": 3,
        "execution_start": 1610761883094,
        "deepnote_cell_type": "code",
        "id": "-QJVlFCarjf8",
        "outputId": "abd1a7e3-9385-4fca-8bb4-a69afa799b07"
      },
      "source": [
        "print(f'refcount(a) = {ref_count(a_id)}')\n",
        "print(f'refcount(b) = {ref_count(b_id)}')\n",
        "print(f'a: {object_by_id(a_id)}')\n",
        "print(f'b: {object_by_id(b_id)}')"
      ],
      "execution_count": null,
      "outputs": [
        {
          "output_type": "stream",
          "text": [
            "refcount(a) = 1\n",
            "refcount(b) = 1\n",
            "a: Object exists\n",
            "b: Object exists\n"
          ],
          "name": "stdout"
        }
      ]
    },
    {
      "cell_type": "code",
      "metadata": {
        "tags": [],
        "cell_id": "00033-8f07f83a-bfc5-45f1-aee1-547e15cfc9ee",
        "deepnote_to_be_reexecuted": false,
        "source_hash": "5065875b",
        "execution_millis": 38,
        "execution_start": 1610761883363,
        "deepnote_cell_type": "code",
        "id": "aCNHvBxrrjf-",
        "outputId": "48aa73f8-8122-43dc-b6ca-33769c946400"
      },
      "source": [
        "gc.collect()\n",
        "print(f'refcount(a) = {ref_count(a_id)}')\n",
        "print(f'refcount(b) = {ref_count(b_id)}')\n",
        "print(f'a: {object_by_id(a_id)}')\n",
        "print(f'b: {object_by_id(b_id)}')"
      ],
      "execution_count": null,
      "outputs": [
        {
          "output_type": "stream",
          "text": [
            "refcount(a) = 0\n",
            "refcount(b) = 0\n",
            "a: Not found\n",
            "b: Not found\n"
          ],
          "name": "stdout"
        }
      ]
    },
    {
      "cell_type": "code",
      "metadata": {
        "tags": [],
        "cell_id": "00034-51008e3d-c9ae-42a6-8e37-0a70688a843c",
        "deepnote_to_be_reexecuted": false,
        "source_hash": "4d10b80d",
        "execution_millis": 3,
        "execution_start": 1610762270501,
        "deepnote_cell_type": "code",
        "id": "JXHbg-forjf_"
      },
      "source": [
        "gc.enable()"
      ],
      "execution_count": null,
      "outputs": []
    },
    {
      "cell_type": "markdown",
      "metadata": {
        "tags": [],
        "cell_id": "00035-0722b43f-4628-4b44-af4e-a75ab1d72420",
        "deepnote_cell_type": "markdown",
        "id": "Ca85NVDWrjgA"
      },
      "source": [
        "### Dynamic Typing"
      ]
    },
    {
      "cell_type": "code",
      "metadata": {
        "tags": [],
        "cell_id": "00035-28e029ae-b76c-41c3-b698-df35052a1abe",
        "deepnote_to_be_reexecuted": false,
        "source_hash": "1c34e123",
        "execution_millis": 1,
        "execution_start": 1610762317379,
        "deepnote_cell_type": "code",
        "id": "BSa6TCTOrjgA",
        "outputId": "82169584-cb57-4450-820e-ff424f1df383"
      },
      "source": [
        "a = \"hello\"\n",
        "type(a)"
      ],
      "execution_count": null,
      "outputs": [
        {
          "output_type": "execute_result",
          "data": {
            "text/plain": [
              "str"
            ]
          },
          "metadata": {
            "tags": []
          },
          "execution_count": 88
        }
      ]
    },
    {
      "cell_type": "code",
      "metadata": {
        "tags": [],
        "cell_id": "00036-2b7e708a-d6fc-49fa-afb1-7881947581ae",
        "deepnote_to_be_reexecuted": false,
        "source_hash": "21dc7c01",
        "execution_start": 1610762323747,
        "execution_millis": 5,
        "deepnote_cell_type": "code",
        "id": "dc3PjZQrrjgB",
        "outputId": "43c97c47-e862-4d9a-fb59-aab2c6a6a113"
      },
      "source": [
        "a = 10\n",
        "type(a)"
      ],
      "execution_count": null,
      "outputs": [
        {
          "output_type": "execute_result",
          "data": {
            "text/plain": [
              "int"
            ]
          },
          "metadata": {
            "tags": []
          },
          "execution_count": 89
        }
      ]
    },
    {
      "cell_type": "code",
      "metadata": {
        "tags": [],
        "cell_id": "00038-a0050761-1926-4ec0-9b92-dcc066fd772a",
        "deepnote_to_be_reexecuted": false,
        "source_hash": "93f08dac",
        "execution_start": 1610762393147,
        "execution_millis": 3,
        "deepnote_cell_type": "code",
        "id": "SVjnaKNPrjgC",
        "outputId": "9c6cf4ff-b5d1-4655-89ac-8598e003ae7f"
      },
      "source": [
        "a = lambda x: x ** 2\n",
        "a(2)"
      ],
      "execution_count": null,
      "outputs": [
        {
          "output_type": "execute_result",
          "data": {
            "text/plain": [
              "4"
            ]
          },
          "metadata": {
            "tags": []
          },
          "execution_count": 90
        }
      ]
    },
    {
      "cell_type": "code",
      "metadata": {
        "tags": [],
        "cell_id": "00039-f70ac0fe-2bea-4b83-86cd-9994906e05a1",
        "deepnote_to_be_reexecuted": false,
        "source_hash": "1478ef",
        "execution_start": 1610762398588,
        "execution_millis": 2,
        "deepnote_cell_type": "code",
        "id": "KUYK3NSyrjgD",
        "outputId": "efdbc901-146d-49ea-823a-bdb8340809f3"
      },
      "source": [
        "type(a)"
      ],
      "execution_count": null,
      "outputs": [
        {
          "output_type": "execute_result",
          "data": {
            "text/plain": [
              "function"
            ]
          },
          "metadata": {
            "tags": []
          },
          "execution_count": 91
        }
      ]
    },
    {
      "cell_type": "markdown",
      "metadata": {
        "tags": [],
        "cell_id": "00040-6068dbbd-34ae-4bf6-bb3c-540602b702cc",
        "deepnote_cell_type": "markdown",
        "id": "ZfEB8EwUrjgE"
      },
      "source": [
        "### Variable Re-assignment"
      ]
    },
    {
      "cell_type": "code",
      "metadata": {
        "tags": [],
        "cell_id": "00040-dde0eb56-3609-4330-9e3b-c794d164e9c6",
        "deepnote_to_be_reexecuted": false,
        "source_hash": "c4987334",
        "execution_start": 1610762449324,
        "execution_millis": 3,
        "deepnote_cell_type": "code",
        "id": "poKpc-h4rjgF",
        "outputId": "8178def5-872c-4f88-c5d7-6c55fb594dcf"
      },
      "source": [
        "a = 10\n",
        "hex(id(a))"
      ],
      "execution_count": null,
      "outputs": [
        {
          "output_type": "execute_result",
          "data": {
            "text/plain": [
              "'0x7f089136a560'"
            ]
          },
          "metadata": {
            "tags": []
          },
          "execution_count": 92
        }
      ]
    },
    {
      "cell_type": "code",
      "metadata": {
        "tags": [],
        "cell_id": "00042-b5307fc6-f142-4468-a2a6-580bb94d9fdd",
        "deepnote_to_be_reexecuted": false,
        "source_hash": "a5d2809",
        "execution_start": 1610762475967,
        "execution_millis": 1,
        "deepnote_cell_type": "code",
        "id": "aQsDDnhlrjgG",
        "outputId": "3de1894c-dbc1-45a9-9480-7bc4b1b90bdb"
      },
      "source": [
        "a = 15\n",
        "hex(id(a))"
      ],
      "execution_count": null,
      "outputs": [
        {
          "output_type": "execute_result",
          "data": {
            "text/plain": [
              "'0x7f089136a600'"
            ]
          },
          "metadata": {
            "tags": []
          },
          "execution_count": 93
        }
      ]
    },
    {
      "cell_type": "code",
      "metadata": {
        "tags": [],
        "cell_id": "00043-d0a1b764-8fd3-4934-9b1e-ba7b8c52e296",
        "deepnote_to_be_reexecuted": false,
        "source_hash": "3d9ab0ee",
        "execution_start": 1610762491514,
        "execution_millis": 3,
        "deepnote_cell_type": "code",
        "id": "5LINQNmHrjgH",
        "outputId": "68b0237e-c156-48dc-9d3e-bea412554c72"
      },
      "source": [
        "a = 5\n",
        "hex(id(a))"
      ],
      "execution_count": null,
      "outputs": [
        {
          "output_type": "execute_result",
          "data": {
            "text/plain": [
              "'0x7f089136a4c0'"
            ]
          },
          "metadata": {
            "tags": []
          },
          "execution_count": 94
        }
      ]
    },
    {
      "cell_type": "code",
      "metadata": {
        "tags": [],
        "cell_id": "00044-ba8d07d2-6491-4b93-9213-a7f6be7319b0",
        "deepnote_to_be_reexecuted": false,
        "source_hash": "c5bbf4a0",
        "execution_start": 1610762506068,
        "execution_millis": 2,
        "deepnote_cell_type": "code",
        "id": "zYKyEyFwrjgJ",
        "outputId": "3020f516-6458-469e-8459-837d3633fb18"
      },
      "source": [
        "a = a + 1\n",
        "hex(id(a))"
      ],
      "execution_count": null,
      "outputs": [
        {
          "output_type": "execute_result",
          "data": {
            "text/plain": [
              "'0x7f089136a4e0'"
            ]
          },
          "metadata": {
            "tags": []
          },
          "execution_count": 95
        }
      ]
    },
    {
      "cell_type": "code",
      "metadata": {
        "tags": [],
        "cell_id": "00045-5bc73a43-df61-45cd-a349-93f320284861",
        "deepnote_to_be_reexecuted": false,
        "source_hash": "f4461cc3",
        "execution_start": 1610762523972,
        "execution_millis": 2,
        "deepnote_cell_type": "code",
        "id": "KSnWSFk-rjgL",
        "outputId": "11bcd434-0e6e-48f8-ab95-20479990539a"
      },
      "source": [
        "a = 10\n",
        "b = 10\n",
        "hex(id(a)), hex(id(b))"
      ],
      "execution_count": null,
      "outputs": [
        {
          "output_type": "execute_result",
          "data": {
            "text/plain": [
              "('0x7f089136a560', '0x7f089136a560')"
            ]
          },
          "metadata": {
            "tags": []
          },
          "execution_count": 96
        }
      ]
    },
    {
      "cell_type": "code",
      "metadata": {
        "tags": [],
        "cell_id": "00046-c41f80af-0352-4a32-8677-b9bd9dec1c98",
        "deepnote_to_be_reexecuted": false,
        "source_hash": "644ed326",
        "execution_start": 1610762549871,
        "execution_millis": 0,
        "deepnote_cell_type": "code",
        "id": "9Km8GzrErjgM",
        "outputId": "f8c8221b-ab93-45f2-87c2-d95712f97c15"
      },
      "source": [
        "a = 10000\n",
        "b = 10000\n",
        "hex(id(a)), hex(id(b))"
      ],
      "execution_count": null,
      "outputs": [
        {
          "output_type": "execute_result",
          "data": {
            "text/plain": [
              "('0x7f085e4bed30', '0x7f085e4be470')"
            ]
          },
          "metadata": {
            "tags": []
          },
          "execution_count": 97
        }
      ]
    },
    {
      "cell_type": "markdown",
      "metadata": {
        "tags": [],
        "cell_id": "00047-4b303f28-3e30-4127-bd1d-a90ae0485614",
        "deepnote_cell_type": "markdown",
        "id": "piCBqnpHrjgN"
      },
      "source": [
        "### Object Mutability"
      ]
    },
    {
      "cell_type": "code",
      "metadata": {
        "tags": [],
        "cell_id": "00047-a655c1fa-1bdd-4f62-9917-b99c255d2bf9",
        "deepnote_to_be_reexecuted": false,
        "source_hash": "42247215",
        "execution_millis": 0,
        "execution_start": 1610762628931,
        "deepnote_cell_type": "code",
        "id": "K_V4pWGgrjgO",
        "outputId": "00955e3f-37e9-4f6e-b0cc-932cf0195479"
      },
      "source": [
        "a = 10\n",
        "print(hex(id(a)))\n",
        "a = 20\n",
        "print(hex(id(a)))"
      ],
      "execution_count": null,
      "outputs": [
        {
          "output_type": "stream",
          "text": [
            "0x7f089136a560\n",
            "0x7f089136a6a0\n"
          ],
          "name": "stdout"
        }
      ]
    },
    {
      "cell_type": "code",
      "metadata": {
        "tags": [],
        "cell_id": "00049-d3b26962-99a8-48f0-827c-7bc9df7ab749",
        "deepnote_to_be_reexecuted": false,
        "source_hash": "c951d46b",
        "execution_start": 1610762649777,
        "execution_millis": 2,
        "deepnote_cell_type": "code",
        "id": "QOpJKKyHrjgP",
        "outputId": "9120cbe7-d0ff-47a9-ac84-7dade88c3ddb"
      },
      "source": [
        "my_list = [1, 2, 3]\n",
        "print(my_list)\n",
        "print(hex(id(my_list)))"
      ],
      "execution_count": null,
      "outputs": [
        {
          "output_type": "stream",
          "text": [
            "[1, 2, 3]\n",
            "0x7f085ec7ad70\n"
          ],
          "name": "stdout"
        }
      ]
    },
    {
      "cell_type": "code",
      "metadata": {
        "tags": [],
        "cell_id": "00050-3c127d8c-30dd-45bc-91fb-27d02adb8a38",
        "deepnote_to_be_reexecuted": false,
        "source_hash": "5570d839",
        "execution_start": 1610762667955,
        "execution_millis": 3,
        "deepnote_cell_type": "code",
        "id": "46go0Xl6rjgQ",
        "outputId": "fedde230-77b2-4aa4-8b78-10a346fd1eba"
      },
      "source": [
        "my_list.append(4)\n",
        "print(my_list)\n",
        "print(hex(id(my_list)))"
      ],
      "execution_count": null,
      "outputs": [
        {
          "output_type": "stream",
          "text": [
            "[1, 2, 3, 4]\n",
            "0x7f085ec7ad70\n"
          ],
          "name": "stdout"
        }
      ]
    },
    {
      "cell_type": "code",
      "metadata": {
        "tags": [],
        "cell_id": "00051-624f1dcc-79ac-4230-948d-bfb83717452d",
        "deepnote_to_be_reexecuted": false,
        "source_hash": "5cc77a8f",
        "execution_start": 1610762721020,
        "execution_millis": 0,
        "deepnote_cell_type": "code",
        "id": "2Luvy7jErjgR",
        "outputId": "e83ded97-501d-461c-b8f5-7fd25caf3499"
      },
      "source": [
        "my_list_1 = [1, 2, 3]\n",
        "print(my_list_1)\n",
        "print(hex(id(my_list_1)))"
      ],
      "execution_count": null,
      "outputs": [
        {
          "output_type": "stream",
          "text": [
            "[1, 2, 3]\n",
            "0x7f085ecfa190\n"
          ],
          "name": "stdout"
        }
      ]
    },
    {
      "cell_type": "code",
      "metadata": {
        "tags": [],
        "cell_id": "00052-78c9a596-2dd3-4a5e-97b2-0892f4c9665c",
        "deepnote_to_be_reexecuted": false,
        "source_hash": "f9ceaf68",
        "execution_millis": 1,
        "execution_start": 1610762745493,
        "deepnote_cell_type": "code",
        "id": "XfF0lJ8RrjgR",
        "outputId": "2944ca7f-fa4b-4938-b9a5-6576f9b8c510"
      },
      "source": [
        "my_list_1 = my_list_1 + [4]\n",
        "print(my_list_1)\n",
        "print(hex(id(my_list_1)))"
      ],
      "execution_count": null,
      "outputs": [
        {
          "output_type": "stream",
          "text": [
            "[1, 2, 3, 4]\n",
            "0x7f085e659640\n"
          ],
          "name": "stdout"
        }
      ]
    },
    {
      "cell_type": "code",
      "metadata": {
        "tags": [],
        "cell_id": "00053-0c6b7795-7b5d-4b91-9e0d-cb7601c5a7fc",
        "deepnote_to_be_reexecuted": false,
        "source_hash": "850eb989",
        "execution_start": 1610762838357,
        "execution_millis": 1,
        "deepnote_cell_type": "code",
        "id": "g3ywvnPFrjgS",
        "outputId": "645ba3c1-c037-4ef3-ac5c-f633ccfa9d0c"
      },
      "source": [
        "k = 10\n",
        "l = 11\n",
        "k, l = l, k\n",
        "print(k, l)"
      ],
      "execution_count": null,
      "outputs": [
        {
          "output_type": "stream",
          "text": [
            "11 10\n"
          ],
          "name": "stdout"
        }
      ]
    },
    {
      "cell_type": "code",
      "metadata": {
        "tags": [],
        "cell_id": "00054-e6b4a208-c8d5-440b-8d6f-ce0fe32600e6",
        "deepnote_to_be_reexecuted": false,
        "source_hash": "14357ceb",
        "execution_start": 1610762906119,
        "execution_millis": 3,
        "deepnote_cell_type": "code",
        "id": "94kjFiJerjgS",
        "outputId": "320c4803-ecf8-4a07-dc80-703593c07e11"
      },
      "source": [
        "my_dict = dict(key1 = 'value 1')\n",
        "print(my_dict)\n",
        "print(hex(id(my_dict)))"
      ],
      "execution_count": null,
      "outputs": [
        {
          "output_type": "stream",
          "text": [
            "{'key1': 'value 1'}\n",
            "0x7f085e406780\n"
          ],
          "name": "stdout"
        }
      ]
    },
    {
      "cell_type": "code",
      "metadata": {
        "tags": [],
        "cell_id": "00055-1935ac19-7666-45df-adc9-a02ea9114e04",
        "deepnote_to_be_reexecuted": false,
        "source_hash": "f725cd83",
        "execution_start": 1610762931311,
        "execution_millis": 2,
        "deepnote_cell_type": "code",
        "id": "MbjZsmE0rjgT",
        "outputId": "b51fe922-5391-497b-f5e4-790ed53ccde4"
      },
      "source": [
        "my_dict['key1'] = 'modified value 10'\n",
        "print(my_dict)\n",
        "print(hex(id(my_dict)))"
      ],
      "execution_count": null,
      "outputs": [
        {
          "output_type": "stream",
          "text": [
            "{'key1': 'modified value 10'}\n",
            "0x7f085e406780\n"
          ],
          "name": "stdout"
        }
      ]
    },
    {
      "cell_type": "code",
      "metadata": {
        "tags": [],
        "cell_id": "00056-e32a7db1-d018-4031-9f20-33da3f4b4ddd",
        "deepnote_to_be_reexecuted": false,
        "source_hash": "75c2bc2f",
        "execution_start": 1610762955455,
        "execution_millis": 0,
        "deepnote_cell_type": "code",
        "id": "Uqg1O_JbrjgT",
        "outputId": "be26574c-b3e5-4681-f726-8dea2f5525e0"
      },
      "source": [
        "my_dict['key2'] = 'value2'\n",
        "print(my_dict)\n",
        "print(hex(id(my_dict)))"
      ],
      "execution_count": null,
      "outputs": [
        {
          "output_type": "stream",
          "text": [
            "{'key1': 'modified value 10', 'key2': 'value2'}\n",
            "0x7f085e406780\n"
          ],
          "name": "stdout"
        }
      ]
    },
    {
      "cell_type": "markdown",
      "metadata": {
        "tags": [],
        "cell_id": "00057-b69932ad-cb90-436d-885f-0c424fceb486",
        "deepnote_cell_type": "markdown",
        "id": "2VOOPyKZrjgU"
      },
      "source": [
        "Now consider the immutable sequence type: **tuple**"
      ]
    },
    {
      "cell_type": "code",
      "metadata": {
        "tags": [],
        "cell_id": "00057-d63290ff-77a2-4453-a8e8-842082470c27",
        "deepnote_to_be_reexecuted": false,
        "source_hash": "8cf33f7c",
        "execution_millis": 1,
        "execution_start": 1610763137207,
        "deepnote_cell_type": "code",
        "id": "2dFRg3KArjgV"
      },
      "source": [
        "t = (1, 2, 3)"
      ],
      "execution_count": null,
      "outputs": []
    },
    {
      "cell_type": "code",
      "metadata": {
        "tags": [],
        "cell_id": "00059-3eb3c426-4065-43b1-b867-1f0cd33a375b",
        "deepnote_to_be_reexecuted": false,
        "source_hash": "c68df55f",
        "execution_millis": 1,
        "execution_start": 1610763187383,
        "deepnote_cell_type": "code",
        "id": "Q2TOzUObrjgV",
        "outputId": "c3aa1828-f21c-4d47-c2a3-7bf20ffffa80"
      },
      "source": [
        "a = [1, 2]\n",
        "b = [3, 4]\n",
        "t = (a, b)\n"
      ],
      "execution_count": null,
      "outputs": [
        {
          "output_type": "execute_result",
          "data": {
            "text/plain": [
              "([1, 2], [3, 4])"
            ]
          },
          "metadata": {
            "tags": []
          },
          "execution_count": 116
        }
      ]
    },
    {
      "cell_type": "code",
      "metadata": {
        "tags": [],
        "cell_id": "00060-e68766e5-7251-4363-a4aa-fec6482b5fac",
        "deepnote_to_be_reexecuted": false,
        "source_hash": "319d2f22",
        "execution_millis": 2,
        "execution_start": 1610763249699,
        "deepnote_cell_type": "code",
        "id": "MqA4vDzwrjgW",
        "outputId": "f5c0b687-549a-42ef-ade9-17c7389cd897"
      },
      "source": [
        "a.append(3)\n",
        "b.append(5)\n",
        "print(t)"
      ],
      "execution_count": null,
      "outputs": [
        {
          "output_type": "stream",
          "text": [
            "([1, 2, 3], [3, 4, 5])\n"
          ],
          "name": "stdout"
        }
      ]
    },
    {
      "cell_type": "markdown",
      "metadata": {
        "tags": [],
        "cell_id": "00061-500d24fd-d4f1-4d5b-ab0e-a7825a5fc61e",
        "deepnote_cell_type": "markdown",
        "id": "o3gJXcktrjgX"
      },
      "source": [
        "### Function Arguments and Mutability"
      ]
    },
    {
      "cell_type": "code",
      "metadata": {
        "tags": [],
        "cell_id": "00061-b8de559a-99b6-4c34-b6b7-b2f7646e4453",
        "deepnote_to_be_reexecuted": false,
        "source_hash": "50524e84",
        "execution_start": 1610763383307,
        "execution_millis": 1,
        "deepnote_cell_type": "code",
        "id": "A34JjIGqrjgZ"
      },
      "source": [
        "def process(s):\n",
        "    print(f'initial s # = {hex(id(s))}')\n",
        "    s = s + 'world'\n",
        "    print(f's after the change  # = {hex(id(s))}')"
      ],
      "execution_count": null,
      "outputs": []
    },
    {
      "cell_type": "code",
      "metadata": {
        "tags": [],
        "cell_id": "00063-836b2ee8-ebe6-4a50-b842-03a9f79b18e5",
        "deepnote_to_be_reexecuted": false,
        "source_hash": "ac0c219d",
        "execution_millis": 1,
        "execution_start": 1610763424209,
        "deepnote_cell_type": "code",
        "id": "qi2T-8qkrjga",
        "outputId": "2a3f0d6c-d9ca-4aac-ab0c-97eb9059c100"
      },
      "source": [
        "my_var = 'hello'\n",
        "print(f'my_var #= {hex(id(my_var))}')"
      ],
      "execution_count": null,
      "outputs": [
        {
          "output_type": "stream",
          "text": [
            "my_var #= 0x7f085e7c27f0\n"
          ],
          "name": "stdout"
        }
      ]
    },
    {
      "cell_type": "code",
      "metadata": {
        "tags": [],
        "cell_id": "00064-0f4254c6-cedb-49c8-8ca5-e0902fac8691",
        "deepnote_to_be_reexecuted": false,
        "source_hash": "e70e4cf",
        "execution_start": 1610763444811,
        "execution_millis": 0,
        "deepnote_cell_type": "code",
        "id": "1tpXaK2Rrjgc",
        "outputId": "7d33c93e-c397-4032-9a53-918b6a2e4f71"
      },
      "source": [
        "process(my_var)"
      ],
      "execution_count": null,
      "outputs": [
        {
          "output_type": "stream",
          "text": [
            "initial s # = 0x7f085e7c27f0\n",
            "s after the change  # = 0x7f085e8fa130\n"
          ],
          "name": "stdout"
        }
      ]
    },
    {
      "cell_type": "code",
      "metadata": {
        "tags": [],
        "cell_id": "00065-713e763b-a671-4d75-97cf-2cd97970db5b",
        "deepnote_to_be_reexecuted": false,
        "source_hash": "fceffef4",
        "execution_start": 1610763522015,
        "execution_millis": 1,
        "deepnote_cell_type": "code",
        "id": "zcY7WNMirjgd",
        "outputId": "cac1ab2b-3a8c-461f-9766-bd0069bc45be"
      },
      "source": [
        "print(f'my_var #= {hex(id(my_var))}')"
      ],
      "execution_count": null,
      "outputs": [
        {
          "output_type": "stream",
          "text": [
            "my_var #= 0x7f085e7c27f0\n"
          ],
          "name": "stdout"
        }
      ]
    },
    {
      "cell_type": "code",
      "metadata": {
        "tags": [],
        "cell_id": "00066-fc7d4a50-b598-48f4-9bfe-1a4f94dd7240",
        "deepnote_to_be_reexecuted": false,
        "source_hash": "6a13fff2",
        "execution_millis": 2,
        "execution_start": 1610763603497,
        "deepnote_cell_type": "code",
        "id": "AhixxQf9rjge",
        "outputId": "201f682a-2db9-4a27-920f-24611e6f62d4"
      },
      "source": [
        "o = \"world\"\n",
        "print(id(o))\n",
        "p = \"world\"\n",
        "print(id(o))"
      ],
      "execution_count": null,
      "outputs": [
        {
          "output_type": "stream",
          "text": [
            "139673923309168\n",
            "139673923309168\n"
          ],
          "name": "stdout"
        }
      ]
    },
    {
      "cell_type": "code",
      "metadata": {
        "tags": [],
        "cell_id": "00067-38f73a11-5a94-4520-b195-a4141d87d434",
        "deepnote_to_be_reexecuted": false,
        "source_hash": "c8888183",
        "execution_start": 1610763772114,
        "execution_millis": 0,
        "deepnote_cell_type": "code",
        "id": "wWxdsB_Frjgg"
      },
      "source": [
        "# working with mutable objects\n",
        "\n",
        "def modify_list(items):\n",
        "    print(f'initial items #= {hex(id(items))}')\n",
        "    if len(items) > 0:\n",
        "        items[0] = items[0] ** 2\n",
        "    items.pop()\n",
        "    items.append(5)\n",
        "    print(f'final items #= {hex(id(items))}')\n"
      ],
      "execution_count": null,
      "outputs": []
    },
    {
      "cell_type": "code",
      "metadata": {
        "tags": [],
        "cell_id": "00069-ec07a1c7-1caa-41c4-b150-9effa748584b",
        "deepnote_to_be_reexecuted": false,
        "source_hash": "c887cb66",
        "execution_millis": 3,
        "execution_start": 1610763841137,
        "deepnote_cell_type": "code",
        "id": "cQAOKXM8rjgh",
        "outputId": "a6fb0580-49ff-4089-e399-c6f81134a710"
      },
      "source": [
        "my_list = [2, 3, 4]\n",
        "print(f'my_list #= {hex(id(my_list))}')\n",
        "\n",
        "modify_list(my_list)\n",
        "\n",
        "print(f'my_list #= {hex(id(my_list))}')"
      ],
      "execution_count": null,
      "outputs": [
        {
          "output_type": "stream",
          "text": [
            "my_list #= 0x7f085f01caf0\n",
            "initial items #= 0x7f085f01caf0\n",
            "final items #= 0x7f085f01caf0\n",
            "my_list #= 0x7f085f01caf0\n"
          ],
          "name": "stdout"
        }
      ]
    },
    {
      "cell_type": "code",
      "metadata": {
        "tags": [],
        "cell_id": "00069-d1aba9fa-dfe1-47ac-9085-da41142be9e3",
        "deepnote_to_be_reexecuted": false,
        "source_hash": "d76b7c80",
        "execution_start": 1610763869347,
        "execution_millis": 1,
        "deepnote_cell_type": "code",
        "id": "CWf-VgF5rjgi",
        "outputId": "c1392875-08ff-49db-a941-6f194cb48faf"
      },
      "source": [
        "my_list"
      ],
      "execution_count": null,
      "outputs": [
        {
          "output_type": "execute_result",
          "data": {
            "text/plain": [
              "[4, 3, 5]"
            ]
          },
          "metadata": {
            "tags": []
          },
          "execution_count": 135
        }
      ]
    },
    {
      "cell_type": "code",
      "metadata": {
        "tags": [],
        "cell_id": "00070-09cef9f8-c208-44b5-97f0-cabbf9a0dffa",
        "deepnote_to_be_reexecuted": false,
        "source_hash": "c1ef73ba",
        "execution_millis": 1,
        "execution_start": 1610764118447,
        "deepnote_cell_type": "code",
        "id": "hILLUI-yrjgi",
        "outputId": "686af53c-5171-483b-8fa9-5cd0d19bb064"
      },
      "source": [
        "def modify_tuple(t):\n",
        "    print(f'{hex(id(t))}')\n",
        "    t[0].append(100)\n",
        "    print(f'{hex(id(t))}')\n",
        "\n",
        "my_tuple = ([1, 2], 'a', 45.09)\n",
        "\n",
        "print(f'{hex(id(my_tuple))}')\n",
        "\n",
        "modify_tuple(my_tuple)\n",
        "\n",
        "print(f'{hex(id(my_tuple))}')"
      ],
      "execution_count": null,
      "outputs": [
        {
          "output_type": "stream",
          "text": [
            "0x7f085edc7b40\n",
            "0x7f085edc7b40\n",
            "0x7f085edc7b40\n",
            "0x7f085edc7b40\n"
          ],
          "name": "stdout"
        }
      ]
    },
    {
      "cell_type": "markdown",
      "metadata": {
        "tags": [],
        "cell_id": "00071-575907a3-fbbe-4ff4-aced-ad2d640def83",
        "deepnote_cell_type": "markdown",
        "id": "XbHiN_k_rjgk"
      },
      "source": [
        "### Shared References and Mutability"
      ]
    },
    {
      "cell_type": "code",
      "metadata": {
        "tags": [],
        "cell_id": "00071-40aa2497-9216-481e-821c-7a0345dac641",
        "deepnote_to_be_reexecuted": false,
        "source_hash": "e3a04a6d",
        "execution_start": 1610764244769,
        "execution_millis": 3,
        "deepnote_cell_type": "code",
        "id": "ru-WfyJ-rjgk",
        "outputId": "06a99d09-857d-41ca-8496-78cb8d58e325"
      },
      "source": [
        "my_var_1 = 'hello'\n",
        "\n",
        "my_var_2 = my_var_1\n",
        "\n",
        "print(my_var_1)\n",
        "print(my_var_2)"
      ],
      "execution_count": null,
      "outputs": [
        {
          "output_type": "stream",
          "text": [
            "hello\n",
            "hello\n"
          ],
          "name": "stdout"
        }
      ]
    },
    {
      "cell_type": "code",
      "metadata": {
        "tags": [],
        "cell_id": "00073-d47693c5-86a2-45ce-9f04-0473beff702b",
        "deepnote_to_be_reexecuted": false,
        "source_hash": "84235783",
        "execution_start": 1610764260080,
        "execution_millis": 1,
        "deepnote_cell_type": "code",
        "id": "BUB6emXnrjgl",
        "outputId": "1e56ebe1-ee76-4333-8343-8d470e5078c4"
      },
      "source": [
        "print(hex(id(my_var_1)))\n",
        "print(hex(id(my_var_2)))"
      ],
      "execution_count": null,
      "outputs": [
        {
          "output_type": "stream",
          "text": [
            "0x7f085e7c27f0\n",
            "0x7f085e7c27f0\n"
          ],
          "name": "stdout"
        }
      ]
    },
    {
      "cell_type": "code",
      "metadata": {
        "tags": [],
        "cell_id": "00074-5dfe37e3-9956-45f7-a38d-bd9749706ccb",
        "deepnote_to_be_reexecuted": false,
        "source_hash": "8a744bfe",
        "execution_start": 1610764292203,
        "execution_millis": 1,
        "deepnote_cell_type": "code",
        "id": "9Pfxe1Gorjgm",
        "outputId": "54b69602-e289-446c-f1fe-77f77ed75b93"
      },
      "source": [
        "my_var_2 = my_var_2 + ' world!'\n",
        "\n",
        "print(hex(id(my_var_1)))\n",
        "print(hex(id(my_var_2)))"
      ],
      "execution_count": null,
      "outputs": [
        {
          "output_type": "stream",
          "text": [
            "0x7f085e7c27f0\n",
            "0x7f085e4b9230\n"
          ],
          "name": "stdout"
        }
      ]
    },
    {
      "cell_type": "code",
      "metadata": {
        "tags": [],
        "cell_id": "00075-c1209681-96cb-491e-b93a-e6be23d564b1",
        "deepnote_to_be_reexecuted": false,
        "source_hash": "f7a6d121",
        "execution_start": 1610764322603,
        "execution_millis": 0,
        "deepnote_cell_type": "code",
        "id": "ywbnXmYIrjgn",
        "outputId": "1bd504bb-0adf-4a0c-da9c-5ea718aafa52"
      },
      "source": [
        "my_list_1 = [1, 2, 3]\n",
        "\n",
        "my_list_2 = my_list_1\n",
        "\n",
        "print(my_list_1)\n",
        "print(my_list_2)"
      ],
      "execution_count": null,
      "outputs": [
        {
          "output_type": "stream",
          "text": [
            "[1, 2, 3]\n",
            "[1, 2, 3]\n"
          ],
          "name": "stdout"
        }
      ]
    },
    {
      "cell_type": "code",
      "metadata": {
        "tags": [],
        "cell_id": "00076-4b7cd7e4-4c21-4541-b01b-29ad770f1ca2",
        "deepnote_to_be_reexecuted": false,
        "source_hash": "5c2ac142",
        "execution_start": 1610764332171,
        "execution_millis": 1,
        "deepnote_cell_type": "code",
        "id": "KGXG5C_drjgo",
        "outputId": "1f37dfa2-2442-4ca0-bd89-e71c21726eae"
      },
      "source": [
        "print(hex(id(my_list_1)))\n",
        "print(hex(id(my_list_2)))"
      ],
      "execution_count": null,
      "outputs": [
        {
          "output_type": "stream",
          "text": [
            "0x7f085edde500\n",
            "0x7f085edde500\n"
          ],
          "name": "stdout"
        }
      ]
    },
    {
      "cell_type": "code",
      "metadata": {
        "tags": [],
        "cell_id": "00077-13d68c8d-30c9-4c2b-84e2-1619e4126c70",
        "deepnote_to_be_reexecuted": false,
        "source_hash": "6de3f5b3",
        "execution_start": 1610764362431,
        "execution_millis": 1,
        "deepnote_cell_type": "code",
        "id": "fkGMUixQrjgr",
        "outputId": "3b922872-61d4-4aba-aa90-35e7fbb4737e"
      },
      "source": [
        "my_list_2.append(4)\n",
        "\n",
        "print(my_list_1)\n",
        "print(my_list_2)\n",
        "\n",
        "print(hex(id(my_list_1)))\n",
        "print(hex(id(my_list_2)))"
      ],
      "execution_count": null,
      "outputs": [
        {
          "output_type": "stream",
          "text": [
            "[1, 2, 3, 4]\n",
            "[1, 2, 3, 4]\n",
            "0x7f085edde500\n",
            "0x7f085edde500\n"
          ],
          "name": "stdout"
        }
      ]
    },
    {
      "cell_type": "code",
      "metadata": {
        "tags": [],
        "cell_id": "00078-ae30e4a2-c895-4a4e-89cb-546b61f67498",
        "deepnote_to_be_reexecuted": false,
        "source_hash": "11eb5e66",
        "execution_start": 1610764406855,
        "execution_millis": 1,
        "deepnote_cell_type": "code",
        "id": "Obqwc7hwrjgs",
        "outputId": "11c9d73f-6faa-49d6-8ec3-7983449c1182"
      },
      "source": [
        "a = 10 \n",
        "b = 10\n",
        "\n",
        "hex(id(a)), hex(id(b))"
      ],
      "execution_count": null,
      "outputs": [
        {
          "output_type": "execute_result",
          "data": {
            "text/plain": [
              "('0x7f089136a560', '0x7f089136a560')"
            ]
          },
          "metadata": {
            "tags": []
          },
          "execution_count": 144
        }
      ]
    },
    {
      "cell_type": "code",
      "metadata": {
        "tags": [],
        "cell_id": "00079-009fa603-074f-4b07-8d4b-36db47bd4cc4",
        "deepnote_to_be_reexecuted": false,
        "source_hash": "b1d09dbc",
        "execution_start": 1610764607487,
        "execution_millis": 1,
        "deepnote_cell_type": "code",
        "id": "VGAxukRErjgu",
        "outputId": "bd802416-d1f8-4500-e1fa-3fa6667ce028"
      },
      "source": [
        "b = 15\n",
        "hex(id(a)), hex(id(b))"
      ],
      "execution_count": null,
      "outputs": [
        {
          "output_type": "execute_result",
          "data": {
            "text/plain": [
              "('0x7f089136a560', '0x7f089136a600')"
            ]
          },
          "metadata": {
            "tags": []
          },
          "execution_count": 145
        }
      ]
    },
    {
      "cell_type": "code",
      "metadata": {
        "tags": [],
        "cell_id": "00080-72bcb625-e12d-406e-8c52-d3c59d11b744",
        "deepnote_to_be_reexecuted": false,
        "source_hash": "28ce032e",
        "execution_start": 1610764620019,
        "execution_millis": 1,
        "deepnote_cell_type": "code",
        "id": "cXeDr_JWrjgv"
      },
      "source": [
        "my_list_1 = [1, 2, 3]\n",
        "my_list_2 = [1, 2 , 3]"
      ],
      "execution_count": null,
      "outputs": []
    },
    {
      "cell_type": "code",
      "metadata": {
        "tags": [],
        "cell_id": "00081-695d0fb3-10a0-40a9-9a63-ceb81b672e40",
        "deepnote_to_be_reexecuted": false,
        "source_hash": "6d0d19ed",
        "execution_start": 1610764642387,
        "execution_millis": 4,
        "deepnote_cell_type": "code",
        "id": "KJtCAhRmrjgw",
        "outputId": "fc32586a-b0d8-4294-8bcd-2763d5d907bc"
      },
      "source": [
        "hex(id(my_list_1)), hex(id(my_list_2))"
      ],
      "execution_count": null,
      "outputs": [
        {
          "output_type": "execute_result",
          "data": {
            "text/plain": [
              "('0x7f085e4052d0', '0x7f085ef1c3c0')"
            ]
          },
          "metadata": {
            "tags": []
          },
          "execution_count": 147
        }
      ]
    },
    {
      "cell_type": "markdown",
      "metadata": {
        "tags": [],
        "cell_id": "00082-4aa2453c-7d0d-4b3a-96e0-75c501e35be6",
        "deepnote_cell_type": "markdown",
        "id": "M8UEOyRfrjgw"
      },
      "source": [
        "### Variable Equality"
      ]
    },
    {
      "cell_type": "code",
      "metadata": {
        "tags": [],
        "cell_id": "00082-d884a1c9-9aea-4ac8-a5dc-46dc5688dfed",
        "deepnote_to_be_reexecuted": false,
        "source_hash": "11eb5e66",
        "execution_start": 1610764681975,
        "execution_millis": 1,
        "deepnote_cell_type": "code",
        "id": "jmHPJwc7rjgx",
        "outputId": "13558f83-92c1-4c29-c62a-a9149971a38a"
      },
      "source": [
        "a = 10 \n",
        "b = 10\n",
        "\n",
        "hex(id(a)), hex(id(b))"
      ],
      "execution_count": null,
      "outputs": [
        {
          "output_type": "execute_result",
          "data": {
            "text/plain": [
              "('0x7f089136a560', '0x7f089136a560')"
            ]
          },
          "metadata": {
            "tags": []
          },
          "execution_count": 148
        }
      ]
    },
    {
      "cell_type": "code",
      "metadata": {
        "tags": [],
        "cell_id": "00084-b3339b3c-9314-4c35-a772-1e130be8b229",
        "deepnote_to_be_reexecuted": false,
        "source_hash": "3c50c7b",
        "execution_start": 1610764697937,
        "execution_millis": 0,
        "deepnote_cell_type": "code",
        "id": "N7hA2rwxrjgy",
        "outputId": "f38c58fd-b2b8-4317-d835-d9e711100fad"
      },
      "source": [
        "print(\"a is b: \", a is b)"
      ],
      "execution_count": null,
      "outputs": [
        {
          "output_type": "stream",
          "text": [
            "a is b:  True\n"
          ],
          "name": "stdout"
        }
      ]
    },
    {
      "cell_type": "code",
      "metadata": {
        "tags": [],
        "cell_id": "00085-aacb0335-1e9e-494e-82e7-77a1aff5fdfa",
        "deepnote_to_be_reexecuted": false,
        "source_hash": "920d48e4",
        "execution_millis": 1,
        "execution_start": 1610764839227,
        "deepnote_cell_type": "code",
        "id": "n72F5PFcrjgz",
        "outputId": "1bfa57e5-cf68-4d21-f5ee-9519c45b8a59"
      },
      "source": [
        "a = 10\n",
        "b = 10\n",
        "\n",
        "hex(id(a)), hex(id(b))\n",
        "\n",
        "print(\"a is b: \", a is b)\n",
        "print(\"a is b: \", a == b)"
      ],
      "execution_count": null,
      "outputs": [
        {
          "output_type": "stream",
          "text": [
            "a is b:  True\n",
            "a is b:  True\n"
          ],
          "name": "stdout"
        }
      ]
    },
    {
      "cell_type": "code",
      "metadata": {
        "tags": [],
        "cell_id": "00086-53bbf2ae-3d13-4f25-be30-00873908fc0d",
        "deepnote_to_be_reexecuted": false,
        "source_hash": "289849a6",
        "execution_start": 1610764861356,
        "execution_millis": 3,
        "deepnote_cell_type": "code",
        "id": "ySguX8PHrjg0",
        "outputId": "b79c1fd8-c996-4eeb-a074-df8db7758896"
      },
      "source": [
        "a = 10\n",
        "b = 10.0\n",
        "\n",
        "hex(id(a)), hex(id(b))\n",
        "\n",
        "print(\"a is b: \", a is b)\n",
        "print(\"a == b: \", a == b)"
      ],
      "execution_count": null,
      "outputs": [
        {
          "output_type": "stream",
          "text": [
            "a is b:  False\n",
            "a is b:  True\n"
          ],
          "name": "stdout"
        }
      ]
    },
    {
      "cell_type": "code",
      "metadata": {
        "tags": [],
        "cell_id": "00087-b3a9b638-ee46-40e0-a28a-fdb1f0136076",
        "deepnote_to_be_reexecuted": false,
        "source_hash": "fef89308",
        "execution_start": 1610764886226,
        "execution_millis": 2,
        "deepnote_cell_type": "code",
        "id": "lLg0LWhJrjg3",
        "outputId": "90ae8a15-e9e1-4461-fe70-8cccb3251c74"
      },
      "source": [
        "print(type(a), type(b))"
      ],
      "execution_count": null,
      "outputs": [
        {
          "output_type": "stream",
          "text": [
            "<class 'int'> <class 'float'>\n"
          ],
          "name": "stdout"
        }
      ]
    },
    {
      "cell_type": "code",
      "metadata": {
        "tags": [],
        "cell_id": "00088-df80e638-2ce6-4976-857c-bbba4a4272c6",
        "deepnote_to_be_reexecuted": false,
        "source_hash": "1064b5ce",
        "execution_start": 1610764895377,
        "execution_millis": 2,
        "deepnote_cell_type": "code",
        "id": "c89v9lKPrjg4",
        "outputId": "cee57f39-c18c-4ece-8c1d-90afa6fea143"
      },
      "source": [
        "hex(id(a)), hex(id(b))"
      ],
      "execution_count": null,
      "outputs": [
        {
          "output_type": "execute_result",
          "data": {
            "text/plain": [
              "('0x7f089136a560', '0x7f085e5a3470')"
            ]
          },
          "metadata": {
            "tags": []
          },
          "execution_count": 155
        }
      ]
    },
    {
      "cell_type": "code",
      "metadata": {
        "tags": [],
        "cell_id": "00089-f4d052cb-4097-4507-a741-197188b821f8",
        "deepnote_to_be_reexecuted": false,
        "source_hash": "30544c6f",
        "execution_start": 1610764944763,
        "execution_millis": 3,
        "deepnote_cell_type": "code",
        "id": "UJxKFk1Erjg6",
        "outputId": "6ed7c3df-da1c-4fdd-f668-32febe380d35"
      },
      "source": [
        "c = 10 + 0j\n",
        "print(type(c))\n",
        "\n",
        "\n",
        "print(\"a is c: \", a is c)\n",
        "print(\"a == c: \", a == c)"
      ],
      "execution_count": null,
      "outputs": [
        {
          "output_type": "stream",
          "text": [
            "<class 'complex'>\n",
            "a is c:  False\n",
            "a == c:  True\n"
          ],
          "name": "stdout"
        }
      ]
    },
    {
      "cell_type": "code",
      "metadata": {
        "tags": [],
        "cell_id": "00090-f2002ab6-bb50-419e-8fc6-d026fda05973",
        "deepnote_to_be_reexecuted": false,
        "source_hash": "2769d80c",
        "execution_start": 1610764975291,
        "execution_millis": 1,
        "deepnote_cell_type": "code",
        "id": "JfeRTZRQrjg7",
        "outputId": "b3bc4621-b2e6-4eb8-cdb8-4bf418dd6a65"
      },
      "source": [
        "type(None )"
      ],
      "execution_count": null,
      "outputs": [
        {
          "output_type": "execute_result",
          "data": {
            "text/plain": [
              "NoneType"
            ]
          },
          "metadata": {
            "tags": []
          },
          "execution_count": 157
        }
      ]
    },
    {
      "cell_type": "code",
      "metadata": {
        "tags": [],
        "cell_id": "00091-165188a8-ecb1-4d99-bc98-6497c4ef86a1",
        "deepnote_to_be_reexecuted": false,
        "source_hash": "30a5c7c",
        "execution_start": 1610765007099,
        "execution_millis": 3,
        "deepnote_cell_type": "code",
        "id": "PrK1c9TKrjg9",
        "outputId": "8ba4acec-4526-4afa-a467-7df80c9106b1"
      },
      "source": [
        "print(None)"
      ],
      "execution_count": null,
      "outputs": [
        {
          "output_type": "stream",
          "text": [
            "None\n"
          ],
          "name": "stdout"
        }
      ]
    },
    {
      "cell_type": "code",
      "metadata": {
        "tags": [],
        "cell_id": "00092-be490bdf-220d-4da2-81e5-270dac3b3fc7",
        "deepnote_to_be_reexecuted": false,
        "source_hash": "ed69a5d8",
        "execution_millis": 2,
        "execution_start": 1610765024353,
        "deepnote_cell_type": "code",
        "id": "daFfQ0KBrjhB",
        "outputId": "a603cf61-cc4d-4726-e23f-0bcf422bd348"
      },
      "source": [
        "print(hex(id(None)))"
      ],
      "execution_count": null,
      "outputs": [
        {
          "output_type": "stream",
          "text": [
            "0x7f089131a6f0\n"
          ],
          "name": "stdout"
        }
      ]
    },
    {
      "cell_type": "code",
      "metadata": {
        "tags": [],
        "cell_id": "00093-f3f8ca3b-0c2f-4027-a5f8-5d2bf4223f80",
        "deepnote_to_be_reexecuted": false,
        "source_hash": "c74b8adc",
        "execution_start": 1610765073702,
        "execution_millis": 2,
        "deepnote_cell_type": "code",
        "id": "YjJxHCBmrjhC",
        "outputId": "bb39d694-7d82-4629-ec27-e80633d7118b"
      },
      "source": [
        "a = None\n",
        "print(type(a))\n",
        "print(hex(id(a)))\n"
      ],
      "execution_count": null,
      "outputs": [
        {
          "output_type": "stream",
          "text": [
            "<class 'NoneType'>\n",
            "0x7f089131a6f0\n"
          ],
          "name": "stdout"
        }
      ]
    },
    {
      "cell_type": "code",
      "metadata": {
        "tags": [],
        "cell_id": "00094-6d4b29e8-7816-47ad-bf7e-0d405d68ea21",
        "deepnote_to_be_reexecuted": false,
        "source_hash": "cbe0186b",
        "execution_start": 1610765087252,
        "execution_millis": 5,
        "deepnote_cell_type": "code",
        "id": "xCXhc72JrjhD",
        "outputId": "e92f2d10-5045-4593-ef8b-94a0d5a5df93"
      },
      "source": [
        "a is None "
      ],
      "execution_count": null,
      "outputs": [
        {
          "output_type": "execute_result",
          "data": {
            "text/plain": [
              "True"
            ]
          },
          "metadata": {
            "tags": []
          },
          "execution_count": 163
        }
      ]
    },
    {
      "cell_type": "code",
      "metadata": {
        "tags": [],
        "cell_id": "00095-37ef2fda-1e8f-4900-8a1e-a711ba55799f",
        "deepnote_to_be_reexecuted": false,
        "source_hash": "edbf0fff",
        "execution_start": 1610765091980,
        "execution_millis": 4,
        "deepnote_cell_type": "code",
        "id": "_q1PDiOJrjhE",
        "outputId": "683ff6f9-6330-446c-c231-5dfcfbc6ce38"
      },
      "source": [
        "a == None"
      ],
      "execution_count": null,
      "outputs": [
        {
          "output_type": "execute_result",
          "data": {
            "text/plain": [
              "True"
            ]
          },
          "metadata": {
            "tags": []
          },
          "execution_count": 164
        }
      ]
    },
    {
      "cell_type": "code",
      "metadata": {
        "tags": [],
        "cell_id": "00096-46a678a5-ad72-4f52-802f-df60b25a2350",
        "deepnote_to_be_reexecuted": false,
        "source_hash": "4f5f50de",
        "execution_start": 1610765108765,
        "execution_millis": 2,
        "deepnote_cell_type": "code",
        "id": "wHMozk8_rjhF",
        "outputId": "9187957c-62a8-43fd-eda0-a15ceb7275f9"
      },
      "source": [
        "b = None\n",
        "print(type(b))\n",
        "print(hex(id(b)))"
      ],
      "execution_count": null,
      "outputs": [
        {
          "output_type": "stream",
          "text": [
            "<class 'NoneType'>\n",
            "0x7f089131a6f0\n"
          ],
          "name": "stdout"
        }
      ]
    },
    {
      "cell_type": "code",
      "metadata": {
        "tags": [],
        "cell_id": "00097-e869adbc-85c9-408a-9f20-24e8ff8842b3",
        "deepnote_to_be_reexecuted": false,
        "source_hash": "87d77659",
        "execution_start": 1610765116335,
        "execution_millis": 2,
        "deepnote_cell_type": "code",
        "id": "0l4yytCqrjhG",
        "outputId": "50330a4b-96f9-48c8-8492-fbd950c34e8c"
      },
      "source": [
        "a is b"
      ],
      "execution_count": null,
      "outputs": [
        {
          "output_type": "execute_result",
          "data": {
            "text/plain": [
              "True"
            ]
          },
          "metadata": {
            "tags": []
          },
          "execution_count": 166
        }
      ]
    },
    {
      "cell_type": "code",
      "metadata": {
        "tags": [],
        "cell_id": "00098-3fdc5dd8-f492-4920-93d8-1760bb61ccf7",
        "deepnote_to_be_reexecuted": false,
        "source_hash": "bbf209c4",
        "execution_millis": 3,
        "execution_start": 1610765133655,
        "deepnote_cell_type": "code",
        "id": "wQE2jyAqrjhH",
        "outputId": "50163a9c-1a58-44d1-8a9f-28c54f7d7c53"
      },
      "source": [
        "l = []\n",
        "type(l), l is None"
      ],
      "execution_count": null,
      "outputs": [
        {
          "output_type": "execute_result",
          "data": {
            "text/plain": [
              "(list, False)"
            ]
          },
          "metadata": {
            "tags": []
          },
          "execution_count": 167
        }
      ]
    },
    {
      "cell_type": "code",
      "metadata": {
        "tags": [],
        "cell_id": "00099-58802149-7180-4f9f-9c26-0fd9d2a626d6",
        "deepnote_to_be_reexecuted": false,
        "source_hash": "31580df9",
        "execution_start": 1610765161343,
        "execution_millis": 1,
        "deepnote_cell_type": "code",
        "id": "bTWFXjYgrjhI",
        "outputId": "ce1b4797-37a8-4b6c-98ed-55fae7e32500"
      },
      "source": [
        "l == None"
      ],
      "execution_count": null,
      "outputs": [
        {
          "output_type": "execute_result",
          "data": {
            "text/plain": [
              "False"
            ]
          },
          "metadata": {
            "tags": []
          },
          "execution_count": 168
        }
      ]
    },
    {
      "cell_type": "markdown",
      "metadata": {
        "tags": [],
        "cell_id": "00100-fd59fee0-055e-4ed1-a31c-16ef433bcafe",
        "deepnote_cell_type": "markdown",
        "id": "-4ZlmtiSrjhJ"
      },
      "source": [
        "## Everything is an Object"
      ]
    },
    {
      "cell_type": "code",
      "metadata": {
        "tags": [],
        "cell_id": "00100-81be2048-7c9c-4a79-a7d4-e12695ae1937",
        "deepnote_to_be_reexecuted": false,
        "source_hash": "c16d8ddd",
        "execution_start": 1610765659511,
        "execution_millis": 1,
        "deepnote_cell_type": "code",
        "id": "Ofj73bEfrjhL"
      },
      "source": [
        "a = 10"
      ],
      "execution_count": null,
      "outputs": []
    },
    {
      "cell_type": "code",
      "metadata": {
        "tags": [],
        "cell_id": "00102-56307349-d865-4a3b-913b-6aa7b3634bfc",
        "deepnote_to_be_reexecuted": false,
        "source_hash": "dda847ab",
        "execution_start": 1610765669880,
        "execution_millis": 3,
        "deepnote_cell_type": "code",
        "id": "9PEVSOpHrjhN",
        "outputId": "e21df8c7-7e7d-40fd-a2ab-e47dada1dee3"
      },
      "source": [
        "print(type(a))"
      ],
      "execution_count": null,
      "outputs": [
        {
          "output_type": "stream",
          "text": [
            "<class 'int'>\n"
          ],
          "name": "stdout"
        }
      ]
    },
    {
      "cell_type": "code",
      "metadata": {
        "tags": [],
        "cell_id": "00103-11a17889-abbe-4960-b830-589a55d552b4",
        "deepnote_to_be_reexecuted": false,
        "source_hash": "bf2a7664",
        "execution_start": 1610765706407,
        "execution_millis": 5,
        "deepnote_cell_type": "code",
        "id": "d74ffIq-rjhO",
        "outputId": "d82d1058-d036-41a9-ba14-30c5af4a9a4f"
      },
      "source": [
        "a = lambda x:x**2\n",
        "print(type(a))"
      ],
      "execution_count": null,
      "outputs": [
        {
          "output_type": "stream",
          "text": [
            "<class 'function'>\n"
          ],
          "name": "stdout"
        }
      ]
    },
    {
      "cell_type": "code",
      "metadata": {
        "tags": [],
        "cell_id": "00104-8f49f9a0-5e8b-458e-a72c-cb042b81d733",
        "deepnote_to_be_reexecuted": false,
        "source_hash": "6f4337ab",
        "execution_start": 1610765747622,
        "execution_millis": 3,
        "deepnote_cell_type": "code",
        "id": "10-RCJwZrjhQ",
        "outputId": "9a34756c-d9cf-4650-9f36-f5c4b1232fb9"
      },
      "source": [
        "b = int(10)\n",
        "print(type(b))"
      ],
      "execution_count": null,
      "outputs": [
        {
          "output_type": "stream",
          "text": [
            "<class 'int'>\n"
          ],
          "name": "stdout"
        }
      ]
    },
    {
      "cell_type": "code",
      "metadata": {
        "tags": [],
        "cell_id": "00105-957ce461-51d2-4161-a4dc-69fb34328ca5",
        "deepnote_to_be_reexecuted": false,
        "source_hash": "7d5ae212",
        "execution_millis": 3,
        "execution_start": 1610765783218,
        "deepnote_cell_type": "code",
        "id": "EfucJnrqrjhS",
        "outputId": "ca35b5c0-fb79-4475-bbbd-cf615cf0ba40"
      },
      "source": [
        "help(int)"
      ],
      "execution_count": null,
      "outputs": [
        {
          "output_type": "stream",
          "text": [
            "Help on class int in module builtins:\n",
            "\n",
            "class int(object)\n",
            " |  int([x]) -> integer\n",
            " |  int(x, base=10) -> integer\n",
            " |  \n",
            " |  Convert a number or string to an integer, or return 0 if no arguments\n",
            " |  are given.  If x is a number, return x.__int__().  For floating point\n",
            " |  numbers, this truncates towards zero.\n",
            " |  \n",
            " |  If x is not a number or if base is given, then x must be a string,\n",
            " |  bytes, or bytearray instance representing an integer literal in the\n",
            " |  given base.  The literal can be preceded by '+' or '-' and be surrounded\n",
            " |  by whitespace.  The base defaults to 10.  Valid bases are 0 and 2-36.\n",
            " |  Base 0 means to interpret the base from the string as an integer literal.\n",
            " |  >>> int('0b100', base=0)\n",
            " |  4\n",
            " |  \n",
            " |  Methods defined here:\n",
            " |  \n",
            " |  __abs__(self, /)\n",
            " |      abs(self)\n",
            " |  \n",
            " |  __add__(self, value, /)\n",
            " |      Return self+value.\n",
            " |  \n",
            " |  __and__(self, value, /)\n",
            " |      Return self&value.\n",
            " |  \n",
            " |  __bool__(self, /)\n",
            " |      self != 0\n",
            " |  \n",
            " |  __ceil__(...)\n",
            " |      Ceiling of an Integral returns itself.\n",
            " |  \n",
            " |  __divmod__(self, value, /)\n",
            " |      Return divmod(self, value).\n",
            " |  \n",
            " |  __eq__(self, value, /)\n",
            " |      Return self==value.\n",
            " |  \n",
            " |  __float__(self, /)\n",
            " |      float(self)\n",
            " |  \n",
            " |  __floor__(...)\n",
            " |      Flooring an Integral returns itself.\n",
            " |  \n",
            " |  __floordiv__(self, value, /)\n",
            " |      Return self//value.\n",
            " |  \n",
            " |  __format__(self, format_spec, /)\n",
            " |      Default object formatter.\n",
            " |  \n",
            " |  __ge__(self, value, /)\n",
            " |      Return self>=value.\n",
            " |  \n",
            " |  __getattribute__(self, name, /)\n",
            " |      Return getattr(self, name).\n",
            " |  \n",
            " |  __getnewargs__(self, /)\n",
            " |  \n",
            " |  __gt__(self, value, /)\n",
            " |      Return self>value.\n",
            " |  \n",
            " |  __hash__(self, /)\n",
            " |      Return hash(self).\n",
            " |  \n",
            " |  __index__(self, /)\n",
            " |      Return self converted to an integer, if self is suitable for use as an index into a list.\n",
            " |  \n",
            " |  __int__(self, /)\n",
            " |      int(self)\n",
            " |  \n",
            " |  __invert__(self, /)\n",
            " |      ~self\n",
            " |  \n",
            " |  __le__(self, value, /)\n",
            " |      Return self<=value.\n",
            " |  \n",
            " |  __lshift__(self, value, /)\n",
            " |      Return self<<value.\n",
            " |  \n",
            " |  __lt__(self, value, /)\n",
            " |      Return self<value.\n",
            " |  \n",
            " |  __mod__(self, value, /)\n",
            " |      Return self%value.\n",
            " |  \n",
            " |  __mul__(self, value, /)\n",
            " |      Return self*value.\n",
            " |  \n",
            " |  __ne__(self, value, /)\n",
            " |      Return self!=value.\n",
            " |  \n",
            " |  __neg__(self, /)\n",
            " |      -self\n",
            " |  \n",
            " |  __or__(self, value, /)\n",
            " |      Return self|value.\n",
            " |  \n",
            " |  __pos__(self, /)\n",
            " |      +self\n",
            " |  \n",
            " |  __pow__(self, value, mod=None, /)\n",
            " |      Return pow(self, value, mod).\n",
            " |  \n",
            " |  __radd__(self, value, /)\n",
            " |      Return value+self.\n",
            " |  \n",
            " |  __rand__(self, value, /)\n",
            " |      Return value&self.\n",
            " |  \n",
            " |  __rdivmod__(self, value, /)\n",
            " |      Return divmod(value, self).\n",
            " |  \n",
            " |  __repr__(self, /)\n",
            " |      Return repr(self).\n",
            " |  \n",
            " |  __rfloordiv__(self, value, /)\n",
            " |      Return value//self.\n",
            " |  \n",
            " |  __rlshift__(self, value, /)\n",
            " |      Return value<<self.\n",
            " |  \n",
            " |  __rmod__(self, value, /)\n",
            " |      Return value%self.\n",
            " |  \n",
            " |  __rmul__(self, value, /)\n",
            " |      Return value*self.\n",
            " |  \n",
            " |  __ror__(self, value, /)\n",
            " |      Return value|self.\n",
            " |  \n",
            " |  __round__(...)\n",
            " |      Rounding an Integral returns itself.\n",
            " |      Rounding with an ndigits argument also returns an integer.\n",
            " |  \n",
            " |  __rpow__(self, value, mod=None, /)\n",
            " |      Return pow(value, self, mod).\n",
            " |  \n",
            " |  __rrshift__(self, value, /)\n",
            " |      Return value>>self.\n",
            " |  \n",
            " |  __rshift__(self, value, /)\n",
            " |      Return self>>value.\n",
            " |  \n",
            " |  __rsub__(self, value, /)\n",
            " |      Return value-self.\n",
            " |  \n",
            " |  __rtruediv__(self, value, /)\n",
            " |      Return value/self.\n",
            " |  \n",
            " |  __rxor__(self, value, /)\n",
            " |      Return value^self.\n",
            " |  \n",
            " |  __sizeof__(self, /)\n",
            " |      Returns size in memory, in bytes.\n",
            " |  \n",
            " |  __str__(self, /)\n",
            " |      Return str(self).\n",
            " |  \n",
            " |  __sub__(self, value, /)\n",
            " |      Return self-value.\n",
            " |  \n",
            " |  __truediv__(self, value, /)\n",
            " |      Return self/value.\n",
            " |  \n",
            " |  __trunc__(...)\n",
            " |      Truncating an Integral returns itself.\n",
            " |  \n",
            " |  __xor__(self, value, /)\n",
            " |      Return self^value.\n",
            " |  \n",
            " |  bit_length(self, /)\n",
            " |      Number of bits necessary to represent self in binary.\n",
            " |      \n",
            " |      >>> bin(37)\n",
            " |      '0b100101'\n",
            " |      >>> (37).bit_length()\n",
            " |      6\n",
            " |  \n",
            " |  conjugate(...)\n",
            " |      Returns self, the complex conjugate of any int.\n",
            " |  \n",
            " |  to_bytes(self, /, length, byteorder, *, signed=False)\n",
            " |      Return an array of bytes representing an integer.\n",
            " |      \n",
            " |      length\n",
            " |        Length of bytes object to use.  An OverflowError is raised if the\n",
            " |        integer is not representable with the given number of bytes.\n",
            " |      byteorder\n",
            " |        The byte order used to represent the integer.  If byteorder is 'big',\n",
            " |        the most significant byte is at the beginning of the byte array.  If\n",
            " |        byteorder is 'little', the most significant byte is at the end of the\n",
            " |        byte array.  To request the native byte order of the host system, use\n",
            " |        `sys.byteorder' as the byte order value.\n",
            " |      signed\n",
            " |        Determines whether two's complement is used to represent the integer.\n",
            " |        If signed is False and a negative integer is given, an OverflowError\n",
            " |        is raised.\n",
            " |  \n",
            " |  ----------------------------------------------------------------------\n",
            " |  Class methods defined here:\n",
            " |  \n",
            " |  from_bytes(bytes, byteorder, *, signed=False) from builtins.type\n",
            " |      Return the integer represented by the given array of bytes.\n",
            " |      \n",
            " |      bytes\n",
            " |        Holds the array of bytes to convert.  The argument must either\n",
            " |        support the buffer protocol or be an iterable object producing bytes.\n",
            " |        Bytes and bytearray are examples of built-in objects that support the\n",
            " |        buffer protocol.\n",
            " |      byteorder\n",
            " |        The byte order used to represent the integer.  If byteorder is 'big',\n",
            " |        the most significant byte is at the beginning of the byte array.  If\n",
            " |        byteorder is 'little', the most significant byte is at the end of the\n",
            " |        byte array.  To request the native byte order of the host system, use\n",
            " |        `sys.byteorder' as the byte order value.\n",
            " |      signed\n",
            " |        Indicates whether two's complement is used to represent the integer.\n",
            " |  \n",
            " |  ----------------------------------------------------------------------\n",
            " |  Static methods defined here:\n",
            " |  \n",
            " |  __new__(*args, **kwargs) from builtins.type\n",
            " |      Create and return a new object.  See help(type) for accurate signature.\n",
            " |  \n",
            " |  ----------------------------------------------------------------------\n",
            " |  Data descriptors defined here:\n",
            " |  \n",
            " |  denominator\n",
            " |      the denominator of a rational number in lowest terms\n",
            " |  \n",
            " |  imag\n",
            " |      the imaginary part of a complex number\n",
            " |  \n",
            " |  numerator\n",
            " |      the numerator of a rational number in lowest terms\n",
            " |  \n",
            " |  real\n",
            " |      the real part of a complex number\n",
            "\n"
          ],
          "name": "stdout"
        }
      ]
    },
    {
      "cell_type": "code",
      "metadata": {
        "tags": [],
        "cell_id": "00106-26ea4fce-ed4d-4c05-b6dc-cfc102c55e09",
        "deepnote_to_be_reexecuted": false,
        "source_hash": "fb89a321",
        "execution_start": 1610765824691,
        "execution_millis": 3,
        "deepnote_cell_type": "code",
        "id": "WIpgL1F_rjhS",
        "outputId": "afde4f01-3164-4f60-8fb3-3e84c05be78e"
      },
      "source": [
        "b = int('10')\n",
        "b"
      ],
      "execution_count": null,
      "outputs": [
        {
          "output_type": "execute_result",
          "data": {
            "text/plain": [
              "10"
            ]
          },
          "metadata": {
            "tags": []
          },
          "execution_count": 175
        }
      ]
    },
    {
      "cell_type": "code",
      "metadata": {
        "tags": [],
        "cell_id": "00107-ad8e3cac-b863-4b50-bee5-720dc36621a4",
        "deepnote_to_be_reexecuted": false,
        "source_hash": "864c0dca",
        "execution_millis": 3,
        "execution_start": 1610765876646,
        "deepnote_cell_type": "code",
        "id": "lAmGe2BXrjhT",
        "outputId": "4a256c21-8e57-4518-a3d6-e67224a7e380"
      },
      "source": [
        "def square(a):\n",
        "    return a ** 2\n",
        "\n",
        "print(type(square))"
      ],
      "execution_count": null,
      "outputs": [
        {
          "output_type": "stream",
          "text": [
            "<class 'function'>\n"
          ],
          "name": "stdout"
        }
      ]
    },
    {
      "cell_type": "code",
      "metadata": {
        "tags": [],
        "cell_id": "00108-b29f1057-7b5c-48f2-8738-585fcc50c21d",
        "deepnote_to_be_reexecuted": false,
        "source_hash": "9bb7a90d",
        "execution_millis": 0,
        "execution_start": 1610765919191,
        "deepnote_cell_type": "code",
        "id": "eXFQ7vpSrjhU",
        "outputId": "876f5845-1579-4ca8-f59c-17c9be290db9"
      },
      "source": [
        "f = square\n",
        "\n",
        "type(f), f is square"
      ],
      "execution_count": null,
      "outputs": [
        {
          "output_type": "execute_result",
          "data": {
            "text/plain": [
              "(function, True)"
            ]
          },
          "metadata": {
            "tags": []
          },
          "execution_count": 179
        }
      ]
    },
    {
      "cell_type": "code",
      "metadata": {
        "tags": [],
        "cell_id": "00109-bdfe46dc-2152-48df-a9bb-5c9860fa64ca",
        "deepnote_to_be_reexecuted": false,
        "source_hash": "b6e7d487",
        "execution_start": 1610765935363,
        "execution_millis": 3,
        "deepnote_cell_type": "code",
        "id": "QmnMg-wurjhU",
        "outputId": "aa36d33b-7fac-4784-9784-8b0414abe695"
      },
      "source": [
        "f(2)"
      ],
      "execution_count": null,
      "outputs": [
        {
          "output_type": "execute_result",
          "data": {
            "text/plain": [
              "4"
            ]
          },
          "metadata": {
            "tags": []
          },
          "execution_count": 180
        }
      ]
    },
    {
      "cell_type": "code",
      "metadata": {
        "tags": [],
        "cell_id": "00110-a339555f-3868-45fc-b54e-fe215b976c27",
        "deepnote_to_be_reexecuted": false,
        "source_hash": "da9806e6",
        "execution_start": 1610765977427,
        "execution_millis": 40,
        "deepnote_cell_type": "code",
        "id": "ATF0_vVhrjhV"
      },
      "source": [
        "def cube(a):\n",
        "    return a ** 3\n",
        "\n",
        "def sel_function(fn_id):\n",
        "    if fn_id == 1:\n",
        "        return square\n",
        "    else:\n",
        "        return cube"
      ],
      "execution_count": null,
      "outputs": []
    },
    {
      "cell_type": "code",
      "metadata": {
        "tags": [],
        "cell_id": "00111-3ed3438a-83e5-4998-bc14-7a6f05f27ebf",
        "deepnote_to_be_reexecuted": false,
        "source_hash": "ec9c3adf",
        "execution_start": 1610766045708,
        "execution_millis": 4,
        "deepnote_cell_type": "code",
        "id": "UhG7vBJErjhV",
        "outputId": "4d99fc90-b781-41a1-ccef-e9fb1328d6a2"
      },
      "source": [
        "f = sel_function(1)\n",
        "print(hex(id(f)))\n",
        "print(hex(id(square)))\n",
        "print(hex(id(cube)))\n",
        "print(type(f))\n",
        "print('f is square', f is square)\n",
        "print('f is cube', f is cube)"
      ],
      "execution_count": null,
      "outputs": [
        {
          "output_type": "stream",
          "text": [
            "0x7f085eab7440\n",
            "0x7f085eab7440\n",
            "0x7f085eb0b290\n",
            "<class 'function'>\n",
            "f is square True\n",
            "f is cube False\n"
          ],
          "name": "stdout"
        }
      ]
    },
    {
      "cell_type": "code",
      "metadata": {
        "tags": [],
        "cell_id": "00112-9915ed3b-6764-426e-9eab-2466fa1bc6df",
        "deepnote_to_be_reexecuted": false,
        "source_hash": "880c0ffb",
        "execution_start": 1610766073919,
        "execution_millis": 1,
        "deepnote_cell_type": "code",
        "id": "r8jheVPjrjha",
        "outputId": "0e70d1bb-a2c0-4251-b4a9-c9809574d03f"
      },
      "source": [
        "f = sel_function(2)\n",
        "print(hex(id(f)))\n",
        "print(hex(id(square)))\n",
        "print(hex(id(cube)))\n",
        "print(type(f))\n",
        "print('f is square', f is square)\n",
        "print('f is cube', f is cube)"
      ],
      "execution_count": null,
      "outputs": [
        {
          "output_type": "stream",
          "text": [
            "0x7f085eb0b290\n",
            "0x7f085eab7440\n",
            "0x7f085eb0b290\n",
            "<class 'function'>\n",
            "f is square False\n",
            "f is cube True\n"
          ],
          "name": "stdout"
        }
      ]
    },
    {
      "cell_type": "code",
      "metadata": {
        "tags": [],
        "cell_id": "00113-45d3b35f-5e1c-410d-860a-3e736a60e8d9",
        "deepnote_to_be_reexecuted": false,
        "source_hash": "c1bbf152",
        "execution_start": 1610766105435,
        "execution_millis": 1,
        "deepnote_cell_type": "code",
        "id": "G6U1T_FNrjha",
        "outputId": "e4fd3505-682a-4cc7-e952-98ea22b019bf"
      },
      "source": [
        "sel_function(1)(5)"
      ],
      "execution_count": null,
      "outputs": [
        {
          "output_type": "execute_result",
          "data": {
            "text/plain": [
              "25"
            ]
          },
          "metadata": {
            "tags": []
          },
          "execution_count": 184
        }
      ]
    },
    {
      "cell_type": "code",
      "metadata": {
        "tags": [],
        "cell_id": "00114-88c625a5-112e-44e1-9d5c-df1fbe86fae2",
        "deepnote_to_be_reexecuted": false,
        "source_hash": "762efe46",
        "execution_millis": 0,
        "execution_start": 1610766165635,
        "deepnote_cell_type": "code",
        "id": "k6bJ7hZ8rjhb",
        "outputId": "8bace7c2-53ee-41c9-a3df-afc9d4f8dd5d"
      },
      "source": [
        "sel_function(1 + 0j)(5)"
      ],
      "execution_count": null,
      "outputs": [
        {
          "output_type": "execute_result",
          "data": {
            "text/plain": [
              "25"
            ]
          },
          "metadata": {
            "tags": []
          },
          "execution_count": 190
        }
      ]
    },
    {
      "cell_type": "code",
      "metadata": {
        "tags": [],
        "cell_id": "00115-9bd4d4b1-b5d9-4b5f-9e40-3121b125e644",
        "deepnote_to_be_reexecuted": false,
        "source_hash": "668b0e8d",
        "execution_millis": 2,
        "execution_start": 1610766197640,
        "deepnote_cell_type": "code",
        "id": "JvlU3s3_rjhd",
        "outputId": "fdf87229-b196-46b2-a70e-d9383e217840"
      },
      "source": [
        "1 is 1 + 0j"
      ],
      "execution_count": null,
      "outputs": [
        {
          "output_type": "execute_result",
          "data": {
            "text/plain": [
              "False"
            ]
          },
          "metadata": {
            "tags": []
          },
          "execution_count": 193
        }
      ]
    },
    {
      "cell_type": "code",
      "metadata": {
        "tags": [],
        "cell_id": "00116-95c70bac-711e-41af-b685-11ddd8876234",
        "deepnote_to_be_reexecuted": false,
        "source_hash": "ea6f3d39",
        "execution_start": 1610766228096,
        "execution_millis": 3,
        "deepnote_cell_type": "code",
        "id": "29u2ooYvrjhd"
      },
      "source": [
        "def exec_function(fn, n):\n",
        "    return fn(n)"
      ],
      "execution_count": null,
      "outputs": []
    },
    {
      "cell_type": "code",
      "metadata": {
        "tags": [],
        "cell_id": "00117-5f904a21-def7-4307-a03d-1a6adb74fd70",
        "deepnote_to_be_reexecuted": false,
        "source_hash": "5392158d",
        "execution_millis": 1,
        "execution_start": 1610766248059,
        "deepnote_cell_type": "code",
        "id": "bnwle8MOrjhf",
        "outputId": "504bc2dd-2c9a-4b41-b97c-229ee1521e84"
      },
      "source": [
        "result = exec_function(square, 2)\n",
        "print(result)"
      ],
      "execution_count": null,
      "outputs": [
        {
          "output_type": "stream",
          "text": [
            "4\n"
          ],
          "name": "stdout"
        }
      ]
    },
    {
      "cell_type": "markdown",
      "metadata": {
        "tags": [],
        "cell_id": "00118-f6835596-6149-4816-a8bb-b26d14ea3773",
        "deepnote_cell_type": "markdown",
        "id": "8_3XPBnxrjhg"
      },
      "source": [
        "### Python Interning\n"
      ]
    },
    {
      "cell_type": "code",
      "metadata": {
        "tags": [],
        "cell_id": "00118-ee4cc76f-f2f9-487a-b91e-c47f9f2a6707",
        "deepnote_to_be_reexecuted": false,
        "source_hash": "d8059cf3",
        "execution_start": 1610766292418,
        "execution_millis": 0,
        "deepnote_cell_type": "code",
        "id": "P7WvnIS_rjhg",
        "outputId": "972f03ee-ca67-42c1-dafb-032992c3f37c"
      },
      "source": [
        "a = 10\n",
        "b = 10\n",
        "id(a), id(b)"
      ],
      "execution_count": null,
      "outputs": [
        {
          "output_type": "execute_result",
          "data": {
            "text/plain": [
              "(139674772743520, 139674772743520)"
            ]
          },
          "metadata": {
            "tags": []
          },
          "execution_count": 198
        }
      ]
    },
    {
      "cell_type": "code",
      "metadata": {
        "tags": [],
        "cell_id": "00120-0c7168bf-f1bf-46e7-a561-e7e6697ae387",
        "deepnote_to_be_reexecuted": false,
        "source_hash": "a0911704",
        "execution_millis": 4,
        "execution_start": 1610766386981,
        "deepnote_cell_type": "code",
        "id": "0aDKbTLgrjhh",
        "outputId": "c68a25cb-59b2-4d7a-b464-7e5fb2692ce8"
      },
      "source": [
        "a = 256\n",
        "b = 256\n",
        "id(a), id(b) # -5 to 256"
      ],
      "execution_count": null,
      "outputs": [
        {
          "output_type": "execute_result",
          "data": {
            "text/plain": [
              "(139674772751392, 139674772751392)"
            ]
          },
          "metadata": {
            "tags": []
          },
          "execution_count": 212
        }
      ]
    },
    {
      "cell_type": "markdown",
      "metadata": {
        "tags": [],
        "cell_id": "00121-abc2789a-a630-4f86-9131-9977d1620a57",
        "deepnote_cell_type": "markdown",
        "id": "-i_XyYJlrjhi"
      },
      "source": [
        "This is because Python \"pre-caching\" the interger range from -5 to 256"
      ]
    },
    {
      "cell_type": "code",
      "metadata": {
        "tags": [],
        "cell_id": "00121-0bab4059-6464-4cf3-8893-354e8770fda7",
        "deepnote_to_be_reexecuted": false,
        "source_hash": "85994b65",
        "execution_millis": 2,
        "execution_start": 1610766468222,
        "deepnote_cell_type": "code",
        "id": "UcjBtAtjrjhj",
        "outputId": "deb5951a-1372-4744-9bd7-d8ef29e50769"
      },
      "source": [
        "a = -5\n",
        "b = -5\n",
        "id(a), id(b)"
      ],
      "execution_count": null,
      "outputs": [
        {
          "output_type": "execute_result",
          "data": {
            "text/plain": [
              "(139674772743040, 139674772743040)"
            ]
          },
          "metadata": {
            "tags": []
          },
          "execution_count": 214
        }
      ]
    },
    {
      "cell_type": "markdown",
      "metadata": {
        "tags": [],
        "cell_id": "00123-d8253fae-5f3f-470e-aa99-cb8b7a6a7d92",
        "deepnote_cell_type": "markdown",
        "id": "_x3vNs_2rjhk"
      },
      "source": [
        "The integers in the range [-5, 256] are essentially **singleton** objects."
      ]
    },
    {
      "cell_type": "code",
      "metadata": {
        "tags": [],
        "cell_id": "00123-c96329be-8500-4945-bae0-5cc4ff4e338e",
        "deepnote_to_be_reexecuted": false,
        "source_hash": "1c484cc5",
        "execution_start": 1610766572032,
        "execution_millis": 3,
        "deepnote_cell_type": "code",
        "id": "3Bqw0-VMrjhl",
        "outputId": "1434de7c-8237-4a1c-d827-330f3aa8b522"
      },
      "source": [
        "a = 10\n",
        "b = int(10)\n",
        "c = int('10')\n",
        "d = int('1010', 2)\n",
        "\n",
        "print(a, b, c, d)\n",
        "a is b, b is c, c is d"
      ],
      "execution_count": null,
      "outputs": [
        {
          "output_type": "stream",
          "text": [
            "10 10 10 10\n"
          ],
          "name": "stdout"
        },
        {
          "output_type": "execute_result",
          "data": {
            "text/plain": [
              "(True, True, True)"
            ]
          },
          "metadata": {
            "tags": []
          },
          "execution_count": 215
        }
      ]
    },
    {
      "cell_type": "markdown",
      "metadata": {
        "tags": [],
        "cell_id": "00125-d9929df4-2d4e-464f-9c24-55d915c1b5e3",
        "deepnote_cell_type": "markdown",
        "id": "8fYMt8wVrjhl"
      },
      "source": [
        "### Python Optimizations: String Interning"
      ]
    },
    {
      "cell_type": "markdown",
      "metadata": {
        "tags": [],
        "cell_id": "00126-2e59c31c-ac00-4403-aa65-fa1d97ae9b4d",
        "deepnote_cell_type": "markdown",
        "id": "ANHdJTB-rjhm"
      },
      "source": [
        "identifiers = variable names, function names, class names, etc.. interned.. \n",
        "\n",
        "Python will also intern string literals that _look_ like identifiers."
      ]
    },
    {
      "cell_type": "code",
      "metadata": {
        "tags": [],
        "cell_id": "00127-50916170-4157-47c5-9220-bf48a960de0f",
        "deepnote_to_be_reexecuted": false,
        "source_hash": "cf6c4c38",
        "execution_millis": 2,
        "execution_start": 1610766776908,
        "deepnote_cell_type": "code",
        "id": "LRePQQZCrjhn",
        "outputId": "11db6030-0821-4086-a87e-7af75edb1d18"
      },
      "source": [
        "a = 'hello'\n",
        "b = 'hello'\n",
        "id(a), id(b)"
      ],
      "execution_count": null,
      "outputs": [
        {
          "output_type": "execute_result",
          "data": {
            "text/plain": [
              "(139673921660912, 139673921660912)"
            ]
          },
          "metadata": {
            "tags": []
          },
          "execution_count": 218
        }
      ]
    },
    {
      "cell_type": "code",
      "metadata": {
        "tags": [],
        "cell_id": "00128-8a389cd9-2774-41d5-b219-9bb322d46b2b",
        "deepnote_to_be_reexecuted": false,
        "source_hash": "bacd08af",
        "execution_start": 1610766795611,
        "execution_millis": 0,
        "deepnote_cell_type": "code",
        "id": "hHuT6sUcrjho",
        "outputId": "27c22609-1843-4301-be76-6407de012e95"
      },
      "source": [
        "a = 'hello, world!'\n",
        "b = 'hello, world!'\n",
        "id(a), id(b)"
      ],
      "execution_count": null,
      "outputs": [
        {
          "output_type": "execute_result",
          "data": {
            "text/plain": [
              "(139673922490224, 139673922490288)"
            ]
          },
          "metadata": {
            "tags": []
          },
          "execution_count": 219
        }
      ]
    },
    {
      "cell_type": "code",
      "metadata": {
        "tags": [],
        "cell_id": "00129-093926c1-45ea-46fa-84cf-db4b3b21ac7f",
        "deepnote_to_be_reexecuted": false,
        "source_hash": "f0a6e0e4",
        "execution_millis": 0,
        "execution_start": 1610766821099,
        "deepnote_cell_type": "code",
        "id": "O80rhdQmrjhp",
        "outputId": "700c7102-f9f5-4cf7-d7df-620034f2d279"
      },
      "source": [
        "a = 'hello_world'\n",
        "b = 'hello_world'\n",
        "id(a), id(b)"
      ],
      "execution_count": null,
      "outputs": [
        {
          "output_type": "execute_result",
          "data": {
            "text/plain": [
              "(139673919156464, 139673919156464)"
            ]
          },
          "metadata": {
            "tags": []
          },
          "execution_count": 221
        }
      ]
    },
    {
      "cell_type": "code",
      "metadata": {
        "tags": [],
        "cell_id": "00130-d777e830-19e1-42bb-8053-d695842244ed",
        "deepnote_to_be_reexecuted": false,
        "source_hash": "971a2b52",
        "execution_start": 1610766829836,
        "execution_millis": 3,
        "deepnote_cell_type": "code",
        "id": "QsaEBURsrjhq",
        "outputId": "5c9373de-8fef-4103-eb75-25409eab927a"
      },
      "source": [
        "def func!!():\n",
        "    pass"
      ],
      "execution_count": null,
      "outputs": [
        {
          "output_type": "error",
          "ename": "SyntaxError",
          "evalue": "invalid syntax (<ipython-input-222-6ff625680554>, line 1)",
          "traceback": [
            "\u001b[0;36m  File \u001b[0;32m\"<ipython-input-222-6ff625680554>\"\u001b[0;36m, line \u001b[0;32m1\u001b[0m\n\u001b[0;31m    def func!!():\u001b[0m\n\u001b[0m            ^\u001b[0m\n\u001b[0;31mSyntaxError\u001b[0m\u001b[0;31m:\u001b[0m invalid syntax\n"
          ]
        }
      ]
    },
    {
      "cell_type": "code",
      "metadata": {
        "tags": [],
        "cell_id": "00131-d09c2b09-81c1-4ddb-8013-846e4590bedc",
        "deepnote_to_be_reexecuted": false,
        "source_hash": "3d123bfb",
        "execution_start": 1610766875063,
        "execution_millis": 1,
        "deepnote_cell_type": "code",
        "id": "l39Rz_4Arjhr",
        "outputId": "79503282-832e-4eee-f906-7602ddd5dc60"
      },
      "source": [
        "a = 'this_is_a_abrudly_long_sentense_that_doesnt_seem_to_end_today_or_may_be_tomorrow'\n",
        "b = 'this_is_a_abrudly_long_sentense_that_doesnt_seem_to_end_today_or_may_be_tomorrow'\n",
        "id(a), id(b)"
      ],
      "execution_count": null,
      "outputs": [
        {
          "output_type": "execute_result",
          "data": {
            "text/plain": [
              "(139673917316384, 139673917316384)"
            ]
          },
          "metadata": {
            "tags": []
          },
          "execution_count": 223
        }
      ]
    },
    {
      "cell_type": "code",
      "metadata": {
        "tags": [],
        "cell_id": "00132-0acaa5db-2088-4264-8b48-e9f10dfb4856",
        "deepnote_to_be_reexecuted": false,
        "source_hash": "e69c1a31",
        "execution_start": 1610766901915,
        "execution_millis": 0,
        "deepnote_cell_type": "code",
        "id": "eytOr7iJrjhs",
        "outputId": "24a49fe1-bb16-431a-e736-84cd43da5a9a"
      },
      "source": [
        "a = '1_hello_world'\n",
        "b = '1_hello_world'\n",
        "id(a), id(b)"
      ],
      "execution_count": null,
      "outputs": [
        {
          "output_type": "execute_result",
          "data": {
            "text/plain": [
              "(139673921826416, 139673921826416)"
            ]
          },
          "metadata": {
            "tags": []
          },
          "execution_count": 224
        }
      ]
    },
    {
      "cell_type": "code",
      "metadata": {
        "tags": [],
        "cell_id": "00133-b8a7ef45-4c12-43c6-b653-4d38834d9d7b",
        "deepnote_to_be_reexecuted": false,
        "source_hash": "2284bf2a",
        "execution_start": 1610766917735,
        "execution_millis": 1,
        "deepnote_cell_type": "code",
        "id": "jobZA_1prjht",
        "outputId": "5ffb0a27-2c9f-4226-e697-0bf0373bde31"
      },
      "source": [
        "a = '1 hello_world'\n",
        "b = '1 hello_world'\n",
        "id(a), id(b)"
      ],
      "execution_count": null,
      "outputs": [
        {
          "output_type": "execute_result",
          "data": {
            "text/plain": [
              "(139673921825712, 139673921823984)"
            ]
          },
          "metadata": {
            "tags": []
          },
          "execution_count": 225
        }
      ]
    },
    {
      "cell_type": "code",
      "metadata": {
        "tags": [],
        "cell_id": "00134-571b1ca4-8bf4-4fbd-b0cc-b0ea56e44acb",
        "deepnote_to_be_reexecuted": false,
        "source_hash": "958d1da1",
        "execution_millis": 8,
        "execution_start": 1610766956424,
        "deepnote_cell_type": "code",
        "id": "WpmLTS83rjhv",
        "outputId": "ee654e8b-e475-4e9b-c089-4fc8f67ca4ff"
      },
      "source": [
        "a = 'this_is_a_abrudly_long_sentense_that_doesnt_seem_to_end_today_or_may_be_tomorrow'\n",
        "b = 'this_is_a_abrudly_long_sentense_that_doesnt_seem_to_end_today_or_may_be_tomorrow'\n",
        "print('a==b', a == b)\n",
        "print('a is b', a is b)"
      ],
      "execution_count": null,
      "outputs": [
        {
          "output_type": "stream",
          "text": [
            "a==b True\n",
            "a is b True\n"
          ],
          "name": "stdout"
        }
      ]
    },
    {
      "cell_type": "code",
      "metadata": {
        "tags": [],
        "cell_id": "00135-ec92705b-78d8-4044-a7d5-a321b95ee38b",
        "deepnote_to_be_reexecuted": false,
        "source_hash": "d312736d",
        "execution_start": 1610767001361,
        "execution_millis": 0,
        "deepnote_cell_type": "code",
        "id": "K9ZXUdQ7rjhw"
      },
      "source": [
        "import sys"
      ],
      "execution_count": null,
      "outputs": []
    },
    {
      "cell_type": "code",
      "metadata": {
        "tags": [],
        "cell_id": "00136-03c8de0b-1f6c-4cae-a4f5-0ac760debb81",
        "deepnote_to_be_reexecuted": false,
        "source_hash": "a5610982",
        "execution_start": 1610767034438,
        "execution_millis": 5,
        "deepnote_cell_type": "code",
        "id": "APgkza8Qrjhx",
        "outputId": "7734f67c-f0e8-43b0-8da9-09d9f04331a5"
      },
      "source": [
        "a = sys.intern('hello world')\n",
        "b = sys.intern('hello world')\n",
        "c = 'hello world'\n",
        "\n",
        "id(a), id(b), id(c)"
      ],
      "execution_count": null,
      "outputs": [
        {
          "output_type": "execute_result",
          "data": {
            "text/plain": [
              "(139673922617840, 139673922617840, 139673922619952)"
            ]
          },
          "metadata": {
            "tags": []
          },
          "execution_count": 229
        }
      ]
    },
    {
      "cell_type": "code",
      "metadata": {
        "tags": [],
        "cell_id": "00137-7dba496a-60cf-42ca-9038-416165406547",
        "deepnote_to_be_reexecuted": false,
        "source_hash": "95aeca50",
        "execution_start": 1610767070459,
        "execution_millis": 1,
        "deepnote_cell_type": "code",
        "id": "VhDfn2wjrjhy",
        "outputId": "48d907dc-fad1-45e4-b46f-daf1313f9da0"
      },
      "source": [
        "print('a==b', a == b)\n",
        "print('a is b', a is b)"
      ],
      "execution_count": null,
      "outputs": [
        {
          "output_type": "stream",
          "text": [
            "a==b True\n",
            "a is b True\n"
          ],
          "name": "stdout"
        }
      ]
    },
    {
      "cell_type": "code",
      "metadata": {
        "tags": [],
        "cell_id": "00138-a62dbcb9-3a54-4397-a327-3e5d73137ac1",
        "deepnote_to_be_reexecuted": false,
        "source_hash": "e7dfddcf",
        "execution_start": 1610767079308,
        "execution_millis": 2,
        "deepnote_cell_type": "code",
        "id": "AHrb3EJKrjhy",
        "outputId": "f199043b-6a2f-4736-8239-f8a15f263cc8"
      },
      "source": [
        "print('a==c', a == c)\n",
        "print('a is c', a is c)"
      ],
      "execution_count": null,
      "outputs": [
        {
          "output_type": "stream",
          "text": [
            "a==c True\n",
            "a is c False\n"
          ],
          "name": "stdout"
        }
      ]
    },
    {
      "cell_type": "code",
      "metadata": {
        "tags": [],
        "cell_id": "00139-2342125c-8652-4044-a42e-2c30205814d0",
        "deepnote_to_be_reexecuted": false,
        "source_hash": "ce110207",
        "execution_start": 1610767148815,
        "execution_millis": 0,
        "deepnote_cell_type": "code",
        "id": "p5lvcYW2rjhz"
      },
      "source": [
        "def compare_using_equals(n):\n",
        "    a = 'a long string that is not interned' * 200\n",
        "    b = 'a long string that is not interned' * 200\n",
        "    for i in range(n):\n",
        "        if a == b:\n",
        "            pass"
      ],
      "execution_count": null,
      "outputs": []
    },
    {
      "cell_type": "code",
      "metadata": {
        "tags": [],
        "cell_id": "00140-9e2f6d6c-67e7-4967-8696-49a28abc717c",
        "deepnote_to_be_reexecuted": false,
        "source_hash": "b648584d",
        "execution_millis": 0,
        "execution_start": 1610767170378,
        "deepnote_cell_type": "code",
        "id": "J7aDBiM0rjhz"
      },
      "source": [
        "def compare_using_interning(n):\n",
        "    a = sys.intern('a long string that is not interned' * 200)\n",
        "    b = sys.intern('a long string that is not interned' * 200)\n",
        "    for i in range(n):\n",
        "        if a is b:\n",
        "            pass"
      ],
      "execution_count": null,
      "outputs": []
    },
    {
      "cell_type": "code",
      "metadata": {
        "tags": [],
        "cell_id": "00141-43f7088e-9e27-46db-9d43-b75b455cf20f",
        "deepnote_to_be_reexecuted": false,
        "source_hash": "c34fcd74",
        "execution_millis": 14174,
        "execution_start": 1610767258881,
        "deepnote_cell_type": "code",
        "id": "_HWFc4K6rjh1",
        "outputId": "343c4edf-2d4d-4d79-94e3-12b9d46a6b69"
      },
      "source": [
        "import time\n",
        "\n",
        "start = time.perf_counter()\n",
        "compare_using_equals(100000000)\n",
        "end = time.perf_counter()\n",
        "print(f'Equality time: {end - start}')"
      ],
      "execution_count": null,
      "outputs": [
        {
          "output_type": "stream",
          "text": [
            "Equality time: 14.166366203979123\n"
          ],
          "name": "stdout"
        }
      ]
    },
    {
      "cell_type": "code",
      "metadata": {
        "tags": [],
        "cell_id": "00142-1d9b7b36-482c-48c0-8766-0b07ac7978f5",
        "deepnote_to_be_reexecuted": false,
        "source_hash": "59eb1ab4",
        "execution_millis": 2962,
        "execution_start": 1610767280023,
        "deepnote_cell_type": "code",
        "id": "nbbZDmL7rjh2",
        "outputId": "6b658d6f-5f49-4ef1-a359-6587e8227175"
      },
      "source": [
        "import time\n",
        "\n",
        "start = time.perf_counter()\n",
        "compare_using_interning(100000000)\n",
        "end = time.perf_counter()\n",
        "print(f'Indentity time: {end - start}')"
      ],
      "execution_count": null,
      "outputs": [
        {
          "output_type": "stream",
          "text": [
            "Indentity time: 3.004822214017622\n"
          ],
          "name": "stdout"
        }
      ]
    },
    {
      "cell_type": "markdown",
      "metadata": {
        "tags": [],
        "cell_id": "00143-fba9d70a-2ce9-477c-bcc6-754bae2dd6a0",
        "deepnote_cell_type": "markdown",
        "id": "1fh8cnBLrjh2"
      },
      "source": [
        "### Python Optimizagtions: Peephole"
      ]
    },
    {
      "cell_type": "markdown",
      "metadata": {
        "tags": [],
        "cell_id": "00144-b223280b-86cf-4311-afae-ce0d7658fd8e",
        "deepnote_cell_type": "markdown",
        "id": "Ve-KL3eCrjh3"
      },
      "source": [
        "##### Constant Expressions"
      ]
    },
    {
      "cell_type": "code",
      "metadata": {
        "tags": [],
        "cell_id": "00143-691edbe2-daf3-4efd-8542-98bb6fa28290",
        "deepnote_to_be_reexecuted": false,
        "source_hash": "5f61dd05",
        "execution_millis": 0,
        "execution_start": 1610767662887,
        "deepnote_cell_type": "code",
        "id": "I__iXwDorjh7"
      },
      "source": [
        "def my_func():\n",
        "    a = 20 * 60\n",
        "    b = (1, 2) * 5\n",
        "    c = 'abc' * 3\n",
        "    d = 'ad' * 11\n",
        "    e = 'the quick brown fox' * 10\n",
        "    f = [1, 2] * 5\n"
      ],
      "execution_count": null,
      "outputs": []
    },
    {
      "cell_type": "code",
      "metadata": {
        "tags": [],
        "cell_id": "00146-d3aeccae-4fb2-4336-adc3-4dc4629d4387",
        "deepnote_to_be_reexecuted": false,
        "source_hash": "668307cb",
        "execution_millis": 3,
        "execution_start": 1610767521265,
        "deepnote_cell_type": "code",
        "id": "2RnRnItZrjh7",
        "outputId": "e7a6af3b-538d-466b-b864-16cc7ed9b331"
      },
      "source": [
        "my_func.__code__.co_consts"
      ],
      "execution_count": null,
      "outputs": [
        {
          "output_type": "execute_result",
          "data": {
            "text/plain": [
              "(None,\n",
              " 1200,\n",
              " (1, 2, 1, 2, 1, 2, 1, 2, 1, 2),\n",
              " 'abcabcabc',\n",
              " 'adadadadadadadadadadad',\n",
              " 'the quick brown fox',\n",
              " 10000,\n",
              " 1,\n",
              " 2,\n",
              " 5)"
            ]
          },
          "metadata": {
            "tags": []
          },
          "execution_count": 246
        }
      ]
    },
    {
      "cell_type": "markdown",
      "metadata": {
        "tags": [],
        "cell_id": "00147-7eafd188-98ba-4c7b-a0a4-2c9d399ee1aa",
        "deepnote_cell_type": "markdown",
        "id": "SiqFqhs8rjh8"
      },
      "source": [
        "#### Membership Tests\n",
        "\n"
      ]
    },
    {
      "cell_type": "code",
      "metadata": {
        "tags": [],
        "cell_id": "00147-fa1fd14a-6a09-4e5e-bf7d-97d1fbd8f0f0",
        "deepnote_to_be_reexecuted": false,
        "source_hash": "416ffdb4",
        "execution_start": 1610767462247,
        "execution_millis": 1,
        "deepnote_cell_type": "code",
        "id": "N9qMEIFJrjh9"
      },
      "source": [
        "my_func()"
      ],
      "execution_count": null,
      "outputs": []
    },
    {
      "cell_type": "code",
      "metadata": {
        "tags": [],
        "cell_id": "00148-eb8d4ae3-0e1e-491b-815f-e116a5e7fb71",
        "deepnote_to_be_reexecuted": false,
        "source_hash": "ad79ea3d",
        "execution_start": 1610767615236,
        "execution_millis": 1,
        "deepnote_cell_type": "code",
        "id": "4F0eEG-srjh9"
      },
      "source": [
        "def my_func():\n",
        "    if e in [1, 2, 3]:\n",
        "        pass"
      ],
      "execution_count": null,
      "outputs": []
    },
    {
      "cell_type": "code",
      "metadata": {
        "tags": [],
        "cell_id": "00150-6044c937-bebb-4d7c-8501-bb07fd382849",
        "deepnote_to_be_reexecuted": false,
        "source_hash": "668307cb",
        "execution_start": 1610767623885,
        "execution_millis": 1,
        "deepnote_cell_type": "code",
        "id": "oDFYVIEirjh_",
        "outputId": "e874fe16-4281-45c7-df14-bc0ffa8e4d03"
      },
      "source": [
        "my_func.__code__.co_consts"
      ],
      "execution_count": null,
      "outputs": [
        {
          "output_type": "execute_result",
          "data": {
            "text/plain": [
              "(None, (1, 2, 3))"
            ]
          },
          "metadata": {
            "tags": []
          },
          "execution_count": 248
        }
      ]
    },
    {
      "cell_type": "code",
      "metadata": {
        "tags": [],
        "cell_id": "00151-4e008743-15d0-4080-8f50-c8843eddb566",
        "deepnote_to_be_reexecuted": false,
        "source_hash": "70dffad1",
        "execution_millis": 1,
        "execution_start": 1610767667672,
        "deepnote_cell_type": "code",
        "id": "ofyWlJeirjiA",
        "outputId": "1b62a86c-221a-40db-a393-921c58da6920"
      },
      "source": [
        "print(my_func())"
      ],
      "execution_count": null,
      "outputs": [
        {
          "output_type": "stream",
          "text": [
            "None\n"
          ],
          "name": "stdout"
        }
      ]
    },
    {
      "cell_type": "code",
      "metadata": {
        "tags": [],
        "cell_id": "00152-28e1e77c-4786-4111-9f43-de942cc69164",
        "deepnote_to_be_reexecuted": false,
        "source_hash": "3e799361",
        "execution_start": 1610767757383,
        "execution_millis": 0,
        "deepnote_cell_type": "code",
        "id": "RmLzpDVvrjiB",
        "outputId": "22bfab7d-d03d-4adf-a3e5-b972db8f338a"
      },
      "source": [
        "def my_func():\n",
        "    if e in {1, 2, 3}:\n",
        "        pass\n",
        "\n",
        "my_func.__code__.co_consts"
      ],
      "execution_count": null,
      "outputs": [
        {
          "output_type": "execute_result",
          "data": {
            "text/plain": [
              "(None, frozenset({1, 2, 3}))"
            ]
          },
          "metadata": {
            "tags": []
          },
          "execution_count": 253
        }
      ]
    },
    {
      "cell_type": "code",
      "metadata": {
        "tags": [],
        "cell_id": "00153-97e549ff-88b6-4af8-bf21-a525f2648679",
        "deepnote_to_be_reexecuted": false,
        "source_hash": "909292",
        "execution_millis": 0,
        "execution_start": 1610767826436,
        "deepnote_cell_type": "code",
        "id": "Th5mVbF0rjiC",
        "outputId": "a4c1122a-d5bc-4c84-fffb-ae47c659f551"
      },
      "source": [
        "import string\n",
        "import time\n",
        "\n",
        "char_list = list(string.ascii_letters)\n",
        "char_tuple = tuple(string.ascii_letters)\n",
        "char_set = set(string.ascii_letters)\n",
        "\n",
        "print(char_list)\n",
        "print()\n",
        "print(char_tuple)\n",
        "print()\n",
        "print(char_set)"
      ],
      "execution_count": null,
      "outputs": [
        {
          "output_type": "stream",
          "text": [
            "['a', 'b', 'c', 'd', 'e', 'f', 'g', 'h', 'i', 'j', 'k', 'l', 'm', 'n', 'o', 'p', 'q', 'r', 's', 't', 'u', 'v', 'w', 'x', 'y', 'z', 'A', 'B', 'C', 'D', 'E', 'F', 'G', 'H', 'I', 'J', 'K', 'L', 'M', 'N', 'O', 'P', 'Q', 'R', 'S', 'T', 'U', 'V', 'W', 'X', 'Y', 'Z']\n",
            "\n",
            "('a', 'b', 'c', 'd', 'e', 'f', 'g', 'h', 'i', 'j', 'k', 'l', 'm', 'n', 'o', 'p', 'q', 'r', 's', 't', 'u', 'v', 'w', 'x', 'y', 'z', 'A', 'B', 'C', 'D', 'E', 'F', 'G', 'H', 'I', 'J', 'K', 'L', 'M', 'N', 'O', 'P', 'Q', 'R', 'S', 'T', 'U', 'V', 'W', 'X', 'Y', 'Z')\n",
            "\n",
            "{'a', 'g', 'p', 'X', 'z', 'h', 'r', 'l', 'F', 'Q', 'A', 'j', 'K', 'M', 'N', 'J', 'y', 'm', 'H', 'P', 'e', 'I', 'Y', 'V', 'o', 'u', 'U', 'W', 'f', 'B', 'Z', 'v', 'k', 't', 'L', 'E', 'w', 'c', 'O', 'G', 'd', 'C', 'i', 'q', 'b', 'S', 'n', 's', 'R', 'D', 'T', 'x'}\n"
          ],
          "name": "stdout"
        }
      ]
    },
    {
      "cell_type": "code",
      "metadata": {
        "tags": [],
        "cell_id": "00154-48ffd699-1e98-48e3-b2f1-b2dc9c0c9414",
        "deepnote_to_be_reexecuted": false,
        "source_hash": "6debd1ea",
        "execution_start": 1610767873503,
        "execution_millis": 0,
        "deepnote_cell_type": "code",
        "id": "zqdslZKMrjiD"
      },
      "source": [
        "def membership_test(n, container):\n",
        "    for i in range(n):\n",
        "        if 'p' in container: \n",
        "            pass"
      ],
      "execution_count": null,
      "outputs": []
    },
    {
      "cell_type": "code",
      "metadata": {
        "tags": [],
        "cell_id": "00155-952a375b-8da9-4766-bbeb-2006e3d08083",
        "deepnote_to_be_reexecuted": false,
        "source_hash": "cbbc3376",
        "execution_millis": 2822,
        "execution_start": 1610767946177,
        "deepnote_cell_type": "code",
        "id": "_D7k4ljirjiE",
        "outputId": "d6ea7407-d76f-4e2c-9f4e-1dca72018ba3"
      },
      "source": [
        "start = time.perf_counter()\n",
        "membership_test(10000000, char_list)\n",
        "end = time.perf_counter()\n",
        "print(f'list membership: {end - start}')"
      ],
      "execution_count": null,
      "outputs": [
        {
          "output_type": "stream",
          "text": [
            "list membership: 2.8887458440149203\n"
          ],
          "name": "stdout"
        }
      ]
    },
    {
      "cell_type": "code",
      "metadata": {
        "tags": [],
        "cell_id": "00156-9ed60e35-7cf7-4d11-b78f-8a28c97e6d10",
        "deepnote_to_be_reexecuted": false,
        "source_hash": "a5b8e4fb",
        "execution_millis": 2909,
        "execution_start": 1610767953116,
        "deepnote_cell_type": "code",
        "id": "39XpaVy4rjiF",
        "outputId": "8e3b93fc-b3ad-4ad3-cb96-6287f8191730"
      },
      "source": [
        "start = time.perf_counter()\n",
        "membership_test(10000000, char_tuple)\n",
        "end = time.perf_counter()\n",
        "print(f'tuple membership: {end - start}')"
      ],
      "execution_count": null,
      "outputs": [
        {
          "output_type": "stream",
          "text": [
            "tuple membership: 2.981632637005532\n"
          ],
          "name": "stdout"
        }
      ]
    },
    {
      "cell_type": "code",
      "metadata": {
        "tags": [],
        "cell_id": "00157-97e9681f-6064-465c-a38a-7f5920b7b0eb",
        "deepnote_to_be_reexecuted": false,
        "source_hash": "df1b2fe",
        "execution_start": 1610767971071,
        "execution_millis": 324,
        "deepnote_cell_type": "code",
        "id": "U30CaNmCrjiF",
        "outputId": "230ce98d-b80a-49a7-8f31-baad14da969a"
      },
      "source": [
        "start = time.perf_counter()\n",
        "membership_test(10000000, char_set)\n",
        "end = time.perf_counter()\n",
        "print(f'set membership: {end - start}')"
      ],
      "execution_count": null,
      "outputs": [
        {
          "output_type": "stream",
          "text": [
            "set membership: 0.38675689199590124\n"
          ],
          "name": "stdout"
        }
      ]
    },
    {
      "cell_type": "code",
      "metadata": {
        "tags": [],
        "cell_id": "00158-2d6104c6-2f8c-402b-aa2f-9ea0d7f823a1",
        "deepnote_to_be_reexecuted": false,
        "source_hash": "921fdf76",
        "execution_start": 1610768148902,
        "execution_millis": 5,
        "deepnote_cell_type": "code",
        "id": "CSfHwIrFrjiG",
        "outputId": "e1edeef5-a205-467d-a2e1-571b6bac2660"
      },
      "source": [
        "dd = sys.intern(100)"
      ],
      "execution_count": null,
      "outputs": [
        {
          "output_type": "error",
          "ename": "TypeError",
          "evalue": "intern() argument 1 must be str, not int",
          "traceback": [
            "\u001b[0;31m---------------------------------------------------------------------------\u001b[0m",
            "\u001b[0;31mTypeError\u001b[0m                                 Traceback (most recent call last)",
            "\u001b[0;32m<ipython-input-262-e3baed798b01>\u001b[0m in \u001b[0;36m<module>\u001b[0;34m\u001b[0m\n\u001b[0;32m----> 1\u001b[0;31m \u001b[0mdd\u001b[0m \u001b[0;34m=\u001b[0m \u001b[0msys\u001b[0m\u001b[0;34m.\u001b[0m\u001b[0mintern\u001b[0m\u001b[0;34m(\u001b[0m\u001b[0;36m100\u001b[0m\u001b[0;34m)\u001b[0m\u001b[0;34m\u001b[0m\u001b[0;34m\u001b[0m\u001b[0m\n\u001b[0m",
            "\u001b[0;31mTypeError\u001b[0m: intern() argument 1 must be str, not int"
          ]
        }
      ]
    },
    {
      "cell_type": "code",
      "metadata": {
        "tags": [],
        "cell_id": "00159-9cf5cf51-3964-4e6a-a63b-2896d58adb80",
        "deepnote_cell_type": "code",
        "id": "lFmEJVKkrjiG"
      },
      "source": [
        ""
      ],
      "execution_count": null,
      "outputs": []
    }
  ]
}