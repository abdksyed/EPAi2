{
  "nbformat": 4,
  "nbformat_minor": 0,
  "metadata": {
    "orig_nbformat": 2,
    "deepnote_notebook_id": "65f9ce4a-5f52-41ac-a5c5-4a7634c2300b",
    "deepnote_execution_queue": [],
    "colab": {
      "name": "Session 1 - Quick Refresher.ipynb",
      "provenance": [],
      "include_colab_link": true
    }
  },
  "cells": [
    {
      "cell_type": "markdown",
      "metadata": {
        "id": "view-in-github",
        "colab_type": "text"
      },
      "source": [
        "<a href=\"https://colab.research.google.com/github/abdksyed/EPAi2/blob/main/Session01_Quick_Refresher/notebooks/Session%201%20-%20Quick%20Refresher.ipynb\" target=\"_parent\"><img src=\"https://colab.research.google.com/assets/colab-badge.svg\" alt=\"Open In Colab\"/></a>"
      ]
    },
    {
      "cell_type": "markdown",
      "metadata": {
        "tags": [],
        "cell_id": "00000-0bd57332-30a8-4925-b3c4-46db40337a3b",
        "deepnote_cell_type": "markdown",
        "id": "JM951c13l0kA"
      },
      "source": [
        "# Session 1 - Quick Refresher"
      ]
    },
    {
      "cell_type": "markdown",
      "metadata": {
        "tags": [],
        "cell_id": "00001-209ea1ec-6332-41a2-9909-c3a66c4b60aa",
        "deepnote_cell_type": "markdown",
        "id": "hMERaN2Nl0kF"
      },
      "source": [
        "## Multi-Line Statements and Strings"
      ]
    },
    {
      "cell_type": "code",
      "metadata": {
        "tags": [],
        "cell_id": "00002-3e7b16e7-8efd-4ebc-8a3a-82063163504b",
        "deepnote_to_be_reexecuted": false,
        "source_hash": "7a31dfff",
        "execution_millis": 0,
        "execution_start": 1609551248710,
        "deepnote_cell_type": "code",
        "id": "R_1U-tZHl0kO"
      },
      "source": [
        "a = [1,\n",
        "    2, \n",
        "    3]"
      ],
      "execution_count": null,
      "outputs": []
    },
    {
      "cell_type": "code",
      "metadata": {
        "tags": [],
        "cell_id": "00003-832b701f-03b6-4641-95c8-14c0228a5b25",
        "deepnote_to_be_reexecuted": false,
        "source_hash": "ef4233c",
        "execution_start": 1609551249411,
        "execution_millis": 4,
        "deepnote_cell_type": "code",
        "id": "oFTze2ZPl0kP",
        "outputId": "d1bb378e-bb55-4278-bc98-c7a21bb97d18"
      },
      "source": [
        "a"
      ],
      "execution_count": null,
      "outputs": [
        {
          "output_type": "execute_result",
          "data": {
            "text/plain": [
              "[1, 2, 3]"
            ]
          },
          "metadata": {
            "tags": []
          },
          "execution_count": 4
        }
      ]
    },
    {
      "cell_type": "code",
      "metadata": {
        "tags": [],
        "cell_id": "00004-79d9cbfb-3888-462e-81d9-41fa2c409c97",
        "deepnote_to_be_reexecuted": false,
        "source_hash": "b9beda46",
        "execution_millis": 1,
        "execution_start": 1609551305876,
        "deepnote_cell_type": "code",
        "id": "GRjIbeDFl0kT"
      },
      "source": [
        "a = [1, # first comment\n",
        "    2, # second\n",
        "    3, # third\n",
        "    ] "
      ],
      "execution_count": null,
      "outputs": []
    },
    {
      "cell_type": "code",
      "metadata": {
        "tags": [],
        "cell_id": "00005-6e319b43-1455-40c5-a655-85aa253c3306",
        "deepnote_to_be_reexecuted": false,
        "source_hash": "2efb8062",
        "execution_start": 1609551349190,
        "execution_millis": 0,
        "deepnote_cell_type": "code",
        "id": "-_4lpSs_l0kV"
      },
      "source": [
        "a = (1, # first comment\n",
        "    2, # second\n",
        "    3, # third\n",
        ")"
      ],
      "execution_count": null,
      "outputs": []
    },
    {
      "cell_type": "code",
      "metadata": {
        "tags": [],
        "cell_id": "00006-7fbb97f0-b320-45e5-992a-692028057002",
        "deepnote_to_be_reexecuted": false,
        "source_hash": "eb7911ce",
        "execution_start": 1609551369638,
        "execution_millis": 1,
        "deepnote_cell_type": "code",
        "id": "YVYqVLlbl0kW",
        "outputId": "2e8aefd4-7998-4bb0-f9f5-98e84cd427aa"
      },
      "source": [
        "a = [1, # first element\n",
        "    2 #second element]"
      ],
      "execution_count": null,
      "outputs": [
        {
          "output_type": "error",
          "ename": "SyntaxError",
          "evalue": "unexpected EOF while parsing (<ipython-input-11-6b11c8b986e4>, line 2)",
          "traceback": [
            "\u001b[0;36m  File \u001b[0;32m\"<ipython-input-11-6b11c8b986e4>\"\u001b[0;36m, line \u001b[0;32m2\u001b[0m\n\u001b[0;31m    2 #second element]\u001b[0m\n\u001b[0m                      ^\u001b[0m\n\u001b[0;31mSyntaxError\u001b[0m\u001b[0;31m:\u001b[0m unexpected EOF while parsing\n"
          ]
        }
      ]
    },
    {
      "cell_type": "code",
      "metadata": {
        "tags": [],
        "cell_id": "00007-bb1aa866-454c-4989-86b0-fc857237c01b",
        "deepnote_to_be_reexecuted": false,
        "source_hash": "9063ea5c",
        "execution_start": 1609551380118,
        "execution_millis": 3,
        "deepnote_cell_type": "code",
        "id": "OCxWoEE2l0kW"
      },
      "source": [
        "a = (1, # first element\n",
        "    2, #second element\n",
        "    3, #third element\n",
        "    )"
      ],
      "execution_count": null,
      "outputs": []
    },
    {
      "cell_type": "code",
      "metadata": {
        "tags": [],
        "cell_id": "00008-b02991e3-f9ca-48e7-8580-736f576d9f44",
        "deepnote_to_be_reexecuted": false,
        "source_hash": "ef4233c",
        "execution_start": 1609551468263,
        "execution_millis": 10,
        "deepnote_cell_type": "code",
        "id": "-VpYv8xKl0kX",
        "outputId": "fcbe6a24-16aa-49b2-bde6-3a4afc05e93a"
      },
      "source": [
        "a"
      ],
      "execution_count": null,
      "outputs": [
        {
          "output_type": "execute_result",
          "data": {
            "text/plain": [
              "(1, 2, 3)"
            ]
          },
          "metadata": {
            "tags": []
          },
          "execution_count": 13
        }
      ]
    },
    {
      "cell_type": "code",
      "metadata": {
        "tags": [],
        "cell_id": "00009-2ce818d7-19fa-4829-9348-8cb8c65fd2b6",
        "deepnote_to_be_reexecuted": false,
        "source_hash": "340c91fe",
        "execution_start": 1609551486730,
        "execution_millis": 0,
        "deepnote_cell_type": "code",
        "id": "HEzC5jfXl0kY"
      },
      "source": [
        "a = {1, # first element\n",
        "    2, #second element\n",
        "    }"
      ],
      "execution_count": null,
      "outputs": []
    },
    {
      "cell_type": "code",
      "metadata": {
        "tags": [],
        "cell_id": "00010-2f7a0308-528b-4b77-869e-813c19186729",
        "deepnote_to_be_reexecuted": false,
        "source_hash": "ef4233c",
        "execution_start": 1609551490148,
        "execution_millis": 4,
        "deepnote_cell_type": "code",
        "id": "nICEoHFul0kZ",
        "outputId": "17acb4d7-8726-4b9b-b28c-f1ae1e527f0e"
      },
      "source": [
        "a"
      ],
      "execution_count": null,
      "outputs": [
        {
          "output_type": "execute_result",
          "data": {
            "text/plain": [
              "{1, 2}"
            ]
          },
          "metadata": {
            "tags": []
          },
          "execution_count": 15
        }
      ]
    },
    {
      "cell_type": "code",
      "metadata": {
        "tags": [],
        "cell_id": "00011-104e502a-4265-4b7c-a7d7-4d218dc0d477",
        "deepnote_to_be_reexecuted": false,
        "source_hash": "676f6055",
        "execution_millis": 9,
        "execution_start": 1609551518695,
        "deepnote_cell_type": "code",
        "id": "4piUtqOhl0ka"
      },
      "source": [
        "a = {'key1': 'value1', #comment\n",
        "    'key2': # secrect key for aws access\n",
        "    'value2' #comment\n",
        "    }"
      ],
      "execution_count": null,
      "outputs": []
    },
    {
      "cell_type": "code",
      "metadata": {
        "tags": [],
        "cell_id": "00012-97967b9e-d756-41eb-b8d7-26c954466e4f",
        "deepnote_to_be_reexecuted": false,
        "source_hash": "ef4233c",
        "execution_start": 1609551521595,
        "execution_millis": 10,
        "deepnote_cell_type": "code",
        "id": "4YKQJaJBl0kb",
        "outputId": "62c31e5c-16df-4e67-e9c7-57fef7cf849b"
      },
      "source": [
        "a"
      ],
      "execution_count": null,
      "outputs": [
        {
          "output_type": "execute_result",
          "data": {
            "text/plain": [
              "{'key1': 'value1', 'key2': 'value2'}"
            ]
          },
          "metadata": {
            "tags": []
          },
          "execution_count": 18
        }
      ]
    },
    {
      "cell_type": "code",
      "metadata": {
        "tags": [],
        "cell_id": "00013-b0dc64fa-daf7-42dc-8b55-3717a3a651cf",
        "deepnote_to_be_reexecuted": false,
        "source_hash": "f6a74154",
        "execution_millis": 0,
        "execution_start": 1609551627766,
        "deepnote_cell_type": "code",
        "id": "7dcedaeZl0kc"
      },
      "source": [
        "a = {\n",
        "    1, # first element\n",
        "    2, #second element \n",
        "    }\n",
        "    "
      ],
      "execution_count": null,
      "outputs": []
    },
    {
      "cell_type": "code",
      "metadata": {
        "tags": [],
        "cell_id": "00014-c7abf2db-5a09-4b28-97ad-b6ff27506de7",
        "deepnote_to_be_reexecuted": false,
        "source_hash": "9d9148f",
        "execution_millis": 0,
        "execution_start": 1609551730310,
        "deepnote_cell_type": "code",
        "id": "eYQ8VGkAl0kc"
      },
      "source": [
        "def my_func(a, #some comment\n",
        "            b, # some comment 2\n",
        "            c # some comment for this also\n",
        "            ):\n",
        "    print(a, b, c)"
      ],
      "execution_count": null,
      "outputs": []
    },
    {
      "cell_type": "code",
      "metadata": {
        "tags": [],
        "cell_id": "00015-7c86132f-ac33-4065-981e-ce40d8bbce5d",
        "deepnote_to_be_reexecuted": false,
        "source_hash": "564b2e18",
        "execution_millis": 0,
        "execution_start": 1609551773933,
        "deepnote_cell_type": "code",
        "id": "CogMiBkLl0kd",
        "outputId": "8328b331-67b5-47d5-8b27-dd80bdb21013"
      },
      "source": [
        "my_func(1, # this is a random input\n",
        "        2, # this was used to check the boundary condition\n",
        "        43)"
      ],
      "execution_count": null,
      "outputs": [
        {
          "output_type": "stream",
          "text": [
            "1 2 43\n"
          ],
          "name": "stdout"
        }
      ]
    },
    {
      "cell_type": "code",
      "metadata": {
        "tags": [],
        "cell_id": "00016-18d16844-c56f-4a9a-b0c6-d582d91dc1e6",
        "deepnote_to_be_reexecuted": false,
        "source_hash": "47d8ddcf",
        "execution_millis": 14,
        "execution_start": 1609551871185,
        "deepnote_cell_type": "code",
        "id": "MrIL64Otl0kd",
        "outputId": "13340693-717b-4f5f-c41e-8818fdad9ff4"
      },
      "source": [
        "a = 10\n",
        "b = 20\n",
        "c = 30\n",
        "\n",
        "if a > 5 \\\n",
        "    and b > 10 \\\n",
        "    and c > 20:\n",
        "    print('yeah!!')"
      ],
      "execution_count": null,
      "outputs": [
        {
          "output_type": "stream",
          "text": [
            "yeah!!\n"
          ],
          "name": "stdout"
        }
      ]
    },
    {
      "cell_type": "code",
      "metadata": {
        "tags": [],
        "cell_id": "00017-e44de42a-3db1-4a08-a0f4-84e22ba74efc",
        "deepnote_to_be_reexecuted": false,
        "source_hash": "dc82f6c1",
        "execution_start": 1609551899838,
        "execution_millis": 0,
        "deepnote_cell_type": "code",
        "id": "5GyG4Tx4l0ke",
        "outputId": "6c6bf68a-f7bd-40f3-a5b1-540d58e917a8"
      },
      "source": [
        "a = 10\n",
        "b = 20\n",
        "c = 30\n",
        "\n",
        "if a > 5 \\\n",
        "                        and b > 10 \\\n",
        "                                                    and c > 20:\n",
        "    print('yeah!!')\n",
        "\n",
        "# not recommended!"
      ],
      "execution_count": null,
      "outputs": [
        {
          "output_type": "stream",
          "text": [
            "yeah!!\n"
          ],
          "name": "stdout"
        }
      ]
    },
    {
      "cell_type": "code",
      "metadata": {
        "tags": [],
        "cell_id": "00018-22bece86-b94e-4d34-8e90-9a854a335021",
        "deepnote_to_be_reexecuted": false,
        "source_hash": "200344cf",
        "execution_millis": 0,
        "execution_start": 1609551997302,
        "deepnote_cell_type": "code",
        "id": "E1A6MGGxl0kf"
      },
      "source": [
        "a = '''this is \n",
        "a new year called \n",
        "2021'''"
      ],
      "execution_count": null,
      "outputs": []
    },
    {
      "cell_type": "code",
      "metadata": {
        "tags": [],
        "cell_id": "00019-18cbdb05-35a4-4276-b884-20d84d015238",
        "deepnote_to_be_reexecuted": false,
        "source_hash": "3791362",
        "execution_millis": 3,
        "execution_start": 1609552010930,
        "deepnote_cell_type": "code",
        "id": "GT7mJljel0kf",
        "outputId": "1fe0e2af-8b18-4f2b-8f18-5bbdd32fa018"
      },
      "source": [
        "print(a)"
      ],
      "execution_count": null,
      "outputs": [
        {
          "output_type": "stream",
          "text": [
            "this is \n",
            "a new year called \n",
            "2021\n"
          ],
          "name": "stdout"
        }
      ]
    },
    {
      "cell_type": "code",
      "metadata": {
        "tags": [],
        "cell_id": "00020-c720ed69-0370-4038-b67b-d651baebae71",
        "deepnote_to_be_reexecuted": false,
        "source_hash": "ef4233c",
        "execution_start": 1609552036730,
        "execution_millis": 0,
        "deepnote_cell_type": "code",
        "id": "-GCf1r4Vl0kg",
        "outputId": "d83975f5-7016-4014-9ef2-f048cd4c158f"
      },
      "source": [
        "a"
      ],
      "execution_count": null,
      "outputs": [
        {
          "output_type": "execute_result",
          "data": {
            "text/plain": [
              "'this is \\na new year called \\n2021'"
            ]
          },
          "metadata": {
            "tags": []
          },
          "execution_count": 42
        }
      ]
    },
    {
      "cell_type": "code",
      "metadata": {
        "tags": [],
        "cell_id": "00021-85936558-2341-4091-a366-32a00f7d82b3",
        "deepnote_to_be_reexecuted": false,
        "source_hash": "1ccc7688",
        "execution_start": 1609552076298,
        "execution_millis": 0,
        "deepnote_cell_type": "code",
        "id": "Ek7Dnc1-l0kh",
        "outputId": "b5d125ce-8375-48ed-d9f6-918f5878d18b"
      },
      "source": [
        "a = \"\"\"some items:\\n\n",
        "        1. item 1\n",
        "        2. item 2\"\"\"\n",
        "\n",
        "a"
      ],
      "execution_count": null,
      "outputs": [
        {
          "output_type": "execute_result",
          "data": {
            "text/plain": [
              "'some items:\\n\\n        1. item 1\\n        2. item 2'"
            ]
          },
          "metadata": {
            "tags": []
          },
          "execution_count": 43
        }
      ]
    },
    {
      "cell_type": "code",
      "metadata": {
        "tags": [],
        "cell_id": "00022-99d5e7fc-d48a-45d0-8f29-adbcb97b81c6",
        "deepnote_to_be_reexecuted": false,
        "source_hash": "3791362",
        "execution_start": 1609552098306,
        "execution_millis": 4,
        "deepnote_cell_type": "code",
        "id": "aNNS_dm-l0kh",
        "outputId": "89a1f632-4e67-45e3-8058-240c47e3b1c1"
      },
      "source": [
        "print(a)"
      ],
      "execution_count": null,
      "outputs": [
        {
          "output_type": "stream",
          "text": [
            "some items:\n",
            "\n",
            "        1. item 1\n",
            "        2. item 2\n"
          ],
          "name": "stdout"
        }
      ]
    },
    {
      "cell_type": "code",
      "metadata": {
        "tags": [],
        "cell_id": "00023-7c81ca9e-cd20-4f2b-8e5f-eebce4724eb2",
        "deepnote_to_be_reexecuted": false,
        "source_hash": "c2444663",
        "execution_start": 1609552144322,
        "execution_millis": 0,
        "deepnote_cell_type": "code",
        "id": "0H83z5ABl0ki",
        "outputId": "63f92698-cbf7-4459-f7b0-deed4073b8ae"
      },
      "source": [
        "def my_func():\n",
        "    a = '''a multi-line string\n",
        "    that is actually indented in the second line'''\n",
        "    return a\n",
        "\n",
        "print(my_func())"
      ],
      "execution_count": null,
      "outputs": [
        {
          "output_type": "stream",
          "text": [
            "a multi-line string\n",
            "    that is actually indented in the second line\n"
          ],
          "name": "stdout"
        }
      ]
    },
    {
      "cell_type": "code",
      "metadata": {
        "tags": [],
        "cell_id": "00024-69774488-5f3f-4d9f-9148-41a71e418769",
        "deepnote_to_be_reexecuted": false,
        "source_hash": "ce7ded7f",
        "execution_start": 1609552181822,
        "execution_millis": 0,
        "deepnote_cell_type": "code",
        "id": "TgrfAL0pl0kj",
        "outputId": "31dc506b-373c-4f30-f428-8f4bc86cd76d"
      },
      "source": [
        "'''a multi-line string\n",
        "    that is actually indented in the second line'''"
      ],
      "execution_count": null,
      "outputs": [
        {
          "output_type": "execute_result",
          "data": {
            "text/plain": [
              "'a multi-line string\\n    that is actually indented in the second line'"
            ]
          },
          "metadata": {
            "tags": []
          },
          "execution_count": 46
        }
      ]
    },
    {
      "cell_type": "code",
      "metadata": {
        "tags": [],
        "cell_id": "00026-742d5898-a567-4137-b949-b0938fd5588a",
        "deepnote_to_be_reexecuted": false,
        "source_hash": "d6bd2229",
        "execution_start": 1609552283057,
        "execution_millis": 2,
        "deepnote_cell_type": "code",
        "id": "tygx6YiCl0lO",
        "outputId": "58439398-1bfa-4d56-ea7f-7b161169cfaf"
      },
      "source": [
        "'''this is an orphan string'''"
      ],
      "execution_count": null,
      "outputs": [
        {
          "output_type": "execute_result",
          "data": {
            "text/plain": [
              "'this is an orphan string'"
            ]
          },
          "metadata": {
            "tags": []
          },
          "execution_count": 48
        }
      ]
    },
    {
      "cell_type": "code",
      "metadata": {
        "tags": [],
        "cell_id": "00027-3b0df877-1529-42f7-971e-bf949d7d59ba",
        "deepnote_to_be_reexecuted": false,
        "source_hash": "a7b6450a",
        "execution_start": 1609552288854,
        "execution_millis": 0,
        "deepnote_cell_type": "code",
        "id": "yv0iIIsWl0ld",
        "outputId": "67d4a6a2-d812-45aa-f820-fe7ea3115666"
      },
      "source": [
        "123123123123"
      ],
      "execution_count": null,
      "outputs": [
        {
          "output_type": "execute_result",
          "data": {
            "text/plain": [
              "123123123123"
            ]
          },
          "metadata": {
            "tags": []
          },
          "execution_count": 49
        }
      ]
    },
    {
      "cell_type": "code",
      "metadata": {
        "tags": [],
        "cell_id": "00028-3d5b98de-2cc8-423e-83df-3b6c2193872e",
        "deepnote_to_be_reexecuted": false,
        "source_hash": "a0d7b670",
        "execution_start": 1609552325854,
        "execution_millis": 0,
        "deepnote_cell_type": "code",
        "id": "SkPfkipQl0le",
        "outputId": "ed5bc89a-2082-466e-9b3c-a49c6c96c98a"
      },
      "source": [
        "'''this is an orphan \\\n",
        "string'''"
      ],
      "execution_count": null,
      "outputs": [
        {
          "output_type": "execute_result",
          "data": {
            "text/plain": [
              "'this is an orphan string'"
            ]
          },
          "metadata": {
            "tags": []
          },
          "execution_count": 50
        }
      ]
    },
    {
      "cell_type": "code",
      "metadata": {
        "tags": [],
        "cell_id": "00029-22939d63-4a51-45c0-95d1-8a34044d6b9d",
        "deepnote_to_be_reexecuted": false,
        "source_hash": "1fea7109",
        "execution_start": 1609552378952,
        "execution_millis": 0,
        "deepnote_cell_type": "code",
        "id": "Zw00oeoQl0lf"
      },
      "source": [
        "# WYSIWYG\n",
        "\n",
        "import math\n"
      ],
      "execution_count": null,
      "outputs": []
    },
    {
      "cell_type": "code",
      "metadata": {
        "tags": [],
        "cell_id": "00030-83819dee-0bc9-448f-8dab-e9239267d470",
        "deepnote_to_be_reexecuted": false,
        "source_hash": "c159d4b6",
        "execution_start": 1609552390933,
        "execution_millis": 5,
        "deepnote_cell_type": "code",
        "id": "5Uc9z9wSl0lf",
        "outputId": "6e30de9f-4415-40d7-ac31-b321fba4133c"
      },
      "source": [
        "math.cos(1.0)"
      ],
      "execution_count": null,
      "outputs": [
        {
          "output_type": "execute_result",
          "data": {
            "text/plain": [
              "0.5403023058681398"
            ]
          },
          "metadata": {
            "tags": []
          },
          "execution_count": 52
        }
      ]
    },
    {
      "cell_type": "code",
      "metadata": {
        "tags": [],
        "cell_id": "00031-02f87c83-5023-442b-af1f-d9de3ed9f850",
        "deepnote_to_be_reexecuted": false,
        "source_hash": "3b739823",
        "execution_start": 1609552609174,
        "execution_millis": 1,
        "deepnote_cell_type": "code",
        "id": "KgHyCW4rl0lg"
      },
      "source": [
        "# this is\n",
        "#    a multi-line\n",
        "#    comment"
      ],
      "execution_count": null,
      "outputs": []
    },
    {
      "cell_type": "code",
      "metadata": {
        "tags": [],
        "cell_id": "00032-5e129249-96db-4b6d-8bee-88845019861d",
        "deepnote_to_be_reexecuted": false,
        "source_hash": "9f1a434b",
        "execution_start": 1609552633822,
        "execution_millis": 0,
        "deepnote_cell_type": "code",
        "id": "btW_L3Ogl0lh"
      },
      "source": [
        "# this is\n",
        "    # a multi-line\n",
        "    # comment"
      ],
      "execution_count": null,
      "outputs": []
    },
    {
      "cell_type": "code",
      "metadata": {
        "tags": [],
        "cell_id": "00033-952df75d-6a09-41cc-9541-fc5cc0bb562f",
        "deepnote_to_be_reexecuted": false,
        "source_hash": "e46f7b0",
        "execution_start": 1609552663990,
        "execution_millis": 0,
        "deepnote_cell_type": "code",
        "id": "QJKYqp0Zl0lh",
        "outputId": "29adf98f-f650-4809-a238-07384076a362"
      },
      "source": [
        "a = 2\n",
        "if a < 3:\n",
        "    print('a < 3')\n",
        "else:\n",
        "    print('a >= 3')"
      ],
      "execution_count": null,
      "outputs": [
        {
          "output_type": "stream",
          "text": [
            "a < 3\n"
          ],
          "name": "stdout"
        }
      ]
    },
    {
      "cell_type": "code",
      "metadata": {
        "tags": [],
        "cell_id": "00034-9db98a24-00cf-4bee-bf6b-d5574e8e8e27",
        "deepnote_to_be_reexecuted": false,
        "source_hash": "b725e54a",
        "execution_start": 1609552699702,
        "execution_millis": 3,
        "deepnote_cell_type": "code",
        "id": "fQpbUOhwl0li",
        "outputId": "994b0d5c-7c4a-4df5-8096-c60a4e824d3e"
      },
      "source": [
        "a = 15\n",
        "\n",
        "if a < 5:\n",
        "    print('a < 5')\n",
        "else:\n",
        "    if a < 10:\n",
        "        print('a < 10')\n",
        "    else:\n",
        "        print('a >=10')"
      ],
      "execution_count": null,
      "outputs": [
        {
          "output_type": "stream",
          "text": [
            "a >=10\n"
          ],
          "name": "stdout"
        }
      ]
    },
    {
      "cell_type": "code",
      "metadata": {
        "tags": [],
        "cell_id": "00035-48a91a07-6506-4aa2-8f11-d4496ac0a494",
        "deepnote_to_be_reexecuted": false,
        "source_hash": "b132694c",
        "execution_start": 1609552736726,
        "execution_millis": 0,
        "deepnote_cell_type": "code",
        "id": "EqmBQq9Tl0lj",
        "outputId": "6fa3bd7d-444c-4855-f583-f6e5c0b5382f"
      },
      "source": [
        "a = 15\n",
        "\n",
        "if a < 5:\n",
        "    print('a < 5')\n",
        "elif a < 10:\n",
        "    print('a < 10')\n",
        "else:\n",
        "    print('a >= 10')"
      ],
      "execution_count": null,
      "outputs": [
        {
          "output_type": "stream",
          "text": [
            "a >= 10\n"
          ],
          "name": "stdout"
        }
      ]
    },
    {
      "cell_type": "code",
      "metadata": {
        "tags": [],
        "cell_id": "00036-e0d9fa78-f988-4ddc-b882-8e482d52ee79",
        "deepnote_to_be_reexecuted": false,
        "source_hash": "ec235dd9",
        "execution_millis": 0,
        "execution_start": 1609552889198,
        "deepnote_cell_type": "code",
        "id": "ASnrA9Q5l0lj"
      },
      "source": [
        "a = {'key1': lambda a, b: a + b }"
      ],
      "execution_count": null,
      "outputs": []
    },
    {
      "cell_type": "code",
      "metadata": {
        "tags": [],
        "cell_id": "00037-0c7bf0d9-554c-48da-9381-3bd26db7bf2b",
        "deepnote_to_be_reexecuted": false,
        "source_hash": "773407e",
        "execution_millis": 0,
        "execution_start": 1609552931930,
        "deepnote_cell_type": "code",
        "id": "6pi6hkhZl0lk"
      },
      "source": [
        "r = lambda a, b: a + b"
      ],
      "execution_count": null,
      "outputs": []
    },
    {
      "cell_type": "code",
      "metadata": {
        "tags": [],
        "cell_id": "00038-5812467d-f560-449c-b218-20e7753e3828",
        "deepnote_to_be_reexecuted": false,
        "source_hash": "e03fedae",
        "execution_start": 1609552936027,
        "execution_millis": 4,
        "deepnote_cell_type": "code",
        "id": "dOYbAoinl0lk",
        "outputId": "fe2a310c-65d9-453c-db0c-b77d6c0444bf"
      },
      "source": [
        "r(1, 2)"
      ],
      "execution_count": null,
      "outputs": [
        {
          "output_type": "execute_result",
          "data": {
            "text/plain": [
              "3"
            ]
          },
          "metadata": {
            "tags": []
          },
          "execution_count": 62
        }
      ]
    },
    {
      "cell_type": "code",
      "metadata": {
        "tags": [],
        "cell_id": "00039-815ff491-22a0-4764-8756-1110d0e77295",
        "deepnote_to_be_reexecuted": false,
        "source_hash": "8a331e5d",
        "execution_millis": 0,
        "execution_start": 1609553216050,
        "deepnote_cell_type": "code",
        "id": "9IBSwnWhl0ll",
        "outputId": "26fd862d-75b6-4892-a151-f6826367ac12"
      },
      "source": [
        "a = 5\n",
        "res = 'a < 10' if a < 10 else 'a >= 10'\n",
        "print(res)"
      ],
      "execution_count": null,
      "outputs": [
        {
          "output_type": "stream",
          "text": [
            "a < 10\n"
          ],
          "name": "stdout"
        }
      ]
    },
    {
      "cell_type": "code",
      "metadata": {
        "tags": [],
        "cell_id": "00040-468d5737-88c0-4603-a925-173df880122b",
        "deepnote_to_be_reexecuted": false,
        "source_hash": "9af52139",
        "execution_start": 1609553227867,
        "execution_millis": 13,
        "deepnote_cell_type": "code",
        "id": "-nl1ZbFSl0lm",
        "outputId": "c7ae305d-c629-4f49-ae7b-d86210f36b58"
      },
      "source": [
        "a = 15\n",
        "res = 'a < 10' if a < 10 else 'a >= 10'\n",
        "print(res)"
      ],
      "execution_count": null,
      "outputs": [
        {
          "output_type": "stream",
          "text": [
            "a >= 10\n"
          ],
          "name": "stdout"
        }
      ]
    },
    {
      "cell_type": "code",
      "metadata": {
        "tags": [],
        "cell_id": "00041-b0a9301a-3847-4016-bafa-7f4e35beb981",
        "deepnote_to_be_reexecuted": false,
        "source_hash": "fef5b983",
        "execution_start": 1609553252054,
        "execution_millis": 0,
        "deepnote_cell_type": "code",
        "id": "w6R42mQEl0lm"
      },
      "source": [
        "def say_hello():\n",
        "    print('Hello!')\n",
        "    \n",
        "def say_goodbye():\n",
        "    print('Goodbye!')"
      ],
      "execution_count": null,
      "outputs": []
    },
    {
      "cell_type": "code",
      "metadata": {
        "tags": [],
        "cell_id": "00042-d75ba7c1-eaf7-4fbc-b80d-4f3be1b6bce4",
        "deepnote_to_be_reexecuted": false,
        "source_hash": "57914f95",
        "execution_millis": 0,
        "execution_start": 1609553306178,
        "deepnote_cell_type": "code",
        "id": "HsLpVp7gl0lm",
        "outputId": "9ea86529-fee9-42be-e78c-e804ceb76d75"
      },
      "source": [
        "a = 5\n",
        "\n",
        "say_hello() if a < 10 else say_goodbye()"
      ],
      "execution_count": null,
      "outputs": [
        {
          "output_type": "stream",
          "text": [
            "Hello!\n"
          ],
          "name": "stdout"
        }
      ]
    },
    {
      "cell_type": "code",
      "metadata": {
        "tags": [],
        "cell_id": "00043-3de7c980-e782-4ac3-9e78-8df3bdea6573",
        "deepnote_to_be_reexecuted": false,
        "source_hash": "84e84a99",
        "execution_millis": 8,
        "execution_start": 1609553321407,
        "deepnote_cell_type": "code",
        "id": "WGtEHnwQl0ln",
        "outputId": "9d9b14d2-0115-4b0f-d5ee-7a9d29c76955"
      },
      "source": [
        "a = 15\n",
        "say_hello() if a < 10 else say_goodbye()"
      ],
      "execution_count": null,
      "outputs": [
        {
          "output_type": "stream",
          "text": [
            "Goodbye!\n"
          ],
          "name": "stdout"
        }
      ]
    },
    {
      "cell_type": "code",
      "metadata": {
        "tags": [],
        "cell_id": "00044-8ae30df0-0a3f-48ad-88de-9c240bddb01b",
        "deepnote_to_be_reexecuted": false,
        "source_hash": "b0e63c1c",
        "execution_start": 1609553342682,
        "execution_millis": 11,
        "deepnote_cell_type": "code",
        "id": "SVotR5Kkl0lo",
        "outputId": "990a30eb-1fe4-4429-ed93-0292165d58a1"
      },
      "source": [
        "s = [1, 2, 3]\n",
        "len(s)"
      ],
      "execution_count": null,
      "outputs": [
        {
          "output_type": "execute_result",
          "data": {
            "text/plain": [
              "3"
            ]
          },
          "metadata": {
            "tags": []
          },
          "execution_count": 82
        }
      ]
    },
    {
      "cell_type": "code",
      "metadata": {
        "tags": [],
        "cell_id": "00045-3ca63202-492a-46f9-a7aa-ed6f152fe7b7",
        "deepnote_to_be_reexecuted": false,
        "source_hash": "887ad7a6",
        "execution_millis": 1,
        "execution_start": 1609553374423,
        "deepnote_cell_type": "code",
        "id": "HouSFQ1Nl0lp",
        "outputId": "97ac4c11-17c8-41ec-ca23-da84db641bd5"
      },
      "source": [
        "from math import sqrt\n",
        "\n",
        "sqrt(4)"
      ],
      "execution_count": null,
      "outputs": [
        {
          "output_type": "execute_result",
          "data": {
            "text/plain": [
              "2.0"
            ]
          },
          "metadata": {
            "tags": []
          },
          "execution_count": 84
        }
      ]
    },
    {
      "cell_type": "code",
      "metadata": {
        "tags": [],
        "cell_id": "00046-cece2626-a094-4c48-bb6d-3e75b22c9f4b",
        "deepnote_to_be_reexecuted": false,
        "source_hash": "85ac3446",
        "execution_start": 1609553381397,
        "execution_millis": 3,
        "deepnote_cell_type": "code",
        "id": "y4drBxGJl0lp"
      },
      "source": [
        "import math "
      ],
      "execution_count": null,
      "outputs": []
    },
    {
      "cell_type": "code",
      "metadata": {
        "tags": [],
        "cell_id": "00047-61e22dca-33b0-426f-aec7-f35cf487f23b",
        "deepnote_to_be_reexecuted": false,
        "source_hash": "b683747e",
        "execution_start": 1609553402398,
        "execution_millis": 0,
        "deepnote_cell_type": "code",
        "id": "NJaALJxTl0lq",
        "outputId": "0364dc8f-1e0c-4f87-d206-36590e59cd06"
      },
      "source": [
        "math.exp(1)"
      ],
      "execution_count": null,
      "outputs": [
        {
          "output_type": "execute_result",
          "data": {
            "text/plain": [
              "2.718281828459045"
            ]
          },
          "metadata": {
            "tags": []
          },
          "execution_count": 86
        }
      ]
    },
    {
      "cell_type": "code",
      "metadata": {
        "tags": [],
        "cell_id": "00048-3dc51d37-a760-434f-bb1d-95b29b6f3b65",
        "deepnote_to_be_reexecuted": false,
        "source_hash": "f2495629",
        "execution_start": 1609553415967,
        "execution_millis": 8,
        "deepnote_cell_type": "code",
        "id": "b3DcBtcrl0lr",
        "outputId": "227f3691-a095-4065-e05c-660e2292edbb"
      },
      "source": [
        "def func_1():\n",
        "    print('running func1')\n",
        "\n",
        "func_1()"
      ],
      "execution_count": null,
      "outputs": [
        {
          "output_type": "stream",
          "text": [
            "running func1\n"
          ],
          "name": "stdout"
        }
      ]
    },
    {
      "cell_type": "code",
      "metadata": {
        "tags": [],
        "cell_id": "00049-7e6fa56e-4bc0-4431-9268-86245aa88880",
        "deepnote_to_be_reexecuted": false,
        "source_hash": "ff652b99",
        "execution_start": 1609553419045,
        "execution_millis": 2,
        "deepnote_cell_type": "code",
        "id": "d307XP5Ul0ls",
        "outputId": "b88c2649-70d8-496c-8f76-7b57d6014b44"
      },
      "source": [
        "func_1"
      ],
      "execution_count": null,
      "outputs": [
        {
          "output_type": "execute_result",
          "data": {
            "text/plain": [
              "<function __main__.func_1()>"
            ]
          },
          "metadata": {
            "tags": []
          },
          "execution_count": 88
        }
      ]
    },
    {
      "cell_type": "code",
      "metadata": {
        "tags": [],
        "cell_id": "00050-14dc57c9-0fda-4757-9334-38572832c172",
        "deepnote_to_be_reexecuted": false,
        "source_hash": "8db11c4c",
        "execution_start": 1609553447926,
        "execution_millis": 0,
        "deepnote_cell_type": "code",
        "id": "FtmZUWWnl0ls"
      },
      "source": [
        "res = 'a < 10' if a < 10 else '4' if  a==5  else 'a >=10'"
      ],
      "execution_count": null,
      "outputs": []
    },
    {
      "cell_type": "code",
      "metadata": {
        "tags": [],
        "cell_id": "00051-8149f25d-bbb8-4b0f-a555-9980bf39563e",
        "deepnote_to_be_reexecuted": false,
        "source_hash": "e2ce9a6d",
        "execution_start": 1609553452368,
        "execution_millis": 7,
        "deepnote_cell_type": "code",
        "id": "k-dbPn5Wl0lt",
        "outputId": "7b75ac90-26b1-47c5-a79f-a1adc701145d"
      },
      "source": [
        "res"
      ],
      "execution_count": null,
      "outputs": [
        {
          "output_type": "execute_result",
          "data": {
            "text/plain": [
              "'a >=10'"
            ]
          },
          "metadata": {
            "tags": []
          },
          "execution_count": 90
        }
      ]
    },
    {
      "cell_type": "code",
      "metadata": {
        "tags": [],
        "cell_id": "00052-336b0431-5064-483b-9a87-53c837384bd4",
        "deepnote_to_be_reexecuted": false,
        "source_hash": "e6a38c35",
        "execution_millis": 0,
        "execution_start": 1609553507025,
        "deepnote_cell_type": "code",
        "id": "69dV6Ahwl0lt",
        "outputId": "c0bbc77b-316e-4530-fc3d-dd9e53bf6f72"
      },
      "source": [
        "func_1() # calling or invoking"
      ],
      "execution_count": null,
      "outputs": [
        {
          "output_type": "stream",
          "text": [
            "running func1\n"
          ],
          "name": "stdout"
        }
      ]
    },
    {
      "cell_type": "code",
      "metadata": {
        "tags": [],
        "cell_id": "00053-cccad3b7-b6c9-4776-b886-d92b97d20d8d",
        "deepnote_to_be_reexecuted": false,
        "source_hash": "ff652b99",
        "execution_start": 1609553516050,
        "execution_millis": 0,
        "deepnote_cell_type": "code",
        "id": "KSC9FUBHl0lu",
        "outputId": "8757fc3d-dc6e-485f-b9e1-1c0f14dd036e"
      },
      "source": [
        "func_1"
      ],
      "execution_count": null,
      "outputs": [
        {
          "output_type": "execute_result",
          "data": {
            "text/plain": [
              "<function __main__.func_1()>"
            ]
          },
          "metadata": {
            "tags": []
          },
          "execution_count": 93
        }
      ]
    },
    {
      "cell_type": "code",
      "metadata": {
        "tags": [],
        "cell_id": "00054-09098863-4e91-4534-811a-81cdb694f72f",
        "deepnote_to_be_reexecuted": false,
        "source_hash": "49744952",
        "execution_start": 1609553590478,
        "execution_millis": 0,
        "deepnote_cell_type": "code",
        "id": "dUx0qm0Jl0lv"
      },
      "source": [
        "def func_2(a, b):\n",
        "    return a * b"
      ],
      "execution_count": null,
      "outputs": []
    },
    {
      "cell_type": "code",
      "metadata": {
        "tags": [],
        "cell_id": "00055-7e14890d-e0cb-4b4e-8dfd-2583dcb1eff4",
        "deepnote_to_be_reexecuted": false,
        "source_hash": "44f2e132",
        "execution_millis": 0,
        "execution_start": 1609553656634,
        "deepnote_cell_type": "code",
        "id": "KTz9gz88l0lv",
        "outputId": "39b28525-4732-41a4-a5d3-a05c42ed5503"
      },
      "source": [
        "func_2(3, 2)"
      ],
      "execution_count": null,
      "outputs": [
        {
          "output_type": "execute_result",
          "data": {
            "text/plain": [
              "6"
            ]
          },
          "metadata": {
            "tags": []
          },
          "execution_count": 97
        }
      ]
    },
    {
      "cell_type": "code",
      "metadata": {
        "tags": [],
        "cell_id": "00056-12c4c3c2-e0c0-43bd-a9c4-8f8a49ec7ff6",
        "deepnote_to_be_reexecuted": false,
        "source_hash": "7e9ad0a5",
        "execution_start": 1609553686042,
        "execution_millis": 0,
        "deepnote_cell_type": "code",
        "id": "sCMyOOe0l0lw",
        "outputId": "30626a9c-5c01-480d-c08e-1672633c7058"
      },
      "source": [
        "func_2('a', 3)"
      ],
      "execution_count": null,
      "outputs": [
        {
          "output_type": "execute_result",
          "data": {
            "text/plain": [
              "'aaa'"
            ]
          },
          "metadata": {
            "tags": []
          },
          "execution_count": 98
        }
      ]
    },
    {
      "cell_type": "code",
      "metadata": {
        "tags": [],
        "cell_id": "00057-1d7895c2-4596-42f4-bee1-2953e9acbcc2",
        "deepnote_to_be_reexecuted": false,
        "source_hash": "76eaa117",
        "execution_start": 1609553699194,
        "execution_millis": 0,
        "deepnote_cell_type": "code",
        "id": "pp3mdKrfl0lw",
        "outputId": "200d9dec-238d-4fc2-cc8c-738a185c31ac"
      },
      "source": [
        "func_2([1, 2, 3], 2)"
      ],
      "execution_count": null,
      "outputs": [
        {
          "output_type": "execute_result",
          "data": {
            "text/plain": [
              "[1, 2, 3, 1, 2, 3]"
            ]
          },
          "metadata": {
            "tags": []
          },
          "execution_count": 99
        }
      ]
    },
    {
      "cell_type": "code",
      "metadata": {
        "tags": [],
        "cell_id": "00058-71e92687-b23a-4ef0-8c5a-68abd32837e7",
        "deepnote_to_be_reexecuted": false,
        "source_hash": "7f9edeed",
        "execution_start": 1609553708474,
        "execution_millis": 38,
        "deepnote_cell_type": "code",
        "id": "RaNv-cj1l0lx",
        "outputId": "2ce0e17b-acda-4181-d2e6-cadf4f4f68a1"
      },
      "source": [
        "func_2('a', 'b')"
      ],
      "execution_count": null,
      "outputs": [
        {
          "output_type": "error",
          "ename": "TypeError",
          "evalue": "can't multiply sequence by non-int of type 'str'",
          "traceback": [
            "\u001b[0;31m---------------------------------------------------------------------------\u001b[0m",
            "\u001b[0;31mTypeError\u001b[0m                                 Traceback (most recent call last)",
            "\u001b[0;32m<ipython-input-100-f5ef76169988>\u001b[0m in \u001b[0;36m<module>\u001b[0;34m\u001b[0m\n\u001b[0;32m----> 1\u001b[0;31m \u001b[0mfunc_2\u001b[0m\u001b[0;34m(\u001b[0m\u001b[0;34m'a'\u001b[0m\u001b[0;34m,\u001b[0m \u001b[0;34m'b'\u001b[0m\u001b[0;34m)\u001b[0m\u001b[0;34m\u001b[0m\u001b[0;34m\u001b[0m\u001b[0m\n\u001b[0m",
            "\u001b[0;32m<ipython-input-94-94e0d01c7944>\u001b[0m in \u001b[0;36mfunc_2\u001b[0;34m(a, b)\u001b[0m\n\u001b[1;32m      1\u001b[0m \u001b[0;32mdef\u001b[0m \u001b[0mfunc_2\u001b[0m\u001b[0;34m(\u001b[0m\u001b[0ma\u001b[0m\u001b[0;34m,\u001b[0m \u001b[0mb\u001b[0m\u001b[0;34m)\u001b[0m\u001b[0;34m:\u001b[0m\u001b[0;34m\u001b[0m\u001b[0;34m\u001b[0m\u001b[0m\n\u001b[0;32m----> 2\u001b[0;31m     \u001b[0;32mreturn\u001b[0m \u001b[0ma\u001b[0m \u001b[0;34m*\u001b[0m \u001b[0mb\u001b[0m\u001b[0;34m\u001b[0m\u001b[0;34m\u001b[0m\u001b[0m\n\u001b[0m",
            "\u001b[0;31mTypeError\u001b[0m: can't multiply sequence by non-int of type 'str'"
          ]
        }
      ]
    },
    {
      "cell_type": "code",
      "metadata": {
        "tags": [],
        "cell_id": "00059-b757cd33-bf43-4603-9a0e-79ac50c66be0",
        "deepnote_to_be_reexecuted": false,
        "source_hash": "c16d8ddd",
        "execution_start": 1609553758322,
        "execution_millis": 0,
        "deepnote_cell_type": "code",
        "id": "yZP7YNM-l0ly"
      },
      "source": [
        "a = 10"
      ],
      "execution_count": null,
      "outputs": []
    },
    {
      "cell_type": "code",
      "metadata": {
        "tags": [],
        "cell_id": "00060-b5cc5784-bb90-418d-92b8-df9b437fcf39",
        "deepnote_to_be_reexecuted": false,
        "source_hash": "1478ef",
        "execution_start": 1609553774888,
        "execution_millis": 18,
        "deepnote_cell_type": "code",
        "id": "c9Qjr_2Il0ly",
        "outputId": "baf6d213-97b4-49c3-a0ea-88a665ffd1d3"
      },
      "source": [
        "type(a)"
      ],
      "execution_count": null,
      "outputs": [
        {
          "output_type": "execute_result",
          "data": {
            "text/plain": [
              "int"
            ]
          },
          "metadata": {
            "tags": []
          },
          "execution_count": 102
        }
      ]
    },
    {
      "cell_type": "code",
      "metadata": {
        "tags": [],
        "cell_id": "00061-2247687e-b711-41df-abfd-cdfc61bb0a9e",
        "deepnote_to_be_reexecuted": false,
        "source_hash": "ce3cb919",
        "execution_start": 1609553927004,
        "execution_millis": 8,
        "deepnote_cell_type": "code",
        "id": "t_czkBwll0lz",
        "outputId": "171758f2-680d-44b0-fb6f-129ffe996a96"
      },
      "source": [
        "id(a), id(10)"
      ],
      "execution_count": null,
      "outputs": [
        {
          "output_type": "execute_result",
          "data": {
            "text/plain": [
              "(139863590032736, 139863590032736)"
            ]
          },
          "metadata": {
            "tags": []
          },
          "execution_count": 103
        }
      ]
    },
    {
      "cell_type": "code",
      "metadata": {
        "tags": [],
        "cell_id": "00062-647b3967-c0d4-4eba-9d92-0e10959e95ec",
        "deepnote_to_be_reexecuted": false,
        "source_hash": "912e220b",
        "execution_start": 1609553965602,
        "execution_millis": 0,
        "deepnote_cell_type": "code",
        "id": "fJVR0Gbpl0lz",
        "outputId": "80a9881d-219b-420e-c1bf-71236cf48c04"
      },
      "source": [
        "a = 20\n",
        "b = 10\n",
        "id(a), id(10), id(b), id(20)"
      ],
      "execution_count": null,
      "outputs": [
        {
          "output_type": "execute_result",
          "data": {
            "text/plain": [
              "(139863590033056, 139863590032736, 139863590032736, 139863590033056)"
            ]
          },
          "metadata": {
            "tags": []
          },
          "execution_count": 104
        }
      ]
    },
    {
      "cell_type": "code",
      "metadata": {
        "tags": [],
        "cell_id": "00063-ff09b975-87d9-4886-b4f1-7d0657fb45e8",
        "deepnote_to_be_reexecuted": false,
        "source_hash": "c340db55",
        "execution_millis": 0,
        "execution_start": 1609554013161,
        "deepnote_cell_type": "code",
        "id": "jjUv7KiYl0l0",
        "outputId": "99d01f7d-caed-4e9b-9a21-db9501a29254"
      },
      "source": [
        "id(1)"
      ],
      "execution_count": null,
      "outputs": [
        {
          "output_type": "execute_result",
          "data": {
            "text/plain": [
              "139863590032448"
            ]
          },
          "metadata": {
            "tags": []
          },
          "execution_count": 111
        }
      ]
    },
    {
      "cell_type": "code",
      "metadata": {
        "tags": [],
        "cell_id": "00064-c1e4b4cb-b022-41bb-93fa-ebf1a417dcc7",
        "deepnote_to_be_reexecuted": false,
        "source_hash": "c340db55",
        "execution_millis": 1,
        "execution_start": 1609554011770,
        "deepnote_cell_type": "code",
        "id": "7iPlTjLml0l1",
        "outputId": "cf75730e-5d0f-4bcb-e989-fb69a9fb07be"
      },
      "source": [
        "id(1)"
      ],
      "execution_count": null,
      "outputs": [
        {
          "output_type": "execute_result",
          "data": {
            "text/plain": [
              "139863590032448"
            ]
          },
          "metadata": {
            "tags": []
          },
          "execution_count": 110
        }
      ]
    },
    {
      "cell_type": "code",
      "metadata": {
        "tags": [],
        "cell_id": "00065-8a6c2ed4-bf67-47ff-9833-edf6977b1e59",
        "deepnote_to_be_reexecuted": false,
        "source_hash": "aa3ae79b",
        "execution_start": 1609554140442,
        "execution_millis": 3,
        "deepnote_cell_type": "code",
        "id": "ZExRkKWxl0l1"
      },
      "source": [
        "def my_func(a, b):\n",
        "    return a + b"
      ],
      "execution_count": null,
      "outputs": []
    },
    {
      "cell_type": "code",
      "metadata": {
        "tags": [],
        "cell_id": "00066-5cba31be-ce9a-421f-8815-ebffa6e343e1",
        "deepnote_to_be_reexecuted": false,
        "source_hash": "c11b4fb3",
        "execution_start": 1609554232122,
        "execution_millis": 0,
        "deepnote_cell_type": "code",
        "id": "A-I6O_d6l0l2"
      },
      "source": [
        "a = 1\n",
        "b = 2\n",
        "\n",
        "a, b = b, a"
      ],
      "execution_count": null,
      "outputs": []
    },
    {
      "cell_type": "code",
      "metadata": {
        "tags": [],
        "cell_id": "00067-5b4ecc81-6b4a-4b5e-a093-9bfee25ff20e",
        "deepnote_to_be_reexecuted": false,
        "source_hash": "62ed45e9",
        "execution_start": 1609554235794,
        "execution_millis": 0,
        "deepnote_cell_type": "code",
        "id": "JXkeRAbkl0l2",
        "outputId": "e0ba0595-9120-4aa3-fbac-d1672628e089"
      },
      "source": [
        "a, b"
      ],
      "execution_count": null,
      "outputs": [
        {
          "output_type": "execute_result",
          "data": {
            "text/plain": [
              "(2, 1)"
            ]
          },
          "metadata": {
            "tags": []
          },
          "execution_count": 114
        }
      ]
    },
    {
      "cell_type": "code",
      "metadata": {
        "tags": [],
        "cell_id": "00068-5171028e-a6ad-4833-96ef-8902196da56c",
        "deepnote_to_be_reexecuted": false,
        "source_hash": "b65b8811",
        "execution_start": 1609554309053,
        "execution_millis": 1,
        "deepnote_cell_type": "code",
        "id": "p8tdCCmKl0l3"
      },
      "source": [
        "def func_3(a: int, b: int):\n",
        "    return a * b"
      ],
      "execution_count": null,
      "outputs": []
    },
    {
      "cell_type": "code",
      "metadata": {
        "tags": [],
        "cell_id": "00069-de108d01-4ac7-4c3f-b027-195dcedaab21",
        "deepnote_to_be_reexecuted": false,
        "source_hash": "754d086b",
        "execution_start": 1609554320791,
        "execution_millis": 3,
        "deepnote_cell_type": "code",
        "id": "e2Rr6AKRl0l3",
        "outputId": "a27edeb7-c049-42d5-ca8a-52e8ff322b7a"
      },
      "source": [
        "func_3(2, 3)"
      ],
      "execution_count": null,
      "outputs": [
        {
          "output_type": "execute_result",
          "data": {
            "text/plain": [
              "6"
            ]
          },
          "metadata": {
            "tags": []
          },
          "execution_count": 116
        }
      ]
    },
    {
      "cell_type": "code",
      "metadata": {
        "tags": [],
        "cell_id": "00070-7fc9dc4a-420e-4606-b07d-f1d0de136981",
        "deepnote_to_be_reexecuted": false,
        "source_hash": "ca870a2",
        "execution_start": 1609554327542,
        "execution_millis": 1,
        "deepnote_cell_type": "code",
        "id": "fj23fhUnl0l4",
        "outputId": "128ac17f-5ce8-4438-bd69-5600888be499"
      },
      "source": [
        "func_3('a', 2)"
      ],
      "execution_count": null,
      "outputs": [
        {
          "output_type": "execute_result",
          "data": {
            "text/plain": [
              "'aa'"
            ]
          },
          "metadata": {
            "tags": []
          },
          "execution_count": 117
        }
      ]
    },
    {
      "cell_type": "code",
      "metadata": {
        "tags": [],
        "cell_id": "00071-17b8f0e4-0f4c-45f7-86d5-96371ef36fa5",
        "deepnote_to_be_reexecuted": false,
        "source_hash": "f42eb893",
        "execution_start": 1609554407975,
        "execution_millis": 10,
        "deepnote_cell_type": "code",
        "id": "qjh78Zg7l0l5",
        "outputId": "86067fe1-8ea6-414c-db5c-7217e1fc261a"
      },
      "source": [
        "f3 = func_3\n",
        "\n",
        "f3(3, 5)"
      ],
      "execution_count": null,
      "outputs": [
        {
          "output_type": "execute_result",
          "data": {
            "text/plain": [
              "15"
            ]
          },
          "metadata": {
            "tags": []
          },
          "execution_count": 118
        }
      ]
    },
    {
      "cell_type": "code",
      "metadata": {
        "tags": [],
        "cell_id": "00072-9dca4944-f68f-430c-8da8-58944f2a700c",
        "deepnote_to_be_reexecuted": false,
        "source_hash": "3f71725f",
        "execution_start": 1609554467486,
        "execution_millis": 8,
        "deepnote_cell_type": "code",
        "id": "pMg5QJ2ll0l6",
        "outputId": "e9ac050d-ec15-4cc5-aa88-e0fb9033715d"
      },
      "source": [
        "func_3"
      ],
      "execution_count": null,
      "outputs": [
        {
          "output_type": "execute_result",
          "data": {
            "text/plain": [
              "<function __main__.func_3(a: int, b: int)>"
            ]
          },
          "metadata": {
            "tags": []
          },
          "execution_count": 119
        }
      ]
    },
    {
      "cell_type": "code",
      "metadata": {
        "tags": [],
        "cell_id": "00073-8038818e-fcdd-4867-bc0f-f2e30e5b0e14",
        "deepnote_to_be_reexecuted": false,
        "source_hash": "22dd3809",
        "execution_millis": 0,
        "execution_start": 1609554569278,
        "deepnote_cell_type": "code",
        "id": "fCjJ1OYbl0l6"
      },
      "source": [
        "def func_4(a, b):\n",
        "    # some comment here\n",
        "    if a == b:\n",
        "        return 'success!'"
      ],
      "execution_count": null,
      "outputs": []
    },
    {
      "cell_type": "code",
      "metadata": {
        "tags": [],
        "cell_id": "00074-23c4d3f8-41cd-42f9-9a2f-867c7a2ed14b",
        "deepnote_to_be_reexecuted": false,
        "source_hash": "c3c452fb",
        "execution_millis": 2,
        "execution_start": 1609554579967,
        "deepnote_cell_type": "code",
        "id": "AUlqu6MSl0l7",
        "outputId": "b0ef0891-1bb9-4bd3-9421-cde257c70ea0"
      },
      "source": [
        "res = func_4(3, 3)\n",
        "print(res)"
      ],
      "execution_count": null,
      "outputs": [
        {
          "output_type": "stream",
          "text": [
            "success!\n"
          ],
          "name": "stdout"
        }
      ]
    },
    {
      "cell_type": "code",
      "metadata": {
        "tags": [],
        "cell_id": "00075-b1cc2233-5698-43d2-8b48-c361b6ce12a1",
        "deepnote_to_be_reexecuted": false,
        "source_hash": "c7e3dbac",
        "execution_millis": 5,
        "execution_start": 1609554654479,
        "deepnote_cell_type": "code",
        "id": "GIGPW1Rhl0l8",
        "outputId": "3b5935c5-5997-4006-ec87-c7b23c439ea4"
      },
      "source": [
        "if type('red') == type('string'):\n",
        "    print('2021')"
      ],
      "execution_count": null,
      "outputs": [
        {
          "output_type": "stream",
          "text": [
            "2021\n"
          ],
          "name": "stdout"
        }
      ]
    },
    {
      "cell_type": "code",
      "metadata": {
        "tags": [],
        "cell_id": "00076-11cccdb0-bebb-4f90-95d8-8668f98cd396",
        "deepnote_to_be_reexecuted": false,
        "source_hash": "f77712c0",
        "execution_millis": 0,
        "execution_start": 1609554867678,
        "deepnote_cell_type": "code",
        "id": "VOP_P3H2l0l8"
      },
      "source": [
        "def func_x():\n",
        "    func_which_is_never_defined()"
      ],
      "execution_count": null,
      "outputs": []
    },
    {
      "cell_type": "code",
      "metadata": {
        "tags": [],
        "cell_id": "00077-f41d3c30-1b62-4b5e-9ee0-331a77771f5f",
        "deepnote_to_be_reexecuted": false,
        "source_hash": "5b51a08e",
        "execution_millis": 9,
        "execution_start": 1609554872534,
        "deepnote_cell_type": "code",
        "id": "CRilFxmBl0l9",
        "outputId": "d49815d9-8a68-4730-d0bb-448dcb30efba"
      },
      "source": [
        "func_x()"
      ],
      "execution_count": null,
      "outputs": [
        {
          "output_type": "error",
          "ename": "NameError",
          "evalue": "name 'func_which_is_never_defined' is not defined",
          "traceback": [
            "\u001b[0;31m---------------------------------------------------------------------------\u001b[0m",
            "\u001b[0;31mNameError\u001b[0m                                 Traceback (most recent call last)",
            "\u001b[0;32m<ipython-input-135-e86b19d69136>\u001b[0m in \u001b[0;36m<module>\u001b[0;34m\u001b[0m\n\u001b[0;32m----> 1\u001b[0;31m \u001b[0mfunc_x\u001b[0m\u001b[0;34m(\u001b[0m\u001b[0;34m)\u001b[0m\u001b[0;34m\u001b[0m\u001b[0;34m\u001b[0m\u001b[0m\n\u001b[0m",
            "\u001b[0;32m<ipython-input-134-90020a9edc4d>\u001b[0m in \u001b[0;36mfunc_x\u001b[0;34m()\u001b[0m\n\u001b[1;32m      1\u001b[0m \u001b[0;32mdef\u001b[0m \u001b[0mfunc_x\u001b[0m\u001b[0;34m(\u001b[0m\u001b[0;34m)\u001b[0m\u001b[0;34m:\u001b[0m\u001b[0;34m\u001b[0m\u001b[0;34m\u001b[0m\u001b[0m\n\u001b[0;32m----> 2\u001b[0;31m     \u001b[0mfunc_which_is_never_defined\u001b[0m\u001b[0;34m(\u001b[0m\u001b[0;34m)\u001b[0m\u001b[0;34m\u001b[0m\u001b[0;34m\u001b[0m\u001b[0m\n\u001b[0m",
            "\u001b[0;31mNameError\u001b[0m: name 'func_which_is_never_defined' is not defined"
          ]
        }
      ]
    },
    {
      "cell_type": "code",
      "metadata": {
        "tags": [],
        "cell_id": "00078-b7608e56-02b4-4ae0-9161-3b5b5e241b4d",
        "deepnote_to_be_reexecuted": false,
        "source_hash": "e518c82f",
        "execution_millis": 3,
        "execution_start": 1609554918833,
        "deepnote_cell_type": "code",
        "id": "zmlShM-ql0l9",
        "outputId": "1ceead15-0048-4510-880a-62d9f025176c"
      },
      "source": [
        "def fn_1():\n",
        "    fn_2()\n",
        "def fn_2():\n",
        "    print('Hello')\n",
        "print('I came here!')\n",
        "fn_1()"
      ],
      "execution_count": null,
      "outputs": [
        {
          "output_type": "stream",
          "text": [
            "I came here!\n",
            "Hello\n"
          ],
          "name": "stdout"
        }
      ]
    },
    {
      "cell_type": "code",
      "metadata": {
        "tags": [],
        "cell_id": "00079-1dccd21d-61bc-4e0d-87b0-0a3c53761ff0",
        "deepnote_to_be_reexecuted": false,
        "source_hash": "2fd82a0c",
        "execution_start": 1609554939626,
        "execution_millis": 0,
        "deepnote_cell_type": "code",
        "id": "z0e9b7esl0l-",
        "outputId": "0619f27a-6262-40a8-8918-e73620ece10d"
      },
      "source": [
        "def fn_3():\n",
        "    fn_4()\n",
        "\n",
        "fn_3()\n",
        "\n",
        "def fn_4():\n",
        "    print('Hello')"
      ],
      "execution_count": null,
      "outputs": [
        {
          "output_type": "error",
          "ename": "NameError",
          "evalue": "name 'fn_4' is not defined",
          "traceback": [
            "\u001b[0;31m---------------------------------------------------------------------------\u001b[0m",
            "\u001b[0;31mNameError\u001b[0m                                 Traceback (most recent call last)",
            "\u001b[0;32m<ipython-input-140-00a74014e7cd>\u001b[0m in \u001b[0;36m<module>\u001b[0;34m\u001b[0m\n\u001b[1;32m      2\u001b[0m     \u001b[0mfn_4\u001b[0m\u001b[0;34m(\u001b[0m\u001b[0;34m)\u001b[0m\u001b[0;34m\u001b[0m\u001b[0;34m\u001b[0m\u001b[0m\n\u001b[1;32m      3\u001b[0m \u001b[0;34m\u001b[0m\u001b[0m\n\u001b[0;32m----> 4\u001b[0;31m \u001b[0mfn_3\u001b[0m\u001b[0;34m(\u001b[0m\u001b[0;34m)\u001b[0m\u001b[0;34m\u001b[0m\u001b[0;34m\u001b[0m\u001b[0m\n\u001b[0m\u001b[1;32m      5\u001b[0m \u001b[0;34m\u001b[0m\u001b[0m\n\u001b[1;32m      6\u001b[0m \u001b[0;32mdef\u001b[0m \u001b[0mfn_4\u001b[0m\u001b[0;34m(\u001b[0m\u001b[0;34m)\u001b[0m\u001b[0;34m:\u001b[0m\u001b[0;34m\u001b[0m\u001b[0;34m\u001b[0m\u001b[0m\n",
            "\u001b[0;32m<ipython-input-140-00a74014e7cd>\u001b[0m in \u001b[0;36mfn_3\u001b[0;34m()\u001b[0m\n\u001b[1;32m      1\u001b[0m \u001b[0;32mdef\u001b[0m \u001b[0mfn_3\u001b[0m\u001b[0;34m(\u001b[0m\u001b[0;34m)\u001b[0m\u001b[0;34m:\u001b[0m\u001b[0;34m\u001b[0m\u001b[0;34m\u001b[0m\u001b[0m\n\u001b[0;32m----> 2\u001b[0;31m     \u001b[0mfn_4\u001b[0m\u001b[0;34m(\u001b[0m\u001b[0;34m)\u001b[0m\u001b[0;34m\u001b[0m\u001b[0;34m\u001b[0m\u001b[0m\n\u001b[0m\u001b[1;32m      3\u001b[0m \u001b[0;34m\u001b[0m\u001b[0m\n\u001b[1;32m      4\u001b[0m \u001b[0mfn_3\u001b[0m\u001b[0;34m(\u001b[0m\u001b[0;34m)\u001b[0m\u001b[0;34m\u001b[0m\u001b[0;34m\u001b[0m\u001b[0m\n\u001b[1;32m      5\u001b[0m \u001b[0;34m\u001b[0m\u001b[0m\n",
            "\u001b[0;31mNameError\u001b[0m: name 'fn_4' is not defined"
          ]
        }
      ]
    },
    {
      "cell_type": "code",
      "metadata": {
        "tags": [],
        "cell_id": "00080-c9b4efc1-e4e3-490c-b379-92239ee48759",
        "deepnote_to_be_reexecuted": false,
        "source_hash": "8ec77329",
        "execution_millis": 12,
        "execution_start": 1609555079272,
        "deepnote_cell_type": "code",
        "id": "0M8Vrki7l0l-"
      },
      "source": [
        "def func_7(a, b):\n",
        "    return a + b"
      ],
      "execution_count": null,
      "outputs": []
    },
    {
      "cell_type": "code",
      "metadata": {
        "tags": [],
        "cell_id": "00081-712d8c2e-a80e-4d59-b1dc-edd71a0b53b8",
        "deepnote_to_be_reexecuted": false,
        "source_hash": "db1ad286",
        "execution_millis": 0,
        "execution_start": 1609555174578,
        "deepnote_cell_type": "code",
        "id": "eTH7m3mFl0l_",
        "outputId": "dfa48ebf-9972-4438-ce1b-44d212c7fa6b"
      },
      "source": [
        "lambda a, b: a + b"
      ],
      "execution_count": null,
      "outputs": [
        {
          "output_type": "execute_result",
          "data": {
            "text/plain": [
              "<function __main__.<lambda>(a, b)>"
            ]
          },
          "metadata": {
            "tags": []
          },
          "execution_count": 156
        }
      ]
    },
    {
      "cell_type": "code",
      "metadata": {
        "tags": [],
        "cell_id": "00082-cf667e8b-f174-4c17-ac2a-e2b6f5ff2a82",
        "deepnote_to_be_reexecuted": false,
        "source_hash": "67dfec94",
        "execution_millis": 6,
        "execution_start": 1609555183511,
        "deepnote_cell_type": "code",
        "id": "Wu_AhptRl0l_",
        "outputId": "e033b928-6ce9-425f-c44e-e03c4752324d"
      },
      "source": [
        "10"
      ],
      "execution_count": null,
      "outputs": [
        {
          "output_type": "execute_result",
          "data": {
            "text/plain": [
              "10"
            ]
          },
          "metadata": {
            "tags": []
          },
          "execution_count": 157
        }
      ]
    },
    {
      "cell_type": "code",
      "metadata": {
        "tags": [],
        "cell_id": "00083-d72bc14c-698b-4abe-93c8-d4e79b2890e8",
        "deepnote_to_be_reexecuted": false,
        "source_hash": "991d3440",
        "execution_millis": 0,
        "execution_start": 1609555271042,
        "deepnote_cell_type": "code",
        "id": "OEdcOL22l0mA"
      },
      "source": [
        "a = 5\n",
        "c = 10\n",
        "if a < 5:\n",
        "    b = lambda a, c: a + c\n",
        "else:\n",
        "    b = lambda a, c: a - c"
      ],
      "execution_count": null,
      "outputs": []
    },
    {
      "cell_type": "code",
      "metadata": {
        "tags": [],
        "cell_id": "00084-affd33ea-bb3d-4d6f-bb1e-6e4a6b5cd008",
        "deepnote_to_be_reexecuted": false,
        "source_hash": "4f8c875a",
        "execution_millis": 3,
        "execution_start": 1609555271444,
        "deepnote_cell_type": "code",
        "id": "tja5Ritfl0mA",
        "outputId": "11732999-f50c-4d63-cef5-c10b84897b02"
      },
      "source": [
        "def func_8(a, b):\n",
        "    return a + b"
      ],
      "execution_count": null,
      "outputs": [
        {
          "output_type": "execute_result",
          "data": {
            "text/plain": [
              "-5"
            ]
          },
          "metadata": {
            "tags": []
          },
          "execution_count": 162
        }
      ]
    },
    {
      "cell_type": "code",
      "metadata": {
        "tags": [],
        "cell_id": "00085-3836598c-179b-49f4-ba04-4f9c2ff70833",
        "deepnote_to_be_reexecuted": false,
        "source_hash": "872e452c",
        "execution_start": 1609555347398,
        "execution_millis": 1,
        "deepnote_cell_type": "code",
        "id": "5bz_eZkRl0mB",
        "outputId": "51ab01a2-b710-471b-c7bf-1d3b14e8760f"
      },
      "source": [
        "func_5 = lambda x: x**2\n",
        "func_5"
      ],
      "execution_count": null,
      "outputs": [
        {
          "output_type": "execute_result",
          "data": {
            "text/plain": [
              "<function __main__.<lambda>(x)>"
            ]
          },
          "metadata": {
            "tags": []
          },
          "execution_count": 163
        }
      ]
    },
    {
      "cell_type": "code",
      "metadata": {
        "tags": [],
        "cell_id": "00086-0b2fc4d5-5f75-47d5-afda-c4f5f8d3c0f1",
        "deepnote_to_be_reexecuted": false,
        "source_hash": "658e4d35",
        "execution_start": 1609555356043,
        "execution_millis": 0,
        "deepnote_cell_type": "code",
        "id": "QL8AMf2cl0mB",
        "outputId": "636e7a84-1490-4228-f499-0c9dfa2438b0"
      },
      "source": [
        "func_5(2)"
      ],
      "execution_count": null,
      "outputs": [
        {
          "output_type": "execute_result",
          "data": {
            "text/plain": [
              "4"
            ]
          },
          "metadata": {
            "tags": []
          },
          "execution_count": 164
        }
      ]
    },
    {
      "cell_type": "code",
      "metadata": {
        "tags": [],
        "cell_id": "00087-aa53aa3b-ed0e-4e9b-84f0-2f1ebaabd949",
        "deepnote_to_be_reexecuted": false,
        "source_hash": "bfa6b01b",
        "execution_millis": 4,
        "execution_start": 1609555902760,
        "deepnote_cell_type": "code",
        "id": "T5oF3mJbl0mC",
        "outputId": "9f98968a-e506-4c1a-ff05-942863ec37a6"
      },
      "source": [
        "m = lambda _: print('this works')\n",
        "m('something')"
      ],
      "execution_count": null,
      "outputs": [
        {
          "output_type": "stream",
          "text": [
            "this works\n"
          ],
          "name": "stdout"
        }
      ]
    },
    {
      "cell_type": "code",
      "metadata": {
        "tags": [],
        "cell_id": "00088-457a4b9b-fc10-4c95-8f0c-303055da1f5c",
        "deepnote_to_be_reexecuted": false,
        "source_hash": "b16d2639",
        "execution_start": 1609555844944,
        "execution_millis": 0,
        "deepnote_cell_type": "code",
        "id": "lFyalW4Jl0mC",
        "outputId": "4731c717-da33-4bb9-bc53-fe54d17cb208"
      },
      "source": [
        "_ = 10\n",
        "print(_)"
      ],
      "execution_count": null,
      "outputs": [
        {
          "output_type": "stream",
          "text": [
            "10\n"
          ],
          "name": "stdout"
        }
      ]
    },
    {
      "cell_type": "code",
      "metadata": {
        "tags": [],
        "cell_id": "00089-07a44c5d-b2f1-4ef5-ac50-772c1f21a653",
        "deepnote_to_be_reexecuted": false,
        "source_hash": "a38613a3",
        "execution_millis": 3,
        "execution_start": 1609555996458,
        "deepnote_cell_type": "code",
        "id": "rpVDsCJhl0mD",
        "outputId": "97920b09-3b19-4433-a5ed-f13a1fb0e49d"
      },
      "source": [
        "def func_x(a, b):\n",
        "    z = 10\n",
        "    return lambda: a + b + z\n",
        "func_x(1, 20)()"
      ],
      "execution_count": null,
      "outputs": [
        {
          "output_type": "execute_result",
          "data": {
            "text/plain": [
              "31"
            ]
          },
          "metadata": {
            "tags": []
          },
          "execution_count": 171
        }
      ]
    },
    {
      "cell_type": "code",
      "metadata": {
        "tags": [],
        "cell_id": "00090-73bbe15a-1215-48da-9722-e688814b702d",
        "deepnote_to_be_reexecuted": false,
        "source_hash": "e4a292ea",
        "execution_start": 1609556024942,
        "execution_millis": 0,
        "deepnote_cell_type": "code",
        "id": "Ltj3YZSEl0mD"
      },
      "source": [
        "# while <exp is true>: code block"
      ],
      "execution_count": null,
      "outputs": []
    },
    {
      "cell_type": "code",
      "metadata": {
        "tags": [],
        "cell_id": "00091-8993c20b-57c1-4dab-83a2-550b92b73794",
        "deepnote_to_be_reexecuted": false,
        "source_hash": "d311e7fd",
        "execution_start": 1609556041536,
        "execution_millis": 3,
        "deepnote_cell_type": "code",
        "id": "mGhnGOjol0mD",
        "outputId": "d836bc96-e57f-4883-ac12-b80d9c78948c"
      },
      "source": [
        "i = 0\n",
        "\n",
        "while i < 5:\n",
        "    print(i)\n",
        "    i += 1"
      ],
      "execution_count": null,
      "outputs": [
        {
          "output_type": "stream",
          "text": [
            "0\n",
            "1\n",
            "2\n",
            "3\n",
            "4\n"
          ],
          "name": "stdout"
        }
      ]
    },
    {
      "cell_type": "code",
      "metadata": {
        "tags": [],
        "cell_id": "00092-b8d8e120-9867-4ee2-8ca2-87d5dd1ae4ff",
        "deepnote_to_be_reexecuted": false,
        "source_hash": "d9efd685",
        "execution_start": 1609556069714,
        "execution_millis": 0,
        "deepnote_cell_type": "code",
        "id": "nBINUvqEl0mE"
      },
      "source": [
        "i = 5\n",
        "\n",
        "while i < 5:\n",
        "    print(i)\n",
        "    i += 1"
      ],
      "execution_count": null,
      "outputs": []
    },
    {
      "cell_type": "code",
      "metadata": {
        "tags": [],
        "cell_id": "00093-557d5d6a-18b0-4a57-a599-4915b9b52279",
        "deepnote_to_be_reexecuted": false,
        "source_hash": "57838cd6",
        "execution_millis": 0,
        "execution_start": 1609556158862,
        "deepnote_cell_type": "code",
        "id": "vYzsoDB7l0mE",
        "outputId": "a7b02fde-f89d-49ef-8966-6ea77de27506"
      },
      "source": [
        "i = 50\n",
        "\n",
        "while True:\n",
        "    print(i)\n",
        "    if i >=5:\n",
        "        break"
      ],
      "execution_count": null,
      "outputs": [
        {
          "output_type": "stream",
          "text": [
            "50\n"
          ],
          "name": "stdout"
        }
      ]
    },
    {
      "cell_type": "code",
      "metadata": {
        "tags": [],
        "cell_id": "00094-d4559b82-1f2d-4979-8a17-a254debefcab",
        "deepnote_to_be_reexecuted": false,
        "source_hash": "cb81040f",
        "execution_millis": 3159,
        "execution_start": 1609556459130,
        "deepnote_cell_type": "code",
        "id": "BHxlhzY0l0mF"
      },
      "source": [
        "min_length = 2\n",
        "\n",
        "name = input('Please enter your name')\n",
        "\n",
        "while not(len(name) >= min_length) and name.isalpha():\n",
        "    name = input('Please enter your name')"
      ],
      "execution_count": null,
      "outputs": []
    },
    {
      "cell_type": "code",
      "metadata": {
        "tags": [],
        "cell_id": "00095-f9292d14-1016-4e4c-8159-63288600800d",
        "deepnote_to_be_reexecuted": false,
        "source_hash": "71c55cf0",
        "execution_millis": 1,
        "execution_start": 1609556299238,
        "deepnote_cell_type": "code",
        "id": "otoX905kl0mF",
        "outputId": "97cd8ca3-00a8-4425-dcd8-1dea820c9e9a"
      },
      "source": [
        "name"
      ],
      "execution_count": null,
      "outputs": [
        {
          "output_type": "execute_result",
          "data": {
            "text/plain": [
              "'r'"
            ]
          },
          "metadata": {
            "tags": []
          },
          "execution_count": 180
        }
      ]
    },
    {
      "cell_type": "code",
      "metadata": {
        "tags": [],
        "cell_id": "00096-4d0da195-8506-4fce-8649-4fc06509358f",
        "deepnote_to_be_reexecuted": false,
        "source_hash": "a49b8676",
        "execution_start": 1609556654790,
        "execution_millis": 16950,
        "deepnote_cell_type": "code",
        "id": "rwW-GyUyl0mG",
        "outputId": "61739227-d256-4485-d7a6-65fc8d841095"
      },
      "source": [
        "min_length = 2\n",
        "\n",
        "name = input('Please enter your name:')\n",
        "\n",
        "while not(len(name) >= min_length  and name.isprintable() and name.isalpha()):\n",
        "    name = input('Please enter your name:')\n",
        "\n",
        "print('Hello, {0}'.format(name))\n"
      ],
      "execution_count": null,
      "outputs": [
        {
          "output_type": "stream",
          "text": [
            "Hello, fred\n"
          ],
          "name": "stdout"
        }
      ]
    },
    {
      "cell_type": "code",
      "metadata": {
        "tags": [],
        "cell_id": "00097-d41dabb1-e781-40b5-be2b-9c9074f4b4e6",
        "deepnote_to_be_reexecuted": false,
        "source_hash": "85244bbf",
        "execution_start": 1609556726958,
        "execution_millis": 12208,
        "deepnote_cell_type": "code",
        "id": "10QkQBd-l0mG",
        "outputId": "dad34f84-36c9-4544-9e59-79c3b3808842"
      },
      "source": [
        "min_length = 2\n",
        "\n",
        "while True:\n",
        "    name = input('Please enter your name:')\n",
        "    if len(name) >= min_length  and name.isprintable() and name.isalpha():\n",
        "        break\n",
        "\n",
        "print('Hello, {0}'.format(name))"
      ],
      "execution_count": null,
      "outputs": [
        {
          "output_type": "stream",
          "text": [
            "Hello, rohan\n"
          ],
          "name": "stdout"
        }
      ]
    },
    {
      "cell_type": "code",
      "metadata": {
        "tags": [],
        "cell_id": "00098-52f26f7a-0aa1-48b9-b1b1-6aa6cbcf5ea7",
        "deepnote_to_be_reexecuted": false,
        "source_hash": "8d497d89",
        "execution_start": 1609556784175,
        "execution_millis": 20,
        "deepnote_cell_type": "code",
        "id": "tSBvIxqxl0mH",
        "outputId": "deff8352-b788-46ff-9b6d-1cd226230bc7"
      },
      "source": [
        "a = 0\n",
        "\n",
        "while a < 10:\n",
        "    a += 1\n",
        "    if a % 2:\n",
        "        continue\n",
        "    print(a)"
      ],
      "execution_count": null,
      "outputs": [
        {
          "output_type": "stream",
          "text": [
            "2\n",
            "4\n",
            "6\n",
            "8\n",
            "10\n"
          ],
          "name": "stdout"
        }
      ]
    },
    {
      "cell_type": "code",
      "metadata": {
        "tags": [],
        "cell_id": "00099-e0551aee-c2ae-4299-85ba-5c0b7c8f0c05",
        "deepnote_to_be_reexecuted": false,
        "source_hash": "3a85ae9b",
        "execution_millis": 43,
        "execution_start": 1609556925011,
        "deepnote_cell_type": "code",
        "id": "6jQpanO6l0mH",
        "outputId": "57832cc1-7854-4a2f-c561-43268f6ca3c7"
      },
      "source": [
        "l = [1, 2, 3]\n",
        "\n",
        "val = 10\n",
        "\n",
        "found = False\n",
        "idx = 0\n",
        "\n",
        "while idx < len(l):\n",
        "    if l[idx] == val:\n",
        "        found = True\n",
        "        break\n",
        "    idx += 1\n",
        "\n",
        "if not found:\n",
        "    print('this was executed', found)\n",
        "    l.append(val)\n",
        "\n",
        "print(l)"
      ],
      "execution_count": null,
      "outputs": [
        {
          "output_type": "stream",
          "text": [
            "this was executed False\n",
            "[1, 2, 3, 10]\n"
          ],
          "name": "stdout"
        }
      ]
    },
    {
      "cell_type": "code",
      "metadata": {
        "tags": [],
        "cell_id": "00100-97b3ee01-c138-43dc-b872-85fa4f05f025",
        "deepnote_to_be_reexecuted": false,
        "source_hash": "c46bda9f",
        "execution_millis": 0,
        "execution_start": 1609556986135,
        "deepnote_cell_type": "code",
        "id": "f_43xVYal0mI",
        "outputId": "c50bc196-22a9-45ec-95cc-d028cce4c191"
      },
      "source": [
        "l = [1, 2, 3, 10]\n",
        "\n",
        "val = 10\n",
        "\n",
        "found = False\n",
        "idx = 0\n",
        "\n",
        "while idx < len(l):\n",
        "    if l[idx] == val:\n",
        "        found = True\n",
        "        break\n",
        "    idx += 1\n",
        "else:\n",
        "    print('i was executed')\n",
        "    l.append(val)\n",
        "\n",
        "print(l)"
      ],
      "execution_count": null,
      "outputs": [
        {
          "output_type": "stream",
          "text": [
            "[1, 2, 3, 10]\n"
          ],
          "name": "stdout"
        }
      ]
    },
    {
      "cell_type": "code",
      "metadata": {
        "tags": [],
        "cell_id": "00101-7b48ba47-0dbd-4ca1-9012-f4b03c2940a1",
        "deepnote_to_be_reexecuted": false,
        "source_hash": "3839e444",
        "execution_start": 1609557113845,
        "execution_millis": 1,
        "deepnote_cell_type": "code",
        "id": "150f-cJcl0mJ",
        "outputId": "3d1e2ef5-6365-4b3f-ebbc-51d797a73da7"
      },
      "source": [
        "a = 10\n",
        "b = 1\n",
        "\n",
        "try:\n",
        "    a/b\n",
        "except ZeroDivisionError:\n",
        "    print('division by 0!!!')\n",
        "finally:\n",
        "    print('this always, literally always, gets executed')"
      ],
      "execution_count": null,
      "outputs": [
        {
          "output_type": "stream",
          "text": [
            "this always, literally always, gets executed\n"
          ],
          "name": "stdout"
        }
      ]
    },
    {
      "cell_type": "code",
      "metadata": {
        "tags": [],
        "cell_id": "00102-de24118a-758d-487e-94fe-861dc88903b2",
        "deepnote_to_be_reexecuted": false,
        "source_hash": "b9b97cf0",
        "execution_start": 1609557148022,
        "execution_millis": 0,
        "deepnote_cell_type": "code",
        "id": "Zee3qvq_l0mK",
        "outputId": "ce3a157c-e996-4957-d201-bc35c570e08a"
      },
      "source": [
        "a = 10\n",
        "b = 0\n",
        "try:\n",
        "    a / b\n",
        "except ZeroDivisionError:\n",
        "    print('division by 0')\n",
        "finally:\n",
        "    print('this always executes')"
      ],
      "execution_count": null,
      "outputs": [
        {
          "output_type": "stream",
          "text": [
            "division by 0\n",
            "this always executes\n"
          ],
          "name": "stdout"
        }
      ]
    },
    {
      "cell_type": "code",
      "metadata": {
        "tags": [],
        "cell_id": "00103-b889b127-b360-4a7d-a4ec-224b1013f3fe",
        "deepnote_to_be_reexecuted": false,
        "source_hash": "737a2c35",
        "execution_start": 1609557466242,
        "execution_millis": 0,
        "deepnote_cell_type": "code",
        "id": "_Nur2Eb9l0mK",
        "outputId": "8e7e9112-1ea1-4f19-9e66-9e318f54e59b"
      },
      "source": [
        "a = 0\n",
        "b = 2\n",
        "\n",
        "while a < 3:\n",
        "    print('------------')\n",
        "    a += 1 \n",
        "    b -= 1\n",
        "    try:\n",
        "        res = a / b\n",
        "    except ZeroDivisionError:\n",
        "        print(f'{a}, {b} - division by 0')\n",
        "        res = 0\n",
        "        continue\n",
        "    finally:\n",
        "        print(f'{a}, {b} - always executes')\n",
        "    \n",
        "    print(f'{a}, {b} - main loop')"
      ],
      "execution_count": null,
      "outputs": [
        {
          "output_type": "stream",
          "text": [
            "------------\n",
            "1, 1 - always executes\n",
            "1, 1 - main loop\n",
            "------------\n",
            "2, 0 - division by 0\n",
            "2, 0 - always executes\n",
            "------------\n",
            "3, -1 - always executes\n",
            "3, -1 - main loop\n"
          ],
          "name": "stdout"
        }
      ]
    },
    {
      "cell_type": "code",
      "metadata": {
        "tags": [],
        "cell_id": "00104-922b20d2-b837-4e44-aba9-6f85578b76d9",
        "deepnote_to_be_reexecuted": false,
        "source_hash": "6b238248",
        "execution_millis": 14,
        "execution_start": 1609557564586,
        "deepnote_cell_type": "code",
        "id": "Pp00Yzabl0mL",
        "outputId": "442925e5-c329-482a-f418-69710a49012b"
      },
      "source": [
        "a = 0\n",
        "b = 2\n",
        "\n",
        "while a < 3:\n",
        "    print('------------')\n",
        "    a += 1 \n",
        "    b -= 1\n",
        "    try:\n",
        "        res = a / b\n",
        "    except ZeroDivisionError:\n",
        "        print(f'{a}, {b} - division by 0')\n",
        "        res = 0\n",
        "        break\n",
        "    finally:\n",
        "        print(f'{a}, {b} - always executes')\n",
        "    \n",
        "    print(f'{a}, {b} - main loop')"
      ],
      "execution_count": null,
      "outputs": [
        {
          "output_type": "stream",
          "text": [
            "------------\n",
            "1, 1 - always executes\n",
            "1, 1 - main loop\n",
            "------------\n",
            "2, 0 - division by 0\n",
            "2, 0 - always executes\n"
          ],
          "name": "stdout"
        }
      ]
    },
    {
      "cell_type": "code",
      "metadata": {
        "tags": [],
        "cell_id": "00105-43440805-11f9-4212-abcf-e79b74e7128e",
        "deepnote_to_be_reexecuted": false,
        "source_hash": "1570165d",
        "execution_millis": 13,
        "execution_start": 1609557672894,
        "deepnote_cell_type": "code",
        "id": "QtfloDKEl0mM",
        "outputId": "26e9c4e3-92cb-4a6f-a516-7f166efc06bd"
      },
      "source": [
        "a = 0\n",
        "b = 5\n",
        "\n",
        "while a < 3:\n",
        "    print('------------')\n",
        "    a += 1 \n",
        "    b -= 1\n",
        "    try:\n",
        "        res = a / b\n",
        "    except ZeroDivisionError:\n",
        "        print(f'{a}, {b} - division by 0')\n",
        "        res = 0\n",
        "        break\n",
        "    finally:\n",
        "        print(f'{a}, {b} - always executes')\n",
        "    \n",
        "    print(f'{a}, {b} - main loop')\n",
        "else:\n",
        "    print('n\\n\\nno errors were encountered!')"
      ],
      "execution_count": null,
      "outputs": [
        {
          "output_type": "stream",
          "text": [
            "------------\n",
            "1, 4 - always executes\n",
            "1, 4 - main loop\n",
            "------------\n",
            "2, 3 - always executes\n",
            "2, 3 - main loop\n",
            "------------\n",
            "3, 2 - always executes\n",
            "3, 2 - main loop\n",
            "n\n",
            "\n",
            "no errors were encountered!\n"
          ],
          "name": "stdout"
        }
      ]
    },
    {
      "cell_type": "code",
      "metadata": {
        "tags": [],
        "cell_id": "00106-fc26e623-dd3b-4cad-bc47-ee7b02d52daf",
        "deepnote_to_be_reexecuted": false,
        "source_hash": "7fd3657",
        "execution_start": 1609557695823,
        "execution_millis": 0,
        "deepnote_cell_type": "code",
        "id": "hRite3Mll0mM",
        "outputId": "b07ba743-dd22-4898-9050-e89b2d37ff47"
      },
      "source": [
        "a = 10\n",
        "b = 20\n",
        "\n",
        "print(f'{a + b}')"
      ],
      "execution_count": null,
      "outputs": [
        {
          "output_type": "stream",
          "text": [
            "30\n"
          ],
          "name": "stdout"
        }
      ]
    },
    {
      "cell_type": "code",
      "metadata": {
        "tags": [],
        "cell_id": "00107-8fa076f0-f454-4422-94ca-3fd609001c4e",
        "deepnote_to_be_reexecuted": false,
        "source_hash": "a2a62fb5",
        "execution_start": 1609557858868,
        "execution_millis": 0,
        "deepnote_cell_type": "code",
        "id": "rqi6go9gl0mN",
        "outputId": "a78de3e3-8ddb-466b-e6ce-0fb37741ad98"
      },
      "source": [
        "#for (int i = 0; i < 5; i++){\n",
        "    # code\n",
        "#}\n",
        "\n",
        "i = 0\n",
        "while i < 5:\n",
        "    print(i)\n",
        "    i += 1\n",
        "i = None"
      ],
      "execution_count": null,
      "outputs": [
        {
          "output_type": "stream",
          "text": [
            "0\n",
            "1\n",
            "2\n",
            "3\n",
            "4\n"
          ],
          "name": "stdout"
        }
      ]
    },
    {
      "cell_type": "code",
      "metadata": {
        "tags": [],
        "cell_id": "00108-8a4ef6d0-edef-43e9-a22d-dc9215e592ac",
        "deepnote_to_be_reexecuted": false,
        "source_hash": "a893cb7",
        "execution_millis": 0,
        "execution_start": 1609557932262,
        "deepnote_cell_type": "code",
        "id": "4FRLeWK4l0mN",
        "outputId": "76a2ed23-e4c8-4923-a3ed-d1772b6fe0ac"
      },
      "source": [
        "for i in 'tsai':\n",
        "    print(i)"
      ],
      "execution_count": null,
      "outputs": [
        {
          "output_type": "stream",
          "text": [
            "t\n",
            "s\n",
            "a\n",
            "i\n"
          ],
          "name": "stdout"
        }
      ]
    },
    {
      "cell_type": "code",
      "metadata": {
        "tags": [],
        "cell_id": "00109-5a4aac03-268b-4324-a692-195833f542ac",
        "deepnote_to_be_reexecuted": false,
        "source_hash": "d98a7ea6",
        "execution_start": 1609557954550,
        "deepnote_cell_type": "code",
        "id": "J4pnMuqdl0mO",
        "outputId": "931cbbef-3184-45da-b1c1-abe142c874a5"
      },
      "source": [
        "for x in ('a', 'b', 'c'):\n",
        "    print(x)"
      ],
      "execution_count": null,
      "outputs": [
        {
          "output_type": "stream",
          "text": [
            "a\n",
            "b\n",
            "c\n"
          ],
          "name": "stdout"
        }
      ]
    },
    {
      "cell_type": "code",
      "metadata": {
        "tags": [],
        "cell_id": "00110-4eb12327-8c90-45cf-a8b5-cb23ff1e393d",
        "deepnote_to_be_reexecuted": false,
        "source_hash": "887aca4e",
        "execution_start": 1609557962034,
        "execution_millis": 0,
        "deepnote_cell_type": "code",
        "id": "3tbiYnF_l0mO",
        "outputId": "b414ad96-109f-490d-d09c-9722c4ae98b0"
      },
      "source": [
        "for x in [(1, 2), (3, 4), (5, 6)]:\n",
        "    print(x)"
      ],
      "execution_count": null,
      "outputs": [
        {
          "output_type": "stream",
          "text": [
            "(1, 2)\n",
            "(3, 4)\n",
            "(5, 6)\n"
          ],
          "name": "stdout"
        }
      ]
    },
    {
      "cell_type": "code",
      "metadata": {
        "tags": [],
        "cell_id": "00111-9b3e7f62-0a50-48d6-9b9f-801aff774def",
        "deepnote_to_be_reexecuted": false,
        "source_hash": "4e1b46b8",
        "execution_millis": 0,
        "execution_start": 1609557989282,
        "deepnote_cell_type": "code",
        "id": "CIHeLrJFl0mP",
        "outputId": "f80d4b02-6d1e-4651-eb4b-7a545f1ff2bf"
      },
      "source": [
        "for a, b in [(1, 2), (3, 4), (5, 6)]:\n",
        "    print(a)"
      ],
      "execution_count": null,
      "outputs": [
        {
          "output_type": "stream",
          "text": [
            "1\n",
            "3\n",
            "5\n"
          ],
          "name": "stdout"
        }
      ]
    },
    {
      "cell_type": "code",
      "metadata": {
        "tags": [],
        "cell_id": "00112-a125748f-08e2-4f71-8c44-b712b77e4b40",
        "deepnote_to_be_reexecuted": false,
        "source_hash": "a3c35f79",
        "execution_millis": 0,
        "execution_start": 1609558019290,
        "deepnote_cell_type": "code",
        "id": "BGRJErz8l0mP",
        "outputId": "cb9b6cf9-17cb-43a2-931d-3d6ee9bfef94"
      },
      "source": [
        "for i in range(5):\n",
        "    if i == 3:\n",
        "        continue\n",
        "    print(i)"
      ],
      "execution_count": null,
      "outputs": [
        {
          "output_type": "stream",
          "text": [
            "0\n",
            "1\n",
            "2\n",
            "4\n"
          ],
          "name": "stdout"
        }
      ]
    },
    {
      "cell_type": "code",
      "metadata": {
        "tags": [],
        "cell_id": "00113-ff319920-7991-4fed-9b7d-2ac67287c48e",
        "deepnote_to_be_reexecuted": false,
        "source_hash": "c37dcfa",
        "execution_start": 1609558029854,
        "execution_millis": 3,
        "deepnote_cell_type": "code",
        "id": "s0TdwyNUl0mQ",
        "outputId": "77cd52be-378f-4271-e512-d7b4a59dfce5"
      },
      "source": [
        "for i in range(5):\n",
        "    if i == 3:\n",
        "        break\n",
        "    print(i)"
      ],
      "execution_count": null,
      "outputs": [
        {
          "output_type": "stream",
          "text": [
            "0\n",
            "1\n",
            "2\n"
          ],
          "name": "stdout"
        }
      ]
    },
    {
      "cell_type": "code",
      "metadata": {
        "tags": [],
        "cell_id": "00114-0b7e4b10-adea-47c4-8355-3d4770e966ad",
        "deepnote_to_be_reexecuted": false,
        "source_hash": "d200a157",
        "execution_start": 1609558077639,
        "execution_millis": 0,
        "deepnote_cell_type": "code",
        "id": "1R3kQR72l0mQ",
        "outputId": "38e87aaf-84e8-415e-efdc-ee4cd12e4490"
      },
      "source": [
        "for i in range(1, 5):\n",
        "    print(i)\n",
        "    if i % 7 == 0:\n",
        "        print('multiple of 7')\n",
        "        break\n",
        "else:\n",
        "    print('not a multiple of 7')"
      ],
      "execution_count": null,
      "outputs": [
        {
          "output_type": "stream",
          "text": [
            "1\n",
            "2\n",
            "3\n",
            "4\n",
            "not a multiple of 7\n"
          ],
          "name": "stdout"
        }
      ]
    },
    {
      "cell_type": "code",
      "metadata": {
        "tags": [],
        "cell_id": "00115-5f317880-ce26-4813-97b1-9d0fee126178",
        "deepnote_to_be_reexecuted": false,
        "source_hash": "2d5e36a5",
        "execution_start": 1609558096758,
        "execution_millis": 1,
        "deepnote_cell_type": "code",
        "id": "WmxJDi3fl0mR",
        "outputId": "9f1bca29-7c2e-4547-bf69-71debfd77b66"
      },
      "source": [
        "for i in range(1, 8):\n",
        "    print(i)\n",
        "    if i % 7 == 0:\n",
        "        print('multiple of 7')\n",
        "        break\n",
        "else:\n",
        "    print('not a multiple of 7')"
      ],
      "execution_count": null,
      "outputs": [
        {
          "output_type": "stream",
          "text": [
            "1\n",
            "2\n",
            "3\n",
            "4\n",
            "5\n",
            "6\n",
            "7\n",
            "multiple of 7\n"
          ],
          "name": "stdout"
        }
      ]
    },
    {
      "cell_type": "code",
      "metadata": {
        "tags": [],
        "cell_id": "00116-60898407-b379-4f0a-a6c6-ec7bffca73c0",
        "deepnote_to_be_reexecuted": false,
        "source_hash": "92464e59",
        "execution_start": 1609558165187,
        "execution_millis": 14,
        "deepnote_cell_type": "code",
        "id": "-BqBeTHQl0mR",
        "outputId": "45725426-5f1a-4c06-acdd-a84a63e54c71"
      },
      "source": [
        "for i in range(5):\n",
        "    print('________________________')\n",
        "    try:\n",
        "        10 / (i - 3)\n",
        "    except ZeroDivisionError:\n",
        "        print('divided by 0')\n",
        "        continue\n",
        "    finally:\n",
        "        print('always running')\n",
        "    print(i)"
      ],
      "execution_count": null,
      "outputs": [
        {
          "output_type": "stream",
          "text": [
            "________________________\n",
            "always running\n",
            "0\n",
            "________________________\n",
            "always running\n",
            "1\n",
            "________________________\n",
            "always running\n",
            "2\n",
            "________________________\n",
            "divided by 0\n",
            "always running\n",
            "________________________\n",
            "always running\n",
            "4\n"
          ],
          "name": "stdout"
        }
      ]
    },
    {
      "cell_type": "code",
      "metadata": {
        "tags": [],
        "cell_id": "00117-460893df-7e49-4a52-a091-62b5af950b01",
        "deepnote_to_be_reexecuted": false,
        "source_hash": "26e3cd24",
        "execution_start": 1609558206690,
        "execution_millis": 0,
        "deepnote_cell_type": "code",
        "id": "svnCNmb6l0mS",
        "outputId": "8c6951f6-ff42-45c0-8892-4e5e73124850"
      },
      "source": [
        "s = 'hello'\n",
        "for c in s:\n",
        "    print(c)"
      ],
      "execution_count": null,
      "outputs": [
        {
          "output_type": "stream",
          "text": [
            "h\n",
            "e\n",
            "l\n",
            "l\n",
            "o\n"
          ],
          "name": "stdout"
        }
      ]
    },
    {
      "cell_type": "code",
      "metadata": {
        "tags": [],
        "cell_id": "00118-4feab4c3-e227-467f-9173-a8cc39ad9a06",
        "deepnote_to_be_reexecuted": false,
        "source_hash": "ae3534d4",
        "execution_start": 1609558237743,
        "execution_millis": 1,
        "deepnote_cell_type": "code",
        "id": "VeJ5l81fl0mS",
        "outputId": "7687e945-58ac-4ba0-df1f-3d49de4888fa"
      },
      "source": [
        "s = 'hello'\n",
        "i = 0\n",
        "for c in s:\n",
        "    print(i, c)\n",
        "    i += 1"
      ],
      "execution_count": null,
      "outputs": [
        {
          "output_type": "stream",
          "text": [
            "0 h\n",
            "1 e\n",
            "2 l\n",
            "3 l\n",
            "4 o\n"
          ],
          "name": "stdout"
        }
      ]
    },
    {
      "cell_type": "code",
      "metadata": {
        "tags": [],
        "cell_id": "00119-67c68334-4003-45fb-adfb-809e51e2b042",
        "deepnote_to_be_reexecuted": false,
        "source_hash": "c416fd78",
        "execution_start": 1609558275147,
        "execution_millis": 1,
        "deepnote_cell_type": "code",
        "id": "CaoYi2R4l0mT",
        "outputId": "56340a0d-7d20-4083-a877-2604ff6226a8"
      },
      "source": [
        "s = 'hello'\n",
        "\n",
        "for i in range(len(s)):\n",
        "    print(i, s[i])"
      ],
      "execution_count": null,
      "outputs": [
        {
          "output_type": "stream",
          "text": [
            "0 h\n",
            "1 e\n",
            "2 l\n",
            "3 l\n",
            "4 o\n"
          ],
          "name": "stdout"
        }
      ]
    },
    {
      "cell_type": "code",
      "metadata": {
        "tags": [],
        "cell_id": "00120-e9819bc1-99e2-4f94-aff1-7921316990f7",
        "deepnote_to_be_reexecuted": false,
        "source_hash": "fc507a58",
        "execution_millis": 4,
        "execution_start": 1609558329317,
        "deepnote_cell_type": "code",
        "id": "uM6bYYXml0mT",
        "outputId": "0e716e40-5871-4d00-91ac-fd9f0734d0fe"
      },
      "source": [
        "s = 'hello'\n",
        "\n",
        "for i, j in enumrerate(s):\n",
        "    print(i, j)"
      ],
      "execution_count": null,
      "outputs": [
        {
          "output_type": "stream",
          "text": [
            "0 h\n",
            "1 e\n",
            "2 l\n",
            "3 l\n",
            "4 o\n"
          ],
          "name": "stdout"
        }
      ]
    },
    {
      "cell_type": "code",
      "metadata": {
        "tags": [],
        "cell_id": "00121-1e123b66-7692-4c36-ab1e-0fd08e60fb36",
        "deepnote_to_be_reexecuted": false,
        "source_hash": "e64e4b7c",
        "execution_millis": 3,
        "execution_start": 1609558460832,
        "deepnote_cell_type": "code",
        "id": "l4ZJ0xeWl0mU",
        "outputId": "95316b0c-0aa1-47d0-da87-3900e3537387"
      },
      "source": [
        "st = (i for i in range(10))\n",
        "type(st)"
      ],
      "execution_count": null,
      "outputs": [
        {
          "output_type": "execute_result",
          "data": {
            "text/plain": [
              "generator"
            ]
          },
          "metadata": {
            "tags": []
          },
          "execution_count": 228
        }
      ]
    },
    {
      "cell_type": "code",
      "metadata": {
        "tags": [],
        "cell_id": "00122-b00632d1-39e2-42b8-8507-6e3f9d61c4e2",
        "deepnote_to_be_reexecuted": false,
        "source_hash": "be7beca7",
        "execution_millis": 5,
        "execution_start": 1609558606091,
        "deepnote_cell_type": "code",
        "id": "P47Q0vgql0mU",
        "outputId": "fbd2891b-6d70-4178-fa0f-9d656d2531f1"
      },
      "source": [
        "a = 5\n",
        "\n",
        "if a < 1:\n",
        "    print(a)\n",
        "elif a > 2:\n",
        "    print(a)\n",
        "else:\n",
        "    print(a)"
      ],
      "execution_count": null,
      "outputs": [
        {
          "output_type": "stream",
          "text": [
            "5\n"
          ],
          "name": "stdout"
        }
      ]
    },
    {
      "cell_type": "code",
      "metadata": {
        "tags": [],
        "cell_id": "00123-d0ed9966-8273-4a56-93dc-e2877919f7c2",
        "deepnote_cell_type": "code",
        "id": "iUPGcMu5l0mZ"
      },
      "source": [
        ""
      ],
      "execution_count": null,
      "outputs": []
    }
  ]
}