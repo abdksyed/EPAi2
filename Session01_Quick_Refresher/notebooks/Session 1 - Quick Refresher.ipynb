{
  "nbformat": 4,
  "nbformat_minor": 0,
  "metadata": {
    "orig_nbformat": 2,
    "deepnote_notebook_id": "65f9ce4a-5f52-41ac-a5c5-4a7634c2300b",
    "deepnote_execution_queue": [],
    "colab": {
      "name": "Session 1 - Quick Refresher.ipynb",
      "provenance": [],
      "include_colab_link": true
    }
  },
  "cells": [
    {
      "cell_type": "markdown",
      "metadata": {
        "id": "view-in-github",
        "colab_type": "text"
      },
      "source": [
        "<a href=\"https://colab.research.google.com/github/abdksyed/EPAi2/blob/main/Session01_Quick_Refresher/notebooks/Session%201%20-%20Quick%20Refresher.ipynb\" target=\"_parent\"><img src=\"https://colab.research.google.com/assets/colab-badge.svg\" alt=\"Open In Colab\"/></a>"
      ]
    },
    {
      "cell_type": "markdown",
      "metadata": {
        "tags": [],
        "cell_id": "00000-0bd57332-30a8-4925-b3c4-46db40337a3b",
        "deepnote_cell_type": "markdown",
        "id": "JM951c13l0kA"
      },
      "source": [
        "# Session 1 - Quick Refresher"
      ]
    },
    {
      "cell_type": "markdown",
      "metadata": {
        "tags": [],
        "cell_id": "00001-209ea1ec-6332-41a2-9909-c3a66c4b60aa",
        "deepnote_cell_type": "markdown",
        "id": "hMERaN2Nl0kF"
      },
      "source": [
        "## Multi-Line Statements and Strings"
      ]
    },
    {
      "cell_type": "code",
      "metadata": {
        "tags": [],
        "cell_id": "00002-3e7b16e7-8efd-4ebc-8a3a-82063163504b",
        "deepnote_to_be_reexecuted": false,
        "source_hash": "7a31dfff",
        "execution_millis": 0,
        "execution_start": 1609551248710,
        "deepnote_cell_type": "code",
        "id": "R_1U-tZHl0kO"
      },
      "source": [
        "a = [1,\n",
        "    2, \n",
        "    3]"
      ],
      "execution_count": null,
      "outputs": []
    },
    {
      "cell_type": "code",
      "metadata": {
        "tags": [],
        "cell_id": "00003-832b701f-03b6-4641-95c8-14c0228a5b25",
        "deepnote_to_be_reexecuted": false,
        "source_hash": "ef4233c",
        "execution_start": 1609551249411,
        "execution_millis": 4,
        "deepnote_cell_type": "code",
        "id": "oFTze2ZPl0kP",
        "outputId": "d1bb378e-bb55-4278-bc98-c7a21bb97d18"
      },
      "source": [
        "a"
      ],
      "execution_count": null,
      "outputs": [
        {
          "output_type": "execute_result",
          "data": {
            "text/plain": [
              "[1, 2, 3]"
            ]
          },
          "metadata": {
            "tags": []
          },
          "execution_count": 4
        }
      ]
    },
    {
      "cell_type": "code",
      "metadata": {
        "tags": [],
        "cell_id": "00004-79d9cbfb-3888-462e-81d9-41fa2c409c97",
        "deepnote_to_be_reexecuted": false,
        "source_hash": "b9beda46",
        "execution_millis": 1,
        "execution_start": 1609551305876,
        "deepnote_cell_type": "code",
        "id": "GRjIbeDFl0kT"
      },
      "source": [
        "a = [1, # first comment\n",
        "    2, # second\n",
        "    3, # third\n",
        "    ] "
      ],
      "execution_count": null,
      "outputs": []
    },
    {
      "cell_type": "code",
      "metadata": {
        "tags": [],
        "cell_id": "00005-6e319b43-1455-40c5-a655-85aa253c3306",
        "deepnote_to_be_reexecuted": false,
        "source_hash": "2efb8062",
        "execution_start": 1609551349190,
        "execution_millis": 0,
        "deepnote_cell_type": "code",
        "id": "-_4lpSs_l0kV"
      },
      "source": [
        "a = (1, # first comment\n",
        "    2, # second\n",
        "    3, # third\n",
        ")"
      ],
      "execution_count": null,
      "outputs": []
    },
    {
      "cell_type": "code",
      "metadata": {
        "tags": [],
        "cell_id": "00006-7fbb97f0-b320-45e5-992a-692028057002",
        "deepnote_to_be_reexecuted": false,
        "source_hash": "eb7911ce",
        "execution_start": 1609551369638,
        "execution_millis": 1,
        "deepnote_cell_type": "code",
        "id": "YVYqVLlbl0kW",
        "outputId": "2e8aefd4-7998-4bb0-f9f5-98e84cd427aa"
      },
      "source": [
        "a = [1, # first element\n",
        "    2 #second element]"
      ],
      "execution_count": null,
      "outputs": [
        {
          "output_type": "error",
          "ename": "SyntaxError",
          "evalue": "unexpected EOF while parsing (<ipython-input-11-6b11c8b986e4>, line 2)",
          "traceback": [
            "\u001b[0;36m  File \u001b[0;32m\"<ipython-input-11-6b11c8b986e4>\"\u001b[0;36m, line \u001b[0;32m2\u001b[0m\n\u001b[0;31m    2 #second element]\u001b[0m\n\u001b[0m                      ^\u001b[0m\n\u001b[0;31mSyntaxError\u001b[0m\u001b[0;31m:\u001b[0m unexpected EOF while parsing\n"
          ]
        }
      ]
    },
    {
      "cell_type": "code",
      "metadata": {
        "tags": [],
        "cell_id": "00007-bb1aa866-454c-4989-86b0-fc857237c01b",
        "deepnote_to_be_reexecuted": false,
        "source_hash": "9063ea5c",
        "execution_start": 1609551380118,
        "execution_millis": 3,
        "deepnote_cell_type": "code",
        "id": "OCxWoEE2l0kW"
      },
      "source": [
        "a = (1, # first element\n",
        "    2, #second element\n",
        "    3, #third element\n",
        "    )"
      ],
      "execution_count": null,
      "outputs": []
    },
    {
      "cell_type": "code",
      "metadata": {
        "tags": [],
        "cell_id": "00008-b02991e3-f9ca-48e7-8580-736f576d9f44",
        "deepnote_to_be_reexecuted": false,
        "source_hash": "ef4233c",
        "execution_start": 1609551468263,
        "execution_millis": 10,
        "deepnote_cell_type": "code",
        "id": "-VpYv8xKl0kX",
        "outputId": "fcbe6a24-16aa-49b2-bde6-3a4afc05e93a"
      },
      "source": [
        "a"
      ],
      "execution_count": null,
      "outputs": [
        {
          "output_type": "execute_result",
          "data": {
            "text/plain": [
              "(1, 2, 3)"
            ]
          },
          "metadata": {
            "tags": []
          },
          "execution_count": 13
        }
      ]
    },
    {
      "cell_type": "code",
      "metadata": {
        "tags": [],
        "cell_id": "00009-2ce818d7-19fa-4829-9348-8cb8c65fd2b6",
        "deepnote_to_be_reexecuted": false,
        "source_hash": "340c91fe",
        "execution_start": 1609551486730,
        "execution_millis": 0,
        "deepnote_cell_type": "code",
        "id": "HEzC5jfXl0kY"
      },
      "source": [
        "a = {1, # first element\n",
        "    2, #second element\n",
        "    }"
      ],
      "execution_count": null,
      "outputs": []
    },
    {
      "cell_type": "code",
      "metadata": {
        "tags": [],
        "cell_id": "00010-2f7a0308-528b-4b77-869e-813c19186729",
        "deepnote_to_be_reexecuted": false,
        "source_hash": "ef4233c",
        "execution_start": 1609551490148,
        "execution_millis": 4,
        "deepnote_cell_type": "code",
        "id": "nICEoHFul0kZ",
        "outputId": "17acb4d7-8726-4b9b-b28c-f1ae1e527f0e"
      },
      "source": [
        "a"
      ],
      "execution_count": null,
      "outputs": [
        {
          "output_type": "execute_result",
          "data": {
            "text/plain": [
              "{1, 2}"
            ]
          },
          "metadata": {
            "tags": []
          },
          "execution_count": 15
        }
      ]
    },
    {
      "cell_type": "code",
      "metadata": {
        "tags": [],
        "cell_id": "00011-104e502a-4265-4b7c-a7d7-4d218dc0d477",
        "deepnote_to_be_reexecuted": false,
        "source_hash": "676f6055",
        "execution_millis": 9,
        "execution_start": 1609551518695,
        "deepnote_cell_type": "code",
        "id": "4piUtqOhl0ka"
      },
      "source": [
        "a = {'key1': 'value1', #comment\n",
        "    'key2': # secrect key for aws access\n",
        "    'value2' #comment\n",
        "    }"
      ],
      "execution_count": null,
      "outputs": []
    },
    {
      "cell_type": "code",
      "metadata": {
        "tags": [],
        "cell_id": "00012-97967b9e-d756-41eb-b8d7-26c954466e4f",
        "deepnote_to_be_reexecuted": false,
        "source_hash": "ef4233c",
        "execution_start": 1609551521595,
        "execution_millis": 10,
        "deepnote_cell_type": "code",
        "id": "4YKQJaJBl0kb",
        "outputId": "62c31e5c-16df-4e67-e9c7-57fef7cf849b"
      },
      "source": [
        "a"
      ],
      "execution_count": null,
      "outputs": [
        {
          "output_type": "execute_result",
          "data": {
            "text/plain": [
              "{'key1': 'value1', 'key2': 'value2'}"
            ]
          },
          "metadata": {
            "tags": []
          },
          "execution_count": 18
        }
      ]
    },
    {
      "cell_type": "code",
      "metadata": {
        "tags": [],
        "cell_id": "00013-b0dc64fa-daf7-42dc-8b55-3717a3a651cf",
        "deepnote_to_be_reexecuted": false,
        "source_hash": "f6a74154",
        "execution_millis": 0,
        "execution_start": 1609551627766,
        "deepnote_cell_type": "code",
        "id": "7dcedaeZl0kc"
      },
      "source": [
        "a = {\n",
        "    1, # first element\n",
        "    2, #second element \n",
        "    }\n",
        "    "
      ],
      "execution_count": null,
      "outputs": []
    },
    {
      "cell_type": "code",
      "metadata": {
        "tags": [],
        "cell_id": "00014-c7abf2db-5a09-4b28-97ad-b6ff27506de7",
        "deepnote_to_be_reexecuted": false,
        "source_hash": "9d9148f",
        "execution_millis": 0,
        "execution_start": 1609551730310,
        "deepnote_cell_type": "code",
        "id": "eYQ8VGkAl0kc"
      },
      "source": [
        "def my_func(a, #some comment\n",
        "            b, # some comment 2\n",
        "            c # some comment for this also\n",
        "            ):\n",
        "    print(a, b, c)"
      ],
      "execution_count": null,
      "outputs": []
    },
    {
      "cell_type": "code",
      "metadata": {
        "tags": [],
        "cell_id": "00015-7c86132f-ac33-4065-981e-ce40d8bbce5d",
        "deepnote_to_be_reexecuted": false,
        "source_hash": "564b2e18",
        "execution_millis": 0,
        "execution_start": 1609551773933,
        "deepnote_cell_type": "code",
        "id": "CogMiBkLl0kd",
        "outputId": "8328b331-67b5-47d5-8b27-dd80bdb21013"
      },
      "source": [
        "my_func(1, # this is a random input\n",
        "        2, # this was used to check the boundary condition\n",
        "        43)"
      ],
      "execution_count": null,
      "outputs": [
        {
          "output_type": "stream",
          "text": [
            "1 2 43\n"
          ],
          "name": "stdout"
        }
      ]
    },
    {
      "cell_type": "code",
      "metadata": {
        "tags": [],
        "cell_id": "00016-18d16844-c56f-4a9a-b0c6-d582d91dc1e6",
        "deepnote_to_be_reexecuted": false,
        "source_hash": "47d8ddcf",
        "execution_millis": 14,
        "execution_start": 1609551871185,
        "deepnote_cell_type": "code",
        "id": "MrIL64Otl0kd",
        "outputId": "13340693-717b-4f5f-c41e-8818fdad9ff4"
      },
      "source": [
        "a = 10\n",
        "b = 20\n",
        "c = 30\n",
        "\n",
        "if a > 5 \\\n",
        "    and b > 10 \\\n",
        "    and c > 20:\n",
        "    print('yeah!!')"
      ],
      "execution_count": null,
      "outputs": [
        {
          "output_type": "stream",
          "text": [
            "yeah!!\n"
          ],
          "name": "stdout"
        }
      ]
    },
    {
      "cell_type": "code",
      "metadata": {
        "tags": [],
        "cell_id": "00017-e44de42a-3db1-4a08-a0f4-84e22ba74efc",
        "deepnote_to_be_reexecuted": false,
        "source_hash": "dc82f6c1",
        "execution_start": 1609551899838,
        "execution_millis": 0,
        "deepnote_cell_type": "code",
        "id": "5GyG4Tx4l0ke",
        "outputId": "6c6bf68a-f7bd-40f3-a5b1-540d58e917a8"
      },
      "source": [
        "a = 10\n",
        "b = 20\n",
        "c = 30\n",
        "\n",
        "if a > 5 \\\n",
        "                        and b > 10 \\\n",
        "                                                    and c > 20:\n",
        "    print('yeah!!')\n",
        "\n",
        "# not recommended!"
      ],
      "execution_count": null,
      "outputs": [
        {
          "output_type": "stream",
          "text": [
            "yeah!!\n"
          ],
          "name": "stdout"
        }
      ]
    },
    {
      "cell_type": "code",
      "metadata": {
        "tags": [],
        "cell_id": "00018-22bece86-b94e-4d34-8e90-9a854a335021",
        "deepnote_to_be_reexecuted": false,
        "source_hash": "200344cf",
        "execution_millis": 0,
        "execution_start": 1609551997302,
        "deepnote_cell_type": "code",
        "id": "E1A6MGGxl0kf"
      },
      "source": [
        "a = '''this is \n",
        "a new year called \n",
        "2021'''"
      ],
      "execution_count": null,
      "outputs": []
    },
    {
      "cell_type": "code",
      "metadata": {
        "tags": [],
        "cell_id": "00019-18cbdb05-35a4-4276-b884-20d84d015238",
        "deepnote_to_be_reexecuted": false,
        "source_hash": "3791362",
        "execution_millis": 3,
        "execution_start": 1609552010930,
        "deepnote_cell_type": "code",
        "id": "GT7mJljel0kf",
        "outputId": "1fe0e2af-8b18-4f2b-8f18-5bbdd32fa018"
      },
      "source": [
        "print(a)"
      ],
      "execution_count": null,
      "outputs": [
        {
          "output_type": "stream",
          "text": [
            "this is \n",
            "a new year called \n",
            "2021\n"
          ],
          "name": "stdout"
        }
      ]
    },
    {
      "cell_type": "code",
      "metadata": {
        "tags": [],
        "cell_id": "00020-c720ed69-0370-4038-b67b-d651baebae71",
        "deepnote_to_be_reexecuted": false,
        "source_hash": "ef4233c",
        "execution_start": 1609552036730,
        "execution_millis": 0,
        "deepnote_cell_type": "code",
        "id": "-GCf1r4Vl0kg",
        "outputId": "d83975f5-7016-4014-9ef2-f048cd4c158f"
      },
      "source": [
        "a"
      ],
      "execution_count": null,
      "outputs": [
        {
          "output_type": "execute_result",
          "data": {
            "text/plain": [
              "'this is \\na new year called \\n2021'"
            ]
          },
          "metadata": {
            "tags": []
          },
          "execution_count": 42
        }
      ]
    },
    {
      "cell_type": "code",
      "metadata": {
        "tags": [],
        "cell_id": "00021-85936558-2341-4091-a366-32a00f7d82b3",
        "deepnote_to_be_reexecuted": false,
        "source_hash": "1ccc7688",
        "execution_start": 1609552076298,
        "execution_millis": 0,
        "deepnote_cell_type": "code",
        "id": "Ek7Dnc1-l0kh",
        "outputId": "b5d125ce-8375-48ed-d9f6-918f5878d18b"
      },
      "source": [
        "a = \"\"\"some items:\\n\n",
        "        1. item 1\n",
        "        2. item 2\"\"\"\n",
        "\n",
        "a"
      ],
      "execution_count": null,
      "outputs": [
        {
          "output_type": "execute_result",
          "data": {
            "text/plain": [
              "'some items:\\n\\n        1. item 1\\n        2. item 2'"
            ]
          },
          "metadata": {
            "tags": []
          },
          "execution_count": 43
        }
      ]
    },
    {
      "cell_type": "code",
      "metadata": {
        "tags": [],
        "cell_id": "00022-99d5e7fc-d48a-45d0-8f29-adbcb97b81c6",
        "deepnote_to_be_reexecuted": false,
        "source_hash": "3791362",
        "execution_start": 1609552098306,
        "execution_millis": 4,
        "deepnote_cell_type": "code",
        "id": "aNNS_dm-l0kh",
        "outputId": "89a1f632-4e67-45e3-8058-240c47e3b1c1"
      },
      "source": [
        "print(a)"
      ],
      "execution_count": null,
      "outputs": [
        {
          "output_type": "stream",
          "text": [
            "some items:\n",
            "\n",
            "        1. item 1\n",
            "        2. item 2\n"
          ],
          "name": "stdout"
        }
      ]
    },
    {
      "cell_type": "code",
      "metadata": {
        "tags": [],
        "cell_id": "00023-7c81ca9e-cd20-4f2b-8e5f-eebce4724eb2",
        "deepnote_to_be_reexecuted": false,
        "source_hash": "c2444663",
        "execution_start": 1609552144322,
        "execution_millis": 0,
        "deepnote_cell_type": "code",
        "id": "0H83z5ABl0ki",
        "outputId": "63f92698-cbf7-4459-f7b0-deed4073b8ae"
      },
      "source": [
        "def my_func():\n",
        "    a = '''a multi-line string\n",
        "    that is actually indented in the second line'''\n",
        "    return a\n",
        "\n",
        "print(my_func())"
      ],
      "execution_count": null,
      "outputs": [
        {
          "output_type": "stream",
          "text": [
            "a multi-line string\n",
            "    that is actually indented in the second line\n"
          ],
          "name": "stdout"
        }
      ]
    },
    {
      "cell_type": "code",
      "metadata": {
        "tags": [],
        "cell_id": "00024-69774488-5f3f-4d9f-9148-41a71e418769",
        "deepnote_to_be_reexecuted": false,
        "source_hash": "ce7ded7f",
        "execution_start": 1609552181822,
        "execution_millis": 0,
        "deepnote_cell_type": "code",
        "id": "TgrfAL0pl0kj",
        "outputId": "31dc506b-373c-4f30-f428-8f4bc86cd76d"
      },
      "source": [
        "'''a multi-line string\n",
        "    that is actually indented in the second line'''"
      ],
      "execution_count": null,
      "outputs": [
        {
          "output_type": "execute_result",
          "data": {
            "text/plain": [
              "'a multi-line string\\n    that is actually indented in the second line'"
            ]
          },
          "metadata": {
            "tags": []
          },
          "execution_count": 46
        }
      ]
    },
    {
      "cell_type": "code",
      "metadata": {
        "tags": [],
        "cell_id": "00025-f12c19a4-b0cd-4bc6-8e34-a665a7c72441",
        "deepnote_to_be_reexecuted": false,
        "source_hash": "5f939bff",
        "execution_start": 1609552236229,
        "execution_millis": 45,
        "deepnote_cell_type": "code",
        "id": "ZMFu-LlYl0kk",
        "outputId": "76d30b34-71c3-4586-f166-b3b9bbdfeff2"
      },
      "source": [
        "'''From Wikipedia, the free encyclopedia\n",
        "Jump to navigationJump to search\n",
        "This article is about the poet and playwright. For other persons of the same name, see William Shakespeare (disambiguation). For other uses of \"Shakespeare\", see Shakespeare (disambiguation).\n",
        "William Shakespeare\n",
        "Shakespeare.jpg\n",
        "The Chandos portrait (held by the National Portrait Gallery, London)\n",
        "Born\tStratford-upon-Avon, Warwickshire, England\n",
        "Baptised\t26 April 1564\n",
        "Died\t23 April 1616 (aged 52)\n",
        "Stratford-upon-Avon, Warwickshire, England\n",
        "Resting place\tChurch of the Holy Trinity, Stratford-upon-Avon\n",
        "Occupation\t\n",
        "Playwrightpoetactor\n",
        "Years active\tc. 1585–1613\n",
        "Era\t\n",
        "Elizabethan\n",
        "Jacobean\n",
        "Movement\tEnglish Renaissance\n",
        "Spouse(s)\tAnne Hathaway ​(m. 1582)​\n",
        "Children\t\n",
        "Susanna Hall\n",
        "Hamnet Shakespeare\n",
        "Judith Quiney\n",
        "Parents\t\n",
        "John Shakespeare (father)\n",
        "Mary Arden (mother)\n",
        "Signature\n",
        "William Shakespeare Signature.svg\n",
        "William Shakespeare (bapt. 26 April 1564 – 23 April 1616)[a] was an English playwright, poet, and actor, widely regarded as the greatest writer in the English language and the world's greatest dramatist.[2][3][4] He is often called England's national poet and the \"Bard of Avon\" (or simply \"the Bard\").[5][b] His extant works, including collaborations, consist of some 39 plays,[c] 154 sonnets, two long narrative poems, and a few other verses, some of uncertain authorship. His plays have been translated into every major living language and are performed more often than those of any other playwright.[7] They also continue to be studied and reinterpreted.\n",
        "\n",
        "Shakespeare was born and raised in Stratford-upon-Avon, Warwickshire. At the age of 18, he married Anne Hathaway, with whom he had three children: Susanna and twins Hamnet and Judith. Sometime between 1585 and 1592, he began a successful career in London as an actor, writer, and part-owner of a playing company called the Lord Chamberlain's Men, later known as the King's Men. At age 49 (around 1613), he appears to have retired to Stratford, where he died three years later. Few records of Shakespeare's private life survive; this has stimulated considerable speculation about such matters as his physical appearance, his sexuality, his religious beliefs, and whether the works attributed to him were written by others.[8][9][10]\n",
        "\n",
        "Shakespeare produced most of his known works between 1589 and 1613.[11][12][d] His early plays were primarily comedies and histories and are regarded as some of the best work produced in these genres. He then wrote mainly tragedies until 1608, among them Hamlet, Romeo and Juliet, Othello, King Lear, and Macbeth, all considered to be among the finest works in the English language.[2][3][4] In the last phase of his life, he wrote tragicomedies (also known as romances) and collaborated with other playwrights.\n",
        "\n",
        "Many of Shakespeare's plays were published in editions of varying quality and accuracy in his lifetime. However, in 1623, two fellow actors and friends of Shakespeare's, John Heminges and Henry Condell, published a more definitive text known as the First Folio, a posthumous collected edition of Shakespeare's dramatic works that included all but two of his plays.[13] The volume was prefaced with a poem by Ben Jonson, in which Jonson presciently hailed Shakespeare in a now-famous quote as \"not of an age, but for all time\".[13]\n",
        "\n",
        "\n",
        "Contents\n",
        "1\tLife\n",
        "1.1\tEarly life\n",
        "1.2\tLondon and theatrical career\n",
        "1.3\tLater years and death\n",
        "2\tPlays\n",
        "2.1\tPerformances\n",
        "2.2\tTextual sources\n",
        "3\tPoems\n",
        "3.1\tSonnets\n",
        "4\tStyle\n",
        "5\tInfluence\n",
        "6\tCritical reputation\n",
        "7\tWorks\n",
        "7.1\tClassification of the plays\n",
        "8\tSpeculation about Shakespeare\n",
        "8.1\tAuthorship\n",
        "8.2\tReligion\n",
        "8.3\tSexuality\n",
        "8.4\tPortraiture\n",
        "9\tSee also\n",
        "10\tNotes and references\n",
        "10.1\tNotes\n",
        "10.2\tReferences\n",
        "11\tSources\n",
        "12\tExternal links\n",
        "Life\n",
        "Main article: Life of William Shakespeare\n",
        "Early life\n",
        "William Shakespeare was the son of John Shakespeare, an alderman and a successful glover (glove-maker) originally from Snitterfield, and Mary Arden, the daughter of an affluent landowning farmer.[14] He was born in Stratford-upon-Avon, where he was baptised on 26 April 1564. His date of birth is unknown, but is traditionally observed on 23 April, Saint George's Day.[15] This date, which can be traced to a mistake made by an 18th-century scholar, has proved appealing to biographers because Shakespeare died on the same date in 1616.[16][17] He was the third of John and Mary Shakespeare's eight children,[18] and their oldest surviving child; their first two children, both girls, did not live beyond infancy.[19]\n",
        "\n",
        "\n",
        "John Shakespeare's house, believed to be Shakespeare's birthplace, in Stratford-upon-Avon\n",
        "Although no attendance records for the period survive, most biographers agree that Shakespeare was probably educated at the King's New School in Stratford,[20][21][22] a free school chartered in 1553,[23] about a quarter-mile (400 m) from his home. Grammar schools varied in quality during the Elizabethan era, but grammar school curricula were largely similar: the basic Latin text was standardised by royal decree,[24][25] and the school would have provided an intensive education in grammar based upon Latin classical authors.[26]\n",
        "\n",
        "At the age of 18, Shakespeare married 26-year-old Anne Hathaway. The consistory court of the Diocese of Worcester issued a marriage licence on 27 November 1582. The next day, two of Hathaway's neighbours posted bonds guaranteeing that no lawful claims impeded the marriage.[27] The ceremony may have been arranged in some haste since the Worcester chancellor allowed the marriage banns to be read once instead of the usual three times,[28][29] and six months after the marriage Anne gave birth to a daughter, Susanna, baptised 26 May 1583.[30] Twins, son Hamnet and daughter Judith, followed almost two years later and were baptised 2 February 1585.[31] Hamnet died of unknown causes at the age of 11 and was buried 11 August 1596.[32]\n",
        "\n",
        "\n",
        "Shakespeare's coat of arms, as it appears on the rough draft of the application to grant a coat-of-arms to John Shakespeare. It features a spear as a pun on the family name.[e]\n",
        "After the birth of the twins, Shakespeare left few historical traces until he is mentioned as part of the London theatre scene in 1592. The exception is the appearance of his name in the \"complaints bill\" of a law case before the Queen's Bench court at Westminster dated Michaelmas Term 1588 and 9 October 1589.[33] Scholars refer to the years between 1585 and 1592 as Shakespeare's \"lost years\".[34] Biographers attempting to account for this period have reported many apocryphal stories. Nicholas Rowe, Shakespeare's first biographer, recounted a Stratford legend that Shakespeare fled the town for London to escape prosecution for deer poaching in the estate of local squire Thomas Lucy. Shakespeare is also supposed to have taken his revenge on Lucy by writing a scurrilous ballad about him.[35][36] Another 18th-century story has Shakespeare starting his theatrical career minding the horses of theatre patrons in London.[37] John Aubrey reported that Shakespeare had been a country schoolmaster.[38] Some 20th-century scholars suggested that Shakespeare may have been employed as a schoolmaster by Alexander Hoghton of Lancashire, a Catholic landowner who named a certain \"William Shakeshafte\" in his will.[39][40] Little evidence substantiates such stories other than hearsay collected after his death, and Shakeshafte was a common name in the Lancashire area.[41][42]\n",
        "\n",
        "London and theatrical career\n",
        "It is not known definitively when Shakespeare began writing, but contemporary allusions and records of performances show that several of his plays were on the London stage by 1592.[43] By then, he was sufficiently known in London to be attacked in print by the playwright Robert Greene in his Groats-Worth of Wit:\n",
        "\n",
        "... there is an upstart Crow, beautified with our feathers, that with his Tiger's heart wrapped in a Player's hide, supposes he is as well able to bombast out a blank verse as the best of you: and being an absolute Johannes factotum, is in his own conceit the only Shake-scene in a country.[44]\n",
        "\n",
        "Scholars differ on the exact meaning of Greene's words,[44][45] but most agree that Greene was accusing Shakespeare of reaching above his rank in trying to match such university-educated writers as Christopher Marlowe, Thomas Nashe, and Greene himself (the so-called \"University Wits\").[46] The italicised phrase parodying the line \"Oh, tiger's heart wrapped in a woman's hide\" from Shakespeare's Henry VI, Part 3, along with the pun \"Shake-scene\", clearly identify Shakespeare as Greene's target. As used here, Johannes Factotum (\"Jack of all trades\") refers to a second-rate tinkerer with the work of others, rather than the more common \"universal genius\".[44][47]\n",
        "\n",
        "Greene's attack is the earliest surviving mention of Shakespeare's work in the theatre. Biographers suggest that his career may have begun any time from the mid-1580s to just before Greene's remarks.[48][49][50] After 1594, Shakespeare's plays were performed only by the Lord Chamberlain's Men, a company owned by a group of players, including Shakespeare, that soon became the leading playing company in London.[51] After the death of Queen Elizabeth in 1603, the company was awarded a royal patent by the new King James I, and changed its name to the King's Men.[52]\n",
        "\n",
        "\"All the world's a stage,\n",
        "and all the men and women merely players:\n",
        "they have their exits and their entrances;\n",
        "and one man in his time plays many parts ...\"\n",
        "\n",
        "—As You Like It, Act II, Scene 7, 139–142[53]\n",
        "In 1599, a partnership of members of the company built their own theatre on the south bank of the River Thames, which they named the Globe. In 1608, the partnership also took over the Blackfriars indoor theatre. Extant records of Shakespeare's property purchases and investments indicate that his association with the company made him a wealthy man,[54] and in 1597, he bought the second-largest house in Stratford, New Place, and in 1605, invested in a share of the parish tithes in Stratford.[55]\n",
        "\n",
        "Some of Shakespeare's plays were published in quarto editions, beginning in 1594, and by 1598, his name had become a selling point and began to appear on the title pages.[56][57][58] Shakespeare continued to act in his own and other plays after his success as a playwright. The 1616 edition of Ben Jonson's Works names him on the cast lists for Every Man in His Humour (1598) and Sejanus His Fall (1603).[59] The absence of his name from the 1605 cast list for Jonson's Volpone is taken by some scholars as a sign that his acting career was nearing its end.[48] The First Folio of 1623, however, lists Shakespeare as one of \"the Principal Actors in all these Plays\", some of which were first staged after Volpone, although one cannot know for certain which roles he played.[60] In 1610, John Davies of Hereford wrote that \"good Will\" played \"kingly\" roles.[61] In 1709, Rowe passed down a tradition that Shakespeare played the ghost of Hamlet's father.[36] Later traditions maintain that he also played Adam in As You Like It, and the Chorus in Henry V,[62][63] though scholars doubt the sources of that information.[64]\n",
        "\n",
        "Throughout his career, Shakespeare divided his time between London and Stratford. In 1596, the year before he bought New Place as his family home in Stratford, Shakespeare was living in the parish of St. Helen's, Bishopsgate, north of the River Thames.[65][66] He moved across the river to Southwark by 1599, the same year his company constructed the Globe Theatre there.[65][67] By 1604, he had moved north of the river again, to an area north of St Paul's Cathedral with many fine houses. There, he rented rooms from a French Huguenot named Christopher Mountjoy, a maker of ladies' wigs and other headgear.[68][69]\n",
        "\n",
        "Later years and death\n",
        "\n",
        "Shakespeare's funerary monument in Stratford-upon-Avon\n",
        "Rowe was the first biographer to record the tradition, repeated by Johnson, that Shakespeare retired to Stratford \"some years before his death\".[70][71] He was still working as an actor in London in 1608; in an answer to the sharers' petition in 1635, Cuthbert Burbage stated that after purchasing the lease of the Blackfriars Theatre in 1608 from Henry Evans, the King's Men \"placed men players\" there, \"which were Heminges, Condell, Shakespeare, etc.\".[72] However, it is perhaps relevant that the bubonic plague raged in London throughout 1609.[73][74] The London public playhouses were repeatedly closed during extended outbreaks of the plague (a total of over 60 months closure between May 1603 and February 1610),[75] which meant there was often no acting work. Retirement from all work was uncommon at that time.[76] Shakespeare continued to visit London during the years 1611–1614.[70] In 1612, he was called as a witness in Bellott v Mountjoy, a court case concerning the marriage settlement of Mountjoy's daughter, Mary.[77][78] In March 1613, he bought a gatehouse in the former Blackfriars priory;[79] and from November 1614, he was in London for several weeks with his son-in-law, John Hall.[80] After 1610, Shakespeare wrote fewer plays, and none are attributed to him after 1613.[81] His last three plays were collaborations, probably with John Fletcher,[82] who succeeded him as the house playwright of the King's Men.[83]\n",
        "\n",
        "Shakespeare died on 23 April 1616, at the age of 52.[f] He died within a month of signing his will, a document which he begins by describing himself as being in \"perfect health\". No extant contemporary source explains how or why he died. Half a century later, John Ward, the vicar of Stratford, wrote in his notebook: \"Shakespeare, Drayton, and Ben Jonson had a merry meeting and, it seems, drank too hard, for Shakespeare died of a fever there contracted\",[84][85] not an impossible scenario since Shakespeare knew Jonson and Drayton. Of the tributes from fellow authors, one refers to his relatively sudden death: \"We wondered, Shakespeare, that thou went'st so soon / From the world's stage to the grave's tiring room.\"[86][g]\n",
        "\n",
        "\n",
        "Holy Trinity Church, Stratford-upon-Avon, where Shakespeare was baptised and is buried\n",
        "He was survived by his wife and two daughters. Susanna had married a physician, John Hall, in 1607,[87] and Judith had married Thomas Quiney, a vintner, two months before Shakespeare's death.[88] Shakespeare signed his last will and testament on 25 March 1616; the following day, his new son-in-law, Thomas Quiney was found guilty of fathering an illegitimate son by Margaret Wheeler, who had died during childbirth. Thomas was ordered by the church court to do public penance, which would have caused much shame and embarrassment for the Shakespeare family.[88]\n",
        "\n",
        "Shakespeare bequeathed the bulk of his large estate to his elder daughter Susanna[89] under stipulations that she pass it down intact to \"the first son of her body\".[90] The Quineys had three children, all of whom died without marrying.[91][92] The Halls had one child, Elizabeth, who married twice but died without children in 1670, ending Shakespeare's direct line.[93][94] Shakespeare's will scarcely mentions his wife, Anne, who was probably entitled to one-third of his estate automatically.[h] He did make a point, however, of leaving her \"my second best bed\", a bequest that has led to much speculation.[96][97][98] Some scholars see the bequest as an insult to Anne, whereas others believe that the second-best bed would have been the matrimonial bed and therefore rich in significance.[99]\n",
        "\n",
        "\n",
        "Shakespeare's grave, next to those of Anne Shakespeare, his wife, and Thomas Nash, the husband of his granddaughter\n",
        "Shakespeare was buried in the chancel of the Holy Trinity Church two days after his death.[100][101] The epitaph carved into the stone slab covering his grave includes a curse against moving his bones, which was carefully avoided during restoration of the church in 2008:[102]\n",
        "\n",
        "Good frend for Iesvs sake forbeare,\n",
        "To digg the dvst encloased heare.\n",
        "Bleste be yͤ man yͭ spares thes stones,\n",
        "And cvrst be he yͭ moves my bones.[103][i]\n",
        "\n",
        "(Modern spelling: Good friend, for Jesus' sake forbear, / To dig the dust enclosed here. / Blessed be the man that spares these stones, / And cursed be he that moves my bones.)\n",
        "\n",
        "Some time before 1623, a funerary monument was erected in his memory on the north wall, with a half-effigy of him in the act of writing. Its plaque compares him to Nestor, Socrates, and Virgil.[104] In 1623, in conjunction with the publication of the First Folio, the Droeshout engraving was published.[105]\n",
        "\n",
        "Shakespeare has been commemorated in many statues and memorials around the world, including funeral monuments in Southwark Cathedral and Poets' Corner in Westminster Abbey.[106][107]\n",
        "\n",
        "Plays\n",
        "Main articles: Shakespeare's plays and William Shakespeare's collaborations\n",
        "\n",
        "Procession of Characters from Shakespeare's Plays by an unknown 19th-century artist\n",
        "Most playwrights of the period typically collaborated with others at some point, and critics agree that Shakespeare did the same, mostly early and late in his career.[108]\n",
        "\n",
        "The first recorded works of Shakespeare are Richard III and the three parts of Henry VI, written in the early 1590s during a vogue for historical drama. Shakespeare's plays are difficult to date precisely, however,[109][110] and studies of the texts suggest that Titus Andronicus, The Comedy of Errors, The Taming of the Shrew, and The Two Gentlemen of Verona may also belong to Shakespeare's earliest period.[111][109] His first histories, which draw heavily on the 1587 edition of Raphael Holinshed's Chronicles of England, Scotland, and Ireland,[112] dramatise the destructive results of weak or corrupt rule and have been interpreted as a justification for the origins of the Tudor dynasty.[113] The early plays were influenced by the works of other Elizabethan dramatists, especially Thomas Kyd and Christopher Marlowe, by the traditions of medieval drama, and by the plays of Seneca.[114][115][116] The Comedy of Errors was also based on classical models, but no source for The Taming of the Shrew has been found, though it is related to a separate play of the same name and may have derived from a folk story.[117][118] Like The Two Gentlemen of Verona, in which two friends appear to approve of rape,[119][120][121] the Shrew's story of the taming of a woman's independent spirit by a man sometimes troubles modern critics, directors, and audiences.[122]\n",
        "\n",
        "\n",
        "Oberon, Titania and Puck with Fairies Dancing. By William Blake, c. 1786. Tate Britain.\n",
        "Shakespeare's early classical and Italianate comedies, containing tight double plots and precise comic sequences, give way in the mid-1590s to the romantic atmosphere of his most acclaimed comedies.[123] A Midsummer Night's Dream is a witty mixture of romance, fairy magic, and comic lowlife scenes.[124] Shakespeare's next comedy, the equally romantic Merchant of Venice, contains a portrayal of the vengeful Jewish moneylender Shylock, which reflects Elizabethan views but may appear derogatory to modern audiences.[125][126] The wit and wordplay of Much Ado About Nothing,[127] the charming rural setting of As You Like It, and the lively merrymaking of Twelfth Night complete Shakespeare's sequence of great comedies.[128] After the lyrical Richard II, written almost entirely in verse, Shakespeare introduced prose comedy into the histories of the late 1590s, Henry IV, parts 1 and 2, and Henry V. His characters become more complex and tender as he switches deftly between comic and serious scenes, prose and poetry, and achieves the narrative variety of his mature work.[129][130][131] This period begins and ends with two tragedies: Romeo and Juliet, the famous romantic tragedy of sexually charged adolescence, love, and death;[132][133] and Julius Caesar—based on Sir Thomas North's 1579 translation of Plutarch's Parallel Lives—which introduced a new kind of drama.[134][135] According to Shakespearean scholar James Shapiro, in Julius Caesar, \"the various strands of politics, character, inwardness, contemporary events, even Shakespeare's own reflections on the act of writing, began to infuse each other\".[136]\n",
        "\n",
        "\n",
        "Hamlet, Horatio, Marcellus, and the Ghost of Hamlet's Father. Henry Fuseli, 1780–1785. Kunsthaus Zürich.\n",
        "In the early 17th century, Shakespeare wrote the so-called \"problem plays\" Measure for Measure, Troilus and Cressida, and All's Well That Ends Well and a number of his best known tragedies.[137][138] Many critics believe that Shakespeare's greatest tragedies represent the peak of his art. The titular hero of one of Shakespeare's greatest tragedies, Hamlet, has probably been discussed more than any other Shakespearean character, especially for his famous soliloquy which begins \"To be or not to be; that is the question\".[139] Unlike the introverted Hamlet, whose fatal flaw is hesitation, the heroes of the tragedies that followed, Othello and King Lear, are undone by hasty errors of judgement.[140] The plots of Shakespeare's tragedies often hinge on such fatal errors or flaws, which overturn order and destroy the hero and those he loves.[141] In Othello, the villain Iago stokes Othello's sexual jealousy to the point where he murders the innocent wife who loves him.[142][143] In King Lear, the old king commits the tragic error of giving up his powers, initiating the events which lead to the torture and blinding of the Earl of Gloucester and the murder of Lear's youngest daughter Cordelia. According to the critic Frank Kermode, \"the play...offers neither its good characters nor its audience any relief from its cruelty\".[144][145][146] In Macbeth, the shortest and most compressed of Shakespeare's tragedies,[147] uncontrollable ambition incites Macbeth and his wife, Lady Macbeth, to murder the rightful king and usurp the throne until their own guilt destroys them in turn.[148] In this play, Shakespeare adds a supernatural element to the tragic structure. His last major tragedies, Antony and Cleopatra and Coriolanus, contain some of Shakespeare's finest poetry and were considered his most successful tragedies by the poet and critic T. S. Eliot.[149][150][151]\n",
        "\n",
        "In his final period, Shakespeare turned to romance or tragicomedy and completed three more major plays: Cymbeline, The Winter's Tale, and The Tempest, as well as the collaboration, Pericles, Prince of Tyre. Less bleak than the tragedies, these four plays are graver in tone than the comedies of the 1590s, but they end with reconciliation and the forgiveness of potentially tragic errors.[152] Some commentators have seen this change in mood as evidence of a more serene view of life on Shakespeare's part, but it may merely reflect the theatrical fashion of the day.[153][154][155] Shakespeare collaborated on two further surviving plays, Henry VIII and The Two Noble Kinsmen, probably with John Fletcher.[156]\n",
        "\n",
        "Performances\n",
        "Main article: Shakespeare in performance\n",
        "It is not clear for which companies Shakespeare wrote his early plays. The title page of the 1594 edition of Titus Andronicus reveals that the play had been acted by three different troupes.[157] After the plagues of 1592–93, Shakespeare's plays were performed by his own company at The Theatre and the Curtain in Shoreditch, north of the Thames.[158] Londoners flocked there to see the first part of Henry IV, Leonard Digges recording, \"Let but Falstaff come, Hal, Poins, the rest ... and you scarce shall have a room\".[159] When the company found themselves in dispute with their landlord, they pulled The Theatre down and used the timbers to construct the Globe Theatre, the first playhouse built by actors for actors, on the south bank of the Thames at Southwark.[160][161] The Globe opened in autumn 1599, with Julius Caesar one of the first plays staged. Most of Shakespeare's greatest post-1599 plays were written for the Globe, including Hamlet, Othello, and King Lear.[160][162][163]\n",
        "\n",
        "\n",
        "The reconstructed Globe Theatre on the south bank of the River Thames in London\n",
        "After the Lord Chamberlain's Men were renamed the King's Men in 1603, they entered a special relationship with the new King James. Although the performance records are patchy, the King's Men performed seven of Shakespeare's plays at court between 1 November 1604, and 31 October 1605, including two performances of The Merchant of Venice.[63] After 1608, they performed at the indoor Blackfriars Theatre during the winter and the Globe during the summer.[164] The indoor setting, combined with the Jacobean fashion for lavishly staged masques, allowed Shakespeare to introduce more elaborate stage devices. In Cymbeline, for example, Jupiter descends \"in thunder and lightning, sitting upon an eagle: he throws a thunderbolt. The ghosts fall on their knees.\"[165][166]\n",
        "\n",
        "The actors in Shakespeare's company included the famous Richard Burbage, William Kempe, Henry Condell and John Heminges. Burbage played the leading role in the first performances of many of Shakespeare's plays, including Richard III, Hamlet, Othello, and King Lear.[167] The popular comic actor Will Kempe played the servant Peter in Romeo and Juliet and Dogberry in Much Ado About Nothing, among other characters.[168][169] He was replaced around 1600 by Robert Armin, who played roles such as Touchstone in As You Like It and the fool in King Lear.[170] In 1613, Sir Henry Wotton recorded that Henry VIII \"was set forth with many extraordinary circumstances of pomp and ceremony\".[171] On 29 June, however, a cannon set fire to the thatch of the Globe and burned the theatre to the ground, an event which pinpoints the date of a Shakespeare play with rare precision.[171]\n",
        "\n",
        "Textual sources\n",
        "\n",
        "Title page of the First Folio, 1623. Copper engraving of Shakespeare by Martin Droeshout.\n",
        "In 1623, John Heminges and Henry Condell, two of Shakespeare's friends from the King's Men, published the First Folio, a collected edition of Shakespeare's plays. It contained 36 texts, including 18 printed for the first time.[172] Many of the plays had already appeared in quarto versions—flimsy books made from sheets of paper folded twice to make four leaves.[173] No evidence suggests that Shakespeare approved these editions, which the First Folio describes as \"stol'n and surreptitious copies\".[174] Nor did Shakespeare plan or expect his works to survive in any form at all; those works likely would have faded into oblivion but for his friends' spontaneous idea, after his death, to create and publish the First Folio.[175]\n",
        "\n",
        "Alfred Pollard termed some of the pre-1623 versions as \"bad quartos\" because of their adapted, paraphrased or garbled texts, which may in places have been reconstructed from memory.[173][174][176] Where several versions of a play survive, each differs from the other. The differences may stem from copying or printing errors, from notes by actors or audience members, or from Shakespeare's own papers.[177][178] In some cases, for example, Hamlet, Troilus and Cressida, and Othello, Shakespeare could have revised the texts between the quarto and folio editions. In the case of King Lear, however, while most modern editions do conflate them, the 1623 folio version is so different from the 1608 quarto that the Oxford Shakespeare prints them both, arguing that they cannot be conflated without confusion.[179]\n",
        "\n",
        "Poems\n",
        "In 1593 and 1594, when the theatres were closed because of plague, Shakespeare published two narrative poems on sexual themes, Venus and Adonis and The Rape of Lucrece. He dedicated them to Henry Wriothesley, Earl of Southampton. In Venus and Adonis, an innocent Adonis rejects the sexual advances of Venus; while in The Rape of Lucrece, the virtuous wife Lucrece is raped by the lustful Tarquin.[180] Influenced by Ovid's Metamorphoses,[181] the poems show the guilt and moral confusion that result from uncontrolled lust.[182] Both proved popular and were often reprinted during Shakespeare's lifetime. A third narrative poem, A Lover's Complaint, in which a young woman laments her seduction by a persuasive suitor, was printed in the first edition of the Sonnets in 1609. Most scholars now accept that Shakespeare wrote A Lover's Complaint. Critics consider that its fine qualities are marred by leaden effects.[183][184][185] The Phoenix and the Turtle, printed in Robert Chester's 1601 Love's Martyr, mourns the deaths of the legendary phoenix and his lover, the faithful turtle dove. In 1599, two early drafts of sonnets 138 and 144 appeared in The Passionate Pilgrim, published under Shakespeare's name but without his permission.[183][185][186]\n",
        "\n",
        "Sonnets\n",
        "Main article: Shakespeare's sonnets\n",
        "\n",
        "Title page from 1609 edition of Shake-Speares Sonnets\n",
        "Published in 1609, the Sonnets were the last of Shakespeare's non-dramatic works to be printed. Scholars are not certain when each of the 154 sonnets was composed, but evidence suggests that Shakespeare wrote sonnets throughout his career for a private readership.[187][188] Even before the two unauthorised sonnets appeared in The Passionate Pilgrim in 1599, Francis Meres had referred in 1598 to Shakespeare's \"sugred Sonnets among his private friends\".[189] Few analysts believe that the published collection follows Shakespeare's intended sequence.[190] He seems to have planned two contrasting series: one about uncontrollable lust for a married woman of dark complexion (the \"dark lady\"), and one about conflicted love for a fair young man (the \"fair youth\"). It remains unclear if these figures represent real individuals, or if the authorial \"I\" who addresses them represents Shakespeare himself, though Wordsworth believed that with the sonnets \"Shakespeare unlocked his heart\".[189][188]\n",
        "\n",
        "\"Shall I compare thee to a summer's day?\n",
        "Thou art more lovely and more temperate ...\"\n",
        "\n",
        "—Lines from Shakespeare's Sonnet 18.[191]\n",
        "The 1609 edition was dedicated to a \"Mr. W.H.\", credited as \"the only begetter\" of the poems. It is not known whether this was written by Shakespeare himself or by the publisher, Thomas Thorpe, whose initials appear at the foot of the dedication page; nor is it known who Mr. W.H. was, despite numerous theories, or whether Shakespeare even authorised the publication.[192] Critics praise the Sonnets as a profound meditation on the nature of love, sexual passion, procreation, death, and time.[193]\n",
        "\n",
        "Style\n",
        "Main article: Shakespeare's style\n",
        "Shakespeare's first plays were written in the conventional style of the day. He wrote them in a stylised language that does not always spring naturally from the needs of the characters or the drama.[194] The poetry depends on extended, sometimes elaborate metaphors and conceits, and the language is often rhetorical—written for actors to declaim rather than speak. The grand speeches in Titus Andronicus, in the view of some critics, often hold up the action, for example; and the verse in The Two Gentlemen of Verona has been described as stilted.[195][196]\n",
        "\n",
        "\n",
        "Pity by William Blake, 1795, Tate Britain, is an illustration of two similes in Macbeth:\n",
        "\"And pity, like a naked new-born babe,\n",
        "Striding the blast, or heaven's cherubim, hors'd\n",
        "Upon the sightless couriers of the air.\"[197]\n",
        "\n",
        "However, Shakespeare soon began to adapt the traditional styles to his own purposes. The opening soliloquy of Richard III has its roots in the self-declaration of Vice in medieval drama. At the same time, Richard's vivid self-awareness looks forward to the soliloquies of Shakespeare's mature plays.[198][199] No single play marks a change from the traditional to the freer style. Shakespeare combined the two throughout his career, with Romeo and Juliet perhaps the best example of the mixing of the styles.[200] By the time of Romeo and Juliet, Richard II, and A Midsummer Night's Dream in the mid-1590s, Shakespeare had begun to write a more natural poetry. He increasingly tuned his metaphors and images to the needs of the drama itself.\n",
        "\n",
        "Shakespeare's standard poetic form was blank verse, composed in iambic pentameter. In practice, this meant that his verse was usually unrhymed and consisted of ten syllables to a line, spoken with a stress on every second syllable. The blank verse of his early plays is quite different from that of his later ones. It is often beautiful, but its sentences tend to start, pause, and finish at the end of lines, with the risk of monotony.[201] Once Shakespeare mastered traditional blank verse, he began to interrupt and vary its flow. This technique releases the new power and flexibility of the poetry in plays such as Julius Caesar and Hamlet. Shakespeare uses it, for example, to convey the turmoil in Hamlet's mind:[202]\n",
        "\n",
        "Sir, in my heart there was a kind of fighting\n",
        "That would not let me sleep. Methought I lay\n",
        "Worse than the mutines in the bilboes. Rashly—\n",
        "And prais'd be rashness for it—let us know\n",
        "Our indiscretion sometimes serves us well ...\n",
        "\n",
        "— Hamlet, Act 5, Scene 2, 4–8[202]\n",
        "After Hamlet, Shakespeare varied his poetic style further, particularly in the more emotional passages of the late tragedies. The literary critic A. C. Bradley described this style as \"more concentrated, rapid, varied, and, in construction, less regular, not seldom twisted or elliptical\".[203] In the last phase of his career, Shakespeare adopted many techniques to achieve these effects. These included run-on lines, irregular pauses and stops, and extreme variations in sentence structure and length.[204] In Macbeth, for example, the language darts from one unrelated metaphor or simile to another: \"was the hope drunk/ Wherein you dressed yourself?\" (1.7.35–38); \"... pity, like a naked new-born babe/ Striding the blast, or heaven's cherubim, hors'd/ Upon the sightless couriers of the air ...\" (1.7.21–25). The listener is challenged to complete the sense.[204] The late romances, with their shifts in time and surprising turns of plot, inspired a last poetic style in which long and short sentences are set against one another, clauses are piled up, subject and object are reversed, and words are omitted, creating an effect of spontaneity.[205]\n",
        "\n",
        "Shakespeare combined poetic genius with a practical sense of the theatre.[206] Like all playwrights of the time, he dramatised stories from sources such as Plutarch and Holinshed.[207] He reshaped each plot to create several centres of interest and to show as many sides of a narrative to the audience as possible. This strength of design ensures that a Shakespeare play can survive translation, cutting and wide interpretation without loss to its core drama.[208] As Shakespeare's mastery grew, he gave his characters clearer and more varied motivations and distinctive patterns of speech. He preserved aspects of his earlier style in the later plays, however. In Shakespeare's late romances, he deliberately returned to a more artificial style, which emphasised the illusion of theatre.[209][210]\n",
        "\n",
        "Influence\n",
        "Main article: Shakespeare's influence\n",
        "\n",
        "Macbeth Consulting the Vision of the Armed Head. By Henry Fuseli, 1793–1794. Folger Shakespeare Library, Washington.\n",
        "Shakespeare's work has made a lasting impression on later theatre and literature. In particular, he expanded the dramatic potential of characterisation, plot, language, and genre.[211] Until Romeo and Juliet, for example, romance had not been viewed as a worthy topic for tragedy.[212] Soliloquies had been used mainly to convey information about characters or events, but Shakespeare used them to explore characters' minds.[213] His work heavily influenced later poetry. The Romantic poets attempted to revive Shakespearean verse drama, though with little success. Critic George Steiner described all English verse dramas from Coleridge to Tennyson as \"feeble variations on Shakespearean themes.\"[214]\n",
        "\n",
        "Shakespeare influenced novelists such as Thomas Hardy, William Faulkner, and Charles Dickens. The American novelist Herman Melville's soliloquies owe much to Shakespeare; his Captain Ahab in Moby-Dick is a classic tragic hero, inspired by King Lear.[215] Scholars have identified 20,000 pieces of music linked to Shakespeare's works. These include three operas by Giuseppe Verdi, Macbeth, Otello and Falstaff, whose critical standing compares with that of the source plays.[216] Shakespeare has also inspired many painters, including the Romantics and the Pre-Raphaelites. The Swiss Romantic artist Henry Fuseli, a friend of William Blake, even translated Macbeth into German.[217] The psychoanalyst Sigmund Freud drew on Shakespearean psychology, in particular, that of Hamlet, for his theories of human nature.[218]\n",
        "\n",
        "In Shakespeare's day, English grammar, spelling, and pronunciation were less standardised than they are now,[219] and his use of language helped shape modern English.[220] Samuel Johnson quoted him more often than any other author in his A Dictionary of the English Language, the first serious work of its type.[221] Expressions such as \"with bated breath\" (Merchant of Venice) and \"a foregone conclusion\" (Othello) have found their way into everyday English speech.[222][223]\n",
        "\n",
        "Shakespeare's influence extends far beyond his native England and the English language. His reception in Germany was particularly significant; as early as the 18th century Shakespeare was widely translated and popularised in Germany, and gradually became a \"classic of the German Weimar era;\" Christoph Martin Wieland was the first to produce complete translations of Shakespeare's plays in any language.[224][225] Actor and theatre director Simon Callow writes, \"this master, this titan, this genius, so profoundly British and so effortlessly universal, each different culture – German, Italian, Russian – was obliged to respond to the Shakespearean example; for the most part, they embraced it, and him, with joyous abandon, as the possibilities of language and character in action that he celebrated liberated writers across the continent. Some of the most deeply affecting productions of Shakespeare have been non-English, and non-European. He is that unique writer: he has something for everyone.\"[226]\n",
        "\n",
        "Critical reputation\n",
        "Main articles: Shakespeare's reputation and Timeline of Shakespeare criticism\n",
        "\"He was not of an age, but for all time.\"\n",
        "—Ben Jonson[227]\n",
        "Shakespeare was not revered in his lifetime, but he received a large amount of praise.[228][229] In 1598, the cleric and author Francis Meres singled him out from a group of English playwrights as \"the most excellent\" in both comedy and tragedy.[230][231] The authors of the Parnassus plays at St John's College, Cambridge, numbered him with Chaucer, Gower, and Spenser.[232] In the First Folio, Ben Jonson called Shakespeare the \"Soul of the age, the applause, delight, the wonder of our stage\", although he had remarked elsewhere that \"Shakespeare wanted art\" (lacked skill).[227]\n",
        "\n",
        "Between the Restoration of the monarchy in 1660 and the end of the 17th century, classical ideas were in vogue. As a result, critics of the time mostly rated Shakespeare below John Fletcher and Ben Jonson.[233] Thomas Rymer, for example, condemned Shakespeare for mixing the comic with the tragic. Nevertheless, poet and critic John Dryden rated Shakespeare highly, saying of Jonson, \"I admire him, but I love Shakespeare\".[234] For several decades, Rymer's view held sway; but during the 18th century, critics began to respond to Shakespeare on his own terms and acclaim what they termed his natural genius. A series of scholarly editions of his work, notably those of Samuel Johnson in 1765 and Edmond Malone in 1790, added to his growing reputation.[235][236] By 1800, he was firmly enshrined as the national poet.[237] In the 18th and 19th centuries, his reputation also spread abroad. Among those who championed him were the writers Voltaire, Goethe, Stendhal, and Victor Hugo.[238][j]\n",
        "\n",
        "\n",
        "A recently garlanded statue of William Shakespeare in Lincoln Park, Chicago, typical of many created in the 19th and early 20th centuries\n",
        "During the Romantic era, Shakespeare was praised by the poet and literary philosopher Samuel Taylor Coleridge, and the critic August Wilhelm Schlegel translated his plays in the spirit of German Romanticism.[240] In the 19th century, critical admiration for Shakespeare's genius often bordered on adulation.[241] \"This King Shakespeare,\" the essayist Thomas Carlyle wrote in 1840, \"does not he shine, in crowned sovereignty, over us all, as the noblest, gentlest, yet strongest of rallying signs; indestructible\".[242] The Victorians produced his plays as lavish spectacles on a grand scale.[243] The playwright and critic George Bernard Shaw mocked the cult of Shakespeare worship as \"bardolatry\", claiming that the new naturalism of Ibsen's plays had made Shakespeare obsolete.[244]\n",
        "\n",
        "The modernist revolution in the arts during the early 20th century, far from discarding Shakespeare, eagerly enlisted his work in the service of the avant-garde. The Expressionists in Germany and the Futurists in Moscow mounted productions of his plays. Marxist playwright and director Bertolt Brecht devised an epic theatre under the influence of Shakespeare. The poet and critic T.S. Eliot argued against Shaw that Shakespeare's \"primitiveness\" in fact made him truly modern.[245] Eliot, along with G. Wilson Knight and the school of New Criticism, led a movement towards a closer reading of Shakespeare's imagery. In the 1950s, a wave of new critical approaches replaced modernism and paved the way for \"post-modern\" studies of Shakespeare.[246] By the 1980s, Shakespeare studies were open to movements such as structuralism, feminism, New Historicism, African-American studies, and queer studies.[247][248] Comparing Shakespeare's accomplishments to those of leading figures in philosophy and theology, Harold Bloom wrote: \"Shakespeare was larger than Plato and than St. Augustine. He encloses us because we see with his fundamental perceptions.\"[249]\n",
        "\n",
        "Works\n",
        "Further information: Shakespeare bibliography and Chronology of Shakespeare's plays\n",
        "Classification of the plays\n",
        "\n",
        "The Plays of William Shakespeare. By Sir John Gilbert, 1849.\n",
        "Shakespeare's works include the 36 plays printed in the First Folio of 1623, listed according to their folio classification as comedies, histories, and tragedies.[250] Two plays not included in the First Folio, The Two Noble Kinsmen and Pericles, Prince of Tyre, are now accepted as part of the canon, with today's scholars agreeing that Shakespeare made major contributions to the writing of both.[251][252] No Shakespearean poems were included in the First Folio.\n",
        "\n",
        "In the late 19th century, Edward Dowden classified four of the late comedies as romances, and though many scholars prefer to call them tragicomedies, Dowden's term is often used.[253][254] In 1896, Frederick S. Boas coined the term \"problem plays\" to describe four plays: All's Well That Ends Well, Measure for Measure, Troilus and Cressida, and Hamlet.[255] \"Dramas as singular in theme and temper cannot be strictly called comedies or tragedies\", he wrote. \"We may, therefore, borrow a convenient phrase from the theatre of today and class them together as Shakespeare's problem plays.\"[256] The term, much debated and sometimes applied to other plays, remains in use, though Hamlet is definitively classed as a tragedy.[257][258][259]\n",
        "\n",
        "Speculation about Shakespeare\n",
        "Authorship\n",
        "Main article: Shakespeare authorship question\n",
        "Around 230 years after Shakespeare's death, doubts began to be expressed about the authorship of the works attributed to him.[260] Proposed alternative candidates include Francis Bacon, Christopher Marlowe, and Edward de Vere, 17th Earl of Oxford.[261] Several \"group theories\" have also been proposed.[262] Only a small minority of academics believe there is reason to question the traditional attribution,[263] but interest in the subject, particularly the Oxfordian theory of Shakespeare authorship, continues into the 21st century.[264][265][266]\n",
        "\n",
        "Religion\n",
        "Main article: Religious views of William Shakespeare\n",
        "Shakespeare conformed to the official state religion,[k] but his private views on religion have been the subject of debate. Shakespeare's will uses a Protestant formula, and he was a confirmed member of the Church of England, where he was married, his children were baptised, and where he is buried. Some scholars claim that members of Shakespeare's family were Catholics, at a time when practising Catholicism in England was against the law.[268] Shakespeare's mother, Mary Arden, certainly came from a pious Catholic family. The strongest evidence might be a Catholic statement of faith signed by his father, John Shakespeare, found in 1757 in the rafters of his former house in Henley Street. However, the document is now lost and scholars differ as to its authenticity.[269][270] In 1591, the authorities reported that John Shakespeare had missed church \"for fear of process for debt\", a common Catholic excuse.[271][272][273] In 1606, the name of William's daughter Susanna appears on a list of those who failed to attend Easter communion in Stratford.[271][272][273] Other authors argue that there is a lack of evidence about Shakespeare's religious beliefs. Scholars find evidence both for and against Shakespeare's Catholicism, Protestantism, or lack of belief in his plays, but the truth may be impossible to prove.[274][275]\n",
        "\n",
        "Sexuality\n",
        "Main article: Sexuality of William Shakespeare\n",
        "Few details of Shakespeare's sexuality are known. At 18, he married 26-year-old Anne Hathaway, who was pregnant. Susanna, the first of their three children, was born six months later on 26 May 1583. Over the centuries, some readers have posited that Shakespeare's sonnets are autobiographical,[276] and point to them as evidence of his love for a young man. Others read the same passages as the expression of intense friendship rather than romantic love.[277][278][279] The 26 so-called \"Dark Lady\" sonnets, addressed to a married woman, are taken as evidence of heterosexual liaisons.[280]\n",
        "\n",
        "Portraiture\n",
        "Main article: Portraits of Shakespeare\n",
        "No written contemporary description of Shakespeare's physical appearance survives, and no evidence suggests that he ever commissioned a portrait, so the Droeshout engraving, which Ben Jonson approved of as a good likeness,[281] and his Stratford monument provide perhaps the best evidence of his appearance. From the 18th century, the desire for authentic Shakespeare portraits fuelled claims that various surviving pictures depicted Shakespeare. That demand also led to the production of several fake portraits, as well as misattributions, repaintings, and relabelling of portraits of other people.[282]'''"
      ],
      "execution_count": null,
      "outputs": [
        {
          "output_type": "execute_result",
          "data": {
            "text/plain": [
              "'From Wikipedia, the free encyclopedia\\nJump to navigationJump to search\\nThis article is about the poet and playwright. For other persons of the same name, see William Shakespeare (disambiguation). For other uses of \"Shakespeare\", see Shakespeare (disambiguation).\\nWilliam Shakespeare\\nShakespeare.jpg\\nThe Chandos portrait (held by the National Portrait Gallery, London)\\nBorn\\tStratford-upon-Avon, Warwickshire, England\\nBaptised\\t26 April 1564\\nDied\\t23 April 1616 (aged 52)\\nStratford-upon-Avon, Warwickshire, England\\nResting place\\tChurch of the Holy Trinity, Stratford-upon-Avon\\nOccupation\\t\\nPlaywrightpoetactor\\nYears active\\tc. 1585–1613\\nEra\\t\\nElizabethan\\nJacobean\\nMovement\\tEnglish Renaissance\\nSpouse(s)\\tAnne Hathaway \\u200b(m. 1582)\\u200b\\nChildren\\t\\nSusanna Hall\\nHamnet Shakespeare\\nJudith Quiney\\nParents\\t\\nJohn Shakespeare (father)\\nMary Arden (mother)\\nSignature\\nWilliam Shakespeare Signature.svg\\nWilliam Shakespeare (bapt. 26 April 1564 – 23 April 1616)[a] was an English playwright, poet, and actor, widely regarded as the greatest writer in the English language and the world\\'s greatest dramatist.[2][3][4] He is often called England\\'s national poet and the \"Bard of Avon\" (or simply \"the Bard\").[5][b] His extant works, including collaborations, consist of some 39 plays,[c] 154 sonnets, two long narrative poems, and a few other verses, some of uncertain authorship. His plays have been translated into every major living language and are performed more often than those of any other playwright.[7] They also continue to be studied and reinterpreted.\\n\\nShakespeare was born and raised in Stratford-upon-Avon, Warwickshire. At the age of 18, he married Anne Hathaway, with whom he had three children: Susanna and twins Hamnet and Judith. Sometime between 1585 and 1592, he began a successful career in London as an actor, writer, and part-owner of a playing company called the Lord Chamberlain\\'s Men, later known as the King\\'s Men. At age 49 (around 1613), he appears to have retired to Stratford, where he died three years later. Few records of Shakespeare\\'s private life survive; this has stimulated considerable speculation about such matters as his physical appearance, his sexuality, his religious beliefs, and whether the works attributed to him were written by others.[8][9][10]\\n\\nShakespeare produced most of his known works between 1589 and 1613.[11][12][d] His early plays were primarily comedies and histories and are regarded as some of the best work produced in these genres. He then wrote mainly tragedies until 1608, among them Hamlet, Romeo and Juliet, Othello, King Lear, and Macbeth, all considered to be among the finest works in the English language.[2][3][4] In the last phase of his life, he wrote tragicomedies (also known as romances) and collaborated with other playwrights.\\n\\nMany of Shakespeare\\'s plays were published in editions of varying quality and accuracy in his lifetime. However, in 1623, two fellow actors and friends of Shakespeare\\'s, John Heminges and Henry Condell, published a more definitive text known as the First Folio, a posthumous collected edition of Shakespeare\\'s dramatic works that included all but two of his plays.[13] The volume was prefaced with a poem by Ben Jonson, in which Jonson presciently hailed Shakespeare in a now-famous quote as \"not of an age, but for all time\".[13]\\n\\n\\nContents\\n1\\tLife\\n1.1\\tEarly life\\n1.2\\tLondon and theatrical career\\n1.3\\tLater years and death\\n2\\tPlays\\n2.1\\tPerformances\\n2.2\\tTextual sources\\n3\\tPoems\\n3.1\\tSonnets\\n4\\tStyle\\n5\\tInfluence\\n6\\tCritical reputation\\n7\\tWorks\\n7.1\\tClassification of the plays\\n8\\tSpeculation about Shakespeare\\n8.1\\tAuthorship\\n8.2\\tReligion\\n8.3\\tSexuality\\n8.4\\tPortraiture\\n9\\tSee also\\n10\\tNotes and references\\n10.1\\tNotes\\n10.2\\tReferences\\n11\\tSources\\n12\\tExternal links\\nLife\\nMain article: Life of William Shakespeare\\nEarly life\\nWilliam Shakespeare was the son of John Shakespeare, an alderman and a successful glover (glove-maker) originally from Snitterfield, and Mary Arden, the daughter of an affluent landowning farmer.[14] He was born in Stratford-upon-Avon, where he was baptised on 26 April 1564. His date of birth is unknown, but is traditionally observed on 23 April, Saint George\\'s Day.[15] This date, which can be traced to a mistake made by an 18th-century scholar, has proved appealing to biographers because Shakespeare died on the same date in 1616.[16][17] He was the third of John and Mary Shakespeare\\'s eight children,[18] and their oldest surviving child; their first two children, both girls, did not live beyond infancy.[19]\\n\\n\\nJohn Shakespeare\\'s house, believed to be Shakespeare\\'s birthplace, in Stratford-upon-Avon\\nAlthough no attendance records for the period survive, most biographers agree that Shakespeare was probably educated at the King\\'s New School in Stratford,[20][21][22] a free school chartered in 1553,[23] about a quarter-mile (400 m) from his home. Grammar schools varied in quality during the Elizabethan era, but grammar school curricula were largely similar: the basic Latin text was standardised by royal decree,[24][25] and the school would have provided an intensive education in grammar based upon Latin classical authors.[26]\\n\\nAt the age of 18, Shakespeare married 26-year-old Anne Hathaway. The consistory court of the Diocese of Worcester issued a marriage licence on 27 November 1582. The next day, two of Hathaway\\'s neighbours posted bonds guaranteeing that no lawful claims impeded the marriage.[27] The ceremony may have been arranged in some haste since the Worcester chancellor allowed the marriage banns to be read once instead of the usual three times,[28][29] and six months after the marriage Anne gave birth to a daughter, Susanna, baptised 26 May 1583.[30] Twins, son Hamnet and daughter Judith, followed almost two years later and were baptised 2 February 1585.[31] Hamnet died of unknown causes at the age of 11 and was buried 11 August 1596.[32]\\n\\n\\nShakespeare\\'s coat of arms, as it appears on the rough draft of the application to grant a coat-of-arms to John Shakespeare. It features a spear as a pun on the family name.[e]\\nAfter the birth of the twins, Shakespeare left few historical traces until he is mentioned as part of the London theatre scene in 1592. The exception is the appearance of his name in the \"complaints bill\" of a law case before the Queen\\'s Bench court at Westminster dated Michaelmas Term 1588 and 9 October 1589.[33] Scholars refer to the years between 1585 and 1592 as Shakespeare\\'s \"lost years\".[34] Biographers attempting to account for this period have reported many apocryphal stories. Nicholas Rowe, Shakespeare\\'s first biographer, recounted a Stratford legend that Shakespeare fled the town for London to escape prosecution for deer poaching in the estate of local squire Thomas Lucy. Shakespeare is also supposed to have taken his revenge on Lucy by writing a scurrilous ballad about him.[35][36] Another 18th-century story has Shakespeare starting his theatrical career minding the horses of theatre patrons in London.[37] John Aubrey reported that Shakespeare had been a country schoolmaster.[38] Some 20th-century scholars suggested that Shakespeare may have been employed as a schoolmaster by Alexander Hoghton of Lancashire, a Catholic landowner who named a certain \"William Shakeshafte\" in his will.[39][40] Little evidence substantiates such stories other than hearsay collected after his death, and Shakeshafte was a common name in the Lancashire area.[41][42]\\n\\nLondon and theatrical career\\nIt is not known definitively when Shakespeare began writing, but contemporary allusions and records of performances show that several of his plays were on the London stage by 1592.[43] By then, he was sufficiently known in London to be attacked in print by the playwright Robert Greene in his Groats-Worth of Wit:\\n\\n... there is an upstart Crow, beautified with our feathers, that with his Tiger\\'s heart wrapped in a Player\\'s hide, supposes he is as well able to bombast out a blank verse as the best of you: and being an absolute Johannes factotum, is in his own conceit the only Shake-scene in a country.[44]\\n\\nScholars differ on the exact meaning of Greene\\'s words,[44][45] but most agree that Greene was accusing Shakespeare of reaching above his rank in trying to match such university-educated writers as Christopher Marlowe, Thomas Nashe, and Greene himself (the so-called \"University Wits\").[46] The italicised phrase parodying the line \"Oh, tiger\\'s heart wrapped in a woman\\'s hide\" from Shakespeare\\'s Henry VI, Part 3, along with the pun \"Shake-scene\", clearly identify Shakespeare as Greene\\'s target. As used here, Johannes Factotum (\"Jack of all trades\") refers to a second-rate tinkerer with the work of others, rather than the more common \"universal genius\".[44][47]\\n\\nGreene\\'s attack is the earliest surviving mention of Shakespeare\\'s work in the theatre. Biographers suggest that his career may have begun any time from the mid-1580s to just before Greene\\'s remarks.[48][49][50] After 1594, Shakespeare\\'s plays were performed only by the Lord Chamberlain\\'s Men, a company owned by a group of players, including Shakespeare, that soon became the leading playing company in London.[51] After the death of Queen Elizabeth in 1603, the company was awarded a royal patent by the new King James I, and changed its name to the King\\'s Men.[52]\\n\\n\"All the world\\'s a stage,\\nand all the men and women merely players:\\nthey have their exits and their entrances;\\nand one man in his time plays many parts ...\"\\n\\n—As You Like It, Act II, Scene 7, 139–142[53]\\nIn 1599, a partnership of members of the company built their own theatre on the south bank of the River Thames, which they named the Globe. In 1608, the partnership also took over the Blackfriars indoor theatre. Extant records of Shakespeare\\'s property purchases and investments indicate that his association with the company made him a wealthy man,[54] and in 1597, he bought the second-largest house in Stratford, New Place, and in 1605, invested in a share of the parish tithes in Stratford.[55]\\n\\nSome of Shakespeare\\'s plays were published in quarto editions, beginning in 1594, and by 1598, his name had become a selling point and began to appear on the title pages.[56][57][58] Shakespeare continued to act in his own and other plays after his success as a playwright. The 1616 edition of Ben Jonson\\'s Works names him on the cast lists for Every Man in His Humour (1598) and Sejanus His Fall (1603).[59] The absence of his name from the 1605 cast list for Jonson\\'s Volpone is taken by some scholars as a sign that his acting career was nearing its end.[48] The First Folio of 1623, however, lists Shakespeare as one of \"the Principal Actors in all these Plays\", some of which were first staged after Volpone, although one cannot know for certain which roles he played.[60] In 1610, John Davies of Hereford wrote that \"good Will\" played \"kingly\" roles.[61] In 1709, Rowe passed down a tradition that Shakespeare played the ghost of Hamlet\\'s father.[36] Later traditions maintain that he also played Adam in As You Like It, and the Chorus in Henry V,[62][63] though scholars doubt the sources of that information.[64]\\n\\nThroughout his career, Shakespeare divided his time between London and Stratford. In 1596, the year before he bought New Place as his family home in Stratford, Shakespeare was living in the parish of St. Helen\\'s, Bishopsgate, north of the River Thames.[65][66] He moved across the river to Southwark by 1599, the same year his company constructed the Globe Theatre there.[65][67] By 1604, he had moved north of the river again, to an area north of St Paul\\'s Cathedral with many fine houses. There, he rented rooms from a French Huguenot named Christopher Mountjoy, a maker of ladies\\' wigs and other headgear.[68][69]\\n\\nLater years and death\\n\\nShakespeare\\'s funerary monument in Stratford-upon-Avon\\nRowe was the first biographer to record the tradition, repeated by Johnson, that Shakespeare retired to Stratford \"some years before his death\".[70][71] He was still working as an actor in London in 1608; in an answer to the sharers\\' petition in 1635, Cuthbert Burbage stated that after purchasing the lease of the Blackfriars Theatre in 1608 from Henry Evans, the King\\'s Men \"placed men players\" there, \"which were Heminges, Condell, Shakespeare, etc.\".[72] However, it is perhaps relevant that the bubonic plague raged in London throughout 1609.[73][74] The London public playhouses were repeatedly closed during extended outbreaks of the plague (a total of over 60 months closure between May 1603 and February 1610),[75] which meant there was often no acting work. Retirement from all work was uncommon at that time.[76] Shakespeare continued to visit London during the years 1611–1614.[70] In 1612, he was called as a witness in Bellott v Mountjoy, a court case concerning the marriage settlement of Mountjoy\\'s daughter, Mary.[77][78] In March 1613, he bought a gatehouse in the former Blackfriars priory;[79] and from November 1614, he was in London for several weeks with his son-in-law, John Hall.[80] After 1610, Shakespeare wrote fewer plays, and none are attributed to him after 1613.[81] His last three plays were collaborations, probably with John Fletcher,[82] who succeeded him as the house playwright of the King\\'s Men.[83]\\n\\nShakespeare died on 23 April 1616, at the age of 52.[f] He died within a month of signing his will, a document which he begins by describing himself as being in \"perfect health\". No extant contemporary source explains how or why he died. Half a century later, John Ward, the vicar of Stratford, wrote in his notebook: \"Shakespeare, Drayton, and Ben Jonson had a merry meeting and, it seems, drank too hard, for Shakespeare died of a fever there contracted\",[84][85] not an impossible scenario since Shakespeare knew Jonson and Drayton. Of the tributes from fellow authors, one refers to his relatively sudden death: \"We wondered, Shakespeare, that thou went\\'st so soon / From the world\\'s stage to the grave\\'s tiring room.\"[86][g]\\n\\n\\nHoly Trinity Church, Stratford-upon-Avon, where Shakespeare was baptised and is buried\\nHe was survived by his wife and two daughters. Susanna had married a physician, John Hall, in 1607,[87] and Judith had married Thomas Quiney, a vintner, two months before Shakespeare\\'s death.[88] Shakespeare signed his last will and testament on 25 March 1616; the following day, his new son-in-law, Thomas Quiney was found guilty of fathering an illegitimate son by Margaret Wheeler, who had died during childbirth. Thomas was ordered by the church court to do public penance, which would have caused much shame and embarrassment for the Shakespeare family.[88]\\n\\nShakespeare bequeathed the bulk of his large estate to his elder daughter Susanna[89] under stipulations that she pass it down intact to \"the first son of her body\".[90] The Quineys had three children, all of whom died without marrying.[91][92] The Halls had one child, Elizabeth, who married twice but died without children in 1670, ending Shakespeare\\'s direct line.[93][94] Shakespeare\\'s will scarcely mentions his wife, Anne, who was probably entitled to one-third of his estate automatically.[h] He did make a point, however, of leaving her \"my second best bed\", a bequest that has led to much speculation.[96][97][98] Some scholars see the bequest as an insult to Anne, whereas others believe that the second-best bed would have been the matrimonial bed and therefore rich in significance.[99]\\n\\n\\nShakespeare\\'s grave, next to those of Anne Shakespeare, his wife, and Thomas Nash, the husband of his granddaughter\\nShakespeare was buried in the chancel of the Holy Trinity Church two days after his death.[100][101] The epitaph carved into the stone slab covering his grave includes a curse against moving his bones, which was carefully avoided during restoration of the church in 2008:[102]\\n\\nGood frend for Iesvs sake forbeare,\\nTo digg the dvst encloased heare.\\nBleste be yͤ man yͭ spares thes stones,\\nAnd cvrst be he yͭ moves my bones.[103][i]\\n\\n(Modern spelling: Good friend, for Jesus\\' sake forbear, / To dig the dust enclosed here. / Blessed be the man that spares these stones, / And cursed be he that moves my bones.)\\n\\nSome time before 1623, a funerary monument was erected in his memory on the north wall, with a half-effigy of him in the act of writing. Its plaque compares him to Nestor, Socrates, and Virgil.[104] In 1623, in conjunction with the publication of the First Folio, the Droeshout engraving was published.[105]\\n\\nShakespeare has been commemorated in many statues and memorials around the world, including funeral monuments in Southwark Cathedral and Poets\\' Corner in Westminster Abbey.[106][107]\\n\\nPlays\\nMain articles: Shakespeare\\'s plays and William Shakespeare\\'s collaborations\\n\\nProcession of Characters from Shakespeare\\'s Plays by an unknown 19th-century artist\\nMost playwrights of the period typically collaborated with others at some point, and critics agree that Shakespeare did the same, mostly early and late in his career.[108]\\n\\nThe first recorded works of Shakespeare are Richard III and the three parts of Henry VI, written in the early 1590s during a vogue for historical drama. Shakespeare\\'s plays are difficult to date precisely, however,[109][110] and studies of the texts suggest that Titus Andronicus, The Comedy of Errors, The Taming of the Shrew, and The Two Gentlemen of Verona may also belong to Shakespeare\\'s earliest period.[111][109] His first histories, which draw heavily on the 1587 edition of Raphael Holinshed\\'s Chronicles of England, Scotland, and Ireland,[112] dramatise the destructive results of weak or corrupt rule and have been interpreted as a justification for the origins of the Tudor dynasty.[113] The early plays were influenced by the works of other Elizabethan dramatists, especially Thomas Kyd and Christopher Marlowe, by the traditions of medieval drama, and by the plays of Seneca.[114][115][116] The Comedy of Errors was also based on classical models, but no source for The Taming of the Shrew has been found, though it is related to a separate play of the same name and may have derived from a folk story.[117][118] Like The Two Gentlemen of Verona, in which two friends appear to approve of rape,[119][120][121] the Shrew\\'s story of the taming of a woman\\'s independent spirit by a man sometimes troubles modern critics, directors, and audiences.[122]\\n\\n\\nOberon, Titania and Puck with Fairies Dancing. By William Blake, c. 1786. Tate Britain.\\nShakespeare\\'s early classical and Italianate comedies, containing tight double plots and precise comic sequences, give way in the mid-1590s to the romantic atmosphere of his most acclaimed comedies.[123] A Midsummer Night\\'s Dream is a witty mixture of romance, fairy magic, and comic lowlife scenes.[124] Shakespeare\\'s next comedy, the equally romantic Merchant of Venice, contains a portrayal of the vengeful Jewish moneylender Shylock, which reflects Elizabethan views but may appear derogatory to modern audiences.[125][126] The wit and wordplay of Much Ado About Nothing,[127] the charming rural setting of As You Like It, and the lively merrymaking of Twelfth Night complete Shakespeare\\'s sequence of great comedies.[128] After the lyrical Richard II, written almost entirely in verse, Shakespeare introduced prose comedy into the histories of the late 1590s, Henry IV, parts 1 and 2, and Henry V. His characters become more complex and tender as he switches deftly between comic and serious scenes, prose and poetry, and achieves the narrative variety of his mature work.[129][130][131] This period begins and ends with two tragedies: Romeo and Juliet, the famous romantic tragedy of sexually charged adolescence, love, and death;[132][133] and Julius Caesar—based on Sir Thomas North\\'s 1579 translation of Plutarch\\'s Parallel Lives—which introduced a new kind of drama.[134][135] According to Shakespearean scholar James Shapiro, in Julius Caesar, \"the various strands of politics, character, inwardness, contemporary events, even Shakespeare\\'s own reflections on the act of writing, began to infuse each other\".[136]\\n\\n\\nHamlet, Horatio, Marcellus, and the Ghost of Hamlet\\'s Father. Henry Fuseli, 1780–1785. Kunsthaus Zürich.\\nIn the early 17th century, Shakespeare wrote the so-called \"problem plays\" Measure for Measure, Troilus and Cressida, and All\\'s Well That Ends Well and a number of his best known tragedies.[137][138] Many critics believe that Shakespeare\\'s greatest tragedies represent the peak of his art. The titular hero of one of Shakespeare\\'s greatest tragedies, Hamlet, has probably been discussed more than any other Shakespearean character, especially for his famous soliloquy which begins \"To be or not to be; that is the question\".[139] Unlike the introverted Hamlet, whose fatal flaw is hesitation, the heroes of the tragedies that followed, Othello and King Lear, are undone by hasty errors of judgement.[140] The plots of Shakespeare\\'s tragedies often hinge on such fatal errors or flaws, which overturn order and destroy the hero and those he loves.[141] In Othello, the villain Iago stokes Othello\\'s sexual jealousy to the point where he murders the innocent wife who loves him.[142][143] In King Lear, the old king commits the tragic error of giving up his powers, initiating the events which lead to the torture and blinding of the Earl of Gloucester and the murder of Lear\\'s youngest daughter Cordelia. According to the critic Frank Kermode, \"the play...offers neither its good characters nor its audience any relief from its cruelty\".[144][145][146] In Macbeth, the shortest and most compressed of Shakespeare\\'s tragedies,[147] uncontrollable ambition incites Macbeth and his wife, Lady Macbeth, to murder the rightful king and usurp the throne until their own guilt destroys them in turn.[148] In this play, Shakespeare adds a supernatural element to the tragic structure. His last major tragedies, Antony and Cleopatra and Coriolanus, contain some of Shakespeare\\'s finest poetry and were considered his most successful tragedies by the poet and critic T. S. Eliot.[149][150][151]\\n\\nIn his final period, Shakespeare turned to romance or tragicomedy and completed three more major plays: Cymbeline, The Winter\\'s Tale, and The Tempest, as well as the collaboration, Pericles, Prince of Tyre. Less bleak than the tragedies, these four plays are graver in tone than the comedies of the 1590s, but they end with reconciliation and the forgiveness of potentially tragic errors.[152] Some commentators have seen this change in mood as evidence of a more serene view of life on Shakespeare\\'s part, but it may merely reflect the theatrical fashion of the day.[153][154][155] Shakespeare collaborated on two further surviving plays, Henry VIII and The Two Noble Kinsmen, probably with John Fletcher.[156]\\n\\nPerformances\\nMain article: Shakespeare in performance\\nIt is not clear for which companies Shakespeare wrote his early plays. The title page of the 1594 edition of Titus Andronicus reveals that the play had been acted by three different troupes.[157] After the plagues of 1592–93, Shakespeare\\'s plays were performed by his own company at The Theatre and the Curtain in Shoreditch, north of the Thames.[158] Londoners flocked there to see the first part of Henry IV, Leonard Digges recording, \"Let but Falstaff come, Hal, Poins, the rest ... and you scarce shall have a room\".[159] When the company found themselves in dispute with their landlord, they pulled The Theatre down and used the timbers to construct the Globe Theatre, the first playhouse built by actors for actors, on the south bank of the Thames at Southwark.[160][161] The Globe opened in autumn 1599, with Julius Caesar one of the first plays staged. Most of Shakespeare\\'s greatest post-1599 plays were written for the Globe, including Hamlet, Othello, and King Lear.[160][162][163]\\n\\n\\nThe reconstructed Globe Theatre on the south bank of the River Thames in London\\nAfter the Lord Chamberlain\\'s Men were renamed the King\\'s Men in 1603, they entered a special relationship with the new King James. Although the performance records are patchy, the King\\'s Men performed seven of Shakespeare\\'s plays at court between 1 November 1604, and 31 October 1605, including two performances of The Merchant of Venice.[63] After 1608, they performed at the indoor Blackfriars Theatre during the winter and the Globe during the summer.[164] The indoor setting, combined with the Jacobean fashion for lavishly staged masques, allowed Shakespeare to introduce more elaborate stage devices. In Cymbeline, for example, Jupiter descends \"in thunder and lightning, sitting upon an eagle: he throws a thunderbolt. The ghosts fall on their knees.\"[165][166]\\n\\nThe actors in Shakespeare\\'s company included the famous Richard Burbage, William Kempe, Henry Condell and John Heminges. Burbage played the leading role in the first performances of many of Shakespeare\\'s plays, including Richard III, Hamlet, Othello, and King Lear.[167] The popular comic actor Will Kempe played the servant Peter in Romeo and Juliet and Dogberry in Much Ado About Nothing, among other characters.[168][169] He was replaced around 1600 by Robert Armin, who played roles such as Touchstone in As You Like It and the fool in King Lear.[170] In 1613, Sir Henry Wotton recorded that Henry VIII \"was set forth with many extraordinary circumstances of pomp and ceremony\".[171] On 29 June, however, a cannon set fire to the thatch of the Globe and burned the theatre to the ground, an event which pinpoints the date of a Shakespeare play with rare precision.[171]\\n\\nTextual sources\\n\\nTitle page of the First Folio, 1623. Copper engraving of Shakespeare by Martin Droeshout.\\nIn 1623, John Heminges and Henry Condell, two of Shakespeare\\'s friends from the King\\'s Men, published the First Folio, a collected edition of Shakespeare\\'s plays. It contained 36 texts, including 18 printed for the first time.[172] Many of the plays had already appeared in quarto versions—flimsy books made from sheets of paper folded twice to make four leaves.[173] No evidence suggests that Shakespeare approved these editions, which the First Folio describes as \"stol\\'n and surreptitious copies\".[174] Nor did Shakespeare plan or expect his works to survive in any form at all; those works likely would have faded into oblivion but for his friends\\' spontaneous idea, after his death, to create and publish the First Folio.[175]\\n\\nAlfred Pollard termed some of the pre-1623 versions as \"bad quartos\" because of their adapted, paraphrased or garbled texts, which may in places have been reconstructed from memory.[173][174][176] Where several versions of a play survive, each differs from the other. The differences may stem from copying or printing errors, from notes by actors or audience members, or from Shakespeare\\'s own papers.[177][178] In some cases, for example, Hamlet, Troilus and Cressida, and Othello, Shakespeare could have revised the texts between the quarto and folio editions. In the case of King Lear, however, while most modern editions do conflate them, the 1623 folio version is so different from the 1608 quarto that the Oxford Shakespeare prints them both, arguing that they cannot be conflated without confusion.[179]\\n\\nPoems\\nIn 1593 and 1594, when the theatres were closed because of plague, Shakespeare published two narrative poems on sexual themes, Venus and Adonis and The Rape of Lucrece. He dedicated them to Henry Wriothesley, Earl of Southampton. In Venus and Adonis, an innocent Adonis rejects the sexual advances of Venus; while in The Rape of Lucrece, the virtuous wife Lucrece is raped by the lustful Tarquin.[180] Influenced by Ovid\\'s Metamorphoses,[181] the poems show the guilt and moral confusion that result from uncontrolled lust.[182] Both proved popular and were often reprinted during Shakespeare\\'s lifetime. A third narrative poem, A Lover\\'s Complaint, in which a young woman laments her seduction by a persuasive suitor, was printed in the first edition of the Sonnets in 1609. Most scholars now accept that Shakespeare wrote A Lover\\'s Complaint. Critics consider that its fine qualities are marred by leaden effects.[183][184][185] The Phoenix and the Turtle, printed in Robert Chester\\'s 1601 Love\\'s Martyr, mourns the deaths of the legendary phoenix and his lover, the faithful turtle dove. In 1599, two early drafts of sonnets 138 and 144 appeared in The Passionate Pilgrim, published under Shakespeare\\'s name but without his permission.[183][185][186]\\n\\nSonnets\\nMain article: Shakespeare\\'s sonnets\\n\\nTitle page from 1609 edition of Shake-Speares Sonnets\\nPublished in 1609, the Sonnets were the last of Shakespeare\\'s non-dramatic works to be printed. Scholars are not certain when each of the 154 sonnets was composed, but evidence suggests that Shakespeare wrote sonnets throughout his career for a private readership.[187][188] Even before the two unauthorised sonnets appeared in The Passionate Pilgrim in 1599, Francis Meres had referred in 1598 to Shakespeare\\'s \"sugred Sonnets among his private friends\".[189] Few analysts believe that the published collection follows Shakespeare\\'s intended sequence.[190] He seems to have planned two contrasting series: one about uncontrollable lust for a married woman of dark complexion (the \"dark lady\"), and one about conflicted love for a fair young man (the \"fair youth\"). It remains unclear if these figures represent real individuals, or if the authorial \"I\" who addresses them represents Shakespeare himself, though Wordsworth believed that with the sonnets \"Shakespeare unlocked his heart\".[189][188]\\n\\n\"Shall I compare thee to a summer\\'s day?\\nThou art more lovely and more temperate ...\"\\n\\n—Lines from Shakespeare\\'s Sonnet 18.[191]\\nThe 1609 edition was dedicated to a \"Mr. W.H.\", credited as \"the only begetter\" of the poems. It is not known whether this was written by Shakespeare himself or by the publisher, Thomas Thorpe, whose initials appear at the foot of the dedication page; nor is it known who Mr. W.H. was, despite numerous theories, or whether Shakespeare even authorised the publication.[192] Critics praise the Sonnets as a profound meditation on the nature of love, sexual passion, procreation, death, and time.[193]\\n\\nStyle\\nMain article: Shakespeare\\'s style\\nShakespeare\\'s first plays were written in the conventional style of the day. He wrote them in a stylised language that does not always spring naturally from the needs of the characters or the drama.[194] The poetry depends on extended, sometimes elaborate metaphors and conceits, and the language is often rhetorical—written for actors to declaim rather than speak. The grand speeches in Titus Andronicus, in the view of some critics, often hold up the action, for example; and the verse in The Two Gentlemen of Verona has been described as stilted.[195][196]\\n\\n\\nPity by William Blake, 1795, Tate Britain, is an illustration of two similes in Macbeth:\\n\"And pity, like a naked new-born babe,\\nStriding the blast, or heaven\\'s cherubim, hors\\'d\\nUpon the sightless couriers of the air.\"[197]\\n\\nHowever, Shakespeare soon began to adapt the traditional styles to his own purposes. The opening soliloquy of Richard III has its roots in the self-declaration of Vice in medieval drama. At the same time, Richard\\'s vivid self-awareness looks forward to the soliloquies of Shakespeare\\'s mature plays.[198][199] No single play marks a change from the traditional to the freer style. Shakespeare combined the two throughout his career, with Romeo and Juliet perhaps the best example of the mixing of the styles.[200] By the time of Romeo and Juliet, Richard II, and A Midsummer Night\\'s Dream in the mid-1590s, Shakespeare had begun to write a more natural poetry. He increasingly tuned his metaphors and images to the needs of the drama itself.\\n\\nShakespeare\\'s standard poetic form was blank verse, composed in iambic pentameter. In practice, this meant that his verse was usually unrhymed and consisted of ten syllables to a line, spoken with a stress on every second syllable. The blank verse of his early plays is quite different from that of his later ones. It is often beautiful, but its sentences tend to start, pause, and finish at the end of lines, with the risk of monotony.[201] Once Shakespeare mastered traditional blank verse, he began to interrupt and vary its flow. This technique releases the new power and flexibility of the poetry in plays such as Julius Caesar and Hamlet. Shakespeare uses it, for example, to convey the turmoil in Hamlet\\'s mind:[202]\\n\\nSir, in my heart there was a kind of fighting\\nThat would not let me sleep. Methought I lay\\nWorse than the mutines in the bilboes. Rashly—\\nAnd prais\\'d be rashness for it—let us know\\nOur indiscretion sometimes serves us well ...\\n\\n—\\u2009Hamlet, Act 5, Scene 2, 4–8[202]\\nAfter Hamlet, Shakespeare varied his poetic style further, particularly in the more emotional passages of the late tragedies. The literary critic A. C. Bradley described this style as \"more concentrated, rapid, varied, and, in construction, less regular, not seldom twisted or elliptical\".[203] In the last phase of his career, Shakespeare adopted many techniques to achieve these effects. These included run-on lines, irregular pauses and stops, and extreme variations in sentence structure and length.[204] In Macbeth, for example, the language darts from one unrelated metaphor or simile to another: \"was the hope drunk/ Wherein you dressed yourself?\" (1.7.35–38); \"... pity, like a naked new-born babe/ Striding the blast, or heaven\\'s cherubim, hors\\'d/ Upon the sightless couriers of the air ...\" (1.7.21–25). The listener is challenged to complete the sense.[204] The late romances, with their shifts in time and surprising turns of plot, inspired a last poetic style in which long and short sentences are set against one another, clauses are piled up, subject and object are reversed, and words are omitted, creating an effect of spontaneity.[205]\\n\\nShakespeare combined poetic genius with a practical sense of the theatre.[206] Like all playwrights of the time, he dramatised stories from sources such as Plutarch and Holinshed.[207] He reshaped each plot to create several centres of interest and to show as many sides of a narrative to the audience as possible. This strength of design ensures that a Shakespeare play can survive translation, cutting and wide interpretation without loss to its core drama.[208] As Shakespeare\\'s mastery grew, he gave his characters clearer and more varied motivations and distinctive patterns of speech. He preserved aspects of his earlier style in the later plays, however. In Shakespeare\\'s late romances, he deliberately returned to a more artificial style, which emphasised the illusion of theatre.[209][210]\\n\\nInfluence\\nMain article: Shakespeare\\'s influence\\n\\nMacbeth Consulting the Vision of the Armed Head. By Henry Fuseli, 1793–1794. Folger Shakespeare Library, Washington.\\nShakespeare\\'s work has made a lasting impression on later theatre and literature. In particular, he expanded the dramatic potential of characterisation, plot, language, and genre.[211] Until Romeo and Juliet, for example, romance had not been viewed as a worthy topic for tragedy.[212] Soliloquies had been used mainly to convey information about characters or events, but Shakespeare used them to explore characters\\' minds.[213] His work heavily influenced later poetry. The Romantic poets attempted to revive Shakespearean verse drama, though with little success. Critic George Steiner described all English verse dramas from Coleridge to Tennyson as \"feeble variations on Shakespearean themes.\"[214]\\n\\nShakespeare influenced novelists such as Thomas Hardy, William Faulkner, and Charles Dickens. The American novelist Herman Melville\\'s soliloquies owe much to Shakespeare; his Captain Ahab in Moby-Dick is a classic tragic hero, inspired by King Lear.[215] Scholars have identified 20,000 pieces of music linked to Shakespeare\\'s works. These include three operas by Giuseppe Verdi, Macbeth, Otello and Falstaff, whose critical standing compares with that of the source plays.[216] Shakespeare has also inspired many painters, including the Romantics and the Pre-Raphaelites. The Swiss Romantic artist Henry Fuseli, a friend of William Blake, even translated Macbeth into German.[217] The psychoanalyst Sigmund Freud drew on Shakespearean psychology, in particular, that of Hamlet, for his theories of human nature.[218]\\n\\nIn Shakespeare\\'s day, English grammar, spelling, and pronunciation were less standardised than they are now,[219] and his use of language helped shape modern English.[220] Samuel Johnson quoted him more often than any other author in his A Dictionary of the English Language, the first serious work of its type.[221] Expressions such as \"with bated breath\" (Merchant of Venice) and \"a foregone conclusion\" (Othello) have found their way into everyday English speech.[222][223]\\n\\nShakespeare\\'s influence extends far beyond his native England and the English language. His reception in Germany was particularly significant; as early as the 18th century Shakespeare was widely translated and popularised in Germany, and gradually became a \"classic of the German Weimar era;\" Christoph Martin Wieland was the first to produce complete translations of Shakespeare\\'s plays in any language.[224][225] Actor and theatre director Simon Callow writes, \"this master, this titan, this genius, so profoundly British and so effortlessly universal, each different culture – German, Italian, Russian – was obliged to respond to the Shakespearean example; for the most part, they embraced it, and him, with joyous abandon, as the possibilities of language and character in action that he celebrated liberated writers across the continent. Some of the most deeply affecting productions of Shakespeare have been non-English, and non-European. He is that unique writer: he has something for everyone.\"[226]\\n\\nCritical reputation\\nMain articles: Shakespeare\\'s reputation and Timeline of Shakespeare criticism\\n\"He was not of an age, but for all time.\"\\n—Ben Jonson[227]\\nShakespeare was not revered in his lifetime, but he received a large amount of praise.[228][229] In 1598, the cleric and author Francis Meres singled him out from a group of English playwrights as \"the most excellent\" in both comedy and tragedy.[230][231] The authors of the Parnassus plays at St John\\'s College, Cambridge, numbered him with Chaucer, Gower, and Spenser.[232] In the First Folio, Ben Jonson called Shakespeare the \"Soul of the age, the applause, delight, the wonder of our stage\", although he had remarked elsewhere that \"Shakespeare wanted art\" (lacked skill).[227]\\n\\nBetween the Restoration of the monarchy in 1660 and the end of the 17th century, classical ideas were in vogue. As a result, critics of the time mostly rated Shakespeare below John Fletcher and Ben Jonson.[233] Thomas Rymer, for example, condemned Shakespeare for mixing the comic with the tragic. Nevertheless, poet and critic John Dryden rated Shakespeare highly, saying of Jonson, \"I admire him, but I love Shakespeare\".[234] For several decades, Rymer\\'s view held sway; but during the 18th century, critics began to respond to Shakespeare on his own terms and acclaim what they termed his natural genius. A series of scholarly editions of his work, notably those of Samuel Johnson in 1765 and Edmond Malone in 1790, added to his growing reputation.[235][236] By 1800, he was firmly enshrined as the national poet.[237] In the 18th and 19th centuries, his reputation also spread abroad. Among those who championed him were the writers Voltaire, Goethe, Stendhal, and Victor Hugo.[238][j]\\n\\n\\nA recently garlanded statue of William Shakespeare in Lincoln Park, Chicago, typical of many created in the 19th and early 20th centuries\\nDuring the Romantic era, Shakespeare was praised by the poet and literary philosopher Samuel Taylor Coleridge, and the critic August Wilhelm Schlegel translated his plays in the spirit of German Romanticism.[240] In the 19th century, critical admiration for Shakespeare\\'s genius often bordered on adulation.[241] \"This King Shakespeare,\" the essayist Thomas Carlyle wrote in 1840, \"does not he shine, in crowned sovereignty, over us all, as the noblest, gentlest, yet strongest of rallying signs; indestructible\".[242] The Victorians produced his plays as lavish spectacles on a grand scale.[243] The playwright and critic George Bernard Shaw mocked the cult of Shakespeare worship as \"bardolatry\", claiming that the new naturalism of Ibsen\\'s plays had made Shakespeare obsolete.[244]\\n\\nThe modernist revolution in the arts during the early 20th century, far from discarding Shakespeare, eagerly enlisted his work in the service of the avant-garde. The Expressionists in Germany and the Futurists in Moscow mounted productions of his plays. Marxist playwright and director Bertolt Brecht devised an epic theatre under the influence of Shakespeare. The poet and critic T.S. Eliot argued against Shaw that Shakespeare\\'s \"primitiveness\" in fact made him truly modern.[245] Eliot, along with G. Wilson Knight and the school of New Criticism, led a movement towards a closer reading of Shakespeare\\'s imagery. In the 1950s, a wave of new critical approaches replaced modernism and paved the way for \"post-modern\" studies of Shakespeare.[246] By the 1980s, Shakespeare studies were open to movements such as structuralism, feminism, New Historicism, African-American studies, and queer studies.[247][248] Comparing Shakespeare\\'s accomplishments to those of leading figures in philosophy and theology, Harold Bloom wrote: \"Shakespeare was larger than Plato and than St. Augustine. He encloses us because we see with his fundamental perceptions.\"[249]\\n\\nWorks\\nFurther information: Shakespeare bibliography and Chronology of Shakespeare\\'s plays\\nClassification of the plays\\n\\nThe Plays of William Shakespeare. By Sir John Gilbert, 1849.\\nShakespeare\\'s works include the 36 plays printed in the First Folio of 1623, listed according to their folio classification as comedies, histories, and tragedies.[250] Two plays not included in the First Folio, The Two Noble Kinsmen and Pericles, Prince of Tyre, are now accepted as part of the canon, with today\\'s scholars agreeing that Shakespeare made major contributions to the writing of both.[251][252] No Shakespearean poems were included in the First Folio.\\n\\nIn the late 19th century, Edward Dowden classified four of the late comedies as romances, and though many scholars prefer to call them tragicomedies, Dowden\\'s term is often used.[253][254] In 1896, Frederick S. Boas coined the term \"problem plays\" to describe four plays: All\\'s Well That Ends Well, Measure for Measure, Troilus and Cressida, and Hamlet.[255] \"Dramas as singular in theme and temper cannot be strictly called comedies or tragedies\", he wrote. \"We may, therefore, borrow a convenient phrase from the theatre of today and class them together as Shakespeare\\'s problem plays.\"[256] The term, much debated and sometimes applied to other plays, remains in use, though Hamlet is definitively classed as a tragedy.[257][258][259]\\n\\nSpeculation about Shakespeare\\nAuthorship\\nMain article: Shakespeare authorship question\\nAround 230 years after Shakespeare\\'s death, doubts began to be expressed about the authorship of the works attributed to him.[260] Proposed alternative candidates include Francis Bacon, Christopher Marlowe, and Edward de Vere, 17th Earl of Oxford.[261] Several \"group theories\" have also been proposed.[262] Only a small minority of academics believe there is reason to question the traditional attribution,[263] but interest in the subject, particularly the Oxfordian theory of Shakespeare authorship, continues into the 21st century.[264][265][266]\\n\\nReligion\\nMain article: Religious views of William Shakespeare\\nShakespeare conformed to the official state religion,[k] but his private views on religion have been the subject of debate. Shakespeare\\'s will uses a Protestant formula, and he was a confirmed member of the Church of England, where he was married, his children were baptised, and where he is buried. Some scholars claim that members of Shakespeare\\'s family were Catholics, at a time when practising Catholicism in England was against the law.[268] Shakespeare\\'s mother, Mary Arden, certainly came from a pious Catholic family. The strongest evidence might be a Catholic statement of faith signed by his father, John Shakespeare, found in 1757 in the rafters of his former house in Henley Street. However, the document is now lost and scholars differ as to its authenticity.[269][270] In 1591, the authorities reported that John Shakespeare had missed church \"for fear of process for debt\", a common Catholic excuse.[271][272][273] In 1606, the name of William\\'s daughter Susanna appears on a list of those who failed to attend Easter communion in Stratford.[271][272][273] Other authors argue that there is a lack of evidence about Shakespeare\\'s religious beliefs. Scholars find evidence both for and against Shakespeare\\'s Catholicism, Protestantism, or lack of belief in his plays, but the truth may be impossible to prove.[274][275]\\n\\nSexuality\\nMain article: Sexuality of William Shakespeare\\nFew details of Shakespeare\\'s sexuality are known. At 18, he married 26-year-old Anne Hathaway, who was pregnant. Susanna, the first of their three children, was born six months later on 26 May 1583. Over the centuries, some readers have posited that Shakespeare\\'s sonnets are autobiographical,[276] and point to them as evidence of his love for a young man. Others read the same passages as the expression of intense friendship rather than romantic love.[277][278][279] The 26 so-called \"Dark Lady\" sonnets, addressed to a married woman, are taken as evidence of heterosexual liaisons.[280]\\n\\nPortraiture\\nMain article: Portraits of Shakespeare\\nNo written contemporary description of Shakespeare\\'s physical appearance survives, and no evidence suggests that he ever commissioned a portrait, so the Droeshout engraving, which Ben Jonson approved of as a good likeness,[281] and his Stratford monument provide perhaps the best evidence of his appearance. From the 18th century, the desire for authentic Shakespeare portraits fuelled claims that various surviving pictures depicted Shakespeare. That demand also led to the production of several fake portraits, as well as misattributions, repaintings, and relabelling of portraits of other people.[282]'"
            ]
          },
          "metadata": {
            "tags": []
          },
          "execution_count": 47
        }
      ]
    },
    {
      "cell_type": "code",
      "metadata": {
        "tags": [],
        "cell_id": "00026-742d5898-a567-4137-b949-b0938fd5588a",
        "deepnote_to_be_reexecuted": false,
        "source_hash": "d6bd2229",
        "execution_start": 1609552283057,
        "execution_millis": 2,
        "deepnote_cell_type": "code",
        "id": "tygx6YiCl0lO",
        "outputId": "58439398-1bfa-4d56-ea7f-7b161169cfaf"
      },
      "source": [
        "'''this is an orphan string'''"
      ],
      "execution_count": null,
      "outputs": [
        {
          "output_type": "execute_result",
          "data": {
            "text/plain": [
              "'this is an orphan string'"
            ]
          },
          "metadata": {
            "tags": []
          },
          "execution_count": 48
        }
      ]
    },
    {
      "cell_type": "code",
      "metadata": {
        "tags": [],
        "cell_id": "00027-3b0df877-1529-42f7-971e-bf949d7d59ba",
        "deepnote_to_be_reexecuted": false,
        "source_hash": "a7b6450a",
        "execution_start": 1609552288854,
        "execution_millis": 0,
        "deepnote_cell_type": "code",
        "id": "yv0iIIsWl0ld",
        "outputId": "67d4a6a2-d812-45aa-f820-fe7ea3115666"
      },
      "source": [
        "123123123123"
      ],
      "execution_count": null,
      "outputs": [
        {
          "output_type": "execute_result",
          "data": {
            "text/plain": [
              "123123123123"
            ]
          },
          "metadata": {
            "tags": []
          },
          "execution_count": 49
        }
      ]
    },
    {
      "cell_type": "code",
      "metadata": {
        "tags": [],
        "cell_id": "00028-3d5b98de-2cc8-423e-83df-3b6c2193872e",
        "deepnote_to_be_reexecuted": false,
        "source_hash": "a0d7b670",
        "execution_start": 1609552325854,
        "execution_millis": 0,
        "deepnote_cell_type": "code",
        "id": "SkPfkipQl0le",
        "outputId": "ed5bc89a-2082-466e-9b3c-a49c6c96c98a"
      },
      "source": [
        "'''this is an orphan \\\n",
        "string'''"
      ],
      "execution_count": null,
      "outputs": [
        {
          "output_type": "execute_result",
          "data": {
            "text/plain": [
              "'this is an orphan string'"
            ]
          },
          "metadata": {
            "tags": []
          },
          "execution_count": 50
        }
      ]
    },
    {
      "cell_type": "code",
      "metadata": {
        "tags": [],
        "cell_id": "00029-22939d63-4a51-45c0-95d1-8a34044d6b9d",
        "deepnote_to_be_reexecuted": false,
        "source_hash": "1fea7109",
        "execution_start": 1609552378952,
        "execution_millis": 0,
        "deepnote_cell_type": "code",
        "id": "Zw00oeoQl0lf"
      },
      "source": [
        "# WYSIWYG\n",
        "\n",
        "import math\n"
      ],
      "execution_count": null,
      "outputs": []
    },
    {
      "cell_type": "code",
      "metadata": {
        "tags": [],
        "cell_id": "00030-83819dee-0bc9-448f-8dab-e9239267d470",
        "deepnote_to_be_reexecuted": false,
        "source_hash": "c159d4b6",
        "execution_start": 1609552390933,
        "execution_millis": 5,
        "deepnote_cell_type": "code",
        "id": "5Uc9z9wSl0lf",
        "outputId": "6e30de9f-4415-40d7-ac31-b321fba4133c"
      },
      "source": [
        "math.cos(1.0)"
      ],
      "execution_count": null,
      "outputs": [
        {
          "output_type": "execute_result",
          "data": {
            "text/plain": [
              "0.5403023058681398"
            ]
          },
          "metadata": {
            "tags": []
          },
          "execution_count": 52
        }
      ]
    },
    {
      "cell_type": "code",
      "metadata": {
        "tags": [],
        "cell_id": "00031-02f87c83-5023-442b-af1f-d9de3ed9f850",
        "deepnote_to_be_reexecuted": false,
        "source_hash": "3b739823",
        "execution_start": 1609552609174,
        "execution_millis": 1,
        "deepnote_cell_type": "code",
        "id": "KgHyCW4rl0lg"
      },
      "source": [
        "# this is\n",
        "#    a multi-line\n",
        "#    comment"
      ],
      "execution_count": null,
      "outputs": []
    },
    {
      "cell_type": "code",
      "metadata": {
        "tags": [],
        "cell_id": "00032-5e129249-96db-4b6d-8bee-88845019861d",
        "deepnote_to_be_reexecuted": false,
        "source_hash": "9f1a434b",
        "execution_start": 1609552633822,
        "execution_millis": 0,
        "deepnote_cell_type": "code",
        "id": "btW_L3Ogl0lh"
      },
      "source": [
        "# this is\n",
        "    # a multi-line\n",
        "    # comment"
      ],
      "execution_count": null,
      "outputs": []
    },
    {
      "cell_type": "code",
      "metadata": {
        "tags": [],
        "cell_id": "00033-952df75d-6a09-41cc-9541-fc5cc0bb562f",
        "deepnote_to_be_reexecuted": false,
        "source_hash": "e46f7b0",
        "execution_start": 1609552663990,
        "execution_millis": 0,
        "deepnote_cell_type": "code",
        "id": "QJKYqp0Zl0lh",
        "outputId": "29adf98f-f650-4809-a238-07384076a362"
      },
      "source": [
        "a = 2\n",
        "if a < 3:\n",
        "    print('a < 3')\n",
        "else:\n",
        "    print('a >= 3')"
      ],
      "execution_count": null,
      "outputs": [
        {
          "output_type": "stream",
          "text": [
            "a < 3\n"
          ],
          "name": "stdout"
        }
      ]
    },
    {
      "cell_type": "code",
      "metadata": {
        "tags": [],
        "cell_id": "00034-9db98a24-00cf-4bee-bf6b-d5574e8e8e27",
        "deepnote_to_be_reexecuted": false,
        "source_hash": "b725e54a",
        "execution_start": 1609552699702,
        "execution_millis": 3,
        "deepnote_cell_type": "code",
        "id": "fQpbUOhwl0li",
        "outputId": "994b0d5c-7c4a-4df5-8096-c60a4e824d3e"
      },
      "source": [
        "a = 15\n",
        "\n",
        "if a < 5:\n",
        "    print('a < 5')\n",
        "else:\n",
        "    if a < 10:\n",
        "        print('a < 10')\n",
        "    else:\n",
        "        print('a >=10')"
      ],
      "execution_count": null,
      "outputs": [
        {
          "output_type": "stream",
          "text": [
            "a >=10\n"
          ],
          "name": "stdout"
        }
      ]
    },
    {
      "cell_type": "code",
      "metadata": {
        "tags": [],
        "cell_id": "00035-48a91a07-6506-4aa2-8f11-d4496ac0a494",
        "deepnote_to_be_reexecuted": false,
        "source_hash": "b132694c",
        "execution_start": 1609552736726,
        "execution_millis": 0,
        "deepnote_cell_type": "code",
        "id": "EqmBQq9Tl0lj",
        "outputId": "6fa3bd7d-444c-4855-f583-f6e5c0b5382f"
      },
      "source": [
        "a = 15\n",
        "\n",
        "if a < 5:\n",
        "    print('a < 5')\n",
        "elif a < 10:\n",
        "    print('a < 10')\n",
        "else:\n",
        "    print('a >= 10')"
      ],
      "execution_count": null,
      "outputs": [
        {
          "output_type": "stream",
          "text": [
            "a >= 10\n"
          ],
          "name": "stdout"
        }
      ]
    },
    {
      "cell_type": "code",
      "metadata": {
        "tags": [],
        "cell_id": "00036-e0d9fa78-f988-4ddc-b882-8e482d52ee79",
        "deepnote_to_be_reexecuted": false,
        "source_hash": "ec235dd9",
        "execution_millis": 0,
        "execution_start": 1609552889198,
        "deepnote_cell_type": "code",
        "id": "ASnrA9Q5l0lj"
      },
      "source": [
        "a = {'key1': lambda a, b: a + b }"
      ],
      "execution_count": null,
      "outputs": []
    },
    {
      "cell_type": "code",
      "metadata": {
        "tags": [],
        "cell_id": "00037-0c7bf0d9-554c-48da-9381-3bd26db7bf2b",
        "deepnote_to_be_reexecuted": false,
        "source_hash": "773407e",
        "execution_millis": 0,
        "execution_start": 1609552931930,
        "deepnote_cell_type": "code",
        "id": "6pi6hkhZl0lk"
      },
      "source": [
        "r = lambda a, b: a + b"
      ],
      "execution_count": null,
      "outputs": []
    },
    {
      "cell_type": "code",
      "metadata": {
        "tags": [],
        "cell_id": "00038-5812467d-f560-449c-b218-20e7753e3828",
        "deepnote_to_be_reexecuted": false,
        "source_hash": "e03fedae",
        "execution_start": 1609552936027,
        "execution_millis": 4,
        "deepnote_cell_type": "code",
        "id": "dOYbAoinl0lk",
        "outputId": "fe2a310c-65d9-453c-db0c-b77d6c0444bf"
      },
      "source": [
        "r(1, 2)"
      ],
      "execution_count": null,
      "outputs": [
        {
          "output_type": "execute_result",
          "data": {
            "text/plain": [
              "3"
            ]
          },
          "metadata": {
            "tags": []
          },
          "execution_count": 62
        }
      ]
    },
    {
      "cell_type": "code",
      "metadata": {
        "tags": [],
        "cell_id": "00039-815ff491-22a0-4764-8756-1110d0e77295",
        "deepnote_to_be_reexecuted": false,
        "source_hash": "8a331e5d",
        "execution_millis": 0,
        "execution_start": 1609553216050,
        "deepnote_cell_type": "code",
        "id": "9IBSwnWhl0ll",
        "outputId": "26fd862d-75b6-4892-a151-f6826367ac12"
      },
      "source": [
        "a = 5\n",
        "res = 'a < 10' if a < 10 else 'a >= 10'\n",
        "print(res)"
      ],
      "execution_count": null,
      "outputs": [
        {
          "output_type": "stream",
          "text": [
            "a < 10\n"
          ],
          "name": "stdout"
        }
      ]
    },
    {
      "cell_type": "code",
      "metadata": {
        "tags": [],
        "cell_id": "00040-468d5737-88c0-4603-a925-173df880122b",
        "deepnote_to_be_reexecuted": false,
        "source_hash": "9af52139",
        "execution_start": 1609553227867,
        "execution_millis": 13,
        "deepnote_cell_type": "code",
        "id": "-nl1ZbFSl0lm",
        "outputId": "c7ae305d-c629-4f49-ae7b-d86210f36b58"
      },
      "source": [
        "a = 15\n",
        "res = 'a < 10' if a < 10 else 'a >= 10'\n",
        "print(res)"
      ],
      "execution_count": null,
      "outputs": [
        {
          "output_type": "stream",
          "text": [
            "a >= 10\n"
          ],
          "name": "stdout"
        }
      ]
    },
    {
      "cell_type": "code",
      "metadata": {
        "tags": [],
        "cell_id": "00041-b0a9301a-3847-4016-bafa-7f4e35beb981",
        "deepnote_to_be_reexecuted": false,
        "source_hash": "fef5b983",
        "execution_start": 1609553252054,
        "execution_millis": 0,
        "deepnote_cell_type": "code",
        "id": "w6R42mQEl0lm"
      },
      "source": [
        "def say_hello():\n",
        "    print('Hello!')\n",
        "    \n",
        "def say_goodbye():\n",
        "    print('Goodbye!')"
      ],
      "execution_count": null,
      "outputs": []
    },
    {
      "cell_type": "code",
      "metadata": {
        "tags": [],
        "cell_id": "00042-d75ba7c1-eaf7-4fbc-b80d-4f3be1b6bce4",
        "deepnote_to_be_reexecuted": false,
        "source_hash": "57914f95",
        "execution_millis": 0,
        "execution_start": 1609553306178,
        "deepnote_cell_type": "code",
        "id": "HsLpVp7gl0lm",
        "outputId": "9ea86529-fee9-42be-e78c-e804ceb76d75"
      },
      "source": [
        "a = 5\n",
        "\n",
        "say_hello() if a < 10 else say_goodbye()"
      ],
      "execution_count": null,
      "outputs": [
        {
          "output_type": "stream",
          "text": [
            "Hello!\n"
          ],
          "name": "stdout"
        }
      ]
    },
    {
      "cell_type": "code",
      "metadata": {
        "tags": [],
        "cell_id": "00043-3de7c980-e782-4ac3-9e78-8df3bdea6573",
        "deepnote_to_be_reexecuted": false,
        "source_hash": "84e84a99",
        "execution_millis": 8,
        "execution_start": 1609553321407,
        "deepnote_cell_type": "code",
        "id": "WGtEHnwQl0ln",
        "outputId": "9d9b14d2-0115-4b0f-d5ee-7a9d29c76955"
      },
      "source": [
        "a = 15\n",
        "say_hello() if a < 10 else say_goodbye()"
      ],
      "execution_count": null,
      "outputs": [
        {
          "output_type": "stream",
          "text": [
            "Goodbye!\n"
          ],
          "name": "stdout"
        }
      ]
    },
    {
      "cell_type": "code",
      "metadata": {
        "tags": [],
        "cell_id": "00044-8ae30df0-0a3f-48ad-88de-9c240bddb01b",
        "deepnote_to_be_reexecuted": false,
        "source_hash": "b0e63c1c",
        "execution_start": 1609553342682,
        "execution_millis": 11,
        "deepnote_cell_type": "code",
        "id": "SVotR5Kkl0lo",
        "outputId": "990a30eb-1fe4-4429-ed93-0292165d58a1"
      },
      "source": [
        "s = [1, 2, 3]\n",
        "len(s)"
      ],
      "execution_count": null,
      "outputs": [
        {
          "output_type": "execute_result",
          "data": {
            "text/plain": [
              "3"
            ]
          },
          "metadata": {
            "tags": []
          },
          "execution_count": 82
        }
      ]
    },
    {
      "cell_type": "code",
      "metadata": {
        "tags": [],
        "cell_id": "00045-3ca63202-492a-46f9-a7aa-ed6f152fe7b7",
        "deepnote_to_be_reexecuted": false,
        "source_hash": "887ad7a6",
        "execution_millis": 1,
        "execution_start": 1609553374423,
        "deepnote_cell_type": "code",
        "id": "HouSFQ1Nl0lp",
        "outputId": "97ac4c11-17c8-41ec-ca23-da84db641bd5"
      },
      "source": [
        "from math import sqrt\n",
        "\n",
        "sqrt(4)"
      ],
      "execution_count": null,
      "outputs": [
        {
          "output_type": "execute_result",
          "data": {
            "text/plain": [
              "2.0"
            ]
          },
          "metadata": {
            "tags": []
          },
          "execution_count": 84
        }
      ]
    },
    {
      "cell_type": "code",
      "metadata": {
        "tags": [],
        "cell_id": "00046-cece2626-a094-4c48-bb6d-3e75b22c9f4b",
        "deepnote_to_be_reexecuted": false,
        "source_hash": "85ac3446",
        "execution_start": 1609553381397,
        "execution_millis": 3,
        "deepnote_cell_type": "code",
        "id": "y4drBxGJl0lp"
      },
      "source": [
        "import math "
      ],
      "execution_count": null,
      "outputs": []
    },
    {
      "cell_type": "code",
      "metadata": {
        "tags": [],
        "cell_id": "00047-61e22dca-33b0-426f-aec7-f35cf487f23b",
        "deepnote_to_be_reexecuted": false,
        "source_hash": "b683747e",
        "execution_start": 1609553402398,
        "execution_millis": 0,
        "deepnote_cell_type": "code",
        "id": "NJaALJxTl0lq",
        "outputId": "0364dc8f-1e0c-4f87-d206-36590e59cd06"
      },
      "source": [
        "math.exp(1)"
      ],
      "execution_count": null,
      "outputs": [
        {
          "output_type": "execute_result",
          "data": {
            "text/plain": [
              "2.718281828459045"
            ]
          },
          "metadata": {
            "tags": []
          },
          "execution_count": 86
        }
      ]
    },
    {
      "cell_type": "code",
      "metadata": {
        "tags": [],
        "cell_id": "00048-3dc51d37-a760-434f-bb1d-95b29b6f3b65",
        "deepnote_to_be_reexecuted": false,
        "source_hash": "f2495629",
        "execution_start": 1609553415967,
        "execution_millis": 8,
        "deepnote_cell_type": "code",
        "id": "b3DcBtcrl0lr",
        "outputId": "227f3691-a095-4065-e05c-660e2292edbb"
      },
      "source": [
        "def func_1():\n",
        "    print('running func1')\n",
        "\n",
        "func_1()"
      ],
      "execution_count": null,
      "outputs": [
        {
          "output_type": "stream",
          "text": [
            "running func1\n"
          ],
          "name": "stdout"
        }
      ]
    },
    {
      "cell_type": "code",
      "metadata": {
        "tags": [],
        "cell_id": "00049-7e6fa56e-4bc0-4431-9268-86245aa88880",
        "deepnote_to_be_reexecuted": false,
        "source_hash": "ff652b99",
        "execution_start": 1609553419045,
        "execution_millis": 2,
        "deepnote_cell_type": "code",
        "id": "d307XP5Ul0ls",
        "outputId": "b88c2649-70d8-496c-8f76-7b57d6014b44"
      },
      "source": [
        "func_1"
      ],
      "execution_count": null,
      "outputs": [
        {
          "output_type": "execute_result",
          "data": {
            "text/plain": [
              "<function __main__.func_1()>"
            ]
          },
          "metadata": {
            "tags": []
          },
          "execution_count": 88
        }
      ]
    },
    {
      "cell_type": "code",
      "metadata": {
        "tags": [],
        "cell_id": "00050-14dc57c9-0fda-4757-9334-38572832c172",
        "deepnote_to_be_reexecuted": false,
        "source_hash": "8db11c4c",
        "execution_start": 1609553447926,
        "execution_millis": 0,
        "deepnote_cell_type": "code",
        "id": "FtmZUWWnl0ls"
      },
      "source": [
        "res = 'a < 10' if a < 10 else '4' if  a==5  else 'a >=10'"
      ],
      "execution_count": null,
      "outputs": []
    },
    {
      "cell_type": "code",
      "metadata": {
        "tags": [],
        "cell_id": "00051-8149f25d-bbb8-4b0f-a555-9980bf39563e",
        "deepnote_to_be_reexecuted": false,
        "source_hash": "e2ce9a6d",
        "execution_start": 1609553452368,
        "execution_millis": 7,
        "deepnote_cell_type": "code",
        "id": "k-dbPn5Wl0lt",
        "outputId": "7b75ac90-26b1-47c5-a79f-a1adc701145d"
      },
      "source": [
        "res"
      ],
      "execution_count": null,
      "outputs": [
        {
          "output_type": "execute_result",
          "data": {
            "text/plain": [
              "'a >=10'"
            ]
          },
          "metadata": {
            "tags": []
          },
          "execution_count": 90
        }
      ]
    },
    {
      "cell_type": "code",
      "metadata": {
        "tags": [],
        "cell_id": "00052-336b0431-5064-483b-9a87-53c837384bd4",
        "deepnote_to_be_reexecuted": false,
        "source_hash": "e6a38c35",
        "execution_millis": 0,
        "execution_start": 1609553507025,
        "deepnote_cell_type": "code",
        "id": "69dV6Ahwl0lt",
        "outputId": "c0bbc77b-316e-4530-fc3d-dd9e53bf6f72"
      },
      "source": [
        "func_1() # calling or invoking"
      ],
      "execution_count": null,
      "outputs": [
        {
          "output_type": "stream",
          "text": [
            "running func1\n"
          ],
          "name": "stdout"
        }
      ]
    },
    {
      "cell_type": "code",
      "metadata": {
        "tags": [],
        "cell_id": "00053-cccad3b7-b6c9-4776-b886-d92b97d20d8d",
        "deepnote_to_be_reexecuted": false,
        "source_hash": "ff652b99",
        "execution_start": 1609553516050,
        "execution_millis": 0,
        "deepnote_cell_type": "code",
        "id": "KSC9FUBHl0lu",
        "outputId": "8757fc3d-dc6e-485f-b9e1-1c0f14dd036e"
      },
      "source": [
        "func_1"
      ],
      "execution_count": null,
      "outputs": [
        {
          "output_type": "execute_result",
          "data": {
            "text/plain": [
              "<function __main__.func_1()>"
            ]
          },
          "metadata": {
            "tags": []
          },
          "execution_count": 93
        }
      ]
    },
    {
      "cell_type": "code",
      "metadata": {
        "tags": [],
        "cell_id": "00054-09098863-4e91-4534-811a-81cdb694f72f",
        "deepnote_to_be_reexecuted": false,
        "source_hash": "49744952",
        "execution_start": 1609553590478,
        "execution_millis": 0,
        "deepnote_cell_type": "code",
        "id": "dUx0qm0Jl0lv"
      },
      "source": [
        "def func_2(a, b):\n",
        "    return a * b"
      ],
      "execution_count": null,
      "outputs": []
    },
    {
      "cell_type": "code",
      "metadata": {
        "tags": [],
        "cell_id": "00055-7e14890d-e0cb-4b4e-8dfd-2583dcb1eff4",
        "deepnote_to_be_reexecuted": false,
        "source_hash": "44f2e132",
        "execution_millis": 0,
        "execution_start": 1609553656634,
        "deepnote_cell_type": "code",
        "id": "KTz9gz88l0lv",
        "outputId": "39b28525-4732-41a4-a5d3-a05c42ed5503"
      },
      "source": [
        "func_2(3, 2)"
      ],
      "execution_count": null,
      "outputs": [
        {
          "output_type": "execute_result",
          "data": {
            "text/plain": [
              "6"
            ]
          },
          "metadata": {
            "tags": []
          },
          "execution_count": 97
        }
      ]
    },
    {
      "cell_type": "code",
      "metadata": {
        "tags": [],
        "cell_id": "00056-12c4c3c2-e0c0-43bd-a9c4-8f8a49ec7ff6",
        "deepnote_to_be_reexecuted": false,
        "source_hash": "7e9ad0a5",
        "execution_start": 1609553686042,
        "execution_millis": 0,
        "deepnote_cell_type": "code",
        "id": "sCMyOOe0l0lw",
        "outputId": "30626a9c-5c01-480d-c08e-1672633c7058"
      },
      "source": [
        "func_2('a', 3)"
      ],
      "execution_count": null,
      "outputs": [
        {
          "output_type": "execute_result",
          "data": {
            "text/plain": [
              "'aaa'"
            ]
          },
          "metadata": {
            "tags": []
          },
          "execution_count": 98
        }
      ]
    },
    {
      "cell_type": "code",
      "metadata": {
        "tags": [],
        "cell_id": "00057-1d7895c2-4596-42f4-bee1-2953e9acbcc2",
        "deepnote_to_be_reexecuted": false,
        "source_hash": "76eaa117",
        "execution_start": 1609553699194,
        "execution_millis": 0,
        "deepnote_cell_type": "code",
        "id": "pp3mdKrfl0lw",
        "outputId": "200d9dec-238d-4fc2-cc8c-738a185c31ac"
      },
      "source": [
        "func_2([1, 2, 3], 2)"
      ],
      "execution_count": null,
      "outputs": [
        {
          "output_type": "execute_result",
          "data": {
            "text/plain": [
              "[1, 2, 3, 1, 2, 3]"
            ]
          },
          "metadata": {
            "tags": []
          },
          "execution_count": 99
        }
      ]
    },
    {
      "cell_type": "code",
      "metadata": {
        "tags": [],
        "cell_id": "00058-71e92687-b23a-4ef0-8c5a-68abd32837e7",
        "deepnote_to_be_reexecuted": false,
        "source_hash": "7f9edeed",
        "execution_start": 1609553708474,
        "execution_millis": 38,
        "deepnote_cell_type": "code",
        "id": "RaNv-cj1l0lx",
        "outputId": "2ce0e17b-acda-4181-d2e6-cadf4f4f68a1"
      },
      "source": [
        "func_2('a', 'b')"
      ],
      "execution_count": null,
      "outputs": [
        {
          "output_type": "error",
          "ename": "TypeError",
          "evalue": "can't multiply sequence by non-int of type 'str'",
          "traceback": [
            "\u001b[0;31m---------------------------------------------------------------------------\u001b[0m",
            "\u001b[0;31mTypeError\u001b[0m                                 Traceback (most recent call last)",
            "\u001b[0;32m<ipython-input-100-f5ef76169988>\u001b[0m in \u001b[0;36m<module>\u001b[0;34m\u001b[0m\n\u001b[0;32m----> 1\u001b[0;31m \u001b[0mfunc_2\u001b[0m\u001b[0;34m(\u001b[0m\u001b[0;34m'a'\u001b[0m\u001b[0;34m,\u001b[0m \u001b[0;34m'b'\u001b[0m\u001b[0;34m)\u001b[0m\u001b[0;34m\u001b[0m\u001b[0;34m\u001b[0m\u001b[0m\n\u001b[0m",
            "\u001b[0;32m<ipython-input-94-94e0d01c7944>\u001b[0m in \u001b[0;36mfunc_2\u001b[0;34m(a, b)\u001b[0m\n\u001b[1;32m      1\u001b[0m \u001b[0;32mdef\u001b[0m \u001b[0mfunc_2\u001b[0m\u001b[0;34m(\u001b[0m\u001b[0ma\u001b[0m\u001b[0;34m,\u001b[0m \u001b[0mb\u001b[0m\u001b[0;34m)\u001b[0m\u001b[0;34m:\u001b[0m\u001b[0;34m\u001b[0m\u001b[0;34m\u001b[0m\u001b[0m\n\u001b[0;32m----> 2\u001b[0;31m     \u001b[0;32mreturn\u001b[0m \u001b[0ma\u001b[0m \u001b[0;34m*\u001b[0m \u001b[0mb\u001b[0m\u001b[0;34m\u001b[0m\u001b[0;34m\u001b[0m\u001b[0m\n\u001b[0m",
            "\u001b[0;31mTypeError\u001b[0m: can't multiply sequence by non-int of type 'str'"
          ]
        }
      ]
    },
    {
      "cell_type": "code",
      "metadata": {
        "tags": [],
        "cell_id": "00059-b757cd33-bf43-4603-9a0e-79ac50c66be0",
        "deepnote_to_be_reexecuted": false,
        "source_hash": "c16d8ddd",
        "execution_start": 1609553758322,
        "execution_millis": 0,
        "deepnote_cell_type": "code",
        "id": "yZP7YNM-l0ly"
      },
      "source": [
        "a = 10"
      ],
      "execution_count": null,
      "outputs": []
    },
    {
      "cell_type": "code",
      "metadata": {
        "tags": [],
        "cell_id": "00060-b5cc5784-bb90-418d-92b8-df9b437fcf39",
        "deepnote_to_be_reexecuted": false,
        "source_hash": "1478ef",
        "execution_start": 1609553774888,
        "execution_millis": 18,
        "deepnote_cell_type": "code",
        "id": "c9Qjr_2Il0ly",
        "outputId": "baf6d213-97b4-49c3-a0ea-88a665ffd1d3"
      },
      "source": [
        "type(a)"
      ],
      "execution_count": null,
      "outputs": [
        {
          "output_type": "execute_result",
          "data": {
            "text/plain": [
              "int"
            ]
          },
          "metadata": {
            "tags": []
          },
          "execution_count": 102
        }
      ]
    },
    {
      "cell_type": "code",
      "metadata": {
        "tags": [],
        "cell_id": "00061-2247687e-b711-41df-abfd-cdfc61bb0a9e",
        "deepnote_to_be_reexecuted": false,
        "source_hash": "ce3cb919",
        "execution_start": 1609553927004,
        "execution_millis": 8,
        "deepnote_cell_type": "code",
        "id": "t_czkBwll0lz",
        "outputId": "171758f2-680d-44b0-fb6f-129ffe996a96"
      },
      "source": [
        "id(a), id(10)"
      ],
      "execution_count": null,
      "outputs": [
        {
          "output_type": "execute_result",
          "data": {
            "text/plain": [
              "(139863590032736, 139863590032736)"
            ]
          },
          "metadata": {
            "tags": []
          },
          "execution_count": 103
        }
      ]
    },
    {
      "cell_type": "code",
      "metadata": {
        "tags": [],
        "cell_id": "00062-647b3967-c0d4-4eba-9d92-0e10959e95ec",
        "deepnote_to_be_reexecuted": false,
        "source_hash": "912e220b",
        "execution_start": 1609553965602,
        "execution_millis": 0,
        "deepnote_cell_type": "code",
        "id": "fJVR0Gbpl0lz",
        "outputId": "80a9881d-219b-420e-c1bf-71236cf48c04"
      },
      "source": [
        "a = 20\n",
        "b = 10\n",
        "id(a), id(10), id(b), id(20)"
      ],
      "execution_count": null,
      "outputs": [
        {
          "output_type": "execute_result",
          "data": {
            "text/plain": [
              "(139863590033056, 139863590032736, 139863590032736, 139863590033056)"
            ]
          },
          "metadata": {
            "tags": []
          },
          "execution_count": 104
        }
      ]
    },
    {
      "cell_type": "code",
      "metadata": {
        "tags": [],
        "cell_id": "00063-ff09b975-87d9-4886-b4f1-7d0657fb45e8",
        "deepnote_to_be_reexecuted": false,
        "source_hash": "c340db55",
        "execution_millis": 0,
        "execution_start": 1609554013161,
        "deepnote_cell_type": "code",
        "id": "jjUv7KiYl0l0",
        "outputId": "99d01f7d-caed-4e9b-9a21-db9501a29254"
      },
      "source": [
        "id(1)"
      ],
      "execution_count": null,
      "outputs": [
        {
          "output_type": "execute_result",
          "data": {
            "text/plain": [
              "139863590032448"
            ]
          },
          "metadata": {
            "tags": []
          },
          "execution_count": 111
        }
      ]
    },
    {
      "cell_type": "code",
      "metadata": {
        "tags": [],
        "cell_id": "00064-c1e4b4cb-b022-41bb-93fa-ebf1a417dcc7",
        "deepnote_to_be_reexecuted": false,
        "source_hash": "c340db55",
        "execution_millis": 1,
        "execution_start": 1609554011770,
        "deepnote_cell_type": "code",
        "id": "7iPlTjLml0l1",
        "outputId": "cf75730e-5d0f-4bcb-e989-fb69a9fb07be"
      },
      "source": [
        "id(1)"
      ],
      "execution_count": null,
      "outputs": [
        {
          "output_type": "execute_result",
          "data": {
            "text/plain": [
              "139863590032448"
            ]
          },
          "metadata": {
            "tags": []
          },
          "execution_count": 110
        }
      ]
    },
    {
      "cell_type": "code",
      "metadata": {
        "tags": [],
        "cell_id": "00065-8a6c2ed4-bf67-47ff-9833-edf6977b1e59",
        "deepnote_to_be_reexecuted": false,
        "source_hash": "aa3ae79b",
        "execution_start": 1609554140442,
        "execution_millis": 3,
        "deepnote_cell_type": "code",
        "id": "ZExRkKWxl0l1"
      },
      "source": [
        "def my_func(a, b):\n",
        "    return a + b"
      ],
      "execution_count": null,
      "outputs": []
    },
    {
      "cell_type": "code",
      "metadata": {
        "tags": [],
        "cell_id": "00066-5cba31be-ce9a-421f-8815-ebffa6e343e1",
        "deepnote_to_be_reexecuted": false,
        "source_hash": "c11b4fb3",
        "execution_start": 1609554232122,
        "execution_millis": 0,
        "deepnote_cell_type": "code",
        "id": "A-I6O_d6l0l2"
      },
      "source": [
        "a = 1\n",
        "b = 2\n",
        "\n",
        "a, b = b, a"
      ],
      "execution_count": null,
      "outputs": []
    },
    {
      "cell_type": "code",
      "metadata": {
        "tags": [],
        "cell_id": "00067-5b4ecc81-6b4a-4b5e-a093-9bfee25ff20e",
        "deepnote_to_be_reexecuted": false,
        "source_hash": "62ed45e9",
        "execution_start": 1609554235794,
        "execution_millis": 0,
        "deepnote_cell_type": "code",
        "id": "JXkeRAbkl0l2",
        "outputId": "e0ba0595-9120-4aa3-fbac-d1672628e089"
      },
      "source": [
        "a, b"
      ],
      "execution_count": null,
      "outputs": [
        {
          "output_type": "execute_result",
          "data": {
            "text/plain": [
              "(2, 1)"
            ]
          },
          "metadata": {
            "tags": []
          },
          "execution_count": 114
        }
      ]
    },
    {
      "cell_type": "code",
      "metadata": {
        "tags": [],
        "cell_id": "00068-5171028e-a6ad-4833-96ef-8902196da56c",
        "deepnote_to_be_reexecuted": false,
        "source_hash": "b65b8811",
        "execution_start": 1609554309053,
        "execution_millis": 1,
        "deepnote_cell_type": "code",
        "id": "p8tdCCmKl0l3"
      },
      "source": [
        "def func_3(a: int, b: int):\n",
        "    return a * b"
      ],
      "execution_count": null,
      "outputs": []
    },
    {
      "cell_type": "code",
      "metadata": {
        "tags": [],
        "cell_id": "00069-de108d01-4ac7-4c3f-b027-195dcedaab21",
        "deepnote_to_be_reexecuted": false,
        "source_hash": "754d086b",
        "execution_start": 1609554320791,
        "execution_millis": 3,
        "deepnote_cell_type": "code",
        "id": "e2Rr6AKRl0l3",
        "outputId": "a27edeb7-c049-42d5-ca8a-52e8ff322b7a"
      },
      "source": [
        "func_3(2, 3)"
      ],
      "execution_count": null,
      "outputs": [
        {
          "output_type": "execute_result",
          "data": {
            "text/plain": [
              "6"
            ]
          },
          "metadata": {
            "tags": []
          },
          "execution_count": 116
        }
      ]
    },
    {
      "cell_type": "code",
      "metadata": {
        "tags": [],
        "cell_id": "00070-7fc9dc4a-420e-4606-b07d-f1d0de136981",
        "deepnote_to_be_reexecuted": false,
        "source_hash": "ca870a2",
        "execution_start": 1609554327542,
        "execution_millis": 1,
        "deepnote_cell_type": "code",
        "id": "fj23fhUnl0l4",
        "outputId": "128ac17f-5ce8-4438-bd69-5600888be499"
      },
      "source": [
        "func_3('a', 2)"
      ],
      "execution_count": null,
      "outputs": [
        {
          "output_type": "execute_result",
          "data": {
            "text/plain": [
              "'aa'"
            ]
          },
          "metadata": {
            "tags": []
          },
          "execution_count": 117
        }
      ]
    },
    {
      "cell_type": "code",
      "metadata": {
        "tags": [],
        "cell_id": "00071-17b8f0e4-0f4c-45f7-86d5-96371ef36fa5",
        "deepnote_to_be_reexecuted": false,
        "source_hash": "f42eb893",
        "execution_start": 1609554407975,
        "execution_millis": 10,
        "deepnote_cell_type": "code",
        "id": "qjh78Zg7l0l5",
        "outputId": "86067fe1-8ea6-414c-db5c-7217e1fc261a"
      },
      "source": [
        "f3 = func_3\n",
        "\n",
        "f3(3, 5)"
      ],
      "execution_count": null,
      "outputs": [
        {
          "output_type": "execute_result",
          "data": {
            "text/plain": [
              "15"
            ]
          },
          "metadata": {
            "tags": []
          },
          "execution_count": 118
        }
      ]
    },
    {
      "cell_type": "code",
      "metadata": {
        "tags": [],
        "cell_id": "00072-9dca4944-f68f-430c-8da8-58944f2a700c",
        "deepnote_to_be_reexecuted": false,
        "source_hash": "3f71725f",
        "execution_start": 1609554467486,
        "execution_millis": 8,
        "deepnote_cell_type": "code",
        "id": "pMg5QJ2ll0l6",
        "outputId": "e9ac050d-ec15-4cc5-aa88-e0fb9033715d"
      },
      "source": [
        "func_3"
      ],
      "execution_count": null,
      "outputs": [
        {
          "output_type": "execute_result",
          "data": {
            "text/plain": [
              "<function __main__.func_3(a: int, b: int)>"
            ]
          },
          "metadata": {
            "tags": []
          },
          "execution_count": 119
        }
      ]
    },
    {
      "cell_type": "code",
      "metadata": {
        "tags": [],
        "cell_id": "00073-8038818e-fcdd-4867-bc0f-f2e30e5b0e14",
        "deepnote_to_be_reexecuted": false,
        "source_hash": "22dd3809",
        "execution_millis": 0,
        "execution_start": 1609554569278,
        "deepnote_cell_type": "code",
        "id": "fCjJ1OYbl0l6"
      },
      "source": [
        "def func_4(a, b):\n",
        "    # some comment here\n",
        "    if a == b:\n",
        "        return 'success!'"
      ],
      "execution_count": null,
      "outputs": []
    },
    {
      "cell_type": "code",
      "metadata": {
        "tags": [],
        "cell_id": "00074-23c4d3f8-41cd-42f9-9a2f-867c7a2ed14b",
        "deepnote_to_be_reexecuted": false,
        "source_hash": "c3c452fb",
        "execution_millis": 2,
        "execution_start": 1609554579967,
        "deepnote_cell_type": "code",
        "id": "AUlqu6MSl0l7",
        "outputId": "b0ef0891-1bb9-4bd3-9421-cde257c70ea0"
      },
      "source": [
        "res = func_4(3, 3)\n",
        "print(res)"
      ],
      "execution_count": null,
      "outputs": [
        {
          "output_type": "stream",
          "text": [
            "success!\n"
          ],
          "name": "stdout"
        }
      ]
    },
    {
      "cell_type": "code",
      "metadata": {
        "tags": [],
        "cell_id": "00075-b1cc2233-5698-43d2-8b48-c361b6ce12a1",
        "deepnote_to_be_reexecuted": false,
        "source_hash": "c7e3dbac",
        "execution_millis": 5,
        "execution_start": 1609554654479,
        "deepnote_cell_type": "code",
        "id": "GIGPW1Rhl0l8",
        "outputId": "3b5935c5-5997-4006-ec87-c7b23c439ea4"
      },
      "source": [
        "if type('red') == type('string'):\n",
        "    print('2021')"
      ],
      "execution_count": null,
      "outputs": [
        {
          "output_type": "stream",
          "text": [
            "2021\n"
          ],
          "name": "stdout"
        }
      ]
    },
    {
      "cell_type": "code",
      "metadata": {
        "tags": [],
        "cell_id": "00076-11cccdb0-bebb-4f90-95d8-8668f98cd396",
        "deepnote_to_be_reexecuted": false,
        "source_hash": "f77712c0",
        "execution_millis": 0,
        "execution_start": 1609554867678,
        "deepnote_cell_type": "code",
        "id": "VOP_P3H2l0l8"
      },
      "source": [
        "def func_x():\n",
        "    func_which_is_never_defined()"
      ],
      "execution_count": null,
      "outputs": []
    },
    {
      "cell_type": "code",
      "metadata": {
        "tags": [],
        "cell_id": "00077-f41d3c30-1b62-4b5e-9ee0-331a77771f5f",
        "deepnote_to_be_reexecuted": false,
        "source_hash": "5b51a08e",
        "execution_millis": 9,
        "execution_start": 1609554872534,
        "deepnote_cell_type": "code",
        "id": "CRilFxmBl0l9",
        "outputId": "d49815d9-8a68-4730-d0bb-448dcb30efba"
      },
      "source": [
        "func_x()"
      ],
      "execution_count": null,
      "outputs": [
        {
          "output_type": "error",
          "ename": "NameError",
          "evalue": "name 'func_which_is_never_defined' is not defined",
          "traceback": [
            "\u001b[0;31m---------------------------------------------------------------------------\u001b[0m",
            "\u001b[0;31mNameError\u001b[0m                                 Traceback (most recent call last)",
            "\u001b[0;32m<ipython-input-135-e86b19d69136>\u001b[0m in \u001b[0;36m<module>\u001b[0;34m\u001b[0m\n\u001b[0;32m----> 1\u001b[0;31m \u001b[0mfunc_x\u001b[0m\u001b[0;34m(\u001b[0m\u001b[0;34m)\u001b[0m\u001b[0;34m\u001b[0m\u001b[0;34m\u001b[0m\u001b[0m\n\u001b[0m",
            "\u001b[0;32m<ipython-input-134-90020a9edc4d>\u001b[0m in \u001b[0;36mfunc_x\u001b[0;34m()\u001b[0m\n\u001b[1;32m      1\u001b[0m \u001b[0;32mdef\u001b[0m \u001b[0mfunc_x\u001b[0m\u001b[0;34m(\u001b[0m\u001b[0;34m)\u001b[0m\u001b[0;34m:\u001b[0m\u001b[0;34m\u001b[0m\u001b[0;34m\u001b[0m\u001b[0m\n\u001b[0;32m----> 2\u001b[0;31m     \u001b[0mfunc_which_is_never_defined\u001b[0m\u001b[0;34m(\u001b[0m\u001b[0;34m)\u001b[0m\u001b[0;34m\u001b[0m\u001b[0;34m\u001b[0m\u001b[0m\n\u001b[0m",
            "\u001b[0;31mNameError\u001b[0m: name 'func_which_is_never_defined' is not defined"
          ]
        }
      ]
    },
    {
      "cell_type": "code",
      "metadata": {
        "tags": [],
        "cell_id": "00078-b7608e56-02b4-4ae0-9161-3b5b5e241b4d",
        "deepnote_to_be_reexecuted": false,
        "source_hash": "e518c82f",
        "execution_millis": 3,
        "execution_start": 1609554918833,
        "deepnote_cell_type": "code",
        "id": "zmlShM-ql0l9",
        "outputId": "1ceead15-0048-4510-880a-62d9f025176c"
      },
      "source": [
        "def fn_1():\n",
        "    fn_2()\n",
        "def fn_2():\n",
        "    print('Hello')\n",
        "print('I came here!')\n",
        "fn_1()"
      ],
      "execution_count": null,
      "outputs": [
        {
          "output_type": "stream",
          "text": [
            "I came here!\n",
            "Hello\n"
          ],
          "name": "stdout"
        }
      ]
    },
    {
      "cell_type": "code",
      "metadata": {
        "tags": [],
        "cell_id": "00079-1dccd21d-61bc-4e0d-87b0-0a3c53761ff0",
        "deepnote_to_be_reexecuted": false,
        "source_hash": "2fd82a0c",
        "execution_start": 1609554939626,
        "execution_millis": 0,
        "deepnote_cell_type": "code",
        "id": "z0e9b7esl0l-",
        "outputId": "0619f27a-6262-40a8-8918-e73620ece10d"
      },
      "source": [
        "def fn_3():\n",
        "    fn_4()\n",
        "\n",
        "fn_3()\n",
        "\n",
        "def fn_4():\n",
        "    print('Hello')"
      ],
      "execution_count": null,
      "outputs": [
        {
          "output_type": "error",
          "ename": "NameError",
          "evalue": "name 'fn_4' is not defined",
          "traceback": [
            "\u001b[0;31m---------------------------------------------------------------------------\u001b[0m",
            "\u001b[0;31mNameError\u001b[0m                                 Traceback (most recent call last)",
            "\u001b[0;32m<ipython-input-140-00a74014e7cd>\u001b[0m in \u001b[0;36m<module>\u001b[0;34m\u001b[0m\n\u001b[1;32m      2\u001b[0m     \u001b[0mfn_4\u001b[0m\u001b[0;34m(\u001b[0m\u001b[0;34m)\u001b[0m\u001b[0;34m\u001b[0m\u001b[0;34m\u001b[0m\u001b[0m\n\u001b[1;32m      3\u001b[0m \u001b[0;34m\u001b[0m\u001b[0m\n\u001b[0;32m----> 4\u001b[0;31m \u001b[0mfn_3\u001b[0m\u001b[0;34m(\u001b[0m\u001b[0;34m)\u001b[0m\u001b[0;34m\u001b[0m\u001b[0;34m\u001b[0m\u001b[0m\n\u001b[0m\u001b[1;32m      5\u001b[0m \u001b[0;34m\u001b[0m\u001b[0m\n\u001b[1;32m      6\u001b[0m \u001b[0;32mdef\u001b[0m \u001b[0mfn_4\u001b[0m\u001b[0;34m(\u001b[0m\u001b[0;34m)\u001b[0m\u001b[0;34m:\u001b[0m\u001b[0;34m\u001b[0m\u001b[0;34m\u001b[0m\u001b[0m\n",
            "\u001b[0;32m<ipython-input-140-00a74014e7cd>\u001b[0m in \u001b[0;36mfn_3\u001b[0;34m()\u001b[0m\n\u001b[1;32m      1\u001b[0m \u001b[0;32mdef\u001b[0m \u001b[0mfn_3\u001b[0m\u001b[0;34m(\u001b[0m\u001b[0;34m)\u001b[0m\u001b[0;34m:\u001b[0m\u001b[0;34m\u001b[0m\u001b[0;34m\u001b[0m\u001b[0m\n\u001b[0;32m----> 2\u001b[0;31m     \u001b[0mfn_4\u001b[0m\u001b[0;34m(\u001b[0m\u001b[0;34m)\u001b[0m\u001b[0;34m\u001b[0m\u001b[0;34m\u001b[0m\u001b[0m\n\u001b[0m\u001b[1;32m      3\u001b[0m \u001b[0;34m\u001b[0m\u001b[0m\n\u001b[1;32m      4\u001b[0m \u001b[0mfn_3\u001b[0m\u001b[0;34m(\u001b[0m\u001b[0;34m)\u001b[0m\u001b[0;34m\u001b[0m\u001b[0;34m\u001b[0m\u001b[0m\n\u001b[1;32m      5\u001b[0m \u001b[0;34m\u001b[0m\u001b[0m\n",
            "\u001b[0;31mNameError\u001b[0m: name 'fn_4' is not defined"
          ]
        }
      ]
    },
    {
      "cell_type": "code",
      "metadata": {
        "tags": [],
        "cell_id": "00080-c9b4efc1-e4e3-490c-b379-92239ee48759",
        "deepnote_to_be_reexecuted": false,
        "source_hash": "8ec77329",
        "execution_millis": 12,
        "execution_start": 1609555079272,
        "deepnote_cell_type": "code",
        "id": "0M8Vrki7l0l-"
      },
      "source": [
        "def func_7(a, b):\n",
        "    return a + b"
      ],
      "execution_count": null,
      "outputs": []
    },
    {
      "cell_type": "code",
      "metadata": {
        "tags": [],
        "cell_id": "00081-712d8c2e-a80e-4d59-b1dc-edd71a0b53b8",
        "deepnote_to_be_reexecuted": false,
        "source_hash": "db1ad286",
        "execution_millis": 0,
        "execution_start": 1609555174578,
        "deepnote_cell_type": "code",
        "id": "eTH7m3mFl0l_",
        "outputId": "dfa48ebf-9972-4438-ce1b-44d212c7fa6b"
      },
      "source": [
        "lambda a, b: a + b"
      ],
      "execution_count": null,
      "outputs": [
        {
          "output_type": "execute_result",
          "data": {
            "text/plain": [
              "<function __main__.<lambda>(a, b)>"
            ]
          },
          "metadata": {
            "tags": []
          },
          "execution_count": 156
        }
      ]
    },
    {
      "cell_type": "code",
      "metadata": {
        "tags": [],
        "cell_id": "00082-cf667e8b-f174-4c17-ac2a-e2b6f5ff2a82",
        "deepnote_to_be_reexecuted": false,
        "source_hash": "67dfec94",
        "execution_millis": 6,
        "execution_start": 1609555183511,
        "deepnote_cell_type": "code",
        "id": "Wu_AhptRl0l_",
        "outputId": "e033b928-6ce9-425f-c44e-e03c4752324d"
      },
      "source": [
        "10"
      ],
      "execution_count": null,
      "outputs": [
        {
          "output_type": "execute_result",
          "data": {
            "text/plain": [
              "10"
            ]
          },
          "metadata": {
            "tags": []
          },
          "execution_count": 157
        }
      ]
    },
    {
      "cell_type": "code",
      "metadata": {
        "tags": [],
        "cell_id": "00083-d72bc14c-698b-4abe-93c8-d4e79b2890e8",
        "deepnote_to_be_reexecuted": false,
        "source_hash": "991d3440",
        "execution_millis": 0,
        "execution_start": 1609555271042,
        "deepnote_cell_type": "code",
        "id": "OEdcOL22l0mA"
      },
      "source": [
        "a = 5\n",
        "c = 10\n",
        "if a < 5:\n",
        "    b = lambda a, c: a + c\n",
        "else:\n",
        "    b = lambda a, c: a - c"
      ],
      "execution_count": null,
      "outputs": []
    },
    {
      "cell_type": "code",
      "metadata": {
        "tags": [],
        "cell_id": "00084-affd33ea-bb3d-4d6f-bb1e-6e4a6b5cd008",
        "deepnote_to_be_reexecuted": false,
        "source_hash": "4f8c875a",
        "execution_millis": 3,
        "execution_start": 1609555271444,
        "deepnote_cell_type": "code",
        "id": "tja5Ritfl0mA",
        "outputId": "11732999-f50c-4d63-cef5-c10b84897b02"
      },
      "source": [
        "def func_8(a, b):\n",
        "    return a + b"
      ],
      "execution_count": null,
      "outputs": [
        {
          "output_type": "execute_result",
          "data": {
            "text/plain": [
              "-5"
            ]
          },
          "metadata": {
            "tags": []
          },
          "execution_count": 162
        }
      ]
    },
    {
      "cell_type": "code",
      "metadata": {
        "tags": [],
        "cell_id": "00085-3836598c-179b-49f4-ba04-4f9c2ff70833",
        "deepnote_to_be_reexecuted": false,
        "source_hash": "872e452c",
        "execution_start": 1609555347398,
        "execution_millis": 1,
        "deepnote_cell_type": "code",
        "id": "5bz_eZkRl0mB",
        "outputId": "51ab01a2-b710-471b-c7bf-1d3b14e8760f"
      },
      "source": [
        "func_5 = lambda x: x**2\n",
        "func_5"
      ],
      "execution_count": null,
      "outputs": [
        {
          "output_type": "execute_result",
          "data": {
            "text/plain": [
              "<function __main__.<lambda>(x)>"
            ]
          },
          "metadata": {
            "tags": []
          },
          "execution_count": 163
        }
      ]
    },
    {
      "cell_type": "code",
      "metadata": {
        "tags": [],
        "cell_id": "00086-0b2fc4d5-5f75-47d5-afda-c4f5f8d3c0f1",
        "deepnote_to_be_reexecuted": false,
        "source_hash": "658e4d35",
        "execution_start": 1609555356043,
        "execution_millis": 0,
        "deepnote_cell_type": "code",
        "id": "QL8AMf2cl0mB",
        "outputId": "636e7a84-1490-4228-f499-0c9dfa2438b0"
      },
      "source": [
        "func_5(2)"
      ],
      "execution_count": null,
      "outputs": [
        {
          "output_type": "execute_result",
          "data": {
            "text/plain": [
              "4"
            ]
          },
          "metadata": {
            "tags": []
          },
          "execution_count": 164
        }
      ]
    },
    {
      "cell_type": "code",
      "metadata": {
        "tags": [],
        "cell_id": "00087-aa53aa3b-ed0e-4e9b-84f0-2f1ebaabd949",
        "deepnote_to_be_reexecuted": false,
        "source_hash": "bfa6b01b",
        "execution_millis": 4,
        "execution_start": 1609555902760,
        "deepnote_cell_type": "code",
        "id": "T5oF3mJbl0mC",
        "outputId": "9f98968a-e506-4c1a-ff05-942863ec37a6"
      },
      "source": [
        "m = lambda _: print('this works')\n",
        "m('something')"
      ],
      "execution_count": null,
      "outputs": [
        {
          "output_type": "stream",
          "text": [
            "this works\n"
          ],
          "name": "stdout"
        }
      ]
    },
    {
      "cell_type": "code",
      "metadata": {
        "tags": [],
        "cell_id": "00088-457a4b9b-fc10-4c95-8f0c-303055da1f5c",
        "deepnote_to_be_reexecuted": false,
        "source_hash": "b16d2639",
        "execution_start": 1609555844944,
        "execution_millis": 0,
        "deepnote_cell_type": "code",
        "id": "lFyalW4Jl0mC",
        "outputId": "4731c717-da33-4bb9-bc53-fe54d17cb208"
      },
      "source": [
        "_ = 10\n",
        "print(_)"
      ],
      "execution_count": null,
      "outputs": [
        {
          "output_type": "stream",
          "text": [
            "10\n"
          ],
          "name": "stdout"
        }
      ]
    },
    {
      "cell_type": "code",
      "metadata": {
        "tags": [],
        "cell_id": "00089-07a44c5d-b2f1-4ef5-ac50-772c1f21a653",
        "deepnote_to_be_reexecuted": false,
        "source_hash": "a38613a3",
        "execution_millis": 3,
        "execution_start": 1609555996458,
        "deepnote_cell_type": "code",
        "id": "rpVDsCJhl0mD",
        "outputId": "97920b09-3b19-4433-a5ed-f13a1fb0e49d"
      },
      "source": [
        "def func_x(a, b):\n",
        "    z = 10\n",
        "    return lambda: a + b + z\n",
        "func_x(1, 20)()"
      ],
      "execution_count": null,
      "outputs": [
        {
          "output_type": "execute_result",
          "data": {
            "text/plain": [
              "31"
            ]
          },
          "metadata": {
            "tags": []
          },
          "execution_count": 171
        }
      ]
    },
    {
      "cell_type": "code",
      "metadata": {
        "tags": [],
        "cell_id": "00090-73bbe15a-1215-48da-9722-e688814b702d",
        "deepnote_to_be_reexecuted": false,
        "source_hash": "e4a292ea",
        "execution_start": 1609556024942,
        "execution_millis": 0,
        "deepnote_cell_type": "code",
        "id": "Ltj3YZSEl0mD"
      },
      "source": [
        "# while <exp is true>: code block"
      ],
      "execution_count": null,
      "outputs": []
    },
    {
      "cell_type": "code",
      "metadata": {
        "tags": [],
        "cell_id": "00091-8993c20b-57c1-4dab-83a2-550b92b73794",
        "deepnote_to_be_reexecuted": false,
        "source_hash": "d311e7fd",
        "execution_start": 1609556041536,
        "execution_millis": 3,
        "deepnote_cell_type": "code",
        "id": "mGhnGOjol0mD",
        "outputId": "d836bc96-e57f-4883-ac12-b80d9c78948c"
      },
      "source": [
        "i = 0\n",
        "\n",
        "while i < 5:\n",
        "    print(i)\n",
        "    i += 1"
      ],
      "execution_count": null,
      "outputs": [
        {
          "output_type": "stream",
          "text": [
            "0\n",
            "1\n",
            "2\n",
            "3\n",
            "4\n"
          ],
          "name": "stdout"
        }
      ]
    },
    {
      "cell_type": "code",
      "metadata": {
        "tags": [],
        "cell_id": "00092-b8d8e120-9867-4ee2-8ca2-87d5dd1ae4ff",
        "deepnote_to_be_reexecuted": false,
        "source_hash": "d9efd685",
        "execution_start": 1609556069714,
        "execution_millis": 0,
        "deepnote_cell_type": "code",
        "id": "nBINUvqEl0mE"
      },
      "source": [
        "i = 5\n",
        "\n",
        "while i < 5:\n",
        "    print(i)\n",
        "    i += 1"
      ],
      "execution_count": null,
      "outputs": []
    },
    {
      "cell_type": "code",
      "metadata": {
        "tags": [],
        "cell_id": "00093-557d5d6a-18b0-4a57-a599-4915b9b52279",
        "deepnote_to_be_reexecuted": false,
        "source_hash": "57838cd6",
        "execution_millis": 0,
        "execution_start": 1609556158862,
        "deepnote_cell_type": "code",
        "id": "vYzsoDB7l0mE",
        "outputId": "a7b02fde-f89d-49ef-8966-6ea77de27506"
      },
      "source": [
        "i = 50\n",
        "\n",
        "while True:\n",
        "    print(i)\n",
        "    if i >=5:\n",
        "        break"
      ],
      "execution_count": null,
      "outputs": [
        {
          "output_type": "stream",
          "text": [
            "50\n"
          ],
          "name": "stdout"
        }
      ]
    },
    {
      "cell_type": "code",
      "metadata": {
        "tags": [],
        "cell_id": "00094-d4559b82-1f2d-4979-8a17-a254debefcab",
        "deepnote_to_be_reexecuted": false,
        "source_hash": "cb81040f",
        "execution_millis": 3159,
        "execution_start": 1609556459130,
        "deepnote_cell_type": "code",
        "id": "BHxlhzY0l0mF"
      },
      "source": [
        "min_length = 2\n",
        "\n",
        "name = input('Please enter your name')\n",
        "\n",
        "while not(len(name) >= min_length) and name.isalpha():\n",
        "    name = input('Please enter your name')"
      ],
      "execution_count": null,
      "outputs": []
    },
    {
      "cell_type": "code",
      "metadata": {
        "tags": [],
        "cell_id": "00095-f9292d14-1016-4e4c-8159-63288600800d",
        "deepnote_to_be_reexecuted": false,
        "source_hash": "71c55cf0",
        "execution_millis": 1,
        "execution_start": 1609556299238,
        "deepnote_cell_type": "code",
        "id": "otoX905kl0mF",
        "outputId": "97cd8ca3-00a8-4425-dcd8-1dea820c9e9a"
      },
      "source": [
        "name"
      ],
      "execution_count": null,
      "outputs": [
        {
          "output_type": "execute_result",
          "data": {
            "text/plain": [
              "'r'"
            ]
          },
          "metadata": {
            "tags": []
          },
          "execution_count": 180
        }
      ]
    },
    {
      "cell_type": "code",
      "metadata": {
        "tags": [],
        "cell_id": "00096-4d0da195-8506-4fce-8649-4fc06509358f",
        "deepnote_to_be_reexecuted": false,
        "source_hash": "a49b8676",
        "execution_start": 1609556654790,
        "execution_millis": 16950,
        "deepnote_cell_type": "code",
        "id": "rwW-GyUyl0mG",
        "outputId": "61739227-d256-4485-d7a6-65fc8d841095"
      },
      "source": [
        "min_length = 2\n",
        "\n",
        "name = input('Please enter your name:')\n",
        "\n",
        "while not(len(name) >= min_length  and name.isprintable() and name.isalpha()):\n",
        "    name = input('Please enter your name:')\n",
        "\n",
        "print('Hello, {0}'.format(name))\n"
      ],
      "execution_count": null,
      "outputs": [
        {
          "output_type": "stream",
          "text": [
            "Hello, fred\n"
          ],
          "name": "stdout"
        }
      ]
    },
    {
      "cell_type": "code",
      "metadata": {
        "tags": [],
        "cell_id": "00097-d41dabb1-e781-40b5-be2b-9c9074f4b4e6",
        "deepnote_to_be_reexecuted": false,
        "source_hash": "85244bbf",
        "execution_start": 1609556726958,
        "execution_millis": 12208,
        "deepnote_cell_type": "code",
        "id": "10QkQBd-l0mG",
        "outputId": "dad34f84-36c9-4544-9e59-79c3b3808842"
      },
      "source": [
        "min_length = 2\n",
        "\n",
        "while True:\n",
        "    name = input('Please enter your name:')\n",
        "    if len(name) >= min_length  and name.isprintable() and name.isalpha():\n",
        "        break\n",
        "\n",
        "print('Hello, {0}'.format(name))"
      ],
      "execution_count": null,
      "outputs": [
        {
          "output_type": "stream",
          "text": [
            "Hello, rohan\n"
          ],
          "name": "stdout"
        }
      ]
    },
    {
      "cell_type": "code",
      "metadata": {
        "tags": [],
        "cell_id": "00098-52f26f7a-0aa1-48b9-b1b1-6aa6cbcf5ea7",
        "deepnote_to_be_reexecuted": false,
        "source_hash": "8d497d89",
        "execution_start": 1609556784175,
        "execution_millis": 20,
        "deepnote_cell_type": "code",
        "id": "tSBvIxqxl0mH",
        "outputId": "deff8352-b788-46ff-9b6d-1cd226230bc7"
      },
      "source": [
        "a = 0\n",
        "\n",
        "while a < 10:\n",
        "    a += 1\n",
        "    if a % 2:\n",
        "        continue\n",
        "    print(a)"
      ],
      "execution_count": null,
      "outputs": [
        {
          "output_type": "stream",
          "text": [
            "2\n",
            "4\n",
            "6\n",
            "8\n",
            "10\n"
          ],
          "name": "stdout"
        }
      ]
    },
    {
      "cell_type": "code",
      "metadata": {
        "tags": [],
        "cell_id": "00099-e0551aee-c2ae-4299-85ba-5c0b7c8f0c05",
        "deepnote_to_be_reexecuted": false,
        "source_hash": "3a85ae9b",
        "execution_millis": 43,
        "execution_start": 1609556925011,
        "deepnote_cell_type": "code",
        "id": "6jQpanO6l0mH",
        "outputId": "57832cc1-7854-4a2f-c561-43268f6ca3c7"
      },
      "source": [
        "l = [1, 2, 3]\n",
        "\n",
        "val = 10\n",
        "\n",
        "found = False\n",
        "idx = 0\n",
        "\n",
        "while idx < len(l):\n",
        "    if l[idx] == val:\n",
        "        found = True\n",
        "        break\n",
        "    idx += 1\n",
        "\n",
        "if not found:\n",
        "    print('this was executed', found)\n",
        "    l.append(val)\n",
        "\n",
        "print(l)"
      ],
      "execution_count": null,
      "outputs": [
        {
          "output_type": "stream",
          "text": [
            "this was executed False\n",
            "[1, 2, 3, 10]\n"
          ],
          "name": "stdout"
        }
      ]
    },
    {
      "cell_type": "code",
      "metadata": {
        "tags": [],
        "cell_id": "00100-97b3ee01-c138-43dc-b872-85fa4f05f025",
        "deepnote_to_be_reexecuted": false,
        "source_hash": "c46bda9f",
        "execution_millis": 0,
        "execution_start": 1609556986135,
        "deepnote_cell_type": "code",
        "id": "f_43xVYal0mI",
        "outputId": "c50bc196-22a9-45ec-95cc-d028cce4c191"
      },
      "source": [
        "l = [1, 2, 3, 10]\n",
        "\n",
        "val = 10\n",
        "\n",
        "found = False\n",
        "idx = 0\n",
        "\n",
        "while idx < len(l):\n",
        "    if l[idx] == val:\n",
        "        found = True\n",
        "        break\n",
        "    idx += 1\n",
        "else:\n",
        "    print('i was executed')\n",
        "    l.append(val)\n",
        "\n",
        "print(l)"
      ],
      "execution_count": null,
      "outputs": [
        {
          "output_type": "stream",
          "text": [
            "[1, 2, 3, 10]\n"
          ],
          "name": "stdout"
        }
      ]
    },
    {
      "cell_type": "code",
      "metadata": {
        "tags": [],
        "cell_id": "00101-7b48ba47-0dbd-4ca1-9012-f4b03c2940a1",
        "deepnote_to_be_reexecuted": false,
        "source_hash": "3839e444",
        "execution_start": 1609557113845,
        "execution_millis": 1,
        "deepnote_cell_type": "code",
        "id": "150f-cJcl0mJ",
        "outputId": "3d1e2ef5-6365-4b3f-ebbc-51d797a73da7"
      },
      "source": [
        "a = 10\n",
        "b = 1\n",
        "\n",
        "try:\n",
        "    a/b\n",
        "except ZeroDivisionError:\n",
        "    print('division by 0!!!')\n",
        "finally:\n",
        "    print('this always, literally always, gets executed')"
      ],
      "execution_count": null,
      "outputs": [
        {
          "output_type": "stream",
          "text": [
            "this always, literally always, gets executed\n"
          ],
          "name": "stdout"
        }
      ]
    },
    {
      "cell_type": "code",
      "metadata": {
        "tags": [],
        "cell_id": "00102-de24118a-758d-487e-94fe-861dc88903b2",
        "deepnote_to_be_reexecuted": false,
        "source_hash": "b9b97cf0",
        "execution_start": 1609557148022,
        "execution_millis": 0,
        "deepnote_cell_type": "code",
        "id": "Zee3qvq_l0mK",
        "outputId": "ce3a157c-e996-4957-d201-bc35c570e08a"
      },
      "source": [
        "a = 10\n",
        "b = 0\n",
        "try:\n",
        "    a / b\n",
        "except ZeroDivisionError:\n",
        "    print('division by 0')\n",
        "finally:\n",
        "    print('this always executes')"
      ],
      "execution_count": null,
      "outputs": [
        {
          "output_type": "stream",
          "text": [
            "division by 0\n",
            "this always executes\n"
          ],
          "name": "stdout"
        }
      ]
    },
    {
      "cell_type": "code",
      "metadata": {
        "tags": [],
        "cell_id": "00103-b889b127-b360-4a7d-a4ec-224b1013f3fe",
        "deepnote_to_be_reexecuted": false,
        "source_hash": "737a2c35",
        "execution_start": 1609557466242,
        "execution_millis": 0,
        "deepnote_cell_type": "code",
        "id": "_Nur2Eb9l0mK",
        "outputId": "8e7e9112-1ea1-4f19-9e66-9e318f54e59b"
      },
      "source": [
        "a = 0\n",
        "b = 2\n",
        "\n",
        "while a < 3:\n",
        "    print('------------')\n",
        "    a += 1 \n",
        "    b -= 1\n",
        "    try:\n",
        "        res = a / b\n",
        "    except ZeroDivisionError:\n",
        "        print(f'{a}, {b} - division by 0')\n",
        "        res = 0\n",
        "        continue\n",
        "    finally:\n",
        "        print(f'{a}, {b} - always executes')\n",
        "    \n",
        "    print(f'{a}, {b} - main loop')"
      ],
      "execution_count": null,
      "outputs": [
        {
          "output_type": "stream",
          "text": [
            "------------\n",
            "1, 1 - always executes\n",
            "1, 1 - main loop\n",
            "------------\n",
            "2, 0 - division by 0\n",
            "2, 0 - always executes\n",
            "------------\n",
            "3, -1 - always executes\n",
            "3, -1 - main loop\n"
          ],
          "name": "stdout"
        }
      ]
    },
    {
      "cell_type": "code",
      "metadata": {
        "tags": [],
        "cell_id": "00104-922b20d2-b837-4e44-aba9-6f85578b76d9",
        "deepnote_to_be_reexecuted": false,
        "source_hash": "6b238248",
        "execution_millis": 14,
        "execution_start": 1609557564586,
        "deepnote_cell_type": "code",
        "id": "Pp00Yzabl0mL",
        "outputId": "442925e5-c329-482a-f418-69710a49012b"
      },
      "source": [
        "a = 0\n",
        "b = 2\n",
        "\n",
        "while a < 3:\n",
        "    print('------------')\n",
        "    a += 1 \n",
        "    b -= 1\n",
        "    try:\n",
        "        res = a / b\n",
        "    except ZeroDivisionError:\n",
        "        print(f'{a}, {b} - division by 0')\n",
        "        res = 0\n",
        "        break\n",
        "    finally:\n",
        "        print(f'{a}, {b} - always executes')\n",
        "    \n",
        "    print(f'{a}, {b} - main loop')"
      ],
      "execution_count": null,
      "outputs": [
        {
          "output_type": "stream",
          "text": [
            "------------\n",
            "1, 1 - always executes\n",
            "1, 1 - main loop\n",
            "------------\n",
            "2, 0 - division by 0\n",
            "2, 0 - always executes\n"
          ],
          "name": "stdout"
        }
      ]
    },
    {
      "cell_type": "code",
      "metadata": {
        "tags": [],
        "cell_id": "00105-43440805-11f9-4212-abcf-e79b74e7128e",
        "deepnote_to_be_reexecuted": false,
        "source_hash": "1570165d",
        "execution_millis": 13,
        "execution_start": 1609557672894,
        "deepnote_cell_type": "code",
        "id": "QtfloDKEl0mM",
        "outputId": "26e9c4e3-92cb-4a6f-a516-7f166efc06bd"
      },
      "source": [
        "a = 0\n",
        "b = 5\n",
        "\n",
        "while a < 3:\n",
        "    print('------------')\n",
        "    a += 1 \n",
        "    b -= 1\n",
        "    try:\n",
        "        res = a / b\n",
        "    except ZeroDivisionError:\n",
        "        print(f'{a}, {b} - division by 0')\n",
        "        res = 0\n",
        "        break\n",
        "    finally:\n",
        "        print(f'{a}, {b} - always executes')\n",
        "    \n",
        "    print(f'{a}, {b} - main loop')\n",
        "else:\n",
        "    print('n\\n\\nno errors were encountered!')"
      ],
      "execution_count": null,
      "outputs": [
        {
          "output_type": "stream",
          "text": [
            "------------\n",
            "1, 4 - always executes\n",
            "1, 4 - main loop\n",
            "------------\n",
            "2, 3 - always executes\n",
            "2, 3 - main loop\n",
            "------------\n",
            "3, 2 - always executes\n",
            "3, 2 - main loop\n",
            "n\n",
            "\n",
            "no errors were encountered!\n"
          ],
          "name": "stdout"
        }
      ]
    },
    {
      "cell_type": "code",
      "metadata": {
        "tags": [],
        "cell_id": "00106-fc26e623-dd3b-4cad-bc47-ee7b02d52daf",
        "deepnote_to_be_reexecuted": false,
        "source_hash": "7fd3657",
        "execution_start": 1609557695823,
        "execution_millis": 0,
        "deepnote_cell_type": "code",
        "id": "hRite3Mll0mM",
        "outputId": "b07ba743-dd22-4898-9050-e89b2d37ff47"
      },
      "source": [
        "a = 10\n",
        "b = 20\n",
        "\n",
        "print(f'{a + b}')"
      ],
      "execution_count": null,
      "outputs": [
        {
          "output_type": "stream",
          "text": [
            "30\n"
          ],
          "name": "stdout"
        }
      ]
    },
    {
      "cell_type": "code",
      "metadata": {
        "tags": [],
        "cell_id": "00107-8fa076f0-f454-4422-94ca-3fd609001c4e",
        "deepnote_to_be_reexecuted": false,
        "source_hash": "a2a62fb5",
        "execution_start": 1609557858868,
        "execution_millis": 0,
        "deepnote_cell_type": "code",
        "id": "rqi6go9gl0mN",
        "outputId": "a78de3e3-8ddb-466b-e6ce-0fb37741ad98"
      },
      "source": [
        "#for (int i = 0; i < 5; i++){\n",
        "    # code\n",
        "#}\n",
        "\n",
        "i = 0\n",
        "while i < 5:\n",
        "    print(i)\n",
        "    i += 1\n",
        "i = None"
      ],
      "execution_count": null,
      "outputs": [
        {
          "output_type": "stream",
          "text": [
            "0\n",
            "1\n",
            "2\n",
            "3\n",
            "4\n"
          ],
          "name": "stdout"
        }
      ]
    },
    {
      "cell_type": "code",
      "metadata": {
        "tags": [],
        "cell_id": "00108-8a4ef6d0-edef-43e9-a22d-dc9215e592ac",
        "deepnote_to_be_reexecuted": false,
        "source_hash": "a893cb7",
        "execution_millis": 0,
        "execution_start": 1609557932262,
        "deepnote_cell_type": "code",
        "id": "4FRLeWK4l0mN",
        "outputId": "76a2ed23-e4c8-4923-a3ed-d1772b6fe0ac"
      },
      "source": [
        "for i in 'tsai':\n",
        "    print(i)"
      ],
      "execution_count": null,
      "outputs": [
        {
          "output_type": "stream",
          "text": [
            "t\n",
            "s\n",
            "a\n",
            "i\n"
          ],
          "name": "stdout"
        }
      ]
    },
    {
      "cell_type": "code",
      "metadata": {
        "tags": [],
        "cell_id": "00109-5a4aac03-268b-4324-a692-195833f542ac",
        "deepnote_to_be_reexecuted": false,
        "source_hash": "d98a7ea6",
        "execution_start": 1609557954550,
        "deepnote_cell_type": "code",
        "id": "J4pnMuqdl0mO",
        "outputId": "931cbbef-3184-45da-b1c1-abe142c874a5"
      },
      "source": [
        "for x in ('a', 'b', 'c'):\n",
        "    print(x)"
      ],
      "execution_count": null,
      "outputs": [
        {
          "output_type": "stream",
          "text": [
            "a\n",
            "b\n",
            "c\n"
          ],
          "name": "stdout"
        }
      ]
    },
    {
      "cell_type": "code",
      "metadata": {
        "tags": [],
        "cell_id": "00110-4eb12327-8c90-45cf-a8b5-cb23ff1e393d",
        "deepnote_to_be_reexecuted": false,
        "source_hash": "887aca4e",
        "execution_start": 1609557962034,
        "execution_millis": 0,
        "deepnote_cell_type": "code",
        "id": "3tbiYnF_l0mO",
        "outputId": "b414ad96-109f-490d-d09c-9722c4ae98b0"
      },
      "source": [
        "for x in [(1, 2), (3, 4), (5, 6)]:\n",
        "    print(x)"
      ],
      "execution_count": null,
      "outputs": [
        {
          "output_type": "stream",
          "text": [
            "(1, 2)\n",
            "(3, 4)\n",
            "(5, 6)\n"
          ],
          "name": "stdout"
        }
      ]
    },
    {
      "cell_type": "code",
      "metadata": {
        "tags": [],
        "cell_id": "00111-9b3e7f62-0a50-48d6-9b9f-801aff774def",
        "deepnote_to_be_reexecuted": false,
        "source_hash": "4e1b46b8",
        "execution_millis": 0,
        "execution_start": 1609557989282,
        "deepnote_cell_type": "code",
        "id": "CIHeLrJFl0mP",
        "outputId": "f80d4b02-6d1e-4651-eb4b-7a545f1ff2bf"
      },
      "source": [
        "for a, b in [(1, 2), (3, 4), (5, 6)]:\n",
        "    print(a)"
      ],
      "execution_count": null,
      "outputs": [
        {
          "output_type": "stream",
          "text": [
            "1\n",
            "3\n",
            "5\n"
          ],
          "name": "stdout"
        }
      ]
    },
    {
      "cell_type": "code",
      "metadata": {
        "tags": [],
        "cell_id": "00112-a125748f-08e2-4f71-8c44-b712b77e4b40",
        "deepnote_to_be_reexecuted": false,
        "source_hash": "a3c35f79",
        "execution_millis": 0,
        "execution_start": 1609558019290,
        "deepnote_cell_type": "code",
        "id": "BGRJErz8l0mP",
        "outputId": "cb9b6cf9-17cb-43a2-931d-3d6ee9bfef94"
      },
      "source": [
        "for i in range(5):\n",
        "    if i == 3:\n",
        "        continue\n",
        "    print(i)"
      ],
      "execution_count": null,
      "outputs": [
        {
          "output_type": "stream",
          "text": [
            "0\n",
            "1\n",
            "2\n",
            "4\n"
          ],
          "name": "stdout"
        }
      ]
    },
    {
      "cell_type": "code",
      "metadata": {
        "tags": [],
        "cell_id": "00113-ff319920-7991-4fed-9b7d-2ac67287c48e",
        "deepnote_to_be_reexecuted": false,
        "source_hash": "c37dcfa",
        "execution_start": 1609558029854,
        "execution_millis": 3,
        "deepnote_cell_type": "code",
        "id": "s0TdwyNUl0mQ",
        "outputId": "77cd52be-378f-4271-e512-d7b4a59dfce5"
      },
      "source": [
        "for i in range(5):\n",
        "    if i == 3:\n",
        "        break\n",
        "    print(i)"
      ],
      "execution_count": null,
      "outputs": [
        {
          "output_type": "stream",
          "text": [
            "0\n",
            "1\n",
            "2\n"
          ],
          "name": "stdout"
        }
      ]
    },
    {
      "cell_type": "code",
      "metadata": {
        "tags": [],
        "cell_id": "00114-0b7e4b10-adea-47c4-8355-3d4770e966ad",
        "deepnote_to_be_reexecuted": false,
        "source_hash": "d200a157",
        "execution_start": 1609558077639,
        "execution_millis": 0,
        "deepnote_cell_type": "code",
        "id": "1R3kQR72l0mQ",
        "outputId": "38e87aaf-84e8-415e-efdc-ee4cd12e4490"
      },
      "source": [
        "for i in range(1, 5):\n",
        "    print(i)\n",
        "    if i % 7 == 0:\n",
        "        print('multiple of 7')\n",
        "        break\n",
        "else:\n",
        "    print('not a multiple of 7')"
      ],
      "execution_count": null,
      "outputs": [
        {
          "output_type": "stream",
          "text": [
            "1\n",
            "2\n",
            "3\n",
            "4\n",
            "not a multiple of 7\n"
          ],
          "name": "stdout"
        }
      ]
    },
    {
      "cell_type": "code",
      "metadata": {
        "tags": [],
        "cell_id": "00115-5f317880-ce26-4813-97b1-9d0fee126178",
        "deepnote_to_be_reexecuted": false,
        "source_hash": "2d5e36a5",
        "execution_start": 1609558096758,
        "execution_millis": 1,
        "deepnote_cell_type": "code",
        "id": "WmxJDi3fl0mR",
        "outputId": "9f1bca29-7c2e-4547-bf69-71debfd77b66"
      },
      "source": [
        "for i in range(1, 8):\n",
        "    print(i)\n",
        "    if i % 7 == 0:\n",
        "        print('multiple of 7')\n",
        "        break\n",
        "else:\n",
        "    print('not a multiple of 7')"
      ],
      "execution_count": null,
      "outputs": [
        {
          "output_type": "stream",
          "text": [
            "1\n",
            "2\n",
            "3\n",
            "4\n",
            "5\n",
            "6\n",
            "7\n",
            "multiple of 7\n"
          ],
          "name": "stdout"
        }
      ]
    },
    {
      "cell_type": "code",
      "metadata": {
        "tags": [],
        "cell_id": "00116-60898407-b379-4f0a-a6c6-ec7bffca73c0",
        "deepnote_to_be_reexecuted": false,
        "source_hash": "92464e59",
        "execution_start": 1609558165187,
        "execution_millis": 14,
        "deepnote_cell_type": "code",
        "id": "-BqBeTHQl0mR",
        "outputId": "45725426-5f1a-4c06-acdd-a84a63e54c71"
      },
      "source": [
        "for i in range(5):\n",
        "    print('________________________')\n",
        "    try:\n",
        "        10 / (i - 3)\n",
        "    except ZeroDivisionError:\n",
        "        print('divided by 0')\n",
        "        continue\n",
        "    finally:\n",
        "        print('always running')\n",
        "    print(i)"
      ],
      "execution_count": null,
      "outputs": [
        {
          "output_type": "stream",
          "text": [
            "________________________\n",
            "always running\n",
            "0\n",
            "________________________\n",
            "always running\n",
            "1\n",
            "________________________\n",
            "always running\n",
            "2\n",
            "________________________\n",
            "divided by 0\n",
            "always running\n",
            "________________________\n",
            "always running\n",
            "4\n"
          ],
          "name": "stdout"
        }
      ]
    },
    {
      "cell_type": "code",
      "metadata": {
        "tags": [],
        "cell_id": "00117-460893df-7e49-4a52-a091-62b5af950b01",
        "deepnote_to_be_reexecuted": false,
        "source_hash": "26e3cd24",
        "execution_start": 1609558206690,
        "execution_millis": 0,
        "deepnote_cell_type": "code",
        "id": "svnCNmb6l0mS",
        "outputId": "8c6951f6-ff42-45c0-8892-4e5e73124850"
      },
      "source": [
        "s = 'hello'\n",
        "for c in s:\n",
        "    print(c)"
      ],
      "execution_count": null,
      "outputs": [
        {
          "output_type": "stream",
          "text": [
            "h\n",
            "e\n",
            "l\n",
            "l\n",
            "o\n"
          ],
          "name": "stdout"
        }
      ]
    },
    {
      "cell_type": "code",
      "metadata": {
        "tags": [],
        "cell_id": "00118-4feab4c3-e227-467f-9173-a8cc39ad9a06",
        "deepnote_to_be_reexecuted": false,
        "source_hash": "ae3534d4",
        "execution_start": 1609558237743,
        "execution_millis": 1,
        "deepnote_cell_type": "code",
        "id": "VeJ5l81fl0mS",
        "outputId": "7687e945-58ac-4ba0-df1f-3d49de4888fa"
      },
      "source": [
        "s = 'hello'\n",
        "i = 0\n",
        "for c in s:\n",
        "    print(i, c)\n",
        "    i += 1"
      ],
      "execution_count": null,
      "outputs": [
        {
          "output_type": "stream",
          "text": [
            "0 h\n",
            "1 e\n",
            "2 l\n",
            "3 l\n",
            "4 o\n"
          ],
          "name": "stdout"
        }
      ]
    },
    {
      "cell_type": "code",
      "metadata": {
        "tags": [],
        "cell_id": "00119-67c68334-4003-45fb-adfb-809e51e2b042",
        "deepnote_to_be_reexecuted": false,
        "source_hash": "c416fd78",
        "execution_start": 1609558275147,
        "execution_millis": 1,
        "deepnote_cell_type": "code",
        "id": "CaoYi2R4l0mT",
        "outputId": "56340a0d-7d20-4083-a877-2604ff6226a8"
      },
      "source": [
        "s = 'hello'\n",
        "\n",
        "for i in range(len(s)):\n",
        "    print(i, s[i])"
      ],
      "execution_count": null,
      "outputs": [
        {
          "output_type": "stream",
          "text": [
            "0 h\n",
            "1 e\n",
            "2 l\n",
            "3 l\n",
            "4 o\n"
          ],
          "name": "stdout"
        }
      ]
    },
    {
      "cell_type": "code",
      "metadata": {
        "tags": [],
        "cell_id": "00120-e9819bc1-99e2-4f94-aff1-7921316990f7",
        "deepnote_to_be_reexecuted": false,
        "source_hash": "fc507a58",
        "execution_millis": 4,
        "execution_start": 1609558329317,
        "deepnote_cell_type": "code",
        "id": "uM6bYYXml0mT",
        "outputId": "0e716e40-5871-4d00-91ac-fd9f0734d0fe"
      },
      "source": [
        "s = 'hello'\n",
        "\n",
        "for i, j in enumrerate(s):\n",
        "    print(i, j)"
      ],
      "execution_count": null,
      "outputs": [
        {
          "output_type": "stream",
          "text": [
            "0 h\n",
            "1 e\n",
            "2 l\n",
            "3 l\n",
            "4 o\n"
          ],
          "name": "stdout"
        }
      ]
    },
    {
      "cell_type": "code",
      "metadata": {
        "tags": [],
        "cell_id": "00121-1e123b66-7692-4c36-ab1e-0fd08e60fb36",
        "deepnote_to_be_reexecuted": false,
        "source_hash": "e64e4b7c",
        "execution_millis": 3,
        "execution_start": 1609558460832,
        "deepnote_cell_type": "code",
        "id": "l4ZJ0xeWl0mU",
        "outputId": "95316b0c-0aa1-47d0-da87-3900e3537387"
      },
      "source": [
        "st = (i for i in range(10))\n",
        "type(st)"
      ],
      "execution_count": null,
      "outputs": [
        {
          "output_type": "execute_result",
          "data": {
            "text/plain": [
              "generator"
            ]
          },
          "metadata": {
            "tags": []
          },
          "execution_count": 228
        }
      ]
    },
    {
      "cell_type": "code",
      "metadata": {
        "tags": [],
        "cell_id": "00122-b00632d1-39e2-42b8-8507-6e3f9d61c4e2",
        "deepnote_to_be_reexecuted": false,
        "source_hash": "be7beca7",
        "execution_millis": 5,
        "execution_start": 1609558606091,
        "deepnote_cell_type": "code",
        "id": "P47Q0vgql0mU",
        "outputId": "fbd2891b-6d70-4178-fa0f-9d656d2531f1"
      },
      "source": [
        "a = 5\n",
        "\n",
        "if a < 1:\n",
        "    print(a)\n",
        "elif a > 2:\n",
        "    print(a)\n",
        "else:\n",
        "    print(a)"
      ],
      "execution_count": null,
      "outputs": [
        {
          "output_type": "stream",
          "text": [
            "5\n"
          ],
          "name": "stdout"
        }
      ]
    },
    {
      "cell_type": "code",
      "metadata": {
        "tags": [],
        "cell_id": "00123-d0ed9966-8273-4a56-93dc-e2877919f7c2",
        "deepnote_cell_type": "code",
        "id": "iUPGcMu5l0mZ"
      },
      "source": [
        ""
      ],
      "execution_count": null,
      "outputs": []
    }
  ]
}