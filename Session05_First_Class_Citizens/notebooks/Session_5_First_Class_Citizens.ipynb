{
  "nbformat": 4,
  "nbformat_minor": 0,
  "metadata": {
    "orig_nbformat": 2,
    "deepnote_notebook_id": "1697ca00-aa9f-4619-b548-f85c19384ff9",
    "deepnote": {},
    "deepnote_execution_queue": [],
    "colab": {
      "name": "Session 5 - First Class Citizens.ipynb",
      "provenance": [],
      "include_colab_link": true
    }
  },
  "cells": [
    {
      "cell_type": "markdown",
      "metadata": {
        "id": "view-in-github",
        "colab_type": "text"
      },
      "source": [
        "<a href=\"https://colab.research.google.com/github/abdksyed/EPAi2/blob/main/Session05_First_Class_Citizens/notebooks/Session_5_First_Class_Citizens.ipynb\" target=\"_parent\"><img src=\"https://colab.research.google.com/assets/colab-badge.svg\" alt=\"Open In Colab\"/></a>"
      ]
    },
    {
      "cell_type": "markdown",
      "metadata": {
        "tags": [],
        "cell_id": "00000-dbfb8ff3-c1a1-4a8d-8940-664220f68147",
        "deepnote_cell_type": "markdown",
        "id": "1sG005sFopjv"
      },
      "source": [
        "# Docstrings"
      ]
    },
    {
      "cell_type": "code",
      "metadata": {
        "tags": [],
        "cell_id": "00000-30e3e5b3-af6c-486e-9d89-740af83bd74c",
        "deepnote_to_be_reexecuted": false,
        "source_hash": "f8c58ce4",
        "execution_start": 1612573598491,
        "execution_millis": 13,
        "deepnote_cell_type": "code",
        "id": "tKt3o_65opj2",
        "outputId": "ba75813f-5a4d-4b8c-b319-db41f2d14c61"
      },
      "source": [
        "help(print)"
      ],
      "execution_count": null,
      "outputs": [
        {
          "output_type": "stream",
          "text": [
            "Help on built-in function print in module builtins:\n",
            "\n",
            "print(...)\n",
            "    print(value, ..., sep=' ', end='\\n', file=sys.stdout, flush=False)\n",
            "    \n",
            "    Prints the values to a stream, or to sys.stdout by default.\n",
            "    Optional keyword arguments:\n",
            "    file:  a file-like object (stream); defaults to the current sys.stdout.\n",
            "    sep:   string inserted between values, default a space.\n",
            "    end:   string appended after the last value, default a newline.\n",
            "    flush: whether to forcibly flush the stream.\n",
            "\n"
          ],
          "name": "stdout"
        }
      ]
    },
    {
      "cell_type": "code",
      "metadata": {
        "tags": [],
        "cell_id": "00001-00501f0e-2199-44bd-83ce-863ac0eb48e0",
        "deepnote_to_be_reexecuted": false,
        "source_hash": "54f1d649",
        "execution_start": 1612573648961,
        "execution_millis": 2,
        "deepnote_cell_type": "code",
        "id": "g_A6OTIvopj7"
      },
      "source": [
        "def my_func(a, b):\n",
        "    return a * b"
      ],
      "execution_count": null,
      "outputs": []
    },
    {
      "cell_type": "code",
      "metadata": {
        "tags": [],
        "cell_id": "00002-c6de1403-2c08-4512-b868-e010896bccb4",
        "deepnote_to_be_reexecuted": false,
        "source_hash": "b73d04ca",
        "execution_start": 1612573654157,
        "execution_millis": 10,
        "deepnote_cell_type": "code",
        "id": "4c2-Tp3fopj7",
        "outputId": "506f1b48-4b35-479a-9ee4-80a79d1682b4"
      },
      "source": [
        "help(my_func)"
      ],
      "execution_count": null,
      "outputs": [
        {
          "output_type": "stream",
          "text": [
            "Help on function my_func in module __main__:\n",
            "\n",
            "my_func(a, b)\n",
            "\n"
          ],
          "name": "stdout"
        }
      ]
    },
    {
      "cell_type": "code",
      "metadata": {
        "tags": [],
        "cell_id": "00003-c2596efb-01e3-4bae-b14f-1d44252ee9f5",
        "deepnote_to_be_reexecuted": false,
        "source_hash": "a2caf853",
        "execution_millis": 8,
        "execution_start": 1612573736347,
        "deepnote_cell_type": "code",
        "id": "yUAExgL1opj8",
        "outputId": "a0e1e4b9-3896-415d-cb77-d028dfb0ab13"
      },
      "source": [
        "def my_func(a, b):\n",
        "    'Returns the product of a and b'\n",
        "    return a * b\n",
        "\n",
        "help(my_func)"
      ],
      "execution_count": null,
      "outputs": [
        {
          "output_type": "stream",
          "text": [
            "Help on function my_func in module __main__:\n",
            "\n",
            "my_func(a, b)\n",
            "    Returns the product of a and b\n",
            "\n"
          ],
          "name": "stdout"
        }
      ]
    },
    {
      "cell_type": "code",
      "metadata": {
        "tags": [],
        "cell_id": "00004-0137809e-95eb-4436-8937-d9682ed2b7d8",
        "deepnote_to_be_reexecuted": false,
        "source_hash": "cb284b72",
        "execution_start": 1612573767917,
        "execution_millis": 3,
        "deepnote_cell_type": "code",
        "id": "fCy18ziXopj8",
        "outputId": "3e0a3be9-e040-4321-cd2d-797c68ea949b"
      },
      "source": [
        "def my_func(a, b):\n",
        "    '''Returns the product of a and b'''\n",
        "    return a * b\n",
        "\n",
        "help(my_func)"
      ],
      "execution_count": null,
      "outputs": [
        {
          "output_type": "stream",
          "text": [
            "Help on function my_func in module __main__:\n",
            "\n",
            "my_func(a, b)\n",
            "    Returns the product of a and b\n",
            "\n"
          ],
          "name": "stdout"
        }
      ]
    },
    {
      "cell_type": "code",
      "metadata": {
        "tags": [],
        "cell_id": "00005-54552494-c89f-4e2c-966d-f5640a4fc1f3",
        "deepnote_to_be_reexecuted": false,
        "source_hash": "7b17068a",
        "execution_millis": 5,
        "execution_start": 1612573934005,
        "deepnote_cell_type": "code",
        "id": "n7c3uEsaopj8",
        "outputId": "6a40d082-3339-4d5a-b87b-ed572bac49be"
      },
      "source": [
        "def fact(n):\n",
        "    '''Calcalates n! (factorial funtion)\n",
        "\n",
        "    Input:\n",
        "        n: non-negative integer\n",
        "    Return:\n",
        "        the factorial of n\n",
        "    TODO:\n",
        "        this is the slowest possible factorial function, let's change this in future\n",
        "    '''\n",
        "    # bible.. game of thrones... \n",
        "    if n < 0:\n",
        "        '''Note that this is not a part of doctring!'''\n",
        "        return 1\n",
        "    else:\n",
        "        return n * fact(n-1)\n",
        "\n",
        "help(fact)\n"
      ],
      "execution_count": null,
      "outputs": [
        {
          "output_type": "stream",
          "text": [
            "Help on function fact in module __main__:\n",
            "\n",
            "fact(n)\n",
            "    Calcalates n! (factorial funtion)\n",
            "    \n",
            "    Input:\n",
            "        n: non-negative integer\n",
            "    Return:\n",
            "        the factorial of n\n",
            "    TODO:\n",
            "        this is the slowest possible factorial function, let's change this in future\n",
            "\n"
          ],
          "name": "stdout"
        }
      ]
    },
    {
      "cell_type": "code",
      "metadata": {
        "tags": [],
        "cell_id": "00006-b064f66a-5a20-4823-aee7-5f0eff6b5a7b",
        "deepnote_to_be_reexecuted": false,
        "source_hash": "d445dba2",
        "execution_start": 1612574021822,
        "execution_millis": 11,
        "deepnote_cell_type": "code",
        "id": "E7-GrRbAopj9",
        "outputId": "51f68042-cf2c-4865-e342-13e66ca9908e"
      },
      "source": [
        "fact.__doc__"
      ],
      "execution_count": null,
      "outputs": [
        {
          "output_type": "execute_result",
          "data": {
            "text/plain": [
              "\"Calcalates n! (factorial funtion)\\n\\n    Input:\\n        n: non-negative integer\\n    Return:\\n        the factorial of n\\n    TODO:\\n        this is the slowest possible factorial function, let's change this in future\\n    \""
            ]
          },
          "metadata": {
            "tags": []
          },
          "execution_count": 10
        }
      ]
    },
    {
      "cell_type": "code",
      "metadata": {
        "tags": [],
        "cell_id": "00007-d32ecf70-409d-42dd-9c78-410ddd2b581e",
        "deepnote_to_be_reexecuted": false,
        "source_hash": "d02da099",
        "execution_start": 1612574073556,
        "execution_millis": 8,
        "deepnote_cell_type": "code",
        "id": "bd-3LeLyopj9",
        "outputId": "b7897db8-c602-480f-b1bf-365742d7fb38"
      },
      "source": [
        "help(fact)"
      ],
      "execution_count": null,
      "outputs": [
        {
          "output_type": "stream",
          "text": [
            "Help on function fact in module __main__:\n",
            "\n",
            "fact(n)\n",
            "    Calcalates n! (factorial funtion)\n",
            "    \n",
            "    Input:\n",
            "        n: non-negative integer\n",
            "    Return:\n",
            "        the factorial of n\n",
            "    TODO:\n",
            "        this is the slowest possible factorial function, let's change this in future\n",
            "\n"
          ],
          "name": "stdout"
        }
      ]
    },
    {
      "cell_type": "markdown",
      "metadata": {
        "tags": [],
        "cell_id": "00008-e26628a4-8065-4ba6-91b1-628a655ba554",
        "deepnote_cell_type": "markdown",
        "id": "O5xAyoNxopj-"
      },
      "source": [
        "# Annotations"
      ]
    },
    {
      "cell_type": "code",
      "metadata": {
        "tags": [],
        "cell_id": "00008-253424f5-83f4-4401-9d70-8833b7414ae1",
        "deepnote_to_be_reexecuted": false,
        "source_hash": "3ad78643",
        "execution_millis": 2,
        "execution_start": 1612574159767,
        "deepnote_cell_type": "code",
        "id": "gLqAW0V4opj-"
      },
      "source": [
        "def my_func(a, b):\n",
        "    return a ** b"
      ],
      "execution_count": null,
      "outputs": []
    },
    {
      "cell_type": "code",
      "metadata": {
        "tags": [],
        "cell_id": "00011-d3b2f58a-dd61-4a9b-850a-3bd19420f655",
        "deepnote_to_be_reexecuted": false,
        "source_hash": "5b0573dd",
        "execution_millis": 14,
        "execution_start": 1612574165978,
        "deepnote_cell_type": "code",
        "id": "lhk7_r37opj-",
        "outputId": "899164fb-913b-4308-ed1d-fbdd365984b0"
      },
      "source": [
        "my_func('rohan', 'shravan')"
      ],
      "execution_count": null,
      "outputs": [
        {
          "output_type": "error",
          "ename": "TypeError",
          "evalue": "unsupported operand type(s) for ** or pow(): 'str' and 'str'",
          "traceback": [
            "\u001b[0;31m---------------------------------------------------------------------------\u001b[0m",
            "\u001b[0;31mTypeError\u001b[0m                                 Traceback (most recent call last)",
            "\u001b[0;32m<ipython-input-18-14d6c3448c50>\u001b[0m in \u001b[0;36m<module>\u001b[0;34m\u001b[0m\n\u001b[0;32m----> 1\u001b[0;31m \u001b[0mmy_func\u001b[0m\u001b[0;34m(\u001b[0m\u001b[0;34m'rohan'\u001b[0m\u001b[0;34m,\u001b[0m \u001b[0;34m'shravan'\u001b[0m\u001b[0;34m)\u001b[0m\u001b[0;34m\u001b[0m\u001b[0;34m\u001b[0m\u001b[0m\n\u001b[0m",
            "\u001b[0;32m<ipython-input-16-b4b6c336728e>\u001b[0m in \u001b[0;36mmy_func\u001b[0;34m(a, b)\u001b[0m\n\u001b[1;32m      1\u001b[0m \u001b[0;32mdef\u001b[0m \u001b[0mmy_func\u001b[0m\u001b[0;34m(\u001b[0m\u001b[0ma\u001b[0m\u001b[0;34m,\u001b[0m \u001b[0mb\u001b[0m\u001b[0;34m)\u001b[0m\u001b[0;34m:\u001b[0m\u001b[0;34m\u001b[0m\u001b[0;34m\u001b[0m\u001b[0m\n\u001b[0;32m----> 2\u001b[0;31m     \u001b[0;32mreturn\u001b[0m \u001b[0ma\u001b[0m \u001b[0;34m**\u001b[0m \u001b[0mb\u001b[0m\u001b[0;34m\u001b[0m\u001b[0;34m\u001b[0m\u001b[0m\n\u001b[0m",
            "\u001b[0;31mTypeError\u001b[0m: unsupported operand type(s) for ** or pow(): 'str' and 'str'"
          ]
        }
      ]
    },
    {
      "cell_type": "code",
      "metadata": {
        "tags": [],
        "cell_id": "00012-460e596e-f69a-4cb4-be41-0b9fa3a74b61",
        "deepnote_to_be_reexecuted": false,
        "source_hash": "ae69bed4",
        "execution_millis": 5,
        "execution_start": 1612574246392,
        "deepnote_cell_type": "code",
        "id": "alu0xynzopj-",
        "outputId": "5b9d5061-9049-4a3b-f3c6-b772ec2e4d40"
      },
      "source": [
        "def my_func(a: 'please keep this as an integer', \n",
        "            b: 'please keep this also as an integer'):\n",
        "            '''this function just\n",
        "            gives a^b as the output'''\n",
        "            return a ** b\n",
        "\n",
        "help(my_func)"
      ],
      "execution_count": null,
      "outputs": [
        {
          "output_type": "stream",
          "text": [
            "Help on function my_func in module __main__:\n",
            "\n",
            "my_func(a: 'please keep this as an integer', b: 'please keep this also as an integer')\n",
            "    this function just\n",
            "    gives a^b as the output\n",
            "\n"
          ],
          "name": "stdout"
        }
      ]
    },
    {
      "cell_type": "code",
      "metadata": {
        "tags": [],
        "cell_id": "00013-5a0cbfe1-96d8-468d-a5e8-00631882acd7",
        "deepnote_to_be_reexecuted": false,
        "source_hash": "73b277a7",
        "execution_millis": 5,
        "execution_start": 1612574642512,
        "deepnote_cell_type": "code",
        "id": "AcP2Nl51opj_",
        "outputId": "b39627e8-fc33-4988-ba43-64b9bce66378"
      },
      "source": [
        "x = 3\n",
        "y = 5\n",
        "\n",
        "def my_func(a: 'a'*5) -> '\"a\" repeated ' + str(max(x, y)) + ' times':\n",
        "    '''this is the documentition \n",
        "    of our function'''\n",
        "    return a * max(x, y)\n",
        "\n",
        "help(my_func)"
      ],
      "execution_count": null,
      "outputs": [
        {
          "output_type": "stream",
          "text": [
            "Help on function my_func in module __main__:\n",
            "\n",
            "my_func(a: 'aaaaa') -> '\"a\" repeated 5 times'\n",
            "    this is the documentition \n",
            "    of our function\n",
            "\n"
          ],
          "name": "stdout"
        }
      ]
    },
    {
      "cell_type": "code",
      "metadata": {
        "tags": [],
        "cell_id": "00014-aafcc241-c859-42ac-a2e3-9acda0833bc6",
        "deepnote_to_be_reexecuted": false,
        "source_hash": "9d386e65",
        "execution_millis": 7,
        "execution_start": 1612574642903,
        "deepnote_cell_type": "code",
        "id": "V8YjZzEropj_",
        "outputId": "b01145f6-866b-46ec-e53e-b7628b73c990"
      },
      "source": [
        "my_func(0.4)"
      ],
      "execution_count": null,
      "outputs": [
        {
          "output_type": "execute_result",
          "data": {
            "text/plain": [
              "2.0"
            ]
          },
          "metadata": {
            "tags": []
          },
          "execution_count": 30
        }
      ]
    },
    {
      "cell_type": "code",
      "metadata": {
        "tags": [],
        "cell_id": "00015-4eca5a8c-1697-4792-89cb-0afd8944f421",
        "deepnote_to_be_reexecuted": false,
        "source_hash": "cd154f18",
        "execution_millis": 12,
        "execution_start": 1612574664546,
        "deepnote_cell_type": "code",
        "id": "YE70XKquopj_",
        "outputId": "55c904fc-ac61-4093-84a5-86e0f6a30f9b"
      },
      "source": [
        "my_func.__doc__"
      ],
      "execution_count": null,
      "outputs": [
        {
          "output_type": "execute_result",
          "data": {
            "text/plain": [
              "'this is the documentition \\n    of our function'"
            ]
          },
          "metadata": {
            "tags": []
          },
          "execution_count": 33
        }
      ]
    },
    {
      "cell_type": "code",
      "metadata": {
        "tags": [],
        "cell_id": "00016-c558d1a7-38de-42d2-bbde-887223e7e354",
        "deepnote_to_be_reexecuted": false,
        "source_hash": "b73d04ca",
        "execution_start": 1612574668638,
        "execution_millis": 14,
        "deepnote_cell_type": "code",
        "id": "Ta-7vPaZopkA",
        "outputId": "3f8fe877-f5b4-4d6e-bb90-9bb7c0fee229"
      },
      "source": [
        "help(my_func)"
      ],
      "execution_count": null,
      "outputs": [
        {
          "output_type": "stream",
          "text": [
            "Help on function my_func in module __main__:\n",
            "\n",
            "my_func(a: 'aaaaa') -> '\"a\" repeated 5 times'\n",
            "    this is the documentition \n",
            "    of our function\n",
            "\n"
          ],
          "name": "stdout"
        }
      ]
    },
    {
      "cell_type": "code",
      "metadata": {
        "tags": [],
        "cell_id": "00017-af8608a1-b151-4766-a4ab-b1577f666290",
        "deepnote_to_be_reexecuted": false,
        "source_hash": "d80ce988",
        "execution_start": 1612574679734,
        "execution_millis": 4,
        "deepnote_cell_type": "code",
        "id": "QTdVJZHpopkA",
        "outputId": "18266d5e-6c10-4434-b1c2-af0230ef5d50"
      },
      "source": [
        "my_func.__annotations__"
      ],
      "execution_count": null,
      "outputs": [
        {
          "output_type": "execute_result",
          "data": {
            "text/plain": [
              "{'a': 'aaaaa', 'return': '\"a\" repeated 5 times'}"
            ]
          },
          "metadata": {
            "tags": []
          },
          "execution_count": 35
        }
      ]
    },
    {
      "cell_type": "code",
      "metadata": {
        "tags": [],
        "cell_id": "00018-39d24a61-3776-43d1-96a2-dc2ae35d96aa",
        "deepnote_to_be_reexecuted": false,
        "source_hash": "76030495",
        "execution_start": 1612574731665,
        "execution_millis": 9,
        "deepnote_cell_type": "code",
        "id": "HNQD4wE8opkA",
        "outputId": "14940d92-9335-4eee-aa91-a8cd987c144f"
      },
      "source": [
        "def fact(n: 'int or float >=0'=1) -> int:\n",
        "    '''Calcalates n! (factorial funtion)\n",
        "\n",
        "    Input:\n",
        "        n: non-negative integer\n",
        "            Default: 1\n",
        "    Return:\n",
        "        the factorial of n\n",
        "    ToDo:\n",
        "        this is the slowest possible factorial function, let's change this in future\n",
        "    '''\n",
        "    # bible.. game of thrones... \n",
        "    if n < 0:\n",
        "        '''Note that this is not a part of doctring!'''\n",
        "        return 1\n",
        "    else:\n",
        "        return n * fact(n-1)\n",
        "\n",
        "help(fact)\n"
      ],
      "execution_count": null,
      "outputs": [
        {
          "output_type": "stream",
          "text": [
            "Help on function fact in module __main__:\n",
            "\n",
            "fact(n: 'int >=0') -> int\n",
            "    Calcalates n! (factorial funtion)\n",
            "    \n",
            "    Input:\n",
            "        n: non-negative integer\n",
            "    Return:\n",
            "        the factorial of n\n",
            "    TODO:\n",
            "        this is the slowest possible factorial function, let's change this in future\n",
            "\n"
          ],
          "name": "stdout"
        }
      ]
    },
    {
      "cell_type": "code",
      "metadata": {
        "tags": [],
        "cell_id": "00019-027924ab-aff4-4e3a-ba63-e3d1fdc8db65",
        "deepnote_to_be_reexecuted": false,
        "source_hash": "c4e8be35",
        "execution_start": 1612574741134,
        "execution_millis": 6,
        "deepnote_cell_type": "code",
        "id": "9hlgHFN7opkA",
        "outputId": "5ed7b11b-45b5-47df-f842-8ea6eefc79d1"
      },
      "source": [
        "fact.__annotations__"
      ],
      "execution_count": null,
      "outputs": [
        {
          "output_type": "execute_result",
          "data": {
            "text/plain": [
              "{'n': 'int >=0', 'return': int}"
            ]
          },
          "metadata": {
            "tags": []
          },
          "execution_count": 37
        }
      ]
    },
    {
      "cell_type": "code",
      "metadata": {
        "tags": [],
        "cell_id": "00020-1a041ccd-d701-4c04-a706-eaed163954d0",
        "deepnote_to_be_reexecuted": false,
        "source_hash": "21846e61",
        "execution_start": 1612574870564,
        "execution_millis": 10,
        "deepnote_cell_type": "code",
        "id": "mNap-YWEopkB",
        "outputId": "145c7bb3-ce0c-4991-924a-56b2c71b590c"
      },
      "source": [
        "def my_func(a: str='a', b: int = 1) -> str:\n",
        "    return a * b\n",
        "help(my_func)"
      ],
      "execution_count": null,
      "outputs": [
        {
          "output_type": "stream",
          "text": [
            "Help on function my_func in module __main__:\n",
            "\n",
            "my_func(a: str = 'a', b: int = 1) -> str\n",
            "\n"
          ],
          "name": "stdout"
        }
      ]
    },
    {
      "cell_type": "code",
      "metadata": {
        "tags": [],
        "cell_id": "00021-601ff1e7-dae4-4636-a5ab-51cc9f268be0",
        "deepnote_to_be_reexecuted": false,
        "source_hash": "e89fa32a",
        "execution_millis": 16,
        "execution_start": 1612574890399,
        "deepnote_cell_type": "code",
        "id": "C6QwNE_copkB",
        "outputId": "67ccd0a7-d179-4eff-c31b-91341f9908ce"
      },
      "source": [
        "my_func(a= 'r', b = 4)"
      ],
      "execution_count": null,
      "outputs": [
        {
          "output_type": "execute_result",
          "data": {
            "text/plain": [
              "'rrrr'"
            ]
          },
          "metadata": {
            "tags": []
          },
          "execution_count": 41
        }
      ]
    },
    {
      "cell_type": "code",
      "metadata": {
        "tags": [],
        "cell_id": "00022-c837cf86-7836-49ad-85b4-8eb2c130d00a",
        "deepnote_to_be_reexecuted": false,
        "source_hash": "bcd08238",
        "execution_start": 1612574941521,
        "execution_millis": 6,
        "deepnote_cell_type": "code",
        "id": "xoCZ-8eWopkB",
        "outputId": "a950c526-cd51-4124-f99f-11ea6cd8166c"
      },
      "source": [
        "def my_func(a:int=0, *args:'additional args'):\n",
        "    print(a, args)\n",
        "my_func.__annotations__"
      ],
      "execution_count": null,
      "outputs": [
        {
          "output_type": "execute_result",
          "data": {
            "text/plain": [
              "{'a': int, 'args': 'additional args'}"
            ]
          },
          "metadata": {
            "tags": []
          },
          "execution_count": 42
        }
      ]
    },
    {
      "cell_type": "code",
      "metadata": {
        "tags": [],
        "cell_id": "00023-e9382e5f-3a04-4b60-960b-4ac6a6ae30da",
        "deepnote_to_be_reexecuted": false,
        "source_hash": "b73d04ca",
        "execution_start": 1612574949981,
        "execution_millis": 6,
        "deepnote_cell_type": "code",
        "id": "amhljdjfopkB",
        "outputId": "20cfb5a0-c85c-4430-9f05-506761b5a680"
      },
      "source": [
        "help(my_func)"
      ],
      "execution_count": null,
      "outputs": [
        {
          "output_type": "stream",
          "text": [
            "Help on function my_func in module __main__:\n",
            "\n",
            "my_func(a: int = 0, *args: 'additional args')\n",
            "\n"
          ],
          "name": "stdout"
        }
      ]
    },
    {
      "cell_type": "code",
      "metadata": {
        "tags": [],
        "cell_id": "00024-f375a523-fdd3-4d8a-a75e-5c3de2033dcb",
        "deepnote_to_be_reexecuted": false,
        "source_hash": "48dea750",
        "execution_millis": 10,
        "execution_start": 1612575123382,
        "deepnote_cell_type": "code",
        "id": "Hqd0XfiSopkC",
        "outputId": "6019cc23-46dd-4fb6-ca4e-358fba2051d3"
      },
      "source": [
        "def my_func(a: int):\n",
        "    pass\n",
        "print(my_func.__annotations__)\n",
        "\n",
        "def my_func(a: 'int'):\n",
        "    pass\n",
        "print(my_func.__annotations__)"
      ],
      "execution_count": null,
      "outputs": [
        {
          "output_type": "stream",
          "text": [
            "{'a': <class 'int'>}\n",
            "{'a': 'int'}\n"
          ],
          "name": "stdout"
        }
      ]
    },
    {
      "cell_type": "markdown",
      "metadata": {
        "tags": [],
        "cell_id": "00024-0a6ede9b-6e37-4c4f-8abb-4b4aa62b8979",
        "deepnote_cell_type": "markdown",
        "id": "lzN3tfW2opkC"
      },
      "source": [
        "# Lambda Expressions"
      ]
    },
    {
      "cell_type": "code",
      "metadata": {
        "tags": [],
        "cell_id": "00024-fecc9d91-30b3-4deb-adc0-2211ba29b057",
        "deepnote_to_be_reexecuted": false,
        "source_hash": "e47ba1cf",
        "execution_millis": 31,
        "execution_start": 1612575202388,
        "deepnote_cell_type": "code",
        "id": "qqUYbwvQopkC",
        "outputId": "a85280e7-015a-49c2-e649-9ed7517410f0"
      },
      "source": [
        "def my_func(x):\n",
        "    print( x ** 2)\n",
        "my_func(4)\n",
        "\n",
        "f = lambda x: print(x ** 2)\n",
        "f(4)\n"
      ],
      "execution_count": null,
      "outputs": [
        {
          "output_type": "stream",
          "text": [
            "16\n",
            "16\n"
          ],
          "name": "stdout"
        }
      ]
    },
    {
      "cell_type": "code",
      "metadata": {
        "tags": [],
        "cell_id": "00027-b56b9fd0-0375-4920-b5b7-5d5cd92b9065",
        "deepnote_to_be_reexecuted": false,
        "source_hash": "71e83515",
        "execution_start": 1612575258069,
        "execution_millis": 7,
        "deepnote_cell_type": "code",
        "id": "WSkBlK0IopkC",
        "outputId": "3cdd7d46-7f00-460d-9d88-37dd2346d142"
      },
      "source": [
        "def my_func(f, n):\n",
        "    return f(n)\n",
        "\n",
        "my_func(lambda x: 2 * x, 14)"
      ],
      "execution_count": null,
      "outputs": [
        {
          "output_type": "execute_result",
          "data": {
            "text/plain": [
              "28"
            ]
          },
          "metadata": {
            "tags": []
          },
          "execution_count": 50
        }
      ]
    },
    {
      "cell_type": "code",
      "metadata": {
        "tags": [],
        "cell_id": "00028-d6704b32-c429-486b-8c7f-dbd56117c1a4",
        "deepnote_to_be_reexecuted": false,
        "source_hash": "3a32bdf9",
        "execution_start": 1612575280741,
        "execution_millis": 4,
        "deepnote_cell_type": "code",
        "id": "AveO5lpBopkC",
        "outputId": "c0b851f9-40cd-48d3-f079-416d355c21a1"
      },
      "source": [
        "lambda x: print(x ** 2)"
      ],
      "execution_count": null,
      "outputs": [
        {
          "output_type": "execute_result",
          "data": {
            "text/plain": [
              "<function __main__.<lambda>(x)>"
            ]
          },
          "metadata": {
            "tags": []
          },
          "execution_count": 51
        }
      ]
    },
    {
      "cell_type": "code",
      "metadata": {
        "tags": [],
        "cell_id": "00029-eea9bd4a-4d9a-43ff-a2db-be63a8162d90",
        "deepnote_to_be_reexecuted": false,
        "source_hash": "64fc324f",
        "execution_start": 1612575308695,
        "execution_millis": 46,
        "deepnote_cell_type": "code",
        "id": "IrFkz985opkD",
        "outputId": "77b90c7e-04bd-456e-ae4c-16aee6683b30"
      },
      "source": [
        "func = lambda x: print(x ** 2)\n",
        "type(func)"
      ],
      "execution_count": null,
      "outputs": [
        {
          "output_type": "execute_result",
          "data": {
            "text/plain": [
              "function"
            ]
          },
          "metadata": {
            "tags": []
          },
          "execution_count": 52
        }
      ]
    },
    {
      "cell_type": "code",
      "metadata": {
        "tags": [],
        "cell_id": "00030-e5ce3f07-a105-42a8-ad26-3ab2cdc088f2",
        "deepnote_to_be_reexecuted": false,
        "source_hash": "5369d65b",
        "execution_start": 1612575314565,
        "execution_millis": 9,
        "deepnote_cell_type": "code",
        "id": "OwcexmHOopkD",
        "outputId": "5e4aeb20-9e26-453d-dd92-e79c265adbac"
      },
      "source": [
        "func(4)"
      ],
      "execution_count": null,
      "outputs": [
        {
          "output_type": "stream",
          "text": [
            "16\n"
          ],
          "name": "stdout"
        }
      ]
    },
    {
      "cell_type": "code",
      "metadata": {
        "tags": [],
        "cell_id": "00031-7321abbb-8eb7-475a-9936-7330fe911508",
        "deepnote_to_be_reexecuted": false,
        "source_hash": "c02b5525",
        "execution_millis": 8,
        "execution_start": 1612575383005,
        "deepnote_cell_type": "code",
        "id": "EUuEnVJmopkD",
        "outputId": "a58eb946-238b-4bce-efbd-4556c6e22ff5"
      },
      "source": [
        "func_1 = lambda x, y = 10 : (x, y)\n",
        "\n",
        "func_1(1, 2), func_1(10)"
      ],
      "execution_count": null,
      "outputs": [
        {
          "output_type": "execute_result",
          "data": {
            "text/plain": [
              "((1, 2), (10, 10))"
            ]
          },
          "metadata": {
            "tags": []
          },
          "execution_count": 59
        }
      ]
    },
    {
      "cell_type": "code",
      "metadata": {
        "tags": [],
        "cell_id": "00032-346eca30-a0ea-44dc-acc3-2dc37fa08a93",
        "deepnote_to_be_reexecuted": false,
        "source_hash": "1006a828",
        "execution_millis": 10,
        "execution_start": 1612575468797,
        "deepnote_cell_type": "code",
        "id": "mWkC_Y73opkD",
        "outputId": "cd7c7c57-cb58-4dcb-e92c-cf7d378c8893"
      },
      "source": [
        "func_2 = lambda x, *args, y, **kwargs: (x, *args, y, {**kwargs})\n",
        "\n",
        "func_2(1, 'a', 'b', y=100, a = 10, b = 24, c = 'python')"
      ],
      "execution_count": null,
      "outputs": [
        {
          "output_type": "execute_result",
          "data": {
            "text/plain": [
              "(1, 'a', 'b', 100, {'a': 10, 'b': 24, 'c': 'python'})"
            ]
          },
          "metadata": {
            "tags": []
          },
          "execution_count": 61
        }
      ]
    },
    {
      "cell_type": "code",
      "metadata": {
        "tags": [],
        "cell_id": "00033-77ac6ba8-3543-46aa-b4c9-f581358450c3",
        "deepnote_to_be_reexecuted": false,
        "source_hash": "d336d5f9",
        "execution_start": 1612575496620,
        "execution_millis": 0,
        "deepnote_cell_type": "code",
        "id": "AlCfmfUCopkE"
      },
      "source": [
        "def apply_func(x, fn):\n",
        "    return fn(x)"
      ],
      "execution_count": null,
      "outputs": []
    },
    {
      "cell_type": "code",
      "metadata": {
        "tags": [],
        "cell_id": "00034-bd8e0b4b-cbc7-4445-8322-53456134dbe8",
        "deepnote_to_be_reexecuted": false,
        "source_hash": "4cd7a9a1",
        "execution_start": 1612575513034,
        "execution_millis": 10,
        "deepnote_cell_type": "code",
        "id": "kwQcpw9_opkE",
        "outputId": "34f947ff-b52e-4120-f4a5-23e0cbc22b5c"
      },
      "source": [
        "apply_func(3, lambda x: x**2)"
      ],
      "execution_count": null,
      "outputs": [
        {
          "output_type": "execute_result",
          "data": {
            "text/plain": [
              "9"
            ]
          },
          "metadata": {
            "tags": []
          },
          "execution_count": 63
        }
      ]
    },
    {
      "cell_type": "code",
      "metadata": {
        "tags": [],
        "cell_id": "00035-3e3cdfbc-e916-4868-822e-5e84edcbe138",
        "deepnote_to_be_reexecuted": false,
        "source_hash": "37b5b1fe",
        "execution_millis": 9,
        "execution_start": 1612575588946,
        "deepnote_cell_type": "code",
        "id": "FrvgpaRvopkE",
        "outputId": "c94348a4-ee0f-4915-a590-c679615d93b6"
      },
      "source": [
        "def apply_fn(fn, *args, **kwargs):\n",
        "    return fn(*args, **kwargs)\n",
        "\n",
        "apply_fn(lambda x, y: x + y, 1, 2)"
      ],
      "execution_count": null,
      "outputs": [
        {
          "output_type": "execute_result",
          "data": {
            "text/plain": [
              "3"
            ]
          },
          "metadata": {
            "tags": []
          },
          "execution_count": 65
        }
      ]
    },
    {
      "cell_type": "code",
      "metadata": {
        "tags": [],
        "cell_id": "00036-ab9c76cc-5757-421c-a4c2-bc025a9cbb31",
        "deepnote_to_be_reexecuted": false,
        "source_hash": "e5f6f854",
        "execution_start": 1612575630021,
        "execution_millis": 9,
        "deepnote_cell_type": "code",
        "id": "rqFhb1luopkE",
        "outputId": "5f1d9d9f-198e-4d4f-b9e8-5358ba8c0aa0"
      },
      "source": [
        "apply_fn(lambda x, *, y: x + y, 1, y = 2)"
      ],
      "execution_count": null,
      "outputs": [
        {
          "output_type": "execute_result",
          "data": {
            "text/plain": [
              "3"
            ]
          },
          "metadata": {
            "tags": []
          },
          "execution_count": 66
        }
      ]
    },
    {
      "cell_type": "code",
      "metadata": {
        "tags": [],
        "cell_id": "00037-f36eee9b-0ec6-4c9e-85f8-158ce67d16af",
        "deepnote_to_be_reexecuted": false,
        "source_hash": "10c165aa",
        "execution_start": 1612575652555,
        "execution_millis": 7,
        "deepnote_cell_type": "code",
        "id": "xYdU4-z0opkE",
        "outputId": "c947c7fa-84ca-4d96-f683-47ff682f6fe8"
      },
      "source": [
        "apply_fn(lambda *args: sum(args), 1, 2, 3, 4, 5, 6, 7, 8)"
      ],
      "execution_count": null,
      "outputs": [
        {
          "output_type": "execute_result",
          "data": {
            "text/plain": [
              "36"
            ]
          },
          "metadata": {
            "tags": []
          },
          "execution_count": 67
        }
      ]
    },
    {
      "cell_type": "code",
      "metadata": {
        "tags": [],
        "cell_id": "00038-ea8ab049-9e9f-4674-ba3a-02b7a0be74f0",
        "deepnote_to_be_reexecuted": false,
        "source_hash": "c7674fc9",
        "execution_millis": 9,
        "execution_start": 1612575684014,
        "deepnote_cell_type": "code",
        "id": "u079Yna5opkF",
        "outputId": "e37db55a-80b9-4071-fc11-465e49087c56"
      },
      "source": [
        "apply_fn(sum, (1, 2, 3, 4, 5, 6, 7, 8))"
      ],
      "execution_count": null,
      "outputs": [
        {
          "output_type": "execute_result",
          "data": {
            "text/plain": [
              "36"
            ]
          },
          "metadata": {
            "tags": []
          },
          "execution_count": 69
        }
      ]
    },
    {
      "cell_type": "code",
      "metadata": {
        "tags": [],
        "cell_id": "00039-af5ebe06-0b90-4de1-b177-d5c82ffd7127",
        "deepnote_to_be_reexecuted": false,
        "source_hash": "d4f4966f",
        "execution_start": 1612575714059,
        "execution_millis": 2,
        "deepnote_cell_type": "code",
        "id": "4EkEJzLropkF"
      },
      "source": [
        "def mulitply(x, y):\n",
        "    return x * y"
      ],
      "execution_count": null,
      "outputs": []
    },
    {
      "cell_type": "code",
      "metadata": {
        "tags": [],
        "cell_id": "00040-00122158-4c1a-41d5-83b6-5f3a9258ccee",
        "deepnote_to_be_reexecuted": false,
        "source_hash": "2909cf50",
        "execution_millis": 6,
        "execution_start": 1612575742674,
        "deepnote_cell_type": "code",
        "id": "sEvoz1xQopkF",
        "outputId": "a505744b-6c42-4b76-f2ae-cb96e15d6637"
      },
      "source": [
        "apply_fn(mulitply, '1', 7)"
      ],
      "execution_count": null,
      "outputs": [
        {
          "output_type": "execute_result",
          "data": {
            "text/plain": [
              "'1111111'"
            ]
          },
          "metadata": {
            "tags": []
          },
          "execution_count": 74
        }
      ]
    },
    {
      "cell_type": "markdown",
      "metadata": {
        "tags": [],
        "cell_id": "00041-e8a8bc2d-86de-4e86-b6e9-f05248439458",
        "deepnote_cell_type": "markdown",
        "id": "76cetcqzopkF"
      },
      "source": [
        "# Lambdas and Sorting"
      ]
    },
    {
      "cell_type": "code",
      "metadata": {
        "tags": [],
        "cell_id": "00041-0c89e68b-e9bf-42ce-b75d-66d5b0501bf6",
        "deepnote_to_be_reexecuted": false,
        "source_hash": "d3b9f471",
        "execution_start": 1612575802400,
        "execution_millis": 14,
        "deepnote_cell_type": "code",
        "id": "Fg7WkkabopkF",
        "outputId": "8ba46f4b-6c21-47be-aee3-37641041766a"
      },
      "source": [
        "l = ['a', 'B', 'c', 'D']\n",
        "\n",
        "sorted(l)"
      ],
      "execution_count": null,
      "outputs": [
        {
          "output_type": "execute_result",
          "data": {
            "text/plain": [
              "['B', 'D', 'a', 'c']"
            ]
          },
          "metadata": {
            "tags": []
          },
          "execution_count": 75
        }
      ]
    },
    {
      "cell_type": "code",
      "metadata": {
        "tags": [],
        "cell_id": "00043-46a06f00-0797-464d-bb02-0f956deaacb9",
        "deepnote_to_be_reexecuted": false,
        "source_hash": "af372d08",
        "execution_start": 1612575860102,
        "execution_millis": 9,
        "deepnote_cell_type": "code",
        "id": "JMK7o7FpopkG",
        "outputId": "880b488e-7631-44a7-d9c1-28b0af60a481"
      },
      "source": [
        "sorted(l, key = str.upper)"
      ],
      "execution_count": null,
      "outputs": [
        {
          "output_type": "execute_result",
          "data": {
            "text/plain": [
              "['a', 'B', 'c', 'D']"
            ]
          },
          "metadata": {
            "tags": []
          },
          "execution_count": 76
        }
      ]
    },
    {
      "cell_type": "code",
      "metadata": {
        "tags": [],
        "cell_id": "00044-dd2ddcfa-9b5c-45fd-8294-cbd442141566",
        "deepnote_to_be_reexecuted": false,
        "source_hash": "cb563d2a",
        "execution_start": 1612575917520,
        "execution_millis": 11,
        "deepnote_cell_type": "code",
        "id": "2akDOeaZopkG",
        "outputId": "8b693f7d-df13-4560-d285-d56991996b2e"
      },
      "source": [
        "sorted(l, key = lambda s: s.upper())"
      ],
      "execution_count": null,
      "outputs": [
        {
          "output_type": "execute_result",
          "data": {
            "text/plain": [
              "['a', 'B', 'c', 'D']"
            ]
          },
          "metadata": {
            "tags": []
          },
          "execution_count": 77
        }
      ]
    },
    {
      "cell_type": "code",
      "metadata": {
        "tags": [],
        "cell_id": "00045-d9f8d951-a168-4bf5-bd6a-9d43d9482387",
        "deepnote_to_be_reexecuted": false,
        "source_hash": "e809ccd9",
        "execution_millis": 5,
        "execution_start": 1612575984201,
        "deepnote_cell_type": "code",
        "id": "dJucFDKvopkG",
        "outputId": "06ca9468-9abc-4548-c06d-eb41ae731b59"
      },
      "source": [
        "d = {'def': 300, 'abc': 200, 'ghi': 100, 'jlk': 50}\n",
        "d"
      ],
      "execution_count": null,
      "outputs": [
        {
          "output_type": "execute_result",
          "data": {
            "text/plain": [
              "{'def': 300, 'abc': 200, 'ghi': 100, 'jlk': 50}"
            ]
          },
          "metadata": {
            "tags": []
          },
          "execution_count": 81
        }
      ]
    },
    {
      "cell_type": "code",
      "metadata": {
        "tags": [],
        "cell_id": "00046-23568b32-1f5f-4195-8669-c3a418c75c40",
        "deepnote_to_be_reexecuted": false,
        "source_hash": "c2825d1e",
        "execution_millis": 7,
        "execution_start": 1612575984469,
        "deepnote_cell_type": "code",
        "id": "jJHeMqkIopkG",
        "outputId": "8a1e49dc-6c4f-4b78-f2e7-3e7d7c13c2c2"
      },
      "source": [
        "sorted(d)"
      ],
      "execution_count": null,
      "outputs": [
        {
          "output_type": "execute_result",
          "data": {
            "text/plain": [
              "['abc', 'def', 'ghi', 'jlk']"
            ]
          },
          "metadata": {
            "tags": []
          },
          "execution_count": 82
        }
      ]
    },
    {
      "cell_type": "code",
      "metadata": {
        "tags": [],
        "cell_id": "00047-71088a43-a177-4bb8-9dac-1aabc4740297",
        "deepnote_to_be_reexecuted": false,
        "source_hash": "f7f4ed2b",
        "execution_start": 1612576051430,
        "execution_millis": 8,
        "deepnote_cell_type": "code",
        "id": "jFyTbrgropkH",
        "outputId": "485d65c1-ee38-48e3-ae66-5aa4d1d64c59"
      },
      "source": [
        "sorted(d, key = lambda k: d[k])"
      ],
      "execution_count": null,
      "outputs": [
        {
          "output_type": "execute_result",
          "data": {
            "text/plain": [
              "['jlk', 'ghi', 'abc', 'def']"
            ]
          },
          "metadata": {
            "tags": []
          },
          "execution_count": 83
        }
      ]
    },
    {
      "cell_type": "code",
      "metadata": {
        "tags": [],
        "cell_id": "00048-2e962763-a01d-42b2-b8cc-6074c7141da8",
        "deepnote_to_be_reexecuted": false,
        "source_hash": "696088b2",
        "execution_millis": 2,
        "execution_start": 1612576156775,
        "deepnote_cell_type": "code",
        "id": "yY5hRsHtopkH"
      },
      "source": [
        "def dist(x):\n",
        "    return (x.real)**2 + (x.imag)**2\n",
        "\n",
        "l = [3+3j, 1+1j, 0+0j]"
      ],
      "execution_count": null,
      "outputs": []
    },
    {
      "cell_type": "code",
      "metadata": {
        "tags": [],
        "cell_id": "00049-ee7a6ef4-b001-4dec-88fa-c1a7d5742307",
        "deepnote_to_be_reexecuted": false,
        "source_hash": "572d84d3",
        "execution_start": 1612576158915,
        "execution_millis": 9,
        "deepnote_cell_type": "code",
        "id": "It03ki8EopkH",
        "outputId": "838c4769-b98d-42e9-f09a-0ddb66f87732"
      },
      "source": [
        "sorted(l)"
      ],
      "execution_count": null,
      "outputs": [
        {
          "output_type": "error",
          "ename": "TypeError",
          "evalue": "'<' not supported between instances of 'complex' and 'complex'",
          "traceback": [
            "\u001b[0;31m---------------------------------------------------------------------------\u001b[0m",
            "\u001b[0;31mTypeError\u001b[0m                                 Traceback (most recent call last)",
            "\u001b[0;32m<ipython-input-86-04dc31ea0310>\u001b[0m in \u001b[0;36m<module>\u001b[0;34m\u001b[0m\n\u001b[0;32m----> 1\u001b[0;31m \u001b[0msorted\u001b[0m\u001b[0;34m(\u001b[0m\u001b[0ml\u001b[0m\u001b[0;34m)\u001b[0m\u001b[0;34m\u001b[0m\u001b[0;34m\u001b[0m\u001b[0m\n\u001b[0m",
            "\u001b[0;31mTypeError\u001b[0m: '<' not supported between instances of 'complex' and 'complex'"
          ]
        }
      ]
    },
    {
      "cell_type": "code",
      "metadata": {
        "tags": [],
        "cell_id": "00050-3a73defe-4359-46d9-bd48-0067d1a8c15b",
        "deepnote_to_be_reexecuted": false,
        "source_hash": "9e9c977d",
        "execution_start": 1612576181479,
        "execution_millis": 7,
        "deepnote_cell_type": "code",
        "id": "g_CnkjBdopkH",
        "outputId": "bba8682c-2a79-4e80-dca8-3ac730bcd6f7"
      },
      "source": [
        "sorted(l, key=dist)"
      ],
      "execution_count": null,
      "outputs": [
        {
          "output_type": "execute_result",
          "data": {
            "text/plain": [
              "[0j, (1+1j), (3+3j)]"
            ]
          },
          "metadata": {
            "tags": []
          },
          "execution_count": 87
        }
      ]
    },
    {
      "cell_type": "code",
      "metadata": {
        "tags": [],
        "cell_id": "00051-5a5cb103-66e7-4b96-b3bd-6118ceaa01da",
        "deepnote_to_be_reexecuted": false,
        "source_hash": "ce04b818",
        "execution_start": 1612576232687,
        "execution_millis": 9,
        "deepnote_cell_type": "code",
        "id": "vpBYVvg7opkH",
        "outputId": "c5150949-6dab-49ec-e80b-691f39513595"
      },
      "source": [
        "sorted(l, key = lambda x: (x.real)**2 + (x.imag)**2)"
      ],
      "execution_count": null,
      "outputs": [
        {
          "output_type": "execute_result",
          "data": {
            "text/plain": [
              "[0j, (1+1j), (3+3j)]"
            ]
          },
          "metadata": {
            "tags": []
          },
          "execution_count": 88
        }
      ]
    },
    {
      "cell_type": "code",
      "metadata": {
        "tags": [],
        "cell_id": "00052-fc1f232b-83d5-4356-90c2-47c9b717e5ca",
        "deepnote_to_be_reexecuted": false,
        "source_hash": "1282c29b",
        "execution_start": 1612576317221,
        "execution_millis": 13,
        "deepnote_cell_type": "code",
        "id": "U4hG9wKtopkI",
        "outputId": "4c707637-595b-4522-c1b3-04ea927eb420"
      },
      "source": [
        "l = [\"Obama\", \"Hillary\", \"Modi\", \"Ajit\", \"Rahul\", \"Bernie\"]\n",
        "sorted(l)\n"
      ],
      "execution_count": null,
      "outputs": [
        {
          "output_type": "execute_result",
          "data": {
            "text/plain": [
              "['Ajit', 'Hillary', 'Modi', 'Obama', 'Rahul']"
            ]
          },
          "metadata": {
            "tags": []
          },
          "execution_count": 89
        }
      ]
    },
    {
      "cell_type": "code",
      "metadata": {
        "tags": [],
        "cell_id": "00053-d2fb916f-b084-44cf-9bea-724afe92c6bf",
        "deepnote_to_be_reexecuted": false,
        "source_hash": "834da262",
        "execution_millis": 7,
        "execution_start": 1612576370941,
        "deepnote_cell_type": "code",
        "id": "zvR-fYrWopkI",
        "outputId": "fb3dfa87-3f7f-4105-f28a-0d5a0e9e4f8e"
      },
      "source": [
        "sorted(l, key = lambda x:x[-1])"
      ],
      "execution_count": null,
      "outputs": [
        {
          "output_type": "execute_result",
          "data": {
            "text/plain": [
              "['Obama', 'Modi', 'Rahul', 'Ajit', 'Hillary']"
            ]
          },
          "metadata": {
            "tags": []
          },
          "execution_count": 91
        }
      ]
    },
    {
      "cell_type": "markdown",
      "metadata": {
        "tags": [],
        "cell_id": "00054-e8fc6743-b63f-4020-8856-fd3e1e8769f2",
        "deepnote_cell_type": "markdown",
        "id": "ijAFuxfnopkI"
      },
      "source": [
        "# Function Introspection"
      ]
    },
    {
      "cell_type": "code",
      "metadata": {
        "tags": [],
        "cell_id": "00054-a1a57c95-09ca-4600-81c8-33ec278cd12f",
        "deepnote_to_be_reexecuted": false,
        "source_hash": "a8bcce98",
        "execution_start": 1612576829557,
        "execution_millis": 2,
        "deepnote_cell_type": "code",
        "id": "iAoowUv3opkI"
      },
      "source": [
        "def fact(n: \"some non-negative integer\") -> \"n! or 0 if n < 0\":\n",
        "    '''Calcalates n! (factorial funtion)\n",
        "\n",
        "    Input:\n",
        "        n: non-negative integer\n",
        "            Default: 1\n",
        "    Return:\n",
        "        the factorial of n\n",
        "        or\n",
        "        0 if n is negative\n",
        "    ToDo:\n",
        "        this is the slowest possible factorial function, let's change this in future\n",
        "    '''\n",
        "    # bible.. game of thrones... \n",
        "    if n < 0:\n",
        "        '''Note that this is not a part of doctring!'''\n",
        "        return 0\n",
        "    elif n <= 1:\n",
        "        return 1\n",
        "    else:\n",
        "        return n * fact(n-1)\n"
      ],
      "execution_count": null,
      "outputs": []
    },
    {
      "cell_type": "code",
      "metadata": {
        "tags": [],
        "cell_id": "00056-8ea297f8-5997-47f9-80bd-fc043657c080",
        "deepnote_to_be_reexecuted": false,
        "source_hash": "624463b",
        "execution_start": 1612576883796,
        "execution_millis": 7,
        "deepnote_cell_type": "code",
        "id": "u5rVdEbiopkI",
        "outputId": "dc360eee-1e5e-4dee-c4f0-bd28bb504f24"
      },
      "source": [
        "fact.short_description = \"factorial function\"\n",
        "\n",
        "print(fact.short_description)"
      ],
      "execution_count": null,
      "outputs": [
        {
          "output_type": "stream",
          "text": [
            "factorial function\n"
          ],
          "name": "stdout"
        }
      ]
    },
    {
      "cell_type": "code",
      "metadata": {
        "tags": [],
        "cell_id": "00057-729af88f-f02d-4663-868c-d24052c3d6d8",
        "deepnote_to_be_reexecuted": false,
        "source_hash": "87dcbca8",
        "execution_start": 1612576923091,
        "execution_millis": 10,
        "deepnote_cell_type": "code",
        "id": "4o22aXwFopkJ",
        "outputId": "db62fc62-e575-4a48-f4b9-abd495775c76"
      },
      "source": [
        "dir(fact)"
      ],
      "execution_count": null,
      "outputs": [
        {
          "output_type": "execute_result",
          "data": {
            "text/plain": [
              "['__annotations__',\n",
              " '__call__',\n",
              " '__class__',\n",
              " '__closure__',\n",
              " '__code__',\n",
              " '__defaults__',\n",
              " '__delattr__',\n",
              " '__dict__',\n",
              " '__dir__',\n",
              " '__doc__',\n",
              " '__eq__',\n",
              " '__format__',\n",
              " '__ge__',\n",
              " '__get__',\n",
              " '__getattribute__',\n",
              " '__globals__',\n",
              " '__gt__',\n",
              " '__hash__',\n",
              " '__init__',\n",
              " '__init_subclass__',\n",
              " '__kwdefaults__',\n",
              " '__le__',\n",
              " '__lt__',\n",
              " '__module__',\n",
              " '__name__',\n",
              " '__ne__',\n",
              " '__new__',\n",
              " '__qualname__',\n",
              " '__reduce__',\n",
              " '__reduce_ex__',\n",
              " '__repr__',\n",
              " '__setattr__',\n",
              " '__sizeof__',\n",
              " '__str__',\n",
              " '__subclasshook__',\n",
              " 'short_description']"
            ]
          },
          "metadata": {
            "tags": []
          },
          "execution_count": 94
        }
      ]
    },
    {
      "cell_type": "code",
      "metadata": {
        "tags": [],
        "cell_id": "00058-b71e4853-d876-4e0b-863c-0c38eb5fd0db",
        "deepnote_to_be_reexecuted": false,
        "source_hash": "5a74ce92",
        "execution_start": 1612576969242,
        "execution_millis": 48,
        "deepnote_cell_type": "code",
        "id": "CdiUPUHlopkJ",
        "outputId": "a9ef5ced-92ab-4d22-dc0a-03f5ff7393b0"
      },
      "source": [
        "fact.long_description = \"this is a long descroipton writeen by shashi tharoor which is not ending today\"\n",
        "\n",
        "dir(fact)"
      ],
      "execution_count": null,
      "outputs": [
        {
          "output_type": "execute_result",
          "data": {
            "text/plain": [
              "['__annotations__',\n",
              " '__call__',\n",
              " '__class__',\n",
              " '__closure__',\n",
              " '__code__',\n",
              " '__defaults__',\n",
              " '__delattr__',\n",
              " '__dict__',\n",
              " '__dir__',\n",
              " '__doc__',\n",
              " '__eq__',\n",
              " '__format__',\n",
              " '__ge__',\n",
              " '__get__',\n",
              " '__getattribute__',\n",
              " '__globals__',\n",
              " '__gt__',\n",
              " '__hash__',\n",
              " '__init__',\n",
              " '__init_subclass__',\n",
              " '__kwdefaults__',\n",
              " '__le__',\n",
              " '__lt__',\n",
              " '__module__',\n",
              " '__name__',\n",
              " '__ne__',\n",
              " '__new__',\n",
              " '__qualname__',\n",
              " '__reduce__',\n",
              " '__reduce_ex__',\n",
              " '__repr__',\n",
              " '__setattr__',\n",
              " '__sizeof__',\n",
              " '__str__',\n",
              " '__subclasshook__',\n",
              " 'long_description',\n",
              " 'short_description']"
            ]
          },
          "metadata": {
            "tags": []
          },
          "execution_count": 95
        }
      ]
    },
    {
      "cell_type": "code",
      "metadata": {
        "tags": [],
        "cell_id": "00059-1ff53b53-fda6-4b7b-b085-763c04de2230",
        "deepnote_to_be_reexecuted": false,
        "source_hash": "6a56a5f2",
        "execution_millis": 8,
        "execution_start": 1612577003912,
        "deepnote_cell_type": "code",
        "id": "kOqxaKi3opkJ",
        "outputId": "3397d9d2-4eac-4585-f46b-4cda36e998e0"
      },
      "source": [
        "fact.__dir__()"
      ],
      "execution_count": null,
      "outputs": [
        {
          "output_type": "execute_result",
          "data": {
            "text/plain": [
              "['short_description',\n",
              " 'long_description',\n",
              " '__repr__',\n",
              " '__call__',\n",
              " '__get__',\n",
              " '__new__',\n",
              " '__closure__',\n",
              " '__doc__',\n",
              " '__globals__',\n",
              " '__module__',\n",
              " '__code__',\n",
              " '__defaults__',\n",
              " '__kwdefaults__',\n",
              " '__annotations__',\n",
              " '__dict__',\n",
              " '__name__',\n",
              " '__qualname__',\n",
              " '__hash__',\n",
              " '__str__',\n",
              " '__getattribute__',\n",
              " '__setattr__',\n",
              " '__delattr__',\n",
              " '__lt__',\n",
              " '__le__',\n",
              " '__eq__',\n",
              " '__ne__',\n",
              " '__gt__',\n",
              " '__ge__',\n",
              " '__init__',\n",
              " '__reduce_ex__',\n",
              " '__reduce__',\n",
              " '__subclasshook__',\n",
              " '__init_subclass__',\n",
              " '__format__',\n",
              " '__sizeof__',\n",
              " '__dir__',\n",
              " '__class__']"
            ]
          },
          "metadata": {
            "tags": []
          },
          "execution_count": 97
        }
      ]
    },
    {
      "cell_type": "code",
      "metadata": {
        "tags": [],
        "cell_id": "00060-13e4b4cc-d5b9-405c-85da-0ccb38bcff43",
        "deepnote_to_be_reexecuted": false,
        "source_hash": "75be6974",
        "execution_start": 1612577086054,
        "execution_millis": 1,
        "deepnote_cell_type": "code",
        "id": "U4AXricUopkJ"
      },
      "source": [
        "def my_func(a, b = 2, c = 3, *, kw1, kw2= 2, **kwargs):\n",
        "    pass"
      ],
      "execution_count": null,
      "outputs": []
    },
    {
      "cell_type": "code",
      "metadata": {
        "tags": [],
        "cell_id": "00061-35d42153-af3e-4ce3-8232-f7f95295de1e",
        "deepnote_to_be_reexecuted": false,
        "source_hash": "a68ae2c9",
        "execution_start": 1612577098607,
        "execution_millis": 3,
        "deepnote_cell_type": "code",
        "id": "TiCfSobfopkJ"
      },
      "source": [
        "f = my_func"
      ],
      "execution_count": null,
      "outputs": []
    },
    {
      "cell_type": "code",
      "metadata": {
        "tags": [],
        "cell_id": "00062-554b2b07-4d3c-4894-906f-5e7e673f07a5",
        "deepnote_to_be_reexecuted": false,
        "source_hash": "6fe390d",
        "execution_start": 1612577108533,
        "execution_millis": 5,
        "deepnote_cell_type": "code",
        "id": "emH4E2yeopkK",
        "outputId": "b599a34d-ae06-4141-f5ca-5e9c85e7599a"
      },
      "source": [
        "my_func.__name__"
      ],
      "execution_count": null,
      "outputs": [
        {
          "output_type": "execute_result",
          "data": {
            "text/plain": [
              "'my_func'"
            ]
          },
          "metadata": {
            "tags": []
          },
          "execution_count": 100
        }
      ]
    },
    {
      "cell_type": "code",
      "metadata": {
        "tags": [],
        "cell_id": "00063-84b4d783-9b55-4a95-9f79-d9ba5f34e6b3",
        "deepnote_to_be_reexecuted": false,
        "source_hash": "6ccc2945",
        "execution_start": 1612577116845,
        "execution_millis": 16,
        "deepnote_cell_type": "code",
        "id": "XR_2A0RSopkK",
        "outputId": "9f45787c-4c4c-4875-e017-584eaf946548"
      },
      "source": [
        "f.__name__"
      ],
      "execution_count": null,
      "outputs": [
        {
          "output_type": "execute_result",
          "data": {
            "text/plain": [
              "'my_func'"
            ]
          },
          "metadata": {
            "tags": []
          },
          "execution_count": 101
        }
      ]
    },
    {
      "cell_type": "code",
      "metadata": {
        "tags": [],
        "cell_id": "00064-201f4c23-a8df-4e5c-84ed-cebf35ef33ef",
        "deepnote_to_be_reexecuted": false,
        "source_hash": "9051d23a",
        "execution_start": 1612577155965,
        "execution_millis": 10,
        "deepnote_cell_type": "code",
        "id": "LoeKEJkZopkK",
        "outputId": "136f4eb3-3b26-41ef-c262-cc36d39eb3b5"
      },
      "source": [
        "my_func.__defaults__"
      ],
      "execution_count": null,
      "outputs": [
        {
          "output_type": "execute_result",
          "data": {
            "text/plain": [
              "(2, 3)"
            ]
          },
          "metadata": {
            "tags": []
          },
          "execution_count": 102
        }
      ]
    },
    {
      "cell_type": "code",
      "metadata": {
        "tags": [],
        "cell_id": "00065-b0514443-feb2-4bad-b712-fadee3162aae",
        "deepnote_to_be_reexecuted": false,
        "source_hash": "f8c58ce4",
        "execution_millis": 16,
        "execution_start": 1612577184557,
        "deepnote_cell_type": "code",
        "id": "AnazUygPopkK",
        "outputId": "0615d248-4ddd-443a-bf94-3408d82ad26e"
      },
      "source": [
        "help(print)"
      ],
      "execution_count": null,
      "outputs": [
        {
          "output_type": "stream",
          "text": [
            "Help on built-in function print in module builtins:\n",
            "\n",
            "print(...)\n",
            "    print(value, ..., sep=' ', end='\\n', file=sys.stdout, flush=False)\n",
            "    \n",
            "    Prints the values to a stream, or to sys.stdout by default.\n",
            "    Optional keyword arguments:\n",
            "    file:  a file-like object (stream); defaults to the current sys.stdout.\n",
            "    sep:   string inserted between values, default a space.\n",
            "    end:   string appended after the last value, default a newline.\n",
            "    flush: whether to forcibly flush the stream.\n",
            "\n"
          ],
          "name": "stdout"
        }
      ]
    },
    {
      "cell_type": "code",
      "metadata": {
        "tags": [],
        "cell_id": "00066-29da9082-e519-4c76-8179-6bddb08ce631",
        "deepnote_to_be_reexecuted": false,
        "source_hash": "e2623028",
        "execution_start": 1612577225165,
        "execution_millis": 10,
        "deepnote_cell_type": "code",
        "id": "lLc999nMopkK",
        "outputId": "562691b8-39c4-4804-b860-dea9c355ba98"
      },
      "source": [
        "my_func.__kwdefaults__"
      ],
      "execution_count": null,
      "outputs": [
        {
          "output_type": "execute_result",
          "data": {
            "text/plain": [
              "{'kw2': 2}"
            ]
          },
          "metadata": {
            "tags": []
          },
          "execution_count": 106
        }
      ]
    },
    {
      "cell_type": "code",
      "metadata": {
        "tags": [],
        "cell_id": "00067-2cf61e44-e517-4075-8c2e-b7c53df0fd6f",
        "deepnote_to_be_reexecuted": false,
        "source_hash": "ea4bb99c",
        "execution_start": 1612577256873,
        "execution_millis": 1,
        "deepnote_cell_type": "code",
        "id": "di-bQN_RopkL"
      },
      "source": [
        "def my_func(a, b = 1, *args, **kwargs):\n",
        "    i = 10\n",
        "    b = min(i, b)\n",
        "    return a * b"
      ],
      "execution_count": null,
      "outputs": []
    },
    {
      "cell_type": "code",
      "metadata": {
        "tags": [],
        "cell_id": "00068-a58b85c4-b73a-43f6-8b6e-129fdff72152",
        "deepnote_to_be_reexecuted": false,
        "source_hash": "978811a9",
        "execution_start": 1612577265270,
        "execution_millis": 9,
        "deepnote_cell_type": "code",
        "id": "tOEgtKnFopkL",
        "outputId": "de56482b-82d6-49f6-8c96-c76bd9e55fb1"
      },
      "source": [
        "my_func('a', 100)"
      ],
      "execution_count": null,
      "outputs": [
        {
          "output_type": "execute_result",
          "data": {
            "text/plain": [
              "'aaaaaaaaaa'"
            ]
          },
          "metadata": {
            "tags": []
          },
          "execution_count": 108
        }
      ]
    },
    {
      "cell_type": "code",
      "metadata": {
        "tags": [],
        "cell_id": "00069-7b6d41d4-d78d-4308-a8ad-7cef549a5946",
        "deepnote_to_be_reexecuted": false,
        "source_hash": "640fd719",
        "execution_start": 1612577281309,
        "execution_millis": 6,
        "deepnote_cell_type": "code",
        "id": "gT3Tfvt2opkL",
        "outputId": "ab43ca8a-6c5e-46ca-cb1e-bbb7a8594ad0"
      },
      "source": [
        "my_func.__code__"
      ],
      "execution_count": null,
      "outputs": [
        {
          "output_type": "execute_result",
          "data": {
            "text/plain": [
              "<code object my_func at 0x7f1b86ae2e40, file \"<ipython-input-107-458bb8b6c95a>\", line 1>"
            ]
          },
          "metadata": {
            "tags": []
          },
          "execution_count": 109
        }
      ]
    },
    {
      "cell_type": "code",
      "metadata": {
        "tags": [],
        "cell_id": "00070-f5e62e31-6859-4d70-858f-5789d4b9d6f9",
        "deepnote_to_be_reexecuted": false,
        "source_hash": "da44c750",
        "execution_start": 1612577307192,
        "execution_millis": 11,
        "deepnote_cell_type": "code",
        "id": "31eC3oksopkL",
        "outputId": "65674987-213c-42fe-93bd-d0fc2672d4b0"
      },
      "source": [
        "dir(my_func.__code__)"
      ],
      "execution_count": null,
      "outputs": [
        {
          "output_type": "execute_result",
          "data": {
            "text/plain": [
              "['__class__',\n",
              " '__delattr__',\n",
              " '__dir__',\n",
              " '__doc__',\n",
              " '__eq__',\n",
              " '__format__',\n",
              " '__ge__',\n",
              " '__getattribute__',\n",
              " '__gt__',\n",
              " '__hash__',\n",
              " '__init__',\n",
              " '__init_subclass__',\n",
              " '__le__',\n",
              " '__lt__',\n",
              " '__ne__',\n",
              " '__new__',\n",
              " '__reduce__',\n",
              " '__reduce_ex__',\n",
              " '__repr__',\n",
              " '__setattr__',\n",
              " '__sizeof__',\n",
              " '__str__',\n",
              " '__subclasshook__',\n",
              " 'co_argcount',\n",
              " 'co_cellvars',\n",
              " 'co_code',\n",
              " 'co_consts',\n",
              " 'co_filename',\n",
              " 'co_firstlineno',\n",
              " 'co_flags',\n",
              " 'co_freevars',\n",
              " 'co_kwonlyargcount',\n",
              " 'co_lnotab',\n",
              " 'co_name',\n",
              " 'co_names',\n",
              " 'co_nlocals',\n",
              " 'co_stacksize',\n",
              " 'co_varnames']"
            ]
          },
          "metadata": {
            "tags": []
          },
          "execution_count": 110
        }
      ]
    },
    {
      "cell_type": "code",
      "metadata": {
        "tags": [],
        "cell_id": "00071-bcf2be18-9026-493d-8b17-e6dfb771f86b",
        "deepnote_to_be_reexecuted": false,
        "source_hash": "c8e37758",
        "execution_start": 1612577362599,
        "execution_millis": 8,
        "deepnote_cell_type": "code",
        "id": "u88djUzRopkL",
        "outputId": "1ef01a8a-b80d-4972-f4d2-067b6242cf87"
      },
      "source": [
        "my_func.__code__.co_varnames"
      ],
      "execution_count": null,
      "outputs": [
        {
          "output_type": "execute_result",
          "data": {
            "text/plain": [
              "('a', 'b', 'args', 'kwargs', 'i')"
            ]
          },
          "metadata": {
            "tags": []
          },
          "execution_count": 111
        }
      ]
    },
    {
      "cell_type": "code",
      "metadata": {
        "tags": [],
        "cell_id": "00072-206daf45-ed4e-4da7-b48a-c930933b0209",
        "deepnote_to_be_reexecuted": false,
        "source_hash": "c2f4f379",
        "execution_start": 1612577405240,
        "execution_millis": 8,
        "deepnote_cell_type": "code",
        "id": "r-qQOY1UopkM",
        "outputId": "e7900095-d5cb-49a8-9fcf-3c8d8cc39f08"
      },
      "source": [
        "my_func.__code__.co_argcount"
      ],
      "execution_count": null,
      "outputs": [
        {
          "output_type": "execute_result",
          "data": {
            "text/plain": [
              "2"
            ]
          },
          "metadata": {
            "tags": []
          },
          "execution_count": 112
        }
      ]
    },
    {
      "cell_type": "markdown",
      "metadata": {
        "tags": [],
        "cell_id": "00073-5deae5b5-4ef4-4956-ae7b-6fead1fdb07d",
        "deepnote_cell_type": "markdown",
        "id": "8XlO8pnDopkM"
      },
      "source": [
        "### Inspect Module"
      ]
    },
    {
      "cell_type": "code",
      "metadata": {
        "tags": [],
        "cell_id": "00073-1361f838-b7e4-4d58-9900-6fc2da2afb2f",
        "deepnote_to_be_reexecuted": false,
        "source_hash": "3dddf69e",
        "execution_start": 1612577442392,
        "execution_millis": 2,
        "deepnote_cell_type": "code",
        "id": "0oUGr_DYopkM"
      },
      "source": [
        "import inspect"
      ],
      "execution_count": null,
      "outputs": []
    },
    {
      "cell_type": "code",
      "metadata": {
        "tags": [],
        "cell_id": "00075-4fce1e28-dda8-4a41-b676-9ff001a29719",
        "deepnote_to_be_reexecuted": false,
        "source_hash": "c98024ec",
        "execution_start": 1612577454150,
        "execution_millis": 9,
        "deepnote_cell_type": "code",
        "id": "iJwhCzhEopkM",
        "outputId": "0697425f-d097-402b-866b-1bb0994c8444"
      },
      "source": [
        "inspect.isfunction(my_func)"
      ],
      "execution_count": null,
      "outputs": [
        {
          "output_type": "execute_result",
          "data": {
            "text/plain": [
              "True"
            ]
          },
          "metadata": {
            "tags": []
          },
          "execution_count": 114
        }
      ]
    },
    {
      "cell_type": "code",
      "metadata": {
        "tags": [],
        "cell_id": "00076-a2854f9a-7c5e-4911-95b3-7b1cd1f3ea9e",
        "deepnote_to_be_reexecuted": false,
        "source_hash": "665aabcb",
        "execution_start": 1612577473266,
        "execution_millis": 50,
        "deepnote_cell_type": "code",
        "id": "rgLcQBJJopkM",
        "outputId": "5b2776f5-5d8b-4de9-ec0a-ed44c57835ed"
      },
      "source": [
        "inspect.ismethod(my_func)"
      ],
      "execution_count": null,
      "outputs": [
        {
          "output_type": "execute_result",
          "data": {
            "text/plain": [
              "False"
            ]
          },
          "metadata": {
            "tags": []
          },
          "execution_count": 115
        }
      ]
    },
    {
      "cell_type": "code",
      "metadata": {
        "tags": [],
        "cell_id": "00077-8651a2d5-374e-4517-855a-bda84066ee89",
        "deepnote_to_be_reexecuted": false,
        "source_hash": "598377f7",
        "execution_millis": 1,
        "execution_start": 1612577578361,
        "deepnote_cell_type": "code",
        "id": "kYmCMTAPopkN"
      },
      "source": [
        "class MyClass:\n",
        "    def f_instance(self):\n",
        "        'Instance methods are bound to the instance/object of the class'\n",
        "        pass\n",
        "\n",
        "    @classmethod\n",
        "    def f_class(cls):\n",
        "        'Class method are bound to the CLASS, not instances'\n",
        "        pass\n",
        "\n",
        "    @staticmethod\n",
        "    def f_static():\n",
        "        'Statis methods are not bounded to either class or its objects/instances'\n",
        "        pass"
      ],
      "execution_count": null,
      "outputs": []
    },
    {
      "cell_type": "code",
      "metadata": {
        "tags": [],
        "cell_id": "00078-c9930503-2a4f-40eb-b223-c00a443984dc",
        "deepnote_to_be_reexecuted": false,
        "source_hash": "f6e529e0",
        "execution_start": 1612577625768,
        "execution_millis": 13,
        "deepnote_cell_type": "code",
        "id": "FEcJrjeLopkN",
        "outputId": "e70dbfa2-d2ca-4e97-8316-247601841e95"
      },
      "source": [
        "inspect.isfunction(MyClass.f_instance), inspect.ismethod(MyClass.f_instance), "
      ],
      "execution_count": null,
      "outputs": [
        {
          "output_type": "execute_result",
          "data": {
            "text/plain": [
              "(True, False)"
            ]
          },
          "metadata": {
            "tags": []
          },
          "execution_count": 120
        }
      ]
    },
    {
      "cell_type": "code",
      "metadata": {
        "tags": [],
        "cell_id": "00079-a318a248-31e8-496d-8921-e2732abdf553",
        "deepnote_to_be_reexecuted": false,
        "source_hash": "522b06e4",
        "execution_start": 1612577654603,
        "execution_millis": 12,
        "deepnote_cell_type": "code",
        "id": "yRykSYFqopkN",
        "outputId": "67c9b78d-15ba-4374-ae90-bd7820a0ea4b"
      },
      "source": [
        "inspect.isfunction(MyClass.f_class), inspect.ismethod(MyClass.f_class), "
      ],
      "execution_count": null,
      "outputs": [
        {
          "output_type": "execute_result",
          "data": {
            "text/plain": [
              "(False, True)"
            ]
          },
          "metadata": {
            "tags": []
          },
          "execution_count": 121
        }
      ]
    },
    {
      "cell_type": "code",
      "metadata": {
        "tags": [],
        "cell_id": "00080-7b837224-0432-49f0-8dda-c1285ca5c466",
        "deepnote_to_be_reexecuted": false,
        "source_hash": "14803523",
        "execution_start": 1612577671309,
        "execution_millis": 7,
        "deepnote_cell_type": "code",
        "id": "0LIMLD0VopkN",
        "outputId": "1502b79f-d19e-453e-f087-bdde1dbb43a1"
      },
      "source": [
        "inspect.isfunction(MyClass.f_static), inspect.ismethod(MyClass.f_static), "
      ],
      "execution_count": null,
      "outputs": [
        {
          "output_type": "execute_result",
          "data": {
            "text/plain": [
              "(True, False)"
            ]
          },
          "metadata": {
            "tags": []
          },
          "execution_count": 122
        }
      ]
    },
    {
      "cell_type": "code",
      "metadata": {
        "tags": [],
        "cell_id": "00081-5f536e7f-4f4c-4e2d-8915-a83fb3e8076c",
        "deepnote_to_be_reexecuted": false,
        "source_hash": "b8a69391",
        "execution_start": 1612577718501,
        "execution_millis": 2,
        "deepnote_cell_type": "code",
        "id": "R0nGK2BhopkN"
      },
      "source": [
        "my_obj = MyClass()"
      ],
      "execution_count": null,
      "outputs": []
    },
    {
      "cell_type": "code",
      "metadata": {
        "tags": [],
        "cell_id": "00082-03b44372-d833-47de-b64c-4497b611b4db",
        "deepnote_to_be_reexecuted": false,
        "source_hash": "a48eef1d",
        "execution_start": 1612577740269,
        "execution_millis": 0,
        "deepnote_cell_type": "code",
        "id": "PaFYxDaKopkO",
        "outputId": "fcc02fcc-afe9-4be2-f0a5-7da6df76006d"
      },
      "source": [
        "inspect.isfunction(my_obj.f_instance), inspect.ismethod(my_obj.f_instance), "
      ],
      "execution_count": null,
      "outputs": [
        {
          "output_type": "execute_result",
          "data": {
            "text/plain": [
              "(False, True)"
            ]
          },
          "metadata": {
            "tags": []
          },
          "execution_count": 124
        }
      ]
    },
    {
      "cell_type": "code",
      "metadata": {
        "tags": [],
        "cell_id": "00083-562a63e2-25f9-47ad-9e1d-d5d133c84294",
        "deepnote_to_be_reexecuted": false,
        "source_hash": "f6e529e0",
        "execution_start": 1612577765333,
        "execution_millis": 8,
        "deepnote_cell_type": "code",
        "id": "iXy-9lcVopkO",
        "outputId": "b586488d-b10a-40d2-d0bc-d87bf3a5fea9"
      },
      "source": [
        "inspect.isfunction(MyClass.f_instance), inspect.ismethod(MyClass.f_instance), "
      ],
      "execution_count": null,
      "outputs": [
        {
          "output_type": "execute_result",
          "data": {
            "text/plain": [
              "(True, False)"
            ]
          },
          "metadata": {
            "tags": []
          },
          "execution_count": 125
        }
      ]
    },
    {
      "cell_type": "code",
      "metadata": {
        "tags": [],
        "cell_id": "00084-e08cc309-6a1e-4fd8-af87-41cd1b09f25c",
        "deepnote_to_be_reexecuted": false,
        "source_hash": "594e7b12",
        "execution_start": 1612577813489,
        "execution_millis": 6,
        "deepnote_cell_type": "code",
        "id": "0yqb4nFeopkO",
        "outputId": "0260530a-5430-4f19-ef89-a3f4346c32c9"
      },
      "source": [
        "inspect.isfunction(my_obj.f_class), inspect.ismethod(my_obj.f_class), "
      ],
      "execution_count": null,
      "outputs": [
        {
          "output_type": "execute_result",
          "data": {
            "text/plain": [
              "(False, True)"
            ]
          },
          "metadata": {
            "tags": []
          },
          "execution_count": 126
        }
      ]
    },
    {
      "cell_type": "code",
      "metadata": {
        "tags": [],
        "cell_id": "00085-310db4a4-b36a-48ad-9330-320675ad2081",
        "deepnote_to_be_reexecuted": false,
        "source_hash": "bd85d0b0",
        "execution_start": 1612577839153,
        "execution_millis": 7,
        "deepnote_cell_type": "code",
        "id": "oRuhRJF6opkO",
        "outputId": "cd52dcb4-2eea-47c4-eabc-f3d7abeb3455"
      },
      "source": [
        "inspect.isfunction(my_obj.f_static), inspect.ismethod(my_obj.f_static), "
      ],
      "execution_count": null,
      "outputs": [
        {
          "output_type": "execute_result",
          "data": {
            "text/plain": [
              "(True, False)"
            ]
          },
          "metadata": {
            "tags": []
          },
          "execution_count": 127
        }
      ]
    },
    {
      "cell_type": "code",
      "metadata": {
        "tags": [],
        "cell_id": "00086-d28cec2a-b071-470e-9e2a-afb96af3414d",
        "deepnote_to_be_reexecuted": false,
        "source_hash": "8e32fd0",
        "execution_start": 1612577873463,
        "execution_millis": 10,
        "deepnote_cell_type": "code",
        "id": "wN3laJ4DopkP",
        "outputId": "24229873-9ca2-45be-a348-3169205fa900"
      },
      "source": [
        "inspect.isroutine(my_func)"
      ],
      "execution_count": null,
      "outputs": [
        {
          "output_type": "execute_result",
          "data": {
            "text/plain": [
              "True"
            ]
          },
          "metadata": {
            "tags": []
          },
          "execution_count": 128
        }
      ]
    },
    {
      "cell_type": "code",
      "metadata": {
        "tags": [],
        "cell_id": "00087-efe7fcf6-f321-4155-9391-d549864f532c",
        "deepnote_to_be_reexecuted": false,
        "source_hash": "601fbfde",
        "execution_start": 1612577884973,
        "execution_millis": 11,
        "deepnote_cell_type": "code",
        "id": "SYxf2HcAopkP",
        "outputId": "98e7d6b0-7eeb-4647-d583-b16065564455"
      },
      "source": [
        "inspect.isroutine(MyClass.f_instance)"
      ],
      "execution_count": null,
      "outputs": [
        {
          "output_type": "execute_result",
          "data": {
            "text/plain": [
              "True"
            ]
          },
          "metadata": {
            "tags": []
          },
          "execution_count": 129
        }
      ]
    },
    {
      "cell_type": "code",
      "metadata": {
        "tags": [],
        "cell_id": "00088-7d2d0ae5-82bf-4de3-86ca-b5500bfe57f2",
        "deepnote_to_be_reexecuted": false,
        "source_hash": "3fc2efcf",
        "execution_start": 1612577892506,
        "execution_millis": 6,
        "deepnote_cell_type": "code",
        "id": "FqQ98aPtopkP",
        "outputId": "edb2c8bf-12a8-4b18-8628-0b3efec09113"
      },
      "source": [
        "inspect.isroutine(MyClass.f_class)"
      ],
      "execution_count": null,
      "outputs": [
        {
          "output_type": "execute_result",
          "data": {
            "text/plain": [
              "True"
            ]
          },
          "metadata": {
            "tags": []
          },
          "execution_count": 130
        }
      ]
    },
    {
      "cell_type": "code",
      "metadata": {
        "tags": [],
        "cell_id": "00089-eb80cfce-0f2c-4e15-b67f-9c144e676c03",
        "deepnote_to_be_reexecuted": false,
        "source_hash": "77484785",
        "execution_millis": 7,
        "execution_start": 1612577984869,
        "deepnote_cell_type": "code",
        "id": "ygk1S-EgopkQ",
        "outputId": "f8a4c4d4-8819-4a9a-b813-29a6120e4949"
      },
      "source": [
        "print(inspect.getsource(fact))"
      ],
      "execution_count": null,
      "outputs": [
        {
          "output_type": "stream",
          "text": [
            "def fact(n: \"some non-negative integer\") -> \"n! or 0 if n < 0\":\n",
            "    '''Calcalates n! (factorial funtion)\n",
            "\n",
            "    Input:\n",
            "        n: non-negative integer\n",
            "            Default: 1\n",
            "    Return:\n",
            "        the factorial of n\n",
            "        or\n",
            "        0 if n is negative\n",
            "    ToDo:\n",
            "        this is the slowest possible factorial function, let's change this in future\n",
            "    '''\n",
            "    # bible.. game of thrones... \n",
            "    if n < 0:\n",
            "        '''Note that this is not a part of doctring!'''\n",
            "        return 0\n",
            "    elif n <= 1:\n",
            "        return 1\n",
            "    else:\n",
            "        return n * fact(n-1)\n",
            "\n"
          ],
          "name": "stdout"
        }
      ]
    },
    {
      "cell_type": "code",
      "metadata": {
        "tags": [],
        "cell_id": "00090-a49feb59-2ebc-4e8e-bc7f-8e455d037537",
        "deepnote_to_be_reexecuted": false,
        "source_hash": "43286700",
        "execution_start": 1612578001778,
        "execution_millis": 18,
        "deepnote_cell_type": "code",
        "id": "6HUWtaMRopkQ",
        "outputId": "fde5348a-1cbd-445f-99ce-ddb8a4a39f29"
      },
      "source": [
        "print(inspect.getsource(MyClass.f_instance))"
      ],
      "execution_count": null,
      "outputs": [
        {
          "output_type": "stream",
          "text": [
            "    def f_instance(self):\n",
            "        'Instance methods are bound to the instance/object of the class'\n",
            "        pass\n",
            "\n"
          ],
          "name": "stdout"
        }
      ]
    },
    {
      "cell_type": "code",
      "metadata": {
        "tags": [],
        "cell_id": "00091-bed3adf4-82d8-4a8e-983e-9cbf26763cc4",
        "deepnote_to_be_reexecuted": false,
        "source_hash": "2695c7bb",
        "execution_start": 1612578037985,
        "execution_millis": 52,
        "deepnote_cell_type": "code",
        "id": "111lFo9WopkQ",
        "outputId": "6865ca3b-c410-4e1e-9f6a-89cafc704a07"
      },
      "source": [
        "inspect.getmodule(fact)"
      ],
      "execution_count": null,
      "outputs": [
        {
          "output_type": "execute_result",
          "data": {
            "text/plain": [
              "<module '__main__'>"
            ]
          },
          "metadata": {
            "tags": []
          },
          "execution_count": 134
        }
      ]
    },
    {
      "cell_type": "code",
      "metadata": {
        "tags": [],
        "cell_id": "00092-53717682-2846-4743-99f5-ccb7d24c2c42",
        "deepnote_to_be_reexecuted": false,
        "source_hash": "1a5e3499",
        "execution_start": 1612578048370,
        "execution_millis": 8,
        "deepnote_cell_type": "code",
        "id": "Ia7e4ct8opkQ",
        "outputId": "0a87e4e8-d601-43bf-bf9c-4d9d4567d853"
      },
      "source": [
        "inspect.getmodule(print)"
      ],
      "execution_count": null,
      "outputs": [
        {
          "output_type": "execute_result",
          "data": {
            "text/plain": [
              "<module 'builtins' (built-in)>"
            ]
          },
          "metadata": {
            "tags": []
          },
          "execution_count": 135
        }
      ]
    },
    {
      "cell_type": "code",
      "metadata": {
        "tags": [],
        "cell_id": "00093-7c6badce-9f0b-4a26-a7fd-d292e1fe9077",
        "deepnote_to_be_reexecuted": false,
        "source_hash": "ff143fe",
        "execution_start": 1612578066500,
        "execution_millis": 12,
        "deepnote_cell_type": "code",
        "id": "lzoVMwUmopkQ"
      },
      "source": [
        "import math"
      ],
      "execution_count": null,
      "outputs": []
    },
    {
      "cell_type": "code",
      "metadata": {
        "tags": [],
        "cell_id": "00094-0dcd615f-32bc-49bd-bdb3-0d0754852bce",
        "deepnote_to_be_reexecuted": false,
        "source_hash": "c543f2c3",
        "execution_start": 1612578074789,
        "execution_millis": 20,
        "deepnote_cell_type": "code",
        "id": "sMC7Z3DgopkR",
        "outputId": "ffeaaf80-726c-43ee-e735-859d722832ca"
      },
      "source": [
        "inspect.getmodule(math.sin)"
      ],
      "execution_count": null,
      "outputs": [
        {
          "output_type": "execute_result",
          "data": {
            "text/plain": [
              "<module 'math' from '/usr/local/lib/python3.7/lib-dynload/math.cpython-37m-x86_64-linux-gnu.so'>"
            ]
          },
          "metadata": {
            "tags": []
          },
          "execution_count": 137
        }
      ]
    },
    {
      "cell_type": "code",
      "metadata": {
        "tags": [],
        "cell_id": "00095-fb73a56e-28c4-400f-8265-b7f14119be09",
        "deepnote_to_be_reexecuted": false,
        "source_hash": "c1cb79c6",
        "execution_start": 1612578186514,
        "execution_millis": 22,
        "deepnote_cell_type": "code",
        "id": "2DF_WRjsopkS",
        "outputId": "59d7984d-6155-452f-a198-6b1f62e2fb52"
      },
      "source": [
        "# setting up variable\n",
        "i = 10\n",
        "\n",
        "# comment line 1\n",
        "# comment line 2\n",
        "def my_func(a, b = 1):\n",
        "    # comment inside my_func\n",
        "    pass\n",
        "\n",
        "inspect.getcomments(my_func)"
      ],
      "execution_count": null,
      "outputs": [
        {
          "output_type": "execute_result",
          "data": {
            "text/plain": [
              "'# comment line 1\\n# comment line 2\\n'"
            ]
          },
          "metadata": {
            "tags": []
          },
          "execution_count": 138
        }
      ]
    },
    {
      "cell_type": "code",
      "metadata": {
        "tags": [],
        "cell_id": "00096-e676e912-816a-4555-b94d-39b4c540f6cb",
        "deepnote_to_be_reexecuted": false,
        "source_hash": "4b5a006d",
        "execution_start": 1612578207325,
        "execution_millis": 47,
        "deepnote_cell_type": "code",
        "id": "wGvlvjsBopkS",
        "outputId": "430efbb4-c4ea-4e1b-bba6-9d870723c3b2"
      },
      "source": [
        "print(inspect.getcomments(my_func))"
      ],
      "execution_count": null,
      "outputs": [
        {
          "output_type": "stream",
          "text": [
            "# comment line 1\n",
            "# comment line 2\n",
            "\n"
          ],
          "name": "stdout"
        }
      ]
    },
    {
      "cell_type": "code",
      "metadata": {
        "tags": [],
        "cell_id": "00097-8889ca30-a267-4eba-9c25-840138d82b62",
        "deepnote_to_be_reexecuted": false,
        "source_hash": "32afde7",
        "execution_start": 1612578372725,
        "execution_millis": 2,
        "deepnote_cell_type": "code",
        "id": "Qllf67FkopkT"
      },
      "source": [
        "# TODO: Provide implementation\n",
        "def my_func(a: 'a string',\n",
        "            b: int = 1, \n",
        "            *args: 'additional argument args',\n",
        "            kw1: 'first keyword only arg',\n",
        "            kw2: 'second keyword only arg',\n",
        "            **kwargs: 'additional keyword only args') -> str:\n",
        "            \"\"\"does something\n",
        "            or ther other\"\"\"\n",
        "            pass"
      ],
      "execution_count": null,
      "outputs": []
    },
    {
      "cell_type": "code",
      "metadata": {
        "tags": [],
        "cell_id": "00098-f1038f5c-f393-4452-8e1e-eec17cb7cf25",
        "deepnote_to_be_reexecuted": false,
        "source_hash": "1cb13b65",
        "execution_start": 1612578386192,
        "execution_millis": 55,
        "deepnote_cell_type": "code",
        "id": "fWEhHanKopkT",
        "outputId": "563d2013-b9b0-420f-e26e-9f3a615016cd"
      },
      "source": [
        "inspect.signature(my_func)"
      ],
      "execution_count": null,
      "outputs": [
        {
          "output_type": "execute_result",
          "data": {
            "text/plain": [
              "<Signature (a: 'a string', b: int = 1, *args: 'additional argument args', kw1: 'first keyword only arg', kw2: 'second keyword only arg', **kwargs: 'additional keyword only args') -> str>"
            ]
          },
          "metadata": {
            "tags": []
          },
          "execution_count": 141
        }
      ]
    },
    {
      "cell_type": "code",
      "metadata": {
        "tags": [],
        "cell_id": "00099-09ff190a-1525-410b-b761-4957be72c091",
        "deepnote_to_be_reexecuted": false,
        "source_hash": "3ac10f16",
        "execution_start": 1612578435538,
        "execution_millis": 10,
        "deepnote_cell_type": "code",
        "id": "gwYfruwxopkT",
        "outputId": "e1c7420a-f79d-40ec-f02a-117cf13eb597"
      },
      "source": [
        "type(inspect.signature(my_func))"
      ],
      "execution_count": null,
      "outputs": [
        {
          "output_type": "execute_result",
          "data": {
            "text/plain": [
              "inspect.Signature"
            ]
          },
          "metadata": {
            "tags": []
          },
          "execution_count": 142
        }
      ]
    },
    {
      "cell_type": "code",
      "metadata": {
        "tags": [],
        "cell_id": "00100-958d2c30-f5cf-4f1a-bc52-417e38d7cf83",
        "deepnote_to_be_reexecuted": false,
        "source_hash": "f7e8ab10",
        "execution_start": 1612578460796,
        "execution_millis": 11,
        "deepnote_cell_type": "code",
        "id": "wvSKzsFtopkT",
        "outputId": "8f426290-ee7c-4bf6-9e15-e5fe719ce4ac"
      },
      "source": [
        "sig = inspect.signature(my_func)\n",
        "\n",
        "dir(sig)"
      ],
      "execution_count": null,
      "outputs": [
        {
          "output_type": "execute_result",
          "data": {
            "text/plain": [
              "['__class__',\n",
              " '__delattr__',\n",
              " '__dir__',\n",
              " '__doc__',\n",
              " '__eq__',\n",
              " '__format__',\n",
              " '__ge__',\n",
              " '__getattribute__',\n",
              " '__gt__',\n",
              " '__hash__',\n",
              " '__init__',\n",
              " '__init_subclass__',\n",
              " '__le__',\n",
              " '__lt__',\n",
              " '__module__',\n",
              " '__ne__',\n",
              " '__new__',\n",
              " '__reduce__',\n",
              " '__reduce_ex__',\n",
              " '__repr__',\n",
              " '__setattr__',\n",
              " '__setstate__',\n",
              " '__sizeof__',\n",
              " '__slots__',\n",
              " '__str__',\n",
              " '__subclasshook__',\n",
              " '_bind',\n",
              " '_bound_arguments_cls',\n",
              " '_hash_basis',\n",
              " '_parameter_cls',\n",
              " '_parameters',\n",
              " '_return_annotation',\n",
              " 'bind',\n",
              " 'bind_partial',\n",
              " 'empty',\n",
              " 'from_builtin',\n",
              " 'from_callable',\n",
              " 'from_function',\n",
              " 'parameters',\n",
              " 'replace',\n",
              " 'return_annotation']"
            ]
          },
          "metadata": {
            "tags": []
          },
          "execution_count": 143
        }
      ]
    },
    {
      "cell_type": "code",
      "metadata": {
        "tags": [],
        "cell_id": "00101-f350ec8d-9f0a-4444-9027-0eae543260b3",
        "deepnote_to_be_reexecuted": false,
        "source_hash": "e21cfd72",
        "execution_millis": 56,
        "execution_start": 1612578549047,
        "deepnote_cell_type": "code",
        "id": "5ssStIAbopkU",
        "outputId": "f5597596-fe04-4311-c5cf-42ab78ecb819"
      },
      "source": [
        "for param_name, param in sig.parameters.items():\n",
        "    print(param_name, param)"
      ],
      "execution_count": null,
      "outputs": [
        {
          "output_type": "stream",
          "text": [
            "a a: 'a string'\n",
            "b b: int = 1\n",
            "args *args: 'additional argument args'\n",
            "kw1 kw1: 'first keyword only arg'\n",
            "kw2 kw2: 'second keyword only arg'\n",
            "kwargs **kwargs: 'additional keyword only args'\n"
          ],
          "name": "stdout"
        }
      ]
    },
    {
      "cell_type": "code",
      "metadata": {
        "tags": [],
        "cell_id": "00102-5dd635d8-eef6-4ea9-a0ac-0621f0ead19b",
        "deepnote_to_be_reexecuted": false,
        "source_hash": "10d30cf3",
        "execution_millis": 14,
        "execution_start": 1612578928199,
        "deepnote_cell_type": "code",
        "id": "AdjdCHcJopkU",
        "outputId": "ac226a8b-f6ea-4c79-b9b5-cb4406a73a60"
      },
      "source": [
        "def print_into(f: \"callable\") -> None:\n",
        "    print(f.__name__)\n",
        "    print('=' * len(f.__name__), end = '\\n\\n')\n",
        "    print(f'{inspect.getcomments(f)}\\n{inspect.cleandoc(f.__doc__)}')\n",
        "    print(f'Inputs\\n{\"-\"*len(\"Inputs\")}')\n",
        "\n",
        "    sig = inspect.signature(f)\n",
        "    for param in sig.parameters.values():\n",
        "        print(\"Name:\", param.name)\n",
        "        print(\"default:\", param.default)\n",
        "        print(\"annotation:\", param.annotation)\n",
        "        print(\"kind:\", param.kind)\n",
        "        print('----------------------------\\n')\n",
        "\n",
        "    print(f'\\n\\nOutput {\"-\"*len(\"Output\")}')\n",
        "    print(sig.return_annotation)\n",
        "\n",
        "print_into(my_func)"
      ],
      "execution_count": null,
      "outputs": [
        {
          "output_type": "stream",
          "text": [
            "my_func\n",
            "=======\n",
            "\n",
            "# TODO: Provide implementation\n",
            "\n",
            "does something\n",
            "or ther other\n",
            "Inputs\n",
            "------\n",
            "Name: a\n",
            "default: <class 'inspect._empty'>\n",
            "annotation: a string\n",
            "kind: POSITIONAL_OR_KEYWORD\n",
            "----------------------------\n",
            "\n",
            "Name: b\n",
            "default: 1\n",
            "annotation: <class 'int'>\n",
            "kind: POSITIONAL_OR_KEYWORD\n",
            "----------------------------\n",
            "\n",
            "Name: args\n",
            "default: <class 'inspect._empty'>\n",
            "annotation: additional argument args\n",
            "kind: VAR_POSITIONAL\n",
            "----------------------------\n",
            "\n",
            "Name: kw1\n",
            "default: <class 'inspect._empty'>\n",
            "annotation: first keyword only arg\n",
            "kind: KEYWORD_ONLY\n",
            "----------------------------\n",
            "\n",
            "Name: kw2\n",
            "default: <class 'inspect._empty'>\n",
            "annotation: second keyword only arg\n",
            "kind: KEYWORD_ONLY\n",
            "----------------------------\n",
            "\n",
            "Name: kwargs\n",
            "default: <class 'inspect._empty'>\n",
            "annotation: additional keyword only args\n",
            "kind: VAR_KEYWORD\n",
            "----------------------------\n",
            "\n",
            "\n",
            "\n",
            "Output ------\n",
            "<class 'str'>\n"
          ],
          "name": "stdout"
        }
      ]
    },
    {
      "cell_type": "code",
      "metadata": {
        "tags": [],
        "cell_id": "00103-e56618fe-e318-496a-8652-5b1e49ac9fe5",
        "deepnote_to_be_reexecuted": false,
        "source_hash": "67756e29",
        "execution_start": 1612579004762,
        "execution_millis": 9,
        "deepnote_cell_type": "code",
        "id": "iSsewKA1opkU",
        "outputId": "83e53090-eb7a-4b60-982a-267fae0fc2e2"
      },
      "source": [
        "help(divmod)"
      ],
      "execution_count": null,
      "outputs": [
        {
          "output_type": "stream",
          "text": [
            "Help on built-in function divmod in module builtins:\n",
            "\n",
            "divmod(x, y, /)\n",
            "    Return the tuple (x//y, x%y).  Invariant: div*y + mod == x.\n",
            "\n"
          ],
          "name": "stdout"
        }
      ]
    },
    {
      "cell_type": "code",
      "metadata": {
        "tags": [],
        "cell_id": "00104-26299e16-adb4-4918-83d0-8a5b6a3c12e3",
        "deepnote_to_be_reexecuted": false,
        "source_hash": "bd1b1e07",
        "execution_start": 1612579017765,
        "execution_millis": 14,
        "deepnote_cell_type": "code",
        "id": "bCHMg7f8opkU",
        "outputId": "97144b31-f333-4270-d785-24394f783f09"
      },
      "source": [
        "divmod(10, 3)"
      ],
      "execution_count": null,
      "outputs": [
        {
          "output_type": "execute_result",
          "data": {
            "text/plain": [
              "(3, 1)"
            ]
          },
          "metadata": {
            "tags": []
          },
          "execution_count": 156
        }
      ]
    },
    {
      "cell_type": "code",
      "metadata": {
        "tags": [],
        "cell_id": "00105-02e7fb63-cdfe-4ff4-ab76-7904cf6bbe61",
        "deepnote_to_be_reexecuted": false,
        "source_hash": "908c080f",
        "execution_start": 1612579038981,
        "execution_millis": 13,
        "deepnote_cell_type": "code",
        "id": "dMwiHudBopkV",
        "outputId": "67e1d06e-d3c0-4dd1-d566-6bab32f977f7"
      },
      "source": [
        "divmod(x = 10, y = 3)"
      ],
      "execution_count": null,
      "outputs": [
        {
          "output_type": "error",
          "ename": "TypeError",
          "evalue": "divmod() takes no keyword arguments",
          "traceback": [
            "\u001b[0;31m---------------------------------------------------------------------------\u001b[0m",
            "\u001b[0;31mTypeError\u001b[0m                                 Traceback (most recent call last)",
            "\u001b[0;32m<ipython-input-157-aeb448ab4ec4>\u001b[0m in \u001b[0;36m<module>\u001b[0;34m\u001b[0m\n\u001b[0;32m----> 1\u001b[0;31m \u001b[0mdivmod\u001b[0m\u001b[0;34m(\u001b[0m\u001b[0mx\u001b[0m \u001b[0;34m=\u001b[0m \u001b[0;36m10\u001b[0m\u001b[0;34m,\u001b[0m \u001b[0my\u001b[0m \u001b[0;34m=\u001b[0m \u001b[0;36m3\u001b[0m\u001b[0;34m)\u001b[0m\u001b[0;34m\u001b[0m\u001b[0;34m\u001b[0m\u001b[0m\n\u001b[0m",
            "\u001b[0;31mTypeError\u001b[0m: divmod() takes no keyword arguments"
          ]
        }
      ]
    },
    {
      "cell_type": "code",
      "metadata": {
        "tags": [],
        "cell_id": "00106-16b547b0-57b1-4226-ab90-49d53d4c0e8a",
        "deepnote_to_be_reexecuted": false,
        "source_hash": "df9c1ea7",
        "execution_millis": 9,
        "execution_start": 1612579071220,
        "deepnote_cell_type": "code",
        "id": "oichn6j9opkV",
        "outputId": "7b7a0f09-0929-499e-a24f-dbc3db690ab7"
      },
      "source": [
        "'rohan'.replace('ro', 'mo')"
      ],
      "execution_count": null,
      "outputs": [
        {
          "output_type": "execute_result",
          "data": {
            "text/plain": [
              "'mohan'"
            ]
          },
          "metadata": {
            "tags": []
          },
          "execution_count": 159
        }
      ]
    },
    {
      "cell_type": "code",
      "metadata": {
        "tags": [],
        "cell_id": "00107-efe8a3be-cb51-433b-9431-397febd28ca1",
        "deepnote_to_be_reexecuted": false,
        "source_hash": "96df9924",
        "execution_start": 1612579083470,
        "execution_millis": 13,
        "deepnote_cell_type": "code",
        "id": "LKwyo9VxopkV",
        "outputId": "55ece819-6984-4a8e-f282-7e17ea28a24b"
      },
      "source": [
        "help(str.replace)"
      ],
      "execution_count": null,
      "outputs": [
        {
          "output_type": "stream",
          "text": [
            "Help on method_descriptor:\n",
            "\n",
            "replace(self, old, new, count=-1, /)\n",
            "    Return a copy with all occurrences of substring old replaced by new.\n",
            "    \n",
            "      count\n",
            "        Maximum number of occurrences to replace.\n",
            "        -1 (the default value) means replace all occurrences.\n",
            "    \n",
            "    If the optional argument count is given, only the first count occurrences are\n",
            "    replaced.\n",
            "\n"
          ],
          "name": "stdout"
        }
      ]
    },
    {
      "cell_type": "code",
      "metadata": {
        "tags": [],
        "cell_id": "00108-417f2945-bc3d-4288-b218-7c7780b0e4c0",
        "deepnote_to_be_reexecuted": false,
        "source_hash": "f5820508",
        "execution_start": 1612579117995,
        "execution_millis": 29,
        "deepnote_cell_type": "code",
        "id": "3MprpnlCopkV",
        "outputId": "3451e47b-1b24-43a3-b1e4-a70abcacc842"
      },
      "source": [
        "'rohan'.replace(old = 'ro', new = 'mo')"
      ],
      "execution_count": null,
      "outputs": [
        {
          "output_type": "error",
          "ename": "TypeError",
          "evalue": "replace() takes no keyword arguments",
          "traceback": [
            "\u001b[0;31m---------------------------------------------------------------------------\u001b[0m",
            "\u001b[0;31mTypeError\u001b[0m                                 Traceback (most recent call last)",
            "\u001b[0;32m<ipython-input-161-159784f3b97a>\u001b[0m in \u001b[0;36m<module>\u001b[0;34m\u001b[0m\n\u001b[0;32m----> 1\u001b[0;31m \u001b[0;34m'rohan'\u001b[0m\u001b[0;34m.\u001b[0m\u001b[0mreplace\u001b[0m\u001b[0;34m(\u001b[0m\u001b[0mold\u001b[0m \u001b[0;34m=\u001b[0m \u001b[0;34m'ro'\u001b[0m\u001b[0;34m,\u001b[0m \u001b[0mnew\u001b[0m \u001b[0;34m=\u001b[0m \u001b[0;34m'mo'\u001b[0m\u001b[0;34m)\u001b[0m\u001b[0;34m\u001b[0m\u001b[0;34m\u001b[0m\u001b[0m\n\u001b[0m",
            "\u001b[0;31mTypeError\u001b[0m: replace() takes no keyword arguments"
          ]
        }
      ]
    },
    {
      "cell_type": "code",
      "metadata": {
        "tags": [],
        "cell_id": "00109-8d61a404-4aba-4d76-ab50-78df816f40e9",
        "deepnote_to_be_reexecuted": false,
        "source_hash": "71263d92",
        "execution_start": 1612579203358,
        "execution_millis": 29,
        "deepnote_cell_type": "code",
        "id": "J9osFOFaopkV",
        "outputId": "73961b6a-7751-433d-8866-820c898a537e"
      },
      "source": [
        "callable(print)"
      ],
      "execution_count": null,
      "outputs": [
        {
          "output_type": "execute_result",
          "data": {
            "text/plain": [
              "True"
            ]
          },
          "metadata": {
            "tags": []
          },
          "execution_count": 162
        }
      ]
    },
    {
      "cell_type": "code",
      "metadata": {
        "tags": [],
        "cell_id": "00110-e7dc8af3-7d6e-43e1-9232-e3748da88b43",
        "deepnote_to_be_reexecuted": false,
        "source_hash": "b17f82b",
        "execution_start": 1612579209154,
        "execution_millis": 6,
        "deepnote_cell_type": "code",
        "id": "A3qgjryuopkW",
        "outputId": "a064d26c-b448-4fc1-9dd0-abaa920f1049"
      },
      "source": [
        "callable(len)"
      ],
      "execution_count": null,
      "outputs": [
        {
          "output_type": "execute_result",
          "data": {
            "text/plain": [
              "True"
            ]
          },
          "metadata": {
            "tags": []
          },
          "execution_count": 163
        }
      ]
    },
    {
      "cell_type": "code",
      "metadata": {
        "tags": [],
        "cell_id": "00111-ac3822a7-b403-4f25-8669-327953a85424",
        "deepnote_to_be_reexecuted": false,
        "source_hash": "b57e208c",
        "execution_millis": 9,
        "execution_start": 1612579225710,
        "deepnote_cell_type": "code",
        "id": "mh6mlcdSopkW",
        "outputId": "c254be2e-40d2-40bd-b7c9-cc6c5f3631e8"
      },
      "source": [
        "l = [1, 2, 3]\n",
        "callable(l.append)"
      ],
      "execution_count": null,
      "outputs": [
        {
          "output_type": "execute_result",
          "data": {
            "text/plain": [
              "True"
            ]
          },
          "metadata": {
            "tags": []
          },
          "execution_count": 165
        }
      ]
    },
    {
      "cell_type": "code",
      "metadata": {
        "tags": [],
        "cell_id": "00112-79f5816f-c1be-402e-852e-ad9e58c0919c",
        "deepnote_to_be_reexecuted": false,
        "source_hash": "be24317d",
        "execution_start": 1612579237191,
        "execution_millis": 9,
        "deepnote_cell_type": "code",
        "id": "EJV04N88opkW",
        "outputId": "520640a4-a479-4dd8-fb25-cc86b298bdb6"
      },
      "source": [
        "s = 'abc'\n",
        "\n",
        "callable(s.upper)"
      ],
      "execution_count": null,
      "outputs": [
        {
          "output_type": "execute_result",
          "data": {
            "text/plain": [
              "True"
            ]
          },
          "metadata": {
            "tags": []
          },
          "execution_count": 166
        }
      ]
    },
    {
      "cell_type": "code",
      "metadata": {
        "tags": [],
        "cell_id": "00113-692ef9ce-af78-4660-b093-76632f5279f0",
        "deepnote_to_be_reexecuted": false,
        "source_hash": "dd17e8e2",
        "execution_start": 1612579256715,
        "execution_millis": 8,
        "deepnote_cell_type": "code",
        "id": "YIr0pcDAopkb",
        "outputId": "da88ddd5-9a6d-4281-ea47-f1c0a915ec64"
      },
      "source": [
        "result = print('hello')\n",
        "print(result)"
      ],
      "execution_count": null,
      "outputs": [
        {
          "output_type": "stream",
          "text": [
            "hello\n",
            "None\n"
          ],
          "name": "stdout"
        }
      ]
    },
    {
      "cell_type": "code",
      "metadata": {
        "tags": [],
        "cell_id": "00114-a00994ae-5c5a-40bc-bbfa-d3b4d1042cbc",
        "deepnote_to_be_reexecuted": false,
        "source_hash": "da6afb53",
        "execution_start": 1612579304615,
        "execution_millis": 9,
        "deepnote_cell_type": "code",
        "id": "J2KRQ82mopkb",
        "outputId": "99a9ec4b-e18a-4fcf-db2a-ec655aaa3b14"
      },
      "source": [
        "l = [1, 2, 3]\n",
        "result = l.append(4)\n",
        "print(result)\n",
        "print(l)\n"
      ],
      "execution_count": null,
      "outputs": [
        {
          "output_type": "stream",
          "text": [
            "None\n",
            "[1, 2, 3, 4]\n"
          ],
          "name": "stdout"
        }
      ]
    },
    {
      "cell_type": "code",
      "metadata": {
        "tags": [],
        "cell_id": "00115-d4628c45-31d6-4ea3-a22e-84a6338afcfa",
        "deepnote_to_be_reexecuted": false,
        "source_hash": "f57aebca",
        "execution_start": 1612579343059,
        "execution_millis": 12,
        "deepnote_cell_type": "code",
        "id": "5mQc88PVopkb",
        "outputId": "217deb6e-4497-4d2b-833e-391413717f8e"
      },
      "source": [
        "s = 'abc'\n",
        "result = s.upper()\n",
        "print(result)"
      ],
      "execution_count": null,
      "outputs": [
        {
          "output_type": "stream",
          "text": [
            "ABC\n"
          ],
          "name": "stdout"
        }
      ]
    },
    {
      "cell_type": "code",
      "metadata": {
        "tags": [],
        "cell_id": "00116-1bcf8303-04ad-41c5-a94d-e22d250a949d",
        "deepnote_to_be_reexecuted": false,
        "source_hash": "e85ba59b",
        "execution_start": 1612579365970,
        "execution_millis": 8,
        "deepnote_cell_type": "code",
        "id": "7xyDvHPVopkb",
        "outputId": "15fb7755-39ce-40c8-bb10-fb44dd2b5db3"
      },
      "source": [
        "from decimal import Decimal\n",
        "\n",
        "callable(Decimal)"
      ],
      "execution_count": null,
      "outputs": [
        {
          "output_type": "execute_result",
          "data": {
            "text/plain": [
              "True"
            ]
          },
          "metadata": {
            "tags": []
          },
          "execution_count": 170
        }
      ]
    },
    {
      "cell_type": "code",
      "metadata": {
        "tags": [],
        "cell_id": "00117-8b3f05db-6890-48fd-a388-e74ca877c097",
        "deepnote_to_be_reexecuted": false,
        "source_hash": "32a097d6",
        "execution_start": 1612579380650,
        "execution_millis": 13,
        "deepnote_cell_type": "code",
        "id": "44ViRsgbopkb",
        "outputId": "1a74a809-1366-48bb-eb03-56ffe026cd8a"
      },
      "source": [
        "result = Decimal('10.5')\n",
        "print(result)"
      ],
      "execution_count": null,
      "outputs": [
        {
          "output_type": "stream",
          "text": [
            "10.5\n"
          ],
          "name": "stdout"
        }
      ]
    },
    {
      "cell_type": "code",
      "metadata": {
        "tags": [],
        "cell_id": "00118-e94be776-aad8-4d97-bdc2-db534b39a73e",
        "deepnote_to_be_reexecuted": false,
        "source_hash": "d6b747bb",
        "execution_start": 1612579433161,
        "execution_millis": 2,
        "deepnote_cell_type": "code",
        "id": "50HCEaXoopkc"
      },
      "source": [
        "class MyClass:\n",
        "    def __init__(self):\n",
        "        print('initialzing ... ')\n",
        "        self.counter = 0\n",
        "\n",
        "    def __call__(self, x = 1):\n",
        "        self.counter += x\n",
        "        print(self.counter)"
      ],
      "execution_count": null,
      "outputs": []
    },
    {
      "cell_type": "code",
      "metadata": {
        "tags": [],
        "cell_id": "00119-1b631673-d0cc-4f06-a133-e05238777415",
        "deepnote_to_be_reexecuted": false,
        "source_hash": "b8a69391",
        "execution_start": 1612579462097,
        "execution_millis": 9,
        "deepnote_cell_type": "code",
        "id": "Ucy9E7lMopkc",
        "outputId": "73a32aba-9e40-48a0-d916-cb6f64d33354"
      },
      "source": [
        "my_obj = MyClass()"
      ],
      "execution_count": null,
      "outputs": [
        {
          "output_type": "stream",
          "text": [
            "initialzing ... \n"
          ],
          "name": "stdout"
        }
      ]
    },
    {
      "cell_type": "code",
      "metadata": {
        "tags": [],
        "cell_id": "00120-9b103115-c446-46ce-bd19-5451d59f8b55",
        "deepnote_to_be_reexecuted": false,
        "source_hash": "10f6692d",
        "execution_millis": 8,
        "execution_start": 1612579499609,
        "deepnote_cell_type": "code",
        "id": "gSoHFxnDopkc",
        "outputId": "441449ba-a83e-4295-b6f3-00ef64cb341e"
      },
      "source": [
        "callable(my_obj.__call__)"
      ],
      "execution_count": null,
      "outputs": [
        {
          "output_type": "execute_result",
          "data": {
            "text/plain": [
              "True"
            ]
          },
          "metadata": {
            "tags": []
          },
          "execution_count": 175
        }
      ]
    },
    {
      "cell_type": "code",
      "metadata": {
        "tags": [],
        "cell_id": "00121-088bfb01-59b2-4be8-ae03-2551b55dba6c",
        "deepnote_to_be_reexecuted": false,
        "source_hash": "6e709053",
        "execution_start": 1612579506175,
        "execution_millis": 13,
        "deepnote_cell_type": "code",
        "id": "VvX-bCOeopkc",
        "outputId": "018a667a-a8d5-43e9-89fa-69c611f76c01"
      },
      "source": [
        "my_obj()"
      ],
      "execution_count": null,
      "outputs": [
        {
          "output_type": "stream",
          "text": [
            "1\n"
          ],
          "name": "stdout"
        }
      ]
    },
    {
      "cell_type": "code",
      "metadata": {
        "tags": [],
        "cell_id": "00122-557ccca6-cdd9-4c1f-9a00-15ade9333504",
        "deepnote_to_be_reexecuted": false,
        "source_hash": "91c8d9d9",
        "execution_start": 1612579540721,
        "execution_millis": 7,
        "deepnote_cell_type": "code",
        "id": "29NHHtvsopkc",
        "outputId": "b133d5dd-9db6-4cb8-dc3f-6106be545663"
      },
      "source": [
        "my_obj(10)"
      ],
      "execution_count": null,
      "outputs": [
        {
          "output_type": "stream",
          "text": [
            "11\n"
          ],
          "name": "stdout"
        }
      ]
    },
    {
      "cell_type": "code",
      "metadata": {
        "tags": [],
        "cell_id": "00123-0813537e-5d33-44b5-918d-b2b115332899",
        "deepnote_to_be_reexecuted": false,
        "source_hash": "d0e8bea6",
        "execution_start": 1612579558896,
        "execution_millis": 13,
        "deepnote_cell_type": "code",
        "id": "LbUeSA4Topkd",
        "outputId": "4ac8edfe-476c-4ca1-96e6-0e403bbf47c0"
      },
      "source": [
        "class MyClass:\n",
        "    def __init__(self):\n",
        "        print('initialzing ... ')\n",
        "        self.counter = 0\n",
        "\n",
        "my_obj = MyClass()"
      ],
      "execution_count": null,
      "outputs": [
        {
          "output_type": "stream",
          "text": [
            "initialzing ... \n"
          ],
          "name": "stdout"
        }
      ]
    },
    {
      "cell_type": "code",
      "metadata": {
        "tags": [],
        "cell_id": "00124-562fdc78-2e0b-44e5-a8e8-82045a7fae27",
        "deepnote_to_be_reexecuted": false,
        "source_hash": "6e709053",
        "execution_start": 1612579564828,
        "execution_millis": 15,
        "deepnote_cell_type": "code",
        "id": "ku3rXgLkopkd",
        "outputId": "55257db2-ef22-45f8-daaa-f1ea89a7052a"
      },
      "source": [
        "my_obj()"
      ],
      "execution_count": null,
      "outputs": [
        {
          "output_type": "error",
          "ename": "TypeError",
          "evalue": "'MyClass' object is not callable",
          "traceback": [
            "\u001b[0;31m---------------------------------------------------------------------------\u001b[0m",
            "\u001b[0;31mTypeError\u001b[0m                                 Traceback (most recent call last)",
            "\u001b[0;32m<ipython-input-179-337cbf13e7e7>\u001b[0m in \u001b[0;36m<module>\u001b[0;34m\u001b[0m\n\u001b[0;32m----> 1\u001b[0;31m \u001b[0mmy_obj\u001b[0m\u001b[0;34m(\u001b[0m\u001b[0;34m)\u001b[0m\u001b[0;34m\u001b[0m\u001b[0;34m\u001b[0m\u001b[0m\n\u001b[0m",
            "\u001b[0;31mTypeError\u001b[0m: 'MyClass' object is not callable"
          ]
        }
      ]
    },
    {
      "cell_type": "markdown",
      "metadata": {
        "tags": [],
        "cell_id": "00125-81406465-4bee-47f6-8ef2-2dac94a9af40",
        "deepnote_cell_type": "markdown",
        "id": "q3jWOVaGopkd"
      },
      "source": [
        "### Higher-Order Functions: Map and Filter"
      ]
    },
    {
      "cell_type": "code",
      "metadata": {
        "tags": [],
        "cell_id": "00125-12d6a33e-3a59-4433-97bd-50acbe59fa7b",
        "deepnote_to_be_reexecuted": false,
        "source_hash": "6dd480d3",
        "execution_start": 1612579663811,
        "execution_millis": 10,
        "deepnote_cell_type": "code",
        "id": "3mxmmDzfopkd",
        "outputId": "e16d21c7-5556-40ad-aadb-415125ad4ff7"
      },
      "source": [
        "help(map)"
      ],
      "execution_count": null,
      "outputs": [
        {
          "output_type": "stream",
          "text": [
            "Help on class map in module builtins:\n",
            "\n",
            "class map(object)\n",
            " |  map(func, *iterables) --> map object\n",
            " |  \n",
            " |  Make an iterator that computes the function using arguments from\n",
            " |  each of the iterables.  Stops when the shortest iterable is exhausted.\n",
            " |  \n",
            " |  Methods defined here:\n",
            " |  \n",
            " |  __getattribute__(self, name, /)\n",
            " |      Return getattr(self, name).\n",
            " |  \n",
            " |  __iter__(self, /)\n",
            " |      Implement iter(self).\n",
            " |  \n",
            " |  __next__(self, /)\n",
            " |      Implement next(self).\n",
            " |  \n",
            " |  __reduce__(...)\n",
            " |      Return state information for pickling.\n",
            " |  \n",
            " |  ----------------------------------------------------------------------\n",
            " |  Static methods defined here:\n",
            " |  \n",
            " |  __new__(*args, **kwargs) from builtins.type\n",
            " |      Create and return a new object.  See help(type) for accurate signature.\n",
            "\n"
          ],
          "name": "stdout"
        }
      ]
    },
    {
      "cell_type": "code",
      "metadata": {
        "tags": [],
        "cell_id": "00127-026ce2a5-fa47-4e34-80fe-1a16ce921582",
        "deepnote_to_be_reexecuted": false,
        "source_hash": "28989d44",
        "execution_start": 1612579696930,
        "execution_millis": 58,
        "deepnote_cell_type": "code",
        "id": "RsfSWxVZopkd",
        "outputId": "464425ba-0d7d-40fb-a97f-1281f24e0f82"
      },
      "source": [
        "def fact(n):\n",
        "    return 1 if n < 2 else n * fact(n-1)\n",
        "\n",
        "fact(3)"
      ],
      "execution_count": null,
      "outputs": [
        {
          "output_type": "execute_result",
          "data": {
            "text/plain": [
              "6"
            ]
          },
          "metadata": {
            "tags": []
          },
          "execution_count": 181
        }
      ]
    },
    {
      "cell_type": "code",
      "metadata": {
        "tags": [],
        "cell_id": "00128-2342148d-efc2-4c95-8703-7bd159bd2b25",
        "deepnote_to_be_reexecuted": false,
        "source_hash": "8c495db2",
        "execution_start": 1612579719037,
        "execution_millis": 7,
        "deepnote_cell_type": "code",
        "id": "yIsjw0ezopke",
        "outputId": "3d0d697c-0317-423f-ee13-a826a0e04606"
      },
      "source": [
        "map(fact, [1, 2, 3, 4, 5])"
      ],
      "execution_count": null,
      "outputs": [
        {
          "output_type": "execute_result",
          "data": {
            "text/plain": [
              "<map at 0x7f1b854737d0>"
            ]
          },
          "metadata": {
            "tags": []
          },
          "execution_count": 182
        }
      ]
    },
    {
      "cell_type": "code",
      "metadata": {
        "tags": [],
        "cell_id": "00129-5733c13a-b41e-4d3b-9d06-490ddf0bd92e",
        "deepnote_to_be_reexecuted": false,
        "source_hash": "1173490f",
        "execution_start": 1612579803348,
        "execution_millis": 10,
        "deepnote_cell_type": "code",
        "id": "TU4HpuiMopke",
        "outputId": "a1bd497c-9254-4811-a514-094db6ec4ec5"
      },
      "source": [
        "list(map(fact, [1, 2, 3, 4, 5]))"
      ],
      "execution_count": null,
      "outputs": [
        {
          "output_type": "execute_result",
          "data": {
            "text/plain": [
              "[1, 2, 6, 24, 120]"
            ]
          },
          "metadata": {
            "tags": []
          },
          "execution_count": 183
        }
      ]
    },
    {
      "cell_type": "code",
      "metadata": {
        "tags": [],
        "cell_id": "00130-584ee9f3-b28e-4bd1-9103-278811edc134",
        "deepnote_to_be_reexecuted": false,
        "source_hash": "54906411",
        "execution_start": 1612580001860,
        "execution_millis": 95,
        "deepnote_cell_type": "code",
        "id": "t363JdE5opke",
        "outputId": "0a3d6d6f-6563-4bf6-e7fa-0fa77675595a"
      },
      "source": [
        "l1 = [1, 2, 3, 4, 5]\n",
        "l2 = [10, 20, 30, 40, 50]\n",
        "\n",
        "f = lambda x, y: x + y\n",
        "\n",
        "m = map(f, l1, l2) #no computation, just a lasy object\n",
        "list(m) # here computation happens"
      ],
      "execution_count": null,
      "outputs": [
        {
          "output_type": "execute_result",
          "data": {
            "text/plain": [
              "[11, 22, 33, 44, 55]"
            ]
          },
          "metadata": {
            "tags": []
          },
          "execution_count": 184
        }
      ]
    },
    {
      "cell_type": "code",
      "metadata": {
        "tags": [],
        "cell_id": "00131-9ab74671-826f-4653-9220-140f7fc03dc9",
        "deepnote_to_be_reexecuted": false,
        "source_hash": "5ad0f22c",
        "execution_start": 1612580102358,
        "execution_millis": 12,
        "deepnote_cell_type": "code",
        "id": "kD4e3ybnopke",
        "outputId": "46b54cdc-8640-4d00-d535-f92d5bd858a2"
      },
      "source": [
        "# map which gives sq or a list [1, 2, 3, 4] >> [1, 4, 9, 16]\n",
        "list(map(lambda x: x**2, [1, 2, 3, 4]))"
      ],
      "execution_count": null,
      "outputs": [
        {
          "output_type": "execute_result",
          "data": {
            "text/plain": [
              "[1, 4, 9, 16]"
            ]
          },
          "metadata": {
            "tags": []
          },
          "execution_count": 185
        }
      ]
    },
    {
      "cell_type": "code",
      "metadata": {
        "tags": [],
        "cell_id": "00132-4fae42b2-1d47-44e1-b881-e88b96b0e6fe",
        "deepnote_to_be_reexecuted": false,
        "source_hash": "1300d70b",
        "execution_start": 1612580120446,
        "execution_millis": 12,
        "deepnote_cell_type": "code",
        "id": "31xYIzHZopke",
        "outputId": "17390d1a-6514-482a-8459-99772139e129"
      },
      "source": [
        "help(filter)"
      ],
      "execution_count": null,
      "outputs": [
        {
          "output_type": "stream",
          "text": [
            "Help on class filter in module builtins:\n",
            "\n",
            "class filter(object)\n",
            " |  filter(function or None, iterable) --> filter object\n",
            " |  \n",
            " |  Return an iterator yielding those items of iterable for which function(item)\n",
            " |  is true. If function is None, return the items that are true.\n",
            " |  \n",
            " |  Methods defined here:\n",
            " |  \n",
            " |  __getattribute__(self, name, /)\n",
            " |      Return getattr(self, name).\n",
            " |  \n",
            " |  __iter__(self, /)\n",
            " |      Implement iter(self).\n",
            " |  \n",
            " |  __next__(self, /)\n",
            " |      Implement next(self).\n",
            " |  \n",
            " |  __reduce__(...)\n",
            " |      Return state information for pickling.\n",
            " |  \n",
            " |  ----------------------------------------------------------------------\n",
            " |  Static methods defined here:\n",
            " |  \n",
            " |  __new__(*args, **kwargs) from builtins.type\n",
            " |      Create and return a new object.  See help(type) for accurate signature.\n",
            "\n"
          ],
          "name": "stdout"
        }
      ]
    },
    {
      "cell_type": "code",
      "metadata": {
        "tags": [],
        "cell_id": "00133-13b6b63d-bb78-4fa1-aa31-0e3391e13c0c",
        "deepnote_to_be_reexecuted": false,
        "source_hash": "8ff2422d",
        "execution_millis": 30,
        "execution_start": 1612580213443,
        "deepnote_cell_type": "code",
        "id": "ng6SSCF6opkf",
        "outputId": "f359ceb6-b4ac-48d6-98c1-394dced05417"
      },
      "source": [
        "l = [0, 1, 1, 0, 1, False, True]\n",
        "list(filter(None, l))"
      ],
      "execution_count": null,
      "outputs": [
        {
          "output_type": "execute_result",
          "data": {
            "text/plain": [
              "[1, 1, 1, True]"
            ]
          },
          "metadata": {
            "tags": []
          },
          "execution_count": 189
        }
      ]
    },
    {
      "cell_type": "code",
      "metadata": {
        "tags": [],
        "cell_id": "00134-49a2e2c4-2279-4369-b4f7-c4e1a96ad752",
        "deepnote_to_be_reexecuted": false,
        "source_hash": "e491e330",
        "execution_millis": 21,
        "execution_start": 1612580254227,
        "deepnote_cell_type": "code",
        "id": "T90-7qe3opkf",
        "outputId": "60a091ab-8a0f-4384-98a2-75120e0ce3cd"
      },
      "source": [
        "l = [0, 1, 1, 0, 1, False, True] # [-1, 0, 0, -1, 0, -1, 0]\n",
        "list(filter(lambda x: x - 1, l)) # [0, 0, False]"
      ],
      "execution_count": null,
      "outputs": [
        {
          "output_type": "execute_result",
          "data": {
            "text/plain": [
              "[0, 0, False]"
            ]
          },
          "metadata": {
            "tags": []
          },
          "execution_count": 191
        }
      ]
    },
    {
      "cell_type": "code",
      "metadata": {
        "tags": [],
        "cell_id": "00135-e922acfc-bd22-4ff5-b5f9-d8dc8f64b4d1",
        "deepnote_to_be_reexecuted": false,
        "source_hash": "6922a97f",
        "execution_millis": 11,
        "execution_start": 1612580311632,
        "deepnote_cell_type": "code",
        "id": "8lw4m1vWopkf",
        "outputId": "55ac43a4-4c69-48c3-d9e1-ccf832429e62"
      },
      "source": [
        "bool(-1)"
      ],
      "execution_count": null,
      "outputs": [
        {
          "output_type": "execute_result",
          "data": {
            "text/plain": [
              "True"
            ]
          },
          "metadata": {
            "tags": []
          },
          "execution_count": 194
        }
      ]
    },
    {
      "cell_type": "code",
      "metadata": {
        "tags": [],
        "cell_id": "00136-34bf9a14-3fa3-4dec-917c-e4cc0f414688",
        "deepnote_to_be_reexecuted": false,
        "source_hash": "128154a9",
        "execution_start": 1612580362710,
        "execution_millis": 12,
        "deepnote_cell_type": "code",
        "id": "Nt8SVZZ6opkg",
        "outputId": "37a5f258-3fbf-4112-ae2e-7b337d406b13"
      },
      "source": [
        "l = [0, 1, 2, 3, 4, 5, 6]\n",
        "\n",
        "for e in filter(None, l): # for e in range(10)\n",
        "    print(e)"
      ],
      "execution_count": null,
      "outputs": [
        {
          "output_type": "stream",
          "text": [
            "1\n",
            "2\n",
            "3\n",
            "4\n",
            "5\n",
            "6\n"
          ],
          "name": "stdout"
        }
      ]
    },
    {
      "cell_type": "code",
      "metadata": {
        "tags": [],
        "cell_id": "00137-869e9acf-855d-4207-b43f-479cff16de3b",
        "deepnote_to_be_reexecuted": false,
        "source_hash": "7b8e659b",
        "execution_millis": 12,
        "execution_start": 1612580523778,
        "deepnote_cell_type": "code",
        "id": "mxWdgNV3opkg",
        "outputId": "1459066d-bc61-4817-bcf4-3288db0cf240"
      },
      "source": [
        "l = [0, 1, 2, 3, 4, 5, 6]\n",
        "\n",
        "list(filter(lambda x: x%2 == 0, l))"
      ],
      "execution_count": null,
      "outputs": [
        {
          "output_type": "execute_result",
          "data": {
            "text/plain": [
              "[0, 2, 4, 6]"
            ]
          },
          "metadata": {
            "tags": []
          },
          "execution_count": 197
        }
      ]
    },
    {
      "cell_type": "code",
      "metadata": {
        "tags": [],
        "cell_id": "00138-4f59c662-63af-4a69-bb88-133a5a175600",
        "deepnote_to_be_reexecuted": false,
        "source_hash": "dbe3fdce",
        "execution_start": 1612580605115,
        "execution_millis": 9,
        "deepnote_cell_type": "code",
        "id": "fVKr7OJsopkh",
        "outputId": "4740d31a-3142-469e-9d56-74716552c261"
      },
      "source": [
        "# map and filter\n",
        "\n",
        "# these are obsolete!! \n",
        "\n",
        "# LC instead of Maps\n",
        "l = [1, 2, 3, 4, 5]\n",
        "\n",
        "[fact(i) for i in l]"
      ],
      "execution_count": null,
      "outputs": [
        {
          "output_type": "execute_result",
          "data": {
            "text/plain": [
              "[1, 2, 6, 24, 120]"
            ]
          },
          "metadata": {
            "tags": []
          },
          "execution_count": 198
        }
      ]
    },
    {
      "cell_type": "code",
      "metadata": {
        "tags": [],
        "cell_id": "00139-f37aa2c6-d12f-4833-a6f4-b5037bfe2f04",
        "deepnote_to_be_reexecuted": false,
        "source_hash": "5982df7c",
        "execution_start": 1612580650575,
        "execution_millis": 18,
        "deepnote_cell_type": "code",
        "id": "snkOJMOlopkh",
        "outputId": "47025ea9-ad94-44ce-9bfe-c7ccfcb93e6d"
      },
      "source": [
        "# LC replacement for Filter\n",
        "[fact(i) for i in l if fact(i)%2 == 0]"
      ],
      "execution_count": null,
      "outputs": [
        {
          "output_type": "execute_result",
          "data": {
            "text/plain": [
              "[2, 6, 24, 120]"
            ]
          },
          "metadata": {
            "tags": []
          },
          "execution_count": 199
        }
      ]
    },
    {
      "cell_type": "code",
      "metadata": {
        "tags": [],
        "cell_id": "00140-f029a03a-9c8c-4f0c-9114-0a869c970551",
        "deepnote_to_be_reexecuted": false,
        "source_hash": "3b935aed",
        "execution_millis": 7,
        "execution_start": 1612580768913,
        "deepnote_cell_type": "code",
        "id": "n-zghJsQopki",
        "outputId": "4372b852-25ac-4a4d-e2ff-44c9a4fa9678"
      },
      "source": [
        "whatisthis = (fact(i) for i in l)\n",
        "for e in whatisthis:\n",
        "    print(e)"
      ],
      "execution_count": null,
      "outputs": [
        {
          "output_type": "stream",
          "text": [
            "1\n",
            "2\n",
            "6\n",
            "24\n",
            "120\n"
          ],
          "name": "stdout"
        }
      ]
    },
    {
      "cell_type": "code",
      "metadata": {
        "tags": [],
        "cell_id": "00141-48ae2192-98c7-407b-b323-d178ab9f184c",
        "deepnote_to_be_reexecuted": false,
        "source_hash": "b8c2656b",
        "execution_start": 1612580772853,
        "execution_millis": 1,
        "deepnote_cell_type": "code",
        "id": "BxNygn2Bopki"
      },
      "source": [
        "for e in whatisthis:\n",
        "    print(e)"
      ],
      "execution_count": null,
      "outputs": []
    },
    {
      "cell_type": "code",
      "metadata": {
        "tags": [],
        "cell_id": "00142-e57198a5-fc7a-4023-ae2b-c1009c887edf",
        "deepnote_to_be_reexecuted": false,
        "source_hash": "33265f1a",
        "execution_start": 1612580796946,
        "execution_millis": 15,
        "deepnote_cell_type": "code",
        "id": "QRlR99IJopki",
        "outputId": "e8c19e3e-7930-467d-fcee-a39a89e9ce5c"
      },
      "source": [
        "r = range(10)\n",
        "\n",
        "for k in r:\n",
        "    print(k)"
      ],
      "execution_count": null,
      "outputs": [
        {
          "output_type": "stream",
          "text": [
            "0\n",
            "1\n",
            "2\n",
            "3\n",
            "4\n",
            "5\n",
            "6\n",
            "7\n",
            "8\n",
            "9\n"
          ],
          "name": "stdout"
        }
      ]
    },
    {
      "cell_type": "code",
      "metadata": {
        "tags": [],
        "cell_id": "00143-a2f41173-a289-4b04-a475-ba458b9026d7",
        "deepnote_to_be_reexecuted": false,
        "source_hash": "dadfe050",
        "execution_start": 1612580799449,
        "execution_millis": 11,
        "deepnote_cell_type": "code",
        "id": "-_mKcXqaopki",
        "outputId": "1935495d-312e-4e04-98eb-6a6156f2a0b4"
      },
      "source": [
        "\n",
        "for k in r:\n",
        "    print(k)"
      ],
      "execution_count": null,
      "outputs": [
        {
          "output_type": "stream",
          "text": [
            "0\n",
            "1\n",
            "2\n",
            "3\n",
            "4\n",
            "5\n",
            "6\n",
            "7\n",
            "8\n",
            "9\n"
          ],
          "name": "stdout"
        }
      ]
    },
    {
      "cell_type": "code",
      "metadata": {
        "tags": [],
        "cell_id": "00144-d48098d7-6d77-40a3-8119-d50c36929885",
        "deepnote_to_be_reexecuted": false,
        "source_hash": "6dcb73dc",
        "execution_millis": 7,
        "execution_start": 1612580876967,
        "deepnote_cell_type": "code",
        "id": "AKm_77yropki",
        "outputId": "04a94cac-9eaf-4321-d00c-8fe729341ed1"
      },
      "source": [
        "l1 = 1, 2, 3\n",
        "l2 = ['a', 'b', 'c']\n",
        "\n",
        "list(zip(l1, l2))"
      ],
      "execution_count": null,
      "outputs": [
        {
          "output_type": "execute_result",
          "data": {
            "text/plain": [
              "[(1, 'a'), (2, 'b'), (3, 'c')]"
            ]
          },
          "metadata": {
            "tags": []
          },
          "execution_count": 210
        }
      ]
    },
    {
      "cell_type": "code",
      "metadata": {
        "tags": [],
        "cell_id": "00145-6d158c6c-b9b6-4713-94eb-0b67d9ac01ec",
        "deepnote_to_be_reexecuted": false,
        "source_hash": "b782175f",
        "execution_start": 1612580889739,
        "execution_millis": 181,
        "deepnote_cell_type": "code",
        "id": "WAP5PJItopkj",
        "outputId": "a86fdce4-5ff4-4a68-9aca-d894b73b43b7"
      },
      "source": [
        "l1 = 1, 2, 3\n",
        "l2 = ['a', 'b', 'c', 'd']\n",
        "\n",
        "list(zip(l1, l2))"
      ],
      "execution_count": null,
      "outputs": [
        {
          "output_type": "execute_result",
          "data": {
            "text/plain": [
              "[(1, 'a'), (2, 'b'), (3, 'c')]"
            ]
          },
          "metadata": {
            "tags": []
          },
          "execution_count": 211
        }
      ]
    },
    {
      "cell_type": "code",
      "metadata": {
        "tags": [],
        "cell_id": "00146-37d9f307-152d-4d85-9515-e980f6861fe5",
        "deepnote_to_be_reexecuted": false,
        "source_hash": "80a8ebc9",
        "execution_start": 1612580909456,
        "execution_millis": 18,
        "deepnote_cell_type": "code",
        "id": "UfT3nl4wopkj",
        "outputId": "2aaf1918-ec29-4a0a-95b9-19f69cb2e14e"
      },
      "source": [
        "l1 = 1, 2, 3\n",
        "l2 = ['a', 'b', 'c', 'd']\n",
        "l3 = (1, 2, 3, 4, 5, 6, 7, 8)\n",
        "list(zip(l1, l2, l3))"
      ],
      "execution_count": null,
      "outputs": [
        {
          "output_type": "execute_result",
          "data": {
            "text/plain": [
              "[(1, 'a', 1), (2, 'b', 2), (3, 'c', 3)]"
            ]
          },
          "metadata": {
            "tags": []
          },
          "execution_count": 212
        }
      ]
    },
    {
      "cell_type": "code",
      "metadata": {
        "tags": [],
        "cell_id": "00147-5047136e-2693-42dc-853f-1be9df46cf3c",
        "deepnote_to_be_reexecuted": false,
        "source_hash": "a3ab2291",
        "execution_start": 1612580945808,
        "execution_millis": 44,
        "deepnote_cell_type": "code",
        "id": "jXzAIIcaopkj",
        "outputId": "4461b478-f012-48d1-8b9e-02368100c35d"
      },
      "source": [
        "l1 = range(100000000000)\n",
        "l2 = 'python'\n",
        "\n",
        "list(zip(l1, l2))"
      ],
      "execution_count": null,
      "outputs": [
        {
          "output_type": "execute_result",
          "data": {
            "text/plain": [
              "[(0, 'p'), (1, 'y'), (2, 't'), (3, 'h'), (4, 'o'), (5, 'n')]"
            ]
          },
          "metadata": {
            "tags": []
          },
          "execution_count": 213
        }
      ]
    },
    {
      "cell_type": "code",
      "metadata": {
        "tags": [],
        "cell_id": "00148-00e99a8e-2475-436b-8b29-2da56d0348f3",
        "deepnote_to_be_reexecuted": false,
        "source_hash": "90327a73",
        "execution_millis": 180,
        "execution_start": 1612581051774,
        "deepnote_cell_type": "code",
        "id": "9FJDtaqiopkj",
        "outputId": "d90a45f6-44d5-4baa-d5b9-03297ea20706"
      },
      "source": [
        "l1 = [1, 2, 3, 4, 5]\n",
        "l2 = [10, 20, 30, 40, 50]\n",
        "\n",
        "[z1+ z2 for z1, z2 in zip(l1, l2)]"
      ],
      "execution_count": null,
      "outputs": [
        {
          "output_type": "execute_result",
          "data": {
            "text/plain": [
              "[11, 22, 33, 44, 55]"
            ]
          },
          "metadata": {
            "tags": []
          },
          "execution_count": 217
        }
      ]
    },
    {
      "cell_type": "code",
      "metadata": {
        "tags": [],
        "cell_id": "00149-e8ff8450-d606-4874-8118-8197d35f6119",
        "deepnote_to_be_reexecuted": false,
        "source_hash": "4af360a7",
        "execution_start": 1612581108029,
        "execution_millis": 7,
        "deepnote_cell_type": "code",
        "id": "qdMtN_Oropkk",
        "outputId": "1782aded-4ab2-495d-ddb7-90675a186f62"
      },
      "source": [
        "[z1+ z2 for z1, z2 in zip(l1, l2) if (z1 + z2)%2 == 0]"
      ],
      "execution_count": null,
      "outputs": [
        {
          "output_type": "execute_result",
          "data": {
            "text/plain": [
              "[22, 44]"
            ]
          },
          "metadata": {
            "tags": []
          },
          "execution_count": 218
        }
      ]
    },
    {
      "cell_type": "code",
      "metadata": {
        "tags": [],
        "cell_id": "00150-b2a5dca7-b161-4dac-8d15-22fc5e253b2a",
        "deepnote_to_be_reexecuted": false,
        "source_hash": "6dc873f",
        "execution_start": 1612581162894,
        "execution_millis": 10,
        "deepnote_cell_type": "code",
        "id": "vkv231qTopkk",
        "outputId": "25fd6f1a-5407-4e9a-e806-98c89d3e465f"
      },
      "source": [
        "[x**2 for x in range(10) if x**2 < 25]"
      ],
      "execution_count": null,
      "outputs": [
        {
          "output_type": "execute_result",
          "data": {
            "text/plain": [
              "[0, 1, 4, 9, 16]"
            ]
          },
          "metadata": {
            "tags": []
          },
          "execution_count": 219
        }
      ]
    },
    {
      "cell_type": "code",
      "metadata": {
        "tags": [],
        "cell_id": "00151-ca1302be-315a-409b-953b-9295b9215681",
        "deepnote_to_be_reexecuted": false,
        "source_hash": "6cc8c40b",
        "execution_start": 1612581237473,
        "execution_millis": 50,
        "deepnote_cell_type": "code",
        "id": "j2e4hWOJopkk",
        "outputId": "d86f7428-b6a2-4797-db23-b83cd412f402"
      },
      "source": [
        "list(filter(lambda y: y< 25, map(lambda x: x**2, range(10))))"
      ],
      "execution_count": null,
      "outputs": [
        {
          "output_type": "execute_result",
          "data": {
            "text/plain": [
              "[0, 1, 4, 9, 16]"
            ]
          },
          "metadata": {
            "tags": []
          },
          "execution_count": 220
        }
      ]
    },
    {
      "cell_type": "markdown",
      "metadata": {
        "tags": [],
        "cell_id": "00152-d7be6391-c420-41bc-a844-2d458baa9572",
        "deepnote_cell_type": "markdown",
        "id": "OD4UR1Jaopkk"
      },
      "source": [
        "### Reducing Functions\n"
      ]
    },
    {
      "cell_type": "code",
      "metadata": {
        "tags": [],
        "cell_id": "00152-331ee585-527c-4c66-805c-cdcd8f16ac1b",
        "deepnote_to_be_reexecuted": false,
        "source_hash": "eb3f35b",
        "execution_start": 1612581637679,
        "execution_millis": 14,
        "deepnote_cell_type": "code",
        "id": "qWvNkuXqopkk",
        "outputId": "698cc8a5-1fe1-4376-b701-e1f6bed1d77a"
      },
      "source": [
        "l = [1, 2, 3, 4, 5 ]\n",
        "\n",
        "max(l), min(l)"
      ],
      "execution_count": null,
      "outputs": [
        {
          "output_type": "execute_result",
          "data": {
            "text/plain": [
              "(5, 1)"
            ]
          },
          "metadata": {
            "tags": []
          },
          "execution_count": 221
        }
      ]
    },
    {
      "cell_type": "code",
      "metadata": {
        "tags": [],
        "cell_id": "00154-bcd9fd87-14c9-4bae-9aee-b0c36a9608c3",
        "deepnote_to_be_reexecuted": false,
        "source_hash": "819af9da",
        "execution_start": 1612581684696,
        "execution_millis": 5,
        "deepnote_cell_type": "code",
        "id": "fbA7ef6qopkl"
      },
      "source": [
        "_max = lambda a, b: a if a>b else b"
      ],
      "execution_count": null,
      "outputs": []
    },
    {
      "cell_type": "code",
      "metadata": {
        "tags": [],
        "cell_id": "00155-b9c5b4c9-72de-4e75-917a-d16cd65bf6c5",
        "deepnote_to_be_reexecuted": false,
        "source_hash": "44e854c3",
        "execution_start": 1612581733532,
        "execution_millis": 11,
        "deepnote_cell_type": "code",
        "id": "mipuyUjeopkl",
        "outputId": "f630970b-1e27-4cad-cc9a-10fe646e50c5"
      },
      "source": [
        "def max_sequence(sequence):\n",
        "    result = sequence[0]\n",
        "    for x in sequence[1:]:\n",
        "        result = _max(result, x)\n",
        "    return result\n",
        "max_sequence(l)"
      ],
      "execution_count": null,
      "outputs": [
        {
          "output_type": "execute_result",
          "data": {
            "text/plain": [
              "5"
            ]
          },
          "metadata": {
            "tags": []
          },
          "execution_count": 223
        }
      ]
    },
    {
      "cell_type": "code",
      "metadata": {
        "tags": [],
        "cell_id": "00156-48c0fa63-39fb-4f5b-94ae-92a6257efaff",
        "deepnote_to_be_reexecuted": false,
        "source_hash": "9676392b",
        "execution_start": 1612581791105,
        "execution_millis": 13,
        "deepnote_cell_type": "code",
        "id": "7PO4qyM3opkl",
        "outputId": "991fdab1-d53d-4432-d7fe-3dcba8916ae1"
      },
      "source": [
        "_min = lambda a, b: a if a<b else b\n",
        "\n",
        "def min_sequence(sequence):\n",
        "    result = sequence[0]\n",
        "    for x in sequence[1:]:\n",
        "        result = _min(result, x)\n",
        "    return result\n",
        "min_sequence(l)"
      ],
      "execution_count": null,
      "outputs": [
        {
          "output_type": "execute_result",
          "data": {
            "text/plain": [
              "1"
            ]
          },
          "metadata": {
            "tags": []
          },
          "execution_count": 224
        }
      ]
    },
    {
      "cell_type": "code",
      "metadata": {
        "tags": [],
        "cell_id": "00157-e56a2928-b460-4baa-84c0-e02097449f5b",
        "deepnote_to_be_reexecuted": false,
        "source_hash": "16221bf6",
        "execution_start": 1612581837409,
        "execution_millis": 1,
        "deepnote_cell_type": "code",
        "id": "Nv_HB98jopkl"
      },
      "source": [
        "def _reduce(fn, sequence):\n",
        "    result = sequence[0]\n",
        "    for x in sequence[1:]:\n",
        "        result = fn(result, x)\n",
        "    return result"
      ],
      "execution_count": null,
      "outputs": []
    },
    {
      "cell_type": "code",
      "metadata": {
        "tags": [],
        "cell_id": "00158-c571194e-2adc-4a25-b4c2-15b1ac7197b7",
        "deepnote_to_be_reexecuted": false,
        "source_hash": "7b91a573",
        "execution_start": 1612581850161,
        "execution_millis": 11,
        "deepnote_cell_type": "code",
        "id": "o7N-8MQGopkl",
        "outputId": "ff9ad791-7ded-4ee9-e540-06ec961d474d"
      },
      "source": [
        "_reduce(_max, l), _reduce(_min, l)"
      ],
      "execution_count": null,
      "outputs": [
        {
          "output_type": "execute_result",
          "data": {
            "text/plain": [
              "(5, 1)"
            ]
          },
          "metadata": {
            "tags": []
          },
          "execution_count": 226
        }
      ]
    },
    {
      "cell_type": "code",
      "metadata": {
        "tags": [],
        "cell_id": "00159-1193779e-e707-4110-91cd-acfb853c6231",
        "deepnote_to_be_reexecuted": false,
        "source_hash": "470864f0",
        "execution_start": 1612581889058,
        "execution_millis": 14,
        "deepnote_cell_type": "code",
        "id": "I9_nWLrXopkl",
        "outputId": "c02a203d-09de-4fff-8f96-aa4a3dba645a"
      },
      "source": [
        "_reduce(lambda a, b: a if a > b else b, l)"
      ],
      "execution_count": null,
      "outputs": [
        {
          "output_type": "execute_result",
          "data": {
            "text/plain": [
              "5"
            ]
          },
          "metadata": {
            "tags": []
          },
          "execution_count": 227
        }
      ]
    },
    {
      "cell_type": "code",
      "metadata": {
        "tags": [],
        "cell_id": "00160-0b70652e-4133-48b4-81b2-0693fa59c09e",
        "deepnote_to_be_reexecuted": false,
        "source_hash": "aa1f1638",
        "execution_start": 1612581907431,
        "execution_millis": 26,
        "deepnote_cell_type": "code",
        "id": "EJetokwKopkm",
        "outputId": "1596c253-8bef-4458-c53a-ba2d62237355"
      },
      "source": [
        "sum(l)"
      ],
      "execution_count": null,
      "outputs": [
        {
          "output_type": "execute_result",
          "data": {
            "text/plain": [
              "15"
            ]
          },
          "metadata": {
            "tags": []
          },
          "execution_count": 228
        }
      ]
    },
    {
      "cell_type": "code",
      "metadata": {
        "tags": [],
        "cell_id": "00161-2436db2e-9b67-4062-bf18-60a6d06d3d08",
        "deepnote_to_be_reexecuted": false,
        "source_hash": "d40f333",
        "execution_start": 1612581922860,
        "execution_millis": 9,
        "deepnote_cell_type": "code",
        "id": "uIl4AHuBopkm",
        "outputId": "a460ddcc-68ac-455c-9912-53194b9ec45a"
      },
      "source": [
        "_reduce(lambda a, b: a + b, l)"
      ],
      "execution_count": null,
      "outputs": [
        {
          "output_type": "execute_result",
          "data": {
            "text/plain": [
              "15"
            ]
          },
          "metadata": {
            "tags": []
          },
          "execution_count": 229
        }
      ]
    },
    {
      "cell_type": "code",
      "metadata": {
        "tags": [],
        "cell_id": "00162-f9e8726f-3b04-489a-b1d7-ec5121de3d0c",
        "deepnote_to_be_reexecuted": false,
        "source_hash": "e50ba9a4",
        "execution_start": 1612581947136,
        "execution_millis": 0,
        "deepnote_cell_type": "code",
        "id": "2s3scKMGopkm"
      },
      "source": [
        "from functools import reduce"
      ],
      "execution_count": null,
      "outputs": []
    },
    {
      "cell_type": "code",
      "metadata": {
        "tags": [],
        "cell_id": "00163-ccd490f8-bf93-422d-bd08-e2800c798ee0",
        "deepnote_to_be_reexecuted": false,
        "source_hash": "66e02963",
        "execution_start": 1612581951240,
        "execution_millis": 9,
        "deepnote_cell_type": "code",
        "id": "9niyFPG0opkm",
        "outputId": "1789a4c4-f14c-43a2-99bc-21e18cb85b9b"
      },
      "source": [
        "l"
      ],
      "execution_count": null,
      "outputs": [
        {
          "output_type": "execute_result",
          "data": {
            "text/plain": [
              "[1, 2, 3, 4, 5]"
            ]
          },
          "metadata": {
            "tags": []
          },
          "execution_count": 231
        }
      ]
    },
    {
      "cell_type": "code",
      "metadata": {
        "tags": [],
        "cell_id": "00164-46f80e5b-c87d-4b81-ad3c-086f317ab235",
        "deepnote_to_be_reexecuted": false,
        "source_hash": "f580120",
        "execution_start": 1612581972866,
        "execution_millis": 13,
        "deepnote_cell_type": "code",
        "id": "UMAZ00kNopkn",
        "outputId": "717e5632-fa75-4b65-e10f-191285576b28"
      },
      "source": [
        "reduce(lambda a, b: a if a > b else b, l)"
      ],
      "execution_count": null,
      "outputs": [
        {
          "output_type": "execute_result",
          "data": {
            "text/plain": [
              "5"
            ]
          },
          "metadata": {
            "tags": []
          },
          "execution_count": 232
        }
      ]
    },
    {
      "cell_type": "code",
      "metadata": {
        "tags": [],
        "cell_id": "00165-a7d95eca-c95a-443f-9b5f-e29bcadf74d0",
        "deepnote_to_be_reexecuted": false,
        "source_hash": "2474557f",
        "execution_start": 1612581988645,
        "execution_millis": 7,
        "deepnote_cell_type": "code",
        "id": "WnY457u1opkn",
        "outputId": "96b4d245-b49b-421c-9f8f-e6d627ae41e6"
      },
      "source": [
        "reduce(lambda a, b: a + b, l)"
      ],
      "execution_count": null,
      "outputs": [
        {
          "output_type": "execute_result",
          "data": {
            "text/plain": [
              "15"
            ]
          },
          "metadata": {
            "tags": []
          },
          "execution_count": 233
        }
      ]
    },
    {
      "cell_type": "markdown",
      "metadata": {
        "tags": [],
        "cell_id": "00166-12ddea54-796f-40a4-a383-8c9b2d386f8c",
        "deepnote_cell_type": "markdown",
        "id": "CTe9BDPVopkn"
      },
      "source": [
        "**any** and **all**"
      ]
    },
    {
      "cell_type": "code",
      "metadata": {
        "tags": [],
        "cell_id": "00167-d6ffc664-2ada-42c4-93b0-dbc36ceca24f",
        "deepnote_to_be_reexecuted": false,
        "source_hash": "2101e12f",
        "execution_millis": 9,
        "execution_start": 1612582078233,
        "deepnote_cell_type": "code",
        "id": "Aphgcjklopkp",
        "outputId": "cfae1203-1e16-43cf-8133-b332b0bc3de7"
      },
      "source": [
        "l = [0, 0.01, False]\n",
        "any(l)"
      ],
      "execution_count": null,
      "outputs": [
        {
          "output_type": "execute_result",
          "data": {
            "text/plain": [
              "True"
            ]
          },
          "metadata": {
            "tags": []
          },
          "execution_count": 238
        }
      ]
    },
    {
      "cell_type": "code",
      "metadata": {
        "tags": [],
        "cell_id": "00168-625c8115-8fcc-4a82-8cab-e316d2cbbfb2",
        "deepnote_to_be_reexecuted": false,
        "source_hash": "d41fb8d9",
        "execution_millis": 10,
        "execution_start": 1612582103356,
        "deepnote_cell_type": "code",
        "id": "1tOfdf8jopkp",
        "outputId": "7aa77675-dbe6-4e7b-bdfc-c91912fc5fd6"
      },
      "source": [
        "l = [True, 0.01, -1231231, None]\n",
        "all(l)"
      ],
      "execution_count": null,
      "outputs": [
        {
          "output_type": "execute_result",
          "data": {
            "text/plain": [
              "False"
            ]
          },
          "metadata": {
            "tags": []
          },
          "execution_count": 241
        }
      ]
    },
    {
      "cell_type": "code",
      "metadata": {
        "tags": [],
        "cell_id": "00169-ded87446-cb0c-454e-9cb1-40bdc14712c6",
        "deepnote_to_be_reexecuted": false,
        "source_hash": "8d35c205",
        "execution_millis": 9,
        "execution_start": 1612582185996,
        "deepnote_cell_type": "code",
        "id": "gFf5m_u0opkp",
        "outputId": "63b3e128-2cf2-4133-b27a-6946adafc342"
      },
      "source": [
        "l = [0, 1, 2]\n",
        "\n",
        "reduce(lambda a, b: bool(a or b), l) # any"
      ],
      "execution_count": null,
      "outputs": [
        {
          "output_type": "execute_result",
          "data": {
            "text/plain": [
              "False"
            ]
          },
          "metadata": {
            "tags": []
          },
          "execution_count": 243
        }
      ]
    },
    {
      "cell_type": "code",
      "metadata": {
        "tags": [],
        "cell_id": "00170-fa3cfda5-1185-4b5c-a967-0c83105c89ed",
        "deepnote_to_be_reexecuted": false,
        "source_hash": "1b976ca4",
        "execution_start": 1612582205063,
        "execution_millis": 42,
        "deepnote_cell_type": "code",
        "id": "RKI8lkrTopkp",
        "outputId": "a061eb95-1300-4c3a-8989-5e6974fc79c4"
      },
      "source": [
        "l = [0, 1, 2]\n",
        "\n",
        "reduce(lambda a, b: bool(a and b), l) # all"
      ],
      "execution_count": null,
      "outputs": [
        {
          "output_type": "execute_result",
          "data": {
            "text/plain": [
              "False"
            ]
          },
          "metadata": {
            "tags": []
          },
          "execution_count": 244
        }
      ]
    },
    {
      "cell_type": "code",
      "metadata": {
        "tags": [],
        "cell_id": "00171-6e2a4bb4-8b60-4985-88d5-35499a7f7303",
        "deepnote_to_be_reexecuted": false,
        "source_hash": "1cd798f9",
        "execution_start": 1612582267255,
        "execution_millis": 12,
        "deepnote_cell_type": "code",
        "id": "6HJLJ0qjopkp",
        "outputId": "651c632e-b73f-4aa1-8705-32bf49a683d2"
      },
      "source": [
        "l = [1, 2, 3, 4, 5, 6]\n",
        "\n",
        "reduce(lambda a, b: a * b, l)"
      ],
      "execution_count": null,
      "outputs": [
        {
          "output_type": "execute_result",
          "data": {
            "text/plain": [
              "720"
            ]
          },
          "metadata": {
            "tags": []
          },
          "execution_count": 245
        }
      ]
    },
    {
      "cell_type": "code",
      "metadata": {
        "tags": [],
        "cell_id": "00172-49ded9cb-5aa6-4d09-a025-b75b7ddc5c3e",
        "deepnote_to_be_reexecuted": false,
        "source_hash": "263044e6",
        "execution_start": 1612582354593,
        "execution_millis": 11,
        "deepnote_cell_type": "code",
        "id": "wlcN9T3oopkq",
        "outputId": "72799d64-37c6-476f-f8c3-0cf089b541c2"
      },
      "source": [
        "# use reducing function to calcualate factorial of 5\n",
        "\n",
        "n = 5\n",
        "reduce(lambda a, b: a*b, range(1, n + 1))"
      ],
      "execution_count": null,
      "outputs": [
        {
          "output_type": "execute_result",
          "data": {
            "text/plain": [
              "120"
            ]
          },
          "metadata": {
            "tags": []
          },
          "execution_count": 246
        }
      ]
    },
    {
      "cell_type": "code",
      "metadata": {
        "tags": [],
        "cell_id": "00173-e42735a3-5072-4dfd-bab6-f69bfbce4e26",
        "deepnote_to_be_reexecuted": false,
        "source_hash": "3d900cfb",
        "execution_start": 1612582408749,
        "execution_millis": 11,
        "deepnote_cell_type": "code",
        "id": "Rn0Gx_tkopkq",
        "outputId": "441679f4-d2ea-4411-894d-51add29fe044"
      },
      "source": [
        "l = [1, 2, 3]\n",
        "\n",
        "reduce(lambda x, y: x*y, l)"
      ],
      "execution_count": null,
      "outputs": [
        {
          "output_type": "execute_result",
          "data": {
            "text/plain": [
              "6"
            ]
          },
          "metadata": {
            "tags": []
          },
          "execution_count": 247
        }
      ]
    },
    {
      "cell_type": "code",
      "metadata": {
        "tags": [],
        "cell_id": "00174-b0fac268-bd07-44e3-81fa-6ff4c919deb9",
        "deepnote_to_be_reexecuted": false,
        "source_hash": "5d7679cf",
        "execution_start": 1612582419051,
        "execution_millis": 19,
        "deepnote_cell_type": "code",
        "id": "83pFrjKXopkq",
        "outputId": "20a33f9c-3637-46e1-da61-ee46ddde0949"
      },
      "source": [
        "l = []\n",
        "\n",
        "reduce(lambda x, y: x*y, l)"
      ],
      "execution_count": null,
      "outputs": [
        {
          "output_type": "error",
          "ename": "TypeError",
          "evalue": "reduce() of empty sequence with no initial value",
          "traceback": [
            "\u001b[0;31m---------------------------------------------------------------------------\u001b[0m",
            "\u001b[0;31mTypeError\u001b[0m                                 Traceback (most recent call last)",
            "\u001b[0;32m<ipython-input-248-fa376e086deb>\u001b[0m in \u001b[0;36m<module>\u001b[0;34m\u001b[0m\n\u001b[1;32m      1\u001b[0m \u001b[0ml\u001b[0m \u001b[0;34m=\u001b[0m \u001b[0;34m[\u001b[0m\u001b[0;34m]\u001b[0m\u001b[0;34m\u001b[0m\u001b[0;34m\u001b[0m\u001b[0m\n\u001b[1;32m      2\u001b[0m \u001b[0;34m\u001b[0m\u001b[0m\n\u001b[0;32m----> 3\u001b[0;31m \u001b[0mreduce\u001b[0m\u001b[0;34m(\u001b[0m\u001b[0;32mlambda\u001b[0m \u001b[0mx\u001b[0m\u001b[0;34m,\u001b[0m \u001b[0my\u001b[0m\u001b[0;34m:\u001b[0m \u001b[0mx\u001b[0m\u001b[0;34m*\u001b[0m\u001b[0my\u001b[0m\u001b[0;34m,\u001b[0m \u001b[0ml\u001b[0m\u001b[0;34m)\u001b[0m\u001b[0;34m\u001b[0m\u001b[0;34m\u001b[0m\u001b[0m\n\u001b[0m",
            "\u001b[0;31mTypeError\u001b[0m: reduce() of empty sequence with no initial value"
          ]
        }
      ]
    },
    {
      "cell_type": "code",
      "metadata": {
        "tags": [],
        "cell_id": "00175-7e22b3e8-5a53-4de7-895f-15a41a37f148",
        "deepnote_to_be_reexecuted": false,
        "source_hash": "bbe3af44",
        "execution_start": 1612582432745,
        "execution_millis": 2,
        "deepnote_cell_type": "code",
        "id": "JTTpI5Aoopkq",
        "outputId": "54c4ee9f-9785-437a-89ef-c682e954df97"
      },
      "source": [
        "l = []\n",
        "\n",
        "reduce(lambda x, y: x*y, l, 1)"
      ],
      "execution_count": null,
      "outputs": [
        {
          "output_type": "execute_result",
          "data": {
            "text/plain": [
              "1"
            ]
          },
          "metadata": {
            "tags": []
          },
          "execution_count": 249
        }
      ]
    },
    {
      "cell_type": "markdown",
      "metadata": {
        "tags": [],
        "cell_id": "00176-15e2d8ce-8120-468b-9652-176226182cc9",
        "deepnote_cell_type": "markdown",
        "id": "uKfdcpKtopkr"
      },
      "source": [
        "### Partial Function"
      ]
    },
    {
      "cell_type": "code",
      "metadata": {
        "tags": [],
        "cell_id": "00176-b4275347-a6df-4dea-b276-bd538d51b5e9",
        "deepnote_to_be_reexecuted": false,
        "source_hash": "40935b7f",
        "execution_start": 1612582476732,
        "execution_millis": 1,
        "deepnote_cell_type": "code",
        "id": "n3V9cD1Eopkr"
      },
      "source": [
        "from functools import partial"
      ],
      "execution_count": null,
      "outputs": []
    },
    {
      "cell_type": "code",
      "metadata": {
        "tags": [],
        "cell_id": "00178-ef46cb90-77b1-4e12-bbf7-aacb69dda5f4",
        "deepnote_to_be_reexecuted": false,
        "source_hash": "5ff1530a",
        "execution_millis": 7,
        "execution_start": 1612582548818,
        "deepnote_cell_type": "code",
        "id": "92h1JvMWopkr",
        "outputId": "3ad185d5-28e9-4955-be80-d2fdeb78fb33"
      },
      "source": [
        "def my_func(a, b, c):\n",
        "    print(a, b*b, c)\n",
        "\n",
        "f = partial(my_func, 10)\n",
        "\n",
        "f(4, 20)"
      ],
      "execution_count": null,
      "outputs": [
        {
          "output_type": "stream",
          "text": [
            "10 16 20\n"
          ],
          "name": "stdout"
        }
      ]
    },
    {
      "cell_type": "code",
      "metadata": {
        "tags": [],
        "cell_id": "00179-107fe57c-d701-458d-9005-a4f2e5f0ee41",
        "deepnote_to_be_reexecuted": false,
        "source_hash": "35960012",
        "execution_millis": 10,
        "execution_start": 1612582599047,
        "deepnote_cell_type": "code",
        "id": "0cw1JffTopks",
        "outputId": "a18746e6-69ad-4e1f-ed24-bdb4814a4813"
      },
      "source": [
        "fn = lambda b, c: my_func(10, b, c)\n",
        "\n",
        "fn(4, 20)"
      ],
      "execution_count": null,
      "outputs": [
        {
          "output_type": "stream",
          "text": [
            "10 16 20\n"
          ],
          "name": "stdout"
        }
      ]
    },
    {
      "cell_type": "code",
      "metadata": {
        "tags": [],
        "cell_id": "00180-a4bea03d-275c-478e-9bce-0b82087e050e",
        "deepnote_to_be_reexecuted": false,
        "source_hash": "807fe60f",
        "execution_start": 1612582620641,
        "execution_millis": 1,
        "deepnote_cell_type": "code",
        "id": "OIcPLN_aopkt"
      },
      "source": [
        "def my_func(a, b, *args, k1, k2, **kwargs):\n",
        "    print(a, b, args, k1, k2, kwargs)"
      ],
      "execution_count": null,
      "outputs": []
    },
    {
      "cell_type": "code",
      "metadata": {
        "tags": [],
        "cell_id": "00181-fe824c7c-c9e8-43ca-a844-88a7b38791a8",
        "deepnote_to_be_reexecuted": false,
        "source_hash": "bc8170d7",
        "execution_start": 1612582640686,
        "execution_millis": 2,
        "deepnote_cell_type": "code",
        "id": "1f_uzxMLopkt"
      },
      "source": [
        "f = partial(my_func, 10, k1='a')"
      ],
      "execution_count": null,
      "outputs": []
    },
    {
      "cell_type": "code",
      "metadata": {
        "tags": [],
        "cell_id": "00182-8b725a78-7b6f-4e46-bae9-04b433ab7e44",
        "deepnote_to_be_reexecuted": false,
        "source_hash": "5c140f53",
        "execution_start": 1612582676273,
        "execution_millis": 11,
        "deepnote_cell_type": "code",
        "id": "oKMVQbfMopkt",
        "outputId": "fda4728a-5aee-4966-9b85-78b6b4b321f3"
      },
      "source": [
        "f(20, 30, 40, 50, k2 = 'rohan', l=123, o=12312)"
      ],
      "execution_count": null,
      "outputs": [
        {
          "output_type": "stream",
          "text": [
            "10 20 (30, 40, 50) a rohan {'l': 123, 'o': 12312}\n"
          ],
          "name": "stdout"
        }
      ]
    },
    {
      "cell_type": "code",
      "metadata": {
        "tags": [],
        "cell_id": "00183-c5a5f19e-8059-47d9-9912-d279f71e1176",
        "deepnote_to_be_reexecuted": false,
        "source_hash": "241ff24c",
        "execution_start": 1612582706667,
        "execution_millis": 0,
        "deepnote_cell_type": "code",
        "id": "7X0wIrIlopkt"
      },
      "source": [
        "def power(base, exponent):\n",
        "    return base ** exponent"
      ],
      "execution_count": null,
      "outputs": []
    },
    {
      "cell_type": "code",
      "metadata": {
        "tags": [],
        "cell_id": "00184-b130e7be-fdfc-4a44-acd9-73428d39cdce",
        "deepnote_to_be_reexecuted": false,
        "source_hash": "a75c188",
        "execution_start": 1612582710719,
        "execution_millis": 10,
        "deepnote_cell_type": "code",
        "id": "aUDJBOfTopkt",
        "outputId": "98aaa8e8-ec73-4330-a944-235f41182f12"
      },
      "source": [
        "power(2, 3)"
      ],
      "execution_count": null,
      "outputs": [
        {
          "output_type": "execute_result",
          "data": {
            "text/plain": [
              "8"
            ]
          },
          "metadata": {
            "tags": []
          },
          "execution_count": 260
        }
      ]
    },
    {
      "cell_type": "code",
      "metadata": {
        "tags": [],
        "cell_id": "00185-badfd9b4-89bf-405e-821d-a47d30281ce0",
        "deepnote_to_be_reexecuted": false,
        "source_hash": "c9c355dd",
        "execution_start": 1612582732419,
        "execution_millis": 10,
        "deepnote_cell_type": "code",
        "id": "OYYePCaOopku",
        "outputId": "5a363b2d-1cac-4d7b-d42b-b86538c1dfca"
      },
      "source": [
        "square = partial(power, exponent=2)\n",
        "\n",
        "square(4)"
      ],
      "execution_count": null,
      "outputs": [
        {
          "output_type": "execute_result",
          "data": {
            "text/plain": [
              "16"
            ]
          },
          "metadata": {
            "tags": []
          },
          "execution_count": 261
        }
      ]
    },
    {
      "cell_type": "code",
      "metadata": {
        "tags": [],
        "cell_id": "00186-23f68c12-e3d5-40c0-b54d-c58a1f04c32d",
        "deepnote_to_be_reexecuted": false,
        "source_hash": "e966a0ea",
        "execution_start": 1612582748501,
        "execution_millis": 13,
        "deepnote_cell_type": "code",
        "id": "e-XQDdSHopku",
        "outputId": "1f4c2145-e052-4f73-bee7-1355ef01f9e7"
      },
      "source": [
        "cube = partial(power, exponent=3)\n",
        "\n",
        "cube(4)"
      ],
      "execution_count": null,
      "outputs": [
        {
          "output_type": "execute_result",
          "data": {
            "text/plain": [
              "64"
            ]
          },
          "metadata": {
            "tags": []
          },
          "execution_count": 262
        }
      ]
    },
    {
      "cell_type": "code",
      "metadata": {
        "tags": [],
        "cell_id": "00187-370b6c28-e164-493d-9a79-9d5ed1a9c42a",
        "deepnote_to_be_reexecuted": false,
        "source_hash": "9dc8d5b5",
        "execution_start": 1612582765897,
        "execution_millis": 8,
        "deepnote_cell_type": "code",
        "id": "DoBAN30Dopku",
        "outputId": "95963cb9-783d-4f32-8211-b282d0b51852"
      },
      "source": [
        "cube(base = 2)"
      ],
      "execution_count": null,
      "outputs": [
        {
          "output_type": "execute_result",
          "data": {
            "text/plain": [
              "8"
            ]
          },
          "metadata": {
            "tags": []
          },
          "execution_count": 263
        }
      ]
    },
    {
      "cell_type": "code",
      "metadata": {
        "tags": [],
        "cell_id": "00188-3c33425a-a74d-4b7d-91d2-9ca7f9d701e8",
        "deepnote_to_be_reexecuted": false,
        "source_hash": "8e83452b",
        "execution_start": 1612582797901,
        "execution_millis": 2,
        "deepnote_cell_type": "code",
        "id": "VwTBnejBopku"
      },
      "source": [
        "def my_func(a, b, c):\n",
        "    print(a, b, c)"
      ],
      "execution_count": null,
      "outputs": []
    },
    {
      "cell_type": "code",
      "metadata": {
        "tags": [],
        "cell_id": "00189-2b100654-1a32-4072-a157-c1e7423e571a",
        "deepnote_to_be_reexecuted": false,
        "source_hash": "e173d293",
        "execution_start": 1612582807183,
        "execution_millis": 3,
        "deepnote_cell_type": "code",
        "id": "ee4Bvy_Nopku"
      },
      "source": [
        "a = 10\n",
        "f = partial(my_func, a)"
      ],
      "execution_count": null,
      "outputs": []
    },
    {
      "cell_type": "code",
      "metadata": {
        "tags": [],
        "cell_id": "00190-a8e3f1f0-202b-46b1-98c8-4f4ab0f3daeb",
        "deepnote_to_be_reexecuted": false,
        "source_hash": "57c26db6",
        "execution_start": 1612582812395,
        "execution_millis": 12,
        "deepnote_cell_type": "code",
        "id": "ChCXWnh5opku",
        "outputId": "57cbae53-81cb-4772-fbd1-446d7729b669"
      },
      "source": [
        "f(20, 30)"
      ],
      "execution_count": null,
      "outputs": [
        {
          "output_type": "stream",
          "text": [
            "10 20 30\n"
          ],
          "name": "stdout"
        }
      ]
    },
    {
      "cell_type": "code",
      "metadata": {
        "tags": [],
        "cell_id": "00191-24c9920c-baf6-4f08-8206-994f222d0d25",
        "deepnote_to_be_reexecuted": false,
        "source_hash": "b4c2a2e9",
        "execution_start": 1612582819875,
        "execution_millis": 13,
        "deepnote_cell_type": "code",
        "id": "2QRtzg-1opkv",
        "outputId": "d76e0e6d-f89c-4b39-ee1b-eb22569ad29c"
      },
      "source": [
        "a = 100\n",
        "f (20, 30)"
      ],
      "execution_count": null,
      "outputs": [
        {
          "output_type": "stream",
          "text": [
            "10 20 30\n"
          ],
          "name": "stdout"
        }
      ]
    },
    {
      "cell_type": "code",
      "metadata": {
        "tags": [],
        "cell_id": "00192-56d3e972-84aa-4133-ac70-7951efb39872",
        "deepnote_to_be_reexecuted": false,
        "source_hash": "a206e151",
        "execution_start": 1612582865673,
        "execution_millis": 1,
        "deepnote_cell_type": "code",
        "id": "9APJmgSEopkv"
      },
      "source": [
        "a = [10, 20]\n",
        "f = partial(my_func, a)"
      ],
      "execution_count": null,
      "outputs": []
    },
    {
      "cell_type": "code",
      "metadata": {
        "tags": [],
        "cell_id": "00193-1f08bbbf-09b1-44c1-a337-7466aa2c886d",
        "deepnote_to_be_reexecuted": false,
        "source_hash": "63fb349b",
        "execution_start": 1612582871156,
        "execution_millis": 10,
        "deepnote_cell_type": "code",
        "id": "kUAyAR-Wopkv",
        "outputId": "8ad83714-f7e2-44d9-cf4c-31f7dca3b518"
      },
      "source": [
        "f(100, 20)"
      ],
      "execution_count": null,
      "outputs": [
        {
          "output_type": "stream",
          "text": [
            "[10, 20] 100 20\n"
          ],
          "name": "stdout"
        }
      ]
    },
    {
      "cell_type": "code",
      "metadata": {
        "tags": [],
        "cell_id": "00194-19c77e61-4019-4afb-99bf-dc0b61d9a856",
        "deepnote_to_be_reexecuted": false,
        "source_hash": "2b182f0f",
        "execution_start": 1612582881952,
        "execution_millis": 9,
        "deepnote_cell_type": "code",
        "id": "8E7ENf_hopkx",
        "outputId": "08e0fb74-1461-4be5-8a4e-5c95d33959b1"
      },
      "source": [
        "a = [10, 20, 30]\n",
        "f(100, 20)"
      ],
      "execution_count": null,
      "outputs": [
        {
          "output_type": "stream",
          "text": [
            "[10, 20] 100 20\n"
          ],
          "name": "stdout"
        }
      ]
    },
    {
      "cell_type": "code",
      "metadata": {
        "tags": [],
        "cell_id": "00195-a543e00b-7d79-4cff-9883-c6426dc7ac3f",
        "deepnote_to_be_reexecuted": false,
        "source_hash": "6bf96ad2",
        "execution_start": 1612582925641,
        "execution_millis": 21,
        "deepnote_cell_type": "code",
        "id": "tKl2fCh7opkx",
        "outputId": "5ddb5621-579f-4ac3-d331-38dd7af9a831"
      },
      "source": [
        "a.append(400)\n",
        "f(100, 20)"
      ],
      "execution_count": null,
      "outputs": [
        {
          "output_type": "stream",
          "text": [
            "[10, 20] 100 20\n"
          ],
          "name": "stdout"
        }
      ]
    },
    {
      "cell_type": "code",
      "metadata": {
        "tags": [],
        "cell_id": "00196-ff3f2983-a399-4a63-aae1-b7d0950eb48f",
        "deepnote_to_be_reexecuted": false,
        "source_hash": "b41cf919",
        "execution_start": 1612582982844,
        "execution_millis": 11,
        "deepnote_cell_type": "code",
        "id": "t98MixUSopkx",
        "outputId": "577795cf-1974-484e-d0d6-f9cf1c01790e"
      },
      "source": [
        "a = [10, 20]\n",
        "f = partial(my_func, a)\n",
        "f(100, 20)\n",
        "a.append(300)\n",
        "f(100, 20)"
      ],
      "execution_count": null,
      "outputs": [
        {
          "output_type": "stream",
          "text": [
            "[10, 20] 100 20\n",
            "[10, 20, 300] 100 20\n"
          ],
          "name": "stdout"
        }
      ]
    },
    {
      "cell_type": "code",
      "metadata": {
        "tags": [],
        "cell_id": "00197-f3f94490-e652-4cab-bdeb-f6e8b11a8d22",
        "deepnote_to_be_reexecuted": false,
        "source_hash": "969c5d04",
        "execution_start": 1612583019753,
        "execution_millis": 6,
        "deepnote_cell_type": "code",
        "id": "_HexjsZJopkx",
        "outputId": "466b7e32-aa64-4b4e-9316-e4c089bfd66f"
      },
      "source": [
        "a = [10, 20]\n",
        "\n",
        "id(a)"
      ],
      "execution_count": null,
      "outputs": [
        {
          "output_type": "execute_result",
          "data": {
            "text/plain": [
              "139756176106272"
            ]
          },
          "metadata": {
            "tags": []
          },
          "execution_count": 273
        }
      ]
    },
    {
      "cell_type": "code",
      "metadata": {
        "tags": [],
        "cell_id": "00198-53b9c785-23fa-4673-9b1d-0d9ebc783f61",
        "deepnote_to_be_reexecuted": false,
        "source_hash": "b4797039",
        "execution_start": 1612583031359,
        "execution_millis": 19,
        "deepnote_cell_type": "code",
        "id": "HNGg7jbYopkx",
        "outputId": "31af61fd-170f-4cbc-b021-9f1429362d4b"
      },
      "source": [
        "a = [10, 20, 30]\n",
        "\n",
        "id(a)"
      ],
      "execution_count": null,
      "outputs": [
        {
          "output_type": "execute_result",
          "data": {
            "text/plain": [
              "139756174060672"
            ]
          },
          "metadata": {
            "tags": []
          },
          "execution_count": 274
        }
      ]
    },
    {
      "cell_type": "code",
      "metadata": {
        "tags": [],
        "cell_id": "00199-4427ec03-68b6-4496-92a4-58d784b732ea",
        "deepnote_to_be_reexecuted": false,
        "source_hash": "95f974e6",
        "execution_start": 1612583044328,
        "execution_millis": 18,
        "deepnote_cell_type": "code",
        "id": "ko1LMUmSopky",
        "outputId": "b56ee107-6967-495a-c789-5c8c5e4cd019"
      },
      "source": [
        "a.append(1234)\n",
        "\n",
        "id(a)"
      ],
      "execution_count": null,
      "outputs": [
        {
          "output_type": "execute_result",
          "data": {
            "text/plain": [
              "139756174060672"
            ]
          },
          "metadata": {
            "tags": []
          },
          "execution_count": 275
        }
      ]
    },
    {
      "cell_type": "code",
      "metadata": {
        "tags": [],
        "cell_id": "00200-20a6cc53-c15e-4cc1-be83-eb44fb3412c7",
        "deepnote_to_be_reexecuted": false,
        "source_hash": "58792555",
        "execution_start": 1612583105562,
        "execution_millis": 2,
        "deepnote_cell_type": "code",
        "id": "fz-VwctAopky"
      },
      "source": [
        "origin = (0, 0)\n",
        "\n",
        "l = [(1, 1), (0, 2), (-3, 2), (5, 4), (0, 0)]"
      ],
      "execution_count": null,
      "outputs": []
    },
    {
      "cell_type": "code",
      "metadata": {
        "tags": [],
        "cell_id": "00201-8aeb9426-332d-4779-8a95-83f978c41554",
        "deepnote_to_be_reexecuted": false,
        "source_hash": "fcd62956",
        "execution_start": 1612583156381,
        "execution_millis": 10,
        "deepnote_cell_type": "code",
        "id": "3GNYpdPzopky",
        "outputId": "b4f67b05-3bfb-4802-a7f3-12655b4aee1b"
      },
      "source": [
        "dist2 = lambda x, y: (x[0] - y[0])**2 + (x[1] - y[1])**2\n",
        "\n",
        "dist2((0, 0), (1, 1))"
      ],
      "execution_count": null,
      "outputs": [
        {
          "output_type": "execute_result",
          "data": {
            "text/plain": [
              "2"
            ]
          },
          "metadata": {
            "tags": []
          },
          "execution_count": 277
        }
      ]
    },
    {
      "cell_type": "code",
      "metadata": {
        "tags": [],
        "cell_id": "00202-20192307-7bfc-4c48-a7ec-00751e6f0642",
        "deepnote_to_be_reexecuted": false,
        "source_hash": "54441661",
        "execution_millis": 11,
        "execution_start": 1612583196981,
        "deepnote_cell_type": "code",
        "id": "W8_owW7Oopky",
        "outputId": "e44a4ef7-a777-436a-9680-0b13698c5a16"
      },
      "source": [
        "sorted(l, key = lambda x: dist2((0, 0), x))"
      ],
      "execution_count": null,
      "outputs": [
        {
          "output_type": "execute_result",
          "data": {
            "text/plain": [
              "[(0, 0), (1, 1), (0, 2), (-3, 2), (5, 4)]"
            ]
          },
          "metadata": {
            "tags": []
          },
          "execution_count": 279
        }
      ]
    },
    {
      "cell_type": "code",
      "metadata": {
        "tags": [],
        "cell_id": "00203-547f4d85-6ecf-4745-82d9-6334411284c4",
        "deepnote_to_be_reexecuted": false,
        "source_hash": "12c52532",
        "execution_millis": 11,
        "execution_start": 1612583255615,
        "deepnote_cell_type": "code",
        "id": "qTDYiVdOopky",
        "outputId": "63bff87e-d78e-430e-b36b-4c846f1b5abe"
      },
      "source": [
        "sorted(l, key = partial(dist2, (0, 0)))"
      ],
      "execution_count": null,
      "outputs": [
        {
          "output_type": "execute_result",
          "data": {
            "text/plain": [
              "[(0, 0), (1, 1), (0, 2), (-3, 2), (5, 4)]"
            ]
          },
          "metadata": {
            "tags": []
          },
          "execution_count": 281
        }
      ]
    },
    {
      "cell_type": "markdown",
      "metadata": {
        "tags": [],
        "cell_id": "00204-be3f170f-75b4-40fb-bccf-b4951314c8aa",
        "deepnote_cell_type": "markdown",
        "id": "nH6ck3vuopkz"
      },
      "source": [
        "# Operator Module"
      ]
    },
    {
      "cell_type": "code",
      "metadata": {
        "tags": [],
        "cell_id": "00204-e8fd977a-757d-4d31-8774-cd1f4bdbc5d9",
        "deepnote_to_be_reexecuted": false,
        "source_hash": "a25a62e3",
        "execution_start": 1612583292007,
        "execution_millis": 3,
        "deepnote_cell_type": "code",
        "id": "2EEEvvIGopkz"
      },
      "source": [
        "import operator"
      ],
      "execution_count": null,
      "outputs": []
    },
    {
      "cell_type": "code",
      "metadata": {
        "tags": [],
        "cell_id": "00206-1032a673-bfbf-4af3-9a5a-7164c5425a30",
        "deepnote_to_be_reexecuted": false,
        "source_hash": "cbe0d884",
        "execution_millis": 9,
        "execution_start": 1612583310370,
        "deepnote_cell_type": "code",
        "id": "tYm489Y3opkz",
        "outputId": "3900728a-a9dc-4817-c77a-a7fd3d3a5247"
      },
      "source": [
        "dir(operator)"
      ],
      "execution_count": null,
      "outputs": [
        {
          "output_type": "execute_result",
          "data": {
            "text/plain": [
              "['__abs__',\n",
              " '__add__',\n",
              " '__all__',\n",
              " '__and__',\n",
              " '__builtins__',\n",
              " '__cached__',\n",
              " '__concat__',\n",
              " '__contains__',\n",
              " '__delitem__',\n",
              " '__doc__',\n",
              " '__eq__',\n",
              " '__file__',\n",
              " '__floordiv__',\n",
              " '__ge__',\n",
              " '__getitem__',\n",
              " '__gt__',\n",
              " '__iadd__',\n",
              " '__iand__',\n",
              " '__iconcat__',\n",
              " '__ifloordiv__',\n",
              " '__ilshift__',\n",
              " '__imatmul__',\n",
              " '__imod__',\n",
              " '__imul__',\n",
              " '__index__',\n",
              " '__inv__',\n",
              " '__invert__',\n",
              " '__ior__',\n",
              " '__ipow__',\n",
              " '__irshift__',\n",
              " '__isub__',\n",
              " '__itruediv__',\n",
              " '__ixor__',\n",
              " '__le__',\n",
              " '__loader__',\n",
              " '__lshift__',\n",
              " '__lt__',\n",
              " '__matmul__',\n",
              " '__mod__',\n",
              " '__mul__',\n",
              " '__name__',\n",
              " '__ne__',\n",
              " '__neg__',\n",
              " '__not__',\n",
              " '__or__',\n",
              " '__package__',\n",
              " '__pos__',\n",
              " '__pow__',\n",
              " '__rshift__',\n",
              " '__setitem__',\n",
              " '__spec__',\n",
              " '__sub__',\n",
              " '__truediv__',\n",
              " '__xor__',\n",
              " '_abs',\n",
              " 'abs',\n",
              " 'add',\n",
              " 'and_',\n",
              " 'attrgetter',\n",
              " 'concat',\n",
              " 'contains',\n",
              " 'countOf',\n",
              " 'delitem',\n",
              " 'eq',\n",
              " 'floordiv',\n",
              " 'ge',\n",
              " 'getitem',\n",
              " 'gt',\n",
              " 'iadd',\n",
              " 'iand',\n",
              " 'iconcat',\n",
              " 'ifloordiv',\n",
              " 'ilshift',\n",
              " 'imatmul',\n",
              " 'imod',\n",
              " 'imul',\n",
              " 'index',\n",
              " 'indexOf',\n",
              " 'inv',\n",
              " 'invert',\n",
              " 'ior',\n",
              " 'ipow',\n",
              " 'irshift',\n",
              " 'is_',\n",
              " 'is_not',\n",
              " 'isub',\n",
              " 'itemgetter',\n",
              " 'itruediv',\n",
              " 'ixor',\n",
              " 'le',\n",
              " 'length_hint',\n",
              " 'lshift',\n",
              " 'lt',\n",
              " 'matmul',\n",
              " 'methodcaller',\n",
              " 'mod',\n",
              " 'mul',\n",
              " 'ne',\n",
              " 'neg',\n",
              " 'not_',\n",
              " 'or_',\n",
              " 'pos',\n",
              " 'pow',\n",
              " 'rshift',\n",
              " 'setitem',\n",
              " 'sub',\n",
              " 'truediv',\n",
              " 'truth',\n",
              " 'xor']"
            ]
          },
          "metadata": {
            "tags": []
          },
          "execution_count": 285
        }
      ]
    },
    {
      "cell_type": "code",
      "metadata": {
        "tags": [],
        "cell_id": "00207-93ef5860-a594-41f0-9482-e7f899100864",
        "deepnote_to_be_reexecuted": false,
        "source_hash": "3f10c609",
        "execution_start": 1612583342182,
        "execution_millis": 12,
        "deepnote_cell_type": "code",
        "id": "O2sfcfZxopkz",
        "outputId": "1dd741a4-3352-45d4-f830-9bdf55bf5f15"
      },
      "source": [
        "operator.add(1, 2)"
      ],
      "execution_count": null,
      "outputs": [
        {
          "output_type": "execute_result",
          "data": {
            "text/plain": [
              "3"
            ]
          },
          "metadata": {
            "tags": []
          },
          "execution_count": 286
        }
      ]
    },
    {
      "cell_type": "code",
      "metadata": {
        "tags": [],
        "cell_id": "00208-a0913987-1a44-45d6-97aa-ea8302463f9b",
        "deepnote_to_be_reexecuted": false,
        "source_hash": "66a64b4a",
        "execution_start": 1612583349314,
        "execution_millis": 15,
        "deepnote_cell_type": "code",
        "id": "KfPr3Hqiopk0",
        "outputId": "630c50d0-40b1-49d6-a92b-5629f0f1c2e5"
      },
      "source": [
        "operator.mul(2, 3)"
      ],
      "execution_count": null,
      "outputs": [
        {
          "output_type": "execute_result",
          "data": {
            "text/plain": [
              "6"
            ]
          },
          "metadata": {
            "tags": []
          },
          "execution_count": 287
        }
      ]
    },
    {
      "cell_type": "code",
      "metadata": {
        "tags": [],
        "cell_id": "00209-d1683985-381d-445a-bc71-0fca5e459dad",
        "deepnote_to_be_reexecuted": false,
        "source_hash": "2574a87",
        "execution_start": 1612583353957,
        "execution_millis": 13,
        "deepnote_cell_type": "code",
        "id": "cHlAn6axopk0",
        "outputId": "0c21a904-2f51-4193-f750-22054a08cff6"
      },
      "source": [
        "operator.pow(2, 4)"
      ],
      "execution_count": null,
      "outputs": [
        {
          "output_type": "execute_result",
          "data": {
            "text/plain": [
              "16"
            ]
          },
          "metadata": {
            "tags": []
          },
          "execution_count": 288
        }
      ]
    },
    {
      "cell_type": "code",
      "metadata": {
        "tags": [],
        "cell_id": "00210-a413cbca-05ab-4469-ac55-11669a9bf44f",
        "deepnote_to_be_reexecuted": false,
        "source_hash": "3b7b71b6",
        "execution_start": 1612583361699,
        "execution_millis": 13,
        "deepnote_cell_type": "code",
        "id": "ylGvEax7opk0",
        "outputId": "5e981c5e-d077-49ad-d6ca-85ba5cd084fb"
      },
      "source": [
        "operator.floordiv(13, 2)"
      ],
      "execution_count": null,
      "outputs": [
        {
          "output_type": "execute_result",
          "data": {
            "text/plain": [
              "6"
            ]
          },
          "metadata": {
            "tags": []
          },
          "execution_count": 289
        }
      ]
    },
    {
      "cell_type": "code",
      "metadata": {
        "tags": [],
        "cell_id": "00211-8491a482-69b9-4eff-b094-970280b4466e",
        "deepnote_to_be_reexecuted": false,
        "source_hash": "21174f3e",
        "execution_start": 1612583370919,
        "execution_millis": 15,
        "deepnote_cell_type": "code",
        "id": "UU-nL7i0opk0",
        "outputId": "ea034368-d033-4c28-f531-e6f6daaff9b7"
      },
      "source": [
        "operator.truediv(13, 2)"
      ],
      "execution_count": null,
      "outputs": [
        {
          "output_type": "execute_result",
          "data": {
            "text/plain": [
              "6.5"
            ]
          },
          "metadata": {
            "tags": []
          },
          "execution_count": 290
        }
      ]
    },
    {
      "cell_type": "code",
      "metadata": {
        "tags": [],
        "cell_id": "00212-9b4d16fe-f946-4fb8-a27f-a1450eab375d",
        "deepnote_to_be_reexecuted": false,
        "source_hash": "34c9f528",
        "execution_start": 1612583403609,
        "execution_millis": 13,
        "deepnote_cell_type": "code",
        "id": "bDyStyFwopk1",
        "outputId": "0379642c-0bc7-455b-d3c9-63973fa1bb60"
      },
      "source": [
        "reduce(lambda x, y: x*y, [1, 2, 3, 4,5 ])"
      ],
      "execution_count": null,
      "outputs": [
        {
          "output_type": "execute_result",
          "data": {
            "text/plain": [
              "120"
            ]
          },
          "metadata": {
            "tags": []
          },
          "execution_count": 291
        }
      ]
    },
    {
      "cell_type": "code",
      "metadata": {
        "tags": [],
        "cell_id": "00213-6524c921-054d-4212-8bf4-e772954cc6af",
        "deepnote_to_be_reexecuted": false,
        "source_hash": "e6520bfa",
        "execution_start": 1612583414633,
        "execution_millis": 21,
        "deepnote_cell_type": "code",
        "id": "2soXbyWWopk1",
        "outputId": "cf584fe2-d9b6-487d-c88e-d20ba3b89ddc"
      },
      "source": [
        "reduce(operator.mul, [1, 2, 3, 4,5 ])"
      ],
      "execution_count": null,
      "outputs": [
        {
          "output_type": "execute_result",
          "data": {
            "text/plain": [
              "120"
            ]
          },
          "metadata": {
            "tags": []
          },
          "execution_count": 292
        }
      ]
    },
    {
      "cell_type": "code",
      "metadata": {
        "tags": [],
        "cell_id": "00214-3b2d9f84-591c-403a-be3f-5e99465385b0",
        "deepnote_to_be_reexecuted": false,
        "source_hash": "6e89c8c2",
        "execution_start": 1612583433273,
        "execution_millis": 8,
        "deepnote_cell_type": "code",
        "id": "L_itmwdiopk1",
        "outputId": "5bf880cb-70d3-4120-edd6-a1f0bdc391a7"
      },
      "source": [
        "operator.lt(10, 100)"
      ],
      "execution_count": null,
      "outputs": [
        {
          "output_type": "execute_result",
          "data": {
            "text/plain": [
              "True"
            ]
          },
          "metadata": {
            "tags": []
          },
          "execution_count": 293
        }
      ]
    },
    {
      "cell_type": "code",
      "metadata": {
        "tags": [],
        "cell_id": "00215-2b40995e-a1e4-4a70-8ec0-7e964171f402",
        "deepnote_to_be_reexecuted": false,
        "source_hash": "24522e13",
        "execution_start": 1612583470241,
        "execution_millis": 53,
        "deepnote_cell_type": "code",
        "id": "uwY-FPSLopk1",
        "outputId": "be99de01-37ef-4145-b5d7-2b8b76d6f421"
      },
      "source": [
        "operator.le(10, 100)"
      ],
      "execution_count": null,
      "outputs": [
        {
          "output_type": "execute_result",
          "data": {
            "text/plain": [
              "True"
            ]
          },
          "metadata": {
            "tags": []
          },
          "execution_count": 294
        }
      ]
    },
    {
      "cell_type": "code",
      "metadata": {
        "tags": [],
        "cell_id": "00216-53e4e765-9cb7-4e9e-b25c-0a4ff77cc505",
        "deepnote_to_be_reexecuted": false,
        "source_hash": "b268f85e",
        "execution_start": 1612583481494,
        "execution_millis": 11,
        "deepnote_cell_type": "code",
        "id": "YyAHS5pQopk1",
        "outputId": "5945b370-4a78-4bbf-dae3-07a3cf44c41b"
      },
      "source": [
        "operator.is_('abd', 'def')"
      ],
      "execution_count": null,
      "outputs": [
        {
          "output_type": "execute_result",
          "data": {
            "text/plain": [
              "False"
            ]
          },
          "metadata": {
            "tags": []
          },
          "execution_count": 295
        }
      ]
    },
    {
      "cell_type": "code",
      "metadata": {
        "tags": [],
        "cell_id": "00217-2fc75dea-cadf-4690-9dd9-56588c59c98f",
        "deepnote_to_be_reexecuted": false,
        "source_hash": "d824722f",
        "execution_start": 1612583491257,
        "execution_millis": 13,
        "deepnote_cell_type": "code",
        "id": "EGZSgZsTopk2",
        "outputId": "c4e65040-a478-4459-8fca-db0e7edcdd04"
      },
      "source": [
        "operator.truth([1, 2])"
      ],
      "execution_count": null,
      "outputs": [
        {
          "output_type": "execute_result",
          "data": {
            "text/plain": [
              "True"
            ]
          },
          "metadata": {
            "tags": []
          },
          "execution_count": 296
        }
      ]
    },
    {
      "cell_type": "code",
      "metadata": {
        "tags": [],
        "cell_id": "00218-73e9b1cd-9e0f-456d-924d-92d9706d0a7e",
        "deepnote_to_be_reexecuted": false,
        "source_hash": "baa04556",
        "execution_start": 1612583498551,
        "execution_millis": 13,
        "deepnote_cell_type": "code",
        "id": "ntCfOe-Xopk2",
        "outputId": "0d3d2dde-d28b-4afb-fc28-7f273ff6971b"
      },
      "source": [
        "operator.truth([])"
      ],
      "execution_count": null,
      "outputs": [
        {
          "output_type": "execute_result",
          "data": {
            "text/plain": [
              "False"
            ]
          },
          "metadata": {
            "tags": []
          },
          "execution_count": 297
        }
      ]
    },
    {
      "cell_type": "code",
      "metadata": {
        "tags": [],
        "cell_id": "00219-f5ba2192-b80f-4920-830b-3c3f5051092f",
        "deepnote_to_be_reexecuted": false,
        "source_hash": "5f149bb8",
        "execution_start": 1612583520620,
        "execution_millis": 5,
        "deepnote_cell_type": "code",
        "id": "lz5_mBJuopk2"
      },
      "source": [
        "my_list = [1, 2, 3, 4,5 ]"
      ],
      "execution_count": null,
      "outputs": []
    },
    {
      "cell_type": "code",
      "metadata": {
        "tags": [],
        "cell_id": "00220-0c99ff43-e52b-4dda-bc7b-32b7326ffff5",
        "deepnote_to_be_reexecuted": false,
        "source_hash": "2ed18bd9",
        "execution_start": 1612583527763,
        "execution_millis": 11,
        "deepnote_cell_type": "code",
        "id": "qKqRllYZopk2",
        "outputId": "ac60696d-3052-45e7-f316-fe25f81bdaa5"
      },
      "source": [
        "my_list[4]"
      ],
      "execution_count": null,
      "outputs": [
        {
          "output_type": "execute_result",
          "data": {
            "text/plain": [
              "5"
            ]
          },
          "metadata": {
            "tags": []
          },
          "execution_count": 299
        }
      ]
    },
    {
      "cell_type": "code",
      "metadata": {
        "tags": [],
        "cell_id": "00221-b3b38ddb-047a-479b-b1a0-76190548e5f5",
        "deepnote_to_be_reexecuted": false,
        "source_hash": "feec4adf",
        "execution_start": 1612583542743,
        "execution_millis": 11,
        "deepnote_cell_type": "code",
        "id": "NpUtRcUsopk2",
        "outputId": "1fe24269-fbeb-47ed-d1ca-3120be7df3d1"
      },
      "source": [
        "operator.getitem(my_list, 4)"
      ],
      "execution_count": null,
      "outputs": [
        {
          "output_type": "execute_result",
          "data": {
            "text/plain": [
              "5"
            ]
          },
          "metadata": {
            "tags": []
          },
          "execution_count": 300
        }
      ]
    },
    {
      "cell_type": "code",
      "metadata": {
        "tags": [],
        "cell_id": "00222-6ed27b0e-036c-4e4b-b642-89708d67fc06",
        "deepnote_to_be_reexecuted": false,
        "source_hash": "f8b2c7cf",
        "execution_start": 1612583587059,
        "execution_millis": 12,
        "deepnote_cell_type": "code",
        "id": "nKmL35xgopk3",
        "outputId": "89f99173-66cd-4041-a6aa-9aa98a52b866"
      },
      "source": [
        "my_list[0] = 'rohan'\n",
        "my_list"
      ],
      "execution_count": null,
      "outputs": [
        {
          "output_type": "execute_result",
          "data": {
            "text/plain": [
              "['rohan', 2, 3, 4, 5]"
            ]
          },
          "metadata": {
            "tags": []
          },
          "execution_count": 301
        }
      ]
    },
    {
      "cell_type": "code",
      "metadata": {
        "tags": [],
        "cell_id": "00223-a1a1ff6a-79a8-4786-8b7f-5bf3e58606f7",
        "deepnote_to_be_reexecuted": false,
        "source_hash": "3ffbca3d",
        "execution_millis": 11,
        "execution_start": 1612583626611,
        "deepnote_cell_type": "code",
        "id": "it3VXGwlopk3"
      },
      "source": [
        "del my_list[0]"
      ],
      "execution_count": null,
      "outputs": []
    },
    {
      "cell_type": "code",
      "metadata": {
        "tags": [],
        "cell_id": "00224-567466a4-17cc-4b5d-bfa9-3973cebe7329",
        "deepnote_to_be_reexecuted": false,
        "source_hash": "d76b7c80",
        "execution_start": 1612583636077,
        "execution_millis": 8,
        "deepnote_cell_type": "code",
        "id": "l_t4A-aeopk3",
        "outputId": "8b38b871-1635-4b38-a310-fed02fb235fe"
      },
      "source": [
        "my_list"
      ],
      "execution_count": null,
      "outputs": [
        {
          "output_type": "execute_result",
          "data": {
            "text/plain": [
              "[3, 4, 5]"
            ]
          },
          "metadata": {
            "tags": []
          },
          "execution_count": 305
        }
      ]
    },
    {
      "cell_type": "code",
      "metadata": {
        "tags": [],
        "cell_id": "00225-885ebbc5-bf7f-4168-8708-313f58779601",
        "deepnote_to_be_reexecuted": false,
        "source_hash": "80e4ed5b",
        "execution_start": 1612583651051,
        "execution_millis": 5,
        "deepnote_cell_type": "code",
        "id": "zE79-MXyopk3"
      },
      "source": [
        "operator.delitem(my_list, 2)"
      ],
      "execution_count": null,
      "outputs": []
    },
    {
      "cell_type": "code",
      "metadata": {
        "tags": [],
        "cell_id": "00226-1c3ba7e9-6d75-458c-9719-e4c626bb9bf4",
        "deepnote_to_be_reexecuted": false,
        "source_hash": "d76b7c80",
        "execution_start": 1612583655785,
        "execution_millis": 8,
        "deepnote_cell_type": "code",
        "id": "_Ur-HwoVopk3",
        "outputId": "9e5dc5c6-ac32-4b31-fffc-86078aadefee"
      },
      "source": [
        "my_list"
      ],
      "execution_count": null,
      "outputs": [
        {
          "output_type": "execute_result",
          "data": {
            "text/plain": [
              "[3, 4]"
            ]
          },
          "metadata": {
            "tags": []
          },
          "execution_count": 307
        }
      ]
    },
    {
      "cell_type": "code",
      "metadata": {
        "tags": [],
        "cell_id": "00227-31af8830-ed6c-48a8-ae9a-2b05916cee5a",
        "deepnote_to_be_reexecuted": false,
        "source_hash": "471e877b",
        "execution_start": 1612583686917,
        "execution_millis": 0,
        "deepnote_cell_type": "code",
        "id": "Cf0ScQ3yopk5"
      },
      "source": [
        "class MyClass:\n",
        "    def __init__(self):\n",
        "        self.a = 10\n",
        "        self.b = 20\n",
        "        self.c = 30\n",
        "        \n",
        "    def test(self):\n",
        "        print('test method running...')"
      ],
      "execution_count": null,
      "outputs": []
    },
    {
      "cell_type": "code",
      "metadata": {
        "tags": [],
        "cell_id": "00228-ee0a8f6e-95eb-48b6-89cb-d7fa2f00ab1d",
        "deepnote_to_be_reexecuted": false,
        "source_hash": "14a0235f",
        "execution_start": 1612583702898,
        "execution_millis": 15,
        "deepnote_cell_type": "code",
        "id": "Dwi5gpYEopk5",
        "outputId": "5066db8f-f975-40a7-c472-5823ea07a59a"
      },
      "source": [
        "obj = MyClass()\n",
        "\n",
        "obj.a, obj.b, obj.c"
      ],
      "execution_count": null,
      "outputs": [
        {
          "output_type": "execute_result",
          "data": {
            "text/plain": [
              "(10, 20, 30)"
            ]
          },
          "metadata": {
            "tags": []
          },
          "execution_count": 309
        }
      ]
    },
    {
      "cell_type": "code",
      "metadata": {
        "tags": [],
        "cell_id": "00229-ffca3185-5c39-48d8-8826-405479a1cc77",
        "deepnote_to_be_reexecuted": false,
        "source_hash": "a8903865",
        "execution_start": 1612583729299,
        "execution_millis": 11,
        "deepnote_cell_type": "code",
        "id": "EdrbyMQLopk5",
        "outputId": "306d0b50-a2c6-4914-9910-f4d33d6a9b2f"
      },
      "source": [
        "f = operator.attrgetter('a')\n",
        "\n",
        "f(obj)"
      ],
      "execution_count": null,
      "outputs": [
        {
          "output_type": "execute_result",
          "data": {
            "text/plain": [
              "10"
            ]
          },
          "metadata": {
            "tags": []
          },
          "execution_count": 310
        }
      ]
    },
    {
      "cell_type": "code",
      "metadata": {
        "tags": [],
        "cell_id": "00230-0dcac7e4-fc58-4d9d-80a3-05001e27614e",
        "deepnote_to_be_reexecuted": false,
        "source_hash": "8ad20b9",
        "execution_start": 1612583751881,
        "execution_millis": 11,
        "deepnote_cell_type": "code",
        "id": "LzniAFioopk6",
        "outputId": "872f0ab7-b596-466d-81f0-dd0d5ac2742e"
      },
      "source": [
        "obj2 = MyClass()\n",
        "obj2.a = 100\n",
        "\n",
        "f(obj), f(obj2)"
      ],
      "execution_count": null,
      "outputs": [
        {
          "output_type": "execute_result",
          "data": {
            "text/plain": [
              "(10, 100)"
            ]
          },
          "metadata": {
            "tags": []
          },
          "execution_count": 311
        }
      ]
    },
    {
      "cell_type": "code",
      "metadata": {
        "tags": [],
        "cell_id": "00231-9c93c9e2-7b44-43a1-8813-d8000d1602ee",
        "deepnote_to_be_reexecuted": false,
        "source_hash": "fb1f80ae",
        "execution_millis": 13,
        "execution_start": 1612584038718,
        "deepnote_cell_type": "code",
        "id": "oyojhu_Oopk6",
        "outputId": "dc254bb3-134f-4607-a6fb-4cd04a97f6ac"
      },
      "source": [
        "l1 = [1, 2, 3, 4, 5, 6, 7, 8]\n",
        "l2 = ['a', 'b', 'c']\n",
        "\n",
        "list(zip(l1, l2*2))"
      ],
      "execution_count": null,
      "outputs": [
        {
          "output_type": "execute_result",
          "data": {
            "text/plain": [
              "[(1, 'a'), (2, 'b'), (3, 'c'), (4, 'a'), (5, 'b'), (6, 'c')]"
            ]
          },
          "metadata": {
            "tags": []
          },
          "execution_count": 315
        }
      ]
    },
    {
      "cell_type": "code",
      "metadata": {
        "tags": [],
        "cell_id": "00232-40d41331-50ec-433d-b597-26a9732f845d",
        "deepnote_cell_type": "code",
        "id": "6gdzTgrvopk6"
      },
      "source": [
        ""
      ],
      "execution_count": null,
      "outputs": []
    },
    {
      "cell_type": "markdown",
      "metadata": {
        "tags": [],
        "created_in_deepnote_cell": true,
        "deepnote_cell_type": "markdown",
        "id": "ISm4QKBZopk7"
      },
      "source": [
        "<a style='text-decoration:none;line-height:16px;display:flex;color:#5B5B62;padding:10px;justify-content:end;' href='https://deepnote.com?utm_source=created-in-deepnote-cell&projectId=d12d8d6f-83dc-4873-bf00-aaff2a39293d' target=\"_blank\">\n",
        "<img style='display:inline;max-height:16px;margin:0px;margin-right:7.5px;' src='data:image/svg+xml;base64,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' > </img>\n",
        "Created in <span style='font-weight:600;margin-left:4px;'>Deepnote</span></a>"
      ]
    }
  ]
}