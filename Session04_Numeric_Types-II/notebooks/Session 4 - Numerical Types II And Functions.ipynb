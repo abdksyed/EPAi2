{
  "nbformat": 4,
  "nbformat_minor": 0,
  "metadata": {
    "orig_nbformat": 2,
    "deepnote_notebook_id": "237e7551-b882-44f5-8ec5-e5c87f0bab0d",
    "deepnote_execution_queue": [],
    "colab": {
      "name": "Session 4 - Numerical Types II And Functions.ipynb",
      "provenance": [],
      "include_colab_link": true
    }
  },
  "cells": [
    {
      "cell_type": "markdown",
      "metadata": {
        "id": "view-in-github",
        "colab_type": "text"
      },
      "source": [
        "<a href=\"https://colab.research.google.com/github/abdksyed/EPAi2/blob/main/Session04_Numeric_Types-II/notebooks/Session%204%20-%20Numerical%20Types%20II%20And%20Functions.ipynb\" target=\"_parent\"><img src=\"https://colab.research.google.com/assets/colab-badge.svg\" alt=\"Open In Colab\"/></a>"
      ]
    },
    {
      "cell_type": "code",
      "metadata": {
        "tags": [],
        "cell_id": "00000-5a897a38-81b1-4f04-ba6b-7dc05f456fb4",
        "deepnote_to_be_reexecuted": false,
        "source_hash": "9a3d1acd",
        "execution_start": 1611969056713,
        "execution_millis": 51,
        "deepnote_cell_type": "code",
        "id": "aCj_fq_uXmfI",
        "outputId": "766f39cf-a19a-4948-9338-ce83056c91c8"
      },
      "source": [
        "issubclass(bool, int)"
      ],
      "execution_count": null,
      "outputs": [
        {
          "output_type": "execute_result",
          "data": {
            "text/plain": [
              "True"
            ]
          },
          "metadata": {
            "tags": []
          },
          "execution_count": 1
        }
      ]
    },
    {
      "cell_type": "markdown",
      "metadata": {
        "tags": [],
        "cell_id": "00001-8633a1ba-948e-45fc-ad28-eae9d3508abe",
        "deepnote_cell_type": "markdown",
        "id": "vpG3F3T4XmfS"
      },
      "source": [
        "### Singleton Instances\n",
        "\n",
        "True, and False are singleton instance. \n"
      ]
    },
    {
      "cell_type": "code",
      "metadata": {
        "tags": [],
        "cell_id": "00001-3b032478-dbe8-4d54-90b1-fc4d8a9b680c",
        "deepnote_to_be_reexecuted": false,
        "source_hash": "be848141",
        "execution_start": 1611969152896,
        "execution_millis": 5,
        "deepnote_cell_type": "code",
        "id": "3f0QshEYXmfW",
        "outputId": "6736ab7d-877a-4c95-c667-3dcb16fabb3a"
      },
      "source": [
        "type(True), id(True), int(True)"
      ],
      "execution_count": null,
      "outputs": [
        {
          "output_type": "execute_result",
          "data": {
            "text/plain": [
              "(bool, 140636471786560, 1)"
            ]
          },
          "metadata": {
            "tags": []
          },
          "execution_count": 2
        }
      ]
    },
    {
      "cell_type": "code",
      "metadata": {
        "tags": [],
        "cell_id": "00003-088d22f2-e5a6-4e93-8cb4-b2c5ed933980",
        "deepnote_to_be_reexecuted": false,
        "source_hash": "2c64a793",
        "execution_start": 1611969170246,
        "execution_millis": 44,
        "deepnote_cell_type": "code",
        "id": "H4_i5w4MXmfW",
        "outputId": "a06230a7-11bc-4819-89ac-d8c6601b742c"
      },
      "source": [
        "type(False), id(False), int(False)"
      ],
      "execution_count": null,
      "outputs": [
        {
          "output_type": "execute_result",
          "data": {
            "text/plain": [
              "(bool, 140636471786592, 0)"
            ]
          },
          "metadata": {
            "tags": []
          },
          "execution_count": 3
        }
      ]
    },
    {
      "cell_type": "code",
      "metadata": {
        "tags": [],
        "cell_id": "00004-f1dc91f9-35f6-4b0b-902a-d3cf6c89da67",
        "deepnote_to_be_reexecuted": false,
        "source_hash": "87a4cafa",
        "execution_start": 1611969198013,
        "execution_millis": 45,
        "deepnote_cell_type": "code",
        "id": "XgG6iVexXmfW",
        "outputId": "f06500de-078a-4da7-e892-6b6bb0285801"
      },
      "source": [
        "isinstance(True, bool)"
      ],
      "execution_count": null,
      "outputs": [
        {
          "output_type": "execute_result",
          "data": {
            "text/plain": [
              "True"
            ]
          },
          "metadata": {
            "tags": []
          },
          "execution_count": 4
        }
      ]
    },
    {
      "cell_type": "code",
      "metadata": {
        "tags": [],
        "cell_id": "00005-6ac3c3cc-e917-4890-bdfa-011202fb0e7e",
        "deepnote_to_be_reexecuted": false,
        "source_hash": "f6b2f066",
        "execution_start": 1611969205477,
        "execution_millis": 10,
        "deepnote_cell_type": "code",
        "id": "AP8UxAsxXmfX",
        "outputId": "4f23a2fe-926a-4c2a-eabd-d0d5471cfb77"
      },
      "source": [
        "isinstance(True, int)"
      ],
      "execution_count": null,
      "outputs": [
        {
          "output_type": "execute_result",
          "data": {
            "text/plain": [
              "True"
            ]
          },
          "metadata": {
            "tags": []
          },
          "execution_count": 5
        }
      ]
    },
    {
      "cell_type": "code",
      "metadata": {
        "tags": [],
        "cell_id": "00006-3a6ff714-e61c-4fd3-8170-258189250d43",
        "deepnote_to_be_reexecuted": false,
        "source_hash": "52ebc8a9",
        "execution_start": 1611969223599,
        "execution_millis": 14,
        "deepnote_cell_type": "code",
        "id": "tRaVlX_xXmfX",
        "outputId": "0ea98490-922a-47bc-dbe3-dfa660637473"
      },
      "source": [
        "id(True), id(1<2)"
      ],
      "execution_count": null,
      "outputs": [
        {
          "output_type": "execute_result",
          "data": {
            "text/plain": [
              "(140636471786560, 140636471786560)"
            ]
          },
          "metadata": {
            "tags": []
          },
          "execution_count": 6
        }
      ]
    },
    {
      "cell_type": "code",
      "metadata": {
        "tags": [],
        "cell_id": "00007-6b7f7249-6921-45be-b56f-96469f833b27",
        "deepnote_to_be_reexecuted": false,
        "source_hash": "2a7c120c",
        "execution_start": 1611969245829,
        "execution_millis": 3,
        "deepnote_cell_type": "code",
        "id": "6Mv1mquUXmfX",
        "outputId": "9bb2094d-d541-47fe-dc4f-88617dda1f6c"
      },
      "source": [
        "id(False), id(1>2)"
      ],
      "execution_count": null,
      "outputs": [
        {
          "output_type": "execute_result",
          "data": {
            "text/plain": [
              "(140636471786592, 140636471786592)"
            ]
          },
          "metadata": {
            "tags": []
          },
          "execution_count": 7
        }
      ]
    },
    {
      "cell_type": "code",
      "metadata": {
        "tags": [],
        "cell_id": "00008-164949db-3230-49de-8370-c977b1be926f",
        "deepnote_to_be_reexecuted": false,
        "source_hash": "f1e143e0",
        "execution_start": 1611969272031,
        "execution_millis": 3,
        "deepnote_cell_type": "code",
        "id": "WpJHw36hXmfY",
        "outputId": "59dfa172-a6ae-411c-8e2b-feea28aa1d29"
      },
      "source": [
        "(1 < 2) is True, (1 < 2) == True"
      ],
      "execution_count": null,
      "outputs": [
        {
          "output_type": "execute_result",
          "data": {
            "text/plain": [
              "(True, True)"
            ]
          },
          "metadata": {
            "tags": []
          },
          "execution_count": 8
        }
      ]
    },
    {
      "cell_type": "code",
      "metadata": {
        "tags": [],
        "cell_id": "00009-02cc0c0e-4964-49b9-8b44-946c3bed0934",
        "deepnote_to_be_reexecuted": false,
        "source_hash": "9ff75ca9",
        "execution_start": 1611969287829,
        "execution_millis": 2,
        "deepnote_cell_type": "code",
        "id": "29OyxmsHXmfY",
        "outputId": "4a920c8a-d77b-4e2c-ef14-62fa0a5f914f"
      },
      "source": [
        "(1 > 2) is True, (1 > 2) == True"
      ],
      "execution_count": null,
      "outputs": [
        {
          "output_type": "execute_result",
          "data": {
            "text/plain": [
              "(False, False)"
            ]
          },
          "metadata": {
            "tags": []
          },
          "execution_count": 9
        }
      ]
    },
    {
      "cell_type": "code",
      "metadata": {
        "tags": [],
        "cell_id": "00010-30c86349-337f-40c1-aadf-d10c3c340f83",
        "deepnote_to_be_reexecuted": false,
        "source_hash": "b3298d74",
        "execution_start": 1611969303236,
        "execution_millis": 3,
        "deepnote_cell_type": "code",
        "id": "mNGme7H0XmfZ",
        "outputId": "54387ee1-78df-42b0-c960-72edbe00ce3c"
      },
      "source": [
        "1 == 2 == False"
      ],
      "execution_count": null,
      "outputs": [
        {
          "output_type": "execute_result",
          "data": {
            "text/plain": [
              "False"
            ]
          },
          "metadata": {
            "tags": []
          },
          "execution_count": 10
        }
      ]
    },
    {
      "cell_type": "code",
      "metadata": {
        "tags": [],
        "cell_id": "00011-9ba01159-3244-43dc-b08d-2ed0f72b6bb6",
        "deepnote_to_be_reexecuted": false,
        "source_hash": "eeb126fd",
        "execution_start": 1611969319625,
        "execution_millis": 3,
        "deepnote_cell_type": "code",
        "id": "4Uf_2oaUXmfZ",
        "outputId": "0fd66f32-ee90-491f-8cd0-c0a7e444c23f"
      },
      "source": [
        "(1 == 2) == False"
      ],
      "execution_count": null,
      "outputs": [
        {
          "output_type": "execute_result",
          "data": {
            "text/plain": [
              "True"
            ]
          },
          "metadata": {
            "tags": []
          },
          "execution_count": 11
        }
      ]
    },
    {
      "cell_type": "code",
      "metadata": {
        "tags": [],
        "cell_id": "00012-5a665046-d899-430c-a157-c626383ac232",
        "deepnote_to_be_reexecuted": false,
        "source_hash": "c5eb8fb0",
        "execution_start": 1611969414866,
        "execution_millis": 1,
        "deepnote_cell_type": "code",
        "id": "MnUPnf8_XmfZ",
        "outputId": "4d32e898-208d-4e0d-8ef4-0a6e0d62ba34"
      },
      "source": [
        "1 == 2 == False # (1 == 2) << 1st, AND (b == c)\n",
        "# a == b AND b == c\n",
        "# (a == b) == c"
      ],
      "execution_count": null,
      "outputs": [
        {
          "output_type": "execute_result",
          "data": {
            "text/plain": [
              "False"
            ]
          },
          "metadata": {
            "tags": []
          },
          "execution_count": 12
        }
      ]
    },
    {
      "cell_type": "code",
      "metadata": {
        "tags": [],
        "cell_id": "00013-1aa2c3c4-b532-433c-bd6c-a9d380712d1a",
        "deepnote_to_be_reexecuted": false,
        "source_hash": "52ae763",
        "execution_start": 1611969422438,
        "execution_millis": 0,
        "deepnote_cell_type": "code",
        "id": "JXBVsTkqXmfZ",
        "outputId": "58129d92-8719-45e3-db18-160f07274458"
      },
      "source": [
        "int(True), int(False)"
      ],
      "execution_count": null,
      "outputs": [
        {
          "output_type": "execute_result",
          "data": {
            "text/plain": [
              "(1, 0)"
            ]
          },
          "metadata": {
            "tags": []
          },
          "execution_count": 13
        }
      ]
    },
    {
      "cell_type": "code",
      "metadata": {
        "tags": [],
        "cell_id": "00014-cf368029-ed2c-425e-acbc-fb910cd5be82",
        "deepnote_to_be_reexecuted": false,
        "source_hash": "a4a293f6",
        "execution_start": 1611969437698,
        "execution_millis": 14,
        "deepnote_cell_type": "code",
        "id": "OvoZltw1Xmfa",
        "outputId": "e8453b80-2860-40c0-832c-140d1e9b83f7"
      },
      "source": [
        "1 == True, 0 == False"
      ],
      "execution_count": null,
      "outputs": [
        {
          "output_type": "execute_result",
          "data": {
            "text/plain": [
              "(True, True)"
            ]
          },
          "metadata": {
            "tags": []
          },
          "execution_count": 14
        }
      ]
    },
    {
      "cell_type": "code",
      "metadata": {
        "tags": [],
        "cell_id": "00015-5ed189ae-c9ed-4f76-b0a6-a9126a70b3c4",
        "deepnote_to_be_reexecuted": false,
        "source_hash": "e9c4e56b",
        "execution_start": 1611969448527,
        "execution_millis": 0,
        "deepnote_cell_type": "code",
        "id": "EdknSZy0Xmfa",
        "outputId": "12961900-c8fb-48c9-c7dc-c31f8d22a688"
      },
      "source": [
        "id(1), id(True)"
      ],
      "execution_count": null,
      "outputs": [
        {
          "output_type": "execute_result",
          "data": {
            "text/plain": [
              "(140636472218688, 140636471786560)"
            ]
          },
          "metadata": {
            "tags": []
          },
          "execution_count": 15
        }
      ]
    },
    {
      "cell_type": "code",
      "metadata": {
        "tags": [],
        "cell_id": "00016-88fdda0c-53fb-4731-8e3b-e33b717b287f",
        "deepnote_to_be_reexecuted": false,
        "source_hash": "41b1a897",
        "execution_start": 1611969473283,
        "execution_millis": 15,
        "deepnote_cell_type": "code",
        "id": "1oVnzQ9RXmfa",
        "outputId": "9bcfe297-8b64-4316-dc70-95b0617c9f52"
      },
      "source": [
        "1 == True, 1 is True"
      ],
      "execution_count": null,
      "outputs": [
        {
          "output_type": "execute_result",
          "data": {
            "text/plain": [
              "(True, False)"
            ]
          },
          "metadata": {
            "tags": []
          },
          "execution_count": 16
        }
      ]
    },
    {
      "cell_type": "code",
      "metadata": {
        "tags": [],
        "cell_id": "00017-5b5defe7-b890-4682-8e17-46dc9ec02ee9",
        "deepnote_to_be_reexecuted": false,
        "source_hash": "ef752754",
        "execution_start": 1611969486430,
        "execution_millis": 2,
        "deepnote_cell_type": "code",
        "id": "PrYV68KhXmfa",
        "outputId": "4a7fa3a7-81b4-45b1-8230-837a286812d0"
      },
      "source": [
        "0 == False, 0 is False"
      ],
      "execution_count": null,
      "outputs": [
        {
          "output_type": "execute_result",
          "data": {
            "text/plain": [
              "(True, False)"
            ]
          },
          "metadata": {
            "tags": []
          },
          "execution_count": 17
        }
      ]
    },
    {
      "cell_type": "code",
      "metadata": {
        "tags": [],
        "cell_id": "00018-deaa5ac6-ba97-41e2-ae8a-e1e5e3d96bb9",
        "deepnote_to_be_reexecuted": false,
        "source_hash": "e3537586",
        "execution_start": 1611969507010,
        "execution_millis": 3,
        "deepnote_cell_type": "code",
        "id": "2H_uWD-tXmfb"
      },
      "source": [
        "# bool(x) = True for any value except 0. "
      ],
      "execution_count": null,
      "outputs": []
    },
    {
      "cell_type": "code",
      "metadata": {
        "tags": [],
        "cell_id": "00019-eccdde51-4931-4197-8112-a2179ed89341",
        "deepnote_to_be_reexecuted": false,
        "source_hash": "ee47b33c",
        "execution_start": 1611969513294,
        "execution_millis": 10,
        "deepnote_cell_type": "code",
        "id": "GGb2nvz7Xmfb",
        "outputId": "35acdc72-d74b-4289-cb8b-a533ab9f6540"
      },
      "source": [
        "bool(0)"
      ],
      "execution_count": null,
      "outputs": [
        {
          "output_type": "execute_result",
          "data": {
            "text/plain": [
              "False"
            ]
          },
          "metadata": {
            "tags": []
          },
          "execution_count": 19
        }
      ]
    },
    {
      "cell_type": "code",
      "metadata": {
        "tags": [],
        "cell_id": "00020-abff22f2-672b-4528-8158-5c1ee3816f0d",
        "deepnote_to_be_reexecuted": false,
        "source_hash": "3871ea3e",
        "execution_start": 1611969527490,
        "execution_millis": 11,
        "deepnote_cell_type": "code",
        "id": "Ub4OCMqQXmfb",
        "outputId": "1a0f8503-5cf9-45d5-c5fe-95f9fa8f5d1b"
      },
      "source": [
        "bool(-40), bool(34)"
      ],
      "execution_count": null,
      "outputs": [
        {
          "output_type": "execute_result",
          "data": {
            "text/plain": [
              "(True, True)"
            ]
          },
          "metadata": {
            "tags": []
          },
          "execution_count": 20
        }
      ]
    },
    {
      "cell_type": "code",
      "metadata": {
        "tags": [],
        "cell_id": "00021-b2154eee-6299-4fe1-a5e8-bc72e49d2a5a",
        "deepnote_to_be_reexecuted": false,
        "source_hash": "7a1b495a",
        "execution_millis": 3,
        "execution_start": 1611969559350,
        "deepnote_cell_type": "code",
        "id": "Mbc_NKjUXmfb",
        "outputId": "5911a771-5bb8-4dfe-c4cc-c39a5582d3a2"
      },
      "source": [
        "4 + 5, True + True"
      ],
      "execution_count": null,
      "outputs": [
        {
          "output_type": "execute_result",
          "data": {
            "text/plain": [
              "(9, 2)"
            ]
          },
          "metadata": {
            "tags": []
          },
          "execution_count": 22
        }
      ]
    },
    {
      "cell_type": "code",
      "metadata": {
        "tags": [],
        "cell_id": "00022-aa278ba3-4fce-4c1e-8226-e02756ec87e2",
        "deepnote_to_be_reexecuted": false,
        "source_hash": "ea3f7438",
        "execution_start": 1611969572633,
        "execution_millis": 5,
        "deepnote_cell_type": "code",
        "id": "ivrWD2KqXmfc",
        "outputId": "f59bef5f-51bd-48a6-84ef-4eec676c3be3"
      },
      "source": [
        "4*0, True*False"
      ],
      "execution_count": null,
      "outputs": [
        {
          "output_type": "execute_result",
          "data": {
            "text/plain": [
              "(0, 0)"
            ]
          },
          "metadata": {
            "tags": []
          },
          "execution_count": 23
        }
      ]
    },
    {
      "cell_type": "code",
      "metadata": {
        "tags": [],
        "cell_id": "00023-c7818fbb-ff77-4585-bfcc-817e38b5df54",
        "deepnote_to_be_reexecuted": false,
        "source_hash": "fb9f9859",
        "execution_start": 1611969586493,
        "execution_millis": 6,
        "deepnote_cell_type": "code",
        "id": "dGwPjMmYXmfc",
        "outputId": "b14f0c71-e6af-43d1-fdca-c9ee1a7b14a8"
      },
      "source": [
        "True + 3"
      ],
      "execution_count": null,
      "outputs": [
        {
          "output_type": "execute_result",
          "data": {
            "text/plain": [
              "4"
            ]
          },
          "metadata": {
            "tags": []
          },
          "execution_count": 24
        }
      ]
    },
    {
      "cell_type": "code",
      "metadata": {
        "tags": [],
        "cell_id": "00024-f6fadfb3-0e7e-47c4-b4d6-82fa7c08b810",
        "deepnote_to_be_reexecuted": false,
        "source_hash": "58379296",
        "execution_start": 1611969591930,
        "execution_millis": 4,
        "deepnote_cell_type": "code",
        "id": "gZ6p24ZDXmfc",
        "outputId": "c142ecf1-b052-4107-93d9-ec5b58aa431a"
      },
      "source": [
        "False // 2"
      ],
      "execution_count": null,
      "outputs": [
        {
          "output_type": "execute_result",
          "data": {
            "text/plain": [
              "0"
            ]
          },
          "metadata": {
            "tags": []
          },
          "execution_count": 25
        }
      ]
    },
    {
      "cell_type": "code",
      "metadata": {
        "tags": [],
        "cell_id": "00025-6df5f4c3-020c-4b44-87ac-681826a40a5d",
        "deepnote_to_be_reexecuted": false,
        "source_hash": "48ccf65b",
        "execution_start": 1611969606762,
        "execution_millis": 15,
        "deepnote_cell_type": "code",
        "id": "bpSrtwNrXmfc",
        "outputId": "f015f2fd-7feb-4679-e1a1-6f4f8304ec1a"
      },
      "source": [
        "(True*5)%2"
      ],
      "execution_count": null,
      "outputs": [
        {
          "output_type": "execute_result",
          "data": {
            "text/plain": [
              "1"
            ]
          },
          "metadata": {
            "tags": []
          },
          "execution_count": 26
        }
      ]
    },
    {
      "cell_type": "code",
      "metadata": {
        "tags": [],
        "cell_id": "00026-2af8457d-d668-4530-9b0f-834b58fc3191",
        "deepnote_to_be_reexecuted": false,
        "source_hash": "27b4a476",
        "execution_start": 1611969614911,
        "execution_millis": 16,
        "deepnote_cell_type": "code",
        "id": "FbCvUpFuXmfd",
        "outputId": "d5da7e81-c782-4da0-9438-f22e7345ab93"
      },
      "source": [
        "-True"
      ],
      "execution_count": null,
      "outputs": [
        {
          "output_type": "execute_result",
          "data": {
            "text/plain": [
              "-1"
            ]
          },
          "metadata": {
            "tags": []
          },
          "execution_count": 27
        }
      ]
    },
    {
      "cell_type": "code",
      "metadata": {
        "tags": [],
        "cell_id": "00027-f6656b0a-b395-4ab1-ae8e-c5a0ed555ecf",
        "deepnote_to_be_reexecuted": false,
        "source_hash": "d0be348a",
        "execution_start": 1611969622619,
        "execution_millis": 6,
        "deepnote_cell_type": "code",
        "id": "UlIWWgiZXmfd",
        "outputId": "b3604c0a-590a-47c8-d2d3-04a44ce5a0af"
      },
      "source": [
        "100 * False"
      ],
      "execution_count": null,
      "outputs": [
        {
          "output_type": "execute_result",
          "data": {
            "text/plain": [
              "0"
            ]
          },
          "metadata": {
            "tags": []
          },
          "execution_count": 28
        }
      ]
    },
    {
      "cell_type": "code",
      "metadata": {
        "tags": [],
        "cell_id": "00028-8ceb27d4-56f7-4b8d-9722-0f27717726fd",
        "deepnote_to_be_reexecuted": false,
        "source_hash": "ee47b33c",
        "execution_millis": 3,
        "execution_start": 1611969698633,
        "deepnote_cell_type": "code",
        "id": "fX--fFEIXmfd",
        "outputId": "2b7665c2-94cb-43ee-9f35-7a2004e9d506"
      },
      "source": [
        "bool(0)"
      ],
      "execution_count": null,
      "outputs": [
        {
          "output_type": "execute_result",
          "data": {
            "text/plain": [
              "False"
            ]
          },
          "metadata": {
            "tags": []
          },
          "execution_count": 31
        }
      ]
    },
    {
      "cell_type": "code",
      "metadata": {
        "tags": [],
        "cell_id": "00029-1e12d6c2-cc56-404c-af0d-6358ce5031e8",
        "deepnote_to_be_reexecuted": false,
        "source_hash": "47b2ca13",
        "execution_start": 1611969706101,
        "execution_millis": 8,
        "deepnote_cell_type": "code",
        "id": "sOBIWemYXmfd",
        "outputId": "5fb4fa66-6f1a-49c2-cb01-9dcc7ebb1df2"
      },
      "source": [
        "bool(-123123)"
      ],
      "execution_count": null,
      "outputs": [
        {
          "output_type": "execute_result",
          "data": {
            "text/plain": [
              "True"
            ]
          },
          "metadata": {
            "tags": []
          },
          "execution_count": 32
        }
      ]
    },
    {
      "cell_type": "code",
      "metadata": {
        "tags": [],
        "cell_id": "00030-6b93825a-a758-4591-a496-544328f6883a",
        "deepnote_to_be_reexecuted": false,
        "source_hash": "fe56e65a",
        "execution_start": 1611969727093,
        "execution_millis": 22,
        "deepnote_cell_type": "code",
        "id": "bJiq9CpnXmfe",
        "outputId": "414aaf6b-462d-4e98-cf34-00c6dd26e77e"
      },
      "source": [
        "help(bool)"
      ],
      "execution_count": null,
      "outputs": [
        {
          "output_type": "stream",
          "text": [
            "Help on class bool in module builtins:\n",
            "\n",
            "class bool(int)\n",
            " |  bool(x) -> bool\n",
            " |  \n",
            " |  Returns True when the argument x is true, False otherwise.\n",
            " |  The builtins True and False are the only two instances of the class bool.\n",
            " |  The class bool is a subclass of the class int, and cannot be subclassed.\n",
            " |  \n",
            " |  Method resolution order:\n",
            " |      bool\n",
            " |      int\n",
            " |      object\n",
            " |  \n",
            " |  Methods defined here:\n",
            " |  \n",
            " |  __and__(self, value, /)\n",
            " |      Return self&value.\n",
            " |  \n",
            " |  __or__(self, value, /)\n",
            " |      Return self|value.\n",
            " |  \n",
            " |  __rand__(self, value, /)\n",
            " |      Return value&self.\n",
            " |  \n",
            " |  __repr__(self, /)\n",
            " |      Return repr(self).\n",
            " |  \n",
            " |  __ror__(self, value, /)\n",
            " |      Return value|self.\n",
            " |  \n",
            " |  __rxor__(self, value, /)\n",
            " |      Return value^self.\n",
            " |  \n",
            " |  __str__(self, /)\n",
            " |      Return str(self).\n",
            " |  \n",
            " |  __xor__(self, value, /)\n",
            " |      Return self^value.\n",
            " |  \n",
            " |  ----------------------------------------------------------------------\n",
            " |  Static methods defined here:\n",
            " |  \n",
            " |  __new__(*args, **kwargs) from builtins.type\n",
            " |      Create and return a new object.  See help(type) for accurate signature.\n",
            " |  \n",
            " |  ----------------------------------------------------------------------\n",
            " |  Methods inherited from int:\n",
            " |  \n",
            " |  __abs__(self, /)\n",
            " |      abs(self)\n",
            " |  \n",
            " |  __add__(self, value, /)\n",
            " |      Return self+value.\n",
            " |  \n",
            " |  __bool__(self, /)\n",
            " |      self != 0\n",
            " |  \n",
            " |  __ceil__(...)\n",
            " |      Ceiling of an Integral returns itself.\n",
            " |  \n",
            " |  __divmod__(self, value, /)\n",
            " |      Return divmod(self, value).\n",
            " |  \n",
            " |  __eq__(self, value, /)\n",
            " |      Return self==value.\n",
            " |  \n",
            " |  __float__(self, /)\n",
            " |      float(self)\n",
            " |  \n",
            " |  __floor__(...)\n",
            " |      Flooring an Integral returns itself.\n",
            " |  \n",
            " |  __floordiv__(self, value, /)\n",
            " |      Return self//value.\n",
            " |  \n",
            " |  __format__(self, format_spec, /)\n",
            " |      Default object formatter.\n",
            " |  \n",
            " |  __ge__(self, value, /)\n",
            " |      Return self>=value.\n",
            " |  \n",
            " |  __getattribute__(self, name, /)\n",
            " |      Return getattr(self, name).\n",
            " |  \n",
            " |  __getnewargs__(self, /)\n",
            " |  \n",
            " |  __gt__(self, value, /)\n",
            " |      Return self>value.\n",
            " |  \n",
            " |  __hash__(self, /)\n",
            " |      Return hash(self).\n",
            " |  \n",
            " |  __index__(self, /)\n",
            " |      Return self converted to an integer, if self is suitable for use as an index into a list.\n",
            " |  \n",
            " |  __int__(self, /)\n",
            " |      int(self)\n",
            " |  \n",
            " |  __invert__(self, /)\n",
            " |      ~self\n",
            " |  \n",
            " |  __le__(self, value, /)\n",
            " |      Return self<=value.\n",
            " |  \n",
            " |  __lshift__(self, value, /)\n",
            " |      Return self<<value.\n",
            " |  \n",
            " |  __lt__(self, value, /)\n",
            " |      Return self<value.\n",
            " |  \n",
            " |  __mod__(self, value, /)\n",
            " |      Return self%value.\n",
            " |  \n",
            " |  __mul__(self, value, /)\n",
            " |      Return self*value.\n",
            " |  \n",
            " |  __ne__(self, value, /)\n",
            " |      Return self!=value.\n",
            " |  \n",
            " |  __neg__(self, /)\n",
            " |      -self\n",
            " |  \n",
            " |  __pos__(self, /)\n",
            " |      +self\n",
            " |  \n",
            " |  __pow__(self, value, mod=None, /)\n",
            " |      Return pow(self, value, mod).\n",
            " |  \n",
            " |  __radd__(self, value, /)\n",
            " |      Return value+self.\n",
            " |  \n",
            " |  __rdivmod__(self, value, /)\n",
            " |      Return divmod(value, self).\n",
            " |  \n",
            " |  __rfloordiv__(self, value, /)\n",
            " |      Return value//self.\n",
            " |  \n",
            " |  __rlshift__(self, value, /)\n",
            " |      Return value<<self.\n",
            " |  \n",
            " |  __rmod__(self, value, /)\n",
            " |      Return value%self.\n",
            " |  \n",
            " |  __rmul__(self, value, /)\n",
            " |      Return value*self.\n",
            " |  \n",
            " |  __round__(...)\n",
            " |      Rounding an Integral returns itself.\n",
            " |      Rounding with an ndigits argument also returns an integer.\n",
            " |  \n",
            " |  __rpow__(self, value, mod=None, /)\n",
            " |      Return pow(value, self, mod).\n",
            " |  \n",
            " |  __rrshift__(self, value, /)\n",
            " |      Return value>>self.\n",
            " |  \n",
            " |  __rshift__(self, value, /)\n",
            " |      Return self>>value.\n",
            " |  \n",
            " |  __rsub__(self, value, /)\n",
            " |      Return value-self.\n",
            " |  \n",
            " |  __rtruediv__(self, value, /)\n",
            " |      Return value/self.\n",
            " |  \n",
            " |  __sizeof__(self, /)\n",
            " |      Returns size in memory, in bytes.\n",
            " |  \n",
            " |  __sub__(self, value, /)\n",
            " |      Return self-value.\n",
            " |  \n",
            " |  __truediv__(self, value, /)\n",
            " |      Return self/value.\n",
            " |  \n",
            " |  __trunc__(...)\n",
            " |      Truncating an Integral returns itself.\n",
            " |  \n",
            " |  bit_length(self, /)\n",
            " |      Number of bits necessary to represent self in binary.\n",
            " |      \n",
            " |      >>> bin(37)\n",
            " |      '0b100101'\n",
            " |      >>> (37).bit_length()\n",
            " |      6\n",
            " |  \n",
            " |  conjugate(...)\n",
            " |      Returns self, the complex conjugate of any int.\n",
            " |  \n",
            " |  to_bytes(self, /, length, byteorder, *, signed=False)\n",
            " |      Return an array of bytes representing an integer.\n",
            " |      \n",
            " |      length\n",
            " |        Length of bytes object to use.  An OverflowError is raised if the\n",
            " |        integer is not representable with the given number of bytes.\n",
            " |      byteorder\n",
            " |        The byte order used to represent the integer.  If byteorder is 'big',\n",
            " |        the most significant byte is at the beginning of the byte array.  If\n",
            " |        byteorder is 'little', the most significant byte is at the end of the\n",
            " |        byte array.  To request the native byte order of the host system, use\n",
            " |        `sys.byteorder' as the byte order value.\n",
            " |      signed\n",
            " |        Determines whether two's complement is used to represent the integer.\n",
            " |        If signed is False and a negative integer is given, an OverflowError\n",
            " |        is raised.\n",
            " |  \n",
            " |  ----------------------------------------------------------------------\n",
            " |  Class methods inherited from int:\n",
            " |  \n",
            " |  from_bytes(bytes, byteorder, *, signed=False) from builtins.type\n",
            " |      Return the integer represented by the given array of bytes.\n",
            " |      \n",
            " |      bytes\n",
            " |        Holds the array of bytes to convert.  The argument must either\n",
            " |        support the buffer protocol or be an iterable object producing bytes.\n",
            " |        Bytes and bytearray are examples of built-in objects that support the\n",
            " |        buffer protocol.\n",
            " |      byteorder\n",
            " |        The byte order used to represent the integer.  If byteorder is 'big',\n",
            " |        the most significant byte is at the beginning of the byte array.  If\n",
            " |        byteorder is 'little', the most significant byte is at the end of the\n",
            " |        byte array.  To request the native byte order of the host system, use\n",
            " |        `sys.byteorder' as the byte order value.\n",
            " |      signed\n",
            " |        Indicates whether two's complement is used to represent the integer.\n",
            " |  \n",
            " |  ----------------------------------------------------------------------\n",
            " |  Data descriptors inherited from int:\n",
            " |  \n",
            " |  denominator\n",
            " |      the denominator of a rational number in lowest terms\n",
            " |  \n",
            " |  imag\n",
            " |      the imaginary part of a complex number\n",
            " |  \n",
            " |  numerator\n",
            " |      the numerator of a rational number in lowest terms\n",
            " |  \n",
            " |  real\n",
            " |      the real part of a complex number\n",
            "\n"
          ],
          "name": "stdout"
        }
      ]
    },
    {
      "cell_type": "code",
      "metadata": {
        "tags": [],
        "cell_id": "00031-5086d08c-94c4-4145-a2a8-cbd66db2d1d7",
        "deepnote_to_be_reexecuted": false,
        "source_hash": "7d5ae212",
        "execution_start": 1611969743379,
        "execution_millis": 42,
        "deepnote_cell_type": "code",
        "id": "_egBKrhHXmfe",
        "outputId": "165c366d-08b9-410f-9e3e-97dcadd2cdf8"
      },
      "source": [
        "help(int)"
      ],
      "execution_count": null,
      "outputs": [
        {
          "output_type": "stream",
          "text": [
            "Help on class int in module builtins:\n",
            "\n",
            "class int(object)\n",
            " |  int([x]) -> integer\n",
            " |  int(x, base=10) -> integer\n",
            " |  \n",
            " |  Convert a number or string to an integer, or return 0 if no arguments\n",
            " |  are given.  If x is a number, return x.__int__().  For floating point\n",
            " |  numbers, this truncates towards zero.\n",
            " |  \n",
            " |  If x is not a number or if base is given, then x must be a string,\n",
            " |  bytes, or bytearray instance representing an integer literal in the\n",
            " |  given base.  The literal can be preceded by '+' or '-' and be surrounded\n",
            " |  by whitespace.  The base defaults to 10.  Valid bases are 0 and 2-36.\n",
            " |  Base 0 means to interpret the base from the string as an integer literal.\n",
            " |  >>> int('0b100', base=0)\n",
            " |  4\n",
            " |  \n",
            " |  Methods defined here:\n",
            " |  \n",
            " |  __abs__(self, /)\n",
            " |      abs(self)\n",
            " |  \n",
            " |  __add__(self, value, /)\n",
            " |      Return self+value.\n",
            " |  \n",
            " |  __and__(self, value, /)\n",
            " |      Return self&value.\n",
            " |  \n",
            " |  __bool__(self, /)\n",
            " |      self != 0\n",
            " |  \n",
            " |  __ceil__(...)\n",
            " |      Ceiling of an Integral returns itself.\n",
            " |  \n",
            " |  __divmod__(self, value, /)\n",
            " |      Return divmod(self, value).\n",
            " |  \n",
            " |  __eq__(self, value, /)\n",
            " |      Return self==value.\n",
            " |  \n",
            " |  __float__(self, /)\n",
            " |      float(self)\n",
            " |  \n",
            " |  __floor__(...)\n",
            " |      Flooring an Integral returns itself.\n",
            " |  \n",
            " |  __floordiv__(self, value, /)\n",
            " |      Return self//value.\n",
            " |  \n",
            " |  __format__(self, format_spec, /)\n",
            " |      Default object formatter.\n",
            " |  \n",
            " |  __ge__(self, value, /)\n",
            " |      Return self>=value.\n",
            " |  \n",
            " |  __getattribute__(self, name, /)\n",
            " |      Return getattr(self, name).\n",
            " |  \n",
            " |  __getnewargs__(self, /)\n",
            " |  \n",
            " |  __gt__(self, value, /)\n",
            " |      Return self>value.\n",
            " |  \n",
            " |  __hash__(self, /)\n",
            " |      Return hash(self).\n",
            " |  \n",
            " |  __index__(self, /)\n",
            " |      Return self converted to an integer, if self is suitable for use as an index into a list.\n",
            " |  \n",
            " |  __int__(self, /)\n",
            " |      int(self)\n",
            " |  \n",
            " |  __invert__(self, /)\n",
            " |      ~self\n",
            " |  \n",
            " |  __le__(self, value, /)\n",
            " |      Return self<=value.\n",
            " |  \n",
            " |  __lshift__(self, value, /)\n",
            " |      Return self<<value.\n",
            " |  \n",
            " |  __lt__(self, value, /)\n",
            " |      Return self<value.\n",
            " |  \n",
            " |  __mod__(self, value, /)\n",
            " |      Return self%value.\n",
            " |  \n",
            " |  __mul__(self, value, /)\n",
            " |      Return self*value.\n",
            " |  \n",
            " |  __ne__(self, value, /)\n",
            " |      Return self!=value.\n",
            " |  \n",
            " |  __neg__(self, /)\n",
            " |      -self\n",
            " |  \n",
            " |  __or__(self, value, /)\n",
            " |      Return self|value.\n",
            " |  \n",
            " |  __pos__(self, /)\n",
            " |      +self\n",
            " |  \n",
            " |  __pow__(self, value, mod=None, /)\n",
            " |      Return pow(self, value, mod).\n",
            " |  \n",
            " |  __radd__(self, value, /)\n",
            " |      Return value+self.\n",
            " |  \n",
            " |  __rand__(self, value, /)\n",
            " |      Return value&self.\n",
            " |  \n",
            " |  __rdivmod__(self, value, /)\n",
            " |      Return divmod(value, self).\n",
            " |  \n",
            " |  __repr__(self, /)\n",
            " |      Return repr(self).\n",
            " |  \n",
            " |  __rfloordiv__(self, value, /)\n",
            " |      Return value//self.\n",
            " |  \n",
            " |  __rlshift__(self, value, /)\n",
            " |      Return value<<self.\n",
            " |  \n",
            " |  __rmod__(self, value, /)\n",
            " |      Return value%self.\n",
            " |  \n",
            " |  __rmul__(self, value, /)\n",
            " |      Return value*self.\n",
            " |  \n",
            " |  __ror__(self, value, /)\n",
            " |      Return value|self.\n",
            " |  \n",
            " |  __round__(...)\n",
            " |      Rounding an Integral returns itself.\n",
            " |      Rounding with an ndigits argument also returns an integer.\n",
            " |  \n",
            " |  __rpow__(self, value, mod=None, /)\n",
            " |      Return pow(value, self, mod).\n",
            " |  \n",
            " |  __rrshift__(self, value, /)\n",
            " |      Return value>>self.\n",
            " |  \n",
            " |  __rshift__(self, value, /)\n",
            " |      Return self>>value.\n",
            " |  \n",
            " |  __rsub__(self, value, /)\n",
            " |      Return value-self.\n",
            " |  \n",
            " |  __rtruediv__(self, value, /)\n",
            " |      Return value/self.\n",
            " |  \n",
            " |  __rxor__(self, value, /)\n",
            " |      Return value^self.\n",
            " |  \n",
            " |  __sizeof__(self, /)\n",
            " |      Returns size in memory, in bytes.\n",
            " |  \n",
            " |  __str__(self, /)\n",
            " |      Return str(self).\n",
            " |  \n",
            " |  __sub__(self, value, /)\n",
            " |      Return self-value.\n",
            " |  \n",
            " |  __truediv__(self, value, /)\n",
            " |      Return self/value.\n",
            " |  \n",
            " |  __trunc__(...)\n",
            " |      Truncating an Integral returns itself.\n",
            " |  \n",
            " |  __xor__(self, value, /)\n",
            " |      Return self^value.\n",
            " |  \n",
            " |  bit_length(self, /)\n",
            " |      Number of bits necessary to represent self in binary.\n",
            " |      \n",
            " |      >>> bin(37)\n",
            " |      '0b100101'\n",
            " |      >>> (37).bit_length()\n",
            " |      6\n",
            " |  \n",
            " |  conjugate(...)\n",
            " |      Returns self, the complex conjugate of any int.\n",
            " |  \n",
            " |  to_bytes(self, /, length, byteorder, *, signed=False)\n",
            " |      Return an array of bytes representing an integer.\n",
            " |      \n",
            " |      length\n",
            " |        Length of bytes object to use.  An OverflowError is raised if the\n",
            " |        integer is not representable with the given number of bytes.\n",
            " |      byteorder\n",
            " |        The byte order used to represent the integer.  If byteorder is 'big',\n",
            " |        the most significant byte is at the beginning of the byte array.  If\n",
            " |        byteorder is 'little', the most significant byte is at the end of the\n",
            " |        byte array.  To request the native byte order of the host system, use\n",
            " |        `sys.byteorder' as the byte order value.\n",
            " |      signed\n",
            " |        Determines whether two's complement is used to represent the integer.\n",
            " |        If signed is False and a negative integer is given, an OverflowError\n",
            " |        is raised.\n",
            " |  \n",
            " |  ----------------------------------------------------------------------\n",
            " |  Class methods defined here:\n",
            " |  \n",
            " |  from_bytes(bytes, byteorder, *, signed=False) from builtins.type\n",
            " |      Return the integer represented by the given array of bytes.\n",
            " |      \n",
            " |      bytes\n",
            " |        Holds the array of bytes to convert.  The argument must either\n",
            " |        support the buffer protocol or be an iterable object producing bytes.\n",
            " |        Bytes and bytearray are examples of built-in objects that support the\n",
            " |        buffer protocol.\n",
            " |      byteorder\n",
            " |        The byte order used to represent the integer.  If byteorder is 'big',\n",
            " |        the most significant byte is at the beginning of the byte array.  If\n",
            " |        byteorder is 'little', the most significant byte is at the end of the\n",
            " |        byte array.  To request the native byte order of the host system, use\n",
            " |        `sys.byteorder' as the byte order value.\n",
            " |      signed\n",
            " |        Indicates whether two's complement is used to represent the integer.\n",
            " |  \n",
            " |  ----------------------------------------------------------------------\n",
            " |  Static methods defined here:\n",
            " |  \n",
            " |  __new__(*args, **kwargs) from builtins.type\n",
            " |      Create and return a new object.  See help(type) for accurate signature.\n",
            " |  \n",
            " |  ----------------------------------------------------------------------\n",
            " |  Data descriptors defined here:\n",
            " |  \n",
            " |  denominator\n",
            " |      the denominator of a rational number in lowest terms\n",
            " |  \n",
            " |  imag\n",
            " |      the imaginary part of a complex number\n",
            " |  \n",
            " |  numerator\n",
            " |      the numerator of a rational number in lowest terms\n",
            " |  \n",
            " |  real\n",
            " |      the real part of a complex number\n",
            "\n"
          ],
          "name": "stdout"
        }
      ]
    },
    {
      "cell_type": "code",
      "metadata": {
        "tags": [],
        "cell_id": "00032-eda27b9d-c039-4c0c-81d0-5beb126a914c",
        "deepnote_to_be_reexecuted": false,
        "source_hash": "c9ad26df",
        "execution_start": 1611969772598,
        "execution_millis": 17,
        "deepnote_cell_type": "code",
        "id": "cTiiHu6MXmfe",
        "outputId": "74dbefe8-e129-4b7d-fba2-b168abd80cae"
      },
      "source": [
        "(100).__bool__()"
      ],
      "execution_count": null,
      "outputs": [
        {
          "output_type": "execute_result",
          "data": {
            "text/plain": [
              "True"
            ]
          },
          "metadata": {
            "tags": []
          },
          "execution_count": 35
        }
      ]
    },
    {
      "cell_type": "code",
      "metadata": {
        "tags": [],
        "cell_id": "00033-939eb4cb-99a5-4189-9ef4-82c875cc4910",
        "deepnote_to_be_reexecuted": false,
        "source_hash": "52b2fb42",
        "execution_start": 1611969778933,
        "execution_millis": 1,
        "deepnote_cell_type": "code",
        "id": "iFB5JA_9Xmff",
        "outputId": "1e414c30-db5e-40d5-d998-ec798c6ed72d"
      },
      "source": [
        "(0).__bool__()"
      ],
      "execution_count": null,
      "outputs": [
        {
          "output_type": "execute_result",
          "data": {
            "text/plain": [
              "False"
            ]
          },
          "metadata": {
            "tags": []
          },
          "execution_count": 36
        }
      ]
    },
    {
      "cell_type": "code",
      "metadata": {
        "tags": [],
        "cell_id": "00034-dd7f75f4-acfd-4055-a0a5-91187c5fc2f2",
        "deepnote_to_be_reexecuted": false,
        "source_hash": "fac2954e",
        "execution_start": 1611969810377,
        "execution_millis": 1,
        "deepnote_cell_type": "code",
        "id": "X6slGo3GXmff"
      },
      "source": [
        "# __bool__() or __len__() or default True"
      ],
      "execution_count": null,
      "outputs": []
    },
    {
      "cell_type": "code",
      "metadata": {
        "tags": [],
        "cell_id": "00035-a109a3e7-f069-47ac-9534-63c3b0fc7d00",
        "deepnote_to_be_reexecuted": false,
        "source_hash": "a2ea4ed1",
        "execution_start": 1611969864209,
        "execution_millis": 4,
        "deepnote_cell_type": "code",
        "id": "nlRmwb87Xmff",
        "outputId": "59341417-e347-463c-ecdd-f4c2287b0fce"
      },
      "source": [
        "from fractions import Fraction\n",
        "from decimal import Decimal\n",
        "\n",
        "bool(10), bool(1.5), bool(Fraction(3, 4)), bool(Decimal('-1.2'))"
      ],
      "execution_count": null,
      "outputs": [
        {
          "output_type": "execute_result",
          "data": {
            "text/plain": [
              "(True, True, True, True)"
            ]
          },
          "metadata": {
            "tags": []
          },
          "execution_count": 38
        }
      ]
    },
    {
      "cell_type": "code",
      "metadata": {
        "tags": [],
        "cell_id": "00036-40594d60-9d4c-4269-9503-e338b8a6a60a",
        "deepnote_to_be_reexecuted": false,
        "source_hash": "97962654",
        "execution_start": 1611969882653,
        "execution_millis": 1,
        "deepnote_cell_type": "code",
        "id": "Qmv6nCU5Xmff",
        "outputId": "6c7d0b4a-bd26-494b-83d2-f1b312433cce"
      },
      "source": [
        "bool(0), bool(-0), bool(Fraction(0, 4)), bool(Decimal('0'))"
      ],
      "execution_count": null,
      "outputs": [
        {
          "output_type": "execute_result",
          "data": {
            "text/plain": [
              "(False, False, False, False)"
            ]
          },
          "metadata": {
            "tags": []
          },
          "execution_count": 39
        }
      ]
    },
    {
      "cell_type": "code",
      "metadata": {
        "tags": [],
        "cell_id": "00037-5b214d1f-6a68-4a21-bea2-57f34690892e",
        "deepnote_to_be_reexecuted": false,
        "source_hash": "4d29c805",
        "execution_start": 1611969966394,
        "execution_millis": 13,
        "deepnote_cell_type": "code",
        "id": "RV9h_BJzXmfg",
        "outputId": "dc45be89-65df-47ac-e2b5-2c3e4442d70d"
      },
      "source": [
        "bool([1, 2, 3]), bool((1, 2, 3)), bool('abc'), bool(1j)"
      ],
      "execution_count": null,
      "outputs": [
        {
          "output_type": "execute_result",
          "data": {
            "text/plain": [
              "(True, True, True, True)"
            ]
          },
          "metadata": {
            "tags": []
          },
          "execution_count": 40
        }
      ]
    },
    {
      "cell_type": "code",
      "metadata": {
        "tags": [],
        "cell_id": "00038-12b2cb62-bd30-4179-b05a-43d716b69897",
        "deepnote_to_be_reexecuted": false,
        "source_hash": "7b74c266",
        "execution_start": 1611969987469,
        "execution_millis": 1,
        "deepnote_cell_type": "code",
        "id": "pm0atJwXXmfg",
        "outputId": "e87eaee5-7133-4eaf-e32f-b1e4060552fe"
      },
      "source": [
        "bool([]), bool(()), bool('')"
      ],
      "execution_count": null,
      "outputs": [
        {
          "output_type": "execute_result",
          "data": {
            "text/plain": [
              "(False, False, False)"
            ]
          },
          "metadata": {
            "tags": []
          },
          "execution_count": 41
        }
      ]
    },
    {
      "cell_type": "code",
      "metadata": {
        "tags": [],
        "cell_id": "00039-60113e2a-ef6b-499c-a266-d48ad9bb083d",
        "deepnote_to_be_reexecuted": false,
        "source_hash": "57f365e5",
        "execution_start": 1611970031242,
        "execution_millis": 3,
        "deepnote_cell_type": "code",
        "id": "ZX59kUCqXmfg",
        "outputId": "421dde54-a732-4a27-abb7-406e5eb3cebc"
      },
      "source": [
        "bool({'a': 1, 'b': 2}), bool({1, 3, 4})"
      ],
      "execution_count": null,
      "outputs": [
        {
          "output_type": "execute_result",
          "data": {
            "text/plain": [
              "(True, True)"
            ]
          },
          "metadata": {
            "tags": []
          },
          "execution_count": 42
        }
      ]
    },
    {
      "cell_type": "code",
      "metadata": {
        "tags": [],
        "cell_id": "00040-2ce05f1d-6c13-4a7c-8005-bf9593f02a7d",
        "deepnote_to_be_reexecuted": false,
        "source_hash": "d3eccc2c",
        "execution_start": 1611970048933,
        "execution_millis": 1,
        "deepnote_cell_type": "code",
        "id": "locwFUiHXmfg",
        "outputId": "55af8a95-b4e0-473c-a928-e3e154a44a00"
      },
      "source": [
        "bool({}), bool(set())"
      ],
      "execution_count": null,
      "outputs": [
        {
          "output_type": "execute_result",
          "data": {
            "text/plain": [
              "(False, False)"
            ]
          },
          "metadata": {
            "tags": []
          },
          "execution_count": 43
        }
      ]
    },
    {
      "cell_type": "code",
      "metadata": {
        "tags": [],
        "cell_id": "00041-78eaaed1-99db-42eb-907f-960ad9c966e1",
        "deepnote_to_be_reexecuted": false,
        "source_hash": "d46679c",
        "execution_start": 1611970071477,
        "execution_millis": 17,
        "deepnote_cell_type": "code",
        "id": "giMGetgmXmfh",
        "outputId": "5d91054f-072d-4545-ff4f-cdd2b874b67b"
      },
      "source": [
        "# None \n",
        "\n",
        "bool(None)"
      ],
      "execution_count": null,
      "outputs": [
        {
          "output_type": "execute_result",
          "data": {
            "text/plain": [
              "False"
            ]
          },
          "metadata": {
            "tags": []
          },
          "execution_count": 44
        }
      ]
    },
    {
      "cell_type": "code",
      "metadata": {
        "tags": [],
        "cell_id": "00042-6421128c-8b93-4dfd-8f0e-798d8cb097b8",
        "deepnote_to_be_reexecuted": false,
        "source_hash": "9a0e8a16",
        "execution_millis": 4,
        "execution_start": 1611970212728,
        "deepnote_cell_type": "code",
        "id": "Q-UcOjdJXmfh",
        "outputId": "9b5c0e52-e695-4e83-dcab-bb2643359046"
      },
      "source": [
        "a = None\n",
        "b = 0\n",
        "if a:\n",
        "    print(a[0])\n",
        "else:\n",
        "    print('a is None, or a is empty')"
      ],
      "execution_count": null,
      "outputs": [
        {
          "output_type": "stream",
          "text": [
            "a is None, or a is empty\n"
          ],
          "name": "stdout"
        }
      ]
    },
    {
      "cell_type": "code",
      "metadata": {
        "tags": [],
        "cell_id": "00043-0c735a1d-aea7-44d9-a424-f8436521db26",
        "deepnote_to_be_reexecuted": false,
        "source_hash": "7a1fadce",
        "execution_millis": 16,
        "execution_start": 1611970246092,
        "deepnote_cell_type": "code",
        "id": "ioqL_cryXmfh",
        "outputId": "af30e77d-ba54-4d0f-9577-cd8ac8b3a25c"
      },
      "source": [
        "d = []\n",
        "type(None), type(d), bool(None), bool(d)"
      ],
      "execution_count": null,
      "outputs": [
        {
          "output_type": "execute_result",
          "data": {
            "text/plain": [
              "(NoneType, list, False, False)"
            ]
          },
          "metadata": {
            "tags": []
          },
          "execution_count": 52
        }
      ]
    },
    {
      "cell_type": "code",
      "metadata": {
        "tags": [],
        "cell_id": "00044-434bac91-5604-4ad2-8bce-ac35226689fd",
        "deepnote_to_be_reexecuted": false,
        "source_hash": "1f615047",
        "execution_millis": 11,
        "execution_start": 1611970414639,
        "deepnote_cell_type": "code",
        "id": "iB3IODw-Xmfh",
        "outputId": "697b0a47-25f4-4101-ac19-20928c251995"
      },
      "source": [
        "database = None\n",
        "\n",
        "if database:\n",
        "    database.append('Rohan')\n",
        "else:\n",
        "    database.append('Name')"
      ],
      "execution_count": null,
      "outputs": [
        {
          "output_type": "error",
          "ename": "AttributeError",
          "evalue": "'NoneType' object has no attribute 'append'",
          "traceback": [
            "\u001b[0;31m---------------------------------------------------------------------------\u001b[0m",
            "\u001b[0;31mAttributeError\u001b[0m                            Traceback (most recent call last)",
            "\u001b[0;32m<ipython-input-61-05b748684ae6>\u001b[0m in \u001b[0;36m<module>\u001b[0;34m\u001b[0m\n\u001b[1;32m      4\u001b[0m     \u001b[0mdatabase\u001b[0m\u001b[0;34m.\u001b[0m\u001b[0mappend\u001b[0m\u001b[0;34m(\u001b[0m\u001b[0;34m'Rohan'\u001b[0m\u001b[0;34m)\u001b[0m\u001b[0;34m\u001b[0m\u001b[0;34m\u001b[0m\u001b[0m\n\u001b[1;32m      5\u001b[0m \u001b[0;32melse\u001b[0m\u001b[0;34m:\u001b[0m\u001b[0;34m\u001b[0m\u001b[0;34m\u001b[0m\u001b[0m\n\u001b[0;32m----> 6\u001b[0;31m     \u001b[0mdatabase\u001b[0m\u001b[0;34m.\u001b[0m\u001b[0mappend\u001b[0m\u001b[0;34m(\u001b[0m\u001b[0;34m'Name'\u001b[0m\u001b[0;34m)\u001b[0m\u001b[0;34m\u001b[0m\u001b[0;34m\u001b[0m\u001b[0m\n\u001b[0m",
            "\u001b[0;31mAttributeError\u001b[0m: 'NoneType' object has no attribute 'append'"
          ]
        }
      ]
    },
    {
      "cell_type": "code",
      "metadata": {
        "tags": [],
        "cell_id": "00045-8cbfe7d0-7384-4179-a437-d2948fdb4fb6",
        "deepnote_to_be_reexecuted": false,
        "source_hash": "147b6e96",
        "execution_start": 1611970431228,
        "execution_millis": 4,
        "deepnote_cell_type": "code",
        "id": "B974-JzOXmfh",
        "outputId": "20e0ddfa-00ba-4a1a-efd9-d8badb01e9ba"
      },
      "source": [
        "a = []\n",
        "if a:\n",
        "    print(a[0])\n",
        "else:\n",
        "    print('a is None, or a is empty')"
      ],
      "execution_count": null,
      "outputs": [
        {
          "output_type": "stream",
          "text": [
            "a is None, or a is empty\n"
          ],
          "name": "stdout"
        }
      ]
    },
    {
      "cell_type": "code",
      "metadata": {
        "tags": [],
        "cell_id": "00046-ae33cd10-80a4-4025-a41c-2df8d45903d3",
        "deepnote_to_be_reexecuted": false,
        "source_hash": "ffc10d6e",
        "execution_start": 1611970439233,
        "execution_millis": 1,
        "deepnote_cell_type": "code",
        "id": "peXcxmIBXmfi",
        "outputId": "ac479bb5-1342-40b8-9217-45b789b5f35b"
      },
      "source": [
        "a = 'abc'\n",
        "if a:\n",
        "    print(a[0])\n",
        "else:\n",
        "    print('a is None, or a is empty')"
      ],
      "execution_count": null,
      "outputs": [
        {
          "output_type": "stream",
          "text": [
            "a\n"
          ],
          "name": "stdout"
        }
      ]
    },
    {
      "cell_type": "code",
      "metadata": {
        "tags": [],
        "cell_id": "00047-06a243af-c9bd-4081-8e29-edf97317df3b",
        "deepnote_to_be_reexecuted": false,
        "source_hash": "8995903e",
        "execution_start": 1611970448504,
        "execution_millis": 7,
        "deepnote_cell_type": "code",
        "id": "nylSlLNnXmfi",
        "outputId": "9e96f07e-6947-4217-f5e7-3e50cea02610"
      },
      "source": [
        "a = ''\n",
        "if a:\n",
        "    print(a[0])\n",
        "else:\n",
        "    print('a is None, or a is empty')"
      ],
      "execution_count": null,
      "outputs": [
        {
          "output_type": "stream",
          "text": [
            "a is None, or a is empty\n"
          ],
          "name": "stdout"
        }
      ]
    },
    {
      "cell_type": "code",
      "metadata": {
        "tags": [],
        "cell_id": "00048-9f9ed95b-1391-4947-899c-6f504ea47a7f",
        "deepnote_to_be_reexecuted": false,
        "source_hash": "1ce15136",
        "execution_start": 1611970486266,
        "execution_millis": 21,
        "deepnote_cell_type": "code",
        "id": "ba3pafgrXmfi",
        "outputId": "367a634f-94d0-4041-c81f-1b3990920ee6"
      },
      "source": [
        "a = 'abc'\n",
        "if a is not None and len(a) > 0:\n",
        "    print(a[0])\n",
        "else:\n",
        "    print('a is None, or a is empty')"
      ],
      "execution_count": null,
      "outputs": [
        {
          "output_type": "stream",
          "text": [
            "a\n"
          ],
          "name": "stdout"
        }
      ]
    },
    {
      "cell_type": "code",
      "metadata": {
        "tags": [],
        "cell_id": "00049-fd06dc53-9e15-4f03-a147-47a15cf2128f",
        "deepnote_to_be_reexecuted": false,
        "source_hash": "b5a56be9",
        "execution_start": 1611970530141,
        "execution_millis": 2,
        "deepnote_cell_type": "code",
        "id": "PrTZNp8lXmfi",
        "outputId": "1878c505-be60-4d81-e5c4-5f87346d95a6"
      },
      "source": [
        "a = 'abc'\n",
        "if a is not None:\n",
        "    print(a[0])"
      ],
      "execution_count": null,
      "outputs": [
        {
          "output_type": "stream",
          "text": [
            "a\n"
          ],
          "name": "stdout"
        }
      ]
    },
    {
      "cell_type": "code",
      "metadata": {
        "tags": [],
        "cell_id": "00050-f9db8c2d-3b20-41f0-9be6-20278c734f87",
        "deepnote_to_be_reexecuted": false,
        "source_hash": "27eaca3d",
        "execution_start": 1611970533221,
        "execution_millis": 6,
        "deepnote_cell_type": "code",
        "id": "ZBwB7ArkXmfj",
        "outputId": "736f8078-b5fe-4e48-e912-d2a57d6b91f3"
      },
      "source": [
        "a = ''\n",
        "if a is not None:\n",
        "    print(a[0])"
      ],
      "execution_count": null,
      "outputs": [
        {
          "output_type": "error",
          "ename": "IndexError",
          "evalue": "string index out of range",
          "traceback": [
            "\u001b[0;31m---------------------------------------------------------------------------\u001b[0m",
            "\u001b[0;31mIndexError\u001b[0m                                Traceback (most recent call last)",
            "\u001b[0;32m<ipython-input-67-42f9ef905da0>\u001b[0m in \u001b[0;36m<module>\u001b[0;34m\u001b[0m\n\u001b[1;32m      1\u001b[0m \u001b[0ma\u001b[0m \u001b[0;34m=\u001b[0m \u001b[0;34m''\u001b[0m\u001b[0;34m\u001b[0m\u001b[0;34m\u001b[0m\u001b[0m\n\u001b[1;32m      2\u001b[0m \u001b[0;32mif\u001b[0m \u001b[0ma\u001b[0m \u001b[0;32mis\u001b[0m \u001b[0;32mnot\u001b[0m \u001b[0;32mNone\u001b[0m\u001b[0;34m:\u001b[0m\u001b[0;34m\u001b[0m\u001b[0;34m\u001b[0m\u001b[0m\n\u001b[0;32m----> 3\u001b[0;31m     \u001b[0mprint\u001b[0m\u001b[0;34m(\u001b[0m\u001b[0ma\u001b[0m\u001b[0;34m[\u001b[0m\u001b[0;36m0\u001b[0m\u001b[0;34m]\u001b[0m\u001b[0;34m)\u001b[0m\u001b[0;34m\u001b[0m\u001b[0;34m\u001b[0m\u001b[0m\n\u001b[0m",
            "\u001b[0;31mIndexError\u001b[0m: string index out of range"
          ]
        }
      ]
    },
    {
      "cell_type": "code",
      "metadata": {
        "tags": [],
        "cell_id": "00051-d3285019-1971-44c1-9dda-21fbcff640d2",
        "deepnote_to_be_reexecuted": false,
        "source_hash": "8e6d5c94",
        "execution_start": 1611970556391,
        "execution_millis": 18,
        "deepnote_cell_type": "code",
        "id": "tVvejkvZXmfj",
        "outputId": "96c548f9-ea3d-4120-9e53-fc12af10d889"
      },
      "source": [
        "a = None\n",
        "if len(a) > 0:\n",
        "    print(a[0])"
      ],
      "execution_count": null,
      "outputs": [
        {
          "output_type": "error",
          "ename": "TypeError",
          "evalue": "object of type 'NoneType' has no len()",
          "traceback": [
            "\u001b[0;31m---------------------------------------------------------------------------\u001b[0m",
            "\u001b[0;31mTypeError\u001b[0m                                 Traceback (most recent call last)",
            "\u001b[0;32m<ipython-input-68-cab6f61af012>\u001b[0m in \u001b[0;36m<module>\u001b[0;34m\u001b[0m\n\u001b[1;32m      1\u001b[0m \u001b[0ma\u001b[0m \u001b[0;34m=\u001b[0m \u001b[0;32mNone\u001b[0m\u001b[0;34m\u001b[0m\u001b[0;34m\u001b[0m\u001b[0m\n\u001b[0;32m----> 2\u001b[0;31m \u001b[0;32mif\u001b[0m \u001b[0mlen\u001b[0m\u001b[0;34m(\u001b[0m\u001b[0ma\u001b[0m\u001b[0;34m)\u001b[0m \u001b[0;34m>\u001b[0m \u001b[0;36m0\u001b[0m\u001b[0;34m:\u001b[0m\u001b[0;34m\u001b[0m\u001b[0;34m\u001b[0m\u001b[0m\n\u001b[0m\u001b[1;32m      3\u001b[0m     \u001b[0mprint\u001b[0m\u001b[0;34m(\u001b[0m\u001b[0ma\u001b[0m\u001b[0;34m[\u001b[0m\u001b[0;36m0\u001b[0m\u001b[0;34m]\u001b[0m\u001b[0;34m)\u001b[0m\u001b[0;34m\u001b[0m\u001b[0;34m\u001b[0m\u001b[0m\n",
            "\u001b[0;31mTypeError\u001b[0m: object of type 'NoneType' has no len()"
          ]
        }
      ]
    },
    {
      "cell_type": "code",
      "metadata": {
        "tags": [],
        "cell_id": "00052-0c62f8e2-6d68-4c4e-829e-05f4764a0085",
        "deepnote_to_be_reexecuted": false,
        "source_hash": "a3e56328",
        "execution_millis": 3,
        "execution_start": 1611970591846,
        "deepnote_cell_type": "code",
        "id": "_zqzaAR-Xmfj"
      },
      "source": [
        "# Solution\n",
        "a = [] # or None\n",
        "\n",
        "if a is not None and len(a) > 0:\n",
        "    print(a[0])"
      ],
      "execution_count": null,
      "outputs": []
    },
    {
      "cell_type": "code",
      "metadata": {
        "tags": [],
        "cell_id": "00053-59da4f98-dfcb-44d5-8eb5-8d12f4eb9c39",
        "deepnote_to_be_reexecuted": false,
        "source_hash": "371f6350",
        "execution_start": 1611970630636,
        "execution_millis": 0,
        "deepnote_cell_type": "code",
        "id": "txw5HPp5Xmfj"
      },
      "source": [
        "a = 0\n",
        "# short circuiting\n",
        "if a and this_was_never_created:\n",
        "    print(\"soemthing\")"
      ],
      "execution_count": null,
      "outputs": []
    },
    {
      "cell_type": "markdown",
      "metadata": {
        "tags": [],
        "cell_id": "00054-ff6b143b-8e3e-4d58-a2da-20891371773b",
        "deepnote_cell_type": "markdown",
        "id": "XZrbEYy5Xmfj"
      },
      "source": [
        "# Booleans: Precedence and Short-Circuiting"
      ]
    },
    {
      "cell_type": "code",
      "metadata": {
        "tags": [],
        "cell_id": "00054-07957d31-0ffa-4adf-9be1-f2c97b3f3078",
        "deepnote_to_be_reexecuted": false,
        "source_hash": "6fc27ada",
        "execution_start": 1611970687537,
        "execution_millis": 6,
        "deepnote_cell_type": "code",
        "id": "armjD2CIXmfk",
        "outputId": "36fc92eb-de84-4e28-8c5a-75c909e627bb"
      },
      "source": [
        "True or True and False"
      ],
      "execution_count": null,
      "outputs": [
        {
          "output_type": "execute_result",
          "data": {
            "text/plain": [
              "True"
            ]
          },
          "metadata": {
            "tags": []
          },
          "execution_count": 74
        }
      ]
    },
    {
      "cell_type": "code",
      "metadata": {
        "tags": [],
        "cell_id": "00056-33e7e4ec-31cd-47e2-a621-1b15fdd34fbe",
        "deepnote_to_be_reexecuted": false,
        "source_hash": "275be477",
        "execution_start": 1611970741617,
        "execution_millis": 1,
        "deepnote_cell_type": "code",
        "id": "Bmg90xlYXmfk",
        "outputId": "2e982fa2-e938-48e9-f893-3907487b6953"
      },
      "source": [
        "True or (True and False)"
      ],
      "execution_count": null,
      "outputs": [
        {
          "output_type": "execute_result",
          "data": {
            "text/plain": [
              "True"
            ]
          },
          "metadata": {
            "tags": []
          },
          "execution_count": 75
        }
      ]
    },
    {
      "cell_type": "code",
      "metadata": {
        "tags": [],
        "cell_id": "00057-5139b57e-0e82-4992-a081-97a39a02a64d",
        "deepnote_to_be_reexecuted": false,
        "source_hash": "c1637227",
        "execution_start": 1611970748572,
        "execution_millis": 14,
        "deepnote_cell_type": "code",
        "id": "t6w6WFy7Xmfk",
        "outputId": "d64ce376-9a53-4aae-8533-6bf5f9da0abd"
      },
      "source": [
        "(True or True) and False"
      ],
      "execution_count": null,
      "outputs": [
        {
          "output_type": "execute_result",
          "data": {
            "text/plain": [
              "False"
            ]
          },
          "metadata": {
            "tags": []
          },
          "execution_count": 76
        }
      ]
    },
    {
      "cell_type": "code",
      "metadata": {
        "tags": [],
        "cell_id": "00058-ea8812df-8061-43c7-a10a-a14dc2629274",
        "deepnote_to_be_reexecuted": false,
        "source_hash": "363b952a",
        "execution_millis": 2,
        "execution_start": 1611970793308,
        "deepnote_cell_type": "code",
        "id": "-yHE8HonXmfk",
        "outputId": "d758e84b-d85d-45ba-90b4-1d53e11b340b"
      },
      "source": [
        "a = 10\n",
        "b = 2\n",
        "if a/b:\n",
        "    print('something happened')"
      ],
      "execution_count": null,
      "outputs": [
        {
          "output_type": "stream",
          "text": [
            "something happened\n"
          ],
          "name": "stdout"
        }
      ]
    },
    {
      "cell_type": "code",
      "metadata": {
        "tags": [],
        "cell_id": "00059-ef1de88c-2d06-4ca8-a006-1252d14df2ca",
        "deepnote_to_be_reexecuted": false,
        "source_hash": "630c8067",
        "execution_start": 1611970802621,
        "execution_millis": 1,
        "deepnote_cell_type": "code",
        "id": "J92wqYCBXmfk",
        "outputId": "d22477a8-c68c-4530-8473-7ba3863f8a4a"
      },
      "source": [
        "a = 10\n",
        "b = 0\n",
        "if a/b:\n",
        "    print('something happened')"
      ],
      "execution_count": null,
      "outputs": [
        {
          "output_type": "error",
          "ename": "ZeroDivisionError",
          "evalue": "division by zero",
          "traceback": [
            "\u001b[0;31m---------------------------------------------------------------------------\u001b[0m",
            "\u001b[0;31mZeroDivisionError\u001b[0m                         Traceback (most recent call last)",
            "\u001b[0;32m<ipython-input-79-ee52e4d3725d>\u001b[0m in \u001b[0;36m<module>\u001b[0;34m\u001b[0m\n\u001b[1;32m      1\u001b[0m \u001b[0ma\u001b[0m \u001b[0;34m=\u001b[0m \u001b[0;36m10\u001b[0m\u001b[0;34m\u001b[0m\u001b[0;34m\u001b[0m\u001b[0m\n\u001b[1;32m      2\u001b[0m \u001b[0mb\u001b[0m \u001b[0;34m=\u001b[0m \u001b[0;36m0\u001b[0m\u001b[0;34m\u001b[0m\u001b[0;34m\u001b[0m\u001b[0m\n\u001b[0;32m----> 3\u001b[0;31m \u001b[0;32mif\u001b[0m \u001b[0ma\u001b[0m\u001b[0;34m/\u001b[0m\u001b[0mb\u001b[0m\u001b[0;34m:\u001b[0m\u001b[0;34m\u001b[0m\u001b[0;34m\u001b[0m\u001b[0m\n\u001b[0m\u001b[1;32m      4\u001b[0m     \u001b[0mprint\u001b[0m\u001b[0;34m(\u001b[0m\u001b[0;34m'something happened'\u001b[0m\u001b[0;34m)\u001b[0m\u001b[0;34m\u001b[0m\u001b[0;34m\u001b[0m\u001b[0m\n",
            "\u001b[0;31mZeroDivisionError\u001b[0m: division by zero"
          ]
        }
      ]
    },
    {
      "cell_type": "code",
      "metadata": {
        "tags": [],
        "cell_id": "00060-d314c2c6-7d6c-49ec-875b-3952ebbb81f4",
        "deepnote_to_be_reexecuted": false,
        "source_hash": "8b51d2f1",
        "execution_start": 1611970844769,
        "execution_millis": 1,
        "deepnote_cell_type": "code",
        "id": "ZOQ_F9HkXmfl"
      },
      "source": [
        "a = 10\n",
        "b = 0\n",
        "if b and a/b:\n",
        "    print('something happened')"
      ],
      "execution_count": null,
      "outputs": []
    },
    {
      "cell_type": "code",
      "metadata": {
        "tags": [],
        "cell_id": "00061-8a0e704e-21c8-4240-abb8-3265f723e47a",
        "deepnote_to_be_reexecuted": false,
        "source_hash": "f486b76d",
        "execution_start": 1611970889522,
        "execution_millis": 2,
        "deepnote_cell_type": "code",
        "id": "Nktp2ejDXmfl"
      },
      "source": [
        "import string"
      ],
      "execution_count": null,
      "outputs": []
    },
    {
      "cell_type": "code",
      "metadata": {
        "tags": [],
        "cell_id": "00062-1c64c3c1-3371-4b2f-ae51-743d9628476a",
        "deepnote_to_be_reexecuted": false,
        "source_hash": "a5d230de",
        "execution_start": 1611970894488,
        "execution_millis": 37,
        "deepnote_cell_type": "code",
        "id": "Q_hsE_tCXmfl",
        "outputId": "98411605-3c4d-4a42-b807-dc62047e5b7d"
      },
      "source": [
        "help(string)"
      ],
      "execution_count": null,
      "outputs": [
        {
          "output_type": "stream",
          "text": [
            "Help on module string:\n",
            "\n",
            "NAME\n",
            "    string - A collection of string constants.\n",
            "\n",
            "MODULE REFERENCE\n",
            "    https://docs.python.org/3.7/library/string\n",
            "    \n",
            "    The following documentation is automatically generated from the Python\n",
            "    source files.  It may be incomplete, incorrect or include features that\n",
            "    are considered implementation detail and may vary between Python\n",
            "    implementations.  When in doubt, consult the module reference at the\n",
            "    location listed above.\n",
            "\n",
            "DESCRIPTION\n",
            "    Public module variables:\n",
            "    \n",
            "    whitespace -- a string containing all ASCII whitespace\n",
            "    ascii_lowercase -- a string containing all ASCII lowercase letters\n",
            "    ascii_uppercase -- a string containing all ASCII uppercase letters\n",
            "    ascii_letters -- a string containing all ASCII letters\n",
            "    digits -- a string containing all ASCII decimal digits\n",
            "    hexdigits -- a string containing all ASCII hexadecimal digits\n",
            "    octdigits -- a string containing all ASCII octal digits\n",
            "    punctuation -- a string containing all ASCII punctuation characters\n",
            "    printable -- a string containing all ASCII characters considered printable\n",
            "\n",
            "CLASSES\n",
            "    builtins.object\n",
            "        Formatter\n",
            "        Template\n",
            "    \n",
            "    class Formatter(builtins.object)\n",
            "     |  Methods defined here:\n",
            "     |  \n",
            "     |  check_unused_args(self, used_args, args, kwargs)\n",
            "     |  \n",
            "     |  convert_field(self, value, conversion)\n",
            "     |  \n",
            "     |  format(*args, **kwargs)\n",
            "     |  \n",
            "     |  format_field(self, value, format_spec)\n",
            "     |  \n",
            "     |  get_field(self, field_name, args, kwargs)\n",
            "     |      # given a field_name, find the object it references.\n",
            "     |      #  field_name:   the field being looked up, e.g. \"0.name\"\n",
            "     |      #                 or \"lookup[3]\"\n",
            "     |      #  used_args:    a set of which args have been used\n",
            "     |      #  args, kwargs: as passed in to vformat\n",
            "     |  \n",
            "     |  get_value(self, key, args, kwargs)\n",
            "     |  \n",
            "     |  parse(self, format_string)\n",
            "     |      # returns an iterable that contains tuples of the form:\n",
            "     |      # (literal_text, field_name, format_spec, conversion)\n",
            "     |      # literal_text can be zero length\n",
            "     |      # field_name can be None, in which case there's no\n",
            "     |      #  object to format and output\n",
            "     |      # if field_name is not None, it is looked up, formatted\n",
            "     |      #  with format_spec and conversion and then used\n",
            "     |  \n",
            "     |  vformat(self, format_string, args, kwargs)\n",
            "     |  \n",
            "     |  ----------------------------------------------------------------------\n",
            "     |  Data descriptors defined here:\n",
            "     |  \n",
            "     |  __dict__\n",
            "     |      dictionary for instance variables (if defined)\n",
            "     |  \n",
            "     |  __weakref__\n",
            "     |      list of weak references to the object (if defined)\n",
            "    \n",
            "    class Template(builtins.object)\n",
            "     |  Template(template)\n",
            "     |  \n",
            "     |  A string class for supporting $-substitutions.\n",
            "     |  \n",
            "     |  Methods defined here:\n",
            "     |  \n",
            "     |  __init__(self, template)\n",
            "     |      Initialize self.  See help(type(self)) for accurate signature.\n",
            "     |  \n",
            "     |  safe_substitute(*args, **kws)\n",
            "     |  \n",
            "     |  substitute(*args, **kws)\n",
            "     |  \n",
            "     |  ----------------------------------------------------------------------\n",
            "     |  Data descriptors defined here:\n",
            "     |  \n",
            "     |  __dict__\n",
            "     |      dictionary for instance variables (if defined)\n",
            "     |  \n",
            "     |  __weakref__\n",
            "     |      list of weak references to the object (if defined)\n",
            "     |  \n",
            "     |  ----------------------------------------------------------------------\n",
            "     |  Data and other attributes defined here:\n",
            "     |  \n",
            "     |  braceidpattern = None\n",
            "     |  \n",
            "     |  delimiter = '$'\n",
            "     |  \n",
            "     |  flags = <RegexFlag.IGNORECASE: 2>\n",
            "     |  \n",
            "     |  idpattern = '(?a:[_a-z][_a-z0-9]*)'\n",
            "     |  \n",
            "     |  pattern = re.compile('\\n    \\\\$(?:\\n      (?P<escaped>\\\\$)...ced>(?a:[...\n",
            "\n",
            "FUNCTIONS\n",
            "    capwords(s, sep=None)\n",
            "        capwords(s [,sep]) -> string\n",
            "        \n",
            "        Split the argument into words using split, capitalize each\n",
            "        word using capitalize, and join the capitalized words using\n",
            "        join.  If the optional second argument sep is absent or None,\n",
            "        runs of whitespace characters are replaced by a single space\n",
            "        and leading and trailing whitespace are removed, otherwise\n",
            "        sep is used to split and join the words.\n",
            "\n",
            "DATA\n",
            "    __all__ = ['ascii_letters', 'ascii_lowercase', 'ascii_uppercase', 'cap...\n",
            "    ascii_letters = 'abcdefghijklmnopqrstuvwxyzABCDEFGHIJKLMNOPQRSTUVWXYZ'\n",
            "    ascii_lowercase = 'abcdefghijklmnopqrstuvwxyz'\n",
            "    ascii_uppercase = 'ABCDEFGHIJKLMNOPQRSTUVWXYZ'\n",
            "    digits = '0123456789'\n",
            "    hexdigits = '0123456789abcdefABCDEF'\n",
            "    octdigits = '01234567'\n",
            "    printable = '0123456789abcdefghijklmnopqrstuvwxyzABCDEFGHIJKLMNOPQRSTU...\n",
            "    punctuation = '!\"#$%&\\'()*+,-./:;<=>?@[\\\\]^_`{|}~'\n",
            "    whitespace = ' \\t\\n\\r\\x0b\\x0c'\n",
            "\n",
            "FILE\n",
            "    /usr/local/lib/python3.7/string.py\n",
            "\n",
            "\n"
          ],
          "name": "stdout"
        }
      ]
    },
    {
      "cell_type": "code",
      "metadata": {
        "tags": [],
        "cell_id": "00063-b512d564-a4b1-45b0-be58-8020fec564d7",
        "deepnote_to_be_reexecuted": false,
        "source_hash": "6af2afe1",
        "execution_start": 1611970916264,
        "execution_millis": 4,
        "deepnote_cell_type": "code",
        "id": "fIIIrjc0Xmfl",
        "outputId": "57323053-fa19-4fcb-aa4a-3ef98ac6c046"
      },
      "source": [
        "string.digits"
      ],
      "execution_count": null,
      "outputs": [
        {
          "output_type": "execute_result",
          "data": {
            "text/plain": [
              "'0123456789'"
            ]
          },
          "metadata": {
            "tags": []
          },
          "execution_count": 83
        }
      ]
    },
    {
      "cell_type": "code",
      "metadata": {
        "tags": [],
        "cell_id": "00064-ff938682-cd1d-4b7b-bb5e-b1a3fd858bdd",
        "deepnote_to_be_reexecuted": false,
        "source_hash": "9a3c0c1c",
        "execution_millis": 3,
        "execution_start": 1611970927059,
        "deepnote_cell_type": "code",
        "id": "STCxbFnFXmfl",
        "outputId": "9fca8aac-3738-486c-ad1f-7b2cf971b9d0"
      },
      "source": [
        "string.ascii_letters"
      ],
      "execution_count": null,
      "outputs": [
        {
          "output_type": "execute_result",
          "data": {
            "text/plain": [
              "'abcdefghijklmnopqrstuvwxyzABCDEFGHIJKLMNOPQRSTUVWXYZ'"
            ]
          },
          "metadata": {
            "tags": []
          },
          "execution_count": 85
        }
      ]
    },
    {
      "cell_type": "code",
      "metadata": {
        "tags": [],
        "cell_id": "00065-d23b063f-5c3f-4b59-a96e-8867ceb95015",
        "deepnote_to_be_reexecuted": false,
        "source_hash": "3194cf3d",
        "execution_start": 1611970969792,
        "execution_millis": 16,
        "deepnote_cell_type": "code",
        "id": "mW7bcfL3Xmfm",
        "outputId": "f8d85092-6a27-4e97-e735-7b688f6ea8fe"
      },
      "source": [
        "name = '' \n",
        "if name[0] in string.digits:\n",
        "    print('Name cannot start with a digit')"
      ],
      "execution_count": null,
      "outputs": [
        {
          "output_type": "error",
          "ename": "IndexError",
          "evalue": "string index out of range",
          "traceback": [
            "\u001b[0;31m---------------------------------------------------------------------------\u001b[0m",
            "\u001b[0;31mIndexError\u001b[0m                                Traceback (most recent call last)",
            "\u001b[0;32m<ipython-input-86-ef953fdac9e3>\u001b[0m in \u001b[0;36m<module>\u001b[0;34m\u001b[0m\n\u001b[1;32m      1\u001b[0m \u001b[0mname\u001b[0m \u001b[0;34m=\u001b[0m \u001b[0;34m''\u001b[0m\u001b[0;34m\u001b[0m\u001b[0;34m\u001b[0m\u001b[0m\n\u001b[0;32m----> 2\u001b[0;31m \u001b[0;32mif\u001b[0m \u001b[0mname\u001b[0m\u001b[0;34m[\u001b[0m\u001b[0;36m0\u001b[0m\u001b[0;34m]\u001b[0m \u001b[0;32min\u001b[0m \u001b[0mstring\u001b[0m\u001b[0;34m.\u001b[0m\u001b[0mdigits\u001b[0m\u001b[0;34m:\u001b[0m\u001b[0;34m\u001b[0m\u001b[0;34m\u001b[0m\u001b[0m\n\u001b[0m\u001b[1;32m      3\u001b[0m     \u001b[0mprint\u001b[0m\u001b[0;34m(\u001b[0m\u001b[0;34m'Name cannot start with a digit'\u001b[0m\u001b[0;34m)\u001b[0m\u001b[0;34m\u001b[0m\u001b[0;34m\u001b[0m\u001b[0m\n",
            "\u001b[0;31mIndexError\u001b[0m: string index out of range"
          ]
        }
      ]
    },
    {
      "cell_type": "code",
      "metadata": {
        "tags": [],
        "cell_id": "00066-3289a16e-dfed-4dc2-94cb-db4653b9dd67",
        "deepnote_to_be_reexecuted": false,
        "source_hash": "fcc18f04",
        "execution_millis": 2,
        "execution_start": 1611970987584,
        "deepnote_cell_type": "code",
        "id": "DNHD82KdXmfm"
      },
      "source": [
        "name = '' \n",
        "if name and name[0] in string.digits:\n",
        "    print('Name cannot start with a digit')"
      ],
      "execution_count": null,
      "outputs": []
    },
    {
      "cell_type": "code",
      "metadata": {
        "tags": [],
        "cell_id": "00067-054f19d7-fcd2-4652-bec5-667e89c7b602",
        "deepnote_to_be_reexecuted": false,
        "source_hash": "c6b37b82",
        "execution_start": 1611971002427,
        "execution_millis": 3,
        "deepnote_cell_type": "code",
        "id": "E5Sq1HE9Xmfm"
      },
      "source": [
        "name = None \n",
        "if name and name[0] in string.digits:\n",
        "    print('Name cannot start with a digit')"
      ],
      "execution_count": null,
      "outputs": []
    },
    {
      "cell_type": "code",
      "metadata": {
        "tags": [],
        "cell_id": "00068-28ae3fdb-9c95-470b-aa00-0b918554fcfe",
        "deepnote_to_be_reexecuted": false,
        "source_hash": "419794c4",
        "execution_millis": 19,
        "execution_start": 1611971020362,
        "deepnote_cell_type": "code",
        "id": "ZXhXHYs5Xmfm",
        "outputId": "dd6646d2-ca6f-47ee-b040-73624b0fd190"
      },
      "source": [
        "name = '1None' \n",
        "if name and name[0] in string.digits:\n",
        "    print('Name cannot start with a digit')"
      ],
      "execution_count": null,
      "outputs": [
        {
          "output_type": "stream",
          "text": [
            "Name cannot start with a digit\n"
          ],
          "name": "stdout"
        }
      ]
    },
    {
      "cell_type": "markdown",
      "metadata": {
        "tags": [],
        "cell_id": "00069-b188e3fb-8c43-4da2-9adc-7235c7c0607f",
        "deepnote_cell_type": "markdown",
        "id": "3gFMufmyXmfn"
      },
      "source": [
        "## Boolean Operators"
      ]
    },
    {
      "cell_type": "code",
      "metadata": {
        "tags": [],
        "cell_id": "00069-f49857f0-8249-4745-abf5-69ce35cc1ee3",
        "deepnote_to_be_reexecuted": false,
        "source_hash": "636e3718",
        "execution_start": 1611971087925,
        "execution_millis": 1,
        "deepnote_cell_type": "code",
        "id": "KbvI3FZeXmfn",
        "outputId": "d5959c17-e8c3-4127-abdd-595eea675ce2"
      },
      "source": [
        "# and, or\n",
        "\n",
        "'' or 'abc'"
      ],
      "execution_count": null,
      "outputs": [
        {
          "output_type": "execute_result",
          "data": {
            "text/plain": [
              "'abc'"
            ]
          },
          "metadata": {
            "tags": []
          },
          "execution_count": 92
        }
      ]
    },
    {
      "cell_type": "code",
      "metadata": {
        "tags": [],
        "cell_id": "00071-2e40751e-a267-420c-9ebf-0785dfbb1b1c",
        "deepnote_to_be_reexecuted": false,
        "source_hash": "a872cf79",
        "execution_millis": 8,
        "execution_start": 1611971125505,
        "deepnote_cell_type": "code",
        "id": "jZsQbHnaXmfn",
        "outputId": "dc46a307-fa5e-4ee2-af3d-66f282cca71f"
      },
      "source": [
        "0 or 100"
      ],
      "execution_count": null,
      "outputs": [
        {
          "output_type": "execute_result",
          "data": {
            "text/plain": [
              "100"
            ]
          },
          "metadata": {
            "tags": []
          },
          "execution_count": 94
        }
      ]
    },
    {
      "cell_type": "code",
      "metadata": {
        "tags": [],
        "cell_id": "00072-1bb92339-2393-4323-afd6-5a330ec8b772",
        "deepnote_to_be_reexecuted": false,
        "source_hash": "416f6d3e",
        "execution_start": 1611971133309,
        "execution_millis": 10,
        "deepnote_cell_type": "code",
        "id": "ZyxeEydlXmfn",
        "outputId": "6feff4dc-79fc-449d-a861-30b10d44f552"
      },
      "source": [
        "[] or [1, 2, 3]"
      ],
      "execution_count": null,
      "outputs": [
        {
          "output_type": "execute_result",
          "data": {
            "text/plain": [
              "[1, 2, 3]"
            ]
          },
          "metadata": {
            "tags": []
          },
          "execution_count": 95
        }
      ]
    },
    {
      "cell_type": "code",
      "metadata": {
        "tags": [],
        "cell_id": "00073-e220b521-e924-4d03-8b23-613e18cef84e",
        "deepnote_to_be_reexecuted": false,
        "source_hash": "83ab6992",
        "execution_start": 1611971141789,
        "execution_millis": 3,
        "deepnote_cell_type": "code",
        "id": "Q4PR1vfpXmfn",
        "outputId": "0898e72a-2ddd-4246-f916-2fd99d74adc6"
      },
      "source": [
        "[1, 2] or [1, 2, 3]"
      ],
      "execution_count": null,
      "outputs": [
        {
          "output_type": "execute_result",
          "data": {
            "text/plain": [
              "[1, 2]"
            ]
          },
          "metadata": {
            "tags": []
          },
          "execution_count": 96
        }
      ]
    },
    {
      "cell_type": "markdown",
      "metadata": {
        "tags": [],
        "cell_id": "00074-a36dd9b4-e2b3-44ee-a70d-9e984e4c969d",
        "deepnote_cell_type": "markdown",
        "id": "sgTwpR0SXmfo"
      },
      "source": [
        "'X or Y': If X is falsy, return Y, otherwise evaluates and returns X"
      ]
    },
    {
      "cell_type": "code",
      "metadata": {
        "tags": [],
        "cell_id": "00074-5b641621-6ba6-49a1-b0a1-a815fd816b38",
        "deepnote_to_be_reexecuted": false,
        "source_hash": "4d9c8bf",
        "execution_millis": 0,
        "execution_start": 1611971220854,
        "deepnote_cell_type": "code",
        "id": "clG7e_otXmfo",
        "outputId": "6c8c3870-6b91-4177-8fda-fcbb4096bf95"
      },
      "source": [
        "'' or []"
      ],
      "execution_count": null,
      "outputs": [
        {
          "output_type": "execute_result",
          "data": {
            "text/plain": [
              "[]"
            ]
          },
          "metadata": {
            "tags": []
          },
          "execution_count": 101
        }
      ]
    },
    {
      "cell_type": "code",
      "metadata": {
        "tags": [],
        "cell_id": "00076-435feaec-5d17-4e51-96f9-46103687b7de",
        "deepnote_to_be_reexecuted": false,
        "source_hash": "4d9c8bf",
        "execution_millis": 13,
        "execution_start": 1611971289085,
        "deepnote_cell_type": "code",
        "id": "O7KEjR-EXmfo",
        "outputId": "5e6301f7-c4c1-440d-8948-35700a9bc5ac"
      },
      "source": [
        "'' or []"
      ],
      "execution_count": null,
      "outputs": [
        {
          "output_type": "execute_result",
          "data": {
            "text/plain": [
              "[]"
            ]
          },
          "metadata": {
            "tags": []
          },
          "execution_count": 104
        }
      ]
    },
    {
      "cell_type": "code",
      "metadata": {
        "tags": [],
        "cell_id": "00077-dc7881b0-0cdf-4d2e-a273-c27f8a7762e0",
        "deepnote_to_be_reexecuted": false,
        "source_hash": "5d6d466d",
        "execution_start": 1611971323479,
        "execution_millis": 3,
        "deepnote_cell_type": "code",
        "id": "QRdqUHpxXmfo"
      },
      "source": [
        "def _or(x, y):\n",
        "    if x:\n",
        "        return x\n",
        "    else:\n",
        "        return y"
      ],
      "execution_count": null,
      "outputs": []
    },
    {
      "cell_type": "code",
      "metadata": {
        "tags": [],
        "cell_id": "00078-7d8afaae-dc6b-451c-9426-6ba41d96b7e8",
        "deepnote_to_be_reexecuted": false,
        "source_hash": "7c7db0f5",
        "execution_start": 1611971337619,
        "execution_millis": 3,
        "deepnote_cell_type": "code",
        "id": "kEAyc51bXmfo",
        "outputId": "6851b6f5-4f50-4153-db5b-7fdae170c32a"
      },
      "source": [
        "print(_or(0, 100) == (0 or 100))"
      ],
      "execution_count": null,
      "outputs": [
        {
          "output_type": "stream",
          "text": [
            "True\n"
          ],
          "name": "stdout"
        }
      ]
    },
    {
      "cell_type": "code",
      "metadata": {
        "tags": [],
        "cell_id": "00079-500c1740-4607-4efb-95d8-4b6b10994791",
        "deepnote_to_be_reexecuted": false,
        "source_hash": "a51ca5a9",
        "execution_start": 1611971375363,
        "execution_millis": 41,
        "deepnote_cell_type": "code",
        "id": "6-sVO_i2Xmfp",
        "outputId": "f79d3d56-22e9-432a-e5d0-fd0ec3aeee7f"
      },
      "source": [
        "1 or 1/0 "
      ],
      "execution_count": null,
      "outputs": [
        {
          "output_type": "execute_result",
          "data": {
            "text/plain": [
              "1"
            ]
          },
          "metadata": {
            "tags": []
          },
          "execution_count": 107
        }
      ]
    },
    {
      "cell_type": "code",
      "metadata": {
        "tags": [],
        "cell_id": "00080-5e68c6bd-fb2b-4764-b70d-1e685150b98a",
        "deepnote_to_be_reexecuted": false,
        "source_hash": "ee548696",
        "execution_start": 1611971387312,
        "execution_millis": 11,
        "deepnote_cell_type": "code",
        "id": "E9h5J9rAXmfp",
        "outputId": "0be6df57-863a-409a-b7fa-79cf1ca8740f"
      },
      "source": [
        "_or(1, 1/0)"
      ],
      "execution_count": null,
      "outputs": [
        {
          "output_type": "error",
          "ename": "ZeroDivisionError",
          "evalue": "division by zero",
          "traceback": [
            "\u001b[0;31m---------------------------------------------------------------------------\u001b[0m",
            "\u001b[0;31mZeroDivisionError\u001b[0m                         Traceback (most recent call last)",
            "\u001b[0;32m<ipython-input-108-4e97d541341a>\u001b[0m in \u001b[0;36m<module>\u001b[0;34m\u001b[0m\n\u001b[0;32m----> 1\u001b[0;31m \u001b[0m_or\u001b[0m\u001b[0;34m(\u001b[0m\u001b[0;36m1\u001b[0m\u001b[0;34m,\u001b[0m \u001b[0;36m1\u001b[0m\u001b[0;34m/\u001b[0m\u001b[0;36m0\u001b[0m\u001b[0;34m)\u001b[0m\u001b[0;34m\u001b[0m\u001b[0;34m\u001b[0m\u001b[0m\n\u001b[0m",
            "\u001b[0;31mZeroDivisionError\u001b[0m: division by zero"
          ]
        }
      ]
    },
    {
      "cell_type": "code",
      "metadata": {
        "tags": [],
        "cell_id": "00081-fe90a9a7-33c6-4d5f-9803-5eedbb18c994",
        "deepnote_to_be_reexecuted": false,
        "source_hash": "b1a6294",
        "execution_start": 1611971401882,
        "execution_millis": 0,
        "deepnote_cell_type": "code",
        "id": "095dV3HUXmfp",
        "outputId": "7bc46faf-9dc9-4b38-b6c3-bb3a795750a5"
      },
      "source": [
        "0 or 1/0 "
      ],
      "execution_count": null,
      "outputs": [
        {
          "output_type": "error",
          "ename": "ZeroDivisionError",
          "evalue": "division by zero",
          "traceback": [
            "\u001b[0;31m---------------------------------------------------------------------------\u001b[0m",
            "\u001b[0;31mZeroDivisionError\u001b[0m                         Traceback (most recent call last)",
            "\u001b[0;32m<ipython-input-109-a7e2436e8887>\u001b[0m in \u001b[0;36m<module>\u001b[0;34m\u001b[0m\n\u001b[0;32m----> 1\u001b[0;31m \u001b[0;36m0\u001b[0m \u001b[0;32mor\u001b[0m \u001b[0;36m1\u001b[0m\u001b[0;34m/\u001b[0m\u001b[0;36m0\u001b[0m\u001b[0;34m\u001b[0m\u001b[0;34m\u001b[0m\u001b[0m\n\u001b[0m",
            "\u001b[0;31mZeroDivisionError\u001b[0m: division by zero"
          ]
        }
      ]
    },
    {
      "cell_type": "markdown",
      "metadata": {
        "tags": [],
        "cell_id": "00082-739405ef-ee93-4099-9ae4-8600fdbdb5eb",
        "deepnote_cell_type": "markdown",
        "id": "_F4RyBv_Xmfp"
      },
      "source": [
        "`X or Y`: If X is falsy, return Y, otherwise evaluates and returns X\n",
        "\n",
        "`X and Y`: If X is falsy, return X, otherwise evaluates and returns Y"
      ]
    },
    {
      "cell_type": "code",
      "metadata": {
        "tags": [],
        "cell_id": "00082-57b9054d-5477-4043-8089-e0d670e40f24",
        "deepnote_to_be_reexecuted": false,
        "source_hash": "6f752640",
        "execution_start": 1611971483430,
        "execution_millis": 9,
        "deepnote_cell_type": "code",
        "id": "WCEhuadgXmfq",
        "outputId": "a779cce7-2e7e-4bd6-bfc0-5f09d4a8dac2"
      },
      "source": [
        "1 or 1/0"
      ],
      "execution_count": null,
      "outputs": [
        {
          "output_type": "execute_result",
          "data": {
            "text/plain": [
              "1"
            ]
          },
          "metadata": {
            "tags": []
          },
          "execution_count": 110
        }
      ]
    },
    {
      "cell_type": "code",
      "metadata": {
        "tags": [],
        "cell_id": "00084-e30e610c-d1e8-4509-b309-386e7fcf0bc4",
        "deepnote_to_be_reexecuted": false,
        "source_hash": "3345d88",
        "execution_start": 1611971489458,
        "execution_millis": 9,
        "deepnote_cell_type": "code",
        "id": "psF1OsqiXmfq",
        "outputId": "568c5f53-1828-40a3-d316-b992be5431ba"
      },
      "source": [
        "0 and 1/0"
      ],
      "execution_count": null,
      "outputs": [
        {
          "output_type": "execute_result",
          "data": {
            "text/plain": [
              "0"
            ]
          },
          "metadata": {
            "tags": []
          },
          "execution_count": 111
        }
      ]
    },
    {
      "cell_type": "code",
      "metadata": {
        "tags": [],
        "cell_id": "00085-be9b848d-708a-4be4-93e5-064f9d7a8545",
        "deepnote_to_be_reexecuted": false,
        "source_hash": "6374c872",
        "execution_start": 1611971504433,
        "execution_millis": 2,
        "deepnote_cell_type": "code",
        "id": "QnZM1oqnXmfq"
      },
      "source": [
        "s1 = None\n",
        "s2 = ''\n",
        "s3 = 'abc'"
      ],
      "execution_count": null,
      "outputs": []
    },
    {
      "cell_type": "code",
      "metadata": {
        "tags": [],
        "cell_id": "00086-e82d6662-bd20-4326-bde1-b34d982324b0",
        "deepnote_to_be_reexecuted": false,
        "source_hash": "e19bb91f",
        "execution_start": 1611971575249,
        "execution_millis": 1,
        "deepnote_cell_type": "code",
        "id": "yIrjFg5pXmfq",
        "outputId": "065826fc-1140-4ace-e128-5c1ac0d81e2f"
      },
      "source": [
        "print(s1 and s1[0])\n",
        "print(s2 and s2[0])\n",
        "print(s3 and s3[0])"
      ],
      "execution_count": null,
      "outputs": [
        {
          "output_type": "stream",
          "text": [
            "None\n",
            "\n",
            "a\n"
          ],
          "name": "stdout"
        }
      ]
    },
    {
      "cell_type": "code",
      "metadata": {
        "tags": [],
        "cell_id": "00087-94eb2238-6c4a-4a42-8de9-4fe86e25af56",
        "deepnote_to_be_reexecuted": false,
        "source_hash": "b3bc5e75",
        "execution_start": 1611971677237,
        "execution_millis": 1,
        "deepnote_cell_type": "code",
        "id": "ovW4l9NSXmfq",
        "outputId": "4ff2210c-f7a7-47ad-e926-36e9a8f5e031"
      },
      "source": [
        "s1 = None\n",
        "s2 = ''\n",
        "s3 = 'abc'\n",
        "print(s1 and s1[0] or '') \n",
        "print(s2 and s2[0] or '')\n",
        "print(s3 and s3[0] or '')"
      ],
      "execution_count": null,
      "outputs": [
        {
          "output_type": "stream",
          "text": [
            "\n",
            "\n",
            "a\n"
          ],
          "name": "stdout"
        }
      ]
    },
    {
      "cell_type": "code",
      "metadata": {
        "tags": [],
        "cell_id": "00088-41fac5d2-dbc6-4d0c-9035-f4bb7e3466a8",
        "deepnote_to_be_reexecuted": false,
        "source_hash": "45c4bf5",
        "execution_start": 1611971713441,
        "execution_millis": 2,
        "deepnote_cell_type": "code",
        "id": "vh3fZtUyXmfr",
        "outputId": "78a90c58-5630-4b5d-915d-12a60f0340ce"
      },
      "source": [
        "s1 = None\n",
        "s2 = ''\n",
        "s3 = 'abc'\n",
        "print(s1 and s1[0] or 'n/a') \n",
        "print(s2 and s2[0] or 'n/a')\n",
        "print(s3 and s3[0] or 'n/a')"
      ],
      "execution_count": null,
      "outputs": [
        {
          "output_type": "stream",
          "text": [
            "n/a\n",
            "n/a\n",
            "a\n"
          ],
          "name": "stdout"
        }
      ]
    },
    {
      "cell_type": "code",
      "metadata": {
        "tags": [],
        "cell_id": "00089-8853ce21-b1f3-4011-9f8f-9352e124a00c",
        "deepnote_to_be_reexecuted": false,
        "source_hash": "fc07c34b",
        "execution_start": 1611971725922,
        "execution_millis": 4,
        "deepnote_cell_type": "code",
        "id": "aok_TAteXmfr",
        "outputId": "602304fa-2af7-42a2-c548-4bedc8e87efd"
      },
      "source": [
        "# not function\n",
        "not 'abc'"
      ],
      "execution_count": null,
      "outputs": [
        {
          "output_type": "execute_result",
          "data": {
            "text/plain": [
              "False"
            ]
          },
          "metadata": {
            "tags": []
          },
          "execution_count": 116
        }
      ]
    },
    {
      "cell_type": "code",
      "metadata": {
        "tags": [],
        "cell_id": "00090-ae3afe2a-5e32-4e67-9410-e73909550a6f",
        "deepnote_to_be_reexecuted": false,
        "source_hash": "7cd03c0e",
        "execution_start": 1611971732481,
        "execution_millis": 5,
        "deepnote_cell_type": "code",
        "id": "ikAX4eocXmfr",
        "outputId": "cd9daf9d-49d9-4439-c0ba-432d40f5d533"
      },
      "source": [
        "not []"
      ],
      "execution_count": null,
      "outputs": [
        {
          "output_type": "execute_result",
          "data": {
            "text/plain": [
              "True"
            ]
          },
          "metadata": {
            "tags": []
          },
          "execution_count": 117
        }
      ]
    },
    {
      "cell_type": "code",
      "metadata": {
        "tags": [],
        "cell_id": "00091-9eefe3c7-2169-438f-9d32-0f534342f266",
        "deepnote_to_be_reexecuted": false,
        "source_hash": "393b4f12",
        "execution_start": 1611971740026,
        "execution_millis": 7,
        "deepnote_cell_type": "code",
        "id": "-rk4deMxXmfr",
        "outputId": "ecc7214f-7d47-4600-c442-3ec62a47788d"
      },
      "source": [
        "bool(None)"
      ],
      "execution_count": null,
      "outputs": [
        {
          "output_type": "execute_result",
          "data": {
            "text/plain": [
              "False"
            ]
          },
          "metadata": {
            "tags": []
          },
          "execution_count": 118
        }
      ]
    },
    {
      "cell_type": "code",
      "metadata": {
        "tags": [],
        "cell_id": "00092-40f4e12b-7a0c-4fd3-8022-3180e0b3e294",
        "deepnote_to_be_reexecuted": false,
        "source_hash": "b6c9596d",
        "execution_start": 1611971745218,
        "execution_millis": 5,
        "deepnote_cell_type": "code",
        "id": "51iu2HIxXmfs",
        "outputId": "94b255f2-b3fe-4af9-db7f-b01afc8c1b81"
      },
      "source": [
        "not None"
      ],
      "execution_count": null,
      "outputs": [
        {
          "output_type": "execute_result",
          "data": {
            "text/plain": [
              "True"
            ]
          },
          "metadata": {
            "tags": []
          },
          "execution_count": 119
        }
      ]
    },
    {
      "cell_type": "code",
      "metadata": {
        "tags": [],
        "cell_id": "00093-c062918b-71e5-489c-a279-d1635ca1b6f8",
        "deepnote_to_be_reexecuted": false,
        "source_hash": "a7566d7a",
        "execution_start": 1611972195633,
        "execution_millis": 1,
        "deepnote_cell_type": "code",
        "id": "X6ga3cTYXmfs",
        "outputId": "41049214-5eab-435b-cfe2-c6453db6f9e9"
      },
      "source": [
        "bool([0]), bool(0), bool('')"
      ],
      "execution_count": null,
      "outputs": [
        {
          "output_type": "execute_result",
          "data": {
            "text/plain": [
              "(True, False, False)"
            ]
          },
          "metadata": {
            "tags": []
          },
          "execution_count": 120
        }
      ]
    },
    {
      "cell_type": "code",
      "metadata": {
        "tags": [],
        "cell_id": "00094-9afbed21-1e61-4ed3-a444-185d99b507f2",
        "deepnote_to_be_reexecuted": false,
        "source_hash": "ea83ee66",
        "execution_millis": 13,
        "execution_start": 1611972287394,
        "deepnote_cell_type": "code",
        "id": "q0NDAdIzXmfs",
        "outputId": "da2e3a2d-b419-4f2e-d2ec-0d14acfda651"
      },
      "source": [
        "a = []\n",
        "b = [0] # being sequence we will check the len\n",
        "c = 0\n",
        "bool(a), bool(b), len(b)"
      ],
      "execution_count": null,
      "outputs": [
        {
          "output_type": "execute_result",
          "data": {
            "text/plain": [
              "(False, True, 1)"
            ]
          },
          "metadata": {
            "tags": []
          },
          "execution_count": 126
        }
      ]
    },
    {
      "cell_type": "markdown",
      "metadata": {
        "tags": [],
        "cell_id": "00095-335a7b29-c6f5-4a3b-b9b7-976e8d1a7f40",
        "deepnote_cell_type": "markdown",
        "id": "7G_yr76SXmfs"
      },
      "source": [
        "# Comparison Operators\n",
        "\n",
        "`is` and `is not`"
      ]
    },
    {
      "cell_type": "code",
      "metadata": {
        "tags": [],
        "cell_id": "00095-2b678270-1753-4ecf-af31-bbced38137e2",
        "deepnote_to_be_reexecuted": false,
        "source_hash": "ef58bf78",
        "execution_start": 1611972374358,
        "execution_millis": 0,
        "deepnote_cell_type": "code",
        "id": "WMvH1BvLXmfs",
        "outputId": "3e4ec971-c23a-469e-9045-fb15cc82ca9e"
      },
      "source": [
        "0.1 is (3 + 4j)"
      ],
      "execution_count": null,
      "outputs": [
        {
          "output_type": "execute_result",
          "data": {
            "text/plain": [
              "False"
            ]
          },
          "metadata": {
            "tags": []
          },
          "execution_count": 127
        }
      ]
    },
    {
      "cell_type": "code",
      "metadata": {
        "tags": [],
        "cell_id": "00097-d0983e09-20f8-417c-9513-512c2f4722f3",
        "deepnote_to_be_reexecuted": false,
        "source_hash": "69f4f53e",
        "execution_start": 1611972385741,
        "execution_millis": 3,
        "deepnote_cell_type": "code",
        "id": "Cu3E09YbXmft",
        "outputId": "c93194fd-6c49-4a58-96bc-96d7a55d69d1"
      },
      "source": [
        "'a' is [1, 2, 3]"
      ],
      "execution_count": null,
      "outputs": [
        {
          "output_type": "execute_result",
          "data": {
            "text/plain": [
              "False"
            ]
          },
          "metadata": {
            "tags": []
          },
          "execution_count": 128
        }
      ]
    },
    {
      "cell_type": "markdown",
      "metadata": {
        "tags": [],
        "cell_id": "00098-a0536956-3547-405c-891e-afbfec37f481",
        "deepnote_cell_type": "markdown",
        "id": "UG1_dW0PXmft"
      },
      "source": [
        "`in` and `not in`"
      ]
    },
    {
      "cell_type": "code",
      "metadata": {
        "tags": [],
        "cell_id": "00098-ee0ffa6d-3bdc-4432-bdd4-c6faef3c24c1",
        "deepnote_to_be_reexecuted": false,
        "source_hash": "f9fd95f4",
        "execution_start": 1611972416623,
        "execution_millis": 0,
        "deepnote_cell_type": "code",
        "id": "4xhA2yL2Xmft",
        "outputId": "e92b85b4-2ab0-4093-ff6e-00ec4bc44edb"
      },
      "source": [
        "1 in [1, 2, 3]"
      ],
      "execution_count": null,
      "outputs": [
        {
          "output_type": "execute_result",
          "data": {
            "text/plain": [
              "True"
            ]
          },
          "metadata": {
            "tags": []
          },
          "execution_count": 129
        }
      ]
    },
    {
      "cell_type": "code",
      "metadata": {
        "tags": [],
        "cell_id": "00100-3706f5d7-e62b-4af8-b7e2-5d56cab13df4",
        "deepnote_to_be_reexecuted": false,
        "source_hash": "f2970474",
        "execution_start": 1611972430843,
        "execution_millis": 3,
        "deepnote_cell_type": "code",
        "id": "ZBRwpyXoXmft",
        "outputId": "ed947dfd-1b86-4d7d-83ce-d19608e0db3e"
      },
      "source": [
        "[1, 2] in [1, 2, 3]"
      ],
      "execution_count": null,
      "outputs": [
        {
          "output_type": "execute_result",
          "data": {
            "text/plain": [
              "False"
            ]
          },
          "metadata": {
            "tags": []
          },
          "execution_count": 130
        }
      ]
    },
    {
      "cell_type": "code",
      "metadata": {
        "tags": [],
        "cell_id": "00101-b8fa6192-0d33-4871-ae97-ad965ac10482",
        "deepnote_to_be_reexecuted": false,
        "source_hash": "6aad5c14",
        "execution_start": 1611972454961,
        "execution_millis": 1,
        "deepnote_cell_type": "code",
        "id": "SGTNwfYiXmft",
        "outputId": "f763213e-ff64-40bb-a729-0008361c8414"
      },
      "source": [
        "[1, 2] in [[1, 2], 2, 3]"
      ],
      "execution_count": null,
      "outputs": [
        {
          "output_type": "execute_result",
          "data": {
            "text/plain": [
              "True"
            ]
          },
          "metadata": {
            "tags": []
          },
          "execution_count": 131
        }
      ]
    },
    {
      "cell_type": "code",
      "metadata": {
        "tags": [],
        "cell_id": "00102-79bdcc09-ceb2-40f7-a0d7-b8d7d0d91fdd",
        "deepnote_to_be_reexecuted": false,
        "source_hash": "69f4f53e",
        "execution_start": 1611972481629,
        "execution_millis": 0,
        "deepnote_cell_type": "code",
        "id": "hTdfRYySXmfu",
        "outputId": "3717d80f-7ff4-4cbe-908d-84e08078a4de"
      },
      "source": [
        "'a' is [1, 2, 3] # not support in 3.8 and forward"
      ],
      "execution_count": null,
      "outputs": [
        {
          "output_type": "execute_result",
          "data": {
            "text/plain": [
              "False"
            ]
          },
          "metadata": {
            "tags": []
          },
          "execution_count": 132
        }
      ]
    },
    {
      "cell_type": "code",
      "metadata": {
        "tags": [],
        "cell_id": "00103-ced323a2-e573-43e6-b0a4-fc122675d11c",
        "deepnote_to_be_reexecuted": false,
        "source_hash": "4258af53",
        "execution_start": 1611972585254,
        "execution_millis": 1,
        "deepnote_cell_type": "code",
        "id": "wrBaGgQWXmfu",
        "outputId": "e8b238d8-72b9-41a2-dca5-646752b21a02"
      },
      "source": [
        "'key1' in {'key1': 'rohan', 'key2': 'mohan'}"
      ],
      "execution_count": null,
      "outputs": [
        {
          "output_type": "execute_result",
          "data": {
            "text/plain": [
              "True"
            ]
          },
          "metadata": {
            "tags": []
          },
          "execution_count": 133
        }
      ]
    },
    {
      "cell_type": "code",
      "metadata": {
        "tags": [],
        "cell_id": "00104-b9512c87-3d64-4c0a-80f3-dc12f18df65d",
        "deepnote_to_be_reexecuted": false,
        "source_hash": "42f1abd3",
        "execution_start": 1611972594407,
        "execution_millis": 10,
        "deepnote_cell_type": "code",
        "id": "oky8tWg6Xmfu",
        "outputId": "7a7de3b0-b393-4883-ef0a-6cfde95c633b"
      },
      "source": [
        "'rohan' in {'key1': 'rohan', 'key2': 'mohan'}"
      ],
      "execution_count": null,
      "outputs": [
        {
          "output_type": "execute_result",
          "data": {
            "text/plain": [
              "False"
            ]
          },
          "metadata": {
            "tags": []
          },
          "execution_count": 134
        }
      ]
    },
    {
      "cell_type": "markdown",
      "metadata": {
        "tags": [],
        "cell_id": "00105-2677ad2c-88fe-457e-b781-510afc75cac5",
        "deepnote_cell_type": "markdown",
        "id": "kM1ca33KXmfu"
      },
      "source": [
        "`==` and `!=`"
      ]
    },
    {
      "cell_type": "code",
      "metadata": {
        "tags": [],
        "cell_id": "00105-faef68d6-8b9b-4786-b3c4-c026d5a0b84a",
        "deepnote_to_be_reexecuted": false,
        "source_hash": "73bb2e03",
        "execution_start": 1611972663746,
        "execution_millis": 0,
        "deepnote_cell_type": "code",
        "id": "9u6AFyWMXmfu",
        "outputId": "d8e84a6f-f695-4f50-9c03-6b204144d3db"
      },
      "source": [
        "1 == '1'"
      ],
      "execution_count": null,
      "outputs": [
        {
          "output_type": "execute_result",
          "data": {
            "text/plain": [
              "False"
            ]
          },
          "metadata": {
            "tags": []
          },
          "execution_count": 135
        }
      ]
    },
    {
      "cell_type": "code",
      "metadata": {
        "tags": [],
        "cell_id": "00107-a9665926-7d5c-413d-8b02-e18b17085c79",
        "deepnote_to_be_reexecuted": false,
        "source_hash": "1e13aab2",
        "execution_start": 1611972684804,
        "execution_millis": 10,
        "deepnote_cell_type": "code",
        "id": "gyK2G8rGXmfv",
        "outputId": "a78cc4ad-ce2c-4caf-9342-50084efe0264"
      },
      "source": [
        "Decimal('0.1') == Fraction(1, 10)"
      ],
      "execution_count": null,
      "outputs": [
        {
          "output_type": "execute_result",
          "data": {
            "text/plain": [
              "True"
            ]
          },
          "metadata": {
            "tags": []
          },
          "execution_count": 136
        }
      ]
    },
    {
      "cell_type": "code",
      "metadata": {
        "tags": [],
        "cell_id": "00108-b725bd91-3838-447c-b5e1-b80f6a7c74a3",
        "deepnote_to_be_reexecuted": false,
        "source_hash": "39b9a6a9",
        "execution_start": 1611972696924,
        "execution_millis": 4,
        "deepnote_cell_type": "code",
        "id": "HEKiqsCVXmfv",
        "outputId": "36edff26-000f-4f5a-f2a1-067a5dfaa0b8"
      },
      "source": [
        "1 == 1 + 0j"
      ],
      "execution_count": null,
      "outputs": [
        {
          "output_type": "execute_result",
          "data": {
            "text/plain": [
              "True"
            ]
          },
          "metadata": {
            "tags": []
          },
          "execution_count": 137
        }
      ]
    },
    {
      "cell_type": "code",
      "metadata": {
        "tags": [],
        "cell_id": "00109-627bf99c-907e-4aae-a0e5-73996ce94e3d",
        "deepnote_to_be_reexecuted": false,
        "source_hash": "17c8164",
        "execution_start": 1611972709502,
        "execution_millis": 3,
        "deepnote_cell_type": "code",
        "id": "XTMDVQ2qXmfv",
        "outputId": "9f0b0fee-3730-4f00-b18f-36be71b2bc42"
      },
      "source": [
        "True == Fraction(2, 2)"
      ],
      "execution_count": null,
      "outputs": [
        {
          "output_type": "execute_result",
          "data": {
            "text/plain": [
              "True"
            ]
          },
          "metadata": {
            "tags": []
          },
          "execution_count": 138
        }
      ]
    },
    {
      "cell_type": "code",
      "metadata": {
        "tags": [],
        "cell_id": "00110-1ccc2a3e-04e5-4042-9266-316d196a24f2",
        "deepnote_to_be_reexecuted": false,
        "source_hash": "c76eb546",
        "execution_start": 1611972718613,
        "execution_millis": 4,
        "deepnote_cell_type": "code",
        "id": "cyqmSvzUXmfv",
        "outputId": "34e12c15-a58c-4db0-9bc4-a7271518fa93"
      },
      "source": [
        "False == 0j"
      ],
      "execution_count": null,
      "outputs": [
        {
          "output_type": "execute_result",
          "data": {
            "text/plain": [
              "True"
            ]
          },
          "metadata": {
            "tags": []
          },
          "execution_count": 139
        }
      ]
    },
    {
      "cell_type": "code",
      "metadata": {
        "tags": [],
        "cell_id": "00111-eefcca40-4389-4c31-8ef9-348e85f30fc0",
        "deepnote_to_be_reexecuted": false,
        "source_hash": "4608ca47",
        "execution_start": 1611972730552,
        "execution_millis": 6,
        "deepnote_cell_type": "code",
        "id": "DyRNXseyXmfw",
        "outputId": "8699af49-0c42-493f-ffd5-9201a26b0af2"
      },
      "source": [
        "3 < 4"
      ],
      "execution_count": null,
      "outputs": [
        {
          "output_type": "execute_result",
          "data": {
            "text/plain": [
              "True"
            ]
          },
          "metadata": {
            "tags": []
          },
          "execution_count": 140
        }
      ]
    },
    {
      "cell_type": "code",
      "metadata": {
        "tags": [],
        "cell_id": "00112-413b04c6-4f8a-4bdf-8d9a-1654dabc498f",
        "deepnote_to_be_reexecuted": false,
        "source_hash": "12c65996",
        "execution_start": 1611972738422,
        "execution_millis": 7,
        "deepnote_cell_type": "code",
        "id": "6rph_OwLXmfw",
        "outputId": "29a57c4a-cf4f-4865-958b-3f117a24f6aa"
      },
      "source": [
        "1 + 1j < 2 + 2j"
      ],
      "execution_count": null,
      "outputs": [
        {
          "output_type": "error",
          "ename": "TypeError",
          "evalue": "'<' not supported between instances of 'complex' and 'complex'",
          "traceback": [
            "\u001b[0;31m---------------------------------------------------------------------------\u001b[0m",
            "\u001b[0;31mTypeError\u001b[0m                                 Traceback (most recent call last)",
            "\u001b[0;32m<ipython-input-141-5f1d9097cf79>\u001b[0m in \u001b[0;36m<module>\u001b[0;34m\u001b[0m\n\u001b[0;32m----> 1\u001b[0;31m \u001b[0;36m1\u001b[0m \u001b[0;34m+\u001b[0m \u001b[0;36m1j\u001b[0m \u001b[0;34m<\u001b[0m \u001b[0;36m2\u001b[0m \u001b[0;34m+\u001b[0m \u001b[0;36m2j\u001b[0m\u001b[0;34m\u001b[0m\u001b[0;34m\u001b[0m\u001b[0m\n\u001b[0m",
            "\u001b[0;31mTypeError\u001b[0m: '<' not supported between instances of 'complex' and 'complex'"
          ]
        }
      ]
    },
    {
      "cell_type": "code",
      "metadata": {
        "tags": [],
        "cell_id": "00113-b5806e51-681c-4a1d-b269-2be9ae2d7385",
        "deepnote_to_be_reexecuted": false,
        "source_hash": "d84716a5",
        "execution_start": 1611972749037,
        "execution_millis": 1,
        "deepnote_cell_type": "code",
        "id": "zXBGn07vXmfw",
        "outputId": "a64916be-478b-4823-ca45-bc076f0fac24"
      },
      "source": [
        "1 < 'a'"
      ],
      "execution_count": null,
      "outputs": [
        {
          "output_type": "error",
          "ename": "TypeError",
          "evalue": "'<' not supported between instances of 'int' and 'str'",
          "traceback": [
            "\u001b[0;31m---------------------------------------------------------------------------\u001b[0m",
            "\u001b[0;31mTypeError\u001b[0m                                 Traceback (most recent call last)",
            "\u001b[0;32m<ipython-input-142-4751c80d99ec>\u001b[0m in \u001b[0;36m<module>\u001b[0;34m\u001b[0m\n\u001b[0;32m----> 1\u001b[0;31m \u001b[0;36m1\u001b[0m \u001b[0;34m<\u001b[0m \u001b[0;34m'a'\u001b[0m\u001b[0;34m\u001b[0m\u001b[0;34m\u001b[0m\u001b[0m\n\u001b[0m",
            "\u001b[0;31mTypeError\u001b[0m: '<' not supported between instances of 'int' and 'str'"
          ]
        }
      ]
    },
    {
      "cell_type": "code",
      "metadata": {
        "tags": [],
        "cell_id": "00114-64809adf-31f3-4be9-8267-e59ef77cbbaa",
        "deepnote_to_be_reexecuted": false,
        "source_hash": "9763fa47",
        "execution_start": 1611972767241,
        "execution_millis": 4,
        "deepnote_cell_type": "code",
        "id": "p5Au5CLbXmfw",
        "outputId": "1af54466-9799-4c7c-d0e9-f86e4561af10"
      },
      "source": [
        "Decimal('0.01') < Fraction(1, 10)"
      ],
      "execution_count": null,
      "outputs": [
        {
          "output_type": "execute_result",
          "data": {
            "text/plain": [
              "True"
            ]
          },
          "metadata": {
            "tags": []
          },
          "execution_count": 143
        }
      ]
    },
    {
      "cell_type": "code",
      "metadata": {
        "tags": [],
        "cell_id": "00115-879f486c-988c-4d80-b987-cc9295f14996",
        "deepnote_to_be_reexecuted": false,
        "source_hash": "6ded6c5a",
        "execution_start": 1611972820614,
        "deepnote_cell_type": "code",
        "id": "5EADfaBTXmfx"
      },
      "source": [
        "# a < b < c  equivalent to a < b and b < c"
      ],
      "execution_count": null,
      "outputs": []
    },
    {
      "cell_type": "code",
      "metadata": {
        "tags": [],
        "cell_id": "00116-ef21cd79-7159-4558-938d-7d870ff60ac2",
        "deepnote_to_be_reexecuted": false,
        "source_hash": "acd7c348",
        "execution_start": 1611972833597,
        "execution_millis": 2,
        "deepnote_cell_type": "code",
        "id": "n6JyPEmtXmfx",
        "outputId": "1549cc5d-1a38-4e44-9c1a-ccc91b84304d"
      },
      "source": [
        "1 < 2 < 3"
      ],
      "execution_count": null,
      "outputs": [
        {
          "output_type": "execute_result",
          "data": {
            "text/plain": [
              "True"
            ]
          },
          "metadata": {
            "tags": []
          },
          "execution_count": 145
        }
      ]
    },
    {
      "cell_type": "code",
      "metadata": {
        "tags": [],
        "cell_id": "00117-2f2a26f9-1269-489c-9a51-8fae168f9a15",
        "deepnote_to_be_reexecuted": false,
        "source_hash": "885b5b0b",
        "execution_start": 1611972889157,
        "execution_millis": 1,
        "deepnote_cell_type": "code",
        "id": "JU2N7bn1Xmfx",
        "outputId": "36773989-6466-431a-c315-1911644f039b"
      },
      "source": [
        "1 < 2 > -5 < 50 > 4"
      ],
      "execution_count": null,
      "outputs": [
        {
          "output_type": "execute_result",
          "data": {
            "text/plain": [
              "True"
            ]
          },
          "metadata": {
            "tags": []
          },
          "execution_count": 147
        }
      ]
    },
    {
      "cell_type": "code",
      "metadata": {
        "tags": [],
        "cell_id": "00118-bec048fb-d522-47ae-9adb-5f6bbc84e391",
        "deepnote_to_be_reexecuted": false,
        "source_hash": "39647bd2",
        "execution_millis": 19,
        "execution_start": 1611973069166,
        "deepnote_cell_type": "code",
        "id": "HD9YeQp_Xmfx",
        "outputId": "2325a50c-555e-4f61-aec3-c2df6de71e8c"
      },
      "source": [
        "1 < 2 and 2 > -5 and -5 < 50 and 50 > 4\n",
        "True and True and True and True"
      ],
      "execution_count": null,
      "outputs": [
        {
          "output_type": "execute_result",
          "data": {
            "text/plain": [
              "True"
            ]
          },
          "metadata": {
            "tags": []
          },
          "execution_count": 152
        }
      ]
    },
    {
      "cell_type": "code",
      "metadata": {
        "tags": [],
        "cell_id": "00119-4a32471a-1150-48ad-84b0-c7b98b297468",
        "deepnote_to_be_reexecuted": false,
        "source_hash": "40196a5e",
        "execution_start": 1611973092467,
        "execution_millis": 6,
        "deepnote_cell_type": "code",
        "id": "lrJu6aQ3Xmfx",
        "outputId": "2b9c0d3e-9024-40fb-9501-1c10f5f5b9ba"
      },
      "source": [
        "1 < 2 == Decimal('2.0')"
      ],
      "execution_count": null,
      "outputs": [
        {
          "output_type": "execute_result",
          "data": {
            "text/plain": [
              "True"
            ]
          },
          "metadata": {
            "tags": []
          },
          "execution_count": 153
        }
      ]
    },
    {
      "cell_type": "code",
      "metadata": {
        "tags": [],
        "cell_id": "00120-ede486a1-a03e-4bfe-9767-83f36360e2fe",
        "deepnote_to_be_reexecuted": false,
        "source_hash": "8a7d1e9",
        "execution_start": 1611973124334,
        "execution_millis": 6,
        "deepnote_cell_type": "code",
        "id": "SLgnQ-1uXmfy",
        "outputId": "c214bba7-e7e6-488b-be92-6bed7ad27be7"
      },
      "source": [
        "1 < 2 and 2 == Decimal('2.0')"
      ],
      "execution_count": null,
      "outputs": [
        {
          "output_type": "execute_result",
          "data": {
            "text/plain": [
              "True"
            ]
          },
          "metadata": {
            "tags": []
          },
          "execution_count": 154
        }
      ]
    },
    {
      "cell_type": "code",
      "metadata": {
        "tags": [],
        "cell_id": "00121-dc2a832c-18dc-4e46-963b-189a404f60cc",
        "deepnote_to_be_reexecuted": false,
        "source_hash": "69fd443d",
        "execution_millis": 10,
        "execution_start": 1611973183569,
        "deepnote_cell_type": "code",
        "id": "1VZ0_IuRXmfy",
        "outputId": "1b134ebb-3426-4537-92ae-7a3b1f28e01e"
      },
      "source": [
        "'A' < 'a' < 'z' > 'Z' in string.ascii_letters"
      ],
      "execution_count": null,
      "outputs": [
        {
          "output_type": "execute_result",
          "data": {
            "text/plain": [
              "True"
            ]
          },
          "metadata": {
            "tags": []
          },
          "execution_count": 158
        }
      ]
    },
    {
      "cell_type": "code",
      "metadata": {
        "tags": [],
        "cell_id": "00122-97210069-3d1b-4ab2-9951-f6963702cd4a",
        "deepnote_to_be_reexecuted": false,
        "source_hash": "3f6d9ff7",
        "execution_millis": 1,
        "execution_start": 1611973206481,
        "deepnote_cell_type": "code",
        "id": "TYiNAdxLXmfy",
        "outputId": "6247f33e-39ec-4bf6-e4cc-0fa09f34f227"
      },
      "source": [
        "'A' < 'a' and 'a' < 'z' and 'z'> 'Z' and 'Z' in string.ascii_letters"
      ],
      "execution_count": null,
      "outputs": [
        {
          "output_type": "execute_result",
          "data": {
            "text/plain": [
              "True"
            ]
          },
          "metadata": {
            "tags": []
          },
          "execution_count": 159
        }
      ]
    },
    {
      "cell_type": "markdown",
      "metadata": {
        "tags": [],
        "cell_id": "00123-d059e82c-6499-4a45-8c9e-5349183fb64a",
        "deepnote_cell_type": "markdown",
        "id": "fPGpKiTKXmfy"
      },
      "source": [
        "## Functions"
      ]
    },
    {
      "cell_type": "code",
      "metadata": {
        "tags": [],
        "cell_id": "00123-1b92db20-4934-4718-b900-72f12cbfa6db",
        "deepnote_to_be_reexecuted": false,
        "source_hash": "4ca8bcd3",
        "execution_start": 1611973253556,
        "execution_millis": 23,
        "deepnote_cell_type": "code",
        "id": "ONmyqYvQXmfy"
      },
      "source": [
        "def my_func(a, b, c):\n",
        "    print(f'a={a}, b={b}, c={c}')"
      ],
      "execution_count": null,
      "outputs": []
    },
    {
      "cell_type": "code",
      "metadata": {
        "tags": [],
        "cell_id": "00125-5b35afaa-eaab-4a60-9b3f-0e8c627bd0a5",
        "deepnote_to_be_reexecuted": false,
        "source_hash": "275b311d",
        "execution_start": 1611973259941,
        "execution_millis": 1,
        "deepnote_cell_type": "code",
        "id": "5IgbqjtPXmfz",
        "outputId": "760adaa6-4fbb-4387-c8b9-c86b8c723d90"
      },
      "source": [
        "my_func(1, 2, 3)"
      ],
      "execution_count": null,
      "outputs": [
        {
          "output_type": "stream",
          "text": [
            "a=1, b=2, c=3\n"
          ],
          "name": "stdout"
        }
      ]
    },
    {
      "cell_type": "code",
      "metadata": {
        "tags": [],
        "cell_id": "00126-055fd146-9894-4d9a-99b1-71f1489c3d97",
        "deepnote_to_be_reexecuted": false,
        "source_hash": "e2e99ad0",
        "execution_millis": 11,
        "execution_start": 1611973296377,
        "deepnote_cell_type": "code",
        "id": "w_sV-nYaXmfz",
        "outputId": "c922273a-82e2-475f-bd72-8aa4414c7b55"
      },
      "source": [
        "def my_func(a, b = 2, c =3):\n",
        "    print(f'a={a}, b={b}, c={c}')\n",
        "\n",
        "my_func(1, 20, 30)"
      ],
      "execution_count": null,
      "outputs": [
        {
          "output_type": "stream",
          "text": [
            "a=1, b=20, c=30\n"
          ],
          "name": "stdout"
        }
      ]
    },
    {
      "cell_type": "code",
      "metadata": {
        "tags": [],
        "cell_id": "00127-c22e8d99-f1db-453d-8905-9f1c990c62be",
        "deepnote_to_be_reexecuted": false,
        "source_hash": "e09bb65a",
        "execution_start": 1611973307701,
        "execution_millis": 8,
        "deepnote_cell_type": "code",
        "id": "hCNpI91UXmfz",
        "outputId": "7f690ae6-9758-493a-a541-deb697a94145"
      },
      "source": [
        "def my_func(a, b = 2, c):\n",
        "    print(f'a={a}, b={b}, c={c}')\n",
        "\n",
        "my_func(1, 20, 30)"
      ],
      "execution_count": null,
      "outputs": [
        {
          "output_type": "error",
          "ename": "SyntaxError",
          "evalue": "non-default argument follows default argument (<ipython-input-165-493bc181cd61>, line 1)",
          "traceback": [
            "\u001b[0;36m  File \u001b[0;32m\"<ipython-input-165-493bc181cd61>\"\u001b[0;36m, line \u001b[0;32m1\u001b[0m\n\u001b[0;31m    def my_func(a, b = 2, c):\u001b[0m\n\u001b[0m               ^\u001b[0m\n\u001b[0;31mSyntaxError\u001b[0m\u001b[0;31m:\u001b[0m non-default argument follows default argument\n"
          ]
        }
      ]
    },
    {
      "cell_type": "code",
      "metadata": {
        "tags": [],
        "cell_id": "00128-52905c2e-235e-4fd0-baac-a78f4e06bab3",
        "deepnote_to_be_reexecuted": false,
        "source_hash": "25ae77a7",
        "execution_start": 1611973377847,
        "execution_millis": 0,
        "deepnote_cell_type": "code",
        "id": "BUJQna-ZXmfz",
        "outputId": "deee594f-8311-48f7-e3f1-e9ce1bb86081"
      },
      "source": [
        "def initiate_player(player_name, lives = 3, game_level ):\n",
        "    pass"
      ],
      "execution_count": null,
      "outputs": [
        {
          "output_type": "error",
          "ename": "SyntaxError",
          "evalue": "non-default argument follows default argument (<ipython-input-166-8bdbc7cb4421>, line 1)",
          "traceback": [
            "\u001b[0;36m  File \u001b[0;32m\"<ipython-input-166-8bdbc7cb4421>\"\u001b[0;36m, line \u001b[0;32m1\u001b[0m\n\u001b[0;31m    def initiate_player(player_name, lives = 3, game_level ):\u001b[0m\n\u001b[0m                       ^\u001b[0m\n\u001b[0;31mSyntaxError\u001b[0m\u001b[0;31m:\u001b[0m non-default argument follows default argument\n"
          ]
        }
      ]
    },
    {
      "cell_type": "code",
      "metadata": {
        "tags": [],
        "cell_id": "00129-0144cb01-608e-4c95-9822-b4d62fe4d6ba",
        "deepnote_to_be_reexecuted": false,
        "source_hash": "fc81a2c9",
        "execution_start": 1611973415287,
        "execution_millis": 32,
        "deepnote_cell_type": "code",
        "id": "QoIpOO9zXmf0",
        "outputId": "ecc63023-e8e5-401b-bef0-02f041be01d9"
      },
      "source": [
        "def fn(a, b=2, c):\n",
        "    print(a, b, c)"
      ],
      "execution_count": null,
      "outputs": [
        {
          "output_type": "error",
          "ename": "SyntaxError",
          "evalue": "non-default argument follows default argument (<ipython-input-167-535e50422129>, line 1)",
          "traceback": [
            "\u001b[0;36m  File \u001b[0;32m\"<ipython-input-167-535e50422129>\"\u001b[0;36m, line \u001b[0;32m1\u001b[0m\n\u001b[0;31m    def fn(a, b=2, c):\u001b[0m\n\u001b[0m          ^\u001b[0m\n\u001b[0;31mSyntaxError\u001b[0m\u001b[0;31m:\u001b[0m non-default argument follows default argument\n"
          ]
        }
      ]
    },
    {
      "cell_type": "code",
      "metadata": {
        "tags": [],
        "cell_id": "00130-ac8a7bd1-5917-4a7a-b3bc-4b2cd2cfd9a9",
        "deepnote_to_be_reexecuted": false,
        "source_hash": "d3042ddc",
        "execution_millis": 1,
        "execution_start": 1611973447057,
        "deepnote_cell_type": "code",
        "id": "_G4NVfeJXmf0",
        "outputId": "030fc245-b44d-464e-b102-27bfe20728bc"
      },
      "source": [
        "def my_func(a, b = 2, c =3):\n",
        "    print(f'a={a}, b={b}, c={c}')\n",
        "\n",
        "my_func(10, 20, 30), my_func(10, 20), my_func(10)"
      ],
      "execution_count": null,
      "outputs": [
        {
          "output_type": "stream",
          "text": [
            "a=10, b=20, c=30\n",
            "a=10, b=20, c=3\n",
            "a=10, b=2, c=3\n"
          ],
          "name": "stdout"
        },
        {
          "output_type": "execute_result",
          "data": {
            "text/plain": [
              "(None, None, None)"
            ]
          },
          "metadata": {
            "tags": []
          },
          "execution_count": 169
        }
      ]
    },
    {
      "cell_type": "code",
      "metadata": {
        "tags": [],
        "cell_id": "00131-b17a7618-0111-41b0-9526-35caf54624ac",
        "deepnote_to_be_reexecuted": false,
        "source_hash": "416ffdb4",
        "execution_start": 1611973459156,
        "execution_millis": 15,
        "deepnote_cell_type": "code",
        "id": "PV23hR0LXmf0",
        "outputId": "ff2b8792-3e58-4159-ee9a-36119cc7ac6b"
      },
      "source": [
        "my_func()"
      ],
      "execution_count": null,
      "outputs": [
        {
          "output_type": "error",
          "ename": "TypeError",
          "evalue": "my_func() missing 1 required positional argument: 'a'",
          "traceback": [
            "\u001b[0;31m---------------------------------------------------------------------------\u001b[0m",
            "\u001b[0;31mTypeError\u001b[0m                                 Traceback (most recent call last)",
            "\u001b[0;32m<ipython-input-170-db3ada79940f>\u001b[0m in \u001b[0;36m<module>\u001b[0;34m\u001b[0m\n\u001b[0;32m----> 1\u001b[0;31m \u001b[0mmy_func\u001b[0m\u001b[0;34m(\u001b[0m\u001b[0;34m)\u001b[0m\u001b[0;34m\u001b[0m\u001b[0;34m\u001b[0m\u001b[0m\n\u001b[0m",
            "\u001b[0;31mTypeError\u001b[0m: my_func() missing 1 required positional argument: 'a'"
          ]
        }
      ]
    },
    {
      "cell_type": "markdown",
      "metadata": {
        "tags": [],
        "cell_id": "00132-aff8f3a5-5875-457e-bbde-e67a79e5e8e9",
        "deepnote_cell_type": "markdown",
        "id": "Ap0OQJCHXmf0"
      },
      "source": [
        "### Keyword Argumens (named Arguments)"
      ]
    },
    {
      "cell_type": "code",
      "metadata": {
        "tags": [],
        "cell_id": "00132-7a5c86e0-a0a6-425e-af8b-2886a0c4e9f2",
        "deepnote_to_be_reexecuted": false,
        "source_hash": "d393b3ae",
        "execution_millis": 1,
        "execution_start": 1611973743369,
        "deepnote_cell_type": "code",
        "id": "pKI2T0JHXmf0",
        "outputId": "00f75731-f82a-48d8-a876-75b1818522d6"
      },
      "source": [
        "def my_func(a, b = 2, c = 3):\n",
        "    print(f'a={a}, b={b}, c={c}')\n",
        "\n",
        "my_func(10, c = 40)"
      ],
      "execution_count": null,
      "outputs": [
        {
          "output_type": "stream",
          "text": [
            "a=10, b=2, c=40\n"
          ],
          "name": "stdout"
        }
      ]
    },
    {
      "cell_type": "markdown",
      "metadata": {
        "tags": [],
        "cell_id": "00134-d83ac5c5-1ad8-4903-9aa4-4419f905749b",
        "deepnote_cell_type": "markdown",
        "id": "W_fDIUatXmf1"
      },
      "source": [
        "# Unpacking Iterables"
      ]
    },
    {
      "cell_type": "code",
      "metadata": {
        "tags": [],
        "cell_id": "00134-b7b32c18-830e-4e97-8362-ac5bb5ca5d47",
        "deepnote_to_be_reexecuted": false,
        "source_hash": "81c58b8d",
        "execution_start": 1611973822706,
        "execution_millis": 14,
        "deepnote_cell_type": "code",
        "id": "UbO8Edm9Xmf1",
        "outputId": "8e485ac7-cd52-4eff-d32c-a90e094407da"
      },
      "source": [
        "a = 1, 2, 3\n",
        "type(a)"
      ],
      "execution_count": null,
      "outputs": [
        {
          "output_type": "execute_result",
          "data": {
            "text/plain": [
              "tuple"
            ]
          },
          "metadata": {
            "tags": []
          },
          "execution_count": 181
        }
      ]
    },
    {
      "cell_type": "code",
      "metadata": {
        "tags": [],
        "cell_id": "00136-686f9fd8-ce30-4221-9cee-7b266cc23838",
        "deepnote_to_be_reexecuted": false,
        "source_hash": "36cf9e10",
        "execution_millis": 3,
        "execution_start": 1611973884424,
        "deepnote_cell_type": "code",
        "id": "pJUbTjQZXmf1",
        "outputId": "bdb1661d-ee17-4f2f-edcb-bd805d58b975"
      },
      "source": [
        "a = 1, 2, 3\n",
        "b = () #dont use just ,\n",
        "type(b)"
      ],
      "execution_count": null,
      "outputs": [
        {
          "output_type": "execute_result",
          "data": {
            "text/plain": [
              "tuple"
            ]
          },
          "metadata": {
            "tags": []
          },
          "execution_count": 185
        }
      ]
    },
    {
      "cell_type": "code",
      "metadata": {
        "tags": [],
        "cell_id": "00137-44b86328-a115-4112-9953-fd1450f60a92",
        "deepnote_to_be_reexecuted": false,
        "source_hash": "3e5b63cd",
        "execution_start": 1611973916978,
        "execution_millis": 0,
        "deepnote_cell_type": "code",
        "id": "yMnT2JpzXmf4",
        "outputId": "6329b023-e7d3-4389-a0fc-16d578c0a083"
      },
      "source": [
        "def my_func(a, b = 2, c =3):\n",
        "    print(f'a={a}, b={b}, c={c}')\n",
        "\n",
        "my_func(20, a = 30, c = 50)"
      ],
      "execution_count": null,
      "outputs": [
        {
          "output_type": "error",
          "ename": "TypeError",
          "evalue": "my_func() got multiple values for argument 'a'",
          "traceback": [
            "\u001b[0;31m---------------------------------------------------------------------------\u001b[0m",
            "\u001b[0;31mTypeError\u001b[0m                                 Traceback (most recent call last)",
            "\u001b[0;32m<ipython-input-186-2cf68e77d007>\u001b[0m in \u001b[0;36m<module>\u001b[0;34m\u001b[0m\n\u001b[1;32m      2\u001b[0m     \u001b[0mprint\u001b[0m\u001b[0;34m(\u001b[0m\u001b[0;34mf'a={a}, b={b}, c={c}'\u001b[0m\u001b[0;34m)\u001b[0m\u001b[0;34m\u001b[0m\u001b[0;34m\u001b[0m\u001b[0m\n\u001b[1;32m      3\u001b[0m \u001b[0;34m\u001b[0m\u001b[0m\n\u001b[0;32m----> 4\u001b[0;31m \u001b[0mmy_func\u001b[0m\u001b[0;34m(\u001b[0m\u001b[0;36m20\u001b[0m\u001b[0;34m,\u001b[0m \u001b[0ma\u001b[0m \u001b[0;34m=\u001b[0m \u001b[0;36m30\u001b[0m\u001b[0;34m,\u001b[0m \u001b[0mc\u001b[0m \u001b[0;34m=\u001b[0m \u001b[0;36m50\u001b[0m\u001b[0;34m)\u001b[0m\u001b[0;34m\u001b[0m\u001b[0;34m\u001b[0m\u001b[0m\n\u001b[0m",
            "\u001b[0;31mTypeError\u001b[0m: my_func() got multiple values for argument 'a'"
          ]
        }
      ]
    },
    {
      "cell_type": "code",
      "metadata": {
        "tags": [],
        "cell_id": "00138-20ff9037-4e8a-4482-9230-558d80812d4f",
        "deepnote_to_be_reexecuted": false,
        "source_hash": "d36b0f7b",
        "execution_millis": 41,
        "execution_start": 1611973979512,
        "deepnote_cell_type": "code",
        "id": "fLASnfz-Xmf5",
        "outputId": "2cd0e9e3-bd60-4c2d-ad25-29bf774d17d0"
      },
      "source": [
        "a = (1, 2, 3)\n",
        "b = (1)\n",
        "c = (1,)\n",
        "type(a), type(b), type(c)"
      ],
      "execution_count": null,
      "outputs": [
        {
          "output_type": "execute_result",
          "data": {
            "text/plain": [
              "(tuple, int, tuple)"
            ]
          },
          "metadata": {
            "tags": []
          },
          "execution_count": 188
        }
      ]
    },
    {
      "cell_type": "code",
      "metadata": {
        "tags": [],
        "cell_id": "00139-61e9b3d8-d4ba-4b6f-b6d7-ee634e82984a",
        "deepnote_to_be_reexecuted": false,
        "source_hash": "46911bfa",
        "execution_start": 1611974009189,
        "execution_millis": 26,
        "deepnote_cell_type": "code",
        "id": "en0xeWzTXmf5",
        "outputId": "e4bbd0d3-4f8c-4e0d-d753-078c1d8d2424"
      },
      "source": [
        "l = [1, 2, 3, 4]\n",
        "a, b, c, d = l\n",
        "print(a, b, c, d)"
      ],
      "execution_count": null,
      "outputs": [
        {
          "output_type": "stream",
          "text": [
            "1 2 3 4\n"
          ],
          "name": "stdout"
        }
      ]
    },
    {
      "cell_type": "code",
      "metadata": {
        "tags": [],
        "cell_id": "00140-fb8a159a-4f28-4394-aa46-5451206e7028",
        "deepnote_to_be_reexecuted": false,
        "source_hash": "6e302bf6",
        "execution_start": 1611974043865,
        "execution_millis": 1,
        "deepnote_cell_type": "code",
        "id": "Jf-pJakdXmf5",
        "outputId": "22265547-cf97-489c-fb97-701f880c61bb"
      },
      "source": [
        "l = (1, 2, 3, 4)\n",
        "a, b, c, d = l\n",
        "print(a, b, c, d)"
      ],
      "execution_count": null,
      "outputs": [
        {
          "output_type": "stream",
          "text": [
            "1 2 3 4\n"
          ],
          "name": "stdout"
        }
      ]
    },
    {
      "cell_type": "code",
      "metadata": {
        "tags": [],
        "cell_id": "00141-5a3ae4ed-f18d-42d8-9a53-bbb977756302",
        "deepnote_to_be_reexecuted": false,
        "source_hash": "b4ec84fe",
        "execution_start": 1611974050933,
        "execution_millis": 5,
        "deepnote_cell_type": "code",
        "id": "mkhGlij8Xmf5",
        "outputId": "60eb6e5a-3808-437f-97a7-5180f7140da6"
      },
      "source": [
        "l = 'abcd'\n",
        "a, b, c, d = l\n",
        "print(a, b, c, d)"
      ],
      "execution_count": null,
      "outputs": [
        {
          "output_type": "stream",
          "text": [
            "a b c d\n"
          ],
          "name": "stdout"
        }
      ]
    },
    {
      "cell_type": "code",
      "metadata": {
        "tags": [],
        "cell_id": "00142-4b366d49-5537-4d53-b032-24d2ace52d18",
        "deepnote_to_be_reexecuted": false,
        "source_hash": "4b716b8f",
        "execution_millis": 1,
        "execution_start": 1611974160977,
        "deepnote_cell_type": "code",
        "id": "OL5y3zuPXmf6",
        "outputId": "e07e9b87-63af-483b-82cb-bc22b1865bae"
      },
      "source": [
        "a = 10\n",
        "b = 20\n",
        "print(a, b)\n",
        "\n",
        "b, a = a, b # you 👈🏻 just made a tuple and unpacked it\n",
        "\n",
        "print(a, b)"
      ],
      "execution_count": null,
      "outputs": [
        {
          "output_type": "stream",
          "text": [
            "10 20\n",
            "20 10\n"
          ],
          "name": "stdout"
        }
      ]
    },
    {
      "cell_type": "code",
      "metadata": {
        "tags": [],
        "cell_id": "00143-ef7fd1d0-310d-4b1a-98bc-7cc3f4207a5e",
        "deepnote_to_be_reexecuted": false,
        "source_hash": "c0f01c19",
        "execution_millis": 0,
        "execution_start": 1611974244701,
        "deepnote_cell_type": "code",
        "id": "IUsbRMBoXmf6"
      },
      "source": [
        "dict1 = {'p': 1, 'y': 2, 't': 3, 'h': 4, 'o': 5, 'n': 6}"
      ],
      "execution_count": null,
      "outputs": []
    },
    {
      "cell_type": "code",
      "metadata": {
        "tags": [],
        "cell_id": "00144-055ceffe-e6b6-4e18-9d15-af2fc13d95ec",
        "deepnote_to_be_reexecuted": false,
        "source_hash": "486df0c",
        "execution_millis": 10,
        "execution_start": 1611974249899,
        "deepnote_cell_type": "code",
        "id": "WLFMgllJXmf6",
        "outputId": "07bfaa7c-7b9d-4f50-f05a-7480d4ab60c9"
      },
      "source": [
        "dict1"
      ],
      "execution_count": null,
      "outputs": [
        {
          "output_type": "execute_result",
          "data": {
            "text/plain": [
              "{'p': 1, 'y': 2, 't': 3, 'h': 4, 'o': 5, 'n': 6}"
            ]
          },
          "metadata": {
            "tags": []
          },
          "execution_count": 198
        }
      ]
    },
    {
      "cell_type": "code",
      "metadata": {
        "tags": [],
        "cell_id": "00145-e97a5ad8-0447-4d2f-95a6-b59c5a5a8156",
        "deepnote_to_be_reexecuted": false,
        "source_hash": "3f45fb04",
        "execution_start": 1611974323318,
        "execution_millis": 5,
        "deepnote_cell_type": "code",
        "id": "LtoIQL9KXmf7",
        "outputId": "e812d53d-1ffd-43a8-8b45-7a11cf273191"
      },
      "source": [
        "for c in dict1:\n",
        "    print(c)"
      ],
      "execution_count": null,
      "outputs": [
        {
          "output_type": "stream",
          "text": [
            "p\n",
            "y\n",
            "t\n",
            "h\n",
            "o\n",
            "n\n"
          ],
          "name": "stdout"
        }
      ]
    },
    {
      "cell_type": "code",
      "metadata": {
        "tags": [],
        "cell_id": "00146-44d0c14a-cc47-4989-8db6-8a7b9327c2e4",
        "deepnote_to_be_reexecuted": false,
        "source_hash": "c6bf9d78",
        "execution_start": 1611974351174,
        "execution_millis": 16,
        "deepnote_cell_type": "code",
        "id": "dOyUX-XeXmf7",
        "outputId": "7cad3236-9f42-44fb-d49a-495a4e615504"
      },
      "source": [
        "a, b, c, d, e, f = dict1\n",
        "print(a, c, e)"
      ],
      "execution_count": null,
      "outputs": [
        {
          "output_type": "stream",
          "text": [
            "p t o\n"
          ],
          "name": "stdout"
        }
      ]
    },
    {
      "cell_type": "code",
      "metadata": {
        "tags": [],
        "cell_id": "00147-f80663fb-1727-4f1f-9d6c-b7281c79b66c",
        "deepnote_to_be_reexecuted": false,
        "source_hash": "df59bec1",
        "execution_start": 1611974406448,
        "execution_millis": 4,
        "deepnote_cell_type": "code",
        "id": "avnLy6H7Xmf7",
        "outputId": "19e2fb00-6ab5-4688-bf8e-79694723fda9"
      },
      "source": [
        "s = {'p', 'y', 't', 'h', 'o', 'n'}\n",
        "type(s), print(s)"
      ],
      "execution_count": null,
      "outputs": [
        {
          "output_type": "stream",
          "text": [
            "{'h', 'p', 't', 'n', 'o', 'y'}\n"
          ],
          "name": "stdout"
        },
        {
          "output_type": "execute_result",
          "data": {
            "text/plain": [
              "(set, None)"
            ]
          },
          "metadata": {
            "tags": []
          },
          "execution_count": 201
        }
      ]
    },
    {
      "cell_type": "code",
      "metadata": {
        "tags": [],
        "cell_id": "00148-e68e150a-cb80-418b-8862-499610e39ec4",
        "deepnote_to_be_reexecuted": false,
        "source_hash": "f8e773ac",
        "execution_start": 1611974448804,
        "execution_millis": 9,
        "deepnote_cell_type": "code",
        "id": "YEgTk7orXmf7",
        "outputId": "000fc4d2-9853-489b-db42-1bbf8b2cb458"
      },
      "source": [
        "a, b, c, d, e, f = s\n",
        "print(a, b, c, d, e, f)"
      ],
      "execution_count": null,
      "outputs": [
        {
          "output_type": "stream",
          "text": [
            "h p t n o y\n"
          ],
          "name": "stdout"
        }
      ]
    },
    {
      "cell_type": "code",
      "metadata": {
        "tags": [],
        "cell_id": "00149-21f82813-7bc1-430a-8a15-e043862187f3",
        "deepnote_to_be_reexecuted": false,
        "source_hash": "57bac487",
        "execution_start": 1611974506489,
        "execution_millis": 21,
        "deepnote_cell_type": "code",
        "id": "HZPuYUYbXmf8",
        "outputId": "93143f7d-18fc-4a7f-cd33-962d02add7aa"
      },
      "source": [
        "l = [1, 2, 3, 4, 5, 6]\n",
        "\n",
        "a = l[0]\n",
        "b = l[1:]\n",
        "a, b"
      ],
      "execution_count": null,
      "outputs": [
        {
          "output_type": "execute_result",
          "data": {
            "text/plain": [
              "(1, [2, 3, 4, 5, 6])"
            ]
          },
          "metadata": {
            "tags": []
          },
          "execution_count": 203
        }
      ]
    },
    {
      "cell_type": "code",
      "metadata": {
        "tags": [],
        "cell_id": "00150-9dd59af9-8fa4-4d25-9b9a-e06e31d9d395",
        "deepnote_to_be_reexecuted": false,
        "source_hash": "cff79b35",
        "execution_millis": 3,
        "execution_start": 1611974595133,
        "deepnote_cell_type": "code",
        "id": "pq7JsSnFXmf8",
        "outputId": "a9a27195-ca63-4ce5-a330-376c9a88b819"
      },
      "source": [
        "l[:], l[-1:], l[:-1], l[:-2], l[3:-1], l[None:None], l[-1: None]"
      ],
      "execution_count": null,
      "outputs": [
        {
          "output_type": "execute_result",
          "data": {
            "text/plain": [
              "([1, 2, 3, 4, 5, 6],\n",
              " [6],\n",
              " [1, 2, 3, 4, 5],\n",
              " [1, 2, 3, 4],\n",
              " [4, 5],\n",
              " [1, 2, 3, 4, 5, 6],\n",
              " [6])"
            ]
          },
          "metadata": {
            "tags": []
          },
          "execution_count": 205
        }
      ]
    },
    {
      "cell_type": "code",
      "metadata": {
        "tags": [],
        "cell_id": "00151-a6257264-3d80-4558-afb1-35d74f97f91f",
        "deepnote_to_be_reexecuted": false,
        "source_hash": "1d709686",
        "execution_millis": 10,
        "execution_start": 1611974721690,
        "deepnote_cell_type": "code",
        "id": "ol7TXFRFXmf9",
        "outputId": "3ed10a5c-8ca2-4594-f022-44a303868a49"
      },
      "source": [
        "a, b = l[0], l[1:]\n",
        "a, b"
      ],
      "execution_count": null,
      "outputs": [
        {
          "output_type": "execute_result",
          "data": {
            "text/plain": [
              "(1, [2, 3, 4, 5, 6])"
            ]
          },
          "metadata": {
            "tags": []
          },
          "execution_count": 209
        }
      ]
    },
    {
      "cell_type": "code",
      "metadata": {
        "tags": [],
        "cell_id": "00152-296b083d-80ab-4b25-9a0b-c95af817e374",
        "deepnote_to_be_reexecuted": false,
        "source_hash": "5ff4562f",
        "execution_millis": 11,
        "execution_start": 1611974780071,
        "deepnote_cell_type": "code",
        "id": "0CUCMRanXmf-",
        "outputId": "a8293d07-1819-4fae-d440-4326bf63af8d"
      },
      "source": [
        "a, *b = l \n",
        "a, b"
      ],
      "execution_count": null,
      "outputs": [
        {
          "output_type": "execute_result",
          "data": {
            "text/plain": [
              "(1, [2, 3, 4, 5, 6])"
            ]
          },
          "metadata": {
            "tags": []
          },
          "execution_count": 212
        }
      ]
    },
    {
      "cell_type": "code",
      "metadata": {
        "tags": [],
        "cell_id": "00153-0ef21afd-faf9-4280-890e-a4de70dfd3a1",
        "deepnote_to_be_reexecuted": false,
        "source_hash": "f1dd347c",
        "execution_start": 1611974865493,
        "execution_millis": 13,
        "deepnote_cell_type": "code",
        "id": "soS0YojlXmf-",
        "outputId": "fca58522-f29e-4b01-dec4-058248cc3706"
      },
      "source": [
        "a, *b = -10, 34, 12, 34\n",
        "a, b"
      ],
      "execution_count": null,
      "outputs": [
        {
          "output_type": "execute_result",
          "data": {
            "text/plain": [
              "(-10, [34, 12, 34])"
            ]
          },
          "metadata": {
            "tags": []
          },
          "execution_count": 213
        }
      ]
    },
    {
      "cell_type": "code",
      "metadata": {
        "tags": [],
        "cell_id": "00154-af350615-9633-41b3-837d-ffc6421d63a4",
        "deepnote_to_be_reexecuted": false,
        "source_hash": "ac3f38aa",
        "execution_start": 1611974890018,
        "execution_millis": 4,
        "deepnote_cell_type": "code",
        "id": "n5j6CeEJXmf-",
        "outputId": "af41e89a-3eb3-4736-a752-8738e1ef51ae"
      },
      "source": [
        "a, *b = 'rohan'\n",
        "a, b"
      ],
      "execution_count": null,
      "outputs": [
        {
          "output_type": "execute_result",
          "data": {
            "text/plain": [
              "('r', ['o', 'h', 'a', 'n'])"
            ]
          },
          "metadata": {
            "tags": []
          },
          "execution_count": 214
        }
      ]
    },
    {
      "cell_type": "code",
      "metadata": {
        "tags": [],
        "cell_id": "00155-31d87f4f-04b7-4495-81f5-d9bc74383394",
        "deepnote_to_be_reexecuted": false,
        "source_hash": "5c16a3da",
        "execution_start": 1611974902278,
        "execution_millis": 10,
        "deepnote_cell_type": "code",
        "id": "F_37BLKvXmf-",
        "outputId": "566e091d-5518-4766-8be1-37e8ed8935dc"
      },
      "source": [
        "a, *_ = 'rohan'\n",
        "a, _"
      ],
      "execution_count": null,
      "outputs": [
        {
          "output_type": "execute_result",
          "data": {
            "text/plain": [
              "('r', ['o', 'h', 'a', 'n'])"
            ]
          },
          "metadata": {
            "tags": []
          },
          "execution_count": 215
        }
      ]
    },
    {
      "cell_type": "code",
      "metadata": {
        "tags": [],
        "cell_id": "00156-5a4bd530-6924-4b4f-8fac-19bbf5b652ad",
        "deepnote_to_be_reexecuted": false,
        "source_hash": "13be1e7",
        "execution_millis": 8,
        "execution_start": 1611974954083,
        "deepnote_cell_type": "code",
        "id": "IM3cFlwWXmf-"
      },
      "source": [
        "*a, b, c, d = 'rohan'"
      ],
      "execution_count": null,
      "outputs": []
    },
    {
      "cell_type": "code",
      "metadata": {
        "tags": [],
        "cell_id": "00157-3e073c2f-6894-458a-99ae-a4751f15940a",
        "deepnote_to_be_reexecuted": false,
        "source_hash": "dc4f085",
        "execution_millis": 0,
        "execution_start": 1611974956850,
        "deepnote_cell_type": "code",
        "id": "3xPqgf_4Xmf_",
        "outputId": "978afe6f-3e0d-4c76-90da-af51d17b7793"
      },
      "source": [
        "a, b, c, b"
      ],
      "execution_count": null,
      "outputs": [
        {
          "output_type": "execute_result",
          "data": {
            "text/plain": [
              "(['r', 'o'], 'h', 'a', 'h')"
            ]
          },
          "metadata": {
            "tags": []
          },
          "execution_count": 219
        }
      ]
    },
    {
      "cell_type": "code",
      "metadata": {
        "tags": [],
        "cell_id": "00158-9fd21bb1-89e2-4adc-a4af-66a7d0e6100d",
        "deepnote_to_be_reexecuted": false,
        "source_hash": "9e3a5f8b",
        "execution_start": 1611974982889,
        "execution_millis": 1,
        "deepnote_cell_type": "code",
        "id": "gNENotrmXmf_",
        "outputId": "4eff18a9-3c1b-47a6-8332-7cb58c1654ac"
      },
      "source": [
        "*a, *b = 'rohan'\n",
        "a, b"
      ],
      "execution_count": null,
      "outputs": [
        {
          "output_type": "error",
          "ename": "SyntaxError",
          "evalue": "two starred expressions in assignment (<ipython-input-220-cee69b0172eb>, line 4)",
          "traceback": [
            "\u001b[0;36m  File \u001b[0;32m\"<ipython-input-220-cee69b0172eb>\"\u001b[0;36m, line \u001b[0;32m4\u001b[0m\n\u001b[0;31mSyntaxError\u001b[0m\u001b[0;31m:\u001b[0m two starred expressions in assignment\n"
          ]
        }
      ]
    },
    {
      "cell_type": "code",
      "metadata": {
        "tags": [],
        "cell_id": "00159-a4bdd90e-02cb-4080-9f09-48e105c5e000",
        "deepnote_to_be_reexecuted": false,
        "source_hash": "3a705dd3",
        "execution_millis": 1,
        "execution_start": 1611975169361,
        "deepnote_cell_type": "code",
        "id": "PJSoHFnqXmf_",
        "outputId": "f0ccece1-de41-41f6-b8a1-4146294048b2"
      },
      "source": [
        "s = 'aeroplane'\n",
        "a, b, *c, d = s\n",
        "a, b, c, d"
      ],
      "execution_count": null,
      "outputs": [
        {
          "output_type": "execute_result",
          "data": {
            "text/plain": [
              "('a', 'e', ['r', 'o', 'p', 'l', 'a', 'n'], 'e')"
            ]
          },
          "metadata": {
            "tags": []
          },
          "execution_count": 222
        }
      ]
    },
    {
      "cell_type": "code",
      "metadata": {
        "tags": [],
        "cell_id": "00160-7eb80a2f-fc77-4413-a15a-07088e29ed21",
        "deepnote_to_be_reexecuted": false,
        "source_hash": "a0832e18",
        "execution_start": 1611975206292,
        "execution_millis": 0,
        "deepnote_cell_type": "code",
        "id": "8EteZsLHXmf_",
        "outputId": "36b5f625-af9d-4e77-fd5f-808413473c99"
      },
      "source": [
        "s = 'aeroplane'\n",
        "a, b, c, d = s[0], s[1], s[2:-1], s[-1]\n",
        "a, b, c, d"
      ],
      "execution_count": null,
      "outputs": [
        {
          "output_type": "execute_result",
          "data": {
            "text/plain": [
              "('a', 'e', 'roplan', 'e')"
            ]
          },
          "metadata": {
            "tags": []
          },
          "execution_count": 223
        }
      ]
    },
    {
      "cell_type": "code",
      "metadata": {
        "tags": [],
        "cell_id": "00161-ef71bc60-0827-420a-9cfa-69915267585a",
        "deepnote_to_be_reexecuted": false,
        "source_hash": "fd7edfd7",
        "execution_start": 1611975235210,
        "execution_millis": 7,
        "deepnote_cell_type": "code",
        "id": "22415NdUXmgA",
        "outputId": "76ac200b-ccf7-45ae-ff25-4fab73158d98"
      },
      "source": [
        "s = 'aeroplane'\n",
        "a, b, *c, d = s\n",
        "c"
      ],
      "execution_count": null,
      "outputs": [
        {
          "output_type": "execute_result",
          "data": {
            "text/plain": [
              "['r', 'o', 'p', 'l', 'a', 'n']"
            ]
          },
          "metadata": {
            "tags": []
          },
          "execution_count": 224
        }
      ]
    },
    {
      "cell_type": "code",
      "metadata": {
        "tags": [],
        "cell_id": "00162-e5063ca8-4cf8-4437-a507-51170cc6156d",
        "deepnote_to_be_reexecuted": false,
        "source_hash": "e6044340",
        "execution_start": 1611975265755,
        "execution_millis": 43,
        "deepnote_cell_type": "code",
        "id": "yDSEJWyYXmgA",
        "outputId": "fa493b0c-bd89-452a-fc87-998695d0227d"
      },
      "source": [
        "c = ''.join(c)\n",
        "c"
      ],
      "execution_count": null,
      "outputs": [
        {
          "output_type": "execute_result",
          "data": {
            "text/plain": [
              "'roplan'"
            ]
          },
          "metadata": {
            "tags": []
          },
          "execution_count": 225
        }
      ]
    },
    {
      "cell_type": "code",
      "metadata": {
        "tags": [],
        "cell_id": "00163-e02dafe8-5284-418f-a70a-365a4bfba290",
        "deepnote_to_be_reexecuted": false,
        "source_hash": "75259d81",
        "execution_start": 1611975336503,
        "execution_millis": 43,
        "deepnote_cell_type": "code",
        "id": "isPvb4kGXmgA",
        "outputId": "26686b69-a1c9-4eda-ccc8-eb2e950b30f7"
      },
      "source": [
        "l1 = [1, 2, 3]\n",
        "l2 = [4, 5, 6]\n",
        "l = [*l1, *l2]\n",
        "l"
      ],
      "execution_count": null,
      "outputs": [
        {
          "output_type": "execute_result",
          "data": {
            "text/plain": [
              "[1, 2, 3, 4, 5, 6]"
            ]
          },
          "metadata": {
            "tags": []
          },
          "execution_count": 226
        }
      ]
    },
    {
      "cell_type": "code",
      "metadata": {
        "tags": [],
        "cell_id": "00164-7f98f422-17a9-4deb-b0f5-d42b9e22c1ad",
        "deepnote_to_be_reexecuted": false,
        "source_hash": "b056924",
        "execution_millis": 3,
        "execution_start": 1611975381112,
        "deepnote_cell_type": "code",
        "id": "PDtn5KAHXmgA",
        "outputId": "6eac2c98-0b6a-4e9d-98ab-577f0dd04165"
      },
      "source": [
        "l1 = [1, 2, 3]\n",
        "s = 'ABC'\n",
        "l = [*l1, *s]\n",
        "l"
      ],
      "execution_count": null,
      "outputs": [
        {
          "output_type": "execute_result",
          "data": {
            "text/plain": [
              "[1, 2, 3, 'A', 'B', 'C']"
            ]
          },
          "metadata": {
            "tags": []
          },
          "execution_count": 228
        }
      ]
    },
    {
      "cell_type": "code",
      "metadata": {
        "tags": [],
        "cell_id": "00165-4f60801b-1118-4ae7-a40a-d8cf2ccb8016",
        "deepnote_to_be_reexecuted": false,
        "source_hash": "7691e74c",
        "execution_start": 1611975404642,
        "execution_millis": 44,
        "deepnote_cell_type": "code",
        "id": "6yNuaJdjXmgA",
        "outputId": "5fc09e55-fec5-47b3-c33e-67b93f957154"
      },
      "source": [
        "s = {10, -99, 'red', 'q'}\n",
        "\n",
        "s"
      ],
      "execution_count": null,
      "outputs": [
        {
          "output_type": "execute_result",
          "data": {
            "text/plain": [
              "{-99, 10, 'q', 'red'}"
            ]
          },
          "metadata": {
            "tags": []
          },
          "execution_count": 229
        }
      ]
    },
    {
      "cell_type": "code",
      "metadata": {
        "tags": [],
        "cell_id": "00166-58da2905-d817-4931-9d44-ba1301c88762",
        "deepnote_to_be_reexecuted": false,
        "source_hash": "1f0c518d",
        "execution_start": 1611975426710,
        "execution_millis": 4,
        "deepnote_cell_type": "code",
        "id": "gI5TVJr8XmgB",
        "outputId": "0e5695e8-b6e2-4de1-8ed1-309aa76e89e1"
      },
      "source": [
        "a, *b, c = s\n",
        "a, b, c"
      ],
      "execution_count": null,
      "outputs": [
        {
          "output_type": "execute_result",
          "data": {
            "text/plain": [
              "('q', [10, 'red'], -99)"
            ]
          },
          "metadata": {
            "tags": []
          },
          "execution_count": 230
        }
      ]
    },
    {
      "cell_type": "code",
      "metadata": {
        "tags": [],
        "cell_id": "00167-7876ccfb-4782-40b4-9e0d-716a5b7ac5f3",
        "deepnote_to_be_reexecuted": false,
        "source_hash": "34b366b1",
        "execution_start": 1611975488623,
        "execution_millis": 8,
        "deepnote_cell_type": "code",
        "id": "EHEAxIBUXmgB",
        "outputId": "368dfb8d-bec5-45f1-ba5d-b42f78fa400a"
      },
      "source": [
        "s1 = {1, 2, 3}\n",
        "s2 = {4, 5, 6}\n",
        "s1 + s2"
      ],
      "execution_count": null,
      "outputs": [
        {
          "output_type": "error",
          "ename": "TypeError",
          "evalue": "unsupported operand type(s) for +: 'set' and 'set'",
          "traceback": [
            "\u001b[0;31m---------------------------------------------------------------------------\u001b[0m",
            "\u001b[0;31mTypeError\u001b[0m                                 Traceback (most recent call last)",
            "\u001b[0;32m<ipython-input-231-3a283e18263c>\u001b[0m in \u001b[0;36m<module>\u001b[0;34m\u001b[0m\n\u001b[1;32m      1\u001b[0m \u001b[0ms1\u001b[0m \u001b[0;34m=\u001b[0m \u001b[0;34m{\u001b[0m\u001b[0;36m1\u001b[0m\u001b[0;34m,\u001b[0m \u001b[0;36m2\u001b[0m\u001b[0;34m,\u001b[0m \u001b[0;36m3\u001b[0m\u001b[0;34m}\u001b[0m\u001b[0;34m\u001b[0m\u001b[0;34m\u001b[0m\u001b[0m\n\u001b[1;32m      2\u001b[0m \u001b[0ms2\u001b[0m \u001b[0;34m=\u001b[0m \u001b[0;34m{\u001b[0m\u001b[0;36m4\u001b[0m\u001b[0;34m,\u001b[0m \u001b[0;36m5\u001b[0m\u001b[0;34m,\u001b[0m \u001b[0;36m6\u001b[0m\u001b[0;34m}\u001b[0m\u001b[0;34m\u001b[0m\u001b[0;34m\u001b[0m\u001b[0m\n\u001b[0;32m----> 3\u001b[0;31m \u001b[0ms1\u001b[0m \u001b[0;34m+\u001b[0m \u001b[0ms2\u001b[0m\u001b[0;34m\u001b[0m\u001b[0;34m\u001b[0m\u001b[0m\n\u001b[0m",
            "\u001b[0;31mTypeError\u001b[0m: unsupported operand type(s) for +: 'set' and 'set'"
          ]
        }
      ]
    },
    {
      "cell_type": "code",
      "metadata": {
        "tags": [],
        "cell_id": "00168-26359d4e-5309-4194-858b-eba900f9c4ca",
        "deepnote_to_be_reexecuted": false,
        "source_hash": "40546771",
        "execution_start": 1611975504552,
        "execution_millis": 3,
        "deepnote_cell_type": "code",
        "id": "F-WH4_OBXmgB",
        "outputId": "07c0af7b-c34f-4bbe-df3e-52a3385c9d38"
      },
      "source": [
        "help(set)"
      ],
      "execution_count": null,
      "outputs": [
        {
          "output_type": "stream",
          "text": [
            "Help on class set in module builtins:\n",
            "\n",
            "class set(object)\n",
            " |  set() -> new empty set object\n",
            " |  set(iterable) -> new set object\n",
            " |  \n",
            " |  Build an unordered collection of unique elements.\n",
            " |  \n",
            " |  Methods defined here:\n",
            " |  \n",
            " |  __and__(self, value, /)\n",
            " |      Return self&value.\n",
            " |  \n",
            " |  __contains__(...)\n",
            " |      x.__contains__(y) <==> y in x.\n",
            " |  \n",
            " |  __eq__(self, value, /)\n",
            " |      Return self==value.\n",
            " |  \n",
            " |  __ge__(self, value, /)\n",
            " |      Return self>=value.\n",
            " |  \n",
            " |  __getattribute__(self, name, /)\n",
            " |      Return getattr(self, name).\n",
            " |  \n",
            " |  __gt__(self, value, /)\n",
            " |      Return self>value.\n",
            " |  \n",
            " |  __iand__(self, value, /)\n",
            " |      Return self&=value.\n",
            " |  \n",
            " |  __init__(self, /, *args, **kwargs)\n",
            " |      Initialize self.  See help(type(self)) for accurate signature.\n",
            " |  \n",
            " |  __ior__(self, value, /)\n",
            " |      Return self|=value.\n",
            " |  \n",
            " |  __isub__(self, value, /)\n",
            " |      Return self-=value.\n",
            " |  \n",
            " |  __iter__(self, /)\n",
            " |      Implement iter(self).\n",
            " |  \n",
            " |  __ixor__(self, value, /)\n",
            " |      Return self^=value.\n",
            " |  \n",
            " |  __le__(self, value, /)\n",
            " |      Return self<=value.\n",
            " |  \n",
            " |  __len__(self, /)\n",
            " |      Return len(self).\n",
            " |  \n",
            " |  __lt__(self, value, /)\n",
            " |      Return self<value.\n",
            " |  \n",
            " |  __ne__(self, value, /)\n",
            " |      Return self!=value.\n",
            " |  \n",
            " |  __or__(self, value, /)\n",
            " |      Return self|value.\n",
            " |  \n",
            " |  __rand__(self, value, /)\n",
            " |      Return value&self.\n",
            " |  \n",
            " |  __reduce__(...)\n",
            " |      Return state information for pickling.\n",
            " |  \n",
            " |  __repr__(self, /)\n",
            " |      Return repr(self).\n",
            " |  \n",
            " |  __ror__(self, value, /)\n",
            " |      Return value|self.\n",
            " |  \n",
            " |  __rsub__(self, value, /)\n",
            " |      Return value-self.\n",
            " |  \n",
            " |  __rxor__(self, value, /)\n",
            " |      Return value^self.\n",
            " |  \n",
            " |  __sizeof__(...)\n",
            " |      S.__sizeof__() -> size of S in memory, in bytes\n",
            " |  \n",
            " |  __sub__(self, value, /)\n",
            " |      Return self-value.\n",
            " |  \n",
            " |  __xor__(self, value, /)\n",
            " |      Return self^value.\n",
            " |  \n",
            " |  add(...)\n",
            " |      Add an element to a set.\n",
            " |      \n",
            " |      This has no effect if the element is already present.\n",
            " |  \n",
            " |  clear(...)\n",
            " |      Remove all elements from this set.\n",
            " |  \n",
            " |  copy(...)\n",
            " |      Return a shallow copy of a set.\n",
            " |  \n",
            " |  difference(...)\n",
            " |      Return the difference of two or more sets as a new set.\n",
            " |      \n",
            " |      (i.e. all elements that are in this set but not the others.)\n",
            " |  \n",
            " |  difference_update(...)\n",
            " |      Remove all elements of another set from this set.\n",
            " |  \n",
            " |  discard(...)\n",
            " |      Remove an element from a set if it is a member.\n",
            " |      \n",
            " |      If the element is not a member, do nothing.\n",
            " |  \n",
            " |  intersection(...)\n",
            " |      Return the intersection of two sets as a new set.\n",
            " |      \n",
            " |      (i.e. all elements that are in both sets.)\n",
            " |  \n",
            " |  intersection_update(...)\n",
            " |      Update a set with the intersection of itself and another.\n",
            " |  \n",
            " |  isdisjoint(...)\n",
            " |      Return True if two sets have a null intersection.\n",
            " |  \n",
            " |  issubset(...)\n",
            " |      Report whether another set contains this set.\n",
            " |  \n",
            " |  issuperset(...)\n",
            " |      Report whether this set contains another set.\n",
            " |  \n",
            " |  pop(...)\n",
            " |      Remove and return an arbitrary set element.\n",
            " |      Raises KeyError if the set is empty.\n",
            " |  \n",
            " |  remove(...)\n",
            " |      Remove an element from a set; it must be a member.\n",
            " |      \n",
            " |      If the element is not a member, raise a KeyError.\n",
            " |  \n",
            " |  symmetric_difference(...)\n",
            " |      Return the symmetric difference of two sets as a new set.\n",
            " |      \n",
            " |      (i.e. all elements that are in exactly one of the sets.)\n",
            " |  \n",
            " |  symmetric_difference_update(...)\n",
            " |      Update a set with the symmetric difference of itself and another.\n",
            " |  \n",
            " |  union(...)\n",
            " |      Return the union of sets as a new set.\n",
            " |      \n",
            " |      (i.e. all elements that are in either set.)\n",
            " |  \n",
            " |  update(...)\n",
            " |      Update a set with the union of itself and others.\n",
            " |  \n",
            " |  ----------------------------------------------------------------------\n",
            " |  Static methods defined here:\n",
            " |  \n",
            " |  __new__(*args, **kwargs) from builtins.type\n",
            " |      Create and return a new object.  See help(type) for accurate signature.\n",
            " |  \n",
            " |  ----------------------------------------------------------------------\n",
            " |  Data and other attributes defined here:\n",
            " |  \n",
            " |  __hash__ = None\n",
            "\n"
          ],
          "name": "stdout"
        }
      ]
    },
    {
      "cell_type": "code",
      "metadata": {
        "tags": [],
        "cell_id": "00169-72b2aa75-16e4-4c8c-91ca-fb6098b456d7",
        "deepnote_to_be_reexecuted": false,
        "source_hash": "b12abd09",
        "execution_start": 1611975528356,
        "execution_millis": 4,
        "deepnote_cell_type": "code",
        "id": "Zb3cP7hlXmgB",
        "outputId": "5f58e779-410a-4927-f8fc-d9b340e41254"
      },
      "source": [
        "s1, s2, s1.union(s2)"
      ],
      "execution_count": null,
      "outputs": [
        {
          "output_type": "execute_result",
          "data": {
            "text/plain": [
              "({1, 2, 3}, {4, 5, 6}, {1, 2, 3, 4, 5, 6})"
            ]
          },
          "metadata": {
            "tags": []
          },
          "execution_count": 233
        }
      ]
    },
    {
      "cell_type": "code",
      "metadata": {
        "tags": [],
        "cell_id": "00170-94f1e4f4-b9da-418b-b1c2-38dbff147b32",
        "deepnote_to_be_reexecuted": false,
        "source_hash": "a0ca6a93",
        "execution_millis": 1,
        "execution_start": 1611975579553,
        "deepnote_cell_type": "code",
        "id": "YC1PbpKDXmgC",
        "outputId": "1528fc44-4669-488f-992d-712d50abfde9"
      },
      "source": [
        "s1 = {1, 2, 3}\n",
        "s2 = {4, 5, 6}\n",
        "s3 = {11, 12, 13}\n",
        "s4 = {41, 15, 16}\n",
        "\n",
        "s1.union(s2).union(s3).union(s4)"
      ],
      "execution_count": null,
      "outputs": [
        {
          "output_type": "execute_result",
          "data": {
            "text/plain": [
              "{1, 2, 3, 4, 5, 6, 11, 12, 13, 15, 16, 41}"
            ]
          },
          "metadata": {
            "tags": []
          },
          "execution_count": 235
        }
      ]
    },
    {
      "cell_type": "code",
      "metadata": {
        "tags": [],
        "cell_id": "00171-8fc37826-3ef4-41c1-8ab5-d051619efa0d",
        "deepnote_to_be_reexecuted": false,
        "source_hash": "4e50788",
        "execution_millis": 4,
        "execution_start": 1611975605725,
        "deepnote_cell_type": "code",
        "id": "9Ul8xVuwXmgC",
        "outputId": "ec1d4db7-3477-4e11-a8fc-40bc2c636d38"
      },
      "source": [
        "print({*s1, *s2, *s3, *s4})"
      ],
      "execution_count": null,
      "outputs": [
        {
          "output_type": "stream",
          "text": [
            "{1, 2, 3, 4, 5, 6, 41, 11, 12, 13, 15, 16}\n"
          ],
          "name": "stdout"
        }
      ]
    },
    {
      "cell_type": "code",
      "metadata": {
        "tags": [],
        "cell_id": "00172-19561014-7fd5-46b0-9d2b-c66847ab2f21",
        "deepnote_to_be_reexecuted": false,
        "source_hash": "63e2d325",
        "execution_millis": 65,
        "execution_start": 1611975670270,
        "deepnote_cell_type": "code",
        "id": "4CES1R0xXmgC",
        "outputId": "02f8066a-3765-41a1-9102-71098ce879ef"
      },
      "source": [
        "d1 = {'key1': 1, 'key2': 2}\n",
        "d2 = {'key2': 3, 'key3': 3}\n",
        "[*d1, *d2]"
      ],
      "execution_count": null,
      "outputs": [
        {
          "output_type": "execute_result",
          "data": {
            "text/plain": [
              "['key1', 'key2', 'key2', 'key3']"
            ]
          },
          "metadata": {
            "tags": []
          },
          "execution_count": 239
        }
      ]
    },
    {
      "cell_type": "code",
      "metadata": {
        "tags": [],
        "cell_id": "00173-e5e26ae3-32a6-42da-9b94-d6544fdc8185",
        "deepnote_to_be_reexecuted": false,
        "source_hash": "202657bd",
        "execution_millis": 1,
        "execution_start": 1611975768347,
        "deepnote_cell_type": "code",
        "id": "PpxnvD-NXmgD",
        "outputId": "b5e70706-dd1c-4881-d707-c5135cf197fb"
      },
      "source": [
        "{**d2, **d1}"
      ],
      "execution_count": null,
      "outputs": [
        {
          "output_type": "execute_result",
          "data": {
            "text/plain": [
              "{'key2': 2, 'key3': 3, 'key1': 1}"
            ]
          },
          "metadata": {
            "tags": []
          },
          "execution_count": 241
        }
      ]
    },
    {
      "cell_type": "code",
      "metadata": {
        "tags": [],
        "cell_id": "00174-3cfc447c-86d9-4b00-afe9-7ffb351a5e86",
        "deepnote_to_be_reexecuted": false,
        "source_hash": "2bbff73d",
        "execution_start": 1611975889631,
        "execution_millis": 0,
        "deepnote_cell_type": "code",
        "id": "mqugCsS7XmgD",
        "outputId": "a668b4da-e6fa-4d99-b0ff-10a404a94012"
      },
      "source": [
        "{*d1, *d2}"
      ],
      "execution_count": null,
      "outputs": [
        {
          "output_type": "execute_result",
          "data": {
            "text/plain": [
              "{'key1', 'key2', 'key3'}"
            ]
          },
          "metadata": {
            "tags": []
          },
          "execution_count": 242
        }
      ]
    },
    {
      "cell_type": "code",
      "metadata": {
        "tags": [],
        "cell_id": "00175-e358af8e-3a91-44c5-89e8-45e5290496ef",
        "deepnote_to_be_reexecuted": false,
        "source_hash": "7a57411e",
        "execution_start": 1611975953858,
        "execution_millis": 37,
        "deepnote_cell_type": "code",
        "id": "TRuD5-_7XmgD",
        "outputId": "391ab30f-0a67-4993-b1a8-4fe3cff1f734"
      },
      "source": [
        "d1 = {'key1': 1, 'key2': 2}\n",
        "d2 = {'key2': 3, 'key3': 3}\n",
        "\n",
        "{'a': 1, 'b': 3, **d1, **d2, 'c': 3}"
      ],
      "execution_count": null,
      "outputs": [
        {
          "output_type": "execute_result",
          "data": {
            "text/plain": [
              "{'a': 1, 'b': 3, 'key1': 1, 'key2': 3, 'key3': 3, 'c': 3}"
            ]
          },
          "metadata": {
            "tags": []
          },
          "execution_count": 243
        }
      ]
    },
    {
      "cell_type": "code",
      "metadata": {
        "tags": [],
        "cell_id": "00176-ad14f1dc-b8aa-4fef-a875-7c512a104bb5",
        "deepnote_to_be_reexecuted": false,
        "source_hash": "b33499ff",
        "execution_millis": 1,
        "execution_start": 1611976035953,
        "deepnote_cell_type": "code",
        "id": "bao3gbJnXmgE",
        "outputId": "c4353c05-1b25-4a8c-e3ac-7f4873ce71cd"
      },
      "source": [
        "a, b, [c, d] = [1, 2, 'xy']\n",
        "c"
      ],
      "execution_count": null,
      "outputs": [
        {
          "output_type": "execute_result",
          "data": {
            "text/plain": [
              "'x'"
            ]
          },
          "metadata": {
            "tags": []
          },
          "execution_count": 248
        }
      ]
    },
    {
      "cell_type": "code",
      "metadata": {
        "tags": [],
        "cell_id": "00177-38094e3c-e673-4a84-8885-33b53326cc9f",
        "deepnote_to_be_reexecuted": false,
        "source_hash": "7a24e538",
        "execution_start": 1611976073849,
        "execution_millis": 3,
        "deepnote_cell_type": "code",
        "id": "J-rQh2MnXmgF",
        "outputId": "cc553fd3-6695-4ec5-83fa-a3dd44813beb"
      },
      "source": [
        "a, b, (c, d, *e, f) = [1, 2, 'python']\n",
        "c, d, f"
      ],
      "execution_count": null,
      "outputs": [
        {
          "output_type": "execute_result",
          "data": {
            "text/plain": [
              "('p', 'y', 'n')"
            ]
          },
          "metadata": {
            "tags": []
          },
          "execution_count": 249
        }
      ]
    },
    {
      "cell_type": "markdown",
      "metadata": {
        "tags": [],
        "cell_id": "00178-4e3260fd-062d-4043-9c0a-a6e385c43151",
        "deepnote_cell_type": "markdown",
        "id": "4S1WaYYVXmgF"
      },
      "source": [
        "# *args && **kwargs"
      ]
    },
    {
      "cell_type": "code",
      "metadata": {
        "tags": [],
        "cell_id": "00178-2b60a437-a895-483e-9342-d1cf74c445bd",
        "deepnote_to_be_reexecuted": false,
        "source_hash": "ebfe9d70",
        "execution_start": 1611976589671,
        "execution_millis": 6,
        "deepnote_cell_type": "code",
        "id": "fP0u2JVJXmgF",
        "outputId": "79a80029-ac9c-4810-ad66-25066bb9c34d"
      },
      "source": [
        "a, b, *c = 10, 20, 'a', 'b'\n",
        "a, b, c"
      ],
      "execution_count": null,
      "outputs": [
        {
          "output_type": "execute_result",
          "data": {
            "text/plain": [
              "(10, 20, ['a', 'b'])"
            ]
          },
          "metadata": {
            "tags": []
          },
          "execution_count": 250
        }
      ]
    },
    {
      "cell_type": "code",
      "metadata": {
        "tags": [],
        "cell_id": "00180-f13c12dc-343d-493f-8843-5a3dec4c0aed",
        "deepnote_to_be_reexecuted": false,
        "source_hash": "f428e88a",
        "execution_millis": 3,
        "execution_start": 1611976661237,
        "deepnote_cell_type": "code",
        "id": "SXP5qVjxXmgF",
        "outputId": "c991edd6-2fcc-422e-c005-6791589ebdab"
      },
      "source": [
        "def func1(a, b, *args):\n",
        "    print(a)\n",
        "    print(b)\n",
        "    print(args)\n",
        "\n",
        "func1(1, 2, 3,4 ,5 , 7, 8)"
      ],
      "execution_count": null,
      "outputs": [
        {
          "output_type": "stream",
          "text": [
            "1\n",
            "2\n",
            "(3, 4, 5, 7, 8)\n"
          ],
          "name": "stdout"
        }
      ]
    },
    {
      "cell_type": "code",
      "metadata": {
        "tags": [],
        "cell_id": "00181-cd7c59da-3340-4fdd-b13c-dd1c63526f57",
        "deepnote_to_be_reexecuted": false,
        "source_hash": "2299a8d7",
        "execution_millis": 1,
        "execution_start": 1611976827405,
        "deepnote_cell_type": "code",
        "id": "GAstNECHXmgG",
        "outputId": "4e79c63b-2c41-4d7b-b7b9-044affb98f04"
      },
      "source": [
        "def func1(a, b, *args, d):\n",
        "    print(a)\n",
        "    print(b)\n",
        "    print(args)\n",
        "    print(d)\n",
        "\n",
        "func1(1, 2, 3, 4, 5 ,6 , d = 7)"
      ],
      "execution_count": null,
      "outputs": [
        {
          "output_type": "stream",
          "text": [
            "1\n",
            "2\n",
            "(3, 4, 5, 6)\n",
            "7\n"
          ],
          "name": "stdout"
        }
      ]
    },
    {
      "cell_type": "code",
      "metadata": {
        "tags": [],
        "cell_id": "00182-08e746ab-c1cc-43e1-98c1-5b8be5015c20",
        "deepnote_to_be_reexecuted": false,
        "source_hash": "cbdf4ba1",
        "execution_millis": 1,
        "execution_start": 1611976887417,
        "deepnote_cell_type": "code",
        "id": "-_7i_YsKXmgG",
        "outputId": "3d441d1b-2f16-45b3-8366-815850a9705e"
      },
      "source": [
        "def avg(*args):\n",
        "    count = len(args)\n",
        "    total = sum(args)\n",
        "    return total/count\n",
        "\n",
        "avg(1, 2, 3, 4, 5, 6, 7, 8, 9, 10)"
      ],
      "execution_count": null,
      "outputs": [
        {
          "output_type": "execute_result",
          "data": {
            "text/plain": [
              "5.5"
            ]
          },
          "metadata": {
            "tags": []
          },
          "execution_count": 257
        }
      ]
    },
    {
      "cell_type": "code",
      "metadata": {
        "tags": [],
        "cell_id": "00183-9d35b0b6-57ff-46e0-9bc4-fd0731f4d497",
        "deepnote_to_be_reexecuted": false,
        "source_hash": "c880ec",
        "execution_start": 1611976901108,
        "execution_millis": 10,
        "deepnote_cell_type": "code",
        "id": "OCKLzCc1XmgG",
        "outputId": "2f9744e5-5b48-4c3a-ec36-136a6dffec1d"
      },
      "source": [
        "avg()"
      ],
      "execution_count": null,
      "outputs": [
        {
          "output_type": "error",
          "ename": "ZeroDivisionError",
          "evalue": "division by zero",
          "traceback": [
            "\u001b[0;31m---------------------------------------------------------------------------\u001b[0m",
            "\u001b[0;31mZeroDivisionError\u001b[0m                         Traceback (most recent call last)",
            "\u001b[0;32m<ipython-input-258-f5d909301850>\u001b[0m in \u001b[0;36m<module>\u001b[0;34m\u001b[0m\n\u001b[0;32m----> 1\u001b[0;31m \u001b[0mavg\u001b[0m\u001b[0;34m(\u001b[0m\u001b[0;34m)\u001b[0m\u001b[0;34m\u001b[0m\u001b[0;34m\u001b[0m\u001b[0m\n\u001b[0m",
            "\u001b[0;32m<ipython-input-257-c4eb38b93073>\u001b[0m in \u001b[0;36mavg\u001b[0;34m(*args)\u001b[0m\n\u001b[1;32m      2\u001b[0m     \u001b[0mcount\u001b[0m \u001b[0;34m=\u001b[0m \u001b[0mlen\u001b[0m\u001b[0;34m(\u001b[0m\u001b[0margs\u001b[0m\u001b[0;34m)\u001b[0m\u001b[0;34m\u001b[0m\u001b[0;34m\u001b[0m\u001b[0m\n\u001b[1;32m      3\u001b[0m     \u001b[0mtotal\u001b[0m \u001b[0;34m=\u001b[0m \u001b[0msum\u001b[0m\u001b[0;34m(\u001b[0m\u001b[0margs\u001b[0m\u001b[0;34m)\u001b[0m\u001b[0;34m\u001b[0m\u001b[0;34m\u001b[0m\u001b[0m\n\u001b[0;32m----> 4\u001b[0;31m     \u001b[0;32mreturn\u001b[0m \u001b[0mtotal\u001b[0m\u001b[0;34m/\u001b[0m\u001b[0mcount\u001b[0m\u001b[0;34m\u001b[0m\u001b[0;34m\u001b[0m\u001b[0m\n\u001b[0m\u001b[1;32m      5\u001b[0m \u001b[0;34m\u001b[0m\u001b[0m\n\u001b[1;32m      6\u001b[0m \u001b[0mavg\u001b[0m\u001b[0;34m(\u001b[0m\u001b[0;36m1\u001b[0m\u001b[0;34m,\u001b[0m \u001b[0;36m2\u001b[0m\u001b[0;34m,\u001b[0m \u001b[0;36m3\u001b[0m\u001b[0;34m,\u001b[0m \u001b[0;36m4\u001b[0m\u001b[0;34m,\u001b[0m \u001b[0;36m5\u001b[0m\u001b[0;34m,\u001b[0m \u001b[0;36m6\u001b[0m\u001b[0;34m,\u001b[0m \u001b[0;36m7\u001b[0m\u001b[0;34m,\u001b[0m \u001b[0;36m8\u001b[0m\u001b[0;34m,\u001b[0m \u001b[0;36m9\u001b[0m\u001b[0;34m,\u001b[0m \u001b[0;36m10\u001b[0m\u001b[0;34m)\u001b[0m\u001b[0;34m\u001b[0m\u001b[0;34m\u001b[0m\u001b[0m\n",
            "\u001b[0;31mZeroDivisionError\u001b[0m: division by zero"
          ]
        }
      ]
    },
    {
      "cell_type": "code",
      "metadata": {
        "tags": [],
        "cell_id": "00184-524e9fef-5fb9-4cef-8fae-f1ee658b0248",
        "deepnote_to_be_reexecuted": false,
        "source_hash": "aec82a7d",
        "execution_start": 1611976924615,
        "execution_millis": 5,
        "deepnote_cell_type": "code",
        "id": "fTOd6tMfXmgG",
        "outputId": "eb315ecc-197c-4a74-bda9-eb82c5adf734"
      },
      "source": [
        "def _sum(*args):\n",
        "    total = sum(args)\n",
        "    return total\n",
        "\n",
        "_sum()"
      ],
      "execution_count": null,
      "outputs": [
        {
          "output_type": "execute_result",
          "data": {
            "text/plain": [
              "0"
            ]
          },
          "metadata": {
            "tags": []
          },
          "execution_count": 259
        }
      ]
    },
    {
      "cell_type": "code",
      "metadata": {
        "tags": [],
        "cell_id": "00185-853ea0f8-9bc0-4b67-89d1-a0eab760520a",
        "deepnote_to_be_reexecuted": false,
        "source_hash": "8092e2c8",
        "execution_millis": 7,
        "execution_start": 1611976999583,
        "deepnote_cell_type": "code",
        "id": "_OcCG8hVXmgG",
        "outputId": "1e321181-ec20-41bd-ee41-3a11a796daf1"
      },
      "source": [
        "def avg(*args):\n",
        "    count = len(args)\n",
        "    total = sum(args)\n",
        "    if not count:\n",
        "        return 0\n",
        "    else:\n",
        "        return total/count\n",
        "avg(), avg(2, 3, 4, 5, 6)\n"
      ],
      "execution_count": null,
      "outputs": [
        {
          "output_type": "execute_result",
          "data": {
            "text/plain": [
              "(0, 4.0)"
            ]
          },
          "metadata": {
            "tags": []
          },
          "execution_count": 264
        }
      ]
    },
    {
      "cell_type": "code",
      "metadata": {
        "tags": [],
        "cell_id": "00186-1069d638-8976-4a7d-8343-5f65495ce48f",
        "deepnote_to_be_reexecuted": false,
        "source_hash": "f3637a33",
        "execution_start": 1611977058740,
        "execution_millis": 1,
        "deepnote_cell_type": "code",
        "id": "5SEFH_p5XmgH"
      },
      "source": [
        "def avg(a, *args):\n",
        "    count = len(args) + 1\n",
        "    total = sum(args) + a\n",
        "    return total/count"
      ],
      "execution_count": null,
      "outputs": []
    },
    {
      "cell_type": "code",
      "metadata": {
        "tags": [],
        "cell_id": "00187-3f8138cd-d56f-4e3d-bdad-9cf4ec73eea1",
        "deepnote_to_be_reexecuted": false,
        "source_hash": "a390cf61",
        "execution_start": 1611977066062,
        "execution_millis": 4,
        "deepnote_cell_type": "code",
        "id": "z6v4IsB0XmgH",
        "outputId": "cd146902-372a-45ea-ad46-45836af747b6"
      },
      "source": [
        "avg(1, 3, 5 )"
      ],
      "execution_count": null,
      "outputs": [
        {
          "output_type": "execute_result",
          "data": {
            "text/plain": [
              "3.0"
            ]
          },
          "metadata": {
            "tags": []
          },
          "execution_count": 266
        }
      ]
    },
    {
      "cell_type": "code",
      "metadata": {
        "tags": [],
        "cell_id": "00188-07309eb0-c773-4167-8a33-bcb367896579",
        "deepnote_to_be_reexecuted": false,
        "source_hash": "c880ec",
        "execution_start": 1611977069538,
        "execution_millis": 6,
        "deepnote_cell_type": "code",
        "id": "xE_mItPsXmgH",
        "outputId": "b3feb2ea-2e10-4d67-f4ed-ba53e9f9d863"
      },
      "source": [
        "avg()"
      ],
      "execution_count": null,
      "outputs": [
        {
          "output_type": "error",
          "ename": "TypeError",
          "evalue": "avg() missing 1 required positional argument: 'a'",
          "traceback": [
            "\u001b[0;31m---------------------------------------------------------------------------\u001b[0m",
            "\u001b[0;31mTypeError\u001b[0m                                 Traceback (most recent call last)",
            "\u001b[0;32m<ipython-input-267-f5d909301850>\u001b[0m in \u001b[0;36m<module>\u001b[0;34m\u001b[0m\n\u001b[0;32m----> 1\u001b[0;31m \u001b[0mavg\u001b[0m\u001b[0;34m(\u001b[0m\u001b[0;34m)\u001b[0m\u001b[0;34m\u001b[0m\u001b[0;34m\u001b[0m\u001b[0m\n\u001b[0m",
            "\u001b[0;31mTypeError\u001b[0m: avg() missing 1 required positional argument: 'a'"
          ]
        }
      ]
    },
    {
      "cell_type": "code",
      "metadata": {
        "tags": [],
        "cell_id": "00189-ae04ab91-8441-4451-96ba-e522f68379f4",
        "deepnote_to_be_reexecuted": false,
        "source_hash": "c36bb66a",
        "execution_start": 1611977089662,
        "execution_millis": 9,
        "deepnote_cell_type": "code",
        "id": "EE2fyx_pXmgH",
        "outputId": "59670d1b-4dc2-454e-d98f-653864b65c7f"
      },
      "source": [
        "avg(0)"
      ],
      "execution_count": null,
      "outputs": [
        {
          "output_type": "execute_result",
          "data": {
            "text/plain": [
              "0.0"
            ]
          },
          "metadata": {
            "tags": []
          },
          "execution_count": 268
        }
      ]
    },
    {
      "cell_type": "code",
      "metadata": {
        "tags": [],
        "cell_id": "00190-60b83e8b-1a50-4727-ab10-aa82b9442572",
        "deepnote_to_be_reexecuted": false,
        "source_hash": "1048ada",
        "execution_millis": 1,
        "execution_start": 1611977141353,
        "deepnote_cell_type": "code",
        "id": "vDVfH-WNXmgH",
        "outputId": "1734a997-d14e-4405-d7c4-aa773f338a46"
      },
      "source": [
        "def func1(a, b, c):\n",
        "    print(a, b, c)\n",
        "\n",
        "l = [10, 20, 30]\n",
        "\n",
        "func1(*l)"
      ],
      "execution_count": null,
      "outputs": [
        {
          "output_type": "stream",
          "text": [
            "10 20 30\n"
          ],
          "name": "stdout"
        }
      ]
    },
    {
      "cell_type": "code",
      "metadata": {
        "tags": [],
        "cell_id": "00191-7a2b8527-edc9-4032-8c7e-7d27f3d2a577",
        "deepnote_to_be_reexecuted": false,
        "source_hash": "e24f678d",
        "execution_millis": 1,
        "execution_start": 1611977231441,
        "deepnote_cell_type": "code",
        "id": "weqhU5XtXmgI",
        "outputId": "6986914f-7dc6-434a-9e9a-1be2fbae79a2"
      },
      "source": [
        "def func1(a, b, c, *d):\n",
        "    print(a, b, c, d)\n",
        "\n",
        "func1(10, c=30, b = 20, d = 'a')"
      ],
      "execution_count": null,
      "outputs": [
        {
          "output_type": "error",
          "ename": "TypeError",
          "evalue": "func1() got an unexpected keyword argument 'd'",
          "traceback": [
            "\u001b[0;31m---------------------------------------------------------------------------\u001b[0m",
            "\u001b[0;31mTypeError\u001b[0m                                 Traceback (most recent call last)",
            "\u001b[0;32m<ipython-input-272-0601309f6559>\u001b[0m in \u001b[0;36m<module>\u001b[0;34m\u001b[0m\n\u001b[1;32m      2\u001b[0m     \u001b[0mprint\u001b[0m\u001b[0;34m(\u001b[0m\u001b[0ma\u001b[0m\u001b[0;34m,\u001b[0m \u001b[0mb\u001b[0m\u001b[0;34m,\u001b[0m \u001b[0mc\u001b[0m\u001b[0;34m,\u001b[0m \u001b[0md\u001b[0m\u001b[0;34m)\u001b[0m\u001b[0;34m\u001b[0m\u001b[0;34m\u001b[0m\u001b[0m\n\u001b[1;32m      3\u001b[0m \u001b[0;34m\u001b[0m\u001b[0m\n\u001b[0;32m----> 4\u001b[0;31m \u001b[0mfunc1\u001b[0m\u001b[0;34m(\u001b[0m\u001b[0;36m10\u001b[0m\u001b[0;34m,\u001b[0m \u001b[0mc\u001b[0m\u001b[0;34m=\u001b[0m\u001b[0;36m30\u001b[0m\u001b[0;34m,\u001b[0m \u001b[0mb\u001b[0m \u001b[0;34m=\u001b[0m \u001b[0;36m20\u001b[0m\u001b[0;34m,\u001b[0m \u001b[0md\u001b[0m \u001b[0;34m=\u001b[0m \u001b[0;34m'a'\u001b[0m\u001b[0;34m)\u001b[0m\u001b[0;34m\u001b[0m\u001b[0;34m\u001b[0m\u001b[0m\n\u001b[0m",
            "\u001b[0;31mTypeError\u001b[0m: func1() got an unexpected keyword argument 'd'"
          ]
        }
      ]
    },
    {
      "cell_type": "code",
      "metadata": {
        "tags": [],
        "cell_id": "00192-d30bdff8-ec8d-46d1-9f87-690abf14145a",
        "deepnote_to_be_reexecuted": false,
        "source_hash": "9762f7d6",
        "execution_millis": 26,
        "execution_start": 1611977297653,
        "deepnote_cell_type": "code",
        "id": "7egZpw9rXmgI",
        "outputId": "09edb0a7-c5bc-47c9-c964-8558844ae5c3"
      },
      "source": [
        "def func1(a, b, *c, d):\n",
        "    print(a, b, c, d)\n",
        "\n",
        "func1(1, 1, 2, d = 4)\n"
      ],
      "execution_count": null,
      "outputs": [
        {
          "output_type": "error",
          "ename": "TypeError",
          "evalue": "func1() missing 1 required keyword-only argument: 'd'",
          "traceback": [
            "\u001b[0;31m---------------------------------------------------------------------------\u001b[0m",
            "\u001b[0;31mTypeError\u001b[0m                                 Traceback (most recent call last)",
            "\u001b[0;32m<ipython-input-276-c44fe3a93ea7>\u001b[0m in \u001b[0;36m<module>\u001b[0;34m\u001b[0m\n\u001b[1;32m      2\u001b[0m     \u001b[0mprint\u001b[0m\u001b[0;34m(\u001b[0m\u001b[0ma\u001b[0m\u001b[0;34m,\u001b[0m \u001b[0mb\u001b[0m\u001b[0;34m,\u001b[0m \u001b[0mc\u001b[0m\u001b[0;34m,\u001b[0m \u001b[0md\u001b[0m\u001b[0;34m)\u001b[0m\u001b[0;34m\u001b[0m\u001b[0;34m\u001b[0m\u001b[0m\n\u001b[1;32m      3\u001b[0m \u001b[0;34m\u001b[0m\u001b[0m\n\u001b[0;32m----> 4\u001b[0;31m \u001b[0mfunc1\u001b[0m\u001b[0;34m(\u001b[0m\u001b[0;36m1\u001b[0m\u001b[0;34m,\u001b[0m \u001b[0;36m1\u001b[0m\u001b[0;34m,\u001b[0m \u001b[0;36m2\u001b[0m\u001b[0;34m,\u001b[0m \u001b[0;36m4\u001b[0m\u001b[0;34m)\u001b[0m\u001b[0;34m\u001b[0m\u001b[0;34m\u001b[0m\u001b[0m\n\u001b[0m",
            "\u001b[0;31mTypeError\u001b[0m: func1() missing 1 required keyword-only argument: 'd'"
          ]
        }
      ]
    },
    {
      "cell_type": "markdown",
      "metadata": {
        "tags": [],
        "cell_id": "00193-07902282-6cdb-4239-b9c0-7b1ba0ed4d4a",
        "deepnote_cell_type": "markdown",
        "id": "covrk0cKXmgI"
      },
      "source": [
        "Before * operator, no named arguments, after * operator, ONLY named arguments"
      ]
    },
    {
      "cell_type": "code",
      "metadata": {
        "tags": [],
        "cell_id": "00193-27e19d37-ffed-4ab2-8d3d-1c8172c9717a",
        "deepnote_to_be_reexecuted": false,
        "source_hash": "23776d1",
        "execution_millis": 21,
        "execution_start": 1611977432355,
        "deepnote_cell_type": "code",
        "id": "BrEfRJ_zXmgK"
      },
      "source": [
        "def func1(a, b, *c, d):\n",
        "    print(a, b, c, d)"
      ],
      "execution_count": null,
      "outputs": []
    },
    {
      "cell_type": "code",
      "metadata": {
        "tags": [],
        "cell_id": "00195-005e8ffb-1cf1-48b3-a4af-912d6608624a",
        "deepnote_to_be_reexecuted": false,
        "source_hash": "e249e59a",
        "execution_millis": 4,
        "execution_start": 1611977445597,
        "deepnote_cell_type": "code",
        "id": "2v3e7jnSXmgK",
        "outputId": "3de265dd-bb3e-42ac-9592-37fb8d5f8b5d"
      },
      "source": [
        "func1(1, 2, d = 4)"
      ],
      "execution_count": null,
      "outputs": [
        {
          "output_type": "stream",
          "text": [
            "1 2 () 4\n"
          ],
          "name": "stdout"
        }
      ]
    },
    {
      "cell_type": "code",
      "metadata": {
        "tags": [],
        "cell_id": "00196-80e8025d-42bc-4b42-bed3-7aad46601d9c",
        "deepnote_to_be_reexecuted": false,
        "source_hash": "bb2f6217",
        "execution_millis": 7,
        "execution_start": 1611977490909,
        "deepnote_cell_type": "code",
        "id": "MHKfPps8XmgK"
      },
      "source": [
        "def func(*args, d):\n",
        "    print(args)\n",
        "    print(d)"
      ],
      "execution_count": null,
      "outputs": []
    },
    {
      "cell_type": "code",
      "metadata": {
        "tags": [],
        "cell_id": "00197-84c32169-4dcd-4d3d-b4fe-c2ba8d78d7d9",
        "deepnote_to_be_reexecuted": false,
        "source_hash": "c49f5f23",
        "execution_millis": 0,
        "execution_start": 1611977491905,
        "deepnote_cell_type": "code",
        "id": "OHl662z1XmgK",
        "outputId": "e915db25-66df-409b-bfb2-39a7836e7af0"
      },
      "source": [
        "func(1, 2, 3, d = 'hello')"
      ],
      "execution_count": null,
      "outputs": [
        {
          "output_type": "stream",
          "text": [
            "(1, 2, 3)\n",
            "hello\n"
          ],
          "name": "stdout"
        }
      ]
    },
    {
      "cell_type": "code",
      "metadata": {
        "tags": [],
        "cell_id": "00198-63e79e91-86ff-47de-b476-0ee4ec1670e3",
        "deepnote_to_be_reexecuted": false,
        "source_hash": "97f1b0e4",
        "execution_millis": 1,
        "execution_start": 1611977517081,
        "deepnote_cell_type": "code",
        "id": "O--RCs-0XmgL",
        "outputId": "c10445d4-5a2b-467b-e4d7-0c03e806df32"
      },
      "source": [
        "def func(*args, d):\n",
        "    print(args)\n",
        "    print(d)\n",
        "    \n",
        "func(d = 'hello')"
      ],
      "execution_count": null,
      "outputs": [
        {
          "output_type": "stream",
          "text": [
            "()\n",
            "hello\n"
          ],
          "name": "stdout"
        }
      ]
    },
    {
      "cell_type": "code",
      "metadata": {
        "tags": [],
        "cell_id": "00199-5b9e9bc5-0086-4738-8b83-efe32e3ef8c5",
        "deepnote_to_be_reexecuted": false,
        "source_hash": "80a72e00",
        "execution_millis": 4,
        "execution_start": 1611977552708,
        "deepnote_cell_type": "code",
        "id": "iDwhOLPXXmgL",
        "outputId": "c069fb1f-61cd-4f1a-a67a-49c46155a56e"
      },
      "source": [
        "def func(*args, d = 100):\n",
        "    print(args)\n",
        "    print(d)\n",
        "    \n",
        "func()"
      ],
      "execution_count": null,
      "outputs": [
        {
          "output_type": "stream",
          "text": [
            "()\n",
            "100\n"
          ],
          "name": "stdout"
        }
      ]
    },
    {
      "cell_type": "code",
      "metadata": {
        "tags": [],
        "cell_id": "00200-90476e4a-f48c-4ac8-baa7-f58108e87da3",
        "deepnote_to_be_reexecuted": false,
        "source_hash": "bddfddcc",
        "execution_millis": 1,
        "execution_start": 1611977692337,
        "deepnote_cell_type": "code",
        "id": "DF_jEus1XmgL",
        "outputId": "a19bf3a4-50a5-4f25-ad46-a25668cf9d84"
      },
      "source": [
        "def func(a, b, d):\n",
        "    print(a, b, d)\n",
        "\n",
        "func(1, 2, 3)"
      ],
      "execution_count": null,
      "outputs": [
        {
          "output_type": "stream",
          "text": [
            "1 2 3\n"
          ],
          "name": "stdout"
        }
      ]
    },
    {
      "cell_type": "code",
      "metadata": {
        "tags": [],
        "cell_id": "00201-b9f6f787-4af3-4afa-a831-40c61ca75adc",
        "deepnote_to_be_reexecuted": false,
        "source_hash": "1e9da669",
        "execution_millis": 5,
        "execution_start": 1611977839509,
        "deepnote_cell_type": "code",
        "id": "M7vC5TuWXmgL",
        "outputId": "b7b1ea2d-ba58-49df-e68f-8bdf48edac95"
      },
      "source": [
        "def func_ex(*, a, b, d):\n",
        "    print(a, b, d)\n",
        "\n",
        "func_ex(a = 10, b = 20, d = 30)\n",
        "\n",
        "def func_ab(*args, a, b, d):\n",
        "    print(a, b, d)\n",
        "\n",
        "func_ab(1, 2, 3, a = 10, b = 20, d = 30)"
      ],
      "execution_count": null,
      "outputs": [
        {
          "output_type": "stream",
          "text": [
            "10 20 30\n",
            "10 20 30\n"
          ],
          "name": "stdout"
        }
      ]
    },
    {
      "cell_type": "code",
      "metadata": {
        "tags": [],
        "cell_id": "00202-d39752df-d19f-47c0-8a03-1d14c1380900",
        "deepnote_to_be_reexecuted": false,
        "source_hash": "ddda80a6",
        "execution_millis": 9,
        "execution_start": 1611977889806,
        "deepnote_cell_type": "code",
        "id": "DqWrIelJXmgL",
        "outputId": "e997dc48-600d-45d9-eead-0495725bd233"
      },
      "source": [
        "def func1(*, d = 'hello'):\n",
        "    print(d)\n",
        "\n",
        "func1()"
      ],
      "execution_count": null,
      "outputs": [
        {
          "output_type": "stream",
          "text": [
            "hello\n"
          ],
          "name": "stdout"
        }
      ]
    },
    {
      "cell_type": "code",
      "metadata": {
        "tags": [],
        "cell_id": "00203-29b4e221-f6a9-49fe-8a9f-a57680e88bbf",
        "deepnote_to_be_reexecuted": false,
        "source_hash": "a717f768",
        "execution_start": 1611977956301,
        "execution_millis": 19,
        "deepnote_cell_type": "code",
        "id": "TKVMLIdnXmgM",
        "outputId": "4d57bd4c-17c1-4be5-aceb-b586294b25e7"
      },
      "source": [
        "def func1(a, *, b = 'hello', c):\n",
        "    print(a, b, c)\n",
        "\n",
        "func1(5, c = 'there')"
      ],
      "execution_count": null,
      "outputs": [
        {
          "output_type": "stream",
          "text": [
            "5 hello there\n"
          ],
          "name": "stdout"
        }
      ]
    },
    {
      "cell_type": "code",
      "metadata": {
        "tags": [],
        "cell_id": "00204-a2a8052c-b3c6-4faf-af28-0717451418d3",
        "deepnote_to_be_reexecuted": false,
        "source_hash": "8dccc6c6",
        "execution_start": 1611978035993,
        "execution_millis": 0,
        "deepnote_cell_type": "code",
        "id": "63ScboGlXmgM"
      },
      "source": [
        "def func1(a, b=20, *args, d=0, e='n/a'):\n",
        "    print(a, b, args, d, e)"
      ],
      "execution_count": null,
      "outputs": []
    },
    {
      "cell_type": "code",
      "metadata": {
        "tags": [],
        "cell_id": "00205-a8ddcfb7-3bfb-40fe-91e0-1d7401caf6f0",
        "deepnote_to_be_reexecuted": false,
        "source_hash": "c7bebab4",
        "execution_start": 1611978076549,
        "execution_millis": 5,
        "deepnote_cell_type": "code",
        "id": "uPmxZw_AXmgM",
        "outputId": "52f72ba4-fb51-49df-af35-60f827c519d3"
      },
      "source": [
        "func1(5, 4, 3, 2, 1, d = 10, e='something')"
      ],
      "execution_count": null,
      "outputs": [
        {
          "output_type": "stream",
          "text": [
            "5 4 (3, 2, 1) 10 something\n"
          ],
          "name": "stdout"
        }
      ]
    },
    {
      "cell_type": "code",
      "metadata": {
        "tags": [],
        "cell_id": "00206-31eb6256-2532-456d-a9ba-7cf4e2a660fb",
        "deepnote_to_be_reexecuted": false,
        "source_hash": "2d90daff",
        "execution_millis": 5,
        "execution_start": 1611978108316,
        "deepnote_cell_type": "code",
        "id": "TkwchMkAXmgM",
        "outputId": "33d59b5f-6ea7-4752-bab1-f77b760efd9e"
      },
      "source": [
        "func1(0, 200, 'something')"
      ],
      "execution_count": null,
      "outputs": [
        {
          "output_type": "stream",
          "text": [
            "0 200 ('something',) 0 n/a\n"
          ],
          "name": "stdout"
        }
      ]
    },
    {
      "cell_type": "markdown",
      "metadata": {
        "tags": [],
        "cell_id": "00207-454d7082-5a7f-47ae-b9f8-3196ce45d578",
        "deepnote_cell_type": "markdown",
        "id": "CXiawHH_XmgM"
      },
      "source": [
        "### **kwargs"
      ]
    },
    {
      "cell_type": "code",
      "metadata": {
        "tags": [],
        "cell_id": "00207-1e79fd00-22f1-4d1a-a46b-4b999e471717",
        "deepnote_to_be_reexecuted": false,
        "source_hash": "154c745",
        "execution_start": 1611978163170,
        "execution_millis": 57,
        "deepnote_cell_type": "code",
        "id": "u2wcsq_wXmgN"
      },
      "source": [
        "def func(**kwargs):\n",
        "    print(kwargs)"
      ],
      "execution_count": null,
      "outputs": []
    },
    {
      "cell_type": "code",
      "metadata": {
        "tags": [],
        "cell_id": "00209-94c7934a-b9d8-416f-828c-a8ebc70bbffa",
        "deepnote_to_be_reexecuted": false,
        "source_hash": "5ad88147",
        "execution_start": 1611978177265,
        "execution_millis": 0,
        "deepnote_cell_type": "code",
        "id": "77_9B2KMXmgN",
        "outputId": "d6ead760-ab19-4a8d-929b-53ca4881b43c"
      },
      "source": [
        "func(x=100, y=200)"
      ],
      "execution_count": null,
      "outputs": [
        {
          "output_type": "stream",
          "text": [
            "{'x': 100, 'y': 200}\n"
          ],
          "name": "stdout"
        }
      ]
    },
    {
      "cell_type": "code",
      "metadata": {
        "tags": [],
        "cell_id": "00210-2fa1ba3a-50a2-4c01-b924-6220586b1752",
        "deepnote_to_be_reexecuted": false,
        "source_hash": "78ec0f38",
        "execution_start": 1611978214380,
        "execution_millis": 18,
        "deepnote_cell_type": "code",
        "id": "LWun3I_sXmgN"
      },
      "source": [
        "def func(*args, **kwargs):\n",
        "    print(args)\n",
        "    print(kwargs)"
      ],
      "execution_count": null,
      "outputs": []
    },
    {
      "cell_type": "code",
      "metadata": {
        "tags": [],
        "cell_id": "00211-33910057-d08f-4fce-9647-deb6cab17b3b",
        "deepnote_to_be_reexecuted": false,
        "source_hash": "71cc7765",
        "execution_start": 1611978224529,
        "execution_millis": 4,
        "deepnote_cell_type": "code",
        "id": "vnHY1Z2MXmgO",
        "outputId": "a53a69cb-9574-4f74-f6f2-aeca1b221b69"
      },
      "source": [
        "func(1, 2, a = 100, b = 200)"
      ],
      "execution_count": null,
      "outputs": [
        {
          "output_type": "stream",
          "text": [
            "(1, 2)\n",
            "{'a': 100, 'b': 200}\n"
          ],
          "name": "stdout"
        }
      ]
    },
    {
      "cell_type": "code",
      "metadata": {
        "tags": [],
        "cell_id": "00212-f7be4515-aced-4206-a6f4-18adb65ade3e",
        "deepnote_to_be_reexecuted": false,
        "source_hash": "7aeb3541",
        "execution_start": 1611978239038,
        "execution_millis": 0,
        "deepnote_cell_type": "code",
        "id": "E_EDXE8BXmgO",
        "outputId": "f5078783-e843-40d1-e4b3-bf9fc4663692"
      },
      "source": [
        "def func(*, **kwargs):\n",
        "    print(args)\n",
        "    print(kwargs)"
      ],
      "execution_count": null,
      "outputs": [
        {
          "output_type": "error",
          "ename": "SyntaxError",
          "evalue": "named arguments must follow bare * (<ipython-input-318-14c0e1a70bff>, line 1)",
          "traceback": [
            "\u001b[0;36m  File \u001b[0;32m\"<ipython-input-318-14c0e1a70bff>\"\u001b[0;36m, line \u001b[0;32m1\u001b[0m\n\u001b[0;31m    def func(*, **kwargs):\u001b[0m\n\u001b[0m               ^\u001b[0m\n\u001b[0;31mSyntaxError\u001b[0m\u001b[0;31m:\u001b[0m named arguments must follow bare *\n"
          ]
        }
      ]
    },
    {
      "cell_type": "code",
      "metadata": {
        "tags": [],
        "cell_id": "00213-05016e6b-6c77-4f68-88f5-2ed06515a6c1",
        "deepnote_to_be_reexecuted": false,
        "source_hash": "175212b7",
        "execution_start": 1611978299026,
        "execution_millis": 1,
        "deepnote_cell_type": "code",
        "id": "xrMstwkbXmgO",
        "outputId": "40900068-0870-4851-c04c-34177cea80c3"
      },
      "source": [
        "def func(a, b, **kwargs):\n",
        "    print(a, b, kwargs)\n",
        "\n",
        "func(1, 2, x = 100, y = 300)"
      ],
      "execution_count": null,
      "outputs": [
        {
          "output_type": "stream",
          "text": [
            "1 2 {'x': 100, 'y': 300}\n"
          ],
          "name": "stdout"
        }
      ]
    },
    {
      "cell_type": "code",
      "metadata": {
        "tags": [],
        "cell_id": "00214-f4fc154b-584d-4c85-8d5b-a47efa79292e",
        "deepnote_to_be_reexecuted": false,
        "source_hash": "d1908175",
        "execution_start": 1611978310700,
        "execution_millis": 5,
        "deepnote_cell_type": "code",
        "id": "_BwiTYj2XmgO",
        "outputId": "16cc77bf-480d-43e4-f08f-af471a93adc5"
      },
      "source": [
        "def func(a, b, **kwargs, c):\n",
        "    print(a, b, kwargs)"
      ],
      "execution_count": null,
      "outputs": [
        {
          "output_type": "error",
          "ename": "SyntaxError",
          "evalue": "invalid syntax (<ipython-input-320-420124592126>, line 1)",
          "traceback": [
            "\u001b[0;36m  File \u001b[0;32m\"<ipython-input-320-420124592126>\"\u001b[0;36m, line \u001b[0;32m1\u001b[0m\n\u001b[0;31m    def func(a, b, **kwargs, c):\u001b[0m\n\u001b[0m                             ^\u001b[0m\n\u001b[0;31mSyntaxError\u001b[0m\u001b[0;31m:\u001b[0m invalid syntax\n"
          ]
        }
      ]
    },
    {
      "cell_type": "code",
      "metadata": {
        "tags": [],
        "cell_id": "00215-24fcb249-6e88-4f7a-be44-7bd60b1ee923",
        "deepnote_to_be_reexecuted": false,
        "source_hash": "19261241",
        "execution_millis": 2,
        "execution_start": 1611978432513,
        "deepnote_cell_type": "code",
        "id": "iXBXUS_zXmgO",
        "outputId": "ce2c4b8d-ef5e-43d0-e008-e7d9c5419f74"
      },
      "source": [
        "def func(a, **kwargs, dd):\n",
        "    print(kwargs)\n",
        "\n"
      ],
      "execution_count": null,
      "outputs": [
        {
          "output_type": "error",
          "ename": "SyntaxError",
          "evalue": "invalid syntax (<ipython-input-325-5c4747c15c1d>, line 1)",
          "traceback": [
            "\u001b[0;36m  File \u001b[0;32m\"<ipython-input-325-5c4747c15c1d>\"\u001b[0;36m, line \u001b[0;32m1\u001b[0m\n\u001b[0;31m    def func(a, **kwargs, dd):\u001b[0m\n\u001b[0m                           ^\u001b[0m\n\u001b[0;31mSyntaxError\u001b[0m\u001b[0;31m:\u001b[0m invalid syntax\n"
          ]
        }
      ]
    },
    {
      "cell_type": "code",
      "metadata": {
        "tags": [],
        "cell_id": "00216-85e40124-061a-4e55-8b0a-cd4095dd9c50",
        "deepnote_to_be_reexecuted": false,
        "source_hash": "55225059",
        "execution_millis": 1,
        "execution_start": 1611978543385,
        "deepnote_cell_type": "code",
        "id": "j8i5H_iGXmgP",
        "outputId": "f1b1237b-80db-411d-95f6-82f4389cc0cb"
      },
      "source": [
        "def func(a, *, d, **kwargs):\n",
        "    print(d, kwargs)\n",
        "\n",
        "func(3, d = 4)"
      ],
      "execution_count": null,
      "outputs": [
        {
          "output_type": "stream",
          "text": [
            "4 {}\n"
          ],
          "name": "stdout"
        }
      ]
    },
    {
      "cell_type": "code",
      "metadata": {
        "tags": [],
        "cell_id": "00217-f67a9894-d059-4844-add0-ec1440ae69fb",
        "deepnote_to_be_reexecuted": false,
        "source_hash": "edac467d",
        "execution_start": 1611978583133,
        "execution_millis": 5,
        "deepnote_cell_type": "code",
        "id": "ewGFCLCVXmgP",
        "outputId": "e5675128-9f31-4352-a1d1-71a3279919ac"
      },
      "source": [
        "def func(a, b):\n",
        "    print(a, b)\n",
        "\n",
        "func('hello', 'universe')"
      ],
      "execution_count": null,
      "outputs": [
        {
          "output_type": "stream",
          "text": [
            "hello universe\n"
          ],
          "name": "stdout"
        }
      ]
    },
    {
      "cell_type": "code",
      "metadata": {
        "tags": [],
        "cell_id": "00218-5b9594fc-c7e6-4aeb-ad55-f5f174c3c420",
        "deepnote_to_be_reexecuted": false,
        "source_hash": "bc87dcf5",
        "execution_millis": 4,
        "execution_start": 1611978612508,
        "deepnote_cell_type": "code",
        "id": "AEz1z8XsXmgP",
        "outputId": "93c6c291-dfd3-4a52-981a-52c0ceb5994d"
      },
      "source": [
        "func(a = 'hello', 'universe')"
      ],
      "execution_count": null,
      "outputs": [
        {
          "output_type": "error",
          "ename": "SyntaxError",
          "evalue": "positional argument follows keyword argument (<ipython-input-338-4cc6ce7ec576>, line 1)",
          "traceback": [
            "\u001b[0;36m  File \u001b[0;32m\"<ipython-input-338-4cc6ce7ec576>\"\u001b[0;36m, line \u001b[0;32m1\u001b[0m\n\u001b[0;31m    func(a = 'hello', 'universe')\u001b[0m\n\u001b[0m                     ^\u001b[0m\n\u001b[0;31mSyntaxError\u001b[0m\u001b[0;31m:\u001b[0m positional argument follows keyword argument\n"
          ]
        }
      ]
    },
    {
      "cell_type": "code",
      "metadata": {
        "tags": [],
        "cell_id": "00219-803e356a-35ac-4026-9aa1-66b9afc5dbbd",
        "deepnote_to_be_reexecuted": false,
        "source_hash": "746474f6",
        "execution_millis": 15,
        "execution_start": 1611978673449,
        "deepnote_cell_type": "code",
        "id": "W9SRn3EoXmgP",
        "outputId": "e731f33a-730f-4652-86a4-01659d6cc083"
      },
      "source": [
        "# positionals only\n",
        "\n",
        "def func(a, b = 'world', c=10):\n",
        "    print(a, b, c)\n",
        "\n",
        "func('hello'), func('hello', c = 10), func('hello', b = 'nohello')"
      ],
      "execution_count": null,
      "outputs": [
        {
          "output_type": "stream",
          "text": [
            "hello world 10\n",
            "hello world 10\n",
            "hello nohello 10\n"
          ],
          "name": "stdout"
        },
        {
          "output_type": "execute_result",
          "data": {
            "text/plain": [
              "(None, None, None)"
            ]
          },
          "metadata": {
            "tags": []
          },
          "execution_count": 340
        }
      ]
    },
    {
      "cell_type": "code",
      "metadata": {
        "tags": [],
        "cell_id": "00220-8aff9767-8950-4120-b699-44e41d7aa4d6",
        "deepnote_to_be_reexecuted": false,
        "source_hash": "71be931b",
        "execution_start": 1611978705302,
        "execution_millis": 4,
        "deepnote_cell_type": "code",
        "id": "8n5BaA6iXmgP",
        "outputId": "970aa12e-7f7a-4436-da43-8886924f0076"
      },
      "source": [
        "def func(a, b, *args):\n",
        "    print(a, b, args)\n",
        "\n",
        "func(1, 2, 'a', 'f', 45)"
      ],
      "execution_count": null,
      "outputs": [
        {
          "output_type": "stream",
          "text": [
            "1 2 ('a', 'f', 45)\n"
          ],
          "name": "stdout"
        }
      ]
    },
    {
      "cell_type": "code",
      "metadata": {
        "tags": [],
        "cell_id": "00221-195c70b3-aa99-436e-88a1-c061b12f9258",
        "deepnote_to_be_reexecuted": false,
        "source_hash": "40781936",
        "execution_start": 1611978722481,
        "execution_millis": 1,
        "deepnote_cell_type": "code",
        "id": "hOlEYwxfXmgQ",
        "outputId": "0fb0004b-ec8e-422f-d96c-33b2e4fdad81"
      },
      "source": [
        "def func(a, b, *args):\n",
        "    print(a, b, args)\n",
        "\n",
        "func(a = 1, b = 2, 'a', 'f', 45)"
      ],
      "execution_count": null,
      "outputs": [
        {
          "output_type": "error",
          "ename": "SyntaxError",
          "evalue": "positional argument follows keyword argument (<ipython-input-342-d1ec291620b3>, line 4)",
          "traceback": [
            "\u001b[0;36m  File \u001b[0;32m\"<ipython-input-342-d1ec291620b3>\"\u001b[0;36m, line \u001b[0;32m4\u001b[0m\n\u001b[0;31m    func(a = 1, b = 2, 'a', 'f', 45)\u001b[0m\n\u001b[0m                      ^\u001b[0m\n\u001b[0;31mSyntaxError\u001b[0m\u001b[0;31m:\u001b[0m positional argument follows keyword argument\n"
          ]
        }
      ]
    },
    {
      "cell_type": "code",
      "metadata": {
        "tags": [],
        "cell_id": "00222-4be1be41-fcf8-43d0-a404-b450e5c64119",
        "deepnote_to_be_reexecuted": false,
        "source_hash": "2bacaeee",
        "execution_millis": 22,
        "execution_start": 1611978820986,
        "deepnote_cell_type": "code",
        "id": "A_qv48lXXmgQ",
        "outputId": "480cd6b2-fae3-4d44-c692-ad3f3a344b7b"
      },
      "source": [
        "func(a = 1, b = 2, c = 10)"
      ],
      "execution_count": null,
      "outputs": [
        {
          "output_type": "error",
          "ename": "TypeError",
          "evalue": "func() got an unexpected keyword argument 'c'",
          "traceback": [
            "\u001b[0;31m---------------------------------------------------------------------------\u001b[0m",
            "\u001b[0;31mTypeError\u001b[0m                                 Traceback (most recent call last)",
            "\u001b[0;32m<ipython-input-348-9ddb2ee319ee>\u001b[0m in \u001b[0;36m<module>\u001b[0;34m\u001b[0m\n\u001b[0;32m----> 1\u001b[0;31m \u001b[0mfunc\u001b[0m\u001b[0;34m(\u001b[0m\u001b[0ma\u001b[0m \u001b[0;34m=\u001b[0m \u001b[0;36m1\u001b[0m\u001b[0;34m,\u001b[0m \u001b[0mb\u001b[0m \u001b[0;34m=\u001b[0m \u001b[0;36m2\u001b[0m\u001b[0;34m,\u001b[0m \u001b[0mc\u001b[0m \u001b[0;34m=\u001b[0m \u001b[0;36m10\u001b[0m\u001b[0;34m)\u001b[0m\u001b[0;34m\u001b[0m\u001b[0;34m\u001b[0m\u001b[0m\n\u001b[0m",
            "\u001b[0;31mTypeError\u001b[0m: func() got an unexpected keyword argument 'c'"
          ]
        }
      ]
    },
    {
      "cell_type": "code",
      "metadata": {
        "tags": [],
        "cell_id": "00223-23041a38-40b7-40f9-b0e6-a70d5a3367af",
        "deepnote_to_be_reexecuted": false,
        "source_hash": "1603d52c",
        "execution_millis": 9,
        "execution_start": 1611978846683,
        "deepnote_cell_type": "code",
        "id": "PVVatsQnXmgQ",
        "outputId": "2ba747da-739c-47f9-ddc7-fbd92657c3c2"
      },
      "source": [
        "def func(a, b, *args, **kwargs):\n",
        "    print(a, b, args, kwargs)\n",
        "\n",
        "func(a = 1, b = 2, c = 10)"
      ],
      "execution_count": null,
      "outputs": [
        {
          "output_type": "stream",
          "text": [
            "1 2 () {'c': 10}\n"
          ],
          "name": "stdout"
        }
      ]
    },
    {
      "cell_type": "code",
      "metadata": {
        "tags": [],
        "cell_id": "00224-5b07c6b4-c7ef-4eba-9adc-17c29e4feda0",
        "deepnote_to_be_reexecuted": false,
        "source_hash": "dcfcfcad",
        "execution_millis": 5,
        "execution_start": 1611978889331,
        "deepnote_cell_type": "code",
        "id": "n-sOBgd2XmgQ",
        "outputId": "9e5a04bd-9935-4124-ba75-efe4405fa0e4"
      },
      "source": [
        "def func(*, a, b):\n",
        "    print(a, b)\n",
        "\n",
        "func(a = 1, b = 2)"
      ],
      "execution_count": null,
      "outputs": [
        {
          "output_type": "stream",
          "text": [
            "1 2\n"
          ],
          "name": "stdout"
        }
      ]
    },
    {
      "cell_type": "code",
      "metadata": {
        "tags": [],
        "cell_id": "00225-efe35797-84ef-42dc-bf18-037220e4e0da",
        "deepnote_to_be_reexecuted": false,
        "source_hash": "bd474c0f",
        "execution_start": 1611978912026,
        "execution_millis": 3,
        "deepnote_cell_type": "code",
        "id": "yDfev8PYXmgR",
        "outputId": "e4ec4031-2248-4508-ed51-f32a8b8a2823"
      },
      "source": [
        "def func(*, a = 1, b):\n",
        "    print(a, b)\n",
        "\n",
        "func(a = 10, b = 20), func(b = 20)"
      ],
      "execution_count": null,
      "outputs": [
        {
          "output_type": "stream",
          "text": [
            "10 20\n",
            "1 20\n"
          ],
          "name": "stdout"
        },
        {
          "output_type": "execute_result",
          "data": {
            "text/plain": [
              "(None, None)"
            ]
          },
          "metadata": {
            "tags": []
          },
          "execution_count": 353
        }
      ]
    },
    {
      "cell_type": "code",
      "metadata": {
        "tags": [],
        "cell_id": "00226-b738753a-ba58-42d2-9e82-7723cffa0980",
        "deepnote_to_be_reexecuted": false,
        "source_hash": "4ee9a124",
        "execution_millis": 56,
        "execution_start": 1611978973553,
        "deepnote_cell_type": "code",
        "id": "XsV12bCjXmgS",
        "outputId": "ce2d774e-1bf5-4f59-c014-f1e40314a202"
      },
      "source": [
        "# posiotional and keyword\n",
        "\n",
        "def func(a, b, *, c, d):\n",
        "    print(a, b, c, d)\n",
        "\n",
        "func(1, 2, d = 10, c = 12)"
      ],
      "execution_count": null,
      "outputs": [
        {
          "output_type": "stream",
          "text": [
            "1 2 12 10\n"
          ],
          "name": "stdout"
        }
      ]
    },
    {
      "cell_type": "code",
      "metadata": {
        "tags": [],
        "cell_id": "00227-644c1c8a-8614-4f25-85fd-fc252da7ba98",
        "deepnote_to_be_reexecuted": false,
        "source_hash": "36190da2",
        "execution_start": 1611978988905,
        "execution_millis": 1,
        "deepnote_cell_type": "code",
        "id": "QWQXozwSXmgS",
        "outputId": "3ded80ba-cbab-4516-b274-9a4ec7cff9ac"
      },
      "source": [
        "def func(a, b, *, c, d = 12):\n",
        "    print(a, b, c, d)\n",
        "\n",
        "func(1, 2,c = 12)"
      ],
      "execution_count": null,
      "outputs": [
        {
          "output_type": "stream",
          "text": [
            "1 2 12 12\n"
          ],
          "name": "stdout"
        }
      ]
    },
    {
      "cell_type": "code",
      "metadata": {
        "tags": [],
        "cell_id": "00228-2b0d5858-2613-4867-870c-58dd8ff23a4e",
        "deepnote_to_be_reexecuted": false,
        "source_hash": "991f6ce1",
        "execution_start": 1611979004153,
        "execution_millis": 17,
        "deepnote_cell_type": "code",
        "id": "LYx4ye5oXmgS",
        "outputId": "f8fc70dc-8d3f-4bec-b116-e94ea547bb4c"
      },
      "source": [
        "def func(a, b = 10, *, c, d = 12):\n",
        "    print(a, b, c, d)\n",
        "\n",
        "func(1, c = 12)"
      ],
      "execution_count": null,
      "outputs": [
        {
          "output_type": "stream",
          "text": [
            "1 10 12 12\n"
          ],
          "name": "stdout"
        }
      ]
    },
    {
      "cell_type": "code",
      "metadata": {
        "tags": [],
        "cell_id": "00229-f2288c3f-e582-4466-a5d9-4801b0d9f2b0",
        "deepnote_to_be_reexecuted": false,
        "source_hash": "b8a7a30b",
        "execution_millis": 0,
        "execution_start": 1611979076009,
        "deepnote_cell_type": "code",
        "id": "KjN7ZqL5XmgT"
      },
      "source": [
        "def func(a, b, *args, c, d = 12):\n",
        "    print(a, b, args, c, d)"
      ],
      "execution_count": null,
      "outputs": []
    },
    {
      "cell_type": "code",
      "metadata": {
        "tags": [],
        "cell_id": "00230-a6e4201b-63bc-4b73-8de8-d1babfd2568c",
        "deepnote_to_be_reexecuted": false,
        "source_hash": "9aeb45f5",
        "execution_millis": 5,
        "execution_start": 1611979076507,
        "deepnote_cell_type": "code",
        "id": "UQsaZ5CzXmgT",
        "outputId": "c198c732-6ac1-4846-ac53-8cd544b4a895"
      },
      "source": [
        "func(1, 2, 3, 4, 5, 6, 7, 8, 90, c = 10)"
      ],
      "execution_count": null,
      "outputs": [
        {
          "output_type": "stream",
          "text": [
            "1 2 (3, 4, 5, 6, 7, 8, 90) 10 12\n"
          ],
          "name": "stdout"
        }
      ]
    },
    {
      "cell_type": "code",
      "metadata": {
        "tags": [],
        "cell_id": "00231-a77e9394-ed21-4c2e-af12-ad4b2ec203ac",
        "deepnote_to_be_reexecuted": false,
        "source_hash": "2782da1c",
        "execution_start": 1611979145337,
        "execution_millis": 5,
        "deepnote_cell_type": "code",
        "id": "blkt6em7XmgT",
        "outputId": "57343d03-87a0-4fd8-8646-d3f3dd971fb9"
      },
      "source": [
        "def func(a, b, *, c, d=4, **kwargs):\n",
        "    print(a, b, c, d, kwargs)\n",
        "\n",
        "func(1, 2, c= 13, e = 'e')"
      ],
      "execution_count": null,
      "outputs": [
        {
          "output_type": "stream",
          "text": [
            "1 2 13 4 {'e': 'e'}\n"
          ],
          "name": "stdout"
        }
      ]
    },
    {
      "cell_type": "code",
      "metadata": {
        "tags": [],
        "cell_id": "00232-fe866743-40f1-47f0-8967-60f1cfbb246e",
        "deepnote_to_be_reexecuted": false,
        "source_hash": "bb278093",
        "execution_start": 1611979213493,
        "execution_millis": 25,
        "deepnote_cell_type": "code",
        "id": "OKlqmo6bXmgT",
        "outputId": "52c33ec2-a470-4c1f-e136-3d3f0779669d"
      },
      "source": [
        "def func(a, b, *args, c, d = 14, **kwargs):\n",
        "    print(a, b, c, args, d, kwargs)\n",
        "\n",
        "func('a', 'b', 1, 2, 3, 4, c = 10, d = 'arlington', e = '34')"
      ],
      "execution_count": null,
      "outputs": [
        {
          "output_type": "stream",
          "text": [
            "a b 10 (1, 2, 3, 4) arlington {'e': '34'}\n"
          ],
          "name": "stdout"
        }
      ]
    },
    {
      "cell_type": "code",
      "metadata": {
        "tags": [],
        "cell_id": "00233-602605de-e9e3-4843-a0ce-aeb82518473c",
        "deepnote_to_be_reexecuted": false,
        "source_hash": "99bc7951",
        "execution_start": 1611979233633,
        "execution_millis": 2,
        "deepnote_cell_type": "code",
        "id": "mqvFrpRpXmgT"
      },
      "source": [
        "def func(*args, **kwargs):\n",
        "    print(args, kwargs)"
      ],
      "execution_count": null,
      "outputs": []
    },
    {
      "cell_type": "code",
      "metadata": {
        "tags": [],
        "cell_id": "00234-f5b4bf82-74e5-4f21-a046-94cd529745dc",
        "deepnote_to_be_reexecuted": false,
        "source_hash": "a059bd17",
        "execution_start": 1611979263627,
        "execution_millis": 4,
        "deepnote_cell_type": "code",
        "id": "MNrmPs68XmgU",
        "outputId": "aded0c0e-a7ec-47ed-f4e5-d114c0408b2c"
      },
      "source": [
        "func(1, 2, 3, 4, 5, 6, d = 10, a = 10, g = 10, gg = '12312')"
      ],
      "execution_count": null,
      "outputs": [
        {
          "output_type": "stream",
          "text": [
            "(1, 2, 3, 4, 5, 6) {'d': 10, 'a': 10, 'g': 10, 'gg': '12312'}\n"
          ],
          "name": "stdout"
        }
      ]
    },
    {
      "cell_type": "code",
      "metadata": {
        "tags": [],
        "cell_id": "00235-54ba6b7d-c75d-4418-ba9d-fa662e8599e5",
        "deepnote_to_be_reexecuted": false,
        "source_hash": "f8c58ce4",
        "execution_start": 1611979275981,
        "execution_millis": 4,
        "deepnote_cell_type": "code",
        "id": "_voN41oVXmgU",
        "outputId": "bfa01a3d-0b55-4f90-aae3-0c464af4f5c2"
      },
      "source": [
        "help(print)"
      ],
      "execution_count": null,
      "outputs": [
        {
          "output_type": "stream",
          "text": [
            "Help on built-in function print in module builtins:\n",
            "\n",
            "print(...)\n",
            "    print(value, ..., sep=' ', end='\\n', file=sys.stdout, flush=False)\n",
            "    \n",
            "    Prints the values to a stream, or to sys.stdout by default.\n",
            "    Optional keyword arguments:\n",
            "    file:  a file-like object (stream); defaults to the current sys.stdout.\n",
            "    sep:   string inserted between values, default a space.\n",
            "    end:   string appended after the last value, default a newline.\n",
            "    flush: whether to forcibly flush the stream.\n",
            "\n"
          ],
          "name": "stdout"
        }
      ]
    },
    {
      "cell_type": "code",
      "metadata": {
        "tags": [],
        "cell_id": "00236-9582f997-4039-40ba-a2b8-6b68abfd2d07",
        "deepnote_to_be_reexecuted": false,
        "source_hash": "9086f93c",
        "execution_start": 1611979304305,
        "execution_millis": 7,
        "deepnote_cell_type": "code",
        "id": "l09kjpW0XmgU",
        "outputId": "7f74ffd8-ca2a-4136-951b-9c5959e0cc04"
      },
      "source": [
        "print(1, 2, 3)"
      ],
      "execution_count": null,
      "outputs": [
        {
          "output_type": "stream",
          "text": [
            "1 2 3\n"
          ],
          "name": "stdout"
        }
      ]
    },
    {
      "cell_type": "code",
      "metadata": {
        "tags": [],
        "cell_id": "00237-6cee1526-eb87-4fdb-8924-cdc1fd6932c4",
        "deepnote_to_be_reexecuted": false,
        "source_hash": "9c975b8f",
        "execution_start": 1611979317945,
        "execution_millis": 1,
        "deepnote_cell_type": "code",
        "id": "c4b2m_f2XmgU",
        "outputId": "e53ad261-5a04-45c9-b202-b8d095a29139"
      },
      "source": [
        "print(1, 2, 3, sep='|')"
      ],
      "execution_count": null,
      "outputs": [
        {
          "output_type": "stream",
          "text": [
            "1|2|3\n"
          ],
          "name": "stdout"
        }
      ]
    },
    {
      "cell_type": "code",
      "metadata": {
        "tags": [],
        "cell_id": "00238-18e17379-d111-4ffc-a3fa-704ca675578c",
        "deepnote_to_be_reexecuted": false,
        "source_hash": "b3653e68",
        "execution_millis": 5,
        "execution_start": 1611979340933,
        "deepnote_cell_type": "code",
        "id": "YQvbKCyIXmgU",
        "outputId": "1ec2a44f-0812-4970-ecd0-7c5eccea6081"
      },
      "source": [
        "print(1, 2, 3, sep='|', end = ' 👨🏻‍🦰')"
      ],
      "execution_count": null,
      "outputs": [
        {
          "output_type": "stream",
          "text": [
            "1|2|3 👨🏻‍🦰"
          ],
          "name": "stdout"
        }
      ]
    },
    {
      "cell_type": "code",
      "metadata": {
        "tags": [],
        "cell_id": "00239-92149ea1-aa0a-4638-ad74-5b67d9334875",
        "deepnote_to_be_reexecuted": false,
        "source_hash": "cc720c59",
        "execution_millis": 7,
        "execution_start": 1611979901537,
        "deepnote_cell_type": "code",
        "id": "HOYYTW5qXmgW",
        "outputId": "6f04ca59-0e3c-4317-9d6e-cb3a57dd8f85"
      },
      "source": [
        "def calc_hi_lo_avg(*args, log_to_console = False):\n",
        "    hi = int(bool(args)) and max(args)\n",
        "    lo = int(bool(args)) and min(args)\n",
        "    avg = (hi + lo)/2\n",
        "    if log_to_console:\n",
        "        print(f'high = {hi}, low = {lo}, avg = {avg}')\n",
        "    return avg\n",
        "\n",
        "print(calc_hi_lo_avg(1, 2, 3, 4, 5, 6, 7, 8, log_to_console = True))\n"
      ],
      "execution_count": null,
      "outputs": [
        {
          "output_type": "stream",
          "text": [
            "high = 8, low = 1, avg = 9\n",
            "9\n"
          ],
          "name": "stdout"
        }
      ]
    },
    {
      "cell_type": "code",
      "metadata": {
        "tags": [],
        "cell_id": "00240-43a6b50f-1a02-4d60-88b8-aa811ebeaa30",
        "deepnote_to_be_reexecuted": false,
        "source_hash": "27091a3f",
        "execution_millis": 13,
        "execution_start": 1611979919699,
        "deepnote_cell_type": "code",
        "id": "dYKCpc3yXmgW",
        "outputId": "535629b5-304c-4396-ac23-98b40344fd0e"
      },
      "source": [
        "args = [0]\n",
        "int(bool(args))"
      ],
      "execution_count": null,
      "outputs": [
        {
          "output_type": "stream",
          "text": [
            "high = False, low = False, avg = 0\n"
          ],
          "name": "stdout"
        },
        {
          "output_type": "execute_result",
          "data": {
            "text/plain": [
              "0"
            ]
          },
          "metadata": {
            "tags": []
          },
          "execution_count": 386
        }
      ]
    },
    {
      "cell_type": "code",
      "metadata": {
        "tags": [],
        "cell_id": "00241-dd435055-f301-4c31-abd3-95b83181a121",
        "deepnote_to_be_reexecuted": false,
        "source_hash": "343ee618",
        "execution_start": 1611979704425,
        "execution_millis": 1,
        "deepnote_cell_type": "code",
        "id": "3FudNAQqXmgW",
        "outputId": "2c9bf74b-6584-4c91-8c4d-7314ef6ec0d2"
      },
      "source": [
        "def func(**kwargs, *args):\n",
        "    print(args, kwargs)"
      ],
      "execution_count": null,
      "outputs": [
        {
          "output_type": "error",
          "ename": "SyntaxError",
          "evalue": "invalid syntax (<ipython-input-378-1c9e40803d38>, line 1)",
          "traceback": [
            "\u001b[0;36m  File \u001b[0;32m\"<ipython-input-378-1c9e40803d38>\"\u001b[0;36m, line \u001b[0;32m1\u001b[0m\n\u001b[0;31m    def func(**kwargs, *args):\u001b[0m\n\u001b[0m                       ^\u001b[0m\n\u001b[0;31mSyntaxError\u001b[0m\u001b[0;31m:\u001b[0m invalid syntax\n"
          ]
        }
      ]
    },
    {
      "cell_type": "code",
      "metadata": {
        "tags": [],
        "cell_id": "00242-e8f90b2c-94d1-4e64-a6eb-2f0cecc1f7f2",
        "deepnote_to_be_reexecuted": false,
        "source_hash": "b623e53d",
        "execution_millis": 4,
        "execution_start": 1611979936206,
        "deepnote_cell_type": "code",
        "id": "iDMHPVG9XmgW"
      },
      "source": [
        ""
      ],
      "execution_count": null,
      "outputs": []
    },
    {
      "cell_type": "code",
      "metadata": {
        "tags": [],
        "cell_id": "00243-87aa7d98-8c03-4b32-876b-8355638bdb2b",
        "deepnote_cell_type": "code",
        "id": "ODqWBqXTXmgX"
      },
      "source": [
        ""
      ],
      "execution_count": null,
      "outputs": []
    }
  ]
}