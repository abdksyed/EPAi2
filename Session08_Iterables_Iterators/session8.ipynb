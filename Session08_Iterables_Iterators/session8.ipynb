{
  "nbformat": 4,
  "nbformat_minor": 0,
  "metadata": {
    "colab": {
      "name": "session8.ipynb",
      "provenance": [],
      "toc_visible": true,
      "include_colab_link": true
    },
    "kernelspec": {
      "name": "python3",
      "display_name": "Python 3"
    }
  },
  "cells": [
    {
      "cell_type": "markdown",
      "metadata": {
        "id": "view-in-github",
        "colab_type": "text"
      },
      "source": [
        "<a href=\"https://colab.research.google.com/github/The-School-of-AI/session-8-abdksyed/blob/main/session8.ipynb\" target=\"_parent\"><img src=\"https://colab.research.google.com/assets/colab-badge.svg\" alt=\"Open In Colab\"/></a>"
      ]
    },
    {
      "cell_type": "code",
      "metadata": {
        "id": "zqP857OCBSz2"
      },
      "source": [
        "from session8_1 import Polygon \n",
        "from session8_2 import PolySeq"
      ],
      "execution_count": 1,
      "outputs": []
    },
    {
      "cell_type": "markdown",
      "metadata": {
        "id": "zfkXgXh_CMz_"
      },
      "source": [
        "## Testing Polygon Class"
      ]
    },
    {
      "cell_type": "code",
      "metadata": {
        "id": "X6ynIflaB7r0"
      },
      "source": [
        "pentagon = Polygon(vertices=5,circumradius=10)\n",
        "hexagon = Polygon(vertices=6,circumradius=12)\n",
        "square = Polygon(vertices=4,circumradius=7)"
      ],
      "execution_count": 2,
      "outputs": []
    },
    {
      "cell_type": "code",
      "metadata": {
        "colab": {
          "base_uri": "https://localhost:8080/"
        },
        "id": "Wpu07armCTNT",
        "outputId": "77cb7b9d-ed2c-415d-d51a-26b3166350ae"
      },
      "source": [
        "pentagon.edges, hexagon.edges, square.edges"
      ],
      "execution_count": 3,
      "outputs": [
        {
          "output_type": "execute_result",
          "data": {
            "text/plain": [
              "(5, 6, 4)"
            ]
          },
          "metadata": {
            "tags": []
          },
          "execution_count": 3
        }
      ]
    },
    {
      "cell_type": "code",
      "metadata": {
        "colab": {
          "base_uri": "https://localhost:8080/"
        },
        "id": "HPcFb4TuCb8I",
        "outputId": "0da6015a-7842-44bf-e5b1-bd350e836e6d"
      },
      "source": [
        "pentagon.circumradius, hexagon.circumradius, square.circumradius"
      ],
      "execution_count": 4,
      "outputs": [
        {
          "output_type": "execute_result",
          "data": {
            "text/plain": [
              "(10, 12, 7)"
            ]
          },
          "metadata": {
            "tags": []
          },
          "execution_count": 4
        }
      ]
    },
    {
      "cell_type": "code",
      "metadata": {
        "colab": {
          "base_uri": "https://localhost:8080/"
        },
        "id": "S-1kBkHZCek7",
        "outputId": "18bc9ce4-ac07-4f03-b077-56cc0f75c989"
      },
      "source": [
        "pentagon.area, hexagon.area, square.area"
      ],
      "execution_count": 5,
      "outputs": [
        {
          "output_type": "execute_result",
          "data": {
            "text/plain": [
              "(237.77009464679705, 374.1229744348775, 97.99510037751887)"
            ]
          },
          "metadata": {
            "tags": []
          },
          "execution_count": 5
        }
      ]
    },
    {
      "cell_type": "code",
      "metadata": {
        "colab": {
          "base_uri": "https://localhost:8080/"
        },
        "id": "OtuwrhkECfvD",
        "outputId": "0073001e-963b-4125-9bc0-904182357db3"
      },
      "source": [
        "pentagon.apothem, hexagon.apothem, square.apothem"
      ],
      "execution_count": 6,
      "outputs": [
        {
          "output_type": "execute_result",
          "data": {
            "text/plain": [
              "(8.090169943749475, 10.392304845413264, 4.949747468305833)"
            ]
          },
          "metadata": {
            "tags": []
          },
          "execution_count": 6
        }
      ]
    },
    {
      "cell_type": "code",
      "metadata": {
        "colab": {
          "base_uri": "https://localhost:8080/"
        },
        "id": "Y3qRwiy2Ch2R",
        "outputId": "f8de75ed-594e-4196-a9e0-a497a3731cbf"
      },
      "source": [
        "pentagon.interior_angle, hexagon.interior_angle, square.interior_angle"
      ],
      "execution_count": 7,
      "outputs": [
        {
          "output_type": "execute_result",
          "data": {
            "text/plain": [
              "(108.0, 120.0, 90.0)"
            ]
          },
          "metadata": {
            "tags": []
          },
          "execution_count": 7
        }
      ]
    },
    {
      "cell_type": "code",
      "metadata": {
        "colab": {
          "base_uri": "https://localhost:8080/"
        },
        "id": "Qe7gHTBSCkBX",
        "outputId": "66207b40-2f39-495c-bfba-5db00fb99b89"
      },
      "source": [
        "pentagon.edge_len, hexagon.edge_len, square.edge_len"
      ],
      "execution_count": 8,
      "outputs": [
        {
          "output_type": "execute_result",
          "data": {
            "text/plain": [
              "(11.756, 12.0, 9.899)"
            ]
          },
          "metadata": {
            "tags": []
          },
          "execution_count": 8
        }
      ]
    },
    {
      "cell_type": "code",
      "metadata": {
        "colab": {
          "base_uri": "https://localhost:8080/"
        },
        "id": "DYC-Ze_nCsZN",
        "outputId": "45787a84-27b8-46b7-d00d-23396343df88"
      },
      "source": [
        "pentagon.perimeter, hexagon.perimeter, square.perimeter"
      ],
      "execution_count": 9,
      "outputs": [
        {
          "output_type": "execute_result",
          "data": {
            "text/plain": [
              "(58.78, 72.0, 39.596)"
            ]
          },
          "metadata": {
            "tags": []
          },
          "execution_count": 9
        }
      ]
    },
    {
      "cell_type": "code",
      "metadata": {
        "colab": {
          "base_uri": "https://localhost:8080/"
        },
        "id": "nl5jBOAQCuvh",
        "outputId": "ce1e426d-d784-475e-b4d7-ca4b43f24714"
      },
      "source": [
        "print(pentagon)"
      ],
      "execution_count": 10,
      "outputs": [
        {
          "output_type": "stream",
          "text": [
            "Polygon(n=5, R=10)\n"
          ],
          "name": "stdout"
        }
      ]
    },
    {
      "cell_type": "code",
      "metadata": {
        "colab": {
          "base_uri": "https://localhost:8080/"
        },
        "id": "koqo9EYfDhFV",
        "outputId": "9f380582-d3d1-4a65-b63e-b2be2ddf72ae"
      },
      "source": [
        "print(hexagon)"
      ],
      "execution_count": 11,
      "outputs": [
        {
          "output_type": "stream",
          "text": [
            "Polygon(n=6, R=12)\n"
          ],
          "name": "stdout"
        }
      ]
    },
    {
      "cell_type": "code",
      "metadata": {
        "colab": {
          "base_uri": "https://localhost:8080/"
        },
        "id": "-qfYHXe1DiBz",
        "outputId": "ccc3dc58-1e92-48f0-f979-af2499e7cd79"
      },
      "source": [
        "pentagon == hexagon"
      ],
      "execution_count": 12,
      "outputs": [
        {
          "output_type": "execute_result",
          "data": {
            "text/plain": [
              "False"
            ]
          },
          "metadata": {
            "tags": []
          },
          "execution_count": 12
        }
      ]
    },
    {
      "cell_type": "code",
      "metadata": {
        "colab": {
          "base_uri": "https://localhost:8080/"
        },
        "id": "G-okkpDODkDh",
        "outputId": "dc36ff22-6282-46e0-c9b8-95dcaa72df5c"
      },
      "source": [
        "pentagon_2 = Polygon(5,10)\n",
        "pentagon == pentagon_2"
      ],
      "execution_count": 13,
      "outputs": [
        {
          "output_type": "execute_result",
          "data": {
            "text/plain": [
              "True"
            ]
          },
          "metadata": {
            "tags": []
          },
          "execution_count": 13
        }
      ]
    },
    {
      "cell_type": "code",
      "metadata": {
        "colab": {
          "base_uri": "https://localhost:8080/"
        },
        "id": "CJRpDU7qDnlz",
        "outputId": "cc0623e1-319b-4fb7-ea57-a62728ae904f"
      },
      "source": [
        "pentagon > hexagon"
      ],
      "execution_count": 14,
      "outputs": [
        {
          "output_type": "execute_result",
          "data": {
            "text/plain": [
              "False"
            ]
          },
          "metadata": {
            "tags": []
          },
          "execution_count": 14
        }
      ]
    },
    {
      "cell_type": "code",
      "metadata": {
        "colab": {
          "base_uri": "https://localhost:8080/"
        },
        "id": "So9HrYqODp0c",
        "outputId": "d3080d75-2dcf-4a60-a2ea-a57f85214635"
      },
      "source": [
        "pentagon < hexagon"
      ],
      "execution_count": 15,
      "outputs": [
        {
          "output_type": "execute_result",
          "data": {
            "text/plain": [
              "True"
            ]
          },
          "metadata": {
            "tags": []
          },
          "execution_count": 15
        }
      ]
    },
    {
      "cell_type": "code",
      "metadata": {
        "colab": {
          "base_uri": "https://localhost:8080/"
        },
        "id": "cTmFKyEBDrI7",
        "outputId": "ce1f5e49-09ce-4a0a-88e5-efb7bb045a7b"
      },
      "source": [
        "pentagon > pentagon_2"
      ],
      "execution_count": 16,
      "outputs": [
        {
          "output_type": "execute_result",
          "data": {
            "text/plain": [
              "False"
            ]
          },
          "metadata": {
            "tags": []
          },
          "execution_count": 16
        }
      ]
    },
    {
      "cell_type": "code",
      "metadata": {
        "colab": {
          "base_uri": "https://localhost:8080/"
        },
        "id": "MZf7Bs98Dske",
        "outputId": "224e3fe6-7ea6-4a24-83f0-c727bfa2104d"
      },
      "source": [
        "pentagon >= pentagon_2"
      ],
      "execution_count": 17,
      "outputs": [
        {
          "output_type": "execute_result",
          "data": {
            "text/plain": [
              "True"
            ]
          },
          "metadata": {
            "tags": []
          },
          "execution_count": 17
        }
      ]
    },
    {
      "cell_type": "markdown",
      "metadata": {
        "id": "QKLROxWDDvlP"
      },
      "source": [
        "## Polygon Sequence Class"
      ]
    },
    {
      "cell_type": "code",
      "metadata": {
        "id": "dIPxHkTaDuUK"
      },
      "source": [
        "pol25 = PolySeq(max_sides=25,common_circumradius=10)"
      ],
      "execution_count": 18,
      "outputs": []
    },
    {
      "cell_type": "code",
      "metadata": {
        "colab": {
          "base_uri": "https://localhost:8080/"
        },
        "id": "XoumbtScD6LZ",
        "outputId": "083d190e-3839-4b4b-a87c-cc9b69bd4afe"
      },
      "source": [
        "pol25[5]"
      ],
      "execution_count": 19,
      "outputs": [
        {
          "output_type": "execute_result",
          "data": {
            "text/plain": [
              "Polygon(n=5, R=10)"
            ]
          },
          "metadata": {
            "tags": []
          },
          "execution_count": 19
        }
      ]
    },
    {
      "cell_type": "code",
      "metadata": {
        "colab": {
          "base_uri": "https://localhost:8080/"
        },
        "id": "AKhzkWLBD_nt",
        "outputId": "2d0ff167-ddef-4718-a181-79bbca61c6f0"
      },
      "source": [
        "pol25[5:15:2]"
      ],
      "execution_count": 20,
      "outputs": [
        {
          "output_type": "execute_result",
          "data": {
            "text/plain": [
              "[Polygon(n=5, R=10),\n",
              " Polygon(n=7, R=10),\n",
              " Polygon(n=9, R=10),\n",
              " Polygon(n=11, R=10),\n",
              " Polygon(n=13, R=10),\n",
              " Polygon(n=15, R=10)]"
            ]
          },
          "metadata": {
            "tags": []
          },
          "execution_count": 20
        }
      ]
    },
    {
      "cell_type": "code",
      "metadata": {
        "colab": {
          "base_uri": "https://localhost:8080/"
        },
        "id": "8bZVbXjlEM07",
        "outputId": "0f87d1cf-eb56-4b6c-850b-10611947aba6"
      },
      "source": [
        "pol25.max_eff"
      ],
      "execution_count": 21,
      "outputs": [
        {
          "output_type": "execute_result",
          "data": {
            "text/plain": [
              "{25: 4.9605735065723895}"
            ]
          },
          "metadata": {
            "tags": []
          },
          "execution_count": 21
        }
      ]
    },
    {
      "cell_type": "code",
      "metadata": {
        "id": "D3j_Ab90ETpk"
      },
      "source": [
        "def test_iterable(seq):\n",
        "    try:\n",
        "        iter(seq)\n",
        "        print(f'{seq} is a Iterable')\n",
        "    except:\n",
        "        print(f'{seq} is NOT a Iterable')\n",
        "\n",
        "def test_iterator(seq):\n",
        "    try:\n",
        "        next(seq)\n",
        "        print(f'iter({seq}) is a Iterator')\n",
        "    except:\n",
        "        print(f'iter({seq}) is NOT a Iterator')"
      ],
      "execution_count": 42,
      "outputs": []
    },
    {
      "cell_type": "code",
      "metadata": {
        "id": "qxdEqbeaFr6h"
      },
      "source": [
        "P_seq = PolySeq(10, 5)"
      ],
      "execution_count": 43,
      "outputs": []
    },
    {
      "cell_type": "code",
      "metadata": {
        "colab": {
          "base_uri": "https://localhost:8080/"
        },
        "id": "-5R2OrdhFt9M",
        "outputId": "2b64e354-5d09-49ce-9112-4f888bd5fa2e"
      },
      "source": [
        "test_iterable(P_seq)"
      ],
      "execution_count": 44,
      "outputs": [
        {
          "output_type": "stream",
          "text": [
            "<session8_2.PolySeq object at 0x7f783bc081d0> is a Iterable\n"
          ],
          "name": "stdout"
        }
      ]
    },
    {
      "cell_type": "code",
      "metadata": {
        "colab": {
          "base_uri": "https://localhost:8080/"
        },
        "id": "fREJplp9GKnB",
        "outputId": "34dc0d0f-2c50-404c-cc4c-90fad276d9ba"
      },
      "source": [
        "test_iterator(P_seq)"
      ],
      "execution_count": 45,
      "outputs": [
        {
          "output_type": "stream",
          "text": [
            "iter(<session8_2.PolySeq object at 0x7f783bc081d0>) is NOT a Iterator\n"
          ],
          "name": "stdout"
        }
      ]
    },
    {
      "cell_type": "code",
      "metadata": {
        "colab": {
          "base_uri": "https://localhost:8080/"
        },
        "id": "8LNso1gTGR1O",
        "outputId": "511cf62e-ca43-43c8-bb52-1a7794f59745"
      },
      "source": [
        "test_iterator(iter(P_seq))"
      ],
      "execution_count": 46,
      "outputs": [
        {
          "output_type": "stream",
          "text": [
            "iter(<session8_2.PolySeq.PolyIter object at 0x7f7835ac6ed0>) is a Iterator\n"
          ],
          "name": "stdout"
        }
      ]
    }
  ]
}