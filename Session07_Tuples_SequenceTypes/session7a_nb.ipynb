{
  "nbformat": 4,
  "nbformat_minor": 0,
  "metadata": {
    "colab": {
      "name": "session7a_nb.ipynb",
      "provenance": [],
      "collapsed_sections": []
    },
    "kernelspec": {
      "name": "python3",
      "display_name": "Python 3.9.1 64-bit",
      "metadata": {
        "interpreter": {
          "hash": "63fd5069d213b44bf678585dea6b12cceca9941eaf7f819626cde1f2670de90d"
        }
      }
    }
  },
  "cells": [
    {
      "cell_type": "code",
      "metadata": {
        "id": "KQWT6mffiPnr",
        "colab": {
          "base_uri": "https://localhost:8080/"
        },
        "outputId": "5734edd2-468a-49e5-8d7e-5464131fd8bc"
      },
      "source": [
        "!pip install faker"
      ],
      "execution_count": 1,
      "outputs": [
        {
          "output_type": "stream",
          "text": [
            "Collecting faker\n",
            "\u001b[?25l  Downloading https://files.pythonhosted.org/packages/fa/d4/cb82441718bccaed9e3322c64d39438d40568b7a8ae33458f28a1a8b2155/Faker-6.5.0-py3-none-any.whl (1.1MB)\n",
            "\u001b[K     |████████████████████████████████| 1.1MB 6.2MB/s \n",
            "\u001b[?25hRequirement already satisfied: text-unidecode==1.3 in /usr/local/lib/python3.7/dist-packages (from faker) (1.3)\n",
            "Requirement already satisfied: python-dateutil>=2.4 in /usr/local/lib/python3.7/dist-packages (from faker) (2.8.1)\n",
            "Requirement already satisfied: six>=1.5 in /usr/local/lib/python3.7/dist-packages (from python-dateutil>=2.4->faker) (1.15.0)\n",
            "Installing collected packages: faker\n",
            "Successfully installed faker-6.5.0\n"
          ],
          "name": "stdout"
        }
      ]
    },
    {
      "cell_type": "code",
      "metadata": {
        "id": "oFmnX57piZIz"
      },
      "source": [
        "from faker import Faker\n",
        "from collections import namedtuple\n",
        "from time import perf_counter\n",
        "from datetime import date\n",
        "from dateutil.relativedelta import relativedelta\n",
        "from collections import Counter\n",
        "from statistics import mean\n",
        "from operator import attrgetter\n",
        "import random\n",
        "import re\n",
        "import string\n",
        "from matplotlib import pyplot as plt\n",
        "import pandas as pd"
      ],
      "execution_count": 2,
      "outputs": []
    },
    {
      "cell_type": "code",
      "metadata": {
        "id": "QIGFE2Fyk4me"
      },
      "source": [
        "#Decorator to Check Performance\n",
        "\n",
        "def timed(n:'Number of Iterations') -> 'Decorator':\n",
        "    '''\n",
        "    function acts as a decorator factory which takes function repetation count\n",
        "    as argument.\n",
        "    returns the decorator\n",
        "    '''\n",
        "    def timed_inner(fn:'Funciton') -> 'closure':\n",
        "        '''\n",
        "        function acts as a decorator which runs the given function for\n",
        "        specified number of times using closure.\n",
        "        returns the closure\n",
        "        '''\n",
        "        def inner(*args, **kwargs):\n",
        "            start = perf_counter()\n",
        "            for _ in range(n):\n",
        "                result = fn(*args, **kwargs)\n",
        "            end = perf_counter()\n",
        "\n",
        "            return result, f'Average Time to Run the Function is: {(end-start)/n :.3f}'\n",
        "\n",
        "        return inner\n",
        "    \n",
        "    return timed_inner"
      ],
      "execution_count": 3,
      "outputs": []
    },
    {
      "cell_type": "markdown",
      "metadata": {
        "id": "4-l8FW9pidV8"
      },
      "source": [
        "### Approach Named Tuple"
      ]
    },
    {
      "cell_type": "code",
      "metadata": {
        "id": "6VSRqu8piRlg"
      },
      "source": [
        "@timed(1)\n",
        "def nt_approach(n: 'Number of Profiles') -> 'Named Tuple of Statstics':\n",
        "    '''\n",
        "    function generates a profile of a person using faker library and\n",
        "    using namedtuple, calculates the largest blood type, mean_location,\n",
        "    oldest_person_age and average age using the namedtuple.\n",
        "    returns namedtuple of the above data.\n",
        "    '''\n",
        "    Data = namedtuple('Data', Faker().profile().keys())\n",
        "    Data.__doc__ = 'Fake personnel profile using faker library'\n",
        "\n",
        "    nt_list = []\n",
        "    '''Reason for using List - Using another Named Tuple to stroe 10000 tuples, will be not feasible,\n",
        "    as NamedTuple allows maximum 255 variables, and all if we need to add one more,\n",
        "    we need to create an entire new NamedTuple with 10,001 variables, hihgly Ineffecient.'''\n",
        "    for _ in range(n):\n",
        "        prof = Faker().profile()\n",
        "        prof = Data(**prof)\n",
        "        nt_list.append(prof)\n",
        "\n",
        "    ages, blood, location = [], [], []\n",
        "    for tup in nt_list:\n",
        "        ages.append(relativedelta(date.today(), tup.birthdate).years)\n",
        "        blood.append(tup.blood_group)\n",
        "        location.append(tup.current_location)\n",
        "    oldest_person = max(ages)\n",
        "    highest_blood = max(Counter(blood).items(), key=lambda item: item[1])\n",
        "    mean_location = tuple(map(lambda x: sum(x)/len(x), zip(*location)))\n",
        "    average_age = mean(ages)\n",
        "    Stat = namedtuple('Stat', 'oldest_person, highest_blood, mean_location, average_age')\n",
        "    Stat.__doc__ = '''Statistics of profile data showing the largest present \n",
        "    blood type, mean current location, oldest person age and average age using the namedtuple'''\n",
        "    result = Stat(oldest_person, highest_blood, mean_location, average_age)\n",
        "\n",
        "    return  result\n",
        "\n",
        "nt_result, nt_avg_time = nt_approach(10000)"
      ],
      "execution_count": 10,
      "outputs": []
    },
    {
      "cell_type": "markdown",
      "metadata": {
        "id": "c9isDdyoabj7"
      },
      "source": [
        "### Approach Dictionary"
      ]
    },
    {
      "cell_type": "code",
      "metadata": {
        "id": "8yI0u-s2iR99"
      },
      "source": [
        "@timed(1)\n",
        "def dict_approach(n: 'Number of Profiles') -> 'Dictionary of Statstics':\n",
        "    '''\n",
        "    function generates a profile of a person using faker library and\n",
        "    using dictionary, calculates the largest blood type, mean-current_location,\n",
        "    oldest_person_age and average age.\n",
        "    returns dictionary of the above data.\n",
        "    '''\n",
        "    dict_list = []\n",
        "    for _ in range(n):\n",
        "        prof = Faker().profile()\n",
        "        dict_list.append(prof)\n",
        "\n",
        "    ages, blood, location = [], [], []\n",
        "    for prof in dict_list:\n",
        "        ages.append(relativedelta(date.today(), prof['birthdate']).years)\n",
        "        blood.append(prof['blood_group'])\n",
        "        location.append(prof['current_location'])\n",
        "    oldest_person = max(ages)\n",
        "    highest_blood = max(Counter(blood).items(), key=lambda item: item[1])\n",
        "    mean_location = tuple(map(lambda x: sum(x)/len(x), zip(*location)))\n",
        "    average_age = mean(ages)\n",
        "\n",
        "    return  {'oldest_person': oldest_person, 'highest_blood': highest_blood, 'mean_location': mean_location, 'average_age': average_age}\n",
        "\n",
        "dict_result, dict_avg_time = dict_approach(10000)"
      ],
      "execution_count": 11,
      "outputs": []
    },
    {
      "cell_type": "code",
      "metadata": {
        "id": "XTjpoIZtSR_G",
        "colab": {
          "base_uri": "https://localhost:8080/"
        },
        "outputId": "13e15875-9bfa-4e2a-8527-7114ea6753b2"
      },
      "source": [
        "print('--- Named Tuple ---')\n",
        "print('Named Tuple Result: ', nt_result)\n",
        "print('Named Tuple Approach Average Time: ', nt_avg_time)\n",
        "print('--- Dictionary ---')\n",
        "print('Dictionary Result: ', dict_result)\n",
        "print('Dictionary Approach Average Time: ', dict_avg_time)\n",
        "print('\\n   Which is Faster?\\n   Ans:', ('Named Tuple' if nt_avg_time < dict_avg_time else 'Dictionary'))"
      ],
      "execution_count": 12,
      "outputs": [
        {
          "output_type": "stream",
          "text": [
            "--- Named Tuple ---\n",
            "Named Tuple Result:  Stat(oldest_person=115, highest_blood=('B-', 1295), mean_location=(Decimal('-0.3364912071'), Decimal('-0.9116706165')), average_age=57.2938)\n",
            "Named Tuple Approach Average Time:  Average Time to Run the Function is: 178.215\n",
            "--- Dictionary ---\n",
            "Dictionary Result:  {'oldest_person': 115, 'highest_blood': ('B+', 1302), 'mean_location': (Decimal('0.0833543217'), Decimal('-2.3136397438')), 'average_age': 57.0618}\n",
            "Dictionary Approach Average Time:  Average Time to Run the Function is: 179.132\n",
            "\n",
            "   Which is Faster?\n",
            "   Ans: Named Tuple\n"
          ],
          "name": "stdout"
        }
      ]
    },
    {
      "cell_type": "markdown",
      "metadata": {
        "id": "yy4BfY6PdRgZ"
      },
      "source": [
        "### TSAI Stock Exchange!"
      ]
    },
    {
      "cell_type": "code",
      "metadata": {
        "id": "J6CVnuvacBhT"
      },
      "source": [
        "def simulate_stock(days:'Number of Days to Run Simulation') -> 'Decorator':\n",
        "    '''\n",
        "    function acts as a decorator factory which takes number of days to\n",
        "    simulate the stock exchange.\n",
        "    returns the decorator\n",
        "    '''\n",
        "    def simulate_inner(fn:'Funciton') -> 'closure':\n",
        "        '''\n",
        "        function acts as a decorator which runs the given function for\n",
        "        specified number of days using closure.\n",
        "        returns the closure\n",
        "        '''\n",
        "        def inner(*args, **kwargs):\n",
        "            open, close, high, low = [],[],[],[]\n",
        "            for _ in range(days):\n",
        "                index = fn(*args, **kwargs)\n",
        "                open.append(index.open)\n",
        "                close.append(index.close)\n",
        "                high.append(index.high)\n",
        "                low.append(index.low)\n",
        "            History = namedtuple('History', 'open high low close')\n",
        "            history = History(open, high, low, close)\n",
        "\n",
        "            return history\n",
        "\n",
        "        return inner\n",
        "    \n",
        "    return simulate_inner"
      ],
      "execution_count": 13,
      "outputs": []
    },
    {
      "cell_type": "code",
      "metadata": {
        "id": "SLjB2M2CwDEq"
      },
      "source": [
        "@timed(1)\n",
        "def stock(count: int) -> tuple:\n",
        "    '''\n",
        "    function generates a company stock profile for market value using faker\n",
        "    library and simulates instantaneous market trend.\n",
        "    returns list of comapanies stock profiles and contribution to stock_market.\n",
        "    '''\n",
        "    exc = []  # Parent Stock Exchange List which will contain all the Companies Named Tuples.\n",
        "    Stock = namedtuple(\n",
        "        'Stock', 'index, name, open, high, low, close, contribution, variation')\n",
        "    Stock.__doc__ = \"Company stock profile with current market trend values\"\n",
        "    weights = [random.uniform(0.2, 0.8) for _ in range(100)]\n",
        "    norm_wts = [(x/sum(weights))*100 for x in weights]\n",
        "    index_l = []  # List to store index and maintain all unique indexes.\n",
        "    for i in range(count):\n",
        "        comp_name = Faker().company()\n",
        "        comp_index = ''.join(i[:3] for i in re.split(\n",
        "            '[ -]+', comp_name.replace('and', ' ').upper(), 1))[:5]\n",
        "        while True:\n",
        "            if comp_index not in index_l:\n",
        "                index_l.append(comp_index)\n",
        "                break\n",
        "            comp_index = comp_index[:4] + random.choice(string.ascii_uppercase)\n",
        "        open = random.randint(80, 950)\n",
        "        variations = []\n",
        "        for _ in range(100):  # 100 Times during a Day\n",
        "            variations.append(open * random.uniform(0.5, 1.5))\n",
        "        close = variations[-1]\n",
        "        high = max(variations)\n",
        "        low = min(variations)\n",
        "        comp = Stock(comp_index, comp_name, open,\n",
        "                     high, low, close, norm_wts[i], variations)\n",
        "        exc.append(comp)\n",
        "\n",
        "    return exc"
      ],
      "execution_count": 47,
      "outputs": []
    },
    {
      "cell_type": "markdown",
      "metadata": {
        "id": "ax5mxLgQ2rgQ"
      },
      "source": [
        "#### List of Companies "
      ]
    },
    {
      "cell_type": "code",
      "metadata": {
        "id": "Rpg6RZmj1_TB"
      },
      "source": [
        "df = pd.DataFrame(stock(100)[0], columns= ['Index', 'Name', 'Open', 'High', 'Low', \"Close\", \"Contribution to Index\", \"Variation_in_day\"])"
      ],
      "execution_count": 48,
      "outputs": []
    },
    {
      "cell_type": "code",
      "metadata": {
        "id": "KTLvUZ1m2eBP",
        "colab": {
          "base_uri": "https://localhost:8080/",
          "height": 514
        },
        "outputId": "2f019cb3-0d92-4da9-f503-42e282d453a0"
      },
      "source": [
        "df.head(15)"
      ],
      "execution_count": 49,
      "outputs": [
        {
          "output_type": "execute_result",
          "data": {
            "text/html": [
              "<div>\n",
              "<style scoped>\n",
              "    .dataframe tbody tr th:only-of-type {\n",
              "        vertical-align: middle;\n",
              "    }\n",
              "\n",
              "    .dataframe tbody tr th {\n",
              "        vertical-align: top;\n",
              "    }\n",
              "\n",
              "    .dataframe thead th {\n",
              "        text-align: right;\n",
              "    }\n",
              "</style>\n",
              "<table border=\"1\" class=\"dataframe\">\n",
              "  <thead>\n",
              "    <tr style=\"text-align: right;\">\n",
              "      <th></th>\n",
              "      <th>Index</th>\n",
              "      <th>Name</th>\n",
              "      <th>Open</th>\n",
              "      <th>High</th>\n",
              "      <th>Low</th>\n",
              "      <th>Close</th>\n",
              "      <th>Contribution to Index</th>\n",
              "      <th>Variation_in_day</th>\n",
              "    </tr>\n",
              "  </thead>\n",
              "  <tbody>\n",
              "    <tr>\n",
              "      <th>0</th>\n",
              "      <td>HARRI</td>\n",
              "      <td>Harris-Rice</td>\n",
              "      <td>756</td>\n",
              "      <td>1130.497345</td>\n",
              "      <td>380.748191</td>\n",
              "      <td>606.245829</td>\n",
              "      <td>0.870737</td>\n",
              "      <td>[797.5514740012669, 958.374873086228, 834.0695...</td>\n",
              "    </tr>\n",
              "    <tr>\n",
              "      <th>1</th>\n",
              "      <td>BRORI</td>\n",
              "      <td>Brooks-Rios</td>\n",
              "      <td>80</td>\n",
              "      <td>119.969146</td>\n",
              "      <td>40.141721</td>\n",
              "      <td>100.342226</td>\n",
              "      <td>1.387622</td>\n",
              "      <td>[44.40455462456707, 67.66462981931583, 73.7923...</td>\n",
              "    </tr>\n",
              "    <tr>\n",
              "      <th>2</th>\n",
              "      <td>JENLT</td>\n",
              "      <td>Jenkins Ltd</td>\n",
              "      <td>449</td>\n",
              "      <td>671.990853</td>\n",
              "      <td>224.790602</td>\n",
              "      <td>250.284289</td>\n",
              "      <td>0.738738</td>\n",
              "      <td>[400.76649677952986, 633.7145062526135, 654.96...</td>\n",
              "    </tr>\n",
              "    <tr>\n",
              "      <th>3</th>\n",
              "      <td>MILCO</td>\n",
              "      <td>Miller, Cooper and Schultz</td>\n",
              "      <td>928</td>\n",
              "      <td>1391.728989</td>\n",
              "      <td>466.031914</td>\n",
              "      <td>1298.949570</td>\n",
              "      <td>0.473114</td>\n",
              "      <td>[1168.1564699249982, 466.0319144995051, 1035.7...</td>\n",
              "    </tr>\n",
              "    <tr>\n",
              "      <th>4</th>\n",
              "      <td>JOHHO</td>\n",
              "      <td>Johnson, House and Parker</td>\n",
              "      <td>433</td>\n",
              "      <td>647.660931</td>\n",
              "      <td>216.518914</td>\n",
              "      <td>243.510145</td>\n",
              "      <td>0.523494</td>\n",
              "      <td>[504.32226465521615, 530.6787431483798, 538.41...</td>\n",
              "    </tr>\n",
              "    <tr>\n",
              "      <th>5</th>\n",
              "      <td>GAYGR</td>\n",
              "      <td>Gay Group</td>\n",
              "      <td>697</td>\n",
              "      <td>1042.058151</td>\n",
              "      <td>353.188280</td>\n",
              "      <td>760.542559</td>\n",
              "      <td>0.522514</td>\n",
              "      <td>[820.4591060173011, 834.2922024886398, 802.485...</td>\n",
              "    </tr>\n",
              "    <tr>\n",
              "      <th>6</th>\n",
              "      <td>WILGR</td>\n",
              "      <td>Williams Group</td>\n",
              "      <td>278</td>\n",
              "      <td>412.906324</td>\n",
              "      <td>139.125356</td>\n",
              "      <td>209.747857</td>\n",
              "      <td>0.528887</td>\n",
              "      <td>[368.047644358163, 313.3946023662629, 175.1026...</td>\n",
              "    </tr>\n",
              "    <tr>\n",
              "      <th>7</th>\n",
              "      <td>ATKPL</td>\n",
              "      <td>Atkins PLC</td>\n",
              "      <td>541</td>\n",
              "      <td>806.403396</td>\n",
              "      <td>273.931460</td>\n",
              "      <td>312.149797</td>\n",
              "      <td>0.453188</td>\n",
              "      <td>[535.8506962288093, 617.2425059210359, 509.690...</td>\n",
              "    </tr>\n",
              "    <tr>\n",
              "      <th>8</th>\n",
              "      <td>CARLE</td>\n",
              "      <td>Carroll, Lee and Thomas</td>\n",
              "      <td>833</td>\n",
              "      <td>1246.643455</td>\n",
              "      <td>416.863137</td>\n",
              "      <td>1068.093245</td>\n",
              "      <td>1.359083</td>\n",
              "      <td>[416.8631368746268, 1020.7256963376085, 1114.0...</td>\n",
              "    </tr>\n",
              "    <tr>\n",
              "      <th>9</th>\n",
              "      <td>CRUWI</td>\n",
              "      <td>Cruz, Williams and Skinner</td>\n",
              "      <td>493</td>\n",
              "      <td>737.687082</td>\n",
              "      <td>251.936886</td>\n",
              "      <td>572.378871</td>\n",
              "      <td>1.576423</td>\n",
              "      <td>[310.31989986024973, 567.6139914682736, 328.14...</td>\n",
              "    </tr>\n",
              "    <tr>\n",
              "      <th>10</th>\n",
              "      <td>KINSO</td>\n",
              "      <td>King and Sons</td>\n",
              "      <td>119</td>\n",
              "      <td>177.748050</td>\n",
              "      <td>60.514857</td>\n",
              "      <td>177.285527</td>\n",
              "      <td>0.981944</td>\n",
              "      <td>[154.40007442438136, 99.58235308735324, 95.889...</td>\n",
              "    </tr>\n",
              "    <tr>\n",
              "      <th>11</th>\n",
              "      <td>BARSC</td>\n",
              "      <td>Barrett, Scott and Mcdonald</td>\n",
              "      <td>805</td>\n",
              "      <td>1205.128268</td>\n",
              "      <td>438.289277</td>\n",
              "      <td>1160.062485</td>\n",
              "      <td>0.868153</td>\n",
              "      <td>[477.9730936813467, 510.3958670637307, 873.153...</td>\n",
              "    </tr>\n",
              "    <tr>\n",
              "      <th>12</th>\n",
              "      <td>PERMC</td>\n",
              "      <td>Perez, Mcmahon and Stone</td>\n",
              "      <td>174</td>\n",
              "      <td>260.855757</td>\n",
              "      <td>87.534715</td>\n",
              "      <td>111.851418</td>\n",
              "      <td>0.981453</td>\n",
              "      <td>[96.26624387544265, 106.38572452283303, 102.99...</td>\n",
              "    </tr>\n",
              "    <tr>\n",
              "      <th>13</th>\n",
              "      <td>NELKL</td>\n",
              "      <td>Nelson-Kline</td>\n",
              "      <td>933</td>\n",
              "      <td>1391.687677</td>\n",
              "      <td>472.051899</td>\n",
              "      <td>546.906888</td>\n",
              "      <td>1.324657</td>\n",
              "      <td>[1140.0339179143643, 793.7925832324006, 675.83...</td>\n",
              "    </tr>\n",
              "    <tr>\n",
              "      <th>14</th>\n",
              "      <td>OBRVA</td>\n",
              "      <td>Obrien-Vance</td>\n",
              "      <td>662</td>\n",
              "      <td>963.610029</td>\n",
              "      <td>334.903257</td>\n",
              "      <td>894.086756</td>\n",
              "      <td>1.503327</td>\n",
              "      <td>[813.667683939893, 682.3634645889605, 664.9057...</td>\n",
              "    </tr>\n",
              "  </tbody>\n",
              "</table>\n",
              "</div>"
            ],
            "text/plain": [
              "    Index  ...                                   Variation_in_day\n",
              "0   HARRI  ...  [797.5514740012669, 958.374873086228, 834.0695...\n",
              "1   BRORI  ...  [44.40455462456707, 67.66462981931583, 73.7923...\n",
              "2   JENLT  ...  [400.76649677952986, 633.7145062526135, 654.96...\n",
              "3   MILCO  ...  [1168.1564699249982, 466.0319144995051, 1035.7...\n",
              "4   JOHHO  ...  [504.32226465521615, 530.6787431483798, 538.41...\n",
              "5   GAYGR  ...  [820.4591060173011, 834.2922024886398, 802.485...\n",
              "6   WILGR  ...  [368.047644358163, 313.3946023662629, 175.1026...\n",
              "7   ATKPL  ...  [535.8506962288093, 617.2425059210359, 509.690...\n",
              "8   CARLE  ...  [416.8631368746268, 1020.7256963376085, 1114.0...\n",
              "9   CRUWI  ...  [310.31989986024973, 567.6139914682736, 328.14...\n",
              "10  KINSO  ...  [154.40007442438136, 99.58235308735324, 95.889...\n",
              "11  BARSC  ...  [477.9730936813467, 510.3958670637307, 873.153...\n",
              "12  PERMC  ...  [96.26624387544265, 106.38572452283303, 102.99...\n",
              "13  NELKL  ...  [1140.0339179143643, 793.7925832324006, 675.83...\n",
              "14  OBRVA  ...  [813.667683939893, 682.3634645889605, 664.9057...\n",
              "\n",
              "[15 rows x 8 columns]"
            ]
          },
          "metadata": {
            "tags": []
          },
          "execution_count": 49
        }
      ]
    },
    {
      "cell_type": "code",
      "metadata": {
        "id": "zoRNoBLyVufD"
      },
      "source": [
        "@timed(1)\n",
        "@simulate_stock(10)\n",
        "def tsai_index(num_comp:'Number of Companies') -> 'The Index Fund':\n",
        "    \"\"\"\n",
        "    Generates and gives the Index open, high and close of a \n",
        "    small stock exchange simulation of listed stocks.\n",
        "    input: num_comp, number of companies in the exchange\n",
        "    output: namedtuple('TSAIEX', 'Open High Low Close')\n",
        "    \"\"\"\n",
        "    TSAI = namedtuple('TSAI', 'open high low close')\n",
        "    TSAI.__doc__ = 'Shows the market trend as whole.'\n",
        "    open, high, low, close = 0,0,0,0\n",
        "    companies, comapnies_avg_time = stock(num_comp)\n",
        "    for i in companies:\n",
        "        open += round(i.open * i.contribution)\n",
        "        high += round(i.high * i.contribution)\n",
        "        low += round(i.low * i.contribution)\n",
        "        close += round(i.close * i.contribution)\n",
        "    #Index Checks:\n",
        "    high = close if close > high else high\n",
        "    low = close if close < low else low\n",
        "    tsai_index = TSAI(open, high, low, close)\n",
        "\n",
        "    return tsai_index"
      ],
      "execution_count": 50,
      "outputs": []
    },
    {
      "cell_type": "markdown",
      "metadata": {
        "id": "pEG4wIRV20Gl"
      },
      "source": [
        "#### Index Simulation"
      ]
    },
    {
      "cell_type": "code",
      "metadata": {
        "id": "88WRQzexyBAu"
      },
      "source": [
        "index, avg_time = tsai_index(100)"
      ],
      "execution_count": 51,
      "outputs": []
    },
    {
      "cell_type": "code",
      "metadata": {
        "id": "C3RUWNl-zm5U",
        "colab": {
          "base_uri": "https://localhost:8080/"
        },
        "outputId": "c963cfbf-9743-4dbf-9f8a-3384a6bc8b68"
      },
      "source": [
        "index"
      ],
      "execution_count": 52,
      "outputs": [
        {
          "output_type": "execute_result",
          "data": {
            "text/plain": [
              "History(open=[49284, 50948, 47238, 55989, 53219, 49397, 55521, 54562, 49900, 48880], high=[73517, 75998, 70493, 83407, 79314, 73546, 82751, 81294, 74350, 72816], low=[25175, 26088, 24170, 28553, 27143, 25274, 28247, 27886, 25442, 24866], close=[46417, 47475, 45291, 56349, 53205, 47675, 55613, 54409, 49593, 49401])"
            ]
          },
          "metadata": {
            "tags": []
          },
          "execution_count": 52
        }
      ]
    },
    {
      "cell_type": "code",
      "metadata": {
        "id": "PQ-3MkQjySCV",
        "colab": {
          "base_uri": "https://localhost:8080/",
          "height": 514
        },
        "outputId": "a2a0d61f-631e-44ac-b99c-515dc5374a4e"
      },
      "source": [
        "plt.figure(figsize=(12,8))\n",
        "plt.plot(index.open, 'r', index.high, 'g', index.low, 'y', index.close, 'b')\n",
        "plt.legend('OHLC')\n",
        "plt.xlabel('Days')\n",
        "plt.ylabel('₨')"
      ],
      "execution_count": 54,
      "outputs": [
        {
          "output_type": "execute_result",
          "data": {
            "text/plain": [
              "Text(0, 0.5, '₨')"
            ]
          },
          "metadata": {
            "tags": []
          },
          "execution_count": 54
        },
        {
          "output_type": "display_data",
          "data": {
            "image/png": "[encoded data removed]",
            "text/plain": [
              "<Figure size 864x576 with 1 Axes>"
            ]
          },
          "metadata": {
            "tags": [],
            "needs_background": "light"
          }
        }
      ]
    },
    {
      "cell_type": "code",
      "metadata": {
        "id": "IJRJsbPZ35YP"
      },
      "source": [
        ""
      ],
      "execution_count": null,
      "outputs": []
    }
  ]
}