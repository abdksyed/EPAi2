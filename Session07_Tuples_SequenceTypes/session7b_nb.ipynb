{
  "nbformat": 4,
  "nbformat_minor": 0,
  "metadata": {
    "colab": {
      "name": "session7b_nb.ipynb",
      "provenance": [],
      "collapsed_sections": [],
      "authorship_tag": "ABX9TyP/UuNl3yu5pmhFkRnt4oyP",
      "include_colab_link": true
    },
    "kernelspec": {
      "name": "python3",
      "display_name": "Python 3"
    }
  },
  "cells": [
    {
      "cell_type": "markdown",
      "metadata": {
        "id": "view-in-github",
        "colab_type": "text"
      },
      "source": [
        "<a href=\"https://colab.research.google.com/github/abdksyed/EPAi2/blob/main/Session07_Tuples_SequenceTypes/session7b_nb.ipynb\" target=\"_parent\"><img src=\"https://colab.research.google.com/assets/colab-badge.svg\" alt=\"Open In Colab\"/></a>"
      ]
    },
    {
      "cell_type": "code",
      "metadata": {
        "colab": {
          "base_uri": "https://localhost:8080/"
        },
        "id": "zqP857OCBSz2",
        "outputId": "e578e8a3-93a3-4839-995a-29348bf2657a"
      },
      "source": [
        "from session7b_1 import Polygon \r\n",
        "from session7b_2 import PolySeq"
      ],
      "execution_count": null,
      "outputs": [
        {
          "output_type": "stream",
          "text": [
            "[<Polygon Object at 0x7f172a610210> with 5 sides and Circmradius of 5, <Polygon Object at 0x7f172a610310> with 7 sides and Circmradius of 5, <Polygon Object at 0x7f172a554e50> with 9 sides and Circmradius of 5, <Polygon Object at 0x7f172a554e10> with 11 sides and Circmradius of 5, <Polygon Object at 0x7f172a554f90> with 13 sides and Circmradius of 5, <Polygon Object at 0x7f172a554910> with 15 sides and Circmradius of 5]\n",
            "{25: 2.4802867532861947}\n",
            "23\n"
          ],
          "name": "stdout"
        }
      ]
    },
    {
      "cell_type": "markdown",
      "metadata": {
        "id": "zfkXgXh_CMz_"
      },
      "source": [
        "## Testing Polygon Class"
      ]
    },
    {
      "cell_type": "code",
      "metadata": {
        "id": "X6ynIflaB7r0"
      },
      "source": [
        "pentagon = Polygon(vertices=5,circumradius=10)\r\n",
        "hexagon = Polygon(vertices=6,circumradius=12)\r\n",
        "square = Polygon(vertices=4,circumradius=7)"
      ],
      "execution_count": null,
      "outputs": []
    },
    {
      "cell_type": "code",
      "metadata": {
        "colab": {
          "base_uri": "https://localhost:8080/"
        },
        "id": "Wpu07armCTNT",
        "outputId": "5ddacb11-b0d4-4a64-cb9c-2cc5223075d3"
      },
      "source": [
        "pentagon.edges, hexagon.edges, square.edges"
      ],
      "execution_count": null,
      "outputs": [
        {
          "output_type": "execute_result",
          "data": {
            "text/plain": [
              "(5, 6, 4)"
            ]
          },
          "metadata": {
            "tags": []
          },
          "execution_count": 3
        }
      ]
    },
    {
      "cell_type": "code",
      "metadata": {
        "colab": {
          "base_uri": "https://localhost:8080/"
        },
        "id": "HPcFb4TuCb8I",
        "outputId": "13658e73-a885-4c95-98e0-6d3465dd1674"
      },
      "source": [
        "pentagon.circumradius, hexagon.circumradius, square.circumradius"
      ],
      "execution_count": null,
      "outputs": [
        {
          "output_type": "execute_result",
          "data": {
            "text/plain": [
              "(10, 12, 7)"
            ]
          },
          "metadata": {
            "tags": []
          },
          "execution_count": 4
        }
      ]
    },
    {
      "cell_type": "code",
      "metadata": {
        "colab": {
          "base_uri": "https://localhost:8080/"
        },
        "id": "S-1kBkHZCek7",
        "outputId": "60b9ee0e-e171-4c51-d2b5-7b7ee25fa372"
      },
      "source": [
        "pentagon.area, hexagon.area, square.area"
      ],
      "execution_count": null,
      "outputs": [
        {
          "output_type": "execute_result",
          "data": {
            "text/plain": [
              "(237.77009464679705, 374.1229744348775, 97.99510037751887)"
            ]
          },
          "metadata": {
            "tags": []
          },
          "execution_count": 5
        }
      ]
    },
    {
      "cell_type": "code",
      "metadata": {
        "colab": {
          "base_uri": "https://localhost:8080/"
        },
        "id": "OtuwrhkECfvD",
        "outputId": "fea2bf17-c747-49b3-dea7-7b6d16022d47"
      },
      "source": [
        "pentagon.apothem, hexagon.apothem, square.apothem"
      ],
      "execution_count": null,
      "outputs": [
        {
          "output_type": "execute_result",
          "data": {
            "text/plain": [
              "(8.090169943749475, 10.392304845413264, 4.949747468305833)"
            ]
          },
          "metadata": {
            "tags": []
          },
          "execution_count": 6
        }
      ]
    },
    {
      "cell_type": "code",
      "metadata": {
        "colab": {
          "base_uri": "https://localhost:8080/"
        },
        "id": "Y3qRwiy2Ch2R",
        "outputId": "344ab6f7-156c-4f9c-c567-d442814ea677"
      },
      "source": [
        "pentagon.interior_angle, hexagon.interior_angle, square.interior_angle"
      ],
      "execution_count": null,
      "outputs": [
        {
          "output_type": "execute_result",
          "data": {
            "text/plain": [
              "(108.0, 120.0, 90.0)"
            ]
          },
          "metadata": {
            "tags": []
          },
          "execution_count": 7
        }
      ]
    },
    {
      "cell_type": "code",
      "metadata": {
        "colab": {
          "base_uri": "https://localhost:8080/"
        },
        "id": "Qe7gHTBSCkBX",
        "outputId": "cf1de6e4-7a67-4361-dd0f-7f3bcb350352"
      },
      "source": [
        "pentagon.edge_len, hexagon.edge_len, square.edge_len"
      ],
      "execution_count": null,
      "outputs": [
        {
          "output_type": "execute_result",
          "data": {
            "text/plain": [
              "(11.756, 12.0, 9.899)"
            ]
          },
          "metadata": {
            "tags": []
          },
          "execution_count": 8
        }
      ]
    },
    {
      "cell_type": "code",
      "metadata": {
        "colab": {
          "base_uri": "https://localhost:8080/"
        },
        "id": "DYC-Ze_nCsZN",
        "outputId": "c674b6f5-ffe8-42bb-ecbc-6a917245995b"
      },
      "source": [
        "pentagon.perimeter, hexagon.perimeter, square.perimeter"
      ],
      "execution_count": null,
      "outputs": [
        {
          "output_type": "execute_result",
          "data": {
            "text/plain": [
              "(58.78, 72.0, 39.596)"
            ]
          },
          "metadata": {
            "tags": []
          },
          "execution_count": 9
        }
      ]
    },
    {
      "cell_type": "code",
      "metadata": {
        "colab": {
          "base_uri": "https://localhost:8080/"
        },
        "id": "nl5jBOAQCuvh",
        "outputId": "ed06438d-f2e8-496d-9cdd-1c78379c7675"
      },
      "source": [
        "print(pentagon)"
      ],
      "execution_count": null,
      "outputs": [
        {
          "output_type": "stream",
          "text": [
            "<Polygon Object at 0x7f1729d04ed0> with 5 sides and Circmradius of 10\n"
          ],
          "name": "stdout"
        }
      ]
    },
    {
      "cell_type": "code",
      "metadata": {
        "colab": {
          "base_uri": "https://localhost:8080/"
        },
        "id": "koqo9EYfDhFV",
        "outputId": "66b58634-5ebe-49e7-b3c6-c3f2f9c0213e"
      },
      "source": [
        "print(hexagon)"
      ],
      "execution_count": null,
      "outputs": [
        {
          "output_type": "stream",
          "text": [
            "<Polygon Object at 0x7f1729d04f90> with 6 sides and Circmradius of 12\n"
          ],
          "name": "stdout"
        }
      ]
    },
    {
      "cell_type": "code",
      "metadata": {
        "colab": {
          "base_uri": "https://localhost:8080/"
        },
        "id": "-qfYHXe1DiBz",
        "outputId": "0f4b5524-a67a-4ba0-87bd-2e5016b70b62"
      },
      "source": [
        "pentagon == hexagon"
      ],
      "execution_count": null,
      "outputs": [
        {
          "output_type": "execute_result",
          "data": {
            "text/plain": [
              "False"
            ]
          },
          "metadata": {
            "tags": []
          },
          "execution_count": 12
        }
      ]
    },
    {
      "cell_type": "code",
      "metadata": {
        "colab": {
          "base_uri": "https://localhost:8080/"
        },
        "id": "G-okkpDODkDh",
        "outputId": "ae759fb7-015b-42e1-d6cb-f91b495c8091"
      },
      "source": [
        "pentagon_2 = Polygon(5,10)\r\n",
        "pentagon == pentagon_2"
      ],
      "execution_count": null,
      "outputs": [
        {
          "output_type": "execute_result",
          "data": {
            "text/plain": [
              "True"
            ]
          },
          "metadata": {
            "tags": []
          },
          "execution_count": 13
        }
      ]
    },
    {
      "cell_type": "code",
      "metadata": {
        "colab": {
          "base_uri": "https://localhost:8080/"
        },
        "id": "CJRpDU7qDnlz",
        "outputId": "e1ee1b67-f1ae-49a5-ff4e-744f859d2a63"
      },
      "source": [
        "pentagon > hexagon"
      ],
      "execution_count": null,
      "outputs": [
        {
          "output_type": "execute_result",
          "data": {
            "text/plain": [
              "False"
            ]
          },
          "metadata": {
            "tags": []
          },
          "execution_count": 14
        }
      ]
    },
    {
      "cell_type": "code",
      "metadata": {
        "colab": {
          "base_uri": "https://localhost:8080/"
        },
        "id": "So9HrYqODp0c",
        "outputId": "8557c9fa-ed73-4a2a-82f1-ac96ba64621e"
      },
      "source": [
        "pentagon < hexagon"
      ],
      "execution_count": null,
      "outputs": [
        {
          "output_type": "execute_result",
          "data": {
            "text/plain": [
              "True"
            ]
          },
          "metadata": {
            "tags": []
          },
          "execution_count": 15
        }
      ]
    },
    {
      "cell_type": "code",
      "metadata": {
        "colab": {
          "base_uri": "https://localhost:8080/"
        },
        "id": "cTmFKyEBDrI7",
        "outputId": "0db5efb6-7041-4688-b3d9-786c53014d90"
      },
      "source": [
        "pentagon > pentagon_2"
      ],
      "execution_count": null,
      "outputs": [
        {
          "output_type": "execute_result",
          "data": {
            "text/plain": [
              "False"
            ]
          },
          "metadata": {
            "tags": []
          },
          "execution_count": 16
        }
      ]
    },
    {
      "cell_type": "code",
      "metadata": {
        "colab": {
          "base_uri": "https://localhost:8080/"
        },
        "id": "MZf7Bs98Dske",
        "outputId": "a0ea6ebb-680d-4f61-b33a-3c5decda751e"
      },
      "source": [
        "pentagon >= pentagon_2"
      ],
      "execution_count": null,
      "outputs": [
        {
          "output_type": "execute_result",
          "data": {
            "text/plain": [
              "True"
            ]
          },
          "metadata": {
            "tags": []
          },
          "execution_count": 17
        }
      ]
    },
    {
      "cell_type": "markdown",
      "metadata": {
        "id": "QKLROxWDDvlP"
      },
      "source": [
        "## Polygon Sequence Class"
      ]
    },
    {
      "cell_type": "code",
      "metadata": {
        "id": "dIPxHkTaDuUK"
      },
      "source": [
        "pol25 = PolySeq(max_sides=25,common_circumradius=10)"
      ],
      "execution_count": null,
      "outputs": []
    },
    {
      "cell_type": "code",
      "metadata": {
        "colab": {
          "base_uri": "https://localhost:8080/"
        },
        "id": "XoumbtScD6LZ",
        "outputId": "711e3be1-48a2-40d1-de2d-753dc7eb759e"
      },
      "source": [
        "pol25[5]"
      ],
      "execution_count": null,
      "outputs": [
        {
          "output_type": "execute_result",
          "data": {
            "text/plain": [
              "<Polygon Object at 0x7f1729cb81d0> with 5 sides and Circmradius of 10"
            ]
          },
          "metadata": {
            "tags": []
          },
          "execution_count": 19
        }
      ]
    },
    {
      "cell_type": "code",
      "metadata": {
        "colab": {
          "base_uri": "https://localhost:8080/"
        },
        "id": "AKhzkWLBD_nt",
        "outputId": "d53722db-dac4-41ad-f434-d97954212dc6"
      },
      "source": [
        "pol25[5:15:2]"
      ],
      "execution_count": null,
      "outputs": [
        {
          "output_type": "execute_result",
          "data": {
            "text/plain": [
              "[<Polygon Object at 0x7f1729cb8c50> with 5 sides and Circmradius of 10,\n",
              " <Polygon Object at 0x7f1729cb8c90> with 7 sides and Circmradius of 10,\n",
              " <Polygon Object at 0x7f1729cb8cd0> with 9 sides and Circmradius of 10,\n",
              " <Polygon Object at 0x7f1729cb8d10> with 11 sides and Circmradius of 10,\n",
              " <Polygon Object at 0x7f1729cb8d50> with 13 sides and Circmradius of 10,\n",
              " <Polygon Object at 0x7f1729cb8dd0> with 15 sides and Circmradius of 10]"
            ]
          },
          "metadata": {
            "tags": []
          },
          "execution_count": 20
        }
      ]
    },
    {
      "cell_type": "code",
      "metadata": {
        "colab": {
          "base_uri": "https://localhost:8080/"
        },
        "id": "nMow87J1EDc_",
        "outputId": "c121efe7-2027-4a66-ae09-defba1eb5c74"
      },
      "source": [
        "for i in pol25[5:15]:\r\n",
        "    print(i.edges, i.area, i.perimeter)"
      ],
      "execution_count": null,
      "outputs": [
        {
          "output_type": "stream",
          "text": [
            "5 237.77009464679705 58.78\n",
            "6 259.8076211353316 60.0\n",
            "7 273.6512742480018 60.74600000000001\n",
            "8 282.8549576736556 61.232\n",
            "9 289.23738867790263 61.56\n",
            "10 293.8764635352024 61.8\n",
            "11 297.37085984747307 61.985\n",
            "12 299.9779246123331 62.112\n",
            "13 302.0502899830705 62.217999999999996\n",
            "14 303.6900446446381 62.300000000000004\n",
            "15 305.0353292888373 62.370000000000005\n"
          ],
          "name": "stdout"
        }
      ]
    },
    {
      "cell_type": "code",
      "metadata": {
        "colab": {
          "base_uri": "https://localhost:8080/"
        },
        "id": "8bZVbXjlEM07",
        "outputId": "4bcd074e-f162-4ddf-f5b5-ab41ee7e422a"
      },
      "source": [
        "pol25.max_eff"
      ],
      "execution_count": null,
      "outputs": [
        {
          "output_type": "execute_result",
          "data": {
            "text/plain": [
              "{25: 4.9605735065723895}"
            ]
          },
          "metadata": {
            "tags": []
          },
          "execution_count": 22
        }
      ]
    },
    {
      "cell_type": "code",
      "metadata": {
        "id": "D3j_Ab90ETpk"
      },
      "source": [
        ""
      ],
      "execution_count": null,
      "outputs": []
    }
  ]
}