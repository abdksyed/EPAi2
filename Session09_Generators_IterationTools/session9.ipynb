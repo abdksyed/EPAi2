{
  "nbformat": 4,
  "nbformat_minor": 0,
  "metadata": {
    "colab": {
      "name": "session8.ipynb",
      "provenance": [],
      "toc_visible": true,
      "include_colab_link": true
    },
    "kernelspec": {
      "name": "python3",
      "display_name": "Python 3.9.1 64-bit",
      "metadata": {
        "interpreter": {
          "hash": "63fd5069d213b44bf678585dea6b12cceca9941eaf7f819626cde1f2670de90d"
        }
      }
    }
  },
  "cells": [
    {
      "cell_type": "code",
      "execution_count": 1,
      "metadata": {},
      "outputs": [],
      "source": [
        "from session9 import ticket_gen, violations_per_carmake\n",
        "            "
      ]
    },
    {
      "cell_type": "code",
      "execution_count": 2,
      "metadata": {
        "tags": []
      },
      "outputs": [],
      "source": [
        "sample_tickets = ticket_gen()"
      ]
    },
    {
      "cell_type": "code",
      "execution_count": 3,
      "metadata": {},
      "outputs": [
        {
          "output_type": "stream",
          "name": "stdout",
          "text": [
            "Parking(SummonsNumber=4006478550, PlateID='VAD7274', RegistrationState='VA', PlateType='PAS', IssueDate=datetime.date(2016, 10, 5), ViolationCode=5, VehicleBodyType='4D', VehicleMake='BMW', ViolationDescription='BUS LANE VIOLATION')\n\nParking(SummonsNumber=4006462396, PlateID='22834JK', RegistrationState='NY', PlateType='COM', IssueDate=datetime.date(2016, 9, 30), ViolationCode=5, VehicleBodyType='VAN', VehicleMake='CHEVR', ViolationDescription='BUS LANE VIOLATION')\n\nParking(SummonsNumber=4007117810, PlateID='21791MG', RegistrationState='NY', PlateType='COM', IssueDate=datetime.date(2017, 4, 10), ViolationCode=5, VehicleBodyType='VAN', VehicleMake='DODGE', ViolationDescription='BUS LANE VIOLATION')\n\nParking(SummonsNumber=4006265037, PlateID='FZX9232', RegistrationState='NY', PlateType='PAS', IssueDate=datetime.date(2016, 8, 23), ViolationCode=5, VehicleBodyType='SUBN', VehicleMake='FORD', ViolationDescription='BUS LANE VIOLATION')\n\nParking(SummonsNumber=4006535600, PlateID='N203399C', RegistrationState='NY', PlateType='OMT', IssueDate=datetime.date(2016, 10, 19), ViolationCode=5, VehicleBodyType='SUBN', VehicleMake='FORD', ViolationDescription='BUS LANE VIOLATION')\n\nParking(SummonsNumber=4007156700, PlateID='92163MG', RegistrationState='NY', PlateType='COM', IssueDate=datetime.date(2017, 4, 13), ViolationCode=5, VehicleBodyType='VAN', VehicleMake='FRUEH', ViolationDescription='BUS LANE VIOLATION')\n\nParking(SummonsNumber=4006687989, PlateID='MIQ600', RegistrationState='SC', PlateType='PAS', IssueDate=datetime.date(2016, 11, 21), ViolationCode=5, VehicleBodyType='VN', VehicleMake='HONDA', ViolationDescription='BUS LANE VIOLATION')\n\n"
          ]
        }
      ],
      "source": [
        "for _ in range(7):\n",
        "    print(next(sample_tickets))\n",
        "    print('')"
      ]
    },
    {
      "cell_type": "code",
      "execution_count": 4,
      "metadata": {},
      "outputs": [],
      "source": [
        "tickets = ticket_gen()"
      ]
    },
    {
      "cell_type": "code",
      "execution_count": 5,
      "metadata": {},
      "outputs": [],
      "source": [
        "violations_carmake = violations_per_carmake(tickets)"
      ]
    },
    {
      "cell_type": "code",
      "execution_count": 6,
      "metadata": {},
      "outputs": [
        {
          "output_type": "stream",
          "name": "stdout",
          "text": [
            "('TOYOT', 112)\n('HONDA', 106)\n('FORD', 104)\n('CHEVR', 76)\n('NISSA', 70)\n('DODGE', 45)\n('FRUEH', 44)\n('ME/BE', 38)\n('GMC', 35)\n('HYUND', 35)\n('BMW', 34)\n('LEXUS', 26)\n('INTER', 25)\n('JEEP', 22)\n('NS/OT', 18)\n('SUBAR', 18)\n('INFIN', 13)\n('LINCO', 12)\n('CHRYS', 12)\n('ACURA', 12)\n('AUDI', 12)\n('VOLVO', 12)\n('MITSU', 11)\n('ISUZU', 10)\n('CADIL', 9)\n('KIA', 8)\n('VOLKS', 8)\n('HIN', 6)\n('KENWO', 5)\n('ROVER', 5)\n('BUICK', 5)\n('MAZDA', 5)\n('MERCU', 4)\n('JAGUA', 3)\n('SMART', 3)\n('PORSC', 3)\n('WORKH', 2)\n('SATUR', 2)\n('SCION', 2)\n('SAAB', 2)\n('HINO', 2)\n('FIR', 1)\n('OLDSM', 1)\n('PETER', 1)\n('CITRO', 1)\n('GEO', 1)\n('YAMAH', 1)\n('BSA', 1)\n('MINI', 1)\n('PONTI', 1)\n('SPRI', 1)\n('PLYMO', 1)\n('UPS', 1)\n('FIAT', 1)\n('UD', 1)\n('UTILI', 1)\n('GMCQ', 1)\n('STAR', 1)\n('AM/T', 1)\n('MI/F', 1)\n"
          ]
        }
      ],
      "source": [
        "#Decresing order of Violations by Car Make\n",
        "for i in violations_carmake:\n",
        "    print(i)"
      ]
    }
  ]
}