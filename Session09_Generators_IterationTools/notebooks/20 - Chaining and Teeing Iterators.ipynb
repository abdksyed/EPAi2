{
  "cells": [
    {
      "cell_type": "markdown",
      "source": "### Chaining and Teeing Iterators",
      "metadata": {
        "cell_id": "00000-44617301-5443-423f-8215-b4639311c90a",
        "deepnote_cell_type": "markdown"
      }
    },
    {
      "cell_type": "code",
      "metadata": {
        "collapsed": true,
        "cell_id": "00002-7d00e7b2-8e0d-48ca-a5d1-7ea1e08a0305",
        "is_code_hidden": false,
        "deepnote_to_be_reexecuted": false,
        "source_hash": "3ae7d5d",
        "execution_start": 1616816093357,
        "execution_millis": 1,
        "deepnote_cell_type": "code"
      },
      "source": "l1 = (i**2 for i in range(4))\nl2 = (i**2 for i in range(4, 8))\nl3 = (i**2 for i in range(8, 12))",
      "execution_count": 1,
      "outputs": []
    },
    {
      "cell_type": "code",
      "metadata": {
        "cell_id": "00004-010c5567-f3b5-4cc9-865a-88dfc08ca8c9",
        "output_cleared": false,
        "source_hash": "b4f09029",
        "is_code_hidden": false,
        "deepnote_to_be_reexecuted": false,
        "execution_start": 1616816106919,
        "execution_millis": 0,
        "deepnote_cell_type": "code"
      },
      "source": "for gen in (l1, l2, l3):\n    for item in gen:\n        print(item)",
      "execution_count": 2,
      "outputs": [
        {
          "name": "stdout",
          "text": "0\n1\n4\n9\n16\n25\n36\n49\n64\n81\n100\n121\n",
          "output_type": "stream"
        }
      ]
    },
    {
      "cell_type": "code",
      "metadata": {
        "collapsed": true,
        "cell_id": "00006-231a5372-fe02-4c18-b1c0-657522d6b52d",
        "is_code_hidden": false,
        "deepnote_to_be_reexecuted": false,
        "source_hash": "604011aa",
        "execution_start": 1616816125355,
        "execution_millis": 2,
        "deepnote_cell_type": "code"
      },
      "source": "def chain_iterables(*iterables):\n    for iterable in iterables:\n        yield from iterable",
      "execution_count": 3,
      "outputs": []
    },
    {
      "cell_type": "code",
      "metadata": {
        "cell_id": "00007-a5cccfc6-84d3-41df-9f19-316b3f8cf7ec",
        "output_cleared": false,
        "source_hash": "7528067f",
        "is_code_hidden": false,
        "deepnote_to_be_reexecuted": false,
        "execution_start": 1616816134126,
        "execution_millis": 4,
        "deepnote_cell_type": "code"
      },
      "source": "l1 = (i**2 for i in range(4))\nl2 = (i**2 for i in range(4, 8))\nl3 = (i**2 for i in range(8, 12))\n\nfor item in chain_iterables(l1, l2, l3):\n    print(item)",
      "execution_count": 4,
      "outputs": [
        {
          "name": "stdout",
          "text": "0\n1\n4\n9\n16\n25\n36\n49\n64\n81\n100\n121\n",
          "output_type": "stream"
        }
      ]
    },
    {
      "cell_type": "code",
      "metadata": {
        "collapsed": true,
        "cell_id": "00009-90e3df0e-121e-4a18-a920-7cb1ccbd9c8b",
        "is_code_hidden": false,
        "deepnote_to_be_reexecuted": false,
        "source_hash": "2a0604b7",
        "execution_start": 1616816142249,
        "execution_millis": 3,
        "deepnote_cell_type": "code"
      },
      "source": "from itertools import chain",
      "execution_count": 5,
      "outputs": []
    },
    {
      "cell_type": "code",
      "metadata": {
        "cell_id": "00010-5e316ca1-924b-42b8-8fe4-601698140db5",
        "output_cleared": false,
        "source_hash": "346a58c7",
        "is_code_hidden": false,
        "deepnote_to_be_reexecuted": false,
        "execution_start": 1616816154258,
        "execution_millis": 7,
        "deepnote_cell_type": "code"
      },
      "source": "l1 = (i**2 for i in range(4))\nl2 = (i**2 for i in range(4, 8))\nl3 = (i**2 for i in range(8, 12))\n\nfor item in chain(l1, l2, l3):\n    print(item)",
      "execution_count": 6,
      "outputs": [
        {
          "name": "stdout",
          "text": "0\n1\n4\n9\n16\n25\n36\n49\n64\n81\n100\n121\n",
          "output_type": "stream"
        }
      ]
    },
    {
      "cell_type": "code",
      "metadata": {
        "cell_id": "00012-7927bf0a-f416-4631-b59b-cf91a10f37bb",
        "output_cleared": false,
        "source_hash": "30ef1d94",
        "is_code_hidden": false,
        "deepnote_to_be_reexecuted": false,
        "execution_start": 1616816172492,
        "execution_millis": 6,
        "deepnote_cell_type": "code"
      },
      "source": "l1 = (i**2 for i in range(4))\nl2 = (i**2 for i in range(4, 8))\nl3 = (i**2 for i in range(8, 12))\n\nlists = [l1, l2, l3]\nfor item in chain(lists):\n    print(item)",
      "execution_count": 7,
      "outputs": [
        {
          "name": "stdout",
          "text": "<generator object <genexpr> at 0x7fd61d8ffbd0>\n<generator object <genexpr> at 0x7fd61d8ff850>\n<generator object <genexpr> at 0x7fd61d8ff950>\n",
          "output_type": "stream"
        }
      ]
    },
    {
      "cell_type": "code",
      "metadata": {
        "cell_id": "00014-1e664358-99a1-4e61-a760-4d44bb1f0eb4",
        "output_cleared": false,
        "source_hash": "84b4a833",
        "is_code_hidden": false,
        "deepnote_to_be_reexecuted": false,
        "execution_start": 1616816187958,
        "execution_millis": 5,
        "deepnote_cell_type": "code"
      },
      "source": "l1 = (i**2 for i in range(4))\nl2 = (i**2 for i in range(4, 8))\nl3 = (i**2 for i in range(8, 12))\n\nlists = [l1, l2, l3]\nfor item in chain(lists):\n    for i in item:\n        print(i)",
      "execution_count": 8,
      "outputs": [
        {
          "name": "stdout",
          "text": "0\n1\n4\n9\n16\n25\n36\n49\n64\n81\n100\n121\n",
          "output_type": "stream"
        }
      ]
    },
    {
      "cell_type": "code",
      "metadata": {
        "cell_id": "00016-8542b4b0-f079-481d-8d31-a3a3afe7cdc4",
        "output_cleared": false,
        "source_hash": "d40dd594",
        "is_code_hidden": false,
        "deepnote_to_be_reexecuted": false,
        "execution_start": 1616816203141,
        "execution_millis": 8,
        "deepnote_cell_type": "code"
      },
      "source": "l1 = (i**2 for i in range(4))\nl2 = (i**2 for i in range(4, 8))\nl3 = (i**2 for i in range(8, 12))\n\nlists = [l1, l2, l3]\nfor item in chain(*lists):\n    print(item)",
      "execution_count": 9,
      "outputs": [
        {
          "name": "stdout",
          "text": "0\n1\n4\n9\n16\n25\n36\n49\n64\n81\n100\n121\n",
          "output_type": "stream"
        }
      ]
    },
    {
      "cell_type": "code",
      "metadata": {
        "collapsed": true,
        "cell_id": "00018-e43d04fe-6f3a-483f-8a51-19bb3845a0b2",
        "is_code_hidden": false,
        "deepnote_to_be_reexecuted": false,
        "source_hash": "3195b6a",
        "execution_start": 1616816213451,
        "execution_millis": 1,
        "deepnote_cell_type": "code"
      },
      "source": "def squares():\n    yield (i**2 for i in range(4))\n    yield (i**2 for i in range(4, 8))\n    yield (i**2 for i in range(8, 12))",
      "execution_count": 10,
      "outputs": []
    },
    {
      "cell_type": "code",
      "metadata": {
        "cell_id": "00019-100ef3ee-ecb0-4313-b3fa-8085b6beebc9",
        "output_cleared": false,
        "source_hash": "843c53ea",
        "is_code_hidden": false,
        "deepnote_to_be_reexecuted": false,
        "execution_start": 1616816217912,
        "execution_millis": 6,
        "deepnote_cell_type": "code"
      },
      "source": "for item in chain(*squares()):\n    print(item)",
      "execution_count": 11,
      "outputs": [
        {
          "name": "stdout",
          "text": "0\n1\n4\n9\n16\n25\n36\n49\n64\n81\n100\n121\n",
          "output_type": "stream"
        }
      ]
    },
    {
      "cell_type": "code",
      "metadata": {
        "collapsed": true,
        "cell_id": "00021-f463169a-23a8-4e42-94a6-26c04a55630b",
        "is_code_hidden": false,
        "deepnote_to_be_reexecuted": false,
        "source_hash": "b846d90c",
        "execution_start": 1616816229231,
        "execution_millis": 5,
        "deepnote_cell_type": "code"
      },
      "source": "def squares():\n    print('yielding 1st item')\n    yield (i**2 for i in range(4))\n    print('yielding 2nd item')\n    yield (i**2 for i in range(4, 8))\n    print('yielding 3rd item')\n    yield (i**2 for i in range(8, 12))",
      "execution_count": 12,
      "outputs": []
    },
    {
      "cell_type": "code",
      "metadata": {
        "collapsed": true,
        "cell_id": "00022-59882164-d68e-49c3-bfb8-96703f9a9c3c",
        "is_code_hidden": false,
        "deepnote_to_be_reexecuted": false,
        "source_hash": "4c9645c3",
        "execution_start": 1616816232890,
        "execution_millis": 2,
        "deepnote_cell_type": "code"
      },
      "source": "def read_values(*args):\n    print('finised reading args')",
      "execution_count": 13,
      "outputs": []
    },
    {
      "cell_type": "code",
      "metadata": {
        "cell_id": "00023-ce6fbfc2-397d-474e-a625-3bf7b8ad00b4",
        "output_cleared": false,
        "source_hash": "d2009b61",
        "is_code_hidden": false,
        "deepnote_to_be_reexecuted": false,
        "execution_start": 1616816235858,
        "execution_millis": 6,
        "deepnote_cell_type": "code"
      },
      "source": "read_values(*squares())",
      "execution_count": 14,
      "outputs": [
        {
          "name": "stdout",
          "text": "yielding 1st item\nyielding 2nd item\nyielding 3rd item\nfinised reading args\n",
          "output_type": "stream"
        }
      ]
    },
    {
      "cell_type": "code",
      "metadata": {
        "collapsed": true,
        "cell_id": "00025-70cfbbb0-4124-49ec-b664-468e67c4b976",
        "is_code_hidden": false,
        "deepnote_to_be_reexecuted": false,
        "source_hash": "e2bf2a6f",
        "execution_start": 1616816258046,
        "execution_millis": 0,
        "deepnote_cell_type": "code"
      },
      "source": "c = chain.from_iterable(squares())",
      "execution_count": 15,
      "outputs": []
    },
    {
      "cell_type": "code",
      "metadata": {
        "cell_id": "00026-9207e98d-9f5c-48c6-a5c7-ce8ea0ca3b51",
        "output_cleared": false,
        "source_hash": "1e604823",
        "is_code_hidden": false,
        "deepnote_to_be_reexecuted": false,
        "execution_start": 1616816261991,
        "execution_millis": 6,
        "deepnote_cell_type": "code"
      },
      "source": "for item in c:\n    print(item)",
      "execution_count": 16,
      "outputs": [
        {
          "name": "stdout",
          "text": "yielding 1st item\n0\n1\n4\n9\nyielding 2nd item\n16\n25\n36\n49\nyielding 3rd item\n64\n81\n100\n121\n",
          "output_type": "stream"
        }
      ]
    },
    {
      "cell_type": "code",
      "metadata": {
        "collapsed": true,
        "cell_id": "00028-118406a7-8fad-40aa-a7eb-e5b27cad4a83",
        "is_code_hidden": false,
        "deepnote_to_be_reexecuted": false,
        "source_hash": "5a03929f",
        "execution_start": 1616816297838,
        "execution_millis": 0,
        "deepnote_cell_type": "code"
      },
      "source": "def chain_(*args):\n    for item in args:\n        yield from item",
      "execution_count": 17,
      "outputs": []
    },
    {
      "cell_type": "code",
      "metadata": {
        "collapsed": true,
        "cell_id": "00029-0ab51da8-e8ed-4490-bae9-76b1cfffb557",
        "is_code_hidden": false,
        "deepnote_to_be_reexecuted": false,
        "source_hash": "5a7a383d",
        "execution_start": 1616816311296,
        "execution_millis": 1,
        "deepnote_cell_type": "code"
      },
      "source": "def chain_iter(iterable):\n    for item in iterable:\n        yield from item",
      "execution_count": 18,
      "outputs": []
    },
    {
      "cell_type": "code",
      "metadata": {
        "cell_id": "00031-5955f4ac-2f53-4a5a-a998-34f8959082cb",
        "is_code_hidden": false,
        "output_cleared": false,
        "source_hash": "f337842a",
        "deepnote_to_be_reexecuted": false,
        "execution_start": 1616816315537,
        "execution_millis": 6,
        "deepnote_cell_type": "code"
      },
      "source": "c = chain_(*squares())",
      "execution_count": 19,
      "outputs": [
        {
          "name": "stdout",
          "text": "yielding 1st item\nyielding 2nd item\nyielding 3rd item\n",
          "output_type": "stream"
        }
      ]
    },
    {
      "cell_type": "code",
      "metadata": {
        "cell_id": "00032-2afd7615-549d-4153-b5fb-bc96d6473907",
        "output_cleared": false,
        "source_hash": "ef285b45",
        "is_code_hidden": false,
        "deepnote_to_be_reexecuted": false,
        "execution_start": 1616816318861,
        "execution_millis": 6,
        "deepnote_cell_type": "code"
      },
      "source": "c = chain_iter(squares())\nfor item in c:\n    print(item)",
      "execution_count": 20,
      "outputs": [
        {
          "name": "stdout",
          "text": "yielding 1st item\n0\n1\n4\n9\nyielding 2nd item\n16\n25\n36\n49\nyielding 3rd item\n64\n81\n100\n121\n",
          "output_type": "stream"
        }
      ]
    },
    {
      "cell_type": "markdown",
      "source": "<a style='text-decoration:none;line-height:16px;display:flex;color:#5B5B62;padding:10px;justify-content:end;' href='https://deepnote.com?utm_source=created-in-deepnote-cell&projectId=e37e4a4c-30ea-454e-8d75-ad8a2edc05d3' target=\"_blank\">\n<img style='display:inline;max-height:16px;margin:0px;margin-right:7.5px;' src='data:image/svg+xml;base64,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' > </img>\nCreated in <span style='font-weight:600;margin-left:4px;'>Deepnote</span></a>",
      "metadata": {
        "tags": [],
        "created_in_deepnote_cell": true,
        "deepnote_cell_type": "markdown"
      }
    }
  ],
  "nbformat": 4,
  "nbformat_minor": 2,
  "metadata": {
    "kernelspec": {
      "display_name": "Python 3",
      "language": "python",
      "name": "python3"
    },
    "language_info": {
      "codemirror_mode": {
        "name": "ipython",
        "version": 3
      },
      "file_extension": ".py",
      "mimetype": "text/x-python",
      "name": "python",
      "nbconvert_exporter": "python",
      "pygments_lexer": "ipython3",
      "version": "3.6.2"
    },
    "deepnote_notebook_id": "51412e23-06a5-4c9c-954b-8b9a213fe07e",
    "deepnote": {},
    "deepnote_execution_queue": []
  }
}