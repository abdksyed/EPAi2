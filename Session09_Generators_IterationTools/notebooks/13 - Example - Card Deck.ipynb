{
  "cells": [
    {
      "cell_type": "markdown",
      "source": "### Example: Card Deck",
      "metadata": {
        "cell_id": "00000-6471f292-6f1b-4712-aa42-6e02112209ae",
        "deepnote_cell_type": "markdown"
      }
    },
    {
      "cell_type": "code",
      "metadata": {
        "collapsed": true,
        "cell_id": "00002-06e2922b-3568-4151-91d7-e262f7b3f93e",
        "is_code_hidden": false,
        "deepnote_cell_type": "code"
      },
      "source": "from collections import namedtuple\n\nCard = namedtuple('Card', 'rank, suit')\nSUITS = ('Spades', 'Hearts', 'Diamonds', 'Clubs')\nRANKS = tuple(range(2, 11)) + tuple('JQKA')",
      "execution_count": 1,
      "outputs": []
    },
    {
      "cell_type": "code",
      "metadata": {
        "collapsed": true,
        "cell_id": "00004-97f76a15-1e7e-448d-aaad-dc11cc2dcb80",
        "is_code_hidden": false,
        "deepnote_cell_type": "code"
      },
      "source": "def card_gen():\n    for i in range(len(SUITS) * len(RANKS)):\n        suit = SUITS[i // len(RANKS)]\n        rank = RANKS[i % len(RANKS)]\n        card = Card(rank, suit)\n        yield card",
      "execution_count": 2,
      "outputs": []
    },
    {
      "cell_type": "code",
      "metadata": {
        "cell_id": "00006-70a4b018-bbf3-47f0-8e3c-23aed061dc27",
        "output_cleared": true,
        "source_hash": null,
        "is_code_hidden": false,
        "deepnote_cell_type": "code"
      },
      "source": "for card in card_gen():\n    print(card)",
      "execution_count": 3,
      "outputs": []
    },
    {
      "cell_type": "code",
      "metadata": {
        "collapsed": true,
        "cell_id": "00008-8274566b-ce03-4d43-b87f-b2c6c6fa4224",
        "is_code_hidden": false,
        "deepnote_cell_type": "code"
      },
      "source": "def card_gen():\n    for suit in SUITS:\n        for rank in RANKS:\n            card = Card(rank, suit)\n            yield card",
      "execution_count": 4,
      "outputs": []
    },
    {
      "cell_type": "code",
      "metadata": {
        "cell_id": "00010-c429701b-8bf8-4d0f-bbea-80257a6c23f6",
        "output_cleared": true,
        "source_hash": null,
        "is_code_hidden": false,
        "deepnote_cell_type": "code"
      },
      "source": "for card in card_gen():\n    print(card)",
      "execution_count": 5,
      "outputs": []
    },
    {
      "cell_type": "code",
      "metadata": {
        "collapsed": true,
        "cell_id": "00012-cfbadc53-e458-4c4a-a3f0-de7082d9134c",
        "is_code_hidden": false,
        "deepnote_cell_type": "code"
      },
      "source": "class CardDeck:\n    SUITS = ('Spades', 'Hearts', 'Diamonds', 'Clubs')\n    RANKS = tuple(range(2, 11)) + tuple('JQKA')\n        \n    def __iter__(self):\n        return CardDeck.card_gen()\n    \n    @staticmethod\n    def card_gen():\n        for suit in CardDeck.SUITS:\n            for rank in CardDeck.RANKS:\n                card = Card(rank, suit)\n                yield card\n        ",
      "execution_count": 6,
      "outputs": []
    },
    {
      "cell_type": "code",
      "metadata": {
        "collapsed": true,
        "cell_id": "00013-2d4e069a-18c6-4398-94f7-13ac962e03ca",
        "is_code_hidden": false,
        "deepnote_cell_type": "code"
      },
      "source": "deck = CardDeck()",
      "execution_count": 7,
      "outputs": []
    },
    {
      "cell_type": "code",
      "metadata": {
        "cell_id": "00014-6d12976e-40a7-4e4b-b083-53489c00f103",
        "output_cleared": true,
        "source_hash": null,
        "is_code_hidden": false,
        "deepnote_cell_type": "code"
      },
      "source": "[card for card in deck]",
      "execution_count": 8,
      "outputs": []
    },
    {
      "cell_type": "code",
      "metadata": {
        "cell_id": "00016-bb6299d4-726b-479e-a6eb-083ceab145b4",
        "output_cleared": true,
        "source_hash": null,
        "is_code_hidden": false,
        "deepnote_cell_type": "code"
      },
      "source": "[card for card in deck]",
      "execution_count": 9,
      "outputs": []
    },
    {
      "cell_type": "code",
      "metadata": {
        "cell_id": "00018-1932dd55-43de-4caf-b571-e310da9198cc",
        "output_cleared": true,
        "source_hash": null,
        "is_code_hidden": false,
        "deepnote_cell_type": "code"
      },
      "source": "reversed(CardDeck())",
      "execution_count": 10,
      "outputs": []
    },
    {
      "cell_type": "code",
      "metadata": {
        "collapsed": true,
        "cell_id": "00020-89469654-1652-4bd7-a99e-b9d2e92afbd2",
        "is_code_hidden": false,
        "deepnote_cell_type": "code"
      },
      "source": "class CardDeck:\n    SUITS = ('Spades', 'Hearts', 'Diamonds', 'Clubs')\n    RANKS = tuple(range(2, 11)) + tuple('JQKA')\n        \n    def __iter__(self):\n        return CardDeck.card_gen()\n    \n    def __reversed__(self):\n        return CardDeck.reversed_card_gen()\n    \n    @staticmethod\n    def card_gen():\n        for suit in CardDeck.SUITS:\n            for rank in CardDeck.RANKS:\n                card = Card(rank, suit)\n                yield card\n        \n    @staticmethod\n    def reversed_card_gen():\n        for suit in reversed(CardDeck.SUITS):\n            for rank in reversed(CardDeck.RANKS):\n                card = Card(rank, suit)\n                yield card",
      "execution_count": 11,
      "outputs": []
    },
    {
      "cell_type": "code",
      "metadata": {
        "collapsed": true,
        "cell_id": "00021-dc11a858-43dc-4234-a6ef-8ba1f887bd94",
        "is_code_hidden": false,
        "deepnote_cell_type": "code"
      },
      "source": "rev = reversed(CardDeck())",
      "execution_count": 12,
      "outputs": []
    },
    {
      "cell_type": "code",
      "metadata": {
        "cell_id": "00022-fa35f695-ceee-454f-b288-4fc3ad0c0bbe",
        "output_cleared": true,
        "source_hash": null,
        "is_code_hidden": false,
        "deepnote_cell_type": "code"
      },
      "source": "[card for card in rev]",
      "execution_count": 13,
      "outputs": []
    },
    {
      "cell_type": "markdown",
      "source": "<a style='text-decoration:none;line-height:16px;display:flex;color:#5B5B62;padding:10px;justify-content:end;' href='https://deepnote.com?utm_source=created-in-deepnote-cell&projectId=d12d8d6f-83dc-4873-bf00-aaff2a39293d' target=\"_blank\">\n<img style='display:inline;max-height:16px;margin:0px;margin-right:7.5px;' src='data:image/svg+xml;base64,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' > </img>\nCreated in <span style='font-weight:600;margin-left:4px;'>Deepnote</span></a>",
      "metadata": {
        "tags": [],
        "created_in_deepnote_cell": true,
        "deepnote_cell_type": "markdown"
      }
    }
  ],
  "nbformat": 4,
  "nbformat_minor": 2,
  "metadata": {
    "kernelspec": {
      "display_name": "Python 3",
      "language": "python",
      "name": "python3"
    },
    "language_info": {
      "codemirror_mode": {
        "name": "ipython",
        "version": 3
      },
      "file_extension": ".py",
      "mimetype": "text/x-python",
      "name": "python",
      "nbconvert_exporter": "python",
      "pygments_lexer": "ipython3",
      "version": "3.6.2"
    },
    "deepnote_notebook_id": "b7b7b5f5-8784-4983-a3cc-bff30c19257d",
    "deepnote": {},
    "deepnote_execution_queue": []
  }
}