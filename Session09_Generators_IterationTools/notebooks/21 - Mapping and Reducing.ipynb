{
  "cells": [
    {
      "cell_type": "markdown",
      "source": "### Mapping and Reducing",
      "metadata": {
        "cell_id": "00000-d985f5fb-4e5b-4ebf-87e7-f9faae894bfc",
        "deepnote_cell_type": "markdown"
      }
    },
    {
      "cell_type": "code",
      "metadata": {
        "collapsed": true,
        "cell_id": "00004-b27728ae-6706-4111-b625-b3617f871879",
        "is_code_hidden": false,
        "deepnote_to_be_reexecuted": false,
        "source_hash": "43af762d",
        "execution_start": 1616816370877,
        "execution_millis": 0,
        "deepnote_cell_type": "code"
      },
      "source": "maps = map(lambda x: x**2, range(5))",
      "execution_count": 1,
      "outputs": []
    },
    {
      "cell_type": "code",
      "metadata": {
        "cell_id": "00005-5384e261-0b48-435a-85c9-67f4ccde16d6",
        "is_code_hidden": false,
        "output_cleared": false,
        "source_hash": "e2074094",
        "deepnote_to_be_reexecuted": false,
        "execution_start": 1616816375106,
        "execution_millis": 6,
        "deepnote_cell_type": "code"
      },
      "source": "list(maps)",
      "execution_count": 2,
      "outputs": [
        {
          "output_type": "execute_result",
          "execution_count": 2,
          "data": {
            "text/plain": "[0, 1, 4, 9, 16]"
          },
          "metadata": {}
        }
      ]
    },
    {
      "cell_type": "code",
      "metadata": {
        "cell_id": "00007-abb71551-0d43-4f9f-b54b-bff74adf507e",
        "output_cleared": false,
        "source_hash": "e2074094",
        "is_code_hidden": false,
        "deepnote_to_be_reexecuted": false,
        "execution_start": 1616816384342,
        "execution_millis": 8,
        "deepnote_cell_type": "code"
      },
      "source": "list(maps)",
      "execution_count": 3,
      "outputs": [
        {
          "output_type": "execute_result",
          "execution_count": 3,
          "data": {
            "text/plain": "[]"
          },
          "metadata": {}
        }
      ]
    },
    {
      "cell_type": "code",
      "metadata": {
        "collapsed": true,
        "cell_id": "00009-a0c87175-f7ed-481d-908d-696a4918492f",
        "is_code_hidden": false,
        "deepnote_to_be_reexecuted": false,
        "source_hash": "14b43c3a",
        "execution_start": 1616816400452,
        "execution_millis": 1,
        "deepnote_cell_type": "code"
      },
      "source": "def add(t):\n    return t[0] + t[1]",
      "execution_count": 4,
      "outputs": []
    },
    {
      "cell_type": "code",
      "metadata": {
        "cell_id": "00010-49b20c6d-4435-4d9d-b111-d7db4a9a703f",
        "is_code_hidden": false,
        "output_cleared": false,
        "source_hash": "e8266c0c",
        "deepnote_to_be_reexecuted": false,
        "execution_start": 1616816447027,
        "execution_millis": 9,
        "deepnote_cell_type": "code"
      },
      "source": "list(map(add, [(0,0), [1,1], range(2,4)]))",
      "execution_count": 5,
      "outputs": [
        {
          "output_type": "execute_result",
          "execution_count": 5,
          "data": {
            "text/plain": "[0, 2, 5]"
          },
          "metadata": {}
        }
      ]
    },
    {
      "cell_type": "code",
      "metadata": {
        "collapsed": true,
        "cell_id": "00012-016dfa13-e9dd-4962-bb70-4b5ff1c78b79",
        "is_code_hidden": false,
        "deepnote_to_be_reexecuted": false,
        "source_hash": "60faf985",
        "execution_start": 1616816463544,
        "execution_millis": 0,
        "deepnote_cell_type": "code"
      },
      "source": "def add(x, y):\n    return x + y",
      "execution_count": 6,
      "outputs": []
    },
    {
      "cell_type": "code",
      "metadata": {
        "cell_id": "00013-b0d33f6a-6a05-4d34-b48d-be848d551efc",
        "is_code_hidden": false,
        "output_cleared": false,
        "source_hash": "5c0a19cb",
        "deepnote_to_be_reexecuted": false,
        "execution_start": 1616816468141,
        "execution_millis": 7,
        "deepnote_cell_type": "code"
      },
      "source": "t = (2, 3)\nadd(*t)",
      "execution_count": 7,
      "outputs": [
        {
          "output_type": "execute_result",
          "execution_count": 7,
          "data": {
            "text/plain": "5"
          },
          "metadata": {}
        }
      ]
    },
    {
      "cell_type": "code",
      "metadata": {
        "cell_id": "00015-cbe71741-f73e-43e5-9472-59525e2659f7",
        "output_cleared": false,
        "source_hash": "41897c72",
        "is_code_hidden": false,
        "deepnote_to_be_reexecuted": false,
        "execution_start": 1616816477382,
        "execution_millis": 473,
        "deepnote_cell_type": "code"
      },
      "source": "list(map(add, [(0,0), (1,1), (2,2)]))",
      "execution_count": 8,
      "outputs": [
        {
          "output_type": "error",
          "ename": "TypeError",
          "evalue": "add() missing 1 required positional argument: 'y'",
          "traceback": [
            "\u001b[0;31m---------------------------------------------------------------------------\u001b[0m",
            "\u001b[0;31mTypeError\u001b[0m                                 Traceback (most recent call last)",
            "\u001b[0;32m<ipython-input-8-66b4a212f979>\u001b[0m in \u001b[0;36m<module>\u001b[0;34m\u001b[0m\n\u001b[0;32m----> 1\u001b[0;31m \u001b[0mlist\u001b[0m\u001b[0;34m(\u001b[0m\u001b[0mmap\u001b[0m\u001b[0;34m(\u001b[0m\u001b[0madd\u001b[0m\u001b[0;34m,\u001b[0m \u001b[0;34m[\u001b[0m\u001b[0;34m(\u001b[0m\u001b[0;36m0\u001b[0m\u001b[0;34m,\u001b[0m\u001b[0;36m0\u001b[0m\u001b[0;34m)\u001b[0m\u001b[0;34m,\u001b[0m \u001b[0;34m(\u001b[0m\u001b[0;36m1\u001b[0m\u001b[0;34m,\u001b[0m\u001b[0;36m1\u001b[0m\u001b[0;34m)\u001b[0m\u001b[0;34m,\u001b[0m \u001b[0;34m(\u001b[0m\u001b[0;36m2\u001b[0m\u001b[0;34m,\u001b[0m\u001b[0;36m2\u001b[0m\u001b[0;34m)\u001b[0m\u001b[0;34m]\u001b[0m\u001b[0;34m)\u001b[0m\u001b[0;34m)\u001b[0m\u001b[0;34m\u001b[0m\u001b[0;34m\u001b[0m\u001b[0m\n\u001b[0m",
            "\u001b[0;31mTypeError\u001b[0m: add() missing 1 required positional argument: 'y'"
          ]
        }
      ]
    },
    {
      "cell_type": "code",
      "metadata": {
        "collapsed": true,
        "cell_id": "00018-03000400-6801-4434-9b05-239a0c086afe",
        "is_code_hidden": false,
        "deepnote_to_be_reexecuted": false,
        "source_hash": "1ee8ff9f",
        "execution_start": 1616816491185,
        "execution_millis": 0,
        "deepnote_cell_type": "code"
      },
      "source": "from itertools import starmap",
      "execution_count": 9,
      "outputs": []
    },
    {
      "cell_type": "code",
      "metadata": {
        "cell_id": "00019-015e0bcd-cdb1-4da0-8070-a87d54b88d91",
        "is_code_hidden": false,
        "output_cleared": false,
        "source_hash": "3a7f74c0",
        "deepnote_to_be_reexecuted": false,
        "execution_start": 1616816494222,
        "execution_millis": 6,
        "deepnote_cell_type": "code"
      },
      "source": "list(starmap(add, [(0,0), (1,1), (2,2)]))",
      "execution_count": 10,
      "outputs": [
        {
          "output_type": "execute_result",
          "execution_count": 10,
          "data": {
            "text/plain": "[0, 2, 4]"
          },
          "metadata": {}
        }
      ]
    },
    {
      "cell_type": "markdown",
      "source": "#### Accumulation",
      "metadata": {
        "cell_id": "00020-46212e8e-6f00-4ffd-813b-2483f9522ce7",
        "deepnote_cell_type": "markdown"
      }
    },
    {
      "cell_type": "code",
      "metadata": {
        "cell_id": "00022-ed7eee5a-0ced-4ac6-a3e9-7fa07c6ded07",
        "is_code_hidden": false,
        "output_cleared": false,
        "source_hash": "d28d1dbf",
        "deepnote_to_be_reexecuted": false,
        "execution_start": 1616816503512,
        "execution_millis": 5,
        "deepnote_cell_type": "code"
      },
      "source": "sum([10, 20, 30])",
      "execution_count": 11,
      "outputs": [
        {
          "output_type": "execute_result",
          "execution_count": 11,
          "data": {
            "text/plain": "60"
          },
          "metadata": {}
        }
      ]
    },
    {
      "cell_type": "code",
      "metadata": {
        "collapsed": true,
        "cell_id": "00024-345a2f5e-bfe1-431e-94c2-23b064cf58ee",
        "is_code_hidden": false,
        "deepnote_to_be_reexecuted": false,
        "source_hash": "e50ba9a4",
        "execution_start": 1616816526476,
        "execution_millis": 1,
        "deepnote_cell_type": "code"
      },
      "source": "from functools import reduce",
      "execution_count": 12,
      "outputs": []
    },
    {
      "cell_type": "code",
      "metadata": {
        "cell_id": "00025-eb01970c-3b3d-4f9e-b779-e4b2dfe4c395",
        "is_code_hidden": false,
        "output_cleared": false,
        "source_hash": "eebd0785",
        "deepnote_to_be_reexecuted": false,
        "execution_start": 1616816578303,
        "execution_millis": 7,
        "deepnote_cell_type": "code"
      },
      "source": "reduce(lambda x, y: x*y, [1, 2, 3, 4])",
      "execution_count": 13,
      "outputs": [
        {
          "output_type": "execute_result",
          "execution_count": 13,
          "data": {
            "text/plain": "24"
          },
          "metadata": {}
        }
      ]
    },
    {
      "cell_type": "code",
      "metadata": {
        "cell_id": "00027-8fb9b1ee-171e-41d1-bea2-6667ff1da2c9",
        "is_code_hidden": false,
        "output_cleared": false,
        "source_hash": "8d688ff6",
        "deepnote_to_be_reexecuted": false,
        "execution_start": 1616816598717,
        "execution_millis": 65,
        "deepnote_cell_type": "code"
      },
      "source": "reduce(lambda x, y: x*y, [1, 2, 3, 4], 10)",
      "execution_count": 14,
      "outputs": [
        {
          "output_type": "execute_result",
          "execution_count": 14,
          "data": {
            "text/plain": "240"
          },
          "metadata": {}
        }
      ]
    },
    {
      "cell_type": "code",
      "metadata": {
        "collapsed": true,
        "cell_id": "00029-d621880c-485c-4a30-ad4f-946ac36c1ecc",
        "is_code_hidden": false,
        "deepnote_to_be_reexecuted": false,
        "source_hash": "2dd064e1",
        "execution_start": 1616816630789,
        "execution_millis": 1,
        "deepnote_cell_type": "code"
      },
      "source": "def sum_(iterable):\n    it = iter(iterable)\n    acc = next(it)\n    yield acc\n    for item in it:\n        acc += item\n        yield acc",
      "execution_count": 15,
      "outputs": []
    },
    {
      "cell_type": "code",
      "metadata": {
        "cell_id": "00031-289ee667-f3ac-489d-a487-88ff21eb75f6",
        "output_cleared": false,
        "source_hash": "4114a4a",
        "is_code_hidden": false,
        "deepnote_to_be_reexecuted": false,
        "execution_start": 1616816633922,
        "execution_millis": 0,
        "deepnote_cell_type": "code"
      },
      "source": "for item in sum_([10, 20, 30]):\n    print(item)",
      "execution_count": 16,
      "outputs": [
        {
          "name": "stdout",
          "text": "10\n30\n60\n",
          "output_type": "stream"
        }
      ]
    },
    {
      "cell_type": "code",
      "metadata": {
        "collapsed": true,
        "cell_id": "00034-bacb4bec-6364-411e-a7f3-0a20d0598386",
        "is_code_hidden": false,
        "deepnote_to_be_reexecuted": false,
        "source_hash": "6f6fd9a0",
        "execution_start": 1616816669211,
        "execution_millis": 2,
        "deepnote_cell_type": "code"
      },
      "source": "def running_reduce(fn, iterable, start=None):\n    it = iter(iterable)\n    if start is None:\n        accumulator = next(it)\n    else:\n        accumulator = start\n    yield accumulator\n    \n    for item in it:\n        accumulator = fn(accumulator, item)\n        yield accumulator\n    ",
      "execution_count": 17,
      "outputs": []
    },
    {
      "cell_type": "code",
      "metadata": {
        "collapsed": true,
        "cell_id": "00036-da07652a-4d75-442f-bf87-65d506766b5f",
        "is_code_hidden": false,
        "deepnote_to_be_reexecuted": false,
        "source_hash": "a25a62e3",
        "execution_start": 1616816673114,
        "execution_millis": 1,
        "deepnote_cell_type": "code"
      },
      "source": "import operator",
      "execution_count": 18,
      "outputs": []
    },
    {
      "cell_type": "code",
      "metadata": {
        "cell_id": "00037-608089b5-d1e7-4d73-8b9a-b2523822d516",
        "is_code_hidden": false,
        "output_cleared": false,
        "source_hash": "96903652",
        "deepnote_to_be_reexecuted": false,
        "execution_start": 1616816676579,
        "execution_millis": 7,
        "deepnote_cell_type": "code"
      },
      "source": "list(running_reduce(operator.add, [10, 20, 30]))",
      "execution_count": 19,
      "outputs": [
        {
          "output_type": "execute_result",
          "execution_count": 19,
          "data": {
            "text/plain": "[10, 30, 60]"
          },
          "metadata": {}
        }
      ]
    },
    {
      "cell_type": "code",
      "metadata": {
        "cell_id": "00039-3bfbc9eb-786f-4775-b05e-ec9653904115",
        "is_code_hidden": false,
        "output_cleared": false,
        "source_hash": "2d9750e1",
        "deepnote_to_be_reexecuted": false,
        "execution_start": 1616816683504,
        "execution_millis": 20,
        "deepnote_cell_type": "code"
      },
      "source": "list(running_reduce(operator.mul, [1, 2, 3, 4]))",
      "execution_count": 20,
      "outputs": [
        {
          "output_type": "execute_result",
          "execution_count": 20,
          "data": {
            "text/plain": "[1, 2, 6, 24]"
          },
          "metadata": {}
        }
      ]
    },
    {
      "cell_type": "code",
      "metadata": {
        "cell_id": "00041-5bea5cdb-7094-4d2d-9ef3-e4e206ff3e08",
        "is_code_hidden": false,
        "output_cleared": false,
        "source_hash": "ed90cae",
        "deepnote_to_be_reexecuted": false,
        "execution_start": 1616816693202,
        "execution_millis": 11,
        "deepnote_cell_type": "code"
      },
      "source": "list(running_reduce(operator.mul, [1, 2, 3, 4], 10))",
      "execution_count": 21,
      "outputs": [
        {
          "output_type": "execute_result",
          "execution_count": 21,
          "data": {
            "text/plain": "[10, 10, 20, 60, 240]"
          },
          "metadata": {}
        }
      ]
    },
    {
      "cell_type": "code",
      "metadata": {
        "collapsed": true,
        "cell_id": "00043-98cc0aed-f670-4409-8432-a8c5c71e709e",
        "is_code_hidden": false,
        "deepnote_to_be_reexecuted": false,
        "source_hash": "4424df89",
        "execution_start": 1616816697536,
        "execution_millis": 2,
        "deepnote_cell_type": "code"
      },
      "source": "from itertools import accumulate",
      "execution_count": 22,
      "outputs": []
    },
    {
      "cell_type": "code",
      "metadata": {
        "cell_id": "00044-9568287d-19d6-4009-b4b5-8c2e88c164d2",
        "is_code_hidden": false,
        "deepnote_cell_type": "code"
      },
      "source": "list(accumulate([10, 20, 30]))",
      "execution_count": 24,
      "outputs": [
        {
          "data": {
            "text/plain": "[10, 30, 60]"
          },
          "execution_count": 24,
          "metadata": {},
          "output_type": "execute_result"
        }
      ]
    },
    {
      "cell_type": "code",
      "metadata": {
        "scrolled": true,
        "cell_id": "00046-dd3561ad-f30e-49d8-b99b-3cc54d105609",
        "is_code_hidden": false,
        "output_cleared": false,
        "source_hash": "cc8c9baa",
        "deepnote_to_be_reexecuted": false,
        "execution_start": 1616816724653,
        "execution_millis": 5,
        "deepnote_cell_type": "code"
      },
      "source": "list(accumulate([1, 2, 3, 4], operator.mul))",
      "execution_count": 23,
      "outputs": [
        {
          "output_type": "execute_result",
          "execution_count": 23,
          "data": {
            "text/plain": "[1, 2, 6, 24]"
          },
          "metadata": {}
        }
      ]
    },
    {
      "cell_type": "markdown",
      "source": "<a style='text-decoration:none;line-height:16px;display:flex;color:#5B5B62;padding:10px;justify-content:end;' href='https://deepnote.com?utm_source=created-in-deepnote-cell&projectId=e37e4a4c-30ea-454e-8d75-ad8a2edc05d3' target=\"_blank\">\n<img style='display:inline;max-height:16px;margin:0px;margin-right:7.5px;' src='data:image/svg+xml;base64,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' > </img>\nCreated in <span style='font-weight:600;margin-left:4px;'>Deepnote</span></a>",
      "metadata": {
        "tags": [],
        "created_in_deepnote_cell": true,
        "deepnote_cell_type": "markdown"
      }
    }
  ],
  "nbformat": 4,
  "nbformat_minor": 2,
  "metadata": {
    "kernelspec": {
      "display_name": "Python 3",
      "language": "python",
      "name": "python3"
    },
    "language_info": {
      "codemirror_mode": {
        "name": "ipython",
        "version": 3
      },
      "file_extension": ".py",
      "mimetype": "text/x-python",
      "name": "python",
      "nbconvert_exporter": "python",
      "pygments_lexer": "ipython3",
      "version": "3.6.2"
    },
    "deepnote_notebook_id": "1988adb2-81fb-41ce-af36-e1d9a0f0415f",
    "deepnote": {},
    "deepnote_execution_queue": []
  }
}