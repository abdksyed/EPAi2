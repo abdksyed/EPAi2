{
  "cells": [
    {
      "cell_type": "markdown",
      "source": "### Selecting and Filtering Iterators",
      "metadata": {
        "cell_id": "00000-9a74b92e-ce24-4333-b20f-e7ccc684f92a",
        "deepnote_cell_type": "markdown"
      }
    },
    {
      "cell_type": "markdown",
      "source": "#### *filter*  and *filterfalse*",
      "metadata": {
        "cell_id": "00001-500938f9-6786-4b1d-a148-b2887bd52c95",
        "deepnote_cell_type": "markdown"
      }
    },
    {
      "cell_type": "code",
      "metadata": {
        "collapsed": true,
        "cell_id": "00003-2f6ce917-f60d-4e10-9671-fec92eb58d77",
        "is_code_hidden": false,
        "deepnote_to_be_reexecuted": false,
        "source_hash": "6f5f94c2",
        "execution_start": 1616814933430,
        "execution_millis": 1,
        "deepnote_cell_type": "code"
      },
      "source": "def gen_cubes(n):\n    for i in range(n):\n        print(f'yielding {i}')\n        yield i**3",
      "execution_count": 1,
      "outputs": []
    },
    {
      "cell_type": "code",
      "metadata": {
        "collapsed": true,
        "cell_id": "00005-eb637715-e68c-4eb6-818f-c9f6aa5acbb6",
        "is_code_hidden": false,
        "deepnote_to_be_reexecuted": false,
        "source_hash": "9e3cf991",
        "execution_start": 1616814952383,
        "execution_millis": 0,
        "deepnote_cell_type": "code"
      },
      "source": "def is_odd(x):\n    return x % 2 == 1",
      "execution_count": 2,
      "outputs": []
    },
    {
      "cell_type": "code",
      "metadata": {
        "cell_id": "00007-134d3834-abcf-48d3-a51a-0ffd97892dd2",
        "is_code_hidden": false,
        "output_cleared": false,
        "source_hash": "1380d4bf",
        "deepnote_to_be_reexecuted": false,
        "execution_start": 1616814960385,
        "execution_millis": 10,
        "deepnote_cell_type": "code"
      },
      "source": "is_odd(4), is_odd(81)",
      "execution_count": 3,
      "outputs": [
        {
          "output_type": "execute_result",
          "execution_count": 3,
          "data": {
            "text/plain": "(False, True)"
          },
          "metadata": {}
        }
      ]
    },
    {
      "cell_type": "code",
      "metadata": {
        "collapsed": true,
        "cell_id": "00009-959df8a1-31b2-47b7-a54e-21b64fc1ebcb",
        "is_code_hidden": false,
        "deepnote_to_be_reexecuted": false,
        "source_hash": "f85c181a",
        "execution_start": 1616814984432,
        "execution_millis": 1,
        "deepnote_cell_type": "code"
      },
      "source": "filtered = filter(is_odd, gen_cubes(10))",
      "execution_count": 4,
      "outputs": []
    },
    {
      "cell_type": "code",
      "metadata": {
        "cell_id": "00011-4ba3cc75-a933-4e8e-9473-34f1a6d129a1",
        "output_cleared": false,
        "source_hash": "d97da7ba",
        "is_code_hidden": false,
        "deepnote_to_be_reexecuted": false,
        "execution_start": 1616814993582,
        "execution_millis": 9,
        "deepnote_cell_type": "code"
      },
      "source": "list(filtered)",
      "execution_count": 5,
      "outputs": [
        {
          "name": "stdout",
          "text": "yielding 0\nyielding 1\nyielding 2\nyielding 3\nyielding 4\nyielding 5\nyielding 6\nyielding 7\nyielding 8\nyielding 9\n",
          "output_type": "stream"
        },
        {
          "output_type": "execute_result",
          "execution_count": 5,
          "data": {
            "text/plain": "[1, 27, 125, 343, 729]"
          },
          "metadata": {}
        }
      ]
    },
    {
      "cell_type": "code",
      "metadata": {
        "collapsed": true,
        "cell_id": "00014-6cf5ba28-5ec6-46fd-a0ab-14b815d7e74c",
        "is_code_hidden": false,
        "deepnote_to_be_reexecuted": false,
        "source_hash": "c4cd0790",
        "execution_start": 1616815010781,
        "execution_millis": 2,
        "deepnote_cell_type": "code"
      },
      "source": "def is_even(x):\n    return x % 2 == 0",
      "execution_count": 6,
      "outputs": []
    },
    {
      "cell_type": "code",
      "metadata": {
        "cell_id": "00015-8531917a-f612-4a44-a248-2b8310ccbe9c",
        "is_code_hidden": false,
        "output_cleared": false,
        "source_hash": "fdc4ebb3",
        "deepnote_to_be_reexecuted": false,
        "execution_start": 1616815014220,
        "execution_millis": 22,
        "deepnote_cell_type": "code"
      },
      "source": "list(filter(is_even, gen_cubes(10)))",
      "execution_count": 7,
      "outputs": [
        {
          "name": "stdout",
          "text": "yielding 0\nyielding 1\nyielding 2\nyielding 3\nyielding 4\nyielding 5\nyielding 6\nyielding 7\nyielding 8\nyielding 9\n",
          "output_type": "stream"
        },
        {
          "output_type": "execute_result",
          "execution_count": 7,
          "data": {
            "text/plain": "[0, 8, 64, 216, 512]"
          },
          "metadata": {}
        }
      ]
    },
    {
      "cell_type": "code",
      "metadata": {
        "collapsed": true,
        "cell_id": "00017-62fffb3d-3efc-4d88-a4a0-eb71e595a909",
        "is_code_hidden": false,
        "deepnote_to_be_reexecuted": false,
        "source_hash": "694b9640",
        "execution_start": 1616815048838,
        "execution_millis": 0,
        "deepnote_cell_type": "code"
      },
      "source": "from itertools import filterfalse",
      "execution_count": 8,
      "outputs": []
    },
    {
      "cell_type": "code",
      "metadata": {
        "collapsed": true,
        "cell_id": "00018-711a4f23-67d9-49cc-9da8-47b7b346aa48",
        "is_code_hidden": false,
        "deepnote_to_be_reexecuted": false,
        "source_hash": "b215e2f",
        "execution_start": 1616815052411,
        "execution_millis": 5,
        "deepnote_cell_type": "code"
      },
      "source": "evens = filterfalse(is_odd, gen_cubes(10))",
      "execution_count": 9,
      "outputs": []
    },
    {
      "cell_type": "code",
      "metadata": {
        "cell_id": "00020-d9d90c39-6b20-49e9-9af0-8763443f01b6",
        "output_cleared": false,
        "source_hash": "34e2fc2f",
        "is_code_hidden": false,
        "deepnote_to_be_reexecuted": false,
        "execution_start": 1616815056462,
        "execution_millis": 7,
        "deepnote_cell_type": "code"
      },
      "source": "list(evens)",
      "execution_count": 10,
      "outputs": [
        {
          "name": "stdout",
          "text": "yielding 0\nyielding 1\nyielding 2\nyielding 3\nyielding 4\nyielding 5\nyielding 6\nyielding 7\nyielding 8\nyielding 9\n",
          "output_type": "stream"
        },
        {
          "output_type": "execute_result",
          "execution_count": 10,
          "data": {
            "text/plain": "[0, 8, 64, 216, 512]"
          },
          "metadata": {}
        }
      ]
    },
    {
      "cell_type": "markdown",
      "source": "#### *dropwhile* and *takewhile*",
      "metadata": {
        "cell_id": "00022-9f6e1c7a-20c5-4993-9daa-9aa8b3b6a8fb",
        "deepnote_cell_type": "markdown"
      }
    },
    {
      "cell_type": "code",
      "metadata": {
        "collapsed": true,
        "cell_id": "00024-386bda0c-d8f5-475f-83a9-40ff9b0819cf",
        "is_code_hidden": false,
        "deepnote_to_be_reexecuted": false,
        "source_hash": "dac41b4f",
        "execution_start": 1616815104962,
        "execution_millis": 1,
        "deepnote_cell_type": "code"
      },
      "source": "from math import sin, pi\n\ndef sine_wave(n):\n    start = 0\n    max_ = 2 * pi\n    step = (max_ - start) / (n-1)\n    for _ in range(n):\n        yield round(sin(start), 2)\n        start += step    ",
      "execution_count": 11,
      "outputs": []
    },
    {
      "cell_type": "code",
      "metadata": {
        "cell_id": "00025-386f95fc-4e55-4ed6-aaca-c3372d764460",
        "output_cleared": false,
        "source_hash": "d23ddc1",
        "is_code_hidden": false,
        "deepnote_to_be_reexecuted": false,
        "execution_start": 1616815109048,
        "execution_millis": 0,
        "deepnote_cell_type": "code"
      },
      "source": "list(sine_wave(15))",
      "execution_count": 12,
      "outputs": [
        {
          "output_type": "execute_result",
          "execution_count": 12,
          "data": {
            "text/plain": "[0.0,\n 0.43,\n 0.78,\n 0.97,\n 0.97,\n 0.78,\n 0.43,\n 0.0,\n -0.43,\n -0.78,\n -0.97,\n -0.97,\n -0.78,\n -0.43,\n -0.0]"
          },
          "metadata": {}
        }
      ]
    },
    {
      "cell_type": "code",
      "metadata": {
        "cell_id": "00026-34199ea4-df7f-4bec-818d-7f20808f8a05",
        "is_code_hidden": false,
        "output_cleared": false,
        "source_hash": "30f5ce75",
        "deepnote_to_be_reexecuted": false,
        "execution_start": 1616815132466,
        "execution_millis": 8,
        "deepnote_cell_type": "code"
      },
      "source": "from itertools import takewhile\n\nlist(takewhile(lambda x: 0 <= x <= 0.9, sine_wave(15)))",
      "execution_count": 13,
      "outputs": [
        {
          "output_type": "execute_result",
          "execution_count": 13,
          "data": {
            "text/plain": "[0.0, 0.43, 0.78]"
          },
          "metadata": {}
        }
      ]
    },
    {
      "cell_type": "code",
      "metadata": {
        "cell_id": "00028-802a7178-75d3-4c59-9fc4-a08d87afb621",
        "output_cleared": false,
        "source_hash": "2f861083",
        "is_code_hidden": false,
        "deepnote_to_be_reexecuted": false,
        "execution_start": 1616815188078,
        "execution_millis": 8,
        "deepnote_cell_type": "code"
      },
      "source": "list(filter(lambda x: 0 <= x <= 0.9, sine_wave(15)))",
      "execution_count": 14,
      "outputs": [
        {
          "output_type": "execute_result",
          "execution_count": 14,
          "data": {
            "text/plain": "[0.0, 0.43, 0.78, 0.78, 0.43, 0.0, -0.0]"
          },
          "metadata": {}
        }
      ]
    },
    {
      "cell_type": "code",
      "metadata": {
        "collapsed": true,
        "cell_id": "00030-4df2f9b8-1b3d-4174-8cf4-ad2f54d090ce",
        "is_code_hidden": false,
        "deepnote_to_be_reexecuted": false,
        "source_hash": "8b771ba4",
        "execution_start": 1616815207372,
        "execution_millis": 1,
        "deepnote_cell_type": "code"
      },
      "source": "from itertools import dropwhile",
      "execution_count": 15,
      "outputs": []
    },
    {
      "cell_type": "code",
      "metadata": {
        "collapsed": true,
        "cell_id": "00031-5126d070-8dc3-4fdb-9802-2d4009686576",
        "is_code_hidden": false,
        "deepnote_to_be_reexecuted": false,
        "source_hash": "9b0a641f",
        "execution_start": 1616815215657,
        "execution_millis": 1,
        "deepnote_cell_type": "code"
      },
      "source": "l = [1, 3, 5, 2, 1]",
      "execution_count": 16,
      "outputs": []
    },
    {
      "cell_type": "code",
      "metadata": {
        "cell_id": "00032-7a74e4da-3db9-4a2e-93d4-d02457a7b424",
        "is_code_hidden": false,
        "output_cleared": false,
        "source_hash": "e2c035c4",
        "deepnote_to_be_reexecuted": false,
        "execution_start": 1616815221763,
        "execution_millis": 6,
        "deepnote_cell_type": "code"
      },
      "source": "list(dropwhile(lambda x: x < 5, l))",
      "execution_count": 17,
      "outputs": [
        {
          "output_type": "execute_result",
          "execution_count": 17,
          "data": {
            "text/plain": "[5, 2, 1]"
          },
          "metadata": {}
        }
      ]
    },
    {
      "cell_type": "markdown",
      "source": "#### The *compress* function",
      "metadata": {
        "cell_id": "00034-2e9b14e3-82f6-4c52-a29a-c864dc496941",
        "deepnote_cell_type": "markdown"
      }
    },
    {
      "cell_type": "code",
      "metadata": {
        "collapsed": true,
        "cell_id": "00036-9b5220b8-65ca-4c47-8b19-5e49f3750122",
        "is_code_hidden": false,
        "deepnote_to_be_reexecuted": false,
        "source_hash": "7483b836",
        "execution_start": 1616815485310,
        "execution_millis": 1,
        "deepnote_cell_type": "code"
      },
      "source": "data = ['a', 'b', 'c', 'd', 'e']\nselectors = [True, False, 1, 0]",
      "execution_count": 18,
      "outputs": []
    },
    {
      "cell_type": "code",
      "metadata": {
        "cell_id": "00037-02e05d3e-ee17-4897-8005-c4bf639c324f",
        "is_code_hidden": false,
        "output_cleared": false,
        "source_hash": "59aa2379",
        "deepnote_to_be_reexecuted": false,
        "execution_start": 1616815490030,
        "execution_millis": 15,
        "deepnote_cell_type": "code"
      },
      "source": "list(zip(data, selectors))",
      "execution_count": 19,
      "outputs": [
        {
          "output_type": "execute_result",
          "execution_count": 19,
          "data": {
            "text/plain": "[('a', True), ('b', False), ('c', 1), ('d', 0)]"
          },
          "metadata": {}
        }
      ]
    },
    {
      "cell_type": "code",
      "metadata": {
        "cell_id": "00039-23439761-d7db-40c0-a484-f94c8c9d2a5f",
        "output_cleared": false,
        "source_hash": "c9473039",
        "is_code_hidden": false,
        "deepnote_to_be_reexecuted": false,
        "execution_start": 1616815519554,
        "execution_millis": 5,
        "deepnote_cell_type": "code"
      },
      "source": "[item for item, truth_value in zip(data, selectors) if truth_value]",
      "execution_count": 20,
      "outputs": [
        {
          "output_type": "execute_result",
          "execution_count": 20,
          "data": {
            "text/plain": "['a', 'c']"
          },
          "metadata": {}
        }
      ]
    },
    {
      "cell_type": "code",
      "metadata": {
        "collapsed": true,
        "cell_id": "00041-4f4fa393-773c-4402-b165-a50da8e1661f",
        "is_code_hidden": false,
        "deepnote_to_be_reexecuted": false,
        "source_hash": "4e32cae9",
        "execution_start": 1616815537911,
        "execution_millis": 1,
        "deepnote_cell_type": "code"
      },
      "source": "from itertools import compress",
      "execution_count": 21,
      "outputs": []
    },
    {
      "cell_type": "code",
      "metadata": {
        "cell_id": "00042-ef319a8f-315d-476f-a290-d209ec8fc1a3",
        "output_cleared": false,
        "source_hash": "3b4bd0b",
        "is_code_hidden": false,
        "deepnote_to_be_reexecuted": false,
        "execution_start": 1616815540970,
        "execution_millis": 7,
        "deepnote_cell_type": "code"
      },
      "source": "list(compress(data, selectors))",
      "execution_count": 22,
      "outputs": [
        {
          "output_type": "execute_result",
          "execution_count": 22,
          "data": {
            "text/plain": "['a', 'c']"
          },
          "metadata": {}
        }
      ]
    },
    {
      "cell_type": "markdown",
      "source": "<a style='text-decoration:none;line-height:16px;display:flex;color:#5B5B62;padding:10px;justify-content:end;' href='https://deepnote.com?utm_source=created-in-deepnote-cell&projectId=e37e4a4c-30ea-454e-8d75-ad8a2edc05d3' target=\"_blank\">\n<img style='display:inline;max-height:16px;margin:0px;margin-right:7.5px;' src='data:image/svg+xml;base64,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' > </img>\nCreated in <span style='font-weight:600;margin-left:4px;'>Deepnote</span></a>",
      "metadata": {
        "tags": [],
        "created_in_deepnote_cell": true,
        "deepnote_cell_type": "markdown"
      }
    }
  ],
  "nbformat": 4,
  "nbformat_minor": 2,
  "metadata": {
    "kernelspec": {
      "display_name": "Python 3",
      "language": "python",
      "name": "python3"
    },
    "language_info": {
      "codemirror_mode": {
        "name": "ipython",
        "version": 3
      },
      "file_extension": ".py",
      "mimetype": "text/x-python",
      "name": "python",
      "nbconvert_exporter": "python",
      "pygments_lexer": "ipython3",
      "version": "3.6.2"
    },
    "deepnote_notebook_id": "7237b723-f9aa-487a-8e7c-dc0436cab046",
    "deepnote": {},
    "deepnote_execution_queue": []
  }
}