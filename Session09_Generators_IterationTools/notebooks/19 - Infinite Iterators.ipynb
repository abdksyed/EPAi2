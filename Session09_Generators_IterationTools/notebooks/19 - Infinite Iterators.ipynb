{
  "cells": [
    {
      "cell_type": "markdown",
      "source": "### Infinite Iterators",
      "metadata": {
        "cell_id": "00000-e593a3f3-4668-4e60-9ae9-ca84f96fcb88",
        "deepnote_cell_type": "markdown"
      }
    },
    {
      "cell_type": "code",
      "metadata": {
        "collapsed": true,
        "cell_id": "00002-8d15768c-04db-4758-b7b2-0af83c7de56b",
        "is_code_hidden": false,
        "deepnote_to_be_reexecuted": false,
        "source_hash": "60b9d521",
        "execution_start": 1616815596701,
        "execution_millis": 2,
        "deepnote_cell_type": "code"
      },
      "source": "from itertools import (\n    count,\n    cycle,\n    repeat, \n    islice)",
      "execution_count": 1,
      "outputs": []
    },
    {
      "cell_type": "markdown",
      "source": "#### count",
      "metadata": {
        "cell_id": "00003-099bc01f-9192-4f94-b395-f0be9405f85b",
        "deepnote_cell_type": "markdown"
      }
    },
    {
      "cell_type": "code",
      "metadata": {
        "collapsed": true,
        "cell_id": "00005-08fff6a3-581c-4b5c-b1f5-d0117c353c0e",
        "is_code_hidden": false,
        "deepnote_to_be_reexecuted": false,
        "source_hash": "3eeb08fe",
        "execution_start": 1616815612918,
        "execution_millis": 0,
        "deepnote_cell_type": "code"
      },
      "source": "g = count(10)",
      "execution_count": 2,
      "outputs": []
    },
    {
      "cell_type": "code",
      "metadata": {
        "cell_id": "00006-18341445-e23e-442b-820d-6c493d531fc8",
        "is_code_hidden": false,
        "output_cleared": false,
        "source_hash": "b2762f18",
        "deepnote_to_be_reexecuted": false,
        "execution_start": 1616815617680,
        "execution_millis": 12,
        "deepnote_cell_type": "code"
      },
      "source": "list(islice(g, 5))",
      "execution_count": 3,
      "outputs": [
        {
          "output_type": "execute_result",
          "execution_count": 3,
          "data": {
            "text/plain": "[10, 11, 12, 13, 14]"
          },
          "metadata": {}
        }
      ]
    },
    {
      "cell_type": "code",
      "metadata": {
        "collapsed": true,
        "cell_id": "00007-1d539ba1-8f07-4405-b187-2259f65b5dd9",
        "is_code_hidden": false,
        "deepnote_to_be_reexecuted": false,
        "source_hash": "dc005d94",
        "execution_start": 1616815642430,
        "execution_millis": 0,
        "deepnote_cell_type": "code"
      },
      "source": "g = count(10, step=2)",
      "execution_count": 4,
      "outputs": []
    },
    {
      "cell_type": "code",
      "metadata": {
        "cell_id": "00008-24449192-c4d4-4ec9-ac6e-fd800f32d979",
        "output_cleared": false,
        "source_hash": "b2762f18",
        "is_code_hidden": false,
        "deepnote_to_be_reexecuted": false,
        "execution_start": 1616815646240,
        "execution_millis": 6,
        "deepnote_cell_type": "code"
      },
      "source": "list(islice(g, 5))",
      "execution_count": 5,
      "outputs": [
        {
          "output_type": "execute_result",
          "execution_count": 5,
          "data": {
            "text/plain": "[10, 12, 14, 16, 18]"
          },
          "metadata": {}
        }
      ]
    },
    {
      "cell_type": "code",
      "metadata": {
        "collapsed": true,
        "cell_id": "00010-2183d9f5-d213-45d9-981c-8d6129d3990d",
        "is_code_hidden": false,
        "deepnote_to_be_reexecuted": false,
        "source_hash": "617fed1b",
        "execution_start": 1616815658391,
        "execution_millis": 1,
        "deepnote_cell_type": "code"
      },
      "source": "g = count(10.5, 0.5)",
      "execution_count": 6,
      "outputs": []
    },
    {
      "cell_type": "code",
      "metadata": {
        "cell_id": "00011-591680fd-9bdc-430c-9125-4b3e57a3a540",
        "is_code_hidden": false,
        "output_cleared": false,
        "source_hash": "b2762f18",
        "deepnote_to_be_reexecuted": false,
        "execution_start": 1616815661114,
        "execution_millis": 11,
        "deepnote_cell_type": "code"
      },
      "source": "list(islice(g, 5))",
      "execution_count": 7,
      "outputs": [
        {
          "output_type": "execute_result",
          "execution_count": 7,
          "data": {
            "text/plain": "[10.5, 11.0, 11.5, 12.0, 12.5]"
          },
          "metadata": {}
        }
      ]
    },
    {
      "cell_type": "code",
      "metadata": {
        "collapsed": true,
        "cell_id": "00013-685b11a3-c7d4-4e18-9ec7-389c4ff64b7e",
        "is_code_hidden": false,
        "deepnote_to_be_reexecuted": false,
        "source_hash": "d872b186",
        "execution_millis": 3,
        "execution_start": 1616815707260,
        "deepnote_cell_type": "code"
      },
      "source": "g = count(1+1j, 1+2j)",
      "execution_count": 9,
      "outputs": []
    },
    {
      "cell_type": "code",
      "metadata": {
        "cell_id": "00014-7da2086f-abbe-4ead-b510-43d74d2b3f38",
        "output_cleared": false,
        "source_hash": "b2762f18",
        "is_code_hidden": false,
        "deepnote_to_be_reexecuted": false,
        "execution_start": 1616815711702,
        "execution_millis": 9,
        "deepnote_cell_type": "code"
      },
      "source": "list(islice(g, 5))",
      "execution_count": 10,
      "outputs": [
        {
          "output_type": "execute_result",
          "execution_count": 10,
          "data": {
            "text/plain": "[(1+1j), (2+3j), (3+5j), (4+7j), (5+9j)]"
          },
          "metadata": {}
        }
      ]
    },
    {
      "cell_type": "code",
      "metadata": {
        "collapsed": true,
        "cell_id": "00016-28b3aed3-6d6e-45f6-a7a2-010734e30b23",
        "is_code_hidden": false,
        "deepnote_to_be_reexecuted": false,
        "source_hash": "1559413a",
        "execution_start": 1616815722140,
        "execution_millis": 2,
        "deepnote_cell_type": "code"
      },
      "source": "from decimal import Decimal",
      "execution_count": 11,
      "outputs": []
    },
    {
      "cell_type": "code",
      "metadata": {
        "collapsed": true,
        "cell_id": "00017-bba4992d-1322-4fe9-b630-441ef441b5ef",
        "is_code_hidden": false,
        "deepnote_to_be_reexecuted": false,
        "source_hash": "a714034e",
        "execution_start": 1616815726079,
        "execution_millis": 0,
        "deepnote_cell_type": "code"
      },
      "source": "g = count(Decimal('0.0'), Decimal('0.1'))",
      "execution_count": 12,
      "outputs": []
    },
    {
      "cell_type": "code",
      "metadata": {
        "cell_id": "00018-d38b2f2e-8848-4a9f-a979-84f375880612",
        "is_code_hidden": false,
        "output_cleared": false,
        "source_hash": "b2762f18",
        "deepnote_to_be_reexecuted": false,
        "execution_start": 1616815729973,
        "execution_millis": 17,
        "deepnote_cell_type": "code"
      },
      "source": "list(islice(g, 5))",
      "execution_count": 13,
      "outputs": [
        {
          "output_type": "execute_result",
          "execution_count": 13,
          "data": {
            "text/plain": "[Decimal('0.0'),\n Decimal('0.1'),\n Decimal('0.2'),\n Decimal('0.3'),\n Decimal('0.4')]"
          },
          "metadata": {}
        }
      ]
    },
    {
      "cell_type": "markdown",
      "source": "### Cycle",
      "metadata": {
        "cell_id": "00019-829174c9-e0a4-469a-8a7c-1a5968d876b3",
        "deepnote_cell_type": "markdown"
      }
    },
    {
      "cell_type": "code",
      "metadata": {
        "collapsed": true,
        "cell_id": "00021-2d13ff60-8380-45d7-b18b-0578db617abc",
        "is_code_hidden": false,
        "deepnote_to_be_reexecuted": false,
        "source_hash": "5b8c98d5",
        "execution_start": 1616815749062,
        "execution_millis": 1,
        "deepnote_cell_type": "code"
      },
      "source": "g = cycle(('red', 'green', 'blue'))",
      "execution_count": 14,
      "outputs": []
    },
    {
      "cell_type": "code",
      "metadata": {
        "cell_id": "00022-7df0570e-9c33-4a9f-be75-62fda1c8eebe",
        "is_code_hidden": false,
        "output_cleared": false,
        "source_hash": "ae615ef8",
        "deepnote_to_be_reexecuted": false,
        "execution_start": 1616815769782,
        "execution_millis": 8,
        "deepnote_cell_type": "code"
      },
      "source": "list(islice(g, 8))",
      "execution_count": 15,
      "outputs": [
        {
          "output_type": "execute_result",
          "execution_count": 15,
          "data": {
            "text/plain": "['red', 'green', 'blue', 'red', 'green', 'blue', 'red', 'green']"
          },
          "metadata": {}
        }
      ]
    },
    {
      "cell_type": "code",
      "metadata": {
        "collapsed": true,
        "cell_id": "00025-8163c852-b4a4-412c-a962-a619dab4fe05",
        "is_code_hidden": false,
        "deepnote_to_be_reexecuted": false,
        "source_hash": "30e834be",
        "execution_start": 1616815788325,
        "execution_millis": 2,
        "deepnote_cell_type": "code"
      },
      "source": "def colors():\n    yield 'red'\n    yield 'green'\n    yield 'blue'",
      "execution_count": 16,
      "outputs": []
    },
    {
      "cell_type": "code",
      "metadata": {
        "collapsed": true,
        "cell_id": "00026-e2ddea61-9f62-46b0-bac0-087b4c081850",
        "is_code_hidden": false,
        "deepnote_to_be_reexecuted": false,
        "source_hash": "f7c8fbe",
        "execution_start": 1616815791626,
        "execution_millis": 2,
        "deepnote_cell_type": "code"
      },
      "source": "cols = colors()",
      "execution_count": 17,
      "outputs": []
    },
    {
      "cell_type": "code",
      "metadata": {
        "cell_id": "00027-24708bd5-a1c7-450b-8d04-2ccbe70e9172",
        "is_code_hidden": false,
        "output_cleared": false,
        "source_hash": "31484e66",
        "deepnote_to_be_reexecuted": false,
        "execution_start": 1616815794823,
        "execution_millis": 9,
        "deepnote_cell_type": "code"
      },
      "source": "list(cols)",
      "execution_count": 18,
      "outputs": [
        {
          "output_type": "execute_result",
          "execution_count": 18,
          "data": {
            "text/plain": "['red', 'green', 'blue']"
          },
          "metadata": {}
        }
      ]
    },
    {
      "cell_type": "code",
      "metadata": {
        "cell_id": "00028-d3f52192-4bb9-4e54-94a0-c518f55b4f11",
        "is_code_hidden": false,
        "output_cleared": false,
        "source_hash": "31484e66",
        "deepnote_to_be_reexecuted": false,
        "execution_start": 1616815800236,
        "execution_millis": 6,
        "deepnote_cell_type": "code"
      },
      "source": "list(cols)",
      "execution_count": 19,
      "outputs": [
        {
          "output_type": "execute_result",
          "execution_count": 19,
          "data": {
            "text/plain": "[]"
          },
          "metadata": {}
        }
      ]
    },
    {
      "cell_type": "code",
      "metadata": {
        "collapsed": true,
        "cell_id": "00030-9e8abcd4-b88d-48bd-a34f-92e168ef646a",
        "is_code_hidden": false,
        "deepnote_to_be_reexecuted": false,
        "source_hash": "b430135b",
        "execution_start": 1616815808390,
        "execution_millis": 2,
        "deepnote_cell_type": "code"
      },
      "source": "cols = colors()\ng = cycle(cols)",
      "execution_count": 20,
      "outputs": []
    },
    {
      "cell_type": "code",
      "metadata": {
        "cell_id": "00031-c9db2d28-d201-462e-a9af-25de11391c46",
        "is_code_hidden": false,
        "output_cleared": false,
        "source_hash": "7833058",
        "deepnote_to_be_reexecuted": false,
        "execution_start": 1616815812230,
        "execution_millis": 902,
        "deepnote_cell_type": "code"
      },
      "source": "list(islice(g, 10))",
      "execution_count": 21,
      "outputs": [
        {
          "output_type": "execute_result",
          "execution_count": 21,
          "data": {
            "text/plain": "['red', 'green', 'blue', 'red', 'green', 'blue', 'red', 'green', 'blue', 'red']"
          },
          "metadata": {}
        }
      ]
    },
    {
      "cell_type": "markdown",
      "source": "##### Example",
      "metadata": {
        "cell_id": "00033-10f6984e-7945-4dc7-89bf-881ca9a82f3f",
        "deepnote_cell_type": "markdown"
      }
    },
    {
      "cell_type": "code",
      "metadata": {
        "collapsed": true,
        "cell_id": "00035-be85a484-1dcc-49e8-8645-ee585e8d1003",
        "is_code_hidden": false,
        "deepnote_to_be_reexecuted": false,
        "source_hash": "bb47e1e2",
        "execution_start": 1616815827871,
        "execution_millis": 1,
        "deepnote_cell_type": "code"
      },
      "source": "from collections import namedtuple",
      "execution_count": 22,
      "outputs": []
    },
    {
      "cell_type": "code",
      "metadata": {
        "collapsed": true,
        "cell_id": "00036-ed7642f1-a5ac-4243-8793-ea9ea411cccb",
        "is_code_hidden": false,
        "deepnote_to_be_reexecuted": false,
        "source_hash": "7c8f2ae2",
        "execution_start": 1616815831324,
        "execution_millis": 1,
        "deepnote_cell_type": "code"
      },
      "source": "Card = namedtuple('Card', 'rank suit')",
      "execution_count": 23,
      "outputs": []
    },
    {
      "cell_type": "code",
      "metadata": {
        "collapsed": true,
        "cell_id": "00037-d58d919e-8ae3-4a71-b125-488bf4c9c34f",
        "is_code_hidden": false,
        "deepnote_to_be_reexecuted": false,
        "source_hash": "722f828f",
        "execution_start": 1616815845054,
        "execution_millis": 2,
        "deepnote_cell_type": "code"
      },
      "source": "def card_deck():\n    ranks = tuple(str(num) for num in range(2, 11)) + tuple('JQKA')\n    suits = ('Spades', 'Hearts', 'Diamonds', 'Clubs')\n    for suit in suits:\n        for rank in ranks:\n            yield Card(rank, suit)",
      "execution_count": 24,
      "outputs": []
    },
    {
      "cell_type": "code",
      "metadata": {
        "collapsed": true,
        "cell_id": "00040-7dfdfed1-3fee-4333-8bc8-ac4a58d2b72a",
        "is_code_hidden": false,
        "deepnote_to_be_reexecuted": false,
        "source_hash": "70434c7f",
        "execution_start": 1616815849162,
        "execution_millis": 0,
        "deepnote_cell_type": "code"
      },
      "source": "hands = [list() for _ in range(4)]",
      "execution_count": 25,
      "outputs": []
    },
    {
      "cell_type": "code",
      "metadata": {
        "cell_id": "00041-b4bf6f66-a0df-44df-b0f2-aec2ec589ba3",
        "output_cleared": false,
        "source_hash": "ec1c7bf3",
        "is_code_hidden": false,
        "deepnote_to_be_reexecuted": false,
        "execution_start": 1616815852584,
        "execution_millis": 12,
        "deepnote_cell_type": "code"
      },
      "source": "hands",
      "execution_count": 26,
      "outputs": [
        {
          "output_type": "execute_result",
          "execution_count": 26,
          "data": {
            "text/plain": "[[], [], [], []]"
          },
          "metadata": {}
        }
      ]
    },
    {
      "cell_type": "code",
      "metadata": {
        "collapsed": true,
        "cell_id": "00042-8855d3aa-965c-4875-b811-2a7a0aca084a",
        "is_code_hidden": false,
        "deepnote_to_be_reexecuted": false,
        "source_hash": "15b414f5",
        "execution_start": 1616815860243,
        "execution_millis": 1,
        "deepnote_cell_type": "code"
      },
      "source": "index = 0\nfor card in card_deck():\n    index = index % 4\n    hands[index].append(card)\n    index += 1",
      "execution_count": 27,
      "outputs": []
    },
    {
      "cell_type": "code",
      "metadata": {
        "cell_id": "00043-0ecbfc07-9e45-41a8-8716-c5db5a74c2a2",
        "output_cleared": false,
        "source_hash": "ec1c7bf3",
        "is_code_hidden": false,
        "deepnote_to_be_reexecuted": false,
        "execution_start": 1616815864105,
        "execution_millis": 7,
        "deepnote_cell_type": "code"
      },
      "source": "hands",
      "execution_count": 28,
      "outputs": [
        {
          "output_type": "execute_result",
          "execution_count": 28,
          "data": {
            "text/plain": "[[Card(rank='2', suit='Spades'),\n  Card(rank='6', suit='Spades'),\n  Card(rank='10', suit='Spades'),\n  Card(rank='A', suit='Spades'),\n  Card(rank='5', suit='Hearts'),\n  Card(rank='9', suit='Hearts'),\n  Card(rank='K', suit='Hearts'),\n  Card(rank='4', suit='Diamonds'),\n  Card(rank='8', suit='Diamonds'),\n  Card(rank='Q', suit='Diamonds'),\n  Card(rank='3', suit='Clubs'),\n  Card(rank='7', suit='Clubs'),\n  Card(rank='J', suit='Clubs')],\n [Card(rank='3', suit='Spades'),\n  Card(rank='7', suit='Spades'),\n  Card(rank='J', suit='Spades'),\n  Card(rank='2', suit='Hearts'),\n  Card(rank='6', suit='Hearts'),\n  Card(rank='10', suit='Hearts'),\n  Card(rank='A', suit='Hearts'),\n  Card(rank='5', suit='Diamonds'),\n  Card(rank='9', suit='Diamonds'),\n  Card(rank='K', suit='Diamonds'),\n  Card(rank='4', suit='Clubs'),\n  Card(rank='8', suit='Clubs'),\n  Card(rank='Q', suit='Clubs')],\n [Card(rank='4', suit='Spades'),\n  Card(rank='8', suit='Spades'),\n  Card(rank='Q', suit='Spades'),\n  Card(rank='3', suit='Hearts'),\n  Card(rank='7', suit='Hearts'),\n  Card(rank='J', suit='Hearts'),\n  Card(rank='2', suit='Diamonds'),\n  Card(rank='6', suit='Diamonds'),\n  Card(rank='10', suit='Diamonds'),\n  Card(rank='A', suit='Diamonds'),\n  Card(rank='5', suit='Clubs'),\n  Card(rank='9', suit='Clubs'),\n  Card(rank='K', suit='Clubs')],\n [Card(rank='5', suit='Spades'),\n  Card(rank='9', suit='Spades'),\n  Card(rank='K', suit='Spades'),\n  Card(rank='4', suit='Hearts'),\n  Card(rank='8', suit='Hearts'),\n  Card(rank='Q', suit='Hearts'),\n  Card(rank='3', suit='Diamonds'),\n  Card(rank='7', suit='Diamonds'),\n  Card(rank='J', suit='Diamonds'),\n  Card(rank='2', suit='Clubs'),\n  Card(rank='6', suit='Clubs'),\n  Card(rank='10', suit='Clubs'),\n  Card(rank='A', suit='Clubs')]]"
          },
          "metadata": {}
        }
      ]
    },
    {
      "cell_type": "code",
      "metadata": {
        "collapsed": true,
        "cell_id": "00045-aaf6379f-6968-4355-8248-a7026ec8d316",
        "is_code_hidden": false,
        "deepnote_to_be_reexecuted": false,
        "source_hash": "70434c7f",
        "execution_start": 1616815885839,
        "execution_millis": 3,
        "deepnote_cell_type": "code"
      },
      "source": "hands = [list() for _ in range(4)]",
      "execution_count": 29,
      "outputs": []
    },
    {
      "cell_type": "code",
      "metadata": {
        "collapsed": true,
        "cell_id": "00046-6f4ef02f-acaf-43c4-a66d-4c35f17ba8b4",
        "is_code_hidden": false,
        "deepnote_to_be_reexecuted": false,
        "source_hash": "a8971dbc",
        "execution_start": 1616815891295,
        "execution_millis": 5,
        "deepnote_cell_type": "code"
      },
      "source": "index_cycle = cycle([0, 1, 2, 3])\nfor card in card_deck():\n    hands[next(index_cycle)].append(card)",
      "execution_count": 30,
      "outputs": []
    },
    {
      "cell_type": "code",
      "metadata": {
        "cell_id": "00047-120d7f79-2e48-4819-b056-c7e499b6c04b",
        "output_cleared": false,
        "source_hash": "ec1c7bf3",
        "is_code_hidden": false,
        "deepnote_to_be_reexecuted": false,
        "execution_start": 1616815905114,
        "execution_millis": 25,
        "deepnote_cell_type": "code"
      },
      "source": "hands",
      "execution_count": 31,
      "outputs": [
        {
          "output_type": "execute_result",
          "execution_count": 31,
          "data": {
            "text/plain": "[[Card(rank='2', suit='Spades'),\n  Card(rank='6', suit='Spades'),\n  Card(rank='10', suit='Spades'),\n  Card(rank='A', suit='Spades'),\n  Card(rank='5', suit='Hearts'),\n  Card(rank='9', suit='Hearts'),\n  Card(rank='K', suit='Hearts'),\n  Card(rank='4', suit='Diamonds'),\n  Card(rank='8', suit='Diamonds'),\n  Card(rank='Q', suit='Diamonds'),\n  Card(rank='3', suit='Clubs'),\n  Card(rank='7', suit='Clubs'),\n  Card(rank='J', suit='Clubs')],\n [Card(rank='3', suit='Spades'),\n  Card(rank='7', suit='Spades'),\n  Card(rank='J', suit='Spades'),\n  Card(rank='2', suit='Hearts'),\n  Card(rank='6', suit='Hearts'),\n  Card(rank='10', suit='Hearts'),\n  Card(rank='A', suit='Hearts'),\n  Card(rank='5', suit='Diamonds'),\n  Card(rank='9', suit='Diamonds'),\n  Card(rank='K', suit='Diamonds'),\n  Card(rank='4', suit='Clubs'),\n  Card(rank='8', suit='Clubs'),\n  Card(rank='Q', suit='Clubs')],\n [Card(rank='4', suit='Spades'),\n  Card(rank='8', suit='Spades'),\n  Card(rank='Q', suit='Spades'),\n  Card(rank='3', suit='Hearts'),\n  Card(rank='7', suit='Hearts'),\n  Card(rank='J', suit='Hearts'),\n  Card(rank='2', suit='Diamonds'),\n  Card(rank='6', suit='Diamonds'),\n  Card(rank='10', suit='Diamonds'),\n  Card(rank='A', suit='Diamonds'),\n  Card(rank='5', suit='Clubs'),\n  Card(rank='9', suit='Clubs'),\n  Card(rank='K', suit='Clubs')],\n [Card(rank='5', suit='Spades'),\n  Card(rank='9', suit='Spades'),\n  Card(rank='K', suit='Spades'),\n  Card(rank='4', suit='Hearts'),\n  Card(rank='8', suit='Hearts'),\n  Card(rank='Q', suit='Hearts'),\n  Card(rank='3', suit='Diamonds'),\n  Card(rank='7', suit='Diamonds'),\n  Card(rank='J', suit='Diamonds'),\n  Card(rank='2', suit='Clubs'),\n  Card(rank='6', suit='Clubs'),\n  Card(rank='10', suit='Clubs'),\n  Card(rank='A', suit='Clubs')]]"
          },
          "metadata": {}
        }
      ]
    },
    {
      "cell_type": "code",
      "metadata": {
        "collapsed": true,
        "cell_id": "00049-84b78357-8055-4e71-9321-9e4eaf77c96e",
        "is_code_hidden": false,
        "deepnote_to_be_reexecuted": false,
        "source_hash": "70434c7f",
        "execution_start": 1616815924958,
        "execution_millis": 0,
        "deepnote_cell_type": "code"
      },
      "source": "hands = [list() for _ in range(4)]",
      "execution_count": 32,
      "outputs": []
    },
    {
      "cell_type": "code",
      "metadata": {
        "cell_id": "00050-adca7350-83cc-4c3e-bbf3-c3d2188ec3e0",
        "is_code_hidden": false,
        "deepnote_to_be_reexecuted": false,
        "source_hash": "7f4da7e0",
        "execution_start": 1616815929851,
        "execution_millis": 3,
        "deepnote_cell_type": "code"
      },
      "source": "hands_cycle = cycle(hands)\nfor card in card_deck():\n    next(hands_cycle).append(card)",
      "execution_count": 33,
      "outputs": []
    },
    {
      "cell_type": "code",
      "metadata": {
        "cell_id": "00051-af48a139-827a-4e32-86d5-6f9d54746b20",
        "output_cleared": false,
        "source_hash": "ec1c7bf3",
        "is_code_hidden": false,
        "deepnote_to_be_reexecuted": false,
        "execution_start": 1616815933274,
        "execution_millis": 8,
        "deepnote_cell_type": "code"
      },
      "source": "hands",
      "execution_count": 34,
      "outputs": [
        {
          "output_type": "execute_result",
          "execution_count": 34,
          "data": {
            "text/plain": "[[Card(rank='2', suit='Spades'),\n  Card(rank='6', suit='Spades'),\n  Card(rank='10', suit='Spades'),\n  Card(rank='A', suit='Spades'),\n  Card(rank='5', suit='Hearts'),\n  Card(rank='9', suit='Hearts'),\n  Card(rank='K', suit='Hearts'),\n  Card(rank='4', suit='Diamonds'),\n  Card(rank='8', suit='Diamonds'),\n  Card(rank='Q', suit='Diamonds'),\n  Card(rank='3', suit='Clubs'),\n  Card(rank='7', suit='Clubs'),\n  Card(rank='J', suit='Clubs')],\n [Card(rank='3', suit='Spades'),\n  Card(rank='7', suit='Spades'),\n  Card(rank='J', suit='Spades'),\n  Card(rank='2', suit='Hearts'),\n  Card(rank='6', suit='Hearts'),\n  Card(rank='10', suit='Hearts'),\n  Card(rank='A', suit='Hearts'),\n  Card(rank='5', suit='Diamonds'),\n  Card(rank='9', suit='Diamonds'),\n  Card(rank='K', suit='Diamonds'),\n  Card(rank='4', suit='Clubs'),\n  Card(rank='8', suit='Clubs'),\n  Card(rank='Q', suit='Clubs')],\n [Card(rank='4', suit='Spades'),\n  Card(rank='8', suit='Spades'),\n  Card(rank='Q', suit='Spades'),\n  Card(rank='3', suit='Hearts'),\n  Card(rank='7', suit='Hearts'),\n  Card(rank='J', suit='Hearts'),\n  Card(rank='2', suit='Diamonds'),\n  Card(rank='6', suit='Diamonds'),\n  Card(rank='10', suit='Diamonds'),\n  Card(rank='A', suit='Diamonds'),\n  Card(rank='5', suit='Clubs'),\n  Card(rank='9', suit='Clubs'),\n  Card(rank='K', suit='Clubs')],\n [Card(rank='5', suit='Spades'),\n  Card(rank='9', suit='Spades'),\n  Card(rank='K', suit='Spades'),\n  Card(rank='4', suit='Hearts'),\n  Card(rank='8', suit='Hearts'),\n  Card(rank='Q', suit='Hearts'),\n  Card(rank='3', suit='Diamonds'),\n  Card(rank='7', suit='Diamonds'),\n  Card(rank='J', suit='Diamonds'),\n  Card(rank='2', suit='Clubs'),\n  Card(rank='6', suit='Clubs'),\n  Card(rank='10', suit='Clubs'),\n  Card(rank='A', suit='Clubs')]]"
          },
          "metadata": {}
        }
      ]
    },
    {
      "cell_type": "markdown",
      "source": "#### Repeat",
      "metadata": {
        "cell_id": "00052-74782377-8ea2-4933-9267-40c87fc4d1c4",
        "deepnote_cell_type": "markdown"
      }
    },
    {
      "cell_type": "code",
      "metadata": {
        "cell_id": "00054-c8724c90-e408-4e27-b09e-15c37d9be4d7",
        "output_cleared": false,
        "source_hash": "196f76a1",
        "is_code_hidden": false,
        "deepnote_to_be_reexecuted": false,
        "execution_start": 1616815954718,
        "execution_millis": 7,
        "deepnote_cell_type": "code"
      },
      "source": "g = repeat('Python')\nfor _ in range(5):\n    print(next(g))",
      "execution_count": 35,
      "outputs": [
        {
          "name": "stdout",
          "text": "Python\nPython\nPython\nPython\nPython\n",
          "output_type": "stream"
        }
      ]
    },
    {
      "cell_type": "code",
      "metadata": {
        "collapsed": true,
        "cell_id": "00056-6844a9d2-c7a2-4396-b710-5dd7f160f3fd",
        "is_code_hidden": false,
        "deepnote_to_be_reexecuted": false,
        "source_hash": "f79366ad",
        "execution_start": 1616815961713,
        "execution_millis": 2,
        "deepnote_cell_type": "code"
      },
      "source": "g = repeat('Python', 4)",
      "execution_count": 36,
      "outputs": []
    },
    {
      "cell_type": "code",
      "metadata": {
        "cell_id": "00057-0a198bc5-4456-4392-a7e0-9aa041e71274",
        "is_code_hidden": false,
        "output_cleared": false,
        "source_hash": "e7b886de",
        "deepnote_to_be_reexecuted": false,
        "execution_start": 1616815964744,
        "execution_millis": 6,
        "deepnote_cell_type": "code"
      },
      "source": "list(g)",
      "execution_count": 37,
      "outputs": [
        {
          "output_type": "execute_result",
          "execution_count": 37,
          "data": {
            "text/plain": "['Python', 'Python', 'Python', 'Python']"
          },
          "metadata": {}
        }
      ]
    },
    {
      "cell_type": "code",
      "metadata": {
        "collapsed": true,
        "cell_id": "00060-6f3d0e5b-dd74-4301-95c2-5745b6fd6771",
        "is_code_hidden": false,
        "deepnote_to_be_reexecuted": false,
        "source_hash": "7fb96b43",
        "execution_start": 1616815977137,
        "execution_millis": 0,
        "deepnote_cell_type": "code"
      },
      "source": "l = [1, 2, 3]",
      "execution_count": 38,
      "outputs": []
    },
    {
      "cell_type": "code",
      "metadata": {
        "collapsed": true,
        "cell_id": "00061-4981eaf3-2a22-4684-9eec-0ad2b54ec577",
        "is_code_hidden": false,
        "deepnote_to_be_reexecuted": false,
        "source_hash": "ee786c92",
        "execution_start": 1616815981373,
        "execution_millis": 5,
        "deepnote_cell_type": "code"
      },
      "source": "result = list(repeat(l, 3))",
      "execution_count": 39,
      "outputs": []
    },
    {
      "cell_type": "code",
      "metadata": {
        "cell_id": "00062-40b0a8b3-3e97-4ffa-bc3d-9516c9f36e1f",
        "is_code_hidden": false,
        "output_cleared": false,
        "source_hash": "bae0e1b5",
        "deepnote_to_be_reexecuted": false,
        "execution_start": 1616815984805,
        "execution_millis": 9,
        "deepnote_cell_type": "code"
      },
      "source": "result",
      "execution_count": 40,
      "outputs": [
        {
          "output_type": "execute_result",
          "execution_count": 40,
          "data": {
            "text/plain": "[[1, 2, 3], [1, 2, 3], [1, 2, 3]]"
          },
          "metadata": {}
        }
      ]
    },
    {
      "cell_type": "code",
      "metadata": {
        "cell_id": "00063-50a02344-f38a-40e0-85ad-5573046981e0",
        "is_code_hidden": false,
        "output_cleared": false,
        "source_hash": "d42aa733",
        "deepnote_to_be_reexecuted": false,
        "execution_start": 1616815996483,
        "execution_millis": 6,
        "deepnote_cell_type": "code"
      },
      "source": "l is result[0], l is result[1], l is result[2]",
      "execution_count": 41,
      "outputs": [
        {
          "output_type": "execute_result",
          "execution_count": 41,
          "data": {
            "text/plain": "(True, True, True)"
          },
          "metadata": {}
        }
      ]
    },
    {
      "cell_type": "code",
      "metadata": {
        "cell_id": "00065-0c930439-ff43-4e0d-8420-7caf5790cb7e",
        "output_cleared": false,
        "source_hash": "8961615",
        "is_code_hidden": false,
        "deepnote_to_be_reexecuted": false,
        "execution_start": 1616816013524,
        "execution_millis": 75,
        "deepnote_cell_type": "code"
      },
      "source": "result[0], result[1], result[2]",
      "execution_count": 42,
      "outputs": [
        {
          "output_type": "execute_result",
          "execution_count": 42,
          "data": {
            "text/plain": "([1, 2, 3], [1, 2, 3], [1, 2, 3])"
          },
          "metadata": {}
        }
      ]
    },
    {
      "cell_type": "code",
      "metadata": {
        "collapsed": true,
        "cell_id": "00066-a1491a3c-0f41-4f98-a94a-ba81a33e283b",
        "is_code_hidden": false,
        "deepnote_to_be_reexecuted": false,
        "source_hash": "db29b55e",
        "execution_start": 1616816018548,
        "execution_millis": 2,
        "deepnote_cell_type": "code"
      },
      "source": "result[0][0] = 100",
      "execution_count": 43,
      "outputs": []
    },
    {
      "cell_type": "code",
      "metadata": {
        "cell_id": "00067-78565d9f-69f7-49c0-9a56-ab1ea216396f",
        "output_cleared": false,
        "source_hash": "8961615",
        "is_code_hidden": false,
        "deepnote_to_be_reexecuted": false,
        "execution_start": 1616816021938,
        "execution_millis": 2,
        "deepnote_cell_type": "code"
      },
      "source": "result[0], result[1], result[2]",
      "execution_count": 44,
      "outputs": [
        {
          "output_type": "execute_result",
          "execution_count": 44,
          "data": {
            "text/plain": "([100, 2, 3], [100, 2, 3], [100, 2, 3])"
          },
          "metadata": {}
        }
      ]
    },
    {
      "cell_type": "code",
      "metadata": {
        "collapsed": true,
        "cell_id": "00069-e53c3086-9a02-4b53-822b-04f6d830d657",
        "is_code_hidden": false,
        "deepnote_to_be_reexecuted": false,
        "source_hash": "8af9f099",
        "execution_start": 1616816028373,
        "execution_millis": 2,
        "deepnote_cell_type": "code"
      },
      "source": "l = [1, 2, 3]\nresult = [item[:] for item in repeat(l, 3)]",
      "execution_count": 45,
      "outputs": []
    },
    {
      "cell_type": "code",
      "metadata": {
        "cell_id": "00070-51b9d233-9d2f-456f-96ee-551aa1a5c142",
        "output_cleared": false,
        "source_hash": "bae0e1b5",
        "is_code_hidden": false,
        "deepnote_to_be_reexecuted": false,
        "execution_start": 1616816041031,
        "execution_millis": 13,
        "deepnote_cell_type": "code"
      },
      "source": "result",
      "execution_count": 46,
      "outputs": [
        {
          "output_type": "execute_result",
          "execution_count": 46,
          "data": {
            "text/plain": "[[1, 2, 3], [1, 2, 3], [1, 2, 3]]"
          },
          "metadata": {}
        }
      ]
    },
    {
      "cell_type": "code",
      "metadata": {
        "cell_id": "00071-5856e44a-bc1a-4652-a24b-1cc9f6548132",
        "output_cleared": false,
        "source_hash": "d42aa733",
        "is_code_hidden": false,
        "deepnote_to_be_reexecuted": false,
        "execution_start": 1616816044969,
        "execution_millis": 9,
        "deepnote_cell_type": "code"
      },
      "source": "l is result[0], l is result[1], l is result[2]",
      "execution_count": 47,
      "outputs": [
        {
          "output_type": "execute_result",
          "execution_count": 47,
          "data": {
            "text/plain": "(False, False, False)"
          },
          "metadata": {}
        }
      ]
    },
    {
      "cell_type": "code",
      "metadata": {
        "collapsed": true,
        "cell_id": "00072-9c8fd232-3514-4715-817f-bb80d3239a3e",
        "is_code_hidden": false,
        "deepnote_to_be_reexecuted": false,
        "source_hash": "db29b55e",
        "execution_start": 1616816049222,
        "execution_millis": 0,
        "deepnote_cell_type": "code"
      },
      "source": "result[0][0] = 100",
      "execution_count": 48,
      "outputs": []
    },
    {
      "cell_type": "code",
      "metadata": {
        "cell_id": "00073-16ceab83-2313-47e7-9d2a-1f5fa0477c7f",
        "output_cleared": false,
        "source_hash": "bae0e1b5",
        "is_code_hidden": false,
        "deepnote_to_be_reexecuted": false,
        "execution_start": 1616816053991,
        "execution_millis": 6,
        "deepnote_cell_type": "code"
      },
      "source": "result",
      "execution_count": 49,
      "outputs": [
        {
          "output_type": "execute_result",
          "execution_count": 49,
          "data": {
            "text/plain": "[[100, 2, 3], [1, 2, 3], [1, 2, 3]]"
          },
          "metadata": {}
        }
      ]
    },
    {
      "cell_type": "markdown",
      "source": "<a style='text-decoration:none;line-height:16px;display:flex;color:#5B5B62;padding:10px;justify-content:end;' href='https://deepnote.com?utm_source=created-in-deepnote-cell&projectId=e37e4a4c-30ea-454e-8d75-ad8a2edc05d3' target=\"_blank\">\n<img style='display:inline;max-height:16px;margin:0px;margin-right:7.5px;' src='data:image/svg+xml;base64,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' > </img>\nCreated in <span style='font-weight:600;margin-left:4px;'>Deepnote</span></a>",
      "metadata": {
        "tags": [],
        "created_in_deepnote_cell": true,
        "deepnote_cell_type": "markdown"
      }
    }
  ],
  "nbformat": 4,
  "nbformat_minor": 2,
  "metadata": {
    "kernelspec": {
      "display_name": "Python 3",
      "language": "python",
      "name": "python3"
    },
    "language_info": {
      "codemirror_mode": {
        "name": "ipython",
        "version": 3
      },
      "file_extension": ".py",
      "mimetype": "text/x-python",
      "name": "python",
      "nbconvert_exporter": "python",
      "pygments_lexer": "ipython3",
      "version": "3.6.2"
    },
    "deepnote_notebook_id": "bbc95cdf-0bd5-44fa-bc96-d811cc5ff9f2",
    "deepnote": {},
    "deepnote_execution_queue": []
  }
}