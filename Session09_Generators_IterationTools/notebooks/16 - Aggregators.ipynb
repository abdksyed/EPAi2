{
  "cells": [
    {
      "cell_type": "markdown",
      "source": "### Aggregators",
      "metadata": {
        "cell_id": "00000-9ccea1f3-f61d-441e-8a04-70de06a8ec72",
        "deepnote_cell_type": "markdown"
      }
    },
    {
      "cell_type": "code",
      "metadata": {
        "collapsed": true,
        "cell_id": "00002-1826ddd4-2945-439a-bacd-4fe431bfb402",
        "is_code_hidden": false,
        "deepnote_to_be_reexecuted": false,
        "source_hash": "5fcb38bb",
        "execution_start": 1616813505801,
        "execution_millis": 3,
        "deepnote_cell_type": "code"
      },
      "source": "def squares(n):\n    for i in range(n):\n        yield i**2",
      "execution_count": 1,
      "outputs": []
    },
    {
      "cell_type": "code",
      "metadata": {
        "cell_id": "00003-4f0a7bb8-e014-4c9e-b4ff-f69dd65f822b",
        "is_code_hidden": false,
        "output_cleared": false,
        "source_hash": "ffe31377",
        "deepnote_to_be_reexecuted": false,
        "execution_start": 1616813505809,
        "execution_millis": 26,
        "deepnote_cell_type": "code"
      },
      "source": "list(squares(5))",
      "execution_count": 2,
      "outputs": [
        {
          "output_type": "execute_result",
          "execution_count": 2,
          "data": {
            "text/plain": "[0, 1, 4, 9, 16]"
          },
          "metadata": {}
        }
      ]
    },
    {
      "cell_type": "code",
      "metadata": {
        "cell_id": "00005-8a790879-677c-4fb3-9836-6c90bff51ef0",
        "output_cleared": false,
        "source_hash": "77309979",
        "is_code_hidden": false,
        "deepnote_to_be_reexecuted": false,
        "execution_start": 1616813505842,
        "execution_millis": 15,
        "deepnote_cell_type": "code"
      },
      "source": "min(squares(5))",
      "execution_count": 3,
      "outputs": [
        {
          "output_type": "execute_result",
          "execution_count": 3,
          "data": {
            "text/plain": "0"
          },
          "metadata": {}
        }
      ]
    },
    {
      "cell_type": "code",
      "metadata": {
        "cell_id": "00006-ccebaadf-1ff3-4466-925a-1527dce95ea2",
        "output_cleared": false,
        "source_hash": "3d352f11",
        "is_code_hidden": false,
        "deepnote_to_be_reexecuted": false,
        "execution_start": 1616813505855,
        "execution_millis": 1,
        "deepnote_cell_type": "code"
      },
      "source": "max(squares(5))",
      "execution_count": 4,
      "outputs": [
        {
          "output_type": "execute_result",
          "execution_count": 4,
          "data": {
            "text/plain": "16"
          },
          "metadata": {}
        }
      ]
    },
    {
      "cell_type": "code",
      "metadata": {
        "collapsed": true,
        "cell_id": "00008-ab4d24a4-7be7-48c5-ba35-0e4ab5fd25a9",
        "is_code_hidden": false,
        "deepnote_to_be_reexecuted": false,
        "source_hash": "b209a8fd",
        "execution_start": 1616813505899,
        "execution_millis": 6,
        "deepnote_cell_type": "code"
      },
      "source": "sq = squares(5)",
      "execution_count": 5,
      "outputs": []
    },
    {
      "cell_type": "code",
      "metadata": {
        "cell_id": "00009-257e1ed4-2539-49fc-9805-ee3f5454eed9",
        "output_cleared": false,
        "source_hash": "f174b440",
        "is_code_hidden": false,
        "deepnote_to_be_reexecuted": false,
        "execution_start": 1616813505899,
        "deepnote_cell_type": "code"
      },
      "source": "max(sq)",
      "execution_count": 6,
      "outputs": [
        {
          "output_type": "execute_result",
          "execution_count": 6,
          "data": {
            "text/plain": "16"
          },
          "metadata": {}
        }
      ]
    },
    {
      "cell_type": "code",
      "metadata": {
        "cell_id": "00010-5839e469-e161-4724-93da-8c6eea17bc60",
        "output_cleared": false,
        "source_hash": "c60d9f2c",
        "is_code_hidden": false,
        "deepnote_to_be_reexecuted": false,
        "execution_start": 1616813505900,
        "execution_millis": 243,
        "deepnote_cell_type": "code"
      },
      "source": "min(sq)",
      "execution_count": 7,
      "outputs": [
        {
          "output_type": "error",
          "ename": "ValueError",
          "evalue": "min() arg is an empty sequence",
          "traceback": [
            "\u001b[0;31m---------------------------------------------------------------------------\u001b[0m",
            "\u001b[0;31mValueError\u001b[0m                                Traceback (most recent call last)",
            "\u001b[0;32m<ipython-input-7-e566527090e6>\u001b[0m in \u001b[0;36m<module>\u001b[0;34m\u001b[0m\n\u001b[0;32m----> 1\u001b[0;31m \u001b[0mmin\u001b[0m\u001b[0;34m(\u001b[0m\u001b[0msq\u001b[0m\u001b[0;34m)\u001b[0m\u001b[0;34m\u001b[0m\u001b[0;34m\u001b[0m\u001b[0m\n\u001b[0m",
            "\u001b[0;31mValueError\u001b[0m: min() arg is an empty sequence"
          ]
        }
      ]
    },
    {
      "cell_type": "code",
      "metadata": {
        "cell_id": "00012-43a4a4df-7b48-4833-83c7-9f2f6caac7a2",
        "output_cleared": true,
        "source_hash": "ffe31377",
        "is_code_hidden": false,
        "deepnote_to_be_reexecuted": true,
        "deepnote_cell_type": "code"
      },
      "source": "list(squares(5))",
      "execution_count": null,
      "outputs": []
    },
    {
      "cell_type": "code",
      "metadata": {
        "cell_id": "00013-87f3293f-93c4-412c-a3e0-7a69b5a984f6",
        "output_cleared": true,
        "source_hash": "d7465617",
        "is_code_hidden": false,
        "deepnote_to_be_reexecuted": true,
        "deepnote_cell_type": "code"
      },
      "source": "sum(squares(5))",
      "execution_count": null,
      "outputs": []
    },
    {
      "cell_type": "markdown",
      "source": "#### The `any` function",
      "metadata": {
        "cell_id": "00014-de856250-d91d-4137-aefc-b2615e9f47ff",
        "deepnote_cell_type": "markdown"
      }
    },
    {
      "cell_type": "code",
      "metadata": {
        "collapsed": true,
        "cell_id": "00016-943b9a9c-979b-4ec4-b638-16d54710d224",
        "is_code_hidden": false,
        "deepnote_to_be_reexecuted": false,
        "source_hash": "fe7d3653",
        "execution_start": 1616813509997,
        "execution_millis": 5,
        "deepnote_cell_type": "code"
      },
      "source": "class Person:\n    pass",
      "execution_count": 8,
      "outputs": []
    },
    {
      "cell_type": "code",
      "metadata": {
        "collapsed": true,
        "cell_id": "00017-724e91b7-3547-4c25-82e2-8682963f0d62",
        "is_code_hidden": false,
        "deepnote_to_be_reexecuted": false,
        "source_hash": "a8549f97",
        "execution_start": 1616813514150,
        "execution_millis": 3,
        "deepnote_cell_type": "code"
      },
      "source": "p = Person()",
      "execution_count": 9,
      "outputs": []
    },
    {
      "cell_type": "code",
      "metadata": {
        "cell_id": "00018-5418f9e8-78c8-4f83-88d4-2161bfd5f9f2",
        "is_code_hidden": false,
        "output_cleared": false,
        "source_hash": "49a3b951",
        "deepnote_to_be_reexecuted": false,
        "execution_start": 1616813519042,
        "execution_millis": 7,
        "deepnote_cell_type": "code"
      },
      "source": "bool(p)",
      "execution_count": 10,
      "outputs": [
        {
          "output_type": "execute_result",
          "execution_count": 10,
          "data": {
            "text/plain": "True"
          },
          "metadata": {}
        }
      ]
    },
    {
      "cell_type": "code",
      "metadata": {
        "collapsed": true,
        "cell_id": "00020-85dc5cbf-6a76-4c17-bfc6-2bcd997c603f",
        "is_code_hidden": false,
        "deepnote_to_be_reexecuted": false,
        "source_hash": "1b07f597",
        "execution_start": 1616813577750,
        "execution_millis": 1,
        "deepnote_cell_type": "code"
      },
      "source": "class MySeq:\n    def __init__(self, n):\n        self.n = n\n        \n    def __len__(self):\n        return self.n\n    \n    def __getitem__(self, s):\n        pass",
      "execution_count": 11,
      "outputs": []
    },
    {
      "cell_type": "code",
      "metadata": {
        "collapsed": true,
        "cell_id": "00021-447621e8-c11a-43d9-b516-6134d062ed6f",
        "is_code_hidden": false,
        "deepnote_to_be_reexecuted": false,
        "source_hash": "577ad285",
        "execution_start": 1616813581981,
        "execution_millis": 1,
        "deepnote_cell_type": "code"
      },
      "source": "my_seq = MySeq(0)",
      "execution_count": 12,
      "outputs": []
    },
    {
      "cell_type": "code",
      "metadata": {
        "cell_id": "00022-84b81025-6b3c-42d2-bbc6-c9cc5caf13ef",
        "output_cleared": false,
        "source_hash": "727b471b",
        "is_code_hidden": false,
        "deepnote_to_be_reexecuted": false,
        "execution_start": 1616813585828,
        "execution_millis": 9,
        "deepnote_cell_type": "code"
      },
      "source": "bool(my_seq)",
      "execution_count": 13,
      "outputs": [
        {
          "output_type": "execute_result",
          "execution_count": 13,
          "data": {
            "text/plain": "False"
          },
          "metadata": {}
        }
      ]
    },
    {
      "cell_type": "code",
      "metadata": {
        "collapsed": true,
        "cell_id": "00023-3fbfb07a-3964-49ba-979c-cbfebf024802",
        "is_code_hidden": false,
        "deepnote_to_be_reexecuted": false,
        "source_hash": "90e912fe",
        "execution_start": 1616813614387,
        "execution_millis": 0,
        "deepnote_cell_type": "code"
      },
      "source": "my_seq = MySeq(10)",
      "execution_count": 14,
      "outputs": []
    },
    {
      "cell_type": "code",
      "metadata": {
        "cell_id": "00024-e9bd668a-05c3-41ed-97b2-a3694f045238",
        "output_cleared": false,
        "source_hash": "727b471b",
        "is_code_hidden": false,
        "deepnote_to_be_reexecuted": false,
        "execution_start": 1616813619785,
        "execution_millis": 43,
        "deepnote_cell_type": "code"
      },
      "source": "bool(my_seq)",
      "execution_count": 15,
      "outputs": [
        {
          "output_type": "execute_result",
          "execution_count": 15,
          "data": {
            "text/plain": "True"
          },
          "metadata": {}
        }
      ]
    },
    {
      "cell_type": "code",
      "metadata": {
        "cell_id": "00026-21895dc5-da88-49b3-af4e-d8f6df9ba04e",
        "output_cleared": false,
        "source_hash": "de3bc628",
        "is_code_hidden": false,
        "deepnote_to_be_reexecuted": false,
        "execution_start": 1616813635086,
        "execution_millis": 5,
        "deepnote_cell_type": "code"
      },
      "source": "any([0, '', None])",
      "execution_count": 16,
      "outputs": [
        {
          "output_type": "execute_result",
          "execution_count": 16,
          "data": {
            "text/plain": "False"
          },
          "metadata": {}
        }
      ]
    },
    {
      "cell_type": "code",
      "metadata": {
        "cell_id": "00027-de8a6f0d-9971-459a-8b06-32fba76a3de6",
        "output_cleared": false,
        "source_hash": "2f86da8e",
        "is_code_hidden": false,
        "deepnote_to_be_reexecuted": false,
        "execution_start": 1616813657785,
        "execution_millis": 5,
        "deepnote_cell_type": "code"
      },
      "source": "any([0, '', None, 'hello'])",
      "execution_count": 17,
      "outputs": [
        {
          "output_type": "execute_result",
          "execution_count": 17,
          "data": {
            "text/plain": "True"
          },
          "metadata": {}
        }
      ]
    },
    {
      "cell_type": "code",
      "metadata": {
        "cell_id": "00029-732096c0-1afe-4683-8a12-9d9e4e9c9804",
        "output_cleared": false,
        "source_hash": "d467c86a",
        "is_code_hidden": false,
        "deepnote_to_be_reexecuted": false,
        "execution_start": 1616813679767,
        "execution_millis": 5,
        "deepnote_cell_type": "code"
      },
      "source": "result = 0 or '' or None or 'hello'\nresult, bool(result)",
      "execution_count": 18,
      "outputs": [
        {
          "output_type": "execute_result",
          "execution_count": 18,
          "data": {
            "text/plain": "('hello', True)"
          },
          "metadata": {}
        }
      ]
    },
    {
      "cell_type": "markdown",
      "source": "#### The `all` Function",
      "metadata": {
        "cell_id": "00030-420cc426-0308-49a4-89f1-ddb8746cee8a",
        "deepnote_cell_type": "markdown"
      }
    },
    {
      "cell_type": "code",
      "metadata": {
        "cell_id": "00032-7c909a23-cee1-4fae-bb45-0a0e7a8d6dbe",
        "output_cleared": false,
        "source_hash": "d373746d",
        "is_code_hidden": false,
        "deepnote_to_be_reexecuted": false,
        "execution_start": 1616813731798,
        "execution_millis": 5,
        "deepnote_cell_type": "code"
      },
      "source": "all([1, 'abc', [1, 2], range(5)])",
      "execution_count": 19,
      "outputs": [
        {
          "output_type": "execute_result",
          "execution_count": 19,
          "data": {
            "text/plain": "True"
          },
          "metadata": {}
        }
      ]
    },
    {
      "cell_type": "code",
      "metadata": {
        "cell_id": "00033-131b319e-2a17-4124-b07d-cc2afb1c8527",
        "output_cleared": false,
        "source_hash": "8d68e22",
        "is_code_hidden": false,
        "deepnote_to_be_reexecuted": false,
        "execution_start": 1616813742453,
        "execution_millis": 5,
        "deepnote_cell_type": "code"
      },
      "source": "all([1, 'abc', [1, 2], range(5), ''])",
      "execution_count": 20,
      "outputs": [
        {
          "output_type": "execute_result",
          "execution_count": 20,
          "data": {
            "text/plain": "False"
          },
          "metadata": {}
        }
      ]
    },
    {
      "cell_type": "markdown",
      "source": "##### Example 1",
      "metadata": {
        "cell_id": "00036-7ffd1b30-0fc0-451e-914b-fb94a88c7b80",
        "deepnote_cell_type": "markdown"
      }
    },
    {
      "cell_type": "code",
      "metadata": {
        "collapsed": true,
        "cell_id": "00039-72a154fe-e454-40c7-aa43-add52be109b1",
        "is_code_hidden": false,
        "deepnote_to_be_reexecuted": false,
        "source_hash": "ce05d934",
        "execution_start": 1616813786586,
        "execution_millis": 1,
        "deepnote_cell_type": "code"
      },
      "source": "from numbers import Number",
      "execution_count": 21,
      "outputs": []
    },
    {
      "cell_type": "code",
      "metadata": {
        "cell_id": "00040-8a565b1b-c908-4d66-bbee-d71ffa52100d",
        "is_code_hidden": false,
        "output_cleared": false,
        "source_hash": "1a1a2010",
        "deepnote_to_be_reexecuted": false,
        "execution_start": 1616813795194,
        "execution_millis": 8,
        "deepnote_cell_type": "code"
      },
      "source": "isinstance(10, Number), isinstance(10.5, Number)",
      "execution_count": 22,
      "outputs": [
        {
          "output_type": "execute_result",
          "execution_count": 22,
          "data": {
            "text/plain": "(True, True)"
          },
          "metadata": {}
        }
      ]
    },
    {
      "cell_type": "code",
      "metadata": {
        "cell_id": "00041-ed4b0b39-19fb-40ff-8b24-52cdd08b482b",
        "output_cleared": false,
        "source_hash": "c4842104",
        "is_code_hidden": false,
        "deepnote_to_be_reexecuted": false,
        "execution_start": 1616813800162,
        "execution_millis": 9,
        "deepnote_cell_type": "code"
      },
      "source": "isinstance(2+3j, Number)",
      "execution_count": 23,
      "outputs": [
        {
          "output_type": "execute_result",
          "execution_count": 23,
          "data": {
            "text/plain": "True"
          },
          "metadata": {}
        }
      ]
    },
    {
      "cell_type": "code",
      "metadata": {
        "collapsed": true,
        "cell_id": "00042-33e3b93e-47d9-4c44-85ca-882e7c62df48",
        "is_code_hidden": false,
        "deepnote_to_be_reexecuted": false,
        "source_hash": "1559413a",
        "execution_start": 1616813812231,
        "execution_millis": 3,
        "deepnote_cell_type": "code"
      },
      "source": "from decimal import Decimal",
      "execution_count": 24,
      "outputs": []
    },
    {
      "cell_type": "code",
      "metadata": {
        "cell_id": "00043-2cea74fd-66a2-4543-8de8-ae63cde7d1ae",
        "output_cleared": false,
        "source_hash": "250695f0",
        "is_code_hidden": false,
        "deepnote_to_be_reexecuted": false,
        "execution_start": 1616813814550,
        "execution_millis": 8,
        "deepnote_cell_type": "code"
      },
      "source": "isinstance(Decimal('10.3'), Number)",
      "execution_count": 25,
      "outputs": [
        {
          "output_type": "execute_result",
          "execution_count": 25,
          "data": {
            "text/plain": "True"
          },
          "metadata": {}
        }
      ]
    },
    {
      "cell_type": "code",
      "metadata": {
        "cell_id": "00044-71d9445c-94e3-4639-ae34-c9ca277feefc",
        "output_cleared": false,
        "source_hash": "dae33192",
        "is_code_hidden": false,
        "deepnote_to_be_reexecuted": false,
        "execution_start": 1616813817821,
        "execution_millis": 11,
        "deepnote_cell_type": "code"
      },
      "source": "isinstance(True, Number)",
      "execution_count": 26,
      "outputs": [
        {
          "output_type": "execute_result",
          "execution_count": 26,
          "data": {
            "text/plain": "True"
          },
          "metadata": {}
        }
      ]
    },
    {
      "cell_type": "code",
      "metadata": {
        "cell_id": "00046-6439fbee-7d52-410e-891d-80fda5e29e14",
        "output_cleared": false,
        "source_hash": "2ba97f2e",
        "is_code_hidden": false,
        "deepnote_to_be_reexecuted": false,
        "execution_start": 1616813831742,
        "execution_millis": 5,
        "deepnote_cell_type": "code"
      },
      "source": "isinstance('100', Number)",
      "execution_count": 27,
      "outputs": [
        {
          "output_type": "execute_result",
          "execution_count": 27,
          "data": {
            "text/plain": "False"
          },
          "metadata": {}
        }
      ]
    },
    {
      "cell_type": "code",
      "metadata": {
        "cell_id": "00047-45ae7bc4-18d2-4b45-a913-82413c6468f1",
        "output_cleared": false,
        "source_hash": "e6e0a02d",
        "is_code_hidden": false,
        "deepnote_to_be_reexecuted": false,
        "execution_start": 1616813835398,
        "execution_millis": 4,
        "deepnote_cell_type": "code"
      },
      "source": "isinstance([10, 20], Number)",
      "execution_count": 28,
      "outputs": [
        {
          "output_type": "execute_result",
          "execution_count": 28,
          "data": {
            "text/plain": "False"
          },
          "metadata": {}
        }
      ]
    },
    {
      "cell_type": "code",
      "metadata": {
        "cell_id": "00050-136f49e0-90b7-433a-a4e3-caf4983aa30f",
        "output_cleared": false,
        "source_hash": "febc70fa",
        "is_code_hidden": false,
        "deepnote_to_be_reexecuted": false,
        "execution_start": 1616813866945,
        "execution_millis": 19,
        "deepnote_cell_type": "code"
      },
      "source": "l = [10, 20, 30, 40]\n\nis_all_numbers = True\nfor item in l:\n    if not isinstance(item, Number):\n        is_all_numbers = False\n        break\nprint(is_all_numbers)",
      "execution_count": 29,
      "outputs": [
        {
          "name": "stdout",
          "text": "True\n",
          "output_type": "stream"
        }
      ]
    },
    {
      "cell_type": "code",
      "metadata": {
        "cell_id": "00051-7eda33ee-32cc-41dc-a1d8-ba781eb73903",
        "output_cleared": false,
        "source_hash": "3d1f619d",
        "is_code_hidden": false,
        "deepnote_to_be_reexecuted": false,
        "execution_start": 1616813873667,
        "execution_millis": 9,
        "deepnote_cell_type": "code"
      },
      "source": "l = [10, 20, 30, 40, 'hello']\n\nis_all_numbers = True\nfor item in l:\n    if not isinstance(item, Number):\n        is_all_numbers = False\n        break\nprint(is_all_numbers)",
      "execution_count": 30,
      "outputs": [
        {
          "name": "stdout",
          "text": "False\n",
          "output_type": "stream"
        }
      ]
    },
    {
      "cell_type": "code",
      "metadata": {
        "cell_id": "00053-34d26404-c15a-4151-93c6-5c6f75ebc4fe",
        "output_cleared": false,
        "source_hash": "fda2b120",
        "is_code_hidden": false,
        "deepnote_to_be_reexecuted": false,
        "execution_start": 1616813908193,
        "execution_millis": 7,
        "deepnote_cell_type": "code"
      },
      "source": "l = [10, 20, 30, 40, 'hello']\nis_all_numbers = False\nfor item in l:\n    if not isinstance(item, Number):\n        break\nelse: # nobreak --> all numbers\n    is_all_numbers = True\nprint(is_all_numbers)",
      "execution_count": 31,
      "outputs": [
        {
          "name": "stdout",
          "text": "False\n",
          "output_type": "stream"
        }
      ]
    },
    {
      "cell_type": "code",
      "metadata": {
        "cell_id": "00056-fddf799e-c0a1-4d56-8dc5-e78822c9c878",
        "output_cleared": false,
        "source_hash": "217460cf",
        "is_code_hidden": false,
        "deepnote_to_be_reexecuted": false,
        "execution_start": 1616813956703,
        "execution_millis": 7,
        "deepnote_cell_type": "code"
      },
      "source": "map(str, [0, 1, 2, 3, 4])",
      "execution_count": 32,
      "outputs": [
        {
          "output_type": "execute_result",
          "execution_count": 32,
          "data": {
            "text/plain": "<map at 0x7f81ed69e110>"
          },
          "metadata": {}
        }
      ]
    },
    {
      "cell_type": "code",
      "metadata": {
        "cell_id": "00058-43a54fc5-009c-40f6-a699-e708403b871e",
        "output_cleared": false,
        "source_hash": "7978f825",
        "is_code_hidden": false,
        "deepnote_to_be_reexecuted": false,
        "execution_start": 1616813962224,
        "execution_millis": 10,
        "deepnote_cell_type": "code"
      },
      "source": "list(map(str, [0, 1, 2, 3, 4]))",
      "execution_count": 33,
      "outputs": [
        {
          "output_type": "execute_result",
          "execution_count": 33,
          "data": {
            "text/plain": "['0', '1', '2', '3', '4']"
          },
          "metadata": {}
        }
      ]
    },
    {
      "cell_type": "code",
      "metadata": {
        "collapsed": true,
        "cell_id": "00060-abca0e35-cb43-4d4d-b5a1-787c7b032c98",
        "is_code_hidden": false,
        "deepnote_to_be_reexecuted": false,
        "source_hash": "195735ed",
        "execution_start": 1616814048434,
        "execution_millis": 1,
        "deepnote_cell_type": "code"
      },
      "source": "def is_number(x):\n    return is_instance(x, Number)",
      "execution_count": 34,
      "outputs": []
    },
    {
      "cell_type": "code",
      "metadata": {
        "cell_id": "00062-818070e4-3c94-4ddc-9686-20aaa43f2e0e",
        "is_code_hidden": false,
        "output_cleared": false,
        "source_hash": "3fdde44f",
        "deepnote_to_be_reexecuted": false,
        "execution_start": 1616814089585,
        "execution_millis": 7,
        "deepnote_cell_type": "code"
      },
      "source": "lambda x: isinstance(x, Number)",
      "execution_count": 35,
      "outputs": [
        {
          "output_type": "execute_result",
          "execution_count": 35,
          "data": {
            "text/plain": "<function __main__.<lambda>(x)>"
          },
          "metadata": {}
        }
      ]
    },
    {
      "cell_type": "code",
      "metadata": {
        "cell_id": "00064-c62ea546-3996-4a27-9f81-4dc09222179c",
        "output_cleared": false,
        "source_hash": "66e02963",
        "is_code_hidden": false,
        "deepnote_to_be_reexecuted": false,
        "execution_start": 1616814097143,
        "execution_millis": 23,
        "deepnote_cell_type": "code"
      },
      "source": "l",
      "execution_count": 36,
      "outputs": [
        {
          "output_type": "execute_result",
          "execution_count": 36,
          "data": {
            "text/plain": "[10, 20, 30, 40, 'hello']"
          },
          "metadata": {}
        }
      ]
    },
    {
      "cell_type": "code",
      "metadata": {
        "cell_id": "00065-8a410cbe-d76f-4567-b270-5d436a0e097d",
        "output_cleared": false,
        "source_hash": "e2040ce4",
        "is_code_hidden": false,
        "deepnote_to_be_reexecuted": false,
        "execution_start": 1616814112713,
        "execution_millis": 9,
        "deepnote_cell_type": "code"
      },
      "source": "list(map(lambda x: isinstance(x, Number), l))",
      "execution_count": 37,
      "outputs": [
        {
          "output_type": "execute_result",
          "execution_count": 37,
          "data": {
            "text/plain": "[True, True, True, True, False]"
          },
          "metadata": {}
        }
      ]
    },
    {
      "cell_type": "code",
      "metadata": {
        "cell_id": "00067-76884bba-7a80-4393-b039-217b7f71a610",
        "output_cleared": false,
        "source_hash": "eca53561",
        "is_code_hidden": false,
        "deepnote_to_be_reexecuted": false,
        "execution_start": 1616814133297,
        "execution_millis": 10,
        "deepnote_cell_type": "code"
      },
      "source": "l = [10, 20, 30, 40, 'hello']\nall(map(lambda x: isinstance(x, Number), l))",
      "execution_count": 38,
      "outputs": [
        {
          "output_type": "execute_result",
          "execution_count": 38,
          "data": {
            "text/plain": "False"
          },
          "metadata": {}
        }
      ]
    },
    {
      "cell_type": "code",
      "metadata": {
        "cell_id": "00068-aedc3084-ba27-4d4b-bc31-c7617a8c4db1",
        "output_cleared": false,
        "source_hash": "5b9aff13",
        "is_code_hidden": false,
        "deepnote_to_be_reexecuted": false,
        "execution_start": 1616814145513,
        "execution_millis": 10,
        "deepnote_cell_type": "code"
      },
      "source": "l = [10, 20, 30, 40]\nall(map(lambda x: isinstance(x, Number), l))",
      "execution_count": 39,
      "outputs": [
        {
          "output_type": "execute_result",
          "execution_count": 39,
          "data": {
            "text/plain": "True"
          },
          "metadata": {}
        }
      ]
    },
    {
      "cell_type": "code",
      "metadata": {
        "cell_id": "00071-7e2d0688-855d-48c0-bd5c-2aeed1cb7fc6",
        "is_code_hidden": false,
        "output_cleared": false,
        "source_hash": "8cd8450b",
        "deepnote_to_be_reexecuted": false,
        "execution_start": 1616814169353,
        "execution_millis": 5,
        "deepnote_cell_type": "code"
      },
      "source": "l = [10, 20, 30, 40]\nall(isinstance(x, Number) for x in l)",
      "execution_count": 40,
      "outputs": [
        {
          "output_type": "execute_result",
          "execution_count": 40,
          "data": {
            "text/plain": "True"
          },
          "metadata": {}
        }
      ]
    },
    {
      "cell_type": "code",
      "metadata": {
        "cell_id": "00072-5d43b3b2-352d-437a-9b42-35df4dbba2dd",
        "output_cleared": false,
        "source_hash": "de18ff39",
        "is_code_hidden": false,
        "deepnote_to_be_reexecuted": false,
        "execution_start": 1616814184893,
        "execution_millis": 6,
        "deepnote_cell_type": "code"
      },
      "source": "l = [10, 20, 30, 40, 'hello']\nall(isinstance(x, Number) for x in l)",
      "execution_count": 41,
      "outputs": [
        {
          "output_type": "execute_result",
          "execution_count": 41,
          "data": {
            "text/plain": "False"
          },
          "metadata": {}
        }
      ]
    },
    {
      "cell_type": "markdown",
      "source": "##### Example 2",
      "metadata": {
        "cell_id": "00074-851afedd-5566-4f35-bfd0-65eb9933ffde",
        "deepnote_cell_type": "markdown"
      }
    },
    {
      "cell_type": "code",
      "metadata": {
        "cell_id": "00076-62b9f41c-b2c8-4ae1-a6f3-00e6150491ce",
        "output_cleared": false,
        "source_hash": "2b32b52f",
        "is_code_hidden": false,
        "deepnote_to_be_reexecuted": false,
        "execution_millis": 10,
        "execution_start": 1616814295755,
        "deepnote_cell_type": "code"
      },
      "source": "with open('car-brands.txt', encoding ='latin-1') as f:\n    for row in f:\n        print(len(row), row, end='')",
      "execution_count": 43,
      "outputs": [
        {
          "name": "stdout",
          "text": "11 Alfa Romeo\n13 Aston Martin\n5 Audi\n8 Bentley\n5 Benz\n4 BMW\n8 Bugatti\n9 Cadillac\n10 Chevrolet\n9 Chrysler\n8 Citroën\n9 Corvette\n4 DAF\n6 Dacia\n7 Daewoo\n9 Daihatsu\n7 Datsun\n10 De Lorean\n5 Dino\n5 Dodge",
          "output_type": "stream"
        }
      ]
    },
    {
      "cell_type": "code",
      "metadata": {
        "cell_id": "00078-b8b439a2-f3f2-4682-a99c-5048b1c1154d",
        "output_cleared": false,
        "source_hash": "4d426de6",
        "is_code_hidden": false,
        "deepnote_to_be_reexecuted": false,
        "execution_start": 1616814326815,
        "execution_millis": 10,
        "deepnote_cell_type": "code"
      },
      "source": "with open('car-brands.txt' , encoding ='latin-1') as f:\n    result = all(map(lambda row: len(row) >= 3, f))\nprint(result)",
      "execution_count": 44,
      "outputs": [
        {
          "name": "stdout",
          "text": "True\n",
          "output_type": "stream"
        }
      ]
    },
    {
      "cell_type": "code",
      "metadata": {
        "cell_id": "00080-7bb3303f-9edb-4e16-a2a2-9e872c5a18d9",
        "output_cleared": false,
        "source_hash": "cca6ff5a",
        "is_code_hidden": false,
        "deepnote_to_be_reexecuted": false,
        "execution_millis": 6,
        "execution_start": 1616814345042,
        "deepnote_cell_type": "code"
      },
      "source": "with open('car-brands.txt', encoding ='latin-1') as f:\n    result = any(map(lambda row: len(row) > 10, f))\nprint(result)",
      "execution_count": 46,
      "outputs": [
        {
          "name": "stdout",
          "text": "True\n",
          "output_type": "stream"
        }
      ]
    },
    {
      "cell_type": "code",
      "metadata": {
        "cell_id": "00082-127bbd9f-ba2b-43a4-b152-560054e077f7",
        "output_cleared": false,
        "source_hash": "f04fcba0",
        "is_code_hidden": false,
        "deepnote_to_be_reexecuted": false,
        "execution_start": 1616814358184,
        "execution_millis": 16,
        "deepnote_cell_type": "code"
      },
      "source": "with open('car-brands.txt', encoding ='latin-1') as f:\n    result = any(map(lambda row: len(row) > 13, f))\nprint(result)",
      "execution_count": 47,
      "outputs": [
        {
          "name": "stdout",
          "text": "False\n",
          "output_type": "stream"
        }
      ]
    },
    {
      "cell_type": "code",
      "metadata": {
        "cell_id": "00084-1d4f2854-1f4d-4e44-b050-bcaf7a022d58",
        "output_cleared": false,
        "source_hash": "53987702",
        "is_code_hidden": false,
        "deepnote_to_be_reexecuted": false,
        "execution_millis": 5,
        "execution_start": 1616814374590,
        "deepnote_cell_type": "code"
      },
      "source": "with open('car-brands.txt' , encoding ='latin-1') as f:\n    result = any(len(row) > 13 for row in f)\nprint(result)",
      "execution_count": 49,
      "outputs": [
        {
          "name": "stdout",
          "text": "False\n",
          "output_type": "stream"
        }
      ]
    },
    {
      "cell_type": "markdown",
      "source": "<a style='text-decoration:none;line-height:16px;display:flex;color:#5B5B62;padding:10px;justify-content:end;' href='https://deepnote.com?utm_source=created-in-deepnote-cell&projectId=d12d8d6f-83dc-4873-bf00-aaff2a39293d' target=\"_blank\">\n<img style='display:inline;max-height:16px;margin:0px;margin-right:7.5px;' src='data:image/svg+xml;base64,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' > </img>\nCreated in <span style='font-weight:600;margin-left:4px;'>Deepnote</span></a>",
      "metadata": {
        "tags": [],
        "created_in_deepnote_cell": true,
        "deepnote_cell_type": "markdown"
      }
    }
  ],
  "nbformat": 4,
  "nbformat_minor": 2,
  "metadata": {
    "kernelspec": {
      "display_name": "Python 3",
      "language": "python",
      "name": "python3"
    },
    "language_info": {
      "codemirror_mode": {
        "name": "ipython",
        "version": 3
      },
      "file_extension": ".py",
      "mimetype": "text/x-python",
      "name": "python",
      "nbconvert_exporter": "python",
      "pygments_lexer": "ipython3",
      "version": "3.6.2"
    },
    "deepnote_notebook_id": "e4308541-ae41-4cad-9c50-6fbbb6b8d34a",
    "deepnote": {},
    "deepnote_execution_queue": []
  }
}