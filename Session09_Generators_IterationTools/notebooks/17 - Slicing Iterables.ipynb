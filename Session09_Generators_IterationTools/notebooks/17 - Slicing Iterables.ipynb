{
  "cells": [
    {
      "cell_type": "markdown",
      "source": "### Slicing Iterables",
      "metadata": {
        "cell_id": "00000-5dc13b82-5bf2-4ce6-8057-8ae3268ba958",
        "deepnote_cell_type": "markdown"
      }
    },
    {
      "cell_type": "code",
      "metadata": {
        "collapsed": true,
        "cell_id": "00002-1ca19c2e-deec-4bae-80f1-f1ffca63332e",
        "is_code_hidden": false,
        "deepnote_to_be_reexecuted": false,
        "source_hash": "fa16668d",
        "execution_start": 1616814403353,
        "execution_millis": 1,
        "deepnote_cell_type": "code"
      },
      "source": "l = [1, 2, 3, 4, 5]",
      "execution_count": 1,
      "outputs": []
    },
    {
      "cell_type": "code",
      "metadata": {
        "cell_id": "00003-a781486b-d3ec-4586-b33e-cfa9edf16e6f",
        "is_code_hidden": false,
        "output_cleared": false,
        "source_hash": "d6b3bb42",
        "deepnote_to_be_reexecuted": false,
        "execution_start": 1616814409749,
        "execution_millis": 8,
        "deepnote_cell_type": "code"
      },
      "source": "l[0:2]",
      "execution_count": 2,
      "outputs": [
        {
          "output_type": "execute_result",
          "execution_count": 2,
          "data": {
            "text/plain": "[1, 2]"
          },
          "metadata": {}
        }
      ]
    },
    {
      "cell_type": "code",
      "metadata": {
        "collapsed": true,
        "cell_id": "00005-4490a534-641b-4888-b3ec-9ddc3af043f5",
        "is_code_hidden": false,
        "deepnote_to_be_reexecuted": false,
        "source_hash": "a028eb09",
        "execution_start": 1616814434511,
        "execution_millis": 2,
        "deepnote_cell_type": "code"
      },
      "source": "s = slice(0, 2)",
      "execution_count": 3,
      "outputs": []
    },
    {
      "cell_type": "code",
      "metadata": {
        "cell_id": "00006-b10fbdff-c2bf-4c10-aa4b-ccfc5f03a4dc",
        "output_cleared": false,
        "source_hash": "2a7266c5",
        "is_code_hidden": false,
        "deepnote_to_be_reexecuted": false,
        "execution_start": 1616814443983,
        "execution_millis": 5,
        "deepnote_cell_type": "code"
      },
      "source": "l[s]",
      "execution_count": 4,
      "outputs": [
        {
          "output_type": "execute_result",
          "execution_count": 4,
          "data": {
            "text/plain": "[1, 2]"
          },
          "metadata": {}
        }
      ]
    },
    {
      "cell_type": "code",
      "metadata": {
        "collapsed": true,
        "cell_id": "00008-eac3c647-4922-4e75-88e6-994645796835",
        "is_code_hidden": false,
        "deepnote_to_be_reexecuted": false,
        "source_hash": "e9ad221b",
        "execution_start": 1616814472240,
        "execution_millis": 4,
        "deepnote_cell_type": "code"
      },
      "source": "import math\n\ndef factorials(n):\n    for i in range(n):\n        yield math.factorial(i)",
      "execution_count": 5,
      "outputs": []
    },
    {
      "cell_type": "code",
      "metadata": {
        "collapsed": true,
        "cell_id": "00009-1e90c8e2-0b92-43f9-8a37-44428e22f65b",
        "is_code_hidden": false,
        "deepnote_to_be_reexecuted": false,
        "source_hash": "3a9c92e2",
        "execution_start": 1616814477828,
        "execution_millis": 2,
        "deepnote_cell_type": "code"
      },
      "source": "facts = factorials(100)",
      "execution_count": 6,
      "outputs": []
    },
    {
      "cell_type": "code",
      "metadata": {
        "cell_id": "00010-f9091514-a4f2-4f81-a740-ea9d069a76e1",
        "output_cleared": false,
        "source_hash": "f6085b1d",
        "is_code_hidden": false,
        "deepnote_to_be_reexecuted": false,
        "execution_start": 1616814490386,
        "execution_millis": 523,
        "deepnote_cell_type": "code"
      },
      "source": "facts[0:2]",
      "execution_count": 7,
      "outputs": [
        {
          "output_type": "error",
          "ename": "TypeError",
          "evalue": "'generator' object is not subscriptable",
          "traceback": [
            "\u001b[0;31m---------------------------------------------------------------------------\u001b[0m",
            "\u001b[0;31mTypeError\u001b[0m                                 Traceback (most recent call last)",
            "\u001b[0;32m<ipython-input-7-47b3f0606218>\u001b[0m in \u001b[0;36m<module>\u001b[0;34m\u001b[0m\n\u001b[0;32m----> 1\u001b[0;31m \u001b[0mfacts\u001b[0m\u001b[0;34m[\u001b[0m\u001b[0;36m0\u001b[0m\u001b[0;34m:\u001b[0m\u001b[0;36m2\u001b[0m\u001b[0;34m]\u001b[0m\u001b[0;34m\u001b[0m\u001b[0;34m\u001b[0m\u001b[0m\n\u001b[0m",
            "\u001b[0;31mTypeError\u001b[0m: 'generator' object is not subscriptable"
          ]
        }
      ]
    },
    {
      "cell_type": "code",
      "metadata": {
        "collapsed": true,
        "cell_id": "00012-591ab786-a6a3-48df-96c4-58ddc9883ab2",
        "is_code_hidden": false,
        "deepnote_to_be_reexecuted": false,
        "source_hash": "3d113817",
        "execution_start": 1616814528834,
        "execution_millis": 1,
        "deepnote_cell_type": "code"
      },
      "source": "def slice_(iterable, start, stop):\n    for _ in range(0, start):\n        next(iterable)\n        \n    for _ in range(start, stop):\n        yield(next(iterable))",
      "execution_count": 8,
      "outputs": []
    },
    {
      "cell_type": "code",
      "metadata": {
        "cell_id": "00013-2afef34a-ec41-4a05-9610-0f529bfd3c2a",
        "is_code_hidden": false,
        "output_cleared": false,
        "source_hash": "9e79ed16",
        "deepnote_to_be_reexecuted": false,
        "execution_start": 1616814533033,
        "execution_millis": 6,
        "deepnote_cell_type": "code"
      },
      "source": "list(slice_(factorials(100), 1, 5))",
      "execution_count": 9,
      "outputs": [
        {
          "output_type": "execute_result",
          "execution_count": 9,
          "data": {
            "text/plain": "[1, 2, 6, 24]"
          },
          "metadata": {}
        }
      ]
    },
    {
      "cell_type": "code",
      "source": "lst = [1, 2, 3, 4, 5, 6, 7, 8, 9]\n\nlst[0:4:2]",
      "metadata": {
        "tags": [],
        "cell_id": "00010-3af6eda4-2318-4fc1-abed-e85bd05911f5",
        "deepnote_to_be_reexecuted": false,
        "source_hash": "27f5c07d",
        "execution_millis": 8,
        "execution_start": 1616814597304,
        "deepnote_cell_type": "code"
      },
      "outputs": [
        {
          "output_type": "execute_result",
          "execution_count": 11,
          "data": {
            "text/plain": "[1, 3]"
          },
          "metadata": {}
        }
      ],
      "execution_count": 11
    },
    {
      "cell_type": "code",
      "metadata": {
        "cell_id": "00016-2ad82548-bb33-4114-8506-c76226ef00ec",
        "is_code_hidden": false,
        "output_cleared": false,
        "source_hash": "429628e",
        "deepnote_to_be_reexecuted": false,
        "execution_start": 1616814630712,
        "execution_millis": 6,
        "deepnote_cell_type": "code"
      },
      "source": "list(factorials(10))",
      "execution_count": 12,
      "outputs": [
        {
          "output_type": "execute_result",
          "execution_count": 12,
          "data": {
            "text/plain": "[1, 1, 2, 6, 24, 120, 720, 5040, 40320, 362880]"
          },
          "metadata": {}
        }
      ]
    },
    {
      "cell_type": "code",
      "metadata": {
        "collapsed": true,
        "cell_id": "00018-73734b61-4e71-4156-ace6-0143d91bafdf",
        "is_code_hidden": false,
        "deepnote_to_be_reexecuted": false,
        "source_hash": "9e931c0c",
        "execution_start": 1616814638123,
        "execution_millis": 0,
        "deepnote_cell_type": "code"
      },
      "source": "from itertools import islice",
      "execution_count": 13,
      "outputs": []
    },
    {
      "cell_type": "code",
      "metadata": {
        "cell_id": "00019-ab2c6612-2a9c-4b2c-b168-5ddd24793bdf",
        "is_code_hidden": false,
        "output_cleared": false,
        "source_hash": "f022cb3d",
        "deepnote_to_be_reexecuted": false,
        "execution_start": 1616814652790,
        "execution_millis": 5,
        "deepnote_cell_type": "code"
      },
      "source": "islice(factorials(10), 0, 3)",
      "execution_count": 14,
      "outputs": [
        {
          "output_type": "execute_result",
          "execution_count": 14,
          "data": {
            "text/plain": "<itertools.islice at 0x7f15b9671cb0>"
          },
          "metadata": {}
        }
      ]
    },
    {
      "cell_type": "code",
      "metadata": {
        "cell_id": "00021-23ce44f4-9d77-4996-8970-23a417047be8",
        "is_code_hidden": false,
        "output_cleared": false,
        "source_hash": "927a6c27",
        "deepnote_to_be_reexecuted": false,
        "execution_start": 1616814664510,
        "execution_millis": 5,
        "deepnote_cell_type": "code"
      },
      "source": "list(islice(factorials(10), 0, 3))",
      "execution_count": 15,
      "outputs": [
        {
          "output_type": "execute_result",
          "execution_count": 15,
          "data": {
            "text/plain": "[1, 1, 2]"
          },
          "metadata": {}
        }
      ]
    },
    {
      "cell_type": "code",
      "metadata": {
        "cell_id": "00023-c26443f6-6dda-44be-b346-00966fe310e9",
        "is_code_hidden": false,
        "output_cleared": false,
        "source_hash": "68318394",
        "deepnote_to_be_reexecuted": false,
        "execution_start": 1616814677277,
        "execution_millis": 8,
        "deepnote_cell_type": "code"
      },
      "source": "list(islice(factorials(10), 0, 10, 2))",
      "execution_count": 16,
      "outputs": [
        {
          "output_type": "execute_result",
          "execution_count": 16,
          "data": {
            "text/plain": "[1, 2, 24, 720, 40320]"
          },
          "metadata": {}
        }
      ]
    },
    {
      "cell_type": "code",
      "metadata": {
        "cell_id": "00025-a2ed6e61-cd37-4ba6-a624-9c071a5e4626",
        "output_cleared": false,
        "source_hash": "7106914f",
        "is_code_hidden": false,
        "deepnote_to_be_reexecuted": false,
        "execution_start": 1616814708094,
        "execution_millis": 5,
        "deepnote_cell_type": "code"
      },
      "source": "list(islice(factorials(10), None, None, 2))",
      "execution_count": 17,
      "outputs": [
        {
          "output_type": "execute_result",
          "execution_count": 17,
          "data": {
            "text/plain": "[1, 2, 24, 720, 40320]"
          },
          "metadata": {}
        }
      ]
    },
    {
      "cell_type": "code",
      "metadata": {
        "collapsed": true,
        "cell_id": "00027-cccfe07e-8a3a-4cd5-ac86-f21a702d920f",
        "is_code_hidden": false,
        "deepnote_to_be_reexecuted": false,
        "source_hash": "f0cc19b2",
        "execution_start": 1616814720142,
        "execution_millis": 0,
        "deepnote_cell_type": "code"
      },
      "source": "def factorials():\n    index = 0\n    while True:\n        yield math.factorial(index)\n        index += 1",
      "execution_count": 18,
      "outputs": []
    },
    {
      "cell_type": "code",
      "metadata": {
        "cell_id": "00029-f10a6b2e-aa4e-4079-a237-be453a86a160",
        "output_cleared": false,
        "source_hash": "2c255ede",
        "is_code_hidden": false,
        "deepnote_to_be_reexecuted": false,
        "execution_start": 1616814728463,
        "execution_millis": 6,
        "deepnote_cell_type": "code"
      },
      "source": "facts = factorials()\nfor _ in range(5):\n    print(next(facts))",
      "execution_count": 19,
      "outputs": [
        {
          "name": "stdout",
          "text": "1\n1\n2\n6\n24\n",
          "output_type": "stream"
        }
      ]
    },
    {
      "cell_type": "code",
      "metadata": {
        "cell_id": "00031-d2f7968a-1608-43eb-a417-43684c32ec99",
        "output_cleared": false,
        "source_hash": "85bd5223",
        "is_code_hidden": false,
        "deepnote_to_be_reexecuted": false,
        "execution_start": 1616814746179,
        "execution_millis": 5,
        "deepnote_cell_type": "code"
      },
      "source": "list(islice(factorials(), 5))",
      "execution_count": 20,
      "outputs": [
        {
          "output_type": "execute_result",
          "execution_count": 20,
          "data": {
            "text/plain": "[1, 1, 2, 6, 24]"
          },
          "metadata": {}
        }
      ]
    },
    {
      "cell_type": "code",
      "metadata": {
        "collapsed": true,
        "cell_id": "00033-3c388727-889e-46a0-90fc-6cfbd510d455",
        "is_code_hidden": false,
        "deepnote_to_be_reexecuted": false,
        "source_hash": "8c13de3c",
        "execution_start": 1616814771878,
        "execution_millis": 0,
        "deepnote_cell_type": "code"
      },
      "source": "def factorials():\n    index = 0\n    while True:\n        print(f'yielding factorial({index})...')\n        yield math.factorial(index)\n        index += 1",
      "execution_count": 21,
      "outputs": []
    },
    {
      "cell_type": "code",
      "metadata": {
        "cell_id": "00034-5d11c4d7-e332-46a3-b230-4df10355dfac",
        "output_cleared": false,
        "source_hash": "c8f245e4",
        "is_code_hidden": false,
        "deepnote_to_be_reexecuted": false,
        "execution_start": 1616814775742,
        "execution_millis": 7,
        "deepnote_cell_type": "code"
      },
      "source": "list(islice(factorials(), 9))",
      "execution_count": 22,
      "outputs": [
        {
          "name": "stdout",
          "text": "yielding factorial(0)...\nyielding factorial(1)...\nyielding factorial(2)...\nyielding factorial(3)...\nyielding factorial(4)...\nyielding factorial(5)...\nyielding factorial(6)...\nyielding factorial(7)...\nyielding factorial(8)...\n",
          "output_type": "stream"
        },
        {
          "output_type": "execute_result",
          "execution_count": 22,
          "data": {
            "text/plain": "[1, 1, 2, 6, 24, 120, 720, 5040, 40320]"
          },
          "metadata": {}
        }
      ]
    },
    {
      "cell_type": "code",
      "metadata": {
        "cell_id": "00035-2bc00418-13b9-48e2-b1a1-4da9a19eb143",
        "output_cleared": false,
        "source_hash": "7261e6f4",
        "is_code_hidden": false,
        "deepnote_to_be_reexecuted": false,
        "execution_start": 1616814789962,
        "execution_millis": 6,
        "deepnote_cell_type": "code"
      },
      "source": "list(islice(factorials(), None, 10, 2))",
      "execution_count": 23,
      "outputs": [
        {
          "name": "stdout",
          "text": "yielding factorial(0)...\nyielding factorial(1)...\nyielding factorial(2)...\nyielding factorial(3)...\nyielding factorial(4)...\nyielding factorial(5)...\nyielding factorial(6)...\nyielding factorial(7)...\nyielding factorial(8)...\nyielding factorial(9)...\n",
          "output_type": "stream"
        },
        {
          "output_type": "execute_result",
          "execution_count": 23,
          "data": {
            "text/plain": "[1, 2, 24, 720, 40320]"
          },
          "metadata": {}
        }
      ]
    },
    {
      "cell_type": "code",
      "metadata": {
        "cell_id": "00038-4d3d1782-d5e3-4c6d-9794-6433d6fd71f4",
        "output_cleared": false,
        "source_hash": "d5d2d364",
        "is_code_hidden": false,
        "deepnote_to_be_reexecuted": false,
        "execution_start": 1616814806211,
        "execution_millis": 115,
        "deepnote_cell_type": "code"
      },
      "source": "list(islice(factorials(), 5, 10))",
      "execution_count": 24,
      "outputs": [
        {
          "name": "stdout",
          "text": "yielding factorial(0)...\nyielding factorial(1)...\nyielding factorial(2)...\nyielding factorial(3)...\nyielding factorial(4)...\nyielding factorial(5)...\nyielding factorial(6)...\nyielding factorial(7)...\nyielding factorial(8)...\nyielding factorial(9)...\n",
          "output_type": "stream"
        },
        {
          "output_type": "execute_result",
          "execution_count": 24,
          "data": {
            "text/plain": "[120, 720, 5040, 40320, 362880]"
          },
          "metadata": {}
        }
      ]
    },
    {
      "cell_type": "code",
      "metadata": {
        "collapsed": true,
        "cell_id": "00040-cd1734da-0101-4f95-bb5f-b43931dd1749",
        "is_code_hidden": false,
        "deepnote_to_be_reexecuted": false,
        "source_hash": "fa16668d",
        "execution_start": 1616814811113,
        "execution_millis": 1,
        "deepnote_cell_type": "code"
      },
      "source": "l = [1, 2, 3, 4, 5]",
      "execution_count": 25,
      "outputs": []
    },
    {
      "cell_type": "code",
      "metadata": {
        "collapsed": true,
        "cell_id": "00041-8e0f5577-71a3-4c74-a272-6d9c33ec5e12",
        "is_code_hidden": false,
        "deepnote_to_be_reexecuted": false,
        "source_hash": "f7c45fc",
        "execution_start": 1616814820864,
        "execution_millis": 0,
        "deepnote_cell_type": "code"
      },
      "source": "s = islice(l, 0, 3)",
      "execution_count": 26,
      "outputs": []
    },
    {
      "cell_type": "code",
      "metadata": {
        "cell_id": "00042-ec95ec53-59c9-40c1-92f7-731a84c6cda4",
        "is_code_hidden": false,
        "output_cleared": false,
        "source_hash": "fc0372f1",
        "deepnote_to_be_reexecuted": false,
        "execution_start": 1616814825920,
        "execution_millis": 6,
        "deepnote_cell_type": "code"
      },
      "source": "list(s)",
      "execution_count": 27,
      "outputs": [
        {
          "output_type": "execute_result",
          "execution_count": 27,
          "data": {
            "text/plain": "[1, 2, 3]"
          },
          "metadata": {}
        }
      ]
    },
    {
      "cell_type": "code",
      "metadata": {
        "cell_id": "00043-070ed520-c75f-406d-8a7f-b99b168da48f",
        "output_cleared": false,
        "source_hash": "fc0372f1",
        "is_code_hidden": false,
        "deepnote_to_be_reexecuted": false,
        "execution_start": 1616814831987,
        "execution_millis": 82,
        "deepnote_cell_type": "code"
      },
      "source": "list(s)",
      "execution_count": 28,
      "outputs": [
        {
          "output_type": "execute_result",
          "execution_count": 28,
          "data": {
            "text/plain": "[]"
          },
          "metadata": {}
        }
      ]
    },
    {
      "cell_type": "code",
      "metadata": {
        "cell_id": "00046-5c5d4dd2-ce93-45eb-8ed7-b9c8dc3d6e23",
        "is_code_hidden": false,
        "deepnote_to_be_reexecuted": false,
        "source_hash": "aae9cbdb",
        "execution_start": 1616814849623,
        "execution_millis": 1,
        "deepnote_cell_type": "code"
      },
      "source": "facts = factorials()",
      "execution_count": 29,
      "outputs": []
    },
    {
      "cell_type": "code",
      "metadata": {
        "cell_id": "00047-94f2a109-3e43-4d92-9a53-9a2152a9d7b3",
        "is_code_hidden": false,
        "output_cleared": false,
        "source_hash": "f0e52398",
        "deepnote_to_be_reexecuted": false,
        "execution_start": 1616814854318,
        "execution_millis": 30,
        "deepnote_cell_type": "code"
      },
      "source": "next(facts), next(facts), next(facts), next(facts)",
      "execution_count": 30,
      "outputs": [
        {
          "name": "stdout",
          "text": "yielding factorial(0)...\nyielding factorial(1)...\nyielding factorial(2)...\nyielding factorial(3)...\n",
          "output_type": "stream"
        },
        {
          "output_type": "execute_result",
          "execution_count": 30,
          "data": {
            "text/plain": "(1, 1, 2, 6)"
          },
          "metadata": {}
        }
      ]
    },
    {
      "cell_type": "code",
      "metadata": {
        "cell_id": "00049-f4615c9f-63ff-4e0b-8100-c386f6ac5690",
        "output_cleared": false,
        "source_hash": "72724071",
        "is_code_hidden": false,
        "deepnote_to_be_reexecuted": false,
        "execution_start": 1616814876615,
        "execution_millis": 12,
        "deepnote_cell_type": "code"
      },
      "source": "list(islice(facts, 0, 3))",
      "execution_count": 31,
      "outputs": [
        {
          "name": "stdout",
          "text": "yielding factorial(4)...\nyielding factorial(5)...\nyielding factorial(6)...\n",
          "output_type": "stream"
        },
        {
          "output_type": "execute_result",
          "execution_count": 31,
          "data": {
            "text/plain": "[24, 120, 720]"
          },
          "metadata": {}
        }
      ]
    },
    {
      "cell_type": "code",
      "metadata": {
        "cell_id": "00051-a911a33e-ccea-4dcb-974e-c2d4bf77fc9e",
        "output_cleared": false,
        "source_hash": "91e71c11",
        "is_code_hidden": false,
        "deepnote_to_be_reexecuted": false,
        "execution_start": 1616814888791,
        "execution_millis": 10,
        "deepnote_cell_type": "code"
      },
      "source": "next(facts)",
      "execution_count": 32,
      "outputs": [
        {
          "name": "stdout",
          "text": "yielding factorial(7)...\n",
          "output_type": "stream"
        },
        {
          "output_type": "execute_result",
          "execution_count": 32,
          "data": {
            "text/plain": "5040"
          },
          "metadata": {}
        }
      ]
    },
    {
      "cell_type": "markdown",
      "source": "<a style='text-decoration:none;line-height:16px;display:flex;color:#5B5B62;padding:10px;justify-content:end;' href='https://deepnote.com?utm_source=created-in-deepnote-cell&projectId=e37e4a4c-30ea-454e-8d75-ad8a2edc05d3' target=\"_blank\">\n<img style='display:inline;max-height:16px;margin:0px;margin-right:7.5px;' src='data:image/svg+xml;base64,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' > </img>\nCreated in <span style='font-weight:600;margin-left:4px;'>Deepnote</span></a>",
      "metadata": {
        "tags": [],
        "created_in_deepnote_cell": true,
        "deepnote_cell_type": "markdown"
      }
    }
  ],
  "nbformat": 4,
  "nbformat_minor": 2,
  "metadata": {
    "kernelspec": {
      "display_name": "Python 3",
      "language": "python",
      "name": "python3"
    },
    "language_info": {
      "codemirror_mode": {
        "name": "ipython",
        "version": 3
      },
      "file_extension": ".py",
      "mimetype": "text/x-python",
      "name": "python",
      "nbconvert_exporter": "python",
      "pygments_lexer": "ipython3",
      "version": "3.6.2"
    },
    "deepnote_notebook_id": "5e8a7a22-6df6-4028-bf16-f5fab8cbc2dd",
    "deepnote": {},
    "deepnote_execution_queue": []
  }
}