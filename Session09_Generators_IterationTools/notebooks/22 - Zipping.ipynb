{
  "cells": [
    {
      "cell_type": "markdown",
      "source": "### Zipping",
      "metadata": {
        "cell_id": "00000-d08ff232-aa9c-4634-8927-d8a2ada9f05c",
        "deepnote_cell_type": "markdown"
      }
    },
    {
      "cell_type": "code",
      "metadata": {
        "collapsed": true,
        "cell_id": "00002-9cafa5ea-c6dd-46ea-8c91-07e0f7bbcc0e",
        "is_code_hidden": false,
        "deepnote_to_be_reexecuted": false,
        "source_hash": "3874f56f",
        "execution_start": 1616816758791,
        "execution_millis": 1,
        "deepnote_cell_type": "code"
      },
      "source": "l1 = [1, 2, 3, 4, 5]\nl2 = [1, 2, 3, 4]\nl3 = [1, 2, 3]",
      "execution_count": 1,
      "outputs": []
    },
    {
      "cell_type": "code",
      "metadata": {
        "cell_id": "00003-f87d1096-f1c5-43b6-b11c-f3e3f30c2f1d",
        "is_code_hidden": false,
        "output_cleared": false,
        "source_hash": "cf1c486",
        "deepnote_to_be_reexecuted": false,
        "execution_start": 1616816764077,
        "execution_millis": 6,
        "deepnote_cell_type": "code"
      },
      "source": "list(zip(l1, l2, l3))",
      "execution_count": 2,
      "outputs": [
        {
          "output_type": "execute_result",
          "execution_count": 2,
          "data": {
            "text/plain": "[(1, 1, 1), (2, 2, 2), (3, 3, 3)]"
          },
          "metadata": {}
        }
      ]
    },
    {
      "cell_type": "code",
      "metadata": {
        "collapsed": true,
        "cell_id": "00005-011208ab-0f04-42fe-8f0b-e4b7752e02bf",
        "is_code_hidden": false,
        "deepnote_to_be_reexecuted": false,
        "source_hash": "dcee96f4",
        "execution_start": 1616816776647,
        "execution_millis": 1,
        "deepnote_cell_type": "code"
      },
      "source": "def integers(n):\n    for i in range(n):\n        yield i\n        \ndef squares(n):\n    for i in range(n):\n        yield i**2\n        \ndef cubes(n):\n    for i in range(n):\n        yield i**3",
      "execution_count": 3,
      "outputs": []
    },
    {
      "cell_type": "code",
      "metadata": {
        "collapsed": true,
        "cell_id": "00006-2c977d09-41bb-4220-b071-58cadcd88a5e",
        "is_code_hidden": false,
        "deepnote_to_be_reexecuted": false,
        "source_hash": "b3e706f2",
        "execution_start": 1616816787051,
        "execution_millis": 1,
        "deepnote_cell_type": "code"
      },
      "source": "iter1 = integers(6)\niter2 = squares(5)\niter3 = cubes(4)",
      "execution_count": 4,
      "outputs": []
    },
    {
      "cell_type": "code",
      "metadata": {
        "cell_id": "00007-a7e14ebb-8cf6-45b9-9ff8-b1718fb12b7c",
        "is_code_hidden": false,
        "output_cleared": false,
        "source_hash": "80ea7364",
        "deepnote_to_be_reexecuted": false,
        "execution_start": 1616816791742,
        "execution_millis": 7,
        "deepnote_cell_type": "code"
      },
      "source": "list(zip(iter1, iter2, iter3))",
      "execution_count": 5,
      "outputs": [
        {
          "output_type": "execute_result",
          "execution_count": 5,
          "data": {
            "text/plain": "[(0, 0, 0), (1, 1, 1), (2, 4, 8), (3, 9, 27)]"
          },
          "metadata": {}
        }
      ]
    },
    {
      "cell_type": "code",
      "metadata": {
        "collapsed": true,
        "cell_id": "00009-8dc3065c-3748-431e-98e6-f50f70aaabe0",
        "is_code_hidden": false,
        "deepnote_to_be_reexecuted": false,
        "source_hash": "ce90c231",
        "execution_start": 1616816819341,
        "execution_millis": 0,
        "deepnote_cell_type": "code"
      },
      "source": "from itertools import zip_longest",
      "execution_count": 6,
      "outputs": []
    },
    {
      "cell_type": "code",
      "metadata": {
        "cell_id": "00010-bdfdd37b-a4a4-47f8-ae23-e1ed90b9690a",
        "is_code_hidden": false,
        "output_cleared": false,
        "source_hash": "2ed06d72",
        "deepnote_to_be_reexecuted": false,
        "execution_start": 1616816824717,
        "execution_millis": 6,
        "deepnote_cell_type": "code"
      },
      "source": "help(zip_longest)",
      "execution_count": 7,
      "outputs": [
        {
          "name": "stdout",
          "text": "Help on class zip_longest in module itertools:\n\nclass zip_longest(builtins.object)\n |  zip_longest(iter1 [,iter2 [...]], [fillvalue=None]) --> zip_longest object\n |  \n |  Return a zip_longest object whose .__next__() method returns a tuple where\n |  the i-th element comes from the i-th iterable argument.  The .__next__()\n |  method continues until the longest iterable in the argument sequence\n |  is exhausted and then it raises StopIteration.  When the shorter iterables\n |  are exhausted, the fillvalue is substituted in their place.  The fillvalue\n |  defaults to None or can be specified by a keyword argument.\n |  \n |  Methods defined here:\n |  \n |  __getattribute__(self, name, /)\n |      Return getattr(self, name).\n |  \n |  __iter__(self, /)\n |      Implement iter(self).\n |  \n |  __next__(self, /)\n |      Implement next(self).\n |  \n |  __reduce__(...)\n |      Return state information for pickling.\n |  \n |  __setstate__(...)\n |      Set state information for unpickling.\n |  \n |  ----------------------------------------------------------------------\n |  Static methods defined here:\n |  \n |  __new__(*args, **kwargs) from builtins.type\n |      Create and return a new object.  See help(type) for accurate signature.\n\n",
          "output_type": "stream"
        }
      ]
    },
    {
      "cell_type": "code",
      "metadata": {
        "collapsed": true,
        "cell_id": "00012-8ae78e18-e735-4bfe-b482-f838f38fdf26",
        "is_code_hidden": false,
        "deepnote_to_be_reexecuted": false,
        "source_hash": "3874f56f",
        "execution_start": 1616816843416,
        "execution_millis": 2,
        "deepnote_cell_type": "code"
      },
      "source": "l1 = [1, 2, 3, 4, 5]\nl2 = [1, 2, 3, 4]\nl3 = [1, 2, 3]",
      "execution_count": 8,
      "outputs": []
    },
    {
      "cell_type": "code",
      "metadata": {
        "cell_id": "00013-55e461d4-428b-4418-bef2-81816a65eed3",
        "is_code_hidden": false,
        "output_cleared": false,
        "source_hash": "f6d982f7",
        "deepnote_to_be_reexecuted": false,
        "execution_start": 1616816849583,
        "execution_millis": 0,
        "deepnote_cell_type": "code"
      },
      "source": "list(zip_longest(l1, l2, l3, fillvalue='N/A'))",
      "execution_count": 9,
      "outputs": [
        {
          "output_type": "execute_result",
          "execution_count": 9,
          "data": {
            "text/plain": "[(1, 1, 1), (2, 2, 2), (3, 3, 3), (4, 4, 'N/A'), (5, 'N/A', 'N/A')]"
          },
          "metadata": {}
        }
      ]
    },
    {
      "cell_type": "code",
      "metadata": {
        "collapsed": true,
        "cell_id": "00015-194fe775-b0eb-4241-aaeb-7c56fae540af",
        "is_code_hidden": false,
        "deepnote_to_be_reexecuted": false,
        "source_hash": "2763db5f",
        "execution_start": 1616816854877,
        "execution_millis": 2,
        "deepnote_cell_type": "code"
      },
      "source": "def squares():\n    i = 0\n    while True:\n        yield i ** 2\n        i += 1\n\ndef cubes():\n    i = 0\n    while True:\n        yield i ** 3\n        i += 1",
      "execution_count": 10,
      "outputs": []
    },
    {
      "cell_type": "code",
      "metadata": {
        "cell_id": "00017-4c781c93-f493-402f-ab71-6b39c75d794a",
        "is_code_hidden": false,
        "output_cleared": false,
        "source_hash": "4f46f6bd",
        "deepnote_to_be_reexecuted": false,
        "execution_start": 1616816858383,
        "execution_millis": 6,
        "deepnote_cell_type": "code"
      },
      "source": "iter1 = squares()\niter2 = cubes()\nlist(zip(range(10), iter1, iter2))",
      "execution_count": 11,
      "outputs": [
        {
          "output_type": "execute_result",
          "execution_count": 11,
          "data": {
            "text/plain": "[(0, 0, 0),\n (1, 1, 1),\n (2, 4, 8),\n (3, 9, 27),\n (4, 16, 64),\n (5, 25, 125),\n (6, 36, 216),\n (7, 49, 343),\n (8, 64, 512),\n (9, 81, 729)]"
          },
          "metadata": {}
        }
      ]
    },
    {
      "cell_type": "markdown",
      "source": "<a style='text-decoration:none;line-height:16px;display:flex;color:#5B5B62;padding:10px;justify-content:end;' href='https://deepnote.com?utm_source=created-in-deepnote-cell&projectId=e37e4a4c-30ea-454e-8d75-ad8a2edc05d3' target=\"_blank\">\n<img style='display:inline;max-height:16px;margin:0px;margin-right:7.5px;' src='data:image/svg+xml;base64,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' > </img>\nCreated in <span style='font-weight:600;margin-left:4px;'>Deepnote</span></a>",
      "metadata": {
        "tags": [],
        "created_in_deepnote_cell": true,
        "deepnote_cell_type": "markdown"
      }
    }
  ],
  "nbformat": 4,
  "nbformat_minor": 2,
  "metadata": {
    "kernelspec": {
      "display_name": "Python 3",
      "language": "python",
      "name": "python3"
    },
    "language_info": {
      "codemirror_mode": {
        "name": "ipython",
        "version": 3
      },
      "file_extension": ".py",
      "mimetype": "text/x-python",
      "name": "python",
      "nbconvert_exporter": "python",
      "pygments_lexer": "ipython3",
      "version": "3.6.2"
    },
    "deepnote_notebook_id": "d2d2153c-eeee-4bed-a57f-0c04d8b74db6",
    "deepnote": {},
    "deepnote_execution_queue": []
  }
}