{
  "cells": [
    {
      "cell_type": "markdown",
      "source": "### Example: Fibonacci Sequence",
      "metadata": {
        "cell_id": "00000-59dc18eb-1568-4980-8337-ed7e93490027",
        "deepnote_cell_type": "markdown"
      }
    },
    {
      "cell_type": "markdown",
      "source": "Here is the Fibonacci sequence:\n\n```\n1 1 2 3 5 8 13 ...\n```",
      "metadata": {
        "cell_id": "00001-dc933c54-968a-4dc4-a296-483680d34470",
        "deepnote_cell_type": "markdown"
      }
    },
    {
      "cell_type": "markdown",
      "source": "As you can see there is a recursive definition of the numbers in this sequence:\n\n```\nFib(n) = Fib(n-1) + Fib(n-2)\n```\nwhere \n\n```\nFib(0) = 1\n``` \n\nand\n\n```\nFib(1) = 1\n```",
      "metadata": {
        "cell_id": "00002-e01fd02c-23e2-4f65-988c-994532ed8272",
        "deepnote_cell_type": "markdown"
      }
    },
    {
      "cell_type": "code",
      "metadata": {
        "collapsed": true,
        "cell_id": "00004-6e4c7021-3526-4e88-abdf-fafb6bec9546",
        "is_code_hidden": false,
        "deepnote_cell_type": "code"
      },
      "source": "def fib_recursive(n):\n    if n <= 1:\n        return 1\n    else:\n        return fib_recursive(n-1) + fib_recursive(n-2)",
      "execution_count": 1,
      "outputs": []
    },
    {
      "cell_type": "code",
      "metadata": {
        "cell_id": "00005-223267b7-7f5b-4760-960f-ecb6b1576301",
        "output_cleared": true,
        "source_hash": null,
        "is_code_hidden": false,
        "deepnote_cell_type": "code"
      },
      "source": "[fib_recursive(i) for i in range(7)]",
      "execution_count": 2,
      "outputs": []
    },
    {
      "cell_type": "code",
      "metadata": {
        "collapsed": true,
        "cell_id": "00007-e3dc5a46-07d6-485e-a2fb-d199cfc9a4f7",
        "is_code_hidden": false,
        "deepnote_cell_type": "code"
      },
      "source": "from timeit import timeit",
      "execution_count": 3,
      "outputs": []
    },
    {
      "cell_type": "code",
      "metadata": {
        "cell_id": "00008-52a9fb3c-ca30-4f1e-a5ba-4d25f78a8a13",
        "output_cleared": true,
        "source_hash": null,
        "is_code_hidden": false,
        "deepnote_cell_type": "code"
      },
      "source": "timeit('fib_recursive(10)', globals=globals(), number=10)",
      "execution_count": 4,
      "outputs": []
    },
    {
      "cell_type": "code",
      "metadata": {
        "cell_id": "00009-57172d1d-0091-4243-a3fa-bb6095c7e383",
        "output_cleared": true,
        "source_hash": null,
        "is_code_hidden": false,
        "deepnote_cell_type": "code"
      },
      "source": "timeit('fib_recursive(28)', globals=globals(), number=10)",
      "execution_count": 5,
      "outputs": []
    },
    {
      "cell_type": "code",
      "metadata": {
        "cell_id": "00010-a24eeffc-88f2-46ae-9d6e-918b2efd5410",
        "output_cleared": true,
        "source_hash": null,
        "is_code_hidden": false,
        "deepnote_cell_type": "code"
      },
      "source": "timeit('fib_recursive(29)', globals=globals(), number=10)",
      "execution_count": 6,
      "outputs": []
    },
    {
      "cell_type": "code",
      "metadata": {
        "collapsed": true,
        "cell_id": "00012-0bd6981f-8406-4b22-8092-c5092a591f80",
        "is_code_hidden": false,
        "deepnote_cell_type": "code"
      },
      "source": "from functools import lru_cache",
      "execution_count": 7,
      "outputs": []
    },
    {
      "cell_type": "code",
      "metadata": {
        "collapsed": true,
        "cell_id": "00013-6750c7b2-d252-484d-a8c8-73a9487d661d",
        "is_code_hidden": false,
        "deepnote_cell_type": "code"
      },
      "source": "@lru_cache()\ndef fib_recursive(n):\n    if n <= 1:\n        return 1\n    else:\n        return fib_recursive(n-1) + fib_recursive(n-2)",
      "execution_count": 8,
      "outputs": []
    },
    {
      "cell_type": "code",
      "metadata": {
        "cell_id": "00014-954573de-771d-4dc7-916d-faf30ff9f8aa",
        "output_cleared": true,
        "source_hash": null,
        "is_code_hidden": false,
        "deepnote_cell_type": "code"
      },
      "source": "timeit('fib_recursive(10)', globals=globals(), number=10)",
      "execution_count": 9,
      "outputs": []
    },
    {
      "cell_type": "code",
      "metadata": {
        "cell_id": "00015-b59e24c2-e039-4ea5-a4e7-57d762521611",
        "output_cleared": true,
        "source_hash": null,
        "is_code_hidden": false,
        "deepnote_cell_type": "code"
      },
      "source": "timeit('fib_recursive(29)', globals=globals(), number=10)",
      "execution_count": 10,
      "outputs": []
    },
    {
      "cell_type": "code",
      "metadata": {
        "collapsed": true,
        "cell_id": "00017-14202001-474a-43f2-9cc7-7d5f9ea2b15c",
        "is_code_hidden": false,
        "deepnote_cell_type": "code"
      },
      "source": "@lru_cache()\ndef fib_recursive(n):\n    if n <= 1:\n        return 1\n    else:\n        return fib_recursive(n-1) + fib_recursive(n-2)",
      "execution_count": 11,
      "outputs": []
    },
    {
      "cell_type": "code",
      "metadata": {
        "cell_id": "00018-0e6232f1-79b7-402c-87d9-48f81308aeca",
        "output_cleared": true,
        "source_hash": null,
        "is_code_hidden": false,
        "deepnote_cell_type": "code"
      },
      "source": "fib_recursive(2000)",
      "execution_count": 12,
      "outputs": []
    },
    {
      "cell_type": "code",
      "metadata": {
        "collapsed": true,
        "cell_id": "00020-915c9645-b9eb-41c7-a4a6-2041cc06faf2",
        "is_code_hidden": false,
        "deepnote_cell_type": "code"
      },
      "source": "def fib(n):\n    fib_0 = 1\n    fib_1 = 1\n    for i in range(n-1):\n        fib_0, fib_1 = fib_1, fib_0 + fib_1\n    return fib_1",
      "execution_count": 13,
      "outputs": []
    },
    {
      "cell_type": "code",
      "metadata": {
        "cell_id": "00021-aa772650-46e5-4055-b02d-ec35904b0d1b",
        "output_cleared": true,
        "source_hash": null,
        "is_code_hidden": false,
        "deepnote_cell_type": "code"
      },
      "source": "[fib(i) for i in range(7)]",
      "execution_count": 14,
      "outputs": []
    },
    {
      "cell_type": "code",
      "metadata": {
        "cell_id": "00023-25ed6d2d-17ae-42e3-906f-8418c5c86a22",
        "output_cleared": true,
        "source_hash": null,
        "is_code_hidden": false,
        "deepnote_cell_type": "code"
      },
      "source": "timeit('fib(5000)', globals=globals(), number=10)",
      "execution_count": 15,
      "outputs": []
    },
    {
      "cell_type": "code",
      "metadata": {
        "collapsed": true,
        "cell_id": "00026-d963a8d3-c1f0-48d0-83f2-a05f7acf0a98",
        "is_code_hidden": false,
        "deepnote_cell_type": "code"
      },
      "source": "class Fib:\n    def __init__(self, n):\n        self.n = n\n        \n    def __iter__(self):\n        return self.FibIter(self.n)\n        \n    class FibIter:\n        def __init__(self, n):\n            self.n = n\n            self.i = 0\n            \n        def __iter__(self):\n            return self\n        \n        def __next__(self):\n            if self.i >= self.n:\n                raise StopIteration\n            else:\n                result = fib(self.i)\n                self.i += 1\n                return result",
      "execution_count": 16,
      "outputs": []
    },
    {
      "cell_type": "code",
      "metadata": {
        "collapsed": true,
        "cell_id": "00028-14d4d3a8-88a1-4c09-85ea-c3a57f96db11",
        "is_code_hidden": false,
        "deepnote_cell_type": "code"
      },
      "source": "fib_iterable = Fib(7)",
      "execution_count": 17,
      "outputs": []
    },
    {
      "cell_type": "code",
      "metadata": {
        "cell_id": "00029-9f2f3354-ad21-4bd5-96f5-8eed1625e19e",
        "is_code_hidden": false,
        "output_cleared": true,
        "source_hash": null,
        "deepnote_cell_type": "code"
      },
      "source": "for num in fib_iterable:\n    print(num)",
      "execution_count": 18,
      "outputs": []
    },
    {
      "cell_type": "code",
      "metadata": {
        "collapsed": true,
        "cell_id": "00031-fc983da4-b6f2-4c9f-9ce2-d461f1543fae",
        "is_code_hidden": false,
        "deepnote_cell_type": "code"
      },
      "source": "def fib_closure():\n    i = 0\n    def inner():\n        nonlocal i\n        result = fib(i)\n        i += 1\n        return result\n    return inner",
      "execution_count": 19,
      "outputs": []
    },
    {
      "cell_type": "code",
      "metadata": {
        "cell_id": "00032-3ca8af9b-aec6-4f28-862f-25774e975de5",
        "output_cleared": true,
        "source_hash": null,
        "is_code_hidden": false,
        "deepnote_cell_type": "code"
      },
      "source": "fib_numbers = fib_closure()\nfib_iter = iter(fib_numbers, fib(7))\nfor num in fib_iter:\n    print(num)",
      "execution_count": 20,
      "outputs": []
    },
    {
      "cell_type": "code",
      "metadata": {
        "collapsed": true,
        "cell_id": "00035-1d41a7b8-f59f-40fc-bcf2-0c471742c8d9",
        "is_code_hidden": false,
        "deepnote_cell_type": "code"
      },
      "source": "def fib(n):\n    fib_0 = 1\n    fib_1 = 1\n    for i in range(n-1):\n        fib_0, fib_1 = fib_1, fib_0 + fib_1\n    return fib_1    ",
      "execution_count": 21,
      "outputs": []
    },
    {
      "cell_type": "code",
      "metadata": {
        "cell_id": "00036-d32fb09a-d593-4b64-92ce-2140a6d874b4",
        "output_cleared": true,
        "source_hash": null,
        "is_code_hidden": false,
        "deepnote_cell_type": "code"
      },
      "source": "[fib(i) for i in range(7)]",
      "execution_count": 22,
      "outputs": []
    },
    {
      "cell_type": "code",
      "metadata": {
        "collapsed": true,
        "cell_id": "00038-836f7406-6ad4-4f76-bc00-0ba4ae76ae1c",
        "is_code_hidden": false,
        "deepnote_cell_type": "code"
      },
      "source": "def fib_gen(n):\n    fib_0 = 1\n    fib_1 = 1\n    for i in range(n-1):\n        fib_0, fib_1 = fib_1, fib_0 + fib_1\n        yield fib_1    ",
      "execution_count": 23,
      "outputs": []
    },
    {
      "cell_type": "code",
      "metadata": {
        "cell_id": "00039-b096d914-6319-44aa-9297-d89e3947f998",
        "output_cleared": true,
        "source_hash": null,
        "is_code_hidden": false,
        "deepnote_cell_type": "code"
      },
      "source": "[num for num in fib_gen(7)]",
      "execution_count": 24,
      "outputs": []
    },
    {
      "cell_type": "code",
      "metadata": {
        "collapsed": true,
        "cell_id": "00041-f41cf5e2-abe9-41fd-b1cb-767a791cbf37",
        "is_code_hidden": false,
        "deepnote_cell_type": "code"
      },
      "source": "def fib_gen(n):\n    fib_0 = 1\n    yield fib_0\n    fib_1 = 1\n    yield fib_1\n    for i in range(n-1):\n        fib_0, fib_1 = fib_1, fib_0 + fib_1\n        yield fib_1    ",
      "execution_count": 25,
      "outputs": []
    },
    {
      "cell_type": "code",
      "metadata": {
        "cell_id": "00042-fd755649-3744-48d4-9c64-287979f2fb80",
        "output_cleared": true,
        "source_hash": null,
        "is_code_hidden": false,
        "deepnote_cell_type": "code"
      },
      "source": "[num for num in fib_gen(7)]",
      "execution_count": 26,
      "outputs": []
    },
    {
      "cell_type": "code",
      "metadata": {
        "collapsed": true,
        "cell_id": "00044-3fd72575-9e96-4258-83e9-d41a37796152",
        "is_code_hidden": false,
        "deepnote_cell_type": "code"
      },
      "source": "def fib_gen(n):\n    fib_0 = 1\n    yield fib_0\n    fib_1 = 1\n    yield fib_1\n    for i in range(n-2):\n        fib_0, fib_1 = fib_1, fib_0 + fib_1\n        yield fib_1    ",
      "execution_count": 27,
      "outputs": []
    },
    {
      "cell_type": "code",
      "metadata": {
        "cell_id": "00046-5dd94d66-8583-49a6-be32-e029fd81069e",
        "output_cleared": true,
        "source_hash": null,
        "is_code_hidden": false,
        "deepnote_cell_type": "code"
      },
      "source": "[num for num in fib_gen(7)]",
      "execution_count": 28,
      "outputs": []
    },
    {
      "cell_type": "code",
      "metadata": {
        "cell_id": "00048-eb68a592-1e63-4222-9b25-fba44a205301",
        "output_cleared": true,
        "source_hash": null,
        "is_code_hidden": false,
        "deepnote_cell_type": "code"
      },
      "source": "timeit('[num for num in Fib(5_000)]', globals=globals(), number=1)",
      "execution_count": 29,
      "outputs": []
    },
    {
      "cell_type": "code",
      "metadata": {
        "cell_id": "00049-91c039f9-9b30-42e3-aafd-23284f9d0bd0",
        "output_cleared": true,
        "source_hash": null,
        "is_code_hidden": false,
        "deepnote_cell_type": "code"
      },
      "source": "fib_numbers = fib_closure()\nsentinel = fib(5_001)\n\ntimeit('[num for num in iter(fib_numbers, sentinel)]', globals=globals(),\n      number=1)",
      "execution_count": 30,
      "outputs": []
    },
    {
      "cell_type": "code",
      "metadata": {
        "cell_id": "00050-9e0a6e02-8f22-4d64-9e3b-2166caa56712",
        "output_cleared": true,
        "source_hash": null,
        "is_code_hidden": false,
        "deepnote_cell_type": "code"
      },
      "source": "timeit('[num for num in fib_gen(5_000)]', globals=globals(), number=1)",
      "execution_count": 31,
      "outputs": []
    },
    {
      "cell_type": "markdown",
      "source": "<a style='text-decoration:none;line-height:16px;display:flex;color:#5B5B62;padding:10px;justify-content:end;' href='https://deepnote.com?utm_source=created-in-deepnote-cell&projectId=d12d8d6f-83dc-4873-bf00-aaff2a39293d' target=\"_blank\">\n<img style='display:inline;max-height:16px;margin:0px;margin-right:7.5px;' src='data:image/svg+xml;base64,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' > </img>\nCreated in <span style='font-weight:600;margin-left:4px;'>Deepnote</span></a>",
      "metadata": {
        "tags": [],
        "created_in_deepnote_cell": true,
        "deepnote_cell_type": "markdown"
      }
    }
  ],
  "nbformat": 4,
  "nbformat_minor": 2,
  "metadata": {
    "kernelspec": {
      "display_name": "Python 3",
      "language": "python",
      "name": "python3"
    },
    "language_info": {
      "codemirror_mode": {
        "name": "ipython",
        "version": 3
      },
      "file_extension": ".py",
      "mimetype": "text/x-python",
      "name": "python",
      "nbconvert_exporter": "python",
      "pygments_lexer": "ipython3",
      "version": "3.6.2"
    },
    "deepnote_notebook_id": "84003463-99cd-489c-825d-7b9d955ee2c1",
    "deepnote": {},
    "deepnote_execution_queue": []
  }
}