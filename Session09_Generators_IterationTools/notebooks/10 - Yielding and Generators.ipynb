{
  "cells": [
    {
      "cell_type": "markdown",
      "source": "### Yielding and Generators",
      "metadata": {
        "cell_id": "00000-cbd61a0c-2045-43c6-b54d-78b69bdc14a7",
        "deepnote_cell_type": "markdown"
      }
    },
    {
      "cell_type": "code",
      "metadata": {
        "collapsed": true,
        "cell_id": "00002-f4a53a5e-9079-4686-80c2-73c8367a0de6",
        "is_code_hidden": false,
        "deepnote_cell_type": "code"
      },
      "source": "import math",
      "execution_count": 1,
      "outputs": []
    },
    {
      "cell_type": "code",
      "metadata": {
        "collapsed": true,
        "cell_id": "00003-8c674286-8970-4a45-81e6-7dffeccc3766",
        "is_code_hidden": false,
        "deepnote_cell_type": "code"
      },
      "source": "class FactIter:\n    def __init__(self, n):\n        self.n = n\n        self.i = 0\n\n    def __iter__(self):\n        return self\n\n    def __next__(self):\n        if self.i >= self.n:\n            raise StopIteration\n        else:\n            result = math.factorial(self.i)\n            self.i += 1\n            return result",
      "execution_count": 2,
      "outputs": []
    },
    {
      "cell_type": "code",
      "metadata": {
        "collapsed": true,
        "cell_id": "00004-77d97af7-c125-4044-8a79-93b7933182eb",
        "is_code_hidden": false,
        "deepnote_cell_type": "code"
      },
      "source": "fact_iter = FactIter(5)",
      "execution_count": 3,
      "outputs": []
    },
    {
      "cell_type": "code",
      "metadata": {
        "scrolled": true,
        "cell_id": "00005-58f2000c-d6cc-48c0-b366-ece79e91be98",
        "output_cleared": true,
        "source_hash": null,
        "is_code_hidden": false,
        "deepnote_cell_type": "code"
      },
      "source": "for num in fact_iter:\n    print(num)",
      "execution_count": 4,
      "outputs": []
    },
    {
      "cell_type": "code",
      "metadata": {
        "collapsed": true,
        "cell_id": "00007-4b134019-b667-4ff3-a2ab-cf6ee884fac2",
        "is_code_hidden": false,
        "deepnote_cell_type": "code"
      },
      "source": "def fact():\n    i = 0\n    def inner():\n        nonlocal i\n        result = math.factorial(i)\n        i += 1\n        return result\n    return inner           ",
      "execution_count": 5,
      "outputs": []
    },
    {
      "cell_type": "code",
      "metadata": {
        "collapsed": true,
        "cell_id": "00008-a508fd7d-58b2-4262-b840-f21c4105a11d",
        "is_code_hidden": false,
        "deepnote_cell_type": "code"
      },
      "source": "fact_iter = iter(fact(), math.factorial(5))",
      "execution_count": 6,
      "outputs": []
    },
    {
      "cell_type": "code",
      "metadata": {
        "cell_id": "00009-30695fa9-afe4-4137-9253-93ebe898530d",
        "output_cleared": true,
        "source_hash": null,
        "is_code_hidden": false,
        "deepnote_cell_type": "code"
      },
      "source": "for num in fact_iter:\n    print(num)",
      "execution_count": 7,
      "outputs": []
    },
    {
      "cell_type": "code",
      "metadata": {
        "collapsed": true,
        "cell_id": "00013-454870de-e399-457a-bb81-f7622d8e8768",
        "is_code_hidden": false,
        "deepnote_cell_type": "code"
      },
      "source": "def my_func():\n    print('line 1')\n    yield 'Flying'\n    print('line 2')\n    yield 'Circus'    ",
      "execution_count": 8,
      "outputs": []
    },
    {
      "cell_type": "code",
      "metadata": {
        "cell_id": "00014-36726cd7-39fd-4abf-94ee-f7a6f997c2b7",
        "output_cleared": true,
        "source_hash": null,
        "is_code_hidden": false,
        "deepnote_cell_type": "code"
      },
      "source": "my_func()",
      "execution_count": 9,
      "outputs": []
    },
    {
      "cell_type": "code",
      "metadata": {
        "collapsed": true,
        "cell_id": "00016-51dd48cf-f20f-4c36-aa3c-a7491d215220",
        "is_code_hidden": false,
        "deepnote_cell_type": "code"
      },
      "source": "gen_my_func = my_func()",
      "execution_count": 10,
      "outputs": []
    },
    {
      "cell_type": "code",
      "metadata": {
        "cell_id": "00017-81723b2c-cddd-4df7-9a4c-e5c48f6f3e2b",
        "output_cleared": true,
        "source_hash": null,
        "is_code_hidden": false,
        "deepnote_cell_type": "code"
      },
      "source": "next(gen_my_func)",
      "execution_count": 11,
      "outputs": []
    },
    {
      "cell_type": "code",
      "metadata": {
        "cell_id": "00018-f80b759f-9df5-4c60-a8a9-0c14ca0eae79",
        "output_cleared": true,
        "source_hash": null,
        "is_code_hidden": false,
        "deepnote_cell_type": "code"
      },
      "source": "next(gen_my_func)",
      "execution_count": 12,
      "outputs": []
    },
    {
      "cell_type": "code",
      "metadata": {
        "cell_id": "00020-ec581989-d567-473d-908b-4b1bb620c5a4",
        "output_cleared": true,
        "source_hash": null,
        "is_code_hidden": false,
        "deepnote_cell_type": "code"
      },
      "source": "next(gen_my_func)",
      "execution_count": 13,
      "outputs": []
    },
    {
      "cell_type": "code",
      "metadata": {
        "collapsed": true,
        "cell_id": "00024-c2fb0ca0-2e16-44da-8fd8-27846a703c2c",
        "is_code_hidden": false,
        "deepnote_cell_type": "code"
      },
      "source": "gen_my_func = my_func()",
      "execution_count": 14,
      "outputs": []
    },
    {
      "cell_type": "code",
      "metadata": {
        "cell_id": "00025-90e15230-ca24-459a-8f72-74fb60041a82",
        "is_code_hidden": false,
        "output_cleared": true,
        "source_hash": null,
        "deepnote_cell_type": "code"
      },
      "source": "'__iter__' in dir(gen_my_func)",
      "execution_count": 15,
      "outputs": []
    },
    {
      "cell_type": "code",
      "metadata": {
        "cell_id": "00026-18250be4-0013-4172-9b93-54abd4cb5d67",
        "is_code_hidden": false,
        "output_cleared": true,
        "source_hash": null,
        "deepnote_cell_type": "code"
      },
      "source": "'__next__' in dir(gen_my_func)",
      "execution_count": 16,
      "outputs": []
    },
    {
      "cell_type": "code",
      "metadata": {
        "cell_id": "00028-cfa9c837-c91c-4e50-a53f-ba6383e9bb0f",
        "output_cleared": true,
        "source_hash": null,
        "is_code_hidden": false,
        "deepnote_cell_type": "code"
      },
      "source": "gen_my_func",
      "execution_count": 17,
      "outputs": []
    },
    {
      "cell_type": "code",
      "metadata": {
        "cell_id": "00029-e52cb9a4-3520-413c-8a24-3e47d928c0cf",
        "output_cleared": true,
        "source_hash": null,
        "is_code_hidden": false,
        "deepnote_cell_type": "code"
      },
      "source": "iter(gen_my_func)",
      "execution_count": 18,
      "outputs": []
    },
    {
      "cell_type": "code",
      "metadata": {
        "collapsed": true,
        "cell_id": "00032-7c739ec3-7632-4e9c-9a7b-470f755022e9",
        "is_code_hidden": false,
        "deepnote_cell_type": "code"
      },
      "source": "def squares(sentinel):\n    i = 0\n    while True:\n        if i < sentinel:\n            result = i**2\n            i += 1\n            yield result\n        else:\n            return 'all done!'",
      "execution_count": 19,
      "outputs": []
    },
    {
      "cell_type": "code",
      "metadata": {
        "collapsed": true,
        "cell_id": "00033-e09b2a3d-8b5e-42ed-b649-cdb2f71b88fb",
        "is_code_hidden": false,
        "deepnote_cell_type": "code"
      },
      "source": "sq = squares(3)",
      "execution_count": 20,
      "outputs": []
    },
    {
      "cell_type": "code",
      "metadata": {
        "cell_id": "00034-a0ec8f02-a88a-4900-af26-82f3f203b44c",
        "output_cleared": true,
        "source_hash": null,
        "is_code_hidden": false,
        "deepnote_cell_type": "code"
      },
      "source": "next(sq)",
      "execution_count": 21,
      "outputs": []
    },
    {
      "cell_type": "code",
      "metadata": {
        "cell_id": "00035-8fa29090-5383-41b4-bcb9-e466f5875201",
        "output_cleared": true,
        "source_hash": null,
        "is_code_hidden": false,
        "deepnote_cell_type": "code"
      },
      "source": "next(sq)",
      "execution_count": 22,
      "outputs": []
    },
    {
      "cell_type": "code",
      "metadata": {
        "cell_id": "00036-3c56a3b6-86b9-47c9-b142-cf25188c34d2",
        "output_cleared": true,
        "source_hash": null,
        "is_code_hidden": false,
        "deepnote_cell_type": "code"
      },
      "source": "next(sq)",
      "execution_count": 23,
      "outputs": []
    },
    {
      "cell_type": "code",
      "metadata": {
        "cell_id": "00037-dd7840eb-b9e1-4158-a454-b879315db849",
        "output_cleared": true,
        "source_hash": null,
        "is_code_hidden": false,
        "deepnote_cell_type": "code"
      },
      "source": "next(sq)",
      "execution_count": 24,
      "outputs": []
    },
    {
      "cell_type": "code",
      "metadata": {
        "collapsed": true,
        "cell_id": "00040-557a4e05-c9e8-4f88-9acc-4f74ff13f59d",
        "is_code_hidden": false,
        "deepnote_cell_type": "code"
      },
      "source": "def squares(sentinel):\n    i = 0\n    while True:\n        if i < sentinel:\n            yield i**2\n            i += 1 # note how we can incremenet **after** the yield\n        else:\n            return 'all done!'",
      "execution_count": 25,
      "outputs": []
    },
    {
      "cell_type": "code",
      "metadata": {
        "cell_id": "00041-7ff5edd8-96db-4b7a-93a1-db2095dd2849",
        "output_cleared": true,
        "source_hash": null,
        "is_code_hidden": false,
        "deepnote_cell_type": "code"
      },
      "source": "for num in squares(5):\n    print(num)",
      "execution_count": 26,
      "outputs": []
    },
    {
      "cell_type": "code",
      "metadata": {
        "collapsed": true,
        "cell_id": "00043-7476ce92-780d-49d0-aa70-a47ad0641107",
        "is_code_hidden": false,
        "deepnote_cell_type": "code"
      },
      "source": "def factorials(n):\n    for i in range(n):\n        yield math.factorial(i)    ",
      "execution_count": 27,
      "outputs": []
    },
    {
      "cell_type": "code",
      "metadata": {
        "cell_id": "00044-5c94e53f-d3f6-4e43-95c4-84dea264003e",
        "output_cleared": true,
        "source_hash": null,
        "is_code_hidden": false,
        "deepnote_cell_type": "code"
      },
      "source": "for num in factorials(5):\n    print(num)",
      "execution_count": 28,
      "outputs": []
    },
    {
      "cell_type": "code",
      "metadata": {
        "collapsed": true,
        "cell_id": "00048-51ab008f-425d-4fa9-be8e-d922a86018f5",
        "is_code_hidden": false,
        "deepnote_cell_type": "code"
      },
      "source": "facts = factorials(5)",
      "execution_count": 29,
      "outputs": []
    },
    {
      "cell_type": "code",
      "metadata": {
        "cell_id": "00049-b71b5a91-a591-4344-993d-917ffba7c18b",
        "output_cleared": true,
        "source_hash": null,
        "is_code_hidden": false,
        "deepnote_cell_type": "code"
      },
      "source": "list(facts)",
      "execution_count": 30,
      "outputs": []
    },
    {
      "cell_type": "code",
      "metadata": {
        "cell_id": "00050-d05a3002-8676-4853-8042-f337d0fbb39c",
        "output_cleared": true,
        "source_hash": null,
        "is_code_hidden": false,
        "deepnote_cell_type": "code"
      },
      "source": "list(facts)",
      "execution_count": 31,
      "outputs": []
    },
    {
      "cell_type": "code",
      "metadata": {
        "scrolled": true,
        "cell_id": "00052-2deb44b1-4c1f-46e5-9510-57a9794156be",
        "output_cleared": true,
        "source_hash": null,
        "is_code_hidden": false,
        "deepnote_cell_type": "code"
      },
      "source": "next(facts)",
      "execution_count": 32,
      "outputs": []
    },
    {
      "cell_type": "markdown",
      "source": "<a style='text-decoration:none;line-height:16px;display:flex;color:#5B5B62;padding:10px;justify-content:end;' href='https://deepnote.com?utm_source=created-in-deepnote-cell&projectId=d12d8d6f-83dc-4873-bf00-aaff2a39293d' target=\"_blank\">\n<img style='display:inline;max-height:16px;margin:0px;margin-right:7.5px;' src='data:image/svg+xml;base64,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' > </img>\nCreated in <span style='font-weight:600;margin-left:4px;'>Deepnote</span></a>",
      "metadata": {
        "tags": [],
        "created_in_deepnote_cell": true,
        "deepnote_cell_type": "markdown"
      }
    }
  ],
  "nbformat": 4,
  "nbformat_minor": 2,
  "metadata": {
    "kernelspec": {
      "display_name": "Python 3",
      "language": "python",
      "name": "python3"
    },
    "language_info": {
      "codemirror_mode": {
        "name": "ipython",
        "version": 3
      },
      "file_extension": ".py",
      "mimetype": "text/x-python",
      "name": "python",
      "nbconvert_exporter": "python",
      "pygments_lexer": "ipython3",
      "version": "3.6.2"
    },
    "deepnote_notebook_id": "c62b9dc3-8e51-4546-bf54-5becbc00379e",
    "deepnote": {},
    "deepnote_execution_queue": []
  }
}