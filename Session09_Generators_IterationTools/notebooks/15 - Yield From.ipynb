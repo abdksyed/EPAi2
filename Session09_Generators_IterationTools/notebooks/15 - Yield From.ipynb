{
  "cells": [
    {
      "cell_type": "markdown",
      "source": "### Yield From",
      "metadata": {
        "cell_id": "00000-f6e4a68f-09b7-42d2-81a1-a8a6f4682d4f",
        "deepnote_cell_type": "markdown"
      }
    },
    {
      "cell_type": "code",
      "metadata": {
        "collapsed": true,
        "cell_id": "00002-dcaedc5d-feb0-4114-bbba-62eebaa0ee83",
        "is_code_hidden": false,
        "deepnote_cell_type": "code"
      },
      "source": "def matrix(n):\n    gen = ( (i * j for j in range(1, n+1))\n            for i in range(1, n+1)\n          )\n    return gen",
      "execution_count": 1,
      "outputs": []
    },
    {
      "cell_type": "code",
      "metadata": {
        "collapsed": true,
        "cell_id": "00003-0d7d21ad-a9ff-48dc-abc0-7cc9abd80e04",
        "is_code_hidden": false,
        "deepnote_cell_type": "code"
      },
      "source": "m = list(matrix(5))",
      "execution_count": 2,
      "outputs": []
    },
    {
      "cell_type": "code",
      "metadata": {
        "cell_id": "00004-c00ea4c3-9e74-4182-a994-eb1bd8be2e8b",
        "output_cleared": true,
        "source_hash": null,
        "is_code_hidden": false,
        "deepnote_cell_type": "code"
      },
      "source": "m",
      "execution_count": 3,
      "outputs": []
    },
    {
      "cell_type": "code",
      "metadata": {
        "collapsed": true,
        "cell_id": "00006-cfb9bf93-b099-4962-a027-362d68dd1e5a",
        "is_code_hidden": false,
        "deepnote_cell_type": "code"
      },
      "source": "def matrix_iterator(n):\n    for row in matrix(n):\n        for item in row:\n            yield item",
      "execution_count": 4,
      "outputs": []
    },
    {
      "cell_type": "code",
      "metadata": {
        "cell_id": "00008-b94c941d-ca22-4ee7-87c7-7761111c0055",
        "output_cleared": true,
        "source_hash": null,
        "is_code_hidden": false,
        "deepnote_cell_type": "code"
      },
      "source": "for i in matrix_iterator(3):\n    print(i)",
      "execution_count": 5,
      "outputs": []
    },
    {
      "cell_type": "code",
      "metadata": {
        "collapsed": true,
        "cell_id": "00010-0f36562b-ea82-45f8-a7f3-ebc52e88c9c6",
        "is_code_hidden": false,
        "deepnote_cell_type": "code"
      },
      "source": "def matrix_iterator(n):\n    for row in matrix(n):\n        yield from row",
      "execution_count": 6,
      "outputs": []
    },
    {
      "cell_type": "code",
      "metadata": {
        "cell_id": "00011-c2249bfa-1a7a-4ee6-bd3f-ce027a367d62",
        "output_cleared": true,
        "source_hash": null,
        "is_code_hidden": false,
        "deepnote_cell_type": "code"
      },
      "source": "for i in matrix_iterator(3):\n    print(i)",
      "execution_count": 7,
      "outputs": []
    },
    {
      "cell_type": "markdown",
      "source": "#### Example",
      "metadata": {
        "cell_id": "00014-9d644c2e-dd37-40f4-9bd7-dbfc611eac43",
        "deepnote_cell_type": "markdown"
      }
    },
    {
      "cell_type": "code",
      "metadata": {
        "collapsed": true,
        "cell_id": "00016-315d42b2-cc2c-4354-81c4-9501dbe6ca4b",
        "is_code_hidden": false,
        "deepnote_cell_type": "code"
      },
      "source": "brands = []\n\nwith open('car-brands-1.txt') as f:\n    for brand in f:\n        brands.append(brand.strip('\\n'))\n        \nwith open('car-brands-2.txt') as f:\n    for brand in f:\n        brands.append(brand.strip('\\n'))\n        \nwith open('car-brands-3.txt') as f:\n    for brand in f:\n        brands.append(brand.strip('\\n'))",
      "execution_count": 8,
      "outputs": []
    },
    {
      "cell_type": "code",
      "metadata": {
        "cell_id": "00017-62bf46df-0e1c-4a84-a42b-113b676b768c",
        "is_code_hidden": false,
        "output_cleared": true,
        "source_hash": null,
        "deepnote_cell_type": "code"
      },
      "source": "for brand in brands:\n    print(brand, end=', ')",
      "execution_count": 9,
      "outputs": []
    },
    {
      "cell_type": "code",
      "metadata": {
        "collapsed": true,
        "cell_id": "00019-7f414082-f1a2-4d7d-b69c-98cfef085e66",
        "is_code_hidden": false,
        "deepnote_cell_type": "code"
      },
      "source": "def brands(*files):\n    for f_name in files:\n        with open(f_name) as f:\n            for line in f:\n                yield line.strip('\\n')",
      "execution_count": 10,
      "outputs": []
    },
    {
      "cell_type": "code",
      "metadata": {
        "cell_id": "00020-3afa2534-7762-4610-93c1-1595b03d318b",
        "is_code_hidden": false,
        "output_cleared": true,
        "source_hash": null,
        "deepnote_cell_type": "code"
      },
      "source": "files = 'car-brands-1.txt', 'car-brands-2.txt', 'car-brands-3.txt'\nfor brand in brands(*files):\n    print(brand, end = ', ')",
      "execution_count": 11,
      "outputs": []
    },
    {
      "cell_type": "code",
      "metadata": {
        "collapsed": true,
        "cell_id": "00022-02efc956-266c-476d-ac15-6fe8adf431ae",
        "is_code_hidden": false,
        "deepnote_cell_type": "code"
      },
      "source": "def brands(*files):\n    for f_name in files:\n        with open(f_name) as f:\n            yield from f",
      "execution_count": 12,
      "outputs": []
    },
    {
      "cell_type": "code",
      "metadata": {
        "cell_id": "00023-38a4f10f-5786-4c03-b741-6e633df9dfcf",
        "is_code_hidden": false,
        "output_cleared": true,
        "source_hash": null,
        "deepnote_cell_type": "code"
      },
      "source": "for brand in brands(*files):\n    print(brand, end=', ')",
      "execution_count": 13,
      "outputs": []
    },
    {
      "cell_type": "code",
      "metadata": {
        "collapsed": true,
        "cell_id": "00026-3da86f7b-a7e2-4bd8-bd33-db477428a8c2",
        "is_code_hidden": false,
        "deepnote_cell_type": "code"
      },
      "source": "def gen_clean_read(file):\n    with open(file) as f:\n        for line in f:\n            yield line.strip('\\n')",
      "execution_count": 14,
      "outputs": []
    },
    {
      "cell_type": "code",
      "metadata": {
        "cell_id": "00028-4b4cc8ec-fb07-4d28-87e4-c4c1f08f051a",
        "is_code_hidden": false,
        "output_cleared": true,
        "source_hash": null,
        "deepnote_cell_type": "code"
      },
      "source": "f1 = gen_clean_read('car-brands-1.txt')\nfor line in f1:\n    print(line, end=', ')",
      "execution_count": 15,
      "outputs": []
    },
    {
      "cell_type": "code",
      "metadata": {
        "collapsed": true,
        "cell_id": "00030-5253c36a-2cc9-4a6f-8cd6-f317ee5615bd",
        "is_code_hidden": false,
        "deepnote_cell_type": "code"
      },
      "source": "files = 'car-brands-1.txt', 'car-brands-2.txt', 'car-brands-3.txt'",
      "execution_count": 16,
      "outputs": []
    },
    {
      "cell_type": "code",
      "metadata": {
        "collapsed": true,
        "cell_id": "00031-a4733d84-5894-41ad-b000-a88f0c9a5671",
        "is_code_hidden": false,
        "deepnote_cell_type": "code"
      },
      "source": "def brands(*files):\n    for file in files:\n        yield from gen_clean_read(file)",
      "execution_count": 17,
      "outputs": []
    },
    {
      "cell_type": "code",
      "metadata": {
        "cell_id": "00032-d960cb5e-14f5-4b92-a101-4f1029e5c277",
        "is_code_hidden": false,
        "output_cleared": true,
        "source_hash": null,
        "deepnote_cell_type": "code"
      },
      "source": "for brand in brands(*files):\n    print(brand, end=', ')",
      "execution_count": 18,
      "outputs": []
    },
    {
      "cell_type": "code",
      "metadata": {
        "collapsed": true,
        "cell_id": "00035-eb75cca7-67a6-48ae-96c3-41b8300bfebc",
        "is_code_hidden": false,
        "deepnote_cell_type": "code"
      },
      "source": "def brands(*files):\n    for file in files:\n        yield from gen_clean_read(file)",
      "execution_count": 19,
      "outputs": []
    },
    {
      "cell_type": "code",
      "metadata": {
        "collapsed": true,
        "cell_id": "00037-d3d0fd92-41e6-4bd6-b87c-4284b081b804",
        "is_code_hidden": false,
        "deepnote_cell_type": "code"
      },
      "source": "def brands(*files):\n    for file in files:\n        for line in gen_clean_read(file):\n            yield line",
      "execution_count": 20,
      "outputs": []
    },
    {
      "cell_type": "code",
      "metadata": {
        "cell_id": "00038-6622f995-0584-452a-bc8d-77bb4addba50",
        "is_code_hidden": false,
        "output_cleared": true,
        "source_hash": null,
        "deepnote_cell_type": "code"
      },
      "source": "for brand in brands(*files):\n    print(brand, end=', ')",
      "execution_count": 21,
      "outputs": []
    },
    {
      "cell_type": "markdown",
      "source": "<a style='text-decoration:none;line-height:16px;display:flex;color:#5B5B62;padding:10px;justify-content:end;' href='https://deepnote.com?utm_source=created-in-deepnote-cell&projectId=d12d8d6f-83dc-4873-bf00-aaff2a39293d' target=\"_blank\">\n<img style='display:inline;max-height:16px;margin:0px;margin-right:7.5px;' src='data:image/svg+xml;base64,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' > </img>\nCreated in <span style='font-weight:600;margin-left:4px;'>Deepnote</span></a>",
      "metadata": {
        "tags": [],
        "created_in_deepnote_cell": true,
        "deepnote_cell_type": "markdown"
      }
    }
  ],
  "nbformat": 4,
  "nbformat_minor": 2,
  "metadata": {
    "kernelspec": {
      "display_name": "Python 3",
      "language": "python",
      "name": "python3"
    },
    "language_info": {
      "codemirror_mode": {
        "name": "ipython",
        "version": 3
      },
      "file_extension": ".py",
      "mimetype": "text/x-python",
      "name": "python",
      "nbconvert_exporter": "python",
      "pygments_lexer": "ipython3",
      "version": "3.6.2"
    },
    "deepnote_notebook_id": "1f94a611-2bff-4659-ab11-f67959dc0390",
    "deepnote": {},
    "deepnote_execution_queue": []
  }
}