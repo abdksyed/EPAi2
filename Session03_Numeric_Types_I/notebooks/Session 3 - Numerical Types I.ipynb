{
  "nbformat": 4,
  "nbformat_minor": 0,
  "metadata": {
    "orig_nbformat": 2,
    "deepnote_notebook_id": "52ca6fe9-2faf-4502-a5f8-1a09527b5a53",
    "deepnote_execution_queue": [],
    "colab": {
      "name": "Session 3 - Numerical Types I.ipynb",
      "provenance": [],
      "include_colab_link": true
    }
  },
  "cells": [
    {
      "cell_type": "markdown",
      "metadata": {
        "id": "view-in-github",
        "colab_type": "text"
      },
      "source": [
        "<a href=\"https://colab.research.google.com/github/abdksyed/EPAi2/blob/main/Session03_Numeric_Types_I/notebooks/Session%203%20-%20Numerical%20Types%20I.ipynb\" target=\"_parent\"><img src=\"https://colab.research.google.com/assets/colab-badge.svg\" alt=\"Open In Colab\"/></a>"
      ]
    },
    {
      "cell_type": "markdown",
      "metadata": {
        "tags": [],
        "cell_id": "00000-45dc267f-4f40-40f6-9ad4-3acccb8f1194",
        "deepnote_cell_type": "markdown",
        "id": "TWtzKr4sDBMc"
      },
      "source": [
        "# Numerical Types I\n",
        "\n",
        "Integers, Rational Numbers, Floats and Decimals\n"
      ]
    },
    {
      "cell_type": "code",
      "metadata": {
        "tags": [],
        "cell_id": "00000-08b53065-1b49-4ed7-9fc3-f692852f0484",
        "deepnote_to_be_reexecuted": false,
        "source_hash": "e11446a2",
        "execution_start": 1611364041106,
        "execution_millis": 2,
        "deepnote_cell_type": "code",
        "id": "7X7Qps5uDBMk",
        "outputId": "a8d413bf-2223-4df7-fd7a-545973885c13"
      },
      "source": [
        "# int \n",
        "\n",
        "print(type(100))"
      ],
      "execution_count": null,
      "outputs": [
        {
          "output_type": "stream",
          "text": [
            "<class 'int'>\n"
          ],
          "name": "stdout"
        }
      ]
    },
    {
      "cell_type": "code",
      "metadata": {
        "tags": [],
        "cell_id": "00002-1eff70a2-29f2-4b17-b6d7-bf31f8da385f",
        "deepnote_to_be_reexecuted": false,
        "source_hash": "d312736d",
        "execution_start": 1611364094537,
        "execution_millis": 1,
        "deepnote_cell_type": "code",
        "id": "Mmh5cOCmDBMp"
      },
      "source": [
        "import sys"
      ],
      "execution_count": null,
      "outputs": []
    },
    {
      "cell_type": "code",
      "metadata": {
        "tags": [],
        "cell_id": "00003-2f53c086-19a1-45c2-bef1-ab8ad7b2a14e",
        "deepnote_to_be_reexecuted": false,
        "source_hash": "66249027",
        "execution_start": 1611364113036,
        "execution_millis": 2,
        "deepnote_cell_type": "code",
        "id": "ilOAa9_kDBMp",
        "outputId": "090b4904-364d-4a56-f19e-77eb8223e360"
      },
      "source": [
        "sys.getsizeof(0) # bytes << overhead"
      ],
      "execution_count": null,
      "outputs": [
        {
          "output_type": "execute_result",
          "data": {
            "text/plain": [
              "24"
            ]
          },
          "metadata": {
            "tags": []
          },
          "execution_count": 3
        }
      ]
    },
    {
      "cell_type": "code",
      "metadata": {
        "tags": [],
        "cell_id": "00004-1552b95b-cd4a-4d1b-bef4-30d24197e0e8",
        "deepnote_to_be_reexecuted": false,
        "source_hash": "45765708",
        "execution_start": 1611364136413,
        "execution_millis": 1,
        "deepnote_cell_type": "code",
        "id": "sl-7eqpPDBMq",
        "outputId": "57ab85ec-30dc-4e09-8e02-b654cd1cba2b"
      },
      "source": [
        "sys.getsizeof(1)"
      ],
      "execution_count": null,
      "outputs": [
        {
          "output_type": "execute_result",
          "data": {
            "text/plain": [
              "28"
            ]
          },
          "metadata": {
            "tags": []
          },
          "execution_count": 4
        }
      ]
    },
    {
      "cell_type": "code",
      "metadata": {
        "tags": [],
        "cell_id": "00005-85a3deb1-5bbc-4d55-9dd4-3e0941240795",
        "deepnote_to_be_reexecuted": false,
        "source_hash": "be35aa4d",
        "execution_millis": 0,
        "execution_start": 1611364236541,
        "deepnote_cell_type": "code",
        "id": "1BqfVCRNDBMr",
        "outputId": "baa80be4-6def-4464-e91f-4952ce2941c6"
      },
      "source": [
        "sys.getsizeof(2**1000)"
      ],
      "execution_count": null,
      "outputs": [
        {
          "output_type": "execute_result",
          "data": {
            "text/plain": [
              "160"
            ]
          },
          "metadata": {
            "tags": []
          },
          "execution_count": 8
        }
      ]
    },
    {
      "cell_type": "code",
      "metadata": {
        "tags": [],
        "cell_id": "00006-6f6f8635-a5b7-4ef9-a5ba-9c9f20c57ee0",
        "deepnote_to_be_reexecuted": false,
        "source_hash": "daaed9b1",
        "execution_start": 1611364257108,
        "execution_millis": 41,
        "deepnote_cell_type": "code",
        "id": "Bc-qksTqDBMr"
      },
      "source": [
        "import time"
      ],
      "execution_count": null,
      "outputs": []
    },
    {
      "cell_type": "code",
      "metadata": {
        "tags": [],
        "cell_id": "00007-8a46e245-842a-4a98-aac6-dd6bc4862088",
        "deepnote_to_be_reexecuted": false,
        "source_hash": "fe280292",
        "execution_start": 1611364316692,
        "execution_millis": 1,
        "deepnote_cell_type": "code",
        "id": "SA3ElLkADBMr"
      },
      "source": [
        "def calc(a):\n",
        "    for i in range(10_000_000):\n",
        "        a * 2"
      ],
      "execution_count": null,
      "outputs": []
    },
    {
      "cell_type": "code",
      "metadata": {
        "tags": [],
        "cell_id": "00008-2a3707b9-7e39-4354-9647-4e3800baa482",
        "deepnote_to_be_reexecuted": false,
        "source_hash": "d4f45491",
        "execution_start": 1611364356601,
        "execution_millis": 327,
        "deepnote_cell_type": "code",
        "id": "uXli-Di-DBMs",
        "outputId": "7e6ec84f-1ad3-4804-b76a-e94d148fdc41"
      },
      "source": [
        "start = time.perf_counter()\n",
        "calc(10)\n",
        "end = time.perf_counter()\n",
        "print(end - start)"
      ],
      "execution_count": null,
      "outputs": [
        {
          "output_type": "stream",
          "text": [
            "0.3798710929986555\n"
          ],
          "name": "stdout"
        }
      ]
    },
    {
      "cell_type": "code",
      "metadata": {
        "tags": [],
        "cell_id": "00009-9b298fd4-b6aa-4696-96ec-5bb494ded698",
        "deepnote_to_be_reexecuted": false,
        "source_hash": "bbeac2bc",
        "execution_start": 1611364371630,
        "execution_millis": 663,
        "deepnote_cell_type": "code",
        "id": "td5dFebrDBMs",
        "outputId": "56b8908d-f943-46d5-d6a7-a5fb95ff409c"
      },
      "source": [
        "start = time.perf_counter()\n",
        "calc(2**100)\n",
        "end = time.perf_counter()\n",
        "print(end - start)"
      ],
      "execution_count": null,
      "outputs": [
        {
          "output_type": "stream",
          "text": [
            "0.7356597559992224\n"
          ],
          "name": "stdout"
        }
      ]
    },
    {
      "cell_type": "code",
      "metadata": {
        "tags": [],
        "cell_id": "00010-62ccfb20-9b81-4d6e-b2de-9016d48e946d",
        "deepnote_to_be_reexecuted": false,
        "source_hash": "a8ca2f87",
        "execution_millis": 4286,
        "execution_start": 1611364401546,
        "deepnote_cell_type": "code",
        "id": "FoKwvmOmDBMs",
        "outputId": "c5e3ec29-7206-40f3-950d-6dc2875e9975"
      },
      "source": [
        "start = time.perf_counter()\n",
        "calc(2**10000)\n",
        "end = time.perf_counter()\n",
        "print(end - start)"
      ],
      "execution_count": null,
      "outputs": [
        {
          "output_type": "stream",
          "text": [
            "4.355473898991477\n"
          ],
          "name": "stdout"
        }
      ]
    },
    {
      "cell_type": "markdown",
      "metadata": {
        "tags": [],
        "cell_id": "00011-d7e5a42f-8294-4eb5-87e4-27c9a7b7cd2e",
        "deepnote_cell_type": "markdown",
        "id": "dNhFVZloDBMt"
      },
      "source": [
        "## Integer Operations"
      ]
    },
    {
      "cell_type": "code",
      "metadata": {
        "tags": [],
        "cell_id": "00011-e406dcbf-7ef2-4e92-9841-e39fefe6955f",
        "deepnote_to_be_reexecuted": false,
        "source_hash": "b831593",
        "execution_start": 1611364454871,
        "execution_millis": 3,
        "deepnote_cell_type": "code",
        "id": "esYvAQ3QDBMt",
        "outputId": "08b1a1ca-edfc-4c49-c82e-f982cfccaead"
      },
      "source": [
        "type(2 + 3)"
      ],
      "execution_count": null,
      "outputs": [
        {
          "output_type": "execute_result",
          "data": {
            "text/plain": [
              "int"
            ]
          },
          "metadata": {
            "tags": []
          },
          "execution_count": 15
        }
      ]
    },
    {
      "cell_type": "code",
      "metadata": {
        "tags": [],
        "cell_id": "00013-92fd104d-5902-4047-8913-1481d6e2e48a",
        "deepnote_to_be_reexecuted": false,
        "source_hash": "4370d1ed",
        "execution_start": 1611364476217,
        "execution_millis": 1,
        "deepnote_cell_type": "code",
        "id": "CRgm0PYcDBMt",
        "outputId": "25fb7f81-5ce7-49b8-ecad-967082b263d3"
      },
      "source": [
        "type(3 - 10)"
      ],
      "execution_count": null,
      "outputs": [
        {
          "output_type": "execute_result",
          "data": {
            "text/plain": [
              "int"
            ]
          },
          "metadata": {
            "tags": []
          },
          "execution_count": 16
        }
      ]
    },
    {
      "cell_type": "code",
      "metadata": {
        "tags": [],
        "cell_id": "00014-91ae6810-6dc2-4a04-a44e-4fc3074d665f",
        "deepnote_to_be_reexecuted": false,
        "source_hash": "d8345ae",
        "execution_start": 1611364491729,
        "execution_millis": 3,
        "deepnote_cell_type": "code",
        "id": "_rvzTdibDBMu",
        "outputId": "29685241-6e35-4c6c-b60c-8a86ad18012e"
      },
      "source": [
        "type(3 * 5)"
      ],
      "execution_count": null,
      "outputs": [
        {
          "output_type": "execute_result",
          "data": {
            "text/plain": [
              "int"
            ]
          },
          "metadata": {
            "tags": []
          },
          "execution_count": 17
        }
      ]
    },
    {
      "cell_type": "code",
      "metadata": {
        "tags": [],
        "cell_id": "00015-36c4870b-0bf0-458a-9fa5-c5182d3e88dd",
        "deepnote_to_be_reexecuted": false,
        "source_hash": "6a1c5355",
        "execution_start": 1611364497664,
        "execution_millis": 4,
        "deepnote_cell_type": "code",
        "id": "gPudISXIDBMu",
        "outputId": "877911f8-2596-4b50-ca58-26aad37a0685"
      },
      "source": [
        "type(3**5)"
      ],
      "execution_count": null,
      "outputs": [
        {
          "output_type": "execute_result",
          "data": {
            "text/plain": [
              "int"
            ]
          },
          "metadata": {
            "tags": []
          },
          "execution_count": 18
        }
      ]
    },
    {
      "cell_type": "markdown",
      "metadata": {
        "tags": [],
        "cell_id": "00016-fc982aa7-03c6-4670-adff-c73776d73f07",
        "deepnote_cell_type": "markdown",
        "id": "tmUmnsIoDBMu"
      },
      "source": [
        "But the standard division operator `/` **always** results in a float value."
      ]
    },
    {
      "cell_type": "code",
      "metadata": {
        "tags": [],
        "cell_id": "00017-8b88beb0-af54-4d73-a657-f3e93b8959b6",
        "deepnote_to_be_reexecuted": false,
        "source_hash": "b1cb7782",
        "execution_start": 1611364530426,
        "execution_millis": 3,
        "deepnote_cell_type": "code",
        "id": "2zWE1MDrDBMu",
        "outputId": "6885f134-7146-4abc-80dd-370976198d7e"
      },
      "source": [
        "type(2/3)"
      ],
      "execution_count": null,
      "outputs": [
        {
          "output_type": "execute_result",
          "data": {
            "text/plain": [
              "float"
            ]
          },
          "metadata": {
            "tags": []
          },
          "execution_count": 20
        }
      ]
    },
    {
      "cell_type": "code",
      "metadata": {
        "tags": [],
        "cell_id": "00018-d879dad3-6b5d-4e42-b53c-8409f2237bb8",
        "deepnote_to_be_reexecuted": false,
        "source_hash": "2932aa86",
        "execution_start": 1611364541573,
        "execution_millis": 1,
        "deepnote_cell_type": "code",
        "id": "MEucqa0fDBMv",
        "outputId": "e9d9ca58-8025-46aa-8cfa-4711f97d4104"
      },
      "source": [
        "type(10 / 2)"
      ],
      "execution_count": null,
      "outputs": [
        {
          "output_type": "execute_result",
          "data": {
            "text/plain": [
              "float"
            ]
          },
          "metadata": {
            "tags": []
          },
          "execution_count": 21
        }
      ]
    },
    {
      "cell_type": "code",
      "metadata": {
        "tags": [],
        "cell_id": "00019-c81ac9c8-e4ff-48a1-9473-14a9901e9ecc",
        "deepnote_to_be_reexecuted": false,
        "source_hash": "ff143fe",
        "execution_start": 1611364625753,
        "execution_millis": 51,
        "deepnote_cell_type": "code",
        "id": "yiBc9dXWDBMv"
      },
      "source": [
        "import math"
      ],
      "execution_count": null,
      "outputs": []
    },
    {
      "cell_type": "code",
      "metadata": {
        "tags": [],
        "cell_id": "00019-edf60614-3110-4f27-9619-64669952775b",
        "deepnote_to_be_reexecuted": false,
        "source_hash": "27196b7f",
        "execution_millis": 1,
        "execution_start": 1611364667377,
        "deepnote_cell_type": "code",
        "id": "PfKOSuiFDBMv",
        "outputId": "03510e43-4aa7-4476-a81e-97f3ecbe90f3"
      },
      "source": [
        "math.floor(3.15) # >=0 the floor of the value is the same as the integer portion of the value"
      ],
      "execution_count": null,
      "outputs": [
        {
          "output_type": "execute_result",
          "data": {
            "text/plain": [
              "3"
            ]
          },
          "metadata": {
            "tags": []
          },
          "execution_count": 25
        }
      ]
    },
    {
      "cell_type": "code",
      "metadata": {
        "tags": [],
        "cell_id": "00021-9b8cb248-c7b4-445f-b9c8-eba308c12a95",
        "deepnote_to_be_reexecuted": false,
        "source_hash": "b263759d",
        "execution_start": 1611364679016,
        "execution_millis": 3,
        "deepnote_cell_type": "code",
        "id": "zWZinuwaDBMw",
        "outputId": "e19f65a4-f4f4-4868-d943-20fde50c0865"
      },
      "source": [
        "math.floor(3.99999999)"
      ],
      "execution_count": null,
      "outputs": [
        {
          "output_type": "execute_result",
          "data": {
            "text/plain": [
              "3"
            ]
          },
          "metadata": {
            "tags": []
          },
          "execution_count": 26
        }
      ]
    },
    {
      "cell_type": "code",
      "metadata": {
        "tags": [],
        "cell_id": "00022-c77fe32f-24a0-44f3-8be2-ed61c8b91ef0",
        "deepnote_to_be_reexecuted": false,
        "source_hash": "ef32ead2",
        "execution_millis": 4,
        "execution_start": 1611364693651,
        "deepnote_cell_type": "code",
        "id": "LO_cK-5rDBMw",
        "outputId": "5be3422a-4f8f-4705-bc9a-2e68577b8d6b"
      },
      "source": [
        "math.floor(3.99999999999999999999999999999999)"
      ],
      "execution_count": null,
      "outputs": [
        {
          "output_type": "execute_result",
          "data": {
            "text/plain": [
              "4"
            ]
          },
          "metadata": {
            "tags": []
          },
          "execution_count": 28
        }
      ]
    },
    {
      "cell_type": "code",
      "metadata": {
        "tags": [],
        "cell_id": "00023-2ef40daa-8872-48ef-83b3-1cae90641ce9",
        "deepnote_to_be_reexecuted": false,
        "source_hash": "e04a4ce",
        "execution_start": 1611364758436,
        "execution_millis": 2,
        "deepnote_cell_type": "code",
        "id": "LTuMKoDRDBMx",
        "outputId": "baf805e9-9cbd-4dd9-87a6-10fa22c0685e"
      },
      "source": [
        "math.floor(-3.15)"
      ],
      "execution_count": null,
      "outputs": [
        {
          "output_type": "execute_result",
          "data": {
            "text/plain": [
              "-4"
            ]
          },
          "metadata": {
            "tags": []
          },
          "execution_count": 29
        }
      ]
    },
    {
      "cell_type": "code",
      "metadata": {
        "tags": [],
        "cell_id": "00024-bad65a96-8a40-4db7-a910-f8983fac0b3b",
        "deepnote_to_be_reexecuted": false,
        "source_hash": "85815cfc",
        "execution_start": 1611364864068,
        "execution_millis": 40,
        "deepnote_cell_type": "code",
        "id": "dbBBzHExDBMx",
        "outputId": "a7d1e549-30bc-417e-c172-c1e99c6dd31b"
      },
      "source": [
        "math.floor(-3.000000001)"
      ],
      "execution_count": null,
      "outputs": [
        {
          "output_type": "execute_result",
          "data": {
            "text/plain": [
              "-4"
            ]
          },
          "metadata": {
            "tags": []
          },
          "execution_count": 30
        }
      ]
    },
    {
      "cell_type": "code",
      "metadata": {
        "tags": [],
        "cell_id": "00025-b224a02b-4b02-4af1-a707-87212697d9af",
        "deepnote_to_be_reexecuted": false,
        "source_hash": "2c05274c",
        "execution_start": 1611364870829,
        "execution_millis": 1,
        "deepnote_cell_type": "code",
        "id": "rrX0EZ1BDBMx",
        "outputId": "acaede4e-f6aa-4aad-a11b-efca9dd4e442"
      },
      "source": [
        "math.floor(-3.00000000000000000000000000000000000001)"
      ],
      "execution_count": null,
      "outputs": [
        {
          "output_type": "execute_result",
          "data": {
            "text/plain": [
              "-3"
            ]
          },
          "metadata": {
            "tags": []
          },
          "execution_count": 31
        }
      ]
    },
    {
      "cell_type": "markdown",
      "metadata": {
        "tags": [],
        "cell_id": "00026-11005909-4743-42ac-ae67-c8cba2ab8482",
        "deepnote_cell_type": "markdown",
        "id": "lEM8_aDHDBMy"
      },
      "source": [
        "### The Floor Division Operator \n",
        "\n",
        "a//b << floor >> a/b"
      ]
    },
    {
      "cell_type": "code",
      "metadata": {
        "tags": [],
        "cell_id": "00026-1a52e919-d503-44d0-b6cd-c6fdbb17e8e3",
        "deepnote_to_be_reexecuted": false,
        "source_hash": "26696a04",
        "execution_start": 1611365026978,
        "execution_millis": 3,
        "deepnote_cell_type": "code",
        "id": "K3SQmtAcDBMy",
        "outputId": "2412a31e-4857-432b-d0ef-c16a181177c3"
      },
      "source": [
        "a = 33\n",
        "b = 16\n",
        "print(a/b)\n",
        "print(a//b)\n",
        "print(math.floor(a/b))"
      ],
      "execution_count": null,
      "outputs": [
        {
          "output_type": "stream",
          "text": [
            "2.0625\n",
            "2\n",
            "2\n"
          ],
          "name": "stdout"
        }
      ]
    },
    {
      "cell_type": "markdown",
      "metadata": {
        "tags": [],
        "cell_id": "00028-254176d1-e39b-460c-90ea-2a498423a94e",
        "deepnote_cell_type": "markdown",
        "id": "JB3MxS8tDBMy"
      },
      "source": [
        "For positive numbers, `a//b` is basically the same as truncating (taking the integer portion) of `a / b`.\n",
        "\n",
        "But this is *not* true for negative numbers"
      ]
    },
    {
      "cell_type": "code",
      "metadata": {
        "tags": [],
        "cell_id": "00028-e09c8d70-c191-4da7-aeb2-356e1f027252",
        "deepnote_to_be_reexecuted": false,
        "source_hash": "fb299530",
        "execution_millis": 1,
        "execution_start": 1611365371997,
        "deepnote_cell_type": "code",
        "id": "QtWLO3O3DBMy",
        "outputId": "3889328a-7ab1-4364-88be-fdd8fd284ca7"
      },
      "source": [
        "a = -33\n",
        "b = 16\n",
        "print(f'{a}/{b} = {a/b}')\n",
        "print(f'trunc({a}/{b}) = {math.trunc(a/b)}')\n",
        "print(f'{a}//{b} = {a//b}')\n",
        "print(f'floor({a}//{b}) = {math.floor(a/b)}')"
      ],
      "execution_count": null,
      "outputs": [
        {
          "output_type": "stream",
          "text": [
            "-33/16 = -2.0625\n",
            "trunc(-33/16) = -2\n",
            "-33//16 = -3\n",
            "floor(-33//16) = -3\n"
          ],
          "name": "stdout"
        }
      ]
    },
    {
      "cell_type": "code",
      "metadata": {
        "tags": [],
        "cell_id": "00029-0b3a7e18-bc4b-4e3d-a090-0081d18945d1",
        "deepnote_to_be_reexecuted": false,
        "source_hash": "117c738d",
        "execution_millis": 4,
        "execution_start": 1611365375257,
        "deepnote_cell_type": "code",
        "id": "W8oDLWYEDBMz",
        "outputId": "318cb644-2fa3-4223-e54b-de7b2bbd00c4"
      },
      "source": [
        "a = 33\n",
        "b = 16\n",
        "print(f'{a}/{b} = {a/b}')\n",
        "print(f'trunc({a}/{b}) = {math.trunc(a/b)}')\n",
        "print(f'{a}//{b} = {a//b}')\n",
        "print(f'floor({a}//{b}) = {math.floor(a/b)}')"
      ],
      "execution_count": null,
      "outputs": [
        {
          "output_type": "stream",
          "text": [
            "33/16 = 2.0625\n",
            "trunc(33/16) = 2\n",
            "33//16 = 2\n",
            "floor(33//16) = 2\n"
          ],
          "name": "stdout"
        }
      ]
    },
    {
      "cell_type": "markdown",
      "metadata": {
        "tags": [],
        "cell_id": "00031-cb43cd1b-aa7e-466c-8b29-39c7f22b3f03",
        "deepnote_cell_type": "markdown",
        "id": "tFTlOzcdDBMz"
      },
      "source": [
        "# Modulo Operator\n",
        "\n",
        "The modulo operator and the floor division operator will always satisfy the following equation:\n",
        "\n",
        "``a = b * (a // b) + a % b``"
      ]
    },
    {
      "cell_type": "code",
      "metadata": {
        "tags": [],
        "cell_id": "00033-fa6ce113-9a06-454a-8a77-03a0d6fa6792",
        "deepnote_to_be_reexecuted": false,
        "source_hash": "791576a0",
        "execution_millis": 0,
        "execution_start": 1611365585765,
        "deepnote_cell_type": "code",
        "id": "7wz2YhzWDBMz",
        "outputId": "6c1a87fe-e910-4f15-e738-daece94f2d08"
      },
      "source": [
        "a = 13\n",
        "b = 4\n",
        "print(f'{a}/{b} = {a/b}')\n",
        "print(f'{a}//{b} = {a//b}')\n",
        "print(f'{a}%{b} = {a%b}')\n",
        "print(f'{a == b * (a // b) + a % b}')"
      ],
      "execution_count": null,
      "outputs": [
        {
          "output_type": "stream",
          "text": [
            "13/4 = 3.25\n",
            "13//4 = 3\n",
            "13%4 = 1\n",
            "True\n"
          ],
          "name": "stdout"
        }
      ]
    },
    {
      "cell_type": "code",
      "metadata": {
        "tags": [],
        "cell_id": "00033-8f5614a1-67db-4640-8f80-48fae76aa7f4",
        "deepnote_to_be_reexecuted": false,
        "source_hash": "e130c4c7",
        "execution_start": 1611365707225,
        "execution_millis": 1,
        "deepnote_cell_type": "code",
        "id": "sgRgGXPsDBMz",
        "outputId": "d064eb24-b010-4d18-f367-6301322230e5"
      },
      "source": [
        "a = -13\n",
        "b = 4\n",
        "print(f'{a}/{b} = {a/b}')\n",
        "print(f'{a}//{b} = {a//b}')\n",
        "print(f'{a}%{b} = {a%b}')\n",
        "print(f'{a == b * (a // b) + a % b}')"
      ],
      "execution_count": null,
      "outputs": [
        {
          "output_type": "stream",
          "text": [
            "-13/4 = -3.25\n",
            "-13//4 = -4\n",
            "-13%4 = 3\n",
            "True\n"
          ],
          "name": "stdout"
        }
      ]
    },
    {
      "cell_type": "code",
      "metadata": {
        "tags": [],
        "cell_id": "00034-05b4f2b1-190f-4d62-b0b3-600b34f20a1d",
        "deepnote_to_be_reexecuted": false,
        "source_hash": "7845f711",
        "execution_start": 1611365790485,
        "execution_millis": 1,
        "deepnote_cell_type": "code",
        "id": "BcPeTUuTDBM0",
        "outputId": "16af0d09-5a7d-4a4f-9482-026655202739"
      },
      "source": [
        "a = 13\n",
        "b = -4\n",
        "print(f'{a}/{b} = {a/b}')\n",
        "print(f'{a}//{b} = {a//b}')\n",
        "print(f'{a}%{b} = {a%b}')\n",
        "print(f'{a == b * (a // b) + a % b}')"
      ],
      "execution_count": null,
      "outputs": [
        {
          "output_type": "stream",
          "text": [
            "13/-4 = -3.25\n",
            "13//-4 = -4\n",
            "13%-4 = -3\n",
            "True\n"
          ],
          "name": "stdout"
        }
      ]
    },
    {
      "cell_type": "code",
      "metadata": {
        "tags": [],
        "cell_id": "00035-e3472cd4-f3dd-486f-9114-2c064e1180b9",
        "deepnote_to_be_reexecuted": false,
        "source_hash": "5142a7d5",
        "execution_millis": 2,
        "execution_start": 1611366031031,
        "deepnote_cell_type": "code",
        "id": "hzMWSQKDDBM0",
        "outputId": "473140e4-11ba-4754-b192-88055c7b613e"
      },
      "source": [
        "a = -13\n",
        "b = -4\n",
        "print('{0}/{1} = {2}'.format(a, b, a/b))\n",
        "print('{0}//{1} = {2}'.format(a, b, a//b))\n",
        "print('{0}%{1} = {2}'.format(a, b, a%b))\n",
        "print(a == b * (a//b))"
      ],
      "execution_count": null,
      "outputs": [
        {
          "output_type": "stream",
          "text": [
            "-13/-4 = 3.25\n",
            "-13//-4 = 3\n",
            "-13%-4 = -1\n",
            "False\n"
          ],
          "name": "stdout"
        }
      ]
    },
    {
      "cell_type": "code",
      "metadata": {
        "tags": [],
        "cell_id": "00036-3505a829-14a9-41bd-b6cf-b7bb050d8343",
        "deepnote_to_be_reexecuted": false,
        "source_hash": "e9c5f958",
        "execution_millis": 2,
        "execution_start": 1611366262111,
        "deepnote_cell_type": "code",
        "id": "0nO1COQIDBM0"
      },
      "source": [
        "class Rohan():\n",
        "    def __init__(rohan):\n",
        "        pass"
      ],
      "execution_count": null,
      "outputs": []
    },
    {
      "cell_type": "code",
      "metadata": {
        "tags": [],
        "cell_id": "00037-10cfd1f4-4f91-4720-a4be-c00a7c8d7bd6",
        "deepnote_to_be_reexecuted": false,
        "source_hash": "6a4d037e",
        "execution_millis": 2,
        "execution_start": 1611366263194,
        "deepnote_cell_type": "code",
        "id": "D0h9FMd7DBM0",
        "outputId": "051fb4f6-86e1-4035-e609-d070da3b2c71"
      },
      "source": [
        "help(Rohan)"
      ],
      "execution_count": null,
      "outputs": [
        {
          "output_type": "stream",
          "text": [
            "Help on class Rohan in module __main__:\n",
            "\n",
            "class Rohan(builtins.object)\n",
            " |  Methods defined here:\n",
            " |  \n",
            " |  __init__(rohan)\n",
            " |      Initialize self.  See help(type(self)) for accurate signature.\n",
            " |  \n",
            " |  ----------------------------------------------------------------------\n",
            " |  Data descriptors defined here:\n",
            " |  \n",
            " |  __dict__\n",
            " |      dictionary for instance variables (if defined)\n",
            " |  \n",
            " |  __weakref__\n",
            " |      list of weak references to the object (if defined)\n",
            "\n"
          ],
          "name": "stdout"
        }
      ]
    },
    {
      "cell_type": "code",
      "metadata": {
        "tags": [],
        "cell_id": "00038-c4b1cb3c-84a9-41c6-993f-b9d7e11ce2f9",
        "deepnote_to_be_reexecuted": false,
        "source_hash": "7d5ae212",
        "execution_millis": 2,
        "execution_start": 1611366280633,
        "deepnote_cell_type": "code",
        "id": "zF4biigCDBM1",
        "outputId": "4c39cd95-06f1-4afc-daaa-118c8f4af65f"
      },
      "source": [
        "help(int)"
      ],
      "execution_count": null,
      "outputs": [
        {
          "output_type": "stream",
          "text": [
            "Help on class int in module builtins:\n",
            "\n",
            "class int(object)\n",
            " |  int([x]) -> integer\n",
            " |  int(x, base=10) -> integer\n",
            " |  \n",
            " |  Convert a number or string to an integer, or return 0 if no arguments\n",
            " |  are given.  If x is a number, return x.__int__().  For floating point\n",
            " |  numbers, this truncates towards zero.\n",
            " |  \n",
            " |  If x is not a number or if base is given, then x must be a string,\n",
            " |  bytes, or bytearray instance representing an integer literal in the\n",
            " |  given base.  The literal can be preceded by '+' or '-' and be surrounded\n",
            " |  by whitespace.  The base defaults to 10.  Valid bases are 0 and 2-36.\n",
            " |  Base 0 means to interpret the base from the string as an integer literal.\n",
            " |  >>> int('0b100', base=0)\n",
            " |  4\n",
            " |  \n",
            " |  Methods defined here:\n",
            " |  \n",
            " |  __abs__(self, /)\n",
            " |      abs(self)\n",
            " |  \n",
            " |  __add__(self, value, /)\n",
            " |      Return self+value.\n",
            " |  \n",
            " |  __and__(self, value, /)\n",
            " |      Return self&value.\n",
            " |  \n",
            " |  __bool__(self, /)\n",
            " |      self != 0\n",
            " |  \n",
            " |  __ceil__(...)\n",
            " |      Ceiling of an Integral returns itself.\n",
            " |  \n",
            " |  __divmod__(self, value, /)\n",
            " |      Return divmod(self, value).\n",
            " |  \n",
            " |  __eq__(self, value, /)\n",
            " |      Return self==value.\n",
            " |  \n",
            " |  __float__(self, /)\n",
            " |      float(self)\n",
            " |  \n",
            " |  __floor__(...)\n",
            " |      Flooring an Integral returns itself.\n",
            " |  \n",
            " |  __floordiv__(self, value, /)\n",
            " |      Return self//value.\n",
            " |  \n",
            " |  __format__(self, format_spec, /)\n",
            " |      Default object formatter.\n",
            " |  \n",
            " |  __ge__(self, value, /)\n",
            " |      Return self>=value.\n",
            " |  \n",
            " |  __getattribute__(self, name, /)\n",
            " |      Return getattr(self, name).\n",
            " |  \n",
            " |  __getnewargs__(self, /)\n",
            " |  \n",
            " |  __gt__(self, value, /)\n",
            " |      Return self>value.\n",
            " |  \n",
            " |  __hash__(self, /)\n",
            " |      Return hash(self).\n",
            " |  \n",
            " |  __index__(self, /)\n",
            " |      Return self converted to an integer, if self is suitable for use as an index into a list.\n",
            " |  \n",
            " |  __int__(self, /)\n",
            " |      int(self)\n",
            " |  \n",
            " |  __invert__(self, /)\n",
            " |      ~self\n",
            " |  \n",
            " |  __le__(self, value, /)\n",
            " |      Return self<=value.\n",
            " |  \n",
            " |  __lshift__(self, value, /)\n",
            " |      Return self<<value.\n",
            " |  \n",
            " |  __lt__(self, value, /)\n",
            " |      Return self<value.\n",
            " |  \n",
            " |  __mod__(self, value, /)\n",
            " |      Return self%value.\n",
            " |  \n",
            " |  __mul__(self, value, /)\n",
            " |      Return self*value.\n",
            " |  \n",
            " |  __ne__(self, value, /)\n",
            " |      Return self!=value.\n",
            " |  \n",
            " |  __neg__(self, /)\n",
            " |      -self\n",
            " |  \n",
            " |  __or__(self, value, /)\n",
            " |      Return self|value.\n",
            " |  \n",
            " |  __pos__(self, /)\n",
            " |      +self\n",
            " |  \n",
            " |  __pow__(self, value, mod=None, /)\n",
            " |      Return pow(self, value, mod).\n",
            " |  \n",
            " |  __radd__(self, value, /)\n",
            " |      Return value+self.\n",
            " |  \n",
            " |  __rand__(self, value, /)\n",
            " |      Return value&self.\n",
            " |  \n",
            " |  __rdivmod__(self, value, /)\n",
            " |      Return divmod(value, self).\n",
            " |  \n",
            " |  __repr__(self, /)\n",
            " |      Return repr(self).\n",
            " |  \n",
            " |  __rfloordiv__(self, value, /)\n",
            " |      Return value//self.\n",
            " |  \n",
            " |  __rlshift__(self, value, /)\n",
            " |      Return value<<self.\n",
            " |  \n",
            " |  __rmod__(self, value, /)\n",
            " |      Return value%self.\n",
            " |  \n",
            " |  __rmul__(self, value, /)\n",
            " |      Return value*self.\n",
            " |  \n",
            " |  __ror__(self, value, /)\n",
            " |      Return value|self.\n",
            " |  \n",
            " |  __round__(...)\n",
            " |      Rounding an Integral returns itself.\n",
            " |      Rounding with an ndigits argument also returns an integer.\n",
            " |  \n",
            " |  __rpow__(self, value, mod=None, /)\n",
            " |      Return pow(value, self, mod).\n",
            " |  \n",
            " |  __rrshift__(self, value, /)\n",
            " |      Return value>>self.\n",
            " |  \n",
            " |  __rshift__(self, value, /)\n",
            " |      Return self>>value.\n",
            " |  \n",
            " |  __rsub__(self, value, /)\n",
            " |      Return value-self.\n",
            " |  \n",
            " |  __rtruediv__(self, value, /)\n",
            " |      Return value/self.\n",
            " |  \n",
            " |  __rxor__(self, value, /)\n",
            " |      Return value^self.\n",
            " |  \n",
            " |  __sizeof__(self, /)\n",
            " |      Returns size in memory, in bytes.\n",
            " |  \n",
            " |  __str__(self, /)\n",
            " |      Return str(self).\n",
            " |  \n",
            " |  __sub__(self, value, /)\n",
            " |      Return self-value.\n",
            " |  \n",
            " |  __truediv__(self, value, /)\n",
            " |      Return self/value.\n",
            " |  \n",
            " |  __trunc__(...)\n",
            " |      Truncating an Integral returns itself.\n",
            " |  \n",
            " |  __xor__(self, value, /)\n",
            " |      Return self^value.\n",
            " |  \n",
            " |  bit_length(self, /)\n",
            " |      Number of bits necessary to represent self in binary.\n",
            " |      \n",
            " |      >>> bin(37)\n",
            " |      '0b100101'\n",
            " |      >>> (37).bit_length()\n",
            " |      6\n",
            " |  \n",
            " |  conjugate(...)\n",
            " |      Returns self, the complex conjugate of any int.\n",
            " |  \n",
            " |  to_bytes(self, /, length, byteorder, *, signed=False)\n",
            " |      Return an array of bytes representing an integer.\n",
            " |      \n",
            " |      length\n",
            " |        Length of bytes object to use.  An OverflowError is raised if the\n",
            " |        integer is not representable with the given number of bytes.\n",
            " |      byteorder\n",
            " |        The byte order used to represent the integer.  If byteorder is 'big',\n",
            " |        the most significant byte is at the beginning of the byte array.  If\n",
            " |        byteorder is 'little', the most significant byte is at the end of the\n",
            " |        byte array.  To request the native byte order of the host system, use\n",
            " |        `sys.byteorder' as the byte order value.\n",
            " |      signed\n",
            " |        Determines whether two's complement is used to represent the integer.\n",
            " |        If signed is False and a negative integer is given, an OverflowError\n",
            " |        is raised.\n",
            " |  \n",
            " |  ----------------------------------------------------------------------\n",
            " |  Class methods defined here:\n",
            " |  \n",
            " |  from_bytes(bytes, byteorder, *, signed=False) from builtins.type\n",
            " |      Return the integer represented by the given array of bytes.\n",
            " |      \n",
            " |      bytes\n",
            " |        Holds the array of bytes to convert.  The argument must either\n",
            " |        support the buffer protocol or be an iterable object producing bytes.\n",
            " |        Bytes and bytearray are examples of built-in objects that support the\n",
            " |        buffer protocol.\n",
            " |      byteorder\n",
            " |        The byte order used to represent the integer.  If byteorder is 'big',\n",
            " |        the most significant byte is at the beginning of the byte array.  If\n",
            " |        byteorder is 'little', the most significant byte is at the end of the\n",
            " |        byte array.  To request the native byte order of the host system, use\n",
            " |        `sys.byteorder' as the byte order value.\n",
            " |      signed\n",
            " |        Indicates whether two's complement is used to represent the integer.\n",
            " |  \n",
            " |  ----------------------------------------------------------------------\n",
            " |  Static methods defined here:\n",
            " |  \n",
            " |  __new__(*args, **kwargs) from builtins.type\n",
            " |      Create and return a new object.  See help(type) for accurate signature.\n",
            " |  \n",
            " |  ----------------------------------------------------------------------\n",
            " |  Data descriptors defined here:\n",
            " |  \n",
            " |  denominator\n",
            " |      the denominator of a rational number in lowest terms\n",
            " |  \n",
            " |  imag\n",
            " |      the imaginary part of a complex number\n",
            " |  \n",
            " |  numerator\n",
            " |      the numerator of a rational number in lowest terms\n",
            " |  \n",
            " |  real\n",
            " |      the real part of a complex number\n",
            "\n"
          ],
          "name": "stdout"
        }
      ]
    },
    {
      "cell_type": "code",
      "metadata": {
        "tags": [],
        "cell_id": "00039-a32df828-0cff-44a4-adc6-91a26ff1f658",
        "deepnote_to_be_reexecuted": false,
        "source_hash": "56500478",
        "execution_millis": 1,
        "execution_start": 1611366503697,
        "deepnote_cell_type": "code",
        "id": "m88mgEZqDBM1",
        "outputId": "96e8642e-19bf-456b-a88f-c5a9d4f9c9c5"
      },
      "source": [
        "int('0b100', base=0)"
      ],
      "execution_count": null,
      "outputs": [
        {
          "output_type": "execute_result",
          "data": {
            "text/plain": [
              "4"
            ]
          },
          "metadata": {
            "tags": []
          },
          "execution_count": 78
        }
      ]
    },
    {
      "cell_type": "code",
      "metadata": {
        "tags": [],
        "cell_id": "00040-b29b8f98-4fb6-47d6-84b8-e31f159334a2",
        "deepnote_to_be_reexecuted": false,
        "source_hash": "39ec4905",
        "execution_millis": 0,
        "execution_start": 1611366522347,
        "deepnote_cell_type": "code",
        "id": "AGHMx6QqDBM1",
        "outputId": "57ed9edc-af1b-4956-f863-5ab356e608d5"
      },
      "source": [
        "int(\"10\")"
      ],
      "execution_count": null,
      "outputs": [
        {
          "output_type": "execute_result",
          "data": {
            "text/plain": [
              "10"
            ]
          },
          "metadata": {
            "tags": []
          },
          "execution_count": 79
        }
      ]
    },
    {
      "cell_type": "code",
      "metadata": {
        "tags": [],
        "cell_id": "00041-cb059ae5-8d68-47f5-823d-92944ea767c9",
        "deepnote_to_be_reexecuted": false,
        "source_hash": "69a2c3f9",
        "execution_millis": 2,
        "execution_start": 1611366554279,
        "deepnote_cell_type": "code",
        "id": "pEvQnkZ7DBM1",
        "outputId": "c1291452-43a2-4932-e7cd-dce42065660b"
      },
      "source": [
        "int(\"111\", base = 2)"
      ],
      "execution_count": null,
      "outputs": [
        {
          "output_type": "execute_result",
          "data": {
            "text/plain": [
              "7"
            ]
          },
          "metadata": {
            "tags": []
          },
          "execution_count": 83
        }
      ]
    },
    {
      "cell_type": "markdown",
      "metadata": {
        "tags": [],
        "cell_id": "00042-ee75ece1-66fb-4913-9bb8-f57a9dc5235b",
        "deepnote_cell_type": "markdown",
        "id": "T591ypZbDBM2"
      },
      "source": [
        "Python uses ``a-z`` for bases from 11 to 36."
      ]
    },
    {
      "cell_type": "code",
      "metadata": {
        "tags": [],
        "cell_id": "00042-0734153e-75d8-43f7-aca4-ac9d6c7e393c",
        "deepnote_to_be_reexecuted": false,
        "source_hash": "dbd8acd0",
        "execution_start": 1611366717933,
        "execution_millis": 2,
        "deepnote_cell_type": "code",
        "id": "y8sB5u0BDBM2",
        "outputId": "7e19621a-ba6a-4087-8186-babc95f8af99"
      },
      "source": [
        "int('F1A', base=16)"
      ],
      "execution_count": null,
      "outputs": [
        {
          "output_type": "execute_result",
          "data": {
            "text/plain": [
              "3866"
            ]
          },
          "metadata": {
            "tags": []
          },
          "execution_count": 84
        }
      ]
    },
    {
      "cell_type": "code",
      "metadata": {
        "tags": [],
        "cell_id": "00044-232dbc88-a525-41f4-a352-05e8d7f6aff9",
        "deepnote_to_be_reexecuted": false,
        "source_hash": "8224fc39",
        "execution_start": 1611366727145,
        "execution_millis": 0,
        "deepnote_cell_type": "code",
        "id": "w9zvmvB2DBM2",
        "outputId": "0fe20b9b-32da-4b88-f319-b1d620e18c96"
      },
      "source": [
        "int('f1a', base=16)"
      ],
      "execution_count": null,
      "outputs": [
        {
          "output_type": "execute_result",
          "data": {
            "text/plain": [
              "3866"
            ]
          },
          "metadata": {
            "tags": []
          },
          "execution_count": 85
        }
      ]
    },
    {
      "cell_type": "code",
      "metadata": {
        "tags": [],
        "cell_id": "00045-b6aa153a-c469-4546-b0e3-ec7c3768395e",
        "deepnote_to_be_reexecuted": false,
        "source_hash": "8ecc8b92",
        "execution_millis": 6,
        "execution_start": 1611366768420,
        "deepnote_cell_type": "code",
        "id": "7FO9WlTJDBM2",
        "outputId": "baa367a9-803b-4903-e202-758e4b5da1d3"
      },
      "source": [
        "int(\"B1A\", base = 11)"
      ],
      "execution_count": null,
      "outputs": [
        {
          "output_type": "error",
          "ename": "ValueError",
          "evalue": "invalid literal for int() with base 11: 'B1A'",
          "traceback": [
            "\u001b[0;31m---------------------------------------------------------------------------\u001b[0m",
            "\u001b[0;31mValueError\u001b[0m                                Traceback (most recent call last)",
            "\u001b[0;32m<ipython-input-89-976a01f202ee>\u001b[0m in \u001b[0;36m<module>\u001b[0;34m\u001b[0m\n\u001b[0;32m----> 1\u001b[0;31m \u001b[0mint\u001b[0m\u001b[0;34m(\u001b[0m\u001b[0;34m\"B1A\"\u001b[0m\u001b[0;34m,\u001b[0m \u001b[0mbase\u001b[0m \u001b[0;34m=\u001b[0m \u001b[0;36m11\u001b[0m\u001b[0;34m)\u001b[0m\u001b[0;34m\u001b[0m\u001b[0;34m\u001b[0m\u001b[0m\n\u001b[0m",
            "\u001b[0;31mValueError\u001b[0m: invalid literal for int() with base 11: 'B1A'"
          ]
        }
      ]
    },
    {
      "cell_type": "code",
      "metadata": {
        "tags": [],
        "cell_id": "00046-d39388f3-6fa7-4ad1-a036-49841b0ba8d8",
        "deepnote_to_be_reexecuted": false,
        "source_hash": "39a838d9",
        "execution_millis": 2,
        "execution_start": 1611366779875,
        "deepnote_cell_type": "code",
        "id": "t9gRN0VdDBM2",
        "outputId": "5eca81d0-8c76-4745-de99-462316062190"
      },
      "source": [
        "int(\"B1A\", base = 13)"
      ],
      "execution_count": null,
      "outputs": [
        {
          "output_type": "execute_result",
          "data": {
            "text/plain": [
              "1882"
            ]
          },
          "metadata": {
            "tags": []
          },
          "execution_count": 92
        }
      ]
    },
    {
      "cell_type": "code",
      "metadata": {
        "tags": [],
        "cell_id": "00047-9ccccd15-e610-4609-9d84-d0b8af9f0d2d",
        "deepnote_to_be_reexecuted": false,
        "source_hash": "ed8e0cf1",
        "execution_start": 1611366797432,
        "execution_millis": 3,
        "deepnote_cell_type": "code",
        "id": "mDp1Dp7oDBM3",
        "outputId": "414ca4b5-8bd0-4af4-b18a-256e8818b2cb"
      },
      "source": [
        "# in-built bases\n",
        "\n",
        "bin(10)"
      ],
      "execution_count": null,
      "outputs": [
        {
          "output_type": "execute_result",
          "data": {
            "text/plain": [
              "'0b1010'"
            ]
          },
          "metadata": {
            "tags": []
          },
          "execution_count": 93
        }
      ]
    },
    {
      "cell_type": "code",
      "metadata": {
        "tags": [],
        "cell_id": "00048-ae657d23-81a8-4a37-9004-f07342bbcc32",
        "deepnote_to_be_reexecuted": false,
        "source_hash": "979c439",
        "execution_start": 1611366810085,
        "execution_millis": 44,
        "deepnote_cell_type": "code",
        "id": "O0KDwJBlDBM3",
        "outputId": "116751bc-7c46-4b1e-c645-9b1a08466027"
      },
      "source": [
        "oct(10)"
      ],
      "execution_count": null,
      "outputs": [
        {
          "output_type": "execute_result",
          "data": {
            "text/plain": [
              "'0o12'"
            ]
          },
          "metadata": {
            "tags": []
          },
          "execution_count": 94
        }
      ]
    },
    {
      "cell_type": "code",
      "metadata": {
        "tags": [],
        "cell_id": "00049-ec42d29a-4335-43c9-b822-42ebb153f2a5",
        "deepnote_to_be_reexecuted": false,
        "source_hash": "8ea1d3a9",
        "execution_start": 1611366818574,
        "execution_millis": 5,
        "deepnote_cell_type": "code",
        "id": "N1m03KMmDBM3",
        "outputId": "bfee1be7-bbf2-491e-ed41-65ca4921500e"
      },
      "source": [
        "hex(10)"
      ],
      "execution_count": null,
      "outputs": [
        {
          "output_type": "execute_result",
          "data": {
            "text/plain": [
              "'0xa'"
            ]
          },
          "metadata": {
            "tags": []
          },
          "execution_count": 95
        }
      ]
    },
    {
      "cell_type": "code",
      "metadata": {
        "tags": [],
        "cell_id": "00050-725264e3-691d-45bd-bc39-275c6ead4c5c",
        "deepnote_to_be_reexecuted": false,
        "source_hash": "a979000d",
        "execution_millis": 44,
        "execution_start": 1611366836381,
        "deepnote_cell_type": "code",
        "id": "sP1HJo-xDBM3",
        "outputId": "2c59dffa-4d89-42b1-9839-d7efe20c87bb"
      },
      "source": [
        "a = 34\n",
        "id(a), hex(id(a))"
      ],
      "execution_count": null,
      "outputs": [
        {
          "output_type": "execute_result",
          "data": {
            "text/plain": [
              "(140431595722848, '0x7fb8c760d860')"
            ]
          },
          "metadata": {
            "tags": []
          },
          "execution_count": 97
        }
      ]
    },
    {
      "cell_type": "markdown",
      "metadata": {
        "tags": [],
        "cell_id": "00051-6abc5fe9-7eee-48b2-9d65-cff6d934f330",
        "deepnote_cell_type": "markdown",
        "id": "kHHuv4jyDBM4"
      },
      "source": [
        "Note the `0b`, `0o` and `0x` prefixes"
      ]
    },
    {
      "cell_type": "code",
      "metadata": {
        "tags": [],
        "cell_id": "00051-41d7e092-cd07-4907-a2b8-00daf73e8362",
        "deepnote_to_be_reexecuted": false,
        "source_hash": "c3ec04a1",
        "execution_millis": 1,
        "execution_start": 1611366973245,
        "deepnote_cell_type": "code",
        "id": "usKBlC6xDBM4",
        "outputId": "0db2baaf-fa1f-44d2-e74b-48ed37617025"
      },
      "source": [
        "a = int('1010', base = 2)\n",
        "b = int('0b1010', base = 2)\n",
        "c = 0b1010\n",
        "d = 0xffff\n",
        "a, b, c, d"
      ],
      "execution_count": null,
      "outputs": [
        {
          "output_type": "execute_result",
          "data": {
            "text/plain": [
              "(10, 10, 10, 65535)"
            ]
          },
          "metadata": {
            "tags": []
          },
          "execution_count": 105
        }
      ]
    },
    {
      "cell_type": "code",
      "metadata": {
        "tags": [],
        "cell_id": "00053-af9b7465-a2f2-43e4-8d28-71018fdd7481",
        "deepnote_to_be_reexecuted": false,
        "source_hash": "f95d6687",
        "execution_start": 1611367230643,
        "execution_millis": 4,
        "deepnote_cell_type": "code",
        "id": "R922El3rDBM4"
      },
      "source": [
        "def from_base10(n, b):\n",
        "    if b < 2:\n",
        "        raise ValueError('Hey dude, Base b must be >=2')\n",
        "    if n < 0:\n",
        "        raise ValueError('Man/Woman n must be >=0')\n",
        "    if n == 0:\n",
        "        return [0]\n",
        "    digits = []\n",
        "    while n > 0:\n",
        "        # m = n % b || 1 % 2 \n",
        "        # n = n // b || 1 // 2 >> 0\n",
        "        # is actuall same as\n",
        "        n, m = divmod(n, b) || 0, 2\n",
        "        digits.insert(0, m)\n",
        "    return digits\n"
      ],
      "execution_count": null,
      "outputs": []
    },
    {
      "cell_type": "code",
      "metadata": {
        "tags": [],
        "cell_id": "00054-e62b622d-53cf-42cd-82d4-106468ee8080",
        "deepnote_to_be_reexecuted": false,
        "source_hash": "10ece504",
        "execution_start": 1611367238075,
        "execution_millis": 1,
        "deepnote_cell_type": "code",
        "id": "WJ6hpXZiDBM4",
        "outputId": "a5eef346-336a-4ae1-9a23-2e45e0004ac6"
      },
      "source": [
        "from_base10(10, 2)"
      ],
      "execution_count": null,
      "outputs": [
        {
          "output_type": "execute_result",
          "data": {
            "text/plain": [
              "[1, 0, 1, 0]"
            ]
          },
          "metadata": {
            "tags": []
          },
          "execution_count": 107
        }
      ]
    },
    {
      "cell_type": "code",
      "metadata": {
        "tags": [],
        "cell_id": "00055-e17498c7-54a5-4254-986d-99952a0eab61",
        "deepnote_to_be_reexecuted": false,
        "source_hash": "2a517ec6",
        "execution_start": 1611367585069,
        "execution_millis": 2,
        "deepnote_cell_type": "code",
        "id": "0HmD0ONgDBM4"
      },
      "source": [
        "def encode(digits, digit_map):\n",
        "    # we require that digit_map has at least as many \n",
        "    # characters as the max number of digits\n",
        "    if max(digits) >= len(digit_map):\n",
        "        raise ValueError(\"Digit_map is not long enough to encode the digit\")\n",
        "\n",
        "    encoding = ''.join([digit_map[d] for d in digits])\n",
        "    return encoding\n"
      ],
      "execution_count": null,
      "outputs": []
    },
    {
      "cell_type": "code",
      "metadata": {
        "tags": [],
        "cell_id": "00056-14f12fa0-3904-4e96-8c45-33639399f510",
        "deepnote_to_be_reexecuted": false,
        "source_hash": "509cd0a6",
        "execution_start": 1611367596917,
        "execution_millis": 1,
        "deepnote_cell_type": "code",
        "id": "7n5fCGIvDBM5",
        "outputId": "ebbd81b3-d34d-436a-88f9-d804058b2281"
      },
      "source": [
        "encode([1, 0, 1], \"FT\")"
      ],
      "execution_count": null,
      "outputs": [
        {
          "output_type": "execute_result",
          "data": {
            "text/plain": [
              "'TFT'"
            ]
          },
          "metadata": {
            "tags": []
          },
          "execution_count": 109
        }
      ]
    },
    {
      "cell_type": "code",
      "metadata": {
        "tags": [],
        "cell_id": "00057-52f65cfa-e02d-43c6-a3de-80af6db67e14",
        "deepnote_to_be_reexecuted": false,
        "source_hash": "e26bbfcd",
        "execution_millis": 2,
        "execution_start": 1611367646940,
        "deepnote_cell_type": "code",
        "id": "SGHTjOU0DBM5",
        "outputId": "f29b8749-f94b-4e92-d28b-340ebd4d5c91"
      },
      "source": [
        "encode([1, 10, 15], '0123456789ABCDEF')"
      ],
      "execution_count": null,
      "outputs": [
        {
          "output_type": "execute_result",
          "data": {
            "text/plain": [
              "'1AF'"
            ]
          },
          "metadata": {
            "tags": []
          },
          "execution_count": 114
        }
      ]
    },
    {
      "cell_type": "code",
      "metadata": {
        "tags": [],
        "cell_id": "00058-df3f5352-4cde-4df6-905a-1f05453fc455",
        "deepnote_to_be_reexecuted": false,
        "source_hash": "141cf6fd",
        "execution_millis": 0,
        "execution_start": 1611367776073,
        "deepnote_cell_type": "code",
        "id": "4uduJy7lDBM5",
        "outputId": "50311b90-1e55-4825-eb98-c125b53c27dd"
      },
      "source": [
        "a = []\n",
        "for i in range(10_000_000_000_000):\n",
        "    a.append(i**2)\n",
        "\n",
        "print(a)"
      ],
      "execution_count": null,
      "outputs": [
        {
          "output_type": "stream",
          "text": [
            "[0, 1, 4, 9, 16, 25, 36, 49, 64, 81]\n"
          ],
          "name": "stdout"
        }
      ]
    },
    {
      "cell_type": "code",
      "metadata": {
        "tags": [],
        "cell_id": "00059-d2b41924-486a-4ccc-8f9b-b5efdb51b9f2",
        "deepnote_to_be_reexecuted": false,
        "source_hash": "482dca5d",
        "execution_millis": 47,
        "execution_start": 1611367803070,
        "deepnote_cell_type": "code",
        "id": "0-im3GEqDBM5",
        "outputId": "31337fb5-90e4-4e87-f518-d5bbef267009"
      },
      "source": [
        "a = (i**2 for i in range(10_000_000_000_000))\n",
        "next(a)"
      ],
      "execution_count": null,
      "outputs": [
        {
          "output_type": "execute_result",
          "data": {
            "text/plain": [
              "0"
            ]
          },
          "metadata": {
            "tags": []
          },
          "execution_count": 123
        }
      ]
    },
    {
      "cell_type": "code",
      "metadata": {
        "tags": [],
        "cell_id": "00061-9dc82971-d1ff-4cf8-ace2-e0c731b29d1a",
        "deepnote_to_be_reexecuted": false,
        "source_hash": "f6ba0d5f",
        "execution_start": 1611367902581,
        "execution_millis": 2,
        "deepnote_cell_type": "code",
        "id": "SMNr_sydDBM6",
        "outputId": "61e8072d-9435-4db3-dacc-1068061bf878"
      },
      "source": [
        "[i for i in range(10) if i%2 == 0]"
      ],
      "execution_count": null,
      "outputs": [
        {
          "output_type": "execute_result",
          "data": {
            "text/plain": [
              "[0, 2, 4, 6, 8]"
            ]
          },
          "metadata": {
            "tags": []
          },
          "execution_count": 134
        }
      ]
    },
    {
      "cell_type": "code",
      "metadata": {
        "tags": [],
        "cell_id": "00061-3850bc91-6cbc-43e9-9873-80b0bff78527",
        "deepnote_to_be_reexecuted": false,
        "source_hash": "49463e18",
        "execution_start": 1611368052105,
        "execution_millis": 0,
        "deepnote_cell_type": "code",
        "id": "glOPjuuNDBM6"
      },
      "source": [
        "def rebase_from10(number, base):\n",
        "    digit_map = '0123456789ABCDEFGHIJKLMNOPQRSTUVWXYZ'\n",
        "    if base < 2 or base > 36:\n",
        "        raise ValueError('Invalid base: 2 <= base <= 36')\n",
        "    # we store the sign of number and make it positive\n",
        "    # we'll re-insert the sign at the end\n",
        "    sign = -1 if number < 0 else 1\n",
        "    number *= sign\n",
        "    \n",
        "    digits = from_base10(number, base)\n",
        "    encoding = encode(digits, digit_map)\n",
        "    if sign == -1:\n",
        "        encoding = '-' + encoding\n",
        "    return encoding"
      ],
      "execution_count": null,
      "outputs": []
    },
    {
      "cell_type": "code",
      "metadata": {
        "tags": [],
        "cell_id": "00062-8bd7afa0-c5fd-4d3b-b22d-de07e3643e31",
        "deepnote_to_be_reexecuted": false,
        "source_hash": "c090f6d2",
        "execution_start": 1611368058784,
        "execution_millis": 3,
        "deepnote_cell_type": "code",
        "id": "Mk0ZM2qJDBM6",
        "outputId": "ead07084-8591-4225-df53-f2353febdbc0"
      },
      "source": [
        "e = rebase_from10(10, 2)\n",
        "print(e)\n",
        "print(int(e, 2))"
      ],
      "execution_count": null,
      "outputs": [
        {
          "output_type": "stream",
          "text": [
            "1010\n",
            "10\n"
          ],
          "name": "stdout"
        }
      ]
    },
    {
      "cell_type": "code",
      "metadata": {
        "tags": [],
        "cell_id": "00063-72fd4363-c7d2-4503-807b-abfd37bc27f5",
        "deepnote_to_be_reexecuted": false,
        "source_hash": "96617f88",
        "execution_start": 1611368075249,
        "execution_millis": 3,
        "deepnote_cell_type": "code",
        "id": "2FArGPtDDBM6",
        "outputId": "6275b3b5-44a6-4591-e48b-7d8f471519a5"
      },
      "source": [
        "e = rebase_from10(-10, 2)\n",
        "print(e)\n",
        "print(int(e, 2))"
      ],
      "execution_count": null,
      "outputs": [
        {
          "output_type": "stream",
          "text": [
            "-1010\n",
            "-10\n"
          ],
          "name": "stdout"
        }
      ]
    },
    {
      "cell_type": "markdown",
      "metadata": {
        "tags": [],
        "cell_id": "00064-c9bd0c62-eed6-4124-befc-653e02da738a",
        "deepnote_cell_type": "markdown",
        "id": "X6AlyirmDBM6"
      },
      "source": [
        "# Rational Numbers"
      ]
    },
    {
      "cell_type": "code",
      "metadata": {
        "tags": [],
        "cell_id": "00064-c9537331-556c-49a3-867c-dffc5175b007",
        "deepnote_to_be_reexecuted": false,
        "source_hash": "9b715527",
        "execution_millis": 3,
        "execution_start": 1611368684708,
        "deepnote_cell_type": "code",
        "id": "s60D5_1SDBM7"
      },
      "source": [
        "from fractions import Fraction"
      ],
      "execution_count": null,
      "outputs": []
    },
    {
      "cell_type": "code",
      "metadata": {
        "tags": [],
        "cell_id": "00066-9147a4e5-3763-430f-9cad-34adb9d180cc",
        "deepnote_to_be_reexecuted": false,
        "source_hash": "c54003a5",
        "execution_start": 1611368690472,
        "execution_millis": 8,
        "deepnote_cell_type": "code",
        "id": "2YOJhkqBDBM7",
        "outputId": "4ea3b0eb-f3f4-4d10-b54c-9a9fbbd003f5"
      },
      "source": [
        "help(Fraction)"
      ],
      "execution_count": null,
      "outputs": [
        {
          "output_type": "stream",
          "text": [
            "Help on class Fraction in module fractions:\n",
            "\n",
            "class Fraction(numbers.Rational)\n",
            " |  Fraction(numerator=0, denominator=None, *, _normalize=True)\n",
            " |  \n",
            " |  This class implements rational numbers.\n",
            " |  \n",
            " |  In the two-argument form of the constructor, Fraction(8, 6) will\n",
            " |  produce a rational number equivalent to 4/3. Both arguments must\n",
            " |  be Rational. The numerator defaults to 0 and the denominator\n",
            " |  defaults to 1 so that Fraction(3) == 3 and Fraction() == 0.\n",
            " |  \n",
            " |  Fractions can also be constructed from:\n",
            " |  \n",
            " |    - numeric strings similar to those accepted by the\n",
            " |      float constructor (for example, '-2.3' or '1e10')\n",
            " |  \n",
            " |    - strings of the form '123/456'\n",
            " |  \n",
            " |    - float and Decimal instances\n",
            " |  \n",
            " |    - other Rational instances (including integers)\n",
            " |  \n",
            " |  Method resolution order:\n",
            " |      Fraction\n",
            " |      numbers.Rational\n",
            " |      numbers.Real\n",
            " |      numbers.Complex\n",
            " |      numbers.Number\n",
            " |      builtins.object\n",
            " |  \n",
            " |  Methods defined here:\n",
            " |  \n",
            " |  __abs__(a)\n",
            " |      abs(a)\n",
            " |  \n",
            " |  __add__(a, b)\n",
            " |      a + b\n",
            " |  \n",
            " |  __bool__(a)\n",
            " |      a != 0\n",
            " |  \n",
            " |  __ceil__(a)\n",
            " |      Will be math.ceil(a) in 3.0.\n",
            " |  \n",
            " |  __copy__(self)\n",
            " |  \n",
            " |  __deepcopy__(self, memo)\n",
            " |  \n",
            " |  __eq__(a, b)\n",
            " |      a == b\n",
            " |  \n",
            " |  __floor__(a)\n",
            " |      Will be math.floor(a) in 3.0.\n",
            " |  \n",
            " |  __floordiv__(a, b)\n",
            " |      a // b\n",
            " |  \n",
            " |  __ge__(a, b)\n",
            " |      a >= b\n",
            " |  \n",
            " |  __gt__(a, b)\n",
            " |      a > b\n",
            " |  \n",
            " |  __hash__(self)\n",
            " |      hash(self)\n",
            " |  \n",
            " |  __le__(a, b)\n",
            " |      a <= b\n",
            " |  \n",
            " |  __lt__(a, b)\n",
            " |      a < b\n",
            " |  \n",
            " |  __mod__(a, b)\n",
            " |      a % b\n",
            " |  \n",
            " |  __mul__(a, b)\n",
            " |      a * b\n",
            " |  \n",
            " |  __neg__(a)\n",
            " |      -a\n",
            " |  \n",
            " |  __pos__(a)\n",
            " |      +a: Coerces a subclass instance to Fraction\n",
            " |  \n",
            " |  __pow__(a, b)\n",
            " |      a ** b\n",
            " |      \n",
            " |      If b is not an integer, the result will be a float or complex\n",
            " |      since roots are generally irrational. If b is an integer, the\n",
            " |      result will be rational.\n",
            " |  \n",
            " |  __radd__(b, a)\n",
            " |      a + b\n",
            " |  \n",
            " |  __reduce__(self)\n",
            " |      Helper for pickle.\n",
            " |  \n",
            " |  __repr__(self)\n",
            " |      repr(self)\n",
            " |  \n",
            " |  __rfloordiv__(b, a)\n",
            " |      a // b\n",
            " |  \n",
            " |  __rmod__(b, a)\n",
            " |      a % b\n",
            " |  \n",
            " |  __rmul__(b, a)\n",
            " |      a * b\n",
            " |  \n",
            " |  __round__(self, ndigits=None)\n",
            " |      Will be round(self, ndigits) in 3.0.\n",
            " |      \n",
            " |      Rounds half toward even.\n",
            " |  \n",
            " |  __rpow__(b, a)\n",
            " |      a ** b\n",
            " |  \n",
            " |  __rsub__(b, a)\n",
            " |      a - b\n",
            " |  \n",
            " |  __rtruediv__(b, a)\n",
            " |      a / b\n",
            " |  \n",
            " |  __str__(self)\n",
            " |      str(self)\n",
            " |  \n",
            " |  __sub__(a, b)\n",
            " |      a - b\n",
            " |  \n",
            " |  __truediv__(a, b)\n",
            " |      a / b\n",
            " |  \n",
            " |  __trunc__(a)\n",
            " |      trunc(a)\n",
            " |  \n",
            " |  limit_denominator(self, max_denominator=1000000)\n",
            " |      Closest Fraction to self with denominator at most max_denominator.\n",
            " |      \n",
            " |      >>> Fraction('3.141592653589793').limit_denominator(10)\n",
            " |      Fraction(22, 7)\n",
            " |      >>> Fraction('3.141592653589793').limit_denominator(100)\n",
            " |      Fraction(311, 99)\n",
            " |      >>> Fraction(4321, 8765).limit_denominator(10000)\n",
            " |      Fraction(4321, 8765)\n",
            " |  \n",
            " |  ----------------------------------------------------------------------\n",
            " |  Class methods defined here:\n",
            " |  \n",
            " |  from_decimal(dec) from abc.ABCMeta\n",
            " |      Converts a finite Decimal instance to a rational number, exactly.\n",
            " |  \n",
            " |  from_float(f) from abc.ABCMeta\n",
            " |      Converts a finite float to a rational number, exactly.\n",
            " |      \n",
            " |      Beware that Fraction.from_float(0.3) != Fraction(3, 10).\n",
            " |  \n",
            " |  ----------------------------------------------------------------------\n",
            " |  Static methods defined here:\n",
            " |  \n",
            " |  __new__(cls, numerator=0, denominator=None, *, _normalize=True)\n",
            " |      Constructs a Rational.\n",
            " |      \n",
            " |      Takes a string like '3/2' or '1.5', another Rational instance, a\n",
            " |      numerator/denominator pair, or a float.\n",
            " |      \n",
            " |      Examples\n",
            " |      --------\n",
            " |      \n",
            " |      >>> Fraction(10, -8)\n",
            " |      Fraction(-5, 4)\n",
            " |      >>> Fraction(Fraction(1, 7), 5)\n",
            " |      Fraction(1, 35)\n",
            " |      >>> Fraction(Fraction(1, 7), Fraction(2, 3))\n",
            " |      Fraction(3, 14)\n",
            " |      >>> Fraction('314')\n",
            " |      Fraction(314, 1)\n",
            " |      >>> Fraction('-35/4')\n",
            " |      Fraction(-35, 4)\n",
            " |      >>> Fraction('3.1415') # conversion from numeric string\n",
            " |      Fraction(6283, 2000)\n",
            " |      >>> Fraction('-47e-2') # string may include a decimal exponent\n",
            " |      Fraction(-47, 100)\n",
            " |      >>> Fraction(1.47)  # direct construction from float (exact conversion)\n",
            " |      Fraction(6620291452234629, 4503599627370496)\n",
            " |      >>> Fraction(2.25)\n",
            " |      Fraction(9, 4)\n",
            " |      >>> Fraction(Decimal('1.47'))\n",
            " |      Fraction(147, 100)\n",
            " |  \n",
            " |  ----------------------------------------------------------------------\n",
            " |  Data descriptors defined here:\n",
            " |  \n",
            " |  denominator\n",
            " |  \n",
            " |  numerator\n",
            " |  \n",
            " |  ----------------------------------------------------------------------\n",
            " |  Data and other attributes defined here:\n",
            " |  \n",
            " |  __abstractmethods__ = frozenset()\n",
            " |  \n",
            " |  ----------------------------------------------------------------------\n",
            " |  Methods inherited from numbers.Rational:\n",
            " |  \n",
            " |  __float__(self)\n",
            " |      float(self) = self.numerator / self.denominator\n",
            " |      \n",
            " |      It's important that this conversion use the integer's \"true\"\n",
            " |      division rather than casting one side to float before dividing\n",
            " |      so that ratios of huge integers convert without overflowing.\n",
            " |  \n",
            " |  ----------------------------------------------------------------------\n",
            " |  Methods inherited from numbers.Real:\n",
            " |  \n",
            " |  __complex__(self)\n",
            " |      complex(self) == complex(float(self), 0)\n",
            " |  \n",
            " |  __divmod__(self, other)\n",
            " |      divmod(self, other): The pair (self // other, self % other).\n",
            " |      \n",
            " |      Sometimes this can be computed faster than the pair of\n",
            " |      operations.\n",
            " |  \n",
            " |  __rdivmod__(self, other)\n",
            " |      divmod(other, self): The pair (self // other, self % other).\n",
            " |      \n",
            " |      Sometimes this can be computed faster than the pair of\n",
            " |      operations.\n",
            " |  \n",
            " |  conjugate(self)\n",
            " |      Conjugate is a no-op for Reals.\n",
            " |  \n",
            " |  ----------------------------------------------------------------------\n",
            " |  Data descriptors inherited from numbers.Real:\n",
            " |  \n",
            " |  imag\n",
            " |      Real numbers have no imaginary component.\n",
            " |  \n",
            " |  real\n",
            " |      Real numbers are their real component.\n",
            "\n"
          ],
          "name": "stdout"
        }
      ]
    },
    {
      "cell_type": "code",
      "metadata": {
        "tags": [],
        "cell_id": "00067-01473766-8f3f-4cd5-b3df-2a45f41546fb",
        "deepnote_to_be_reexecuted": false,
        "source_hash": "6a5e8818",
        "execution_start": 1611368727529,
        "execution_millis": 2,
        "deepnote_cell_type": "code",
        "id": "mW5LWmj6DBM7",
        "outputId": "2691c4ea-f58d-4154-d98a-33d0732897ae"
      },
      "source": [
        "Fraction(1)"
      ],
      "execution_count": null,
      "outputs": [
        {
          "output_type": "execute_result",
          "data": {
            "text/plain": [
              "Fraction(1, 1)"
            ]
          },
          "metadata": {
            "tags": []
          },
          "execution_count": 141
        }
      ]
    },
    {
      "cell_type": "code",
      "metadata": {
        "tags": [],
        "cell_id": "00068-d9d179d0-eede-4bf4-bf86-3b74ca915eac",
        "deepnote_to_be_reexecuted": false,
        "source_hash": "cefdccde",
        "execution_start": 1611368733925,
        "execution_millis": 3,
        "deepnote_cell_type": "code",
        "id": "jRyT6TzDDBM7",
        "outputId": "aa873fc5-b3e1-493e-8ad4-95a1b6faf812"
      },
      "source": [
        "Fraction(1, 3)"
      ],
      "execution_count": null,
      "outputs": [
        {
          "output_type": "execute_result",
          "data": {
            "text/plain": [
              "Fraction(1, 3)"
            ]
          },
          "metadata": {
            "tags": []
          },
          "execution_count": 142
        }
      ]
    },
    {
      "cell_type": "code",
      "metadata": {
        "tags": [],
        "cell_id": "00069-75d14be9-2963-4b3c-9996-1591a48b7130",
        "deepnote_to_be_reexecuted": false,
        "source_hash": "af244a9d",
        "execution_start": 1611368742338,
        "execution_millis": 3,
        "deepnote_cell_type": "code",
        "id": "ZtxWSX2MDBM7",
        "outputId": "396ca3c6-fe68-49b2-f13a-d2d1e631fc42"
      },
      "source": [
        "Fraction(6, 8)"
      ],
      "execution_count": null,
      "outputs": [
        {
          "output_type": "execute_result",
          "data": {
            "text/plain": [
              "Fraction(3, 4)"
            ]
          },
          "metadata": {
            "tags": []
          },
          "execution_count": 143
        }
      ]
    },
    {
      "cell_type": "code",
      "metadata": {
        "tags": [],
        "cell_id": "00070-20ee7a90-f5e0-4e4c-ba4f-4d36c27f0bf6",
        "deepnote_to_be_reexecuted": false,
        "source_hash": "8ef68bc9",
        "execution_millis": 1,
        "execution_start": 1611368769283,
        "deepnote_cell_type": "code",
        "id": "Wk_e-O7hDBM8",
        "outputId": "9da4f11c-986c-44c5-ff5b-57ef3284be3c"
      },
      "source": [
        "x = Fraction(2, 3)\n",
        "y = Fraction(3, 4)\n",
        "# 2/3*4/3\n",
        "Fraction(x, y) # x/y"
      ],
      "execution_count": null,
      "outputs": [
        {
          "output_type": "execute_result",
          "data": {
            "text/plain": [
              "Fraction(8, 9)"
            ]
          },
          "metadata": {
            "tags": []
          },
          "execution_count": 145
        }
      ]
    },
    {
      "cell_type": "code",
      "metadata": {
        "tags": [],
        "cell_id": "00071-82903c76-5d4a-42fb-9f7a-3ff710f5e06e",
        "deepnote_to_be_reexecuted": false,
        "source_hash": "ad723db0",
        "execution_start": 1611368811798,
        "execution_millis": 0,
        "deepnote_cell_type": "code",
        "id": "8w5VWQ2RDBM8",
        "outputId": "70a0a78e-e7e5-4631-9acd-71e2aaa871f8"
      },
      "source": [
        "Fraction(0.125)"
      ],
      "execution_count": null,
      "outputs": [
        {
          "output_type": "execute_result",
          "data": {
            "text/plain": [
              "Fraction(1, 8)"
            ]
          },
          "metadata": {
            "tags": []
          },
          "execution_count": 146
        }
      ]
    },
    {
      "cell_type": "code",
      "metadata": {
        "tags": [],
        "cell_id": "00072-93d1148b-7c68-44d8-9a33-20f5d699c6e0",
        "deepnote_to_be_reexecuted": false,
        "source_hash": "f92e48b1",
        "execution_start": 1611368818615,
        "execution_millis": 1,
        "deepnote_cell_type": "code",
        "id": "IPAWURDlDBM8",
        "outputId": "624b586c-61df-4b15-f9cf-c6d866c1f6ca"
      },
      "source": [
        "Fraction(0.5)"
      ],
      "execution_count": null,
      "outputs": [
        {
          "output_type": "execute_result",
          "data": {
            "text/plain": [
              "Fraction(1, 2)"
            ]
          },
          "metadata": {
            "tags": []
          },
          "execution_count": 147
        }
      ]
    },
    {
      "cell_type": "code",
      "metadata": {
        "tags": [],
        "cell_id": "00073-57da9e54-50bb-49e6-a88f-96de68712c37",
        "deepnote_to_be_reexecuted": false,
        "source_hash": "ebf3c069",
        "execution_start": 1611368826372,
        "execution_millis": 0,
        "deepnote_cell_type": "code",
        "id": "AqJHt0syDBM8",
        "outputId": "7b761a35-a1ad-4a0f-f8be-3b5f6fcd9c84"
      },
      "source": [
        "Fraction(\"10.5\")"
      ],
      "execution_count": null,
      "outputs": [
        {
          "output_type": "execute_result",
          "data": {
            "text/plain": [
              "Fraction(21, 2)"
            ]
          },
          "metadata": {
            "tags": []
          },
          "execution_count": 148
        }
      ]
    },
    {
      "cell_type": "code",
      "metadata": {
        "tags": [],
        "cell_id": "00074-1bf0e1e1-9a78-447e-9ddf-a260aaa6c94b",
        "deepnote_to_be_reexecuted": false,
        "source_hash": "aeeffe92",
        "execution_start": 1611368835154,
        "execution_millis": 3,
        "deepnote_cell_type": "code",
        "id": "FUC0fl2RDBM9",
        "outputId": "863599fa-e22c-4678-891a-80141f0f1392"
      },
      "source": [
        "Fraction(\"22/7\")"
      ],
      "execution_count": null,
      "outputs": [
        {
          "output_type": "execute_result",
          "data": {
            "text/plain": [
              "Fraction(22, 7)"
            ]
          },
          "metadata": {
            "tags": []
          },
          "execution_count": 149
        }
      ]
    },
    {
      "cell_type": "code",
      "metadata": {
        "tags": [],
        "cell_id": "00075-5d81526b-b4f6-4825-9874-d20fbdbbe29c",
        "deepnote_to_be_reexecuted": false,
        "source_hash": "135316fc",
        "execution_start": 1611368843891,
        "execution_millis": 3,
        "deepnote_cell_type": "code",
        "id": "3s8bu-3oDBM9",
        "outputId": "33220ab5-8e87-4716-cb1f-f56089b08a72"
      },
      "source": [
        "Fraction(8, 16)"
      ],
      "execution_count": null,
      "outputs": [
        {
          "output_type": "execute_result",
          "data": {
            "text/plain": [
              "Fraction(1, 2)"
            ]
          },
          "metadata": {
            "tags": []
          },
          "execution_count": 150
        }
      ]
    },
    {
      "cell_type": "code",
      "metadata": {
        "tags": [],
        "cell_id": "00076-890cbb75-9c9b-4503-9527-3ee01ded637c",
        "deepnote_to_be_reexecuted": false,
        "source_hash": "f1786a66",
        "execution_start": 1611368851038,
        "execution_millis": 2,
        "deepnote_cell_type": "code",
        "id": "UL7TeX1IDBM9",
        "outputId": "b29aefab-985c-44ad-ead2-4b949580aafb"
      },
      "source": [
        "Fraction(8, -16)"
      ],
      "execution_count": null,
      "outputs": [
        {
          "output_type": "execute_result",
          "data": {
            "text/plain": [
              "Fraction(-1, 2)"
            ]
          },
          "metadata": {
            "tags": []
          },
          "execution_count": 151
        }
      ]
    },
    {
      "cell_type": "code",
      "metadata": {
        "tags": [],
        "cell_id": "00077-401bf368-b452-4c7b-aac4-79e29d29a7cf",
        "deepnote_to_be_reexecuted": false,
        "source_hash": "25c11847",
        "execution_millis": 2,
        "execution_start": 1611368866319,
        "deepnote_cell_type": "code",
        "id": "EeFPHhlEDBM9",
        "outputId": "92f5a95b-90d1-4ca0-f6d9-30a2a85bbc39"
      },
      "source": [
        "Fraction(8, 16) + Fraction(8, 16) + Fraction(8, 16)"
      ],
      "execution_count": null,
      "outputs": [
        {
          "output_type": "execute_result",
          "data": {
            "text/plain": [
              "Fraction(3, 2)"
            ]
          },
          "metadata": {
            "tags": []
          },
          "execution_count": 153
        }
      ]
    },
    {
      "cell_type": "code",
      "metadata": {
        "tags": [],
        "cell_id": "00078-c1dabc2c-40cc-4ee9-b419-df3d54a8c1a5",
        "deepnote_to_be_reexecuted": false,
        "source_hash": "5395da7e",
        "execution_start": 1611368879544,
        "execution_millis": 3,
        "deepnote_cell_type": "code",
        "id": "VCHkHbtnDBM9",
        "outputId": "d299089b-9ba1-4489-8047-7d1df21499f9"
      },
      "source": [
        "Fraction(8, 16) * Fraction(8, 16)"
      ],
      "execution_count": null,
      "outputs": [
        {
          "output_type": "execute_result",
          "data": {
            "text/plain": [
              "Fraction(1, 4)"
            ]
          },
          "metadata": {
            "tags": []
          },
          "execution_count": 154
        }
      ]
    },
    {
      "cell_type": "code",
      "metadata": {
        "tags": [],
        "cell_id": "00079-10527ac9-9dc1-4c98-818f-2867f0badda1",
        "deepnote_to_be_reexecuted": false,
        "source_hash": "a43e8ff4",
        "execution_start": 1611368886685,
        "execution_millis": 1,
        "deepnote_cell_type": "code",
        "id": "yySpnyh_DBM-",
        "outputId": "6b06ffe9-b49a-46ca-e3c9-df0e23fc896c"
      },
      "source": [
        "Fraction(8, 16) / Fraction(8, 16)"
      ],
      "execution_count": null,
      "outputs": [
        {
          "output_type": "execute_result",
          "data": {
            "text/plain": [
              "Fraction(1, 1)"
            ]
          },
          "metadata": {
            "tags": []
          },
          "execution_count": 155
        }
      ]
    },
    {
      "cell_type": "code",
      "metadata": {
        "tags": [],
        "cell_id": "00080-fd0510c8-4923-43f5-8f1b-614dbb0a7692",
        "deepnote_to_be_reexecuted": false,
        "source_hash": "686cb577",
        "execution_start": 1611368911371,
        "execution_millis": 0,
        "deepnote_cell_type": "code",
        "id": "fZpoJAMJDBM-",
        "outputId": "44717a2c-d05b-4c7c-e51b-6326bcd42d81"
      },
      "source": [
        "pi = Fraction(22, 7)\n",
        "pi.numerator, pi.denominator"
      ],
      "execution_count": null,
      "outputs": [
        {
          "output_type": "execute_result",
          "data": {
            "text/plain": [
              "(22, 7)"
            ]
          },
          "metadata": {
            "tags": []
          },
          "execution_count": 156
        }
      ]
    },
    {
      "cell_type": "code",
      "metadata": {
        "tags": [],
        "cell_id": "00081-8d038c13-359c-41ff-a3b7-c0d46536b91b",
        "deepnote_to_be_reexecuted": false,
        "source_hash": "ebbc1f4b",
        "execution_start": 1611368977344,
        "execution_millis": 1,
        "deepnote_cell_type": "code",
        "id": "BVfz_sMvDBM-",
        "outputId": "21f60dde-e29b-4110-d6a8-bdc2f4d85c86"
      },
      "source": [
        "import math\n",
        "\n",
        "x = Fraction(math.pi)\n",
        "print(x)\n",
        "print(float(x))"
      ],
      "execution_count": null,
      "outputs": [
        {
          "output_type": "stream",
          "text": [
            "884279719003555/281474976710656\n",
            "3.141592653589793\n"
          ],
          "name": "stdout"
        }
      ]
    },
    {
      "cell_type": "code",
      "metadata": {
        "tags": [],
        "cell_id": "00082-8ef2fab3-1a93-4ec3-9795-6ff5686046a5",
        "deepnote_to_be_reexecuted": false,
        "source_hash": "64cbc63e",
        "execution_start": 1611369037573,
        "execution_millis": 2,
        "deepnote_cell_type": "code",
        "id": "goGvKS7cDBM-",
        "outputId": "96a44e50-7749-4f8a-b046-91e061f57246"
      },
      "source": [
        "x = Fraction(math.sqrt(2))\n",
        "print(x)"
      ],
      "execution_count": null,
      "outputs": [
        {
          "output_type": "stream",
          "text": [
            "6369051672525773/4503599627370496\n"
          ],
          "name": "stdout"
        }
      ]
    },
    {
      "cell_type": "code",
      "metadata": {
        "tags": [],
        "cell_id": "00083-2f91670f-93ac-4cf3-bce0-a3944aed31d7",
        "deepnote_to_be_reexecuted": false,
        "source_hash": "ad723db0",
        "execution_start": 1611369106907,
        "execution_millis": 3,
        "deepnote_cell_type": "code",
        "id": "v-wcMqkKDBM-",
        "outputId": "3836b3d1-ce13-42c9-b7a1-599e5caaf23f"
      },
      "source": [
        "Fraction(0.125)"
      ],
      "execution_count": null,
      "outputs": [
        {
          "output_type": "execute_result",
          "data": {
            "text/plain": [
              "Fraction(1, 8)"
            ]
          },
          "metadata": {
            "tags": []
          },
          "execution_count": 159
        }
      ]
    },
    {
      "cell_type": "code",
      "metadata": {
        "tags": [],
        "cell_id": "00084-54d2491c-b902-4deb-8488-362aa1b543d9",
        "deepnote_to_be_reexecuted": false,
        "source_hash": "47daf398",
        "execution_start": 1611369126265,
        "execution_millis": 0,
        "deepnote_cell_type": "code",
        "id": "vPEsphWJDBM_",
        "outputId": "162b2271-2f00-4f52-a0f3-4a5ec042e1e9"
      },
      "source": [
        "Fraction(3, 10)"
      ],
      "execution_count": null,
      "outputs": [
        {
          "output_type": "execute_result",
          "data": {
            "text/plain": [
              "Fraction(3, 10)"
            ]
          },
          "metadata": {
            "tags": []
          },
          "execution_count": 160
        }
      ]
    },
    {
      "cell_type": "code",
      "metadata": {
        "tags": [],
        "cell_id": "00085-7013ce5c-4599-4bfc-80a8-05a693ec168a",
        "deepnote_to_be_reexecuted": false,
        "source_hash": "e33f9a5e",
        "execution_start": 1611369133025,
        "execution_millis": 4,
        "deepnote_cell_type": "code",
        "id": "7AOWxOUPDBM_",
        "outputId": "e931422e-e93d-40da-9063-488292b2f9b3"
      },
      "source": [
        "Fraction(0.3)"
      ],
      "execution_count": null,
      "outputs": [
        {
          "output_type": "execute_result",
          "data": {
            "text/plain": [
              "Fraction(5404319552844595, 18014398509481984)"
            ]
          },
          "metadata": {
            "tags": []
          },
          "execution_count": 161
        }
      ]
    },
    {
      "cell_type": "code",
      "metadata": {
        "tags": [],
        "cell_id": "00086-3208877c-b753-41b7-980b-e98551b8a338",
        "deepnote_to_be_reexecuted": false,
        "source_hash": "dd4d9951",
        "execution_millis": 1,
        "execution_start": 1611369196954,
        "deepnote_cell_type": "code",
        "id": "FesMGjBvDBM_",
        "outputId": "edbbb6df-497e-466a-b693-f4074979abcd"
      },
      "source": [
        "x = 0.3\n",
        "print(x)"
      ],
      "execution_count": null,
      "outputs": [
        {
          "output_type": "stream",
          "text": [
            "0.3\n"
          ],
          "name": "stdout"
        }
      ]
    },
    {
      "cell_type": "code",
      "metadata": {
        "tags": [],
        "cell_id": "00087-f9748a50-c5ba-41d9-b0b3-afb44174b341",
        "deepnote_to_be_reexecuted": false,
        "source_hash": "9f78824a",
        "execution_start": 1611369228730,
        "execution_millis": 3,
        "deepnote_cell_type": "code",
        "id": "gPlPaAdlDBM_",
        "outputId": "6432680a-cc8f-4b35-8db1-dd8526f427b7"
      },
      "source": [
        "format(x, '.5f')"
      ],
      "execution_count": null,
      "outputs": [
        {
          "output_type": "execute_result",
          "data": {
            "text/plain": [
              "'0.30000'"
            ]
          },
          "metadata": {
            "tags": []
          },
          "execution_count": 165
        }
      ]
    },
    {
      "cell_type": "code",
      "metadata": {
        "tags": [],
        "cell_id": "00088-3f6d807e-66d4-4ce9-8439-3f990ebc14e8",
        "deepnote_to_be_reexecuted": false,
        "source_hash": "d28faf67",
        "execution_start": 1611369236741,
        "execution_millis": 4,
        "deepnote_cell_type": "code",
        "id": "qGnrEKLODBNA",
        "outputId": "0581dbf4-5caf-4477-9729-5c0cbde95f15"
      },
      "source": [
        "format(x, '.15f')"
      ],
      "execution_count": null,
      "outputs": [
        {
          "output_type": "execute_result",
          "data": {
            "text/plain": [
              "'0.300000000000000'"
            ]
          },
          "metadata": {
            "tags": []
          },
          "execution_count": 166
        }
      ]
    },
    {
      "cell_type": "code",
      "metadata": {
        "tags": [],
        "cell_id": "00089-add12dc1-aee3-4748-a8c7-e46671e4f60e",
        "deepnote_to_be_reexecuted": false,
        "source_hash": "2d2f9e14",
        "execution_start": 1611369243658,
        "execution_millis": 3,
        "deepnote_cell_type": "code",
        "id": "BwpoPsVgDBNA",
        "outputId": "3e6b9eb2-e9c0-436a-a03c-571fcda973a4"
      },
      "source": [
        "format(x, '.25f')"
      ],
      "execution_count": null,
      "outputs": [
        {
          "output_type": "execute_result",
          "data": {
            "text/plain": [
              "'0.2999999999999999888977698'"
            ]
          },
          "metadata": {
            "tags": []
          },
          "execution_count": 167
        }
      ]
    },
    {
      "cell_type": "code",
      "metadata": {
        "tags": [],
        "cell_id": "00090-ec2d493f-19f5-4265-9973-faa9e1d1f3d5",
        "deepnote_to_be_reexecuted": false,
        "source_hash": "b8325eba",
        "execution_millis": 0,
        "execution_start": 1611369299824,
        "deepnote_cell_type": "code",
        "id": "HFpCycxUDBNA",
        "outputId": "d4dae15b-4495-4036-bdf3-9cb0decfcd7f"
      },
      "source": [
        "delta = Fraction(0.3) - Fraction(3, 10)\n",
        "\n",
        "float(delta)"
      ],
      "execution_count": null,
      "outputs": [
        {
          "output_type": "execute_result",
          "data": {
            "text/plain": [
              "-1.1102230246251566e-17"
            ]
          },
          "metadata": {
            "tags": []
          },
          "execution_count": 170
        }
      ]
    },
    {
      "cell_type": "code",
      "metadata": {
        "tags": [],
        "cell_id": "00091-6d14f711-fc34-42d4-9883-0ced44833a02",
        "deepnote_to_be_reexecuted": false,
        "source_hash": "9f8bf62a",
        "execution_start": 1611369351792,
        "execution_millis": 2,
        "deepnote_cell_type": "code",
        "id": "6EU_cZr3DBNA",
        "outputId": "1ab208ac-ada5-4f8b-e630-ebdffd935244"
      },
      "source": [
        "x = Fraction(math.pi)\n",
        "print(x)\n",
        "print(format(float(x), '.25f'))"
      ],
      "execution_count": null,
      "outputs": [
        {
          "output_type": "stream",
          "text": [
            "884279719003555/281474976710656\n",
            "3.1415926535897931159979635\n"
          ],
          "name": "stdout"
        }
      ]
    },
    {
      "cell_type": "code",
      "metadata": {
        "tags": [],
        "cell_id": "00092-6aced443-9fd7-4c97-ab50-d598c549b26f",
        "deepnote_to_be_reexecuted": false,
        "source_hash": "fd10250b",
        "execution_start": 1611369383497,
        "execution_millis": 1,
        "deepnote_cell_type": "code",
        "id": "dvFrTg8iDBNA",
        "outputId": "80df9daa-ea71-47a1-b164-e29f36a1fdfb"
      },
      "source": [
        "y = x.limit_denominator(10)\n",
        "print(y)\n",
        "print(format(float(y), '.25f'))"
      ],
      "execution_count": null,
      "outputs": [
        {
          "output_type": "stream",
          "text": [
            "22/7\n",
            "3.1428571428571427937015414\n"
          ],
          "name": "stdout"
        }
      ]
    },
    {
      "cell_type": "code",
      "metadata": {
        "tags": [],
        "cell_id": "00093-09045a18-8b73-4e52-ac9b-bf5b48e49188",
        "deepnote_to_be_reexecuted": false,
        "source_hash": "ba68ef86",
        "execution_start": 1611369428593,
        "execution_millis": 1,
        "deepnote_cell_type": "code",
        "id": "1C1K1Z55DBNB",
        "outputId": "89388ec4-f495-4f3e-c68f-30e8dadd08c6"
      },
      "source": [
        "y = x.limit_denominator(100)\n",
        "print(y)\n",
        "print(format(float(y), '.25f'))"
      ],
      "execution_count": null,
      "outputs": [
        {
          "output_type": "stream",
          "text": [
            "311/99\n",
            "3.1414141414141414365701621\n"
          ],
          "name": "stdout"
        }
      ]
    },
    {
      "cell_type": "code",
      "metadata": {
        "tags": [],
        "cell_id": "00094-e29632cd-a734-498b-9eff-7ffbbdb24a63",
        "deepnote_to_be_reexecuted": false,
        "source_hash": "9526a931",
        "execution_start": 1611369455205,
        "execution_millis": 3,
        "deepnote_cell_type": "code",
        "id": "Vgidfe5SDBNB",
        "outputId": "eb00a6af-abde-404b-88e6-f0e72b72c52f"
      },
      "source": [
        "y = x.limit_denominator(500)\n",
        "print(y)\n",
        "print(format(float(y), '.25f'))"
      ],
      "execution_count": null,
      "outputs": [
        {
          "output_type": "stream",
          "text": [
            "355/113\n",
            "3.1415929203539825209645642\n"
          ],
          "name": "stdout"
        }
      ]
    },
    {
      "cell_type": "markdown",
      "metadata": {
        "tags": [],
        "cell_id": "00095-aa3439a1-91b8-4942-a301-95b28486df4e",
        "deepnote_cell_type": "markdown",
        "id": "MkiXM2FpDBNB"
      },
      "source": [
        "## Floats \""
      ]
    },
    {
      "cell_type": "code",
      "metadata": {
        "tags": [],
        "cell_id": "00095-15111754-d72d-40a1-a46b-a0b5b2e51a95",
        "deepnote_to_be_reexecuted": false,
        "source_hash": "e9334423",
        "execution_start": 1611369510863,
        "execution_millis": 3,
        "deepnote_cell_type": "code",
        "id": "hWvJWMsUDBNB",
        "outputId": "23c6d542-c340-497b-8fc0-0183427450ec"
      },
      "source": [
        "help(float)"
      ],
      "execution_count": null,
      "outputs": [
        {
          "output_type": "stream",
          "text": [
            "Help on class float in module builtins:\n",
            "\n",
            "class float(object)\n",
            " |  float(x=0, /)\n",
            " |  \n",
            " |  Convert a string or number to a floating point number, if possible.\n",
            " |  \n",
            " |  Methods defined here:\n",
            " |  \n",
            " |  __abs__(self, /)\n",
            " |      abs(self)\n",
            " |  \n",
            " |  __add__(self, value, /)\n",
            " |      Return self+value.\n",
            " |  \n",
            " |  __bool__(self, /)\n",
            " |      self != 0\n",
            " |  \n",
            " |  __divmod__(self, value, /)\n",
            " |      Return divmod(self, value).\n",
            " |  \n",
            " |  __eq__(self, value, /)\n",
            " |      Return self==value.\n",
            " |  \n",
            " |  __float__(self, /)\n",
            " |      float(self)\n",
            " |  \n",
            " |  __floordiv__(self, value, /)\n",
            " |      Return self//value.\n",
            " |  \n",
            " |  __format__(self, format_spec, /)\n",
            " |      Formats the float according to format_spec.\n",
            " |  \n",
            " |  __ge__(self, value, /)\n",
            " |      Return self>=value.\n",
            " |  \n",
            " |  __getattribute__(self, name, /)\n",
            " |      Return getattr(self, name).\n",
            " |  \n",
            " |  __getnewargs__(self, /)\n",
            " |  \n",
            " |  __gt__(self, value, /)\n",
            " |      Return self>value.\n",
            " |  \n",
            " |  __hash__(self, /)\n",
            " |      Return hash(self).\n",
            " |  \n",
            " |  __int__(self, /)\n",
            " |      int(self)\n",
            " |  \n",
            " |  __le__(self, value, /)\n",
            " |      Return self<=value.\n",
            " |  \n",
            " |  __lt__(self, value, /)\n",
            " |      Return self<value.\n",
            " |  \n",
            " |  __mod__(self, value, /)\n",
            " |      Return self%value.\n",
            " |  \n",
            " |  __mul__(self, value, /)\n",
            " |      Return self*value.\n",
            " |  \n",
            " |  __ne__(self, value, /)\n",
            " |      Return self!=value.\n",
            " |  \n",
            " |  __neg__(self, /)\n",
            " |      -self\n",
            " |  \n",
            " |  __pos__(self, /)\n",
            " |      +self\n",
            " |  \n",
            " |  __pow__(self, value, mod=None, /)\n",
            " |      Return pow(self, value, mod).\n",
            " |  \n",
            " |  __radd__(self, value, /)\n",
            " |      Return value+self.\n",
            " |  \n",
            " |  __rdivmod__(self, value, /)\n",
            " |      Return divmod(value, self).\n",
            " |  \n",
            " |  __repr__(self, /)\n",
            " |      Return repr(self).\n",
            " |  \n",
            " |  __rfloordiv__(self, value, /)\n",
            " |      Return value//self.\n",
            " |  \n",
            " |  __rmod__(self, value, /)\n",
            " |      Return value%self.\n",
            " |  \n",
            " |  __rmul__(self, value, /)\n",
            " |      Return value*self.\n",
            " |  \n",
            " |  __round__(self, ndigits=None, /)\n",
            " |      Return the Integral closest to x, rounding half toward even.\n",
            " |      \n",
            " |      When an argument is passed, work like built-in round(x, ndigits).\n",
            " |  \n",
            " |  __rpow__(self, value, mod=None, /)\n",
            " |      Return pow(value, self, mod).\n",
            " |  \n",
            " |  __rsub__(self, value, /)\n",
            " |      Return value-self.\n",
            " |  \n",
            " |  __rtruediv__(self, value, /)\n",
            " |      Return value/self.\n",
            " |  \n",
            " |  __str__(self, /)\n",
            " |      Return str(self).\n",
            " |  \n",
            " |  __sub__(self, value, /)\n",
            " |      Return self-value.\n",
            " |  \n",
            " |  __truediv__(self, value, /)\n",
            " |      Return self/value.\n",
            " |  \n",
            " |  __trunc__(self, /)\n",
            " |      Return the Integral closest to x between 0 and x.\n",
            " |  \n",
            " |  as_integer_ratio(self, /)\n",
            " |      Return integer ratio.\n",
            " |      \n",
            " |      Return a pair of integers, whose ratio is exactly equal to the original float\n",
            " |      and with a positive denominator.\n",
            " |      \n",
            " |      Raise OverflowError on infinities and a ValueError on NaNs.\n",
            " |      \n",
            " |      >>> (10.0).as_integer_ratio()\n",
            " |      (10, 1)\n",
            " |      >>> (0.0).as_integer_ratio()\n",
            " |      (0, 1)\n",
            " |      >>> (-.25).as_integer_ratio()\n",
            " |      (-1, 4)\n",
            " |  \n",
            " |  conjugate(self, /)\n",
            " |      Return self, the complex conjugate of any float.\n",
            " |  \n",
            " |  hex(self, /)\n",
            " |      Return a hexadecimal representation of a floating-point number.\n",
            " |      \n",
            " |      >>> (-0.1).hex()\n",
            " |      '-0x1.999999999999ap-4'\n",
            " |      >>> 3.14159.hex()\n",
            " |      '0x1.921f9f01b866ep+1'\n",
            " |  \n",
            " |  is_integer(self, /)\n",
            " |      Return True if the float is an integer.\n",
            " |  \n",
            " |  ----------------------------------------------------------------------\n",
            " |  Class methods defined here:\n",
            " |  \n",
            " |  __getformat__(typestr, /) from builtins.type\n",
            " |      You probably don't want to use this function.\n",
            " |      \n",
            " |        typestr\n",
            " |          Must be 'double' or 'float'.\n",
            " |      \n",
            " |      It exists mainly to be used in Python's test suite.\n",
            " |      \n",
            " |      This function returns whichever of 'unknown', 'IEEE, big-endian' or 'IEEE,\n",
            " |      little-endian' best describes the format of floating point numbers used by the\n",
            " |      C type named by typestr.\n",
            " |  \n",
            " |  __set_format__(typestr, fmt, /) from builtins.type\n",
            " |      You probably don't want to use this function.\n",
            " |      \n",
            " |        typestr\n",
            " |          Must be 'double' or 'float'.\n",
            " |        fmt\n",
            " |          Must be one of 'unknown', 'IEEE, big-endian' or 'IEEE, little-endian',\n",
            " |          and in addition can only be one of the latter two if it appears to\n",
            " |          match the underlying C reality.\n",
            " |      \n",
            " |      It exists mainly to be used in Python's test suite.\n",
            " |      \n",
            " |      Override the automatic determination of C-level floating point type.\n",
            " |      This affects how floats are converted to and from binary strings.\n",
            " |  \n",
            " |  fromhex(string, /) from builtins.type\n",
            " |      Create a floating-point number from a hexadecimal string.\n",
            " |      \n",
            " |      >>> float.fromhex('0x1.ffffp10')\n",
            " |      2047.984375\n",
            " |      >>> float.fromhex('-0x1p-1074')\n",
            " |      -5e-324\n",
            " |  \n",
            " |  ----------------------------------------------------------------------\n",
            " |  Static methods defined here:\n",
            " |  \n",
            " |  __new__(*args, **kwargs) from builtins.type\n",
            " |      Create and return a new object.  See help(type) for accurate signature.\n",
            " |  \n",
            " |  ----------------------------------------------------------------------\n",
            " |  Data descriptors defined here:\n",
            " |  \n",
            " |  imag\n",
            " |      the imaginary part of a complex number\n",
            " |  \n",
            " |  real\n",
            " |      the real part of a complex number\n",
            "\n"
          ],
          "name": "stdout"
        }
      ]
    },
    {
      "cell_type": "code",
      "metadata": {
        "tags": [],
        "cell_id": "00097-d30717a2-cb43-470b-a6e6-769c32d2cb24",
        "deepnote_to_be_reexecuted": false,
        "source_hash": "726c23b7",
        "execution_start": 1611369532369,
        "execution_millis": 40,
        "deepnote_cell_type": "code",
        "id": "TBV1MSYyDBNC",
        "outputId": "266a9d24-28f7-45ee-cc5e-8eab8a4efe6d"
      },
      "source": [
        "float(10)"
      ],
      "execution_count": null,
      "outputs": [
        {
          "output_type": "execute_result",
          "data": {
            "text/plain": [
              "10.0"
            ]
          },
          "metadata": {
            "tags": []
          },
          "execution_count": 176
        }
      ]
    },
    {
      "cell_type": "code",
      "metadata": {
        "tags": [],
        "cell_id": "00098-559b459c-91b6-46fc-8b2e-3726ce60be0b",
        "deepnote_to_be_reexecuted": false,
        "source_hash": "32e3d1be",
        "execution_start": 1611369537320,
        "execution_millis": 1,
        "deepnote_cell_type": "code",
        "id": "chwUaE_YDBNC",
        "outputId": "348c096e-3d0d-48b9-9f38-8d4ad7ff975b"
      },
      "source": [
        "float(3.14)"
      ],
      "execution_count": null,
      "outputs": [
        {
          "output_type": "execute_result",
          "data": {
            "text/plain": [
              "3.14"
            ]
          },
          "metadata": {
            "tags": []
          },
          "execution_count": 177
        }
      ]
    },
    {
      "cell_type": "code",
      "metadata": {
        "tags": [],
        "cell_id": "00099-a664f229-3177-4c6c-951f-f9e66ce31c33",
        "deepnote_to_be_reexecuted": false,
        "source_hash": "b04f763a",
        "execution_start": 1611369550311,
        "execution_millis": 1,
        "deepnote_cell_type": "code",
        "id": "GaScm5xuDBNC",
        "outputId": "fbb08752-97a6-4e81-dd1b-0e78733a8237"
      },
      "source": [
        "float('0.1')"
      ],
      "execution_count": null,
      "outputs": [
        {
          "output_type": "execute_result",
          "data": {
            "text/plain": [
              "0.1"
            ]
          },
          "metadata": {
            "tags": []
          },
          "execution_count": 178
        }
      ]
    },
    {
      "cell_type": "code",
      "metadata": {
        "tags": [],
        "cell_id": "00100-998f8722-f6f5-4846-8efb-e733f87e80ee",
        "deepnote_to_be_reexecuted": false,
        "source_hash": "946998e5",
        "execution_start": 1611369561727,
        "execution_millis": 2,
        "deepnote_cell_type": "code",
        "id": "b1GUC-zPDBNC",
        "outputId": "ab351514-d590-47d5-c0ae-7a09be6f5ceb"
      },
      "source": [
        "format(0.1, '.25f')"
      ],
      "execution_count": null,
      "outputs": [
        {
          "output_type": "execute_result",
          "data": {
            "text/plain": [
              "'0.1000000000000000055511151'"
            ]
          },
          "metadata": {
            "tags": []
          },
          "execution_count": 179
        }
      ]
    },
    {
      "cell_type": "code",
      "metadata": {
        "tags": [],
        "cell_id": "00101-db81e50c-02a5-4433-a5ed-1f52eaa5d38e",
        "deepnote_to_be_reexecuted": false,
        "source_hash": "fee8b32b",
        "execution_millis": 5,
        "execution_start": 1611369595682,
        "deepnote_cell_type": "code",
        "id": "0WNkbB9LDBNC",
        "outputId": "8153d5e4-1690-412a-c691-c345d35f46a1"
      },
      "source": [
        "float('22/7')"
      ],
      "execution_count": null,
      "outputs": [
        {
          "output_type": "error",
          "ename": "ValueError",
          "evalue": "could not convert string to float: '22/7'",
          "traceback": [
            "\u001b[0;31m---------------------------------------------------------------------------\u001b[0m",
            "\u001b[0;31mValueError\u001b[0m                                Traceback (most recent call last)",
            "\u001b[0;32m<ipython-input-181-b1a86d0295b9>\u001b[0m in \u001b[0;36m<module>\u001b[0;34m\u001b[0m\n\u001b[0;32m----> 1\u001b[0;31m \u001b[0mfloat\u001b[0m\u001b[0;34m(\u001b[0m\u001b[0;34m'22/7'\u001b[0m\u001b[0;34m)\u001b[0m\u001b[0;34m\u001b[0m\u001b[0;34m\u001b[0m\u001b[0m\n\u001b[0m",
            "\u001b[0;31mValueError\u001b[0m: could not convert string to float: '22/7'"
          ]
        }
      ]
    },
    {
      "cell_type": "code",
      "metadata": {
        "tags": [],
        "cell_id": "00102-3849f9d5-86cf-4792-bde7-93c9302458f9",
        "deepnote_to_be_reexecuted": false,
        "source_hash": "b2029e12",
        "execution_millis": 0,
        "execution_start": 1611369610325,
        "deepnote_cell_type": "code",
        "id": "67JwfQvyDBND",
        "outputId": "5f6238a6-cc1e-4631-e962-7068df44f032"
      },
      "source": [
        "float(Fraction('22/7'))"
      ],
      "execution_count": null,
      "outputs": [
        {
          "output_type": "execute_result",
          "data": {
            "text/plain": [
              "3.142857142857143"
            ]
          },
          "metadata": {
            "tags": []
          },
          "execution_count": 183
        }
      ]
    },
    {
      "cell_type": "code",
      "metadata": {
        "tags": [],
        "cell_id": "00103-ea4a78dc-b96a-4511-bc08-e2599d912373",
        "deepnote_to_be_reexecuted": false,
        "source_hash": "68cb7714",
        "execution_millis": 0,
        "execution_start": 1611369639725,
        "deepnote_cell_type": "code",
        "id": "vq1BLBmnDBNG",
        "outputId": "e753d9d2-6451-438a-9253-3b963bc370d6"
      },
      "source": [
        "format(0.125, '0.50f')"
      ],
      "execution_count": null,
      "outputs": [
        {
          "output_type": "execute_result",
          "data": {
            "text/plain": [
              "'0.12500000000000000000000000000000000000000000000000'"
            ]
          },
          "metadata": {
            "tags": []
          },
          "execution_count": 185
        }
      ]
    },
    {
      "cell_type": "markdown",
      "metadata": {
        "tags": [],
        "cell_id": "00104-3d46aa10-6ef2-46ef-b525-486489cb93f8",
        "deepnote_cell_type": "markdown",
        "id": "Vuhus-0fDBNH"
      },
      "source": [
        "## Float - Equality Testing"
      ]
    },
    {
      "cell_type": "code",
      "metadata": {
        "tags": [],
        "cell_id": "00104-ec3a4926-6f4a-434f-997e-e859ff95152f",
        "deepnote_to_be_reexecuted": false,
        "source_hash": "e9f9edd2",
        "execution_start": 1611369759079,
        "execution_millis": 1,
        "deepnote_cell_type": "code",
        "id": "vyB4ckhtDBNH",
        "outputId": "87af399c-88e1-420e-a46d-3344bc87a5b6"
      },
      "source": [
        "x = 0.1 + 0.1 + 0.1\n",
        "y = 0.3\n",
        "\n",
        "y == x"
      ],
      "execution_count": null,
      "outputs": [
        {
          "output_type": "execute_result",
          "data": {
            "text/plain": [
              "False"
            ]
          },
          "metadata": {
            "tags": []
          },
          "execution_count": 186
        }
      ]
    },
    {
      "cell_type": "code",
      "metadata": {
        "tags": [],
        "cell_id": "00106-3820461a-56de-4cc8-928f-3fde08521bf1",
        "deepnote_to_be_reexecuted": false,
        "source_hash": "2fd9b0b8",
        "execution_millis": 2,
        "execution_start": 1611369802923,
        "deepnote_cell_type": "code",
        "id": "5BhIeadyDBNI",
        "outputId": "233fef38-f02f-47f0-dd01-e4fdcfe0fbcb"
      },
      "source": [
        "print(f'0.1 --> {format(0.1, \".25f\")}')\n",
        "print(f'x --> {format(x, \".25f\")}')\n",
        "print(f'y --> {format(y, \".25f\")}')"
      ],
      "execution_count": null,
      "outputs": [
        {
          "output_type": "stream",
          "text": [
            "0.1 --> 0.1000000000000000055511151\n",
            "x --> 0.3000000000000000444089210\n",
            "y --> 0.2999999999999999888977698\n"
          ],
          "name": "stdout"
        }
      ]
    },
    {
      "cell_type": "code",
      "metadata": {
        "tags": [],
        "cell_id": "00107-e4431dc9-8131-45b9-b1f3-b994d37cb0e2",
        "deepnote_to_be_reexecuted": false,
        "source_hash": "402824",
        "execution_millis": 3,
        "execution_start": 1611369859950,
        "deepnote_cell_type": "code",
        "id": "SCUqn7EZDBNI",
        "outputId": "eb1e8d64-a830-4229-a847-c7099f816201"
      },
      "source": [
        "x = 0.125 + 0.125 + 0-.125\n",
        "y = 0.375\n",
        "\n",
        "print(f'0.125 --> {format(0.125, \".25f\")}')\n",
        "print(f'x --> {format(x, \".25f\")}')\n",
        "print(f'y --> {format(y, \".25f\")}')\n",
        "y == x"
      ],
      "execution_count": null,
      "outputs": [
        {
          "output_type": "stream",
          "text": [
            "0.125 --> 0.1250000000000000000000000\n",
            "x --> 0.1250000000000000000000000\n",
            "y --> 0.3750000000000000000000000\n"
          ],
          "name": "stdout"
        },
        {
          "output_type": "execute_result",
          "data": {
            "text/plain": [
              "False"
            ]
          },
          "metadata": {
            "tags": []
          },
          "execution_count": 190
        }
      ]
    },
    {
      "cell_type": "code",
      "metadata": {
        "tags": [],
        "cell_id": "00108-c0b36735-8ce4-4d16-b68f-a10683d8a527",
        "deepnote_to_be_reexecuted": false,
        "source_hash": "e08b2dc3",
        "execution_start": 1611369898007,
        "execution_millis": 2,
        "deepnote_cell_type": "code",
        "id": "jPYlMsIVDBNJ",
        "outputId": "e3e4ee15-01ba-438f-f8fc-e1358660a102"
      },
      "source": [
        "x = 0.1 + 0.1 + 0.1\n",
        "y = 0.3\n",
        "\n",
        "round(x, 5) == round(y, 5)"
      ],
      "execution_count": null,
      "outputs": [
        {
          "output_type": "execute_result",
          "data": {
            "text/plain": [
              "True"
            ]
          },
          "metadata": {
            "tags": []
          },
          "execution_count": 191
        }
      ]
    },
    {
      "cell_type": "code",
      "metadata": {
        "tags": [],
        "cell_id": "00109-dcbce82b-a63b-4aa5-be7d-19f0153f6c16",
        "deepnote_to_be_reexecuted": false,
        "source_hash": "667763cc",
        "execution_start": 1611369928120,
        "execution_millis": 3,
        "deepnote_cell_type": "code",
        "id": "1t513S1yDBNJ",
        "outputId": "8c1c8c3f-026d-41bd-9ea9-51551ec5854c"
      },
      "source": [
        "from math import isclose\n",
        "\n",
        "help(isclose)"
      ],
      "execution_count": null,
      "outputs": [
        {
          "output_type": "stream",
          "text": [
            "Help on built-in function isclose in module math:\n",
            "\n",
            "isclose(a, b, *, rel_tol=1e-09, abs_tol=0.0)\n",
            "    Determine whether two floating point numbers are close in value.\n",
            "    \n",
            "      rel_tol\n",
            "        maximum difference for being considered \"close\", relative to the\n",
            "        magnitude of the input values\n",
            "      abs_tol\n",
            "        maximum difference for being considered \"close\", regardless of the\n",
            "        magnitude of the input values\n",
            "    \n",
            "    Return True if a is close in value to b, and False otherwise.\n",
            "    \n",
            "    For the values to be considered close, the difference between them\n",
            "    must be smaller than at least one of the tolerances.\n",
            "    \n",
            "    -inf, inf and NaN behave similarly to the IEEE 754 Standard.  That\n",
            "    is, NaN is not close to anything, even itself.  inf and -inf are\n",
            "    only close to themselves.\n",
            "\n"
          ],
          "name": "stdout"
        }
      ]
    },
    {
      "cell_type": "code",
      "metadata": {
        "tags": [],
        "cell_id": "00110-898b19e7-2291-4659-aa2d-e17976cc6aec",
        "deepnote_to_be_reexecuted": false,
        "source_hash": "825a4dda",
        "execution_start": 1611369991588,
        "execution_millis": 3,
        "deepnote_cell_type": "code",
        "id": "IoHdotJ-DBNK",
        "outputId": "60db97d6-4e32-4ef4-b34a-29aac6eef687"
      },
      "source": [
        "x = 0.1 + 0.1 + 0.1\n",
        "y = 0.3\n",
        "\n",
        "isclose(x, y)"
      ],
      "execution_count": null,
      "outputs": [
        {
          "output_type": "execute_result",
          "data": {
            "text/plain": [
              "True"
            ]
          },
          "metadata": {
            "tags": []
          },
          "execution_count": 193
        }
      ]
    },
    {
      "cell_type": "code",
      "metadata": {
        "tags": [],
        "cell_id": "00111-eb1a60fe-4581-452f-ba34-ad62209277e7",
        "deepnote_to_be_reexecuted": false,
        "source_hash": "65e2ddc3",
        "execution_start": 1611370064750,
        "execution_millis": 1,
        "deepnote_cell_type": "code",
        "id": "JMmPRLsnDBNL",
        "outputId": "e3162f6a-3b26-4e6f-84f5-f0f54332a180"
      },
      "source": [
        "x = 123456789.01\n",
        "y = 123456789.02\n",
        "\n",
        "x = 0.01\n",
        "y = 0.02"
      ],
      "execution_count": null,
      "outputs": [
        {
          "output_type": "execute_result",
          "data": {
            "text/plain": [
              "True"
            ]
          },
          "metadata": {
            "tags": []
          },
          "execution_count": 194
        }
      ]
    },
    {
      "cell_type": "code",
      "metadata": {
        "tags": [],
        "cell_id": "00112-606a628d-fc9b-4ab0-8859-482d9352bd13",
        "deepnote_to_be_reexecuted": false,
        "source_hash": "a2acf116",
        "execution_start": 1611370149349,
        "execution_millis": 1,
        "deepnote_cell_type": "code",
        "id": "Qc-exDD6DBNL",
        "outputId": "64520728-9f47-49f2-de4a-0c4083324da5"
      },
      "source": [
        "isclose(123456789.01, 123456789.02, rel_tol = 0.01)"
      ],
      "execution_count": null,
      "outputs": [
        {
          "output_type": "execute_result",
          "data": {
            "text/plain": [
              "True"
            ]
          },
          "metadata": {
            "tags": []
          },
          "execution_count": 195
        }
      ]
    },
    {
      "cell_type": "code",
      "metadata": {
        "tags": [],
        "cell_id": "00113-d29541a0-1696-4f06-920b-310b7520c5c3",
        "deepnote_to_be_reexecuted": false,
        "source_hash": "7b486fa7",
        "execution_start": 1611370165494,
        "execution_millis": 3,
        "deepnote_cell_type": "code",
        "id": "Y35_NM1ADBNM",
        "outputId": "e7bdb696-bca7-40c3-f763-ad457dfeb5a7"
      },
      "source": [
        "isclose(0.01, 0.02, rel_tol = 0.01)"
      ],
      "execution_count": null,
      "outputs": [
        {
          "output_type": "execute_result",
          "data": {
            "text/plain": [
              "False"
            ]
          },
          "metadata": {
            "tags": []
          },
          "execution_count": 196
        }
      ]
    },
    {
      "cell_type": "code",
      "metadata": {
        "tags": [],
        "cell_id": "00114-a802018d-9c81-433e-b336-c4ca994acbae",
        "deepnote_to_be_reexecuted": false,
        "source_hash": "5ecf5001",
        "execution_start": 1611370267362,
        "execution_millis": 1,
        "deepnote_cell_type": "code",
        "id": "qKaeCKKTDBNM",
        "outputId": "0da2b84e-35d9-458f-cce6-11a7c1d65d0c"
      },
      "source": [
        "x = 0.0000001\n",
        "y = 0.0000002\n",
        "\n",
        "isclose(x, y, rel_tol = 0.01)"
      ],
      "execution_count": null,
      "outputs": [
        {
          "output_type": "execute_result",
          "data": {
            "text/plain": [
              "False"
            ]
          },
          "metadata": {
            "tags": []
          },
          "execution_count": 197
        }
      ]
    },
    {
      "cell_type": "code",
      "metadata": {
        "tags": [],
        "cell_id": "00115-3463d4a0-9a10-40ad-a450-275d6d86a837",
        "deepnote_to_be_reexecuted": false,
        "source_hash": "5af0001e",
        "execution_start": 1611370321155,
        "execution_millis": 4,
        "deepnote_cell_type": "code",
        "id": "UmFzwR6yDBNN",
        "outputId": "17d3050b-ac27-4099-c940-115375f9dfcc"
      },
      "source": [
        "isclose(x, y, abs_tol = 0.0001, rel_tol = 0)"
      ],
      "execution_count": null,
      "outputs": [
        {
          "output_type": "execute_result",
          "data": {
            "text/plain": [
              "True"
            ]
          },
          "metadata": {
            "tags": []
          },
          "execution_count": 198
        }
      ]
    },
    {
      "cell_type": "code",
      "metadata": {
        "tags": [],
        "cell_id": "00116-0a13f213-2f18-474c-a024-50ea114140b5",
        "deepnote_to_be_reexecuted": false,
        "source_hash": "92ef3f30",
        "execution_millis": 1,
        "execution_start": 1611370456669,
        "deepnote_cell_type": "code",
        "id": "v43WEKvmDBNN",
        "outputId": "98247411-ae9f-46be-de0b-ceaa8759364d"
      },
      "source": [
        "x = 0.0000001\n",
        "y = 0.0000002\n",
        "\n",
        "a = 123456789.01\n",
        "b = 123456789.02\n",
        "\n",
        "isclose(x, y, abs_tol=0.0001, rel_tol = 0.01), isclose(a, b, abs_tol=0.0001, rel_tol = 0.01)"
      ],
      "execution_count": null,
      "outputs": [
        {
          "output_type": "execute_result",
          "data": {
            "text/plain": [
              "(False, True)"
            ]
          },
          "metadata": {
            "tags": []
          },
          "execution_count": 201
        }
      ]
    },
    {
      "cell_type": "markdown",
      "metadata": {
        "tags": [],
        "cell_id": "00117-3f1a1113-1af8-4a60-bc69-29122c4090ee",
        "deepnote_cell_type": "markdown",
        "id": "Cj9CXTgnDBNO"
      },
      "source": [
        "# Coercing Floats to Integers"
      ]
    },
    {
      "cell_type": "code",
      "metadata": {
        "tags": [],
        "cell_id": "00117-7d67dae8-121d-4ea5-a920-4c90e072f7e4",
        "deepnote_to_be_reexecuted": false,
        "source_hash": "58d640f0",
        "execution_start": 1611370515914,
        "execution_millis": 1,
        "deepnote_cell_type": "code",
        "id": "iNHFkS96DBNO",
        "outputId": "ad4048e2-753c-47dc-a506-a6062461a562"
      },
      "source": [
        "# Truncation\n",
        "\n",
        "from math import trunc\n",
        "trunc(10.3), trunc(10.5), trunc(10.6)"
      ],
      "execution_count": null,
      "outputs": [
        {
          "output_type": "execute_result",
          "data": {
            "text/plain": [
              "(10, 10, 10)"
            ]
          },
          "metadata": {
            "tags": []
          },
          "execution_count": 202
        }
      ]
    },
    {
      "cell_type": "code",
      "metadata": {
        "tags": [],
        "cell_id": "00119-aff91274-7227-4681-8741-032f98930b12",
        "deepnote_to_be_reexecuted": false,
        "source_hash": "6bfea56a",
        "execution_millis": 1,
        "execution_start": 1611370538773,
        "deepnote_cell_type": "code",
        "id": "C9v_bExlDBNP",
        "outputId": "d7794b95-de92-481f-e348-c5bfb353fb76"
      },
      "source": [
        "trunc(-10.3), trunc(-10.5), trunc(-10.6)"
      ],
      "execution_count": null,
      "outputs": [
        {
          "output_type": "execute_result",
          "data": {
            "text/plain": [
              "(-10, -10, -10)"
            ]
          },
          "metadata": {
            "tags": []
          },
          "execution_count": 204
        }
      ]
    },
    {
      "cell_type": "code",
      "metadata": {
        "tags": [],
        "cell_id": "00120-0ad0ac21-4872-4746-b45e-0e1de191379e",
        "deepnote_to_be_reexecuted": false,
        "source_hash": "5462a014",
        "execution_start": 1611370558246,
        "execution_millis": 1,
        "deepnote_cell_type": "code",
        "id": "ANTEgQoDDBNP",
        "outputId": "4697dec1-ae3f-4769-8b94-75f3249542c6"
      },
      "source": [
        "int(10.3), int(-10.3)"
      ],
      "execution_count": null,
      "outputs": [
        {
          "output_type": "execute_result",
          "data": {
            "text/plain": [
              "(10, -10)"
            ]
          },
          "metadata": {
            "tags": []
          },
          "execution_count": 205
        }
      ]
    },
    {
      "cell_type": "code",
      "metadata": {
        "tags": [],
        "cell_id": "00121-480af77a-3f2d-45da-a379-a79b59f580f3",
        "deepnote_to_be_reexecuted": false,
        "source_hash": "2652e6ab",
        "execution_millis": 3,
        "execution_start": 1611370694661,
        "deepnote_cell_type": "code",
        "id": "mUzwQs7QDBNP",
        "outputId": "9d321343-6876-4979-8946-c8801750c4ac"
      },
      "source": [
        "# floor\n",
        "\n",
        "from math import floor\n",
        "\n",
        "floor(10.4), floor(-10.5), math.floor(-3.00000000000000000001)"
      ],
      "execution_count": null,
      "outputs": [
        {
          "output_type": "execute_result",
          "data": {
            "text/plain": [
              "(10, -11, -3)"
            ]
          },
          "metadata": {
            "tags": []
          },
          "execution_count": 213
        }
      ]
    },
    {
      "cell_type": "code",
      "metadata": {
        "tags": [],
        "cell_id": "00122-7d88035e-3f89-4112-878d-5f42ca6c1c92",
        "deepnote_to_be_reexecuted": false,
        "source_hash": "4f7a732a",
        "execution_start": 1611370726739,
        "execution_millis": 4,
        "deepnote_cell_type": "code",
        "id": "bbsB_E1qDBNQ",
        "outputId": "3e0e77ba-a375-4218-a13a-c1f8431e9c03"
      },
      "source": [
        "# Ceiling\n",
        "\n",
        "from math import ceil\n",
        "\n",
        "ceil(10.4), ceil(-10.4)"
      ],
      "execution_count": null,
      "outputs": [
        {
          "output_type": "execute_result",
          "data": {
            "text/plain": [
              "(11, -10)"
            ]
          },
          "metadata": {
            "tags": []
          },
          "execution_count": 214
        }
      ]
    },
    {
      "cell_type": "code",
      "metadata": {
        "tags": [],
        "cell_id": "00123-62f6569a-3c41-44f3-b41e-b0dfc3a2eedc",
        "deepnote_to_be_reexecuted": false,
        "source_hash": "5f86c989",
        "execution_millis": 3,
        "execution_start": 1611370839540,
        "deepnote_cell_type": "code",
        "id": "r0AoUstNDBNQ",
        "outputId": "56842baa-174a-436d-a845-0b2b2703edd2"
      },
      "source": [
        "# Rounding\n",
        "\n",
        "help(round)"
      ],
      "execution_count": null,
      "outputs": [
        {
          "output_type": "stream",
          "text": [
            "Help on built-in function round in module builtins:\n",
            "\n",
            "round(number, ndigits=None)\n",
            "    Round a number to a given precision in decimal digits.\n",
            "    \n",
            "    The return value is an integer if ndigits is omitted or None.  Otherwise\n",
            "    the return value has the same type as the number.  ndigits may be negative.\n",
            "\n"
          ],
          "name": "stdout"
        }
      ]
    },
    {
      "cell_type": "code",
      "metadata": {
        "tags": [],
        "cell_id": "00124-1ff101f1-56c0-463b-b69e-c742f29da97b",
        "deepnote_to_be_reexecuted": false,
        "source_hash": "f96ab143",
        "execution_start": 1611370868677,
        "execution_millis": 1,
        "deepnote_cell_type": "code",
        "id": "2V1iR2y0DBNQ",
        "outputId": "0ea513ff-6de0-4dae-a90d-aff704e8afbf"
      },
      "source": [
        "a = round(1.5)\n",
        "a, type(a)"
      ],
      "execution_count": null,
      "outputs": [
        {
          "output_type": "execute_result",
          "data": {
            "text/plain": [
              "(2, int)"
            ]
          },
          "metadata": {
            "tags": []
          },
          "execution_count": 217
        }
      ]
    },
    {
      "cell_type": "code",
      "metadata": {
        "tags": [],
        "cell_id": "00125-b68f23ef-0d96-4264-aa76-cb7dd21f5e2a",
        "deepnote_to_be_reexecuted": false,
        "source_hash": "babb58b2",
        "execution_start": 1611370885919,
        "execution_millis": 3,
        "deepnote_cell_type": "code",
        "id": "vhUHV_9ZDBNR",
        "outputId": "4b63a8ec-d834-4c17-a10a-5ec710379ab8"
      },
      "source": [
        "a = round(1.5, 0)\n",
        "a, type(a)"
      ],
      "execution_count": null,
      "outputs": [
        {
          "output_type": "execute_result",
          "data": {
            "text/plain": [
              "(2.0, float)"
            ]
          },
          "metadata": {
            "tags": []
          },
          "execution_count": 218
        }
      ]
    },
    {
      "cell_type": "code",
      "metadata": {
        "tags": [],
        "cell_id": "00126-e2ad9569-8ea9-448d-838a-0736ed5a826f",
        "deepnote_to_be_reexecuted": false,
        "source_hash": "6be0fa6d",
        "execution_start": 1611370959570,
        "execution_millis": 1,
        "deepnote_cell_type": "code",
        "id": "ajcIPQ0GDBNR",
        "outputId": "5c99afa6-38f8-48a9-c1d4-1dcf4eeb5e0d"
      },
      "source": [
        "# n > 0, digits\n",
        "\n",
        "round(1.8888, 3), round(1.8888, 2), round(1.8888, 1), round(1.8888, 0)"
      ],
      "execution_count": null,
      "outputs": [
        {
          "output_type": "execute_result",
          "data": {
            "text/plain": [
              "(1.889, 1.89, 1.9, 2.0)"
            ]
          },
          "metadata": {
            "tags": []
          },
          "execution_count": 219
        }
      ]
    },
    {
      "cell_type": "code",
      "metadata": {
        "tags": [],
        "cell_id": "00127-aacac7a1-4eb0-472b-9474-c8e9a94bc389",
        "deepnote_to_be_reexecuted": false,
        "source_hash": "8a16847f",
        "execution_millis": 2,
        "execution_start": 1611371070504,
        "deepnote_cell_type": "code",
        "id": "a04fFQDWDBNS",
        "outputId": "8914b1ae-e6d1-441a-9359-2eddc9b4ec41"
      },
      "source": [
        "# n < 0\n",
        "\n",
        "round(888.88, 1), round(888.88, 0), \\\n",
        "round(888.88, -1), round(888.888, -2), \\\n",
        "round(888.88, -3)"
      ],
      "execution_count": null,
      "outputs": [
        {
          "output_type": "execute_result",
          "data": {
            "text/plain": [
              "(888.9, 889.0, 890.0, 900.0, 1000.0)"
            ]
          },
          "metadata": {
            "tags": []
          },
          "execution_count": 221
        }
      ]
    },
    {
      "cell_type": "code",
      "metadata": {
        "tags": [],
        "cell_id": "00128-995b23f4-46e2-435e-ba03-ffb7b2442972",
        "deepnote_to_be_reexecuted": false,
        "source_hash": "b6b75a7e",
        "execution_start": 1611371146097,
        "execution_millis": 1,
        "deepnote_cell_type": "code",
        "id": "Mex31_yjDBNS",
        "outputId": "763611ff-3257-4f37-c7c1-78f35ade7793"
      },
      "source": [
        "# ties\n",
        "\n",
        "round(1.25, 1)"
      ],
      "execution_count": null,
      "outputs": [
        {
          "output_type": "execute_result",
          "data": {
            "text/plain": [
              "1.2"
            ]
          },
          "metadata": {
            "tags": []
          },
          "execution_count": 222
        }
      ]
    },
    {
      "cell_type": "code",
      "metadata": {
        "tags": [],
        "cell_id": "00129-5ba17c70-acaf-4a99-9f99-9f4343713357",
        "deepnote_to_be_reexecuted": false,
        "source_hash": "a5dda8e1",
        "execution_start": 1611371153188,
        "execution_millis": 41,
        "deepnote_cell_type": "code",
        "id": "FA6xSj4FDBNS",
        "outputId": "e018a048-dda2-4096-c7ec-0eec75f81606"
      },
      "source": [
        "round(1.35, 1)"
      ],
      "execution_count": null,
      "outputs": [
        {
          "output_type": "execute_result",
          "data": {
            "text/plain": [
              "1.4"
            ]
          },
          "metadata": {
            "tags": []
          },
          "execution_count": 223
        }
      ]
    },
    {
      "cell_type": "code",
      "metadata": {
        "tags": [],
        "cell_id": "00130-2cf6582d-7645-4a98-8e93-1eccf7a0c208",
        "deepnote_to_be_reexecuted": false,
        "source_hash": "a2e16cba",
        "execution_start": 1611371247193,
        "execution_millis": 1,
        "deepnote_cell_type": "code",
        "id": "ygsnN0gWDBNT",
        "outputId": "2e5159ba-8e9c-47cf-d592-fea1d81a6814"
      },
      "source": [
        "round(15, -1)\n"
      ],
      "execution_count": null,
      "outputs": [
        {
          "output_type": "execute_result",
          "data": {
            "text/plain": [
              "20"
            ]
          },
          "metadata": {
            "tags": []
          },
          "execution_count": 224
        }
      ]
    },
    {
      "cell_type": "code",
      "metadata": {
        "tags": [],
        "cell_id": "00131-272c8a64-7c93-4953-8d03-2d22f04d7602",
        "deepnote_to_be_reexecuted": false,
        "source_hash": "9cc9b6e5",
        "execution_start": 1611371259480,
        "execution_millis": 1,
        "deepnote_cell_type": "code",
        "id": "X8U4e6W8DBNT",
        "outputId": "32fd2d0a-17e5-4b6c-e6da-7f9bd3447310"
      },
      "source": [
        "round(25, -1)"
      ],
      "execution_count": null,
      "outputs": [
        {
          "output_type": "execute_result",
          "data": {
            "text/plain": [
              "20"
            ]
          },
          "metadata": {
            "tags": []
          },
          "execution_count": 225
        }
      ]
    },
    {
      "cell_type": "code",
      "metadata": {
        "tags": [],
        "cell_id": "00132-692f14e6-03f9-48a3-83f7-790bb6c41e1c",
        "deepnote_to_be_reexecuted": false,
        "source_hash": "b58ccfe3",
        "execution_start": 1611371473025,
        "execution_millis": 0,
        "deepnote_cell_type": "code",
        "id": "J8A4uzEODBNU"
      },
      "source": [
        "# rounding to closest, ties away from zero\n",
        "# 1.5 → 2\n",
        "# 2.5 → 3\n",
        "# -1.5 → -2\n",
        "# -2.5 → -3\n",
        "\n",
        "def _round(x):\n",
        "    from math import copysign\n",
        "    return int(x + 0.5 * copysign(1, x))\n"
      ],
      "execution_count": null,
      "outputs": []
    },
    {
      "cell_type": "code",
      "metadata": {
        "tags": [],
        "cell_id": "00133-17b7dab5-c9e5-4956-b0ac-573dd71c6266",
        "deepnote_to_be_reexecuted": false,
        "source_hash": "10334fdd",
        "execution_millis": 4,
        "execution_start": 1611371482073,
        "deepnote_cell_type": "code",
        "id": "b_UJxs9LDBNU",
        "outputId": "7bfe29d0-32f4-4985-abcd-886ce438a3e0"
      },
      "source": [
        "_round(1.5), _round(2.5)"
      ],
      "execution_count": null,
      "outputs": [
        {
          "output_type": "execute_result",
          "data": {
            "text/plain": [
              "(2, 3)"
            ]
          },
          "metadata": {
            "tags": []
          },
          "execution_count": 231
        }
      ]
    },
    {
      "cell_type": "code",
      "metadata": {
        "tags": [],
        "cell_id": "00134-d0c434f5-5fc2-40a2-898c-ffb090974afb",
        "deepnote_to_be_reexecuted": false,
        "source_hash": "dc17257b",
        "execution_start": 1611371494167,
        "execution_millis": 3,
        "deepnote_cell_type": "code",
        "id": "UrgKJzvODBNU",
        "outputId": "58d29bee-dd8c-4498-e7a3-6e83c7a426b1"
      },
      "source": [
        "_round(-1.5), _round(-2.5)"
      ],
      "execution_count": null,
      "outputs": [
        {
          "output_type": "execute_result",
          "data": {
            "text/plain": [
              "(-2, -3)"
            ]
          },
          "metadata": {
            "tags": []
          },
          "execution_count": 232
        }
      ]
    },
    {
      "cell_type": "code",
      "metadata": {
        "tags": [],
        "cell_id": "00135-f3c71c39-738f-4eca-a0b5-44f06efebf66",
        "deepnote_to_be_reexecuted": false,
        "source_hash": "1559413a",
        "execution_millis": 7,
        "execution_start": 1611372144049,
        "deepnote_cell_type": "code",
        "id": "bLFyi8qCDBNV"
      },
      "source": [
        "from decimal import Decimal"
      ],
      "execution_count": null,
      "outputs": []
    },
    {
      "cell_type": "code",
      "metadata": {
        "tags": [],
        "cell_id": "00136-fce8480e-b4f2-4a34-bf1b-ebf666bd159a",
        "deepnote_to_be_reexecuted": false,
        "source_hash": "53b6bdd9",
        "execution_start": 1611372150837,
        "execution_millis": 5,
        "deepnote_cell_type": "code",
        "id": "8DZKl-sTDBNV",
        "outputId": "42d5d829-efe8-42fb-d7f5-64f5b944657d"
      },
      "source": [
        "help(Decimal)"
      ],
      "execution_count": null,
      "outputs": [
        {
          "output_type": "stream",
          "text": [
            "Help on class Decimal in module decimal:\n",
            "\n",
            "class Decimal(builtins.object)\n",
            " |  Decimal(value='0', context=None)\n",
            " |  \n",
            " |  Construct a new Decimal object. 'value' can be an integer, string, tuple,\n",
            " |  or another Decimal object. If no value is given, return Decimal('0'). The\n",
            " |  context does not affect the conversion and is only passed to determine if\n",
            " |  the InvalidOperation trap is active.\n",
            " |  \n",
            " |  Methods defined here:\n",
            " |  \n",
            " |  __abs__(self, /)\n",
            " |      abs(self)\n",
            " |  \n",
            " |  __add__(self, value, /)\n",
            " |      Return self+value.\n",
            " |  \n",
            " |  __bool__(self, /)\n",
            " |      self != 0\n",
            " |  \n",
            " |  __ceil__(...)\n",
            " |  \n",
            " |  __complex__(...)\n",
            " |  \n",
            " |  __copy__(...)\n",
            " |  \n",
            " |  __deepcopy__(...)\n",
            " |  \n",
            " |  __divmod__(self, value, /)\n",
            " |      Return divmod(self, value).\n",
            " |  \n",
            " |  __eq__(self, value, /)\n",
            " |      Return self==value.\n",
            " |  \n",
            " |  __float__(self, /)\n",
            " |      float(self)\n",
            " |  \n",
            " |  __floor__(...)\n",
            " |  \n",
            " |  __floordiv__(self, value, /)\n",
            " |      Return self//value.\n",
            " |  \n",
            " |  __format__(...)\n",
            " |      Default object formatter.\n",
            " |  \n",
            " |  __ge__(self, value, /)\n",
            " |      Return self>=value.\n",
            " |  \n",
            " |  __getattribute__(self, name, /)\n",
            " |      Return getattr(self, name).\n",
            " |  \n",
            " |  __gt__(self, value, /)\n",
            " |      Return self>value.\n",
            " |  \n",
            " |  __hash__(self, /)\n",
            " |      Return hash(self).\n",
            " |  \n",
            " |  __int__(self, /)\n",
            " |      int(self)\n",
            " |  \n",
            " |  __le__(self, value, /)\n",
            " |      Return self<=value.\n",
            " |  \n",
            " |  __lt__(self, value, /)\n",
            " |      Return self<value.\n",
            " |  \n",
            " |  __mod__(self, value, /)\n",
            " |      Return self%value.\n",
            " |  \n",
            " |  __mul__(self, value, /)\n",
            " |      Return self*value.\n",
            " |  \n",
            " |  __ne__(self, value, /)\n",
            " |      Return self!=value.\n",
            " |  \n",
            " |  __neg__(self, /)\n",
            " |      -self\n",
            " |  \n",
            " |  __pos__(self, /)\n",
            " |      +self\n",
            " |  \n",
            " |  __pow__(self, value, mod=None, /)\n",
            " |      Return pow(self, value, mod).\n",
            " |  \n",
            " |  __radd__(self, value, /)\n",
            " |      Return value+self.\n",
            " |  \n",
            " |  __rdivmod__(self, value, /)\n",
            " |      Return divmod(value, self).\n",
            " |  \n",
            " |  __reduce__(...)\n",
            " |      Helper for pickle.\n",
            " |  \n",
            " |  __repr__(self, /)\n",
            " |      Return repr(self).\n",
            " |  \n",
            " |  __rfloordiv__(self, value, /)\n",
            " |      Return value//self.\n",
            " |  \n",
            " |  __rmod__(self, value, /)\n",
            " |      Return value%self.\n",
            " |  \n",
            " |  __rmul__(self, value, /)\n",
            " |      Return value*self.\n",
            " |  \n",
            " |  __round__(...)\n",
            " |  \n",
            " |  __rpow__(self, value, mod=None, /)\n",
            " |      Return pow(value, self, mod).\n",
            " |  \n",
            " |  __rsub__(self, value, /)\n",
            " |      Return value-self.\n",
            " |  \n",
            " |  __rtruediv__(self, value, /)\n",
            " |      Return value/self.\n",
            " |  \n",
            " |  __sizeof__(...)\n",
            " |      Size of object in memory, in bytes.\n",
            " |  \n",
            " |  __str__(self, /)\n",
            " |      Return str(self).\n",
            " |  \n",
            " |  __sub__(self, value, /)\n",
            " |      Return self-value.\n",
            " |  \n",
            " |  __truediv__(self, value, /)\n",
            " |      Return self/value.\n",
            " |  \n",
            " |  __trunc__(...)\n",
            " |  \n",
            " |  adjusted(self, /)\n",
            " |      Return the adjusted exponent of the number.  Defined as exp + digits - 1.\n",
            " |  \n",
            " |  as_integer_ratio(self, /)\n",
            " |      Decimal.as_integer_ratio() -> (int, int)\n",
            " |      \n",
            " |      Return a pair of integers, whose ratio is exactly equal to the original\n",
            " |      Decimal and with a positive denominator. The ratio is in lowest terms.\n",
            " |      Raise OverflowError on infinities and a ValueError on NaNs.\n",
            " |  \n",
            " |  as_tuple(self, /)\n",
            " |      Return a tuple representation of the number.\n",
            " |  \n",
            " |  canonical(self, /)\n",
            " |      Return the canonical encoding of the argument.  Currently, the encoding\n",
            " |      of a Decimal instance is always canonical, so this operation returns its\n",
            " |      argument unchanged.\n",
            " |  \n",
            " |  compare(self, /, other, context=None)\n",
            " |      Compare self to other.  Return a decimal value:\n",
            " |      \n",
            " |      a or b is a NaN ==> Decimal('NaN')\n",
            " |      a < b           ==> Decimal('-1')\n",
            " |      a == b          ==> Decimal('0')\n",
            " |      a > b           ==> Decimal('1')\n",
            " |  \n",
            " |  compare_signal(self, /, other, context=None)\n",
            " |      Identical to compare, except that all NaNs signal.\n",
            " |  \n",
            " |  compare_total(self, /, other, context=None)\n",
            " |      Compare two operands using their abstract representation rather than\n",
            " |      their numerical value.  Similar to the compare() method, but the result\n",
            " |      gives a total ordering on Decimal instances.  Two Decimal instances with\n",
            " |      the same numeric value but different representations compare unequal\n",
            " |      in this ordering:\n",
            " |      \n",
            " |          >>> Decimal('12.0').compare_total(Decimal('12'))\n",
            " |          Decimal('-1')\n",
            " |      \n",
            " |      Quiet and signaling NaNs are also included in the total ordering. The result\n",
            " |      of this function is Decimal('0') if both operands have the same representation,\n",
            " |      Decimal('-1') if the first operand is lower in the total order than the second,\n",
            " |      and Decimal('1') if the first operand is higher in the total order than the\n",
            " |      second operand. See the specification for details of the total order.\n",
            " |      \n",
            " |      This operation is unaffected by context and is quiet: no flags are changed\n",
            " |      and no rounding is performed. As an exception, the C version may raise\n",
            " |      InvalidOperation if the second operand cannot be converted exactly.\n",
            " |  \n",
            " |  compare_total_mag(self, /, other, context=None)\n",
            " |      Compare two operands using their abstract representation rather than their\n",
            " |      value as in compare_total(), but ignoring the sign of each operand.\n",
            " |      \n",
            " |      x.compare_total_mag(y) is equivalent to x.copy_abs().compare_total(y.copy_abs()).\n",
            " |      \n",
            " |      This operation is unaffected by context and is quiet: no flags are changed\n",
            " |      and no rounding is performed. As an exception, the C version may raise\n",
            " |      InvalidOperation if the second operand cannot be converted exactly.\n",
            " |  \n",
            " |  conjugate(self, /)\n",
            " |      Return self.\n",
            " |  \n",
            " |  copy_abs(self, /)\n",
            " |      Return the absolute value of the argument.  This operation is unaffected by\n",
            " |      context and is quiet: no flags are changed and no rounding is performed.\n",
            " |  \n",
            " |  copy_negate(self, /)\n",
            " |      Return the negation of the argument.  This operation is unaffected by context\n",
            " |      and is quiet: no flags are changed and no rounding is performed.\n",
            " |  \n",
            " |  copy_sign(self, /, other, context=None)\n",
            " |      Return a copy of the first operand with the sign set to be the same as the\n",
            " |      sign of the second operand. For example:\n",
            " |      \n",
            " |          >>> Decimal('2.3').copy_sign(Decimal('-1.5'))\n",
            " |          Decimal('-2.3')\n",
            " |      \n",
            " |      This operation is unaffected by context and is quiet: no flags are changed\n",
            " |      and no rounding is performed. As an exception, the C version may raise\n",
            " |      InvalidOperation if the second operand cannot be converted exactly.\n",
            " |  \n",
            " |  exp(self, /, context=None)\n",
            " |      Return the value of the (natural) exponential function e**x at the given\n",
            " |      number.  The function always uses the ROUND_HALF_EVEN mode and the result\n",
            " |      is correctly rounded.\n",
            " |  \n",
            " |  fma(self, /, other, third, context=None)\n",
            " |      Fused multiply-add.  Return self*other+third with no rounding of the\n",
            " |      intermediate product self*other.\n",
            " |      \n",
            " |          >>> Decimal(2).fma(3, 5)\n",
            " |          Decimal('11')\n",
            " |  \n",
            " |  is_canonical(self, /)\n",
            " |      Return True if the argument is canonical and False otherwise.  Currently,\n",
            " |      a Decimal instance is always canonical, so this operation always returns\n",
            " |      True.\n",
            " |  \n",
            " |  is_finite(self, /)\n",
            " |      Return True if the argument is a finite number, and False if the argument\n",
            " |      is infinite or a NaN.\n",
            " |  \n",
            " |  is_infinite(self, /)\n",
            " |      Return True if the argument is either positive or negative infinity and\n",
            " |      False otherwise.\n",
            " |  \n",
            " |  is_nan(self, /)\n",
            " |      Return True if the argument is a (quiet or signaling) NaN and False\n",
            " |      otherwise.\n",
            " |  \n",
            " |  is_normal(self, /, context=None)\n",
            " |      Return True if the argument is a normal finite non-zero number with an\n",
            " |      adjusted exponent greater than or equal to Emin. Return False if the\n",
            " |      argument is zero, subnormal, infinite or a NaN.\n",
            " |  \n",
            " |  is_qnan(self, /)\n",
            " |      Return True if the argument is a quiet NaN, and False otherwise.\n",
            " |  \n",
            " |  is_signed(self, /)\n",
            " |      Return True if the argument has a negative sign and False otherwise.\n",
            " |      Note that both zeros and NaNs can carry signs.\n",
            " |  \n",
            " |  is_snan(self, /)\n",
            " |      Return True if the argument is a signaling NaN and False otherwise.\n",
            " |  \n",
            " |  is_subnormal(self, /, context=None)\n",
            " |      Return True if the argument is subnormal, and False otherwise. A number is\n",
            " |      subnormal if it is non-zero, finite, and has an adjusted exponent less\n",
            " |      than Emin.\n",
            " |  \n",
            " |  is_zero(self, /)\n",
            " |      Return True if the argument is a (positive or negative) zero and False\n",
            " |      otherwise.\n",
            " |  \n",
            " |  ln(self, /, context=None)\n",
            " |      Return the natural (base e) logarithm of the operand. The function always\n",
            " |      uses the ROUND_HALF_EVEN mode and the result is correctly rounded.\n",
            " |  \n",
            " |  log10(self, /, context=None)\n",
            " |      Return the base ten logarithm of the operand. The function always uses the\n",
            " |      ROUND_HALF_EVEN mode and the result is correctly rounded.\n",
            " |  \n",
            " |  logb(self, /, context=None)\n",
            " |      For a non-zero number, return the adjusted exponent of the operand as a\n",
            " |      Decimal instance.  If the operand is a zero, then Decimal('-Infinity') is\n",
            " |      returned and the DivisionByZero condition is raised. If the operand is\n",
            " |      an infinity then Decimal('Infinity') is returned.\n",
            " |  \n",
            " |  logical_and(self, /, other, context=None)\n",
            " |      Return the digit-wise 'and' of the two (logical) operands.\n",
            " |  \n",
            " |  logical_invert(self, /, context=None)\n",
            " |      Return the digit-wise inversion of the (logical) operand.\n",
            " |  \n",
            " |  logical_or(self, /, other, context=None)\n",
            " |      Return the digit-wise 'or' of the two (logical) operands.\n",
            " |  \n",
            " |  logical_xor(self, /, other, context=None)\n",
            " |      Return the digit-wise 'exclusive or' of the two (logical) operands.\n",
            " |  \n",
            " |  max(self, /, other, context=None)\n",
            " |      Maximum of self and other.  If one operand is a quiet NaN and the other is\n",
            " |      numeric, the numeric operand is returned.\n",
            " |  \n",
            " |  max_mag(self, /, other, context=None)\n",
            " |      Similar to the max() method, but the comparison is done using the absolute\n",
            " |      values of the operands.\n",
            " |  \n",
            " |  min(self, /, other, context=None)\n",
            " |      Minimum of self and other. If one operand is a quiet NaN and the other is\n",
            " |      numeric, the numeric operand is returned.\n",
            " |  \n",
            " |  min_mag(self, /, other, context=None)\n",
            " |      Similar to the min() method, but the comparison is done using the absolute\n",
            " |      values of the operands.\n",
            " |  \n",
            " |  next_minus(self, /, context=None)\n",
            " |      Return the largest number representable in the given context (or in the\n",
            " |      current default context if no context is given) that is smaller than the\n",
            " |      given operand.\n",
            " |  \n",
            " |  next_plus(self, /, context=None)\n",
            " |      Return the smallest number representable in the given context (or in the\n",
            " |      current default context if no context is given) that is larger than the\n",
            " |      given operand.\n",
            " |  \n",
            " |  next_toward(self, /, other, context=None)\n",
            " |      If the two operands are unequal, return the number closest to the first\n",
            " |      operand in the direction of the second operand.  If both operands are\n",
            " |      numerically equal, return a copy of the first operand with the sign set\n",
            " |      to be the same as the sign of the second operand.\n",
            " |  \n",
            " |  normalize(self, /, context=None)\n",
            " |      Normalize the number by stripping the rightmost trailing zeros and\n",
            " |      converting any result equal to Decimal('0') to Decimal('0e0').  Used\n",
            " |      for producing canonical values for members of an equivalence class.\n",
            " |      For example, Decimal('32.100') and Decimal('0.321000e+2') both normalize\n",
            " |      to the equivalent value Decimal('32.1').\n",
            " |  \n",
            " |  number_class(self, /, context=None)\n",
            " |      Return a string describing the class of the operand.  The returned value\n",
            " |      is one of the following ten strings:\n",
            " |      \n",
            " |          * '-Infinity', indicating that the operand is negative infinity.\n",
            " |          * '-Normal', indicating that the operand is a negative normal number.\n",
            " |          * '-Subnormal', indicating that the operand is negative and subnormal.\n",
            " |          * '-Zero', indicating that the operand is a negative zero.\n",
            " |          * '+Zero', indicating that the operand is a positive zero.\n",
            " |          * '+Subnormal', indicating that the operand is positive and subnormal.\n",
            " |          * '+Normal', indicating that the operand is a positive normal number.\n",
            " |          * '+Infinity', indicating that the operand is positive infinity.\n",
            " |          * 'NaN', indicating that the operand is a quiet NaN (Not a Number).\n",
            " |          * 'sNaN', indicating that the operand is a signaling NaN.\n",
            " |  \n",
            " |  quantize(self, /, exp, rounding=None, context=None)\n",
            " |      Return a value equal to the first operand after rounding and having the\n",
            " |      exponent of the second operand.\n",
            " |      \n",
            " |          >>> Decimal('1.41421356').quantize(Decimal('1.000'))\n",
            " |          Decimal('1.414')\n",
            " |      \n",
            " |      Unlike other operations, if the length of the coefficient after the quantize\n",
            " |      operation would be greater than precision, then an InvalidOperation is signaled.\n",
            " |      This guarantees that, unless there is an error condition, the quantized exponent\n",
            " |      is always equal to that of the right-hand operand.\n",
            " |      \n",
            " |      Also unlike other operations, quantize never signals Underflow, even if the\n",
            " |      result is subnormal and inexact.\n",
            " |      \n",
            " |      If the exponent of the second operand is larger than that of the first, then\n",
            " |      rounding may be necessary. In this case, the rounding mode is determined by the\n",
            " |      rounding argument if given, else by the given context argument; if neither\n",
            " |      argument is given, the rounding mode of the current thread's context is used.\n",
            " |  \n",
            " |  radix(self, /)\n",
            " |      Return Decimal(10), the radix (base) in which the Decimal class does\n",
            " |      all its arithmetic. Included for compatibility with the specification.\n",
            " |  \n",
            " |  remainder_near(self, /, other, context=None)\n",
            " |      Return the remainder from dividing self by other.  This differs from\n",
            " |      self % other in that the sign of the remainder is chosen so as to minimize\n",
            " |      its absolute value. More precisely, the return value is self - n * other\n",
            " |      where n is the integer nearest to the exact value of self / other, and\n",
            " |      if two integers are equally near then the even one is chosen.\n",
            " |      \n",
            " |      If the result is zero then its sign will be the sign of self.\n",
            " |  \n",
            " |  rotate(self, /, other, context=None)\n",
            " |      Return the result of rotating the digits of the first operand by an amount\n",
            " |      specified by the second operand.  The second operand must be an integer in\n",
            " |      the range -precision through precision. The absolute value of the second\n",
            " |      operand gives the number of places to rotate. If the second operand is\n",
            " |      positive then rotation is to the left; otherwise rotation is to the right.\n",
            " |      The coefficient of the first operand is padded on the left with zeros to\n",
            " |      length precision if necessary. The sign and exponent of the first operand are\n",
            " |      unchanged.\n",
            " |  \n",
            " |  same_quantum(self, /, other, context=None)\n",
            " |      Test whether self and other have the same exponent or whether both are NaN.\n",
            " |      \n",
            " |      This operation is unaffected by context and is quiet: no flags are changed\n",
            " |      and no rounding is performed. As an exception, the C version may raise\n",
            " |      InvalidOperation if the second operand cannot be converted exactly.\n",
            " |  \n",
            " |  scaleb(self, /, other, context=None)\n",
            " |      Return the first operand with the exponent adjusted the second.  Equivalently,\n",
            " |      return the first operand multiplied by 10**other. The second operand must be\n",
            " |      an integer.\n",
            " |  \n",
            " |  shift(self, /, other, context=None)\n",
            " |      Return the result of shifting the digits of the first operand by an amount\n",
            " |      specified by the second operand.  The second operand must be an integer in\n",
            " |      the range -precision through precision. The absolute value of the second\n",
            " |      operand gives the number of places to shift. If the second operand is\n",
            " |      positive, then the shift is to the left; otherwise the shift is to the\n",
            " |      right. Digits shifted into the coefficient are zeros. The sign and exponent\n",
            " |      of the first operand are unchanged.\n",
            " |  \n",
            " |  sqrt(self, /, context=None)\n",
            " |      Return the square root of the argument to full precision. The result is\n",
            " |      correctly rounded using the ROUND_HALF_EVEN rounding mode.\n",
            " |  \n",
            " |  to_eng_string(self, /, context=None)\n",
            " |      Convert to an engineering-type string.  Engineering notation has an exponent\n",
            " |      which is a multiple of 3, so there are up to 3 digits left of the decimal\n",
            " |      place. For example, Decimal('123E+1') is converted to Decimal('1.23E+3').\n",
            " |      \n",
            " |      The value of context.capitals determines whether the exponent sign is lower\n",
            " |      or upper case. Otherwise, the context does not affect the operation.\n",
            " |  \n",
            " |  to_integral(self, /, rounding=None, context=None)\n",
            " |      Identical to the to_integral_value() method.  The to_integral() name has been\n",
            " |      kept for compatibility with older versions.\n",
            " |  \n",
            " |  to_integral_exact(self, /, rounding=None, context=None)\n",
            " |      Round to the nearest integer, signaling Inexact or Rounded as appropriate if\n",
            " |      rounding occurs.  The rounding mode is determined by the rounding parameter\n",
            " |      if given, else by the given context. If neither parameter is given, then the\n",
            " |      rounding mode of the current default context is used.\n",
            " |  \n",
            " |  to_integral_value(self, /, rounding=None, context=None)\n",
            " |      Round to the nearest integer without signaling Inexact or Rounded.  The\n",
            " |      rounding mode is determined by the rounding parameter if given, else by\n",
            " |      the given context. If neither parameter is given, then the rounding mode\n",
            " |      of the current default context is used.\n",
            " |  \n",
            " |  ----------------------------------------------------------------------\n",
            " |  Class methods defined here:\n",
            " |  \n",
            " |  from_float(f, /) from builtins.type\n",
            " |      Class method that converts a float to a decimal number, exactly.\n",
            " |      Since 0.1 is not exactly representable in binary floating point,\n",
            " |      Decimal.from_float(0.1) is not the same as Decimal('0.1').\n",
            " |      \n",
            " |          >>> Decimal.from_float(0.1)\n",
            " |          Decimal('0.1000000000000000055511151231257827021181583404541015625')\n",
            " |          >>> Decimal.from_float(float('nan'))\n",
            " |          Decimal('NaN')\n",
            " |          >>> Decimal.from_float(float('inf'))\n",
            " |          Decimal('Infinity')\n",
            " |          >>> Decimal.from_float(float('-inf'))\n",
            " |          Decimal('-Infinity')\n",
            " |  \n",
            " |  ----------------------------------------------------------------------\n",
            " |  Static methods defined here:\n",
            " |  \n",
            " |  __new__(*args, **kwargs) from builtins.type\n",
            " |      Create and return a new object.  See help(type) for accurate signature.\n",
            " |  \n",
            " |  ----------------------------------------------------------------------\n",
            " |  Data descriptors defined here:\n",
            " |  \n",
            " |  imag\n",
            " |  \n",
            " |  real\n",
            "\n"
          ],
          "name": "stdout"
        }
      ]
    },
    {
      "cell_type": "code",
      "metadata": {
        "tags": [],
        "cell_id": "00137-7a8cbbb9-0c47-4921-94d9-56061c03097a",
        "deepnote_to_be_reexecuted": false,
        "source_hash": "40087615",
        "execution_start": 1611372192029,
        "execution_millis": 0,
        "deepnote_cell_type": "code",
        "id": "ZiiXs53JDBNW"
      },
      "source": [
        "# Global Context"
      ],
      "execution_count": null,
      "outputs": []
    },
    {
      "cell_type": "code",
      "metadata": {
        "tags": [],
        "cell_id": "00138-45ef7864-1407-430b-9c9e-50925b9b5665",
        "deepnote_to_be_reexecuted": false,
        "source_hash": "ad9d6b70",
        "execution_millis": 1,
        "execution_start": 1611372274592,
        "deepnote_cell_type": "code",
        "id": "wf0J8ITwDBNW"
      },
      "source": [
        "import decimal"
      ],
      "execution_count": null,
      "outputs": []
    },
    {
      "cell_type": "code",
      "metadata": {
        "tags": [],
        "cell_id": "00139-eed4c167-d14f-48f9-b3dc-86a7ddde1e85",
        "deepnote_to_be_reexecuted": false,
        "source_hash": "a09c4850",
        "execution_start": 1611372292156,
        "execution_millis": 2,
        "deepnote_cell_type": "code",
        "id": "nSr6KT2vDBNW",
        "outputId": "21687eba-3f89-486c-ae5b-987710620d63"
      },
      "source": [
        "g_ctx = decimal.getcontext()\n",
        "\n",
        "g_ctx"
      ],
      "execution_count": null,
      "outputs": [
        {
          "output_type": "execute_result",
          "data": {
            "text/plain": [
              "Context(prec=28, rounding=ROUND_HALF_EVEN, Emin=-999999, Emax=999999, capitals=1, clamp=0, flags=[], traps=[InvalidOperation, DivisionByZero, Overflow])"
            ]
          },
          "metadata": {
            "tags": []
          },
          "execution_count": 241
        }
      ]
    },
    {
      "cell_type": "code",
      "metadata": {
        "tags": [],
        "cell_id": "00140-814d8429-41ab-4471-a782-686d6fa2bc73",
        "deepnote_to_be_reexecuted": false,
        "source_hash": "671ade52",
        "execution_start": 1611372320557,
        "execution_millis": 2,
        "deepnote_cell_type": "code",
        "id": "ydiLIpaHDBNW",
        "outputId": "4e21227c-4e60-43f1-ca90-36c3ae5b0a08"
      },
      "source": [
        "g_ctx.prec"
      ],
      "execution_count": null,
      "outputs": [
        {
          "output_type": "execute_result",
          "data": {
            "text/plain": [
              "28"
            ]
          },
          "metadata": {
            "tags": []
          },
          "execution_count": 242
        }
      ]
    },
    {
      "cell_type": "code",
      "metadata": {
        "tags": [],
        "cell_id": "00141-e1c5c463-690b-436e-8755-36aef1162097",
        "deepnote_to_be_reexecuted": false,
        "source_hash": "50cc8620",
        "execution_start": 1611372330480,
        "execution_millis": 0,
        "deepnote_cell_type": "code",
        "id": "19v1RMyXDBNX",
        "outputId": "1d381942-d160-4559-b463-424b3814304f"
      },
      "source": [
        "g_ctx.rounding"
      ],
      "execution_count": null,
      "outputs": [
        {
          "output_type": "execute_result",
          "data": {
            "text/plain": [
              "'ROUND_HALF_EVEN'"
            ]
          },
          "metadata": {
            "tags": []
          },
          "execution_count": 243
        }
      ]
    },
    {
      "cell_type": "code",
      "metadata": {
        "tags": [],
        "cell_id": "00142-b1a3be7b-97f4-41d8-8138-04768bee48e7",
        "deepnote_to_be_reexecuted": false,
        "source_hash": "4e2ecff",
        "execution_start": 1611372339617,
        "execution_millis": 1,
        "deepnote_cell_type": "code",
        "id": "XAAqimA-DBNk"
      },
      "source": [
        "g_ctx.prec = 6"
      ],
      "execution_count": null,
      "outputs": []
    },
    {
      "cell_type": "code",
      "metadata": {
        "tags": [],
        "cell_id": "00143-aa6d2334-08b6-4a15-a258-31057966604f",
        "deepnote_to_be_reexecuted": false,
        "source_hash": "c1314c0",
        "execution_start": 1611372358333,
        "execution_millis": 3,
        "deepnote_cell_type": "code",
        "id": "XrlI_QrmDBNl"
      },
      "source": [
        "g_ctx.rounding = decimal.ROUND_HALF_UP"
      ],
      "execution_count": null,
      "outputs": []
    },
    {
      "cell_type": "code",
      "metadata": {
        "tags": [],
        "cell_id": "00144-f35f0990-c03f-43a7-a52b-043f96954b5d",
        "deepnote_to_be_reexecuted": false,
        "source_hash": "671ade52",
        "execution_millis": 1,
        "execution_start": 1611372406808,
        "deepnote_cell_type": "code",
        "id": "UN_oRnYUDBNl",
        "outputId": "f0fae92e-7250-4ce6-924f-bfd5d8a4da65"
      },
      "source": [
        "g_ctx.prec"
      ],
      "execution_count": null,
      "outputs": [
        {
          "output_type": "execute_result",
          "data": {
            "text/plain": [
              "6"
            ]
          },
          "metadata": {
            "tags": []
          },
          "execution_count": 248
        }
      ]
    },
    {
      "cell_type": "code",
      "metadata": {
        "tags": [],
        "cell_id": "00145-b32b5208-d274-4dcc-be18-5a08fe579036",
        "deepnote_to_be_reexecuted": false,
        "source_hash": "3fff1c12",
        "execution_millis": 0,
        "execution_start": 1611372432415,
        "deepnote_cell_type": "code",
        "id": "NYXSVokCDBNl"
      },
      "source": [
        "decimal.getcontext().prec = 6"
      ],
      "execution_count": null,
      "outputs": []
    },
    {
      "cell_type": "code",
      "metadata": {
        "tags": [],
        "cell_id": "00146-56fd58fc-5cc3-4be7-8395-469883791108",
        "deepnote_to_be_reexecuted": false,
        "source_hash": "9b51fddb",
        "execution_millis": 1,
        "execution_start": 1611372479581,
        "deepnote_cell_type": "code",
        "id": "rZuAO8WyDBNl",
        "outputId": "6b8e22ec-e9a9-48c0-9802-8489f30f42f6"
      },
      "source": [
        "decimal.getcontext().prec"
      ],
      "execution_count": null,
      "outputs": [
        {
          "output_type": "execute_result",
          "data": {
            "text/plain": [
              "28"
            ]
          },
          "metadata": {
            "tags": []
          },
          "execution_count": 252
        }
      ]
    },
    {
      "cell_type": "code",
      "metadata": {
        "tags": [],
        "cell_id": "00147-cdd08030-3fec-41f6-b540-69f99c80e440",
        "deepnote_to_be_reexecuted": false,
        "source_hash": "ad9d6b70",
        "execution_start": 1611372525185,
        "execution_millis": 0,
        "deepnote_cell_type": "code",
        "id": "nu7ZlTwWDBNm"
      },
      "source": [
        "import decimal"
      ],
      "execution_count": null,
      "outputs": []
    },
    {
      "cell_type": "code",
      "metadata": {
        "tags": [],
        "cell_id": "00148-4fa5b749-9e9e-4ac1-891e-6dcac4513d96",
        "deepnote_to_be_reexecuted": false,
        "source_hash": "9b51fddb",
        "execution_start": 1611372533727,
        "execution_millis": 1,
        "deepnote_cell_type": "code",
        "id": "0MyfsnA0DBNm",
        "outputId": "e2ea23ab-6da0-4bbe-815d-acfe3f1f4ed3"
      },
      "source": [
        "decimal.getcontext().prec"
      ],
      "execution_count": null,
      "outputs": [
        {
          "output_type": "execute_result",
          "data": {
            "text/plain": [
              "28"
            ]
          },
          "metadata": {
            "tags": []
          },
          "execution_count": 254
        }
      ]
    },
    {
      "cell_type": "code",
      "metadata": {
        "tags": [],
        "cell_id": "00149-25f88481-2abb-41b7-9eed-6bb5e61c934c",
        "deepnote_to_be_reexecuted": false,
        "source_hash": "adabc8be",
        "execution_start": 1611372541283,
        "execution_millis": 3,
        "deepnote_cell_type": "code",
        "id": "PR2dd1I7DBNm",
        "outputId": "865436f4-9112-4f80-d384-729db60f53df"
      },
      "source": [
        "decimal.getcontext().prec = 6\n",
        "\n",
        "decimal.getcontext().prec"
      ],
      "execution_count": null,
      "outputs": [
        {
          "output_type": "execute_result",
          "data": {
            "text/plain": [
              "6"
            ]
          },
          "metadata": {
            "tags": []
          },
          "execution_count": 255
        }
      ]
    },
    {
      "cell_type": "code",
      "metadata": {
        "tags": [],
        "cell_id": "00150-bec5c50c-1731-497d-8e53-fbdfc48925aa",
        "deepnote_to_be_reexecuted": false,
        "source_hash": "1e4be2cd",
        "execution_start": 1611372553481,
        "execution_millis": 1,
        "deepnote_cell_type": "code",
        "id": "aySWWob-DBNm"
      },
      "source": [
        "decimal.getcontext().prec = 28"
      ],
      "execution_count": null,
      "outputs": []
    },
    {
      "cell_type": "code",
      "metadata": {
        "tags": [],
        "cell_id": "00151-d1d6e837-d0ba-4e99-a743-fc359918115a",
        "deepnote_to_be_reexecuted": false,
        "source_hash": "9b51fddb",
        "execution_start": 1611372556648,
        "execution_millis": 1,
        "deepnote_cell_type": "code",
        "id": "EG-2w9lqDBNm",
        "outputId": "b8fcfa65-32b8-4bca-aac3-de9a04fa7589"
      },
      "source": [
        "decimal.getcontext().prec"
      ],
      "execution_count": null,
      "outputs": [
        {
          "output_type": "execute_result",
          "data": {
            "text/plain": [
              "28"
            ]
          },
          "metadata": {
            "tags": []
          },
          "execution_count": 257
        }
      ]
    },
    {
      "cell_type": "code",
      "metadata": {
        "tags": [],
        "cell_id": "00152-72a73afe-0479-41d4-9965-ac1a2e73bb3b",
        "deepnote_to_be_reexecuted": false,
        "source_hash": "7bffd303",
        "execution_start": 1611372614400,
        "execution_millis": 1,
        "deepnote_cell_type": "code",
        "id": "571Tq_TtDBNn",
        "outputId": "49c2cd16-5ab2-4544-c4ef-1d491a2e41f2"
      },
      "source": [
        "with decimal.localcontext() as ctx:\n",
        "    print(ctx.prec)\n",
        "    print(ctx.rounding)"
      ],
      "execution_count": null,
      "outputs": [
        {
          "output_type": "stream",
          "text": [
            "28\n",
            "ROUND_HALF_EVEN\n"
          ],
          "name": "stdout"
        }
      ]
    },
    {
      "cell_type": "code",
      "metadata": {
        "tags": [],
        "cell_id": "00153-395c8011-b3b1-4cc0-8753-4e8d8bedecae",
        "deepnote_to_be_reexecuted": false,
        "source_hash": "3d6b9d83",
        "execution_millis": 1,
        "execution_start": 1611372652053,
        "deepnote_cell_type": "code",
        "id": "hHiRIthsDBNn",
        "outputId": "a7d5f38c-99d1-454a-8ef7-01584167ff9b"
      },
      "source": [
        "with decimal.localcontext() as ctx:\n",
        "    ctx.prec = 10\n",
        "    print(ctx.prec)\n",
        "    print(ctx.rounding)\n",
        "\n",
        "decimal.getcontext().prec"
      ],
      "execution_count": null,
      "outputs": [
        {
          "output_type": "stream",
          "text": [
            "10\n",
            "ROUND_HALF_EVEN\n"
          ],
          "name": "stdout"
        },
        {
          "output_type": "execute_result",
          "data": {
            "text/plain": [
              "28"
            ]
          },
          "metadata": {
            "tags": []
          },
          "execution_count": 260
        }
      ]
    },
    {
      "cell_type": "code",
      "metadata": {
        "tags": [],
        "cell_id": "00154-58bb2a4b-423b-48ef-98cc-87b9f22a0b46",
        "deepnote_to_be_reexecuted": false,
        "source_hash": "92ee98e6",
        "execution_millis": 3,
        "execution_start": 1611372740897,
        "deepnote_cell_type": "code",
        "id": "qIXYHxiEDBNn"
      },
      "source": [
        "decimal.getcontext().rounding = decimal.ROUND_HALF_EVEN"
      ],
      "execution_count": null,
      "outputs": []
    },
    {
      "cell_type": "code",
      "metadata": {
        "tags": [],
        "cell_id": "00155-95f138eb-ba05-4572-876e-e3e3eb393929",
        "deepnote_to_be_reexecuted": false,
        "source_hash": "333deb81",
        "execution_start": 1611372764385,
        "execution_millis": 0,
        "deepnote_cell_type": "code",
        "id": "aSrvenOEDBNo",
        "outputId": "ffa505fd-e867-42c6-e3e8-1055d4d4249d"
      },
      "source": [
        "x = Decimal('1.25')\n",
        "y = Decimal('1.35')\n",
        "\n",
        "print(round(x, 1), round(y, 1))"
      ],
      "execution_count": null,
      "outputs": [
        {
          "output_type": "stream",
          "text": [
            "1.2 1.4\n"
          ],
          "name": "stdout"
        }
      ]
    },
    {
      "cell_type": "code",
      "metadata": {
        "tags": [],
        "cell_id": "00156-d599a963-42c0-4600-a01b-9ed87bb7dc2e",
        "deepnote_to_be_reexecuted": false,
        "source_hash": "8545e9f8",
        "execution_millis": 3,
        "execution_start": 1611372793488,
        "deepnote_cell_type": "code",
        "id": "KCduW509DBNo",
        "outputId": "39e109ee-481a-4a7b-9118-ea04a3bf993d"
      },
      "source": [
        "decimal.getcontext().rounding = decimal.ROUND_HALF_UP\n",
        "x = Decimal('1.25')\n",
        "y = Decimal('1.35')\n",
        "\n",
        "print(round(x, 1), round(y, 1))"
      ],
      "execution_count": null,
      "outputs": [
        {
          "output_type": "stream",
          "text": [
            "1.3 1.4\n"
          ],
          "name": "stdout"
        }
      ]
    },
    {
      "cell_type": "code",
      "metadata": {
        "tags": [],
        "cell_id": "00157-e13c3269-73e1-4786-8c51-2f305bbb8c48",
        "deepnote_to_be_reexecuted": false,
        "source_hash": "3809cd13",
        "execution_start": 1611372891623,
        "execution_millis": 1,
        "deepnote_cell_type": "code",
        "id": "j0d7Mol2DBNo",
        "outputId": "b29a422c-0374-41a4-d24d-4ac60ce48e7d"
      },
      "source": [
        "decimal.getcontext().rounding = decimal.ROUND_HALF_EVEN\n",
        "\n",
        "x = Decimal('1.25')\n",
        "y = Decimal('1.35')\n",
        "\n",
        "print(round(x, 1), round(y, 1))\n",
        "\n",
        "with decimal.localcontext() as ctx:\n",
        "    ctx.rounding = decimal.ROUND_HALF_UP\n",
        "    print(round(x, 1), round(y, 1))\n",
        "\n",
        "print(round(x, 1), round(y, 1))    "
      ],
      "execution_count": null,
      "outputs": [
        {
          "output_type": "stream",
          "text": [
            "1.2 1.4\n",
            "1.3 1.4\n",
            "1.2 1.4\n"
          ],
          "name": "stdout"
        }
      ]
    },
    {
      "cell_type": "code",
      "metadata": {
        "tags": [],
        "cell_id": "00158-9552d3ba-6147-458a-9fe5-7718ab887084",
        "deepnote_to_be_reexecuted": false,
        "source_hash": "3d7a2b3c",
        "execution_start": 1611372923565,
        "execution_millis": 0,
        "deepnote_cell_type": "code",
        "id": "yNVAbe5KDBNo"
      },
      "source": [
        "# Div // Mod %\n",
        "\n",
        "# integer division for Decimals is performed differently, and it results in a truncated divisio, \n",
        "# whereas integers use a floored division\n",
        "\n",
        "# n = d * (n // d) + (n % d)"
      ],
      "execution_count": null,
      "outputs": []
    },
    {
      "cell_type": "code",
      "metadata": {
        "tags": [],
        "cell_id": "00159-6ff06aad-00c8-470f-b37a-324137866121",
        "deepnote_to_be_reexecuted": false,
        "source_hash": "fd3e9be",
        "execution_start": 1611373031617,
        "execution_millis": 1,
        "deepnote_cell_type": "code",
        "id": "TsWdC-aODBNp"
      },
      "source": [
        "import decimal\n",
        "from decimal import Decimal"
      ],
      "execution_count": null,
      "outputs": []
    },
    {
      "cell_type": "code",
      "metadata": {
        "tags": [],
        "cell_id": "00160-cdfe5289-a5e0-4df7-8bf0-65edde74ffd8",
        "deepnote_to_be_reexecuted": false,
        "source_hash": "c3ea7ef9",
        "execution_start": 1611373068769,
        "execution_millis": 1,
        "deepnote_cell_type": "code",
        "id": "rd9OIPrfDBNp",
        "outputId": "b9658bdc-44ee-442c-bc0c-122340233fc7"
      },
      "source": [
        "x = 10\n",
        "y = 3\n",
        "\n",
        "print(x // y, x%y)\n",
        "print(divmod(x, y))\n",
        "print(x == y * (x // y) + x % y)"
      ],
      "execution_count": null,
      "outputs": [
        {
          "output_type": "stream",
          "text": [
            "3 1\n",
            "(3, 1)\n",
            "True\n"
          ],
          "name": "stdout"
        }
      ]
    },
    {
      "cell_type": "code",
      "metadata": {
        "tags": [],
        "cell_id": "00161-40ad333c-2c24-474e-b024-9b6446231e4e",
        "deepnote_to_be_reexecuted": false,
        "source_hash": "14d9f1d",
        "execution_start": 1611373102297,
        "execution_millis": 0,
        "deepnote_cell_type": "code",
        "id": "0oGz06UfDBNp",
        "outputId": "704a6645-eb0a-4dd9-ed20-32123e286100"
      },
      "source": [
        "x = Decimal('10')\n",
        "y = Decimal('3')\n",
        "\n",
        "print(x // y, x%y)\n",
        "print(divmod(x, y))\n",
        "print(x == y * (x // y) + x % y)"
      ],
      "execution_count": null,
      "outputs": [
        {
          "output_type": "stream",
          "text": [
            "3 1\n",
            "(Decimal('3'), Decimal('1'))\n",
            "True\n"
          ],
          "name": "stdout"
        }
      ]
    },
    {
      "cell_type": "code",
      "metadata": {
        "tags": [],
        "cell_id": "00162-d78f70c7-0795-4b3c-85ce-256ea27a3be0",
        "deepnote_to_be_reexecuted": false,
        "source_hash": "d985a491",
        "execution_start": 1611373129133,
        "execution_millis": 0,
        "deepnote_cell_type": "code",
        "id": "BjhfvFTDDBNq",
        "outputId": "15b001f1-d6e8-42cc-e404-cf6cd5716295"
      },
      "source": [
        "x = -10\n",
        "y = 3\n",
        "\n",
        "print(x // y, x%y) # floor\n",
        "print(divmod(x, y))\n",
        "print(x == y * (x // y) + x % y)"
      ],
      "execution_count": null,
      "outputs": [
        {
          "output_type": "stream",
          "text": [
            "-4 2\n",
            "(-4, 2)\n",
            "True\n"
          ],
          "name": "stdout"
        }
      ]
    },
    {
      "cell_type": "code",
      "metadata": {
        "tags": [],
        "cell_id": "00163-7b067043-5ebe-464a-a9dd-a0ee2cfb1d80",
        "deepnote_to_be_reexecuted": false,
        "source_hash": "d8a14e2",
        "execution_start": 1611373141822,
        "execution_millis": 1,
        "deepnote_cell_type": "code",
        "id": "WD3Cp8cMDBNq",
        "outputId": "de8acc6a-6e70-4d00-f260-cd9c6cd7bf8c"
      },
      "source": [
        "x = Decimal('-10')\n",
        "y = Decimal('3')\n",
        "\n",
        "print(x // y, x%y) # trunc\n",
        "print(divmod(x, y))\n",
        "print(x == y * (x // y) + x % y)"
      ],
      "execution_count": null,
      "outputs": [
        {
          "output_type": "stream",
          "text": [
            "-3 -1\n",
            "(Decimal('-3'), Decimal('-1'))\n",
            "True\n"
          ],
          "name": "stdout"
        }
      ]
    },
    {
      "cell_type": "code",
      "metadata": {
        "tags": [],
        "cell_id": "00164-e1f4e13d-b7df-462a-8df4-eaca155d4a17",
        "deepnote_to_be_reexecuted": false,
        "source_hash": "2d2f1115",
        "execution_millis": 0,
        "execution_start": 1611373253167,
        "deepnote_cell_type": "code",
        "id": "cXVORIu3DBNq",
        "outputId": "c89c1436-4b19-48cf-8b17-e4b4a8b4c1cc"
      },
      "source": [
        "a = Decimal('1.5')\n",
        "\n",
        "a.log10(), a.ln(), a.exp(), a.sqrt()"
      ],
      "execution_count": null,
      "outputs": [
        {
          "output_type": "execute_result",
          "data": {
            "text/plain": [
              "(Decimal('0.1760912590556812420812890085'),\n",
              " Decimal('0.4054651081081643819780131155'),\n",
              " Decimal('4.481689070338064822602055460'),\n",
              " Decimal('1.224744871391589049098642037'))"
            ]
          },
          "metadata": {
            "tags": []
          },
          "execution_count": 276
        }
      ]
    },
    {
      "cell_type": "code",
      "metadata": {
        "tags": [],
        "cell_id": "00165-324391d6-c6e6-44d7-a359-3dc1bf4d2660",
        "deepnote_to_be_reexecuted": false,
        "source_hash": "12ae3364",
        "execution_start": 1611373275973,
        "execution_millis": 0,
        "deepnote_cell_type": "code",
        "id": "7LSVzHHuDBNq"
      },
      "source": [
        "x = 2\n",
        "\n",
        "x_dec = Decimal(2)"
      ],
      "execution_count": null,
      "outputs": []
    },
    {
      "cell_type": "code",
      "metadata": {
        "tags": [],
        "cell_id": "00166-5aa9b31d-1dc8-4f7c-8689-aeba9409cacb",
        "deepnote_to_be_reexecuted": false,
        "source_hash": "e43b49e3",
        "execution_start": 1611373318020,
        "execution_millis": 0,
        "deepnote_cell_type": "code",
        "id": "B8gm_fcmDBNr"
      },
      "source": [
        "import math\n",
        "\n",
        "root_float = math.sqrt(x)\n",
        "root_mixed = math.sqrt(x_dec)\n",
        "root_dec = x_dec.sqrt()"
      ],
      "execution_count": null,
      "outputs": []
    },
    {
      "cell_type": "code",
      "metadata": {
        "tags": [],
        "cell_id": "00167-8b74e855-65b8-49e7-a89f-11621d00edb4",
        "deepnote_to_be_reexecuted": false,
        "source_hash": "78970396",
        "execution_start": 1611373353364,
        "execution_millis": 1,
        "deepnote_cell_type": "code",
        "id": "LHFHrLWTDBNr",
        "outputId": "af92d8d6-a2de-4572-acf8-f5b8940bdf54"
      },
      "source": [
        "format(root_float, '1.27f'), format(root_mixed, '1.27f'), format(root_dec, '1.27f')"
      ],
      "execution_count": null,
      "outputs": [
        {
          "output_type": "execute_result",
          "data": {
            "text/plain": [
              "('1.414213562373095145474621859',\n",
              " '1.414213562373095145474621859',\n",
              " '1.414213562373095048801688724')"
            ]
          },
          "metadata": {
            "tags": []
          },
          "execution_count": 279
        }
      ]
    },
    {
      "cell_type": "code",
      "metadata": {
        "tags": [],
        "cell_id": "00168-2b56c0c6-1b45-49c9-b7ef-87c75b882051",
        "deepnote_to_be_reexecuted": false,
        "source_hash": "fdedd552",
        "execution_start": 1611373405713,
        "execution_millis": 1,
        "deepnote_cell_type": "code",
        "id": "iz9cLd-tDBNr",
        "outputId": "412c40ce-dae5-4ae9-b8b7-e8849be65ae6"
      },
      "source": [
        "print(format(root_float * root_float, '1.27f'))\n",
        "print(format(root_mixed * root_mixed, '1.27f'))\n",
        "print(root_dec * root_dec)"
      ],
      "execution_count": null,
      "outputs": [
        {
          "output_type": "stream",
          "text": [
            "2.000000000000000444089209850\n",
            "2.000000000000000444089209850\n",
            "1.999999999999999999999999999\n"
          ],
          "name": "stdout"
        }
      ]
    },
    {
      "cell_type": "code",
      "metadata": {
        "tags": [],
        "cell_id": "00169-066066de-42b2-4252-b855-93694ba2e61f",
        "deepnote_to_be_reexecuted": false,
        "source_hash": "a2118e3",
        "execution_start": 1611373438098,
        "execution_millis": 0,
        "deepnote_cell_type": "code",
        "id": "ZYzy_iTUDBNs",
        "outputId": "d8a42db4-6474-447c-a471-c5e5593cfa6c"
      },
      "source": [
        "x = 0.01\n",
        "x_dec = Decimal('0.01')\n",
        "\n",
        "root_float = math.sqrt(x)\n",
        "root_mixed = math.sqrt(x_dec)\n",
        "root_dec = x_dec.sqrt()\n",
        "\n",
        "print(format(root_float, '1.27f'))\n",
        "print(format(root_mixed, '1.27f'))\n",
        "print(root_dec)"
      ],
      "execution_count": null,
      "outputs": [
        {
          "output_type": "stream",
          "text": [
            "0.100000000000000005551115123\n",
            "0.100000000000000005551115123\n",
            "0.1\n"
          ],
          "name": "stdout"
        }
      ]
    },
    {
      "cell_type": "code",
      "metadata": {
        "tags": [],
        "cell_id": "00170-cf7352ff-d2f6-4345-97de-3df8050c49ad",
        "deepnote_to_be_reexecuted": false,
        "source_hash": "fdedd552",
        "execution_start": 1611373449293,
        "execution_millis": 1,
        "deepnote_cell_type": "code",
        "id": "2cNxQAdsDBNs",
        "outputId": "199bb37a-6ce7-4644-fb86-b730d036d3b7"
      },
      "source": [
        "print(format(root_float * root_float, '1.27f'))\n",
        "print(format(root_mixed * root_mixed, '1.27f'))\n",
        "print(root_dec * root_dec)"
      ],
      "execution_count": null,
      "outputs": [
        {
          "output_type": "stream",
          "text": [
            "0.010000000000000001942890293\n",
            "0.010000000000000001942890293\n",
            "0.01\n"
          ],
          "name": "stdout"
        }
      ]
    },
    {
      "cell_type": "code",
      "metadata": {
        "tags": [],
        "cell_id": "00171-45f3f70b-5b63-4a2f-81f3-ccc0c8312823",
        "deepnote_to_be_reexecuted": false,
        "source_hash": "f0c8df1f",
        "execution_start": 1611373472485,
        "execution_millis": 2,
        "deepnote_cell_type": "code",
        "id": "RWdOxFxzDBNs"
      },
      "source": [
        "# Decimal Performance\n",
        "\n",
        "# Memory!!!"
      ],
      "execution_count": null,
      "outputs": []
    },
    {
      "cell_type": "code",
      "metadata": {
        "tags": [],
        "cell_id": "00172-7594ec70-c4df-4f4c-a851-5dcdedf0a1d7",
        "deepnote_to_be_reexecuted": false,
        "source_hash": "6dd97041",
        "execution_start": 1611373487405,
        "execution_millis": 3,
        "deepnote_cell_type": "code",
        "id": "859z4Vj8DBNs"
      },
      "source": [
        "import sys\n",
        "from decimal import Decimal"
      ],
      "execution_count": null,
      "outputs": []
    },
    {
      "cell_type": "code",
      "metadata": {
        "tags": [],
        "cell_id": "00173-63fa97fe-aafe-49b7-840c-8a494abc9d09",
        "deepnote_to_be_reexecuted": false,
        "source_hash": "be12ce6e",
        "execution_start": 1611373501834,
        "execution_millis": 3,
        "deepnote_cell_type": "code",
        "id": "zYPWdXIfDBNs"
      },
      "source": [
        "a = 3.1415\n",
        "b = Decimal('3.1415')"
      ],
      "execution_count": null,
      "outputs": []
    },
    {
      "cell_type": "code",
      "metadata": {
        "tags": [],
        "cell_id": "00174-0bf8eb10-b707-48a3-b7a6-84242fc1c90e",
        "deepnote_to_be_reexecuted": false,
        "source_hash": "adea2ac7",
        "execution_start": 1611373511288,
        "execution_millis": 6,
        "deepnote_cell_type": "code",
        "id": "gf7YKbFdDBNt",
        "outputId": "ba76ec73-b6b2-4526-c80e-efa3277e8730"
      },
      "source": [
        "sys.getsizeof(a)"
      ],
      "execution_count": null,
      "outputs": [
        {
          "output_type": "execute_result",
          "data": {
            "text/plain": [
              "24"
            ]
          },
          "metadata": {
            "tags": []
          },
          "execution_count": 286
        }
      ]
    },
    {
      "cell_type": "code",
      "metadata": {
        "tags": [],
        "cell_id": "00175-4a698e0f-bbde-4e3b-933d-a73dbf3913b0",
        "deepnote_to_be_reexecuted": false,
        "source_hash": "eb1a7ab6",
        "execution_start": 1611373524460,
        "execution_millis": 1,
        "deepnote_cell_type": "code",
        "id": "u-JfVDI7DBNt",
        "outputId": "a740dde4-5a8e-4483-8a49-316e0abc55ec"
      },
      "source": [
        "sys.getsizeof(b)"
      ],
      "execution_count": null,
      "outputs": [
        {
          "output_type": "execute_result",
          "data": {
            "text/plain": [
              "104"
            ]
          },
          "metadata": {
            "tags": []
          },
          "execution_count": 287
        }
      ]
    },
    {
      "cell_type": "code",
      "metadata": {
        "tags": [],
        "cell_id": "00176-78a89e41-e1a6-41fe-bf50-a1b5424b54d0",
        "deepnote_to_be_reexecuted": false,
        "source_hash": "b6adade8",
        "execution_millis": 7,
        "execution_start": 1611373636853,
        "deepnote_cell_type": "code",
        "id": "0mY9rSXfDBNt"
      },
      "source": [
        "import time\n",
        "from decimal import Decimal\n",
        "\n",
        "def run_float(n = 1):\n",
        "    for i in range(n):\n",
        "        a = 3.1415\n",
        "\n",
        "def run_decimal(n = 1):\n",
        "    for i in range(n):\n",
        "        a = Decimal('3.1415')\n"
      ],
      "execution_count": null,
      "outputs": []
    },
    {
      "cell_type": "code",
      "metadata": {
        "tags": [],
        "cell_id": "00177-b0c503e8-ffd6-4641-9666-994c35f56958",
        "deepnote_to_be_reexecuted": false,
        "source_hash": "d617a292",
        "execution_millis": 1,
        "execution_start": 1611373637919,
        "deepnote_cell_type": "code",
        "id": "wHuHyHtLDBNu"
      },
      "source": [
        "n = 10_000_000"
      ],
      "execution_count": null,
      "outputs": []
    },
    {
      "cell_type": "code",
      "metadata": {
        "tags": [],
        "cell_id": "00178-55e4488b-4ce2-44a9-a378-d14b19b3731b",
        "deepnote_to_be_reexecuted": false,
        "source_hash": "580608cb",
        "execution_start": 1611373666109,
        "execution_millis": 177,
        "deepnote_cell_type": "code",
        "id": "suU6qV7aDBNu",
        "outputId": "d166ea70-2368-4ede-f3fa-03ac5adaf616"
      },
      "source": [
        "start = time.perf_counter()\n",
        "run_float(n)\n",
        "end = time.perf_counter()\n",
        "\n",
        "print(f'FLOAT: {end - start}')"
      ],
      "execution_count": null,
      "outputs": [
        {
          "output_type": "stream",
          "text": [
            "FLOAT: 0.24654379099956714\n"
          ],
          "name": "stdout"
        }
      ]
    },
    {
      "cell_type": "code",
      "metadata": {
        "tags": [],
        "cell_id": "00179-7f14d3e3-6b75-43a0-982a-170d9a3b55cb",
        "deepnote_to_be_reexecuted": false,
        "source_hash": "62fba14d",
        "execution_millis": 1935,
        "execution_start": 1611373679706,
        "deepnote_cell_type": "code",
        "id": "9XMuE8F3DBNu",
        "outputId": "b5ecfaa0-af4a-4d24-bc1f-f70620b69b55"
      },
      "source": [
        "start = time.perf_counter()\n",
        "run_decimal(n)\n",
        "end = time.perf_counter()\n",
        "\n",
        "print(f'DECIMAL: {end - start}')"
      ],
      "execution_count": null,
      "outputs": [
        {
          "output_type": "stream",
          "text": [
            "DECIMAL: 1.9552425709844101\n"
          ],
          "name": "stdout"
        }
      ]
    },
    {
      "cell_type": "code",
      "metadata": {
        "tags": [],
        "cell_id": "00180-910b5924-f263-45e2-aae0-4589f680fe7b",
        "deepnote_to_be_reexecuted": false,
        "source_hash": "759c61",
        "execution_start": 1611373770511,
        "execution_millis": 1127,
        "deepnote_cell_type": "code",
        "id": "udDHICguDBNu",
        "outputId": "67798176-f538-4ae8-d87e-3113fd27aede"
      },
      "source": [
        "def run_float(n = 1):\n",
        "    a = 3.1415\n",
        "    for i in range(n):\n",
        "        a + a\n",
        "\n",
        "def run_decimal(n = 1):\n",
        "    a = Decimal('3.1415')\n",
        "    for i in range(n):\n",
        "        a + a\n",
        "\n",
        "\n",
        "start = time.perf_counter()\n",
        "run_float(n)\n",
        "end = time.perf_counter()\n",
        "\n",
        "start_d = time.perf_counter()\n",
        "run_decimal(n)\n",
        "end_d = time.perf_counter()\n",
        "\n",
        "print(f'FLOAT: {end - start}')\n",
        "print(f'DECIMAL: {end_d - start_d}')"
      ],
      "execution_count": null,
      "outputs": [
        {
          "output_type": "stream",
          "text": [
            "FLOAT: 0.35158093299833126\n",
            "DECIMAL: 0.8107860859890934\n"
          ],
          "name": "stdout"
        }
      ]
    },
    {
      "cell_type": "code",
      "metadata": {
        "tags": [],
        "cell_id": "00181-98546dbf-e1e9-4caa-9bd6-cbf767037808",
        "deepnote_to_be_reexecuted": false,
        "source_hash": "21f0c5ac",
        "execution_start": 1611373827554,
        "execution_millis": 14575,
        "deepnote_cell_type": "code",
        "id": "WlP9aibKDBNv",
        "outputId": "697e4dbd-6a84-4bb0-d6dd-da0e139010d7"
      },
      "source": [
        "n = 5_000_000\n",
        "\n",
        "def run_float(n = 1):\n",
        "    a = 3.1415\n",
        "    for i in range(n):\n",
        "        math.sqrt(a)\n",
        "\n",
        "def run_decimal(n = 1):\n",
        "    a = Decimal('3.1415')\n",
        "    for i in range(n):\n",
        "        a.sqrt()\n",
        "\n",
        "\n",
        "start = time.perf_counter()\n",
        "run_float(n)\n",
        "end = time.perf_counter()\n",
        "\n",
        "start_d = time.perf_counter()\n",
        "run_decimal(n)\n",
        "end_d = time.perf_counter()\n",
        "\n",
        "print(f'FLOAT: {end - start}')\n",
        "print(f'DECIMAL: {end_d - start_d}')"
      ],
      "execution_count": null,
      "outputs": [
        {
          "output_type": "stream",
          "text": [
            "FLOAT: 0.4580905399925541\n",
            "DECIMAL: 14.12264212500304\n"
          ],
          "name": "stdout"
        }
      ]
    },
    {
      "cell_type": "code",
      "metadata": {
        "tags": [],
        "cell_id": "00182-021e3682-9f40-4720-b351-182c9eb6ed8b",
        "deepnote_cell_type": "code",
        "id": "tcgByINZDBNv"
      },
      "source": [
        ""
      ],
      "execution_count": null,
      "outputs": []
    }
  ]
}